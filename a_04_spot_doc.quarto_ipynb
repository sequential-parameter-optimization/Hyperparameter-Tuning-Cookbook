{
  "cells": [
    {
      "cell_type": "markdown",
      "metadata": {},
      "source": [
        "---\n",
        "execute:\n",
        "  cache: false\n",
        "  eval: true\n",
        "  echo: true\n",
        "  warning: false\n",
        "jupyter: python3\n",
        "---\n",
        "\n",
        "\n",
        "# Documentation of the Sequential Parameter Optimization\n"
      ],
      "id": "eed9efcb"
    },
    {
      "cell_type": "code",
      "metadata": {},
      "source": [
        "import numpy as np\n",
        "from math import inf\n",
        "from spotpython.fun.objectivefunctions import analytical\n",
        "from spotpython.spot import spot\n",
        "from scipy.optimize import shgo\n",
        "from scipy.optimize import direct\n",
        "from scipy.optimize import differential_evolution\n",
        "import matplotlib.pyplot as plt"
      ],
      "id": "061edf61",
      "execution_count": null,
      "outputs": []
    },
    {
      "cell_type": "markdown",
      "metadata": {},
      "source": [
        "This document describes the `Spot` features. The official `spotpython` documentation can be found here: [https://sequential-parameter-optimization.github.io/spotpython/](https://sequential-parameter-optimization.github.io/spotpython/).\n",
        "\n",
        "## An Initial Example\n",
        "\n",
        "The `spotpython` package provides several classes of objective functions. We will use an analytical objective function, i.e., a function that can be described by a (closed) formula:\n",
        "$$\n",
        "f(x) = x^2.\n",
        "$$\n"
      ],
      "id": "5ea2ab8b"
    },
    {
      "cell_type": "code",
      "metadata": {},
      "source": [
        "fun = analytical().fun_sphere"
      ],
      "id": "692661b3",
      "execution_count": null,
      "outputs": []
    },
    {
      "cell_type": "code",
      "metadata": {},
      "source": [
        "x = np.linspace(-1,1,100).reshape(-1,1)\n",
        "y = fun(x)\n",
        "plt.figure()\n",
        "plt.plot(x,y, \"k\")\n",
        "plt.show()"
      ],
      "id": "92c0465d",
      "execution_count": null,
      "outputs": []
    },
    {
      "cell_type": "code",
      "metadata": {},
      "source": [
        "from spotpython.utils.init import fun_control_init, design_control_init, surrogate_control_init, optimizer_control_init\n",
        "spot_1 = spot.Spot(fun=fun,\n",
        "                   fun_control=fun_control_init(\n",
        "                        lower = np.array([-10]),\n",
        "                        upper = np.array([100]),\n",
        "                        fun_evals = 7,\n",
        "                        fun_repeats = 1,\n",
        "                        max_time = inf,\n",
        "                        noise = False,\n",
        "                        tolerance_x = np.sqrt(np.spacing(1)),\n",
        "                        var_type=[\"num\"],\n",
        "                        infill_criterion = \"y\",\n",
        "                        n_points = 1,\n",
        "                        seed=123,\n",
        "                        log_level = 50),\n",
        "                   design_control=design_control_init(\n",
        "                        init_size=5,\n",
        "                        repeats=1),\n",
        "                   surrogate_control=surrogate_control_init(\n",
        "                        noise=False,\n",
        "                        min_theta=-4,\n",
        "                        max_theta=3,\n",
        "                        n_theta=1,\n",
        "                        model_optimizer=differential_evolution,\n",
        "                        model_fun_evals=10000))\n",
        "spot_1.run()"
      ],
      "id": "a197ae46",
      "execution_count": null,
      "outputs": []
    },
    {
      "cell_type": "markdown",
      "metadata": {},
      "source": [
        "## Organization\n",
        "\n",
        "`Spot` organizes the surrogate based optimization process in four steps:\n",
        "\n",
        "1. Selection of the objective function: `fun`.\n",
        "2. Selection of the initial design: `design`.\n",
        "3. Selection of the optimization algorithm: `optimizer`.\n",
        "4. Selection of the surrogate model: `surrogate`.\n",
        "\n",
        "For each of these steps, the user can specify an object:\n"
      ],
      "id": "d244846b"
    },
    {
      "cell_type": "code",
      "metadata": {},
      "source": [
        "from spotpython.fun.objectivefunctions import analytical\n",
        "fun = analytical().fun_sphere\n",
        "from spotpython.design.spacefilling import spacefilling\n",
        "design = spacefilling(2)\n",
        "from scipy.optimize import differential_evolution\n",
        "optimizer = differential_evolution\n",
        "from spotpython.build.kriging import Kriging\n",
        "surrogate = Kriging()"
      ],
      "id": "9e96101c",
      "execution_count": null,
      "outputs": []
    },
    {
      "cell_type": "markdown",
      "metadata": {},
      "source": [
        "For each of these steps, the user can specify a dictionary of control parameters.\n",
        "\n",
        "1. `fun_control`\n",
        "2. `design_control`\n",
        "3. `optimizer_control`\n",
        "4. `surrogate_control`\n",
        "\n",
        "Each of these dictionaries has an initialzaion method, e.g., `fun_control_init()`. The initialization methods set the default values for the control parameters.\n",
        "\n",
        ":::: {.callout-important}\n",
        "#### Important:\n",
        "\n",
        "* The specification of an lower bound in `fun_control` is mandatory.\n",
        "\n",
        "::: \n"
      ],
      "id": "5652f93a"
    },
    {
      "cell_type": "code",
      "metadata": {},
      "source": [
        "from spotpython.utils.init import fun_control_init, design_control_init, optimizer_control_init, surrogate_control_init\n",
        "fun_control=fun_control_init(lower=np.array([-1, -1]),\n",
        "                            upper=np.array([1, 1]))\n",
        "design_control=design_control_init()\n",
        "optimizer_control=optimizer_control_init()\n",
        "surrogate_control=surrogate_control_init()"
      ],
      "id": "121d15bd",
      "execution_count": null,
      "outputs": []
    },
    {
      "cell_type": "markdown",
      "metadata": {},
      "source": [
        "## The Spot Object\n",
        "\n",
        "Based on the definition of the `fun`, `design`, `optimizer`, and `surrogate` objects, \n",
        "and their corresponding control parameter dictionaries, `fun_control`, `design_control`, `optimizer_control`, and `surrogate_control`,\n",
        "the `spot` object can be build as follows:\n"
      ],
      "id": "e6b1be9b"
    },
    {
      "cell_type": "code",
      "metadata": {},
      "source": [
        "from spotpython.spot import spot\n",
        "spot_tuner = spot.Spot(fun=fun,\n",
        "                       fun_control=fun_control,\n",
        "                       design_control=design_control,\n",
        "                       optimizer_control=optimizer_control,\n",
        "                       surrogate_control=surrogate_control)"
      ],
      "id": "66ca26fc",
      "execution_count": null,
      "outputs": []
    },
    {
      "cell_type": "markdown",
      "metadata": {},
      "source": [
        "## Run\n"
      ],
      "id": "e2fd1321"
    },
    {
      "cell_type": "code",
      "metadata": {},
      "source": [
        "spot_tuner.run()"
      ],
      "id": "58db73c3",
      "execution_count": null,
      "outputs": []
    },
    {
      "cell_type": "markdown",
      "metadata": {},
      "source": [
        "## Print the Results\n"
      ],
      "id": "418a1b9e"
    },
    {
      "cell_type": "code",
      "metadata": {},
      "source": [
        "spot_tuner.print_results()"
      ],
      "id": "607b6ec1",
      "execution_count": null,
      "outputs": []
    },
    {
      "cell_type": "markdown",
      "metadata": {},
      "source": [
        "## Show the Progress\n"
      ],
      "id": "a2457b75"
    },
    {
      "cell_type": "code",
      "metadata": {},
      "source": [
        "spot_tuner.plot_progress()"
      ],
      "id": "fd2642bb",
      "execution_count": null,
      "outputs": []
    },
    {
      "cell_type": "markdown",
      "metadata": {},
      "source": [
        "## Visualize the Surrogate\n",
        "\n",
        "* The plot method of the `kriging` surrogate is used.\n",
        "* Note: the plot uses the interval defined by the ranges of the natural variables.\n"
      ],
      "id": "da6555ef"
    },
    {
      "cell_type": "code",
      "metadata": {},
      "source": [
        "spot_tuner.surrogate.plot()"
      ],
      "id": "322a9384",
      "execution_count": null,
      "outputs": []
    },
    {
      "cell_type": "markdown",
      "metadata": {},
      "source": [
        "## Run With a Specific Start Design\n",
        "\n",
        "To pass a specific start design, use the `X_start` argument of the `run` method.\n"
      ],
      "id": "a80a9e80"
    },
    {
      "cell_type": "code",
      "metadata": {},
      "source": [
        "spot_x0 = spot.Spot(fun=fun,\n",
        "                    fun_control=fun_control_init(\n",
        "                        lower = np.array([-10]),\n",
        "                        upper = np.array([100]),\n",
        "                        fun_evals = 7,\n",
        "                        fun_repeats = 1,\n",
        "                        max_time = inf,\n",
        "                        noise = False,\n",
        "                        tolerance_x = np.sqrt(np.spacing(1)),\n",
        "                        var_type=[\"num\"],\n",
        "                        infill_criterion = \"y\",\n",
        "                        n_points = 1,\n",
        "                        seed=123,\n",
        "                        log_level = 50),\n",
        "                    design_control=design_control_init(\n",
        "                        init_size=5,\n",
        "                        repeats=1),\n",
        "                    surrogate_control=surrogate_control_init(\n",
        "                        noise=False,\n",
        "                        min_theta=-4,\n",
        "                        max_theta=3,\n",
        "                        n_theta=1,\n",
        "                        model_optimizer=differential_evolution,\n",
        "                        model_fun_evals=10000))\n",
        "spot_x0.run(X_start=np.array([0.5, -0.5]))\n",
        "spot_x0.plot_progress()"
      ],
      "id": "53b821ab",
      "execution_count": null,
      "outputs": []
    },
    {
      "cell_type": "markdown",
      "metadata": {},
      "source": [
        "## Init: Build Initial Design\n"
      ],
      "id": "f74bd31f"
    },
    {
      "cell_type": "code",
      "metadata": {},
      "source": [
        "from spotpython.design.spacefilling import spacefilling\n",
        "from spotpython.build.kriging import Kriging\n",
        "from spotpython.fun.objectivefunctions import analytical\n",
        "from spotpython.utils.init import fun_control_init\n",
        "gen = spacefilling(2)\n",
        "rng = np.random.RandomState(1)\n",
        "lower = np.array([-5,-0])\n",
        "upper = np.array([10,15])\n",
        "fun = analytical().fun_branin\n",
        "\n",
        "fun_control = fun_control_init(sigma=0)\n",
        "\n",
        "X = gen.scipy_lhd(10, lower=lower, upper = upper)\n",
        "print(X)\n",
        "y = fun(X, fun_control=fun_control)\n",
        "print(y)"
      ],
      "id": "c87dd098",
      "execution_count": null,
      "outputs": []
    },
    {
      "cell_type": "markdown",
      "metadata": {},
      "source": [
        "## Replicability\n",
        "\n",
        "Seed\n"
      ],
      "id": "b8621cdb"
    },
    {
      "cell_type": "code",
      "metadata": {},
      "source": [
        "gen = spacefilling(2, seed=123)\n",
        "X0 = gen.scipy_lhd(3)\n",
        "gen = spacefilling(2, seed=345)\n",
        "X1 = gen.scipy_lhd(3)\n",
        "X2 = gen.scipy_lhd(3)\n",
        "gen = spacefilling(2, seed=123)\n",
        "X3 = gen.scipy_lhd(3)\n",
        "X0, X1, X2, X3"
      ],
      "id": "de3f9dc6",
      "execution_count": null,
      "outputs": []
    },
    {
      "cell_type": "markdown",
      "metadata": {},
      "source": [
        "## Surrogates\n",
        "\n",
        "### A Simple Predictor\n",
        "\n",
        "The code below shows how to use a simple model for prediction. Assume that only two (very costly) measurements are available:\n",
        "  \n",
        "  1. f(0) = 0.5\n",
        "  2. f(2) = 2.5\n",
        "\n",
        "We are interested in the value at $x_0 = 1$, i.e., $f(x_0 = 1)$, but cannot run an additional, third experiment.\n"
      ],
      "id": "87f6d956"
    },
    {
      "cell_type": "code",
      "metadata": {},
      "source": [
        "from sklearn import linear_model\n",
        "X = np.array([[0], [2]])\n",
        "y = np.array([0.5, 2.5])\n",
        "S_lm = linear_model.LinearRegression()\n",
        "S_lm = S_lm.fit(X, y)\n",
        "X0 = np.array([[1]])\n",
        "y0 = S_lm.predict(X0)\n",
        "print(y0)"
      ],
      "id": "8524cd06",
      "execution_count": null,
      "outputs": []
    },
    {
      "cell_type": "markdown",
      "metadata": {},
      "source": [
        "Central Idea: Evaluation of the surrogate model `S_lm` is much cheaper (or / and much faster) than running the real-world experiment $f$.\n",
        "\n",
        "\n",
        "## Tensorboard Setup\n",
        "\n",
        "### Tensorboard Configuration\n",
        "\n",
        "The `TENSORBOARD_CLEAN` argument can be set to `True` in the `fun_control` dictionary to archive the TensorBoard folder if it already exists. This is useful if you want to start a hyperparameter tuning process from scratch. If you want to continue a hyperparameter tuning process, set `TENSORBOARD_CLEAN` to `False`. Then the TensorBoard folder will not be archived and the old and new TensorBoard files will shown in the TensorBoard dashboard.\n",
        "\n",
        "\n",
        "### Starting TensorBoard {#sec-tensorboard-start}\n",
        "\n",
        "`TensorBoard` can be started as a background process with the following command, where `./runs` is the default directory for the TensorBoard log files:\n",
        "\n",
        "\n",
        "```{raw}\n",
        "tensorboard --logdir=\"./runs\"\n",
        "```\n",
        "\n",
        "\n",
        "::: {.callout-note}\n",
        "#### TENSORBOARD_PATH\n",
        "\n",
        "The TensorBoard path can be printed with the following command (after a `fun_control` object has been created):\n"
      ],
      "id": "e5303131"
    },
    {
      "cell_type": "code",
      "metadata": {},
      "source": [
        "#| label: 024_tensorboard_path\n",
        "#| eval: false\n",
        "from spotpython.utils.init import get_tensorboard_path\n",
        "get_tensorboard_path(fun_control)"
      ],
      "id": "tensorboard_path",
      "execution_count": null,
      "outputs": []
    },
    {
      "cell_type": "markdown",
      "metadata": {},
      "source": [
        ":::\n",
        "\n",
        "\n",
        "## Demo/Test: Objective Function Fails\n",
        "\n",
        "SPOT expects `np.nan` values from failed objective function values. These are handled. Note: SPOT's counter considers only successful executions of the objective function.\n"
      ],
      "id": "9376aa58"
    },
    {
      "cell_type": "code",
      "metadata": {},
      "source": [
        "import numpy as np\n",
        "from spotpython.fun.objectivefunctions import analytical\n",
        "from spotpython.spot import spot\n",
        "import numpy as np\n",
        "from math import inf\n",
        "# number of initial points:\n",
        "ni = 20\n",
        "# number of points\n",
        "n = 30\n",
        "\n",
        "fun = analytical().fun_random_error\n",
        "fun_control=fun_control_init(\n",
        "    lower = np.array([-1]),\n",
        "    upper= np.array([1]),\n",
        "    fun_evals = n,\n",
        "    show_progress=False)\n",
        "design_control=design_control_init(init_size=ni)\n",
        "\n",
        "spot_1 = spot.Spot(fun=fun,\n",
        "                     fun_control=fun_control,\n",
        "                     design_control=design_control)\n",
        "\n",
        "# assert value error from the run method\n",
        "try:\n",
        "    spot_1.run()\n",
        "except ValueError as e:\n",
        "    print(e)"
      ],
      "id": "c7d08f31",
      "execution_count": null,
      "outputs": []
    },
    {
      "cell_type": "markdown",
      "metadata": {},
      "source": [
        "## Handling Results: Printing, Saving, and Loading\n",
        "\n",
        "The results can be printed with the following command:\n"
      ],
      "id": "68784b83"
    },
    {
      "cell_type": "code",
      "metadata": {},
      "source": [
        "#| label: a_04__print_results\n",
        "#| eval: false\n",
        "spot_tuner.print_results(print_screen=False)"
      ],
      "id": "a_04__print_results",
      "execution_count": null,
      "outputs": []
    },
    {
      "cell_type": "markdown",
      "metadata": {},
      "source": [
        "The tuned hyperparameters can be obtained as a dictionary with the following command:\n"
      ],
      "id": "0c1f542e"
    },
    {
      "cell_type": "code",
      "metadata": {},
      "source": [
        "#| label: a_04__get_tuned_hyperparameters\n",
        "#| eval: false\n",
        "from spotpython.hyperparameters.values import get_tuned_hyperparameters\n",
        "get_tuned_hyperparameters(spot_tuner, fun_control)"
      ],
      "id": "a_04__get_tuned_hyperparameters",
      "execution_count": null,
      "outputs": []
    },
    {
      "cell_type": "markdown",
      "metadata": {},
      "source": [
        "The results can be saved and reloaded with the following commands:\n"
      ],
      "id": "0d75f3ce"
    },
    {
      "cell_type": "code",
      "metadata": {},
      "source": [
        "#| label: a_04__save_and_load\n",
        "#| eval: false\n",
        "from spotpython.utils.file import save_pickle, load_pickle\n",
        "from spotpython.utils.init import get_experiment_name\n",
        "experiment_name = get_experiment_name(\"024\")\n",
        "SAVE_AND_LOAD = False\n",
        "if SAVE_AND_LOAD == True:\n",
        "    save_pickle(spot_tuner, experiment_name)\n",
        "    spot_tuner = load_pickle(experiment_name)"
      ],
      "id": "a_04__save_and_load",
      "execution_count": null,
      "outputs": []
    },
    {
      "cell_type": "markdown",
      "metadata": {},
      "source": [
        "## `spotpython` as a Hyperparameter Tuner\n",
        "\n",
        "### Modifying Hyperparameter Levels {#sec-modifying-hyperparameter-levels}\n",
        "\n",
        "\n",
        "`spotpython` distinguishes between different types of hyperparameters. The following types are supported:\n",
        "\n",
        "* `int` (integer)\n",
        "* `float` (floating point number)\n",
        "* `boolean` (boolean)\n",
        "* `factor` (categorical)\n",
        "\n",
        "#### Integer Hyperparameters\n",
        "\n",
        "Integer hyperparameters can be modified with the `set_int_hyperparameter_values()` [[SOURCE]](https://sequential-parameter-optimization.github.io/spotpython/reference/spotpython/hyperparameters/values/#spotpython.hyperparameters.values.set_int_hyperparameter_values) function. The following code snippet shows how to modify the `n_estimators` hyperparameter of a random forest model:\n"
      ],
      "id": "395048fc"
    },
    {
      "cell_type": "code",
      "metadata": {},
      "source": [
        "from spotriver.hyperdict.river_hyper_dict import RiverHyperDict\n",
        "from spotpython.utils.init import fun_control_init\n",
        "from spotpython.hyperparameters.values import set_int_hyperparameter_values\n",
        "from spotpython.utils.eda import gen_design_table\n",
        "fun_control = fun_control_init(\n",
        "    core_model_name=\"forest.AMFRegressor\",\n",
        "    hyperdict=RiverHyperDict,\n",
        ")\n",
        "print(\"Before modification:\")\n",
        "print(gen_design_table(fun_control))\n",
        "set_int_hyperparameter_values(fun_control, \"n_estimators\", 2, 5)\n",
        "print(\"After modification:\")\n",
        "print(gen_design_table(fun_control))"
      ],
      "id": "7343d994",
      "execution_count": null,
      "outputs": []
    },
    {
      "cell_type": "markdown",
      "metadata": {},
      "source": [
        "#### Float Hyperparameters\n",
        "\n",
        "Float hyperparameters can be modified with the `set_float_hyperparameter_values()` [[SOURCE]](https://sequential-parameter-optimization.github.io/spotpython/reference/spotpython/hyperparameters/values/#spotpython.hyperparameters.values.set_float_hyperparameter_values) function. The following code snippet shows how to modify the `step` hyperparameter of a hyperparameter of a Mondrian Regression Tree model:\n"
      ],
      "id": "162d2a34"
    },
    {
      "cell_type": "code",
      "metadata": {},
      "source": [
        "from spotriver.hyperdict.river_hyper_dict import RiverHyperDict\n",
        "from spotpython.utils.init import fun_control_init\n",
        "from spotpython.hyperparameters.values import set_float_hyperparameter_values\n",
        "from spotpython.utils.eda import gen_design_table\n",
        "fun_control = fun_control_init(\n",
        "    core_model_name=\"forest.AMFRegressor\",\n",
        "    hyperdict=RiverHyperDict,\n",
        ")\n",
        "print(\"Before modification:\")\n",
        "print(gen_design_table(fun_control))\n",
        "set_float_hyperparameter_values(fun_control, \"step\", 0.2, 5)\n",
        "print(\"After modification:\")\n",
        "print(gen_design_table(fun_control))"
      ],
      "id": "1edbcb3d",
      "execution_count": null,
      "outputs": []
    },
    {
      "cell_type": "markdown",
      "metadata": {},
      "source": [
        "#### Boolean Hyperparameters\n",
        "\n",
        "Boolean hyperparameters can be modified with the `set_boolean_hyperparameter_values()` [[SOURCE]](https://sequential-parameter-optimization.github.io/spotpython/reference/spotpython/hyperparameters/values/#spotpython.hyperparameters.values.set_boolean_hyperparameter_values) function. The following code snippet shows how to modify the `use_aggregation` hyperparameter of a Mondrian Regression Tree model:\n"
      ],
      "id": "bc1b7799"
    },
    {
      "cell_type": "code",
      "metadata": {},
      "source": [
        "from spotriver.hyperdict.river_hyper_dict import RiverHyperDict\n",
        "from spotpython.utils.init import fun_control_init\n",
        "from spotpython.hyperparameters.values import set_boolean_hyperparameter_values\n",
        "from spotpython.utils.eda import gen_design_table\n",
        "fun_control = fun_control_init(\n",
        "    core_model_name=\"forest.AMFRegressor\",\n",
        "    hyperdict=RiverHyperDict,\n",
        ")\n",
        "print(\"Before modification:\")\n",
        "print(gen_design_table(fun_control))\n",
        "set_boolean_hyperparameter_values(fun_control, \"use_aggregation\", 0, 0)\n",
        "print(\"After modification:\")\n",
        "print(gen_design_table(fun_control))"
      ],
      "id": "9c6c0a75",
      "execution_count": null,
      "outputs": []
    },
    {
      "cell_type": "markdown",
      "metadata": {},
      "source": [
        "#### Factor Hyperparameters\n",
        "\n",
        "Factor hyperparameters can be modified with the `set_factor_hyperparameter_values()` [[SOURCE]](https://sequential-parameter-optimization.github.io/spotpython/reference/spotpython/hyperparameters/values/#spotpython.hyperparameters.values.set_factor_hyperparameter_values) function. The following code snippet shows how to modify the `leaf_model` hyperparameter of a Hoeffding Tree Regressor  model:\n"
      ],
      "id": "19804a89"
    },
    {
      "cell_type": "code",
      "metadata": {},
      "source": [
        "from spotriver.hyperdict.river_hyper_dict import RiverHyperDict\n",
        "from spotpython.utils.init import fun_control_init\n",
        "from spotpython.hyperparameters.values import set_factor_hyperparameter_values\n",
        "from spotpython.utils.eda import gen_design_table\n",
        "fun_control = fun_control_init(\n",
        "    core_model_name=\"tree.HoeffdingTreeRegressor\",\n",
        "    hyperdict=RiverHyperDict,\n",
        ")\n",
        "print(\"Before modification:\")\n",
        "print(gen_design_table(fun_control))\n",
        "set_factor_hyperparameter_values(fun_control, \"leaf_model\", ['LinearRegression',\n",
        "                                                    'Perceptron'])\n",
        "print(\"After modification:\")"
      ],
      "id": "05de3115",
      "execution_count": null,
      "outputs": []
    }
  ],
  "metadata": {
    "kernelspec": {
      "name": "python3",
      "language": "python",
      "display_name": "Python 3 (ipykernel)",
      "path": "/Users/bartz/miniforge3/envs/spot312/share/jupyter/kernels/python3"
    }
  },
  "nbformat": 4,
  "nbformat_minor": 5
}