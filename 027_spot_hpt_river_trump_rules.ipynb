{
 "cells": [
  {
   "cell_type": "raw",
   "id": "7de867a4",
   "metadata": {},
   "source": [
    "---\n",
    "title: '`river` AMRules on Trump Approval Data'\n",
    "---"
   ]
  },
  {
   "cell_type": "markdown",
   "id": "a9087455",
   "metadata": {},
   "source": [
    "## The Example from River\n"
   ]
  },
  {
   "cell_type": "code",
   "execution_count": 1,
   "id": "5c4f7517",
   "metadata": {},
   "outputs": [],
   "source": [
    "from river import datasets\n",
    "from river import drift\n",
    "from river import evaluate\n",
    "from river import metrics\n",
    "from river import preprocessing\n",
    "from river import rules\n",
    "\n",
    "dataset = datasets.TrumpApproval()\n",
    "\n",
    "model = (\n",
    "preprocessing.StandardScaler() |\n",
    "rules.AMRules(\n",
    "    delta=0.01,\n",
    "    n_min=50,\n",
    "    drift_detector=drift.ADWIN()\n",
    ")\n",
    ")\n",
    "\n",
    "metric = metrics.MAE()\n",
    "\n",
    "evaluate.progressive_val_score(dataset, model, metric)"
   ]
  }
 ],
 "metadata": {
  "kernelspec": {
   "display_name": "Python 3 (ipykernel)",
   "language": "python",
   "name": "python3"
  },
  "language_info": {
   "codemirror_mode": {
    "name": "ipython",
    "version": 3
   },
   "file_extension": ".py",
   "mimetype": "text/x-python",
   "name": "python",
   "nbconvert_exporter": "python",
   "pygments_lexer": "ipython3",
   "version": "3.11.7"
  }
 },
 "nbformat": 4,
 "nbformat_minor": 5
}
