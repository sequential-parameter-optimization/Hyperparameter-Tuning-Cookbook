{
  "cells": [
    {
      "cell_type": "raw",
      "metadata": {},
      "source": [
        "---\n",
        "title: '`river` AMRules on Trump Approval Data'\n",
        "---"
      ],
      "id": "febf9a4c"
    },
    {
      "cell_type": "markdown",
      "metadata": {},
      "source": [
        "## The Example from River\n"
      ],
      "id": "dfa354f1"
    },
    {
      "cell_type": "code",
      "metadata": {},
      "source": [
        "from river import datasets\n",
        "from river import drift\n",
        "from river import evaluate\n",
        "from river import metrics\n",
        "from river import preprocessing\n",
        "from river import rules\n",
        "\n",
        "dataset = datasets.TrumpApproval()\n",
        "\n",
        "model = (\n",
        "preprocessing.StandardScaler() |\n",
        "rules.AMRules(\n",
        "    delta=0.01,\n",
        "    n_min=50,\n",
        "    drift_detector=drift.ADWIN()\n",
        ")\n",
        ")\n",
        "\n",
        "metric = metrics.MAE()\n",
        "\n",
        "evaluate.progressive_val_score(dataset, model, metric)"
      ],
      "id": "88efeb63",
      "execution_count": null,
      "outputs": []
    }
  ],
  "metadata": {
    "kernelspec": {
      "name": "python3",
      "language": "python",
      "display_name": "Python 3 (ipykernel)"
    }
  },
  "nbformat": 4,
  "nbformat_minor": 5
}