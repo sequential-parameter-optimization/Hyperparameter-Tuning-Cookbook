{
  "cells": [
    {
      "cell_type": "markdown",
      "metadata": {},
      "source": [
        "---\n",
        "execute:\n",
        "  cache: false\n",
        "  eval: true\n",
        "  echo: true\n",
        "  warning: false\n",
        "jupyter: python3\n",
        "---\n",
        "\n",
        "\n",
        "# Saving and Loading {#sec-spotpython-saving-and-loading}\n",
        "\n",
        "This tutorial shows how to save and load objects in `spotpython`.\n",
        "It is split into the following parts:\n",
        "- @sec-spotpython-saving-and-loading shows how to save and load objects in `spotpython`, if `spotpython` is used as an optimizer.\n",
        "- @sec-spotpython-as-a-hyperparameter-tuner-37 shows how to save and load hyperparameter tuning experiments.\n",
        "- @sec-saving-and-loading-pytorch-lightning-models-37 shows how to save and load `PyTorch Lightning` models.\n",
        "- @sec-converting-a-lightning-model-to-a-plain-torch-model-37 shows how to convert a `PyTorch Lightning` model to a plain `PyTorch` model.\n",
        "\n",
        "## spotpython: Saving and Loading Optimization Experiments {#sec-spotpython-saving-and-loading}\n",
        "\n",
        "In this section, we will show how results from `spotpython` can be saved and reloaded.\n",
        "Here, `spotpython` can be used as an optimizer. \n",
        "\n",
        "### spotpython as an Optimizer\n",
        "\n",
        "If `spotpython` is used as an optimizer, no dictionary of hyperparameters has be specified. The `fun_control` dictionary is sufficient. \n"
      ]
    },
    {
      "cell_type": "code",
      "execution_count": 1,
      "metadata": {},
      "outputs": [
        {
          "name": "stderr",
          "output_type": "stream",
          "text": [
            "Seed set to 123\n",
            "Seed set to 123\n"
          ]
        },
        {
          "name": "stdout",
          "output_type": "stream",
          "text": [
            "spotpython tuning: 4.7932399644479124 [########--] 75.00% \n",
            "spotpython tuning: 2.0379524815147736 [#########-] 87.50% \n",
            "spotpython tuning: 1.9863250753932071 [##########] 100.00% Done...\n",
            "\n",
            "Experiment saved to spot_branin_experiment.pickle\n",
            "filename: spot_branin_experiment.pickle\n"
          ]
        }
      ],
      "source": [
        "#| label: code-optimization-experiment-604\n",
        "import os\n",
        "import pprint\n",
        "from spotpython.utils.file import load_experiment\n",
        "from spotpython.utils.file import get_experiment_filename\n",
        "import numpy as np\n",
        "from math import inf\n",
        "from spotpython.spot import spot\n",
        "from spotpython.utils.init import (\n",
        "    fun_control_init,\n",
        "    design_control_init,\n",
        "    surrogate_control_init,\n",
        "    optimizer_control_init)\n",
        "from spotpython.fun.objectivefunctions import analytical\n",
        "fun = analytical().fun_branin\n",
        "fun_control = fun_control_init(\n",
        "            PREFIX=\"branin\",            \n",
        "            lower = np.array([0, 0]),\n",
        "            upper = np.array([10, 10]),\n",
        "            fun_evals=8,\n",
        "            fun_repeats=1,\n",
        "            max_time=inf,\n",
        "            noise=False,\n",
        "            tolerance_x=0,\n",
        "            ocba_delta=0,\n",
        "            var_type=[\"num\", \"num\"],\n",
        "            infill_criterion=\"ei\",\n",
        "            n_points=1,\n",
        "            seed=123,\n",
        "            log_level=20,\n",
        "            show_models=False,\n",
        "            show_progress=True)\n",
        "design_control = design_control_init(\n",
        "            init_size=5,\n",
        "            repeats=1)\n",
        "surrogate_control = surrogate_control_init(\n",
        "            model_fun_evals=10000,\n",
        "            min_theta=-3,\n",
        "            max_theta=3,\n",
        "            n_theta=2,\n",
        "            theta_init_zero=True,\n",
        "            n_p=1,\n",
        "            optim_p=False,\n",
        "            var_type=[\"num\", \"num\"],\n",
        "            seed=124)\n",
        "optimizer_control = optimizer_control_init(\n",
        "            max_iter=1000,\n",
        "            seed=125)\n",
        "spot_tuner = spot.Spot(fun=fun,\n",
        "            fun_control=fun_control,\n",
        "            design_control=design_control,\n",
        "            surrogate_control=surrogate_control,\n",
        "            optimizer_control=optimizer_control)\n",
        "spot_tuner.run()\n",
        "PREFIX = fun_control[\"PREFIX\"]\n",
        "filename = get_experiment_filename(PREFIX)\n",
        "spot_tuner.save_experiment(filename=filename)\n",
        "print(f\"filename: {filename}\")"
      ]
    },
    {
      "cell_type": "code",
      "execution_count": 2,
      "metadata": {},
      "outputs": [
        {
          "name": "stdout",
          "output_type": "stream",
          "text": [
            "Loaded experiment from spot_branin_experiment.pickle\n"
          ]
        }
      ],
      "source": [
        "#| label: code-reload-optimization-experiment-604\n",
        "(spot_tuner_1, fun_control_1, design_control_1,\n",
        "    surrogate_control_1, optimizer_control_1) = load_experiment(filename)"
      ]
    },
    {
      "cell_type": "markdown",
      "metadata": {},
      "source": [
        "The progress of the original experiment is shown in @fig-plot-progress-37a and the reloaded experiment in @fig-plot-progress-37b."
      ]
    },
    {
      "cell_type": "code",
      "execution_count": 3,
      "metadata": {},
      "outputs": [
        {
          "data": {
            "image/png": "[encoded data removed]",
            "text/plain": [
              "<Figure size 900x600 with 1 Axes>"
            ]
          },
          "metadata": {},
          "output_type": "display_data"
        }
      ],
      "source": [
        "#| label: fig-plot-progress-604\n",
        "#| fig-cap: Progress of the original experiment\n",
        "spot_tuner.plot_progress(log_y=True)"
      ]
    },
    {
      "cell_type": "code",
      "execution_count": 4,
      "metadata": {},
      "outputs": [
        {
          "data": {
            "image/png": "[encoded data removed]",
            "text/plain": [
              "<Figure size 900x600 with 1 Axes>"
            ]
          },
          "metadata": {},
          "output_type": "display_data"
        }
      ],
      "source": [
        "#| label: fig-plot-progress-604\n",
        "#| fig-cap: Progress of the reloaded experiment\n",
        "spot_tuner_1.plot_progress(log_y=True)"
      ]
    },
    {
      "cell_type": "markdown",
      "metadata": {},
      "source": [
        "The results from the original experiment are shown in @tbl-results-37a and the reloaded experiment in @tbl-results-37b."
      ]
    },
    {
      "cell_type": "code",
      "execution_count": 5,
      "metadata": {},
      "outputs": [
        {
          "name": "stdout",
          "output_type": "stream",
          "text": [
            "min y: 1.9863250753932071\n",
            "x0: 10.0\n",
            "x1: 3.2107652010539627\n"
          ]
        },
        {
          "data": {
            "text/plain": [
              "[['x0', 10.0], ['x1', 3.2107652010539627]]"
            ]
          },
          "execution_count": 5,
          "metadata": {},
          "output_type": "execute_result"
        }
      ],
      "source": [
        "#| label: tbl-results-604a\n",
        "spot_tuner.print_results()"
      ]
    },
    {
      "cell_type": "code",
      "execution_count": 6,
      "metadata": {},
      "outputs": [
        {
          "name": "stdout",
          "output_type": "stream",
          "text": [
            "min y: 1.9863250753932071\n",
            "x0: 10.0\n",
            "x1: 3.2107652010539627\n"
          ]
        },
        {
          "data": {
            "text/plain": [
              "[['x0', 10.0], ['x1', 3.2107652010539627]]"
            ]
          },
          "execution_count": 6,
          "metadata": {},
          "output_type": "execute_result"
        }
      ],
      "source": [
        "#| label: tbl-results-604b\n",
        "spot_tuner_1.print_results()"
      ]
    },
    {
      "cell_type": "markdown",
      "metadata": {},
      "source": [
        "#### Getting the Tuned Hyperparameters\n",
        "\n",
        "The tuned hyperparameters can be obtained as a dictionary with the following code."
      ]
    },
    {
      "cell_type": "code",
      "execution_count": 7,
      "metadata": {},
      "outputs": [
        {
          "data": {
            "text/plain": [
              "{'x0': 10.0, 'x1': 3.2107652010539627}"
            ]
          },
          "execution_count": 7,
          "metadata": {},
          "output_type": "execute_result"
        }
      ],
      "source": [
        "#| label: code-get-tuned-optimization-604\n",
        "from spotpython.hyperparameters.values import get_tuned_hyperparameters\n",
        "get_tuned_hyperparameters(spot_tuner=spot_tuner)"
      ]
    },
    {
      "cell_type": "markdown",
      "metadata": {},
      "source": [
        "::: {.callout-note}\n",
        "### Summary: Saving and Loading Optimization Experiments\n",
        "* If `spotpython` is used as an optimizer (without an hyperparameter dictionary), experiments can be saved and reloaded with the `save_experiment` and `load_experiment` functions.\n",
        "* The tuned hyperparameters can be obtained with the `get_tuned_hyperparameters` function.\n",
        ":::"
      ]
    },
    {
      "cell_type": "markdown",
      "metadata": {},
      "source": [
        "## spotpython as a Hyperparameter Tuner {#sec-spotpython-as-a-hyperparameter-tuner-37}\n",
        "\n",
        "If `spotpython` is used as a hyperparameter tuner,\n",
        "in addition to the `fun_control` dictionary a `core_model` dictionary has to be specified.\n",
        "Furthermore, a data set has to be selected and added to the `fun_control` dictionary.\n",
        "Here, we will use the `Diabetes` data set."
      ]
    },
    {
      "cell_type": "code",
      "execution_count": 8,
      "metadata": {},
      "outputs": [],
      "source": [
        "#| label: warnings-off-604\n",
        "import warnings\n",
        "warnings.filterwarnings(\"ignore\")"
      ]
    },
    {
      "cell_type": "markdown",
      "metadata": {},
      "source": [
        "\n",
        "\n",
        "### The Diabetes Data Set\n",
        "\n",
        "The hyperparameter tuning of a `PyTorch Lightning` network on the `Diabetes` data set is used as an example. The `Diabetes` data set is a PyTorch Dataset for regression, which originates from the `scikit-learn` package, see [https://scikit-learn.org/stable/modules/generated/sklearn.datasets.load_diabetes.html#sklearn.datasets.load_diabetes](https://scikit-learn.org/stable/modules/generated/sklearn.datasets.load_diabetes.html#sklearn.datasets.load_diabetes).\n",
        "\n",
        "Ten baseline variables, age, sex, body mass index, average blood pressure, and six blood serum measurements were obtained for each of n = 442 diabetes patients,  as well as the response of interest, a quantitative measure of disease progression one year after baseline.\n",
        "The `Diabetes` data set is has the following properties:\n",
        "\n",
        "* Samples total: 442\n",
        "* Dimensionality: 10\n",
        "* Features: real, $-.2 < x < .2$\n",
        "* Targets: integer $25 - 346$"
      ]
    },
    {
      "cell_type": "code",
      "execution_count": 9,
      "metadata": {},
      "outputs": [
        {
          "name": "stderr",
          "output_type": "stream",
          "text": [
            "Seed set to 123\n"
          ]
        },
        {
          "name": "stdout",
          "output_type": "stream",
          "text": [
            "module_name: light\n",
            "submodule_name: regression\n",
            "model_name: NNLinearRegressor\n",
            "| name           | type   | default   |   lower |   upper | transform             |\n",
            "|----------------|--------|-----------|---------|---------|-----------------------|\n",
            "| l1             | int    | 3         |     3   |   4     | transform_power_2_int |\n",
            "| epochs         | int    | 4         |     3   |   5     | transform_power_2_int |\n",
            "| batch_size     | int    | 4         |     4   |  11     | transform_power_2_int |\n",
            "| act_fn         | factor | ReLU      |     0   |   5     | None                  |\n",
            "| optimizer      | factor | SGD       |     0   |   2     | None                  |\n",
            "| dropout_prob   | float  | 0.01      |     0   |   0.025 | None                  |\n",
            "| lr_mult        | float  | 1.0       |     0.1 |  10     | None                  |\n",
            "| patience       | int    | 2         |     2   |   3     | transform_power_2_int |\n",
            "| batch_norm     | factor | 0         |     0   |   1     | None                  |\n",
            "| initialization | factor | Default   |     0   |   4     | None                  |\n"
          ]
        }
      ],
      "source": [
        "#| label: code-hyperparameter-tuning-604\n",
        "from spotpython.data.diabetes import Diabetes\n",
        "from spotpython.hyperdict.light_hyper_dict import LightHyperDict\n",
        "from spotpython.fun.hyperlight import HyperLight\n",
        "from spotpython.utils.init import (fun_control_init, surrogate_control_init, design_control_init)\n",
        "from spotpython.utils.eda import gen_design_table\n",
        "from spotpython.spot import spot\n",
        "from spotpython.utils.file import get_experiment_filename\n",
        "\n",
        "PREFIX=\"604\"\n",
        "\n",
        "data_set = Diabetes()\n",
        "\n",
        "fun_control = fun_control_init(\n",
        "    PREFIX=PREFIX,\n",
        "    fun_evals=inf,\n",
        "    max_time=1,\n",
        "    data_set = data_set,\n",
        "    core_model_name=\"light.regression.NNLinearRegressor\",\n",
        "    hyperdict=LightHyperDict,\n",
        "    _L_in=10,\n",
        "    _L_out=1)\n",
        "\n",
        "fun = HyperLight().fun\n",
        "\n",
        "from spotpython.hyperparameters.values import set_hyperparameter\n",
        "set_hyperparameter(fun_control, \"optimizer\", [ \"Adadelta\", \"Adam\", \"Adamax\"])\n",
        "set_hyperparameter(fun_control, \"l1\", [3,4])\n",
        "set_hyperparameter(fun_control, \"epochs\", [3,5])\n",
        "set_hyperparameter(fun_control, \"batch_size\", [4,11])\n",
        "set_hyperparameter(fun_control, \"dropout_prob\", [0.0, 0.025])\n",
        "set_hyperparameter(fun_control, \"patience\", [2,3])\n",
        "\n",
        "design_control = design_control_init(init_size=10)\n",
        "\n",
        "print(gen_design_table(fun_control))"
      ]
    },
    {
      "cell_type": "code",
      "execution_count": 10,
      "metadata": {},
      "outputs": [],
      "source": [
        "#| label: 604_save_experiment\n",
        "fun_control.update({\"save_experiment\": True})"
      ]
    },
    {
      "cell_type": "code",
      "execution_count": 11,
      "metadata": {},
      "outputs": [
        {
          "name": "stdout",
          "output_type": "stream",
          "text": [
            "Error: File userExperiment/spot_604_experiment.pickle already exists. Use overwrite=True to overwrite the file.\n"
          ]
        },
        {
          "name": "stderr",
          "output_type": "stream",
          "text": [
            "GPU available: True (mps), used: True\n",
            "TPU available: False, using: 0 TPU cores\n",
            "HPU available: False, using: 0 HPUs\n",
            "\n",
            "  | Name   | Type       | Params | Mode  | In sizes   | Out sizes\n",
            "-----------------------------------------------------------------------\n",
            "0 | layers | Sequential | 491    | train | [2048, 10] | [2048, 1]\n",
            "-----------------------------------------------------------------------\n",
            "491       Trainable params\n",
            "0         Non-trainable params\n",
            "491       Total params\n",
            "0.002     Total estimated model params size (MB)\n",
            "23        Modules in train mode\n",
            "0         Modules in eval mode\n",
            "`Trainer.fit` stopped: `max_epochs=16` reached.\n",
            "GPU available: True (mps), used: True\n",
            "TPU available: False, using: 0 TPU cores\n",
            "HPU available: False, using: 0 HPUs\n",
            "\n",
            "  | Name   | Type       | Params | Mode  | In sizes | Out sizes\n",
            "---------------------------------------------------------------------\n",
            "0 | layers | Sequential | 169    | train | [64, 10] | [64, 1]  \n",
            "---------------------------------------------------------------------\n",
            "169       Trainable params\n",
            "0         Non-trainable params\n",
            "169       Total params\n",
            "0.001     Total estimated model params size (MB)\n",
            "15        Modules in train mode\n",
            "0         Modules in eval mode\n"
          ]
        },
        {
          "name": "stdout",
          "output_type": "stream",
          "text": [
            "train_model result: {'val_loss': 23995.974609375, 'hp_metric': 23995.974609375}\n"
          ]
        },
        {
          "name": "stderr",
          "output_type": "stream",
          "text": [
            "`Trainer.fit` stopped: `max_epochs=16` reached.\n",
            "GPU available: True (mps), used: True\n",
            "TPU available: False, using: 0 TPU cores\n",
            "HPU available: False, using: 0 HPUs\n",
            "\n",
            "  | Name   | Type       | Params | Mode  | In sizes  | Out sizes\n",
            "----------------------------------------------------------------------\n",
            "0 | layers | Sequential | 595    | train | [256, 10] | [256, 1] \n",
            "----------------------------------------------------------------------\n",
            "595       Trainable params\n",
            "0         Non-trainable params\n",
            "595       Total params\n",
            "0.002     Total estimated model params size (MB)\n",
            "33        Modules in train mode\n",
            "0         Modules in eval mode\n"
          ]
        },
        {
          "name": "stdout",
          "output_type": "stream",
          "text": [
            "train_model result: {'val_loss': 24026.373046875, 'hp_metric': 24026.373046875}\n"
          ]
        },
        {
          "name": "stderr",
          "output_type": "stream",
          "text": [
            "GPU available: True (mps), used: True\n",
            "TPU available: False, using: 0 TPU cores\n",
            "HPU available: False, using: 0 HPUs\n",
            "\n",
            "  | Name   | Type       | Params | Mode  | In sizes  | Out sizes\n",
            "----------------------------------------------------------------------\n",
            "0 | layers | Sequential | 213    | train | [512, 10] | [512, 1] \n",
            "----------------------------------------------------------------------\n",
            "213       Trainable params\n",
            "0         Non-trainable params\n",
            "213       Total params\n",
            "0.001     Total estimated model params size (MB)\n",
            "21        Modules in train mode\n",
            "0         Modules in eval mode\n"
          ]
        },
        {
          "name": "stdout",
          "output_type": "stream",
          "text": [
            "train_model result: {'val_loss': 23620.58984375, 'hp_metric': 23620.58984375}\n"
          ]
        },
        {
          "name": "stderr",
          "output_type": "stream",
          "text": [
            "GPU available: True (mps), used: True\n",
            "TPU available: False, using: 0 TPU cores\n",
            "HPU available: False, using: 0 HPUs\n",
            "\n",
            "  | Name   | Type       | Params | Mode  | In sizes  | Out sizes\n",
            "----------------------------------------------------------------------\n",
            "0 | layers | Sequential | 595    | train | [128, 10] | [128, 1] \n",
            "----------------------------------------------------------------------\n",
            "595       Trainable params\n",
            "0         Non-trainable params\n",
            "595       Total params\n",
            "0.002     Total estimated model params size (MB)\n",
            "33        Modules in train mode\n",
            "0         Modules in eval mode\n"
          ]
        },
        {
          "name": "stdout",
          "output_type": "stream",
          "text": [
            "train_model result: {'val_loss': 24180.556640625, 'hp_metric': 24180.556640625}\n"
          ]
        },
        {
          "name": "stderr",
          "output_type": "stream",
          "text": [
            "GPU available: True (mps), used: True\n",
            "TPU available: False, using: 0 TPU cores\n",
            "HPU available: False, using: 0 HPUs\n",
            "\n",
            "  | Name   | Type       | Params | Mode  | In sizes | Out sizes\n",
            "---------------------------------------------------------------------\n",
            "0 | layers | Sequential | 491    | train | [32, 10] | [32, 1]  \n",
            "---------------------------------------------------------------------\n",
            "491       Trainable params\n",
            "0         Non-trainable params\n",
            "491       Total params\n",
            "0.002     Total estimated model params size (MB)\n",
            "23        Modules in train mode\n",
            "0         Modules in eval mode\n"
          ]
        },
        {
          "name": "stdout",
          "output_type": "stream",
          "text": [
            "train_model result: {'val_loss': 23952.33984375, 'hp_metric': 23952.33984375}\n"
          ]
        },
        {
          "name": "stderr",
          "output_type": "stream",
          "text": [
            "`Trainer.fit` stopped: `max_epochs=16` reached.\n",
            "GPU available: True (mps), used: True\n",
            "TPU available: False, using: 0 TPU cores\n",
            "HPU available: False, using: 0 HPUs\n",
            "\n",
            "  | Name   | Type       | Params | Mode  | In sizes  | Out sizes\n",
            "----------------------------------------------------------------------\n",
            "0 | layers | Sequential | 169    | train | [512, 10] | [512, 1] \n",
            "----------------------------------------------------------------------\n",
            "169       Trainable params\n",
            "0         Non-trainable params\n",
            "169       Total params\n",
            "0.001     Total estimated model params size (MB)\n",
            "15        Modules in train mode\n",
            "0         Modules in eval mode\n"
          ]
        },
        {
          "name": "stdout",
          "output_type": "stream",
          "text": [
            "train_model result: {'val_loss': 24038.296875, 'hp_metric': 24038.296875}\n"
          ]
        },
        {
          "name": "stderr",
          "output_type": "stream",
          "text": [
            "`Trainer.fit` stopped: `max_epochs=8` reached.\n",
            "GPU available: True (mps), used: True\n",
            "TPU available: False, using: 0 TPU cores\n",
            "HPU available: False, using: 0 HPUs\n",
            "\n",
            "  | Name   | Type       | Params | Mode  | In sizes | Out sizes\n",
            "---------------------------------------------------------------------\n",
            "0 | layers | Sequential | 213    | train | [32, 10] | [32, 1]  \n",
            "---------------------------------------------------------------------\n",
            "213       Trainable params\n",
            "0         Non-trainable params\n",
            "213       Total params\n",
            "0.001     Total estimated model params size (MB)\n",
            "21        Modules in train mode\n",
            "0         Modules in eval mode\n"
          ]
        },
        {
          "name": "stdout",
          "output_type": "stream",
          "text": [
            "train_model result: {'val_loss': 23852.763671875, 'hp_metric': 23852.763671875}\n"
          ]
        },
        {
          "name": "stderr",
          "output_type": "stream",
          "text": [
            "`Trainer.fit` stopped: `max_epochs=32` reached.\n",
            "GPU available: True (mps), used: True\n",
            "TPU available: False, using: 0 TPU cores\n",
            "HPU available: False, using: 0 HPUs\n",
            "\n",
            "  | Name   | Type       | Params | Mode  | In sizes  | Out sizes\n",
            "----------------------------------------------------------------------\n",
            "0 | layers | Sequential | 169    | train | [128, 10] | [128, 1] \n",
            "----------------------------------------------------------------------\n",
            "169       Trainable params\n",
            "0         Non-trainable params\n",
            "169       Total params\n",
            "0.001     Total estimated model params size (MB)\n",
            "15        Modules in train mode\n",
            "0         Modules in eval mode\n"
          ]
        },
        {
          "name": "stdout",
          "output_type": "stream",
          "text": [
            "train_model result: {'val_loss': 22770.60546875, 'hp_metric': 22770.60546875}\n"
          ]
        },
        {
          "name": "stderr",
          "output_type": "stream",
          "text": [
            "`Trainer.fit` stopped: `max_epochs=16` reached.\n",
            "GPU available: True (mps), used: True\n",
            "TPU available: False, using: 0 TPU cores\n",
            "HPU available: False, using: 0 HPUs\n",
            "\n",
            "  | Name   | Type       | Params | Mode  | In sizes   | Out sizes\n",
            "-----------------------------------------------------------------------\n",
            "0 | layers | Sequential | 595    | train | [1024, 10] | [1024, 1]\n",
            "-----------------------------------------------------------------------\n",
            "595       Trainable params\n",
            "0         Non-trainable params\n",
            "595       Total params\n",
            "0.002     Total estimated model params size (MB)\n",
            "33        Modules in train mode\n",
            "0         Modules in eval mode\n"
          ]
        },
        {
          "name": "stdout",
          "output_type": "stream",
          "text": [
            "train_model result: {'val_loss': 23918.626953125, 'hp_metric': 23918.626953125}\n"
          ]
        },
        {
          "name": "stderr",
          "output_type": "stream",
          "text": [
            "`Trainer.fit` stopped: `max_epochs=32` reached.\n",
            "GPU available: True (mps), used: True\n",
            "TPU available: False, using: 0 TPU cores\n",
            "HPU available: False, using: 0 HPUs\n",
            "\n",
            "  | Name   | Type       | Params | Mode  | In sizes | Out sizes\n",
            "---------------------------------------------------------------------\n",
            "0 | layers | Sequential | 213    | train | [32, 10] | [32, 1]  \n",
            "---------------------------------------------------------------------\n",
            "213       Trainable params\n",
            "0         Non-trainable params\n",
            "213       Total params\n",
            "0.001     Total estimated model params size (MB)\n",
            "21        Modules in train mode\n",
            "0         Modules in eval mode\n"
          ]
        },
        {
          "name": "stdout",
          "output_type": "stream",
          "text": [
            "train_model result: {'val_loss': 23849.54296875, 'hp_metric': 23849.54296875}\n",
            "train_model result: {'val_loss': 23422.236328125, 'hp_metric': 23422.236328125}\n",
            "spotpython tuning: 22770.60546875 [----------] 2.50% \n"
          ]
        },
        {
          "name": "stderr",
          "output_type": "stream",
          "text": [
            "GPU available: True (mps), used: True\n",
            "TPU available: False, using: 0 TPU cores\n",
            "HPU available: False, using: 0 HPUs\n",
            "\n",
            "  | Name   | Type       | Params | Mode  | In sizes | Out sizes\n",
            "---------------------------------------------------------------------\n",
            "0 | layers | Sequential | 213    | train | [16, 10] | [16, 1]  \n",
            "---------------------------------------------------------------------\n",
            "213       Trainable params\n",
            "0         Non-trainable params\n",
            "213       Total params\n",
            "0.001     Total estimated model params size (MB)\n",
            "21        Modules in train mode\n",
            "0         Modules in eval mode\n"
          ]
        },
        {
          "name": "stdout",
          "output_type": "stream",
          "text": [
            "train_model result: {'val_loss': 23982.087890625, 'hp_metric': 23982.087890625}\n",
            "spotpython tuning: 22770.60546875 [#---------] 5.01% \n"
          ]
        },
        {
          "name": "stderr",
          "output_type": "stream",
          "text": [
            "GPU available: True (mps), used: True\n",
            "TPU available: False, using: 0 TPU cores\n",
            "HPU available: False, using: 0 HPUs\n",
            "\n",
            "  | Name   | Type       | Params | Mode  | In sizes | Out sizes\n",
            "---------------------------------------------------------------------\n",
            "0 | layers | Sequential | 491    | train | [32, 10] | [32, 1]  \n",
            "---------------------------------------------------------------------\n",
            "491       Trainable params\n",
            "0         Non-trainable params\n",
            "491       Total params\n",
            "0.002     Total estimated model params size (MB)\n",
            "23        Modules in train mode\n",
            "0         Modules in eval mode\n",
            "`Trainer.fit` stopped: `max_epochs=32` reached.\n"
          ]
        },
        {
          "name": "stdout",
          "output_type": "stream",
          "text": [
            "train_model result: {'val_loss': 23473.16796875, 'hp_metric': 23473.16796875}\n",
            "spotpython tuning: 22770.60546875 [#---------] 9.93% \n"
          ]
        },
        {
          "name": "stderr",
          "output_type": "stream",
          "text": [
            "GPU available: True (mps), used: True\n",
            "TPU available: False, using: 0 TPU cores\n",
            "HPU available: False, using: 0 HPUs\n",
            "\n",
            "  | Name   | Type       | Params | Mode  | In sizes | Out sizes\n",
            "---------------------------------------------------------------------\n",
            "0 | layers | Sequential | 169    | train | [32, 10] | [32, 1]  \n",
            "---------------------------------------------------------------------\n",
            "169       Trainable params\n",
            "0         Non-trainable params\n",
            "169       Total params\n",
            "0.001     Total estimated model params size (MB)\n",
            "15        Modules in train mode\n",
            "0         Modules in eval mode\n",
            "GPU available: True (mps), used: True\n",
            "TPU available: False, using: 0 TPU cores\n",
            "HPU available: False, using: 0 HPUs\n",
            "\n",
            "  | Name   | Type       | Params | Mode  | In sizes | Out sizes\n",
            "---------------------------------------------------------------------\n",
            "0 | layers | Sequential | 491    | train | [16, 10] | [16, 1]  \n",
            "---------------------------------------------------------------------\n",
            "491       Trainable params\n",
            "0         Non-trainable params\n",
            "491       Total params\n",
            "0.002     Total estimated model params size (MB)\n",
            "23        Modules in train mode\n",
            "0         Modules in eval mode\n"
          ]
        },
        {
          "name": "stdout",
          "output_type": "stream",
          "text": [
            "train_model result: {'val_loss': nan, 'hp_metric': nan}\n"
          ]
        },
        {
          "name": "stderr",
          "output_type": "stream",
          "text": [
            "`Trainer.fit` stopped: `max_epochs=8` reached.\n"
          ]
        },
        {
          "name": "stdout",
          "output_type": "stream",
          "text": [
            "train_model result: {'val_loss': 22629.123046875, 'hp_metric': 22629.123046875}\n",
            "spotpython tuning: 22629.123046875 [#---------] 13.35% \n"
          ]
        },
        {
          "name": "stderr",
          "output_type": "stream",
          "text": [
            "GPU available: True (mps), used: True\n",
            "TPU available: False, using: 0 TPU cores\n",
            "HPU available: False, using: 0 HPUs\n",
            "\n",
            "  | Name   | Type       | Params | Mode  | In sizes | Out sizes\n",
            "---------------------------------------------------------------------\n",
            "0 | layers | Sequential | 491    | train | [64, 10] | [64, 1]  \n",
            "---------------------------------------------------------------------\n",
            "491       Trainable params\n",
            "0         Non-trainable params\n",
            "491       Total params\n",
            "0.002     Total estimated model params size (MB)\n",
            "23        Modules in train mode\n",
            "0         Modules in eval mode\n",
            "`Trainer.fit` stopped: `max_epochs=16` reached.\n"
          ]
        },
        {
          "name": "stdout",
          "output_type": "stream",
          "text": [
            "train_model result: {'val_loss': 3496.171630859375, 'hp_metric': 3496.171630859375}\n",
            "spotpython tuning: 3496.171630859375 [##--------] 15.40% \n"
          ]
        },
        {
          "name": "stderr",
          "output_type": "stream",
          "text": [
            "GPU available: True (mps), used: True\n",
            "TPU available: False, using: 0 TPU cores\n",
            "HPU available: False, using: 0 HPUs\n",
            "\n",
            "  | Name   | Type       | Params | Mode  | In sizes | Out sizes\n",
            "---------------------------------------------------------------------\n",
            "0 | layers | Sequential | 491    | train | [64, 10] | [64, 1]  \n",
            "---------------------------------------------------------------------\n",
            "491       Trainable params\n",
            "0         Non-trainable params\n",
            "491       Total params\n",
            "0.002     Total estimated model params size (MB)\n",
            "23        Modules in train mode\n",
            "0         Modules in eval mode\n",
            "`Trainer.fit` stopped: `max_epochs=16` reached.\n"
          ]
        },
        {
          "name": "stdout",
          "output_type": "stream",
          "text": [
            "train_model result: {'val_loss': 4889.92919921875, 'hp_metric': 4889.92919921875}\n",
            "spotpython tuning: 3496.171630859375 [##--------] 17.75% \n"
          ]
        },
        {
          "name": "stderr",
          "output_type": "stream",
          "text": [
            "GPU available: True (mps), used: True\n",
            "TPU available: False, using: 0 TPU cores\n",
            "HPU available: False, using: 0 HPUs\n",
            "\n",
            "  | Name   | Type       | Params | Mode  | In sizes | Out sizes\n",
            "---------------------------------------------------------------------\n",
            "0 | layers | Sequential | 491    | train | [64, 10] | [64, 1]  \n",
            "---------------------------------------------------------------------\n",
            "491       Trainable params\n",
            "0         Non-trainable params\n",
            "491       Total params\n",
            "0.002     Total estimated model params size (MB)\n",
            "23        Modules in train mode\n",
            "0         Modules in eval mode\n",
            "`Trainer.fit` stopped: `max_epochs=16` reached.\n"
          ]
        },
        {
          "name": "stdout",
          "output_type": "stream",
          "text": [
            "train_model result: {'val_loss': 4024.494140625, 'hp_metric': 4024.494140625}\n",
            "spotpython tuning: 3496.171630859375 [##--------] 20.55% \n"
          ]
        },
        {
          "name": "stderr",
          "output_type": "stream",
          "text": [
            "GPU available: True (mps), used: True\n",
            "TPU available: False, using: 0 TPU cores\n",
            "HPU available: False, using: 0 HPUs\n",
            "\n",
            "  | Name   | Type       | Params | Mode  | In sizes | Out sizes\n",
            "---------------------------------------------------------------------\n",
            "0 | layers | Sequential | 491    | train | [64, 10] | [64, 1]  \n",
            "---------------------------------------------------------------------\n",
            "491       Trainable params\n",
            "0         Non-trainable params\n",
            "491       Total params\n",
            "0.002     Total estimated model params size (MB)\n",
            "23        Modules in train mode\n",
            "0         Modules in eval mode\n"
          ]
        },
        {
          "name": "stdout",
          "output_type": "stream",
          "text": [
            "train_model result: {'val_loss': 8961.015625, 'hp_metric': 8961.015625}\n",
            "spotpython tuning: 3496.171630859375 [##--------] 23.21% \n"
          ]
        },
        {
          "name": "stderr",
          "output_type": "stream",
          "text": [
            "GPU available: True (mps), used: True\n",
            "TPU available: False, using: 0 TPU cores\n",
            "HPU available: False, using: 0 HPUs\n",
            "\n",
            "  | Name   | Type       | Params | Mode  | In sizes | Out sizes\n",
            "---------------------------------------------------------------------\n",
            "0 | layers | Sequential | 491    | train | [64, 10] | [64, 1]  \n",
            "---------------------------------------------------------------------\n",
            "491       Trainable params\n",
            "0         Non-trainable params\n",
            "491       Total params\n",
            "0.002     Total estimated model params size (MB)\n",
            "23        Modules in train mode\n",
            "0         Modules in eval mode\n",
            "`Trainer.fit` stopped: `max_epochs=16` reached.\n"
          ]
        },
        {
          "name": "stdout",
          "output_type": "stream",
          "text": [
            "train_model result: {'val_loss': 23947.6796875, 'hp_metric': 23947.6796875}\n",
            "spotpython tuning: 3496.171630859375 [###-------] 27.48% \n"
          ]
        },
        {
          "name": "stderr",
          "output_type": "stream",
          "text": [
            "GPU available: True (mps), used: True\n",
            "TPU available: False, using: 0 TPU cores\n",
            "HPU available: False, using: 0 HPUs\n",
            "\n",
            "  | Name   | Type       | Params | Mode  | In sizes | Out sizes\n",
            "---------------------------------------------------------------------\n",
            "0 | layers | Sequential | 491    | train | [64, 10] | [64, 1]  \n",
            "---------------------------------------------------------------------\n",
            "491       Trainable params\n",
            "0         Non-trainable params\n",
            "491       Total params\n",
            "0.002     Total estimated model params size (MB)\n",
            "23        Modules in train mode\n",
            "0         Modules in eval mode\n",
            "`Trainer.fit` stopped: `max_epochs=16` reached.\n"
          ]
        },
        {
          "name": "stdout",
          "output_type": "stream",
          "text": [
            "train_model result: {'val_loss': 13458.3916015625, 'hp_metric': 13458.3916015625}\n",
            "spotpython tuning: 3496.171630859375 [###-------] 32.28% \n"
          ]
        },
        {
          "name": "stderr",
          "output_type": "stream",
          "text": [
            "GPU available: True (mps), used: True\n",
            "TPU available: False, using: 0 TPU cores\n",
            "HPU available: False, using: 0 HPUs\n",
            "\n",
            "  | Name   | Type       | Params | Mode  | In sizes   | Out sizes\n",
            "-----------------------------------------------------------------------\n",
            "0 | layers | Sequential | 213    | train | [2048, 10] | [2048, 1]\n",
            "-----------------------------------------------------------------------\n",
            "213       Trainable params\n",
            "0         Non-trainable params\n",
            "213       Total params\n",
            "0.001     Total estimated model params size (MB)\n",
            "21        Modules in train mode\n",
            "0         Modules in eval mode\n",
            "`Trainer.fit` stopped: `max_epochs=8` reached.\n"
          ]
        },
        {
          "name": "stdout",
          "output_type": "stream",
          "text": [
            "train_model result: {'val_loss': 24036.61328125, 'hp_metric': 24036.61328125}\n",
            "spotpython tuning: 3496.171630859375 [###-------] 34.35% \n"
          ]
        },
        {
          "name": "stderr",
          "output_type": "stream",
          "text": [
            "GPU available: True (mps), used: True\n",
            "TPU available: False, using: 0 TPU cores\n",
            "HPU available: False, using: 0 HPUs\n",
            "\n",
            "  | Name   | Type       | Params | Mode  | In sizes | Out sizes\n",
            "---------------------------------------------------------------------\n",
            "0 | layers | Sequential | 213    | train | [32, 10] | [32, 1]  \n",
            "---------------------------------------------------------------------\n",
            "213       Trainable params\n",
            "0         Non-trainable params\n",
            "213       Total params\n",
            "0.001     Total estimated model params size (MB)\n",
            "21        Modules in train mode\n",
            "0         Modules in eval mode\n"
          ]
        },
        {
          "name": "stdout",
          "output_type": "stream",
          "text": [
            "train_model result: {'val_loss': 24099.958984375, 'hp_metric': 24099.958984375}\n",
            "spotpython tuning: 3496.171630859375 [####------] 36.86% \n"
          ]
        },
        {
          "name": "stderr",
          "output_type": "stream",
          "text": [
            "GPU available: True (mps), used: True\n",
            "TPU available: False, using: 0 TPU cores\n",
            "HPU available: False, using: 0 HPUs\n",
            "\n",
            "  | Name   | Type       | Params | Mode  | In sizes | Out sizes\n",
            "---------------------------------------------------------------------\n",
            "0 | layers | Sequential | 213    | train | [64, 10] | [64, 1]  \n",
            "---------------------------------------------------------------------\n",
            "213       Trainable params\n",
            "0         Non-trainable params\n",
            "213       Total params\n",
            "0.001     Total estimated model params size (MB)\n",
            "21        Modules in train mode\n",
            "0         Modules in eval mode\n"
          ]
        },
        {
          "name": "stdout",
          "output_type": "stream",
          "text": [
            "train_model result: {'val_loss': 24036.01953125, 'hp_metric': 24036.01953125}\n",
            "spotpython tuning: 3496.171630859375 [####------] 39.69% \n"
          ]
        },
        {
          "name": "stderr",
          "output_type": "stream",
          "text": [
            "GPU available: True (mps), used: True\n",
            "TPU available: False, using: 0 TPU cores\n",
            "HPU available: False, using: 0 HPUs\n",
            "\n",
            "  | Name   | Type       | Params | Mode  | In sizes  | Out sizes\n",
            "----------------------------------------------------------------------\n",
            "0 | layers | Sequential | 491    | train | [512, 10] | [512, 1] \n",
            "----------------------------------------------------------------------\n",
            "491       Trainable params\n",
            "0         Non-trainable params\n",
            "491       Total params\n",
            "0.002     Total estimated model params size (MB)\n",
            "23        Modules in train mode\n",
            "0         Modules in eval mode\n",
            "`Trainer.fit` stopped: `max_epochs=16` reached.\n"
          ]
        },
        {
          "name": "stdout",
          "output_type": "stream",
          "text": [
            "train_model result: {'val_loss': 21390.390625, 'hp_metric': 21390.390625}\n",
            "spotpython tuning: 3496.171630859375 [####------] 41.82% \n"
          ]
        },
        {
          "name": "stderr",
          "output_type": "stream",
          "text": [
            "GPU available: True (mps), used: True\n",
            "TPU available: False, using: 0 TPU cores\n",
            "HPU available: False, using: 0 HPUs\n",
            "\n",
            "  | Name   | Type       | Params | Mode  | In sizes | Out sizes\n",
            "---------------------------------------------------------------------\n",
            "0 | layers | Sequential | 491    | train | [64, 10] | [64, 1]  \n",
            "---------------------------------------------------------------------\n",
            "491       Trainable params\n",
            "0         Non-trainable params\n",
            "491       Total params\n",
            "0.002     Total estimated model params size (MB)\n",
            "23        Modules in train mode\n",
            "0         Modules in eval mode\n",
            "`Trainer.fit` stopped: `max_epochs=16` reached.\n"
          ]
        },
        {
          "name": "stdout",
          "output_type": "stream",
          "text": [
            "train_model result: {'val_loss': 4198.23046875, 'hp_metric': 4198.23046875}\n",
            "spotpython tuning: 3496.171630859375 [#####-----] 45.34% \n"
          ]
        },
        {
          "name": "stderr",
          "output_type": "stream",
          "text": [
            "GPU available: True (mps), used: True\n",
            "TPU available: False, using: 0 TPU cores\n",
            "HPU available: False, using: 0 HPUs\n",
            "\n",
            "  | Name   | Type       | Params | Mode  | In sizes | Out sizes\n",
            "---------------------------------------------------------------------\n",
            "0 | layers | Sequential | 491    | train | [64, 10] | [64, 1]  \n",
            "---------------------------------------------------------------------\n",
            "491       Trainable params\n",
            "0         Non-trainable params\n",
            "491       Total params\n",
            "0.002     Total estimated model params size (MB)\n",
            "23        Modules in train mode\n",
            "0         Modules in eval mode\n",
            "`Trainer.fit` stopped: `max_epochs=16` reached.\n"
          ]
        },
        {
          "name": "stdout",
          "output_type": "stream",
          "text": [
            "train_model result: {'val_loss': 3311.99951171875, 'hp_metric': 3311.99951171875}\n",
            "spotpython tuning: 3311.99951171875 [#####-----] 52.13% \n"
          ]
        },
        {
          "name": "stderr",
          "output_type": "stream",
          "text": [
            "GPU available: True (mps), used: True\n",
            "TPU available: False, using: 0 TPU cores\n",
            "HPU available: False, using: 0 HPUs\n",
            "\n",
            "  | Name   | Type       | Params | Mode  | In sizes | Out sizes\n",
            "---------------------------------------------------------------------\n",
            "0 | layers | Sequential | 491    | train | [64, 10] | [64, 1]  \n",
            "---------------------------------------------------------------------\n",
            "491       Trainable params\n",
            "0         Non-trainable params\n",
            "491       Total params\n",
            "0.002     Total estimated model params size (MB)\n",
            "23        Modules in train mode\n",
            "0         Modules in eval mode\n",
            "`Trainer.fit` stopped: `max_epochs=16` reached.\n"
          ]
        },
        {
          "name": "stdout",
          "output_type": "stream",
          "text": [
            "train_model result: {'val_loss': 20298.36328125, 'hp_metric': 20298.36328125}\n",
            "spotpython tuning: 3311.99951171875 [#######---] 66.06% \n"
          ]
        },
        {
          "name": "stderr",
          "output_type": "stream",
          "text": [
            "GPU available: True (mps), used: True\n",
            "TPU available: False, using: 0 TPU cores\n",
            "HPU available: False, using: 0 HPUs\n",
            "\n",
            "  | Name   | Type       | Params | Mode  | In sizes | Out sizes\n",
            "---------------------------------------------------------------------\n",
            "0 | layers | Sequential | 491    | train | [16, 10] | [16, 1]  \n",
            "---------------------------------------------------------------------\n",
            "491       Trainable params\n",
            "0         Non-trainable params\n",
            "491       Total params\n",
            "0.002     Total estimated model params size (MB)\n",
            "23        Modules in train mode\n",
            "0         Modules in eval mode\n",
            "`Trainer.fit` stopped: `max_epochs=8` reached.\n"
          ]
        },
        {
          "name": "stdout",
          "output_type": "stream",
          "text": [
            "train_model result: {'val_loss': 24013.935546875, 'hp_metric': 24013.935546875}\n",
            "spotpython tuning: 3311.99951171875 [########--] 75.96% \n"
          ]
        },
        {
          "name": "stderr",
          "output_type": "stream",
          "text": [
            "GPU available: True (mps), used: True\n",
            "TPU available: False, using: 0 TPU cores\n",
            "HPU available: False, using: 0 HPUs\n",
            "\n",
            "  | Name   | Type       | Params | Mode  | In sizes | Out sizes\n",
            "---------------------------------------------------------------------\n",
            "0 | layers | Sequential | 169    | train | [32, 10] | [32, 1]  \n",
            "---------------------------------------------------------------------\n",
            "169       Trainable params\n",
            "0         Non-trainable params\n",
            "169       Total params\n",
            "0.001     Total estimated model params size (MB)\n",
            "15        Modules in train mode\n",
            "0         Modules in eval mode\n",
            "`Trainer.fit` stopped: `max_epochs=32` reached.\n"
          ]
        },
        {
          "name": "stdout",
          "output_type": "stream",
          "text": [
            "train_model result: {'val_loss': 23315.51953125, 'hp_metric': 23315.51953125}\n",
            "spotpython tuning: 3311.99951171875 [########--] 83.86% \n"
          ]
        },
        {
          "name": "stderr",
          "output_type": "stream",
          "text": [
            "GPU available: True (mps), used: True\n",
            "TPU available: False, using: 0 TPU cores\n",
            "HPU available: False, using: 0 HPUs\n",
            "\n",
            "  | Name   | Type       | Params | Mode  | In sizes  | Out sizes\n",
            "----------------------------------------------------------------------\n",
            "0 | layers | Sequential | 169    | train | [256, 10] | [256, 1] \n",
            "----------------------------------------------------------------------\n",
            "169       Trainable params\n",
            "0         Non-trainable params\n",
            "169       Total params\n",
            "0.001     Total estimated model params size (MB)\n",
            "15        Modules in train mode\n",
            "0         Modules in eval mode\n",
            "`Trainer.fit` stopped: `max_epochs=32` reached.\n"
          ]
        },
        {
          "name": "stdout",
          "output_type": "stream",
          "text": [
            "train_model result: {'val_loss': 23904.419921875, 'hp_metric': 23904.419921875}\n",
            "spotpython tuning: 3311.99951171875 [#########-] 88.78% \n"
          ]
        },
        {
          "name": "stderr",
          "output_type": "stream",
          "text": [
            "GPU available: True (mps), used: True\n",
            "TPU available: False, using: 0 TPU cores\n",
            "HPU available: False, using: 0 HPUs\n",
            "\n",
            "  | Name   | Type       | Params | Mode  | In sizes | Out sizes\n",
            "---------------------------------------------------------------------\n",
            "0 | layers | Sequential | 491    | train | [64, 10] | [64, 1]  \n",
            "---------------------------------------------------------------------\n",
            "491       Trainable params\n",
            "0         Non-trainable params\n",
            "491       Total params\n",
            "0.002     Total estimated model params size (MB)\n",
            "23        Modules in train mode\n",
            "0         Modules in eval mode\n",
            "`Trainer.fit` stopped: `max_epochs=16` reached.\n"
          ]
        },
        {
          "name": "stdout",
          "output_type": "stream",
          "text": [
            "train_model result: {'val_loss': 19753.544921875, 'hp_metric': 19753.544921875}\n",
            "spotpython tuning: 3311.99951171875 [##########] 98.25% \n"
          ]
        },
        {
          "name": "stderr",
          "output_type": "stream",
          "text": [
            "GPU available: True (mps), used: True\n",
            "TPU available: False, using: 0 TPU cores\n",
            "HPU available: False, using: 0 HPUs\n",
            "\n",
            "  | Name   | Type       | Params | Mode  | In sizes  | Out sizes\n",
            "----------------------------------------------------------------------\n",
            "0 | layers | Sequential | 491    | train | [128, 10] | [128, 1] \n",
            "----------------------------------------------------------------------\n",
            "491       Trainable params\n",
            "0         Non-trainable params\n",
            "491       Total params\n",
            "0.002     Total estimated model params size (MB)\n",
            "23        Modules in train mode\n",
            "0         Modules in eval mode\n",
            "`Trainer.fit` stopped: `max_epochs=16` reached.\n"
          ]
        },
        {
          "name": "stdout",
          "output_type": "stream",
          "text": [
            "train_model result: {'val_loss': 22323.83984375, 'hp_metric': 22323.83984375}\n",
            "spotpython tuning: 3311.99951171875 [##########] 100.00% Done...\n",
            "\n",
            "Experiment saved to spot_604_experiment.pickle\n"
          ]
        }
      ],
      "source": [
        "spot_tuner = spot.Spot(fun=fun,fun_control=fun_control, design_control=design_control)\n",
        "spot_tuner.save_experiment(path=\"userExperiment\", overwrite=False)\n",
        "res = spot_tuner.run()"
      ]
    },
    {
      "cell_type": "markdown",
      "metadata": {},
      "source": [
        "The tuned hyperparameters can be obtained as a dictionary with the following code."
      ]
    },
    {
      "cell_type": "code",
      "execution_count": 12,
      "metadata": {},
      "outputs": [
        {
          "data": {
            "text/plain": [
              "{'l1': 4.0,\n",
              " 'epochs': 4.0,\n",
              " 'batch_size': 6.0,\n",
              " 'act_fn': 3.0,\n",
              " 'optimizer': 0.0,\n",
              " 'dropout_prob': 0.0014073672542928583,\n",
              " 'lr_mult': 8.589535521580487,\n",
              " 'patience': 3.0,\n",
              " 'batch_norm': 0.0,\n",
              " 'initialization': 1.0}"
            ]
          },
          "execution_count": 12,
          "metadata": {},
          "output_type": "execute_result"
        }
      ],
      "source": [
        "#| label: code-get-tuned-hyperparameters-37\n",
        "from spotpython.hyperparameters.values import get_tuned_hyperparameters\n",
        "get_tuned_hyperparameters(spot_tuner)"
      ]
    },
    {
      "cell_type": "markdown",
      "metadata": {},
      "source": [
        "Here , the numerical levels of the hyperparameters are used as keys in the dictionary.\n",
        "If the `fun_control` dictionary is used, the names of the hyperparameters are used as keys in the dictionary. "
      ]
    },
    {
      "cell_type": "code",
      "execution_count": 13,
      "metadata": {},
      "outputs": [
        {
          "data": {
            "text/plain": [
              "{'l1': 4.0,\n",
              " 'epochs': 4.0,\n",
              " 'batch_size': 6.0,\n",
              " 'act_fn': 'LeakyReLU',\n",
              " 'optimizer': 'Adadelta',\n",
              " 'dropout_prob': 0.0014073672542928583,\n",
              " 'lr_mult': 8.589535521580487,\n",
              " 'patience': 3.0,\n",
              " 'batch_norm': 0,\n",
              " 'initialization': 'kaiming_uniform'}"
            ]
          },
          "execution_count": 13,
          "metadata": {},
          "output_type": "execute_result"
        }
      ],
      "source": [
        "#| label: code-get-tuned-hyperparameters-fun-ctrl37\n",
        "get_tuned_hyperparameters(spot_tuner, fun_control)"
      ]
    },
    {
      "cell_type": "code",
      "execution_count": 14,
      "metadata": {},
      "outputs": [
        {
          "name": "stdout",
          "output_type": "stream",
          "text": [
            "Error: File userExperiment/spot_604_experiment.pickle already exists. Use overwrite=True to overwrite the file.\n"
          ]
        }
      ],
      "source": [
        "#| label: code-save-experiment-37\n",
        "spot_tuner.save_experiment(path=\"userExperiment\", overwrite=False)"
      ]
    },
    {
      "cell_type": "markdown",
      "metadata": {},
      "source": [
        "The results from the experiment are stored in the pickle file `{python} filename`.\n",
        "The experiment can be reloaded with the following code."
      ]
    },
    {
      "cell_type": "code",
      "execution_count": 15,
      "metadata": {},
      "outputs": [
        {
          "name": "stdout",
          "output_type": "stream",
          "text": [
            "filename: spot_branin_experiment.pickle\n"
          ]
        }
      ],
      "source": [
        "print(f\"filename: {filename}\")"
      ]
    },
    {
      "cell_type": "code",
      "execution_count": 16,
      "metadata": {},
      "outputs": [
        {
          "name": "stdout",
          "output_type": "stream",
          "text": [
            "Loaded experiment from spot_604_experiment.pickle\n"
          ]
        }
      ],
      "source": [
        "#| label: code-reload-hyper-experiment-37\n",
        "from spotpython.utils.file import load_experiment\n",
        "(spot_tuner_1, fun_control_1, design_control_1,\n",
        "    surrogate_control_1, optimizer_control_1) = load_experiment(PREFIX=PREFIX)"
      ]
    },
    {
      "cell_type": "markdown",
      "metadata": {},
      "source": [
        "Plot the progress of the original experiment are identical to the reloaded experiment."
      ]
    },
    {
      "cell_type": "code",
      "execution_count": 17,
      "metadata": {},
      "outputs": [
        {
          "data": {
            "image/png": "[encoded data removed]",
            "text/plain": [
              "<Figure size 900x600 with 1 Axes>"
            ]
          },
          "metadata": {},
          "output_type": "display_data"
        },
        {
          "data": {
            "image/png": "[encoded data removed]",
            "text/plain": [
              "<Figure size 900x600 with 1 Axes>"
            ]
          },
          "metadata": {},
          "output_type": "display_data"
        }
      ],
      "source": [
        "spot_tuner.plot_progress(log_y=True)\n",
        "spot_tuner_1.plot_progress(log_y=True)"
      ]
    },
    {
      "cell_type": "markdown",
      "metadata": {},
      "source": [
        "Finally, the tuned hyperparameters can be obtained as a dictionary from the reloaded experiment with the following code."
      ]
    },
    {
      "cell_type": "code",
      "execution_count": 18,
      "metadata": {},
      "outputs": [
        {
          "data": {
            "text/plain": [
              "{'l1': 4.0,\n",
              " 'epochs': 4.0,\n",
              " 'batch_size': 6.0,\n",
              " 'act_fn': 'LeakyReLU',\n",
              " 'optimizer': 'Adadelta',\n",
              " 'dropout_prob': 0.0014073672542928583,\n",
              " 'lr_mult': 8.589535521580487,\n",
              " 'patience': 3.0,\n",
              " 'batch_norm': 0,\n",
              " 'initialization': 'kaiming_uniform'}"
            ]
          },
          "execution_count": 18,
          "metadata": {},
          "output_type": "execute_result"
        }
      ],
      "source": [
        "get_tuned_hyperparameters(spot_tuner_1, fun_control_1)"
      ]
    },
    {
      "cell_type": "markdown",
      "metadata": {},
      "source": [
        "::: {.callout-note}\n",
        "### Summary: Saving and Loading Hyperparameter-Tuning Experiments\n",
        "* If `spotpython` is used as an hyperparameter tuner (with an hyperparameter dictionary), experiments can be saved and reloaded with the `save_experiment` and `load_experiment` functions.\n",
        "* The tuned hyperparameters can be obtained with the `get_tuned_hyperparameters` function.\n",
        ":::\n",
        "\n",
        "\n",
        "## Saving and Loading PyTorch Lightning Models {#sec-saving-and-loading-pytorch-lightning-models-37}\n",
        "\n",
        "@sec-spotpython-saving-and-loading  and @sec-spotpython-as-a-hyperparameter-tuner-37 explained how to save and load optimization and hyperparameter tuning experiments and how to get the tuned hyperparameters as a dictionary.\n",
        "This section shows how to save and load `PyTorch Lightning` models.\n",
        "\n",
        "\n",
        "### Get the Tuned Architecture {#sec-get-spot-results-31}\n",
        "\n",
        "In contrast to the function `get_tuned_hyperparameters`, the function `get_tuned_architecture` returns the tuned architecture of the model as a dictionary. Here, the transformations are already applied to the numerical levels of the hyperparameters and the encoding (and types) are the original types of the hyperparameters used by the model. The `config` dictionary can be passed to the model without any modifications."
      ]
    },
    {
      "cell_type": "code",
      "execution_count": 19,
      "metadata": {},
      "outputs": [
        {
          "name": "stdout",
          "output_type": "stream",
          "text": [
            "{'act_fn': LeakyReLU(),\n",
            " 'batch_norm': False,\n",
            " 'batch_size': 64,\n",
            " 'dropout_prob': 0.0014073672542928583,\n",
            " 'epochs': 16,\n",
            " 'initialization': 'kaiming_uniform',\n",
            " 'l1': 16,\n",
            " 'lr_mult': 8.589535521580487,\n",
            " 'optimizer': 'Adadelta',\n",
            " 'patience': 8}\n"
          ]
        }
      ],
      "source": [
        "from spotpython.hyperparameters.values import get_tuned_architecture\n",
        "config = get_tuned_architecture(spot_tuner, fun_control)\n",
        "pprint.pprint(config)"
      ]
    },
    {
      "cell_type": "markdown",
      "metadata": {},
      "source": [
        "After getting the tuned architecture, the model can be created and tested with the following code."
      ]
    },
    {
      "cell_type": "code",
      "execution_count": 20,
      "metadata": {},
      "outputs": [
        {
          "name": "stderr",
          "output_type": "stream",
          "text": [
            "GPU available: True (mps), used: True\n",
            "TPU available: False, using: 0 TPU cores\n",
            "HPU available: False, using: 0 HPUs\n",
            "\n",
            "  | Name   | Type       | Params | Mode  | In sizes | Out sizes\n",
            "---------------------------------------------------------------------\n",
            "0 | layers | Sequential | 491    | train | [64, 10] | [64, 1]  \n",
            "---------------------------------------------------------------------\n",
            "491       Trainable params\n",
            "0         Non-trainable params\n",
            "491       Total params\n",
            "0.002     Total estimated model params size (MB)\n",
            "23        Modules in train mode\n",
            "0         Modules in eval mode\n",
            "Restoring states from the checkpoint path at /Users/bartz/workspace/Hyperparameter-Tuning-Cookbook/runs/saved_models/16_16_64_LeakyReLU_Adadelta_0.0014_8.5895_8_False_kaiming_uniform_TEST/last-v2.ckpt\n",
            "Loaded model weights from the checkpoint at /Users/bartz/workspace/Hyperparameter-Tuning-Cookbook/runs/saved_models/16_16_64_LeakyReLU_Adadelta_0.0014_8.5895_8_False_kaiming_uniform_TEST/last-v2.ckpt\n"
          ]
        },
        {
          "data": {
            "text/html": [
              "<pre style=\"white-space:pre;overflow-x:auto;line-height:normal;font-family:Menlo,'DejaVu Sans Mono',consolas,'Courier New',monospace\">┏━━━━━━━━━━━━━━━━━━━━━━━━━━━┳━━━━━━━━━━━━━━━━━━━━━━━━━━━┓\n",
              "┃<span style=\"font-weight: bold\">        Test metric        </span>┃<span style=\"font-weight: bold\">       DataLoader 0        </span>┃\n",
              "┡━━━━━━━━━━━━━━━━━━━━━━━━━━━╇━━━━━━━━━━━━━━━━━━━━━━━━━━━┩\n",
              "│<span style=\"color: #008080; text-decoration-color: #008080\">         hp_metric         </span>│<span style=\"color: #800080; text-decoration-color: #800080\">      19425.208984375      </span>│\n",
              "│<span style=\"color: #008080; text-decoration-color: #008080\">         val_loss          </span>│<span style=\"color: #800080; text-decoration-color: #800080\">      19425.208984375      </span>│\n",
              "└───────────────────────────┴───────────────────────────┘\n",
              "</pre>\n"
            ],
            "text/plain": [
              "┏━━━━━━━━━━━━━━━━━━━━━━━━━━━┳━━━━━━━━━━━━━━━━━━━━━━━━━━━┓\n",
              "┃\u001b[1m \u001b[0m\u001b[1m       Test metric       \u001b[0m\u001b[1m \u001b[0m┃\u001b[1m \u001b[0m\u001b[1m      DataLoader 0       \u001b[0m\u001b[1m \u001b[0m┃\n",
              "┡━━━━━━━━━━━━━━━━━━━━━━━━━━━╇━━━━━━━━━━━━━━━━━━━━━━━━━━━┩\n",
              "│\u001b[36m \u001b[0m\u001b[36m        hp_metric        \u001b[0m\u001b[36m \u001b[0m│\u001b[35m \u001b[0m\u001b[35m     19425.208984375     \u001b[0m\u001b[35m \u001b[0m│\n",
              "│\u001b[36m \u001b[0m\u001b[36m        val_loss         \u001b[0m\u001b[36m \u001b[0m│\u001b[35m \u001b[0m\u001b[35m     19425.208984375     \u001b[0m\u001b[35m \u001b[0m│\n",
              "└───────────────────────────┴───────────────────────────┘\n"
            ]
          },
          "metadata": {},
          "output_type": "display_data"
        },
        {
          "name": "stdout",
          "output_type": "stream",
          "text": [
            "test_model result: {'val_loss': 19425.208984375, 'hp_metric': 19425.208984375}\n"
          ]
        },
        {
          "data": {
            "text/plain": [
              "(19425.208984375, 19425.208984375)"
            ]
          },
          "execution_count": 20,
          "metadata": {},
          "output_type": "execute_result"
        }
      ],
      "source": [
        "from spotpython.light.testmodel import test_model\n",
        "test_model(config, fun_control)"
      ]
    },
    {
      "cell_type": "markdown",
      "metadata": {},
      "source": [
        "### Load a Model from Checkpoint"
      ]
    },
    {
      "cell_type": "code",
      "execution_count": 21,
      "metadata": {},
      "outputs": [
        {
          "name": "stdout",
          "output_type": "stream",
          "text": [
            "config: {'l1': 16, 'epochs': 16, 'batch_size': 64, 'act_fn': LeakyReLU(), 'optimizer': 'Adadelta', 'dropout_prob': 0.0014073672542928583, 'lr_mult': 8.589535521580487, 'patience': 8, 'batch_norm': False, 'initialization': 'kaiming_uniform'}\n",
            "Loading model with 16_16_64_LeakyReLU_Adadelta_0.0014_8.5895_8_False_kaiming_uniform_TEST from runs/saved_models/16_16_64_LeakyReLU_Adadelta_0.0014_8.5895_8_False_kaiming_uniform_TEST/last.ckpt\n",
            "Model: NNLinearRegressor(\n",
            "  (layers): Sequential(\n",
            "    (0): Linear(in_features=10, out_features=16, bias=True)\n",
            "    (1): LeakyReLU()\n",
            "    (2): Dropout(p=0.0014073672542928583, inplace=False)\n",
            "    (3): Linear(in_features=16, out_features=8, bias=True)\n",
            "    (4): LeakyReLU()\n",
            "    (5): Dropout(p=0.0014073672542928583, inplace=False)\n",
            "    (6): Linear(in_features=8, out_features=8, bias=True)\n",
            "    (7): LeakyReLU()\n",
            "    (8): Dropout(p=0.0014073672542928583, inplace=False)\n",
            "    (9): Linear(in_features=8, out_features=4, bias=True)\n",
            "    (10): LeakyReLU()\n",
            "    (11): Dropout(p=0.0014073672542928583, inplace=False)\n",
            "    (12): Linear(in_features=4, out_features=4, bias=True)\n",
            "    (13): LeakyReLU()\n",
            "    (14): Dropout(p=0.0014073672542928583, inplace=False)\n",
            "    (15): Linear(in_features=4, out_features=4, bias=True)\n",
            "    (16): LeakyReLU()\n",
            "    (17): Dropout(p=0.0014073672542928583, inplace=False)\n",
            "    (18): Linear(in_features=4, out_features=2, bias=True)\n",
            "    (19): LeakyReLU()\n",
            "    (20): Dropout(p=0.0014073672542928583, inplace=False)\n",
            "    (21): Linear(in_features=2, out_features=2, bias=True)\n",
            "    (22): LeakyReLU()\n",
            "    (23): Dropout(p=0.0014073672542928583, inplace=False)\n",
            "    (24): Linear(in_features=2, out_features=2, bias=True)\n",
            "    (25): LeakyReLU()\n",
            "    (26): Dropout(p=0.0014073672542928583, inplace=False)\n",
            "    (27): Linear(in_features=2, out_features=2, bias=True)\n",
            "    (28): LeakyReLU()\n",
            "    (29): Dropout(p=0.0014073672542928583, inplace=False)\n",
            "    (30): Linear(in_features=2, out_features=1, bias=True)\n",
            "  )\n",
            ")\n"
          ]
        }
      ],
      "source": [
        "from spotpython.light.loadmodel import load_light_from_checkpoint\n",
        "model_loaded = load_light_from_checkpoint(config, fun_control)"
      ]
    },
    {
      "cell_type": "code",
      "execution_count": 22,
      "metadata": {},
      "outputs": [
        {
          "data": {
            "text/plain": [
              "{'training': False,\n",
              " '_parameters': OrderedDict(),\n",
              " '_buffers': OrderedDict(),\n",
              " '_non_persistent_buffers_set': set(),\n",
              " '_backward_pre_hooks': OrderedDict(),\n",
              " '_backward_hooks': OrderedDict(),\n",
              " '_is_full_backward_hook': None,\n",
              " '_forward_hooks': OrderedDict(),\n",
              " '_forward_hooks_with_kwargs': OrderedDict(),\n",
              " '_forward_hooks_always_called': OrderedDict(),\n",
              " '_forward_pre_hooks': OrderedDict(),\n",
              " '_forward_pre_hooks_with_kwargs': OrderedDict(),\n",
              " '_state_dict_hooks': OrderedDict(),\n",
              " '_state_dict_pre_hooks': OrderedDict(),\n",
              " '_load_state_dict_pre_hooks': OrderedDict(),\n",
              " '_load_state_dict_post_hooks': OrderedDict(),\n",
              " '_modules': OrderedDict([('layers',\n",
              "               Sequential(\n",
              "                 (0): Linear(in_features=10, out_features=16, bias=True)\n",
              "                 (1): LeakyReLU()\n",
              "                 (2): Dropout(p=0.0014073672542928583, inplace=False)\n",
              "                 (3): Linear(in_features=16, out_features=8, bias=True)\n",
              "                 (4): LeakyReLU()\n",
              "                 (5): Dropout(p=0.0014073672542928583, inplace=False)\n",
              "                 (6): Linear(in_features=8, out_features=8, bias=True)\n",
              "                 (7): LeakyReLU()\n",
              "                 (8): Dropout(p=0.0014073672542928583, inplace=False)\n",
              "                 (9): Linear(in_features=8, out_features=4, bias=True)\n",
              "                 (10): LeakyReLU()\n",
              "                 (11): Dropout(p=0.0014073672542928583, inplace=False)\n",
              "                 (12): Linear(in_features=4, out_features=4, bias=True)\n",
              "                 (13): LeakyReLU()\n",
              "                 (14): Dropout(p=0.0014073672542928583, inplace=False)\n",
              "                 (15): Linear(in_features=4, out_features=4, bias=True)\n",
              "                 (16): LeakyReLU()\n",
              "                 (17): Dropout(p=0.0014073672542928583, inplace=False)\n",
              "                 (18): Linear(in_features=4, out_features=2, bias=True)\n",
              "                 (19): LeakyReLU()\n",
              "                 (20): Dropout(p=0.0014073672542928583, inplace=False)\n",
              "                 (21): Linear(in_features=2, out_features=2, bias=True)\n",
              "                 (22): LeakyReLU()\n",
              "                 (23): Dropout(p=0.0014073672542928583, inplace=False)\n",
              "                 (24): Linear(in_features=2, out_features=2, bias=True)\n",
              "                 (25): LeakyReLU()\n",
              "                 (26): Dropout(p=0.0014073672542928583, inplace=False)\n",
              "                 (27): Linear(in_features=2, out_features=2, bias=True)\n",
              "                 (28): LeakyReLU()\n",
              "                 (29): Dropout(p=0.0014073672542928583, inplace=False)\n",
              "                 (30): Linear(in_features=2, out_features=1, bias=True)\n",
              "               ))]),\n",
              " 'prepare_data_per_node': True,\n",
              " 'allow_zero_length_dataloader_with_multiple_devices': False,\n",
              " '_log_hyperparams': True,\n",
              " '_dtype': torch.float32,\n",
              " '_device': device(type='mps', index=0),\n",
              " '_trainer': None,\n",
              " '_example_input_array': tensor([[0., 0., 0., 0., 0., 0., 0., 0., 0., 0.],\n",
              "         [0., 0., 0., 0., 0., 0., 0., 0., 0., 0.],\n",
              "         [0., 0., 0., 0., 0., 0., 0., 0., 0., 0.],\n",
              "         [0., 0., 0., 0., 0., 0., 0., 0., 0., 0.],\n",
              "         [0., 0., 0., 0., 0., 0., 0., 0., 0., 0.],\n",
              "         [0., 0., 0., 0., 0., 0., 0., 0., 0., 0.],\n",
              "         [0., 0., 0., 0., 0., 0., 0., 0., 0., 0.],\n",
              "         [0., 0., 0., 0., 0., 0., 0., 0., 0., 0.],\n",
              "         [0., 0., 0., 0., 0., 0., 0., 0., 0., 0.],\n",
              "         [0., 0., 0., 0., 0., 0., 0., 0., 0., 0.],\n",
              "         [0., 0., 0., 0., 0., 0., 0., 0., 0., 0.],\n",
              "         [0., 0., 0., 0., 0., 0., 0., 0., 0., 0.],\n",
              "         [0., 0., 0., 0., 0., 0., 0., 0., 0., 0.],\n",
              "         [0., 0., 0., 0., 0., 0., 0., 0., 0., 0.],\n",
              "         [0., 0., 0., 0., 0., 0., 0., 0., 0., 0.],\n",
              "         [0., 0., 0., 0., 0., 0., 0., 0., 0., 0.],\n",
              "         [0., 0., 0., 0., 0., 0., 0., 0., 0., 0.],\n",
              "         [0., 0., 0., 0., 0., 0., 0., 0., 0., 0.],\n",
              "         [0., 0., 0., 0., 0., 0., 0., 0., 0., 0.],\n",
              "         [0., 0., 0., 0., 0., 0., 0., 0., 0., 0.],\n",
              "         [0., 0., 0., 0., 0., 0., 0., 0., 0., 0.],\n",
              "         [0., 0., 0., 0., 0., 0., 0., 0., 0., 0.],\n",
              "         [0., 0., 0., 0., 0., 0., 0., 0., 0., 0.],\n",
              "         [0., 0., 0., 0., 0., 0., 0., 0., 0., 0.],\n",
              "         [0., 0., 0., 0., 0., 0., 0., 0., 0., 0.],\n",
              "         [0., 0., 0., 0., 0., 0., 0., 0., 0., 0.],\n",
              "         [0., 0., 0., 0., 0., 0., 0., 0., 0., 0.],\n",
              "         [0., 0., 0., 0., 0., 0., 0., 0., 0., 0.],\n",
              "         [0., 0., 0., 0., 0., 0., 0., 0., 0., 0.],\n",
              "         [0., 0., 0., 0., 0., 0., 0., 0., 0., 0.],\n",
              "         [0., 0., 0., 0., 0., 0., 0., 0., 0., 0.],\n",
              "         [0., 0., 0., 0., 0., 0., 0., 0., 0., 0.],\n",
              "         [0., 0., 0., 0., 0., 0., 0., 0., 0., 0.],\n",
              "         [0., 0., 0., 0., 0., 0., 0., 0., 0., 0.],\n",
              "         [0., 0., 0., 0., 0., 0., 0., 0., 0., 0.],\n",
              "         [0., 0., 0., 0., 0., 0., 0., 0., 0., 0.],\n",
              "         [0., 0., 0., 0., 0., 0., 0., 0., 0., 0.],\n",
              "         [0., 0., 0., 0., 0., 0., 0., 0., 0., 0.],\n",
              "         [0., 0., 0., 0., 0., 0., 0., 0., 0., 0.],\n",
              "         [0., 0., 0., 0., 0., 0., 0., 0., 0., 0.],\n",
              "         [0., 0., 0., 0., 0., 0., 0., 0., 0., 0.],\n",
              "         [0., 0., 0., 0., 0., 0., 0., 0., 0., 0.],\n",
              "         [0., 0., 0., 0., 0., 0., 0., 0., 0., 0.],\n",
              "         [0., 0., 0., 0., 0., 0., 0., 0., 0., 0.],\n",
              "         [0., 0., 0., 0., 0., 0., 0., 0., 0., 0.],\n",
              "         [0., 0., 0., 0., 0., 0., 0., 0., 0., 0.],\n",
              "         [0., 0., 0., 0., 0., 0., 0., 0., 0., 0.],\n",
              "         [0., 0., 0., 0., 0., 0., 0., 0., 0., 0.],\n",
              "         [0., 0., 0., 0., 0., 0., 0., 0., 0., 0.],\n",
              "         [0., 0., 0., 0., 0., 0., 0., 0., 0., 0.],\n",
              "         [0., 0., 0., 0., 0., 0., 0., 0., 0., 0.],\n",
              "         [0., 0., 0., 0., 0., 0., 0., 0., 0., 0.],\n",
              "         [0., 0., 0., 0., 0., 0., 0., 0., 0., 0.],\n",
              "         [0., 0., 0., 0., 0., 0., 0., 0., 0., 0.],\n",
              "         [0., 0., 0., 0., 0., 0., 0., 0., 0., 0.],\n",
              "         [0., 0., 0., 0., 0., 0., 0., 0., 0., 0.],\n",
              "         [0., 0., 0., 0., 0., 0., 0., 0., 0., 0.],\n",
              "         [0., 0., 0., 0., 0., 0., 0., 0., 0., 0.],\n",
              "         [0., 0., 0., 0., 0., 0., 0., 0., 0., 0.],\n",
              "         [0., 0., 0., 0., 0., 0., 0., 0., 0., 0.],\n",
              "         [0., 0., 0., 0., 0., 0., 0., 0., 0., 0.],\n",
              "         [0., 0., 0., 0., 0., 0., 0., 0., 0., 0.],\n",
              "         [0., 0., 0., 0., 0., 0., 0., 0., 0., 0.],\n",
              "         [0., 0., 0., 0., 0., 0., 0., 0., 0., 0.]]),\n",
              " '_automatic_optimization': True,\n",
              " '_strict_loading': None,\n",
              " '_current_fx_name': None,\n",
              " '_param_requires_grad_state': {},\n",
              " '_metric_attributes': None,\n",
              " '_compiler_ctx': None,\n",
              " '_fabric': None,\n",
              " '_fabric_optimizers': [],\n",
              " '_device_mesh': None,\n",
              " '_L_in': 10,\n",
              " '_L_out': 1,\n",
              " '_torchmetric': 'mean_squared_error',\n",
              " 'metric': <function torchmetrics.functional.regression.mse.mean_squared_error(preds: torch.Tensor, target: torch.Tensor, squared: bool = True, num_outputs: int = 1) -> torch.Tensor>,\n",
              " '_hparams_name': 'kwargs',\n",
              " '_hparams': \"act_fn\":         LeakyReLU()\n",
              " \"batch_norm\":     False\n",
              " \"batch_size\":     64\n",
              " \"dropout_prob\":   0.0014073672542928583\n",
              " \"epochs\":         16\n",
              " \"initialization\": kaiming_uniform\n",
              " \"l1\":             16\n",
              " \"lr_mult\":        8.589535521580487\n",
              " \"optimizer\":      Adadelta\n",
              " \"patience\":       8,\n",
              " '_hparams_initial': \"act_fn\":         LeakyReLU()\n",
              " \"batch_norm\":     False\n",
              " \"batch_size\":     64\n",
              " \"dropout_prob\":   0.0014073672542928583\n",
              " \"epochs\":         16\n",
              " \"initialization\": kaiming_uniform\n",
              " \"l1\":             16\n",
              " \"lr_mult\":        8.589535521580487\n",
              " \"optimizer\":      Adadelta\n",
              " \"patience\":       8}"
            ]
          },
          "execution_count": 22,
          "metadata": {},
          "output_type": "execute_result"
        }
      ],
      "source": [
        "vars(model_loaded)"
      ]
    },
    {
      "cell_type": "code",
      "execution_count": 23,
      "metadata": {},
      "outputs": [],
      "source": [
        "import torch\n",
        "torch.save(model_loaded, \"model.pt\")"
      ]
    },
    {
      "cell_type": "code",
      "execution_count": 24,
      "metadata": {},
      "outputs": [],
      "source": [
        "mymodel = torch.load(\"model.pt\")"
      ]
    },
    {
      "cell_type": "code",
      "execution_count": 25,
      "metadata": {},
      "outputs": [
        {
          "data": {
            "text/plain": [
              "{'training': False,\n",
              " '_parameters': OrderedDict(),\n",
              " '_buffers': OrderedDict(),\n",
              " '_non_persistent_buffers_set': set(),\n",
              " '_backward_pre_hooks': OrderedDict(),\n",
              " '_backward_hooks': OrderedDict(),\n",
              " '_is_full_backward_hook': None,\n",
              " '_forward_hooks': OrderedDict(),\n",
              " '_forward_hooks_with_kwargs': OrderedDict(),\n",
              " '_forward_hooks_always_called': OrderedDict(),\n",
              " '_forward_pre_hooks': OrderedDict(),\n",
              " '_forward_pre_hooks_with_kwargs': OrderedDict(),\n",
              " '_state_dict_hooks': OrderedDict(),\n",
              " '_state_dict_pre_hooks': OrderedDict(),\n",
              " '_load_state_dict_pre_hooks': OrderedDict(),\n",
              " '_load_state_dict_post_hooks': OrderedDict(),\n",
              " '_modules': OrderedDict([('layers',\n",
              "               Sequential(\n",
              "                 (0): Linear(in_features=10, out_features=16, bias=True)\n",
              "                 (1): LeakyReLU()\n",
              "                 (2): Dropout(p=0.0014073672542928583, inplace=False)\n",
              "                 (3): Linear(in_features=16, out_features=8, bias=True)\n",
              "                 (4): LeakyReLU()\n",
              "                 (5): Dropout(p=0.0014073672542928583, inplace=False)\n",
              "                 (6): Linear(in_features=8, out_features=8, bias=True)\n",
              "                 (7): LeakyReLU()\n",
              "                 (8): Dropout(p=0.0014073672542928583, inplace=False)\n",
              "                 (9): Linear(in_features=8, out_features=4, bias=True)\n",
              "                 (10): LeakyReLU()\n",
              "                 (11): Dropout(p=0.0014073672542928583, inplace=False)\n",
              "                 (12): Linear(in_features=4, out_features=4, bias=True)\n",
              "                 (13): LeakyReLU()\n",
              "                 (14): Dropout(p=0.0014073672542928583, inplace=False)\n",
              "                 (15): Linear(in_features=4, out_features=4, bias=True)\n",
              "                 (16): LeakyReLU()\n",
              "                 (17): Dropout(p=0.0014073672542928583, inplace=False)\n",
              "                 (18): Linear(in_features=4, out_features=2, bias=True)\n",
              "                 (19): LeakyReLU()\n",
              "                 (20): Dropout(p=0.0014073672542928583, inplace=False)\n",
              "                 (21): Linear(in_features=2, out_features=2, bias=True)\n",
              "                 (22): LeakyReLU()\n",
              "                 (23): Dropout(p=0.0014073672542928583, inplace=False)\n",
              "                 (24): Linear(in_features=2, out_features=2, bias=True)\n",
              "                 (25): LeakyReLU()\n",
              "                 (26): Dropout(p=0.0014073672542928583, inplace=False)\n",
              "                 (27): Linear(in_features=2, out_features=2, bias=True)\n",
              "                 (28): LeakyReLU()\n",
              "                 (29): Dropout(p=0.0014073672542928583, inplace=False)\n",
              "                 (30): Linear(in_features=2, out_features=1, bias=True)\n",
              "               ))]),\n",
              " 'prepare_data_per_node': True,\n",
              " 'allow_zero_length_dataloader_with_multiple_devices': False,\n",
              " '_log_hyperparams': True,\n",
              " '_dtype': torch.float32,\n",
              " '_device': device(type='mps', index=0),\n",
              " '_trainer': None,\n",
              " '_example_input_array': tensor([[0., 0., 0., 0., 0., 0., 0., 0., 0., 0.],\n",
              "         [0., 0., 0., 0., 0., 0., 0., 0., 0., 0.],\n",
              "         [0., 0., 0., 0., 0., 0., 0., 0., 0., 0.],\n",
              "         [0., 0., 0., 0., 0., 0., 0., 0., 0., 0.],\n",
              "         [0., 0., 0., 0., 0., 0., 0., 0., 0., 0.],\n",
              "         [0., 0., 0., 0., 0., 0., 0., 0., 0., 0.],\n",
              "         [0., 0., 0., 0., 0., 0., 0., 0., 0., 0.],\n",
              "         [0., 0., 0., 0., 0., 0., 0., 0., 0., 0.],\n",
              "         [0., 0., 0., 0., 0., 0., 0., 0., 0., 0.],\n",
              "         [0., 0., 0., 0., 0., 0., 0., 0., 0., 0.],\n",
              "         [0., 0., 0., 0., 0., 0., 0., 0., 0., 0.],\n",
              "         [0., 0., 0., 0., 0., 0., 0., 0., 0., 0.],\n",
              "         [0., 0., 0., 0., 0., 0., 0., 0., 0., 0.],\n",
              "         [0., 0., 0., 0., 0., 0., 0., 0., 0., 0.],\n",
              "         [0., 0., 0., 0., 0., 0., 0., 0., 0., 0.],\n",
              "         [0., 0., 0., 0., 0., 0., 0., 0., 0., 0.],\n",
              "         [0., 0., 0., 0., 0., 0., 0., 0., 0., 0.],\n",
              "         [0., 0., 0., 0., 0., 0., 0., 0., 0., 0.],\n",
              "         [0., 0., 0., 0., 0., 0., 0., 0., 0., 0.],\n",
              "         [0., 0., 0., 0., 0., 0., 0., 0., 0., 0.],\n",
              "         [0., 0., 0., 0., 0., 0., 0., 0., 0., 0.],\n",
              "         [0., 0., 0., 0., 0., 0., 0., 0., 0., 0.],\n",
              "         [0., 0., 0., 0., 0., 0., 0., 0., 0., 0.],\n",
              "         [0., 0., 0., 0., 0., 0., 0., 0., 0., 0.],\n",
              "         [0., 0., 0., 0., 0., 0., 0., 0., 0., 0.],\n",
              "         [0., 0., 0., 0., 0., 0., 0., 0., 0., 0.],\n",
              "         [0., 0., 0., 0., 0., 0., 0., 0., 0., 0.],\n",
              "         [0., 0., 0., 0., 0., 0., 0., 0., 0., 0.],\n",
              "         [0., 0., 0., 0., 0., 0., 0., 0., 0., 0.],\n",
              "         [0., 0., 0., 0., 0., 0., 0., 0., 0., 0.],\n",
              "         [0., 0., 0., 0., 0., 0., 0., 0., 0., 0.],\n",
              "         [0., 0., 0., 0., 0., 0., 0., 0., 0., 0.],\n",
              "         [0., 0., 0., 0., 0., 0., 0., 0., 0., 0.],\n",
              "         [0., 0., 0., 0., 0., 0., 0., 0., 0., 0.],\n",
              "         [0., 0., 0., 0., 0., 0., 0., 0., 0., 0.],\n",
              "         [0., 0., 0., 0., 0., 0., 0., 0., 0., 0.],\n",
              "         [0., 0., 0., 0., 0., 0., 0., 0., 0., 0.],\n",
              "         [0., 0., 0., 0., 0., 0., 0., 0., 0., 0.],\n",
              "         [0., 0., 0., 0., 0., 0., 0., 0., 0., 0.],\n",
              "         [0., 0., 0., 0., 0., 0., 0., 0., 0., 0.],\n",
              "         [0., 0., 0., 0., 0., 0., 0., 0., 0., 0.],\n",
              "         [0., 0., 0., 0., 0., 0., 0., 0., 0., 0.],\n",
              "         [0., 0., 0., 0., 0., 0., 0., 0., 0., 0.],\n",
              "         [0., 0., 0., 0., 0., 0., 0., 0., 0., 0.],\n",
              "         [0., 0., 0., 0., 0., 0., 0., 0., 0., 0.],\n",
              "         [0., 0., 0., 0., 0., 0., 0., 0., 0., 0.],\n",
              "         [0., 0., 0., 0., 0., 0., 0., 0., 0., 0.],\n",
              "         [0., 0., 0., 0., 0., 0., 0., 0., 0., 0.],\n",
              "         [0., 0., 0., 0., 0., 0., 0., 0., 0., 0.],\n",
              "         [0., 0., 0., 0., 0., 0., 0., 0., 0., 0.],\n",
              "         [0., 0., 0., 0., 0., 0., 0., 0., 0., 0.],\n",
              "         [0., 0., 0., 0., 0., 0., 0., 0., 0., 0.],\n",
              "         [0., 0., 0., 0., 0., 0., 0., 0., 0., 0.],\n",
              "         [0., 0., 0., 0., 0., 0., 0., 0., 0., 0.],\n",
              "         [0., 0., 0., 0., 0., 0., 0., 0., 0., 0.],\n",
              "         [0., 0., 0., 0., 0., 0., 0., 0., 0., 0.],\n",
              "         [0., 0., 0., 0., 0., 0., 0., 0., 0., 0.],\n",
              "         [0., 0., 0., 0., 0., 0., 0., 0., 0., 0.],\n",
              "         [0., 0., 0., 0., 0., 0., 0., 0., 0., 0.],\n",
              "         [0., 0., 0., 0., 0., 0., 0., 0., 0., 0.],\n",
              "         [0., 0., 0., 0., 0., 0., 0., 0., 0., 0.],\n",
              "         [0., 0., 0., 0., 0., 0., 0., 0., 0., 0.],\n",
              "         [0., 0., 0., 0., 0., 0., 0., 0., 0., 0.],\n",
              "         [0., 0., 0., 0., 0., 0., 0., 0., 0., 0.]]),\n",
              " '_automatic_optimization': True,\n",
              " '_strict_loading': None,\n",
              " '_current_fx_name': None,\n",
              " '_param_requires_grad_state': {},\n",
              " '_metric_attributes': None,\n",
              " '_compiler_ctx': None,\n",
              " '_fabric': None,\n",
              " '_fabric_optimizers': [],\n",
              " '_device_mesh': None,\n",
              " '_L_in': 10,\n",
              " '_L_out': 1,\n",
              " '_torchmetric': 'mean_squared_error',\n",
              " 'metric': <function torchmetrics.functional.regression.mse.mean_squared_error(preds: torch.Tensor, target: torch.Tensor, squared: bool = True, num_outputs: int = 1) -> torch.Tensor>,\n",
              " '_hparams_name': 'kwargs',\n",
              " '_hparams': \"act_fn\":         LeakyReLU()\n",
              " \"batch_norm\":     False\n",
              " \"batch_size\":     64\n",
              " \"dropout_prob\":   0.0014073672542928583\n",
              " \"epochs\":         16\n",
              " \"initialization\": kaiming_uniform\n",
              " \"l1\":             16\n",
              " \"lr_mult\":        8.589535521580487\n",
              " \"optimizer\":      Adadelta\n",
              " \"patience\":       8,\n",
              " '_hparams_initial': \"act_fn\":         LeakyReLU()\n",
              " \"batch_norm\":     False\n",
              " \"batch_size\":     64\n",
              " \"dropout_prob\":   0.0014073672542928583\n",
              " \"epochs\":         16\n",
              " \"initialization\": kaiming_uniform\n",
              " \"l1\":             16\n",
              " \"lr_mult\":        8.589535521580487\n",
              " \"optimizer\":      Adadelta\n",
              " \"patience\":       8}"
            ]
          },
          "execution_count": 25,
          "metadata": {},
          "output_type": "execute_result"
        }
      ],
      "source": [
        "# show all attributes of the model\n",
        "vars(mymodel)"
      ]
    },
    {
      "cell_type": "markdown",
      "metadata": {},
      "source": [
        "## Converting a Lightning Model to a Plain Torch Model {#sec-converting-a-lightning-model-to-a-plain-torch-model-37}\n",
        "\n",
        "### The Function `get_removed_attributes_and_base_net`\n",
        "\n",
        "`spotpython` provides a function to covert a `PyTorch Lightning` model to a plain `PyTorch` model. The function `get_removed_attributes_and_base_net` returns a tuple with the removed attributes and the base net. The base net is a plain `PyTorch` model. The removed attributes are the attributes of the `PyTorch Lightning` model that are not part of the base net.\n",
        "\n",
        "This conversion can be reverted."
      ]
    },
    {
      "cell_type": "code",
      "execution_count": 26,
      "metadata": {},
      "outputs": [],
      "source": [
        "import numpy as np\n",
        "import torch\n",
        "from spotpython.utils.device import getDevice\n",
        "from torch.utils.data import random_split\n",
        "from spotpython.utils.classes import get_removed_attributes_and_base_net\n",
        "from spotpython.hyperparameters.optimizer import optimizer_handler\n",
        "removed_attributes, torch_net = get_removed_attributes_and_base_net(net=mymodel)"
      ]
    },
    {
      "cell_type": "code",
      "execution_count": 27,
      "metadata": {},
      "outputs": [
        {
          "name": "stdout",
          "output_type": "stream",
          "text": [
            "{'_log_hyperparams': True, 'prepare_data_per_node': True, '_device_mesh': None, '_compiler_ctx': None, '_fabric_optimizers': [], '_hparams_name': 'kwargs', '_param_requires_grad_state': {}, '_dtype': torch.float32, '_device': device(type='mps', index=0), '_hparams_initial': \"act_fn\":         LeakyReLU()\n",
            "\"batch_norm\":     False\n",
            "\"batch_size\":     64\n",
            "\"dropout_prob\":   0.0014073672542928583\n",
            "\"epochs\":         16\n",
            "\"initialization\": kaiming_uniform\n",
            "\"l1\":             16\n",
            "\"lr_mult\":        8.589535521580487\n",
            "\"optimizer\":      Adadelta\n",
            "\"patience\":       8, '_fabric': None, '_torchmetric': 'mean_squared_error', '_automatic_optimization': True, '_example_input_array': tensor([[0., 0., 0., 0., 0., 0., 0., 0., 0., 0.],\n",
            "        [0., 0., 0., 0., 0., 0., 0., 0., 0., 0.],\n",
            "        [0., 0., 0., 0., 0., 0., 0., 0., 0., 0.],\n",
            "        [0., 0., 0., 0., 0., 0., 0., 0., 0., 0.],\n",
            "        [0., 0., 0., 0., 0., 0., 0., 0., 0., 0.],\n",
            "        [0., 0., 0., 0., 0., 0., 0., 0., 0., 0.],\n",
            "        [0., 0., 0., 0., 0., 0., 0., 0., 0., 0.],\n",
            "        [0., 0., 0., 0., 0., 0., 0., 0., 0., 0.],\n",
            "        [0., 0., 0., 0., 0., 0., 0., 0., 0., 0.],\n",
            "        [0., 0., 0., 0., 0., 0., 0., 0., 0., 0.],\n",
            "        [0., 0., 0., 0., 0., 0., 0., 0., 0., 0.],\n",
            "        [0., 0., 0., 0., 0., 0., 0., 0., 0., 0.],\n",
            "        [0., 0., 0., 0., 0., 0., 0., 0., 0., 0.],\n",
            "        [0., 0., 0., 0., 0., 0., 0., 0., 0., 0.],\n",
            "        [0., 0., 0., 0., 0., 0., 0., 0., 0., 0.],\n",
            "        [0., 0., 0., 0., 0., 0., 0., 0., 0., 0.],\n",
            "        [0., 0., 0., 0., 0., 0., 0., 0., 0., 0.],\n",
            "        [0., 0., 0., 0., 0., 0., 0., 0., 0., 0.],\n",
            "        [0., 0., 0., 0., 0., 0., 0., 0., 0., 0.],\n",
            "        [0., 0., 0., 0., 0., 0., 0., 0., 0., 0.],\n",
            "        [0., 0., 0., 0., 0., 0., 0., 0., 0., 0.],\n",
            "        [0., 0., 0., 0., 0., 0., 0., 0., 0., 0.],\n",
            "        [0., 0., 0., 0., 0., 0., 0., 0., 0., 0.],\n",
            "        [0., 0., 0., 0., 0., 0., 0., 0., 0., 0.],\n",
            "        [0., 0., 0., 0., 0., 0., 0., 0., 0., 0.],\n",
            "        [0., 0., 0., 0., 0., 0., 0., 0., 0., 0.],\n",
            "        [0., 0., 0., 0., 0., 0., 0., 0., 0., 0.],\n",
            "        [0., 0., 0., 0., 0., 0., 0., 0., 0., 0.],\n",
            "        [0., 0., 0., 0., 0., 0., 0., 0., 0., 0.],\n",
            "        [0., 0., 0., 0., 0., 0., 0., 0., 0., 0.],\n",
            "        [0., 0., 0., 0., 0., 0., 0., 0., 0., 0.],\n",
            "        [0., 0., 0., 0., 0., 0., 0., 0., 0., 0.],\n",
            "        [0., 0., 0., 0., 0., 0., 0., 0., 0., 0.],\n",
            "        [0., 0., 0., 0., 0., 0., 0., 0., 0., 0.],\n",
            "        [0., 0., 0., 0., 0., 0., 0., 0., 0., 0.],\n",
            "        [0., 0., 0., 0., 0., 0., 0., 0., 0., 0.],\n",
            "        [0., 0., 0., 0., 0., 0., 0., 0., 0., 0.],\n",
            "        [0., 0., 0., 0., 0., 0., 0., 0., 0., 0.],\n",
            "        [0., 0., 0., 0., 0., 0., 0., 0., 0., 0.],\n",
            "        [0., 0., 0., 0., 0., 0., 0., 0., 0., 0.],\n",
            "        [0., 0., 0., 0., 0., 0., 0., 0., 0., 0.],\n",
            "        [0., 0., 0., 0., 0., 0., 0., 0., 0., 0.],\n",
            "        [0., 0., 0., 0., 0., 0., 0., 0., 0., 0.],\n",
            "        [0., 0., 0., 0., 0., 0., 0., 0., 0., 0.],\n",
            "        [0., 0., 0., 0., 0., 0., 0., 0., 0., 0.],\n",
            "        [0., 0., 0., 0., 0., 0., 0., 0., 0., 0.],\n",
            "        [0., 0., 0., 0., 0., 0., 0., 0., 0., 0.],\n",
            "        [0., 0., 0., 0., 0., 0., 0., 0., 0., 0.],\n",
            "        [0., 0., 0., 0., 0., 0., 0., 0., 0., 0.],\n",
            "        [0., 0., 0., 0., 0., 0., 0., 0., 0., 0.],\n",
            "        [0., 0., 0., 0., 0., 0., 0., 0., 0., 0.],\n",
            "        [0., 0., 0., 0., 0., 0., 0., 0., 0., 0.],\n",
            "        [0., 0., 0., 0., 0., 0., 0., 0., 0., 0.],\n",
            "        [0., 0., 0., 0., 0., 0., 0., 0., 0., 0.],\n",
            "        [0., 0., 0., 0., 0., 0., 0., 0., 0., 0.],\n",
            "        [0., 0., 0., 0., 0., 0., 0., 0., 0., 0.],\n",
            "        [0., 0., 0., 0., 0., 0., 0., 0., 0., 0.],\n",
            "        [0., 0., 0., 0., 0., 0., 0., 0., 0., 0.],\n",
            "        [0., 0., 0., 0., 0., 0., 0., 0., 0., 0.],\n",
            "        [0., 0., 0., 0., 0., 0., 0., 0., 0., 0.],\n",
            "        [0., 0., 0., 0., 0., 0., 0., 0., 0., 0.],\n",
            "        [0., 0., 0., 0., 0., 0., 0., 0., 0., 0.],\n",
            "        [0., 0., 0., 0., 0., 0., 0., 0., 0., 0.],\n",
            "        [0., 0., 0., 0., 0., 0., 0., 0., 0., 0.]]), '_current_fx_name': None, 'metric': <function mean_squared_error at 0x3629e1620>, '_strict_loading': None, '_metric_attributes': None, '_L_in': 10, 'allow_zero_length_dataloader_with_multiple_devices': False, '_L_out': 1, '_hparams': \"act_fn\":         LeakyReLU()\n",
            "\"batch_norm\":     False\n",
            "\"batch_size\":     64\n",
            "\"dropout_prob\":   0.0014073672542928583\n",
            "\"epochs\":         16\n",
            "\"initialization\": kaiming_uniform\n",
            "\"l1\":             16\n",
            "\"lr_mult\":        8.589535521580487\n",
            "\"optimizer\":      Adadelta\n",
            "\"patience\":       8, '_trainer': None}\n"
          ]
        }
      ],
      "source": [
        "print(removed_attributes)"
      ]
    },
    {
      "cell_type": "code",
      "execution_count": 28,
      "metadata": {},
      "outputs": [
        {
          "name": "stdout",
          "output_type": "stream",
          "text": [
            "NNLinearRegressor(\n",
            "  (layers): Sequential(\n",
            "    (0): Linear(in_features=10, out_features=16, bias=True)\n",
            "    (1): LeakyReLU()\n",
            "    (2): Dropout(p=0.0014073672542928583, inplace=False)\n",
            "    (3): Linear(in_features=16, out_features=8, bias=True)\n",
            "    (4): LeakyReLU()\n",
            "    (5): Dropout(p=0.0014073672542928583, inplace=False)\n",
            "    (6): Linear(in_features=8, out_features=8, bias=True)\n",
            "    (7): LeakyReLU()\n",
            "    (8): Dropout(p=0.0014073672542928583, inplace=False)\n",
            "    (9): Linear(in_features=8, out_features=4, bias=True)\n",
            "    (10): LeakyReLU()\n",
            "    (11): Dropout(p=0.0014073672542928583, inplace=False)\n",
            "    (12): Linear(in_features=4, out_features=4, bias=True)\n",
            "    (13): LeakyReLU()\n",
            "    (14): Dropout(p=0.0014073672542928583, inplace=False)\n",
            "    (15): Linear(in_features=4, out_features=4, bias=True)\n",
            "    (16): LeakyReLU()\n",
            "    (17): Dropout(p=0.0014073672542928583, inplace=False)\n",
            "    (18): Linear(in_features=4, out_features=2, bias=True)\n",
            "    (19): LeakyReLU()\n",
            "    (20): Dropout(p=0.0014073672542928583, inplace=False)\n",
            "    (21): Linear(in_features=2, out_features=2, bias=True)\n",
            "    (22): LeakyReLU()\n",
            "    (23): Dropout(p=0.0014073672542928583, inplace=False)\n",
            "    (24): Linear(in_features=2, out_features=2, bias=True)\n",
            "    (25): LeakyReLU()\n",
            "    (26): Dropout(p=0.0014073672542928583, inplace=False)\n",
            "    (27): Linear(in_features=2, out_features=2, bias=True)\n",
            "    (28): LeakyReLU()\n",
            "    (29): Dropout(p=0.0014073672542928583, inplace=False)\n",
            "    (30): Linear(in_features=2, out_features=1, bias=True)\n",
            "  )\n",
            ")\n"
          ]
        }
      ],
      "source": [
        "print(torch_net)"
      ]
    },
    {
      "cell_type": "markdown",
      "metadata": {},
      "source": [
        "###  An Example how to use the Plain Torch Net"
      ]
    },
    {
      "cell_type": "code",
      "execution_count": 29,
      "metadata": {},
      "outputs": [
        {
          "data": {
            "image/png": "[encoded data removed]",
            "text/plain": [
              "<Figure size 640x480 with 1 Axes>"
            ]
          },
          "metadata": {},
          "output_type": "display_data"
        }
      ],
      "source": [
        "import torch\n",
        "import torch.nn as nn\n",
        "import torch.optim as optim\n",
        "from torch.utils.data import DataLoader, TensorDataset\n",
        "from sklearn.datasets import load_diabetes\n",
        "from sklearn.model_selection import train_test_split\n",
        "from sklearn.preprocessing import StandardScaler\n",
        "import matplotlib.pyplot as plt\n",
        "\n",
        "# Load the Diabetes dataset from sklearn\n",
        "diabetes = load_diabetes()\n",
        "X = diabetes.data\n",
        "y = diabetes.target\n",
        "\n",
        "# Split the dataset into training and testing sets\n",
        "X_train, X_test, y_train, y_test = train_test_split(X, y, test_size=0.2, random_state=42)\n",
        "\n",
        "# Scale the features\n",
        "scaler = StandardScaler()\n",
        "X_train = scaler.fit_transform(X_train)\n",
        "X_test = scaler.transform(X_test)\n",
        "\n",
        "# Convert the data to PyTorch tensors\n",
        "X_train_tensor = torch.tensor(X_train, dtype=torch.float32)\n",
        "y_train_tensor = torch.tensor(y_train, dtype=torch.float32)\n",
        "X_test_tensor = torch.tensor(X_test, dtype=torch.float32)\n",
        "y_test_tensor = torch.tensor(y_test, dtype=torch.float32)\n",
        "\n",
        "# Create a PyTorch dataset\n",
        "train_dataset = TensorDataset(X_train_tensor, y_train_tensor)\n",
        "test_dataset = TensorDataset(X_test_tensor, y_test_tensor)\n",
        "\n",
        "# Create a PyTorch dataloader\n",
        "batch_size = 32\n",
        "train_dataloader = DataLoader(train_dataset, batch_size=batch_size, shuffle=True)\n",
        "test_dataloader = DataLoader(test_dataset, batch_size=batch_size)\n",
        "\n",
        "torch_net.to(getDevice(\"cpu\"))\n",
        "\n",
        "# train the net\n",
        "criterion = nn.MSELoss()\n",
        "optimizer = optim.Adam(torch_net.parameters(), lr=0.01)\n",
        "n_epochs = 100\n",
        "losses = []\n",
        "for epoch in range(n_epochs):\n",
        "    for inputs, targets in train_dataloader:\n",
        "        targets = targets.view(-1, 1)\n",
        "        optimizer.zero_grad()\n",
        "        outputs = torch_net(inputs)\n",
        "        loss = criterion(outputs, targets)\n",
        "        losses.append(loss.item())\n",
        "        loss.backward()\n",
        "        optimizer.step()\n",
        "# visualize the network training\n",
        "plt.plot(losses)\n",
        "plt.xlabel(\"Epoch\")\n",
        "plt.ylabel(\"Loss\")\n",
        "plt.show()"
      ]
    }
  ],
  "metadata": {
    "kernelspec": {
      "display_name": "spot312",
      "language": "python",
      "name": "python3"
    },
    "language_info": {
      "codemirror_mode": {
        "name": "ipython",
        "version": 3
      },
      "file_extension": ".py",
      "mimetype": "text/x-python",
      "name": "python",
      "nbconvert_exporter": "python",
      "pygments_lexer": "ipython3",
      "version": "3.12.5"
    }
  },
  "nbformat": 4,
  "nbformat_minor": 4
}
