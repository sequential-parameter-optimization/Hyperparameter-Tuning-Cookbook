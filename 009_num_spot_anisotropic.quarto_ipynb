{
  "cells": [
    {
      "cell_type": "markdown",
      "metadata": {},
      "source": [
        "---\n",
        "execute:\n",
        "  cache: false\n",
        "  eval: true\n",
        "  echo: true\n",
        "  warning: false\n",
        "  keep-ipynb: true\n",
        "---\n",
        "\n",
        "\n",
        "# Isotropic and Anisotropic Kriging {#sec-iso-aniso-kriging}\n",
        "\n",
        "This chapter illustrates the difference between isotropic and anisotropic Kriging models. The difference is illustrated with the help of the `spotpython` package. Isotropic Kriging models use the same `theta` value for every dimension. Anisotropic Kriging models use different `theta` values for each dimension.\n",
        "\n",
        "## Example: Isotropic `Spot` Surrogate and the 2-dim Sphere Function {#sec-spot-2d-sphere-iso}\n"
      ],
      "id": "d3b717a9"
    },
    {
      "cell_type": "code",
      "metadata": {},
      "source": [
        "import numpy as np\n",
        "from math import inf\n",
        "from spotpython.fun.objectivefunctions import analytical\n",
        "from spotpython.spot import spot\n",
        "from spotpython.utils.init import fun_control_init, surrogate_control_init\n",
        "PREFIX=\"003\""
      ],
      "id": "64ab510e",
      "execution_count": null,
      "outputs": []
    },
    {
      "cell_type": "markdown",
      "metadata": {},
      "source": [
        "### The Objective Function: 2-dim Sphere\n",
        "\n",
        "The `spotpython` package provides several classes of objective functions. We will use an analytical objective function, i.e., a function that can be described by a (closed) formula:\n",
        "\n",
        "$$\n",
        "f(x, y) = x^2 + y^2\n",
        "$$\n",
        "The size of the `lower` bound vector determines the problem dimension. Here we will use `np.array([-1, -1])`, i.e., a two-dimensional function.\n"
      ],
      "id": "e3fbc605"
    },
    {
      "cell_type": "code",
      "metadata": {},
      "source": [
        "fun = analytical().fun_sphere\n",
        "fun_control = fun_control_init(PREFIX=PREFIX,\n",
        "                               lower = np.array([-1, -1]),\n",
        "                               upper = np.array([1, 1]))"
      ],
      "id": "d6d85ed6",
      "execution_count": null,
      "outputs": []
    },
    {
      "cell_type": "markdown",
      "metadata": {},
      "source": [
        "Although the default `spot` surrogate model is an isotropic Kriging model, we will explicitly set the `n_theta` parameter to a value of `1`, so that the same theta value is used for both dimensions.\n",
        "This is done to illustrate the difference between isotropic and anisotropic Kriging models.\n"
      ],
      "id": "27c56929"
    },
    {
      "cell_type": "code",
      "metadata": {},
      "source": [
        "surrogate_control=surrogate_control_init(n_theta=1)"
      ],
      "id": "d673f510",
      "execution_count": null,
      "outputs": []
    },
    {
      "cell_type": "code",
      "metadata": {},
      "source": [
        "spot_2 = spot.Spot(fun=fun,\n",
        "                   fun_control=fun_control,\n",
        "                   surrogate_control=surrogate_control)\n",
        "\n",
        "spot_2.run()"
      ],
      "id": "006a339a",
      "execution_count": null,
      "outputs": []
    },
    {
      "cell_type": "markdown",
      "metadata": {},
      "source": [
        "### Results\n"
      ],
      "id": "7abb6882"
    },
    {
      "cell_type": "code",
      "metadata": {},
      "source": [
        "spot_2.print_results()"
      ],
      "id": "3c598b6b",
      "execution_count": null,
      "outputs": []
    },
    {
      "cell_type": "code",
      "metadata": {},
      "source": [
        "spot_2.plot_progress(log_y=True)"
      ],
      "id": "3d0bcc5d",
      "execution_count": null,
      "outputs": []
    },
    {
      "cell_type": "markdown",
      "metadata": {},
      "source": [
        "## Example With Anisotropic Kriging\n",
        "\n",
        "As described in @sec-spot-2d-sphere-iso, the default parameter setting of `spotpython`'s Kriging surrogate uses the same `theta` value for every dimension. This is referred to as \"using an isotropic kernel\".  If different `theta` values are used for each dimension, then an anisotropic kernel is used. To enable anisotropic models in `spotpython`, the number of `theta` values should be larger than one. We can use `surrogate_control=surrogate_control_init(n_theta=2)` to enable this behavior (`2` is the problem dimension).\n"
      ],
      "id": "64a8b289"
    },
    {
      "cell_type": "code",
      "metadata": {},
      "source": [
        "surrogate_control = surrogate_control_init(n_theta=2)\n",
        "spot_2_anisotropic = spot.Spot(fun=fun,\n",
        "                    fun_control=fun_control,\n",
        "                    surrogate_control=surrogate_control)\n",
        "spot_2_anisotropic.run()"
      ],
      "id": "428a505c",
      "execution_count": null,
      "outputs": []
    },
    {
      "cell_type": "markdown",
      "metadata": {},
      "source": [
        "The search progress of the optimization with the anisotropic model can be visualized:\n"
      ],
      "id": "7208c06c"
    },
    {
      "cell_type": "code",
      "metadata": {},
      "source": [
        "spot_2_anisotropic.plot_progress(log_y=True)"
      ],
      "id": "4f95b308",
      "execution_count": null,
      "outputs": []
    },
    {
      "cell_type": "code",
      "metadata": {},
      "source": [
        "spot_2_anisotropic.print_results()"
      ],
      "id": "a3c4819c",
      "execution_count": null,
      "outputs": []
    },
    {
      "cell_type": "code",
      "metadata": {},
      "source": [
        "spot_2_anisotropic.surrogate.plot()"
      ],
      "id": "1b61af7e",
      "execution_count": null,
      "outputs": []
    },
    {
      "cell_type": "markdown",
      "metadata": {},
      "source": [
        "### Taking a Look at the `theta` Values\n",
        "\n",
        "#### `theta` Values from the `spot` Model\n",
        "\n",
        "We can check, whether one or several `theta` values were used. The `theta` values from the surrogate can be printed as follows:\n"
      ],
      "id": "cd5d1af6"
    },
    {
      "cell_type": "code",
      "metadata": {},
      "source": [
        "spot_2_anisotropic.surrogate.theta"
      ],
      "id": "59904e8e",
      "execution_count": null,
      "outputs": []
    },
    {
      "cell_type": "markdown",
      "metadata": {},
      "source": [
        "* Since the surrogate from the isotropic setting was stored as `spot_2`, we can also take a look at the `theta` value from this model:\n"
      ],
      "id": "8bb5de3d"
    },
    {
      "cell_type": "code",
      "metadata": {},
      "source": [
        "spot_2.surrogate.theta"
      ],
      "id": "d0528eb2",
      "execution_count": null,
      "outputs": []
    },
    {
      "cell_type": "markdown",
      "metadata": {},
      "source": [
        "#### TensorBoard\n",
        "\n",
        "Now we can start TensorBoard in the background with the following command:\n",
        "\n",
        "\n",
        "\n",
        "\n",
        "```{raw}\n",
        "tensorboard --logdir=\"./runs\"\n",
        "```\n",
        "\n",
        "\n",
        "\n",
        "\n",
        "We can access the TensorBoard web server with the following URL:\n",
        "\n",
        "\n",
        "\n",
        "\n",
        "```{raw}\n",
        "http://localhost:6006/\n",
        "```\n",
        "\n",
        "\n",
        "\n",
        "\n",
        "The TensorBoard plot illustrates how `spotpython` can be used as a microscope for the internal mechanisms of the surrogate-based optimization process. Here, one important parameter, the learning rate $\\theta$ of the Kriging surrogate is plotted against the number of optimization steps.\n",
        "\n",
        "![TensorBoard visualization of the spotpython surrogate model.](figures_static/03_tensorboard_03.png){width=\"100%\"}\n",
        "\n",
        "\n",
        "\n",
        "## Exercises\n",
        "\n",
        "\n",
        "### 1. The Branin Function `fun_branin`\n",
        "\n",
        "* Describe the function.\n",
        "  * The input dimension is `2`. The search range is  $-5 \\leq x_1 \\leq 10$ and $0 \\leq x_2 \\leq 15$.\n",
        "* Compare the results from `spotpython` run a) with isotropic and b) anisotropic surrogate models.\n",
        "* Modify the termination criterion: instead of the number of evaluations (which is specified via `fun_evals`), the time should be used as the termination criterion. This can be done as follows (`max_time=1` specifies a run time of one minute):\n"
      ],
      "id": "f0b96339"
    },
    {
      "cell_type": "code",
      "metadata": {},
      "source": [
        "#| eval: false\n",
        "from math import inf\n",
        "fun_control = fun_control_init(\n",
        "              fun_evals=inf,\n",
        "              max_time=1)"
      ],
      "id": "b4c76be7",
      "execution_count": null,
      "outputs": []
    },
    {
      "cell_type": "markdown",
      "metadata": {},
      "source": [
        "### 2. The Two-dimensional Sin-Cos Function `fun_sin_cos`\n",
        "\n",
        "* Describe the function.\n",
        "  *  The input dimension is `2`. The search range is  $-2\\pi \\leq x_1 \\leq 2\\pi$ and $-2\\pi \\leq x_2 \\leq 2\\pi$.\n",
        "* Compare the results from `spotpython` run a) with isotropic and b) anisotropic surrogate models.\n",
        "* Modify the termination criterion (`max_time` instead of `fun_evals`) as described for `fun_branin`.\n",
        "\n",
        "### 3. The Two-dimensional Runge Function `fun_runge`\n",
        "\n",
        "* Describe the function.\n",
        "  *  The input dimension is `2`. The search range is  $-5 \\leq x_1 \\leq 5$ and $-5 \\leq x_2 \\leq 5$.\n",
        "* Compare the results from `spotpython` run a) with isotropic and b) anisotropic surrogate models.\n",
        "* Modify the termination criterion (`max_time` instead of `fun_evals`) as described for `fun_branin`.\n",
        "\n",
        "### 4. The Ten-dimensional Wing-Weight Function `fun_wingwt`\n",
        "\n",
        "* Describe the function.\n",
        "  *  The input dimension is `10`. The search ranges are between 0 and 1 (values are mapped internally to their natural bounds).\n",
        "* Compare the results from `spotpython` run a) with isotropic and b) anisotropic surrogate models.\n",
        "* Modify the termination criterion (`max_time` instead of `fun_evals`) as described for `fun_branin`.\n",
        "\n",
        "\n",
        "### 5. The Two-dimensional Rosenbrock Function `fun_rosen` {#sec-09-exercise-rosen}\n",
        "\n",
        "* Describe the function.\n",
        "  *  The input dimension is `2`. The search ranges are between -5 and 10.\n",
        "* Compare the results from `spotpython` run a) with isotropic and b) anisotropic surrogate models.\n",
        "* Modify the termination criterion (`max_time` instead of `fun_evals`) as described for `fun_branin`.\n",
        "\n",
        "\n",
        "## Selected Solutions\n",
        "\n",
        "### Solution to Exercise @sec-09-exercise-rosen: The Two-dimensional Rosenbrock Function `fun_rosen`\n",
        "\n",
        "#### The Two Dimensional `fun_rosen`: The Isotropic Case\n"
      ],
      "id": "ba3e0eb2"
    },
    {
      "cell_type": "code",
      "metadata": {},
      "source": [
        "import numpy as np\n",
        "from spotpython.fun.objectivefunctions import analytical\n",
        "from spotpython.utils.init import fun_control_init, surrogate_control_init\n",
        "from spotpython.spot import spot"
      ],
      "id": "797bc277",
      "execution_count": null,
      "outputs": []
    },
    {
      "cell_type": "markdown",
      "metadata": {},
      "source": [
        "The `spotpython` package provides several classes of objective functions.\n",
        "We will use the `fun_rosen` in the `analytical` class [[SOURCE]](https://github.com/sequential-parameter-optimization/spotpython/blob/main/src/spotpython/fun/objectivefunctions.py).\n"
      ],
      "id": "9486c648"
    },
    {
      "cell_type": "code",
      "metadata": {},
      "source": [
        "fun_rosen = analytical().fun_rosen"
      ],
      "id": "f39b1e01",
      "execution_count": null,
      "outputs": []
    },
    {
      "cell_type": "markdown",
      "metadata": {},
      "source": [
        "Here we will use problem dimension $k=2$, which can be specified by the `lower` bound arrays.\n",
        "The size of the `lower` bound array determines the problem dimension.\n",
        "\n",
        "The prefix is set to `\"ROSEN\"` to distinguish the results from the one-dimensional case.\n",
        "Again, TensorBoard can be used to monitor the progress of the optimization.\n"
      ],
      "id": "f3375899"
    },
    {
      "cell_type": "code",
      "metadata": {},
      "source": [
        "fun_control = fun_control_init(\n",
        "              PREFIX=\"ROSEN\",\n",
        "              lower = np.array([-5, -5]),\n",
        "              upper = np.array([10, 10]),\n",
        "              show_progress=True)\n",
        "surrogate_control = surrogate_control_init(n_theta=1)\n",
        "spot_rosen = spot.Spot(fun=fun_rosen,\n",
        "                  fun_control=fun_control,\n",
        "                  surrogate_control=surrogate_control)\n",
        "spot_rosen.run()"
      ],
      "id": "a46b76d7",
      "execution_count": null,
      "outputs": []
    },
    {
      "cell_type": "markdown",
      "metadata": {},
      "source": [
        "::: {.callout-note}\n",
        "Now we can start TensorBoard in the background with the following command:\n",
        "\n",
        "\n",
        "```{raw}\n",
        "tensorboard --logdir=\"./runs\"\n",
        "```\n",
        "\n",
        "and can access the TensorBoard web server with the following URL:\n",
        "\n",
        "\n",
        "```{raw}\n",
        "http://localhost:6006/\n",
        "```\n",
        "\n",
        "::: \n",
        "\n",
        "##### Results\n"
      ],
      "id": "d5293b74"
    },
    {
      "cell_type": "code",
      "metadata": {},
      "source": [
        "_ = spot_rosen.print_results()"
      ],
      "id": "b5144108",
      "execution_count": null,
      "outputs": []
    },
    {
      "cell_type": "code",
      "metadata": {},
      "source": [
        "spot_rosen.plot_progress()"
      ],
      "id": "9a82cdc1",
      "execution_count": null,
      "outputs": []
    },
    {
      "cell_type": "markdown",
      "metadata": {},
      "source": [
        "##### A Contour Plot\n",
        "\n",
        "We can select two dimensions, say $i=0$ and $j=1$, and generate a contour plot as follows.\n"
      ],
      "id": "6d1e46e4"
    },
    {
      "cell_type": "code",
      "metadata": {},
      "source": [
        "min_z = None\n",
        "max_z = None\n",
        "spot_rosen.plot_contour(i=0, j=1, min_z=min_z, max_z=max_z)"
      ],
      "id": "68722f6f",
      "execution_count": null,
      "outputs": []
    },
    {
      "cell_type": "markdown",
      "metadata": {},
      "source": [
        "* The variable importance cannot be calculated, because only one `theta` value was used.\n",
        "\n",
        "\n",
        "##### TensorBoard\n",
        "\n",
        "TBD\n",
        "\n",
        "\n",
        "\n",
        "#### The Two Dimensional `fun_rosen`: The Anisotropic Case\n"
      ],
      "id": "e6bce7f1"
    },
    {
      "cell_type": "code",
      "metadata": {},
      "source": [
        "import numpy as np\n",
        "from spotpython.fun.objectivefunctions import analytical\n",
        "from spotpython.utils.init import fun_control_init, surrogate_control_init\n",
        "from spotpython.spot import spot"
      ],
      "id": "d8da81ab",
      "execution_count": null,
      "outputs": []
    },
    {
      "cell_type": "markdown",
      "metadata": {},
      "source": [
        "The `spotpython` package provides several classes of objective functions.\n",
        "We will use the `fun_rosen` in the `analytical` class [[SOURCE]](https://github.com/sequential-parameter-optimization/spotpython/blob/main/src/spotpython/fun/objectivefunctions.py).\n"
      ],
      "id": "0d5f80f1"
    },
    {
      "cell_type": "code",
      "metadata": {},
      "source": [
        "fun_rosen = analytical().fun_rosen"
      ],
      "id": "754d82b4",
      "execution_count": null,
      "outputs": []
    },
    {
      "cell_type": "markdown",
      "metadata": {},
      "source": [
        "Here we will use problem dimension $k=2$, which can be specified by the `lower` bound arrays.\n",
        "The size of the `lower` bound array determines the problem dimension. \n",
        "\n",
        "We can also add interpreable labels to the dimensions, which will be used in the plots. "
      ],
      "id": "8b6b5750"
    },
    {
      "cell_type": "code",
      "metadata": {},
      "source": [
        "fun_control = fun_control_init(\n",
        "              PREFIX=\"ROSEN\",\n",
        "              lower = np.array([-5, -5]),\n",
        "              upper = np.array([10, 10]),\n",
        "              show_progress=True)\n",
        "surrogate_control = surrogate_control_init(n_theta=2)\n",
        "spot_rosen = spot.Spot(fun=fun_rosen,\n",
        "                  fun_control=fun_control,\n",
        "                  surrogate_control=surrogate_control)\n",
        "spot_rosen.run()"
      ],
      "id": "5624e02f",
      "execution_count": null,
      "outputs": []
    },
    {
      "cell_type": "markdown",
      "metadata": {},
      "source": [
        "::: {.callout-note}\n",
        "Now we can start TensorBoard in the background with the following command:\n",
        "\n",
        "\n",
        "```{raw}\n",
        "tensorboard --logdir=\"./runs\"\n",
        "```\n",
        "\n",
        "and can access the TensorBoard web server with the following URL:\n",
        "\n",
        "\n",
        "```{raw}\n",
        "http://localhost:6006/\n",
        "```\n",
        "\n",
        "::: \n",
        "\n",
        "##### Results\n"
      ],
      "id": "65bd24d4"
    },
    {
      "cell_type": "code",
      "metadata": {},
      "source": [
        "_ = spot_rosen.print_results()"
      ],
      "id": "a5e6d6d0",
      "execution_count": null,
      "outputs": []
    },
    {
      "cell_type": "code",
      "metadata": {},
      "source": [
        "spot_rosen.plot_progress()"
      ],
      "id": "6e5f1e3d",
      "execution_count": null,
      "outputs": []
    },
    {
      "cell_type": "markdown",
      "metadata": {},
      "source": [
        "##### A Contour Plot\n",
        "\n",
        "We can select two dimensions, say $i=0$ and $j=1$, and generate a contour plot as follows.\n"
      ],
      "id": "ed6ea443"
    },
    {
      "cell_type": "code",
      "metadata": {},
      "source": [
        "min_z = None\n",
        "max_z = None\n",
        "spot_rosen.plot_contour(i=0, j=1, min_z=min_z, max_z=max_z)"
      ],
      "id": "d52e2817",
      "execution_count": null,
      "outputs": []
    },
    {
      "cell_type": "markdown",
      "metadata": {},
      "source": [
        "* The variable importance can be calculated as follows:\n"
      ],
      "id": "87fcdf79"
    },
    {
      "cell_type": "code",
      "metadata": {},
      "source": [
        "_ = spot_rosen.print_importance()"
      ],
      "id": "1b6297c5",
      "execution_count": null,
      "outputs": []
    },
    {
      "cell_type": "code",
      "metadata": {},
      "source": [
        "spot_rosen.plot_importance()"
      ],
      "id": "28c58e78",
      "execution_count": null,
      "outputs": []
    },
    {
      "cell_type": "markdown",
      "metadata": {},
      "source": [
        "##### TensorBoard\n",
        "\n",
        "TBD\n",
        "\n",
        "\n",
        "\n",
        "## Jupyter Notebook\n",
        "\n",
        ":::{.callout-note}\n",
        "\n",
        "* The Jupyter-Notebook of this lecture is available on GitHub in the [Hyperparameter-Tuning-Cookbook Repository](https://github.com/sequential-parameter-optimization/Hyperparameter-Tuning-Cookbook/blob/main/009_num_spot_anisotropic.ipynb)\n",
        "\n",
        ":::\n"
      ],
      "id": "46f8e6a3"
    }
  ],
  "metadata": {
    "kernelspec": {
      "display_name": "Python 3",
      "language": "python",
      "name": "python3"
    }
  },
  "nbformat": 4,
  "nbformat_minor": 5
}