{
 "cells": [
  {
   "cell_type": "markdown",
   "id": "41e4d2ff",
   "metadata": {},
   "source": [
    "# Isotropic and Anisotropic Kriging {#sec-iso-aniso-kriging}\n",
    "\n",
    "This chapter illustrates the difference between isotropic and anisotropic Kriging models. The difference is illustrated with the help of the `spotPython` package. Isotropic Kriging models use the same `theta` value for every dimension. Anisotropic Kriging models use different `theta` values for each dimension.\n",
    "\n",
    "## Example: Isotropic `Spot` Surrogate and the 2-dim Sphere Function\n"
   ]
  },
  {
   "cell_type": "code",
   "execution_count": 1,
   "id": "a8dfa7d6",
   "metadata": {},
   "outputs": [],
   "source": [
    "import numpy as np\n",
    "from math import inf\n",
    "from spotPython.fun.objectivefunctions import analytical\n",
    "from spotPython.spot import spot\n",
    "from spotPython.utils.init import fun_control_init, surrogate_control_init\n",
    "PREFIX=\"003\""
   ]
  },
  {
   "cell_type": "markdown",
   "id": "8535791f",
   "metadata": {},
   "source": [
    "### The Objective Function: 2-dim Sphere\n",
    "\n",
    "* The `spotPython` package provides several classes of objective functions.\n",
    "* We will use an analytical objective function, i.e., a function that can be described by a (closed) formula:\n",
    "   $$f(x, y) = x^2 + y^2$$\n",
    "* The size of the `lower` bound vector determines the problem dimension.\n",
    "* Here we will use `np.array([-1, -1])`, i.e., a two-dim function.\n"
   ]
  },
  {
   "cell_type": "code",
   "execution_count": 2,
   "id": "d23e376a",
   "metadata": {},
   "outputs": [],
   "source": [
    "fun = analytical().fun_sphere\n",
    "fun_control = fun_control_init(PREFIX=PREFIX,\n",
    "                               lower = np.array([-1, -1]),\n",
    "                               upper = np.array([1, 1]))"
   ]
  },
  {
   "cell_type": "markdown",
   "id": "a88de96e",
   "metadata": {},
   "source": [
    "* Although the default `spot` surrogate model is an isotropic Kriging model, we will explicitly set the `theta` parameter to a value of `1` for both dimensions. This is done to illustrate the difference between isotropic and anisotropic Kriging models.\n"
   ]
  },
  {
   "cell_type": "code",
   "execution_count": 3,
   "id": "723adebd",
   "metadata": {},
   "outputs": [],
   "source": [
    "surrogate_control=surrogate_control_init(n_theta=1)"
   ]
  },
  {
   "cell_type": "code",
   "execution_count": 4,
   "id": "64822805",
   "metadata": {},
   "outputs": [],
   "source": [
    "spot_2 = spot.Spot(fun=fun,\n",
    "                   fun_control=fun_control,\n",
    "                   surrogate_control=surrogate_control)\n",
    "\n",
    "spot_2.run()"
   ]
  },
  {
   "cell_type": "markdown",
   "id": "339cefd0",
   "metadata": {},
   "source": [
    "### Results\n"
   ]
  },
  {
   "cell_type": "code",
   "execution_count": 5,
   "id": "dd4749bf",
   "metadata": {},
   "outputs": [],
   "source": [
    "spot_2.print_results()"
   ]
  },
  {
   "cell_type": "code",
   "execution_count": 6,
   "id": "089bb0e4",
   "metadata": {},
   "outputs": [],
   "source": [
    "spot_2.plot_progress(log_y=True)"
   ]
  },
  {
   "cell_type": "markdown",
   "id": "3d47cc56",
   "metadata": {},
   "source": [
    "## Example With Anisotropic Kriging\n",
    "\n",
    "* The default parameter setting of `spotPython`'s Kriging surrogate uses the same `theta` value for every dimension.\n",
    "* This is referred to as \"using an isotropic kernel\". \n",
    "* If different `theta` values are used for each dimension, then an anisotropic kernel is used\n",
    "* To enable anisotropic models in `spotPython`, the number of `theta` values should be larger than one.\n",
    "* We can use `surrogate_control={\"n_theta\": 2}` to enable this behavior (`2` is the problem dimension).\n"
   ]
  },
  {
   "cell_type": "code",
   "execution_count": 7,
   "id": "95a21e9f",
   "metadata": {},
   "outputs": [],
   "source": [
    "surrogate_control = surrogate_control_init(n_theta=2)\n",
    "spot_2_anisotropic = spot.Spot(fun=fun,\n",
    "                    fun_control=fun_control,\n",
    "                    surrogate_control=surrogate_control)\n",
    "spot_2_anisotropic.run()"
   ]
  },
  {
   "cell_type": "markdown",
   "id": "c4163c71",
   "metadata": {},
   "source": [
    "* The search progress of the optimization with the anisotropic model can be visualized:\n"
   ]
  },
  {
   "cell_type": "code",
   "execution_count": 8,
   "id": "d26e5399",
   "metadata": {},
   "outputs": [],
   "source": [
    "spot_2_anisotropic.plot_progress(log_y=True)"
   ]
  },
  {
   "cell_type": "code",
   "execution_count": 9,
   "id": "8916700b",
   "metadata": {},
   "outputs": [],
   "source": [
    "spot_2_anisotropic.print_results()"
   ]
  },
  {
   "cell_type": "code",
   "execution_count": 10,
   "id": "f34a94de",
   "metadata": {},
   "outputs": [],
   "source": [
    "spot_2_anisotropic.surrogate.plot()"
   ]
  },
  {
   "cell_type": "markdown",
   "id": "89d70c96",
   "metadata": {},
   "source": [
    "### Taking a Look at the `theta` Values\n",
    "\n",
    "#### `theta` Values from the `spot` Model\n",
    "\n",
    "* We can check, whether one or several `theta` values were used.\n",
    "* The `theta` values from the surrogate can be printed as follows:\n"
   ]
  },
  {
   "cell_type": "code",
   "execution_count": 11,
   "id": "c9634ad0",
   "metadata": {},
   "outputs": [],
   "source": [
    "spot_2_anisotropic.surrogate.theta"
   ]
  },
  {
   "cell_type": "markdown",
   "id": "787d6ef4",
   "metadata": {},
   "source": [
    "* Since the surrogate from the isotropic setting was stored as `spot_2`, we can also take a look at the `theta` value from this model:\n"
   ]
  },
  {
   "cell_type": "code",
   "execution_count": 12,
   "id": "2b1ce65a",
   "metadata": {},
   "outputs": [],
   "source": [
    "spot_2.surrogate.theta"
   ]
  },
  {
   "cell_type": "markdown",
   "id": "00e42439",
   "metadata": {},
   "source": [
    "#### TensorBoard\n",
    "\n",
    "Now we can start TensorBoard in the background with the following command:\n",
    "\n",
    "\n",
    "\n",
    "\n",
    "\n",
    "```{raw}\n",
    "tensorboard --logdir=\"./runs\"\n",
    "```\n",
    "\n",
    "\n",
    "\n",
    "\n",
    "\n",
    "We can access the TensorBoard web server with the following URL:\n",
    "\n",
    "\n",
    "\n",
    "\n",
    "\n",
    "```{raw}\n",
    "http://localhost:6006/\n",
    "```\n",
    "\n",
    "\n",
    "\n",
    "\n",
    "\n",
    "The TensorBoard plot illustrates how `spotPython` can be used as a microscope for the internal mechanisms of the surrogate-based optimization process. Here, one important parameter, the learning rate $\\theta$ of the Kriging surrogate is plotted against the number of optimization steps.\n",
    "\n",
    "![TensorBoard visualization of the spotPython surrogate model.](figures_static/03_tensorboard_03.png){width=\"100%\"}\n",
    "\n",
    "\n",
    "\n",
    "## Exercises\n",
    "\n",
    "\n",
    "###  `fun_branin`\n",
    "\n",
    "* Describe the function.\n",
    "  * The input dimension is `2`. The search range is  $-5 \\leq x_1 \\leq 10$ and $0 \\leq x_2 \\leq 15$.\n",
    "* Compare the results from `spotPython` run a) with isotropic and b) anisotropic surrogate models.\n",
    "* Modify the termination criterion: instead of the number of evaluations (which is specified via `fun_evals`), the time should be used as the termination criterion. This can be done as follows (`max_time=1` specifies a run time of one minute):\n"
   ]
  },
  {
   "cell_type": "code",
   "execution_count": 13,
   "id": "f7de5acb",
   "metadata": {},
   "outputs": [],
   "source": [
    "fun_evals=inf,\n",
    "max_time=1,"
   ]
  },
  {
   "cell_type": "markdown",
   "id": "12f5c130",
   "metadata": {},
   "source": [
    "### `fun_sin_cos`\n",
    "\n",
    "* Describe the function.\n",
    "  *  The input dimension is `2`. The search range is  $-2\\pi \\leq x_1 \\leq 2\\pi$ and $-2\\pi \\leq x_2 \\leq 2\\pi$.\n",
    "* Compare the results from `spotPython` run a) with isotropic and b) anisotropic surrogate models.\n",
    "* Modify the termination criterion (`max_time` instead of `fun_evals`) as described for `fun_branin`.\n",
    "\n",
    "###  `fun_runge`\n",
    "\n",
    "* Describe the function.\n",
    "  *  The input dimension is `2`. The search range is  $-5 \\leq x_1 \\leq 5$ and $-5 \\leq x_2 \\leq 5$.\n",
    "* Compare the results from `spotPython` run a) with isotropic and b) anisotropic surrogate models.\n",
    "* Modify the termination criterion (`max_time` instead of `fun_evals`) as described for `fun_branin`.\n",
    "\n",
    "###  `fun_wingwt`\n",
    "\n",
    "* Describe the function.\n",
    "  *  The input dimension is `10`. The search ranges are between 0 and 1 (values are mapped internally to their natural bounds).\n",
    "* Compare the results from `spotPython` run a) with isotropic and b) anisotropic surrogate models.\n",
    "* Modify the termination criterion (`max_time` instead of `fun_evals`) as described for `fun_branin`.\n",
    "\n",
    "\n",
    "\n",
    "\n",
    "## Jupyter Notebook\n",
    "\n",
    ":::{.callout-note}\n",
    "\n",
    "* The Jupyter-Notebook of this lecture is available on GitHub in the [Hyperparameter-Tuning-Cookbook Repository](https://github.com/sequential-parameter-optimization/Hyperparameter-Tuning-Cookbook/blob/main/009_num_spot_anisotropic.ipynb)\n",
    "\n",
    ":::\n"
   ]
  }
 ],
 "metadata": {
  "kernelspec": {
   "display_name": "Python 3 (ipykernel)",
   "language": "python",
   "name": "python3"
  },
  "language_info": {
   "codemirror_mode": {
    "name": "ipython",
    "version": 3
   },
   "file_extension": ".py",
   "mimetype": "text/x-python",
   "name": "python",
   "nbconvert_exporter": "python",
   "pygments_lexer": "ipython3",
   "version": "3.11.7"
  }
 },
 "nbformat": 4,
 "nbformat_minor": 5
}
