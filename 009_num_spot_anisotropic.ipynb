{
  "cells": [
    {
      "cell_type": "raw",
      "metadata": {},
      "source": [
        "---\n",
        "execute:\n",
        "  cache: false\n",
        "  eval: true\n",
        "  echo: true\n",
        "  warning: false\n",
        "  keep-ipynb: true\n",
        "---"
      ],
      "id": "3f0a0a23"
    },
    {
      "cell_type": "markdown",
      "metadata": {},
      "source": [
        "# Isotropic and Anisotropic Kriging {#sec-iso-aniso-kriging}\n",
        "\n",
        "This chapter illustrates the difference between isotropic and anisotropic Kriging models. The difference is illustrated with the help of the `spotPython` package. Isotropic Kriging models use the same `theta` value for every dimension. Anisotropic Kriging models use different `theta` values for each dimension.\n",
        "\n",
        "## Example: Isotropic `Spot` Surrogate and the 2-dim Sphere Function {#sec-spot-2d-sphere-iso}\n"
      ],
      "id": "40a61a3a"
    },
    {
      "cell_type": "code",
      "metadata": {},
      "source": [
        "import numpy as np\n",
        "from math import inf\n",
        "from spotPython.fun.objectivefunctions import analytical\n",
        "from spotPython.spot import spot\n",
        "from spotPython.utils.init import fun_control_init, surrogate_control_init\n",
        "PREFIX=\"003\""
      ],
      "id": "b615f135",
      "execution_count": null,
      "outputs": []
    },
    {
      "cell_type": "markdown",
      "metadata": {},
      "source": [
        "### The Objective Function: 2-dim Sphere\n",
        "\n",
        "The `spotPython` package provides several classes of objective functions. We will use an analytical objective function, i.e., a function that can be described by a (closed) formula:\n",
        "\n",
        "$$\n",
        "f(x, y) = x^2 + y^2\n",
        "$$\n",
        "The size of the `lower` bound vector determines the problem dimension. Here we will use `np.array([-1, -1])`, i.e., a two-dimensional function.\n"
      ],
      "id": "5ec2c080"
    },
    {
      "cell_type": "code",
      "metadata": {},
      "source": [
        "fun = analytical().fun_sphere\n",
        "fun_control = fun_control_init(PREFIX=PREFIX,\n",
        "                               lower = np.array([-1, -1]),\n",
        "                               upper = np.array([1, 1]))"
      ],
      "id": "b5e577cc",
      "execution_count": null,
      "outputs": []
    },
    {
      "cell_type": "markdown",
      "metadata": {},
      "source": [
        "Although the default `spot` surrogate model is an isotropic Kriging model, we will explicitly set the `n_theta` parameter to a value of `1`, so that the same theta value is used for both dimensions.\n",
        "This is done to illustrate the difference between isotropic and anisotropic Kriging models.\n"
      ],
      "id": "a61ac515"
    },
    {
      "cell_type": "code",
      "metadata": {},
      "source": [
        "surrogate_control=surrogate_control_init(n_theta=1)"
      ],
      "id": "9c8b84f3",
      "execution_count": null,
      "outputs": []
    },
    {
      "cell_type": "code",
      "metadata": {},
      "source": [
        "spot_2 = spot.Spot(fun=fun,\n",
        "                   fun_control=fun_control,\n",
        "                   surrogate_control=surrogate_control)\n",
        "\n",
        "spot_2.run()"
      ],
      "id": "0ac8e565",
      "execution_count": null,
      "outputs": []
    },
    {
      "cell_type": "markdown",
      "metadata": {},
      "source": [
        "### Results\n"
      ],
      "id": "47e9fd0f"
    },
    {
      "cell_type": "code",
      "metadata": {},
      "source": [
        "spot_2.print_results()"
      ],
      "id": "e8ffb331",
      "execution_count": null,
      "outputs": []
    },
    {
      "cell_type": "code",
      "metadata": {},
      "source": [
        "spot_2.plot_progress(log_y=True)"
      ],
      "id": "e6612ee8",
      "execution_count": null,
      "outputs": []
    },
    {
      "cell_type": "markdown",
      "metadata": {},
      "source": [
        "## Example With Anisotropic Kriging\n",
        "\n",
        "As described in @sec-spot-2d-sphere-iso, the default parameter setting of `spotPython`'s Kriging surrogate uses the same `theta` value for every dimension. This is referred to as \"using an isotropic kernel\".  If different `theta` values are used for each dimension, then an anisotropic kernel is used. To enable anisotropic models in `spotPython`, the number of `theta` values should be larger than one. We can use `surrogate_control=surrogate_control_init(n_theta=2)` to enable this behavior (`2` is the problem dimension).\n"
      ],
      "id": "83bea1b6"
    },
    {
      "cell_type": "code",
      "metadata": {},
      "source": [
        "surrogate_control = surrogate_control_init(n_theta=2)\n",
        "spot_2_anisotropic = spot.Spot(fun=fun,\n",
        "                    fun_control=fun_control,\n",
        "                    surrogate_control=surrogate_control)\n",
        "spot_2_anisotropic.run()"
      ],
      "id": "f10d3625",
      "execution_count": null,
      "outputs": []
    },
    {
      "cell_type": "markdown",
      "metadata": {},
      "source": [
        "The search progress of the optimization with the anisotropic model can be visualized:\n"
      ],
      "id": "699a52f1"
    },
    {
      "cell_type": "code",
      "metadata": {},
      "source": [
        "spot_2_anisotropic.plot_progress(log_y=True)"
      ],
      "id": "c564255d",
      "execution_count": null,
      "outputs": []
    },
    {
      "cell_type": "code",
      "metadata": {},
      "source": [
        "spot_2_anisotropic.print_results()"
      ],
      "id": "bf4e7b4c",
      "execution_count": null,
      "outputs": []
    },
    {
      "cell_type": "code",
      "metadata": {},
      "source": [
        "spot_2_anisotropic.surrogate.plot()"
      ],
      "id": "c2a9e2a0",
      "execution_count": null,
      "outputs": []
    },
    {
      "cell_type": "markdown",
      "metadata": {},
      "source": [
        "### Taking a Look at the `theta` Values\n",
        "\n",
        "#### `theta` Values from the `spot` Model\n",
        "\n",
        "We can check, whether one or several `theta` values were used. The `theta` values from the surrogate can be printed as follows:\n"
      ],
      "id": "dcf1c3bf"
    },
    {
      "cell_type": "code",
      "metadata": {},
      "source": [
        "spot_2_anisotropic.surrogate.theta"
      ],
      "id": "8c20a1d8",
      "execution_count": null,
      "outputs": []
    },
    {
      "cell_type": "markdown",
      "metadata": {},
      "source": [
        "* Since the surrogate from the isotropic setting was stored as `spot_2`, we can also take a look at the `theta` value from this model:\n"
      ],
      "id": "9e7e0f69"
    },
    {
      "cell_type": "code",
      "metadata": {},
      "source": [
        "spot_2.surrogate.theta"
      ],
      "id": "2730790e",
      "execution_count": null,
      "outputs": []
    },
    {
      "cell_type": "markdown",
      "metadata": {},
      "source": [
        "#### TensorBoard\n",
        "\n",
        "Now we can start TensorBoard in the background with the following command:\n",
        "\n",
        "\n",
        "\n",
        "\n",
        "\n",
        "```{raw}\n",
        "tensorboard --logdir=\"./runs\"\n",
        "```\n",
        "\n",
        "\n",
        "\n",
        "\n",
        "\n",
        "We can access the TensorBoard web server with the following URL:\n",
        "\n",
        "\n",
        "\n",
        "\n",
        "\n",
        "```{raw}\n",
        "http://localhost:6006/\n",
        "```\n",
        "\n",
        "\n",
        "\n",
        "\n",
        "\n",
        "The TensorBoard plot illustrates how `spotPython` can be used as a microscope for the internal mechanisms of the surrogate-based optimization process. Here, one important parameter, the learning rate $\\theta$ of the Kriging surrogate is plotted against the number of optimization steps.\n",
        "\n",
        "![TensorBoard visualization of the spotPython surrogate model.](figures_static/03_tensorboard_03.png){width=\"100%\"}\n",
        "\n",
        "\n",
        "\n",
        "## Exercises\n",
        "\n",
        "\n",
        "### 1. The Branin Function `fun_branin`\n",
        "\n",
        "* Describe the function.\n",
        "  * The input dimension is `2`. The search range is  $-5 \\leq x_1 \\leq 10$ and $0 \\leq x_2 \\leq 15$.\n",
        "* Compare the results from `spotPython` run a) with isotropic and b) anisotropic surrogate models.\n",
        "* Modify the termination criterion: instead of the number of evaluations (which is specified via `fun_evals`), the time should be used as the termination criterion. This can be done as follows (`max_time=1` specifies a run time of one minute):\n"
      ],
      "id": "3c83f7c1"
    },
    {
      "cell_type": "code",
      "metadata": {},
      "source": [
        "#| eval: false\n",
        "from math import inf\n",
        "fun_control = fun_control_init(\n",
        "              fun_evals=inf,\n",
        "              max_time=1)"
      ],
      "id": "263f9aaf",
      "execution_count": null,
      "outputs": []
    },
    {
      "cell_type": "markdown",
      "metadata": {},
      "source": [
        "### 2. The Two-dimensional Sin-Cos Function `fun_sin_cos`\n",
        "\n",
        "* Describe the function.\n",
        "  *  The input dimension is `2`. The search range is  $-2\\pi \\leq x_1 \\leq 2\\pi$ and $-2\\pi \\leq x_2 \\leq 2\\pi$.\n",
        "* Compare the results from `spotPython` run a) with isotropic and b) anisotropic surrogate models.\n",
        "* Modify the termination criterion (`max_time` instead of `fun_evals`) as described for `fun_branin`.\n",
        "\n",
        "### 3. The Two-dimensional Runge Function `fun_runge`\n",
        "\n",
        "* Describe the function.\n",
        "  *  The input dimension is `2`. The search range is  $-5 \\leq x_1 \\leq 5$ and $-5 \\leq x_2 \\leq 5$.\n",
        "* Compare the results from `spotPython` run a) with isotropic and b) anisotropic surrogate models.\n",
        "* Modify the termination criterion (`max_time` instead of `fun_evals`) as described for `fun_branin`.\n",
        "\n",
        "### 4. The Ten-dimensional Wing-Weight Function `fun_wingwt`\n",
        "\n",
        "* Describe the function.\n",
        "  *  The input dimension is `10`. The search ranges are between 0 and 1 (values are mapped internally to their natural bounds).\n",
        "* Compare the results from `spotPython` run a) with isotropic and b) anisotropic surrogate models.\n",
        "* Modify the termination criterion (`max_time` instead of `fun_evals`) as described for `fun_branin`.\n",
        "\n",
        "\n",
        "### 5. The Two-dimensional Rosenbrock Function `fun_rosen` {#sec-09-exercise-rosen}\n",
        "\n",
        "* Describe the function.\n",
        "  *  The input dimension is `2`. The search ranges are between -5 and 10.\n",
        "* Compare the results from `spotPython` run a) with isotropic and b) anisotropic surrogate models.\n",
        "* Modify the termination criterion (`max_time` instead of `fun_evals`) as described for `fun_branin`.\n",
        "\n",
        "\n",
        "## Selected Solutions\n",
        "\n",
        "### Solution to Exercise @sec-09-exercise-rosen: The Two-dimensional Rosenbrock Function `fun_rosen`\n",
        "\n",
        "#### The Two Dimensional `fun_rosen`: The Isotropic Case\n"
      ],
      "id": "25999e93"
    },
    {
      "cell_type": "code",
      "metadata": {},
      "source": [
        "import numpy as np\n",
        "from spotPython.fun.objectivefunctions import analytical\n",
        "from spotPython.utils.init import fun_control_init, surrogate_control_init\n",
        "from spotPython.spot import spot"
      ],
      "id": "958e8095",
      "execution_count": null,
      "outputs": []
    },
    {
      "cell_type": "markdown",
      "metadata": {},
      "source": [
        "The `spotPython` package provides several classes of objective functions.\n",
        "We will use the `fun_rosen` in the `analytical` class [[SOURCE]](https://github.com/sequential-parameter-optimization/spotPython/blob/main/src/spotPython/fun/objectivefunctions.py).\n"
      ],
      "id": "ae130a5e"
    },
    {
      "cell_type": "code",
      "metadata": {},
      "source": [
        "fun_rosen = analytical().fun_rosen"
      ],
      "id": "05000189",
      "execution_count": null,
      "outputs": []
    },
    {
      "cell_type": "markdown",
      "metadata": {},
      "source": [
        "Here we will use problem dimension $k=2$, which can be specified by the `lower` bound arrays.\n",
        "The size of the `lower` bound array determines the problem dimension.\n",
        "\n",
        "The prefix is set to `\"ROSEN\"` to distinguish the results from the one-dimensional case.\n",
        "Again, TensorBoard can be used to monitor the progress of the optimization.\n"
      ],
      "id": "5e2fd9d8"
    },
    {
      "cell_type": "code",
      "metadata": {},
      "source": [
        "fun_control = fun_control_init(\n",
        "              PREFIX=\"ROSEN\",\n",
        "              lower = np.array([-5, -5]),\n",
        "              upper = np.array([10, 10]),\n",
        "              show_progress=True)\n",
        "surrogate_control = surrogate_control_init(n_theta=1)\n",
        "spot_rosen = spot.Spot(fun=fun_rosen,\n",
        "                  fun_control=fun_control,\n",
        "                  surrogate_control=surrogate_control)\n",
        "spot_rosen.run()"
      ],
      "id": "92114a64",
      "execution_count": null,
      "outputs": []
    },
    {
      "cell_type": "markdown",
      "metadata": {},
      "source": [
        "::: {.callout-note}\n",
        "Now we can start TensorBoard in the background with the following command:\n",
        "\n",
        "\n",
        "\n",
        "```{raw}\n",
        "tensorboard --logdir=\"./runs\"\n",
        "```\n",
        "\n",
        "\n",
        "and can access the TensorBoard web server with the following URL:\n",
        "\n",
        "\n",
        "\n",
        "```{raw}\n",
        "http://localhost:6006/\n",
        "```\n",
        "\n",
        "\n",
        "::: \n",
        "\n",
        "##### Results\n"
      ],
      "id": "2e1308e5"
    },
    {
      "cell_type": "code",
      "metadata": {},
      "source": [
        "_ = spot_rosen.print_results()"
      ],
      "id": "c2510082",
      "execution_count": null,
      "outputs": []
    },
    {
      "cell_type": "code",
      "metadata": {},
      "source": [
        "spot_rosen.plot_progress()"
      ],
      "id": "efdf1f9e",
      "execution_count": null,
      "outputs": []
    },
    {
      "cell_type": "markdown",
      "metadata": {},
      "source": [
        "##### A Contour Plot\n",
        "\n",
        "We can select two dimensions, say $i=0$ and $j=1$, and generate a contour plot as follows.\n"
      ],
      "id": "e5ea5ca5"
    },
    {
      "cell_type": "code",
      "metadata": {},
      "source": [
        "min_z = None\n",
        "max_z = None\n",
        "spot_rosen.plot_contour(i=0, j=1, min_z=min_z, max_z=max_z)"
      ],
      "id": "a3e1bf49",
      "execution_count": null,
      "outputs": []
    },
    {
      "cell_type": "markdown",
      "metadata": {},
      "source": [
        "* The variable importance cannot be calculated, because only one `theta` value was used.\n",
        "\n",
        "\n",
        "##### TensorBoard\n",
        "\n",
        "TBD\n",
        "\n",
        "\n",
        "\n",
        "#### The Two Dimensional `fun_rosen`: The Anisotropic Case\n"
      ],
      "id": "c14d6fd2"
    },
    {
      "cell_type": "code",
      "metadata": {},
      "source": [
        "import numpy as np\n",
        "from spotPython.fun.objectivefunctions import analytical\n",
        "from spotPython.utils.init import fun_control_init, surrogate_control_init\n",
        "from spotPython.spot import spot"
      ],
      "id": "24a3d011",
      "execution_count": null,
      "outputs": []
    },
    {
      "cell_type": "markdown",
      "metadata": {},
      "source": [
        "The `spotPython` package provides several classes of objective functions.\n",
        "We will use the `fun_rosen` in the `analytical` class [[SOURCE]](https://github.com/sequential-parameter-optimization/spotPython/blob/main/src/spotPython/fun/objectivefunctions.py).\n"
      ],
      "id": "4a849d70"
    },
    {
      "cell_type": "code",
      "metadata": {},
      "source": [
        "fun_rosen = analytical().fun_rosen"
      ],
      "id": "92c03828",
      "execution_count": null,
      "outputs": []
    },
    {
      "cell_type": "markdown",
      "metadata": {},
      "source": [
        "Here we will use problem dimension $k=2$, which can be specified by the `lower` bound arrays.\n",
        "The size of the `lower` bound array determines the problem dimension. \n",
        "\n",
        "We can also add interpreable labels to the dimensions, which will be used in the plots. \n"
      ],
      "id": "f8bcf3e2"
    },
    {
      "cell_type": "code",
      "metadata": {},
      "source": [
        "fun_control = fun_control_init(\n",
        "              PREFIX=\"ROSEN\",\n",
        "              lower = np.array([-5, -5]),\n",
        "              upper = np.array([10, 10]),\n",
        "              show_progress=True)\n",
        "surrogate_control = surrogate_control_init(n_theta=2)\n",
        "spot_rosen = spot.Spot(fun=fun_rosen,\n",
        "                  fun_control=fun_control,\n",
        "                  surrogate_control=surrogate_control)\n",
        "spot_rosen.run()"
      ],
      "id": "ea33d9e6",
      "execution_count": null,
      "outputs": []
    },
    {
      "cell_type": "markdown",
      "metadata": {},
      "source": [
        "::: {.callout-note}\n",
        "Now we can start TensorBoard in the background with the following command:\n",
        "\n",
        "\n",
        "\n",
        "```{raw}\n",
        "tensorboard --logdir=\"./runs\"\n",
        "```\n",
        "\n",
        "\n",
        "and can access the TensorBoard web server with the following URL:\n",
        "\n",
        "\n",
        "\n",
        "```{raw}\n",
        "http://localhost:6006/\n",
        "```\n",
        "\n",
        "\n",
        "::: \n",
        "\n",
        "##### Results\n"
      ],
      "id": "f86a9264"
    },
    {
      "cell_type": "code",
      "metadata": {},
      "source": [
        "_ = spot_rosen.print_results()"
      ],
      "id": "0aff1a59",
      "execution_count": null,
      "outputs": []
    },
    {
      "cell_type": "code",
      "metadata": {},
      "source": [
        "spot_rosen.plot_progress()"
      ],
      "id": "f3c4cb4d",
      "execution_count": null,
      "outputs": []
    },
    {
      "cell_type": "markdown",
      "metadata": {},
      "source": [
        "##### A Contour Plot\n",
        "\n",
        "We can select two dimensions, say $i=0$ and $j=1$, and generate a contour plot as follows.\n"
      ],
      "id": "94e696dc"
    },
    {
      "cell_type": "code",
      "metadata": {},
      "source": [
        "min_z = None\n",
        "max_z = None\n",
        "spot_rosen.plot_contour(i=0, j=1, min_z=min_z, max_z=max_z)"
      ],
      "id": "76f715fb",
      "execution_count": null,
      "outputs": []
    },
    {
      "cell_type": "markdown",
      "metadata": {},
      "source": [
        "* The variable importance can be calculated as follows:\n"
      ],
      "id": "e4f0e557"
    },
    {
      "cell_type": "code",
      "metadata": {},
      "source": [
        "_ = spot_rosen.print_importance()"
      ],
      "id": "4b9fe7eb",
      "execution_count": null,
      "outputs": []
    },
    {
      "cell_type": "code",
      "metadata": {},
      "source": [
        "spot_rosen.plot_importance()"
      ],
      "id": "b2f91e0e",
      "execution_count": null,
      "outputs": []
    },
    {
      "cell_type": "markdown",
      "metadata": {},
      "source": [
        "##### TensorBoard\n",
        "\n",
        "TBD\n",
        "\n",
        "\n",
        "\n",
        "## Jupyter Notebook\n",
        "\n",
        ":::{.callout-note}\n",
        "\n",
        "* The Jupyter-Notebook of this lecture is available on GitHub in the [Hyperparameter-Tuning-Cookbook Repository](https://github.com/sequential-parameter-optimization/Hyperparameter-Tuning-Cookbook/blob/main/009_num_spot_anisotropic.ipynb)\n",
        "\n",
        ":::\n"
      ],
      "id": "9abd3ef4"
    }
  ],
  "metadata": {
    "kernelspec": {
      "name": "python3",
      "language": "python",
      "display_name": "Python 3 (ipykernel)"
    }
  },
  "nbformat": 4,
  "nbformat_minor": 5
}