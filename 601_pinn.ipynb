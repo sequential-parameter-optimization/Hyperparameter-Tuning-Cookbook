{
  "cells": [
    {
      "cell_type": "markdown",
      "metadata": {},
      "source": [
        "---\n",
        "execute:\n",
        "  cache: false\n",
        "  eval: true\n",
        "  echo: true\n",
        "  warning: false\n",
        "jupyter: python3\n",
        "---\n",
        "\n",
        "# Physics Informed Neural Networks {#sec-pinn-601}\n",
        "\n",
        "## PINNs"
      ]
    },
    {
      "cell_type": "code",
      "metadata": {},
      "source": [
        "#| label: import_601_pinns\n",
        "import torch\n",
        "import numpy as np\n",
        "import torch.nn as nn\n",
        "import torch.optim as optim\n",
        "import torch.utils.data as thdat\n",
        "import functools\n",
        "import matplotlib.pyplot as plt\n",
        "import seaborn as sns\n",
        "\n",
        "sns.set_theme()\n",
        "torch.manual_seed(42)\n",
        "\n",
        "DEVICE = torch.device(\"cuda\" if torch.cuda.is_available() else \"cpu\")\n",
        "\n",
        "# boundaries for the frequency range\n",
        "a = 0\n",
        "b = 500"
      ],
      "execution_count": null,
      "outputs": []
    },
    {
      "cell_type": "markdown",
      "metadata": {},
      "source": [
        "## Generation and Visualization of the Training Data and the Ground Truth (Function)\n",
        "\n",
        "* Definition of the (unknown) differential equation:"
      ]
    },
    {
      "cell_type": "code",
      "metadata": {},
      "source": [
        "#| label: ode_601_pinns\n",
        "def ode(frequency, loc, sigma, R):\n",
        "    \"\"\"Computes the amplitude. Defining equation, used\n",
        "    to generate data and train models.\n",
        "    The equation itself is not known to the model.\n",
        "\n",
        "    Args:\n",
        "        frequency: (N,) array-like\n",
        "        loc: float\n",
        "        sigma: float\n",
        "        R: float\n",
        "    \n",
        "    Returns:\n",
        "        (N,) array-like\n",
        "    \n",
        "    Examples:\n",
        "        >>> ode(0, 25, 100, 0.005)\n",
        "        100.0\n",
        "    \"\"\"\n",
        "    A = np.exp(-R * (frequency - loc)**2/sigma**2)\n",
        "    return A"
      ],
      "execution_count": null,
      "outputs": []
    },
    {
      "cell_type": "markdown",
      "metadata": {},
      "source": [
        "* Setting the parameters for the ode"
      ]
    },
    {
      "cell_type": "code",
      "metadata": {},
      "source": [
        "#| label: parameters_601_pinns\n",
        "np.random.seed(10)\n",
        "loc = 250\n",
        "sigma = 100\n",
        "R = 0.5"
      ],
      "execution_count": null,
      "outputs": []
    },
    {
      "cell_type": "markdown",
      "metadata": {},
      "source": [
        "* Generating the data"
      ]
    },
    {
      "cell_type": "code",
      "metadata": {},
      "source": [
        "#| label: amp_data_601_pinns\n",
        "frequencies = np.linspace(a, b, 1000)\n",
        "eq = functools.partial(ode, loc=loc, sigma=sigma, R=R)\n",
        "amplitudes = eq(frequencies)"
      ],
      "execution_count": null,
      "outputs": []
    },
    {
      "cell_type": "markdown",
      "metadata": {},
      "source": [
        "* Now we have the ground truth for the full frequency range and can take a look at the first 10 values:"
      ]
    },
    {
      "cell_type": "code",
      "metadata": {},
      "source": [
        "#| label: first_10_601_pinns\n",
        "import pandas as pd\n",
        "df = pd.DataFrame({'Frequency': frequencies[:10], 'Amplitude': amplitudes[:10]})\n",
        "print(df)"
      ],
      "execution_count": null,
      "outputs": []
    },
    {
      "cell_type": "markdown",
      "metadata": {},
      "source": [
        "* We generate the training data as a subset of the full frequency range and add some noise:"
      ]
    },
    {
      "cell_type": "code",
      "metadata": {},
      "source": [
        "#| label: training_data_601_pinns\n",
        "t = np.linspace(a, 2*b/3, 10)\n",
        "A = eq(t) +  0.2 * np.random.randn(10)"
      ],
      "execution_count": null,
      "outputs": []
    },
    {
      "cell_type": "markdown",
      "metadata": {},
      "source": [
        "* Plot of the training data and the ground truth:"
      ]
    },
    {
      "cell_type": "code",
      "metadata": {},
      "source": [
        "#| label: fig-plot_data_601_pinns\n",
        "plt.plot(frequencies, amplitudes)\n",
        "plt.plot(t, A, 'o')\n",
        "plt.legend(['Equation (ground truth)', 'Training data'])\n",
        "plt.ylabel('Amplitude')\n",
        "plt.xlabel('Frequency')"
      ],
      "execution_count": null,
      "outputs": []
    },
    {
      "cell_type": "markdown",
      "metadata": {},
      "source": [
        "## Gradient With Autograd"
      ]
    },
    {
      "cell_type": "code",
      "metadata": {},
      "source": [
        "#| label: autograd_601_pinns\n",
        "def grad(outputs, inputs):\n",
        "    \"\"\"Computes the partial derivative of \n",
        "    an output with respect to an input.\n",
        "\n",
        "    Args:\n",
        "        outputs: (N, 1) tensor\n",
        "        inputs: (N, D) tensor\n",
        "\n",
        "    Returns:\n",
        "        (N, D) tensor\n",
        "    \n",
        "    Examples:\n",
        "        >>> x = torch.tensor([1.0, 2.0, 3.0], requires_grad=True)\n",
        "        >>> y = x**2\n",
        "        >>> grad(y, x)\n",
        "        tensor([2., 4., 6.])\n",
        "    \"\"\"\n",
        "    return torch.autograd.grad(\n",
        "        outputs, inputs, grad_outputs=torch.ones_like(outputs), create_graph=True\n",
        "    )"
      ],
      "execution_count": null,
      "outputs": []
    },
    {
      "cell_type": "markdown",
      "metadata": {},
      "source": [
        "* Autograd example:"
      ]
    },
    {
      "cell_type": "code",
      "metadata": {},
      "source": [
        "#| label: autograd_example_601_pinns\n",
        "x = torch.tensor([1.0, 2.0, 3.0], requires_grad=True)\n",
        "y = x**2\n",
        "grad(y, x)"
      ],
      "execution_count": null,
      "outputs": []
    },
    {
      "cell_type": "markdown",
      "metadata": {},
      "source": [
        "## Network"
      ]
    },
    {
      "cell_type": "code",
      "metadata": {},
      "source": [
        "#| label: numpy2torch_601_pinns\n",
        "def numpy2torch(x):\n",
        "    \"\"\"Converts a numpy array to a pytorch tensor.\n",
        "\n",
        "    Args:\n",
        "        x: (N, D) array-like\n",
        "\n",
        "    Returns:\n",
        "        (N, D) tensor\n",
        "\n",
        "    Examples:\n",
        "        >>> numpy2torch(np.array([1,2,3]))\n",
        "        tensor([1., 2., 3.])\n",
        "    \"\"\"\n",
        "    n_samples = len(x)\n",
        "    return torch.from_numpy(x).to(torch.float).to(DEVICE).reshape(n_samples, -1)"
      ],
      "execution_count": null,
      "outputs": []
    },
    {
      "cell_type": "code",
      "metadata": {},
      "source": [
        "#| label: Net_601_pinns\n",
        "class Net(nn.Module):\n",
        "    def __init__(\n",
        "        self,\n",
        "        input_dim,\n",
        "        output_dim,\n",
        "        n_units=100,\n",
        "        epochs=1000,\n",
        "        loss=nn.MSELoss(),\n",
        "        lr=1e-3,\n",
        "        loss2=None,\n",
        "        loss2_weight=0.1,\n",
        "    ) -> None:\n",
        "        super().__init__()\n",
        "\n",
        "        self.epochs = epochs\n",
        "        self.loss = loss\n",
        "        self.loss2 = loss2\n",
        "        self.loss2_weight = loss2_weight\n",
        "        self.lr = lr\n",
        "        self.n_units = n_units\n",
        "\n",
        "        self.layers = nn.Sequential(\n",
        "            nn.Linear(input_dim, self.n_units),\n",
        "            nn.ReLU(),\n",
        "            nn.Linear(self.n_units, self.n_units),\n",
        "            nn.ReLU(),\n",
        "            nn.Linear(self.n_units, self.n_units),\n",
        "            nn.ReLU(),\n",
        "            nn.Linear(self.n_units, self.n_units),\n",
        "            nn.ReLU(),\n",
        "        )\n",
        "        self.out = nn.Linear(self.n_units, output_dim)\n",
        "\n",
        "    def forward(self, x):\n",
        "        h = self.layers(x)\n",
        "        out = self.out(h)\n",
        "        return out\n",
        "\n",
        "    def fit(self, X, y):\n",
        "        Xt = numpy2torch(X)\n",
        "        yt = numpy2torch(y)\n",
        "\n",
        "        optimiser = optim.Adam(self.parameters(), lr=self.lr)\n",
        "        self.train()\n",
        "        losses = []\n",
        "        for ep in range(self.epochs):\n",
        "            optimiser.zero_grad()\n",
        "            outputs = self.forward(Xt)\n",
        "            loss = self.loss(yt, outputs)\n",
        "            if self.loss2:\n",
        "                loss += self.loss2_weight + self.loss2_weight * self.loss2(self)\n",
        "            loss.backward()\n",
        "            optimiser.step()\n",
        "            losses.append(loss.item())\n",
        "            if ep % int(self.epochs / 10) == 0:\n",
        "                print(f\"Epoch {ep}/{self.epochs}, loss: {losses[-1]:.2f}\")\n",
        "        return losses\n",
        "\n",
        "    def predict(self, X):\n",
        "        self.eval()\n",
        "        out = self.forward(numpy2torch(X))\n",
        "        return out.detach().cpu().numpy()"
      ],
      "execution_count": null,
      "outputs": []
    },
    {
      "cell_type": "markdown",
      "metadata": {},
      "source": [
        "* Extended network for parameter estimation of parameter `r`:"
      ]
    },
    {
      "cell_type": "code",
      "metadata": {},
      "source": [
        "#| label: PINNParam_601_pinns_ext\n",
        "class PINNParam(Net):\n",
        "    def __init__(\n",
        "        self,\n",
        "        input_dim,\n",
        "        output_dim,\n",
        "        n_units=100,\n",
        "        epochs=1000,\n",
        "        loss=nn.MSELoss(),\n",
        "        lr=0.001,\n",
        "        loss2=None,\n",
        "        loss2_weight=0.1,\n",
        "    ) -> None:\n",
        "        super().__init__(\n",
        "            input_dim, output_dim, n_units, epochs, loss, lr, loss2, loss2_weight\n",
        "        )\n",
        "\n",
        "        self.r = nn.Parameter(data=torch.tensor([1.]))\n",
        "        self.sigma = nn.Parameter(data=torch.tensor([100.]))\n",
        "        self.loc = nn.Parameter(data=torch.tensor([100.]))"
      ],
      "execution_count": null,
      "outputs": []
    },
    {
      "cell_type": "markdown",
      "metadata": {},
      "source": [
        "## Basic Neutral Network\n",
        "\n",
        "* Network without regularization:"
      ]
    },
    {
      "cell_type": "code",
      "metadata": {},
      "source": [
        "#| label: fig-net_601_pinns_wo_reg\n",
        "net = Net(1,1, loss2=None, epochs=2000, lr=1e-5).to(DEVICE)\n",
        "\n",
        "losses = net.fit(t, A)\n",
        "\n",
        "plt.plot(losses)\n",
        "plt.yscale('log')"
      ],
      "execution_count": null,
      "outputs": []
    },
    {
      "cell_type": "markdown",
      "metadata": {},
      "source": [
        "* Adding L2 regularization:"
      ]
    },
    {
      "cell_type": "code",
      "metadata": {},
      "source": [
        "#| label: l2_reg_601_pinns_reg\n",
        "def l2_reg(model: torch.nn.Module):\n",
        "    \"\"\"L2 regularization for the model parameters.\n",
        "\n",
        "    Args:\n",
        "        model: torch.nn.Module\n",
        "\n",
        "    Returns:\n",
        "        torch.Tensor\n",
        "\n",
        "    Examples:\n",
        "        >>> l2_reg(Net(1,1))\n",
        "        tensor(0.0001, grad_fn=<SumBackward0>)\n",
        "    \"\"\"\n",
        "    return torch.sum(sum([p.pow(2.) for p in model.parameters()]))"
      ],
      "execution_count": null,
      "outputs": []
    },
    {
      "cell_type": "code",
      "metadata": {},
      "source": [
        "#| label: fig-net_601_pinns_reg\n",
        "netreg = Net(1,1, loss2=l2_reg, epochs=20000, lr=1e-5, loss2_weight=.1).to(DEVICE)\n",
        "losses = netreg.fit(t, A)\n",
        "plt.plot(losses)\n",
        "plt.yscale('log')"
      ],
      "execution_count": null,
      "outputs": []
    },
    {
      "cell_type": "code",
      "metadata": {},
      "source": [
        "#| label: fig-plot_results_601_pinns\n",
        "predsreg = netreg.predict(frequencies)\n",
        "preds = net.predict(frequencies)\n",
        "plt.plot(frequencies, amplitudes, alpha=0.8)\n",
        "plt.plot(t, A, 'o')\n",
        "plt.plot(frequencies, preds, alpha=0.8)\n",
        "plt.plot(frequencies, predsreg, alpha=0.8)\n",
        "\n",
        "plt.legend(labels=['Equation','Training data', 'Network', 'L2 Regularization Network'])\n",
        "plt.ylabel('Amplitude')\n",
        "plt.xlabel('Frequency')"
      ],
      "execution_count": null,
      "outputs": []
    },
    {
      "cell_type": "markdown",
      "metadata": {},
      "source": [
        "## PINNs\n",
        "\n",
        "* Calculate the physics-informed loss (similar to the L2 regularization):"
      ]
    },
    {
      "cell_type": "code",
      "metadata": {},
      "source": [
        "#| label: physics_loss_601_pinns\n",
        "def physics_loss(model: torch.nn.Module):\n",
        "    \"\"\"Computes the physics-informed loss for the model.\n",
        "\n",
        "    Args:\n",
        "        model: torch.nn.Module\n",
        "\n",
        "    Returns:\n",
        "        torch.Tensor\n",
        "\n",
        "    Examples:\n",
        "        >>> physics_loss(Net(1,1))\n",
        "        tensor(0.0001, grad_fn=<MeanBackward0>)\n",
        "    \"\"\"\n",
        "    ts = torch.linspace(a, b, steps=1000).view(-1,1).requires_grad_(True).to(DEVICE)\n",
        "    amplitudes = model(ts)\n",
        "    dT = grad(amplitudes, ts)[0]\n",
        "    ode = -2*R*(ts-loc)/ sigma**2 * amplitudes - dT\n",
        "    return torch.mean(ode**2)"
      ],
      "execution_count": null,
      "outputs": []
    },
    {
      "cell_type": "markdown",
      "metadata": {},
      "source": [
        "* Train the network with the physics-informed loss and plot the training error:"
      ]
    },
    {
      "cell_type": "code",
      "metadata": {},
      "source": [
        "#| label: fig-net_601_pinns_pinn_plot_loss\n",
        "net_pinn = Net(1,1, loss2=physics_loss, epochs=2000, loss2_weight=1, lr=1e-5).to(DEVICE)\n",
        "losses = net_pinn.fit(t, A)\n",
        "plt.plot(losses)\n",
        "plt.yscale('log')"
      ],
      "execution_count": null,
      "outputs": []
    },
    {
      "cell_type": "markdown",
      "metadata": {},
      "source": [
        "* Predict the amplitude and plot the results:"
      ]
    },
    {
      "cell_type": "code",
      "metadata": {},
      "source": [
        "#| label: fig-net_601_pinns_pinn_plot_results\n",
        "preds_pinn = net_pinn.predict(frequencies)\n",
        "plt.plot(frequencies, amplitudes, alpha=0.8)\n",
        "plt.plot(t, A, 'o')\n",
        "plt.plot(frequencies, preds, alpha=0.8)\n",
        "plt.plot(frequencies, predsreg, alpha=0.8)\n",
        "plt.plot(frequencies, preds_pinn, alpha=0.8)\n",
        "plt.legend(labels=['Equation','Training data', 'NN', \"R2\", 'PINN'])\n",
        "plt.ylabel('Amplitude')\n",
        "plt.xlabel('Frequency')"
      ],
      "execution_count": null,
      "outputs": []
    },
    {
      "cell_type": "markdown",
      "metadata": {},
      "source": [
        "### PINNs: Parameter Estimation"
      ]
    },
    {
      "cell_type": "code",
      "metadata": {},
      "source": [
        "#| label: pinn_param_601_pinns_param_est\n",
        "def physics_loss_estimation(model: torch.nn.Module):\n",
        "    ts = torch.linspace(a, b, steps=1000,).view(-1,1).requires_grad_(True).to(DEVICE)\n",
        "    amplitudes = model(ts)\n",
        "    dT = grad(amplitudes, ts)[0]\n",
        "    ode = -2*model.r*(ts-model.loc)/ (model.sigma)**2 * amplitudes - dT\n",
        "    return torch.mean(ode**2)"
      ],
      "execution_count": null,
      "outputs": []
    },
    {
      "cell_type": "code",
      "metadata": {},
      "source": [
        "#| label: fig-pinn_param_601_pinns_param_est\n",
        "pinn_param = PINNParam(1, 1, loss2=physics_loss_estimation, loss2_weight=1, epochs=4000, lr= 5e-6).to(DEVICE)\n",
        "losses = pinn_param.fit(t, A)\n",
        "plt.plot(losses)\n",
        "plt.yscale('log')"
      ],
      "execution_count": null,
      "outputs": []
    },
    {
      "cell_type": "code",
      "metadata": {},
      "source": [
        "#| label: print-pinn_param_601_pinns_param_est_plot_results\n",
        "preds_disc = pinn_param.predict(frequencies)\n",
        "print(f\"Estimated r: {pinn_param.r}\")\n",
        "print(f\"Estimated sigma: {pinn_param.sigma}\")\n",
        "print(f\"Estimated loc: {pinn_param.loc}\")"
      ],
      "execution_count": null,
      "outputs": []
    },
    {
      "cell_type": "code",
      "metadata": {},
      "source": [
        "#| label: fig-pinn_param_601_pinns_param_est_plot_results\n",
        "plt.plot(frequencies, amplitudes, alpha=0.8)\n",
        "plt.plot(t, A, 'o')\n",
        "plt.plot(frequencies, preds_disc, alpha=0.8)\n",
        "plt.legend(labels=['Equation','Training data', 'estimation PINN'])\n",
        "plt.ylabel('Amplitude')\n",
        "plt.xlabel('Frequency')"
      ],
      "execution_count": null,
      "outputs": []
    },
    {
      "cell_type": "code",
      "metadata": {},
      "source": [
        "#| label: fig-pinn_param_601_pinns_param_est_amplitude\n",
        "plt.plot(frequencies, amplitudes, alpha=0.8)\n",
        "plt.plot(t, A, 'o')\n",
        "plt.plot(frequencies, preds, alpha=0.8)\n",
        "plt.plot(frequencies, predsreg, alpha=0.8)\n",
        "plt.plot(frequencies, preds_pinn, alpha=0.8)\n",
        "plt.plot(frequencies, preds_disc, alpha=0.8)\n",
        "plt.legend(labels=['Equation','Training data', 'NN', \"R2\", 'PINN', 'paramPINN'])\n",
        "plt.ylabel('Amplitude')\n",
        "plt.xlabel('Frequency')"
      ],
      "execution_count": null,
      "outputs": []
    },
    {
      "cell_type": "code",
      "metadata": {},
      "source": [
        "#| label: fig-pinn_param_601_pinns_param_est_plot_results_all\n",
        "plt.plot(frequencies, amplitudes, alpha=0.8)\n",
        "plt.plot(t, A, 'o')\n",
        "plt.plot(frequencies, preds, alpha=0.8)\n",
        "plt.plot(frequencies, predsreg, alpha=0.8)\n",
        "plt.plot(frequencies, preds_disc, alpha=0.8)\n",
        "plt.legend(labels=['Equation','Training data', 'NN', \"R2\", 'paramPINN'])\n",
        "plt.ylabel('Amplitude')\n",
        "plt.xlabel('Frequency')"
      ],
      "execution_count": null,
      "outputs": []
    },
    {
      "cell_type": "code",
      "metadata": {},
      "source": [
        "#| label: fig-pinn_param_601_pinns_param_ground\n",
        "plt.plot(frequencies, amplitudes, alpha=0.8)\n",
        "plt.plot(t, A, 'o')\n",
        "plt.plot(frequencies, preds, alpha=0.8)\n",
        "plt.plot(frequencies, predsreg, alpha=0.8)\n",
        "plt.plot(frequencies, preds_disc, alpha=0.8)\n",
        "plt.legend(labels=['Grundwahrheit','Trainingsdaten', 'NN', \"NN+R2\", 'PINN'])\n",
        "plt.ylabel('Amplitude')\n",
        "plt.xlabel('Frequenz')\n",
        "# save the plot as a pdf\n",
        "plt.savefig('pinns.pdf')\n",
        "plt.savefig('pinns.png')"
      ],
      "execution_count": null,
      "outputs": []
    },
    {
      "cell_type": "markdown",
      "metadata": {},
      "source": [
        "## Summary\n",
        "\n",
        "* Results strongly depend on the parametrization(s)\n",
        "* PINN parameter estimation not robust\n",
        "* Hyperparameter tuning is crucial\n",
        "* Use SPOT before further analysis is done\n"
      ]
    }
  ],
  "metadata": {
    "kernelspec": {
      "name": "python3",
      "language": "python",
      "display_name": "Python 3 (ipykernel)",
      "path": "/Users/bartz/miniforge3/envs/spot312/share/jupyter/kernels/python3"
    }
  },
  "nbformat": 4,
  "nbformat_minor": 4
}