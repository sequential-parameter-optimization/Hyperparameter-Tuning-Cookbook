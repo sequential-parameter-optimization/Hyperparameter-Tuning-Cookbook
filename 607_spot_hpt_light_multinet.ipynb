{
  "cells": [
    {
      "cell_type": "markdown",
      "metadata": {},
      "source": [
        "---\n",
        "execute:\n",
        "  cache: false\n",
        "  eval: true\n",
        "  echo: true\n",
        "  warning: false\n",
        "title: Hyperparameter Tuning with `spotpython` and `PyTorch` Lightning Using a MultiNet Model\n",
        "jupyter: python3\n",
        "---"
      ]
    },
    {
      "cell_type": "code",
      "metadata": {},
      "source": [
        "#| label: 606_user-user-imports\n",
        "#| echo: false\n",
        "import os\n",
        "from math import inf\n",
        "import warnings\n",
        "warnings.filterwarnings(\"ignore\")"
      ],
      "execution_count": null,
      "outputs": []
    },
    {
      "cell_type": "markdown",
      "metadata": {},
      "source": [
        "* First, we generate an 80-dim dataframe with 10000 samples, where the first two columns are random integers and the rest are random floats.\n",
        "* Then, we generate a target variable as the sum of the squared values.\n",
        "* The dataframe is converted to a tensor and split into a training, validation, and testing set. The corresponding data loaders are created."
      ]
    },
    {
      "cell_type": "code",
      "metadata": {},
      "source": [
        "import pandas as pd\n",
        "import numpy as np\n",
        "import torch\n",
        "from torch.utils.data import TensorDataset\n",
        "from torch.utils.data import DataLoader\n",
        "from torch.utils.data import random_split\n",
        "np.random.seed(42)\n",
        "n_samples = 10_000\n",
        "n_int = 2\n",
        "n_float = 76\n",
        "input_dim = n_int + n_float\n",
        "output_dim = 1\n",
        "data = np.random.rand(n_samples, n_float)\n",
        "data = np.hstack((np.random.randint(0, 10, (n_samples, n_int)), data))\n",
        "df = pd.DataFrame(data)\n",
        "df['y'] = np.sum(df.iloc[:, 2:]**2, axis=1)\n",
        "df.head()\n",
        "X = torch.tensor(df.iloc[:, :-1].values, dtype=torch.float32)\n",
        "y = torch.tensor(df.iloc[:, -1].values, dtype=torch.float32)\n",
        "dataset = TensorDataset(X, y)\n",
        "print(f\"Dataset with input tensor shape: {dataset.tensors[0].shape}\")\n",
        "print(f\"Dataset with target tensor shape: {dataset.tensors[1].shape}\")\n",
        "# print(dataset[0][0])\n",
        "# print(dataset[0][1])\n",
        "train_size_0 = int(0.8 * len(dataset))\n",
        "train_size = int(0.8 * train_size_0)\n",
        "val_size = train_size_0 - train_size\n",
        "test_size = len(dataset) - train_size_0\n",
        "train_dataset_0, test_dataset = random_split(dataset, [train_size_0, test_size])\n",
        "train_dataset, val_dataset = random_split(train_dataset_0, [train_size, val_size])\n",
        "BATCH_SIZE = 128\n",
        "train_loader = DataLoader(train_dataset, batch_size=BATCH_SIZE, shuffle=True)\n",
        "val_loader = DataLoader(val_dataset, batch_size=BATCH_SIZE, shuffle=False)\n",
        "test_loader = DataLoader(test_dataset, batch_size=BATCH_SIZE, shuffle=False)"
      ],
      "execution_count": null,
      "outputs": []
    },
    {
      "cell_type": "markdown",
      "metadata": {},
      "source": [
        "* We define a standard neural network which will be used as the base model for the MultiNet model."
      ]
    },
    {
      "cell_type": "code",
      "metadata": {},
      "source": [
        "from spotpython.light.regression import NNLinearRegressor\n",
        "from torch import nn\n",
        "import lightning as L\n",
        "batch_x, batch_y = next(iter(train_loader))\n",
        "print(batch_x.shape)\n",
        "print(batch_y.shape)\n",
        "net_light_base = NNLinearRegressor(l1=128,\n",
        "                                    batch_norm=True,\n",
        "                                    epochs=10,\n",
        "                                    batch_size=BATCH_SIZE,\n",
        "                                    initialization='xavier',\n",
        "                                    act_fn=nn.ReLU(),\n",
        "                                    optimizer='Adam',\n",
        "                                    dropout_prob=0.1,\n",
        "                                    lr_mult=0.1,\n",
        "                                    patience=5,\n",
        "                                    _L_in=input_dim,\n",
        "                                    _L_out=output_dim,\n",
        "                                    _torchmetric=\"mean_squared_error\",)\n",
        "trainer = L.Trainer(max_epochs=2,  enable_progress_bar=True)\n",
        "trainer.fit(net_light_base, train_loader)\n",
        "trainer.validate(net_light_base, val_loader)\n",
        "trainer.test(net_light_base, test_loader)"
      ],
      "execution_count": null,
      "outputs": []
    }
  ],
  "metadata": {
    "kernelspec": {
      "name": "python3",
      "language": "python",
      "display_name": "Python 3 (ipykernel)",
      "path": "/Users/bartz/miniforge3/envs/spot313/share/jupyter/kernels/python3"
    }
  },
  "nbformat": 4,
  "nbformat_minor": 4
}