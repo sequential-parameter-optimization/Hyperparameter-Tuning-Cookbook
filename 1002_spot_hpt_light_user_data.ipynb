{
  "cells": [
    {
      "cell_type": "markdown",
      "metadata": {},
      "source": [
        "---\n",
        "execute:\n",
        "  cache: false\n",
        "  eval: true\n",
        "  echo: true\n",
        "  warning: false\n",
        "jupyter: python3\n",
        "---\n",
        "\n",
        "# Hyperparameter Tuning with PyTorch Lightning and User Data Sets  {#sec-light-user-data-1001}"
      ]
    },
    {
      "cell_type": "code",
      "execution_count": 1,
      "metadata": {},
      "outputs": [
        {
          "name": "stderr",
          "output_type": "stream",
          "text": [
            "Seed set to 123\n"
          ]
        }
      ],
      "source": [
        "#| echo: false\n",
        "#| label: 1001_user_data_imports\n",
        "import numpy as np\n",
        "import os\n",
        "from math import inf\n",
        "import numpy as np\n",
        "import warnings\n",
        "import torch\n",
        "import torch.nn as nn\n",
        "import matplotlib.pyplot as plt\n",
        "from torch.utils.data import DataLoader\n",
        "from sklearn.preprocessing import StandardScaler, MinMaxScaler\n",
        "import pandas as pd\n",
        "import pickle\n",
        "import matplotlib.pyplot as plt\n",
        "\n",
        "from spotpython.hyperdict.light_hyper_dict import LightHyperDict\n",
        "from spotpython.fun.hyperlight import HyperLight\n",
        "from spotpython.utils.init import (fun_control_init, surrogate_control_init, design_control_init)\n",
        "from spotpython.utils.eda import print_res_table\n",
        "from spotpython.hyperparameters.values import set_hyperparameter\n",
        "from spotpython.spot import Spot\n",
        "from math import inf\n",
        "warnings.filterwarnings(\"ignore\")"
      ]
    },
    {
      "cell_type": "markdown",
      "metadata": {},
      "source": [
        "## Creating thr Data "
      ]
    },
    {
      "cell_type": "code",
      "execution_count": 2,
      "metadata": {},
      "outputs": [],
      "source": [
        "# epochs = 2000\n",
        "# seeds = [42, 43, 44, 45, 46, 47, 48, 49, 50, 51]\n",
        "data = pd.read_csv(\"/Users/bartz/workspace/schu25a_netgen_gecco/data/data_man_tca88.csv\")\n",
        "data[\"source_file\"] = [\"tca88\"] * len(data)"
      ]
    },
    {
      "cell_type": "code",
      "execution_count": 3,
      "metadata": {},
      "outputs": [],
      "source": [
        "\n",
        "from spotpython.data.manydataset import ManyToManyDataset\n",
        "\n"
      ]
    },
    {
      "cell_type": "code",
      "execution_count": 4,
      "metadata": {},
      "outputs": [
        {
          "name": "stdout",
          "output_type": "stream",
          "text": [
            "kennlinienfeld: tca88\n",
            "tca88\n",
            "seed: 42\n"
          ]
        }
      ],
      "source": [
        "\n",
        "def load_data(data,\n",
        "              input_features=['V tot V red [m³/s]'], \n",
        "              target= 'PI tot V [-]' ,\n",
        "              drop = ['Bereich u2red','source_file'],\n",
        "              group_by='Bereich u2red',\n",
        "              feature_scaling=None, \n",
        "              target_scaling=None, \n",
        "              create_dataset=True, \n",
        "              dataset_type='many_to_many'):\n",
        "\n",
        "    if feature_scaling is not None:\n",
        "        data[input_features] = feature_scaling.fit_transform(data[input_features])\n",
        "    \n",
        "    if target_scaling is not None:\n",
        "        data[target] = target_scaling.fit_transform(data[target])    \n",
        "    \n",
        "    if create_dataset == False:\n",
        "        return data\n",
        "    else:\n",
        "        groups = []\n",
        "        groups_name = []\n",
        "        data_groups = data.groupby(group_by)\n",
        "\n",
        "    for name, group in data_groups:\n",
        "        groups.append(group)\n",
        "        groups_name.append(name)\n",
        "    \n",
        "    if dataset_type == 'many_to_many':\n",
        "        return ManyToManyDataset(groups, target=target, drop=drop), data\n",
        "    elif dataset_type == \"many_to_one\":\n",
        "        return ManyToOneDataset(groups, target=target, drop=drop), data\n",
        "kennlinienfelder = data.groupby(\"source_file\")\n",
        "pred_dict = {}\n",
        "\n",
        "seeds = [42]\n",
        "for kennlinienfeld in kennlinienfelder:\n",
        "    print(f\"kennlinienfeld: {kennlinienfeld[0]}\")\n",
        "    data_name = kennlinienfeld[0]\n",
        "    print(data_name)\n",
        "    ds, data = ds, _ = load_data(kennlinienfeld[1], \n",
        "                                input_features=['PI tot V [-]' ], \n",
        "                                target='V tot V red [m³/s]',\n",
        "                                drop = ['source_file', \"Bereich u2red\"],\n",
        "                                group_by=\"Bereich u2red\",\n",
        "                                # feature_scaling=MinMaxScaler()\n",
        "                                )\n",
        "    \n",
        "    pred_dict[data_name] = {}\n",
        "\n",
        "    for seed in seeds:\n",
        "        print(f\"seed: {seed}\")\n",
        "        # seed_everything(seed)\n",
        "        g = torch.Generator()\n",
        "        g.manual_seed(seed)\n",
        "        \n",
        "        pred_dict[data_name][seed] = {}\n",
        "        pred_dict[data_name][seed]['x'] = []\n",
        "        pred_dict[data_name][seed]['y_hat'] = []\n",
        "        pred_dict[data_name][seed]['y'] = []\n",
        "        pred_dict[data_name][seed]['mape'] = []\n",
        "        pred_dict[data_name][seed]['rmse'] = []\n",
        "        \n",
        "        # Create indices for the split\n",
        "        indices = list(range(len(ds)))        \n",
        "        for i in indices:\n",
        "            test_indices = [indices[i]]\n",
        "            train_indices = [index for index in indices if index != test_indices[0]]\n",
        "            \n",
        "            train_dataset = torch.utils.data.Subset(ds, train_indices)\n",
        "            test_dataset = torch.utils.data.Subset(ds, test_indices)"
      ]
    },
    {
      "cell_type": "markdown",
      "metadata": {},
      "source": [
        "## Preparing the spotpyhon Run"
      ]
    },
    {
      "cell_type": "code",
      "execution_count": 5,
      "metadata": {},
      "outputs": [
        {
          "name": "stderr",
          "output_type": "stream",
          "text": [
            "Seed set to 123\n"
          ]
        },
        {
          "name": "stdout",
          "output_type": "stream",
          "text": [
            "module_name: light\n",
            "submodule_name: regression\n",
            "model_name: ManyToManyRNNRegressor\n",
            "No tensorboard log created.\n",
            "Experiment saved to 1003_exp.pkl\n"
          ]
        }
      ],
      "source": [
        "fun_control=fun_control_init(\n",
        "    penalty_NA=200,\n",
        "    ocba_delta=1,\n",
        "    TENSORBOARD_CLEAN=False,\n",
        "    tensorboard_log=False,\n",
        "    accelerator=\"cpu\",\n",
        "    collate_fn_name=\"PadSequenceManyToMany\",\n",
        "    show_config=True,\n",
        "    verbosity=1,\n",
        "    save_experiment=True,\n",
        "    save_result=True,\n",
        "    PREFIX=\"1003\",\n",
        "    fun_evals=inf,\n",
        "    fun_repeats=2,\n",
        "    max_time=1,\n",
        "    data_full_train = train_dataset,\n",
        "    data_val=test_dataset,\n",
        "    data_test=test_dataset,\n",
        "    shuffle_train=False,\n",
        "    shuffle_val=False,    \n",
        "    core_model_name=\"light.regression.ManyToManyRNNRegressor\",\n",
        "    hyperdict=LightHyperDict,\n",
        "    log_level=50,\n",
        "    _L_in=1,\n",
        "    _L_out=1)\n",
        "\n",
        "# set_hyperparameter(fun_control, \"optimizer\", [ \"Adadelta\", \"Adam\", \"Adamax\"])\n",
        "set_hyperparameter(fun_control, \"rnn_units\", [6, 12])\n",
        "set_hyperparameter(fun_control, \"fc_units\", [6, 12])\n",
        "set_hyperparameter(fun_control, \"epochs\", [6 , 8])\n",
        "set_hyperparameter(fun_control, \"batch_size\", [1, 3])\n",
        "set_hyperparameter(fun_control, \"dropout_prob\", [0.0, 0.025])\n",
        "set_hyperparameter(fun_control, \"patience\", [2, 5])\n",
        "set_hyperparameter(fun_control, \"lr_mult\", [0.1, 20.0])\n",
        "\n",
        "design_control = design_control_init(init_size=5, repeats=2)\n",
        "\n",
        "surrogate_control = surrogate_control_init(log_level=50, noise=True)\n",
        "\n",
        "fun = HyperLight().fun\n",
        "\n",
        "spot_tuner = Spot(fun=fun,fun_control=fun_control, design_control=design_control, surrogate_control=surrogate_control)"
      ]
    },
    {
      "cell_type": "code",
      "execution_count": 6,
      "metadata": {},
      "outputs": [
        {
          "name": "stderr",
          "output_type": "stream",
          "text": [
            "GPU available: True (mps), used: False\n",
            "TPU available: False, using: 0 TPU cores\n",
            "HPU available: False, using: 0 HPUs\n",
            "\n",
            "  | Name   | Type          | Params | Mode  | In sizes          | Out sizes \n",
            "----------------------------------------------------------------------------------\n",
            "0 | layers | ManyToManyRNN | 16.8 M | train | [[4, 10, 1], [4]] | [4, 10, 1]\n",
            "----------------------------------------------------------------------------------\n",
            "16.8 M    Trainable params\n",
            "0         Non-trainable params\n",
            "16.8 M    Total params\n",
            "67.174    Total estimated model params size (MB)\n",
            "6         Modules in train mode\n",
            "0         Modules in eval mode\n"
          ]
        },
        {
          "name": "stdout",
          "output_type": "stream",
          "text": [
            "Loaded experiment from 1003_exp.pkl\n",
            "\n",
            "In fun(): config:\n",
            "{'act_fn': ReLU(),\n",
            " 'batch_size': 4,\n",
            " 'dropout_prob': 0.01038327500986472,\n",
            " 'epochs': 128,\n",
            " 'fc_units': 2048,\n",
            " 'lr_mult': 10.939233896767515,\n",
            " 'optimizer': 'Adamax',\n",
            " 'patience': 4,\n",
            " 'rnn_units': 2048}\n",
            "train_size: 8, val_size: 1 used for train & val data.\n",
            "LightDataModule.val_dataloader(). Val. set size: 1\n",
            "LightDataModule.train_dataloader(). data_train size: 8\n",
            "LightDataModule.val_dataloader(). Val. set size: 1\n"
          ]
        },
        {
          "data": {
            "text/html": [
              "<pre style=\"white-space:pre;overflow-x:auto;line-height:normal;font-family:Menlo,'DejaVu Sans Mono',consolas,'Courier New',monospace\">┏━━━━━━━━━━━━━━━━━━━━━━━━━━━┳━━━━━━━━━━━━━━━━━━━━━━━━━━━┓\n",
              "┃<span style=\"font-weight: bold\">      Validate metric      </span>┃<span style=\"font-weight: bold\">       DataLoader 0        </span>┃\n",
              "┡━━━━━━━━━━━━━━━━━━━━━━━━━━━╇━━━━━━━━━━━━━━━━━━━━━━━━━━━┩\n",
              "│<span style=\"color: #008080; text-decoration-color: #008080\">         hp_metric         </span>│<span style=\"color: #800080; text-decoration-color: #800080\">      10616.306640625      </span>│\n",
              "│<span style=\"color: #008080; text-decoration-color: #008080\">         val_loss          </span>│<span style=\"color: #800080; text-decoration-color: #800080\">      10616.306640625      </span>│\n",
              "└───────────────────────────┴───────────────────────────┘\n",
              "</pre>\n"
            ],
            "text/plain": [
              "┏━━━━━━━━━━━━━━━━━━━━━━━━━━━┳━━━━━━━━━━━━━━━━━━━━━━━━━━━┓\n",
              "┃\u001b[1m \u001b[0m\u001b[1m     Validate metric     \u001b[0m\u001b[1m \u001b[0m┃\u001b[1m \u001b[0m\u001b[1m      DataLoader 0       \u001b[0m\u001b[1m \u001b[0m┃\n",
              "┡━━━━━━━━━━━━━━━━━━━━━━━━━━━╇━━━━━━━━━━━━━━━━━━━━━━━━━━━┩\n",
              "│\u001b[36m \u001b[0m\u001b[36m        hp_metric        \u001b[0m\u001b[36m \u001b[0m│\u001b[35m \u001b[0m\u001b[35m     10616.306640625     \u001b[0m\u001b[35m \u001b[0m│\n",
              "│\u001b[36m \u001b[0m\u001b[36m        val_loss         \u001b[0m\u001b[36m \u001b[0m│\u001b[35m \u001b[0m\u001b[35m     10616.306640625     \u001b[0m\u001b[35m \u001b[0m│\n",
              "└───────────────────────────┴───────────────────────────┘\n"
            ]
          },
          "metadata": {},
          "output_type": "display_data"
        },
        {
          "name": "stderr",
          "output_type": "stream",
          "text": [
            "GPU available: True (mps), used: False\n",
            "TPU available: False, using: 0 TPU cores\n",
            "HPU available: False, using: 0 HPUs\n",
            "\n",
            "  | Name   | Type          | Params | Mode  | In sizes          | Out sizes \n",
            "----------------------------------------------------------------------------------\n",
            "0 | layers | ManyToManyRNN | 16.8 M | train | [[4, 10, 1], [4]] | [4, 10, 1]\n",
            "----------------------------------------------------------------------------------\n",
            "16.8 M    Trainable params\n",
            "0         Non-trainable params\n",
            "16.8 M    Total params\n",
            "67.174    Total estimated model params size (MB)\n",
            "6         Modules in train mode\n",
            "0         Modules in eval mode\n"
          ]
        },
        {
          "name": "stdout",
          "output_type": "stream",
          "text": [
            "train_model result: {'val_loss': 10616.306640625, 'hp_metric': 10616.306640625}\n",
            "\n",
            "In fun(): config:\n",
            "{'act_fn': ReLU(),\n",
            " 'batch_size': 4,\n",
            " 'dropout_prob': 0.01038327500986472,\n",
            " 'epochs': 128,\n",
            " 'fc_units': 2048,\n",
            " 'lr_mult': 10.939233896767515,\n",
            " 'optimizer': 'Adamax',\n",
            " 'patience': 4,\n",
            " 'rnn_units': 2048}\n",
            "train_size: 8, val_size: 1 used for train & val data.\n",
            "LightDataModule.val_dataloader(). Val. set size: 1\n",
            "LightDataModule.train_dataloader(). data_train size: 8\n",
            "LightDataModule.val_dataloader(). Val. set size: 1\n"
          ]
        },
        {
          "data": {
            "text/html": [
              "<pre style=\"white-space:pre;overflow-x:auto;line-height:normal;font-family:Menlo,'DejaVu Sans Mono',consolas,'Courier New',monospace\">┏━━━━━━━━━━━━━━━━━━━━━━━━━━━┳━━━━━━━━━━━━━━━━━━━━━━━━━━━┓\n",
              "┃<span style=\"font-weight: bold\">      Validate metric      </span>┃<span style=\"font-weight: bold\">       DataLoader 0        </span>┃\n",
              "┡━━━━━━━━━━━━━━━━━━━━━━━━━━━╇━━━━━━━━━━━━━━━━━━━━━━━━━━━┩\n",
              "│<span style=\"color: #008080; text-decoration-color: #008080\">         hp_metric         </span>│<span style=\"color: #800080; text-decoration-color: #800080\">     3119.399658203125     </span>│\n",
              "│<span style=\"color: #008080; text-decoration-color: #008080\">         val_loss          </span>│<span style=\"color: #800080; text-decoration-color: #800080\">     3119.399658203125     </span>│\n",
              "└───────────────────────────┴───────────────────────────┘\n",
              "</pre>\n"
            ],
            "text/plain": [
              "┏━━━━━━━━━━━━━━━━━━━━━━━━━━━┳━━━━━━━━━━━━━━━━━━━━━━━━━━━┓\n",
              "┃\u001b[1m \u001b[0m\u001b[1m     Validate metric     \u001b[0m\u001b[1m \u001b[0m┃\u001b[1m \u001b[0m\u001b[1m      DataLoader 0       \u001b[0m\u001b[1m \u001b[0m┃\n",
              "┡━━━━━━━━━━━━━━━━━━━━━━━━━━━╇━━━━━━━━━━━━━━━━━━━━━━━━━━━┩\n",
              "│\u001b[36m \u001b[0m\u001b[36m        hp_metric        \u001b[0m\u001b[36m \u001b[0m│\u001b[35m \u001b[0m\u001b[35m    3119.399658203125    \u001b[0m\u001b[35m \u001b[0m│\n",
              "│\u001b[36m \u001b[0m\u001b[36m        val_loss         \u001b[0m\u001b[36m \u001b[0m│\u001b[35m \u001b[0m\u001b[35m    3119.399658203125    \u001b[0m\u001b[35m \u001b[0m│\n",
              "└───────────────────────────┴───────────────────────────┘\n"
            ]
          },
          "metadata": {},
          "output_type": "display_data"
        },
        {
          "name": "stderr",
          "output_type": "stream",
          "text": [
            "GPU available: True (mps), used: False\n",
            "TPU available: False, using: 0 TPU cores\n",
            "HPU available: False, using: 0 HPUs\n",
            "\n",
            "  | Name   | Type          | Params | Mode  | In sizes          | Out sizes \n",
            "----------------------------------------------------------------------------------\n",
            "0 | layers | ManyToManyRNN | 25.2 K | train | [[4, 10, 1], [4]] | [4, 10, 1]\n",
            "----------------------------------------------------------------------------------\n",
            "25.2 K    Trainable params\n",
            "0         Non-trainable params\n",
            "25.2 K    Total params\n",
            "0.101     Total estimated model params size (MB)\n",
            "6         Modules in train mode\n",
            "0         Modules in eval mode\n"
          ]
        },
        {
          "name": "stdout",
          "output_type": "stream",
          "text": [
            "train_model result: {'val_loss': 3119.399658203125, 'hp_metric': 3119.399658203125}\n",
            "\n",
            "In fun(): config:\n",
            "{'act_fn': LeakyReLU(),\n",
            " 'batch_size': 4,\n",
            " 'dropout_prob': 0.001850298977051596,\n",
            " 'epochs': 256,\n",
            " 'fc_units': 128,\n",
            " 'lr_mult': 4.368919111069834,\n",
            " 'optimizer': 'Adagrad',\n",
            " 'patience': 8,\n",
            " 'rnn_units': 64}\n",
            "train_size: 8, val_size: 1 used for train & val data.\n",
            "LightDataModule.val_dataloader(). Val. set size: 1\n",
            "LightDataModule.train_dataloader(). data_train size: 8\n",
            "LightDataModule.val_dataloader(). Val. set size: 1\n"
          ]
        },
        {
          "data": {
            "text/html": [
              "<pre style=\"white-space:pre;overflow-x:auto;line-height:normal;font-family:Menlo,'DejaVu Sans Mono',consolas,'Courier New',monospace\">┏━━━━━━━━━━━━━━━━━━━━━━━━━━━┳━━━━━━━━━━━━━━━━━━━━━━━━━━━┓\n",
              "┃<span style=\"font-weight: bold\">      Validate metric      </span>┃<span style=\"font-weight: bold\">       DataLoader 0        </span>┃\n",
              "┡━━━━━━━━━━━━━━━━━━━━━━━━━━━╇━━━━━━━━━━━━━━━━━━━━━━━━━━━┩\n",
              "│<span style=\"color: #008080; text-decoration-color: #008080\">         hp_metric         </span>│<span style=\"color: #800080; text-decoration-color: #800080\">    0.33435946702957153    </span>│\n",
              "│<span style=\"color: #008080; text-decoration-color: #008080\">         val_loss          </span>│<span style=\"color: #800080; text-decoration-color: #800080\">    0.33435946702957153    </span>│\n",
              "└───────────────────────────┴───────────────────────────┘\n",
              "</pre>\n"
            ],
            "text/plain": [
              "┏━━━━━━━━━━━━━━━━━━━━━━━━━━━┳━━━━━━━━━━━━━━━━━━━━━━━━━━━┓\n",
              "┃\u001b[1m \u001b[0m\u001b[1m     Validate metric     \u001b[0m\u001b[1m \u001b[0m┃\u001b[1m \u001b[0m\u001b[1m      DataLoader 0       \u001b[0m\u001b[1m \u001b[0m┃\n",
              "┡━━━━━━━━━━━━━━━━━━━━━━━━━━━╇━━━━━━━━━━━━━━━━━━━━━━━━━━━┩\n",
              "│\u001b[36m \u001b[0m\u001b[36m        hp_metric        \u001b[0m\u001b[36m \u001b[0m│\u001b[35m \u001b[0m\u001b[35m   0.33435946702957153   \u001b[0m\u001b[35m \u001b[0m│\n",
              "│\u001b[36m \u001b[0m\u001b[36m        val_loss         \u001b[0m\u001b[36m \u001b[0m│\u001b[35m \u001b[0m\u001b[35m   0.33435946702957153   \u001b[0m\u001b[35m \u001b[0m│\n",
              "└───────────────────────────┴───────────────────────────┘\n"
            ]
          },
          "metadata": {},
          "output_type": "display_data"
        },
        {
          "name": "stderr",
          "output_type": "stream",
          "text": [
            "GPU available: True (mps), used: False\n",
            "TPU available: False, using: 0 TPU cores\n",
            "HPU available: False, using: 0 HPUs\n",
            "\n",
            "  | Name   | Type          | Params | Mode  | In sizes          | Out sizes \n",
            "----------------------------------------------------------------------------------\n",
            "0 | layers | ManyToManyRNN | 25.2 K | train | [[4, 10, 1], [4]] | [4, 10, 1]\n",
            "----------------------------------------------------------------------------------\n",
            "25.2 K    Trainable params\n",
            "0         Non-trainable params\n",
            "25.2 K    Total params\n",
            "0.101     Total estimated model params size (MB)\n",
            "6         Modules in train mode\n",
            "0         Modules in eval mode\n"
          ]
        },
        {
          "name": "stdout",
          "output_type": "stream",
          "text": [
            "train_model result: {'val_loss': 0.33435946702957153, 'hp_metric': 0.33435946702957153}\n",
            "\n",
            "In fun(): config:\n",
            "{'act_fn': LeakyReLU(),\n",
            " 'batch_size': 4,\n",
            " 'dropout_prob': 0.001850298977051596,\n",
            " 'epochs': 256,\n",
            " 'fc_units': 128,\n",
            " 'lr_mult': 4.368919111069834,\n",
            " 'optimizer': 'Adagrad',\n",
            " 'patience': 8,\n",
            " 'rnn_units': 64}\n",
            "train_size: 8, val_size: 1 used for train & val data.\n",
            "LightDataModule.val_dataloader(). Val. set size: 1\n",
            "LightDataModule.train_dataloader(). data_train size: 8\n",
            "LightDataModule.val_dataloader(). Val. set size: 1\n"
          ]
        },
        {
          "data": {
            "text/html": [
              "<pre style=\"white-space:pre;overflow-x:auto;line-height:normal;font-family:Menlo,'DejaVu Sans Mono',consolas,'Courier New',monospace\">┏━━━━━━━━━━━━━━━━━━━━━━━━━━━┳━━━━━━━━━━━━━━━━━━━━━━━━━━━┓\n",
              "┃<span style=\"font-weight: bold\">      Validate metric      </span>┃<span style=\"font-weight: bold\">       DataLoader 0        </span>┃\n",
              "┡━━━━━━━━━━━━━━━━━━━━━━━━━━━╇━━━━━━━━━━━━━━━━━━━━━━━━━━━┩\n",
              "│<span style=\"color: #008080; text-decoration-color: #008080\">         hp_metric         </span>│<span style=\"color: #800080; text-decoration-color: #800080\">    0.7515982985496521     </span>│\n",
              "│<span style=\"color: #008080; text-decoration-color: #008080\">         val_loss          </span>│<span style=\"color: #800080; text-decoration-color: #800080\">    0.7515982985496521     </span>│\n",
              "└───────────────────────────┴───────────────────────────┘\n",
              "</pre>\n"
            ],
            "text/plain": [
              "┏━━━━━━━━━━━━━━━━━━━━━━━━━━━┳━━━━━━━━━━━━━━━━━━━━━━━━━━━┓\n",
              "┃\u001b[1m \u001b[0m\u001b[1m     Validate metric     \u001b[0m\u001b[1m \u001b[0m┃\u001b[1m \u001b[0m\u001b[1m      DataLoader 0       \u001b[0m\u001b[1m \u001b[0m┃\n",
              "┡━━━━━━━━━━━━━━━━━━━━━━━━━━━╇━━━━━━━━━━━━━━━━━━━━━━━━━━━┩\n",
              "│\u001b[36m \u001b[0m\u001b[36m        hp_metric        \u001b[0m\u001b[36m \u001b[0m│\u001b[35m \u001b[0m\u001b[35m   0.7515982985496521    \u001b[0m\u001b[35m \u001b[0m│\n",
              "│\u001b[36m \u001b[0m\u001b[36m        val_loss         \u001b[0m\u001b[36m \u001b[0m│\u001b[35m \u001b[0m\u001b[35m   0.7515982985496521    \u001b[0m\u001b[35m \u001b[0m│\n",
              "└───────────────────────────┴───────────────────────────┘\n"
            ]
          },
          "metadata": {},
          "output_type": "display_data"
        },
        {
          "name": "stderr",
          "output_type": "stream",
          "text": [
            "GPU available: True (mps), used: False\n",
            "TPU available: False, using: 0 TPU cores\n",
            "HPU available: False, using: 0 HPUs\n",
            "\n",
            "  | Name   | Type          | Params | Mode  | In sizes          | Out sizes \n",
            "----------------------------------------------------------------------------------\n",
            "0 | layers | ManyToManyRNN | 2.6 M  | train | [[8, 10, 1], [8]] | [8, 10, 1]\n",
            "----------------------------------------------------------------------------------\n",
            "2.6 M     Trainable params\n",
            "0         Non-trainable params\n",
            "2.6 M     Total params\n",
            "10.512    Total estimated model params size (MB)\n",
            "6         Modules in train mode\n",
            "0         Modules in eval mode\n"
          ]
        },
        {
          "name": "stdout",
          "output_type": "stream",
          "text": [
            "train_model result: {'val_loss': 0.7515982985496521, 'hp_metric': 0.7515982985496521}\n",
            "\n",
            "In fun(): config:\n",
            "{'act_fn': Swish(),\n",
            " 'batch_size': 8,\n",
            " 'dropout_prob': 0.019078310062857602,\n",
            " 'epochs': 64,\n",
            " 'fc_units': 256,\n",
            " 'lr_mult': 19.940718231294277,\n",
            " 'optimizer': 'Rprop',\n",
            " 'patience': 32,\n",
            " 'rnn_units': 1024}\n",
            "train_size: 8, val_size: 1 used for train & val data.\n",
            "LightDataModule.val_dataloader(). Val. set size: 1\n",
            "LightDataModule.train_dataloader(). data_train size: 8\n",
            "LightDataModule.val_dataloader(). Val. set size: 1\n"
          ]
        },
        {
          "data": {
            "text/html": [
              "<pre style=\"white-space:pre;overflow-x:auto;line-height:normal;font-family:Menlo,'DejaVu Sans Mono',consolas,'Courier New',monospace\">┏━━━━━━━━━━━━━━━━━━━━━━━━━━━┳━━━━━━━━━━━━━━━━━━━━━━━━━━━┓\n",
              "┃<span style=\"font-weight: bold\">      Validate metric      </span>┃<span style=\"font-weight: bold\">       DataLoader 0        </span>┃\n",
              "┡━━━━━━━━━━━━━━━━━━━━━━━━━━━╇━━━━━━━━━━━━━━━━━━━━━━━━━━━┩\n",
              "│<span style=\"color: #008080; text-decoration-color: #008080\">         hp_metric         </span>│<span style=\"color: #800080; text-decoration-color: #800080\">        911783.3125        </span>│\n",
              "│<span style=\"color: #008080; text-decoration-color: #008080\">         val_loss          </span>│<span style=\"color: #800080; text-decoration-color: #800080\">        911783.3125        </span>│\n",
              "└───────────────────────────┴───────────────────────────┘\n",
              "</pre>\n"
            ],
            "text/plain": [
              "┏━━━━━━━━━━━━━━━━━━━━━━━━━━━┳━━━━━━━━━━━━━━━━━━━━━━━━━━━┓\n",
              "┃\u001b[1m \u001b[0m\u001b[1m     Validate metric     \u001b[0m\u001b[1m \u001b[0m┃\u001b[1m \u001b[0m\u001b[1m      DataLoader 0       \u001b[0m\u001b[1m \u001b[0m┃\n",
              "┡━━━━━━━━━━━━━━━━━━━━━━━━━━━╇━━━━━━━━━━━━━━━━━━━━━━━━━━━┩\n",
              "│\u001b[36m \u001b[0m\u001b[36m        hp_metric        \u001b[0m\u001b[36m \u001b[0m│\u001b[35m \u001b[0m\u001b[35m       911783.3125       \u001b[0m\u001b[35m \u001b[0m│\n",
              "│\u001b[36m \u001b[0m\u001b[36m        val_loss         \u001b[0m\u001b[36m \u001b[0m│\u001b[35m \u001b[0m\u001b[35m       911783.3125       \u001b[0m\u001b[35m \u001b[0m│\n",
              "└───────────────────────────┴───────────────────────────┘\n"
            ]
          },
          "metadata": {},
          "output_type": "display_data"
        },
        {
          "name": "stderr",
          "output_type": "stream",
          "text": [
            "GPU available: True (mps), used: False\n",
            "TPU available: False, using: 0 TPU cores\n",
            "HPU available: False, using: 0 HPUs\n",
            "\n",
            "  | Name   | Type          | Params | Mode  | In sizes          | Out sizes \n",
            "----------------------------------------------------------------------------------\n",
            "0 | layers | ManyToManyRNN | 2.6 M  | train | [[8, 10, 1], [8]] | [8, 10, 1]\n",
            "----------------------------------------------------------------------------------\n",
            "2.6 M     Trainable params\n",
            "0         Non-trainable params\n",
            "2.6 M     Total params\n",
            "10.512    Total estimated model params size (MB)\n",
            "6         Modules in train mode\n",
            "0         Modules in eval mode\n"
          ]
        },
        {
          "name": "stdout",
          "output_type": "stream",
          "text": [
            "train_model result: {'val_loss': 911783.3125, 'hp_metric': 911783.3125}\n",
            "\n",
            "In fun(): config:\n",
            "{'act_fn': Swish(),\n",
            " 'batch_size': 8,\n",
            " 'dropout_prob': 0.019078310062857602,\n",
            " 'epochs': 64,\n",
            " 'fc_units': 256,\n",
            " 'lr_mult': 19.940718231294277,\n",
            " 'optimizer': 'Rprop',\n",
            " 'patience': 32,\n",
            " 'rnn_units': 1024}\n",
            "train_size: 8, val_size: 1 used for train & val data.\n",
            "LightDataModule.val_dataloader(). Val. set size: 1\n",
            "LightDataModule.train_dataloader(). data_train size: 8\n",
            "LightDataModule.val_dataloader(). Val. set size: 1\n"
          ]
        },
        {
          "data": {
            "text/html": [
              "<pre style=\"white-space:pre;overflow-x:auto;line-height:normal;font-family:Menlo,'DejaVu Sans Mono',consolas,'Courier New',monospace\">┏━━━━━━━━━━━━━━━━━━━━━━━━━━━┳━━━━━━━━━━━━━━━━━━━━━━━━━━━┓\n",
              "┃<span style=\"font-weight: bold\">      Validate metric      </span>┃<span style=\"font-weight: bold\">       DataLoader 0        </span>┃\n",
              "┡━━━━━━━━━━━━━━━━━━━━━━━━━━━╇━━━━━━━━━━━━━━━━━━━━━━━━━━━┩\n",
              "│<span style=\"color: #008080; text-decoration-color: #008080\">         hp_metric         </span>│<span style=\"color: #800080; text-decoration-color: #800080\">         38922.625         </span>│\n",
              "│<span style=\"color: #008080; text-decoration-color: #008080\">         val_loss          </span>│<span style=\"color: #800080; text-decoration-color: #800080\">         38922.625         </span>│\n",
              "└───────────────────────────┴───────────────────────────┘\n",
              "</pre>\n"
            ],
            "text/plain": [
              "┏━━━━━━━━━━━━━━━━━━━━━━━━━━━┳━━━━━━━━━━━━━━━━━━━━━━━━━━━┓\n",
              "┃\u001b[1m \u001b[0m\u001b[1m     Validate metric     \u001b[0m\u001b[1m \u001b[0m┃\u001b[1m \u001b[0m\u001b[1m      DataLoader 0       \u001b[0m\u001b[1m \u001b[0m┃\n",
              "┡━━━━━━━━━━━━━━━━━━━━━━━━━━━╇━━━━━━━━━━━━━━━━━━━━━━━━━━━┩\n",
              "│\u001b[36m \u001b[0m\u001b[36m        hp_metric        \u001b[0m\u001b[36m \u001b[0m│\u001b[35m \u001b[0m\u001b[35m        38922.625        \u001b[0m\u001b[35m \u001b[0m│\n",
              "│\u001b[36m \u001b[0m\u001b[36m        val_loss         \u001b[0m\u001b[36m \u001b[0m│\u001b[35m \u001b[0m\u001b[35m        38922.625        \u001b[0m\u001b[35m \u001b[0m│\n",
              "└───────────────────────────┴───────────────────────────┘\n"
            ]
          },
          "metadata": {},
          "output_type": "display_data"
        },
        {
          "name": "stderr",
          "output_type": "stream",
          "text": [
            "GPU available: True (mps), used: False\n",
            "TPU available: False, using: 0 TPU cores\n",
            "HPU available: False, using: 0 HPUs\n",
            "\n",
            "  | Name   | Type          | Params | Mode  | In sizes          | Out sizes \n",
            "----------------------------------------------------------------------------------\n",
            "0 | layers | ManyToManyRNN | 790 K  | train | [[2, 10, 1], [2]] | [2, 10, 1]\n",
            "----------------------------------------------------------------------------------\n",
            "790 K     Trainable params\n",
            "0         Non-trainable params\n",
            "790 K     Total params\n",
            "3.160     Total estimated model params size (MB)\n",
            "6         Modules in train mode\n",
            "0         Modules in eval mode\n"
          ]
        },
        {
          "name": "stdout",
          "output_type": "stream",
          "text": [
            "train_model result: {'val_loss': 38922.625, 'hp_metric': 38922.625}\n",
            "\n",
            "In fun(): config:\n",
            "{'act_fn': Sigmoid(),\n",
            " 'batch_size': 2,\n",
            " 'dropout_prob': 0.005669362846308786,\n",
            " 'epochs': 128,\n",
            " 'fc_units': 256,\n",
            " 'lr_mult': 13.111607293242407,\n",
            " 'optimizer': 'RAdam',\n",
            " 'patience': 16,\n",
            " 'rnn_units': 512}\n",
            "train_size: 8, val_size: 1 used for train & val data.\n",
            "LightDataModule.val_dataloader(). Val. set size: 1\n",
            "LightDataModule.train_dataloader(). data_train size: 8\n",
            "LightDataModule.val_dataloader(). Val. set size: 1\n"
          ]
        },
        {
          "data": {
            "text/html": [
              "<pre style=\"white-space:pre;overflow-x:auto;line-height:normal;font-family:Menlo,'DejaVu Sans Mono',consolas,'Courier New',monospace\">┏━━━━━━━━━━━━━━━━━━━━━━━━━━━┳━━━━━━━━━━━━━━━━━━━━━━━━━━━┓\n",
              "┃<span style=\"font-weight: bold\">      Validate metric      </span>┃<span style=\"font-weight: bold\">       DataLoader 0        </span>┃\n",
              "┡━━━━━━━━━━━━━━━━━━━━━━━━━━━╇━━━━━━━━━━━━━━━━━━━━━━━━━━━┩\n",
              "│<span style=\"color: #008080; text-decoration-color: #008080\">         hp_metric         </span>│<span style=\"color: #800080; text-decoration-color: #800080\">    0.5055814981460571     </span>│\n",
              "│<span style=\"color: #008080; text-decoration-color: #008080\">         val_loss          </span>│<span style=\"color: #800080; text-decoration-color: #800080\">    0.5055814981460571     </span>│\n",
              "└───────────────────────────┴───────────────────────────┘\n",
              "</pre>\n"
            ],
            "text/plain": [
              "┏━━━━━━━━━━━━━━━━━━━━━━━━━━━┳━━━━━━━━━━━━━━━━━━━━━━━━━━━┓\n",
              "┃\u001b[1m \u001b[0m\u001b[1m     Validate metric     \u001b[0m\u001b[1m \u001b[0m┃\u001b[1m \u001b[0m\u001b[1m      DataLoader 0       \u001b[0m\u001b[1m \u001b[0m┃\n",
              "┡━━━━━━━━━━━━━━━━━━━━━━━━━━━╇━━━━━━━━━━━━━━━━━━━━━━━━━━━┩\n",
              "│\u001b[36m \u001b[0m\u001b[36m        hp_metric        \u001b[0m\u001b[36m \u001b[0m│\u001b[35m \u001b[0m\u001b[35m   0.5055814981460571    \u001b[0m\u001b[35m \u001b[0m│\n",
              "│\u001b[36m \u001b[0m\u001b[36m        val_loss         \u001b[0m\u001b[36m \u001b[0m│\u001b[35m \u001b[0m\u001b[35m   0.5055814981460571    \u001b[0m\u001b[35m \u001b[0m│\n",
              "└───────────────────────────┴───────────────────────────┘\n"
            ]
          },
          "metadata": {},
          "output_type": "display_data"
        },
        {
          "name": "stderr",
          "output_type": "stream",
          "text": [
            "GPU available: True (mps), used: False\n",
            "TPU available: False, using: 0 TPU cores\n",
            "HPU available: False, using: 0 HPUs\n",
            "\n",
            "  | Name   | Type          | Params | Mode  | In sizes          | Out sizes \n",
            "----------------------------------------------------------------------------------\n",
            "0 | layers | ManyToManyRNN | 790 K  | train | [[2, 10, 1], [2]] | [2, 10, 1]\n",
            "----------------------------------------------------------------------------------\n",
            "790 K     Trainable params\n",
            "0         Non-trainable params\n",
            "790 K     Total params\n",
            "3.160     Total estimated model params size (MB)\n",
            "6         Modules in train mode\n",
            "0         Modules in eval mode\n"
          ]
        },
        {
          "name": "stdout",
          "output_type": "stream",
          "text": [
            "train_model result: {'val_loss': 0.5055814981460571, 'hp_metric': 0.5055814981460571}\n",
            "\n",
            "In fun(): config:\n",
            "{'act_fn': Sigmoid(),\n",
            " 'batch_size': 2,\n",
            " 'dropout_prob': 0.005669362846308786,\n",
            " 'epochs': 128,\n",
            " 'fc_units': 256,\n",
            " 'lr_mult': 13.111607293242407,\n",
            " 'optimizer': 'RAdam',\n",
            " 'patience': 16,\n",
            " 'rnn_units': 512}\n",
            "train_size: 8, val_size: 1 used for train & val data.\n",
            "LightDataModule.val_dataloader(). Val. set size: 1\n",
            "LightDataModule.train_dataloader(). data_train size: 8\n",
            "LightDataModule.val_dataloader(). Val. set size: 1\n"
          ]
        },
        {
          "data": {
            "text/html": [
              "<pre style=\"white-space:pre;overflow-x:auto;line-height:normal;font-family:Menlo,'DejaVu Sans Mono',consolas,'Courier New',monospace\">┏━━━━━━━━━━━━━━━━━━━━━━━━━━━┳━━━━━━━━━━━━━━━━━━━━━━━━━━━┓\n",
              "┃<span style=\"font-weight: bold\">      Validate metric      </span>┃<span style=\"font-weight: bold\">       DataLoader 0        </span>┃\n",
              "┡━━━━━━━━━━━━━━━━━━━━━━━━━━━╇━━━━━━━━━━━━━━━━━━━━━━━━━━━┩\n",
              "│<span style=\"color: #008080; text-decoration-color: #008080\">         hp_metric         </span>│<span style=\"color: #800080; text-decoration-color: #800080\">    0.5539644956588745     </span>│\n",
              "│<span style=\"color: #008080; text-decoration-color: #008080\">         val_loss          </span>│<span style=\"color: #800080; text-decoration-color: #800080\">    0.5539644956588745     </span>│\n",
              "└───────────────────────────┴───────────────────────────┘\n",
              "</pre>\n"
            ],
            "text/plain": [
              "┏━━━━━━━━━━━━━━━━━━━━━━━━━━━┳━━━━━━━━━━━━━━━━━━━━━━━━━━━┓\n",
              "┃\u001b[1m \u001b[0m\u001b[1m     Validate metric     \u001b[0m\u001b[1m \u001b[0m┃\u001b[1m \u001b[0m\u001b[1m      DataLoader 0       \u001b[0m\u001b[1m \u001b[0m┃\n",
              "┡━━━━━━━━━━━━━━━━━━━━━━━━━━━╇━━━━━━━━━━━━━━━━━━━━━━━━━━━┩\n",
              "│\u001b[36m \u001b[0m\u001b[36m        hp_metric        \u001b[0m\u001b[36m \u001b[0m│\u001b[35m \u001b[0m\u001b[35m   0.5539644956588745    \u001b[0m\u001b[35m \u001b[0m│\n",
              "│\u001b[36m \u001b[0m\u001b[36m        val_loss         \u001b[0m\u001b[36m \u001b[0m│\u001b[35m \u001b[0m\u001b[35m   0.5539644956588745    \u001b[0m\u001b[35m \u001b[0m│\n",
              "└───────────────────────────┴───────────────────────────┘\n"
            ]
          },
          "metadata": {},
          "output_type": "display_data"
        },
        {
          "name": "stderr",
          "output_type": "stream",
          "text": [
            "GPU available: True (mps), used: False\n",
            "TPU available: False, using: 0 TPU cores\n",
            "HPU available: False, using: 0 HPUs\n",
            "\n",
            "  | Name   | Type          | Params | Mode  | In sizes          | Out sizes \n",
            "----------------------------------------------------------------------------------\n",
            "0 | layers | ManyToManyRNN | 561 K  | train | [[4, 10, 1], [4]] | [4, 10, 1]\n",
            "----------------------------------------------------------------------------------\n",
            "561 K     Trainable params\n",
            "0         Non-trainable params\n",
            "561 K     Total params\n",
            "2.248     Total estimated model params size (MB)\n",
            "6         Modules in train mode\n",
            "0         Modules in eval mode\n"
          ]
        },
        {
          "name": "stdout",
          "output_type": "stream",
          "text": [
            "train_model result: {'val_loss': 0.5539644956588745, 'hp_metric': 0.5539644956588745}\n",
            "\n",
            "In fun(): config:\n",
            "{'act_fn': ELU(),\n",
            " 'batch_size': 4,\n",
            " 'dropout_prob': 0.023810468001851916,\n",
            " 'epochs': 128,\n",
            " 'fc_units': 2048,\n",
            " 'lr_mult': 1.0354446885074793,\n",
            " 'optimizer': 'AdamW',\n",
            " 'patience': 16,\n",
            " 'rnn_units': 128}\n",
            "train_size: 8, val_size: 1 used for train & val data.\n",
            "LightDataModule.val_dataloader(). Val. set size: 1\n",
            "LightDataModule.train_dataloader(). data_train size: 8\n",
            "LightDataModule.val_dataloader(). Val. set size: 1\n"
          ]
        },
        {
          "data": {
            "text/html": [
              "<pre style=\"white-space:pre;overflow-x:auto;line-height:normal;font-family:Menlo,'DejaVu Sans Mono',consolas,'Courier New',monospace\">┏━━━━━━━━━━━━━━━━━━━━━━━━━━━┳━━━━━━━━━━━━━━━━━━━━━━━━━━━┓\n",
              "┃<span style=\"font-weight: bold\">      Validate metric      </span>┃<span style=\"font-weight: bold\">       DataLoader 0        </span>┃\n",
              "┡━━━━━━━━━━━━━━━━━━━━━━━━━━━╇━━━━━━━━━━━━━━━━━━━━━━━━━━━┩\n",
              "│<span style=\"color: #008080; text-decoration-color: #008080\">         hp_metric         </span>│<span style=\"color: #800080; text-decoration-color: #800080\">    0.0475609228014946     </span>│\n",
              "│<span style=\"color: #008080; text-decoration-color: #008080\">         val_loss          </span>│<span style=\"color: #800080; text-decoration-color: #800080\">    0.0475609228014946     </span>│\n",
              "└───────────────────────────┴───────────────────────────┘\n",
              "</pre>\n"
            ],
            "text/plain": [
              "┏━━━━━━━━━━━━━━━━━━━━━━━━━━━┳━━━━━━━━━━━━━━━━━━━━━━━━━━━┓\n",
              "┃\u001b[1m \u001b[0m\u001b[1m     Validate metric     \u001b[0m\u001b[1m \u001b[0m┃\u001b[1m \u001b[0m\u001b[1m      DataLoader 0       \u001b[0m\u001b[1m \u001b[0m┃\n",
              "┡━━━━━━━━━━━━━━━━━━━━━━━━━━━╇━━━━━━━━━━━━━━━━━━━━━━━━━━━┩\n",
              "│\u001b[36m \u001b[0m\u001b[36m        hp_metric        \u001b[0m\u001b[36m \u001b[0m│\u001b[35m \u001b[0m\u001b[35m   0.0475609228014946    \u001b[0m\u001b[35m \u001b[0m│\n",
              "│\u001b[36m \u001b[0m\u001b[36m        val_loss         \u001b[0m\u001b[36m \u001b[0m│\u001b[35m \u001b[0m\u001b[35m   0.0475609228014946    \u001b[0m\u001b[35m \u001b[0m│\n",
              "└───────────────────────────┴───────────────────────────┘\n"
            ]
          },
          "metadata": {},
          "output_type": "display_data"
        },
        {
          "name": "stderr",
          "output_type": "stream",
          "text": [
            "GPU available: True (mps), used: False\n",
            "TPU available: False, using: 0 TPU cores\n",
            "HPU available: False, using: 0 HPUs\n",
            "\n",
            "  | Name   | Type          | Params | Mode  | In sizes          | Out sizes \n",
            "----------------------------------------------------------------------------------\n",
            "0 | layers | ManyToManyRNN | 561 K  | train | [[4, 10, 1], [4]] | [4, 10, 1]\n",
            "----------------------------------------------------------------------------------\n",
            "561 K     Trainable params\n",
            "0         Non-trainable params\n",
            "561 K     Total params\n",
            "2.248     Total estimated model params size (MB)\n",
            "6         Modules in train mode\n",
            "0         Modules in eval mode\n"
          ]
        },
        {
          "name": "stdout",
          "output_type": "stream",
          "text": [
            "train_model result: {'val_loss': 0.0475609228014946, 'hp_metric': 0.0475609228014946}\n",
            "\n",
            "In fun(): config:\n",
            "{'act_fn': ELU(),\n",
            " 'batch_size': 4,\n",
            " 'dropout_prob': 0.023810468001851916,\n",
            " 'epochs': 128,\n",
            " 'fc_units': 2048,\n",
            " 'lr_mult': 1.0354446885074793,\n",
            " 'optimizer': 'AdamW',\n",
            " 'patience': 16,\n",
            " 'rnn_units': 128}\n",
            "train_size: 8, val_size: 1 used for train & val data.\n",
            "LightDataModule.val_dataloader(). Val. set size: 1\n",
            "LightDataModule.train_dataloader(). data_train size: 8\n",
            "LightDataModule.val_dataloader(). Val. set size: 1\n"
          ]
        },
        {
          "data": {
            "text/html": [
              "<pre style=\"white-space:pre;overflow-x:auto;line-height:normal;font-family:Menlo,'DejaVu Sans Mono',consolas,'Courier New',monospace\">┏━━━━━━━━━━━━━━━━━━━━━━━━━━━┳━━━━━━━━━━━━━━━━━━━━━━━━━━━┓\n",
              "┃<span style=\"font-weight: bold\">      Validate metric      </span>┃<span style=\"font-weight: bold\">       DataLoader 0        </span>┃\n",
              "┡━━━━━━━━━━━━━━━━━━━━━━━━━━━╇━━━━━━━━━━━━━━━━━━━━━━━━━━━┩\n",
              "│<span style=\"color: #008080; text-decoration-color: #008080\">         hp_metric         </span>│<span style=\"color: #800080; text-decoration-color: #800080\">   0.049783628433942795    </span>│\n",
              "│<span style=\"color: #008080; text-decoration-color: #008080\">         val_loss          </span>│<span style=\"color: #800080; text-decoration-color: #800080\">   0.049783628433942795    </span>│\n",
              "└───────────────────────────┴───────────────────────────┘\n",
              "</pre>\n"
            ],
            "text/plain": [
              "┏━━━━━━━━━━━━━━━━━━━━━━━━━━━┳━━━━━━━━━━━━━━━━━━━━━━━━━━━┓\n",
              "┃\u001b[1m \u001b[0m\u001b[1m     Validate metric     \u001b[0m\u001b[1m \u001b[0m┃\u001b[1m \u001b[0m\u001b[1m      DataLoader 0       \u001b[0m\u001b[1m \u001b[0m┃\n",
              "┡━━━━━━━━━━━━━━━━━━━━━━━━━━━╇━━━━━━━━━━━━━━━━━━━━━━━━━━━┩\n",
              "│\u001b[36m \u001b[0m\u001b[36m        hp_metric        \u001b[0m\u001b[36m \u001b[0m│\u001b[35m \u001b[0m\u001b[35m  0.049783628433942795   \u001b[0m\u001b[35m \u001b[0m│\n",
              "│\u001b[36m \u001b[0m\u001b[36m        val_loss         \u001b[0m\u001b[36m \u001b[0m│\u001b[35m \u001b[0m\u001b[35m  0.049783628433942795   \u001b[0m\u001b[35m \u001b[0m│\n",
              "└───────────────────────────┴───────────────────────────┘\n"
            ]
          },
          "metadata": {},
          "output_type": "display_data"
        },
        {
          "name": "stderr",
          "output_type": "stream",
          "text": [
            "GPU available: True (mps), used: False\n",
            "TPU available: False, using: 0 TPU cores\n",
            "HPU available: False, using: 0 HPUs\n",
            "\n",
            "  | Name   | Type          | Params | Mode  | In sizes          | Out sizes \n",
            "----------------------------------------------------------------------------------\n",
            "0 | layers | ManyToManyRNN | 658 K  | train | [[4, 10, 1], [4]] | [4, 10, 1]\n",
            "----------------------------------------------------------------------------------\n",
            "658 K     Trainable params\n",
            "0         Non-trainable params\n",
            "658 K     Total params\n",
            "2.636     Total estimated model params size (MB)\n",
            "6         Modules in train mode\n",
            "0         Modules in eval mode\n"
          ]
        },
        {
          "name": "stdout",
          "output_type": "stream",
          "text": [
            "train_model result: {'val_loss': 0.049783628433942795, 'hp_metric': 0.049783628433942795}\n",
            "\n",
            "------ Starting optimization on the Surrogate for the given Budget ------\n",
            "\n",
            "\n",
            "In fun(): config:\n",
            "{'act_fn': ReLU(),\n",
            " 'batch_size': 4,\n",
            " 'dropout_prob': 0.012273328198465362,\n",
            " 'epochs': 128,\n",
            " 'fc_units': 1024,\n",
            " 'lr_mult': 5.094028482512639,\n",
            " 'optimizer': 'AdamW',\n",
            " 'patience': 8,\n",
            " 'rnn_units': 256}\n",
            "train_size: 8, val_size: 1 used for train & val data.\n",
            "LightDataModule.val_dataloader(). Val. set size: 1\n",
            "LightDataModule.train_dataloader(). data_train size: 8\n",
            "LightDataModule.val_dataloader(). Val. set size: 1\n"
          ]
        },
        {
          "data": {
            "text/html": [
              "<pre style=\"white-space:pre;overflow-x:auto;line-height:normal;font-family:Menlo,'DejaVu Sans Mono',consolas,'Courier New',monospace\">┏━━━━━━━━━━━━━━━━━━━━━━━━━━━┳━━━━━━━━━━━━━━━━━━━━━━━━━━━┓\n",
              "┃<span style=\"font-weight: bold\">      Validate metric      </span>┃<span style=\"font-weight: bold\">       DataLoader 0        </span>┃\n",
              "┡━━━━━━━━━━━━━━━━━━━━━━━━━━━╇━━━━━━━━━━━━━━━━━━━━━━━━━━━┩\n",
              "│<span style=\"color: #008080; text-decoration-color: #008080\">         hp_metric         </span>│<span style=\"color: #800080; text-decoration-color: #800080\">     6.470658302307129     </span>│\n",
              "│<span style=\"color: #008080; text-decoration-color: #008080\">         val_loss          </span>│<span style=\"color: #800080; text-decoration-color: #800080\">     6.470658302307129     </span>│\n",
              "└───────────────────────────┴───────────────────────────┘\n",
              "</pre>\n"
            ],
            "text/plain": [
              "┏━━━━━━━━━━━━━━━━━━━━━━━━━━━┳━━━━━━━━━━━━━━━━━━━━━━━━━━━┓\n",
              "┃\u001b[1m \u001b[0m\u001b[1m     Validate metric     \u001b[0m\u001b[1m \u001b[0m┃\u001b[1m \u001b[0m\u001b[1m      DataLoader 0       \u001b[0m\u001b[1m \u001b[0m┃\n",
              "┡━━━━━━━━━━━━━━━━━━━━━━━━━━━╇━━━━━━━━━━━━━━━━━━━━━━━━━━━┩\n",
              "│\u001b[36m \u001b[0m\u001b[36m        hp_metric        \u001b[0m\u001b[36m \u001b[0m│\u001b[35m \u001b[0m\u001b[35m    6.470658302307129    \u001b[0m\u001b[35m \u001b[0m│\n",
              "│\u001b[36m \u001b[0m\u001b[36m        val_loss         \u001b[0m\u001b[36m \u001b[0m│\u001b[35m \u001b[0m\u001b[35m    6.470658302307129    \u001b[0m\u001b[35m \u001b[0m│\n",
              "└───────────────────────────┴───────────────────────────┘\n"
            ]
          },
          "metadata": {},
          "output_type": "display_data"
        },
        {
          "name": "stderr",
          "output_type": "stream",
          "text": [
            "GPU available: True (mps), used: False\n",
            "TPU available: False, using: 0 TPU cores\n",
            "HPU available: False, using: 0 HPUs\n",
            "\n",
            "  | Name   | Type          | Params | Mode  | In sizes          | Out sizes \n",
            "----------------------------------------------------------------------------------\n",
            "0 | layers | ManyToManyRNN | 658 K  | train | [[4, 10, 1], [4]] | [4, 10, 1]\n",
            "----------------------------------------------------------------------------------\n",
            "658 K     Trainable params\n",
            "0         Non-trainable params\n",
            "658 K     Total params\n",
            "2.636     Total estimated model params size (MB)\n",
            "6         Modules in train mode\n",
            "0         Modules in eval mode\n"
          ]
        },
        {
          "name": "stdout",
          "output_type": "stream",
          "text": [
            "train_model result: {'val_loss': 6.470658302307129, 'hp_metric': 6.470658302307129}\n",
            "\n",
            "In fun(): config:\n",
            "{'act_fn': ReLU(),\n",
            " 'batch_size': 4,\n",
            " 'dropout_prob': 0.012273328198465362,\n",
            " 'epochs': 128,\n",
            " 'fc_units': 1024,\n",
            " 'lr_mult': 5.094028482512639,\n",
            " 'optimizer': 'AdamW',\n",
            " 'patience': 8,\n",
            " 'rnn_units': 256}\n",
            "train_size: 8, val_size: 1 used for train & val data.\n",
            "LightDataModule.val_dataloader(). Val. set size: 1\n",
            "LightDataModule.train_dataloader(). data_train size: 8\n",
            "LightDataModule.val_dataloader(). Val. set size: 1\n"
          ]
        },
        {
          "data": {
            "text/html": [
              "<pre style=\"white-space:pre;overflow-x:auto;line-height:normal;font-family:Menlo,'DejaVu Sans Mono',consolas,'Courier New',monospace\">┏━━━━━━━━━━━━━━━━━━━━━━━━━━━┳━━━━━━━━━━━━━━━━━━━━━━━━━━━┓\n",
              "┃<span style=\"font-weight: bold\">      Validate metric      </span>┃<span style=\"font-weight: bold\">       DataLoader 0        </span>┃\n",
              "┡━━━━━━━━━━━━━━━━━━━━━━━━━━━╇━━━━━━━━━━━━━━━━━━━━━━━━━━━┩\n",
              "│<span style=\"color: #008080; text-decoration-color: #008080\">         hp_metric         </span>│<span style=\"color: #800080; text-decoration-color: #800080\">    0.6932985782623291     </span>│\n",
              "│<span style=\"color: #008080; text-decoration-color: #008080\">         val_loss          </span>│<span style=\"color: #800080; text-decoration-color: #800080\">    0.6932985782623291     </span>│\n",
              "└───────────────────────────┴───────────────────────────┘\n",
              "</pre>\n"
            ],
            "text/plain": [
              "┏━━━━━━━━━━━━━━━━━━━━━━━━━━━┳━━━━━━━━━━━━━━━━━━━━━━━━━━━┓\n",
              "┃\u001b[1m \u001b[0m\u001b[1m     Validate metric     \u001b[0m\u001b[1m \u001b[0m┃\u001b[1m \u001b[0m\u001b[1m      DataLoader 0       \u001b[0m\u001b[1m \u001b[0m┃\n",
              "┡━━━━━━━━━━━━━━━━━━━━━━━━━━━╇━━━━━━━━━━━━━━━━━━━━━━━━━━━┩\n",
              "│\u001b[36m \u001b[0m\u001b[36m        hp_metric        \u001b[0m\u001b[36m \u001b[0m│\u001b[35m \u001b[0m\u001b[35m   0.6932985782623291    \u001b[0m\u001b[35m \u001b[0m│\n",
              "│\u001b[36m \u001b[0m\u001b[36m        val_loss         \u001b[0m\u001b[36m \u001b[0m│\u001b[35m \u001b[0m\u001b[35m   0.6932985782623291    \u001b[0m\u001b[35m \u001b[0m│\n",
              "└───────────────────────────┴───────────────────────────┘\n"
            ]
          },
          "metadata": {},
          "output_type": "display_data"
        },
        {
          "name": "stdout",
          "output_type": "stream",
          "text": [
            "train_model result: {'val_loss': 0.6932985782623291, 'hp_metric': 0.6932985782623291}\n",
            "No spot_writer available.\n",
            "spotpython tuning: 0.0475609228014946 [----------] 1.04% \n"
          ]
        },
        {
          "name": "stderr",
          "output_type": "stream",
          "text": [
            "GPU available: True (mps), used: False\n",
            "TPU available: False, using: 0 TPU cores\n",
            "HPU available: False, using: 0 HPUs\n",
            "\n",
            "  | Name   | Type          | Params | Mode  | In sizes          | Out sizes \n",
            "----------------------------------------------------------------------------------\n",
            "0 | layers | ManyToManyRNN | 1.6 M  | train | [[4, 10, 1], [4]] | [4, 10, 1]\n",
            "----------------------------------------------------------------------------------\n",
            "1.6 M     Trainable params\n",
            "0         Non-trainable params\n",
            "1.6 M     Total params\n",
            "6.312     Total estimated model params size (MB)\n",
            "6         Modules in train mode\n",
            "0         Modules in eval mode\n"
          ]
        },
        {
          "name": "stdout",
          "output_type": "stream",
          "text": [
            "\n",
            "In fun(): config:\n",
            "{'act_fn': ReLU(),\n",
            " 'batch_size': 4,\n",
            " 'dropout_prob': 0.013449887805487422,\n",
            " 'epochs': 128,\n",
            " 'fc_units': 1024,\n",
            " 'lr_mult': 7.2179743740345215,\n",
            " 'optimizer': 'Adamax',\n",
            " 'patience': 8,\n",
            " 'rnn_units': 512}\n",
            "train_size: 8, val_size: 1 used for train & val data.\n",
            "LightDataModule.val_dataloader(). Val. set size: 1\n",
            "LightDataModule.train_dataloader(). data_train size: 8\n",
            "LightDataModule.val_dataloader(). Val. set size: 1\n"
          ]
        },
        {
          "data": {
            "text/html": [
              "<pre style=\"white-space:pre;overflow-x:auto;line-height:normal;font-family:Menlo,'DejaVu Sans Mono',consolas,'Courier New',monospace\">┏━━━━━━━━━━━━━━━━━━━━━━━━━━━┳━━━━━━━━━━━━━━━━━━━━━━━━━━━┓\n",
              "┃<span style=\"font-weight: bold\">      Validate metric      </span>┃<span style=\"font-weight: bold\">       DataLoader 0        </span>┃\n",
              "┡━━━━━━━━━━━━━━━━━━━━━━━━━━━╇━━━━━━━━━━━━━━━━━━━━━━━━━━━┩\n",
              "│<span style=\"color: #008080; text-decoration-color: #008080\">         hp_metric         </span>│<span style=\"color: #800080; text-decoration-color: #800080\">     9.899867057800293     </span>│\n",
              "│<span style=\"color: #008080; text-decoration-color: #008080\">         val_loss          </span>│<span style=\"color: #800080; text-decoration-color: #800080\">     9.899867057800293     </span>│\n",
              "└───────────────────────────┴───────────────────────────┘\n",
              "</pre>\n"
            ],
            "text/plain": [
              "┏━━━━━━━━━━━━━━━━━━━━━━━━━━━┳━━━━━━━━━━━━━━━━━━━━━━━━━━━┓\n",
              "┃\u001b[1m \u001b[0m\u001b[1m     Validate metric     \u001b[0m\u001b[1m \u001b[0m┃\u001b[1m \u001b[0m\u001b[1m      DataLoader 0       \u001b[0m\u001b[1m \u001b[0m┃\n",
              "┡━━━━━━━━━━━━━━━━━━━━━━━━━━━╇━━━━━━━━━━━━━━━━━━━━━━━━━━━┩\n",
              "│\u001b[36m \u001b[0m\u001b[36m        hp_metric        \u001b[0m\u001b[36m \u001b[0m│\u001b[35m \u001b[0m\u001b[35m    9.899867057800293    \u001b[0m\u001b[35m \u001b[0m│\n",
              "│\u001b[36m \u001b[0m\u001b[36m        val_loss         \u001b[0m\u001b[36m \u001b[0m│\u001b[35m \u001b[0m\u001b[35m    9.899867057800293    \u001b[0m\u001b[35m \u001b[0m│\n",
              "└───────────────────────────┴───────────────────────────┘\n"
            ]
          },
          "metadata": {},
          "output_type": "display_data"
        },
        {
          "name": "stderr",
          "output_type": "stream",
          "text": [
            "GPU available: True (mps), used: False\n",
            "TPU available: False, using: 0 TPU cores\n",
            "HPU available: False, using: 0 HPUs\n",
            "\n",
            "  | Name   | Type          | Params | Mode  | In sizes          | Out sizes \n",
            "----------------------------------------------------------------------------------\n",
            "0 | layers | ManyToManyRNN | 1.6 M  | train | [[4, 10, 1], [4]] | [4, 10, 1]\n",
            "----------------------------------------------------------------------------------\n",
            "1.6 M     Trainable params\n",
            "0         Non-trainable params\n",
            "1.6 M     Total params\n",
            "6.312     Total estimated model params size (MB)\n",
            "6         Modules in train mode\n",
            "0         Modules in eval mode\n"
          ]
        },
        {
          "name": "stdout",
          "output_type": "stream",
          "text": [
            "train_model result: {'val_loss': 9.899867057800293, 'hp_metric': 9.899867057800293}\n",
            "\n",
            "In fun(): config:\n",
            "{'act_fn': ReLU(),\n",
            " 'batch_size': 4,\n",
            " 'dropout_prob': 0.013449887805487422,\n",
            " 'epochs': 128,\n",
            " 'fc_units': 1024,\n",
            " 'lr_mult': 7.2179743740345215,\n",
            " 'optimizer': 'Adamax',\n",
            " 'patience': 8,\n",
            " 'rnn_units': 512}\n",
            "train_size: 8, val_size: 1 used for train & val data.\n",
            "LightDataModule.val_dataloader(). Val. set size: 1\n",
            "LightDataModule.train_dataloader(). data_train size: 8\n",
            "LightDataModule.val_dataloader(). Val. set size: 1\n"
          ]
        },
        {
          "data": {
            "text/html": [
              "<pre style=\"white-space:pre;overflow-x:auto;line-height:normal;font-family:Menlo,'DejaVu Sans Mono',consolas,'Courier New',monospace\">┏━━━━━━━━━━━━━━━━━━━━━━━━━━━┳━━━━━━━━━━━━━━━━━━━━━━━━━━━┓\n",
              "┃<span style=\"font-weight: bold\">      Validate metric      </span>┃<span style=\"font-weight: bold\">       DataLoader 0        </span>┃\n",
              "┡━━━━━━━━━━━━━━━━━━━━━━━━━━━╇━━━━━━━━━━━━━━━━━━━━━━━━━━━┩\n",
              "│<span style=\"color: #008080; text-decoration-color: #008080\">         hp_metric         </span>│<span style=\"color: #800080; text-decoration-color: #800080\">    14.816116333007812     </span>│\n",
              "│<span style=\"color: #008080; text-decoration-color: #008080\">         val_loss          </span>│<span style=\"color: #800080; text-decoration-color: #800080\">    14.816116333007812     </span>│\n",
              "└───────────────────────────┴───────────────────────────┘\n",
              "</pre>\n"
            ],
            "text/plain": [
              "┏━━━━━━━━━━━━━━━━━━━━━━━━━━━┳━━━━━━━━━━━━━━━━━━━━━━━━━━━┓\n",
              "┃\u001b[1m \u001b[0m\u001b[1m     Validate metric     \u001b[0m\u001b[1m \u001b[0m┃\u001b[1m \u001b[0m\u001b[1m      DataLoader 0       \u001b[0m\u001b[1m \u001b[0m┃\n",
              "┡━━━━━━━━━━━━━━━━━━━━━━━━━━━╇━━━━━━━━━━━━━━━━━━━━━━━━━━━┩\n",
              "│\u001b[36m \u001b[0m\u001b[36m        hp_metric        \u001b[0m\u001b[36m \u001b[0m│\u001b[35m \u001b[0m\u001b[35m   14.816116333007812    \u001b[0m\u001b[35m \u001b[0m│\n",
              "│\u001b[36m \u001b[0m\u001b[36m        val_loss         \u001b[0m\u001b[36m \u001b[0m│\u001b[35m \u001b[0m\u001b[35m   14.816116333007812    \u001b[0m\u001b[35m \u001b[0m│\n",
              "└───────────────────────────┴───────────────────────────┘\n"
            ]
          },
          "metadata": {},
          "output_type": "display_data"
        },
        {
          "name": "stdout",
          "output_type": "stream",
          "text": [
            "train_model result: {'val_loss': 14.816116333007812, 'hp_metric': 14.816116333007812}\n",
            "No spot_writer available.\n",
            "spotpython tuning: 0.0475609228014946 [----------] 3.37% \n"
          ]
        },
        {
          "name": "stderr",
          "output_type": "stream",
          "text": [
            "GPU available: True (mps), used: False\n",
            "TPU available: False, using: 0 TPU cores\n",
            "HPU available: False, using: 0 HPUs\n",
            "\n",
            "  | Name   | Type          | Params | Mode  | In sizes          | Out sizes \n",
            "----------------------------------------------------------------------------------\n",
            "0 | layers | ManyToManyRNN | 1.6 M  | train | [[4, 10, 1], [4]] | [4, 10, 1]\n",
            "----------------------------------------------------------------------------------\n",
            "1.6 M     Trainable params\n",
            "0         Non-trainable params\n",
            "1.6 M     Total params\n",
            "6.312     Total estimated model params size (MB)\n",
            "6         Modules in train mode\n",
            "0         Modules in eval mode\n"
          ]
        },
        {
          "name": "stdout",
          "output_type": "stream",
          "text": [
            "\n",
            "In fun(): config:\n",
            "{'act_fn': ReLU(),\n",
            " 'batch_size': 4,\n",
            " 'dropout_prob': 0.013520427303036627,\n",
            " 'epochs': 128,\n",
            " 'fc_units': 1024,\n",
            " 'lr_mult': 7.170035421214262,\n",
            " 'optimizer': 'AdamW',\n",
            " 'patience': 8,\n",
            " 'rnn_units': 512}\n",
            "train_size: 8, val_size: 1 used for train & val data.\n",
            "LightDataModule.val_dataloader(). Val. set size: 1\n",
            "LightDataModule.train_dataloader(). data_train size: 8\n",
            "LightDataModule.val_dataloader(). Val. set size: 1\n"
          ]
        },
        {
          "data": {
            "text/html": [
              "<pre style=\"white-space:pre;overflow-x:auto;line-height:normal;font-family:Menlo,'DejaVu Sans Mono',consolas,'Courier New',monospace\">┏━━━━━━━━━━━━━━━━━━━━━━━━━━━┳━━━━━━━━━━━━━━━━━━━━━━━━━━━┓\n",
              "┃<span style=\"font-weight: bold\">      Validate metric      </span>┃<span style=\"font-weight: bold\">       DataLoader 0        </span>┃\n",
              "┡━━━━━━━━━━━━━━━━━━━━━━━━━━━╇━━━━━━━━━━━━━━━━━━━━━━━━━━━┩\n",
              "│<span style=\"color: #008080; text-decoration-color: #008080\">         hp_metric         </span>│<span style=\"color: #800080; text-decoration-color: #800080\">    1.6531312465667725     </span>│\n",
              "│<span style=\"color: #008080; text-decoration-color: #008080\">         val_loss          </span>│<span style=\"color: #800080; text-decoration-color: #800080\">    1.6531312465667725     </span>│\n",
              "└───────────────────────────┴───────────────────────────┘\n",
              "</pre>\n"
            ],
            "text/plain": [
              "┏━━━━━━━━━━━━━━━━━━━━━━━━━━━┳━━━━━━━━━━━━━━━━━━━━━━━━━━━┓\n",
              "┃\u001b[1m \u001b[0m\u001b[1m     Validate metric     \u001b[0m\u001b[1m \u001b[0m┃\u001b[1m \u001b[0m\u001b[1m      DataLoader 0       \u001b[0m\u001b[1m \u001b[0m┃\n",
              "┡━━━━━━━━━━━━━━━━━━━━━━━━━━━╇━━━━━━━━━━━━━━━━━━━━━━━━━━━┩\n",
              "│\u001b[36m \u001b[0m\u001b[36m        hp_metric        \u001b[0m\u001b[36m \u001b[0m│\u001b[35m \u001b[0m\u001b[35m   1.6531312465667725    \u001b[0m\u001b[35m \u001b[0m│\n",
              "│\u001b[36m \u001b[0m\u001b[36m        val_loss         \u001b[0m\u001b[36m \u001b[0m│\u001b[35m \u001b[0m\u001b[35m   1.6531312465667725    \u001b[0m\u001b[35m \u001b[0m│\n",
              "└───────────────────────────┴───────────────────────────┘\n"
            ]
          },
          "metadata": {},
          "output_type": "display_data"
        },
        {
          "name": "stderr",
          "output_type": "stream",
          "text": [
            "GPU available: True (mps), used: False\n",
            "TPU available: False, using: 0 TPU cores\n",
            "HPU available: False, using: 0 HPUs\n",
            "\n",
            "  | Name   | Type          | Params | Mode  | In sizes          | Out sizes \n",
            "----------------------------------------------------------------------------------\n",
            "0 | layers | ManyToManyRNN | 1.6 M  | train | [[4, 10, 1], [4]] | [4, 10, 1]\n",
            "----------------------------------------------------------------------------------\n",
            "1.6 M     Trainable params\n",
            "0         Non-trainable params\n",
            "1.6 M     Total params\n",
            "6.312     Total estimated model params size (MB)\n",
            "6         Modules in train mode\n",
            "0         Modules in eval mode\n"
          ]
        },
        {
          "name": "stdout",
          "output_type": "stream",
          "text": [
            "train_model result: {'val_loss': 1.6531312465667725, 'hp_metric': 1.6531312465667725}\n",
            "\n",
            "In fun(): config:\n",
            "{'act_fn': ReLU(),\n",
            " 'batch_size': 4,\n",
            " 'dropout_prob': 0.013520427303036627,\n",
            " 'epochs': 128,\n",
            " 'fc_units': 1024,\n",
            " 'lr_mult': 7.170035421214262,\n",
            " 'optimizer': 'AdamW',\n",
            " 'patience': 8,\n",
            " 'rnn_units': 512}\n",
            "train_size: 8, val_size: 1 used for train & val data.\n",
            "LightDataModule.val_dataloader(). Val. set size: 1\n",
            "LightDataModule.train_dataloader(). data_train size: 8\n",
            "LightDataModule.val_dataloader(). Val. set size: 1\n"
          ]
        },
        {
          "data": {
            "text/html": [
              "<pre style=\"white-space:pre;overflow-x:auto;line-height:normal;font-family:Menlo,'DejaVu Sans Mono',consolas,'Courier New',monospace\">┏━━━━━━━━━━━━━━━━━━━━━━━━━━━┳━━━━━━━━━━━━━━━━━━━━━━━━━━━┓\n",
              "┃<span style=\"font-weight: bold\">      Validate metric      </span>┃<span style=\"font-weight: bold\">       DataLoader 0        </span>┃\n",
              "┡━━━━━━━━━━━━━━━━━━━━━━━━━━━╇━━━━━━━━━━━━━━━━━━━━━━━━━━━┩\n",
              "│<span style=\"color: #008080; text-decoration-color: #008080\">         hp_metric         </span>│<span style=\"color: #800080; text-decoration-color: #800080\">    4.8385186195373535     </span>│\n",
              "│<span style=\"color: #008080; text-decoration-color: #008080\">         val_loss          </span>│<span style=\"color: #800080; text-decoration-color: #800080\">    4.8385186195373535     </span>│\n",
              "└───────────────────────────┴───────────────────────────┘\n",
              "</pre>\n"
            ],
            "text/plain": [
              "┏━━━━━━━━━━━━━━━━━━━━━━━━━━━┳━━━━━━━━━━━━━━━━━━━━━━━━━━━┓\n",
              "┃\u001b[1m \u001b[0m\u001b[1m     Validate metric     \u001b[0m\u001b[1m \u001b[0m┃\u001b[1m \u001b[0m\u001b[1m      DataLoader 0       \u001b[0m\u001b[1m \u001b[0m┃\n",
              "┡━━━━━━━━━━━━━━━━━━━━━━━━━━━╇━━━━━━━━━━━━━━━━━━━━━━━━━━━┩\n",
              "│\u001b[36m \u001b[0m\u001b[36m        hp_metric        \u001b[0m\u001b[36m \u001b[0m│\u001b[35m \u001b[0m\u001b[35m   4.8385186195373535    \u001b[0m\u001b[35m \u001b[0m│\n",
              "│\u001b[36m \u001b[0m\u001b[36m        val_loss         \u001b[0m\u001b[36m \u001b[0m│\u001b[35m \u001b[0m\u001b[35m   4.8385186195373535    \u001b[0m\u001b[35m \u001b[0m│\n",
              "└───────────────────────────┴───────────────────────────┘\n"
            ]
          },
          "metadata": {},
          "output_type": "display_data"
        },
        {
          "name": "stdout",
          "output_type": "stream",
          "text": [
            "train_model result: {'val_loss': 4.8385186195373535, 'hp_metric': 4.8385186195373535}\n",
            "No spot_writer available.\n",
            "spotpython tuning: 0.0475609228014946 [----------] 4.83% \n"
          ]
        },
        {
          "name": "stderr",
          "output_type": "stream",
          "text": [
            "GPU available: True (mps), used: False\n",
            "TPU available: False, using: 0 TPU cores\n",
            "HPU available: False, using: 0 HPUs\n",
            "\n",
            "  | Name   | Type          | Params | Mode  | In sizes          | Out sizes \n",
            "----------------------------------------------------------------------------------\n",
            "0 | layers | ManyToManyRNN | 1.6 M  | train | [[4, 10, 1], [4]] | [4, 10, 1]\n",
            "----------------------------------------------------------------------------------\n",
            "1.6 M     Trainable params\n",
            "0         Non-trainable params\n",
            "1.6 M     Total params\n",
            "6.312     Total estimated model params size (MB)\n",
            "6         Modules in train mode\n",
            "0         Modules in eval mode\n"
          ]
        },
        {
          "name": "stdout",
          "output_type": "stream",
          "text": [
            "\n",
            "In fun(): config:\n",
            "{'act_fn': ReLU(),\n",
            " 'batch_size': 4,\n",
            " 'dropout_prob': 0.013571661621473854,\n",
            " 'epochs': 128,\n",
            " 'fc_units': 1024,\n",
            " 'lr_mult': 7.1354604470268965,\n",
            " 'optimizer': 'SparseAdam',\n",
            " 'patience': 8,\n",
            " 'rnn_units': 512}\n",
            "train_size: 8, val_size: 1 used for train & val data.\n",
            "LightDataModule.val_dataloader(). Val. set size: 1\n",
            "LightDataModule.train_dataloader(). data_train size: 8\n",
            "train_model(): trainer.fit failed with exception: SparseAdam does not support dense gradients, please consider Adam instead\n",
            "LightDataModule.val_dataloader(). Val. set size: 1\n"
          ]
        },
        {
          "data": {
            "text/html": [
              "<pre style=\"white-space:pre;overflow-x:auto;line-height:normal;font-family:Menlo,'DejaVu Sans Mono',consolas,'Courier New',monospace\">┏━━━━━━━━━━━━━━━━━━━━━━━━━━━┳━━━━━━━━━━━━━━━━━━━━━━━━━━━┓\n",
              "┃<span style=\"font-weight: bold\">      Validate metric      </span>┃<span style=\"font-weight: bold\">       DataLoader 0        </span>┃\n",
              "┡━━━━━━━━━━━━━━━━━━━━━━━━━━━╇━━━━━━━━━━━━━━━━━━━━━━━━━━━┩\n",
              "│<span style=\"color: #008080; text-decoration-color: #008080\">         hp_metric         </span>│<span style=\"color: #800080; text-decoration-color: #800080\">    27.674213409423828     </span>│\n",
              "│<span style=\"color: #008080; text-decoration-color: #008080\">         val_loss          </span>│<span style=\"color: #800080; text-decoration-color: #800080\">    27.674213409423828     </span>│\n",
              "└───────────────────────────┴───────────────────────────┘\n",
              "</pre>\n"
            ],
            "text/plain": [
              "┏━━━━━━━━━━━━━━━━━━━━━━━━━━━┳━━━━━━━━━━━━━━━━━━━━━━━━━━━┓\n",
              "┃\u001b[1m \u001b[0m\u001b[1m     Validate metric     \u001b[0m\u001b[1m \u001b[0m┃\u001b[1m \u001b[0m\u001b[1m      DataLoader 0       \u001b[0m\u001b[1m \u001b[0m┃\n",
              "┡━━━━━━━━━━━━━━━━━━━━━━━━━━━╇━━━━━━━━━━━━━━━━━━━━━━━━━━━┩\n",
              "│\u001b[36m \u001b[0m\u001b[36m        hp_metric        \u001b[0m\u001b[36m \u001b[0m│\u001b[35m \u001b[0m\u001b[35m   27.674213409423828    \u001b[0m\u001b[35m \u001b[0m│\n",
              "│\u001b[36m \u001b[0m\u001b[36m        val_loss         \u001b[0m\u001b[36m \u001b[0m│\u001b[35m \u001b[0m\u001b[35m   27.674213409423828    \u001b[0m\u001b[35m \u001b[0m│\n",
              "└───────────────────────────┴───────────────────────────┘\n"
            ]
          },
          "metadata": {},
          "output_type": "display_data"
        },
        {
          "name": "stderr",
          "output_type": "stream",
          "text": [
            "GPU available: True (mps), used: False\n",
            "TPU available: False, using: 0 TPU cores\n",
            "HPU available: False, using: 0 HPUs\n",
            "\n",
            "  | Name   | Type          | Params | Mode  | In sizes          | Out sizes \n",
            "----------------------------------------------------------------------------------\n",
            "0 | layers | ManyToManyRNN | 1.6 M  | train | [[4, 10, 1], [4]] | [4, 10, 1]\n",
            "----------------------------------------------------------------------------------\n",
            "1.6 M     Trainable params\n",
            "0         Non-trainable params\n",
            "1.6 M     Total params\n",
            "6.312     Total estimated model params size (MB)\n",
            "6         Modules in train mode\n",
            "0         Modules in eval mode\n"
          ]
        },
        {
          "name": "stdout",
          "output_type": "stream",
          "text": [
            "train_model result: {'val_loss': 27.674213409423828, 'hp_metric': 27.674213409423828}\n",
            "\n",
            "In fun(): config:\n",
            "{'act_fn': ReLU(),\n",
            " 'batch_size': 4,\n",
            " 'dropout_prob': 0.013571661621473854,\n",
            " 'epochs': 128,\n",
            " 'fc_units': 1024,\n",
            " 'lr_mult': 7.1354604470268965,\n",
            " 'optimizer': 'SparseAdam',\n",
            " 'patience': 8,\n",
            " 'rnn_units': 512}\n",
            "train_size: 8, val_size: 1 used for train & val data.\n",
            "LightDataModule.val_dataloader(). Val. set size: 1\n",
            "LightDataModule.train_dataloader(). data_train size: 8\n",
            "train_model(): trainer.fit failed with exception: SparseAdam does not support dense gradients, please consider Adam instead\n",
            "LightDataModule.val_dataloader(). Val. set size: 1\n"
          ]
        },
        {
          "data": {
            "text/html": [
              "<pre style=\"white-space:pre;overflow-x:auto;line-height:normal;font-family:Menlo,'DejaVu Sans Mono',consolas,'Courier New',monospace\">┏━━━━━━━━━━━━━━━━━━━━━━━━━━━┳━━━━━━━━━━━━━━━━━━━━━━━━━━━┓\n",
              "┃<span style=\"font-weight: bold\">      Validate metric      </span>┃<span style=\"font-weight: bold\">       DataLoader 0        </span>┃\n",
              "┡━━━━━━━━━━━━━━━━━━━━━━━━━━━╇━━━━━━━━━━━━━━━━━━━━━━━━━━━┩\n",
              "│<span style=\"color: #008080; text-decoration-color: #008080\">         hp_metric         </span>│<span style=\"color: #800080; text-decoration-color: #800080\">    26.140949249267578     </span>│\n",
              "│<span style=\"color: #008080; text-decoration-color: #008080\">         val_loss          </span>│<span style=\"color: #800080; text-decoration-color: #800080\">    26.140949249267578     </span>│\n",
              "└───────────────────────────┴───────────────────────────┘\n",
              "</pre>\n"
            ],
            "text/plain": [
              "┏━━━━━━━━━━━━━━━━━━━━━━━━━━━┳━━━━━━━━━━━━━━━━━━━━━━━━━━━┓\n",
              "┃\u001b[1m \u001b[0m\u001b[1m     Validate metric     \u001b[0m\u001b[1m \u001b[0m┃\u001b[1m \u001b[0m\u001b[1m      DataLoader 0       \u001b[0m\u001b[1m \u001b[0m┃\n",
              "┡━━━━━━━━━━━━━━━━━━━━━━━━━━━╇━━━━━━━━━━━━━━━━━━━━━━━━━━━┩\n",
              "│\u001b[36m \u001b[0m\u001b[36m        hp_metric        \u001b[0m\u001b[36m \u001b[0m│\u001b[35m \u001b[0m\u001b[35m   26.140949249267578    \u001b[0m\u001b[35m \u001b[0m│\n",
              "│\u001b[36m \u001b[0m\u001b[36m        val_loss         \u001b[0m\u001b[36m \u001b[0m│\u001b[35m \u001b[0m\u001b[35m   26.140949249267578    \u001b[0m\u001b[35m \u001b[0m│\n",
              "└───────────────────────────┴───────────────────────────┘\n"
            ]
          },
          "metadata": {},
          "output_type": "display_data"
        },
        {
          "name": "stdout",
          "output_type": "stream",
          "text": [
            "train_model result: {'val_loss': 26.140949249267578, 'hp_metric': 26.140949249267578}\n",
            "No spot_writer available.\n",
            "spotpython tuning: 0.0475609228014946 [#---------] 5.20% \n",
            "\n",
            "In fun(): config:\n",
            "{'act_fn': ReLU(),\n",
            " 'batch_size': 4,\n",
            " 'dropout_prob': 0.01365057260779234,\n",
            " 'epochs': 128,\n",
            " 'fc_units': 1024,\n",
            " 'lr_mult': 7.085964680697487,\n",
            " 'optimizer': 'SparseAdam',\n",
            " 'patience': 8,\n",
            " 'rnn_units': 512}\n"
          ]
        },
        {
          "name": "stderr",
          "output_type": "stream",
          "text": [
            "GPU available: True (mps), used: False\n",
            "TPU available: False, using: 0 TPU cores\n",
            "HPU available: False, using: 0 HPUs\n",
            "\n",
            "  | Name   | Type          | Params | Mode  | In sizes          | Out sizes \n",
            "----------------------------------------------------------------------------------\n",
            "0 | layers | ManyToManyRNN | 1.6 M  | train | [[4, 10, 1], [4]] | [4, 10, 1]\n",
            "----------------------------------------------------------------------------------\n",
            "1.6 M     Trainable params\n",
            "0         Non-trainable params\n",
            "1.6 M     Total params\n",
            "6.312     Total estimated model params size (MB)\n",
            "6         Modules in train mode\n",
            "0         Modules in eval mode\n"
          ]
        },
        {
          "name": "stdout",
          "output_type": "stream",
          "text": [
            "train_size: 8, val_size: 1 used for train & val data.\n",
            "LightDataModule.val_dataloader(). Val. set size: 1\n",
            "LightDataModule.train_dataloader(). data_train size: 8\n",
            "train_model(): trainer.fit failed with exception: SparseAdam does not support dense gradients, please consider Adam instead\n",
            "LightDataModule.val_dataloader(). Val. set size: 1\n"
          ]
        },
        {
          "data": {
            "text/html": [
              "<pre style=\"white-space:pre;overflow-x:auto;line-height:normal;font-family:Menlo,'DejaVu Sans Mono',consolas,'Courier New',monospace\">┏━━━━━━━━━━━━━━━━━━━━━━━━━━━┳━━━━━━━━━━━━━━━━━━━━━━━━━━━┓\n",
              "┃<span style=\"font-weight: bold\">      Validate metric      </span>┃<span style=\"font-weight: bold\">       DataLoader 0        </span>┃\n",
              "┡━━━━━━━━━━━━━━━━━━━━━━━━━━━╇━━━━━━━━━━━━━━━━━━━━━━━━━━━┩\n",
              "│<span style=\"color: #008080; text-decoration-color: #008080\">         hp_metric         </span>│<span style=\"color: #800080; text-decoration-color: #800080\">    26.578359603881836     </span>│\n",
              "│<span style=\"color: #008080; text-decoration-color: #008080\">         val_loss          </span>│<span style=\"color: #800080; text-decoration-color: #800080\">    26.578359603881836     </span>│\n",
              "└───────────────────────────┴───────────────────────────┘\n",
              "</pre>\n"
            ],
            "text/plain": [
              "┏━━━━━━━━━━━━━━━━━━━━━━━━━━━┳━━━━━━━━━━━━━━━━━━━━━━━━━━━┓\n",
              "┃\u001b[1m \u001b[0m\u001b[1m     Validate metric     \u001b[0m\u001b[1m \u001b[0m┃\u001b[1m \u001b[0m\u001b[1m      DataLoader 0       \u001b[0m\u001b[1m \u001b[0m┃\n",
              "┡━━━━━━━━━━━━━━━━━━━━━━━━━━━╇━━━━━━━━━━━━━━━━━━━━━━━━━━━┩\n",
              "│\u001b[36m \u001b[0m\u001b[36m        hp_metric        \u001b[0m\u001b[36m \u001b[0m│\u001b[35m \u001b[0m\u001b[35m   26.578359603881836    \u001b[0m\u001b[35m \u001b[0m│\n",
              "│\u001b[36m \u001b[0m\u001b[36m        val_loss         \u001b[0m\u001b[36m \u001b[0m│\u001b[35m \u001b[0m\u001b[35m   26.578359603881836    \u001b[0m\u001b[35m \u001b[0m│\n",
              "└───────────────────────────┴───────────────────────────┘\n"
            ]
          },
          "metadata": {},
          "output_type": "display_data"
        },
        {
          "name": "stderr",
          "output_type": "stream",
          "text": [
            "GPU available: True (mps), used: False\n",
            "TPU available: False, using: 0 TPU cores\n",
            "HPU available: False, using: 0 HPUs\n",
            "\n",
            "  | Name   | Type          | Params | Mode  | In sizes          | Out sizes \n",
            "----------------------------------------------------------------------------------\n",
            "0 | layers | ManyToManyRNN | 1.6 M  | train | [[4, 10, 1], [4]] | [4, 10, 1]\n",
            "----------------------------------------------------------------------------------\n",
            "1.6 M     Trainable params\n",
            "0         Non-trainable params\n",
            "1.6 M     Total params\n",
            "6.312     Total estimated model params size (MB)\n",
            "6         Modules in train mode\n",
            "0         Modules in eval mode\n"
          ]
        },
        {
          "name": "stdout",
          "output_type": "stream",
          "text": [
            "train_model result: {'val_loss': 26.578359603881836, 'hp_metric': 26.578359603881836}\n",
            "\n",
            "In fun(): config:\n",
            "{'act_fn': ReLU(),\n",
            " 'batch_size': 4,\n",
            " 'dropout_prob': 0.01365057260779234,\n",
            " 'epochs': 128,\n",
            " 'fc_units': 1024,\n",
            " 'lr_mult': 7.085964680697487,\n",
            " 'optimizer': 'SparseAdam',\n",
            " 'patience': 8,\n",
            " 'rnn_units': 512}\n",
            "train_size: 8, val_size: 1 used for train & val data.\n",
            "LightDataModule.val_dataloader(). Val. set size: 1\n",
            "LightDataModule.train_dataloader(). data_train size: 8\n",
            "train_model(): trainer.fit failed with exception: SparseAdam does not support dense gradients, please consider Adam instead\n",
            "LightDataModule.val_dataloader(). Val. set size: 1\n"
          ]
        },
        {
          "data": {
            "text/html": [
              "<pre style=\"white-space:pre;overflow-x:auto;line-height:normal;font-family:Menlo,'DejaVu Sans Mono',consolas,'Courier New',monospace\">┏━━━━━━━━━━━━━━━━━━━━━━━━━━━┳━━━━━━━━━━━━━━━━━━━━━━━━━━━┓\n",
              "┃<span style=\"font-weight: bold\">      Validate metric      </span>┃<span style=\"font-weight: bold\">       DataLoader 0        </span>┃\n",
              "┡━━━━━━━━━━━━━━━━━━━━━━━━━━━╇━━━━━━━━━━━━━━━━━━━━━━━━━━━┩\n",
              "│<span style=\"color: #008080; text-decoration-color: #008080\">         hp_metric         </span>│<span style=\"color: #800080; text-decoration-color: #800080\">     26.77334213256836     </span>│\n",
              "│<span style=\"color: #008080; text-decoration-color: #008080\">         val_loss          </span>│<span style=\"color: #800080; text-decoration-color: #800080\">     26.77334213256836     </span>│\n",
              "└───────────────────────────┴───────────────────────────┘\n",
              "</pre>\n"
            ],
            "text/plain": [
              "┏━━━━━━━━━━━━━━━━━━━━━━━━━━━┳━━━━━━━━━━━━━━━━━━━━━━━━━━━┓\n",
              "┃\u001b[1m \u001b[0m\u001b[1m     Validate metric     \u001b[0m\u001b[1m \u001b[0m┃\u001b[1m \u001b[0m\u001b[1m      DataLoader 0       \u001b[0m\u001b[1m \u001b[0m┃\n",
              "┡━━━━━━━━━━━━━━━━━━━━━━━━━━━╇━━━━━━━━━━━━━━━━━━━━━━━━━━━┩\n",
              "│\u001b[36m \u001b[0m\u001b[36m        hp_metric        \u001b[0m\u001b[36m \u001b[0m│\u001b[35m \u001b[0m\u001b[35m    26.77334213256836    \u001b[0m\u001b[35m \u001b[0m│\n",
              "│\u001b[36m \u001b[0m\u001b[36m        val_loss         \u001b[0m\u001b[36m \u001b[0m│\u001b[35m \u001b[0m\u001b[35m    26.77334213256836    \u001b[0m\u001b[35m \u001b[0m│\n",
              "└───────────────────────────┴───────────────────────────┘\n"
            ]
          },
          "metadata": {},
          "output_type": "display_data"
        },
        {
          "name": "stdout",
          "output_type": "stream",
          "text": [
            "train_model result: {'val_loss': 26.77334213256836, 'hp_metric': 26.77334213256836}\n",
            "No spot_writer available.\n",
            "spotpython tuning: 0.0475609228014946 [#---------] 5.64% \n"
          ]
        },
        {
          "name": "stderr",
          "output_type": "stream",
          "text": [
            "GPU available: True (mps), used: False\n",
            "TPU available: False, using: 0 TPU cores\n",
            "HPU available: False, using: 0 HPUs\n",
            "\n",
            "  | Name   | Type          | Params | Mode  | In sizes          | Out sizes \n",
            "----------------------------------------------------------------------------------\n",
            "0 | layers | ManyToManyRNN | 1.6 M  | train | [[4, 10, 1], [4]] | [4, 10, 1]\n",
            "----------------------------------------------------------------------------------\n",
            "1.6 M     Trainable params\n",
            "0         Non-trainable params\n",
            "1.6 M     Total params\n",
            "6.312     Total estimated model params size (MB)\n",
            "6         Modules in train mode\n",
            "0         Modules in eval mode\n"
          ]
        },
        {
          "name": "stdout",
          "output_type": "stream",
          "text": [
            "\n",
            "In fun(): config:\n",
            "{'act_fn': ReLU(),\n",
            " 'batch_size': 4,\n",
            " 'dropout_prob': 0.013733591314270845,\n",
            " 'epochs': 128,\n",
            " 'fc_units': 1024,\n",
            " 'lr_mult': 7.036337697398899,\n",
            " 'optimizer': 'SparseAdam',\n",
            " 'patience': 8,\n",
            " 'rnn_units': 512}\n",
            "train_size: 8, val_size: 1 used for train & val data.\n",
            "LightDataModule.val_dataloader(). Val. set size: 1\n",
            "LightDataModule.train_dataloader(). data_train size: 8\n",
            "train_model(): trainer.fit failed with exception: SparseAdam does not support dense gradients, please consider Adam instead\n",
            "LightDataModule.val_dataloader(). Val. set size: 1\n"
          ]
        },
        {
          "data": {
            "text/html": [
              "<pre style=\"white-space:pre;overflow-x:auto;line-height:normal;font-family:Menlo,'DejaVu Sans Mono',consolas,'Courier New',monospace\">┏━━━━━━━━━━━━━━━━━━━━━━━━━━━┳━━━━━━━━━━━━━━━━━━━━━━━━━━━┓\n",
              "┃<span style=\"font-weight: bold\">      Validate metric      </span>┃<span style=\"font-weight: bold\">       DataLoader 0        </span>┃\n",
              "┡━━━━━━━━━━━━━━━━━━━━━━━━━━━╇━━━━━━━━━━━━━━━━━━━━━━━━━━━┩\n",
              "│<span style=\"color: #008080; text-decoration-color: #008080\">         hp_metric         </span>│<span style=\"color: #800080; text-decoration-color: #800080\">     26.71097183227539     </span>│\n",
              "│<span style=\"color: #008080; text-decoration-color: #008080\">         val_loss          </span>│<span style=\"color: #800080; text-decoration-color: #800080\">     26.71097183227539     </span>│\n",
              "└───────────────────────────┴───────────────────────────┘\n",
              "</pre>\n"
            ],
            "text/plain": [
              "┏━━━━━━━━━━━━━━━━━━━━━━━━━━━┳━━━━━━━━━━━━━━━━━━━━━━━━━━━┓\n",
              "┃\u001b[1m \u001b[0m\u001b[1m     Validate metric     \u001b[0m\u001b[1m \u001b[0m┃\u001b[1m \u001b[0m\u001b[1m      DataLoader 0       \u001b[0m\u001b[1m \u001b[0m┃\n",
              "┡━━━━━━━━━━━━━━━━━━━━━━━━━━━╇━━━━━━━━━━━━━━━━━━━━━━━━━━━┩\n",
              "│\u001b[36m \u001b[0m\u001b[36m        hp_metric        \u001b[0m\u001b[36m \u001b[0m│\u001b[35m \u001b[0m\u001b[35m    26.71097183227539    \u001b[0m\u001b[35m \u001b[0m│\n",
              "│\u001b[36m \u001b[0m\u001b[36m        val_loss         \u001b[0m\u001b[36m \u001b[0m│\u001b[35m \u001b[0m\u001b[35m    26.71097183227539    \u001b[0m\u001b[35m \u001b[0m│\n",
              "└───────────────────────────┴───────────────────────────┘\n"
            ]
          },
          "metadata": {},
          "output_type": "display_data"
        },
        {
          "name": "stderr",
          "output_type": "stream",
          "text": [
            "GPU available: True (mps), used: False\n",
            "TPU available: False, using: 0 TPU cores\n",
            "HPU available: False, using: 0 HPUs\n",
            "\n",
            "  | Name   | Type          | Params | Mode  | In sizes          | Out sizes \n",
            "----------------------------------------------------------------------------------\n",
            "0 | layers | ManyToManyRNN | 1.6 M  | train | [[4, 10, 1], [4]] | [4, 10, 1]\n",
            "----------------------------------------------------------------------------------\n",
            "1.6 M     Trainable params\n",
            "0         Non-trainable params\n",
            "1.6 M     Total params\n",
            "6.312     Total estimated model params size (MB)\n",
            "6         Modules in train mode\n",
            "0         Modules in eval mode\n"
          ]
        },
        {
          "name": "stdout",
          "output_type": "stream",
          "text": [
            "train_model result: {'val_loss': 26.71097183227539, 'hp_metric': 26.71097183227539}\n",
            "\n",
            "In fun(): config:\n",
            "{'act_fn': ReLU(),\n",
            " 'batch_size': 4,\n",
            " 'dropout_prob': 0.013733591314270845,\n",
            " 'epochs': 128,\n",
            " 'fc_units': 1024,\n",
            " 'lr_mult': 7.036337697398899,\n",
            " 'optimizer': 'SparseAdam',\n",
            " 'patience': 8,\n",
            " 'rnn_units': 512}\n",
            "train_size: 8, val_size: 1 used for train & val data.\n",
            "LightDataModule.val_dataloader(). Val. set size: 1\n",
            "LightDataModule.train_dataloader(). data_train size: 8\n",
            "train_model(): trainer.fit failed with exception: SparseAdam does not support dense gradients, please consider Adam instead\n",
            "LightDataModule.val_dataloader(). Val. set size: 1\n"
          ]
        },
        {
          "data": {
            "text/html": [
              "<pre style=\"white-space:pre;overflow-x:auto;line-height:normal;font-family:Menlo,'DejaVu Sans Mono',consolas,'Courier New',monospace\">┏━━━━━━━━━━━━━━━━━━━━━━━━━━━┳━━━━━━━━━━━━━━━━━━━━━━━━━━━┓\n",
              "┃<span style=\"font-weight: bold\">      Validate metric      </span>┃<span style=\"font-weight: bold\">       DataLoader 0        </span>┃\n",
              "┡━━━━━━━━━━━━━━━━━━━━━━━━━━━╇━━━━━━━━━━━━━━━━━━━━━━━━━━━┩\n",
              "│<span style=\"color: #008080; text-decoration-color: #008080\">         hp_metric         </span>│<span style=\"color: #800080; text-decoration-color: #800080\">    27.333084106445312     </span>│\n",
              "│<span style=\"color: #008080; text-decoration-color: #008080\">         val_loss          </span>│<span style=\"color: #800080; text-decoration-color: #800080\">    27.333084106445312     </span>│\n",
              "└───────────────────────────┴───────────────────────────┘\n",
              "</pre>\n"
            ],
            "text/plain": [
              "┏━━━━━━━━━━━━━━━━━━━━━━━━━━━┳━━━━━━━━━━━━━━━━━━━━━━━━━━━┓\n",
              "┃\u001b[1m \u001b[0m\u001b[1m     Validate metric     \u001b[0m\u001b[1m \u001b[0m┃\u001b[1m \u001b[0m\u001b[1m      DataLoader 0       \u001b[0m\u001b[1m \u001b[0m┃\n",
              "┡━━━━━━━━━━━━━━━━━━━━━━━━━━━╇━━━━━━━━━━━━━━━━━━━━━━━━━━━┩\n",
              "│\u001b[36m \u001b[0m\u001b[36m        hp_metric        \u001b[0m\u001b[36m \u001b[0m│\u001b[35m \u001b[0m\u001b[35m   27.333084106445312    \u001b[0m\u001b[35m \u001b[0m│\n",
              "│\u001b[36m \u001b[0m\u001b[36m        val_loss         \u001b[0m\u001b[36m \u001b[0m│\u001b[35m \u001b[0m\u001b[35m   27.333084106445312    \u001b[0m\u001b[35m \u001b[0m│\n",
              "└───────────────────────────┴───────────────────────────┘\n"
            ]
          },
          "metadata": {},
          "output_type": "display_data"
        },
        {
          "name": "stdout",
          "output_type": "stream",
          "text": [
            "train_model result: {'val_loss': 27.333084106445312, 'hp_metric': 27.333084106445312}\n",
            "No spot_writer available.\n",
            "spotpython tuning: 0.0475609228014946 [#---------] 6.13% \n"
          ]
        },
        {
          "name": "stderr",
          "output_type": "stream",
          "text": [
            "GPU available: True (mps), used: False\n",
            "TPU available: False, using: 0 TPU cores\n",
            "HPU available: False, using: 0 HPUs\n",
            "\n",
            "  | Name   | Type          | Params | Mode  | In sizes          | Out sizes \n",
            "----------------------------------------------------------------------------------\n",
            "0 | layers | ManyToManyRNN | 1.6 M  | train | [[4, 10, 1], [4]] | [4, 10, 1]\n",
            "----------------------------------------------------------------------------------\n",
            "1.6 M     Trainable params\n",
            "0         Non-trainable params\n",
            "1.6 M     Total params\n",
            "6.312     Total estimated model params size (MB)\n",
            "6         Modules in train mode\n",
            "0         Modules in eval mode\n"
          ]
        },
        {
          "name": "stdout",
          "output_type": "stream",
          "text": [
            "\n",
            "In fun(): config:\n",
            "{'act_fn': ReLU(),\n",
            " 'batch_size': 4,\n",
            " 'dropout_prob': 0.013805971349994084,\n",
            " 'epochs': 128,\n",
            " 'fc_units': 1024,\n",
            " 'lr_mult': 6.994365492385653,\n",
            " 'optimizer': 'SparseAdam',\n",
            " 'patience': 8,\n",
            " 'rnn_units': 512}\n",
            "train_size: 8, val_size: 1 used for train & val data.\n",
            "LightDataModule.val_dataloader(). Val. set size: 1\n",
            "LightDataModule.train_dataloader(). data_train size: 8\n",
            "train_model(): trainer.fit failed with exception: SparseAdam does not support dense gradients, please consider Adam instead\n",
            "LightDataModule.val_dataloader(). Val. set size: 1\n"
          ]
        },
        {
          "data": {
            "text/html": [
              "<pre style=\"white-space:pre;overflow-x:auto;line-height:normal;font-family:Menlo,'DejaVu Sans Mono',consolas,'Courier New',monospace\">┏━━━━━━━━━━━━━━━━━━━━━━━━━━━┳━━━━━━━━━━━━━━━━━━━━━━━━━━━┓\n",
              "┃<span style=\"font-weight: bold\">      Validate metric      </span>┃<span style=\"font-weight: bold\">       DataLoader 0        </span>┃\n",
              "┡━━━━━━━━━━━━━━━━━━━━━━━━━━━╇━━━━━━━━━━━━━━━━━━━━━━━━━━━┩\n",
              "│<span style=\"color: #008080; text-decoration-color: #008080\">         hp_metric         </span>│<span style=\"color: #800080; text-decoration-color: #800080\">    26.900768280029297     </span>│\n",
              "│<span style=\"color: #008080; text-decoration-color: #008080\">         val_loss          </span>│<span style=\"color: #800080; text-decoration-color: #800080\">    26.900768280029297     </span>│\n",
              "└───────────────────────────┴───────────────────────────┘\n",
              "</pre>\n"
            ],
            "text/plain": [
              "┏━━━━━━━━━━━━━━━━━━━━━━━━━━━┳━━━━━━━━━━━━━━━━━━━━━━━━━━━┓\n",
              "┃\u001b[1m \u001b[0m\u001b[1m     Validate metric     \u001b[0m\u001b[1m \u001b[0m┃\u001b[1m \u001b[0m\u001b[1m      DataLoader 0       \u001b[0m\u001b[1m \u001b[0m┃\n",
              "┡━━━━━━━━━━━━━━━━━━━━━━━━━━━╇━━━━━━━━━━━━━━━━━━━━━━━━━━━┩\n",
              "│\u001b[36m \u001b[0m\u001b[36m        hp_metric        \u001b[0m\u001b[36m \u001b[0m│\u001b[35m \u001b[0m\u001b[35m   26.900768280029297    \u001b[0m\u001b[35m \u001b[0m│\n",
              "│\u001b[36m \u001b[0m\u001b[36m        val_loss         \u001b[0m\u001b[36m \u001b[0m│\u001b[35m \u001b[0m\u001b[35m   26.900768280029297    \u001b[0m\u001b[35m \u001b[0m│\n",
              "└───────────────────────────┴───────────────────────────┘\n"
            ]
          },
          "metadata": {},
          "output_type": "display_data"
        },
        {
          "name": "stderr",
          "output_type": "stream",
          "text": [
            "GPU available: True (mps), used: False\n",
            "TPU available: False, using: 0 TPU cores\n",
            "HPU available: False, using: 0 HPUs\n",
            "\n",
            "  | Name   | Type          | Params | Mode  | In sizes          | Out sizes \n",
            "----------------------------------------------------------------------------------\n",
            "0 | layers | ManyToManyRNN | 1.6 M  | train | [[4, 10, 1], [4]] | [4, 10, 1]\n",
            "----------------------------------------------------------------------------------\n",
            "1.6 M     Trainable params\n",
            "0         Non-trainable params\n",
            "1.6 M     Total params\n",
            "6.312     Total estimated model params size (MB)\n",
            "6         Modules in train mode\n",
            "0         Modules in eval mode\n"
          ]
        },
        {
          "name": "stdout",
          "output_type": "stream",
          "text": [
            "train_model result: {'val_loss': 26.900768280029297, 'hp_metric': 26.900768280029297}\n",
            "\n",
            "In fun(): config:\n",
            "{'act_fn': ReLU(),\n",
            " 'batch_size': 4,\n",
            " 'dropout_prob': 0.013805971349994084,\n",
            " 'epochs': 128,\n",
            " 'fc_units': 1024,\n",
            " 'lr_mult': 6.994365492385653,\n",
            " 'optimizer': 'SparseAdam',\n",
            " 'patience': 8,\n",
            " 'rnn_units': 512}\n",
            "train_size: 8, val_size: 1 used for train & val data.\n",
            "LightDataModule.val_dataloader(). Val. set size: 1\n",
            "LightDataModule.train_dataloader(). data_train size: 8\n",
            "train_model(): trainer.fit failed with exception: SparseAdam does not support dense gradients, please consider Adam instead\n",
            "LightDataModule.val_dataloader(). Val. set size: 1\n"
          ]
        },
        {
          "data": {
            "text/html": [
              "<pre style=\"white-space:pre;overflow-x:auto;line-height:normal;font-family:Menlo,'DejaVu Sans Mono',consolas,'Courier New',monospace\">┏━━━━━━━━━━━━━━━━━━━━━━━━━━━┳━━━━━━━━━━━━━━━━━━━━━━━━━━━┓\n",
              "┃<span style=\"font-weight: bold\">      Validate metric      </span>┃<span style=\"font-weight: bold\">       DataLoader 0        </span>┃\n",
              "┡━━━━━━━━━━━━━━━━━━━━━━━━━━━╇━━━━━━━━━━━━━━━━━━━━━━━━━━━┩\n",
              "│<span style=\"color: #008080; text-decoration-color: #008080\">         hp_metric         </span>│<span style=\"color: #800080; text-decoration-color: #800080\">    26.584407806396484     </span>│\n",
              "│<span style=\"color: #008080; text-decoration-color: #008080\">         val_loss          </span>│<span style=\"color: #800080; text-decoration-color: #800080\">    26.584407806396484     </span>│\n",
              "└───────────────────────────┴───────────────────────────┘\n",
              "</pre>\n"
            ],
            "text/plain": [
              "┏━━━━━━━━━━━━━━━━━━━━━━━━━━━┳━━━━━━━━━━━━━━━━━━━━━━━━━━━┓\n",
              "┃\u001b[1m \u001b[0m\u001b[1m     Validate metric     \u001b[0m\u001b[1m \u001b[0m┃\u001b[1m \u001b[0m\u001b[1m      DataLoader 0       \u001b[0m\u001b[1m \u001b[0m┃\n",
              "┡━━━━━━━━━━━━━━━━━━━━━━━━━━━╇━━━━━━━━━━━━━━━━━━━━━━━━━━━┩\n",
              "│\u001b[36m \u001b[0m\u001b[36m        hp_metric        \u001b[0m\u001b[36m \u001b[0m│\u001b[35m \u001b[0m\u001b[35m   26.584407806396484    \u001b[0m\u001b[35m \u001b[0m│\n",
              "│\u001b[36m \u001b[0m\u001b[36m        val_loss         \u001b[0m\u001b[36m \u001b[0m│\u001b[35m \u001b[0m\u001b[35m   26.584407806396484    \u001b[0m\u001b[35m \u001b[0m│\n",
              "└───────────────────────────┴───────────────────────────┘\n"
            ]
          },
          "metadata": {},
          "output_type": "display_data"
        },
        {
          "name": "stdout",
          "output_type": "stream",
          "text": [
            "train_model result: {'val_loss': 26.584407806396484, 'hp_metric': 26.584407806396484}\n",
            "No spot_writer available.\n",
            "spotpython tuning: 0.0475609228014946 [#---------] 6.60% \n"
          ]
        },
        {
          "name": "stderr",
          "output_type": "stream",
          "text": [
            "GPU available: True (mps), used: False\n",
            "TPU available: False, using: 0 TPU cores\n",
            "HPU available: False, using: 0 HPUs\n",
            "\n",
            "  | Name   | Type          | Params | Mode  | In sizes          | Out sizes \n",
            "----------------------------------------------------------------------------------\n",
            "0 | layers | ManyToManyRNN | 1.6 M  | train | [[4, 10, 1], [4]] | [4, 10, 1]\n",
            "----------------------------------------------------------------------------------\n",
            "1.6 M     Trainable params\n",
            "0         Non-trainable params\n",
            "1.6 M     Total params\n",
            "6.312     Total estimated model params size (MB)\n",
            "6         Modules in train mode\n",
            "0         Modules in eval mode\n"
          ]
        },
        {
          "name": "stdout",
          "output_type": "stream",
          "text": [
            "\n",
            "In fun(): config:\n",
            "{'act_fn': ReLU(),\n",
            " 'batch_size': 4,\n",
            " 'dropout_prob': 0.013874693962472998,\n",
            " 'epochs': 128,\n",
            " 'fc_units': 1024,\n",
            " 'lr_mult': 6.958792148009655,\n",
            " 'optimizer': 'SparseAdam',\n",
            " 'patience': 8,\n",
            " 'rnn_units': 512}\n",
            "train_size: 8, val_size: 1 used for train & val data.\n",
            "LightDataModule.val_dataloader(). Val. set size: 1\n",
            "LightDataModule.train_dataloader(). data_train size: 8\n",
            "train_model(): trainer.fit failed with exception: SparseAdam does not support dense gradients, please consider Adam instead\n",
            "LightDataModule.val_dataloader(). Val. set size: 1\n"
          ]
        },
        {
          "data": {
            "text/html": [
              "<pre style=\"white-space:pre;overflow-x:auto;line-height:normal;font-family:Menlo,'DejaVu Sans Mono',consolas,'Courier New',monospace\">┏━━━━━━━━━━━━━━━━━━━━━━━━━━━┳━━━━━━━━━━━━━━━━━━━━━━━━━━━┓\n",
              "┃<span style=\"font-weight: bold\">      Validate metric      </span>┃<span style=\"font-weight: bold\">       DataLoader 0        </span>┃\n",
              "┡━━━━━━━━━━━━━━━━━━━━━━━━━━━╇━━━━━━━━━━━━━━━━━━━━━━━━━━━┩\n",
              "│<span style=\"color: #008080; text-decoration-color: #008080\">         hp_metric         </span>│<span style=\"color: #800080; text-decoration-color: #800080\">    26.454830169677734     </span>│\n",
              "│<span style=\"color: #008080; text-decoration-color: #008080\">         val_loss          </span>│<span style=\"color: #800080; text-decoration-color: #800080\">    26.454830169677734     </span>│\n",
              "└───────────────────────────┴───────────────────────────┘\n",
              "</pre>\n"
            ],
            "text/plain": [
              "┏━━━━━━━━━━━━━━━━━━━━━━━━━━━┳━━━━━━━━━━━━━━━━━━━━━━━━━━━┓\n",
              "┃\u001b[1m \u001b[0m\u001b[1m     Validate metric     \u001b[0m\u001b[1m \u001b[0m┃\u001b[1m \u001b[0m\u001b[1m      DataLoader 0       \u001b[0m\u001b[1m \u001b[0m┃\n",
              "┡━━━━━━━━━━━━━━━━━━━━━━━━━━━╇━━━━━━━━━━━━━━━━━━━━━━━━━━━┩\n",
              "│\u001b[36m \u001b[0m\u001b[36m        hp_metric        \u001b[0m\u001b[36m \u001b[0m│\u001b[35m \u001b[0m\u001b[35m   26.454830169677734    \u001b[0m\u001b[35m \u001b[0m│\n",
              "│\u001b[36m \u001b[0m\u001b[36m        val_loss         \u001b[0m\u001b[36m \u001b[0m│\u001b[35m \u001b[0m\u001b[35m   26.454830169677734    \u001b[0m\u001b[35m \u001b[0m│\n",
              "└───────────────────────────┴───────────────────────────┘\n"
            ]
          },
          "metadata": {},
          "output_type": "display_data"
        },
        {
          "name": "stderr",
          "output_type": "stream",
          "text": [
            "GPU available: True (mps), used: False\n",
            "TPU available: False, using: 0 TPU cores\n",
            "HPU available: False, using: 0 HPUs\n",
            "\n",
            "  | Name   | Type          | Params | Mode  | In sizes          | Out sizes \n",
            "----------------------------------------------------------------------------------\n",
            "0 | layers | ManyToManyRNN | 1.6 M  | train | [[4, 10, 1], [4]] | [4, 10, 1]\n",
            "----------------------------------------------------------------------------------\n",
            "1.6 M     Trainable params\n",
            "0         Non-trainable params\n",
            "1.6 M     Total params\n",
            "6.312     Total estimated model params size (MB)\n",
            "6         Modules in train mode\n",
            "0         Modules in eval mode\n"
          ]
        },
        {
          "name": "stdout",
          "output_type": "stream",
          "text": [
            "train_model result: {'val_loss': 26.454830169677734, 'hp_metric': 26.454830169677734}\n",
            "\n",
            "In fun(): config:\n",
            "{'act_fn': ReLU(),\n",
            " 'batch_size': 4,\n",
            " 'dropout_prob': 0.013874693962472998,\n",
            " 'epochs': 128,\n",
            " 'fc_units': 1024,\n",
            " 'lr_mult': 6.958792148009655,\n",
            " 'optimizer': 'SparseAdam',\n",
            " 'patience': 8,\n",
            " 'rnn_units': 512}\n",
            "train_size: 8, val_size: 1 used for train & val data.\n",
            "LightDataModule.val_dataloader(). Val. set size: 1\n",
            "LightDataModule.train_dataloader(). data_train size: 8\n",
            "train_model(): trainer.fit failed with exception: SparseAdam does not support dense gradients, please consider Adam instead\n",
            "LightDataModule.val_dataloader(). Val. set size: 1\n"
          ]
        },
        {
          "data": {
            "text/html": [
              "<pre style=\"white-space:pre;overflow-x:auto;line-height:normal;font-family:Menlo,'DejaVu Sans Mono',consolas,'Courier New',monospace\">┏━━━━━━━━━━━━━━━━━━━━━━━━━━━┳━━━━━━━━━━━━━━━━━━━━━━━━━━━┓\n",
              "┃<span style=\"font-weight: bold\">      Validate metric      </span>┃<span style=\"font-weight: bold\">       DataLoader 0        </span>┃\n",
              "┡━━━━━━━━━━━━━━━━━━━━━━━━━━━╇━━━━━━━━━━━━━━━━━━━━━━━━━━━┩\n",
              "│<span style=\"color: #008080; text-decoration-color: #008080\">         hp_metric         </span>│<span style=\"color: #800080; text-decoration-color: #800080\">    27.263885498046875     </span>│\n",
              "│<span style=\"color: #008080; text-decoration-color: #008080\">         val_loss          </span>│<span style=\"color: #800080; text-decoration-color: #800080\">    27.263885498046875     </span>│\n",
              "└───────────────────────────┴───────────────────────────┘\n",
              "</pre>\n"
            ],
            "text/plain": [
              "┏━━━━━━━━━━━━━━━━━━━━━━━━━━━┳━━━━━━━━━━━━━━━━━━━━━━━━━━━┓\n",
              "┃\u001b[1m \u001b[0m\u001b[1m     Validate metric     \u001b[0m\u001b[1m \u001b[0m┃\u001b[1m \u001b[0m\u001b[1m      DataLoader 0       \u001b[0m\u001b[1m \u001b[0m┃\n",
              "┡━━━━━━━━━━━━━━━━━━━━━━━━━━━╇━━━━━━━━━━━━━━━━━━━━━━━━━━━┩\n",
              "│\u001b[36m \u001b[0m\u001b[36m        hp_metric        \u001b[0m\u001b[36m \u001b[0m│\u001b[35m \u001b[0m\u001b[35m   27.263885498046875    \u001b[0m\u001b[35m \u001b[0m│\n",
              "│\u001b[36m \u001b[0m\u001b[36m        val_loss         \u001b[0m\u001b[36m \u001b[0m│\u001b[35m \u001b[0m\u001b[35m   27.263885498046875    \u001b[0m\u001b[35m \u001b[0m│\n",
              "└───────────────────────────┴───────────────────────────┘\n"
            ]
          },
          "metadata": {},
          "output_type": "display_data"
        },
        {
          "name": "stdout",
          "output_type": "stream",
          "text": [
            "train_model result: {'val_loss': 27.263885498046875, 'hp_metric': 27.263885498046875}\n",
            "No spot_writer available.\n",
            "spotpython tuning: 0.0475609228014946 [#---------] 7.12% \n"
          ]
        },
        {
          "name": "stderr",
          "output_type": "stream",
          "text": [
            "GPU available: True (mps), used: False\n",
            "TPU available: False, using: 0 TPU cores\n",
            "HPU available: False, using: 0 HPUs\n",
            "\n",
            "  | Name   | Type          | Params | Mode  | In sizes          | Out sizes \n",
            "----------------------------------------------------------------------------------\n",
            "0 | layers | ManyToManyRNN | 658 K  | train | [[4, 10, 1], [4]] | [4, 10, 1]\n",
            "----------------------------------------------------------------------------------\n",
            "658 K     Trainable params\n",
            "0         Non-trainable params\n",
            "658 K     Total params\n",
            "2.636     Total estimated model params size (MB)\n",
            "6         Modules in train mode\n",
            "0         Modules in eval mode\n"
          ]
        },
        {
          "name": "stdout",
          "output_type": "stream",
          "text": [
            "\n",
            "In fun(): config:\n",
            "{'act_fn': ReLU(),\n",
            " 'batch_size': 4,\n",
            " 'dropout_prob': 0.013940987729477137,\n",
            " 'epochs': 128,\n",
            " 'fc_units': 1024,\n",
            " 'lr_mult': 6.923388246437144,\n",
            " 'optimizer': 'SparseAdam',\n",
            " 'patience': 8,\n",
            " 'rnn_units': 256}\n",
            "train_size: 8, val_size: 1 used for train & val data.\n",
            "LightDataModule.val_dataloader(). Val. set size: 1\n",
            "LightDataModule.train_dataloader(). data_train size: 8\n",
            "train_model(): trainer.fit failed with exception: SparseAdam does not support dense gradients, please consider Adam instead\n",
            "LightDataModule.val_dataloader(). Val. set size: 1\n"
          ]
        },
        {
          "data": {
            "text/html": [
              "<pre style=\"white-space:pre;overflow-x:auto;line-height:normal;font-family:Menlo,'DejaVu Sans Mono',consolas,'Courier New',monospace\">┏━━━━━━━━━━━━━━━━━━━━━━━━━━━┳━━━━━━━━━━━━━━━━━━━━━━━━━━━┓\n",
              "┃<span style=\"font-weight: bold\">      Validate metric      </span>┃<span style=\"font-weight: bold\">       DataLoader 0        </span>┃\n",
              "┡━━━━━━━━━━━━━━━━━━━━━━━━━━━╇━━━━━━━━━━━━━━━━━━━━━━━━━━━┩\n",
              "│<span style=\"color: #008080; text-decoration-color: #008080\">         hp_metric         </span>│<span style=\"color: #800080; text-decoration-color: #800080\">    26.542118072509766     </span>│\n",
              "│<span style=\"color: #008080; text-decoration-color: #008080\">         val_loss          </span>│<span style=\"color: #800080; text-decoration-color: #800080\">    26.542118072509766     </span>│\n",
              "└───────────────────────────┴───────────────────────────┘\n",
              "</pre>\n"
            ],
            "text/plain": [
              "┏━━━━━━━━━━━━━━━━━━━━━━━━━━━┳━━━━━━━━━━━━━━━━━━━━━━━━━━━┓\n",
              "┃\u001b[1m \u001b[0m\u001b[1m     Validate metric     \u001b[0m\u001b[1m \u001b[0m┃\u001b[1m \u001b[0m\u001b[1m      DataLoader 0       \u001b[0m\u001b[1m \u001b[0m┃\n",
              "┡━━━━━━━━━━━━━━━━━━━━━━━━━━━╇━━━━━━━━━━━━━━━━━━━━━━━━━━━┩\n",
              "│\u001b[36m \u001b[0m\u001b[36m        hp_metric        \u001b[0m\u001b[36m \u001b[0m│\u001b[35m \u001b[0m\u001b[35m   26.542118072509766    \u001b[0m\u001b[35m \u001b[0m│\n",
              "│\u001b[36m \u001b[0m\u001b[36m        val_loss         \u001b[0m\u001b[36m \u001b[0m│\u001b[35m \u001b[0m\u001b[35m   26.542118072509766    \u001b[0m\u001b[35m \u001b[0m│\n",
              "└───────────────────────────┴───────────────────────────┘\n"
            ]
          },
          "metadata": {},
          "output_type": "display_data"
        },
        {
          "name": "stderr",
          "output_type": "stream",
          "text": [
            "GPU available: True (mps), used: False\n",
            "TPU available: False, using: 0 TPU cores\n",
            "HPU available: False, using: 0 HPUs\n",
            "\n",
            "  | Name   | Type          | Params | Mode  | In sizes          | Out sizes \n",
            "----------------------------------------------------------------------------------\n",
            "0 | layers | ManyToManyRNN | 658 K  | train | [[4, 10, 1], [4]] | [4, 10, 1]\n",
            "----------------------------------------------------------------------------------\n",
            "658 K     Trainable params\n",
            "0         Non-trainable params\n",
            "658 K     Total params\n",
            "2.636     Total estimated model params size (MB)\n",
            "6         Modules in train mode\n",
            "0         Modules in eval mode\n"
          ]
        },
        {
          "name": "stdout",
          "output_type": "stream",
          "text": [
            "train_model result: {'val_loss': 26.542118072509766, 'hp_metric': 26.542118072509766}\n",
            "\n",
            "In fun(): config:\n",
            "{'act_fn': ReLU(),\n",
            " 'batch_size': 4,\n",
            " 'dropout_prob': 0.013940987729477137,\n",
            " 'epochs': 128,\n",
            " 'fc_units': 1024,\n",
            " 'lr_mult': 6.923388246437144,\n",
            " 'optimizer': 'SparseAdam',\n",
            " 'patience': 8,\n",
            " 'rnn_units': 256}\n",
            "train_size: 8, val_size: 1 used for train & val data.\n",
            "LightDataModule.val_dataloader(). Val. set size: 1\n",
            "LightDataModule.train_dataloader(). data_train size: 8\n",
            "train_model(): trainer.fit failed with exception: SparseAdam does not support dense gradients, please consider Adam instead\n",
            "LightDataModule.val_dataloader(). Val. set size: 1\n"
          ]
        },
        {
          "data": {
            "text/html": [
              "<pre style=\"white-space:pre;overflow-x:auto;line-height:normal;font-family:Menlo,'DejaVu Sans Mono',consolas,'Courier New',monospace\">┏━━━━━━━━━━━━━━━━━━━━━━━━━━━┳━━━━━━━━━━━━━━━━━━━━━━━━━━━┓\n",
              "┃<span style=\"font-weight: bold\">      Validate metric      </span>┃<span style=\"font-weight: bold\">       DataLoader 0        </span>┃\n",
              "┡━━━━━━━━━━━━━━━━━━━━━━━━━━━╇━━━━━━━━━━━━━━━━━━━━━━━━━━━┩\n",
              "│<span style=\"color: #008080; text-decoration-color: #008080\">         hp_metric         </span>│<span style=\"color: #800080; text-decoration-color: #800080\">    26.892242431640625     </span>│\n",
              "│<span style=\"color: #008080; text-decoration-color: #008080\">         val_loss          </span>│<span style=\"color: #800080; text-decoration-color: #800080\">    26.892242431640625     </span>│\n",
              "└───────────────────────────┴───────────────────────────┘\n",
              "</pre>\n"
            ],
            "text/plain": [
              "┏━━━━━━━━━━━━━━━━━━━━━━━━━━━┳━━━━━━━━━━━━━━━━━━━━━━━━━━━┓\n",
              "┃\u001b[1m \u001b[0m\u001b[1m     Validate metric     \u001b[0m\u001b[1m \u001b[0m┃\u001b[1m \u001b[0m\u001b[1m      DataLoader 0       \u001b[0m\u001b[1m \u001b[0m┃\n",
              "┡━━━━━━━━━━━━━━━━━━━━━━━━━━━╇━━━━━━━━━━━━━━━━━━━━━━━━━━━┩\n",
              "│\u001b[36m \u001b[0m\u001b[36m        hp_metric        \u001b[0m\u001b[36m \u001b[0m│\u001b[35m \u001b[0m\u001b[35m   26.892242431640625    \u001b[0m\u001b[35m \u001b[0m│\n",
              "│\u001b[36m \u001b[0m\u001b[36m        val_loss         \u001b[0m\u001b[36m \u001b[0m│\u001b[35m \u001b[0m\u001b[35m   26.892242431640625    \u001b[0m\u001b[35m \u001b[0m│\n",
              "└───────────────────────────┴───────────────────────────┘\n"
            ]
          },
          "metadata": {},
          "output_type": "display_data"
        },
        {
          "name": "stdout",
          "output_type": "stream",
          "text": [
            "train_model result: {'val_loss': 26.892242431640625, 'hp_metric': 26.892242431640625}\n",
            "No spot_writer available.\n",
            "spotpython tuning: 0.0475609228014946 [#---------] 7.70% \n"
          ]
        },
        {
          "name": "stderr",
          "output_type": "stream",
          "text": [
            "GPU available: True (mps), used: False\n",
            "TPU available: False, using: 0 TPU cores\n",
            "HPU available: False, using: 0 HPUs\n",
            "\n",
            "  | Name   | Type          | Params | Mode  | In sizes          | Out sizes \n",
            "----------------------------------------------------------------------------------\n",
            "0 | layers | ManyToManyRNN | 658 K  | train | [[4, 10, 1], [4]] | [4, 10, 1]\n",
            "----------------------------------------------------------------------------------\n",
            "658 K     Trainable params\n",
            "0         Non-trainable params\n",
            "658 K     Total params\n",
            "2.636     Total estimated model params size (MB)\n",
            "6         Modules in train mode\n",
            "0         Modules in eval mode\n"
          ]
        },
        {
          "name": "stdout",
          "output_type": "stream",
          "text": [
            "\n",
            "In fun(): config:\n",
            "{'act_fn': ReLU(),\n",
            " 'batch_size': 4,\n",
            " 'dropout_prob': 0.013980794046789397,\n",
            " 'epochs': 128,\n",
            " 'fc_units': 1024,\n",
            " 'lr_mult': 6.904313181618437,\n",
            " 'optimizer': 'SparseAdam',\n",
            " 'patience': 8,\n",
            " 'rnn_units': 256}\n",
            "train_size: 8, val_size: 1 used for train & val data.\n",
            "LightDataModule.val_dataloader(). Val. set size: 1\n",
            "LightDataModule.train_dataloader(). data_train size: 8\n",
            "train_model(): trainer.fit failed with exception: SparseAdam does not support dense gradients, please consider Adam instead\n",
            "LightDataModule.val_dataloader(). Val. set size: 1\n"
          ]
        },
        {
          "data": {
            "text/html": [
              "<pre style=\"white-space:pre;overflow-x:auto;line-height:normal;font-family:Menlo,'DejaVu Sans Mono',consolas,'Courier New',monospace\">┏━━━━━━━━━━━━━━━━━━━━━━━━━━━┳━━━━━━━━━━━━━━━━━━━━━━━━━━━┓\n",
              "┃<span style=\"font-weight: bold\">      Validate metric      </span>┃<span style=\"font-weight: bold\">       DataLoader 0        </span>┃\n",
              "┡━━━━━━━━━━━━━━━━━━━━━━━━━━━╇━━━━━━━━━━━━━━━━━━━━━━━━━━━┩\n",
              "│<span style=\"color: #008080; text-decoration-color: #008080\">         hp_metric         </span>│<span style=\"color: #800080; text-decoration-color: #800080\">    27.088428497314453     </span>│\n",
              "│<span style=\"color: #008080; text-decoration-color: #008080\">         val_loss          </span>│<span style=\"color: #800080; text-decoration-color: #800080\">    27.088428497314453     </span>│\n",
              "└───────────────────────────┴───────────────────────────┘\n",
              "</pre>\n"
            ],
            "text/plain": [
              "┏━━━━━━━━━━━━━━━━━━━━━━━━━━━┳━━━━━━━━━━━━━━━━━━━━━━━━━━━┓\n",
              "┃\u001b[1m \u001b[0m\u001b[1m     Validate metric     \u001b[0m\u001b[1m \u001b[0m┃\u001b[1m \u001b[0m\u001b[1m      DataLoader 0       \u001b[0m\u001b[1m \u001b[0m┃\n",
              "┡━━━━━━━━━━━━━━━━━━━━━━━━━━━╇━━━━━━━━━━━━━━━━━━━━━━━━━━━┩\n",
              "│\u001b[36m \u001b[0m\u001b[36m        hp_metric        \u001b[0m\u001b[36m \u001b[0m│\u001b[35m \u001b[0m\u001b[35m   27.088428497314453    \u001b[0m\u001b[35m \u001b[0m│\n",
              "│\u001b[36m \u001b[0m\u001b[36m        val_loss         \u001b[0m\u001b[36m \u001b[0m│\u001b[35m \u001b[0m\u001b[35m   27.088428497314453    \u001b[0m\u001b[35m \u001b[0m│\n",
              "└───────────────────────────┴───────────────────────────┘\n"
            ]
          },
          "metadata": {},
          "output_type": "display_data"
        },
        {
          "name": "stderr",
          "output_type": "stream",
          "text": [
            "GPU available: True (mps), used: False\n",
            "TPU available: False, using: 0 TPU cores\n",
            "HPU available: False, using: 0 HPUs\n",
            "\n",
            "  | Name   | Type          | Params | Mode  | In sizes          | Out sizes \n",
            "----------------------------------------------------------------------------------\n",
            "0 | layers | ManyToManyRNN | 658 K  | train | [[4, 10, 1], [4]] | [4, 10, 1]\n",
            "----------------------------------------------------------------------------------\n",
            "658 K     Trainable params\n",
            "0         Non-trainable params\n",
            "658 K     Total params\n",
            "2.636     Total estimated model params size (MB)\n",
            "6         Modules in train mode\n",
            "0         Modules in eval mode\n"
          ]
        },
        {
          "name": "stdout",
          "output_type": "stream",
          "text": [
            "train_model result: {'val_loss': 27.088428497314453, 'hp_metric': 27.088428497314453}\n",
            "\n",
            "In fun(): config:\n",
            "{'act_fn': ReLU(),\n",
            " 'batch_size': 4,\n",
            " 'dropout_prob': 0.013980794046789397,\n",
            " 'epochs': 128,\n",
            " 'fc_units': 1024,\n",
            " 'lr_mult': 6.904313181618437,\n",
            " 'optimizer': 'SparseAdam',\n",
            " 'patience': 8,\n",
            " 'rnn_units': 256}\n",
            "train_size: 8, val_size: 1 used for train & val data.\n",
            "LightDataModule.val_dataloader(). Val. set size: 1\n",
            "LightDataModule.train_dataloader(). data_train size: 8\n",
            "train_model(): trainer.fit failed with exception: SparseAdam does not support dense gradients, please consider Adam instead\n",
            "LightDataModule.val_dataloader(). Val. set size: 1\n"
          ]
        },
        {
          "data": {
            "text/html": [
              "<pre style=\"white-space:pre;overflow-x:auto;line-height:normal;font-family:Menlo,'DejaVu Sans Mono',consolas,'Courier New',monospace\">┏━━━━━━━━━━━━━━━━━━━━━━━━━━━┳━━━━━━━━━━━━━━━━━━━━━━━━━━━┓\n",
              "┃<span style=\"font-weight: bold\">      Validate metric      </span>┃<span style=\"font-weight: bold\">       DataLoader 0        </span>┃\n",
              "┡━━━━━━━━━━━━━━━━━━━━━━━━━━━╇━━━━━━━━━━━━━━━━━━━━━━━━━━━┩\n",
              "│<span style=\"color: #008080; text-decoration-color: #008080\">         hp_metric         </span>│<span style=\"color: #800080; text-decoration-color: #800080\">    26.967309951782227     </span>│\n",
              "│<span style=\"color: #008080; text-decoration-color: #008080\">         val_loss          </span>│<span style=\"color: #800080; text-decoration-color: #800080\">    26.967309951782227     </span>│\n",
              "└───────────────────────────┴───────────────────────────┘\n",
              "</pre>\n"
            ],
            "text/plain": [
              "┏━━━━━━━━━━━━━━━━━━━━━━━━━━━┳━━━━━━━━━━━━━━━━━━━━━━━━━━━┓\n",
              "┃\u001b[1m \u001b[0m\u001b[1m     Validate metric     \u001b[0m\u001b[1m \u001b[0m┃\u001b[1m \u001b[0m\u001b[1m      DataLoader 0       \u001b[0m\u001b[1m \u001b[0m┃\n",
              "┡━━━━━━━━━━━━━━━━━━━━━━━━━━━╇━━━━━━━━━━━━━━━━━━━━━━━━━━━┩\n",
              "│\u001b[36m \u001b[0m\u001b[36m        hp_metric        \u001b[0m\u001b[36m \u001b[0m│\u001b[35m \u001b[0m\u001b[35m   26.967309951782227    \u001b[0m\u001b[35m \u001b[0m│\n",
              "│\u001b[36m \u001b[0m\u001b[36m        val_loss         \u001b[0m\u001b[36m \u001b[0m│\u001b[35m \u001b[0m\u001b[35m   26.967309951782227    \u001b[0m\u001b[35m \u001b[0m│\n",
              "└───────────────────────────┴───────────────────────────┘\n"
            ]
          },
          "metadata": {},
          "output_type": "display_data"
        },
        {
          "name": "stdout",
          "output_type": "stream",
          "text": [
            "train_model result: {'val_loss': 26.967309951782227, 'hp_metric': 26.967309951782227}\n",
            "No spot_writer available.\n",
            "spotpython tuning: 0.0475609228014946 [#---------] 8.25% \n"
          ]
        },
        {
          "name": "stderr",
          "output_type": "stream",
          "text": [
            "GPU available: True (mps), used: False\n",
            "TPU available: False, using: 0 TPU cores\n",
            "HPU available: False, using: 0 HPUs\n",
            "\n",
            "  | Name   | Type          | Params | Mode  | In sizes          | Out sizes \n",
            "----------------------------------------------------------------------------------\n",
            "0 | layers | ManyToManyRNN | 658 K  | train | [[4, 10, 1], [4]] | [4, 10, 1]\n",
            "----------------------------------------------------------------------------------\n",
            "658 K     Trainable params\n",
            "0         Non-trainable params\n",
            "658 K     Total params\n",
            "2.636     Total estimated model params size (MB)\n",
            "6         Modules in train mode\n",
            "0         Modules in eval mode\n"
          ]
        },
        {
          "name": "stdout",
          "output_type": "stream",
          "text": [
            "\n",
            "In fun(): config:\n",
            "{'act_fn': ReLU(),\n",
            " 'batch_size': 4,\n",
            " 'dropout_prob': 0.014027724146856938,\n",
            " 'epochs': 128,\n",
            " 'fc_units': 1024,\n",
            " 'lr_mult': 6.888430607018469,\n",
            " 'optimizer': 'SparseAdam',\n",
            " 'patience': 8,\n",
            " 'rnn_units': 256}\n",
            "train_size: 8, val_size: 1 used for train & val data.\n",
            "LightDataModule.val_dataloader(). Val. set size: 1\n",
            "LightDataModule.train_dataloader(). data_train size: 8\n",
            "train_model(): trainer.fit failed with exception: SparseAdam does not support dense gradients, please consider Adam instead\n",
            "LightDataModule.val_dataloader(). Val. set size: 1\n"
          ]
        },
        {
          "data": {
            "text/html": [
              "<pre style=\"white-space:pre;overflow-x:auto;line-height:normal;font-family:Menlo,'DejaVu Sans Mono',consolas,'Courier New',monospace\">┏━━━━━━━━━━━━━━━━━━━━━━━━━━━┳━━━━━━━━━━━━━━━━━━━━━━━━━━━┓\n",
              "┃<span style=\"font-weight: bold\">      Validate metric      </span>┃<span style=\"font-weight: bold\">       DataLoader 0        </span>┃\n",
              "┡━━━━━━━━━━━━━━━━━━━━━━━━━━━╇━━━━━━━━━━━━━━━━━━━━━━━━━━━┩\n",
              "│<span style=\"color: #008080; text-decoration-color: #008080\">         hp_metric         </span>│<span style=\"color: #800080; text-decoration-color: #800080\">    26.192188262939453     </span>│\n",
              "│<span style=\"color: #008080; text-decoration-color: #008080\">         val_loss          </span>│<span style=\"color: #800080; text-decoration-color: #800080\">    26.192188262939453     </span>│\n",
              "└───────────────────────────┴───────────────────────────┘\n",
              "</pre>\n"
            ],
            "text/plain": [
              "┏━━━━━━━━━━━━━━━━━━━━━━━━━━━┳━━━━━━━━━━━━━━━━━━━━━━━━━━━┓\n",
              "┃\u001b[1m \u001b[0m\u001b[1m     Validate metric     \u001b[0m\u001b[1m \u001b[0m┃\u001b[1m \u001b[0m\u001b[1m      DataLoader 0       \u001b[0m\u001b[1m \u001b[0m┃\n",
              "┡━━━━━━━━━━━━━━━━━━━━━━━━━━━╇━━━━━━━━━━━━━━━━━━━━━━━━━━━┩\n",
              "│\u001b[36m \u001b[0m\u001b[36m        hp_metric        \u001b[0m\u001b[36m \u001b[0m│\u001b[35m \u001b[0m\u001b[35m   26.192188262939453    \u001b[0m\u001b[35m \u001b[0m│\n",
              "│\u001b[36m \u001b[0m\u001b[36m        val_loss         \u001b[0m\u001b[36m \u001b[0m│\u001b[35m \u001b[0m\u001b[35m   26.192188262939453    \u001b[0m\u001b[35m \u001b[0m│\n",
              "└───────────────────────────┴───────────────────────────┘\n"
            ]
          },
          "metadata": {},
          "output_type": "display_data"
        },
        {
          "name": "stderr",
          "output_type": "stream",
          "text": [
            "GPU available: True (mps), used: False\n",
            "TPU available: False, using: 0 TPU cores\n",
            "HPU available: False, using: 0 HPUs\n",
            "\n",
            "  | Name   | Type          | Params | Mode  | In sizes          | Out sizes \n",
            "----------------------------------------------------------------------------------\n",
            "0 | layers | ManyToManyRNN | 658 K  | train | [[4, 10, 1], [4]] | [4, 10, 1]\n",
            "----------------------------------------------------------------------------------\n",
            "658 K     Trainable params\n",
            "0         Non-trainable params\n",
            "658 K     Total params\n",
            "2.636     Total estimated model params size (MB)\n",
            "6         Modules in train mode\n",
            "0         Modules in eval mode\n"
          ]
        },
        {
          "name": "stdout",
          "output_type": "stream",
          "text": [
            "train_model result: {'val_loss': 26.192188262939453, 'hp_metric': 26.192188262939453}\n",
            "\n",
            "In fun(): config:\n",
            "{'act_fn': ReLU(),\n",
            " 'batch_size': 4,\n",
            " 'dropout_prob': 0.014027724146856938,\n",
            " 'epochs': 128,\n",
            " 'fc_units': 1024,\n",
            " 'lr_mult': 6.888430607018469,\n",
            " 'optimizer': 'SparseAdam',\n",
            " 'patience': 8,\n",
            " 'rnn_units': 256}\n",
            "train_size: 8, val_size: 1 used for train & val data.\n",
            "LightDataModule.val_dataloader(). Val. set size: 1\n",
            "LightDataModule.train_dataloader(). data_train size: 8\n",
            "train_model(): trainer.fit failed with exception: SparseAdam does not support dense gradients, please consider Adam instead\n",
            "LightDataModule.val_dataloader(). Val. set size: 1\n"
          ]
        },
        {
          "data": {
            "text/html": [
              "<pre style=\"white-space:pre;overflow-x:auto;line-height:normal;font-family:Menlo,'DejaVu Sans Mono',consolas,'Courier New',monospace\">┏━━━━━━━━━━━━━━━━━━━━━━━━━━━┳━━━━━━━━━━━━━━━━━━━━━━━━━━━┓\n",
              "┃<span style=\"font-weight: bold\">      Validate metric      </span>┃<span style=\"font-weight: bold\">       DataLoader 0        </span>┃\n",
              "┡━━━━━━━━━━━━━━━━━━━━━━━━━━━╇━━━━━━━━━━━━━━━━━━━━━━━━━━━┩\n",
              "│<span style=\"color: #008080; text-decoration-color: #008080\">         hp_metric         </span>│<span style=\"color: #800080; text-decoration-color: #800080\">     26.78177833557129     </span>│\n",
              "│<span style=\"color: #008080; text-decoration-color: #008080\">         val_loss          </span>│<span style=\"color: #800080; text-decoration-color: #800080\">     26.78177833557129     </span>│\n",
              "└───────────────────────────┴───────────────────────────┘\n",
              "</pre>\n"
            ],
            "text/plain": [
              "┏━━━━━━━━━━━━━━━━━━━━━━━━━━━┳━━━━━━━━━━━━━━━━━━━━━━━━━━━┓\n",
              "┃\u001b[1m \u001b[0m\u001b[1m     Validate metric     \u001b[0m\u001b[1m \u001b[0m┃\u001b[1m \u001b[0m\u001b[1m      DataLoader 0       \u001b[0m\u001b[1m \u001b[0m┃\n",
              "┡━━━━━━━━━━━━━━━━━━━━━━━━━━━╇━━━━━━━━━━━━━━━━━━━━━━━━━━━┩\n",
              "│\u001b[36m \u001b[0m\u001b[36m        hp_metric        \u001b[0m\u001b[36m \u001b[0m│\u001b[35m \u001b[0m\u001b[35m    26.78177833557129    \u001b[0m\u001b[35m \u001b[0m│\n",
              "│\u001b[36m \u001b[0m\u001b[36m        val_loss         \u001b[0m\u001b[36m \u001b[0m│\u001b[35m \u001b[0m\u001b[35m    26.78177833557129    \u001b[0m\u001b[35m \u001b[0m│\n",
              "└───────────────────────────┴───────────────────────────┘\n"
            ]
          },
          "metadata": {},
          "output_type": "display_data"
        },
        {
          "name": "stdout",
          "output_type": "stream",
          "text": [
            "train_model result: {'val_loss': 26.78177833557129, 'hp_metric': 26.78177833557129}\n",
            "No spot_writer available.\n",
            "spotpython tuning: 0.0475609228014946 [#---------] 11.47% \n"
          ]
        },
        {
          "name": "stderr",
          "output_type": "stream",
          "text": [
            "GPU available: True (mps), used: False\n",
            "TPU available: False, using: 0 TPU cores\n",
            "HPU available: False, using: 0 HPUs\n",
            "\n",
            "  | Name   | Type          | Params | Mode  | In sizes          | Out sizes \n",
            "----------------------------------------------------------------------------------\n",
            "0 | layers | ManyToManyRNN | 790 K  | train | [[4, 10, 1], [4]] | [4, 10, 1]\n",
            "----------------------------------------------------------------------------------\n",
            "790 K     Trainable params\n",
            "0         Non-trainable params\n",
            "790 K     Total params\n",
            "3.160     Total estimated model params size (MB)\n",
            "6         Modules in train mode\n",
            "0         Modules in eval mode\n"
          ]
        },
        {
          "name": "stdout",
          "output_type": "stream",
          "text": [
            "\n",
            "In fun(): config:\n",
            "{'act_fn': ELU(),\n",
            " 'batch_size': 4,\n",
            " 'dropout_prob': 0.0,\n",
            " 'epochs': 128,\n",
            " 'fc_units': 256,\n",
            " 'lr_mult': 6.995800736275179,\n",
            " 'optimizer': 'AdamW',\n",
            " 'patience': 32,\n",
            " 'rnn_units': 512}\n",
            "train_size: 8, val_size: 1 used for train & val data.\n",
            "LightDataModule.val_dataloader(). Val. set size: 1\n",
            "LightDataModule.train_dataloader(). data_train size: 8\n"
          ]
        },
        {
          "name": "stderr",
          "output_type": "stream",
          "text": [
            "`Trainer.fit` stopped: `max_epochs=128` reached.\n"
          ]
        },
        {
          "name": "stdout",
          "output_type": "stream",
          "text": [
            "LightDataModule.val_dataloader(). Val. set size: 1\n"
          ]
        },
        {
          "data": {
            "text/html": [
              "<pre style=\"white-space:pre;overflow-x:auto;line-height:normal;font-family:Menlo,'DejaVu Sans Mono',consolas,'Courier New',monospace\">┏━━━━━━━━━━━━━━━━━━━━━━━━━━━┳━━━━━━━━━━━━━━━━━━━━━━━━━━━┓\n",
              "┃<span style=\"font-weight: bold\">      Validate metric      </span>┃<span style=\"font-weight: bold\">       DataLoader 0        </span>┃\n",
              "┡━━━━━━━━━━━━━━━━━━━━━━━━━━━╇━━━━━━━━━━━━━━━━━━━━━━━━━━━┩\n",
              "│<span style=\"color: #008080; text-decoration-color: #008080\">         hp_metric         </span>│<span style=\"color: #800080; text-decoration-color: #800080\">    2.6834452152252197     </span>│\n",
              "│<span style=\"color: #008080; text-decoration-color: #008080\">         val_loss          </span>│<span style=\"color: #800080; text-decoration-color: #800080\">    2.6834452152252197     </span>│\n",
              "└───────────────────────────┴───────────────────────────┘\n",
              "</pre>\n"
            ],
            "text/plain": [
              "┏━━━━━━━━━━━━━━━━━━━━━━━━━━━┳━━━━━━━━━━━━━━━━━━━━━━━━━━━┓\n",
              "┃\u001b[1m \u001b[0m\u001b[1m     Validate metric     \u001b[0m\u001b[1m \u001b[0m┃\u001b[1m \u001b[0m\u001b[1m      DataLoader 0       \u001b[0m\u001b[1m \u001b[0m┃\n",
              "┡━━━━━━━━━━━━━━━━━━━━━━━━━━━╇━━━━━━━━━━━━━━━━━━━━━━━━━━━┩\n",
              "│\u001b[36m \u001b[0m\u001b[36m        hp_metric        \u001b[0m\u001b[36m \u001b[0m│\u001b[35m \u001b[0m\u001b[35m   2.6834452152252197    \u001b[0m\u001b[35m \u001b[0m│\n",
              "│\u001b[36m \u001b[0m\u001b[36m        val_loss         \u001b[0m\u001b[36m \u001b[0m│\u001b[35m \u001b[0m\u001b[35m   2.6834452152252197    \u001b[0m\u001b[35m \u001b[0m│\n",
              "└───────────────────────────┴───────────────────────────┘\n"
            ]
          },
          "metadata": {},
          "output_type": "display_data"
        },
        {
          "name": "stderr",
          "output_type": "stream",
          "text": [
            "GPU available: True (mps), used: False\n",
            "TPU available: False, using: 0 TPU cores\n",
            "HPU available: False, using: 0 HPUs\n",
            "\n",
            "  | Name   | Type          | Params | Mode  | In sizes          | Out sizes \n",
            "----------------------------------------------------------------------------------\n",
            "0 | layers | ManyToManyRNN | 790 K  | train | [[4, 10, 1], [4]] | [4, 10, 1]\n",
            "----------------------------------------------------------------------------------\n",
            "790 K     Trainable params\n",
            "0         Non-trainable params\n",
            "790 K     Total params\n",
            "3.160     Total estimated model params size (MB)\n",
            "6         Modules in train mode\n",
            "0         Modules in eval mode\n"
          ]
        },
        {
          "name": "stdout",
          "output_type": "stream",
          "text": [
            "train_model result: {'val_loss': 2.6834452152252197, 'hp_metric': 2.6834452152252197}\n",
            "\n",
            "In fun(): config:\n",
            "{'act_fn': ELU(),\n",
            " 'batch_size': 4,\n",
            " 'dropout_prob': 0.0,\n",
            " 'epochs': 128,\n",
            " 'fc_units': 256,\n",
            " 'lr_mult': 6.995800736275179,\n",
            " 'optimizer': 'AdamW',\n",
            " 'patience': 32,\n",
            " 'rnn_units': 512}\n",
            "train_size: 8, val_size: 1 used for train & val data.\n",
            "LightDataModule.val_dataloader(). Val. set size: 1\n",
            "LightDataModule.train_dataloader(). data_train size: 8\n",
            "LightDataModule.val_dataloader(). Val. set size: 1\n"
          ]
        },
        {
          "data": {
            "text/html": [
              "<pre style=\"white-space:pre;overflow-x:auto;line-height:normal;font-family:Menlo,'DejaVu Sans Mono',consolas,'Courier New',monospace\">┏━━━━━━━━━━━━━━━━━━━━━━━━━━━┳━━━━━━━━━━━━━━━━━━━━━━━━━━━┓\n",
              "┃<span style=\"font-weight: bold\">      Validate metric      </span>┃<span style=\"font-weight: bold\">       DataLoader 0        </span>┃\n",
              "┡━━━━━━━━━━━━━━━━━━━━━━━━━━━╇━━━━━━━━━━━━━━━━━━━━━━━━━━━┩\n",
              "│<span style=\"color: #008080; text-decoration-color: #008080\">         hp_metric         </span>│<span style=\"color: #800080; text-decoration-color: #800080\">     6.139388084411621     </span>│\n",
              "│<span style=\"color: #008080; text-decoration-color: #008080\">         val_loss          </span>│<span style=\"color: #800080; text-decoration-color: #800080\">     6.139388084411621     </span>│\n",
              "└───────────────────────────┴───────────────────────────┘\n",
              "</pre>\n"
            ],
            "text/plain": [
              "┏━━━━━━━━━━━━━━━━━━━━━━━━━━━┳━━━━━━━━━━━━━━━━━━━━━━━━━━━┓\n",
              "┃\u001b[1m \u001b[0m\u001b[1m     Validate metric     \u001b[0m\u001b[1m \u001b[0m┃\u001b[1m \u001b[0m\u001b[1m      DataLoader 0       \u001b[0m\u001b[1m \u001b[0m┃\n",
              "┡━━━━━━━━━━━━━━━━━━━━━━━━━━━╇━━━━━━━━━━━━━━━━━━━━━━━━━━━┩\n",
              "│\u001b[36m \u001b[0m\u001b[36m        hp_metric        \u001b[0m\u001b[36m \u001b[0m│\u001b[35m \u001b[0m\u001b[35m    6.139388084411621    \u001b[0m\u001b[35m \u001b[0m│\n",
              "│\u001b[36m \u001b[0m\u001b[36m        val_loss         \u001b[0m\u001b[36m \u001b[0m│\u001b[35m \u001b[0m\u001b[35m    6.139388084411621    \u001b[0m\u001b[35m \u001b[0m│\n",
              "└───────────────────────────┴───────────────────────────┘\n"
            ]
          },
          "metadata": {},
          "output_type": "display_data"
        },
        {
          "name": "stdout",
          "output_type": "stream",
          "text": [
            "train_model result: {'val_loss': 6.139388084411621, 'hp_metric': 6.139388084411621}\n",
            "No spot_writer available.\n",
            "spotpython tuning: 0.0475609228014946 [##--------] 18.35% \n"
          ]
        },
        {
          "name": "stderr",
          "output_type": "stream",
          "text": [
            "GPU available: True (mps), used: False\n",
            "TPU available: False, using: 0 TPU cores\n",
            "HPU available: False, using: 0 HPUs\n",
            "\n",
            "  | Name   | Type          | Params | Mode  | In sizes          | Out sizes \n",
            "----------------------------------------------------------------------------------\n",
            "0 | layers | ManyToManyRNN | 2.2 M  | train | [[4, 10, 1], [4]] | [4, 10, 1]\n",
            "----------------------------------------------------------------------------------\n",
            "2.2 M     Trainable params\n",
            "0         Non-trainable params\n",
            "2.2 M     Total params\n",
            "8.952     Total estimated model params size (MB)\n",
            "6         Modules in train mode\n",
            "0         Modules in eval mode\n"
          ]
        },
        {
          "name": "stdout",
          "output_type": "stream",
          "text": [
            "\n",
            "In fun(): config:\n",
            "{'act_fn': ReLU(),\n",
            " 'batch_size': 4,\n",
            " 'dropout_prob': 0.0,\n",
            " 'epochs': 256,\n",
            " 'fc_units': 4096,\n",
            " 'lr_mult': 5.661900815268414,\n",
            " 'optimizer': 'Adagrad',\n",
            " 'patience': 32,\n",
            " 'rnn_units': 256}\n",
            "train_size: 8, val_size: 1 used for train & val data.\n",
            "LightDataModule.val_dataloader(). Val. set size: 1\n",
            "LightDataModule.train_dataloader(). data_train size: 8\n"
          ]
        },
        {
          "name": "stderr",
          "output_type": "stream",
          "text": [
            "`Trainer.fit` stopped: `max_epochs=256` reached.\n"
          ]
        },
        {
          "name": "stdout",
          "output_type": "stream",
          "text": [
            "LightDataModule.val_dataloader(). Val. set size: 1\n"
          ]
        },
        {
          "data": {
            "text/html": [
              "<pre style=\"white-space:pre;overflow-x:auto;line-height:normal;font-family:Menlo,'DejaVu Sans Mono',consolas,'Courier New',monospace\">┏━━━━━━━━━━━━━━━━━━━━━━━━━━━┳━━━━━━━━━━━━━━━━━━━━━━━━━━━┓\n",
              "┃<span style=\"font-weight: bold\">      Validate metric      </span>┃<span style=\"font-weight: bold\">       DataLoader 0        </span>┃\n",
              "┡━━━━━━━━━━━━━━━━━━━━━━━━━━━╇━━━━━━━━━━━━━━━━━━━━━━━━━━━┩\n",
              "│<span style=\"color: #008080; text-decoration-color: #008080\">         hp_metric         </span>│<span style=\"color: #800080; text-decoration-color: #800080\">     2128.435302734375     </span>│\n",
              "│<span style=\"color: #008080; text-decoration-color: #008080\">         val_loss          </span>│<span style=\"color: #800080; text-decoration-color: #800080\">     2128.435302734375     </span>│\n",
              "└───────────────────────────┴───────────────────────────┘\n",
              "</pre>\n"
            ],
            "text/plain": [
              "┏━━━━━━━━━━━━━━━━━━━━━━━━━━━┳━━━━━━━━━━━━━━━━━━━━━━━━━━━┓\n",
              "┃\u001b[1m \u001b[0m\u001b[1m     Validate metric     \u001b[0m\u001b[1m \u001b[0m┃\u001b[1m \u001b[0m\u001b[1m      DataLoader 0       \u001b[0m\u001b[1m \u001b[0m┃\n",
              "┡━━━━━━━━━━━━━━━━━━━━━━━━━━━╇━━━━━━━━━━━━━━━━━━━━━━━━━━━┩\n",
              "│\u001b[36m \u001b[0m\u001b[36m        hp_metric        \u001b[0m\u001b[36m \u001b[0m│\u001b[35m \u001b[0m\u001b[35m    2128.435302734375    \u001b[0m\u001b[35m \u001b[0m│\n",
              "│\u001b[36m \u001b[0m\u001b[36m        val_loss         \u001b[0m\u001b[36m \u001b[0m│\u001b[35m \u001b[0m\u001b[35m    2128.435302734375    \u001b[0m\u001b[35m \u001b[0m│\n",
              "└───────────────────────────┴───────────────────────────┘\n"
            ]
          },
          "metadata": {},
          "output_type": "display_data"
        },
        {
          "name": "stderr",
          "output_type": "stream",
          "text": [
            "GPU available: True (mps), used: False\n",
            "TPU available: False, using: 0 TPU cores\n",
            "HPU available: False, using: 0 HPUs\n",
            "\n",
            "  | Name   | Type          | Params | Mode  | In sizes          | Out sizes \n",
            "----------------------------------------------------------------------------------\n",
            "0 | layers | ManyToManyRNN | 2.2 M  | train | [[4, 10, 1], [4]] | [4, 10, 1]\n",
            "----------------------------------------------------------------------------------\n",
            "2.2 M     Trainable params\n",
            "0         Non-trainable params\n",
            "2.2 M     Total params\n",
            "8.952     Total estimated model params size (MB)\n",
            "6         Modules in train mode\n",
            "0         Modules in eval mode\n"
          ]
        },
        {
          "name": "stdout",
          "output_type": "stream",
          "text": [
            "train_model result: {'val_loss': 2128.435302734375, 'hp_metric': 2128.435302734375}\n",
            "\n",
            "In fun(): config:\n",
            "{'act_fn': ReLU(),\n",
            " 'batch_size': 4,\n",
            " 'dropout_prob': 0.0,\n",
            " 'epochs': 256,\n",
            " 'fc_units': 4096,\n",
            " 'lr_mult': 5.661900815268414,\n",
            " 'optimizer': 'Adagrad',\n",
            " 'patience': 32,\n",
            " 'rnn_units': 256}\n",
            "train_size: 8, val_size: 1 used for train & val data.\n",
            "LightDataModule.val_dataloader(). Val. set size: 1\n",
            "LightDataModule.train_dataloader(). data_train size: 8\n"
          ]
        },
        {
          "name": "stderr",
          "output_type": "stream",
          "text": [
            "`Trainer.fit` stopped: `max_epochs=256` reached.\n"
          ]
        },
        {
          "name": "stdout",
          "output_type": "stream",
          "text": [
            "LightDataModule.val_dataloader(). Val. set size: 1\n"
          ]
        },
        {
          "data": {
            "text/html": [
              "<pre style=\"white-space:pre;overflow-x:auto;line-height:normal;font-family:Menlo,'DejaVu Sans Mono',consolas,'Courier New',monospace\">┏━━━━━━━━━━━━━━━━━━━━━━━━━━━┳━━━━━━━━━━━━━━━━━━━━━━━━━━━┓\n",
              "┃<span style=\"font-weight: bold\">      Validate metric      </span>┃<span style=\"font-weight: bold\">       DataLoader 0        </span>┃\n",
              "┡━━━━━━━━━━━━━━━━━━━━━━━━━━━╇━━━━━━━━━━━━━━━━━━━━━━━━━━━┩\n",
              "│<span style=\"color: #008080; text-decoration-color: #008080\">         hp_metric         </span>│<span style=\"color: #800080; text-decoration-color: #800080\">      9453.2216796875      </span>│\n",
              "│<span style=\"color: #008080; text-decoration-color: #008080\">         val_loss          </span>│<span style=\"color: #800080; text-decoration-color: #800080\">      9453.2216796875      </span>│\n",
              "└───────────────────────────┴───────────────────────────┘\n",
              "</pre>\n"
            ],
            "text/plain": [
              "┏━━━━━━━━━━━━━━━━━━━━━━━━━━━┳━━━━━━━━━━━━━━━━━━━━━━━━━━━┓\n",
              "┃\u001b[1m \u001b[0m\u001b[1m     Validate metric     \u001b[0m\u001b[1m \u001b[0m┃\u001b[1m \u001b[0m\u001b[1m      DataLoader 0       \u001b[0m\u001b[1m \u001b[0m┃\n",
              "┡━━━━━━━━━━━━━━━━━━━━━━━━━━━╇━━━━━━━━━━━━━━━━━━━━━━━━━━━┩\n",
              "│\u001b[36m \u001b[0m\u001b[36m        hp_metric        \u001b[0m\u001b[36m \u001b[0m│\u001b[35m \u001b[0m\u001b[35m     9453.2216796875     \u001b[0m\u001b[35m \u001b[0m│\n",
              "│\u001b[36m \u001b[0m\u001b[36m        val_loss         \u001b[0m\u001b[36m \u001b[0m│\u001b[35m \u001b[0m\u001b[35m     9453.2216796875     \u001b[0m\u001b[35m \u001b[0m│\n",
              "└───────────────────────────┴───────────────────────────┘\n"
            ]
          },
          "metadata": {},
          "output_type": "display_data"
        },
        {
          "name": "stdout",
          "output_type": "stream",
          "text": [
            "train_model result: {'val_loss': 9453.2216796875, 'hp_metric': 9453.2216796875}\n",
            "No spot_writer available.\n",
            "spotpython tuning: 0.0475609228014946 [####------] 37.44% \n"
          ]
        },
        {
          "name": "stderr",
          "output_type": "stream",
          "text": [
            "GPU available: True (mps), used: False\n",
            "TPU available: False, using: 0 TPU cores\n",
            "HPU available: False, using: 0 HPUs\n",
            "\n",
            "  | Name   | Type          | Params | Mode  | In sizes          | Out sizes \n",
            "----------------------------------------------------------------------------------\n",
            "0 | layers | ManyToManyRNN | 658 K  | train | [[4, 10, 1], [4]] | [4, 10, 1]\n",
            "----------------------------------------------------------------------------------\n",
            "658 K     Trainable params\n",
            "0         Non-trainable params\n",
            "658 K     Total params\n",
            "2.635     Total estimated model params size (MB)\n",
            "6         Modules in train mode\n",
            "0         Modules in eval mode\n"
          ]
        },
        {
          "name": "stdout",
          "output_type": "stream",
          "text": [
            "\n",
            "In fun(): config:\n",
            "{'act_fn': ELU(),\n",
            " 'batch_size': 4,\n",
            " 'dropout_prob': 0.024878055407598892,\n",
            " 'epochs': 256,\n",
            " 'fc_units': 128,\n",
            " 'lr_mult': 9.170438419775671,\n",
            " 'optimizer': 'Adagrad',\n",
            " 'patience': 8,\n",
            " 'rnn_units': 512}\n",
            "train_size: 8, val_size: 1 used for train & val data.\n",
            "LightDataModule.val_dataloader(). Val. set size: 1\n",
            "LightDataModule.train_dataloader(). data_train size: 8\n",
            "LightDataModule.val_dataloader(). Val. set size: 1\n"
          ]
        },
        {
          "data": {
            "text/html": [
              "<pre style=\"white-space:pre;overflow-x:auto;line-height:normal;font-family:Menlo,'DejaVu Sans Mono',consolas,'Courier New',monospace\">┏━━━━━━━━━━━━━━━━━━━━━━━━━━━┳━━━━━━━━━━━━━━━━━━━━━━━━━━━┓\n",
              "┃<span style=\"font-weight: bold\">      Validate metric      </span>┃<span style=\"font-weight: bold\">       DataLoader 0        </span>┃\n",
              "┡━━━━━━━━━━━━━━━━━━━━━━━━━━━╇━━━━━━━━━━━━━━━━━━━━━━━━━━━┩\n",
              "│<span style=\"color: #008080; text-decoration-color: #008080\">         hp_metric         </span>│<span style=\"color: #800080; text-decoration-color: #800080\">            nan            </span>│\n",
              "│<span style=\"color: #008080; text-decoration-color: #008080\">         val_loss          </span>│<span style=\"color: #800080; text-decoration-color: #800080\">            nan            </span>│\n",
              "└───────────────────────────┴───────────────────────────┘\n",
              "</pre>\n"
            ],
            "text/plain": [
              "┏━━━━━━━━━━━━━━━━━━━━━━━━━━━┳━━━━━━━━━━━━━━━━━━━━━━━━━━━┓\n",
              "┃\u001b[1m \u001b[0m\u001b[1m     Validate metric     \u001b[0m\u001b[1m \u001b[0m┃\u001b[1m \u001b[0m\u001b[1m      DataLoader 0       \u001b[0m\u001b[1m \u001b[0m┃\n",
              "┡━━━━━━━━━━━━━━━━━━━━━━━━━━━╇━━━━━━━━━━━━━━━━━━━━━━━━━━━┩\n",
              "│\u001b[36m \u001b[0m\u001b[36m        hp_metric        \u001b[0m\u001b[36m \u001b[0m│\u001b[35m \u001b[0m\u001b[35m           nan           \u001b[0m\u001b[35m \u001b[0m│\n",
              "│\u001b[36m \u001b[0m\u001b[36m        val_loss         \u001b[0m\u001b[36m \u001b[0m│\u001b[35m \u001b[0m\u001b[35m           nan           \u001b[0m\u001b[35m \u001b[0m│\n",
              "└───────────────────────────┴───────────────────────────┘\n"
            ]
          },
          "metadata": {},
          "output_type": "display_data"
        },
        {
          "name": "stderr",
          "output_type": "stream",
          "text": [
            "GPU available: True (mps), used: False\n",
            "TPU available: False, using: 0 TPU cores\n",
            "HPU available: False, using: 0 HPUs\n",
            "\n",
            "  | Name   | Type          | Params | Mode  | In sizes          | Out sizes \n",
            "----------------------------------------------------------------------------------\n",
            "0 | layers | ManyToManyRNN | 658 K  | train | [[4, 10, 1], [4]] | [4, 10, 1]\n",
            "----------------------------------------------------------------------------------\n",
            "658 K     Trainable params\n",
            "0         Non-trainable params\n",
            "658 K     Total params\n",
            "2.635     Total estimated model params size (MB)\n",
            "6         Modules in train mode\n",
            "0         Modules in eval mode\n"
          ]
        },
        {
          "name": "stdout",
          "output_type": "stream",
          "text": [
            "train_model result: {'val_loss': nan, 'hp_metric': nan}\n",
            "\n",
            "In fun(): config:\n",
            "{'act_fn': ELU(),\n",
            " 'batch_size': 4,\n",
            " 'dropout_prob': 0.024878055407598892,\n",
            " 'epochs': 256,\n",
            " 'fc_units': 128,\n",
            " 'lr_mult': 9.170438419775671,\n",
            " 'optimizer': 'Adagrad',\n",
            " 'patience': 8,\n",
            " 'rnn_units': 512}\n",
            "train_size: 8, val_size: 1 used for train & val data.\n",
            "LightDataModule.val_dataloader(). Val. set size: 1\n",
            "LightDataModule.train_dataloader(). data_train size: 8\n",
            "LightDataModule.val_dataloader(). Val. set size: 1\n"
          ]
        },
        {
          "data": {
            "text/html": [
              "<pre style=\"white-space:pre;overflow-x:auto;line-height:normal;font-family:Menlo,'DejaVu Sans Mono',consolas,'Courier New',monospace\">┏━━━━━━━━━━━━━━━━━━━━━━━━━━━┳━━━━━━━━━━━━━━━━━━━━━━━━━━━┓\n",
              "┃<span style=\"font-weight: bold\">      Validate metric      </span>┃<span style=\"font-weight: bold\">       DataLoader 0        </span>┃\n",
              "┡━━━━━━━━━━━━━━━━━━━━━━━━━━━╇━━━━━━━━━━━━━━━━━━━━━━━━━━━┩\n",
              "│<span style=\"color: #008080; text-decoration-color: #008080\">         hp_metric         </span>│<span style=\"color: #800080; text-decoration-color: #800080\">            nan            </span>│\n",
              "│<span style=\"color: #008080; text-decoration-color: #008080\">         val_loss          </span>│<span style=\"color: #800080; text-decoration-color: #800080\">            nan            </span>│\n",
              "└───────────────────────────┴───────────────────────────┘\n",
              "</pre>\n"
            ],
            "text/plain": [
              "┏━━━━━━━━━━━━━━━━━━━━━━━━━━━┳━━━━━━━━━━━━━━━━━━━━━━━━━━━┓\n",
              "┃\u001b[1m \u001b[0m\u001b[1m     Validate metric     \u001b[0m\u001b[1m \u001b[0m┃\u001b[1m \u001b[0m\u001b[1m      DataLoader 0       \u001b[0m\u001b[1m \u001b[0m┃\n",
              "┡━━━━━━━━━━━━━━━━━━━━━━━━━━━╇━━━━━━━━━━━━━━━━━━━━━━━━━━━┩\n",
              "│\u001b[36m \u001b[0m\u001b[36m        hp_metric        \u001b[0m\u001b[36m \u001b[0m│\u001b[35m \u001b[0m\u001b[35m           nan           \u001b[0m\u001b[35m \u001b[0m│\n",
              "│\u001b[36m \u001b[0m\u001b[36m        val_loss         \u001b[0m\u001b[36m \u001b[0m│\u001b[35m \u001b[0m\u001b[35m           nan           \u001b[0m\u001b[35m \u001b[0m│\n",
              "└───────────────────────────┴───────────────────────────┘\n"
            ]
          },
          "metadata": {},
          "output_type": "display_data"
        },
        {
          "name": "stdout",
          "output_type": "stream",
          "text": [
            "train_model result: {'val_loss': nan, 'hp_metric': nan}\n",
            "y before penalty: [nan nan]. y after penalty: [200.00028459 200.06882227]\n",
            "No spot_writer available.\n",
            "spotpython tuning: 0.0475609228014946 [####------] 40.70% \n"
          ]
        },
        {
          "name": "stderr",
          "output_type": "stream",
          "text": [
            "GPU available: True (mps), used: False\n",
            "TPU available: False, using: 0 TPU cores\n",
            "HPU available: False, using: 0 HPUs\n",
            "\n",
            "  | Name   | Type          | Params | Mode  | In sizes          | Out sizes \n",
            "----------------------------------------------------------------------------------\n",
            "0 | layers | ManyToManyRNN | 395 K  | train | [[4, 10, 1], [4]] | [4, 10, 1]\n",
            "----------------------------------------------------------------------------------\n",
            "395 K     Trainable params\n",
            "0         Non-trainable params\n",
            "395 K     Total params\n",
            "1.583     Total estimated model params size (MB)\n",
            "6         Modules in train mode\n",
            "0         Modules in eval mode\n"
          ]
        },
        {
          "name": "stdout",
          "output_type": "stream",
          "text": [
            "\n",
            "In fun(): config:\n",
            "{'act_fn': LeakyReLU(),\n",
            " 'batch_size': 4,\n",
            " 'dropout_prob': 0.00023708238698784412,\n",
            " 'epochs': 256,\n",
            " 'fc_units': 512,\n",
            " 'lr_mult': 5.814072796761734,\n",
            " 'optimizer': 'Adagrad',\n",
            " 'patience': 16,\n",
            " 'rnn_units': 256}\n",
            "train_size: 8, val_size: 1 used for train & val data.\n",
            "LightDataModule.val_dataloader(). Val. set size: 1\n",
            "LightDataModule.train_dataloader(). data_train size: 8\n",
            "LightDataModule.val_dataloader(). Val. set size: 1\n"
          ]
        },
        {
          "data": {
            "text/html": [
              "<pre style=\"white-space:pre;overflow-x:auto;line-height:normal;font-family:Menlo,'DejaVu Sans Mono',consolas,'Courier New',monospace\">┏━━━━━━━━━━━━━━━━━━━━━━━━━━━┳━━━━━━━━━━━━━━━━━━━━━━━━━━━┓\n",
              "┃<span style=\"font-weight: bold\">      Validate metric      </span>┃<span style=\"font-weight: bold\">       DataLoader 0        </span>┃\n",
              "┡━━━━━━━━━━━━━━━━━━━━━━━━━━━╇━━━━━━━━━━━━━━━━━━━━━━━━━━━┩\n",
              "│<span style=\"color: #008080; text-decoration-color: #008080\">         hp_metric         </span>│<span style=\"color: #800080; text-decoration-color: #800080\">      665.0517578125       </span>│\n",
              "│<span style=\"color: #008080; text-decoration-color: #008080\">         val_loss          </span>│<span style=\"color: #800080; text-decoration-color: #800080\">      665.0517578125       </span>│\n",
              "└───────────────────────────┴───────────────────────────┘\n",
              "</pre>\n"
            ],
            "text/plain": [
              "┏━━━━━━━━━━━━━━━━━━━━━━━━━━━┳━━━━━━━━━━━━━━━━━━━━━━━━━━━┓\n",
              "┃\u001b[1m \u001b[0m\u001b[1m     Validate metric     \u001b[0m\u001b[1m \u001b[0m┃\u001b[1m \u001b[0m\u001b[1m      DataLoader 0       \u001b[0m\u001b[1m \u001b[0m┃\n",
              "┡━━━━━━━━━━━━━━━━━━━━━━━━━━━╇━━━━━━━━━━━━━━━━━━━━━━━━━━━┩\n",
              "│\u001b[36m \u001b[0m\u001b[36m        hp_metric        \u001b[0m\u001b[36m \u001b[0m│\u001b[35m \u001b[0m\u001b[35m     665.0517578125      \u001b[0m\u001b[35m \u001b[0m│\n",
              "│\u001b[36m \u001b[0m\u001b[36m        val_loss         \u001b[0m\u001b[36m \u001b[0m│\u001b[35m \u001b[0m\u001b[35m     665.0517578125      \u001b[0m\u001b[35m \u001b[0m│\n",
              "└───────────────────────────┴───────────────────────────┘\n"
            ]
          },
          "metadata": {},
          "output_type": "display_data"
        },
        {
          "name": "stderr",
          "output_type": "stream",
          "text": [
            "GPU available: True (mps), used: False\n",
            "TPU available: False, using: 0 TPU cores\n",
            "HPU available: False, using: 0 HPUs\n",
            "\n",
            "  | Name   | Type          | Params | Mode  | In sizes          | Out sizes \n",
            "----------------------------------------------------------------------------------\n",
            "0 | layers | ManyToManyRNN | 395 K  | train | [[4, 10, 1], [4]] | [4, 10, 1]\n",
            "----------------------------------------------------------------------------------\n",
            "395 K     Trainable params\n",
            "0         Non-trainable params\n",
            "395 K     Total params\n",
            "1.583     Total estimated model params size (MB)\n",
            "6         Modules in train mode\n",
            "0         Modules in eval mode\n"
          ]
        },
        {
          "name": "stdout",
          "output_type": "stream",
          "text": [
            "train_model result: {'val_loss': 665.0517578125, 'hp_metric': 665.0517578125}\n",
            "\n",
            "In fun(): config:\n",
            "{'act_fn': LeakyReLU(),\n",
            " 'batch_size': 4,\n",
            " 'dropout_prob': 0.00023708238698784412,\n",
            " 'epochs': 256,\n",
            " 'fc_units': 512,\n",
            " 'lr_mult': 5.814072796761734,\n",
            " 'optimizer': 'Adagrad',\n",
            " 'patience': 16,\n",
            " 'rnn_units': 256}\n",
            "train_size: 8, val_size: 1 used for train & val data.\n",
            "LightDataModule.val_dataloader(). Val. set size: 1\n",
            "LightDataModule.train_dataloader(). data_train size: 8\n",
            "LightDataModule.val_dataloader(). Val. set size: 1\n"
          ]
        },
        {
          "data": {
            "text/html": [
              "<pre style=\"white-space:pre;overflow-x:auto;line-height:normal;font-family:Menlo,'DejaVu Sans Mono',consolas,'Courier New',monospace\">┏━━━━━━━━━━━━━━━━━━━━━━━━━━━┳━━━━━━━━━━━━━━━━━━━━━━━━━━━┓\n",
              "┃<span style=\"font-weight: bold\">      Validate metric      </span>┃<span style=\"font-weight: bold\">       DataLoader 0        </span>┃\n",
              "┡━━━━━━━━━━━━━━━━━━━━━━━━━━━╇━━━━━━━━━━━━━━━━━━━━━━━━━━━┩\n",
              "│<span style=\"color: #008080; text-decoration-color: #008080\">         hp_metric         </span>│<span style=\"color: #800080; text-decoration-color: #800080\">     53.40095138549805     </span>│\n",
              "│<span style=\"color: #008080; text-decoration-color: #008080\">         val_loss          </span>│<span style=\"color: #800080; text-decoration-color: #800080\">     53.40095138549805     </span>│\n",
              "└───────────────────────────┴───────────────────────────┘\n",
              "</pre>\n"
            ],
            "text/plain": [
              "┏━━━━━━━━━━━━━━━━━━━━━━━━━━━┳━━━━━━━━━━━━━━━━━━━━━━━━━━━┓\n",
              "┃\u001b[1m \u001b[0m\u001b[1m     Validate metric     \u001b[0m\u001b[1m \u001b[0m┃\u001b[1m \u001b[0m\u001b[1m      DataLoader 0       \u001b[0m\u001b[1m \u001b[0m┃\n",
              "┡━━━━━━━━━━━━━━━━━━━━━━━━━━━╇━━━━━━━━━━━━━━━━━━━━━━━━━━━┩\n",
              "│\u001b[36m \u001b[0m\u001b[36m        hp_metric        \u001b[0m\u001b[36m \u001b[0m│\u001b[35m \u001b[0m\u001b[35m    53.40095138549805    \u001b[0m\u001b[35m \u001b[0m│\n",
              "│\u001b[36m \u001b[0m\u001b[36m        val_loss         \u001b[0m\u001b[36m \u001b[0m│\u001b[35m \u001b[0m\u001b[35m    53.40095138549805    \u001b[0m\u001b[35m \u001b[0m│\n",
              "└───────────────────────────┴───────────────────────────┘\n"
            ]
          },
          "metadata": {},
          "output_type": "display_data"
        },
        {
          "name": "stdout",
          "output_type": "stream",
          "text": [
            "train_model result: {'val_loss': 53.40095138549805, 'hp_metric': 53.40095138549805}\n",
            "No spot_writer available.\n",
            "spotpython tuning: 0.0475609228014946 [#####-----] 45.88% \n"
          ]
        },
        {
          "name": "stderr",
          "output_type": "stream",
          "text": [
            "GPU available: True (mps), used: False\n",
            "TPU available: False, using: 0 TPU cores\n",
            "HPU available: False, using: 0 HPUs\n",
            "\n",
            "  | Name   | Type          | Params | Mode  | In sizes          | Out sizes \n",
            "----------------------------------------------------------------------------------\n",
            "0 | layers | ManyToManyRNN | 165 K  | train | [[4, 10, 1], [4]] | [4, 10, 1]\n",
            "----------------------------------------------------------------------------------\n",
            "165 K     Trainable params\n",
            "0         Non-trainable params\n",
            "165 K     Total params\n",
            "0.662     Total estimated model params size (MB)\n",
            "6         Modules in train mode\n",
            "0         Modules in eval mode\n"
          ]
        },
        {
          "name": "stdout",
          "output_type": "stream",
          "text": [
            "\n",
            "In fun(): config:\n",
            "{'act_fn': ELU(),\n",
            " 'batch_size': 4,\n",
            " 'dropout_prob': 0.025,\n",
            " 'epochs': 64,\n",
            " 'fc_units': 64,\n",
            " 'lr_mult': 6.872868484702071,\n",
            " 'optimizer': 'Adamax',\n",
            " 'patience': 8,\n",
            " 'rnn_units': 256}\n",
            "train_size: 8, val_size: 1 used for train & val data.\n",
            "LightDataModule.val_dataloader(). Val. set size: 1\n",
            "LightDataModule.train_dataloader(). data_train size: 8\n",
            "LightDataModule.val_dataloader(). Val. set size: 1\n"
          ]
        },
        {
          "data": {
            "text/html": [
              "<pre style=\"white-space:pre;overflow-x:auto;line-height:normal;font-family:Menlo,'DejaVu Sans Mono',consolas,'Courier New',monospace\">┏━━━━━━━━━━━━━━━━━━━━━━━━━━━┳━━━━━━━━━━━━━━━━━━━━━━━━━━━┓\n",
              "┃<span style=\"font-weight: bold\">      Validate metric      </span>┃<span style=\"font-weight: bold\">       DataLoader 0        </span>┃\n",
              "┡━━━━━━━━━━━━━━━━━━━━━━━━━━━╇━━━━━━━━━━━━━━━━━━━━━━━━━━━┩\n",
              "│<span style=\"color: #008080; text-decoration-color: #008080\">         hp_metric         </span>│<span style=\"color: #800080; text-decoration-color: #800080\">    2.6940524578094482     </span>│\n",
              "│<span style=\"color: #008080; text-decoration-color: #008080\">         val_loss          </span>│<span style=\"color: #800080; text-decoration-color: #800080\">    2.6940524578094482     </span>│\n",
              "└───────────────────────────┴───────────────────────────┘\n",
              "</pre>\n"
            ],
            "text/plain": [
              "┏━━━━━━━━━━━━━━━━━━━━━━━━━━━┳━━━━━━━━━━━━━━━━━━━━━━━━━━━┓\n",
              "┃\u001b[1m \u001b[0m\u001b[1m     Validate metric     \u001b[0m\u001b[1m \u001b[0m┃\u001b[1m \u001b[0m\u001b[1m      DataLoader 0       \u001b[0m\u001b[1m \u001b[0m┃\n",
              "┡━━━━━━━━━━━━━━━━━━━━━━━━━━━╇━━━━━━━━━━━━━━━━━━━━━━━━━━━┩\n",
              "│\u001b[36m \u001b[0m\u001b[36m        hp_metric        \u001b[0m\u001b[36m \u001b[0m│\u001b[35m \u001b[0m\u001b[35m   2.6940524578094482    \u001b[0m\u001b[35m \u001b[0m│\n",
              "│\u001b[36m \u001b[0m\u001b[36m        val_loss         \u001b[0m\u001b[36m \u001b[0m│\u001b[35m \u001b[0m\u001b[35m   2.6940524578094482    \u001b[0m\u001b[35m \u001b[0m│\n",
              "└───────────────────────────┴───────────────────────────┘\n"
            ]
          },
          "metadata": {},
          "output_type": "display_data"
        },
        {
          "name": "stderr",
          "output_type": "stream",
          "text": [
            "GPU available: True (mps), used: False\n",
            "TPU available: False, using: 0 TPU cores\n",
            "HPU available: False, using: 0 HPUs\n",
            "\n",
            "  | Name   | Type          | Params | Mode  | In sizes          | Out sizes \n",
            "----------------------------------------------------------------------------------\n",
            "0 | layers | ManyToManyRNN | 165 K  | train | [[4, 10, 1], [4]] | [4, 10, 1]\n",
            "----------------------------------------------------------------------------------\n",
            "165 K     Trainable params\n",
            "0         Non-trainable params\n",
            "165 K     Total params\n",
            "0.662     Total estimated model params size (MB)\n",
            "6         Modules in train mode\n",
            "0         Modules in eval mode\n"
          ]
        },
        {
          "name": "stdout",
          "output_type": "stream",
          "text": [
            "train_model result: {'val_loss': 2.6940524578094482, 'hp_metric': 2.6940524578094482}\n",
            "\n",
            "In fun(): config:\n",
            "{'act_fn': ELU(),\n",
            " 'batch_size': 4,\n",
            " 'dropout_prob': 0.025,\n",
            " 'epochs': 64,\n",
            " 'fc_units': 64,\n",
            " 'lr_mult': 6.872868484702071,\n",
            " 'optimizer': 'Adamax',\n",
            " 'patience': 8,\n",
            " 'rnn_units': 256}\n",
            "train_size: 8, val_size: 1 used for train & val data.\n",
            "LightDataModule.val_dataloader(). Val. set size: 1\n",
            "LightDataModule.train_dataloader(). data_train size: 8\n",
            "LightDataModule.val_dataloader(). Val. set size: 1\n"
          ]
        },
        {
          "data": {
            "text/html": [
              "<pre style=\"white-space:pre;overflow-x:auto;line-height:normal;font-family:Menlo,'DejaVu Sans Mono',consolas,'Courier New',monospace\">┏━━━━━━━━━━━━━━━━━━━━━━━━━━━┳━━━━━━━━━━━━━━━━━━━━━━━━━━━┓\n",
              "┃<span style=\"font-weight: bold\">      Validate metric      </span>┃<span style=\"font-weight: bold\">       DataLoader 0        </span>┃\n",
              "┡━━━━━━━━━━━━━━━━━━━━━━━━━━━╇━━━━━━━━━━━━━━━━━━━━━━━━━━━┩\n",
              "│<span style=\"color: #008080; text-decoration-color: #008080\">         hp_metric         </span>│<span style=\"color: #800080; text-decoration-color: #800080\">     4.028632164001465     </span>│\n",
              "│<span style=\"color: #008080; text-decoration-color: #008080\">         val_loss          </span>│<span style=\"color: #800080; text-decoration-color: #800080\">     4.028632164001465     </span>│\n",
              "└───────────────────────────┴───────────────────────────┘\n",
              "</pre>\n"
            ],
            "text/plain": [
              "┏━━━━━━━━━━━━━━━━━━━━━━━━━━━┳━━━━━━━━━━━━━━━━━━━━━━━━━━━┓\n",
              "┃\u001b[1m \u001b[0m\u001b[1m     Validate metric     \u001b[0m\u001b[1m \u001b[0m┃\u001b[1m \u001b[0m\u001b[1m      DataLoader 0       \u001b[0m\u001b[1m \u001b[0m┃\n",
              "┡━━━━━━━━━━━━━━━━━━━━━━━━━━━╇━━━━━━━━━━━━━━━━━━━━━━━━━━━┩\n",
              "│\u001b[36m \u001b[0m\u001b[36m        hp_metric        \u001b[0m\u001b[36m \u001b[0m│\u001b[35m \u001b[0m\u001b[35m    4.028632164001465    \u001b[0m\u001b[35m \u001b[0m│\n",
              "│\u001b[36m \u001b[0m\u001b[36m        val_loss         \u001b[0m\u001b[36m \u001b[0m│\u001b[35m \u001b[0m\u001b[35m    4.028632164001465    \u001b[0m\u001b[35m \u001b[0m│\n",
              "└───────────────────────────┴───────────────────────────┘\n"
            ]
          },
          "metadata": {},
          "output_type": "display_data"
        },
        {
          "name": "stdout",
          "output_type": "stream",
          "text": [
            "train_model result: {'val_loss': 4.028632164001465, 'hp_metric': 4.028632164001465}\n",
            "No spot_writer available.\n",
            "spotpython tuning: 0.0475609228014946 [#####-----] 49.48% \n"
          ]
        },
        {
          "name": "stderr",
          "output_type": "stream",
          "text": [
            "GPU available: True (mps), used: False\n",
            "TPU available: False, using: 0 TPU cores\n",
            "HPU available: False, using: 0 HPUs\n",
            "\n",
            "  | Name   | Type          | Params | Mode  | In sizes          | Out sizes \n",
            "----------------------------------------------------------------------------------\n",
            "0 | layers | ManyToManyRNN | 16.9 K | train | [[4, 10, 1], [4]] | [4, 10, 1]\n",
            "----------------------------------------------------------------------------------\n",
            "16.9 K    Trainable params\n",
            "0         Non-trainable params\n",
            "16.9 K    Total params\n",
            "0.068     Total estimated model params size (MB)\n",
            "6         Modules in train mode\n",
            "0         Modules in eval mode\n"
          ]
        },
        {
          "name": "stdout",
          "output_type": "stream",
          "text": [
            "\n",
            "In fun(): config:\n",
            "{'act_fn': ReLU(),\n",
            " 'batch_size': 4,\n",
            " 'dropout_prob': 0.025,\n",
            " 'epochs': 256,\n",
            " 'fc_units': 64,\n",
            " 'lr_mult': 4.532921184082642,\n",
            " 'optimizer': 'AdamW',\n",
            " 'patience': 8,\n",
            " 'rnn_units': 64}\n",
            "train_size: 8, val_size: 1 used for train & val data.\n",
            "LightDataModule.val_dataloader(). Val. set size: 1\n",
            "LightDataModule.train_dataloader(). data_train size: 8\n",
            "LightDataModule.val_dataloader(). Val. set size: 1\n"
          ]
        },
        {
          "data": {
            "text/html": [
              "<pre style=\"white-space:pre;overflow-x:auto;line-height:normal;font-family:Menlo,'DejaVu Sans Mono',consolas,'Courier New',monospace\">┏━━━━━━━━━━━━━━━━━━━━━━━━━━━┳━━━━━━━━━━━━━━━━━━━━━━━━━━━┓\n",
              "┃<span style=\"font-weight: bold\">      Validate metric      </span>┃<span style=\"font-weight: bold\">       DataLoader 0        </span>┃\n",
              "┡━━━━━━━━━━━━━━━━━━━━━━━━━━━╇━━━━━━━━━━━━━━━━━━━━━━━━━━━┩\n",
              "│<span style=\"color: #008080; text-decoration-color: #008080\">         hp_metric         </span>│<span style=\"color: #800080; text-decoration-color: #800080\">    0.9208599328994751     </span>│\n",
              "│<span style=\"color: #008080; text-decoration-color: #008080\">         val_loss          </span>│<span style=\"color: #800080; text-decoration-color: #800080\">    0.9208599328994751     </span>│\n",
              "└───────────────────────────┴───────────────────────────┘\n",
              "</pre>\n"
            ],
            "text/plain": [
              "┏━━━━━━━━━━━━━━━━━━━━━━━━━━━┳━━━━━━━━━━━━━━━━━━━━━━━━━━━┓\n",
              "┃\u001b[1m \u001b[0m\u001b[1m     Validate metric     \u001b[0m\u001b[1m \u001b[0m┃\u001b[1m \u001b[0m\u001b[1m      DataLoader 0       \u001b[0m\u001b[1m \u001b[0m┃\n",
              "┡━━━━━━━━━━━━━━━━━━━━━━━━━━━╇━━━━━━━━━━━━━━━━━━━━━━━━━━━┩\n",
              "│\u001b[36m \u001b[0m\u001b[36m        hp_metric        \u001b[0m\u001b[36m \u001b[0m│\u001b[35m \u001b[0m\u001b[35m   0.9208599328994751    \u001b[0m\u001b[35m \u001b[0m│\n",
              "│\u001b[36m \u001b[0m\u001b[36m        val_loss         \u001b[0m\u001b[36m \u001b[0m│\u001b[35m \u001b[0m\u001b[35m   0.9208599328994751    \u001b[0m\u001b[35m \u001b[0m│\n",
              "└───────────────────────────┴───────────────────────────┘\n"
            ]
          },
          "metadata": {},
          "output_type": "display_data"
        },
        {
          "name": "stderr",
          "output_type": "stream",
          "text": [
            "GPU available: True (mps), used: False\n",
            "TPU available: False, using: 0 TPU cores\n",
            "HPU available: False, using: 0 HPUs\n",
            "\n",
            "  | Name   | Type          | Params | Mode  | In sizes          | Out sizes \n",
            "----------------------------------------------------------------------------------\n",
            "0 | layers | ManyToManyRNN | 16.9 K | train | [[4, 10, 1], [4]] | [4, 10, 1]\n",
            "----------------------------------------------------------------------------------\n",
            "16.9 K    Trainable params\n",
            "0         Non-trainable params\n",
            "16.9 K    Total params\n",
            "0.068     Total estimated model params size (MB)\n",
            "6         Modules in train mode\n",
            "0         Modules in eval mode\n"
          ]
        },
        {
          "name": "stdout",
          "output_type": "stream",
          "text": [
            "train_model result: {'val_loss': 0.9208599328994751, 'hp_metric': 0.9208599328994751}\n",
            "\n",
            "In fun(): config:\n",
            "{'act_fn': ReLU(),\n",
            " 'batch_size': 4,\n",
            " 'dropout_prob': 0.025,\n",
            " 'epochs': 256,\n",
            " 'fc_units': 64,\n",
            " 'lr_mult': 4.532921184082642,\n",
            " 'optimizer': 'AdamW',\n",
            " 'patience': 8,\n",
            " 'rnn_units': 64}\n",
            "train_size: 8, val_size: 1 used for train & val data.\n",
            "LightDataModule.val_dataloader(). Val. set size: 1\n",
            "LightDataModule.train_dataloader(). data_train size: 8\n",
            "LightDataModule.val_dataloader(). Val. set size: 1\n"
          ]
        },
        {
          "data": {
            "text/html": [
              "<pre style=\"white-space:pre;overflow-x:auto;line-height:normal;font-family:Menlo,'DejaVu Sans Mono',consolas,'Courier New',monospace\">┏━━━━━━━━━━━━━━━━━━━━━━━━━━━┳━━━━━━━━━━━━━━━━━━━━━━━━━━━┓\n",
              "┃<span style=\"font-weight: bold\">      Validate metric      </span>┃<span style=\"font-weight: bold\">       DataLoader 0        </span>┃\n",
              "┡━━━━━━━━━━━━━━━━━━━━━━━━━━━╇━━━━━━━━━━━━━━━━━━━━━━━━━━━┩\n",
              "│<span style=\"color: #008080; text-decoration-color: #008080\">         hp_metric         </span>│<span style=\"color: #800080; text-decoration-color: #800080\">    0.7080758213996887     </span>│\n",
              "│<span style=\"color: #008080; text-decoration-color: #008080\">         val_loss          </span>│<span style=\"color: #800080; text-decoration-color: #800080\">    0.7080758213996887     </span>│\n",
              "└───────────────────────────┴───────────────────────────┘\n",
              "</pre>\n"
            ],
            "text/plain": [
              "┏━━━━━━━━━━━━━━━━━━━━━━━━━━━┳━━━━━━━━━━━━━━━━━━━━━━━━━━━┓\n",
              "┃\u001b[1m \u001b[0m\u001b[1m     Validate metric     \u001b[0m\u001b[1m \u001b[0m┃\u001b[1m \u001b[0m\u001b[1m      DataLoader 0       \u001b[0m\u001b[1m \u001b[0m┃\n",
              "┡━━━━━━━━━━━━━━━━━━━━━━━━━━━╇━━━━━━━━━━━━━━━━━━━━━━━━━━━┩\n",
              "│\u001b[36m \u001b[0m\u001b[36m        hp_metric        \u001b[0m\u001b[36m \u001b[0m│\u001b[35m \u001b[0m\u001b[35m   0.7080758213996887    \u001b[0m\u001b[35m \u001b[0m│\n",
              "│\u001b[36m \u001b[0m\u001b[36m        val_loss         \u001b[0m\u001b[36m \u001b[0m│\u001b[35m \u001b[0m\u001b[35m   0.7080758213996887    \u001b[0m\u001b[35m \u001b[0m│\n",
              "└───────────────────────────┴───────────────────────────┘\n"
            ]
          },
          "metadata": {},
          "output_type": "display_data"
        },
        {
          "name": "stdout",
          "output_type": "stream",
          "text": [
            "train_model result: {'val_loss': 0.7080758213996887, 'hp_metric': 0.7080758213996887}\n",
            "No spot_writer available.\n",
            "spotpython tuning: 0.0475609228014946 [#####-----] 53.46% \n"
          ]
        },
        {
          "name": "stderr",
          "output_type": "stream",
          "text": [
            "GPU available: True (mps), used: False\n",
            "TPU available: False, using: 0 TPU cores\n",
            "HPU available: False, using: 0 HPUs\n",
            "\n",
            "  | Name   | Type          | Params | Mode  | In sizes          | Out sizes \n",
            "----------------------------------------------------------------------------------\n",
            "0 | layers | ManyToManyRNN | 41.9 K | train | [[4, 10, 1], [4]] | [4, 10, 1]\n",
            "----------------------------------------------------------------------------------\n",
            "41.9 K    Trainable params\n",
            "0         Non-trainable params\n",
            "41.9 K    Total params\n",
            "0.167     Total estimated model params size (MB)\n",
            "6         Modules in train mode\n",
            "0         Modules in eval mode\n"
          ]
        },
        {
          "name": "stdout",
          "output_type": "stream",
          "text": [
            "\n",
            "In fun(): config:\n",
            "{'act_fn': ELU(),\n",
            " 'batch_size': 4,\n",
            " 'dropout_prob': 0.025,\n",
            " 'epochs': 256,\n",
            " 'fc_units': 256,\n",
            " 'lr_mult': 0.1,\n",
            " 'optimizer': 'Adagrad',\n",
            " 'patience': 4,\n",
            " 'rnn_units': 64}\n",
            "train_size: 8, val_size: 1 used for train & val data.\n",
            "LightDataModule.val_dataloader(). Val. set size: 1\n",
            "LightDataModule.train_dataloader(). data_train size: 8\n",
            "LightDataModule.val_dataloader(). Val. set size: 1\n"
          ]
        },
        {
          "data": {
            "text/html": [
              "<pre style=\"white-space:pre;overflow-x:auto;line-height:normal;font-family:Menlo,'DejaVu Sans Mono',consolas,'Courier New',monospace\">┏━━━━━━━━━━━━━━━━━━━━━━━━━━━┳━━━━━━━━━━━━━━━━━━━━━━━━━━━┓\n",
              "┃<span style=\"font-weight: bold\">      Validate metric      </span>┃<span style=\"font-weight: bold\">       DataLoader 0        </span>┃\n",
              "┡━━━━━━━━━━━━━━━━━━━━━━━━━━━╇━━━━━━━━━━━━━━━━━━━━━━━━━━━┩\n",
              "│<span style=\"color: #008080; text-decoration-color: #008080\">         hp_metric         </span>│<span style=\"color: #800080; text-decoration-color: #800080\">    0.9060027003288269     </span>│\n",
              "│<span style=\"color: #008080; text-decoration-color: #008080\">         val_loss          </span>│<span style=\"color: #800080; text-decoration-color: #800080\">    0.9060027003288269     </span>│\n",
              "└───────────────────────────┴───────────────────────────┘\n",
              "</pre>\n"
            ],
            "text/plain": [
              "┏━━━━━━━━━━━━━━━━━━━━━━━━━━━┳━━━━━━━━━━━━━━━━━━━━━━━━━━━┓\n",
              "┃\u001b[1m \u001b[0m\u001b[1m     Validate metric     \u001b[0m\u001b[1m \u001b[0m┃\u001b[1m \u001b[0m\u001b[1m      DataLoader 0       \u001b[0m\u001b[1m \u001b[0m┃\n",
              "┡━━━━━━━━━━━━━━━━━━━━━━━━━━━╇━━━━━━━━━━━━━━━━━━━━━━━━━━━┩\n",
              "│\u001b[36m \u001b[0m\u001b[36m        hp_metric        \u001b[0m\u001b[36m \u001b[0m│\u001b[35m \u001b[0m\u001b[35m   0.9060027003288269    \u001b[0m\u001b[35m \u001b[0m│\n",
              "│\u001b[36m \u001b[0m\u001b[36m        val_loss         \u001b[0m\u001b[36m \u001b[0m│\u001b[35m \u001b[0m\u001b[35m   0.9060027003288269    \u001b[0m\u001b[35m \u001b[0m│\n",
              "└───────────────────────────┴───────────────────────────┘\n"
            ]
          },
          "metadata": {},
          "output_type": "display_data"
        },
        {
          "name": "stderr",
          "output_type": "stream",
          "text": [
            "GPU available: True (mps), used: False\n",
            "TPU available: False, using: 0 TPU cores\n",
            "HPU available: False, using: 0 HPUs\n",
            "\n",
            "  | Name   | Type          | Params | Mode  | In sizes          | Out sizes \n",
            "----------------------------------------------------------------------------------\n",
            "0 | layers | ManyToManyRNN | 41.9 K | train | [[4, 10, 1], [4]] | [4, 10, 1]\n",
            "----------------------------------------------------------------------------------\n",
            "41.9 K    Trainable params\n",
            "0         Non-trainable params\n",
            "41.9 K    Total params\n",
            "0.167     Total estimated model params size (MB)\n",
            "6         Modules in train mode\n",
            "0         Modules in eval mode\n"
          ]
        },
        {
          "name": "stdout",
          "output_type": "stream",
          "text": [
            "train_model result: {'val_loss': 0.9060027003288269, 'hp_metric': 0.9060027003288269}\n",
            "\n",
            "In fun(): config:\n",
            "{'act_fn': ELU(),\n",
            " 'batch_size': 4,\n",
            " 'dropout_prob': 0.025,\n",
            " 'epochs': 256,\n",
            " 'fc_units': 256,\n",
            " 'lr_mult': 0.1,\n",
            " 'optimizer': 'Adagrad',\n",
            " 'patience': 4,\n",
            " 'rnn_units': 64}\n",
            "train_size: 8, val_size: 1 used for train & val data.\n",
            "LightDataModule.val_dataloader(). Val. set size: 1\n",
            "LightDataModule.train_dataloader(). data_train size: 8\n",
            "LightDataModule.val_dataloader(). Val. set size: 1\n"
          ]
        },
        {
          "data": {
            "text/html": [
              "<pre style=\"white-space:pre;overflow-x:auto;line-height:normal;font-family:Menlo,'DejaVu Sans Mono',consolas,'Courier New',monospace\">┏━━━━━━━━━━━━━━━━━━━━━━━━━━━┳━━━━━━━━━━━━━━━━━━━━━━━━━━━┓\n",
              "┃<span style=\"font-weight: bold\">      Validate metric      </span>┃<span style=\"font-weight: bold\">       DataLoader 0        </span>┃\n",
              "┡━━━━━━━━━━━━━━━━━━━━━━━━━━━╇━━━━━━━━━━━━━━━━━━━━━━━━━━━┩\n",
              "│<span style=\"color: #008080; text-decoration-color: #008080\">         hp_metric         </span>│<span style=\"color: #800080; text-decoration-color: #800080\">    0.9054862260818481     </span>│\n",
              "│<span style=\"color: #008080; text-decoration-color: #008080\">         val_loss          </span>│<span style=\"color: #800080; text-decoration-color: #800080\">    0.9054862260818481     </span>│\n",
              "└───────────────────────────┴───────────────────────────┘\n",
              "</pre>\n"
            ],
            "text/plain": [
              "┏━━━━━━━━━━━━━━━━━━━━━━━━━━━┳━━━━━━━━━━━━━━━━━━━━━━━━━━━┓\n",
              "┃\u001b[1m \u001b[0m\u001b[1m     Validate metric     \u001b[0m\u001b[1m \u001b[0m┃\u001b[1m \u001b[0m\u001b[1m      DataLoader 0       \u001b[0m\u001b[1m \u001b[0m┃\n",
              "┡━━━━━━━━━━━━━━━━━━━━━━━━━━━╇━━━━━━━━━━━━━━━━━━━━━━━━━━━┩\n",
              "│\u001b[36m \u001b[0m\u001b[36m        hp_metric        \u001b[0m\u001b[36m \u001b[0m│\u001b[35m \u001b[0m\u001b[35m   0.9054862260818481    \u001b[0m\u001b[35m \u001b[0m│\n",
              "│\u001b[36m \u001b[0m\u001b[36m        val_loss         \u001b[0m\u001b[36m \u001b[0m│\u001b[35m \u001b[0m\u001b[35m   0.9054862260818481    \u001b[0m\u001b[35m \u001b[0m│\n",
              "└───────────────────────────┴───────────────────────────┘\n"
            ]
          },
          "metadata": {},
          "output_type": "display_data"
        },
        {
          "name": "stdout",
          "output_type": "stream",
          "text": [
            "train_model result: {'val_loss': 0.9054862260818481, 'hp_metric': 0.9054862260818481}\n",
            "No spot_writer available.\n",
            "spotpython tuning: 0.0475609228014946 [######----] 58.65% \n"
          ]
        },
        {
          "name": "stderr",
          "output_type": "stream",
          "text": [
            "GPU available: True (mps), used: False\n",
            "TPU available: False, using: 0 TPU cores\n",
            "HPU available: False, using: 0 HPUs\n",
            "\n",
            "  | Name   | Type          | Params | Mode  | In sizes          | Out sizes \n",
            "----------------------------------------------------------------------------------\n",
            "0 | layers | ManyToManyRNN | 4.2 M  | train | [[4, 10, 1], [4]] | [4, 10, 1]\n",
            "----------------------------------------------------------------------------------\n",
            "4.2 M     Trainable params\n",
            "0         Non-trainable params\n",
            "4.2 M     Total params\n",
            "16.810    Total estimated model params size (MB)\n",
            "6         Modules in train mode\n",
            "0         Modules in eval mode\n"
          ]
        },
        {
          "name": "stdout",
          "output_type": "stream",
          "text": [
            "\n",
            "In fun(): config:\n",
            "{'act_fn': ReLU(),\n",
            " 'batch_size': 4,\n",
            " 'dropout_prob': 0.024997324615650796,\n",
            " 'epochs': 64,\n",
            " 'fc_units': 1024,\n",
            " 'lr_mult': 8.720382057943374,\n",
            " 'optimizer': 'SparseAdam',\n",
            " 'patience': 32,\n",
            " 'rnn_units': 1024}\n",
            "train_size: 8, val_size: 1 used for train & val data.\n",
            "LightDataModule.val_dataloader(). Val. set size: 1\n",
            "LightDataModule.train_dataloader(). data_train size: 8\n",
            "train_model(): trainer.fit failed with exception: SparseAdam does not support dense gradients, please consider Adam instead\n",
            "LightDataModule.val_dataloader(). Val. set size: 1\n"
          ]
        },
        {
          "data": {
            "text/html": [
              "<pre style=\"white-space:pre;overflow-x:auto;line-height:normal;font-family:Menlo,'DejaVu Sans Mono',consolas,'Courier New',monospace\">┏━━━━━━━━━━━━━━━━━━━━━━━━━━━┳━━━━━━━━━━━━━━━━━━━━━━━━━━━┓\n",
              "┃<span style=\"font-weight: bold\">      Validate metric      </span>┃<span style=\"font-weight: bold\">       DataLoader 0        </span>┃\n",
              "┡━━━━━━━━━━━━━━━━━━━━━━━━━━━╇━━━━━━━━━━━━━━━━━━━━━━━━━━━┩\n",
              "│<span style=\"color: #008080; text-decoration-color: #008080\">         hp_metric         </span>│<span style=\"color: #800080; text-decoration-color: #800080\">     26.6197566986084      </span>│\n",
              "│<span style=\"color: #008080; text-decoration-color: #008080\">         val_loss          </span>│<span style=\"color: #800080; text-decoration-color: #800080\">     26.6197566986084      </span>│\n",
              "└───────────────────────────┴───────────────────────────┘\n",
              "</pre>\n"
            ],
            "text/plain": [
              "┏━━━━━━━━━━━━━━━━━━━━━━━━━━━┳━━━━━━━━━━━━━━━━━━━━━━━━━━━┓\n",
              "┃\u001b[1m \u001b[0m\u001b[1m     Validate metric     \u001b[0m\u001b[1m \u001b[0m┃\u001b[1m \u001b[0m\u001b[1m      DataLoader 0       \u001b[0m\u001b[1m \u001b[0m┃\n",
              "┡━━━━━━━━━━━━━━━━━━━━━━━━━━━╇━━━━━━━━━━━━━━━━━━━━━━━━━━━┩\n",
              "│\u001b[36m \u001b[0m\u001b[36m        hp_metric        \u001b[0m\u001b[36m \u001b[0m│\u001b[35m \u001b[0m\u001b[35m    26.6197566986084     \u001b[0m\u001b[35m \u001b[0m│\n",
              "│\u001b[36m \u001b[0m\u001b[36m        val_loss         \u001b[0m\u001b[36m \u001b[0m│\u001b[35m \u001b[0m\u001b[35m    26.6197566986084     \u001b[0m\u001b[35m \u001b[0m│\n",
              "└───────────────────────────┴───────────────────────────┘\n"
            ]
          },
          "metadata": {},
          "output_type": "display_data"
        },
        {
          "name": "stderr",
          "output_type": "stream",
          "text": [
            "GPU available: True (mps), used: False\n",
            "TPU available: False, using: 0 TPU cores\n",
            "HPU available: False, using: 0 HPUs\n",
            "\n",
            "  | Name   | Type          | Params | Mode  | In sizes          | Out sizes \n",
            "----------------------------------------------------------------------------------\n",
            "0 | layers | ManyToManyRNN | 4.2 M  | train | [[4, 10, 1], [4]] | [4, 10, 1]\n",
            "----------------------------------------------------------------------------------\n",
            "4.2 M     Trainable params\n",
            "0         Non-trainable params\n",
            "4.2 M     Total params\n",
            "16.810    Total estimated model params size (MB)\n",
            "6         Modules in train mode\n",
            "0         Modules in eval mode\n"
          ]
        },
        {
          "name": "stdout",
          "output_type": "stream",
          "text": [
            "train_model result: {'val_loss': 26.6197566986084, 'hp_metric': 26.6197566986084}\n",
            "\n",
            "In fun(): config:\n",
            "{'act_fn': ReLU(),\n",
            " 'batch_size': 4,\n",
            " 'dropout_prob': 0.024997324615650796,\n",
            " 'epochs': 64,\n",
            " 'fc_units': 1024,\n",
            " 'lr_mult': 8.720382057943374,\n",
            " 'optimizer': 'SparseAdam',\n",
            " 'patience': 32,\n",
            " 'rnn_units': 1024}\n",
            "train_size: 8, val_size: 1 used for train & val data.\n",
            "LightDataModule.val_dataloader(). Val. set size: 1\n",
            "LightDataModule.train_dataloader(). data_train size: 8\n",
            "train_model(): trainer.fit failed with exception: SparseAdam does not support dense gradients, please consider Adam instead\n",
            "LightDataModule.val_dataloader(). Val. set size: 1\n"
          ]
        },
        {
          "data": {
            "text/html": [
              "<pre style=\"white-space:pre;overflow-x:auto;line-height:normal;font-family:Menlo,'DejaVu Sans Mono',consolas,'Courier New',monospace\">┏━━━━━━━━━━━━━━━━━━━━━━━━━━━┳━━━━━━━━━━━━━━━━━━━━━━━━━━━┓\n",
              "┃<span style=\"font-weight: bold\">      Validate metric      </span>┃<span style=\"font-weight: bold\">       DataLoader 0        </span>┃\n",
              "┡━━━━━━━━━━━━━━━━━━━━━━━━━━━╇━━━━━━━━━━━━━━━━━━━━━━━━━━━┩\n",
              "│<span style=\"color: #008080; text-decoration-color: #008080\">         hp_metric         </span>│<span style=\"color: #800080; text-decoration-color: #800080\">    26.557369232177734     </span>│\n",
              "│<span style=\"color: #008080; text-decoration-color: #008080\">         val_loss          </span>│<span style=\"color: #800080; text-decoration-color: #800080\">    26.557369232177734     </span>│\n",
              "└───────────────────────────┴───────────────────────────┘\n",
              "</pre>\n"
            ],
            "text/plain": [
              "┏━━━━━━━━━━━━━━━━━━━━━━━━━━━┳━━━━━━━━━━━━━━━━━━━━━━━━━━━┓\n",
              "┃\u001b[1m \u001b[0m\u001b[1m     Validate metric     \u001b[0m\u001b[1m \u001b[0m┃\u001b[1m \u001b[0m\u001b[1m      DataLoader 0       \u001b[0m\u001b[1m \u001b[0m┃\n",
              "┡━━━━━━━━━━━━━━━━━━━━━━━━━━━╇━━━━━━━━━━━━━━━━━━━━━━━━━━━┩\n",
              "│\u001b[36m \u001b[0m\u001b[36m        hp_metric        \u001b[0m\u001b[36m \u001b[0m│\u001b[35m \u001b[0m\u001b[35m   26.557369232177734    \u001b[0m\u001b[35m \u001b[0m│\n",
              "│\u001b[36m \u001b[0m\u001b[36m        val_loss         \u001b[0m\u001b[36m \u001b[0m│\u001b[35m \u001b[0m\u001b[35m   26.557369232177734    \u001b[0m\u001b[35m \u001b[0m│\n",
              "└───────────────────────────┴───────────────────────────┘\n"
            ]
          },
          "metadata": {},
          "output_type": "display_data"
        },
        {
          "name": "stdout",
          "output_type": "stream",
          "text": [
            "train_model result: {'val_loss': 26.557369232177734, 'hp_metric': 26.557369232177734}\n",
            "No spot_writer available.\n",
            "spotpython tuning: 0.0475609228014946 [######----] 62.68% \n"
          ]
        },
        {
          "name": "stderr",
          "output_type": "stream",
          "text": [
            "GPU available: True (mps), used: False\n",
            "TPU available: False, using: 0 TPU cores\n",
            "HPU available: False, using: 0 HPUs\n",
            "\n",
            "  | Name   | Type          | Params | Mode  | In sizes          | Out sizes \n",
            "----------------------------------------------------------------------------------\n",
            "0 | layers | ManyToManyRNN | 50.0 K | train | [[4, 10, 1], [4]] | [4, 10, 1]\n",
            "----------------------------------------------------------------------------------\n",
            "50.0 K    Trainable params\n",
            "0         Non-trainable params\n",
            "50.0 K    Total params\n",
            "0.200     Total estimated model params size (MB)\n",
            "6         Modules in train mode\n",
            "0         Modules in eval mode\n"
          ]
        },
        {
          "name": "stdout",
          "output_type": "stream",
          "text": [
            "\n",
            "In fun(): config:\n",
            "{'act_fn': ELU(),\n",
            " 'batch_size': 4,\n",
            " 'dropout_prob': 0.010899773910139451,\n",
            " 'epochs': 256,\n",
            " 'fc_units': 64,\n",
            " 'lr_mult': 8.115201178649004,\n",
            " 'optimizer': 'Adamax',\n",
            " 'patience': 4,\n",
            " 'rnn_units': 128}\n",
            "train_size: 8, val_size: 1 used for train & val data.\n",
            "LightDataModule.val_dataloader(). Val. set size: 1\n",
            "LightDataModule.train_dataloader(). data_train size: 8\n",
            "LightDataModule.val_dataloader(). Val. set size: 1\n"
          ]
        },
        {
          "data": {
            "text/html": [
              "<pre style=\"white-space:pre;overflow-x:auto;line-height:normal;font-family:Menlo,'DejaVu Sans Mono',consolas,'Courier New',monospace\">┏━━━━━━━━━━━━━━━━━━━━━━━━━━━┳━━━━━━━━━━━━━━━━━━━━━━━━━━━┓\n",
              "┃<span style=\"font-weight: bold\">      Validate metric      </span>┃<span style=\"font-weight: bold\">       DataLoader 0        </span>┃\n",
              "┡━━━━━━━━━━━━━━━━━━━━━━━━━━━╇━━━━━━━━━━━━━━━━━━━━━━━━━━━┩\n",
              "│<span style=\"color: #008080; text-decoration-color: #008080\">         hp_metric         </span>│<span style=\"color: #800080; text-decoration-color: #800080\">    3.8084168434143066     </span>│\n",
              "│<span style=\"color: #008080; text-decoration-color: #008080\">         val_loss          </span>│<span style=\"color: #800080; text-decoration-color: #800080\">    3.8084168434143066     </span>│\n",
              "└───────────────────────────┴───────────────────────────┘\n",
              "</pre>\n"
            ],
            "text/plain": [
              "┏━━━━━━━━━━━━━━━━━━━━━━━━━━━┳━━━━━━━━━━━━━━━━━━━━━━━━━━━┓\n",
              "┃\u001b[1m \u001b[0m\u001b[1m     Validate metric     \u001b[0m\u001b[1m \u001b[0m┃\u001b[1m \u001b[0m\u001b[1m      DataLoader 0       \u001b[0m\u001b[1m \u001b[0m┃\n",
              "┡━━━━━━━━━━━━━━━━━━━━━━━━━━━╇━━━━━━━━━━━━━━━━━━━━━━━━━━━┩\n",
              "│\u001b[36m \u001b[0m\u001b[36m        hp_metric        \u001b[0m\u001b[36m \u001b[0m│\u001b[35m \u001b[0m\u001b[35m   3.8084168434143066    \u001b[0m\u001b[35m \u001b[0m│\n",
              "│\u001b[36m \u001b[0m\u001b[36m        val_loss         \u001b[0m\u001b[36m \u001b[0m│\u001b[35m \u001b[0m\u001b[35m   3.8084168434143066    \u001b[0m\u001b[35m \u001b[0m│\n",
              "└───────────────────────────┴───────────────────────────┘\n"
            ]
          },
          "metadata": {},
          "output_type": "display_data"
        },
        {
          "name": "stderr",
          "output_type": "stream",
          "text": [
            "GPU available: True (mps), used: False\n",
            "TPU available: False, using: 0 TPU cores\n",
            "HPU available: False, using: 0 HPUs\n",
            "\n",
            "  | Name   | Type          | Params | Mode  | In sizes          | Out sizes \n",
            "----------------------------------------------------------------------------------\n",
            "0 | layers | ManyToManyRNN | 50.0 K | train | [[4, 10, 1], [4]] | [4, 10, 1]\n",
            "----------------------------------------------------------------------------------\n",
            "50.0 K    Trainable params\n",
            "0         Non-trainable params\n",
            "50.0 K    Total params\n",
            "0.200     Total estimated model params size (MB)\n",
            "6         Modules in train mode\n",
            "0         Modules in eval mode\n"
          ]
        },
        {
          "name": "stdout",
          "output_type": "stream",
          "text": [
            "train_model result: {'val_loss': 3.8084168434143066, 'hp_metric': 3.8084168434143066}\n",
            "\n",
            "In fun(): config:\n",
            "{'act_fn': ELU(),\n",
            " 'batch_size': 4,\n",
            " 'dropout_prob': 0.010899773910139451,\n",
            " 'epochs': 256,\n",
            " 'fc_units': 64,\n",
            " 'lr_mult': 8.115201178649004,\n",
            " 'optimizer': 'Adamax',\n",
            " 'patience': 4,\n",
            " 'rnn_units': 128}\n",
            "train_size: 8, val_size: 1 used for train & val data.\n",
            "LightDataModule.val_dataloader(). Val. set size: 1\n",
            "LightDataModule.train_dataloader(). data_train size: 8\n",
            "LightDataModule.val_dataloader(). Val. set size: 1\n"
          ]
        },
        {
          "data": {
            "text/html": [
              "<pre style=\"white-space:pre;overflow-x:auto;line-height:normal;font-family:Menlo,'DejaVu Sans Mono',consolas,'Courier New',monospace\">┏━━━━━━━━━━━━━━━━━━━━━━━━━━━┳━━━━━━━━━━━━━━━━━━━━━━━━━━━┓\n",
              "┃<span style=\"font-weight: bold\">      Validate metric      </span>┃<span style=\"font-weight: bold\">       DataLoader 0        </span>┃\n",
              "┡━━━━━━━━━━━━━━━━━━━━━━━━━━━╇━━━━━━━━━━━━━━━━━━━━━━━━━━━┩\n",
              "│<span style=\"color: #008080; text-decoration-color: #008080\">         hp_metric         </span>│<span style=\"color: #800080; text-decoration-color: #800080\">     3.348637819290161     </span>│\n",
              "│<span style=\"color: #008080; text-decoration-color: #008080\">         val_loss          </span>│<span style=\"color: #800080; text-decoration-color: #800080\">     3.348637819290161     </span>│\n",
              "└───────────────────────────┴───────────────────────────┘\n",
              "</pre>\n"
            ],
            "text/plain": [
              "┏━━━━━━━━━━━━━━━━━━━━━━━━━━━┳━━━━━━━━━━━━━━━━━━━━━━━━━━━┓\n",
              "┃\u001b[1m \u001b[0m\u001b[1m     Validate metric     \u001b[0m\u001b[1m \u001b[0m┃\u001b[1m \u001b[0m\u001b[1m      DataLoader 0       \u001b[0m\u001b[1m \u001b[0m┃\n",
              "┡━━━━━━━━━━━━━━━━━━━━━━━━━━━╇━━━━━━━━━━━━━━━━━━━━━━━━━━━┩\n",
              "│\u001b[36m \u001b[0m\u001b[36m        hp_metric        \u001b[0m\u001b[36m \u001b[0m│\u001b[35m \u001b[0m\u001b[35m    3.348637819290161    \u001b[0m\u001b[35m \u001b[0m│\n",
              "│\u001b[36m \u001b[0m\u001b[36m        val_loss         \u001b[0m\u001b[36m \u001b[0m│\u001b[35m \u001b[0m\u001b[35m    3.348637819290161    \u001b[0m\u001b[35m \u001b[0m│\n",
              "└───────────────────────────┴───────────────────────────┘\n"
            ]
          },
          "metadata": {},
          "output_type": "display_data"
        },
        {
          "name": "stdout",
          "output_type": "stream",
          "text": [
            "train_model result: {'val_loss': 3.348637819290161, 'hp_metric': 3.348637819290161}\n",
            "No spot_writer available.\n",
            "spotpython tuning: 0.0475609228014946 [#######---] 66.37% \n"
          ]
        },
        {
          "name": "stderr",
          "output_type": "stream",
          "text": [
            "GPU available: True (mps), used: False\n",
            "TPU available: False, using: 0 TPU cores\n",
            "HPU available: False, using: 0 HPUs\n",
            "\n",
            "  | Name   | Type          | Params | Mode  | In sizes          | Out sizes \n",
            "----------------------------------------------------------------------------------\n",
            "0 | layers | ManyToManyRNN | 99.6 K | train | [[4, 10, 1], [4]] | [4, 10, 1]\n",
            "----------------------------------------------------------------------------------\n",
            "99.6 K    Trainable params\n",
            "0         Non-trainable params\n",
            "99.6 K    Total params\n",
            "0.398     Total estimated model params size (MB)\n",
            "6         Modules in train mode\n",
            "0         Modules in eval mode\n"
          ]
        },
        {
          "name": "stdout",
          "output_type": "stream",
          "text": [
            "\n",
            "In fun(): config:\n",
            "{'act_fn': ELU(),\n",
            " 'batch_size': 4,\n",
            " 'dropout_prob': 6.417488841469294e-06,\n",
            " 'epochs': 256,\n",
            " 'fc_units': 256,\n",
            " 'lr_mult': 5.364952726555285,\n",
            " 'optimizer': 'Adamax',\n",
            " 'patience': 8,\n",
            " 'rnn_units': 128}\n",
            "train_size: 8, val_size: 1 used for train & val data.\n",
            "LightDataModule.val_dataloader(). Val. set size: 1\n",
            "LightDataModule.train_dataloader(). data_train size: 8\n",
            "LightDataModule.val_dataloader(). Val. set size: 1\n"
          ]
        },
        {
          "data": {
            "text/html": [
              "<pre style=\"white-space:pre;overflow-x:auto;line-height:normal;font-family:Menlo,'DejaVu Sans Mono',consolas,'Courier New',monospace\">┏━━━━━━━━━━━━━━━━━━━━━━━━━━━┳━━━━━━━━━━━━━━━━━━━━━━━━━━━┓\n",
              "┃<span style=\"font-weight: bold\">      Validate metric      </span>┃<span style=\"font-weight: bold\">       DataLoader 0        </span>┃\n",
              "┡━━━━━━━━━━━━━━━━━━━━━━━━━━━╇━━━━━━━━━━━━━━━━━━━━━━━━━━━┩\n",
              "│<span style=\"color: #008080; text-decoration-color: #008080\">         hp_metric         </span>│<span style=\"color: #800080; text-decoration-color: #800080\">    0.2553556561470032     </span>│\n",
              "│<span style=\"color: #008080; text-decoration-color: #008080\">         val_loss          </span>│<span style=\"color: #800080; text-decoration-color: #800080\">    0.2553556561470032     </span>│\n",
              "└───────────────────────────┴───────────────────────────┘\n",
              "</pre>\n"
            ],
            "text/plain": [
              "┏━━━━━━━━━━━━━━━━━━━━━━━━━━━┳━━━━━━━━━━━━━━━━━━━━━━━━━━━┓\n",
              "┃\u001b[1m \u001b[0m\u001b[1m     Validate metric     \u001b[0m\u001b[1m \u001b[0m┃\u001b[1m \u001b[0m\u001b[1m      DataLoader 0       \u001b[0m\u001b[1m \u001b[0m┃\n",
              "┡━━━━━━━━━━━━━━━━━━━━━━━━━━━╇━━━━━━━━━━━━━━━━━━━━━━━━━━━┩\n",
              "│\u001b[36m \u001b[0m\u001b[36m        hp_metric        \u001b[0m\u001b[36m \u001b[0m│\u001b[35m \u001b[0m\u001b[35m   0.2553556561470032    \u001b[0m\u001b[35m \u001b[0m│\n",
              "│\u001b[36m \u001b[0m\u001b[36m        val_loss         \u001b[0m\u001b[36m \u001b[0m│\u001b[35m \u001b[0m\u001b[35m   0.2553556561470032    \u001b[0m\u001b[35m \u001b[0m│\n",
              "└───────────────────────────┴───────────────────────────┘\n"
            ]
          },
          "metadata": {},
          "output_type": "display_data"
        },
        {
          "name": "stderr",
          "output_type": "stream",
          "text": [
            "GPU available: True (mps), used: False\n",
            "TPU available: False, using: 0 TPU cores\n",
            "HPU available: False, using: 0 HPUs\n",
            "\n",
            "  | Name   | Type          | Params | Mode  | In sizes          | Out sizes \n",
            "----------------------------------------------------------------------------------\n",
            "0 | layers | ManyToManyRNN | 99.6 K | train | [[4, 10, 1], [4]] | [4, 10, 1]\n",
            "----------------------------------------------------------------------------------\n",
            "99.6 K    Trainable params\n",
            "0         Non-trainable params\n",
            "99.6 K    Total params\n",
            "0.398     Total estimated model params size (MB)\n",
            "6         Modules in train mode\n",
            "0         Modules in eval mode\n"
          ]
        },
        {
          "name": "stdout",
          "output_type": "stream",
          "text": [
            "train_model result: {'val_loss': 0.2553556561470032, 'hp_metric': 0.2553556561470032}\n",
            "\n",
            "In fun(): config:\n",
            "{'act_fn': ELU(),\n",
            " 'batch_size': 4,\n",
            " 'dropout_prob': 6.417488841469294e-06,\n",
            " 'epochs': 256,\n",
            " 'fc_units': 256,\n",
            " 'lr_mult': 5.364952726555285,\n",
            " 'optimizer': 'Adamax',\n",
            " 'patience': 8,\n",
            " 'rnn_units': 128}\n",
            "train_size: 8, val_size: 1 used for train & val data.\n",
            "LightDataModule.val_dataloader(). Val. set size: 1\n",
            "LightDataModule.train_dataloader(). data_train size: 8\n",
            "LightDataModule.val_dataloader(). Val. set size: 1\n"
          ]
        },
        {
          "data": {
            "text/html": [
              "<pre style=\"white-space:pre;overflow-x:auto;line-height:normal;font-family:Menlo,'DejaVu Sans Mono',consolas,'Courier New',monospace\">┏━━━━━━━━━━━━━━━━━━━━━━━━━━━┳━━━━━━━━━━━━━━━━━━━━━━━━━━━┓\n",
              "┃<span style=\"font-weight: bold\">      Validate metric      </span>┃<span style=\"font-weight: bold\">       DataLoader 0        </span>┃\n",
              "┡━━━━━━━━━━━━━━━━━━━━━━━━━━━╇━━━━━━━━━━━━━━━━━━━━━━━━━━━┩\n",
              "│<span style=\"color: #008080; text-decoration-color: #008080\">         hp_metric         </span>│<span style=\"color: #800080; text-decoration-color: #800080\">    0.08291060477495193    </span>│\n",
              "│<span style=\"color: #008080; text-decoration-color: #008080\">         val_loss          </span>│<span style=\"color: #800080; text-decoration-color: #800080\">    0.08291060477495193    </span>│\n",
              "└───────────────────────────┴───────────────────────────┘\n",
              "</pre>\n"
            ],
            "text/plain": [
              "┏━━━━━━━━━━━━━━━━━━━━━━━━━━━┳━━━━━━━━━━━━━━━━━━━━━━━━━━━┓\n",
              "┃\u001b[1m \u001b[0m\u001b[1m     Validate metric     \u001b[0m\u001b[1m \u001b[0m┃\u001b[1m \u001b[0m\u001b[1m      DataLoader 0       \u001b[0m\u001b[1m \u001b[0m┃\n",
              "┡━━━━━━━━━━━━━━━━━━━━━━━━━━━╇━━━━━━━━━━━━━━━━━━━━━━━━━━━┩\n",
              "│\u001b[36m \u001b[0m\u001b[36m        hp_metric        \u001b[0m\u001b[36m \u001b[0m│\u001b[35m \u001b[0m\u001b[35m   0.08291060477495193   \u001b[0m\u001b[35m \u001b[0m│\n",
              "│\u001b[36m \u001b[0m\u001b[36m        val_loss         \u001b[0m\u001b[36m \u001b[0m│\u001b[35m \u001b[0m\u001b[35m   0.08291060477495193   \u001b[0m\u001b[35m \u001b[0m│\n",
              "└───────────────────────────┴───────────────────────────┘\n"
            ]
          },
          "metadata": {},
          "output_type": "display_data"
        },
        {
          "name": "stdout",
          "output_type": "stream",
          "text": [
            "train_model result: {'val_loss': 0.08291060477495193, 'hp_metric': 0.08291060477495193}\n",
            "No spot_writer available.\n",
            "spotpython tuning: 0.0475609228014946 [#######---] 70.96% \n"
          ]
        },
        {
          "name": "stderr",
          "output_type": "stream",
          "text": [
            "GPU available: True (mps), used: False\n",
            "TPU available: False, using: 0 TPU cores\n",
            "HPU available: False, using: 0 HPUs\n",
            "\n",
            "  | Name   | Type          | Params | Mode  | In sizes          | Out sizes \n",
            "----------------------------------------------------------------------------------\n",
            "0 | layers | ManyToManyRNN | 165 K  | train | [[4, 10, 1], [4]] | [4, 10, 1]\n",
            "----------------------------------------------------------------------------------\n",
            "165 K     Trainable params\n",
            "0         Non-trainable params\n",
            "165 K     Total params\n",
            "0.662     Total estimated model params size (MB)\n",
            "6         Modules in train mode\n",
            "0         Modules in eval mode\n"
          ]
        },
        {
          "name": "stdout",
          "output_type": "stream",
          "text": [
            "\n",
            "In fun(): config:\n",
            "{'act_fn': ReLU(),\n",
            " 'batch_size': 4,\n",
            " 'dropout_prob': 0.025,\n",
            " 'epochs': 128,\n",
            " 'fc_units': 64,\n",
            " 'lr_mult': 8.36253952128901,\n",
            " 'optimizer': 'Adagrad',\n",
            " 'patience': 8,\n",
            " 'rnn_units': 256}\n",
            "train_size: 8, val_size: 1 used for train & val data.\n",
            "LightDataModule.val_dataloader(). Val. set size: 1\n",
            "LightDataModule.train_dataloader(). data_train size: 8\n",
            "LightDataModule.val_dataloader(). Val. set size: 1\n"
          ]
        },
        {
          "data": {
            "text/html": [
              "<pre style=\"white-space:pre;overflow-x:auto;line-height:normal;font-family:Menlo,'DejaVu Sans Mono',consolas,'Courier New',monospace\">┏━━━━━━━━━━━━━━━━━━━━━━━━━━━┳━━━━━━━━━━━━━━━━━━━━━━━━━━━┓\n",
              "┃<span style=\"font-weight: bold\">      Validate metric      </span>┃<span style=\"font-weight: bold\">       DataLoader 0        </span>┃\n",
              "┡━━━━━━━━━━━━━━━━━━━━━━━━━━━╇━━━━━━━━━━━━━━━━━━━━━━━━━━━┩\n",
              "│<span style=\"color: #008080; text-decoration-color: #008080\">         hp_metric         </span>│<span style=\"color: #800080; text-decoration-color: #800080\">    21.790361404418945     </span>│\n",
              "│<span style=\"color: #008080; text-decoration-color: #008080\">         val_loss          </span>│<span style=\"color: #800080; text-decoration-color: #800080\">    21.790361404418945     </span>│\n",
              "└───────────────────────────┴───────────────────────────┘\n",
              "</pre>\n"
            ],
            "text/plain": [
              "┏━━━━━━━━━━━━━━━━━━━━━━━━━━━┳━━━━━━━━━━━━━━━━━━━━━━━━━━━┓\n",
              "┃\u001b[1m \u001b[0m\u001b[1m     Validate metric     \u001b[0m\u001b[1m \u001b[0m┃\u001b[1m \u001b[0m\u001b[1m      DataLoader 0       \u001b[0m\u001b[1m \u001b[0m┃\n",
              "┡━━━━━━━━━━━━━━━━━━━━━━━━━━━╇━━━━━━━━━━━━━━━━━━━━━━━━━━━┩\n",
              "│\u001b[36m \u001b[0m\u001b[36m        hp_metric        \u001b[0m\u001b[36m \u001b[0m│\u001b[35m \u001b[0m\u001b[35m   21.790361404418945    \u001b[0m\u001b[35m \u001b[0m│\n",
              "│\u001b[36m \u001b[0m\u001b[36m        val_loss         \u001b[0m\u001b[36m \u001b[0m│\u001b[35m \u001b[0m\u001b[35m   21.790361404418945    \u001b[0m\u001b[35m \u001b[0m│\n",
              "└───────────────────────────┴───────────────────────────┘\n"
            ]
          },
          "metadata": {},
          "output_type": "display_data"
        },
        {
          "name": "stderr",
          "output_type": "stream",
          "text": [
            "GPU available: True (mps), used: False\n",
            "TPU available: False, using: 0 TPU cores\n",
            "HPU available: False, using: 0 HPUs\n",
            "\n",
            "  | Name   | Type          | Params | Mode  | In sizes          | Out sizes \n",
            "----------------------------------------------------------------------------------\n",
            "0 | layers | ManyToManyRNN | 165 K  | train | [[4, 10, 1], [4]] | [4, 10, 1]\n",
            "----------------------------------------------------------------------------------\n",
            "165 K     Trainable params\n",
            "0         Non-trainable params\n",
            "165 K     Total params\n",
            "0.662     Total estimated model params size (MB)\n",
            "6         Modules in train mode\n",
            "0         Modules in eval mode\n"
          ]
        },
        {
          "name": "stdout",
          "output_type": "stream",
          "text": [
            "train_model result: {'val_loss': 21.790361404418945, 'hp_metric': 21.790361404418945}\n",
            "\n",
            "In fun(): config:\n",
            "{'act_fn': ReLU(),\n",
            " 'batch_size': 4,\n",
            " 'dropout_prob': 0.025,\n",
            " 'epochs': 128,\n",
            " 'fc_units': 64,\n",
            " 'lr_mult': 8.36253952128901,\n",
            " 'optimizer': 'Adagrad',\n",
            " 'patience': 8,\n",
            " 'rnn_units': 256}\n",
            "train_size: 8, val_size: 1 used for train & val data.\n",
            "LightDataModule.val_dataloader(). Val. set size: 1\n",
            "LightDataModule.train_dataloader(). data_train size: 8\n"
          ]
        },
        {
          "name": "stderr",
          "output_type": "stream",
          "text": [
            "`Trainer.fit` stopped: `max_epochs=128` reached.\n"
          ]
        },
        {
          "name": "stdout",
          "output_type": "stream",
          "text": [
            "LightDataModule.val_dataloader(). Val. set size: 1\n"
          ]
        },
        {
          "data": {
            "text/html": [
              "<pre style=\"white-space:pre;overflow-x:auto;line-height:normal;font-family:Menlo,'DejaVu Sans Mono',consolas,'Courier New',monospace\">┏━━━━━━━━━━━━━━━━━━━━━━━━━━━┳━━━━━━━━━━━━━━━━━━━━━━━━━━━┓\n",
              "┃<span style=\"font-weight: bold\">      Validate metric      </span>┃<span style=\"font-weight: bold\">       DataLoader 0        </span>┃\n",
              "┡━━━━━━━━━━━━━━━━━━━━━━━━━━━╇━━━━━━━━━━━━━━━━━━━━━━━━━━━┩\n",
              "│<span style=\"color: #008080; text-decoration-color: #008080\">         hp_metric         </span>│<span style=\"color: #800080; text-decoration-color: #800080\">    23.170700073242188     </span>│\n",
              "│<span style=\"color: #008080; text-decoration-color: #008080\">         val_loss          </span>│<span style=\"color: #800080; text-decoration-color: #800080\">    23.170700073242188     </span>│\n",
              "└───────────────────────────┴───────────────────────────┘\n",
              "</pre>\n"
            ],
            "text/plain": [
              "┏━━━━━━━━━━━━━━━━━━━━━━━━━━━┳━━━━━━━━━━━━━━━━━━━━━━━━━━━┓\n",
              "┃\u001b[1m \u001b[0m\u001b[1m     Validate metric     \u001b[0m\u001b[1m \u001b[0m┃\u001b[1m \u001b[0m\u001b[1m      DataLoader 0       \u001b[0m\u001b[1m \u001b[0m┃\n",
              "┡━━━━━━━━━━━━━━━━━━━━━━━━━━━╇━━━━━━━━━━━━━━━━━━━━━━━━━━━┩\n",
              "│\u001b[36m \u001b[0m\u001b[36m        hp_metric        \u001b[0m\u001b[36m \u001b[0m│\u001b[35m \u001b[0m\u001b[35m   23.170700073242188    \u001b[0m\u001b[35m \u001b[0m│\n",
              "│\u001b[36m \u001b[0m\u001b[36m        val_loss         \u001b[0m\u001b[36m \u001b[0m│\u001b[35m \u001b[0m\u001b[35m   23.170700073242188    \u001b[0m\u001b[35m \u001b[0m│\n",
              "└───────────────────────────┴───────────────────────────┘\n"
            ]
          },
          "metadata": {},
          "output_type": "display_data"
        },
        {
          "name": "stdout",
          "output_type": "stream",
          "text": [
            "train_model result: {'val_loss': 23.170700073242188, 'hp_metric': 23.170700073242188}\n",
            "No spot_writer available.\n",
            "spotpython tuning: 0.0475609228014946 [########--] 76.30% \n"
          ]
        },
        {
          "name": "stderr",
          "output_type": "stream",
          "text": [
            "GPU available: True (mps), used: False\n",
            "TPU available: False, using: 0 TPU cores\n",
            "HPU available: False, using: 0 HPUs\n",
            "\n",
            "  | Name   | Type          | Params | Mode  | In sizes          | Out sizes \n",
            "----------------------------------------------------------------------------------\n",
            "0 | layers | ManyToManyRNN | 141 K  | train | [[4, 10, 1], [4]] | [4, 10, 1]\n",
            "----------------------------------------------------------------------------------\n",
            "141 K     Trainable params\n",
            "0         Non-trainable params\n",
            "141 K     Total params\n",
            "0.567     Total estimated model params size (MB)\n",
            "6         Modules in train mode\n",
            "0         Modules in eval mode\n"
          ]
        },
        {
          "name": "stdout",
          "output_type": "stream",
          "text": [
            "\n",
            "In fun(): config:\n",
            "{'act_fn': ELU(),\n",
            " 'batch_size': 4,\n",
            " 'dropout_prob': 0.025,\n",
            " 'epochs': 64,\n",
            " 'fc_units': 1024,\n",
            " 'lr_mult': 0.1,\n",
            " 'optimizer': 'Adagrad',\n",
            " 'patience': 16,\n",
            " 'rnn_units': 64}\n",
            "train_size: 8, val_size: 1 used for train & val data.\n",
            "LightDataModule.val_dataloader(). Val. set size: 1\n",
            "LightDataModule.train_dataloader(). data_train size: 8\n",
            "LightDataModule.val_dataloader(). Val. set size: 1\n"
          ]
        },
        {
          "data": {
            "text/html": [
              "<pre style=\"white-space:pre;overflow-x:auto;line-height:normal;font-family:Menlo,'DejaVu Sans Mono',consolas,'Courier New',monospace\">┏━━━━━━━━━━━━━━━━━━━━━━━━━━━┳━━━━━━━━━━━━━━━━━━━━━━━━━━━┓\n",
              "┃<span style=\"font-weight: bold\">      Validate metric      </span>┃<span style=\"font-weight: bold\">       DataLoader 0        </span>┃\n",
              "┡━━━━━━━━━━━━━━━━━━━━━━━━━━━╇━━━━━━━━━━━━━━━━━━━━━━━━━━━┩\n",
              "│<span style=\"color: #008080; text-decoration-color: #008080\">         hp_metric         </span>│<span style=\"color: #800080; text-decoration-color: #800080\">    0.5749621987342834     </span>│\n",
              "│<span style=\"color: #008080; text-decoration-color: #008080\">         val_loss          </span>│<span style=\"color: #800080; text-decoration-color: #800080\">    0.5749621987342834     </span>│\n",
              "└───────────────────────────┴───────────────────────────┘\n",
              "</pre>\n"
            ],
            "text/plain": [
              "┏━━━━━━━━━━━━━━━━━━━━━━━━━━━┳━━━━━━━━━━━━━━━━━━━━━━━━━━━┓\n",
              "┃\u001b[1m \u001b[0m\u001b[1m     Validate metric     \u001b[0m\u001b[1m \u001b[0m┃\u001b[1m \u001b[0m\u001b[1m      DataLoader 0       \u001b[0m\u001b[1m \u001b[0m┃\n",
              "┡━━━━━━━━━━━━━━━━━━━━━━━━━━━╇━━━━━━━━━━━━━━━━━━━━━━━━━━━┩\n",
              "│\u001b[36m \u001b[0m\u001b[36m        hp_metric        \u001b[0m\u001b[36m \u001b[0m│\u001b[35m \u001b[0m\u001b[35m   0.5749621987342834    \u001b[0m\u001b[35m \u001b[0m│\n",
              "│\u001b[36m \u001b[0m\u001b[36m        val_loss         \u001b[0m\u001b[36m \u001b[0m│\u001b[35m \u001b[0m\u001b[35m   0.5749621987342834    \u001b[0m\u001b[35m \u001b[0m│\n",
              "└───────────────────────────┴───────────────────────────┘\n"
            ]
          },
          "metadata": {},
          "output_type": "display_data"
        },
        {
          "name": "stdout",
          "output_type": "stream",
          "text": [
            "train_model result: {'val_loss': 0.5749621987342834, 'hp_metric': 0.5749621987342834}\n",
            "\n",
            "In fun(): config:\n",
            "{'act_fn': ELU(),\n",
            " 'batch_size': 4,\n",
            " 'dropout_prob': 0.025,\n",
            " 'epochs': 64,\n",
            " 'fc_units': 1024,\n",
            " 'lr_mult': 0.1,\n",
            " 'optimizer': 'Adagrad',\n",
            " 'patience': 16,\n",
            " 'rnn_units': 64}\n"
          ]
        },
        {
          "name": "stderr",
          "output_type": "stream",
          "text": [
            "GPU available: True (mps), used: False\n",
            "TPU available: False, using: 0 TPU cores\n",
            "HPU available: False, using: 0 HPUs\n",
            "\n",
            "  | Name   | Type          | Params | Mode  | In sizes          | Out sizes \n",
            "----------------------------------------------------------------------------------\n",
            "0 | layers | ManyToManyRNN | 141 K  | train | [[4, 10, 1], [4]] | [4, 10, 1]\n",
            "----------------------------------------------------------------------------------\n",
            "141 K     Trainable params\n",
            "0         Non-trainable params\n",
            "141 K     Total params\n",
            "0.567     Total estimated model params size (MB)\n",
            "6         Modules in train mode\n",
            "0         Modules in eval mode\n"
          ]
        },
        {
          "name": "stdout",
          "output_type": "stream",
          "text": [
            "train_size: 8, val_size: 1 used for train & val data.\n",
            "LightDataModule.val_dataloader(). Val. set size: 1\n",
            "LightDataModule.train_dataloader(). data_train size: 8\n",
            "LightDataModule.val_dataloader(). Val. set size: 1\n"
          ]
        },
        {
          "data": {
            "text/html": [
              "<pre style=\"white-space:pre;overflow-x:auto;line-height:normal;font-family:Menlo,'DejaVu Sans Mono',consolas,'Courier New',monospace\">┏━━━━━━━━━━━━━━━━━━━━━━━━━━━┳━━━━━━━━━━━━━━━━━━━━━━━━━━━┓\n",
              "┃<span style=\"font-weight: bold\">      Validate metric      </span>┃<span style=\"font-weight: bold\">       DataLoader 0        </span>┃\n",
              "┡━━━━━━━━━━━━━━━━━━━━━━━━━━━╇━━━━━━━━━━━━━━━━━━━━━━━━━━━┩\n",
              "│<span style=\"color: #008080; text-decoration-color: #008080\">         hp_metric         </span>│<span style=\"color: #800080; text-decoration-color: #800080\">    0.5360758304595947     </span>│\n",
              "│<span style=\"color: #008080; text-decoration-color: #008080\">         val_loss          </span>│<span style=\"color: #800080; text-decoration-color: #800080\">    0.5360758304595947     </span>│\n",
              "└───────────────────────────┴───────────────────────────┘\n",
              "</pre>\n"
            ],
            "text/plain": [
              "┏━━━━━━━━━━━━━━━━━━━━━━━━━━━┳━━━━━━━━━━━━━━━━━━━━━━━━━━━┓\n",
              "┃\u001b[1m \u001b[0m\u001b[1m     Validate metric     \u001b[0m\u001b[1m \u001b[0m┃\u001b[1m \u001b[0m\u001b[1m      DataLoader 0       \u001b[0m\u001b[1m \u001b[0m┃\n",
              "┡━━━━━━━━━━━━━━━━━━━━━━━━━━━╇━━━━━━━━━━━━━━━━━━━━━━━━━━━┩\n",
              "│\u001b[36m \u001b[0m\u001b[36m        hp_metric        \u001b[0m\u001b[36m \u001b[0m│\u001b[35m \u001b[0m\u001b[35m   0.5360758304595947    \u001b[0m\u001b[35m \u001b[0m│\n",
              "│\u001b[36m \u001b[0m\u001b[36m        val_loss         \u001b[0m\u001b[36m \u001b[0m│\u001b[35m \u001b[0m\u001b[35m   0.5360758304595947    \u001b[0m\u001b[35m \u001b[0m│\n",
              "└───────────────────────────┴───────────────────────────┘\n"
            ]
          },
          "metadata": {},
          "output_type": "display_data"
        },
        {
          "name": "stdout",
          "output_type": "stream",
          "text": [
            "train_model result: {'val_loss': 0.5360758304595947, 'hp_metric': 0.5360758304595947}\n",
            "No spot_writer available.\n",
            "spotpython tuning: 0.0475609228014946 [########--] 81.06% \n"
          ]
        },
        {
          "name": "stderr",
          "output_type": "stream",
          "text": [
            "GPU available: True (mps), used: False\n",
            "TPU available: False, using: 0 TPU cores\n",
            "HPU available: False, using: 0 HPUs\n",
            "\n",
            "  | Name   | Type          | Params | Mode  | In sizes          | Out sizes \n",
            "----------------------------------------------------------------------------------\n",
            "0 | layers | ManyToManyRNN | 165 K  | train | [[4, 10, 1], [4]] | [4, 10, 1]\n",
            "----------------------------------------------------------------------------------\n",
            "165 K     Trainable params\n",
            "0         Non-trainable params\n",
            "165 K     Total params\n",
            "0.662     Total estimated model params size (MB)\n",
            "6         Modules in train mode\n",
            "0         Modules in eval mode\n"
          ]
        },
        {
          "name": "stdout",
          "output_type": "stream",
          "text": [
            "\n",
            "In fun(): config:\n",
            "{'act_fn': LeakyReLU(),\n",
            " 'batch_size': 4,\n",
            " 'dropout_prob': 0.024936507159085675,\n",
            " 'epochs': 256,\n",
            " 'fc_units': 64,\n",
            " 'lr_mult': 7.725979628771547,\n",
            " 'optimizer': 'AdamW',\n",
            " 'patience': 8,\n",
            " 'rnn_units': 256}\n",
            "train_size: 8, val_size: 1 used for train & val data.\n",
            "LightDataModule.val_dataloader(). Val. set size: 1\n",
            "LightDataModule.train_dataloader(). data_train size: 8\n",
            "LightDataModule.val_dataloader(). Val. set size: 1\n"
          ]
        },
        {
          "data": {
            "text/html": [
              "<pre style=\"white-space:pre;overflow-x:auto;line-height:normal;font-family:Menlo,'DejaVu Sans Mono',consolas,'Courier New',monospace\">┏━━━━━━━━━━━━━━━━━━━━━━━━━━━┳━━━━━━━━━━━━━━━━━━━━━━━━━━━┓\n",
              "┃<span style=\"font-weight: bold\">      Validate metric      </span>┃<span style=\"font-weight: bold\">       DataLoader 0        </span>┃\n",
              "┡━━━━━━━━━━━━━━━━━━━━━━━━━━━╇━━━━━━━━━━━━━━━━━━━━━━━━━━━┩\n",
              "│<span style=\"color: #008080; text-decoration-color: #008080\">         hp_metric         </span>│<span style=\"color: #800080; text-decoration-color: #800080\">     2.922513246536255     </span>│\n",
              "│<span style=\"color: #008080; text-decoration-color: #008080\">         val_loss          </span>│<span style=\"color: #800080; text-decoration-color: #800080\">     2.922513246536255     </span>│\n",
              "└───────────────────────────┴───────────────────────────┘\n",
              "</pre>\n"
            ],
            "text/plain": [
              "┏━━━━━━━━━━━━━━━━━━━━━━━━━━━┳━━━━━━━━━━━━━━━━━━━━━━━━━━━┓\n",
              "┃\u001b[1m \u001b[0m\u001b[1m     Validate metric     \u001b[0m\u001b[1m \u001b[0m┃\u001b[1m \u001b[0m\u001b[1m      DataLoader 0       \u001b[0m\u001b[1m \u001b[0m┃\n",
              "┡━━━━━━━━━━━━━━━━━━━━━━━━━━━╇━━━━━━━━━━━━━━━━━━━━━━━━━━━┩\n",
              "│\u001b[36m \u001b[0m\u001b[36m        hp_metric        \u001b[0m\u001b[36m \u001b[0m│\u001b[35m \u001b[0m\u001b[35m    2.922513246536255    \u001b[0m\u001b[35m \u001b[0m│\n",
              "│\u001b[36m \u001b[0m\u001b[36m        val_loss         \u001b[0m\u001b[36m \u001b[0m│\u001b[35m \u001b[0m\u001b[35m    2.922513246536255    \u001b[0m\u001b[35m \u001b[0m│\n",
              "└───────────────────────────┴───────────────────────────┘\n"
            ]
          },
          "metadata": {},
          "output_type": "display_data"
        },
        {
          "name": "stderr",
          "output_type": "stream",
          "text": [
            "GPU available: True (mps), used: False\n",
            "TPU available: False, using: 0 TPU cores\n",
            "HPU available: False, using: 0 HPUs\n",
            "\n",
            "  | Name   | Type          | Params | Mode  | In sizes          | Out sizes \n",
            "----------------------------------------------------------------------------------\n",
            "0 | layers | ManyToManyRNN | 165 K  | train | [[4, 10, 1], [4]] | [4, 10, 1]\n",
            "----------------------------------------------------------------------------------\n",
            "165 K     Trainable params\n",
            "0         Non-trainable params\n",
            "165 K     Total params\n",
            "0.662     Total estimated model params size (MB)\n",
            "6         Modules in train mode\n",
            "0         Modules in eval mode\n"
          ]
        },
        {
          "name": "stdout",
          "output_type": "stream",
          "text": [
            "train_model result: {'val_loss': 2.922513246536255, 'hp_metric': 2.922513246536255}\n",
            "\n",
            "In fun(): config:\n",
            "{'act_fn': LeakyReLU(),\n",
            " 'batch_size': 4,\n",
            " 'dropout_prob': 0.024936507159085675,\n",
            " 'epochs': 256,\n",
            " 'fc_units': 64,\n",
            " 'lr_mult': 7.725979628771547,\n",
            " 'optimizer': 'AdamW',\n",
            " 'patience': 8,\n",
            " 'rnn_units': 256}\n",
            "train_size: 8, val_size: 1 used for train & val data.\n",
            "LightDataModule.val_dataloader(). Val. set size: 1\n",
            "LightDataModule.train_dataloader(). data_train size: 8\n",
            "LightDataModule.val_dataloader(). Val. set size: 1\n"
          ]
        },
        {
          "data": {
            "text/html": [
              "<pre style=\"white-space:pre;overflow-x:auto;line-height:normal;font-family:Menlo,'DejaVu Sans Mono',consolas,'Courier New',monospace\">┏━━━━━━━━━━━━━━━━━━━━━━━━━━━┳━━━━━━━━━━━━━━━━━━━━━━━━━━━┓\n",
              "┃<span style=\"font-weight: bold\">      Validate metric      </span>┃<span style=\"font-weight: bold\">       DataLoader 0        </span>┃\n",
              "┡━━━━━━━━━━━━━━━━━━━━━━━━━━━╇━━━━━━━━━━━━━━━━━━━━━━━━━━━┩\n",
              "│<span style=\"color: #008080; text-decoration-color: #008080\">         hp_metric         </span>│<span style=\"color: #800080; text-decoration-color: #800080\">    0.25786033272743225    </span>│\n",
              "│<span style=\"color: #008080; text-decoration-color: #008080\">         val_loss          </span>│<span style=\"color: #800080; text-decoration-color: #800080\">    0.25786033272743225    </span>│\n",
              "└───────────────────────────┴───────────────────────────┘\n",
              "</pre>\n"
            ],
            "text/plain": [
              "┏━━━━━━━━━━━━━━━━━━━━━━━━━━━┳━━━━━━━━━━━━━━━━━━━━━━━━━━━┓\n",
              "┃\u001b[1m \u001b[0m\u001b[1m     Validate metric     \u001b[0m\u001b[1m \u001b[0m┃\u001b[1m \u001b[0m\u001b[1m      DataLoader 0       \u001b[0m\u001b[1m \u001b[0m┃\n",
              "┡━━━━━━━━━━━━━━━━━━━━━━━━━━━╇━━━━━━━━━━━━━━━━━━━━━━━━━━━┩\n",
              "│\u001b[36m \u001b[0m\u001b[36m        hp_metric        \u001b[0m\u001b[36m \u001b[0m│\u001b[35m \u001b[0m\u001b[35m   0.25786033272743225   \u001b[0m\u001b[35m \u001b[0m│\n",
              "│\u001b[36m \u001b[0m\u001b[36m        val_loss         \u001b[0m\u001b[36m \u001b[0m│\u001b[35m \u001b[0m\u001b[35m   0.25786033272743225   \u001b[0m\u001b[35m \u001b[0m│\n",
              "└───────────────────────────┴───────────────────────────┘\n"
            ]
          },
          "metadata": {},
          "output_type": "display_data"
        },
        {
          "name": "stdout",
          "output_type": "stream",
          "text": [
            "train_model result: {'val_loss': 0.25786033272743225, 'hp_metric': 0.25786033272743225}\n",
            "No spot_writer available.\n",
            "spotpython tuning: 0.0475609228014946 [#########-] 85.81% \n"
          ]
        },
        {
          "name": "stderr",
          "output_type": "stream",
          "text": [
            "GPU available: True (mps), used: False\n",
            "TPU available: False, using: 0 TPU cores\n",
            "HPU available: False, using: 0 HPUs\n",
            "\n",
            "  | Name   | Type          | Params | Mode  | In sizes          | Out sizes \n",
            "----------------------------------------------------------------------------------\n",
            "0 | layers | ManyToManyRNN | 4.7 M  | train | [[4, 10, 1], [4]] | [4, 10, 1]\n",
            "----------------------------------------------------------------------------------\n",
            "4.7 M     Trainable params\n",
            "0         Non-trainable params\n",
            "4.7 M     Total params\n",
            "18.919    Total estimated model params size (MB)\n",
            "6         Modules in train mode\n",
            "0         Modules in eval mode\n"
          ]
        },
        {
          "name": "stdout",
          "output_type": "stream",
          "text": [
            "\n",
            "In fun(): config:\n",
            "{'act_fn': ELU(),\n",
            " 'batch_size': 4,\n",
            " 'dropout_prob': 0.025,\n",
            " 'epochs': 64,\n",
            " 'fc_units': 4096,\n",
            " 'lr_mult': 5.397049567669151,\n",
            " 'optimizer': 'Adamax',\n",
            " 'patience': 32,\n",
            " 'rnn_units': 512}\n",
            "train_size: 8, val_size: 1 used for train & val data.\n",
            "LightDataModule.val_dataloader(). Val. set size: 1\n",
            "LightDataModule.train_dataloader(). data_train size: 8\n",
            "LightDataModule.val_dataloader(). Val. set size: 1\n"
          ]
        },
        {
          "data": {
            "text/html": [
              "<pre style=\"white-space:pre;overflow-x:auto;line-height:normal;font-family:Menlo,'DejaVu Sans Mono',consolas,'Courier New',monospace\">┏━━━━━━━━━━━━━━━━━━━━━━━━━━━┳━━━━━━━━━━━━━━━━━━━━━━━━━━━┓\n",
              "┃<span style=\"font-weight: bold\">      Validate metric      </span>┃<span style=\"font-weight: bold\">       DataLoader 0        </span>┃\n",
              "┡━━━━━━━━━━━━━━━━━━━━━━━━━━━╇━━━━━━━━━━━━━━━━━━━━━━━━━━━┩\n",
              "│<span style=\"color: #008080; text-decoration-color: #008080\">         hp_metric         </span>│<span style=\"color: #800080; text-decoration-color: #800080\">     69.40208435058594     </span>│\n",
              "│<span style=\"color: #008080; text-decoration-color: #008080\">         val_loss          </span>│<span style=\"color: #800080; text-decoration-color: #800080\">     69.40208435058594     </span>│\n",
              "└───────────────────────────┴───────────────────────────┘\n",
              "</pre>\n"
            ],
            "text/plain": [
              "┏━━━━━━━━━━━━━━━━━━━━━━━━━━━┳━━━━━━━━━━━━━━━━━━━━━━━━━━━┓\n",
              "┃\u001b[1m \u001b[0m\u001b[1m     Validate metric     \u001b[0m\u001b[1m \u001b[0m┃\u001b[1m \u001b[0m\u001b[1m      DataLoader 0       \u001b[0m\u001b[1m \u001b[0m┃\n",
              "┡━━━━━━━━━━━━━━━━━━━━━━━━━━━╇━━━━━━━━━━━━━━━━━━━━━━━━━━━┩\n",
              "│\u001b[36m \u001b[0m\u001b[36m        hp_metric        \u001b[0m\u001b[36m \u001b[0m│\u001b[35m \u001b[0m\u001b[35m    69.40208435058594    \u001b[0m\u001b[35m \u001b[0m│\n",
              "│\u001b[36m \u001b[0m\u001b[36m        val_loss         \u001b[0m\u001b[36m \u001b[0m│\u001b[35m \u001b[0m\u001b[35m    69.40208435058594    \u001b[0m\u001b[35m \u001b[0m│\n",
              "└───────────────────────────┴───────────────────────────┘\n"
            ]
          },
          "metadata": {},
          "output_type": "display_data"
        },
        {
          "name": "stderr",
          "output_type": "stream",
          "text": [
            "GPU available: True (mps), used: False\n",
            "TPU available: False, using: 0 TPU cores\n",
            "HPU available: False, using: 0 HPUs\n",
            "\n",
            "  | Name   | Type          | Params | Mode  | In sizes          | Out sizes \n",
            "----------------------------------------------------------------------------------\n",
            "0 | layers | ManyToManyRNN | 4.7 M  | train | [[4, 10, 1], [4]] | [4, 10, 1]\n",
            "----------------------------------------------------------------------------------\n",
            "4.7 M     Trainable params\n",
            "0         Non-trainable params\n",
            "4.7 M     Total params\n",
            "18.919    Total estimated model params size (MB)\n",
            "6         Modules in train mode\n",
            "0         Modules in eval mode\n"
          ]
        },
        {
          "name": "stdout",
          "output_type": "stream",
          "text": [
            "train_model result: {'val_loss': 69.40208435058594, 'hp_metric': 69.40208435058594}\n",
            "\n",
            "In fun(): config:\n",
            "{'act_fn': ELU(),\n",
            " 'batch_size': 4,\n",
            " 'dropout_prob': 0.025,\n",
            " 'epochs': 64,\n",
            " 'fc_units': 4096,\n",
            " 'lr_mult': 5.397049567669151,\n",
            " 'optimizer': 'Adamax',\n",
            " 'patience': 32,\n",
            " 'rnn_units': 512}\n",
            "train_size: 8, val_size: 1 used for train & val data.\n",
            "LightDataModule.val_dataloader(). Val. set size: 1\n",
            "LightDataModule.train_dataloader(). data_train size: 8\n",
            "LightDataModule.val_dataloader(). Val. set size: 1\n"
          ]
        },
        {
          "data": {
            "text/html": [
              "<pre style=\"white-space:pre;overflow-x:auto;line-height:normal;font-family:Menlo,'DejaVu Sans Mono',consolas,'Courier New',monospace\">┏━━━━━━━━━━━━━━━━━━━━━━━━━━━┳━━━━━━━━━━━━━━━━━━━━━━━━━━━┓\n",
              "┃<span style=\"font-weight: bold\">      Validate metric      </span>┃<span style=\"font-weight: bold\">       DataLoader 0        </span>┃\n",
              "┡━━━━━━━━━━━━━━━━━━━━━━━━━━━╇━━━━━━━━━━━━━━━━━━━━━━━━━━━┩\n",
              "│<span style=\"color: #008080; text-decoration-color: #008080\">         hp_metric         </span>│<span style=\"color: #800080; text-decoration-color: #800080\">     28.35426902770996     </span>│\n",
              "│<span style=\"color: #008080; text-decoration-color: #008080\">         val_loss          </span>│<span style=\"color: #800080; text-decoration-color: #800080\">     28.35426902770996     </span>│\n",
              "└───────────────────────────┴───────────────────────────┘\n",
              "</pre>\n"
            ],
            "text/plain": [
              "┏━━━━━━━━━━━━━━━━━━━━━━━━━━━┳━━━━━━━━━━━━━━━━━━━━━━━━━━━┓\n",
              "┃\u001b[1m \u001b[0m\u001b[1m     Validate metric     \u001b[0m\u001b[1m \u001b[0m┃\u001b[1m \u001b[0m\u001b[1m      DataLoader 0       \u001b[0m\u001b[1m \u001b[0m┃\n",
              "┡━━━━━━━━━━━━━━━━━━━━━━━━━━━╇━━━━━━━━━━━━━━━━━━━━━━━━━━━┩\n",
              "│\u001b[36m \u001b[0m\u001b[36m        hp_metric        \u001b[0m\u001b[36m \u001b[0m│\u001b[35m \u001b[0m\u001b[35m    28.35426902770996    \u001b[0m\u001b[35m \u001b[0m│\n",
              "│\u001b[36m \u001b[0m\u001b[36m        val_loss         \u001b[0m\u001b[36m \u001b[0m│\u001b[35m \u001b[0m\u001b[35m    28.35426902770996    \u001b[0m\u001b[35m \u001b[0m│\n",
              "└───────────────────────────┴───────────────────────────┘\n"
            ]
          },
          "metadata": {},
          "output_type": "display_data"
        },
        {
          "name": "stdout",
          "output_type": "stream",
          "text": [
            "train_model result: {'val_loss': 28.35426902770996, 'hp_metric': 28.35426902770996}\n",
            "No spot_writer available.\n",
            "spotpython tuning: 0.0475609228014946 [##########] 96.59% \n"
          ]
        },
        {
          "name": "stderr",
          "output_type": "stream",
          "text": [
            "GPU available: True (mps), used: False\n",
            "TPU available: False, using: 0 TPU cores\n",
            "HPU available: False, using: 0 HPUs\n",
            "\n",
            "  | Name   | Type          | Params | Mode  | In sizes          | Out sizes \n",
            "----------------------------------------------------------------------------------\n",
            "0 | layers | ManyToManyRNN | 1.1 M  | train | [[4, 10, 1], [4]] | [4, 10, 1]\n",
            "----------------------------------------------------------------------------------\n",
            "1.1 M     Trainable params\n",
            "0         Non-trainable params\n",
            "1.1 M     Total params\n",
            "4.211     Total estimated model params size (MB)\n",
            "6         Modules in train mode\n",
            "0         Modules in eval mode\n"
          ]
        },
        {
          "name": "stdout",
          "output_type": "stream",
          "text": [
            "\n",
            "In fun(): config:\n",
            "{'act_fn': ELU(),\n",
            " 'batch_size': 4,\n",
            " 'dropout_prob': 0.025,\n",
            " 'epochs': 128,\n",
            " 'fc_units': 512,\n",
            " 'lr_mult': 7.4552711590440115,\n",
            " 'optimizer': 'AdamW',\n",
            " 'patience': 16,\n",
            " 'rnn_units': 512}\n",
            "train_size: 8, val_size: 1 used for train & val data.\n",
            "LightDataModule.val_dataloader(). Val. set size: 1\n",
            "LightDataModule.train_dataloader(). data_train size: 8\n",
            "LightDataModule.val_dataloader(). Val. set size: 1\n"
          ]
        },
        {
          "data": {
            "text/html": [
              "<pre style=\"white-space:pre;overflow-x:auto;line-height:normal;font-family:Menlo,'DejaVu Sans Mono',consolas,'Courier New',monospace\">┏━━━━━━━━━━━━━━━━━━━━━━━━━━━┳━━━━━━━━━━━━━━━━━━━━━━━━━━━┓\n",
              "┃<span style=\"font-weight: bold\">      Validate metric      </span>┃<span style=\"font-weight: bold\">       DataLoader 0        </span>┃\n",
              "┡━━━━━━━━━━━━━━━━━━━━━━━━━━━╇━━━━━━━━━━━━━━━━━━━━━━━━━━━┩\n",
              "│<span style=\"color: #008080; text-decoration-color: #008080\">         hp_metric         </span>│<span style=\"color: #800080; text-decoration-color: #800080\">     3.916109085083008     </span>│\n",
              "│<span style=\"color: #008080; text-decoration-color: #008080\">         val_loss          </span>│<span style=\"color: #800080; text-decoration-color: #800080\">     3.916109085083008     </span>│\n",
              "└───────────────────────────┴───────────────────────────┘\n",
              "</pre>\n"
            ],
            "text/plain": [
              "┏━━━━━━━━━━━━━━━━━━━━━━━━━━━┳━━━━━━━━━━━━━━━━━━━━━━━━━━━┓\n",
              "┃\u001b[1m \u001b[0m\u001b[1m     Validate metric     \u001b[0m\u001b[1m \u001b[0m┃\u001b[1m \u001b[0m\u001b[1m      DataLoader 0       \u001b[0m\u001b[1m \u001b[0m┃\n",
              "┡━━━━━━━━━━━━━━━━━━━━━━━━━━━╇━━━━━━━━━━━━━━━━━━━━━━━━━━━┩\n",
              "│\u001b[36m \u001b[0m\u001b[36m        hp_metric        \u001b[0m\u001b[36m \u001b[0m│\u001b[35m \u001b[0m\u001b[35m    3.916109085083008    \u001b[0m\u001b[35m \u001b[0m│\n",
              "│\u001b[36m \u001b[0m\u001b[36m        val_loss         \u001b[0m\u001b[36m \u001b[0m│\u001b[35m \u001b[0m\u001b[35m    3.916109085083008    \u001b[0m\u001b[35m \u001b[0m│\n",
              "└───────────────────────────┴───────────────────────────┘\n"
            ]
          },
          "metadata": {},
          "output_type": "display_data"
        },
        {
          "name": "stderr",
          "output_type": "stream",
          "text": [
            "GPU available: True (mps), used: False\n",
            "TPU available: False, using: 0 TPU cores\n",
            "HPU available: False, using: 0 HPUs\n",
            "\n",
            "  | Name   | Type          | Params | Mode  | In sizes          | Out sizes \n",
            "----------------------------------------------------------------------------------\n",
            "0 | layers | ManyToManyRNN | 1.1 M  | train | [[4, 10, 1], [4]] | [4, 10, 1]\n",
            "----------------------------------------------------------------------------------\n",
            "1.1 M     Trainable params\n",
            "0         Non-trainable params\n",
            "1.1 M     Total params\n",
            "4.211     Total estimated model params size (MB)\n",
            "6         Modules in train mode\n",
            "0         Modules in eval mode\n"
          ]
        },
        {
          "name": "stdout",
          "output_type": "stream",
          "text": [
            "train_model result: {'val_loss': 3.916109085083008, 'hp_metric': 3.916109085083008}\n",
            "\n",
            "In fun(): config:\n",
            "{'act_fn': ELU(),\n",
            " 'batch_size': 4,\n",
            " 'dropout_prob': 0.025,\n",
            " 'epochs': 128,\n",
            " 'fc_units': 512,\n",
            " 'lr_mult': 7.4552711590440115,\n",
            " 'optimizer': 'AdamW',\n",
            " 'patience': 16,\n",
            " 'rnn_units': 512}\n",
            "train_size: 8, val_size: 1 used for train & val data.\n",
            "LightDataModule.val_dataloader(). Val. set size: 1\n",
            "LightDataModule.train_dataloader(). data_train size: 8\n",
            "LightDataModule.val_dataloader(). Val. set size: 1\n"
          ]
        },
        {
          "data": {
            "text/html": [
              "<pre style=\"white-space:pre;overflow-x:auto;line-height:normal;font-family:Menlo,'DejaVu Sans Mono',consolas,'Courier New',monospace\">┏━━━━━━━━━━━━━━━━━━━━━━━━━━━┳━━━━━━━━━━━━━━━━━━━━━━━━━━━┓\n",
              "┃<span style=\"font-weight: bold\">      Validate metric      </span>┃<span style=\"font-weight: bold\">       DataLoader 0        </span>┃\n",
              "┡━━━━━━━━━━━━━━━━━━━━━━━━━━━╇━━━━━━━━━━━━━━━━━━━━━━━━━━━┩\n",
              "│<span style=\"color: #008080; text-decoration-color: #008080\">         hp_metric         </span>│<span style=\"color: #800080; text-decoration-color: #800080\">    12.622294425964355     </span>│\n",
              "│<span style=\"color: #008080; text-decoration-color: #008080\">         val_loss          </span>│<span style=\"color: #800080; text-decoration-color: #800080\">    12.622294425964355     </span>│\n",
              "└───────────────────────────┴───────────────────────────┘\n",
              "</pre>\n"
            ],
            "text/plain": [
              "┏━━━━━━━━━━━━━━━━━━━━━━━━━━━┳━━━━━━━━━━━━━━━━━━━━━━━━━━━┓\n",
              "┃\u001b[1m \u001b[0m\u001b[1m     Validate metric     \u001b[0m\u001b[1m \u001b[0m┃\u001b[1m \u001b[0m\u001b[1m      DataLoader 0       \u001b[0m\u001b[1m \u001b[0m┃\n",
              "┡━━━━━━━━━━━━━━━━━━━━━━━━━━━╇━━━━━━━━━━━━━━━━━━━━━━━━━━━┩\n",
              "│\u001b[36m \u001b[0m\u001b[36m        hp_metric        \u001b[0m\u001b[36m \u001b[0m│\u001b[35m \u001b[0m\u001b[35m   12.622294425964355    \u001b[0m\u001b[35m \u001b[0m│\n",
              "│\u001b[36m \u001b[0m\u001b[36m        val_loss         \u001b[0m\u001b[36m \u001b[0m│\u001b[35m \u001b[0m\u001b[35m   12.622294425964355    \u001b[0m\u001b[35m \u001b[0m│\n",
              "└───────────────────────────┴───────────────────────────┘\n"
            ]
          },
          "metadata": {},
          "output_type": "display_data"
        },
        {
          "name": "stdout",
          "output_type": "stream",
          "text": [
            "train_model result: {'val_loss': 12.622294425964355, 'hp_metric': 12.622294425964355}\n",
            "No spot_writer available.\n",
            "spotpython tuning: 0.0475609228014946 [##########] 100.00% Done...\n",
            "\n",
            "Experiment saved to 1003_res.pkl\n"
          ]
        },
        {
          "data": {
            "text/plain": [
              "<spotpython.spot.spot.Spot at 0x12c6835f0>"
            ]
          },
          "execution_count": 6,
          "metadata": {},
          "output_type": "execute_result"
        }
      ],
      "source": [
        "from spotpython.utils.file import load_and_run_spot_python_experiment\n",
        "from spotpython.data.manydataset import ManyToManyDataset\n",
        "load_and_run_spot_python_experiment(filename=\"1003_exp.pkl\")"
      ]
    },
    {
      "cell_type": "code",
      "execution_count": 7,
      "metadata": {},
      "outputs": [],
      "source": [
        "#| label: 1001_user_data_run\n",
        "# res = spot_tuner.run()"
      ]
    },
    {
      "cell_type": "code",
      "execution_count": 12,
      "metadata": {},
      "outputs": [
        {
          "name": "stdout",
          "output_type": "stream",
          "text": [
            "Loaded experiment from 1003_res.pkl\n"
          ]
        }
      ],
      "source": [
        "from spotpython.utils.file import load_result\n",
        "PREFIX = \"1003\"\n",
        "spot_tuner = load_result(PREFIX)"
      ]
    },
    {
      "cell_type": "code",
      "execution_count": 13,
      "metadata": {},
      "outputs": [
        {
          "name": "stdout",
          "output_type": "stream",
          "text": [
            "| name         | type   | default   |   lower |   upper | tuned                | transform             |   importance | stars   |\n",
            "|--------------|--------|-----------|---------|---------|----------------------|-----------------------|--------------|---------|\n",
            "| rnn_units    | int    | 3         |     6.0 |    12.0 | 7.0                  | transform_power_2_int |         0.01 |         |\n",
            "| fc_units     | int    | 8         |     6.0 |    12.0 | 11.0                 | transform_power_2_int |         0.00 |         |\n",
            "| epochs       | int    | 10        |     6.0 |     8.0 | 7.0                  | transform_power_2_int |         0.00 |         |\n",
            "| batch_size   | int    | 10        |     1.0 |     3.0 | 2.0                  | transform_power_2_int |       100.00 | ***     |\n",
            "| act_fn       | factor | ReLU      |     0.0 |     5.0 | ELU                  | None                  |         0.00 |         |\n",
            "| optimizer    | factor | SGD       |     0.0 |    11.0 | AdamW                | None                  |         0.00 |         |\n",
            "| dropout_prob | float  | 0.01      |     0.0 |   0.025 | 0.023810468001851916 | None                  |         0.01 |         |\n",
            "| lr_mult      | float  | 1.0       |     0.1 |    20.0 | 1.0354446885074793   | None                  |         0.00 |         |\n",
            "| patience     | int    | 2         |     2.0 |     5.0 | 4.0                  | transform_power_2_int |         0.00 |         |\n",
            "rnn_units:  0.007503801108331152\n",
            "fc_units:  0.0021838254517164784\n",
            "epochs:  0.003980483331740129\n",
            "batch_size:  100.0\n",
            "act_fn:  0.0023258453350144723\n",
            "optimizer:  0.002615845803776392\n",
            "dropout_prob:  0.007084777302786679\n",
            "lr_mult:  0.0028115639309720707\n",
            "patience:  0.0031975921192511176\n"
          ]
        },
        {
          "data": {
            "image/png": "[encoded data removed]",
            "text/plain": [
              "<Figure size 1200x600 with 3 Axes>"
            ]
          },
          "metadata": {},
          "output_type": "display_data"
        },
        {
          "data": {
            "image/png": "[encoded data removed]",
            "text/plain": [
              "<Figure size 1200x600 with 3 Axes>"
            ]
          },
          "metadata": {},
          "output_type": "display_data"
        },
        {
          "data": {
            "image/png": "[encoded data removed]",
            "text/plain": [
              "<Figure size 1200x600 with 3 Axes>"
            ]
          },
          "metadata": {},
          "output_type": "display_data"
        }
      ],
      "source": [
        "print_res_table(spot_tuner)\n",
        "spot_tuner.plot_important_hyperparameter_contour(max_imp=3)"
      ]
    },
    {
      "cell_type": "code",
      "execution_count": null,
      "metadata": {},
      "outputs": [],
      "source": [
        "len(spot_tuner.y)"
      ]
    }
  ],
  "metadata": {
    "kernelspec": {
      "display_name": "spot312",
      "language": "python",
      "name": "python3"
    },
    "language_info": {
      "codemirror_mode": {
        "name": "ipython",
        "version": 3
      },
      "file_extension": ".py",
      "mimetype": "text/x-python",
      "name": "python",
      "nbconvert_exporter": "python",
      "pygments_lexer": "ipython3",
      "version": "3.12.5"
    }
  },
  "nbformat": 4,
  "nbformat_minor": 4
}
