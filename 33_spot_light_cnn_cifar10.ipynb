{
  "cells": [
    {
      "cell_type": "raw",
      "metadata": {},
      "source": [
        "---\n",
        "execute:\n",
        "  cache: false\n",
        "  eval: true\n",
        "  echo: true\n",
        "  warning: false\n",
        "---"
      ]
    },
    {
      "cell_type": "markdown",
      "metadata": {},
      "source": [
        "# HPT PyTorch Lightning With `spotPython` and CNNs on CIFAR10 {#sec-hyperparameter-tuning-for-pytorch-32}\n",
        "\n",
        "In this tutorial, we will show how `spotPython` can be integrated into the `PyTorch` Lightning\n",
        "training workflow for a classification task.\n",
        "\n",
        "This chapter describes the hyperparameter tuning of a `PyTorch Lightning` network on the CIFAR10 data set.\n",
        "It is based on the PyTorch Lightning tutorial \"INCEPTION, RESNET AND DENSENET\" by Phillip Lippe, see [https://lightning.ai/docs/pytorch/latest/notebooks/course_UvA-DL/04-inception-resnet-densenet.html](https://lightning.ai/docs/pytorch/latest/notebooks/course_UvA-DL/04-inception-resnet-densenet.html).\n",
        "\n",
        "\n",
        "\n",
        "## Step 1: Setup {#sec-setup-33}\n",
        "\n",
        "* Before we consider the detailed experimental setup, we select the parameters that affect run time, initial design size, etc. \n",
        "* The parameter `MAX_TIME` specifies the maximum run time in seconds.\n",
        "* The parameter `INIT_SIZE` specifies the initial design size.\n",
        "* The parameter `WORKERS` specifies the number of workers. \n",
        "* The prefix `PREFIX` is used for the experiment name and the name of the log file.\n"
      ]
    },
    {
      "cell_type": "code",
      "execution_count": null,
      "metadata": {},
      "outputs": [],
      "source": [
        "MAX_TIME = 1\n",
        "INIT_SIZE = 5\n",
        "WORKERS = 0\n",
        "PREFIX=\"32\""
      ]
    },
    {
      "cell_type": "markdown",
      "metadata": {},
      "source": [
        "::: {.callout-caution}\n",
        "### Caution: Run time and initial design size should be increased for real experiments\n",
        "\n",
        "* `MAX_TIME` is set to one minute for demonstration purposes. For real experiments, this should be increased to at least 1 hour.\n",
        "* `INIT_SIZE` is set to 5 for demonstration purposes. For real experiments, this should be increased to at least 10.\n",
        "* `WORKERS` is set to 0 for demonstration purposes. For real experiments, this should be increased. See the warnings that are printed when the number of workers is set to 0.\n",
        "\n",
        ":::\n",
        "\n",
        "::: {.callout-note}\n",
        "### Note: Device selection\n",
        "\n",
        "* Although there are no .cuda() or .to(device) calls required, because Lightning does these for you, see\n",
        "[LIGHTNINGMODULE](https://lightning.ai/docs/pytorch/stable/common/lightning_module.html), we would like to know which device is used. Threrefore, we imitate the LightningModule behaviour which selects the highest device.\n",
        "* The method `spotPython.utils.device.getDevice()` returns the device that is used by Lightning.\n",
        ":::\n",
        "\n",
        "\n",
        "## Step 2: Initialization of the `fun_control` Dictionary\n",
        "\n",
        "`spotPython` uses a Python dictionary for storing the information required for the hyperparameter tuning process."
      ]
    },
    {
      "cell_type": "code",
      "execution_count": null,
      "metadata": {},
      "outputs": [],
      "source": [
        "from spotPython.utils.init import fun_control_init\n",
        "from spotPython.utils.file import get_experiment_name, get_spot_tensorboard_path\n",
        "from spotPython.utils.device import getDevice\n",
        "\n",
        "experiment_name = get_experiment_name(prefix=PREFIX)\n",
        "fun_control = fun_control_init(\n",
        "    spot_tensorboard_path=get_spot_tensorboard_path(experiment_name),\n",
        "    num_workers=WORKERS,\n",
        "    device=getDevice(),\n",
        "    _L_in=16 * 5 * 5,\n",
        "    _L_out=10,\n",
        "    TENSORBOARD_CLEAN=True)"
      ]
    },
    {
      "cell_type": "markdown",
      "metadata": {},
      "source": [
        "## Step 3: PyTorch Data Loading {#sec-data-loading-31}\n",
        "\n",
        "### Lightning Dataset and DataModule\n",
        "\n",
        "The data loading and preprocessing is handled by `Lightning` and `PyTorch`.\n",
        "Torchvision provides many built-in datasets in the `torchvision.datasets` module,\n",
        "as well as utility classes for building your own datasets. All datasets are subclasses\n",
        "of `torch.utils.data.Dataset`, i.e, they have `__getitem__` and `__len__`  methods implemented.\n",
        "Hence, they can all be passed to a `torch.utils.data.DataLoader` which can load multiple\n",
        "samples in parallel using `torch.multiprocessing` workers\n",
        "We use the following classes:\n",
        "\n",
        "*   `CIFAR10`: A class that loads the CIFAR10 data. [[LINK]](https://pytorch.org/vision/stable/generated/torchvision.datasets.CIFAR10.html#torchvision.datasets.CIFAR10)\n",
        "*   `CIFAR10DataModule`: A class that prepares the data for training and testing. [[SOURCE]](https://github.com/sequential-parameter-optimization/spotPython/blob/main/src/spotPython/light/cifar10/cifar10datamodule.py)\n",
        "\n",
        "## Step 4: Preprocessing {#sec-preprocessing-31}\n",
        "\n",
        "Preprocessing is handled by `Lightning` and `PyTorch`. It can be implemented in the `CIFAR10DataModule` class [[SOURCE]](https://github.com/sequential-parameter-optimization/spotPython/blob/main/src/spotPython/light/ccifar10datamodule.py)."
      ]
    },
    {
      "cell_type": "code",
      "execution_count": null,
      "metadata": {},
      "outputs": [],
      "source": [
        "from spotPython.light.cifar10.cifar10datamodule import CIFAR10DataModule\n",
        "\n",
        "data_module = CIFAR10DataModule(batch_size=32, data_dir=\"./data\", num_workers=WORKERS)\n"
      ]
    },
    {
      "cell_type": "code",
      "execution_count": null,
      "metadata": {},
      "outputs": [],
      "source": [
        "data_module.prepare_data()"
      ]
    },
    {
      "cell_type": "code",
      "execution_count": null,
      "metadata": {},
      "outputs": [],
      "source": [
        "data_module.setup()"
      ]
    },
    {
      "cell_type": "code",
      "execution_count": null,
      "metadata": {},
      "outputs": [],
      "source": [
        "\n",
        "imgs, _ = next(iter(data_module.train_dataloader()))\n",
        "print(\"Batch mean\", imgs.mean(dim=[0, 2, 3]))\n",
        "print(\"Batch std\", imgs.std(dim=[0, 2, 3]))"
      ]
    },
    {
      "cell_type": "markdown",
      "metadata": {},
      "source": [
        "\n",
        "\n",
        "\n",
        "\n",
        "## Step 5: Select the NN Model (`algorithm`) and `core_model_hyper_dict` {#sec-selection-of-the-algorithm-31}\n",
        "\n",
        "`spotPython` includes the `NetLinearBase` class [[SOURCE]](https://github.com/sequential-parameter-optimization/spotPython/blob/main/src/spotPython/light/netlinearbase.py) for configurable neural networks.\n",
        "The class is imported here. It inherits from the class `Lightning.LightningModule`, which is the base class for all models in `Lightning`. `Lightning.LightningModule` is a subclass of `torch.nn.Module` and provides additional functionality for the training and testing of neural networks. The class `Lightning.LightningModule` is described in the [Lightning documentation](https://lightning.ai/docs/pytorch/stable/common/lightning_module.html).\n",
        "\n",
        "* Here we simply add the NN Model to the fun_control dictionary by calling the function `add_core_model_to_fun_control`:"
      ]
    },
    {
      "cell_type": "code",
      "execution_count": null,
      "metadata": {},
      "outputs": [],
      "source": [
        "from spotPython.light.netlinearbase import NetLinearBase\n",
        "from spotPython.data.light_hyper_dict import LightHyperDict\n",
        "from spotPython.hyperparameters.values import add_core_model_to_fun_control\n",
        "add_core_model_to_fun_control(core_model=NetLinearBase,\n",
        "                              fun_control=fun_control,\n",
        "                              hyper_dict= LightHyperDict)"
      ]
    },
    {
      "cell_type": "markdown",
      "metadata": {},
      "source": [
        "The `NetLinearBase` is a configurable neural network. The hyperparameters of the model are specified in the `core_model_hyper_dict` dictionary [[SOURCE]](https://github.com/sequential-parameter-optimization/spotPython/blob/main/src/spotPython/data/light_hyper_dict.json).\n",
        "\n",
        "## Step 6: Modify `hyper_dict` Hyperparameters for the Selected Algorithm aka `core_model` {#sec-modification-of-hyperparameters-31}\n",
        "\n",
        " `spotPython` provides functions for modifying the hyperparameters, their bounds and factors as well as for activating and de-activating hyperparameters without re-compilation of the Python source code. These functions were described in @sec-modification-of-hyperparameters-14.\n",
        "\n",
        "::: {.callout-caution}\n",
        "### Caution: Small number of epochs for demonstration purposes\n",
        "\n",
        "* `epochs` and `patience` are set to small values for demonstration purposes. These values are too small for a real application.\n",
        "* More resonable values are, e.g.:\n",
        "  * `modify_hyper_parameter_bounds(fun_control, \"epochs\", bounds=[7, 9])` and\n",
        "  * `modify_hyper_parameter_bounds(fun_control, \"patience\", bounds=[2, 7])`\n",
        ":::"
      ]
    },
    {
      "cell_type": "code",
      "execution_count": null,
      "metadata": {},
      "outputs": [],
      "source": [
        "from spotPython.hyperparameters.values import modify_hyper_parameter_bounds\n",
        "\n",
        "modify_hyper_parameter_bounds(fun_control, \"l1\", bounds=[5,8])\n",
        "modify_hyper_parameter_bounds(fun_control, \"epochs\", bounds=[6,13])\n",
        "modify_hyper_parameter_bounds(fun_control, \"batch_size\", bounds=[2, 8])"
      ]
    },
    {
      "cell_type": "code",
      "execution_count": null,
      "metadata": {},
      "outputs": [],
      "source": [
        "from spotPython.hyperparameters.values import modify_hyper_parameter_levels\n",
        "modify_hyper_parameter_levels(fun_control, \"optimizer\",[\"Adam\", \"AdamW\", \"Adamax\", \"NAdam\"])\n",
        "# modify_hyper_parameter_levels(fun_control, \"optimizer\", [\"Adam\"])"
      ]
    },
    {
      "cell_type": "markdown",
      "metadata": {},
      "source": [
        "Now, the dictionary `fun_control` contains all information needed for the hyperparameter tuning. Before the hyperparameter tuning is started, it is recommended to take a look at the experimental design. The method `gen_design_table` [[SOURCE]](https://github.com/sequential-parameter-optimization/spotPython/blob/main/src/spotPython/utils/eda.py) generates a design table as follows:"
      ]
    },
    {
      "cell_type": "code",
      "execution_count": null,
      "metadata": {
        "fig-label": "tbl-design-31"
      },
      "outputs": [],
      "source": [
        "#| fig-cap: Experimental design for the hyperparameter tuning.\n",
        "from spotPython.utils.eda import gen_design_table\n",
        "print(gen_design_table(fun_control))"
      ]
    },
    {
      "cell_type": "markdown",
      "metadata": {},
      "source": [
        "This allows to check if all information is available and if the information is correct.\n",
        "\n",
        "::: {.callout-note}\n",
        "### Note: Hyperparameters of the Tuned Model and the `fun_control` Dictionary\n",
        "The updated `fun_control` dictionary can be shown with the command `fun_control[\"core_model_hyper_dict\"]`.\n",
        ":::\n",
        "\n",
        "\n",
        "## Step 7: Data Splitting, the Objective (Loss) Function and the Metric\n",
        "\n",
        "### Evaluation  {#sec-selection-of-target-function-31}\n",
        "\n",
        "The evaluation procedure requires the specification of two elements:\n",
        "\n",
        "1. the way how the data is split into a train and a test set (see @sec-data-splitting-14)\n",
        "2. the loss function (and a metric).\n",
        "\n",
        "::: {.callout-caution}\n",
        "### Caution: Data Splitting in Lightning\n",
        "\n",
        "* The data splitting is handled by `Lightning`.\n",
        "\n",
        ":::\n",
        "\n",
        "### Loss Functions and Metrics {#sec-loss-functions-and-metrics-31}\n",
        "\n",
        "The loss function is specified in the configurable network class [[SOURCE]](https://github.com/sequential-parameter-optimization/spotPython/blob/main/src/spotPython/light/netlinearbase.py)\n",
        "We will use CrossEntropy loss for the multiclass-classification task.\n",
        "\n",
        "### Metric {#sec-metric-31}\n",
        "\n",
        "* We will use the default accuracy metric for the evaluation of the model.\n",
        "\n",
        "Similar to the loss function, the metric is specified in the configurable network class [[SOURCE]](https://github.com/sequential-parameter-optimization/spotPython/blob/main/src/spotPython/light/netlinearbase.py).\n",
        "\n",
        "::: {.callout-caution}\n",
        "### Caution: Loss Function and Metric in Lightning\n",
        "\n",
        "* The loss function and the metric are not hyperparameters that can be tuned with `spotPython`.\n",
        "* They are handled by `Lightning`.\n",
        "\n",
        ":::\n",
        "\n",
        "## Step 8: Calling the SPOT Function\n",
        "\n",
        "### Preparing the SPOT Call {#sec-prepare-spot-call-31}\n",
        "\n",
        "The following code passes the information about the parameter ranges and bounds to `spot`.\n",
        "It extracts the variable types, names, and bounds"
      ]
    },
    {
      "cell_type": "code",
      "execution_count": null,
      "metadata": {},
      "outputs": [],
      "source": [
        "from spotPython.hyperparameters.values import (get_bound_values,\n",
        "    get_var_name,\n",
        "    get_var_type,)\n",
        "var_type = get_var_type(fun_control)\n",
        "var_name = get_var_name(fun_control)\n",
        "lower = get_bound_values(fun_control, \"lower\")\n",
        "upper = get_bound_values(fun_control, \"upper\")"
      ]
    },
    {
      "cell_type": "markdown",
      "metadata": {},
      "source": [
        "### The Objective Function `fun` {#sec-the-objective-function-31}\n",
        "\n",
        "The objective function `fun` from the class `HyperLight` [[SOURCE]](https://github.com/sequential-parameter-optimization/spotPython/blob/main/src/spotPython/light/hyperlight.py) is selected next. It implements an interface from `PyTorch`'s training, validation, and testing methods to `spotPython`."
      ]
    },
    {
      "cell_type": "code",
      "execution_count": null,
      "metadata": {},
      "outputs": [],
      "source": [
        "from spotPython.fun.hyperlight import HyperLight\n",
        "fun = HyperLight().fun"
      ]
    },
    {
      "cell_type": "markdown",
      "metadata": {},
      "source": [
        "### Starting the Hyperparameter Tuning {#sec-call-the-hyperparameter-tuner-31}\n",
        "\n",
        "The `spotPython` hyperparameter tuning is started by calling the `Spot` function [[SOURCE]](https://github.com/sequential-parameter-optimization/spotPython/blob/main/src/spotPython/spot/spot.py) as described in @sec-call-the-hyperparameter-tuner-14."
      ]
    },
    {
      "cell_type": "code",
      "execution_count": null,
      "metadata": {},
      "outputs": [],
      "source": [
        "import numpy as np\n",
        "from spotPython.spot import spot\n",
        "from math import inf\n",
        "spot_tuner = spot.Spot(fun=fun,\n",
        "                   lower = lower,\n",
        "                   upper = upper,\n",
        "                   fun_evals = inf,\n",
        "                   max_time = MAX_TIME,\n",
        "                   tolerance_x = np.sqrt(np.spacing(1)),\n",
        "                   var_type = var_type,\n",
        "                   var_name = var_name,\n",
        "                   show_progress= True,\n",
        "                   fun_control = fun_control,\n",
        "                   log_level=10,\n",
        "                   design_control={\"init_size\": INIT_SIZE},\n",
        "                   surrogate_control={\"noise\": True,\n",
        "                                      \"min_theta\": -4,\n",
        "                                      \"max_theta\": 3,\n",
        "                                      \"n_theta\": len(var_name),\n",
        "                                      \"model_fun_evals\": 10_000,\n",
        "                                      })\n",
        "spot_tuner.run()"
      ]
    },
    {
      "cell_type": "markdown",
      "metadata": {},
      "source": [
        "## Step 9: Tensorboard {#sec-tensorboard-31}\n",
        "\n",
        "The textual output shown in the console (or code cell) can be visualized with Tensorboard.\n",
        "\n",
        "```{raw}\n",
        "tensorboard --logdir=\"runs/\"\n",
        "```\n",
        "\n",
        "Further information can be found in the [PyTorch Lightning documentation](https://lightning.ai/docs/pytorch/stable/api/lightning.pytorch.loggers.tensorboard.html) for Tensorboard.\n",
        "\n",
        "## Step 10: Results {#sec-results-31}\n",
        "\n",
        "After the hyperparameter tuning run is finished, the results can be analyzed as described in @sec-results-14."
      ]
    },
    {
      "cell_type": "code",
      "execution_count": null,
      "metadata": {
        "fig-label": "fig-progress-31"
      },
      "outputs": [],
      "source": [
        "#| fig-cap: Progress plot. *Black* dots denote results from the initial design. *Red* dots  illustrate the improvement found by the surrogate model based optimization.\n",
        "spot_tuner.plot_progress(log_y=False,\n",
        "    filename=\"./figures/\" + experiment_name+\"_progress.png\")"
      ]
    },
    {
      "cell_type": "code",
      "execution_count": null,
      "metadata": {
        "fig-label": "tbl-results-31"
      },
      "outputs": [],
      "source": [
        "#| fig-cap: Results of the hyperparameter tuning.\n",
        "from spotPython.utils.eda import gen_design_table\n",
        "print(gen_design_table(fun_control=fun_control, spot=spot_tuner))"
      ]
    },
    {
      "cell_type": "code",
      "execution_count": null,
      "metadata": {
        "fig-label": "fig-importance-31"
      },
      "outputs": [],
      "source": [
        "#| fig-cap: 'Variable importance plot, threshold 0.025.'\n",
        "spot_tuner.plot_importance(threshold=0.025,\n",
        "    filename=\"./figures/\" + experiment_name+\"_importance.png\")"
      ]
    },
    {
      "cell_type": "markdown",
      "metadata": {},
      "source": [
        "### Get the Tuned Architecture {#sec-get-spot-results-31}"
      ]
    },
    {
      "cell_type": "code",
      "execution_count": null,
      "metadata": {},
      "outputs": [],
      "source": [
        "from spotPython.light.utils import get_tuned_architecture\n",
        "config = get_tuned_architecture(spot_tuner, fun_control)"
      ]
    },
    {
      "cell_type": "markdown",
      "metadata": {},
      "source": [
        "* Test on the full data set"
      ]
    },
    {
      "cell_type": "code",
      "execution_count": null,
      "metadata": {},
      "outputs": [],
      "source": [
        "from spotPython.light.traintest import test_model\n",
        "test_model(config, fun_control)"
      ]
    },
    {
      "cell_type": "code",
      "execution_count": null,
      "metadata": {},
      "outputs": [],
      "source": [
        "from spotPython.light.traintest import load_light_from_checkpoint\n",
        "\n",
        "model_loaded = load_light_from_checkpoint(config, fun_control)"
      ]
    },
    {
      "cell_type": "markdown",
      "metadata": {},
      "source": [
        "### Cross Validation With Lightning\n",
        "\n",
        "* The `KFold` class from `sklearn.model_selection` is used to generate the folds for cross-validation.\n",
        "* These mechanism is used to generate the folds for the final evaluation of the model.\n",
        "* The `CrossValidationDataModule` class [[SOURCE]](https://github.com/sequential-parameter-optimization/spotPython/blob/main/src/spotPython/light/crossvalidationdatamodule.py) is used to generate the folds for the hyperparameter tuning process.\n",
        "* It is called from the `cv_model` function [[SOURCE]](https://github.com/sequential-parameter-optimization/spotPython/blob/main/src/spotPython/light/traintest.py)."
      ]
    },
    {
      "cell_type": "code",
      "execution_count": null,
      "metadata": {},
      "outputs": [],
      "source": [
        "from spotPython.light.traintest import cv_model\n",
        "# set the number of folds to 10\n",
        "fun_control[\"k_folds\"] = 10\n",
        "cv_model(config, fun_control)"
      ]
    },
    {
      "cell_type": "markdown",
      "metadata": {},
      "source": [
        "::: {.callout-note}\n",
        "### Note: Evaluation for the Final Comaprison\n",
        "\n",
        "* This is the evaluation that will be used in the comparison.\n",
        "\n",
        ":::\n",
        "\n",
        "\n",
        "### Detailed Hyperparameter Plots"
      ]
    },
    {
      "cell_type": "code",
      "execution_count": null,
      "metadata": {
        "fig-label": "fig-contour-31"
      },
      "outputs": [],
      "source": [
        "#| fig-cap: Contour plots.\n",
        "filename = \"./figures/\" + experiment_name\n",
        "spot_tuner.plot_important_hyperparameter_contour(filename=filename)"
      ]
    },
    {
      "cell_type": "markdown",
      "metadata": {},
      "source": [
        "### Parallel Coordinates Plot"
      ]
    },
    {
      "cell_type": "code",
      "execution_count": null,
      "metadata": {
        "fig-label": "fig-parallel-31"
      },
      "outputs": [],
      "source": [
        "#| fig-cap: Parallel coordinates plots\n",
        "spot_tuner.parallel_plot()"
      ]
    },
    {
      "cell_type": "markdown",
      "metadata": {},
      "source": [
        "### Plot all Combinations of Hyperparameters\n",
        "\n",
        "* Warning: this may take a while."
      ]
    },
    {
      "cell_type": "code",
      "execution_count": null,
      "metadata": {},
      "outputs": [],
      "source": [
        "PLOT_ALL = False\n",
        "if PLOT_ALL:\n",
        "    n = spot_tuner.k\n",
        "    for i in range(n-1):\n",
        "        for j in range(i+1, n):\n",
        "            spot_tuner.plot_contour(i=i, j=j, min_z=min_z, max_z = max_z)"
      ]
    },
    {
      "cell_type": "markdown",
      "metadata": {},
      "source": [
        "### Visualizing the Activation Distribution\n",
        "\n",
        "::: {.callout-note}\n",
        "### Reference:\n",
        "\n",
        "* The following code is based on [[PyTorch Lightning TUTORIAL 2: ACTIVATION FUNCTIONS]](https://lightning.ai/docs/pytorch/stable/notebooks/course_UvA-DL/02-activation-functions.html), Author: Phillip Lippe, License: [[CC BY-SA]](https://creativecommons.org/licenses/by-sa/3.0/), Generated: 2023-03-15T09:52:39.179933.\n",
        "\n",
        ":::\n",
        "\n",
        "After we have trained the models, we can look at the actual activation values that find inside the model. For instance, how many neurons are set to zero in ReLU? Where do we find most values in Tanh? To answer these questions, we can write a simple function which takes a trained model, applies it to a batch of images, and plots the histogram of the activations inside the network:"
      ]
    },
    {
      "cell_type": "code",
      "execution_count": null,
      "metadata": {},
      "outputs": [],
      "source": [
        "from spotPython.torch.activation import Sigmoid, Tanh, ReLU, LeakyReLU, ELU, Swish\n",
        "act_fn_by_name = {\"sigmoid\": Sigmoid, \"tanh\": Tanh, \"relu\": ReLU, \"leakyrelu\": LeakyReLU, \"elu\": ELU, \"swish\": Swish}"
      ]
    },
    {
      "cell_type": "code",
      "execution_count": null,
      "metadata": {},
      "outputs": [],
      "source": [
        "from spotPython.hyperparameters.values import get_one_config_from_X\n",
        "X = spot_tuner.to_all_dim(spot_tuner.min_X.reshape(1,-1))\n",
        "config = get_one_config_from_X(X, fun_control)\n",
        "model = fun_control[\"core_model\"](**config, _L_in=64, _L_out=11)\n",
        "model"
      ]
    },
    {
      "cell_type": "code",
      "execution_count": null,
      "metadata": {},
      "outputs": [],
      "source": [
        "from spotPython.utils.eda import visualize_activations\n",
        "visualize_activations(model, color=f\"C{0}\")"
      ]
    },
    {
      "cell_type": "markdown",
      "metadata": {},
      "source": [
        "## Appendix\n",
        "\n",
        "### Differences to the spotPython Approaches for `torch`, `sklearn` and `river`\n",
        "\n",
        "::: {.callout-caution}\n",
        "#### Caution: Data Loading in Lightning\n",
        "\n",
        "* Data loading is handled independently from the `fun_control` dictionary by `Lightning` and `PyTorch`.\n",
        "* In contrast to `spotPython` with `torch`, `river` and `sklearn`, the data sets are not added to the `fun_control` dictionary.\n",
        ":::\n",
        "\n",
        "#### Specification of the Preprocessing Model {#sec-specification-of-preprocessing-model-31}\n",
        "\n",
        "The `fun_control` dictionary, the `torch`, `sklearn`and `river` versions of `spotPython` allow the specification of a data preprocessing pipeline, e.g., for the scaling of the data or for the one-hot encoding of categorical variables, see @sec-specification-of-preprocessing-model-14. This feature is not used in the `Lightning` version.\n",
        "\n",
        ":::{.callout-caution}\n",
        "#### Caution: Data preprocessing in Lightning\n",
        "\n",
        "Lightning allows the data preprocessing to be specified in the `LightningDataModule` class. It is not considered here, because it should be computed at one location only.\n",
        ":::\n",
        "\n",
        "### Taking a Look at the Data {#sec-taking-a-look-at-the-data-31}"
      ]
    },
    {
      "cell_type": "code",
      "execution_count": null,
      "metadata": {},
      "outputs": [],
      "source": [
        "import torch\n",
        "# from spotPython.light.csvdataset import CSVDataset\n",
        "from torchvision.datasets import CIFAR10\n",
        "from torch.utils.data import DataLoader\n",
        "from torchvision.transforms import ToTensor\n",
        "import torchvision.transforms as transforms\n",
        "\n",
        "transform = transforms.Compose(\n",
        "    [transforms.ToTensor(),\n",
        "     transforms.Normalize((0.5, 0.5, 0.5), (0.5, 0.5, 0.5))])\n",
        "\n",
        "# Create an instance of CSVDataset\n",
        "# dataset = CSVDataset(csv_file=\"./data/VBDP/train.csv\", train=True)\n",
        "dataset = CIFAR10(root=fun_control[\"DATASET_PATH\"], train=True, download=True, transform=transform)\n",
        "# show the first element of the input data\n",
        "print(dataset[0][0])\n",
        "# show the size of the dataset\n",
        "print(f\"Dataset Size: {len(dataset)}\")"
      ]
    },
    {
      "cell_type": "code",
      "execution_count": null,
      "metadata": {},
      "outputs": [],
      "source": [
        "import torch\n",
        "import torchvision\n",
        "import torchvision.transforms as transforms\n",
        "import matplotlib.pyplot as plt\n",
        "import numpy as np\n",
        "\n",
        "# Set batch size for DataLoader\n",
        "batch_size = 3\n",
        "# Create DataLoader\n",
        "dataloader = DataLoader(dataset, batch_size=batch_size, shuffle=True)\n",
        "# functions to show an image\n",
        "\n",
        "\n",
        "def imshow(img):\n",
        "    img = img / 2 + 0.5     # unnormalize\n",
        "    npimg = img.numpy()\n",
        "    plt.imshow(np.transpose(npimg, (1, 2, 0)))\n",
        "    plt.show()\n",
        "\n",
        "\n",
        "# get some random training images\n",
        "dataiter = iter(dataloader)\n",
        "images, labels = next(dataiter)\n",
        "\n",
        "# show images\n",
        "imshow(torchvision.utils.make_grid(images))\n",
        "# print labels\n",
        "classes = ('plane', 'car', 'bird', 'cat',\n",
        "           'deer', 'dog', 'frog', 'horse', 'ship', 'truck')\n",
        "print(' '.join(f'{classes[labels[j]]:5s}' for j in range(batch_size)))"
      ]
    },
    {
      "cell_type": "code",
      "execution_count": null,
      "metadata": {},
      "outputs": [],
      "source": [
        "# Set batch size for DataLoader\n",
        "batch_size = 3\n",
        "# Create DataLoader\n",
        "dataloader = DataLoader(dataset, batch_size=batch_size, shuffle=True)\n",
        "\n",
        "dataiter = iter(dataloader)\n",
        "images, labels = next(dataiter)\n",
        "\n",
        "\n",
        "# # Iterate over the data in the DataLoader\n",
        "# for batch in dataloader:\n",
        "#     inputs, targets = batch\n",
        "#     # print(f\"Batch Size: {inputs.size(0)}\")\n",
        "#     # print(\"---------------\")\n",
        "#     # print(f\"Inputs: {inputs}\")\n",
        "#     # print(f\"Targets: {targets}\")\n",
        "#     break"
      ]
    },
    {
      "cell_type": "markdown",
      "metadata": {},
      "source": [
        "# Tests"
      ]
    },
    {
      "cell_type": "code",
      "execution_count": null,
      "metadata": {},
      "outputs": [],
      "source": [
        "from spotPython.light.cnn.googlenet import InceptionBlock\n",
        "import torch\n",
        "import torch.nn as nn\n",
        "block = InceptionBlock(3,\n",
        "            {\"3x3\": 32, \"5x5\": 16},\n",
        "            {\"1x1\": 16, \"3x3\": 32, \"5x5\": 8, \"max\": 8},\n",
        "            nn.ReLU)\n",
        "x = torch.randn(1, 3, 32, 32)\n",
        "y = block(x)\n",
        "y.shape"
      ]
    },
    {
      "cell_type": "code",
      "execution_count": null,
      "metadata": {},
      "outputs": [],
      "source": [
        "from spotPython.light.cnn.googlenet import GoogleNet\n",
        "import torch\n",
        "import torch.nn as nn\n",
        "model = GoogleNet()\n",
        "x = torch.randn(1, 3, 32, 32)\n",
        "y = model(x)\n",
        "y.shape"
      ]
    },
    {
      "cell_type": "code",
      "execution_count": null,
      "metadata": {},
      "outputs": [],
      "source": [
        "from spotPython.light.cnn.netcnnbase import NetCNNBase\n",
        "from spotPython.light.cnn.googlenet import GoogleNet\n",
        "import torch\n",
        "import torch.nn as nn\n",
        "config = {\"c_in\": 3, \"c_out\": 10, \"act_fn\": nn.ReLU}\n",
        "fun_control = {\"core_model\": GoogleNet}\n",
        "model = NetCNNBase(config, fun_control)\n",
        "x = torch.randn(1, 3, 32, 32)\n",
        "y = model(x)\n",
        "y.shape"
      ]
    },
    {
      "cell_type": "code",
      "execution_count": null,
      "metadata": {},
      "outputs": [],
      "source": [
        "fun_control[\"core_model\"].__name__"
      ]
    },
    {
      "cell_type": "code",
      "execution_count": null,
      "metadata": {},
      "outputs": [],
      "source": [
        "from spotPython.light.trainmodel import train_model\n",
        "config = {\"c_in\": 3, \"c_out\": 10, \"act_fn\": nn.ReLU, \"optimizer_name\": \"Adam\", \"optimizer_hparams\": {\"lr\": 1e-3, \"weight_decay\": 1e-4}}\n",
        "fun_control = {\"core_model\": GoogleNet}\n",
        "model, result = train_model(config, fun_control)\n",
        "result"
      ]
    },
    {
      "cell_type": "markdown",
      "metadata": {},
      "source": [
        "## Test for fun()"
      ]
    },
    {
      "cell_type": "code",
      "execution_count": null,
      "metadata": {},
      "outputs": [],
      "source": [
        "MAX_TIME = 1\n",
        "INIT_SIZE = 5\n",
        "WORKERS = 0\n",
        "PREFIX=\"32\"\n",
        "from spotPython.utils.init import fun_control_init\n",
        "from spotPython.utils.file import get_experiment_name, get_spot_tensorboard_path\n",
        "from spotPython.utils.device import getDevice\n",
        "\n",
        "experiment_name = get_experiment_name(prefix=PREFIX)\n",
        "fun_control = fun_control_init(\n",
        "    spot_tensorboard_path=get_spot_tensorboard_path(experiment_name),\n",
        "    num_workers=WORKERS,\n",
        "    device=getDevice(),\n",
        "    _L_in=16 * 5 * 5,\n",
        "    _L_out=10,\n",
        "    TENSORBOARD_CLEAN=True)"
      ]
    },
    {
      "cell_type": "code",
      "execution_count": null,
      "metadata": {},
      "outputs": [],
      "source": [
        "from spotPython.light.cnn.googlenet import GoogleNet\n",
        "from spotPython.data.lightning_hyper_dict import LightningHyperDict\n",
        "from spotPython.hyperparameters.values import add_core_model_to_fun_control\n",
        "add_core_model_to_fun_control(core_model=GoogleNet,\n",
        "                              fun_control=fun_control,\n",
        "                              hyper_dict= LightningHyperDict)"
      ]
    },
    {
      "cell_type": "markdown",
      "metadata": {},
      "source": [
        "# Lightning With SPOT:"
      ]
    },
    {
      "cell_type": "markdown",
      "metadata": {},
      "source": [
        "## 1. JSON\n",
        "\n",
        "\n",
        " `data.lightning_hyper_dict.json`"
      ]
    },
    {
      "cell_type": "code",
      "execution_count": null,
      "metadata": {},
      "outputs": [],
      "source": [
        "  \"GoogleNet\":\n",
        "    {\n",
        "    \"act_fn\": {\n",
        "            \"levels\": [\"Sigmoid\",\n",
        "                       \"Tanh\",\n",
        "                       \"ReLU\",\n",
        "                       \"LeakyReLU\",\n",
        "                       \"ELU\",\n",
        "                       \"Swish\"],\n",
        "            \"type\": \"factor\",\n",
        "            \"default\": \"ReLU\",\n",
        "            \"transform\": \"None\",\n",
        "            \"class_name\": \"spotPython.torch.activation\",\n",
        "            \"core_model_parameter_type\": \"instance\",\n",
        "            \"lower\": 0,\n",
        "            \"upper\": 5},\n",
        "    \"optimizer_name\": {\n",
        "        \"levels\": [\n",
        "                   \"Adam\"\n",
        "                ],\n",
        "        \"type\": \"factor\",\n",
        "        \"default\": \"Adam\",\n",
        "        \"transform\": \"None\",\n",
        "        \"class_name\": \"torch.optim\",\n",
        "        \"core_model_parameter_type\": \"str\",\n",
        "        \"lower\": 0,\n",
        "        \"upper\": 0}\n",
        "    }"
      ]
    },
    {
      "cell_type": "markdown",
      "metadata": {},
      "source": [
        "## 2. Class HyperLightning.py\n",
        "\n",
        " ```{python}\n",
        " def fun(self,\n",
        "        X: np.ndarray,\n",
        "        fun_control: dict = None) -> np.ndarray:\n",
        "```"
      ]
    },
    {
      "cell_type": "markdown",
      "metadata": {},
      "source": [
        "1. Args: `numpy.array` from `spotPython`: hyperparameters as numerical values\n",
        "2. Generates a dictionary with hyperparameters, e.g.:\n",
        "\n",
        "\n",
        "   ```{JSON}\n",
        "   config: {\n",
        "      'act_fn': <class 'spotPython.torch.activation.ReLU'>,\n",
        "      'optimizer_name': 'Adam'}`\n",
        "   ```\n",
        "\n",
        "3. Passes dictionary to method `train_model()` "
      ]
    },
    {
      "cell_type": "markdown",
      "metadata": {},
      "source": [
        "## 3. train_model()\n",
        "\n",
        " `def train_model(config: dict, fun_control: dict):`"
      ]
    },
    {
      "cell_type": "markdown",
      "metadata": {},
      "source": [
        "1. Prepares the data, e.g., `CIFAR10DataModule`\n",
        "2. Sets up the Trainer\n",
        "3. Sets up the model, e.g.,\n",
        "\n",
        "```{python}\n",
        "model = NetCNNBase(\n",
        "            model_name=fun_control[\"core_model\"].__name__,\n",
        "            model_hparams=config,\n",
        "            optimizer_name=\"Adam\",\n",
        "            optimizer_hparams={\"lr\": 1e-3, \"weight_decay\": 1e-4},\n",
        "        )\n",
        "```"
      ]
    },
    {
      "cell_type": "markdown",
      "metadata": {},
      "source": [
        "## 4. netcnnbase.py\n",
        "\n",
        "```{python}\n",
        "class NetCNNBase(L.LightningModule):\n",
        "    def __init__(self,\n",
        "                model_name,\n",
        "                model_hparams,\n",
        "                optimizer_name,\n",
        "                optimizer_hparams):\n",
        "```\n",
        "\n",
        "1. Saves hyperparameters in `self.hparams`\n",
        "2. Creates model\n",
        "3. Creates loss module\n",
        "4. Creates optimizer\n",
        "5. Defines forward pass\n",
        "6. Defines training step\n",
        "7. Defines validation step\n",
        "8. Defines test step"
      ]
    },
    {
      "cell_type": "markdown",
      "metadata": {},
      "source": [
        "## 5. GoogleNet\n",
        "\n",
        "```{python}\n",
        "class GoogleNet(nn.Module):\n",
        "    \"\"\"GoogleNet architecture\n",
        "\n",
        "    Args:\n",
        "        num_classes (int):\n",
        "            Number of classes for the classification task. Defaults to 10.\n",
        "        act_fn_name (str):\n",
        "            Name of the activation function. Defaults to \"relu\".\n",
        "        **kwargs:\n",
        "            Additional keyword arguments.\n",
        "\n",
        "    Attributes:\n",
        "        hparams (SimpleNamespace):\n",
        "            Namespace containing the hyperparameters.\n",
        "        input_net (nn.Sequential):\n",
        "            Input network.\n",
        "        inception_blocks (nn.Sequential):\n",
        "            Inception blocks.\n",
        "        output_net (nn.Sequential):\n",
        "            Output network.\n",
        "\n",
        "    Returns:\n",
        "        (torch.Tensor):\n",
        "            Output tensor of the GoogleNet architecture\n",
        "\n",
        "    Examples:\n",
        "        >>> from spotPython.light.cnn.googlenet import GoogleNet\n",
        "            import torch\n",
        "            import torch.nn as nn\n",
        "            model = GoogleNet()\n",
        "            x = torch.randn(1, 3, 32, 32)\n",
        "            y = model(x)\n",
        "            y.shape\n",
        "            torch.Size([1, 10])\n",
        "    \"\"\"\n",
        "```"
      ]
    },
    {
      "cell_type": "markdown",
      "metadata": {},
      "source": [
        "## 6. InceptionBlock\n",
        "\n",
        "```{python}\n",
        "class InceptionBlock(nn.Module):\n",
        "    def __init__(self, c_in, c_red: dict, c_out: dict, act_fn):\n",
        "        \"\"\"\n",
        "        Inception block as used in GoogLeNet.\n",
        "\n",
        "        Args:\n",
        "            c_in:\n",
        "                Number of input feature maps from the previous layers\n",
        "            c_red:\n",
        "                Dictionary with keys \"3x3\" and \"5x5\" specifying\n",
        "                the output of the dimensionality reducing 1x1 convolutions\n",
        "            c_out:\n",
        "                Dictionary with keys \"1x1\", \"3x3\", \"5x5\", and \"max\"\n",
        "            act_fn:\n",
        "                Activation class constructor (e.g. nn.ReLU)\n",
        "\n",
        "        Returns:\n",
        "            torch.Tensor:\n",
        "                Output tensor of the inception block\n",
        "\n",
        "        Examples:\n",
        "            >>> from spotPython.light.cnn.googlenet import InceptionBlock\n",
        "                import torch\n",
        "                import torch.nn as nn\n",
        "                block = InceptionBlock(3,\n",
        "                            {\"3x3\": 32, \"5x5\": 16},\n",
        "                            {\"1x1\": 16, \"3x3\": 32, \"5x5\": 8, \"max\": 8},\n",
        "                            nn.ReLU)\n",
        "                x = torch.randn(1, 3, 32, 32)\n",
        "                y = block(x)\n",
        "                y.shape\n",
        "                torch.Size([1, 64, 32, 32])\n",
        "\n",
        "        \"\"\"\n",
        "```"
      ]
    },
    {
      "cell_type": "markdown",
      "metadata": {},
      "source": [
        "# Sample Run"
      ]
    },
    {
      "cell_type": "code",
      "execution_count": 3,
      "metadata": {},
      "outputs": [
        {
          "name": "stderr",
          "output_type": "stream",
          "text": [
            "Global seed set to 42\n"
          ]
        },
        {
          "name": "stdout",
          "output_type": "stream",
          "text": [
            "\n",
            "core_model: <class 'spotPython.light.cnn.googlenet.GoogleNet'>\n",
            "config: {'act_fn': <class 'spotPython.torch.activation.ReLU'>, 'optimizer_name': 'Adam'}\n",
            "fun: Calling train_model\n",
            "train_model: Starting\n",
            "train_model: config: {'act_fn': <class 'spotPython.torch.activation.ReLU'>, 'optimizer_name': 'Adam'}\n",
            "Files already downloaded and verified\n",
            "Data mean [0.49139968 0.48215841 0.44653091]\n",
            "Data std [0.24703223 0.24348513 0.26158784]\n",
            "Files already downloaded and verified\n",
            "Files already downloaded and verified\n"
          ]
        },
        {
          "name": "stderr",
          "output_type": "stream",
          "text": [
            "Global seed set to 42\n",
            "Global seed set to 42\n"
          ]
        },
        {
          "name": "stdout",
          "output_type": "stream",
          "text": [
            "Files already downloaded and verified\n"
          ]
        },
        {
          "name": "stderr",
          "output_type": "stream",
          "text": [
            "GPU available: True (mps), used: True\n",
            "TPU available: False, using: 0 TPU cores\n",
            "IPU available: False, using: 0 IPUs\n",
            "HPU available: False, using: 0 HPUs\n",
            "Global seed set to 42\n",
            "Missing logger folder: runs/saved_models/GoogleNet/lightning_logs\n"
          ]
        },
        {
          "name": "stdout",
          "output_type": "stream",
          "text": [
            "train_model: Creating trainer\n",
            "train_model: Created trainer\n",
            "train_model: Creating model\n",
            "model_hparams: {'act_fn': <class 'spotPython.torch.activation.ReLU'>, 'optimizer_name': 'Adam'}\n",
            "self.hparams: \"model_hparams\":     {'act_fn': <class 'spotPython.torch.activation.ReLU'>, 'optimizer_name': 'Adam'}\n",
            "\"model_name\":        GoogleNet\n",
            "\"optimizer_hparams\": {'lr': 0.001, 'weight_decay': 0.0001}\n",
            "\"optimizer_name\":    Adam\n",
            "create_model: Starting\n",
            "model_name: GoogleNet\n",
            "model_hparams: {'act_fn': <class 'spotPython.torch.activation.ReLU'>, 'optimizer_name': 'Adam'}\n",
            "self.model: GoogleNet(\n",
            "  (input_net): Sequential(\n",
            "    (0): Conv2d(3, 64, kernel_size=(3, 3), stride=(1, 1), padding=(1, 1))\n",
            "    (1): BatchNorm2d(64, eps=1e-05, momentum=0.1, affine=True, track_running_stats=True)\n",
            "    (2): ReLU()\n",
            "  )\n",
            "  (inception_blocks): Sequential(\n",
            "    (0): InceptionBlock(\n",
            "      (conv_1x1): Sequential(\n",
            "        (0): Conv2d(64, 16, kernel_size=(1, 1), stride=(1, 1))\n",
            "        (1): BatchNorm2d(16, eps=1e-05, momentum=0.1, affine=True, track_running_stats=True)\n",
            "        (2): ReLU()\n",
            "      )\n",
            "      (conv_3x3): Sequential(\n",
            "        (0): Conv2d(64, 32, kernel_size=(1, 1), stride=(1, 1))\n",
            "        (1): BatchNorm2d(32, eps=1e-05, momentum=0.1, affine=True, track_running_stats=True)\n",
            "        (2): ReLU()\n",
            "        (3): Conv2d(32, 32, kernel_size=(3, 3), stride=(1, 1), padding=(1, 1))\n",
            "        (4): BatchNorm2d(32, eps=1e-05, momentum=0.1, affine=True, track_running_stats=True)\n",
            "        (5): ReLU()\n",
            "      )\n",
            "      (conv_5x5): Sequential(\n",
            "        (0): Conv2d(64, 16, kernel_size=(1, 1), stride=(1, 1))\n",
            "        (1): BatchNorm2d(16, eps=1e-05, momentum=0.1, affine=True, track_running_stats=True)\n",
            "        (2): ReLU()\n",
            "        (3): Conv2d(16, 8, kernel_size=(5, 5), stride=(1, 1), padding=(2, 2))\n",
            "        (4): BatchNorm2d(8, eps=1e-05, momentum=0.1, affine=True, track_running_stats=True)\n",
            "        (5): ReLU()\n",
            "      )\n",
            "      (max_pool): Sequential(\n",
            "        (0): MaxPool2d(kernel_size=3, stride=1, padding=1, dilation=1, ceil_mode=False)\n",
            "        (1): Conv2d(64, 8, kernel_size=(1, 1), stride=(1, 1))\n",
            "        (2): BatchNorm2d(8, eps=1e-05, momentum=0.1, affine=True, track_running_stats=True)\n",
            "        (3): ReLU()\n",
            "      )\n",
            "    )\n",
            "    (1): InceptionBlock(\n",
            "      (conv_1x1): Sequential(\n",
            "        (0): Conv2d(64, 24, kernel_size=(1, 1), stride=(1, 1))\n",
            "        (1): BatchNorm2d(24, eps=1e-05, momentum=0.1, affine=True, track_running_stats=True)\n",
            "        (2): ReLU()\n",
            "      )\n",
            "      (conv_3x3): Sequential(\n",
            "        (0): Conv2d(64, 32, kernel_size=(1, 1), stride=(1, 1))\n",
            "        (1): BatchNorm2d(32, eps=1e-05, momentum=0.1, affine=True, track_running_stats=True)\n",
            "        (2): ReLU()\n",
            "        (3): Conv2d(32, 48, kernel_size=(3, 3), stride=(1, 1), padding=(1, 1))\n",
            "        (4): BatchNorm2d(48, eps=1e-05, momentum=0.1, affine=True, track_running_stats=True)\n",
            "        (5): ReLU()\n",
            "      )\n",
            "      (conv_5x5): Sequential(\n",
            "        (0): Conv2d(64, 16, kernel_size=(1, 1), stride=(1, 1))\n",
            "        (1): BatchNorm2d(16, eps=1e-05, momentum=0.1, affine=True, track_running_stats=True)\n",
            "        (2): ReLU()\n",
            "        (3): Conv2d(16, 12, kernel_size=(5, 5), stride=(1, 1), padding=(2, 2))\n",
            "        (4): BatchNorm2d(12, eps=1e-05, momentum=0.1, affine=True, track_running_stats=True)\n",
            "        (5): ReLU()\n",
            "      )\n",
            "      (max_pool): Sequential(\n",
            "        (0): MaxPool2d(kernel_size=3, stride=1, padding=1, dilation=1, ceil_mode=False)\n",
            "        (1): Conv2d(64, 12, kernel_size=(1, 1), stride=(1, 1))\n",
            "        (2): BatchNorm2d(12, eps=1e-05, momentum=0.1, affine=True, track_running_stats=True)\n",
            "        (3): ReLU()\n",
            "      )\n",
            "    )\n",
            "    (2): MaxPool2d(kernel_size=3, stride=2, padding=1, dilation=1, ceil_mode=False)\n",
            "    (3): InceptionBlock(\n",
            "      (conv_1x1): Sequential(\n",
            "        (0): Conv2d(96, 24, kernel_size=(1, 1), stride=(1, 1))\n",
            "        (1): BatchNorm2d(24, eps=1e-05, momentum=0.1, affine=True, track_running_stats=True)\n",
            "        (2): ReLU()\n",
            "      )\n",
            "      (conv_3x3): Sequential(\n",
            "        (0): Conv2d(96, 32, kernel_size=(1, 1), stride=(1, 1))\n",
            "        (1): BatchNorm2d(32, eps=1e-05, momentum=0.1, affine=True, track_running_stats=True)\n",
            "        (2): ReLU()\n",
            "        (3): Conv2d(32, 48, kernel_size=(3, 3), stride=(1, 1), padding=(1, 1))\n",
            "        (4): BatchNorm2d(48, eps=1e-05, momentum=0.1, affine=True, track_running_stats=True)\n",
            "        (5): ReLU()\n",
            "      )\n",
            "      (conv_5x5): Sequential(\n",
            "        (0): Conv2d(96, 16, kernel_size=(1, 1), stride=(1, 1))\n",
            "        (1): BatchNorm2d(16, eps=1e-05, momentum=0.1, affine=True, track_running_stats=True)\n",
            "        (2): ReLU()\n",
            "        (3): Conv2d(16, 12, kernel_size=(5, 5), stride=(1, 1), padding=(2, 2))\n",
            "        (4): BatchNorm2d(12, eps=1e-05, momentum=0.1, affine=True, track_running_stats=True)\n",
            "        (5): ReLU()\n",
            "      )\n",
            "      (max_pool): Sequential(\n",
            "        (0): MaxPool2d(kernel_size=3, stride=1, padding=1, dilation=1, ceil_mode=False)\n",
            "        (1): Conv2d(96, 12, kernel_size=(1, 1), stride=(1, 1))\n",
            "        (2): BatchNorm2d(12, eps=1e-05, momentum=0.1, affine=True, track_running_stats=True)\n",
            "        (3): ReLU()\n",
            "      )\n",
            "    )\n",
            "    (4): InceptionBlock(\n",
            "      (conv_1x1): Sequential(\n",
            "        (0): Conv2d(96, 16, kernel_size=(1, 1), stride=(1, 1))\n",
            "        (1): BatchNorm2d(16, eps=1e-05, momentum=0.1, affine=True, track_running_stats=True)\n",
            "        (2): ReLU()\n",
            "      )\n",
            "      (conv_3x3): Sequential(\n",
            "        (0): Conv2d(96, 32, kernel_size=(1, 1), stride=(1, 1))\n",
            "        (1): BatchNorm2d(32, eps=1e-05, momentum=0.1, affine=True, track_running_stats=True)\n",
            "        (2): ReLU()\n",
            "        (3): Conv2d(32, 48, kernel_size=(3, 3), stride=(1, 1), padding=(1, 1))\n",
            "        (4): BatchNorm2d(48, eps=1e-05, momentum=0.1, affine=True, track_running_stats=True)\n",
            "        (5): ReLU()\n",
            "      )\n",
            "      (conv_5x5): Sequential(\n",
            "        (0): Conv2d(96, 16, kernel_size=(1, 1), stride=(1, 1))\n",
            "        (1): BatchNorm2d(16, eps=1e-05, momentum=0.1, affine=True, track_running_stats=True)\n",
            "        (2): ReLU()\n",
            "        (3): Conv2d(16, 16, kernel_size=(5, 5), stride=(1, 1), padding=(2, 2))\n",
            "        (4): BatchNorm2d(16, eps=1e-05, momentum=0.1, affine=True, track_running_stats=True)\n",
            "        (5): ReLU()\n",
            "      )\n",
            "      (max_pool): Sequential(\n",
            "        (0): MaxPool2d(kernel_size=3, stride=1, padding=1, dilation=1, ceil_mode=False)\n",
            "        (1): Conv2d(96, 16, kernel_size=(1, 1), stride=(1, 1))\n",
            "        (2): BatchNorm2d(16, eps=1e-05, momentum=0.1, affine=True, track_running_stats=True)\n",
            "        (3): ReLU()\n",
            "      )\n",
            "    )\n",
            "    (5): InceptionBlock(\n",
            "      (conv_1x1): Sequential(\n",
            "        (0): Conv2d(96, 16, kernel_size=(1, 1), stride=(1, 1))\n",
            "        (1): BatchNorm2d(16, eps=1e-05, momentum=0.1, affine=True, track_running_stats=True)\n",
            "        (2): ReLU()\n",
            "      )\n",
            "      (conv_3x3): Sequential(\n",
            "        (0): Conv2d(96, 32, kernel_size=(1, 1), stride=(1, 1))\n",
            "        (1): BatchNorm2d(32, eps=1e-05, momentum=0.1, affine=True, track_running_stats=True)\n",
            "        (2): ReLU()\n",
            "        (3): Conv2d(32, 48, kernel_size=(3, 3), stride=(1, 1), padding=(1, 1))\n",
            "        (4): BatchNorm2d(48, eps=1e-05, momentum=0.1, affine=True, track_running_stats=True)\n",
            "        (5): ReLU()\n",
            "      )\n",
            "      (conv_5x5): Sequential(\n",
            "        (0): Conv2d(96, 16, kernel_size=(1, 1), stride=(1, 1))\n",
            "        (1): BatchNorm2d(16, eps=1e-05, momentum=0.1, affine=True, track_running_stats=True)\n",
            "        (2): ReLU()\n",
            "        (3): Conv2d(16, 16, kernel_size=(5, 5), stride=(1, 1), padding=(2, 2))\n",
            "        (4): BatchNorm2d(16, eps=1e-05, momentum=0.1, affine=True, track_running_stats=True)\n",
            "        (5): ReLU()\n",
            "      )\n",
            "      (max_pool): Sequential(\n",
            "        (0): MaxPool2d(kernel_size=3, stride=1, padding=1, dilation=1, ceil_mode=False)\n",
            "        (1): Conv2d(96, 16, kernel_size=(1, 1), stride=(1, 1))\n",
            "        (2): BatchNorm2d(16, eps=1e-05, momentum=0.1, affine=True, track_running_stats=True)\n",
            "        (3): ReLU()\n",
            "      )\n",
            "    )\n",
            "    (6): InceptionBlock(\n",
            "      (conv_1x1): Sequential(\n",
            "        (0): Conv2d(96, 32, kernel_size=(1, 1), stride=(1, 1))\n",
            "        (1): BatchNorm2d(32, eps=1e-05, momentum=0.1, affine=True, track_running_stats=True)\n",
            "        (2): ReLU()\n",
            "      )\n",
            "      (conv_3x3): Sequential(\n",
            "        (0): Conv2d(96, 32, kernel_size=(1, 1), stride=(1, 1))\n",
            "        (1): BatchNorm2d(32, eps=1e-05, momentum=0.1, affine=True, track_running_stats=True)\n",
            "        (2): ReLU()\n",
            "        (3): Conv2d(32, 48, kernel_size=(3, 3), stride=(1, 1), padding=(1, 1))\n",
            "        (4): BatchNorm2d(48, eps=1e-05, momentum=0.1, affine=True, track_running_stats=True)\n",
            "        (5): ReLU()\n",
            "      )\n",
            "      (conv_5x5): Sequential(\n",
            "        (0): Conv2d(96, 16, kernel_size=(1, 1), stride=(1, 1))\n",
            "        (1): BatchNorm2d(16, eps=1e-05, momentum=0.1, affine=True, track_running_stats=True)\n",
            "        (2): ReLU()\n",
            "        (3): Conv2d(16, 24, kernel_size=(5, 5), stride=(1, 1), padding=(2, 2))\n",
            "        (4): BatchNorm2d(24, eps=1e-05, momentum=0.1, affine=True, track_running_stats=True)\n",
            "        (5): ReLU()\n",
            "      )\n",
            "      (max_pool): Sequential(\n",
            "        (0): MaxPool2d(kernel_size=3, stride=1, padding=1, dilation=1, ceil_mode=False)\n",
            "        (1): Conv2d(96, 24, kernel_size=(1, 1), stride=(1, 1))\n",
            "        (2): BatchNorm2d(24, eps=1e-05, momentum=0.1, affine=True, track_running_stats=True)\n",
            "        (3): ReLU()\n",
            "      )\n",
            "    )\n",
            "    (7): MaxPool2d(kernel_size=3, stride=2, padding=1, dilation=1, ceil_mode=False)\n",
            "    (8): InceptionBlock(\n",
            "      (conv_1x1): Sequential(\n",
            "        (0): Conv2d(128, 32, kernel_size=(1, 1), stride=(1, 1))\n",
            "        (1): BatchNorm2d(32, eps=1e-05, momentum=0.1, affine=True, track_running_stats=True)\n",
            "        (2): ReLU()\n",
            "      )\n",
            "      (conv_3x3): Sequential(\n",
            "        (0): Conv2d(128, 48, kernel_size=(1, 1), stride=(1, 1))\n",
            "        (1): BatchNorm2d(48, eps=1e-05, momentum=0.1, affine=True, track_running_stats=True)\n",
            "        (2): ReLU()\n",
            "        (3): Conv2d(48, 64, kernel_size=(3, 3), stride=(1, 1), padding=(1, 1))\n",
            "        (4): BatchNorm2d(64, eps=1e-05, momentum=0.1, affine=True, track_running_stats=True)\n",
            "        (5): ReLU()\n",
            "      )\n",
            "      (conv_5x5): Sequential(\n",
            "        (0): Conv2d(128, 16, kernel_size=(1, 1), stride=(1, 1))\n",
            "        (1): BatchNorm2d(16, eps=1e-05, momentum=0.1, affine=True, track_running_stats=True)\n",
            "        (2): ReLU()\n",
            "        (3): Conv2d(16, 16, kernel_size=(5, 5), stride=(1, 1), padding=(2, 2))\n",
            "        (4): BatchNorm2d(16, eps=1e-05, momentum=0.1, affine=True, track_running_stats=True)\n",
            "        (5): ReLU()\n",
            "      )\n",
            "      (max_pool): Sequential(\n",
            "        (0): MaxPool2d(kernel_size=3, stride=1, padding=1, dilation=1, ceil_mode=False)\n",
            "        (1): Conv2d(128, 16, kernel_size=(1, 1), stride=(1, 1))\n",
            "        (2): BatchNorm2d(16, eps=1e-05, momentum=0.1, affine=True, track_running_stats=True)\n",
            "        (3): ReLU()\n",
            "      )\n",
            "    )\n",
            "    (9): InceptionBlock(\n",
            "      (conv_1x1): Sequential(\n",
            "        (0): Conv2d(128, 32, kernel_size=(1, 1), stride=(1, 1))\n",
            "        (1): BatchNorm2d(32, eps=1e-05, momentum=0.1, affine=True, track_running_stats=True)\n",
            "        (2): ReLU()\n",
            "      )\n",
            "      (conv_3x3): Sequential(\n",
            "        (0): Conv2d(128, 48, kernel_size=(1, 1), stride=(1, 1))\n",
            "        (1): BatchNorm2d(48, eps=1e-05, momentum=0.1, affine=True, track_running_stats=True)\n",
            "        (2): ReLU()\n",
            "        (3): Conv2d(48, 64, kernel_size=(3, 3), stride=(1, 1), padding=(1, 1))\n",
            "        (4): BatchNorm2d(64, eps=1e-05, momentum=0.1, affine=True, track_running_stats=True)\n",
            "        (5): ReLU()\n",
            "      )\n",
            "      (conv_5x5): Sequential(\n",
            "        (0): Conv2d(128, 16, kernel_size=(1, 1), stride=(1, 1))\n",
            "        (1): BatchNorm2d(16, eps=1e-05, momentum=0.1, affine=True, track_running_stats=True)\n",
            "        (2): ReLU()\n",
            "        (3): Conv2d(16, 16, kernel_size=(5, 5), stride=(1, 1), padding=(2, 2))\n",
            "        (4): BatchNorm2d(16, eps=1e-05, momentum=0.1, affine=True, track_running_stats=True)\n",
            "        (5): ReLU()\n",
            "      )\n",
            "      (max_pool): Sequential(\n",
            "        (0): MaxPool2d(kernel_size=3, stride=1, padding=1, dilation=1, ceil_mode=False)\n",
            "        (1): Conv2d(128, 16, kernel_size=(1, 1), stride=(1, 1))\n",
            "        (2): BatchNorm2d(16, eps=1e-05, momentum=0.1, affine=True, track_running_stats=True)\n",
            "        (3): ReLU()\n",
            "      )\n",
            "    )\n",
            "  )\n",
            "  (output_net): Sequential(\n",
            "    (0): AdaptiveAvgPool2d(output_size=(1, 1))\n",
            "    (1): Flatten(start_dim=1, end_dim=-1)\n",
            "    (2): Linear(in_features=128, out_features=10, bias=True)\n",
            "  )\n",
            ")\n"
          ]
        },
        {
          "name": "stderr",
          "output_type": "stream",
          "text": [
            "\n",
            "  | Name        | Type             | Params | In sizes       | Out sizes\n",
            "------------------------------------------------------------------------------\n",
            "0 | model       | GoogleNet        | 260 K  | [1, 3, 32, 32] | [1, 10]  \n",
            "1 | loss_module | CrossEntropyLoss | 0      | ?              | ?        \n",
            "------------------------------------------------------------------------------\n",
            "260 K     Trainable params\n",
            "0         Non-trainable params\n",
            "260 K     Total params\n",
            "1.043     Total estimated model params size (MB)\n"
          ]
        },
        {
          "data": {
            "application/vnd.jupyter.widget-view+json": {
              "model_id": "7d5e1027f98941e7a7972801d342719a",
              "version_major": 2,
              "version_minor": 0
            },
            "text/plain": [
              "Sanity Checking: 0it [00:00, ?it/s]"
            ]
          },
          "metadata": {},
          "output_type": "display_data"
        },
        {
          "data": {
            "application/vnd.jupyter.widget-view+json": {
              "model_id": "73a0874768bc47a1bf4b2c1ec79a0ef4",
              "version_major": 2,
              "version_minor": 0
            },
            "text/plain": [
              "Training: 0it [00:00, ?it/s]"
            ]
          },
          "metadata": {},
          "output_type": "display_data"
        },
        {
          "data": {
            "application/vnd.jupyter.widget-view+json": {
              "model_id": "1fec7126c45d48e7800fd2e446f6a2b1",
              "version_major": 2,
              "version_minor": 0
            },
            "text/plain": [
              "Validation: 0it [00:00, ?it/s]"
            ]
          },
          "metadata": {},
          "output_type": "display_data"
        },
        {
          "data": {
            "application/vnd.jupyter.widget-view+json": {
              "model_id": "98a0295181a041699feffbf5ed7a2dc6",
              "version_major": 2,
              "version_minor": 0
            },
            "text/plain": [
              "Validation: 0it [00:00, ?it/s]"
            ]
          },
          "metadata": {},
          "output_type": "display_data"
        },
        {
          "data": {
            "application/vnd.jupyter.widget-view+json": {
              "model_id": "7a4f8e451c2044e8b03ba06d7bde187d",
              "version_major": 2,
              "version_minor": 0
            },
            "text/plain": [
              "Validation: 0it [00:00, ?it/s]"
            ]
          },
          "metadata": {},
          "output_type": "display_data"
        },
        {
          "data": {
            "application/vnd.jupyter.widget-view+json": {
              "model_id": "826114f88de74922b2973db8cc46dc29",
              "version_major": 2,
              "version_minor": 0
            },
            "text/plain": [
              "Validation: 0it [00:00, ?it/s]"
            ]
          },
          "metadata": {},
          "output_type": "display_data"
        },
        {
          "name": "stderr",
          "output_type": "stream",
          "text": [
            "`Trainer.fit` stopped: `max_epochs=4` reached.\n"
          ]
        },
        {
          "name": "stdout",
          "output_type": "stream",
          "text": [
            "model_hparams: {'act_fn': <class 'spotPython.torch.activation.ReLU'>, 'optimizer_name': 'Adam'}\n",
            "self.hparams: \"model_hparams\":     {'act_fn': <class 'spotPython.torch.activation.ReLU'>, 'optimizer_name': 'Adam'}\n",
            "\"model_name\":        GoogleNet\n",
            "\"optimizer_hparams\": {'lr': 0.001, 'weight_decay': 0.0001}\n",
            "\"optimizer_name\":    Adam\n",
            "create_model: Starting\n",
            "model_name: GoogleNet\n",
            "model_hparams: {'act_fn': <class 'spotPython.torch.activation.ReLU'>, 'optimizer_name': 'Adam'}\n",
            "self.model: GoogleNet(\n",
            "  (input_net): Sequential(\n",
            "    (0): Conv2d(3, 64, kernel_size=(3, 3), stride=(1, 1), padding=(1, 1))\n",
            "    (1): BatchNorm2d(64, eps=1e-05, momentum=0.1, affine=True, track_running_stats=True)\n",
            "    (2): ReLU()\n",
            "  )\n",
            "  (inception_blocks): Sequential(\n",
            "    (0): InceptionBlock(\n",
            "      (conv_1x1): Sequential(\n",
            "        (0): Conv2d(64, 16, kernel_size=(1, 1), stride=(1, 1))\n",
            "        (1): BatchNorm2d(16, eps=1e-05, momentum=0.1, affine=True, track_running_stats=True)\n",
            "        (2): ReLU()\n",
            "      )\n",
            "      (conv_3x3): Sequential(\n",
            "        (0): Conv2d(64, 32, kernel_size=(1, 1), stride=(1, 1))\n",
            "        (1): BatchNorm2d(32, eps=1e-05, momentum=0.1, affine=True, track_running_stats=True)\n",
            "        (2): ReLU()\n",
            "        (3): Conv2d(32, 32, kernel_size=(3, 3), stride=(1, 1), padding=(1, 1))\n",
            "        (4): BatchNorm2d(32, eps=1e-05, momentum=0.1, affine=True, track_running_stats=True)\n",
            "        (5): ReLU()\n",
            "      )\n",
            "      (conv_5x5): Sequential(\n",
            "        (0): Conv2d(64, 16, kernel_size=(1, 1), stride=(1, 1))\n",
            "        (1): BatchNorm2d(16, eps=1e-05, momentum=0.1, affine=True, track_running_stats=True)\n",
            "        (2): ReLU()\n",
            "        (3): Conv2d(16, 8, kernel_size=(5, 5), stride=(1, 1), padding=(2, 2))\n",
            "        (4): BatchNorm2d(8, eps=1e-05, momentum=0.1, affine=True, track_running_stats=True)\n",
            "        (5): ReLU()\n",
            "      )\n",
            "      (max_pool): Sequential(\n",
            "        (0): MaxPool2d(kernel_size=3, stride=1, padding=1, dilation=1, ceil_mode=False)\n",
            "        (1): Conv2d(64, 8, kernel_size=(1, 1), stride=(1, 1))\n",
            "        (2): BatchNorm2d(8, eps=1e-05, momentum=0.1, affine=True, track_running_stats=True)\n",
            "        (3): ReLU()\n",
            "      )\n",
            "    )\n",
            "    (1): InceptionBlock(\n",
            "      (conv_1x1): Sequential(\n",
            "        (0): Conv2d(64, 24, kernel_size=(1, 1), stride=(1, 1))\n",
            "        (1): BatchNorm2d(24, eps=1e-05, momentum=0.1, affine=True, track_running_stats=True)\n",
            "        (2): ReLU()\n",
            "      )\n",
            "      (conv_3x3): Sequential(\n",
            "        (0): Conv2d(64, 32, kernel_size=(1, 1), stride=(1, 1))\n",
            "        (1): BatchNorm2d(32, eps=1e-05, momentum=0.1, affine=True, track_running_stats=True)\n",
            "        (2): ReLU()\n",
            "        (3): Conv2d(32, 48, kernel_size=(3, 3), stride=(1, 1), padding=(1, 1))\n",
            "        (4): BatchNorm2d(48, eps=1e-05, momentum=0.1, affine=True, track_running_stats=True)\n",
            "        (5): ReLU()\n",
            "      )\n",
            "      (conv_5x5): Sequential(\n",
            "        (0): Conv2d(64, 16, kernel_size=(1, 1), stride=(1, 1))\n",
            "        (1): BatchNorm2d(16, eps=1e-05, momentum=0.1, affine=True, track_running_stats=True)\n",
            "        (2): ReLU()\n",
            "        (3): Conv2d(16, 12, kernel_size=(5, 5), stride=(1, 1), padding=(2, 2))\n",
            "        (4): BatchNorm2d(12, eps=1e-05, momentum=0.1, affine=True, track_running_stats=True)\n",
            "        (5): ReLU()\n",
            "      )\n",
            "      (max_pool): Sequential(\n",
            "        (0): MaxPool2d(kernel_size=3, stride=1, padding=1, dilation=1, ceil_mode=False)\n",
            "        (1): Conv2d(64, 12, kernel_size=(1, 1), stride=(1, 1))\n",
            "        (2): BatchNorm2d(12, eps=1e-05, momentum=0.1, affine=True, track_running_stats=True)\n",
            "        (3): ReLU()\n",
            "      )\n",
            "    )\n",
            "    (2): MaxPool2d(kernel_size=3, stride=2, padding=1, dilation=1, ceil_mode=False)\n",
            "    (3): InceptionBlock(\n",
            "      (conv_1x1): Sequential(\n",
            "        (0): Conv2d(96, 24, kernel_size=(1, 1), stride=(1, 1))\n",
            "        (1): BatchNorm2d(24, eps=1e-05, momentum=0.1, affine=True, track_running_stats=True)\n",
            "        (2): ReLU()\n",
            "      )\n",
            "      (conv_3x3): Sequential(\n",
            "        (0): Conv2d(96, 32, kernel_size=(1, 1), stride=(1, 1))\n",
            "        (1): BatchNorm2d(32, eps=1e-05, momentum=0.1, affine=True, track_running_stats=True)\n",
            "        (2): ReLU()\n",
            "        (3): Conv2d(32, 48, kernel_size=(3, 3), stride=(1, 1), padding=(1, 1))\n",
            "        (4): BatchNorm2d(48, eps=1e-05, momentum=0.1, affine=True, track_running_stats=True)\n",
            "        (5): ReLU()\n",
            "      )\n",
            "      (conv_5x5): Sequential(\n",
            "        (0): Conv2d(96, 16, kernel_size=(1, 1), stride=(1, 1))\n",
            "        (1): BatchNorm2d(16, eps=1e-05, momentum=0.1, affine=True, track_running_stats=True)\n",
            "        (2): ReLU()\n",
            "        (3): Conv2d(16, 12, kernel_size=(5, 5), stride=(1, 1), padding=(2, 2))\n",
            "        (4): BatchNorm2d(12, eps=1e-05, momentum=0.1, affine=True, track_running_stats=True)\n",
            "        (5): ReLU()\n",
            "      )\n",
            "      (max_pool): Sequential(\n",
            "        (0): MaxPool2d(kernel_size=3, stride=1, padding=1, dilation=1, ceil_mode=False)\n",
            "        (1): Conv2d(96, 12, kernel_size=(1, 1), stride=(1, 1))\n",
            "        (2): BatchNorm2d(12, eps=1e-05, momentum=0.1, affine=True, track_running_stats=True)\n",
            "        (3): ReLU()\n",
            "      )\n",
            "    )\n",
            "    (4): InceptionBlock(\n",
            "      (conv_1x1): Sequential(\n",
            "        (0): Conv2d(96, 16, kernel_size=(1, 1), stride=(1, 1))\n",
            "        (1): BatchNorm2d(16, eps=1e-05, momentum=0.1, affine=True, track_running_stats=True)\n",
            "        (2): ReLU()\n",
            "      )\n",
            "      (conv_3x3): Sequential(\n",
            "        (0): Conv2d(96, 32, kernel_size=(1, 1), stride=(1, 1))\n",
            "        (1): BatchNorm2d(32, eps=1e-05, momentum=0.1, affine=True, track_running_stats=True)\n",
            "        (2): ReLU()\n",
            "        (3): Conv2d(32, 48, kernel_size=(3, 3), stride=(1, 1), padding=(1, 1))\n",
            "        (4): BatchNorm2d(48, eps=1e-05, momentum=0.1, affine=True, track_running_stats=True)\n",
            "        (5): ReLU()\n",
            "      )\n",
            "      (conv_5x5): Sequential(\n",
            "        (0): Conv2d(96, 16, kernel_size=(1, 1), stride=(1, 1))\n",
            "        (1): BatchNorm2d(16, eps=1e-05, momentum=0.1, affine=True, track_running_stats=True)\n",
            "        (2): ReLU()\n",
            "        (3): Conv2d(16, 16, kernel_size=(5, 5), stride=(1, 1), padding=(2, 2))\n",
            "        (4): BatchNorm2d(16, eps=1e-05, momentum=0.1, affine=True, track_running_stats=True)\n",
            "        (5): ReLU()\n",
            "      )\n",
            "      (max_pool): Sequential(\n",
            "        (0): MaxPool2d(kernel_size=3, stride=1, padding=1, dilation=1, ceil_mode=False)\n",
            "        (1): Conv2d(96, 16, kernel_size=(1, 1), stride=(1, 1))\n",
            "        (2): BatchNorm2d(16, eps=1e-05, momentum=0.1, affine=True, track_running_stats=True)\n",
            "        (3): ReLU()\n",
            "      )\n",
            "    )\n",
            "    (5): InceptionBlock(\n",
            "      (conv_1x1): Sequential(\n",
            "        (0): Conv2d(96, 16, kernel_size=(1, 1), stride=(1, 1))\n",
            "        (1): BatchNorm2d(16, eps=1e-05, momentum=0.1, affine=True, track_running_stats=True)\n",
            "        (2): ReLU()\n",
            "      )\n",
            "      (conv_3x3): Sequential(\n",
            "        (0): Conv2d(96, 32, kernel_size=(1, 1), stride=(1, 1))\n",
            "        (1): BatchNorm2d(32, eps=1e-05, momentum=0.1, affine=True, track_running_stats=True)\n",
            "        (2): ReLU()\n",
            "        (3): Conv2d(32, 48, kernel_size=(3, 3), stride=(1, 1), padding=(1, 1))\n",
            "        (4): BatchNorm2d(48, eps=1e-05, momentum=0.1, affine=True, track_running_stats=True)\n",
            "        (5): ReLU()\n",
            "      )\n",
            "      (conv_5x5): Sequential(\n",
            "        (0): Conv2d(96, 16, kernel_size=(1, 1), stride=(1, 1))\n",
            "        (1): BatchNorm2d(16, eps=1e-05, momentum=0.1, affine=True, track_running_stats=True)\n",
            "        (2): ReLU()\n",
            "        (3): Conv2d(16, 16, kernel_size=(5, 5), stride=(1, 1), padding=(2, 2))\n",
            "        (4): BatchNorm2d(16, eps=1e-05, momentum=0.1, affine=True, track_running_stats=True)\n",
            "        (5): ReLU()\n",
            "      )\n",
            "      (max_pool): Sequential(\n",
            "        (0): MaxPool2d(kernel_size=3, stride=1, padding=1, dilation=1, ceil_mode=False)\n",
            "        (1): Conv2d(96, 16, kernel_size=(1, 1), stride=(1, 1))\n",
            "        (2): BatchNorm2d(16, eps=1e-05, momentum=0.1, affine=True, track_running_stats=True)\n",
            "        (3): ReLU()\n",
            "      )\n",
            "    )\n",
            "    (6): InceptionBlock(\n",
            "      (conv_1x1): Sequential(\n",
            "        (0): Conv2d(96, 32, kernel_size=(1, 1), stride=(1, 1))\n",
            "        (1): BatchNorm2d(32, eps=1e-05, momentum=0.1, affine=True, track_running_stats=True)\n",
            "        (2): ReLU()\n",
            "      )\n",
            "      (conv_3x3): Sequential(\n",
            "        (0): Conv2d(96, 32, kernel_size=(1, 1), stride=(1, 1))\n",
            "        (1): BatchNorm2d(32, eps=1e-05, momentum=0.1, affine=True, track_running_stats=True)\n",
            "        (2): ReLU()\n",
            "        (3): Conv2d(32, 48, kernel_size=(3, 3), stride=(1, 1), padding=(1, 1))\n",
            "        (4): BatchNorm2d(48, eps=1e-05, momentum=0.1, affine=True, track_running_stats=True)\n",
            "        (5): ReLU()\n",
            "      )\n",
            "      (conv_5x5): Sequential(\n",
            "        (0): Conv2d(96, 16, kernel_size=(1, 1), stride=(1, 1))\n",
            "        (1): BatchNorm2d(16, eps=1e-05, momentum=0.1, affine=True, track_running_stats=True)\n",
            "        (2): ReLU()\n",
            "        (3): Conv2d(16, 24, kernel_size=(5, 5), stride=(1, 1), padding=(2, 2))\n",
            "        (4): BatchNorm2d(24, eps=1e-05, momentum=0.1, affine=True, track_running_stats=True)\n",
            "        (5): ReLU()\n",
            "      )\n",
            "      (max_pool): Sequential(\n",
            "        (0): MaxPool2d(kernel_size=3, stride=1, padding=1, dilation=1, ceil_mode=False)\n",
            "        (1): Conv2d(96, 24, kernel_size=(1, 1), stride=(1, 1))\n",
            "        (2): BatchNorm2d(24, eps=1e-05, momentum=0.1, affine=True, track_running_stats=True)\n",
            "        (3): ReLU()\n",
            "      )\n",
            "    )\n",
            "    (7): MaxPool2d(kernel_size=3, stride=2, padding=1, dilation=1, ceil_mode=False)\n",
            "    (8): InceptionBlock(\n",
            "      (conv_1x1): Sequential(\n",
            "        (0): Conv2d(128, 32, kernel_size=(1, 1), stride=(1, 1))\n",
            "        (1): BatchNorm2d(32, eps=1e-05, momentum=0.1, affine=True, track_running_stats=True)\n",
            "        (2): ReLU()\n",
            "      )\n",
            "      (conv_3x3): Sequential(\n",
            "        (0): Conv2d(128, 48, kernel_size=(1, 1), stride=(1, 1))\n",
            "        (1): BatchNorm2d(48, eps=1e-05, momentum=0.1, affine=True, track_running_stats=True)\n",
            "        (2): ReLU()\n",
            "        (3): Conv2d(48, 64, kernel_size=(3, 3), stride=(1, 1), padding=(1, 1))\n",
            "        (4): BatchNorm2d(64, eps=1e-05, momentum=0.1, affine=True, track_running_stats=True)\n",
            "        (5): ReLU()\n",
            "      )\n",
            "      (conv_5x5): Sequential(\n",
            "        (0): Conv2d(128, 16, kernel_size=(1, 1), stride=(1, 1))\n",
            "        (1): BatchNorm2d(16, eps=1e-05, momentum=0.1, affine=True, track_running_stats=True)\n",
            "        (2): ReLU()\n",
            "        (3): Conv2d(16, 16, kernel_size=(5, 5), stride=(1, 1), padding=(2, 2))\n",
            "        (4): BatchNorm2d(16, eps=1e-05, momentum=0.1, affine=True, track_running_stats=True)\n",
            "        (5): ReLU()\n",
            "      )\n",
            "      (max_pool): Sequential(\n",
            "        (0): MaxPool2d(kernel_size=3, stride=1, padding=1, dilation=1, ceil_mode=False)\n",
            "        (1): Conv2d(128, 16, kernel_size=(1, 1), stride=(1, 1))\n",
            "        (2): BatchNorm2d(16, eps=1e-05, momentum=0.1, affine=True, track_running_stats=True)\n",
            "        (3): ReLU()\n",
            "      )\n",
            "    )\n",
            "    (9): InceptionBlock(\n",
            "      (conv_1x1): Sequential(\n",
            "        (0): Conv2d(128, 32, kernel_size=(1, 1), stride=(1, 1))\n",
            "        (1): BatchNorm2d(32, eps=1e-05, momentum=0.1, affine=True, track_running_stats=True)\n",
            "        (2): ReLU()\n",
            "      )\n",
            "      (conv_3x3): Sequential(\n",
            "        (0): Conv2d(128, 48, kernel_size=(1, 1), stride=(1, 1))\n",
            "        (1): BatchNorm2d(48, eps=1e-05, momentum=0.1, affine=True, track_running_stats=True)\n",
            "        (2): ReLU()\n",
            "        (3): Conv2d(48, 64, kernel_size=(3, 3), stride=(1, 1), padding=(1, 1))\n",
            "        (4): BatchNorm2d(64, eps=1e-05, momentum=0.1, affine=True, track_running_stats=True)\n",
            "        (5): ReLU()\n",
            "      )\n",
            "      (conv_5x5): Sequential(\n",
            "        (0): Conv2d(128, 16, kernel_size=(1, 1), stride=(1, 1))\n",
            "        (1): BatchNorm2d(16, eps=1e-05, momentum=0.1, affine=True, track_running_stats=True)\n",
            "        (2): ReLU()\n",
            "        (3): Conv2d(16, 16, kernel_size=(5, 5), stride=(1, 1), padding=(2, 2))\n",
            "        (4): BatchNorm2d(16, eps=1e-05, momentum=0.1, affine=True, track_running_stats=True)\n",
            "        (5): ReLU()\n",
            "      )\n",
            "      (max_pool): Sequential(\n",
            "        (0): MaxPool2d(kernel_size=3, stride=1, padding=1, dilation=1, ceil_mode=False)\n",
            "        (1): Conv2d(128, 16, kernel_size=(1, 1), stride=(1, 1))\n",
            "        (2): BatchNorm2d(16, eps=1e-05, momentum=0.1, affine=True, track_running_stats=True)\n",
            "        (3): ReLU()\n",
            "      )\n",
            "    )\n",
            "  )\n",
            "  (output_net): Sequential(\n",
            "    (0): AdaptiveAvgPool2d(output_size=(1, 1))\n",
            "    (1): Flatten(start_dim=1, end_dim=-1)\n",
            "    (2): Linear(in_features=128, out_features=10, bias=True)\n",
            "  )\n",
            ")\n"
          ]
        },
        {
          "data": {
            "application/vnd.jupyter.widget-view+json": {
              "model_id": "171daae942a546a6befd57077ff6086a",
              "version_major": 2,
              "version_minor": 0
            },
            "text/plain": [
              "Testing: 0it [00:00, ?it/s]"
            ]
          },
          "metadata": {},
          "output_type": "display_data"
        },
        {
          "data": {
            "application/vnd.jupyter.widget-view+json": {
              "model_id": "11ba43c6ece141d993306bfcf147f3d9",
              "version_major": 2,
              "version_minor": 0
            },
            "text/plain": [
              "Testing: 0it [00:00, ?it/s]"
            ]
          },
          "metadata": {},
          "output_type": "display_data"
        },
        {
          "name": "stdout",
          "output_type": "stream",
          "text": [
            "fun: train_model returned\n"
          ]
        },
        {
          "ename": "TypeError",
          "evalue": "can't multiply sequence by non-int of type 'float'",
          "output_type": "error",
          "traceback": [
            "\u001b[0;31m---------------------------------------------------------------------------\u001b[0m",
            "\u001b[0;31mTypeError\u001b[0m                                 Traceback (most recent call last)",
            "\u001b[1;32m/Users/bartz/workspace/Hyperparameter-Tuning-Cookbook/33_spot_light_cnn_cifar10.ipynb Cell 58\u001b[0m in \u001b[0;36m3\n\u001b[1;32m     <a href='vscode-notebook-cell:/Users/bartz/workspace/Hyperparameter-Tuning-Cookbook/33_spot_light_cnn_cifar10.ipynb#Y221sZmlsZQ%3D%3D?line=26'>27</a>\u001b[0m X_start \u001b[39m=\u001b[39m get_default_hyperparameters_as_array(fun_control)\n\u001b[1;32m     <a href='vscode-notebook-cell:/Users/bartz/workspace/Hyperparameter-Tuning-Cookbook/33_spot_light_cnn_cifar10.ipynb#Y221sZmlsZQ%3D%3D?line=28'>29</a>\u001b[0m hyper_light \u001b[39m=\u001b[39m HyperLightning(seed\u001b[39m=\u001b[39m\u001b[39m126\u001b[39m, log_level\u001b[39m=\u001b[39m\u001b[39m50\u001b[39m)\n\u001b[0;32m---> <a href='vscode-notebook-cell:/Users/bartz/workspace/Hyperparameter-Tuning-Cookbook/33_spot_light_cnn_cifar10.ipynb#Y221sZmlsZQ%3D%3D?line=29'>30</a>\u001b[0m hyper_light\u001b[39m.\u001b[39;49mfun(X\u001b[39m=\u001b[39;49mX_start, fun_control\u001b[39m=\u001b[39;49mfun_control)\n",
            "File \u001b[0;32m~/miniforge3/envs/spotCondaEnv/lib/python3.10/site-packages/spotPython/fun/hyperlightning.py:156\u001b[0m, in \u001b[0;36mHyperLightning.fun\u001b[0;34m(self, X, fun_control)\u001b[0m\n\u001b[1;32m    154\u001b[0m         logger\u001b[39m.\u001b[39merror(\u001b[39m\"\u001b[39m\u001b[39mSetting df_eval to np.nan\u001b[39m\u001b[39m\"\u001b[39m)\n\u001b[1;32m    155\u001b[0m         df_eval \u001b[39m=\u001b[39m np\u001b[39m.\u001b[39mnan\n\u001b[0;32m--> 156\u001b[0m     z_val \u001b[39m=\u001b[39m \u001b[39mself\u001b[39;49m\u001b[39m.\u001b[39;49mfun_control[\u001b[39m\"\u001b[39;49m\u001b[39mweights\u001b[39;49m\u001b[39m\"\u001b[39;49m] \u001b[39m*\u001b[39;49m df_eval\n\u001b[1;32m    157\u001b[0m     z_res \u001b[39m=\u001b[39m np\u001b[39m.\u001b[39mappend(z_res, z_val)\n\u001b[1;32m    158\u001b[0m \u001b[39mreturn\u001b[39;00m z_res\n",
            "\u001b[0;31mTypeError\u001b[0m: can't multiply sequence by non-int of type 'float'"
          ]
        }
      ],
      "source": [
        "from spotPython.utils.init import fun_control_init\n",
        "from spotPython.utils.file import get_experiment_name, get_spot_tensorboard_path\n",
        "from spotPython.utils.device import getDevice\n",
        "from spotPython.light.cnn.googlenet import GoogleNet\n",
        "from spotPython.data.lightning_hyper_dict import LightningHyperDict\n",
        "from spotPython.hyperparameters.values import add_core_model_to_fun_control\n",
        "from spotPython.fun.hyperlightning import HyperLightning\n",
        "from spotPython.hyperparameters.values import get_default_hyperparameters_as_array\n",
        "\n",
        "MAX_TIME = 1\n",
        "INIT_SIZE = 3\n",
        "WORKERS = 8\n",
        "PREFIX=\"TEST\"\n",
        "experiment_name = get_experiment_name(prefix=PREFIX)\n",
        "fun_control = fun_control_init(\n",
        "    spot_tensorboard_path=get_spot_tensorboard_path(experiment_name),\n",
        "    num_workers=WORKERS,\n",
        "    device=getDevice(),\n",
        "    _L_in=3,\n",
        "    _L_out=10,\n",
        "    TENSORBOARD_CLEAN=True)\n",
        "\n",
        "add_core_model_to_fun_control(core_model=GoogleNet,\n",
        "                            fun_control=fun_control,\n",
        "                            hyper_dict= LightningHyperDict)\n",
        "\n",
        "X_start = get_default_hyperparameters_as_array(fun_control)\n",
        "\n",
        "hyper_light = HyperLightning(seed=126, log_level=50)\n",
        "hyper_light.fun(X=X_start, fun_control=fun_control)"
      ]
    },
    {
      "cell_type": "code",
      "execution_count": null,
      "metadata": {},
      "outputs": [],
      "source": [
        "fun_control['core_model']\n"
      ]
    },
    {
      "cell_type": "code",
      "execution_count": null,
      "metadata": {},
      "outputs": [],
      "source": []
    }
  ],
  "metadata": {
    "kernelspec": {
      "display_name": "Python 3 (ipykernel)",
      "language": "python",
      "name": "python3"
    },
    "language_info": {
      "codemirror_mode": {
        "name": "ipython",
        "version": 3
      },
      "file_extension": ".py",
      "mimetype": "text/x-python",
      "name": "python",
      "nbconvert_exporter": "python",
      "pygments_lexer": "ipython3",
      "version": "3.10.12"
    }
  },
  "nbformat": 4,
  "nbformat_minor": 4
}
