{
  "cells": [
    {
      "cell_type": "raw",
      "metadata": {},
      "source": [
        "---\n",
        "execute:\n",
        "  cache: false\n",
        "  eval: true\n",
        "  echo: true\n",
        "  warning: false\n",
        "---"
      ],
      "id": "00cf0aea"
    },
    {
      "cell_type": "markdown",
      "metadata": {},
      "source": [
        "# Documentation of the Sequential Parameter Optimization\n",
        "\n",
        "This document describes the `Spot` features. The official `spotPython` documentation can be found here: [https://sequential-parameter-optimization.github.io/spotPython/](https://sequential-parameter-optimization.github.io/spotPython/).\n",
        "\n",
        "## An Initial Example\n"
      ],
      "id": "8db4f6a8"
    },
    {
      "cell_type": "code",
      "metadata": {},
      "source": [
        "import numpy as np\n",
        "from math import inf\n",
        "from spotPython.fun.objectivefunctions import analytical\n",
        "from spotPython.spot import spot\n",
        "from scipy.optimize import shgo\n",
        "from scipy.optimize import direct\n",
        "from scipy.optimize import differential_evolution\n",
        "import matplotlib.pyplot as plt"
      ],
      "id": "fe31e4bc",
      "execution_count": null,
      "outputs": []
    },
    {
      "cell_type": "markdown",
      "metadata": {},
      "source": [
        "The `spotPython` package provides several classes of objective functions. We will use an analytical objective function, i.e., a function that can be described by a (closed) formula:\n",
        "$$\n",
        "f(x) = x^2.\n",
        "$$\n"
      ],
      "id": "ab2c5a5c"
    },
    {
      "cell_type": "code",
      "metadata": {},
      "source": [
        "fun = analytical().fun_sphere"
      ],
      "id": "ea049999",
      "execution_count": null,
      "outputs": []
    },
    {
      "cell_type": "code",
      "metadata": {},
      "source": [
        "x = np.linspace(-1,1,100).reshape(-1,1)\n",
        "y = fun(x)\n",
        "plt.figure()\n",
        "plt.plot(x,y, \"k\")\n",
        "plt.show()"
      ],
      "id": "732cbcd9",
      "execution_count": null,
      "outputs": []
    },
    {
      "cell_type": "code",
      "metadata": {},
      "source": [
        "from spotPython.utils.init import fun_control_init, design_control_init, surrogate_control_init, optimizer_control_init\n",
        "spot_1 = spot.Spot(fun=fun,\n",
        "                   fun_control=fun_control_init(\n",
        "                        lower = np.array([-10]),\n",
        "                        upper = np.array([100]),\n",
        "                        fun_evals = 7,\n",
        "                        fun_repeats = 1,\n",
        "                        max_time = inf,\n",
        "                        noise = False,\n",
        "                        tolerance_x = np.sqrt(np.spacing(1)),\n",
        "                        var_type=[\"num\"],\n",
        "                        infill_criterion = \"y\",\n",
        "                        n_points = 1,\n",
        "                        seed=123,\n",
        "                        log_level = 50),\n",
        "                   design_control=design_control_init(\n",
        "                        init_size=5,\n",
        "                        repeats=1),\n",
        "                   surrogate_control=surrogate_control_init(\n",
        "                        noise=False,\n",
        "                        min_theta=-4,\n",
        "                        max_theta=3,\n",
        "                        n_theta=1,\n",
        "                        model_optimizer=differential_evolution,\n",
        "                        model_fun_evals=10000))\n",
        "spot_1.run()"
      ],
      "id": "6966e0be",
      "execution_count": null,
      "outputs": []
    },
    {
      "cell_type": "markdown",
      "metadata": {},
      "source": [
        "## Organization\n",
        "\n",
        "`Spot` organizes the surrogate based optimization process in four steps:\n",
        "\n",
        "1. Selection of the objective function: `fun`.\n",
        "2. Selection of the initial design: `design`.\n",
        "3. Selection of the optimization algorithm: `optimizer`.\n",
        "4. Selection of the surrogate model: `surrogate`.\n",
        "\n",
        "For each of these steps, the user can specify an object:\n"
      ],
      "id": "0fc0b0a9"
    },
    {
      "cell_type": "code",
      "metadata": {},
      "source": [
        "from spotPython.fun.objectivefunctions import analytical\n",
        "fun = analytical().fun_sphere\n",
        "from spotPython.design.spacefilling import spacefilling\n",
        "design = spacefilling(2)\n",
        "from scipy.optimize import differential_evolution\n",
        "optimizer = differential_evolution\n",
        "from spotPython.build.kriging import Kriging\n",
        "surrogate = Kriging()"
      ],
      "id": "6f05431f",
      "execution_count": null,
      "outputs": []
    },
    {
      "cell_type": "markdown",
      "metadata": {},
      "source": [
        "For each of these steps, the user can specify a dictionary of control parameters.\n",
        "\n",
        "1. `fun_control`\n",
        "2. `design_control`\n",
        "3. `optimizer_control`\n",
        "4. `surrogate_control`\n",
        "\n",
        "Each of these dictionaries has an initialzaion method, e.g., `fun_control_init()`. The initialization methods set the default values for the control parameters.\n",
        "\n",
        ":::: {.callout-important}\n",
        "#### Important:\n",
        "\n",
        "* The specification of an lower bound in `fun_control` is mandatory.\n",
        "\n",
        "::: \n"
      ],
      "id": "2ee60ee8"
    },
    {
      "cell_type": "code",
      "metadata": {},
      "source": [
        "from spotPython.utils.init import fun_control_init, design_control_init, optimizer_control_init, surrogate_control_init\n",
        "fun_control=fun_control_init(lower=np.array([-1, -1]),\n",
        "                            upper=np.array([1, 1]))\n",
        "design_control=design_control_init()\n",
        "optimizer_control=optimizer_control_init()\n",
        "surrogate_control=surrogate_control_init()"
      ],
      "id": "c9db0599",
      "execution_count": null,
      "outputs": []
    },
    {
      "cell_type": "markdown",
      "metadata": {},
      "source": [
        "## The Spot Object\n",
        "\n",
        "Based on the definition of the `fun`, `design`, `optimizer`, and `surrogate` objects, \n",
        "and their corresponding control parameter dictionaries, `fun_control`, `design_control`, `optimizer_control`, and `surrogate_control`,\n",
        "the `spot` object can be build as follows:\n"
      ],
      "id": "7def6936"
    },
    {
      "cell_type": "code",
      "metadata": {},
      "source": [
        "from spotPython.spot import spot\n",
        "spot_tuner = spot.Spot(fun=fun,\n",
        "                       fun_control=fun_control,\n",
        "                       design_control=design_control,\n",
        "                       optimizer_control=optimizer_control,\n",
        "                       surrogate_control=surrogate_control)"
      ],
      "id": "20cf2494",
      "execution_count": null,
      "outputs": []
    },
    {
      "cell_type": "markdown",
      "metadata": {},
      "source": [
        "## Run\n"
      ],
      "id": "db7f2d52"
    },
    {
      "cell_type": "code",
      "metadata": {},
      "source": [
        "spot_tuner.run()"
      ],
      "id": "4fe65739",
      "execution_count": null,
      "outputs": []
    },
    {
      "cell_type": "markdown",
      "metadata": {},
      "source": [
        "## Print the Results\n"
      ],
      "id": "80a2074f"
    },
    {
      "cell_type": "code",
      "metadata": {},
      "source": [
        "spot_tuner.print_results()"
      ],
      "id": "53bf82d9",
      "execution_count": null,
      "outputs": []
    },
    {
      "cell_type": "markdown",
      "metadata": {},
      "source": [
        "## Show the Progress\n"
      ],
      "id": "cc402516"
    },
    {
      "cell_type": "code",
      "metadata": {},
      "source": [
        "spot_tuner.plot_progress()"
      ],
      "id": "157c234f",
      "execution_count": null,
      "outputs": []
    },
    {
      "cell_type": "markdown",
      "metadata": {},
      "source": [
        "## Visualize the Surrogate\n",
        "\n",
        "* The plot method of the `kriging` surrogate is used.\n",
        "* Note: the plot uses the interval defined by the ranges of the natural variables.\n"
      ],
      "id": "2ea300a9"
    },
    {
      "cell_type": "code",
      "metadata": {},
      "source": [
        "spot_tuner.surrogate.plot()"
      ],
      "id": "fa03bdac",
      "execution_count": null,
      "outputs": []
    },
    {
      "cell_type": "markdown",
      "metadata": {},
      "source": [
        "## Run With a Specific Start Design\n",
        "\n",
        "To pass a specific start design, use the `X_start` argument of the `run` method.\n"
      ],
      "id": "1469ec73"
    },
    {
      "cell_type": "code",
      "metadata": {},
      "source": [
        "spot_x0 = spot.Spot(fun=fun,\n",
        "                    fun_control=fun_control_init(\n",
        "                        lower = np.array([-10]),\n",
        "                        upper = np.array([100]),\n",
        "                        fun_evals = 7,\n",
        "                        fun_repeats = 1,\n",
        "                        max_time = inf,\n",
        "                        noise = False,\n",
        "                        tolerance_x = np.sqrt(np.spacing(1)),\n",
        "                        var_type=[\"num\"],\n",
        "                        infill_criterion = \"y\",\n",
        "                        n_points = 1,\n",
        "                        seed=123,\n",
        "                        log_level = 50),\n",
        "                    design_control=design_control_init(\n",
        "                        init_size=5,\n",
        "                        repeats=1),\n",
        "                    surrogate_control=surrogate_control_init(\n",
        "                        noise=False,\n",
        "                        min_theta=-4,\n",
        "                        max_theta=3,\n",
        "                        n_theta=1,\n",
        "                        model_optimizer=differential_evolution,\n",
        "                        model_fun_evals=10000))\n",
        "spot_x0.run(X_start=np.array([0.5, -0.5]))\n",
        "spot_x0.plot_progress()"
      ],
      "id": "febb04d9",
      "execution_count": null,
      "outputs": []
    },
    {
      "cell_type": "markdown",
      "metadata": {},
      "source": [
        "## Init: Build Initial Design\n"
      ],
      "id": "cd5ded2f"
    },
    {
      "cell_type": "code",
      "metadata": {},
      "source": [
        "from spotPython.design.spacefilling import spacefilling\n",
        "from spotPython.build.kriging import Kriging\n",
        "from spotPython.fun.objectivefunctions import analytical\n",
        "gen = spacefilling(2)\n",
        "rng = np.random.RandomState(1)\n",
        "lower = np.array([-5,-0])\n",
        "upper = np.array([10,15])\n",
        "fun = analytical().fun_branin\n",
        "fun_control = {\"sigma\": 0,\n",
        "               \"seed\": 123}\n",
        "\n",
        "X = gen.scipy_lhd(10, lower=lower, upper = upper)\n",
        "print(X)\n",
        "y = fun(X, fun_control=fun_control)\n",
        "print(y)"
      ],
      "id": "89647388",
      "execution_count": null,
      "outputs": []
    },
    {
      "cell_type": "markdown",
      "metadata": {},
      "source": [
        "## Replicability\n",
        "\n",
        "Seed\n"
      ],
      "id": "c8761866"
    },
    {
      "cell_type": "code",
      "metadata": {},
      "source": [
        "gen = spacefilling(2, seed=123)\n",
        "X0 = gen.scipy_lhd(3)\n",
        "gen = spacefilling(2, seed=345)\n",
        "X1 = gen.scipy_lhd(3)\n",
        "X2 = gen.scipy_lhd(3)\n",
        "gen = spacefilling(2, seed=123)\n",
        "X3 = gen.scipy_lhd(3)\n",
        "X0, X1, X2, X3"
      ],
      "id": "0465ee86",
      "execution_count": null,
      "outputs": []
    },
    {
      "cell_type": "markdown",
      "metadata": {},
      "source": [
        "## Surrogates\n",
        "\n",
        "### A Simple Predictor\n",
        "\n",
        "The code below shows how to use a simple model for prediction. Assume that only two (very costly) measurements are available:\n",
        "  \n",
        "  1. f(0) = 0.5\n",
        "  2. f(2) = 2.5\n",
        "\n",
        "We are interested in the value at $x_0 = 1$, i.e., $f(x_0 = 1)$, but cannot run an additional, third experiment.\n"
      ],
      "id": "42badd1d"
    },
    {
      "cell_type": "code",
      "metadata": {},
      "source": [
        "from sklearn import linear_model\n",
        "X = np.array([[0], [2]])\n",
        "y = np.array([0.5, 2.5])\n",
        "S_lm = linear_model.LinearRegression()\n",
        "S_lm = S_lm.fit(X, y)\n",
        "X0 = np.array([[1]])\n",
        "y0 = S_lm.predict(X0)\n",
        "print(y0)"
      ],
      "id": "1075cd13",
      "execution_count": null,
      "outputs": []
    },
    {
      "cell_type": "markdown",
      "metadata": {},
      "source": [
        "Central Idea: Evaluation of the surrogate model `S_lm` is much cheaper (or / and much faster) than running the real-world experiment $f$.\n",
        "\n",
        "\n",
        "## Demo/Test: Objective Function Fails\n",
        "\n",
        "SPOT expects `np.nan` values from failed objective function values. These are handled. Note: SPOT's counter considers only successful executions of the objective function.\n"
      ],
      "id": "4743324d"
    },
    {
      "cell_type": "code",
      "metadata": {},
      "source": [
        "import numpy as np\n",
        "from spotPython.fun.objectivefunctions import analytical\n",
        "from spotPython.spot import spot\n",
        "import numpy as np\n",
        "from math import inf\n",
        "# number of initial points:\n",
        "ni = 20\n",
        "# number of points\n",
        "n = 30\n",
        "\n",
        "fun = analytical().fun_random_error\n",
        "fun_control=fun_control_init(\n",
        "    lower = np.array([-1]),\n",
        "    upper= np.array([1]),\n",
        "    fun_evals = n,\n",
        "    show_progress=False)\n",
        "design_control=design_control_init(init_size=ni)\n",
        "\n",
        "spot_1 = spot.Spot(fun=fun,\n",
        "                     fun_control=fun_control,\n",
        "                     design_control=design_control)\n",
        "spot_1.run()\n",
        "# To check whether the run was successfully completed,\n",
        "# we compare the number of evaluated points to the specified\n",
        "# number of points.\n",
        "assert spot_1.y.shape[0] == n"
      ],
      "id": "6e265d64",
      "execution_count": null,
      "outputs": []
    }
  ],
  "metadata": {
    "kernelspec": {
      "name": "python3",
      "language": "python",
      "display_name": "Python 3 (ipykernel)"
    }
  },
  "nbformat": 4,
  "nbformat_minor": 5
}