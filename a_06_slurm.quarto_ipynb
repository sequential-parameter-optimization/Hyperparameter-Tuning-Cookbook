{
 "cells": [
  {
   "cell_type": "markdown",
   "id": "e53dc429",
   "metadata": {},
   "source": [
    "---\n",
    "execute:\n",
    "  cache: false\n",
    "  eval: true\n",
    "  echo: true\n",
    "  warning: false\n",
    "jupyter: python3\n",
    "---\n",
    "\n",
    "\n",
    "# Using Slurm\n",
    "\n",
    "## Introduction\n",
    "\n",
    "This chapter describes how to generate a `spotpython` configuration on a local machine and run the `spotpython` code on a remote machine using Slurm.\n",
    "\n",
    "\n",
    "## Prepare the Slurm Scripts on the Remote Machine\n",
    "\n",
    "Two scripts are required to run the `spotpython` code on the remote machine: \n",
    "\n",
    "* `startSlurm.sh` and \n",
    "* `startPython.py`.\n",
    "\n",
    "They should be saved in the same directory as the configuration (`pickle`) file.\n",
    "These two scripts must be generated only once and can be reused for different configurations.\n",
    "\n",
    "The `startSlurm.sh` script is a shell script that contains the following code:"
   ]
  },
  {
   "cell_type": "code",
   "execution_count": 1,
   "id": "start",
   "metadata": {},
   "outputs": [],
   "source": [
    "#| label: start\n",
    "#| eval: false\n",
    "#!/bin/python\n",
    " \n",
    "### Vergabe von Ressourcen\n",
    "#SBATCH --job-name=CH10_Test\n",
    "#SBATCH --ntasks-per-node=64\n",
    "#SBATCH --gres=gpu:1\n",
    "#SBATCH --time=24:00:00\n",
    "#SBATCH --error=job.%J.err\n",
    "#SBATCH --output=job.%J.out\n",
    "#----\n",
    "#SBATCH --partition=gpu\n",
    "\n",
    "if [ -z \"$1\" ]; then\n",
    "    echo \"Usage: $0 <path_to_spot.pkl>\"\n",
    "    exit 1\n",
    "fi\n",
    "\n",
    "SPOT_PKL=$1\n",
    "\n",
    "module load conda\n",
    "\n",
    "conda activate spot312\n",
    "\n",
    "srun python startPython.py \"$SPOT_PKL\""
   ]
  },
  {
   "cell_type": "markdown",
   "id": "ebe28f18",
   "metadata": {},
   "source": [
    "Save the code in a file named `startSlurm.sh` and copy the file to the remote machine via `scp`, i.e., "
   ]
  },
  {
   "cell_type": "code",
   "execution_count": 2,
   "id": "copy-startSlurm-to-remote",
   "metadata": {},
   "outputs": [],
   "source": [
    "#| label: copy-startSlurm-to-remote\n",
    "#| eval: false\n",
    "scp startSlurm.sh user@144.33.22.1:"
   ]
  },
  {
   "cell_type": "markdown",
   "id": "87dd773a",
   "metadata": {},
   "source": [
    "The `startPython.py` script is a Python script that contains the following code:"
   ]
  },
  {
   "cell_type": "code",
   "execution_count": 3,
   "id": "startPython",
   "metadata": {},
   "outputs": [],
   "source": [
    "#| label: startPython\n",
    "#| eval: false\n",
    "import argparse\n",
    "import pickle\n",
    "from spotpython.utils.file import load_and_run_spot_python_experiment\n",
    "\n",
    "def main(pickle_file):\n",
    "    spot_tuner = load_and_run_spot_python_experiment(pickle_file)\n",
    "\n",
    "if __name__ == \"__main__\":\n",
    "    parser = argparse.ArgumentParser(description='Process a pickle file.')\n",
    "    parser.add_argument('pickle_file', type=str, help='The path to the pickle file to be processed.')\n",
    "\n",
    "    args = parser.parse_args()\n",
    "    main(args.pickle_file)"
   ]
  },
  {
   "cell_type": "markdown",
   "id": "3bd60273",
   "metadata": {},
   "source": [
    "Save the code in a file named `startPython.py` and copy the file to the remote machine via `scp`, i.e., "
   ]
  },
  {
   "cell_type": "code",
   "execution_count": 4,
   "id": "copy-startPython-to-remote",
   "metadata": {},
   "outputs": [],
   "source": [
    "#| label: copy-startPython-to-remote\n",
    "#| eval: false\n",
    "scp startPython.py user@144.33.22.1:"
   ]
  },
  {
   "cell_type": "markdown",
   "id": "c8463f9c",
   "metadata": {},
   "source": [
    "## Generate a `spotpython` Configuration\n",
    "\n",
    "The configuration can be generated on a local machine using the following command:\n"
   ]
  },
  {
   "cell_type": "code",
   "execution_count": 5,
   "id": "generate-spotpython-config",
   "metadata": {},
   "outputs": [],
   "source": [
    "#| label: generate-spotpython-config\n",
    "#| eval: false\n",
    "import os\n",
    "from math import inf\n",
    "from spotpython.hyperdict.light_hyper_dict import LightHyperDict\n",
    "from spotpython.fun.hyperlight import HyperLight\n",
    "from spotpython.utils.init import (fun_control_init, design_control_init, surrogate_control_init)\n",
    "from spotpython.utils.eda import gen_design_table\n",
    "from spotpython.hyperparameters.values import set_hyperparameter\n",
    "from spotpython.spot import spot\n",
    "from spotpython.utils.scaler import TorchStandardScaler\n",
    "from spotpython.utils.device import getDevice\n",
    "from spotpython.utils.file import get_experiment_filename\n",
    "\n",
    "# load data (adapt this to your needs)\n",
    "from pyhcf.utils.io import load_hcf_df, hcf_df2tensor\n",
    "from pyhcf.utils.names import load_all_features_N_regression_list\n",
    "df = load_hcf_df(A=True, H=True, param_list=load_all_features_N_regression_list(), target='N', rmNA=True, rmMF=True, rmV=4, min_freq=1000, incl_drossel=False)\n",
    "data_set = hcf_df2tensor(df, target='N', return_X_y=False)\n",
    "\n",
    "fun_control = fun_control_init(\n",
    "    PREFIX=\"01\",\n",
    "    TENSORBOARD_CLEAN=False,\n",
    "    tensorboard_log=False,\n",
    "    fun_evals=inf,\n",
    "    max_time=600,\n",
    "    data_set=data_set,\n",
    "    scaler=TorchStandardScaler(),\n",
    "    device=getDevice(),\n",
    "    max_surrogate_points=30,\n",
    "    core_model_name=\"light.regression.NNLinearRegressor\",\n",
    "    hyperdict=LightHyperDict,\n",
    "    _L_in=86,\n",
    "    _L_out=1)\n",
    "\n",
    "# The following \"set_hyperparameter\"-block is optional.\n",
    "# You can adapt the hyperparameters to your needs as follows:\n",
    "set_hyperparameter(fun_control, \"optimizer\", [\n",
    "                \"Adadelta\",\n",
    "                \"Adagrad\",\n",
    "                \"Adam\",\n",
    "                \"AdamW\",\n",
    "                \"Adamax\",\n",
    "            ])\n",
    "set_hyperparameter(fun_control, \"l1\", [3,9])\n",
    "set_hyperparameter(fun_control, \"epochs\", [10,12])\n",
    "set_hyperparameter(fun_control, \"batch_size\", [4,8])\n",
    "set_hyperparameter(fun_control, \"dropout_prob\", [0.0, 0.1])\n",
    "set_hyperparameter(fun_control, \"lr_mult\", [0.1, 20.0])\n",
    "set_hyperparameter(fun_control, \"patience\", [6,9])\n",
    "\n",
    "# Modify the design control (optional)\n",
    "design_control = design_control_init(init_size=20)\n",
    "# Modify the surrogate control (optional)\n",
    "surrogate_control = surrogate_control_init(\n",
    "    noise=True,\n",
    "    n_theta=2,\n",
    "    min_Lambda=1e-3,\n",
    "    max_Lambda=10,\n",
    ")\n",
    "\n",
    "# Check the design table\n",
    "print(gen_design_table(fun_control))\n",
    "\n",
    "# The remaining part is mandatory:\n",
    "fun = HyperLight().fun\n",
    "spot_tuner = spot.Spot(fun=fun,fun_control=fun_control, design_control=design_control, surrogate_control=surrogate_control)\n",
    "filename = get_experiment_filename(fun_control[\"PREFIX\"])\n",
    "# remove attribute spot_writer from spot_tuner object\n",
    "if hasattr(spot_tuner, \"spot_writer\"):\n",
    "    delattr(spot_tuner, \"spot_writer\")\n",
    "spot_tuner.save_experiment(filename=filename)"
   ]
  },
  {
   "cell_type": "markdown",
   "id": "9ac160b2",
   "metadata": {},
   "source": [
    "The configuration is saved as  a pickle-file that contains the full information. In our example, the filename is `spot_01_experiment.pickle`.\n",
    "\n",
    "::: {.callout-note}\n",
    "### Data \n",
    "The data is loaded from the `pyhcf` package. You can adapt the data loading to your needs.\n",
    "To generate dummy data, you can use the following code:"
   ]
  },
  {
   "cell_type": "code",
   "execution_count": 6,
   "id": "generate-dummy-data",
   "metadata": {},
   "outputs": [],
   "source": [
    "#| label: generate-dummy-data\n",
    "#| eval: false\n",
    "num_samples = 1000\n",
    "input_dim = 86\n",
    "X = torch.randn(num_samples, input_dim)  # random data for example\n",
    "Y = torch.randn(num_samples, 1)  # random target for example\n",
    "data_set = TensorDataset(X, Y)"
   ]
  },
  {
   "cell_type": "markdown",
   "id": "7cf1e782",
   "metadata": {},
   "source": [
    "::: \n",
    "\n",
    "## Copy the Configuration to the Remote Machine\n",
    "\n",
    "You can copy the configuration to the remote machine using the `scp` command. The following command copies the configuration to the remote machine `144.33.22.1`:"
   ]
  },
  {
   "cell_type": "code",
   "execution_count": 7,
   "id": "copy-config-to-remote",
   "metadata": {},
   "outputs": [],
   "source": [
    "#| label: copy-config-to-remote\n",
    "#| eval: false\n",
    "scp spot_01_experiment.pickle user@144.33.22.1:"
   ]
  },
  {
   "cell_type": "markdown",
   "id": "6a0e1e88",
   "metadata": {},
   "source": [
    "## Run the `spotpython` Code on the Remote Machine\n",
    "\n",
    "Login on the remote machine and run the following command to start the `spotpython` code:\n"
   ]
  },
  {
   "cell_type": "code",
   "execution_count": 8,
   "id": "run-spotpython-on-remote",
   "metadata": {},
   "outputs": [],
   "source": [
    "#| label: run-spotpython-on-remote\n",
    "#| eval: false\n",
    "ssh user@144.33.22.1\n",
    "cd /path/to/remote/directory\n",
    "sh -x ./startSlurm.sh spot_01_experiment.pickle"
   ]
  },
  {
   "cell_type": "markdown",
   "id": "d8bb6c14",
   "metadata": {},
   "source": [
    "## Copy the Results to the Local Machine\n",
    "\n",
    "After the `spotpython` code has finished, you can copy the results back to the local machine using the `scp` command. The following command copies the results to the local machine:"
   ]
  },
  {
   "cell_type": "code",
   "execution_count": 9,
   "id": "copy-results-to-local",
   "metadata": {},
   "outputs": [],
   "source": [
    "#| label: copy-results-to-local\n",
    "#| eval: false\n",
    "scp user@144.33.22.1:spot_01_experiment.pickle ."
   ]
  },
  {
   "cell_type": "markdown",
   "id": "7e897a71",
   "metadata": {},
   "source": [
    "## Analyze the Results on the Local Machine\n",
    "\n",
    "The file `spot_01_experiment.pickle` contains the results of the `spotpython` code. You can analyze the results on the local machine using the following code.\n"
   ]
  },
  {
   "cell_type": "code",
   "execution_count": 10,
   "id": "spotgui",
   "metadata": {},
   "outputs": [],
   "source": [
    "#| label: spotgui\n",
    "#| eval: false\n",
    "from spotpython.utils.file import load_experiment\n",
    "spot_tuner, fun_control, design_control, surrogate_control, optimizer_control = load_experiment(\"spot_01_experiment.pickle\")"
   ]
  },
  {
   "cell_type": "markdown",
   "id": "93fb8293",
   "metadata": {},
   "source": [
    "### Visualizing the Tuning Progress\n",
    "\n",
    "Now the `spot_tuner` object is loaded and you can analyze the results interactively."
   ]
  },
  {
   "cell_type": "code",
   "execution_count": 11,
   "id": "analyze-results-progress-plot",
   "metadata": {},
   "outputs": [],
   "source": [
    "#| label: analyze-results-progress-plot\n",
    "#| eval: false\n",
    "spot_tuner.plot_progress(log_y=True, filename=None)"
   ]
  },
  {
   "cell_type": "markdown",
   "id": "3b09f6aa",
   "metadata": {},
   "source": [
    "### Design Table with Default and Tuned Hyperparameters\n"
   ]
  },
  {
   "cell_type": "code",
   "execution_count": 12,
   "id": "analyze-results-design-table",
   "metadata": {},
   "outputs": [],
   "source": [
    "#| label: analyze-results-design-table\n",
    "#| eval: false\n",
    "from spotpython.utils.eda import gen_design_table\n",
    "print(gen_design_table(fun_control=fun_control, spot=spot_tuner))"
   ]
  },
  {
   "cell_type": "markdown",
   "id": "c4a9a069",
   "metadata": {},
   "source": [
    "### Plotting Important Hyperparameters\n"
   ]
  },
  {
   "cell_type": "code",
   "execution_count": 13,
   "id": "analyze-results-plot-imp-hyperparam",
   "metadata": {},
   "outputs": [],
   "source": [
    "#| label: analyze-results-plot-imp-hyperparam\n",
    "#| eval: false\n",
    "spot_tuner.plot_important_hyperparameter_contour(max_imp=3)"
   ]
  },
  {
   "cell_type": "markdown",
   "id": "99063dd7",
   "metadata": {},
   "source": [
    "::: {.callout-note}\n",
    "### spotgui\n",
    "The `spotgui` can be used to analyze the results interactively.\n",
    ":::"
   ]
  }
 ],
 "metadata": {
  "kernelspec": {
   "display_name": "Python 3 (ipykernel)",
   "language": "python",
   "name": "python3",
   "path": "/Users/bartz/miniforge3/envs/spot312/share/jupyter/kernels/python3"
  }
 },
 "nbformat": 4,
 "nbformat_minor": 5
}
