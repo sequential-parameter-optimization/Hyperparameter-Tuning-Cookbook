{
  "cells": [
    {
      "cell_type": "markdown",
      "metadata": {},
      "source": [
        "---\n",
        "execute:\n",
        "  cache: false\n",
        "  eval: true\n",
        "  echo: true\n",
        "  warning: false\n",
        "---\n",
        "\n",
        "\n",
        "# Sequential Parameter Optimization:  Gaussian Process Models {#sec-gaussian-process-models}\n",
        "\n",
        "This chapter analyzes differences between the `Kriging` implementation in `spotpython` and the `GaussianProcessRegressor` in `scikit-learn`.\n"
      ],
      "id": "49a59a78"
    },
    {
      "cell_type": "code",
      "metadata": {},
      "source": [
        "import numpy as np\n",
        "from math import inf\n",
        "from spotpython.fun.objectivefunctions import analytical\n",
        "from spotpython.design.spacefilling import spacefilling\n",
        "from spotpython.spot import spot\n",
        "from spotpython.build.kriging import Kriging\n",
        "from scipy.optimize import shgo\n",
        "from scipy.optimize import direct\n",
        "from scipy.optimize import differential_evolution\n",
        "import matplotlib.pyplot as plt\n",
        "import math as m\n",
        "from sklearn.gaussian_process import GaussianProcessRegressor\n",
        "from sklearn.gaussian_process.kernels import RBF"
      ],
      "id": "070acf34",
      "execution_count": null,
      "outputs": []
    },
    {
      "cell_type": "markdown",
      "metadata": {},
      "source": [
        "## Gaussian Processes Regression: Basic Introductory `scikit-learn` Example\n",
        "\n",
        "* This is the example from [scikit-learn: https://scikit-learn.org/stable/auto_examples/gaussian_process/plot_gpr_noisy_targets.html](https://scikit-learn.org/stable/auto_examples/gaussian_process/plot_gpr_noisy_targets.html)\n",
        "\n",
        "* After fitting our model, we see that the hyperparameters of the kernel have been optimized. \n",
        "* Now, we will use our kernel to compute the mean prediction of the full dataset and plot the 95% confidence interval.\n",
        "\n",
        "### Train and Test Data\n"
      ],
      "id": "b3c9b980"
    },
    {
      "cell_type": "code",
      "metadata": {},
      "source": [
        "X = np.linspace(start=0, stop=10, num=1_000).reshape(-1, 1)\n",
        "y = np.squeeze(X * np.sin(X))\n",
        "rng = np.random.RandomState(1)\n",
        "training_indices = rng.choice(np.arange(y.size), size=6, replace=False)\n",
        "X_train, y_train = X[training_indices], y[training_indices]"
      ],
      "id": "b82918e1",
      "execution_count": null,
      "outputs": []
    },
    {
      "cell_type": "markdown",
      "metadata": {},
      "source": [
        "### Building the Surrogate With `Sklearn`\n",
        "\n",
        "* The model building with `sklearn` consisits of three steps:\n",
        "    1. Instantiating the model, then\n",
        "    2. fitting the model (using `fit`), and\n",
        "    3. making predictions (using `predict`)\n"
      ],
      "id": "25c4ba83"
    },
    {
      "cell_type": "code",
      "metadata": {},
      "source": [
        "kernel = 1 * RBF(length_scale=1.0, length_scale_bounds=(1e-2, 1e2))\n",
        "gaussian_process = GaussianProcessRegressor(kernel=kernel, n_restarts_optimizer=9)\n",
        "gaussian_process.fit(X_train, y_train)\n",
        "mean_prediction, std_prediction = gaussian_process.predict(X, return_std=True)"
      ],
      "id": "74960dc5",
      "execution_count": null,
      "outputs": []
    },
    {
      "cell_type": "markdown",
      "metadata": {},
      "source": [
        "### Plotting the `Sklearn`Model\n"
      ],
      "id": "5da93668"
    },
    {
      "cell_type": "code",
      "metadata": {},
      "source": [
        "plt.plot(X, y, label=r\"$f(x) = x \\sin(x)$\", linestyle=\"dotted\")\n",
        "plt.scatter(X_train, y_train, label=\"Observations\")\n",
        "plt.plot(X, mean_prediction, label=\"Mean prediction\")\n",
        "plt.fill_between(\n",
        "    X.ravel(),\n",
        "    mean_prediction - 1.96 * std_prediction,\n",
        "    mean_prediction + 1.96 * std_prediction,\n",
        "    alpha=0.5,\n",
        "    label=r\"95% confidence interval\",\n",
        ")\n",
        "plt.legend()\n",
        "plt.xlabel(\"$x$\")\n",
        "plt.ylabel(\"$f(x)$\")\n",
        "_ = plt.title(\"sk-learn Version: Gaussian process regression on noise-free dataset\")"
      ],
      "id": "80bb915c",
      "execution_count": null,
      "outputs": []
    },
    {
      "cell_type": "markdown",
      "metadata": {},
      "source": [
        "### The `spotpython` Version\n",
        "\n",
        "* The `spotpython` version is very similar:\n",
        "    1. Instantiating the model, then\n",
        "    2. fitting the model and\n",
        "    3. making predictions (using `predict`).\n"
      ],
      "id": "354a8ee6"
    },
    {
      "cell_type": "code",
      "metadata": {},
      "source": [
        "S = Kriging(name='kriging',  seed=123, log_level=50, cod_type=\"norm\")\n",
        "S.fit(X_train, y_train)\n",
        "S_mean_prediction, S_std_prediction, S_ei = S.predict(X, return_val=\"all\")"
      ],
      "id": "f8d53fea",
      "execution_count": null,
      "outputs": []
    },
    {
      "cell_type": "code",
      "metadata": {},
      "source": [
        "plt.plot(X, y, label=r\"$f(x) = x \\sin(x)$\", linestyle=\"dotted\")\n",
        "plt.scatter(X_train, y_train, label=\"Observations\")\n",
        "plt.plot(X, S_mean_prediction, label=\"Mean prediction\")\n",
        "plt.fill_between(\n",
        "    X.ravel(),\n",
        "    S_mean_prediction - 1.96 * S_std_prediction,\n",
        "    S_mean_prediction + 1.96 * S_std_prediction,\n",
        "    alpha=0.5,\n",
        "    label=r\"95% confidence interval\",\n",
        ")\n",
        "plt.legend()\n",
        "plt.xlabel(\"$x$\")\n",
        "plt.ylabel(\"$f(x)$\")\n",
        "_ = plt.title(\"spotpython Version: Gaussian process regression on noise-free dataset\")"
      ],
      "id": "971fbf41",
      "execution_count": null,
      "outputs": []
    },
    {
      "cell_type": "markdown",
      "metadata": {},
      "source": [
        "### Visualizing the Differences Between the `spotpython` and the `sklearn` Model Fits\n"
      ],
      "id": "8cce0512"
    },
    {
      "cell_type": "code",
      "metadata": {},
      "source": [
        "plt.plot(X, y, label=r\"$f(x) = x \\sin(x)$\", linestyle=\"dotted\")\n",
        "plt.scatter(X_train, y_train, label=\"Observations\")\n",
        "plt.plot(X, S_mean_prediction, label=\"spotpython Mean prediction\")\n",
        "plt.plot(X, mean_prediction, label=\"Sklearn Mean Prediction\")\n",
        "plt.legend()\n",
        "plt.xlabel(\"$x$\")\n",
        "plt.ylabel(\"$f(x)$\")\n",
        "_ = plt.title(\"Comparing Mean Predictions\")"
      ],
      "id": "8a1a5c57",
      "execution_count": null,
      "outputs": []
    },
    {
      "cell_type": "markdown",
      "metadata": {},
      "source": [
        "## Exercises\n",
        "\n",
        "### `Schonlau Example Function`\n",
        "\n",
        "* The Schonlau Example Function is based on sample points only (there is no analytical function description available):\n"
      ],
      "id": "c8465a68"
    },
    {
      "cell_type": "code",
      "metadata": {},
      "source": [
        "X = np.linspace(start=0, stop=13, num=1_000).reshape(-1, 1)\n",
        "X_train = np.array([1., 2., 3., 4., 12.]).reshape(-1,1)\n",
        "y_train = np.array([0., -1.75, -2, -0.5, 5.])"
      ],
      "id": "d85dc509",
      "execution_count": null,
      "outputs": []
    },
    {
      "cell_type": "markdown",
      "metadata": {},
      "source": [
        "* Describe the function.\n",
        "* Compare the two models that were build using the `spotpython` and the `sklearn` surrogate.\n",
        "* Note: Since there is no analytical function available, you might be interested in adding some points and describe the effects.\n",
        "\n",
        "### `Forrester Example Function`\n",
        "\n",
        "* The Forrester Example Function is defined as follows:\n",
        "\n",
        "    `f(x) = (6x- 2)^2 sin(12x-4) for x in [0,1].`\n",
        "\n",
        "* Data points are generated as follows:\n"
      ],
      "id": "fc564fbe"
    },
    {
      "cell_type": "code",
      "metadata": {},
      "source": [
        "from spotpython.utils.init import fun_control_init\n",
        "X = np.linspace(start=-0.5, stop=1.5, num=1_000).reshape(-1, 1)\n",
        "X_train = np.array([0.0, 0.175, 0.225, 0.3, 0.35, 0.375, 0.5,1]).reshape(-1,1)\n",
        "fun = analytical().fun_forrester\n",
        "fun_control = fun_control_init(sigma = 0.1)\n",
        "y = fun(X, fun_control=fun_control)\n",
        "y_train = fun(X_train, fun_control=fun_control)"
      ],
      "id": "26c14d1e",
      "execution_count": null,
      "outputs": []
    },
    {
      "cell_type": "markdown",
      "metadata": {},
      "source": [
        "* Describe the function.\n",
        "* Compare the two models that were build using the `spotpython` and the `sklearn` surrogate.\n",
        "* Note: Modify the noise level (`\"sigma\"`), e.g., use a value of `0.2`, and compare the two models.\n"
      ],
      "id": "b7055352"
    },
    {
      "cell_type": "code",
      "metadata": {},
      "source": [
        "fun_control = fun_control_init(sigma = 0.2)"
      ],
      "id": "898e6193",
      "execution_count": null,
      "outputs": []
    },
    {
      "cell_type": "markdown",
      "metadata": {},
      "source": [
        "### `fun_runge Function (1-dim)`\n",
        "\n",
        "* The Runge function is defined as follows:\n",
        "\n",
        "  `f(x) = 1/ (1 + sum(x_i))^2`\n",
        "\n",
        "* Data points are generated as follows:\n"
      ],
      "id": "9e98a027"
    },
    {
      "cell_type": "code",
      "metadata": {},
      "source": [
        "gen = spacefilling(1)\n",
        "rng = np.random.RandomState(1)\n",
        "lower = np.array([-10])\n",
        "upper = np.array([10])\n",
        "fun = analytical().fun_runge\n",
        "fun_control = fun_control_init(sigma = 0.025)\n",
        "X_train = gen.scipy_lhd(10, lower=lower, upper = upper).reshape(-1,1)\n",
        "y_train = fun(X, fun_control=fun_control)\n",
        "X = np.linspace(start=-13, stop=13, num=1000).reshape(-1, 1)\n",
        "y = fun(X, fun_control=fun_control)"
      ],
      "id": "6d3c9b09",
      "execution_count": null,
      "outputs": []
    },
    {
      "cell_type": "markdown",
      "metadata": {},
      "source": [
        "* Describe the function.\n",
        "* Compare the two models that were build using the `spotpython` and the `sklearn` surrogate.\n",
        "* Note: Modify the noise level (`\"sigma\"`), e.g., use a value of `0.05`, and compare the two models.\n"
      ],
      "id": "348fca46"
    },
    {
      "cell_type": "code",
      "metadata": {},
      "source": [
        "fun_control = fun_control_init(sigma = 0.5)"
      ],
      "id": "4384fc74",
      "execution_count": null,
      "outputs": []
    },
    {
      "cell_type": "markdown",
      "metadata": {},
      "source": [
        "### `fun_cubed (1-dim)`\n",
        "\n",
        "* The Cubed function is defined as follows:\n",
        "\n",
        "    `np.sum(X[i]** 3)`\n",
        "\n",
        "* Data points are generated as follows:\n"
      ],
      "id": "7203ea23"
    },
    {
      "cell_type": "code",
      "metadata": {},
      "source": [
        "gen = spacefilling(1)\n",
        "rng = np.random.RandomState(1)\n",
        "fun_control = fun_control_init(sigma = 0.025,\n",
        "                lower = np.array([-10]),\n",
        "                upper = np.array([10]))\n",
        "fun = analytical().fun_cubed\n",
        "X_train = gen.scipy_lhd(10, lower=lower, upper = upper).reshape(-1,1)\n",
        "y_train = fun(X, fun_control=fun_control)\n",
        "X = np.linspace(start=-13, stop=13, num=1000).reshape(-1, 1)\n",
        "y = fun(X, fun_control=fun_control)"
      ],
      "id": "fbe675f8",
      "execution_count": null,
      "outputs": []
    },
    {
      "cell_type": "markdown",
      "metadata": {},
      "source": [
        "* Describe the function.\n",
        "* Compare the two models that were build using the `spotpython` and the `sklearn` surrogate.\n",
        "* Note: Modify the noise level (`\"sigma\"`), e.g., use a value of `0.05`, and compare the two models.\n"
      ],
      "id": "a0520173"
    },
    {
      "cell_type": "code",
      "metadata": {},
      "source": [
        "fun_control = fun_control_init(sigma = 0.025)"
      ],
      "id": "d1392f6a",
      "execution_count": null,
      "outputs": []
    },
    {
      "cell_type": "markdown",
      "metadata": {},
      "source": [
        "### The Effect of Noise\n",
        "\n",
        "How does the behavior of the `spotpython` fit changes when the argument `noise` is set to `True`, i.e.,\n",
        "    \n",
        "`S = Kriging(name='kriging',  seed=123, n_theta=1, noise=True)`\n",
        "\n",
        "is used?\n"
      ],
      "id": "99b623fc"
    }
  ],
  "metadata": {
    "kernelspec": {
      "name": "python3",
      "language": "python",
      "display_name": "Python 3 (ipykernel)",
      "path": "/Users/bartz/miniforge3/envs/spot312/share/jupyter/kernels/python3"
    }
  },
  "nbformat": 4,
  "nbformat_minor": 5
}