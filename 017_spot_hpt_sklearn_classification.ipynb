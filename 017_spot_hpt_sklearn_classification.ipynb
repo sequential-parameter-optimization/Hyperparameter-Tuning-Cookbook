{
 "cells": [
  {
   "cell_type": "raw",
   "id": "14b78b04",
   "metadata": {},
   "source": [
    "---\n",
    "execute:\n",
    "  cache: false\n",
    "  eval: true\n",
    "  echo: true\n",
    "  warning: false\n",
    "---"
   ]
  },
  {
   "cell_type": "markdown",
   "id": "86ba6a75",
   "metadata": {},
   "source": [
    "# HPT: sklearn SVC on Moons Data {#sec-hpt-sklearn-svc}\n",
    "\n",
    "This chapter is a tutorial for the Hyperparameter Tuning (HPT) of a `sklearn` SVC model on the Moons dataset.\n",
    "\n",
    "## Step 1: Setup {#sec-setup-10}\n",
    "\n",
    "Before we consider the detailed experimental setup, we select the parameters that affect run time, initial design size and the device that is used.\n",
    "\n",
    "::: {.callout-caution}\n",
    "### Caution: Run time and initial design size should be increased for real experiments\n",
    "\n",
    "* MAX_TIME is set to one minute for demonstration purposes. For real experiments, this should be increased to at least 1 hour.\n",
    "* INIT_SIZE is set to 5 for demonstration purposes. For real experiments, this should be increased to at least 10.\n",
    "\n",
    ":::\n"
   ]
  },
  {
   "cell_type": "code",
   "execution_count": 1,
   "id": "0e4876ee",
   "metadata": {},
   "outputs": [],
   "source": [
    "MAX_TIME = 1\n",
    "INIT_SIZE = 10\n",
    "PREFIX = \"10\""
   ]
  },
  {
   "cell_type": "code",
   "execution_count": 2,
   "id": "0a300467",
   "metadata": {},
   "outputs": [],
   "source": [
    "#| echo: false\n",
    "import os\n",
    "from math import inf\n",
    "import numpy as np\n",
    "import warnings\n",
    "if not os.path.exists('./figures'):\n",
    "    os.makedirs('./figures')\n",
    "warnings.filterwarnings(\"ignore\")"
   ]
  },
  {
   "cell_type": "markdown",
   "id": "18fd6210",
   "metadata": {},
   "source": [
    "## Step 2: Initialization of the Empty `fun_control` Dictionary\n",
    "\n",
    "`spotPython` supports the visualization of the hyperparameter tuning process with TensorBoard. The following example shows how to use TensorBoard with `spotPython`.\n",
    "The `fun_control` dictionary is the central data structure that is used to control the optimization process. It is initialized as follows:\n"
   ]
  },
  {
   "cell_type": "code",
   "execution_count": 3,
   "id": "fb8ce19f",
   "metadata": {},
   "outputs": [
    {
     "name": "stderr",
     "output_type": "stream",
     "text": [
      "Seed set to 123\n"
     ]
    },
    {
     "name": "stdout",
     "output_type": "stream",
     "text": [
      "Moving TENSORBOARD_PATH: runs/ to TENSORBOARD_PATH_OLD: runs_OLD/runs_2024_03_04_12_28_38\n",
      "Created spot_tensorboard_path: runs/spot_logs/10_maans14_2024-03-04_12-28-38 for SummaryWriter()\n"
     ]
    }
   ],
   "source": [
    "from spotPython.utils.init import fun_control_init\n",
    "from spotPython.hyperparameters.values import set_control_key_value\n",
    "from spotPython.utils.eda import gen_design_table\n",
    "fun_control = fun_control_init(\n",
    "    PREFIX=PREFIX,\n",
    "    TENSORBOARD_CLEAN=True,\n",
    "    max_time=MAX_TIME,\n",
    "    fun_evals=inf,\n",
    "    tolerance_x = np.sqrt(np.spacing(1)))"
   ]
  },
  {
   "cell_type": "markdown",
   "id": "dd03e56a",
   "metadata": {},
   "source": [
    "::: {.callout-tip}\n",
    "#### Tip: TensorBoard\n",
    "* Since the `spot_tensorboard_path` argument is not `None`, which is the default, `spotPython` will log the optimization process in the TensorBoard folder.\n",
    "* The `TENSORBOARD_CLEAN` argument is set to `True` to archive the TensorBoard folder if it already exists. This is useful if you want to start a hyperparameter tuning process from scratch.\n",
    "If you want to continue a hyperparameter tuning process, set `TENSORBOARD_CLEAN` to `False`. Then the TensorBoard folder will not be archived and the old and new TensorBoard files will shown in the TensorBoard dashboard.\n",
    ":::\n",
    "\n",
    "\n",
    "## Step 3: SKlearn Load Data (Classification) {#sec-data-loading-10}\n",
    "\n",
    "Randomly generate classification data.\n"
   ]
  },
  {
   "cell_type": "code",
   "execution_count": 4,
   "id": "9670e7ae",
   "metadata": {},
   "outputs": [
    {
     "data": {
      "text/html": [
       "<div>\n",
       "<style scoped>\n",
       "    .dataframe tbody tr th:only-of-type {\n",
       "        vertical-align: middle;\n",
       "    }\n",
       "\n",
       "    .dataframe tbody tr th {\n",
       "        vertical-align: top;\n",
       "    }\n",
       "\n",
       "    .dataframe thead th {\n",
       "        text-align: right;\n",
       "    }\n",
       "</style>\n",
       "<table border=\"1\" class=\"dataframe\">\n",
       "  <thead>\n",
       "    <tr style=\"text-align: right;\">\n",
       "      <th></th>\n",
       "      <th>x1</th>\n",
       "      <th>x2</th>\n",
       "      <th>y</th>\n",
       "    </tr>\n",
       "  </thead>\n",
       "  <tbody>\n",
       "    <tr>\n",
       "      <th>0</th>\n",
       "      <td>1.960101</td>\n",
       "      <td>0.383172</td>\n",
       "      <td>0.0</td>\n",
       "    </tr>\n",
       "    <tr>\n",
       "      <th>1</th>\n",
       "      <td>2.354420</td>\n",
       "      <td>-0.536942</td>\n",
       "      <td>1.0</td>\n",
       "    </tr>\n",
       "    <tr>\n",
       "      <th>2</th>\n",
       "      <td>1.682186</td>\n",
       "      <td>-0.332108</td>\n",
       "      <td>0.0</td>\n",
       "    </tr>\n",
       "    <tr>\n",
       "      <th>3</th>\n",
       "      <td>1.856507</td>\n",
       "      <td>0.687220</td>\n",
       "      <td>1.0</td>\n",
       "    </tr>\n",
       "    <tr>\n",
       "      <th>4</th>\n",
       "      <td>1.925524</td>\n",
       "      <td>0.427413</td>\n",
       "      <td>1.0</td>\n",
       "    </tr>\n",
       "  </tbody>\n",
       "</table>\n",
       "</div>"
      ],
      "text/plain": [
       "         x1        x2    y\n",
       "0  1.960101  0.383172  0.0\n",
       "1  2.354420 -0.536942  1.0\n",
       "2  1.682186 -0.332108  0.0\n",
       "3  1.856507  0.687220  1.0\n",
       "4  1.925524  0.427413  1.0"
      ]
     },
     "execution_count": 4,
     "metadata": {},
     "output_type": "execute_result"
    }
   ],
   "source": [
    "import pandas as pd\n",
    "import numpy as np\n",
    "from sklearn.model_selection import train_test_split\n",
    "from sklearn.datasets import make_moons, make_circles, make_classification\n",
    "n_features = 2\n",
    "n_samples = 500\n",
    "target_column = \"y\"\n",
    "ds =  make_moons(n_samples, noise=0.5, random_state=0)\n",
    "X, y = ds\n",
    "X_train, X_test, y_train, y_test = train_test_split(\n",
    "    X, y, test_size=0.3, random_state=42\n",
    ")\n",
    "train = pd.DataFrame(np.hstack((X_train, y_train.reshape(-1, 1))))\n",
    "test = pd.DataFrame(np.hstack((X_test, y_test.reshape(-1, 1))))\n",
    "train.columns = [f\"x{i}\" for i in range(1, n_features+1)] + [target_column]\n",
    "test.columns = [f\"x{i}\" for i in range(1, n_features+1)] + [target_column]\n",
    "train.head()"
   ]
  },
  {
   "cell_type": "code",
   "execution_count": 5,
   "id": "611db9eb",
   "metadata": {},
   "outputs": [
    {
     "data": {
      "application/pdf": "[encoded data removed]",
      "text/plain": [
       "<Figure size 1650x1050 with 1 Axes>"
      ]
     },
     "metadata": {},
     "output_type": "display_data"
    }
   ],
   "source": [
    "import matplotlib.pyplot as plt\n",
    "from matplotlib.colors import ListedColormap\n",
    "\n",
    "x_min, x_max = X[:, 0].min() - 0.5, X[:, 0].max() + 0.5\n",
    "y_min, y_max = X[:, 1].min() - 0.5, X[:, 1].max() + 0.5\n",
    "cm = plt.cm.RdBu\n",
    "cm_bright = ListedColormap([\"#FF0000\", \"#0000FF\"])\n",
    "ax = plt.subplot(1, 1, 1)\n",
    "ax.set_title(\"Input data\")\n",
    "# Plot the training points\n",
    "ax.scatter(X_train[:, 0], X_train[:, 1], c=y_train, cmap=cm_bright, edgecolors=\"k\")\n",
    "# Plot the testing points\n",
    "ax.scatter(\n",
    "    X_test[:, 0], X_test[:, 1], c=y_test, cmap=cm_bright, alpha=0.6, edgecolors=\"k\"\n",
    ")\n",
    "ax.set_xlim(x_min, x_max)\n",
    "ax.set_ylim(y_min, y_max)\n",
    "ax.set_xticks(())\n",
    "ax.set_yticks(())\n",
    "plt.tight_layout()\n",
    "plt.show()"
   ]
  },
  {
   "cell_type": "code",
   "execution_count": 6,
   "id": "99389b67",
   "metadata": {},
   "outputs": [],
   "source": [
    "n_samples = len(train)\n",
    "# add the dataset to the fun_control\n",
    "fun_control.update({\"data\": None, # dataset,\n",
    "               \"train\": train,\n",
    "               \"test\": test,\n",
    "               \"n_samples\": n_samples,\n",
    "               \"target_column\": target_column})"
   ]
  },
  {
   "cell_type": "markdown",
   "id": "55492598",
   "metadata": {},
   "source": [
    "## Step 4: Specification of the Preprocessing Model {#sec-specification-of-preprocessing-model-10}\n",
    "\n",
    "Data preprocesssing can be very simple, e.g., you can ignore it. Then you would choose the `prep_model` \"None\":\n"
   ]
  },
  {
   "cell_type": "code",
   "execution_count": 7,
   "id": "e2c2aae9",
   "metadata": {},
   "outputs": [],
   "source": [
    "prep_model = None\n",
    "fun_control.update({\"prep_model\": prep_model})"
   ]
  },
  {
   "cell_type": "markdown",
   "id": "14d91393",
   "metadata": {},
   "source": [
    "A default approach for numerical data is the `StandardScaler` (mean 0, variance 1).  This can be selected as follows:\n"
   ]
  },
  {
   "cell_type": "code",
   "execution_count": 8,
   "id": "b7781e37",
   "metadata": {},
   "outputs": [],
   "source": [
    "from sklearn.preprocessing import StandardScaler\n",
    "prep_model = StandardScaler()\n",
    "fun_control.update({\"prep_model\": prep_model})"
   ]
  },
  {
   "cell_type": "markdown",
   "id": "c795b76f",
   "metadata": {},
   "source": [
    "Even more complicated pre-processing steps are possible, e.g., the follwing pipeline:\n",
    "\n",
    "\n",
    "\n",
    "```{raw}\n",
    "categorical_columns = []\n",
    "one_hot_encoder = OneHotEncoder(handle_unknown=\"ignore\", sparse_output=False)\n",
    "prep_model = ColumnTransformer(\n",
    "         transformers=[\n",
    "             (\"categorical\", one_hot_encoder, categorical_columns),\n",
    "         ],\n",
    "         remainder=StandardScaler(),\n",
    "     )\n",
    "```\n",
    "\n",
    "\n",
    "\n",
    "## Step 5: Select Model (`algorithm`) and `core_model_hyper_dict`\n",
    "\n",
    "The selection of the algorithm (ML model) that should be tuned is done by specifying the its name from the `sklearn` implementation.  For example, the `SVC` support vector machine classifier is selected as follows:\n"
   ]
  },
  {
   "cell_type": "code",
   "execution_count": 9,
   "id": "4d57d4de",
   "metadata": {},
   "outputs": [],
   "source": [
    "from spotPython.hyperparameters.values import add_core_model_to_fun_control\n",
    "from spotPython.hyperdict.sklearn_hyper_dict import SklearnHyperDict\n",
    "from sklearn.svm import SVC\n",
    "add_core_model_to_fun_control(core_model=SVC,\n",
    "                              fun_control=fun_control,\n",
    "                              hyper_dict=SklearnHyperDict,\n",
    "                              filename=None)"
   ]
  },
  {
   "cell_type": "markdown",
   "id": "10a20900",
   "metadata": {},
   "source": [
    "Now `fun_control` has the information from the JSON file.\n",
    "The corresponding entries for the `core_model` class are shown below.\n"
   ]
  },
  {
   "cell_type": "code",
   "execution_count": 10,
   "id": "8b276f6c",
   "metadata": {},
   "outputs": [
    {
     "data": {
      "text/plain": [
       "{'C': {'type': 'float',\n",
       "  'default': 1.0,\n",
       "  'transform': 'None',\n",
       "  'lower': 0.1,\n",
       "  'upper': 10.0},\n",
       " 'kernel': {'levels': ['linear', 'poly', 'rbf', 'sigmoid'],\n",
       "  'type': 'factor',\n",
       "  'default': 'rbf',\n",
       "  'transform': 'None',\n",
       "  'core_model_parameter_type': 'str',\n",
       "  'lower': 0,\n",
       "  'upper': 3},\n",
       " 'degree': {'type': 'int',\n",
       "  'default': 3,\n",
       "  'transform': 'None',\n",
       "  'lower': 3,\n",
       "  'upper': 3},\n",
       " 'gamma': {'levels': ['scale', 'auto'],\n",
       "  'type': 'factor',\n",
       "  'default': 'scale',\n",
       "  'transform': 'None',\n",
       "  'core_model_parameter_type': 'str',\n",
       "  'lower': 0,\n",
       "  'upper': 1},\n",
       " 'coef0': {'type': 'float',\n",
       "  'default': 0.0,\n",
       "  'transform': 'None',\n",
       "  'lower': 0.0,\n",
       "  'upper': 0.0},\n",
       " 'shrinking': {'levels': [0, 1],\n",
       "  'type': 'factor',\n",
       "  'default': 0,\n",
       "  'transform': 'None',\n",
       "  'core_model_parameter_type': 'bool',\n",
       "  'lower': 0,\n",
       "  'upper': 1},\n",
       " 'probability': {'levels': [0, 1],\n",
       "  'type': 'factor',\n",
       "  'default': 0,\n",
       "  'transform': 'None',\n",
       "  'core_model_parameter_type': 'bool',\n",
       "  'lower': 0,\n",
       "  'upper': 1},\n",
       " 'tol': {'type': 'float',\n",
       "  'default': 0.001,\n",
       "  'transform': 'None',\n",
       "  'lower': 0.0001,\n",
       "  'upper': 0.01},\n",
       " 'cache_size': {'type': 'float',\n",
       "  'default': 200,\n",
       "  'transform': 'None',\n",
       "  'lower': 100,\n",
       "  'upper': 400},\n",
       " 'break_ties': {'levels': [0, 1],\n",
       "  'type': 'factor',\n",
       "  'default': 0,\n",
       "  'transform': 'None',\n",
       "  'core_model_parameter_type': 'bool',\n",
       "  'lower': 0,\n",
       "  'upper': 1}}"
      ]
     },
     "execution_count": 10,
     "metadata": {},
     "output_type": "execute_result"
    }
   ],
   "source": [
    "fun_control['core_model_hyper_dict']"
   ]
  },
  {
   "cell_type": "markdown",
   "id": "a834b4af",
   "metadata": {},
   "source": [
    ":::{.callout-note}\n",
    "#### `sklearn Model` Selection\n",
    "\n",
    "The following `sklearn` models are supported by default:\n",
    "\n",
    "* RidgeCV\n",
    "* RandomForestClassifier\n",
    "* SVC\n",
    "* LogisticRegression\n",
    "* KNeighborsClassifier\n",
    "* GradientBoostingClassifier\n",
    "* GradientBoostingRegressor\n",
    "* ElasticNet\n",
    "\n",
    "They can be imported as follows:\n",
    "\n",
    "\n",
    "\n",
    "```{raw}\n",
    "from sklearn.linear_model import RidgeCV\n",
    "from sklearn.ensemble import RandomForestClassifier\n",
    "from sklearn.svm import SVC\n",
    "from sklearn.linear_model import LogisticRegression\n",
    "from sklearn.neighbors import KNeighborsClassifier\n",
    "from sklearn.ensemble import GradientBoostingClassifier\n",
    "from sklearn.ensemble import GradientBoostingRegressor\n",
    "from sklearn.linear_model import ElasticNet\n",
    "```\n",
    "\n",
    "\n",
    "\n",
    ":::\n",
    "\n",
    "\n",
    "## Step 6: Modify `hyper_dict` Hyperparameters for the Selected Algorithm aka `core_model`\n",
    "\n",
    " `spotPython` provides functions for modifying the hyperparameters, their bounds and factors as well as for activating and de-activating hyperparameters without re-compilation of the Python source code. These functions were described in @sec-modification-of-hyperparameters-14.\n",
    "\n",
    "### Modify hyperparameter of type numeric and integer (boolean)\n",
    "\n",
    "Numeric and boolean values can be modified using the `modify_hyper_parameter_bounds` method.  \n",
    "\n",
    ":::{.callout-note}\n",
    "#### `sklearn Model` Hyperparameters\n",
    "\n",
    "The hyperparameters of the `sklearn`  `SVC` model are described in the [sklearn documentation](https://scikit-learn.org/stable/modules/generated/sklearn.svm.SVC.html).\n",
    "\n",
    ":::\n",
    "\n",
    "\n",
    "* For example, to change the `tol` hyperparameter of the `SVC` model to the interval [1e-5, 1e-3], the following code can be used:\n"
   ]
  },
  {
   "cell_type": "code",
   "execution_count": 11,
   "id": "bba8bd35",
   "metadata": {},
   "outputs": [
    {
     "data": {
      "text/plain": [
       "{'type': 'float',\n",
       " 'default': 0.001,\n",
       " 'transform': 'None',\n",
       " 'lower': 1e-05,\n",
       " 'upper': 0.001}"
      ]
     },
     "execution_count": 11,
     "metadata": {},
     "output_type": "execute_result"
    }
   ],
   "source": [
    "from spotPython.hyperparameters.values import modify_hyper_parameter_bounds\n",
    "modify_hyper_parameter_bounds(fun_control, \"tol\", bounds=[1e-5, 1e-3])\n",
    "modify_hyper_parameter_bounds(fun_control, \"probability\", bounds=[0, 0])\n",
    "fun_control[\"core_model_hyper_dict\"][\"tol\"]"
   ]
  },
  {
   "cell_type": "markdown",
   "id": "ae1dc90e",
   "metadata": {},
   "source": [
    "### Modify hyperparameter of type factor\n",
    "\n",
    "Factors can be modified with the `modify_hyper_parameter_levels` function.  For example, to exclude the `sigmoid` kernel from the tuning, the `kernel` hyperparameter of the `SVC` model can be modified as follows:\n"
   ]
  },
  {
   "cell_type": "code",
   "execution_count": 12,
   "id": "45255981",
   "metadata": {},
   "outputs": [
    {
     "data": {
      "text/plain": [
       "{'levels': ['poly', 'rbf'],\n",
       " 'type': 'factor',\n",
       " 'default': 'rbf',\n",
       " 'transform': 'None',\n",
       " 'core_model_parameter_type': 'str',\n",
       " 'lower': 0,\n",
       " 'upper': 1}"
      ]
     },
     "execution_count": 12,
     "metadata": {},
     "output_type": "execute_result"
    }
   ],
   "source": [
    "from spotPython.hyperparameters.values import modify_hyper_parameter_levels\n",
    "modify_hyper_parameter_levels(fun_control, \"kernel\", [\"poly\", \"rbf\"])\n",
    "fun_control[\"core_model_hyper_dict\"][\"kernel\"]"
   ]
  },
  {
   "cell_type": "markdown",
   "id": "e5360250",
   "metadata": {},
   "source": [
    "### Optimizers {#sec-optimizers-10}\n",
    "\n",
    "Optimizers are described in @sec-optimizers-14.\n",
    "\n",
    "## Step 7: Selection of the Objective (Loss) Function\n",
    "\n",
    "There are two metrics:\n",
    "\n",
    "1. `metric_river` is used for the river based evaluation via `eval_oml_iter_progressive`.\n",
    "2. `metric_sklearn` is used for the sklearn based evaluation.\n"
   ]
  },
  {
   "cell_type": "code",
   "execution_count": 13,
   "id": "2da1f6d5",
   "metadata": {},
   "outputs": [],
   "source": [
    "from sklearn.metrics import mean_absolute_error, accuracy_score, roc_curve, roc_auc_score, log_loss, mean_squared_error\n",
    "fun_control.update({\n",
    "               \"metric_sklearn\": log_loss,\n",
    "               \"weights\": 1.0,\n",
    "               })"
   ]
  },
  {
   "cell_type": "markdown",
   "id": "67b1078f",
   "metadata": {},
   "source": [
    ":::{.callout-warning}\n",
    "#### `metric_sklearn`: Minimization and Maximization\n",
    "\n",
    "* Because the `metric_sklearn` is used for the sklearn based evaluation, it is important to know whether the metric should be minimized or maximized.\n",
    "* The `weights` parameter is used to indicate whether the metric should be minimized or maximized.\n",
    "* If `weights` is set to `-1.0`, the metric is maximized.\n",
    "* If `weights` is set to `1.0`, the metric is minimized, e.g., `weights = 1.0` for `mean_absolute_error`, or `weights = -1.0` for `roc_auc_score`.\n",
    "\n",
    ":::\n",
    "\n",
    "### Predict Classes or Class Probabilities\n",
    "\n",
    "If the key `\"predict_proba\"` is set to `True`, the class probabilities are predicted. `False` is the default, i.e., the classes are predicted.\n"
   ]
  },
  {
   "cell_type": "code",
   "execution_count": 14,
   "id": "99ed2c6c",
   "metadata": {},
   "outputs": [],
   "source": [
    "fun_control.update({\n",
    "               \"predict_proba\": False,\n",
    "               })"
   ]
  },
  {
   "cell_type": "markdown",
   "id": "48fafac5",
   "metadata": {},
   "source": [
    "## Step 8: Calling the SPOT Function\n",
    "\n",
    "\n",
    "### The Objective Function {#sec-the-objective-function-10}\n",
    "\n",
    "The objective function is selected next. It implements an interface from `sklearn`'s training, validation, and  testing methods to `spotPython`.\n"
   ]
  },
  {
   "cell_type": "code",
   "execution_count": 15,
   "id": "d20680e8",
   "metadata": {},
   "outputs": [],
   "source": [
    "from spotPython.fun.hypersklearn import HyperSklearn\n",
    "fun = HyperSklearn().fun_sklearn"
   ]
  },
  {
   "cell_type": "markdown",
   "id": "d3bb68eb",
   "metadata": {},
   "source": [
    "The following code snippet shows how to get the default hyperparameters as an array, so that they can be passed to the `Spot` function.\n"
   ]
  },
  {
   "cell_type": "code",
   "execution_count": 16,
   "id": "660370f4",
   "metadata": {},
   "outputs": [],
   "source": [
    "from spotPython.hyperparameters.values import get_default_hyperparameters_as_array\n",
    "X_start = get_default_hyperparameters_as_array(fun_control)"
   ]
  },
  {
   "cell_type": "markdown",
   "id": "5d1fd828",
   "metadata": {},
   "source": [
    "### Run the `Spot` Optimizer\n",
    "\n",
    "The class `Spot` [[SOURCE]](https://github.com/sequential-parameter-optimization/spotPython/blob/main/src/spotPython/spot/spot.py) is the hyperparameter tuning workhorse. It is initialized with the following parameters:\n",
    "\n",
    "* `fun`: the objective function\n",
    "* `fun_control`: the dictionary with the control parameters for the objective function\n",
    "* `design`: the experimental design\n",
    "* `design_control`: the dictionary with the control parameters for the experimental design\n",
    "* `surrogate`: the surrogate model\n",
    "* `surrogate_control`: the dictionary with the control parameters for the surrogate model\n",
    "* `optimizer`: the optimizer\n",
    "* `optimizer_control`: the dictionary with the control parameters for the optimizer\n",
    "\n",
    ":::{.callout-note}\n",
    "#### Note: Total run time\n",
    " The total run time may exceed the specified `max_time`, because the initial design (here: `init_size` = INIT_SIZE as specified above) is always evaluated, even if this takes longer than `max_time`.\n",
    ":::\n"
   ]
  },
  {
   "cell_type": "code",
   "execution_count": 17,
   "id": "cb218c3b",
   "metadata": {},
   "outputs": [
    {
     "name": "stderr",
     "output_type": "stream",
     "text": [
      "Seed set to 123\n"
     ]
    },
    {
     "name": "stdout",
     "output_type": "stream",
     "text": [
      "spotPython tuning: 5.734217584632275 [----------] 1.47% \r\n"
     ]
    },
    {
     "name": "stdout",
     "output_type": "stream",
     "text": [
      "spotPython tuning: 5.734217584632275 [----------] 3.09% \r\n"
     ]
    },
    {
     "name": "stdout",
     "output_type": "stream",
     "text": [
      "spotPython tuning: 5.734217584632275 [#---------] 5.13% \r\n"
     ]
    },
    {
     "name": "stdout",
     "output_type": "stream",
     "text": [
      "spotPython tuning: 5.734217584632275 [#---------] 7.00% \r\n"
     ]
    },
    {
     "name": "stdout",
     "output_type": "stream",
     "text": [
      "spotPython tuning: 5.734217584632275 [#---------] 9.31% \r\n"
     ]
    },
    {
     "name": "stdout",
     "output_type": "stream",
     "text": [
      "spotPython tuning: 5.734217584632275 [#---------] 11.25% \r\n"
     ]
    },
    {
     "name": "stdout",
     "output_type": "stream",
     "text": [
      "spotPython tuning: 5.734217584632275 [#---------] 13.85% \r\n"
     ]
    },
    {
     "name": "stdout",
     "output_type": "stream",
     "text": [
      "spotPython tuning: 5.734217584632275 [##--------] 17.90% \r\n"
     ]
    },
    {
     "name": "stdout",
     "output_type": "stream",
     "text": [
      "spotPython tuning: 5.734217584632275 [##--------] 22.28% \r\n"
     ]
    },
    {
     "name": "stdout",
     "output_type": "stream",
     "text": [
      "spotPython tuning: 5.734217584632275 [###-------] 27.19% \r\n"
     ]
    },
    {
     "name": "stdout",
     "output_type": "stream",
     "text": [
      "spotPython tuning: 5.734217584632275 [###-------] 32.60% \r\n"
     ]
    },
    {
     "name": "stdout",
     "output_type": "stream",
     "text": [
      "spotPython tuning: 5.734217584632275 [####------] 37.75% \r\n"
     ]
    },
    {
     "name": "stdout",
     "output_type": "stream",
     "text": [
      "spotPython tuning: 5.734217584632275 [####------] 42.91% \r\n"
     ]
    },
    {
     "name": "stdout",
     "output_type": "stream",
     "text": [
      "spotPython tuning: 5.734217584632275 [#####-----] 46.24% \r\n"
     ]
    },
    {
     "name": "stdout",
     "output_type": "stream",
     "text": [
      "spotPython tuning: 5.734217584632275 [#####-----] 48.70% \r\n"
     ]
    },
    {
     "name": "stdout",
     "output_type": "stream",
     "text": [
      "spotPython tuning: 5.734217584632275 [#####-----] 54.30% \r\n"
     ]
    },
    {
     "name": "stdout",
     "output_type": "stream",
     "text": [
      "spotPython tuning: 5.734217584632275 [#######---] 66.40% \r\n"
     ]
    },
    {
     "name": "stdout",
     "output_type": "stream",
     "text": [
      "spotPython tuning: 5.734217584632275 [########--] 77.13% \r\n"
     ]
    },
    {
     "name": "stdout",
     "output_type": "stream",
     "text": [
      "spotPython tuning: 5.734217584632275 [########--] 83.96% \r\n"
     ]
    },
    {
     "name": "stdout",
     "output_type": "stream",
     "text": [
      "spotPython tuning: 5.734217584632275 [#########-] 91.34% \r\n"
     ]
    },
    {
     "name": "stdout",
     "output_type": "stream",
     "text": [
      "spotPython tuning: 5.734217584632275 [##########] 98.33% \r\n"
     ]
    },
    {
     "name": "stdout",
     "output_type": "stream",
     "text": [
      "spotPython tuning: 5.734217584632275 [##########] 100.00% Done...\r\n",
      "\r\n"
     ]
    },
    {
     "data": {
      "text/plain": [
       "<spotPython.spot.spot.Spot at 0x32016ae10>"
      ]
     },
     "execution_count": 17,
     "metadata": {},
     "output_type": "execute_result"
    }
   ],
   "source": [
    "from spotPython.utils.init import design_control_init, surrogate_control_init\n",
    "design_control = design_control_init()\n",
    "set_control_key_value(control_dict=design_control,\n",
    "                        key=\"init_size\",\n",
    "                        value=INIT_SIZE,\n",
    "                        replace=True)\n",
    "\n",
    "surrogate_control = surrogate_control_init(noise=True,\n",
    "                                           n_theta=2)\n",
    "from spotPython.spot import spot\n",
    "spot_tuner = spot.Spot(fun=fun,\n",
    "                   fun_control=fun_control,\n",
    "                   design_control=design_control,\n",
    "                   surrogate_control=surrogate_control)\n",
    "spot_tuner.run(X_start=X_start)"
   ]
  },
  {
   "cell_type": "markdown",
   "id": "a6ff4cda",
   "metadata": {},
   "source": [
    "### TensorBoard {#sec-tensorboard-10}\n",
    "\n",
    "Now we can start TensorBoard in the background with the following command, where `./runs` is the default directory for the TensorBoard log files:\n",
    "\n",
    "\n",
    "\n",
    "```{raw}\n",
    "tensorboard --logdir=\"./runs\"\n",
    "```\n",
    "\n",
    "\n",
    "\n",
    ":::{.callout-tip}\n",
    "#### Tip: TENSORBOARD_PATH\n",
    "The TensorBoard path can be printed with the following command:\n"
   ]
  },
  {
   "cell_type": "code",
   "execution_count": 18,
   "id": "aef3fb4e",
   "metadata": {},
   "outputs": [
    {
     "data": {
      "text/plain": [
       "'runs/'"
      ]
     },
     "execution_count": 18,
     "metadata": {},
     "output_type": "execute_result"
    }
   ],
   "source": [
    "from spotPython.utils.init import get_tensorboard_path\n",
    "get_tensorboard_path(fun_control)"
   ]
  },
  {
   "cell_type": "markdown",
   "id": "8a4b3892",
   "metadata": {},
   "source": [
    ":::\n",
    "\n",
    "We can access the TensorBoard web server with the following URL:\n",
    "\n",
    "\n",
    "\n",
    "```{raw}\n",
    "http://localhost:6006/\n",
    "```\n",
    "\n",
    "\n",
    "\n",
    "The TensorBoard plot illustrates how `spotPython` can be used as a microscope for the internal mechanisms of the surrogate-based optimization process. Here, one important parameter, the learning rate $\\theta$ of the Kriging surrogate [[SOURCE]](https://github.com/sequential-parameter-optimization/spotPython/blob/main/src/spotPython/build/kriging.py) is plotted against the number of optimization steps.\n",
    "\n",
    "![TensorBoard visualization of the spotPython optimization process and the surrogate model.](figures_static/13_tensorboard_01.png){width=\"100%\"}\n",
    "\n",
    "## Step 9: Results {#sec-results-tuning-10}\n",
    "\n",
    "\n",
    "After the hyperparameter tuning run is finished, the results can be saved and reloaded with the following commands:\n"
   ]
  },
  {
   "cell_type": "code",
   "execution_count": 19,
   "id": "2c05c9c5",
   "metadata": {},
   "outputs": [],
   "source": [
    "from spotPython.utils.file import save_pickle, load_pickle\n",
    "from spotPython.utils.init import get_experiment_name\n",
    "experiment_name = get_experiment_name(PREFIX)\n",
    "SAVE_AND_LOAD = False\n",
    "if SAVE_AND_LOAD == True:\n",
    "    save_pickle(spot_tuner, experiment_name)\n",
    "    spot_tuner = load_pickle(experiment_name)"
   ]
  },
  {
   "cell_type": "markdown",
   "id": "ed8ffb20",
   "metadata": {},
   "source": [
    "After the hyperparameter tuning run is finished, the progress of the hyperparameter tuning can be visualized. The black points represent the performace values (score or metric) of  hyperparameter configurations from the initial design, whereas the red points represents the  hyperparameter configurations found by the surrogate model based optimization.\n"
   ]
  },
  {
   "cell_type": "code",
   "execution_count": 20,
   "id": "da79a51c",
   "metadata": {},
   "outputs": [
    {
     "data": {
      "application/pdf": "[encoded data removed]",
      "text/plain": [
       "<Figure size 2700x1800 with 1 Axes>"
      ]
     },
     "metadata": {},
     "output_type": "display_data"
    }
   ],
   "source": [
    "spot_tuner.plot_progress(log_y=True, filename=\"./figures/\" + experiment_name+\"_progress.pdf\")"
   ]
  },
  {
   "cell_type": "markdown",
   "id": "4166385b",
   "metadata": {},
   "source": [
    "Results can also be printed in tabular form.\n"
   ]
  },
  {
   "cell_type": "code",
   "execution_count": 21,
   "id": "be91bbff",
   "metadata": {},
   "outputs": [
    {
     "name": "stdout",
     "output_type": "stream",
     "text": [
      "| name        | type   | default   |   lower |   upper | tuned                | transform   |   importance | stars   |\n",
      "|-------------|--------|-----------|---------|---------|----------------------|-------------|--------------|---------|\n",
      "| C           | float  | 1.0       |     0.1 |    10.0 | 2.394471655384338    | None        |         0.01 |         |\n",
      "| kernel      | factor | rbf       |     0.0 |     1.0 | rbf                  | None        |       100.00 | ***     |\n",
      "| degree      | int    | 3         |     3.0 |     3.0 | 3.0                  | None        |         0.00 |         |\n",
      "| gamma       | factor | scale     |     0.0 |     1.0 | scale                | None        |         4.86 | *       |\n",
      "| coef0       | float  | 0.0       |     0.0 |     0.0 | 0.0                  | None        |         0.00 |         |\n",
      "| shrinking   | factor | 0         |     0.0 |     1.0 | 0                    | None        |         0.00 |         |\n",
      "| probability | factor | 0         |     0.0 |     0.0 | 0                    | None        |         0.00 |         |\n",
      "| tol         | float  | 0.001     |   1e-05 |   0.001 | 0.000982585315792582 | None        |         0.01 |         |\n",
      "| cache_size  | float  | 200.0     |   100.0 |   400.0 | 375.6371648003268    | None        |         0.00 |         |\n",
      "| break_ties  | factor | 0         |     0.0 |     1.0 | 0                    | None        |         4.85 | *       |\n"
     ]
    }
   ],
   "source": [
    "print(gen_design_table(fun_control=fun_control, spot=spot_tuner))"
   ]
  },
  {
   "cell_type": "markdown",
   "id": "8bd9f38b",
   "metadata": {},
   "source": [
    "A histogram can be used to visualize the most important hyperparameters.\n"
   ]
  },
  {
   "cell_type": "code",
   "execution_count": 22,
   "id": "24ad23a8",
   "metadata": {},
   "outputs": [
    {
     "data": {
      "application/pdf": "[encoded data removed]",
      "text/plain": [
       "<Figure size 1650x1050 with 1 Axes>"
      ]
     },
     "metadata": {},
     "output_type": "display_data"
    }
   ],
   "source": [
    "spot_tuner.plot_importance(threshold=0.0025, filename=\"./figures/\" + experiment_name+\"_importance.pdf\")"
   ]
  },
  {
   "cell_type": "markdown",
   "id": "eb1953a6",
   "metadata": {},
   "source": [
    "## Get Default Hyperparameters\n",
    "\n",
    "The default hyperparameters, whihc will be used for a comparion with the tuned hyperparameters, can be obtained with the following commands:\n"
   ]
  },
  {
   "cell_type": "code",
   "execution_count": 23,
   "id": "933253ed",
   "metadata": {},
   "outputs": [
    {
     "data": {
      "text/html": [
       "<style>#sk-container-id-1 {color: black;}#sk-container-id-1 pre{padding: 0;}#sk-container-id-1 div.sk-toggleable {background-color: white;}#sk-container-id-1 label.sk-toggleable__label {cursor: pointer;display: block;width: 100%;margin-bottom: 0;padding: 0.3em;box-sizing: border-box;text-align: center;}#sk-container-id-1 label.sk-toggleable__label-arrow:before {content: \"▸\";float: left;margin-right: 0.25em;color: #696969;}#sk-container-id-1 label.sk-toggleable__label-arrow:hover:before {color: black;}#sk-container-id-1 div.sk-estimator:hover label.sk-toggleable__label-arrow:before {color: black;}#sk-container-id-1 div.sk-toggleable__content {max-height: 0;max-width: 0;overflow: hidden;text-align: left;background-color: #f0f8ff;}#sk-container-id-1 div.sk-toggleable__content pre {margin: 0.2em;color: black;border-radius: 0.25em;background-color: #f0f8ff;}#sk-container-id-1 input.sk-toggleable__control:checked~div.sk-toggleable__content {max-height: 200px;max-width: 100%;overflow: auto;}#sk-container-id-1 input.sk-toggleable__control:checked~label.sk-toggleable__label-arrow:before {content: \"▾\";}#sk-container-id-1 div.sk-estimator input.sk-toggleable__control:checked~label.sk-toggleable__label {background-color: #d4ebff;}#sk-container-id-1 div.sk-label input.sk-toggleable__control:checked~label.sk-toggleable__label {background-color: #d4ebff;}#sk-container-id-1 input.sk-hidden--visually {border: 0;clip: rect(1px 1px 1px 1px);clip: rect(1px, 1px, 1px, 1px);height: 1px;margin: -1px;overflow: hidden;padding: 0;position: absolute;width: 1px;}#sk-container-id-1 div.sk-estimator {font-family: monospace;background-color: #f0f8ff;border: 1px dotted black;border-radius: 0.25em;box-sizing: border-box;margin-bottom: 0.5em;}#sk-container-id-1 div.sk-estimator:hover {background-color: #d4ebff;}#sk-container-id-1 div.sk-parallel-item::after {content: \"\";width: 100%;border-bottom: 1px solid gray;flex-grow: 1;}#sk-container-id-1 div.sk-label:hover label.sk-toggleable__label {background-color: #d4ebff;}#sk-container-id-1 div.sk-serial::before {content: \"\";position: absolute;border-left: 1px solid gray;box-sizing: border-box;top: 0;bottom: 0;left: 50%;z-index: 0;}#sk-container-id-1 div.sk-serial {display: flex;flex-direction: column;align-items: center;background-color: white;padding-right: 0.2em;padding-left: 0.2em;position: relative;}#sk-container-id-1 div.sk-item {position: relative;z-index: 1;}#sk-container-id-1 div.sk-parallel {display: flex;align-items: stretch;justify-content: center;background-color: white;position: relative;}#sk-container-id-1 div.sk-item::before, #sk-container-id-1 div.sk-parallel-item::before {content: \"\";position: absolute;border-left: 1px solid gray;box-sizing: border-box;top: 0;bottom: 0;left: 50%;z-index: -1;}#sk-container-id-1 div.sk-parallel-item {display: flex;flex-direction: column;z-index: 1;position: relative;background-color: white;}#sk-container-id-1 div.sk-parallel-item:first-child::after {align-self: flex-end;width: 50%;}#sk-container-id-1 div.sk-parallel-item:last-child::after {align-self: flex-start;width: 50%;}#sk-container-id-1 div.sk-parallel-item:only-child::after {width: 0;}#sk-container-id-1 div.sk-dashed-wrapped {border: 1px dashed gray;margin: 0 0.4em 0.5em 0.4em;box-sizing: border-box;padding-bottom: 0.4em;background-color: white;}#sk-container-id-1 div.sk-label label {font-family: monospace;font-weight: bold;display: inline-block;line-height: 1.2em;}#sk-container-id-1 div.sk-label-container {text-align: center;}#sk-container-id-1 div.sk-container {/* jupyter's `normalize.less` sets `[hidden] { display: none; }` but bootstrap.min.css set `[hidden] { display: none !important; }` so we also need the `!important` here to be able to override the default hidden behavior on the sphinx rendered scikit-learn.org. See: https://github.com/scikit-learn/scikit-learn/issues/21755 */display: inline-block !important;position: relative;}#sk-container-id-1 div.sk-text-repr-fallback {display: none;}</style><div id=\"sk-container-id-1\" class=\"sk-top-container\"><div class=\"sk-text-repr-fallback\"><pre>SVC(break_ties=0, cache_size=200.0, probability=0, shrinking=0)</pre><b>In a Jupyter environment, please rerun this cell to show the HTML representation or trust the notebook. <br />On GitHub, the HTML representation is unable to render, please try loading this page with nbviewer.org.</b></div><div class=\"sk-container\" hidden><div class=\"sk-item\"><div class=\"sk-estimator sk-toggleable\"><input class=\"sk-toggleable__control sk-hidden--visually\" id=\"sk-estimator-id-1\" type=\"checkbox\" checked><label for=\"sk-estimator-id-1\" class=\"sk-toggleable__label sk-toggleable__label-arrow\">SVC</label><div class=\"sk-toggleable__content\"><pre>SVC(break_ties=0, cache_size=200.0, probability=0, shrinking=0)</pre></div></div></div></div></div>"
      ],
      "text/plain": [
       "SVC(break_ties=0, cache_size=200.0, probability=0, shrinking=0)"
      ]
     },
     "execution_count": 23,
     "metadata": {},
     "output_type": "execute_result"
    }
   ],
   "source": [
    "from spotPython.hyperparameters.values import get_one_core_model_from_X\n",
    "from spotPython.hyperparameters.values import get_default_hyperparameters_as_array\n",
    "X_start = get_default_hyperparameters_as_array(fun_control)\n",
    "model_default = get_one_core_model_from_X(X_start, fun_control)\n",
    "model_default"
   ]
  },
  {
   "cell_type": "markdown",
   "id": "5208b146",
   "metadata": {},
   "source": [
    "## Get SPOT Results\n",
    "\n",
    "In a similar way, we can obtain the hyperparameters found by `spotPython`.\n"
   ]
  },
  {
   "cell_type": "code",
   "execution_count": 24,
   "id": "c94ab80f",
   "metadata": {},
   "outputs": [],
   "source": [
    "from spotPython.hyperparameters.values import get_one_core_model_from_X\n",
    "X = spot_tuner.to_all_dim(spot_tuner.min_X.reshape(1,-1))\n",
    "model_spot = get_one_core_model_from_X(X, fun_control)"
   ]
  },
  {
   "cell_type": "markdown",
   "id": "cc5c643e",
   "metadata": {},
   "source": [
    "### Plot: Compare Predictions\n"
   ]
  },
  {
   "cell_type": "code",
   "execution_count": 25,
   "id": "0b18efa9",
   "metadata": {},
   "outputs": [
    {
     "data": {
      "application/pdf": "[encoded data removed]",
      "text/plain": [
       "<Figure size 1650x1050 with 1 Axes>"
      ]
     },
     "metadata": {},
     "output_type": "display_data"
    }
   ],
   "source": [
    "from spotPython.plot.validation import plot_roc\n",
    "plot_roc(model_list=[model_default, model_spot], fun_control= fun_control, model_names=[\"Default\", \"Spot\"])"
   ]
  },
  {
   "cell_type": "code",
   "execution_count": 26,
   "id": "3a6ea3a5",
   "metadata": {},
   "outputs": [
    {
     "data": {
      "application/pdf": "[encoded data removed]",
      "text/plain": [
       "<Figure size 3000x1500 with 1 Axes>"
      ]
     },
     "metadata": {},
     "output_type": "display_data"
    }
   ],
   "source": [
    "from spotPython.plot.validation import plot_confusion_matrix\n",
    "plot_confusion_matrix(model=model_default, fun_control=fun_control, title = \"Default\")"
   ]
  },
  {
   "cell_type": "code",
   "execution_count": 27,
   "id": "c36d9948",
   "metadata": {},
   "outputs": [
    {
     "data": {
      "application/pdf": "[encoded data removed]",
      "text/plain": [
       "<Figure size 3000x1500 with 1 Axes>"
      ]
     },
     "metadata": {},
     "output_type": "display_data"
    }
   ],
   "source": [
    "plot_confusion_matrix(model=model_spot, fun_control=fun_control, title=\"SPOT\")"
   ]
  },
  {
   "cell_type": "code",
   "execution_count": 28,
   "id": "541d5d31",
   "metadata": {},
   "outputs": [
    {
     "data": {
      "text/plain": [
       "(5.734217584632275, 7.782152436286657)"
      ]
     },
     "execution_count": 28,
     "metadata": {},
     "output_type": "execute_result"
    }
   ],
   "source": [
    "min(spot_tuner.y), max(spot_tuner.y)"
   ]
  },
  {
   "cell_type": "markdown",
   "id": "bf84c54f",
   "metadata": {},
   "source": [
    "### Detailed Hyperparameter Plots\n"
   ]
  },
  {
   "cell_type": "code",
   "execution_count": 29,
   "id": "a3160681",
   "metadata": {},
   "outputs": [
    {
     "name": "stdout",
     "output_type": "stream",
     "text": [
      "kernel:  100.0\n",
      "gamma:  4.856095193007176\n",
      "break_ties:  4.84894381936563\n",
      "impo: [['C', 0.010800961583493], ['kernel', 100.0], ['gamma', 4.856095193007176], ['shrinking', 0.001], ['tol', 0.005132932156692355], ['cache_size', 0.001], ['break_ties', 4.84894381936563]]\n",
      "impo after select: [['C', 0.010800961583493], ['kernel', 100.0], ['gamma', 4.856095193007176], ['shrinking', 0.001], ['tol', 0.005132932156692355], ['cache_size', 0.001], ['break_ties', 4.84894381936563]]\n"
     ]
    },
    {
     "data": {
      "application/pdf": "[encoded data removed]",
      "text/plain": [
       "<Figure size 2700x1800 with 3 Axes>"
      ]
     },
     "metadata": {},
     "output_type": "display_data"
    },
    {
     "data": {
      "application/pdf": "[encoded data removed]",
      "text/plain": [
       "<Figure size 2700x1800 with 3 Axes>"
      ]
     },
     "metadata": {},
     "output_type": "display_data"
    },
    {
     "data": {
      "application/pdf": "[encoded data removed]",
      "text/plain": [
       "<Figure size 2700x1800 with 3 Axes>"
      ]
     },
     "metadata": {},
     "output_type": "display_data"
    }
   ],
   "source": [
    "spot_tuner.plot_important_hyperparameter_contour(filename=None)"
   ]
  },
  {
   "cell_type": "markdown",
   "id": "5ab47236",
   "metadata": {},
   "source": [
    "### Parallel Coordinates Plot\n"
   ]
  },
  {
   "cell_type": "code",
   "execution_count": 30,
   "id": "c3e3457a",
   "metadata": {},
   "outputs": [
    {
     "data": {
      "text/html": [
       "        <script type=\"text/javascript\">\n",
       "        window.PlotlyConfig = {MathJaxConfig: 'local'};\n",
       "        if (window.MathJax && window.MathJax.Hub && window.MathJax.Hub.Config) {window.MathJax.Hub.Config({SVG: {font: \"STIX-Web\"}});}\n",
       "        if (typeof require !== 'undefined') {\n",
       "        require.undef(\"plotly\");\n",
       "        requirejs.config({\n",
       "            paths: {\n",
       "                'plotly': ['https://cdn.plot.ly/plotly-2.27.0.min']\n",
       "            }\n",
       "        });\n",
       "        require(['plotly'], function(Plotly) {\n",
       "            window._Plotly = Plotly;\n",
       "        });\n",
       "        }\n",
       "        </script>\n",
       "        "
      ]
     },
     "metadata": {},
     "output_type": "display_data"
    },
    {
     "data": {
      "text/html": [
       "<div>                            <div id=\"2ec15b95-2ff3-4f60-aadf-4a4da0708876\" class=\"plotly-graph-div\" style=\"height:525px; width:100%;\"></div>            <script type=\"text/javascript\">                require([\"plotly\"], function(Plotly) {                    window.PLOTLYENV=window.PLOTLYENV || {};                                    if (document.getElementById(\"2ec15b95-2ff3-4f60-aadf-4a4da0708876\")) {                    Plotly.newPlot(                        \"2ec15b95-2ff3-4f60-aadf-4a4da0708876\",                        [{\"dimensions\":[{\"label\":\"C\",\"range\":[0.1,9.090585513144193],\"values\":[2.394471655384338,5.7661913461808645,1.3459476182876375,4.885755046691663,9.090585513144193,0.8149133626040614,6.794472664366679,8.54637059091769,7.193248676164517,3.626934042058313,2.312896945966241,1.6767117177955304,0.1,2.9334511549898012,4.664024231862237,1.786753687439267,1.1012463589572183,6.977385070627844,6.091277500989668,2.796321360578853,1.3140573819208736,3.372004113450193,0.1,1.9457873849095877,7.13032775626754,2.8008570931768753,2.5528540132215842,2.4762395859739907,0.1,2.65074975204857,1.711662087852718,3.1276985859529782]},{\"label\":\"kernel\",\"range\":[0.0,1.0],\"values\":[1.0,0.0,1.0,0.0,0.0,1.0,1.0,0.0,0.0,1.0,1.0,1.0,1.0,1.0,1.0,1.0,1.0,1.0,1.0,1.0,1.0,1.0,1.0,1.0,1.0,1.0,1.0,1.0,1.0,1.0,1.0,1.0]},{\"label\":\"gamma\",\"range\":[0.0,1.0],\"values\":[0.0,1.0,0.0,0.0,1.0,0.0,1.0,1.0,0.0,1.0,1.0,0.0,1.0,0.0,0.0,0.0,0.0,1.0,0.0,0.0,1.0,0.0,0.0,0.0,0.0,0.0,0.0,1.0,0.0,0.0,1.0,0.0]},{\"label\":\"shrinking\",\"range\":[0.0,1.0],\"values\":[0.0,1.0,1.0,0.0,1.0,1.0,0.0,0.0,0.0,1.0,1.0,1.0,0.0,0.0,0.0,1.0,1.0,1.0,1.0,1.0,0.0,0.0,0.0,0.0,0.0,0.0,0.0,1.0,1.0,1.0,0.0,0.0]},{\"label\":\"tol\",\"range\":[1e-05,0.001],\"values\":[0.000982585315792582,0.0008767485044941892,2.988661226661179e-05,0.000602525403240737,0.0006814038555482512,0.0007498228336810006,0.0004045670267977834,0.00017027429296623392,0.0002575508117200013,0.00044326771818634753,0.00012716856898525495,0.001,1e-05,0.0005291575392738421,0.001,1e-05,0.001,0.001,0.001,0.001,0.001,1e-05,0.001,0.001,0.001,1e-05,0.001,0.001,0.001,0.001,1e-05,0.001]},{\"label\":\"cache_size\",\"range\":[115.86600313328617,388.5478875061753],\"values\":[375.6371648003268,315.27275211707763,174.45504889441855,115.86600313328617,134.01617707785272,367.8553958012981,309.0234423518024,262.723807478891,227.23569036988397,191.61659736967775,183.0953344171446,371.7401159064142,372.9472035801147,185.0599101495864,358.62482361757645,179.62851769598907,354.96979463973895,186.73927650614445,376.7848242654899,364.70410752989943,194.2274819268647,352.565661708406,388.5478875061753,364.43642338347956,346.3405785043315,357.39616734069233,362.79340497991967,192.91904878591828,357.49232921647314,363.77811335416504,187.98270548570468,370.9956437722054]},{\"label\":\"break_ties\",\"range\":[0.0,1.0],\"values\":[0.0,1.0,0.0,1.0,1.0,0.0,0.0,0.0,1.0,1.0,1.0,1.0,0.0,1.0,0.0,0.0,0.0,1.0,0.0,0.0,1.0,0.0,0.0,1.0,0.0,0.0,0.0,1.0,1.0,0.0,1.0,1.0]}],\"line\":{\"cmax\":7.782152436286657,\"cmin\":5.734217584632275,\"color\":[5.734217584632275,7.782152436286657,5.734217584632275,7.782152436286657,7.782152436286657,5.734217584632275,6.143804554963151,7.782152436286657,7.782152436286657,5.734217584632275,5.734217584632275,5.734217584632275,6.143804554963151,5.734217584632275,5.734217584632275,5.734217584632275,5.734217584632275,6.143804554963151,6.143804554963151,5.734217584632275,5.734217584632275,5.734217584632275,6.143804554963151,5.734217584632275,6.143804554963151,5.734217584632275,5.734217584632275,5.734217584632275,6.143804554963151,5.734217584632275,5.734217584632275,5.734217584632275],\"colorscale\":[[0.0,\"rgb(0,0,131)\"],[0.2,\"rgb(0,60,170)\"],[0.4,\"rgb(5,255,255)\"],[0.6,\"rgb(255,255,0)\"],[0.8,\"rgb(250,0,0)\"],[1.0,\"rgb(128,0,0)\"]],\"showscale\":true},\"type\":\"parcoords\"}],                        {\"template\":{\"data\":{\"histogram2dcontour\":[{\"type\":\"histogram2dcontour\",\"colorbar\":{\"outlinewidth\":0,\"ticks\":\"\"},\"colorscale\":[[0.0,\"#0d0887\"],[0.1111111111111111,\"#46039f\"],[0.2222222222222222,\"#7201a8\"],[0.3333333333333333,\"#9c179e\"],[0.4444444444444444,\"#bd3786\"],[0.5555555555555556,\"#d8576b\"],[0.6666666666666666,\"#ed7953\"],[0.7777777777777778,\"#fb9f3a\"],[0.8888888888888888,\"#fdca26\"],[1.0,\"#f0f921\"]]}],\"choropleth\":[{\"type\":\"choropleth\",\"colorbar\":{\"outlinewidth\":0,\"ticks\":\"\"}}],\"histogram2d\":[{\"type\":\"histogram2d\",\"colorbar\":{\"outlinewidth\":0,\"ticks\":\"\"},\"colorscale\":[[0.0,\"#0d0887\"],[0.1111111111111111,\"#46039f\"],[0.2222222222222222,\"#7201a8\"],[0.3333333333333333,\"#9c179e\"],[0.4444444444444444,\"#bd3786\"],[0.5555555555555556,\"#d8576b\"],[0.6666666666666666,\"#ed7953\"],[0.7777777777777778,\"#fb9f3a\"],[0.8888888888888888,\"#fdca26\"],[1.0,\"#f0f921\"]]}],\"heatmap\":[{\"type\":\"heatmap\",\"colorbar\":{\"outlinewidth\":0,\"ticks\":\"\"},\"colorscale\":[[0.0,\"#0d0887\"],[0.1111111111111111,\"#46039f\"],[0.2222222222222222,\"#7201a8\"],[0.3333333333333333,\"#9c179e\"],[0.4444444444444444,\"#bd3786\"],[0.5555555555555556,\"#d8576b\"],[0.6666666666666666,\"#ed7953\"],[0.7777777777777778,\"#fb9f3a\"],[0.8888888888888888,\"#fdca26\"],[1.0,\"#f0f921\"]]}],\"heatmapgl\":[{\"type\":\"heatmapgl\",\"colorbar\":{\"outlinewidth\":0,\"ticks\":\"\"},\"colorscale\":[[0.0,\"#0d0887\"],[0.1111111111111111,\"#46039f\"],[0.2222222222222222,\"#7201a8\"],[0.3333333333333333,\"#9c179e\"],[0.4444444444444444,\"#bd3786\"],[0.5555555555555556,\"#d8576b\"],[0.6666666666666666,\"#ed7953\"],[0.7777777777777778,\"#fb9f3a\"],[0.8888888888888888,\"#fdca26\"],[1.0,\"#f0f921\"]]}],\"contourcarpet\":[{\"type\":\"contourcarpet\",\"colorbar\":{\"outlinewidth\":0,\"ticks\":\"\"}}],\"contour\":[{\"type\":\"contour\",\"colorbar\":{\"outlinewidth\":0,\"ticks\":\"\"},\"colorscale\":[[0.0,\"#0d0887\"],[0.1111111111111111,\"#46039f\"],[0.2222222222222222,\"#7201a8\"],[0.3333333333333333,\"#9c179e\"],[0.4444444444444444,\"#bd3786\"],[0.5555555555555556,\"#d8576b\"],[0.6666666666666666,\"#ed7953\"],[0.7777777777777778,\"#fb9f3a\"],[0.8888888888888888,\"#fdca26\"],[1.0,\"#f0f921\"]]}],\"surface\":[{\"type\":\"surface\",\"colorbar\":{\"outlinewidth\":0,\"ticks\":\"\"},\"colorscale\":[[0.0,\"#0d0887\"],[0.1111111111111111,\"#46039f\"],[0.2222222222222222,\"#7201a8\"],[0.3333333333333333,\"#9c179e\"],[0.4444444444444444,\"#bd3786\"],[0.5555555555555556,\"#d8576b\"],[0.6666666666666666,\"#ed7953\"],[0.7777777777777778,\"#fb9f3a\"],[0.8888888888888888,\"#fdca26\"],[1.0,\"#f0f921\"]]}],\"mesh3d\":[{\"type\":\"mesh3d\",\"colorbar\":{\"outlinewidth\":0,\"ticks\":\"\"}}],\"scatter\":[{\"fillpattern\":{\"fillmode\":\"overlay\",\"size\":10,\"solidity\":0.2},\"type\":\"scatter\"}],\"parcoords\":[{\"type\":\"parcoords\",\"line\":{\"colorbar\":{\"outlinewidth\":0,\"ticks\":\"\"}}}],\"scatterpolargl\":[{\"type\":\"scatterpolargl\",\"marker\":{\"colorbar\":{\"outlinewidth\":0,\"ticks\":\"\"}}}],\"bar\":[{\"error_x\":{\"color\":\"#2a3f5f\"},\"error_y\":{\"color\":\"#2a3f5f\"},\"marker\":{\"line\":{\"color\":\"#E5ECF6\",\"width\":0.5},\"pattern\":{\"fillmode\":\"overlay\",\"size\":10,\"solidity\":0.2}},\"type\":\"bar\"}],\"scattergeo\":[{\"type\":\"scattergeo\",\"marker\":{\"colorbar\":{\"outlinewidth\":0,\"ticks\":\"\"}}}],\"scatterpolar\":[{\"type\":\"scatterpolar\",\"marker\":{\"colorbar\":{\"outlinewidth\":0,\"ticks\":\"\"}}}],\"histogram\":[{\"marker\":{\"pattern\":{\"fillmode\":\"overlay\",\"size\":10,\"solidity\":0.2}},\"type\":\"histogram\"}],\"scattergl\":[{\"type\":\"scattergl\",\"marker\":{\"colorbar\":{\"outlinewidth\":0,\"ticks\":\"\"}}}],\"scatter3d\":[{\"type\":\"scatter3d\",\"line\":{\"colorbar\":{\"outlinewidth\":0,\"ticks\":\"\"}},\"marker\":{\"colorbar\":{\"outlinewidth\":0,\"ticks\":\"\"}}}],\"scattermapbox\":[{\"type\":\"scattermapbox\",\"marker\":{\"colorbar\":{\"outlinewidth\":0,\"ticks\":\"\"}}}],\"scatterternary\":[{\"type\":\"scatterternary\",\"marker\":{\"colorbar\":{\"outlinewidth\":0,\"ticks\":\"\"}}}],\"scattercarpet\":[{\"type\":\"scattercarpet\",\"marker\":{\"colorbar\":{\"outlinewidth\":0,\"ticks\":\"\"}}}],\"carpet\":[{\"aaxis\":{\"endlinecolor\":\"#2a3f5f\",\"gridcolor\":\"white\",\"linecolor\":\"white\",\"minorgridcolor\":\"white\",\"startlinecolor\":\"#2a3f5f\"},\"baxis\":{\"endlinecolor\":\"#2a3f5f\",\"gridcolor\":\"white\",\"linecolor\":\"white\",\"minorgridcolor\":\"white\",\"startlinecolor\":\"#2a3f5f\"},\"type\":\"carpet\"}],\"table\":[{\"cells\":{\"fill\":{\"color\":\"#EBF0F8\"},\"line\":{\"color\":\"white\"}},\"header\":{\"fill\":{\"color\":\"#C8D4E3\"},\"line\":{\"color\":\"white\"}},\"type\":\"table\"}],\"barpolar\":[{\"marker\":{\"line\":{\"color\":\"#E5ECF6\",\"width\":0.5},\"pattern\":{\"fillmode\":\"overlay\",\"size\":10,\"solidity\":0.2}},\"type\":\"barpolar\"}],\"pie\":[{\"automargin\":true,\"type\":\"pie\"}]},\"layout\":{\"autotypenumbers\":\"strict\",\"colorway\":[\"#636efa\",\"#EF553B\",\"#00cc96\",\"#ab63fa\",\"#FFA15A\",\"#19d3f3\",\"#FF6692\",\"#B6E880\",\"#FF97FF\",\"#FECB52\"],\"font\":{\"color\":\"#2a3f5f\"},\"hovermode\":\"closest\",\"hoverlabel\":{\"align\":\"left\"},\"paper_bgcolor\":\"white\",\"plot_bgcolor\":\"#E5ECF6\",\"polar\":{\"bgcolor\":\"#E5ECF6\",\"angularaxis\":{\"gridcolor\":\"white\",\"linecolor\":\"white\",\"ticks\":\"\"},\"radialaxis\":{\"gridcolor\":\"white\",\"linecolor\":\"white\",\"ticks\":\"\"}},\"ternary\":{\"bgcolor\":\"#E5ECF6\",\"aaxis\":{\"gridcolor\":\"white\",\"linecolor\":\"white\",\"ticks\":\"\"},\"baxis\":{\"gridcolor\":\"white\",\"linecolor\":\"white\",\"ticks\":\"\"},\"caxis\":{\"gridcolor\":\"white\",\"linecolor\":\"white\",\"ticks\":\"\"}},\"coloraxis\":{\"colorbar\":{\"outlinewidth\":0,\"ticks\":\"\"}},\"colorscale\":{\"sequential\":[[0.0,\"#0d0887\"],[0.1111111111111111,\"#46039f\"],[0.2222222222222222,\"#7201a8\"],[0.3333333333333333,\"#9c179e\"],[0.4444444444444444,\"#bd3786\"],[0.5555555555555556,\"#d8576b\"],[0.6666666666666666,\"#ed7953\"],[0.7777777777777778,\"#fb9f3a\"],[0.8888888888888888,\"#fdca26\"],[1.0,\"#f0f921\"]],\"sequentialminus\":[[0.0,\"#0d0887\"],[0.1111111111111111,\"#46039f\"],[0.2222222222222222,\"#7201a8\"],[0.3333333333333333,\"#9c179e\"],[0.4444444444444444,\"#bd3786\"],[0.5555555555555556,\"#d8576b\"],[0.6666666666666666,\"#ed7953\"],[0.7777777777777778,\"#fb9f3a\"],[0.8888888888888888,\"#fdca26\"],[1.0,\"#f0f921\"]],\"diverging\":[[0,\"#8e0152\"],[0.1,\"#c51b7d\"],[0.2,\"#de77ae\"],[0.3,\"#f1b6da\"],[0.4,\"#fde0ef\"],[0.5,\"#f7f7f7\"],[0.6,\"#e6f5d0\"],[0.7,\"#b8e186\"],[0.8,\"#7fbc41\"],[0.9,\"#4d9221\"],[1,\"#276419\"]]},\"xaxis\":{\"gridcolor\":\"white\",\"linecolor\":\"white\",\"ticks\":\"\",\"title\":{\"standoff\":15},\"zerolinecolor\":\"white\",\"automargin\":true,\"zerolinewidth\":2},\"yaxis\":{\"gridcolor\":\"white\",\"linecolor\":\"white\",\"ticks\":\"\",\"title\":{\"standoff\":15},\"zerolinecolor\":\"white\",\"automargin\":true,\"zerolinewidth\":2},\"scene\":{\"xaxis\":{\"backgroundcolor\":\"#E5ECF6\",\"gridcolor\":\"white\",\"linecolor\":\"white\",\"showbackground\":true,\"ticks\":\"\",\"zerolinecolor\":\"white\",\"gridwidth\":2},\"yaxis\":{\"backgroundcolor\":\"#E5ECF6\",\"gridcolor\":\"white\",\"linecolor\":\"white\",\"showbackground\":true,\"ticks\":\"\",\"zerolinecolor\":\"white\",\"gridwidth\":2},\"zaxis\":{\"backgroundcolor\":\"#E5ECF6\",\"gridcolor\":\"white\",\"linecolor\":\"white\",\"showbackground\":true,\"ticks\":\"\",\"zerolinecolor\":\"white\",\"gridwidth\":2}},\"shapedefaults\":{\"line\":{\"color\":\"#2a3f5f\"}},\"annotationdefaults\":{\"arrowcolor\":\"#2a3f5f\",\"arrowhead\":0,\"arrowwidth\":1},\"geo\":{\"bgcolor\":\"white\",\"landcolor\":\"#E5ECF6\",\"subunitcolor\":\"white\",\"showland\":true,\"showlakes\":true,\"lakecolor\":\"white\"},\"title\":{\"x\":0.05},\"mapbox\":{\"style\":\"light\"},\"margin\":{\"b\":0,\"l\":0,\"r\":0,\"t\":30}}}},                        {\"responsive\": true}                    ).then(function(){\n",
       "                            \n",
       "var gd = document.getElementById('2ec15b95-2ff3-4f60-aadf-4a4da0708876');\n",
       "var x = new MutationObserver(function (mutations, observer) {{\n",
       "        var display = window.getComputedStyle(gd).display;\n",
       "        if (!display || display === 'none') {{\n",
       "            console.log([gd, 'removed!']);\n",
       "            Plotly.purge(gd);\n",
       "            observer.disconnect();\n",
       "        }}\n",
       "}});\n",
       "\n",
       "// Listen for the removal of the full notebook cells\n",
       "var notebookContainer = gd.closest('#notebook-container');\n",
       "if (notebookContainer) {{\n",
       "    x.observe(notebookContainer, {childList: true});\n",
       "}}\n",
       "\n",
       "// Listen for the clearing of the current output cell\n",
       "var outputEl = gd.closest('.output');\n",
       "if (outputEl) {{\n",
       "    x.observe(outputEl, {childList: true});\n",
       "}}\n",
       "\n",
       "                        })                };                });            </script>        </div>"
      ]
     },
     "metadata": {},
     "output_type": "display_data"
    }
   ],
   "source": [
    "spot_tuner.parallel_plot()"
   ]
  },
  {
   "cell_type": "markdown",
   "id": "0a14a7ac",
   "metadata": {},
   "source": [
    "### Plot all Combinations of Hyperparameters\n",
    "\n",
    "* Warning: this may take a while.\n"
   ]
  },
  {
   "cell_type": "code",
   "execution_count": 31,
   "id": "cbbac180",
   "metadata": {},
   "outputs": [],
   "source": [
    "PLOT_ALL = False\n",
    "if PLOT_ALL:\n",
    "    n = spot_tuner.k\n",
    "    for i in range(n-1):\n",
    "        for j in range(i+1, n):\n",
    "            spot_tuner.plot_contour(i=i, j=j, min_z=min_z, max_z = max_z)"
   ]
  }
 ],
 "metadata": {
  "kernelspec": {
   "display_name": "Python 3 (ipykernel)",
   "language": "python",
   "name": "python3"
  },
  "language_info": {
   "codemirror_mode": {
    "name": "ipython",
    "version": 3
   },
   "file_extension": ".py",
   "mimetype": "text/x-python",
   "name": "python",
   "nbconvert_exporter": "python",
   "pygments_lexer": "ipython3",
   "version": "3.11.7"
  }
 },
 "nbformat": 4,
 "nbformat_minor": 5
}
