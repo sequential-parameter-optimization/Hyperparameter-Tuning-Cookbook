{
  "cells": [
    {
      "cell_type": "raw",
      "metadata": {},
      "source": [
        "---\n",
        "execute:\n",
        "  cache: false\n",
        "  eval: true\n",
        "  echo: true\n",
        "  warning: false\n",
        "---"
      ],
      "id": "7bde94d7"
    },
    {
      "cell_type": "markdown",
      "metadata": {},
      "source": [
        "<!-- doe2 -->\n",
        "\n",
        "# DOE 2\n"
      ],
      "id": "647a1e7f"
    },
    {
      "cell_type": "code",
      "metadata": {},
      "source": [
        "import numpy as np\n",
        "import pandas as pd\n",
        "import matplotlib.pyplot as plt\n",
        "import seaborn as sns\n",
        "from sklearn.linear_model import LinearRegression\n",
        "from sklearn.preprocessing import PolynomialFeatures\n",
        "from sklearn.pipeline import Pipeline"
      ],
      "id": "b55049fa",
      "execution_count": null,
      "outputs": []
    },
    {
      "cell_type": "code",
      "metadata": {},
      "source": [
        "def gaussian_function(x, y, pars=None, add_noise=False):\n",
        "    # to be changed: genereate all data here\n",
        "    np.random.seed(2)\n",
        "    if not pars:\n",
        "        x0 = np.random.randn(1)[0]+0.5\n",
        "        y0 = x0+0.5\n",
        "        fwhm = np.random.normal(loc=1.5,scale=3, size=100).mean()\n",
        "    else:\n",
        "        x0, y0, fwhm = pars\n",
        "        \n",
        "    func = 10*np.exp(-4*np.log(2) * ((x-x0)**2 + (y-y0)**2) / fwhm**2)\n",
        "    \n",
        "    if add_noise:\n",
        "        func = add_noise_func(func)\n",
        "    \n",
        "    return func, x0, y0, fwhm\n",
        "\n",
        "def add_noise_func(input_data, mean_noise=0):\n",
        "    # incomplete: refactor code to generate data + noise in one function\n",
        "    avg_data = np.mean(input_data)\n",
        "    noise_ = np.random.normal(mean_noise, np.sqrt(avg_data), 1)[0]\n",
        "    output_data = input_data + noise_\n",
        "    \n",
        "    return output_data\n",
        "\n",
        "def add_final_points(temp_df):\n",
        "        mean_x, mean_y, range_x, range_y = normal_to_coded_var(temp_df, output_pars = True) \n",
        "        \n",
        "        temp_df.loc[len(temp_df)] = [mean_x+range_x,mean_y]\n",
        "        temp_df.loc[len(temp_df)] = [mean_x-range_x,mean_y]\n",
        "        temp_df.loc[len(temp_df)] = [mean_x,mean_y+range_y]\n",
        "        temp_df.loc[len(temp_df)] = [mean_x,mean_y-range_y]\n",
        "        \n",
        "        return temp_df\n",
        "    \n",
        "def output_model(x_d1, y_d1, model=None, pars=None, cnt_point=True, final_stage=False) -> pd.DataFrame:\n",
        "    # inputs 2 arrays of coordinates, outputs a full factorial\n",
        "    temp_df = pd.DataFrame([(i,j) for i in x_d1 for j in y_d1], columns=['x','y'])\n",
        "\n",
        "    if cnt_point:\n",
        "        temp_df.loc[len(temp_df)] = [temp_df['x'].mean(),temp_df['y'].mean()]\n",
        "        \n",
        "    if final_stage:\n",
        "        temp_df = add_final_points(temp_df)\n",
        "        \n",
        "    temp_df = normal_to_coded_var(temp_df)    \n",
        "    temp_df['outcome'] = temp_df.apply(lambda x: gaussian_function(x['x'], x['y'], pars)[0], axis=1)\n",
        "    \n",
        "    if model:\n",
        "        temp_df['predict'] = model.predict(temp_df[['x','y']])\n",
        "        temp_df['mape'] = 100*(temp_df['outcome'] - temp_df['predict'])/temp_df['outcome']\n",
        "        \n",
        "    return temp_df\n",
        "\n",
        "def normal_to_coded_var(input_df, output_pars = False):\n",
        "    # mapping between original and coded variables \n",
        "    temp_df = input_df.copy()\n",
        "    mean_x = temp_df['x'].mean()\n",
        "    mean_y = temp_df['y'].mean()\n",
        "    range_x = temp_df['x'].max()-temp_df['x'].min()\n",
        "    range_y = temp_df['y'].max()-temp_df['y'].min()\n",
        "    \n",
        "    temp_df['X'] = (temp_df['x']-mean_x)/(range_x/2)\n",
        "    temp_df['Y'] = (temp_df['y']-mean_y)/(range_y/2)\n",
        "    \n",
        "    if output_pars:\n",
        "        return mean_x, mean_y, range_x, range_y\n",
        "    \n",
        "    return temp_df\n",
        "\n",
        "def coded_to_normal(pars, x_coded, y_coded):\n",
        "    # mapping between coded and normal variables\n",
        "    mean_x, mean_y, range_x, range_y = pars\n",
        "    \n",
        "    real_x = x_coded*(range_x/2) + mean_x\n",
        "    real_y = y_coded*(range_y/2) + mean_y\n",
        "    \n",
        "    return real_x, real_y\n",
        "    \n",
        "def plot_contour_fromdf(test_df, fill_value=0, model=None, levels=10, plot_normal_vars=True):\n",
        "    # surface plots\n",
        "    # if there's no model try to plot a contour plot given the dataframe\n",
        "    # otherwise use the model to predict values from min to max value of each dimension\n",
        "    # x, y = 'cX','cY'\n",
        "    x, y = 'x','y'\n",
        "    \n",
        "    \n",
        "    if not model:\n",
        "        hdf = test_df.groupby(input_vars).mean()\n",
        "        hdfreset = hdf.reset_index()\n",
        "        hdfreset.columns = [x, y, 'outcome']\n",
        "        hdfpivot= hdfreset.pivot(x, y).fillna(0)\n",
        "\n",
        "        X=hdfpivot.columns.levels[1].values\n",
        "        Y=hdfpivot.index.values\n",
        "        Xi,Yi = np.meshgrid(X, Y)\n",
        "        Z=hdfpivot.values\n",
        "    else:\n",
        "        X = np.linspace(test_df[x].min(),test_df[x].max(),levels)\n",
        "        Y = np.linspace(test_df[y].min(),test_df[y].max(),levels)\n",
        "        Xi,Yi = np.meshgrid(X, Y)\n",
        "        Z = model.predict(np.c_[Xi.ravel(),Yi.ravel()]).reshape(len(X),len(Y))\n",
        "        \n",
        "    if plot_normal_vars:\n",
        "        temp_df = pd.DataFrame()\n",
        "        temp_df[x] = Xi.ravel()\n",
        "        temp_df[y] = Yi.ravel()\n",
        "        Z = model.predict(temp_df).reshape(len(X),len(Y))\n",
        "        mean_x, mean_y, range_x, range_y = normal_to_coded_var(test_df, output_pars = True)\n",
        "        temp_df['x'] = temp_df[x]*(range_x/2) + mean_x\n",
        "        temp_df['y'] = temp_df[y]*(range_y/2) + mean_y\n",
        "        X = np.linspace(test_df['x'].min(),test_df['x'].max(),levels)\n",
        "        Y = np.linspace(test_df['y'].min(),test_df['y'].max(),levels)\n",
        "        \n",
        "        Xi,Yi = np.meshgrid(X, Y)\n",
        "    else:\n",
        "        mean_x, mean_y = 0, 0\n",
        "        \n",
        "    # gradients given Z to plot quiverplot    \n",
        "    v, u = np.gradient(Z, 0.1, 0.1)\n",
        "    plt.contourf(Xi, Yi, Z, alpha=0.7)\n",
        "    plt.colorbar()\n",
        "    plt.quiver(Xi,Yi,u,v);\n",
        "    \n",
        "def linear_pipe_fit(degree=2, interaction=True, dataframe=pd.DataFrame(), input_vars=['x','y']):\n",
        "    \n",
        "    lr = LinearRegression()\n",
        "    pol = PolynomialFeatures(degree=degree, interaction_only=interaction, include_bias=False)\n",
        "    pipe = Pipeline([('pol',pol), ('lr', lr)])\n",
        "    pipe.fit(dataframe[input_vars], dataframe['outcome'])\n",
        "    coefs = pipe['lr'].coef_\n",
        "    intercept = pipe['lr'].intercept_\n",
        "\n",
        "    return pipe\n",
        "\n",
        "def next_step(model=None, increment_y = 1, step_x = 0.125, step_y = 0.125, dataframe=pd.DataFrame()):\n",
        "    \n",
        "    mean_x, mean_y, range_x, range_y = normal_to_coded_var(dataframe, output_pars = True)\n",
        "    coef_x = model['lr'].coef_[0]\n",
        "    coef_y = model['lr'].coef_[1]\n",
        "    ratio = coef_x/coef_y\n",
        "    \n",
        "    print(f'coef x {coef_x:.2f} and coef y {coef_y:.2f}')\n",
        "    \n",
        "    increment_x = np.abs(ratio)*increment_y*np.sign(coef_x)\n",
        "    increment_y = increment_y*np.sign(coef_y)\n",
        "    \n",
        "    print(f'increment x {increment_x:.2f} and increment y {increment_y:.2f} with ratio {ratio:.2f}')\n",
        "    \n",
        "    base_x = increment_x*(range_x/2)+mean_x\n",
        "    base_y = increment_y*(range_y/2)+mean_y\n",
        "    \n",
        "    print(f'new x {base_x:.2f} and new y {base_y:.2f}')\n",
        "                \n",
        "    next_x = np.round(np.array([base_x-step_x, base_x+step_x]),2)\n",
        "    next_y = np.round(np.array([base_y-step_y, base_y+step_y]),2)\n",
        "    \n",
        "    return next_x, next_y\n",
        "\n",
        "def final_step(model=None, pars=None, dataframe=pd.DataFrame(), final_stage=True):\n",
        "    # do the last step with an increased precision\n",
        "    next_x, next_y = next_step(model=model, dataframe=dataframe)\n",
        "    test_df = output_model(next_x, next_y, pars=pars, cnt_point=True, final_stage=final_stage)\n",
        "    return test_df"
      ],
      "id": "32033c5d",
      "execution_count": null,
      "outputs": []
    },
    {
      "cell_type": "code",
      "metadata": {},
      "source": [
        "x = np.round(np.linspace(-2,2,101),2)\n",
        "y = np.round(np.linspace(-2,2,101),2)\n",
        "X, Y = np.meshgrid(x,y)\n",
        "Z, x0, y0, fwhm = gaussian_function(X,Y,add_noise=True)\n",
        "plt.contourf(x,y,Z, levels=10, vmin=0)\n",
        "plt.colorbar()"
      ],
      "id": "cbe177dc",
      "execution_count": null,
      "outputs": []
    },
    {
      "cell_type": "markdown",
      "metadata": {},
      "source": [
        "## first full factorial\n"
      ],
      "id": "7f382ae2"
    },
    {
      "cell_type": "code",
      "metadata": {},
      "source": [
        "x_d1 = np.array([0.5,1])\n",
        "y_d1 = np.array([-0.5,-1])\n",
        "first_doe = output_model(x_d1, y_d1, pars=(x0, y0, fwhm), cnt_point=False)\n",
        "first_doe"
      ],
      "id": "aae72357",
      "execution_count": null,
      "outputs": []
    },
    {
      "cell_type": "code",
      "metadata": {},
      "source": [
        "plt.contourf(x,y,Z, levels=10, vmin=0)\n",
        "plt.colorbar()\n",
        "plt.scatter(first_doe.x,first_doe.y, c='r')"
      ],
      "id": "73db179a",
      "execution_count": null,
      "outputs": []
    },
    {
      "cell_type": "code",
      "metadata": {},
      "source": [
        "pipe1 = linear_pipe_fit(degree=2, interaction=True, dataframe=first_doe, input_vars=['x','y'])\n",
        "plot_contour_fromdf(first_doe, fill_value=0, model = pipe1, plot_normal_vars=True)"
      ],
      "id": "bc778258",
      "execution_count": null,
      "outputs": []
    },
    {
      "cell_type": "markdown",
      "metadata": {},
      "source": [
        "## Second Step\n"
      ],
      "id": "e363271f"
    },
    {
      "cell_type": "code",
      "metadata": {},
      "source": [
        "x_d2, y_d2 = next_step(model=pipe1, increment_y = 2, dataframe=first_doe)\n",
        "print(x_d2, y_d2)"
      ],
      "id": "59c4cd5d",
      "execution_count": null,
      "outputs": []
    },
    {
      "cell_type": "code",
      "metadata": {},
      "source": [
        "test_df2 = output_model(x_d2, y_d2, model = pipe1, pars=(x0, y0, fwhm), cnt_point=True)\n",
        "pipe2 = linear_pipe_fit(degree=1, interaction=True, dataframe=test_df2, input_vars=['x','y'])\n",
        "plot_contour_fromdf(test_df2, fill_value=0, model = pipe2)\n",
        "x_d3, y_d3 = next_step(model=pipe2, increment_y = 2, dataframe=test_df2)\n",
        "print(x_d3, y_d3)"
      ],
      "id": "e9304f98",
      "execution_count": null,
      "outputs": []
    },
    {
      "cell_type": "code",
      "metadata": {},
      "source": [
        "test_df2"
      ],
      "id": "094352f2",
      "execution_count": null,
      "outputs": []
    },
    {
      "cell_type": "code",
      "metadata": {},
      "source": [
        "plt.contourf(x,y,Z, levels=10, vmin=0)\n",
        "plt.colorbar()\n",
        "plt.scatter(first_doe.x,first_doe.y, c='r')\n",
        "plt.scatter(test_df2.x,test_df2.y, c='b')"
      ],
      "id": "79885820",
      "execution_count": null,
      "outputs": []
    },
    {
      "cell_type": "markdown",
      "metadata": {},
      "source": [
        "## Third Step\n"
      ],
      "id": "19835900"
    },
    {
      "cell_type": "code",
      "metadata": {},
      "source": [
        "test_df3 = output_model(x_d3, y_d3, pipe2, pars=(x0, y0, fwhm), cnt_point=False)\n",
        "pipe3 = linear_pipe_fit(degree=1, interaction=True, dataframe=test_df3, input_vars=['x','y'])\n",
        "plot_contour_fromdf(test_df3, fill_value=0, model = pipe3)\n",
        "x_d4, y_d4 = next_step(model=pipe3, increment_y = 2, dataframe=test_df3)\n",
        "print(x_d4, y_d4)"
      ],
      "id": "e1adc83a",
      "execution_count": null,
      "outputs": []
    },
    {
      "cell_type": "code",
      "metadata": {},
      "source": [
        "test_df3"
      ],
      "id": "1807b428",
      "execution_count": null,
      "outputs": []
    },
    {
      "cell_type": "code",
      "metadata": {},
      "source": [
        "plt.contourf(x,y,Z, levels=10, vmin=0)\n",
        "plt.colorbar()\n",
        "plt.scatter(first_doe.x,first_doe.y, c='r')\n",
        "plt.scatter(test_df2.x,test_df2.y, c='b')\n",
        "plt.scatter(test_df3.x,test_df3.y, c='k')"
      ],
      "id": "727b8720",
      "execution_count": null,
      "outputs": []
    },
    {
      "cell_type": "markdown",
      "metadata": {},
      "source": [
        "# Final Implementation\n"
      ],
      "id": "185547e7"
    },
    {
      "cell_type": "code",
      "metadata": {},
      "source": [
        "steps_df = pd.DataFrame()\n",
        "x_t = np.array([0.5,1])\n",
        "y_t = np.array([-0.5,-1])\n",
        "\n",
        "for i in range(10):\n",
        "    test_df = output_model(x_t, y_t, pars=(x0, y0, fwhm), cnt_point=False)\n",
        "    test_df['iteration'] = i\n",
        "    pipe1 = linear_pipe_fit(degree=1, interaction=True, dataframe=test_df, input_vars=['x','y'])\n",
        "    x_t, y_t = next_step(pipe1, increment_y = 2, dataframe=test_df)\n",
        "    #plot_contour_fromdf(test_df, fill_value=0, model = pipe1, plot_normal_vars=True)\n",
        "    steps_df = steps_df.append(test_df)\n",
        "    max_outcome = test_df['outcome'].max()\n",
        "    \n",
        "    if max_outcome < steps_df['outcome'].max():\n",
        "        final_ = final_step(model=pipe1, pars=(x0, y0, fwhm), dataframe=test_df)\n",
        "        final_['iteration'] = i\n",
        "        pipe_last = linear_pipe_fit(degree=2, interaction=True, dataframe=final_, input_vars=['x','y'])\n",
        "        steps_df = steps_df.append(final_)\n",
        "        print(f'maximum found at iteration {i}')\n",
        "        break\n",
        "    print(x_t, y_t)"
      ],
      "id": "191d04ca",
      "execution_count": null,
      "outputs": []
    },
    {
      "cell_type": "code",
      "metadata": {},
      "source": [
        "plt.contourf(x,y,Z)\n",
        "plt.colorbar()\n",
        "sns.scatterplot(x='x',y='y',data=steps_df, hue='iteration', palette='coolwarm', legend='full', edgecolor='k')"
      ],
      "id": "4765056a",
      "execution_count": null,
      "outputs": []
    },
    {
      "cell_type": "code",
      "metadata": {},
      "source": [
        "steps_df[steps_df.iteration==6]"
      ],
      "id": "93009c08",
      "execution_count": null,
      "outputs": []
    },
    {
      "cell_type": "code",
      "metadata": {},
      "source": [
        "pol = PolynomialFeatures(degree=2, interaction_only=False, include_bias=False)\n",
        "lr = LinearRegression()\n",
        "pipe_all = Pipeline([('pol',pol), ('lr', lr)])\n",
        "pipe_all.fit(steps_df[['x','y']], steps_df['outcome'])\n",
        "pipe_all['lr'].coef_"
      ],
      "id": "6a6208ed",
      "execution_count": null,
      "outputs": []
    },
    {
      "cell_type": "code",
      "metadata": {},
      "source": [
        "plot_contour_fromdf(steps_df, fill_value=0, model = pipe_all, levels=30)"
      ],
      "id": "70baac42",
      "execution_count": null,
      "outputs": []
    },
    {
      "cell_type": "code",
      "metadata": {},
      "source": [
        "pipe_all.score(steps_df[['x','y']], steps_df['outcome'])"
      ],
      "id": "15bb286c",
      "execution_count": null,
      "outputs": []
    },
    {
      "cell_type": "code",
      "metadata": {},
      "source": [
        "from sklearn.ensemble import RandomForestRegressor"
      ],
      "id": "57abfe41",
      "execution_count": null,
      "outputs": []
    },
    {
      "cell_type": "code",
      "metadata": {},
      "source": [
        "rfr = RandomForestRegressor(max_depth=8)\n",
        "rfr.fit(steps_df[['x','y']], steps_df['outcome'])\n",
        "plot_contour_fromdf(steps_df, fill_value=0, model = rfr, levels=30)"
      ],
      "id": "43fdca8d",
      "execution_count": null,
      "outputs": []
    }
  ],
  "metadata": {
    "kernelspec": {
      "name": "python3",
      "language": "python",
      "display_name": "Python 3 (ipykernel)"
    }
  },
  "nbformat": 4,
  "nbformat_minor": 5
}