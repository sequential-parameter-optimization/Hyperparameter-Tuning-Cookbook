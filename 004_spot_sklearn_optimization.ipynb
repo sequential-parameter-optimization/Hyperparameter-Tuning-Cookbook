{
  "cells": [
    {
      "cell_type": "markdown",
      "metadata": {},
      "source": [
        "---\n",
        "execute:\n",
        "  cache: false\n",
        "  eval: true\n",
        "  echo: true\n",
        "  warning: false\n",
        "---\n",
        "\n",
        "# Sequential Parameter Optimization: Using `scipy` Optimizers {#sec-scipy-optimizers}\n",
        "\n",
        "As a default optimizer, `spotpython` uses `differential_evolution` from the `scipy.optimize` package. Alternatively, any other optimizer from the `scipy.optimize` package can be used. This chapter describes how different optimizers from the `scipy optimize` package can be used on the surrogate.\n",
        "The optimization algorithms are available from [https://docs.scipy.org/doc/scipy/reference/optimize.html](https://docs.scipy.org/doc/scipy/reference/optimize.html)"
      ]
    },
    {
      "cell_type": "code",
      "execution_count": 1,
      "metadata": {},
      "outputs": [
        {
          "name": "stderr",
          "output_type": "stream",
          "text": [
            "Seed set to 123\n"
          ]
        }
      ],
      "source": [
        "#| label: 04_imports\n",
        "import numpy as np\n",
        "from math import inf\n",
        "from spotpython.fun.objectivefunctions import analytical\n",
        "from spotpython.spot import spot\n",
        "from scipy.optimize import shgo\n",
        "from scipy.optimize import direct\n",
        "from scipy.optimize import differential_evolution\n",
        "from scipy.optimize import dual_annealing\n",
        "from scipy.optimize import basinhopping\n",
        "from spotpython.utils.init import fun_control_init, design_control_init, optimizer_control_init, surrogate_control_init"
      ]
    },
    {
      "cell_type": "markdown",
      "metadata": {},
      "source": [
        "## The Objective Function Branin\n",
        "\n",
        "The `spotpython` package provides several classes of objective functions. We will use an analytical objective function, i.e., a function that can be described by a (closed) formula. Here we will use the Branin function. The 2-dim Branin function is\n",
        "$$\n",
        "y = a  (x_2 - b  x_1^2 + c  x_1 - r) ^2 + s  (1 - t)  \\cos(x_1) + s,\n",
        "$$\n",
        "where values of $a$, $b$, $c$, $r$, $s$ and $t$ are: $a = 1$, $b = 5.1 / (4\\pi^2)$, $c = 5 / \\pi$, $r = 6$, $s = 10$ and $t = 1 / (8\\pi)$.\n",
        "\n",
        "It has three global minima: $f(x) = 0.397887$ at $(-\\pi, 12.275)$, $(\\pi, 2.275)$, and $(9.42478, 2.475)$.\n",
        "\n",
        "Input Domain: This function is usually evaluated on the square  $x_1 \\in  [-5, 10] \\times x_2 \\in  [0, 15]$."
      ]
    },
    {
      "cell_type": "code",
      "execution_count": 2,
      "metadata": {},
      "outputs": [],
      "source": [
        "#| label: 04_objective_function\n",
        "from spotpython.fun.objectivefunctions import analytical\n",
        "lower = np.array([-5,-0])\n",
        "upper = np.array([10,15])\n",
        "fun = analytical(seed=123).fun_branin"
      ]
    },
    {
      "cell_type": "markdown",
      "metadata": {},
      "source": [
        "## The Optimizer{#sec-optimizer}\n",
        "\n",
        "Differential Evolution (DE) from the `scikit.optimize` package, see [https://docs.scipy.org/doc/scipy/reference/generated/scipy.optimize.differential_evolution.html#scipy.optimize.differential_evolution](https://docs.scipy.org/doc/scipy/reference/generated/scipy.optimize.differential_evolution.html#scipy.optimize.differential_evolution) is the default optimizer for the search on the surrogate.\n",
        "Other optimiers that are available in `spotpython`, see [https://docs.scipy.org/doc/scipy/reference/optimize.html#global-optimization](https://docs.scipy.org/doc/scipy/reference/optimize.html#global-optimization).\n",
        "\n",
        "  * `dual_annealing`\n",
        "  * `direct`\n",
        "  * `shgo`\n",
        "  * `basinhopping`\n",
        "\n",
        "These optimizers can be selected as follows:"
      ]
    },
    {
      "cell_type": "code",
      "execution_count": 3,
      "metadata": {},
      "outputs": [],
      "source": [
        "#| label: 04_optimizer_control\n",
        "#| eval: false\n",
        "from scipy.optimize import differential_evolution\n",
        "optimizer = differential_evolution"
      ]
    },
    {
      "cell_type": "markdown",
      "metadata": {},
      "source": [
        "As noted above, we will use `differential_evolution`. The optimizer can use `1000` evaluations. This value will be passed to the `differential_evolution` method, which has the argument `maxiter` (int). It defines the maximum number of generations over which the entire differential evolution population is evolved, see [https://docs.scipy.org/doc/scipy/reference/generated/scipy.optimize.differential_evolution.html#scipy.optimize.differential_evolution](https://docs.scipy.org/doc/scipy/reference/generated/scipy.optimize.differential_evolution.html#scipy.optimize.differential_evolution)\n",
        "\n",
        "\n",
        ":::{.callout-note}\n",
        "#### TensorBoard\n",
        "\n",
        "Similar to the one-dimensional case, which is discussed in @sec-visualizing-tensorboard-01, we can use TensorBoard to monitor the progress of the optimization. We will use a similar code, only the prefix is different:"
      ]
    },
    {
      "cell_type": "code",
      "execution_count": 4,
      "metadata": {},
      "outputs": [
        {
          "name": "stderr",
          "output_type": "stream",
          "text": [
            "Seed set to 123\n"
          ]
        }
      ],
      "source": [
        "fun_control=fun_control_init(\n",
        "                    lower = lower,\n",
        "                    upper = upper,\n",
        "                    fun_evals = 20,\n",
        "                    PREFIX = \"04_DE_\"\n",
        "                    )\n",
        "surrogate_control=surrogate_control_init(\n",
        "                    n_theta=len(lower))"
      ]
    },
    {
      "cell_type": "markdown",
      "metadata": {},
      "source": [
        ":::"
      ]
    },
    {
      "cell_type": "code",
      "execution_count": 5,
      "metadata": {},
      "outputs": [
        {
          "name": "stdout",
          "output_type": "stream",
          "text": [
            "spotpython tuning: 3.8004550038787155 [######----] 55.00% \n",
            "spotpython tuning: 3.8004550038787155 [######----] 60.00% \n",
            "spotpython tuning: 3.1588579885698627 [######----] 65.00% \n",
            "spotpython tuning: 3.1342382932317037 [#######---] 70.00% \n",
            "spotpython tuning: 2.8956615907630585 [########--] 75.00% \n",
            "spotpython tuning: 0.42052429574482275 [########--] 80.00% \n",
            "spotpython tuning: 0.4013351867835322 [########--] 85.00% \n",
            "spotpython tuning: 0.399265616254338 [#########-] 90.00% \n",
            "spotpython tuning: 0.399265616254338 [##########] 95.00% \n",
            "spotpython tuning: 0.399265616254338 [##########] 100.00% Done...\n",
            "\n"
          ]
        },
        {
          "data": {
            "text/plain": [
              "<spotpython.spot.spot.Spot at 0x34a0587a0>"
            ]
          },
          "execution_count": 5,
          "metadata": {},
          "output_type": "execute_result"
        }
      ],
      "source": [
        "spot_de = spot.Spot(fun=fun,\n",
        "                    fun_control=fun_control,\n",
        "                    surrogate_control=surrogate_control)\n",
        "spot_de.run()"
      ]
    },
    {
      "cell_type": "markdown",
      "metadata": {},
      "source": [
        "### TensorBoard\n",
        "\n",
        "If the `prefix` argument in `fun_control_init()`is not `None` (as above, where the `prefix` was set to `04_DE_`) , we can start TensorBoard in the background with the following command:\n",
        "\n",
        "```{raw}\n",
        "tensorboard --logdir=\"./runs\"\n",
        "```\n",
        "\n",
        "We can access the TensorBoard web server with the following URL:\n",
        "\n",
        "```{raw}\n",
        "http://localhost:6006/\n",
        "```\n",
        "\n",
        "The TensorBoard plot illustrates how `spotpython` can be used as a microscope for the internal mechanisms of the surrogate-based optimization process. Here, one important parameter, the learning rate $\\theta$ of the Kriging surrogate is plotted against the number of optimization steps.\n",
        "\n",
        "![TensorBoard visualization of the spotpython optimization process and the surrogate model.](figures_static/05_tensorboard_01.png){width=\"100%\"}\n",
        "\n",
        "\n",
        "## Print the Results"
      ]
    },
    {
      "cell_type": "code",
      "execution_count": 6,
      "metadata": {},
      "outputs": [
        {
          "name": "stdout",
          "output_type": "stream",
          "text": [
            "min y: 0.399265616254338\n",
            "x0: 3.151170754781285\n",
            "x1: 2.2981660114765448\n"
          ]
        },
        {
          "data": {
            "text/plain": [
              "[['x0', 3.151170754781285], ['x1', 2.2981660114765448]]"
            ]
          },
          "execution_count": 6,
          "metadata": {},
          "output_type": "execute_result"
        }
      ],
      "source": [
        "spot_de.print_results()"
      ]
    },
    {
      "cell_type": "markdown",
      "metadata": {},
      "source": [
        "## Show the Progress"
      ]
    },
    {
      "cell_type": "code",
      "execution_count": 7,
      "metadata": {},
      "outputs": [],
      "source": [
        "spot_de.plot_progress(log_y=True)"
      ]
    },
    {
      "cell_type": "code",
      "execution_count": 8,
      "metadata": {},
      "outputs": [
        {
          "name": "stderr",
          "output_type": "stream",
          "text": [
            "invalid command name \"14359732672process_stream_events\"\n",
            "    while executing\n",
            "\"14359732672process_stream_events\"\n",
            "    (\"after\" script)\n",
            "can't invoke \"event\" command: application has been destroyed\n",
            "    while executing\n",
            "\"event generate $w <<ThemeChanged>>\"\n",
            "    (procedure \"ttk::ThemeChanged\" line 6)\n",
            "    invoked from within\n",
            "\"ttk::ThemeChanged\"\n"
          ]
        }
      ],
      "source": [
        "spot_de.surrogate.plot()"
      ]
    },
    {
      "cell_type": "markdown",
      "metadata": {},
      "source": [
        "## Exercises\n",
        "\n",
        "\n",
        "### `dual_annealing`\n",
        "\n",
        "* Describe the optimization algorithm, see [scipy.optimize.dual_annealing](https://docs.scipy.org/doc/scipy/reference/generated/scipy.optimize.dual_annealing.html).\n",
        "* Use the algorithm as an optimizer on the surrogate.\n",
        "\n",
        ":::{.callout-tip}\n",
        "##### Tip: Selecting the Optimizer for the Surrogate\n",
        "\n",
        "We can run spotpython with the `dual_annealing` optimizer as follows:"
      ]
    },
    {
      "cell_type": "code",
      "execution_count": 9,
      "metadata": {},
      "outputs": [
        {
          "name": "stdout",
          "output_type": "stream",
          "text": [
            "spotpython tuning: 3.8004480172281534 [######----] 55.00% \n",
            "spotpython tuning: 3.8004480172281534 [######----] 60.00% \n",
            "spotpython tuning: 3.158996247273234 [######----] 65.00% \n",
            "spotpython tuning: 3.134218255713952 [#######---] 70.00% \n",
            "spotpython tuning: 2.8926591957342467 [########--] 75.00% \n",
            "spotpython tuning: 0.4189006494820333 [########--] 80.00% \n",
            "spotpython tuning: 0.4019392204560983 [########--] 85.00% \n",
            "spotpython tuning: 0.39922543271904765 [#########-] 90.00% \n",
            "spotpython tuning: 0.39922543271904765 [##########] 95.00% \n",
            "spotpython tuning: 0.39922543271904765 [##########] 100.00% Done...\n",
            "\n",
            "min y: 0.39922543271904765\n",
            "x0: 3.1506699177492252\n",
            "x1: 2.298631597428197\n"
          ]
        },
        {
          "name": "stderr",
          "output_type": "stream",
          "text": [
            "invalid command name \"14359227776process_stream_events\"\n",
            "    while executing\n",
            "\"14359227776process_stream_events\"\n",
            "    (\"after\" script)\n",
            "can't invoke \"event\" command: application has been destroyed\n",
            "    while executing\n",
            "\"event generate $w <<ThemeChanged>>\"\n",
            "    (procedure \"ttk::ThemeChanged\" line 6)\n",
            "    invoked from within\n",
            "\"ttk::ThemeChanged\"\n"
          ]
        }
      ],
      "source": [
        "spot_da = spot.Spot(fun=fun,\n",
        "                    fun_control=fun_control,\n",
        "                    optimizer=dual_annealing,\n",
        "                    surrogate_control=surrogate_control)\n",
        "spot_da.run()\n",
        "spot_da.print_results()\n",
        "spot_da.plot_progress(log_y=True)\n",
        "spot_da.surrogate.plot()"
      ]
    },
    {
      "cell_type": "markdown",
      "metadata": {},
      "source": [
        ":::\n",
        "\n",
        "\n",
        "### `direct`\n",
        "\n",
        "* Describe the optimization algorithm\n",
        "* Use the algorithm as an optimizer on the surrogate\n",
        "\n",
        ":::{.callout-tip}\n",
        "##### Tip: Selecting the Optimizer for the Surrogate\n",
        "\n",
        "We can run spotpython with the `direct` optimizer as follows:"
      ]
    },
    {
      "cell_type": "code",
      "execution_count": 10,
      "metadata": {},
      "outputs": [
        {
          "name": "stdout",
          "output_type": "stream",
          "text": [
            "spotpython tuning: 3.812970247994418 [######----] 55.00% \n",
            "spotpython tuning: 3.812970247994418 [######----] 60.00% \n",
            "spotpython tuning: 3.162514679816068 [######----] 65.00% \n",
            "spotpython tuning: 3.1189615135325983 [#######---] 70.00% \n",
            "spotpython tuning: 2.6597698275013038 [########--] 75.00% \n",
            "spotpython tuning: 0.3984917773445744 [########--] 80.00% \n",
            "spotpython tuning: 0.3984917773445744 [########--] 85.00% \n",
            "spotpython tuning: 0.3984917773445744 [#########-] 90.00% \n",
            "spotpython tuning: 0.3984917773445744 [##########] 95.00% \n",
            "spotpython tuning: 0.3984917773445744 [##########] 100.00% Done...\n",
            "\n",
            "min y: 0.3984917773445744\n",
            "x0: 3.137860082304525\n",
            "x1: 2.3010973936899863\n"
          ]
        },
        {
          "name": "stderr",
          "output_type": "stream",
          "text": [
            "invalid command name \"14445919232process_stream_events\"\n",
            "    while executing\n",
            "\"14445919232process_stream_events\"\n",
            "    (\"after\" script)\n",
            "can't invoke \"event\" command: application has been destroyed\n",
            "    while executing\n",
            "\"event generate $w <<ThemeChanged>>\"\n",
            "    (procedure \"ttk::ThemeChanged\" line 6)\n",
            "    invoked from within\n",
            "\"ttk::ThemeChanged\"\n"
          ]
        }
      ],
      "source": [
        "spot_di = spot.Spot(fun=fun,\n",
        "                    fun_control=fun_control,\n",
        "                    optimizer=direct,\n",
        "                    surrogate_control=surrogate_control)\n",
        "spot_di.run()\n",
        "spot_di.print_results()\n",
        "spot_di.plot_progress(log_y=True)\n",
        "spot_di.surrogate.plot()"
      ]
    },
    {
      "cell_type": "markdown",
      "metadata": {},
      "source": [
        ":::\n",
        "\n",
        "### `shgo`\n",
        "\n",
        "* Describe the optimization algorithm\n",
        "* Use the algorithm as an optimizer on the surrogate\n",
        "\n",
        ":::{.callout-tip}\n",
        "##### Tip: Selecting the Optimizer for the Surrogate\n",
        "\n",
        "We can run spotpython with the `direct` optimizer as follows:"
      ]
    },
    {
      "cell_type": "code",
      "execution_count": 11,
      "metadata": {},
      "outputs": [
        {
          "name": "stdout",
          "output_type": "stream",
          "text": [
            "spotpython tuning: 3.8004562736456844 [######----] 55.00% \n",
            "spotpython tuning: 3.8004562736456844 [######----] 60.00% \n",
            "spotpython tuning: 3.158996879015902 [######----] 65.00% \n",
            "spotpython tuning: 3.1341298968229996 [#######---] 70.00% \n",
            "spotpython tuning: 2.8919915800445954 [########--] 75.00% \n",
            "spotpython tuning: 0.4173165753511867 [########--] 80.00% \n",
            "spotpython tuning: 0.40097732409794773 [########--] 85.00% \n",
            "spotpython tuning: 0.3993020098909934 [#########-] 90.00% \n",
            "spotpython tuning: 0.3993020098909934 [##########] 95.00% \n",
            "spotpython tuning: 0.3993020098909934 [##########] 100.00% Done...\n",
            "\n",
            "min y: 0.3993020098909934\n",
            "x0: 3.1510894339439672\n",
            "x1: 2.298936853041466\n"
          ]
        },
        {
          "name": "stderr",
          "output_type": "stream",
          "text": [
            "invalid command name \"14424901248process_stream_events\"\n",
            "    while executing\n",
            "\"14424901248process_stream_events\"\n",
            "    (\"after\" script)\n",
            "can't invoke \"event\" command: application has been destroyed\n",
            "    while executing\n",
            "\"event generate $w <<ThemeChanged>>\"\n",
            "    (procedure \"ttk::ThemeChanged\" line 6)\n",
            "    invoked from within\n",
            "\"ttk::ThemeChanged\"\n"
          ]
        }
      ],
      "source": [
        "spot_sh = spot.Spot(fun=fun,\n",
        "                    fun_control=fun_control,\n",
        "                    optimizer=shgo,\n",
        "                    surrogate_control=surrogate_control)\n",
        "spot_sh.run()\n",
        "spot_sh.print_results()\n",
        "spot_sh.plot_progress(log_y=True)\n",
        "spot_sh.surrogate.plot()"
      ]
    },
    {
      "cell_type": "markdown",
      "metadata": {},
      "source": [
        ":::\n",
        "\n",
        "\n",
        "\n",
        "### `basinhopping`\n",
        "\n",
        "* Describe the optimization algorithm\n",
        "* Use the algorithm as an optimizer on the surrogate\n",
        "\n",
        ":::{.callout-tip}\n",
        "##### Tip: Selecting the Optimizer for the Surrogate\n",
        "\n",
        "We can run spotpython with the `direct` optimizer as follows:"
      ]
    },
    {
      "cell_type": "code",
      "execution_count": 12,
      "metadata": {},
      "outputs": [
        {
          "name": "stdout",
          "output_type": "stream",
          "text": [
            "spotpython tuning: 3.800453600053931 [######----] 55.00% \n",
            "spotpython tuning: 3.800453600053931 [######----] 60.00% \n",
            "spotpython tuning: 3.1590141837294237 [######----] 65.00% \n",
            "spotpython tuning: 3.1341341806066314 [#######---] 70.00% \n",
            "spotpython tuning: 2.8914331943522242 [########--] 75.00% \n",
            "spotpython tuning: 0.41214245125719984 [########--] 80.00% \n",
            "spotpython tuning: 0.40113843843078634 [########--] 85.00% \n",
            "spotpython tuning: 0.3992327747775164 [#########-] 90.00% \n",
            "spotpython tuning: 0.3992327747775164 [##########] 95.00% \n",
            "spotpython tuning: 0.3992327747775164 [##########] 100.00% Done...\n",
            "\n",
            "min y: 0.3992327747775164\n",
            "x0: 3.15016404734246\n",
            "x1: 2.2998320162156896\n"
          ]
        },
        {
          "name": "stderr",
          "output_type": "stream",
          "text": [
            "invalid command name \"14408781376process_stream_events\"\n",
            "    while executing\n",
            "\"14408781376process_stream_events\"\n",
            "    (\"after\" script)\n",
            "can't invoke \"event\" command: application has been destroyed\n",
            "    while executing\n",
            "\"event generate $w <<ThemeChanged>>\"\n",
            "    (procedure \"ttk::ThemeChanged\" line 6)\n",
            "    invoked from within\n",
            "\"ttk::ThemeChanged\"\n"
          ]
        }
      ],
      "source": [
        "spot_bh = spot.Spot(fun=fun,\n",
        "                    fun_control=fun_control,\n",
        "                    optimizer=basinhopping,\n",
        "                    surrogate_control=surrogate_control)\n",
        "spot_bh.run()\n",
        "spot_bh.print_results()\n",
        "spot_bh.plot_progress(log_y=True)\n",
        "spot_bh.surrogate.plot()"
      ]
    },
    {
      "cell_type": "markdown",
      "metadata": {},
      "source": [
        ":::\n",
        "\n",
        "\n",
        "### Performance Comparison\n",
        "\n",
        "Compare the performance and run time of the 5 different optimizers:\n",
        "\n",
        "  * `differential_evolution`\n",
        "  * `dual_annealing`\n",
        "  *  `direct`\n",
        "  * `shgo`\n",
        "  * `basinhopping`.\n",
        "\n",
        "The Branin function has three global minima:\n",
        "\n",
        "* $f(x) = 0.397887$  at \n",
        "  * $(-\\pi, 12.275)$, \n",
        "  * $(\\pi, 2.275)$, and \n",
        "  * $(9.42478, 2.475)$.    \n",
        "* Which optima are found by the optimizers?\n",
        "* Does the `seed` argument in `fun = analytical(seed=123).fun_branin` change this behavior?\n",
        "\n",
        "## Jupyter Notebook\n",
        "\n",
        ":::{.callout-note}\n",
        "\n",
        "* The Jupyter-Notebook of this chapter is available on GitHub in the [Hyperparameter-Tuning-Cookbook Repository](https://github.com/sequential-parameter-optimization/Hyperparameter-Tuning-Cookbook/blob/main/004_spot_sklearn_optimization.ipynb)\n",
        "\n",
        ":::"
      ]
    }
  ],
  "metadata": {
    "kernelspec": {
      "display_name": "Python 3 (ipykernel)",
      "language": "python",
      "name": "python3",
      "path": "/Users/bartz/miniforge3/envs/spot312/share/jupyter/kernels/python3"
    },
    "language_info": {
      "codemirror_mode": {
        "name": "ipython",
        "version": 3
      },
      "file_extension": ".py",
      "mimetype": "text/x-python",
      "name": "python",
      "nbconvert_exporter": "python",
      "pygments_lexer": "ipython3",
      "version": "3.12.5"
    }
  },
  "nbformat": 4,
  "nbformat_minor": 4
}
