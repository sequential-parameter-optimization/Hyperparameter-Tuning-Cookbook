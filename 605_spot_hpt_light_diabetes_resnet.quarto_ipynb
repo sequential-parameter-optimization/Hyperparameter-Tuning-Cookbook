{
 "cells": [
  {
   "cell_type": "markdown",
   "id": "c01631ea",
   "metadata": {},
   "source": [
    "---\n",
    "execute:\n",
    "  cache: false\n",
    "  eval: true\n",
    "  echo: true\n",
    "  warning: false\n",
    "title: Hyperparameter Tuning with `spotpython` and `PyTorch` Lightning for the Diabetes Data Set Using a ResNet Model\n",
    "jupyter: python3\n",
    "---\n",
    "\n",
    "\n",
    "\n",
    "In this section, we will show how `spotpython` can be integrated into the `PyTorch` Lightning\n",
    "training workflow for a regression task.\n",
    "It demonstrates how easy it is to use `spotpython` to tune hyperparameters for a `PyTorch` Lightning model.\n"
   ]
  },
  {
   "cell_type": "code",
   "execution_count": 1,
   "id": "imports",
   "metadata": {},
   "outputs": [],
   "source": [
    "#| label: 605_imports\n",
    "#| echo: false\n",
    "import os\n",
    "from math import inf\n",
    "import warnings\n",
    "warnings.filterwarnings(\"ignore\")"
   ]
  },
  {
   "cell_type": "markdown",
   "id": "26d84bf2",
   "metadata": {},
   "source": [
    "After importing the necessary libraries, the `fun_control` dictionary is set up via the `fun_control_init` function.\n",
    "The `fun_control` dictionary contains\n",
    "\n",
    "* `PREFIX`: a unique identifier for the experiment\n",
    "* `fun_evals`: the number of function evaluations\n",
    "* `max_time`: the maximum run time in minutes\n",
    "* `data_set`: the data set. Here we use the `Diabetes` data set that is provided by `spotpython`.\n",
    "* `core_model_name`: the class name of the neural network model. This neural network model is provided by `spotpython`.\n",
    "* `hyperdict`: the hyperparameter dictionary. This dictionary is used to define the hyperparameters of the neural network model. It is also provided by `spotpython`.\n",
    "* `_L_in`: the number of input features. Since the `Diabetes` data set has 10 features, `_L_in` is set to 10.\n",
    "* `_L_out`: the number of output features. Since we want to predict a single value, `_L_out` is set to 1.\n",
    "\n",
    "The `HyperLight` class is used to define the objective function `fun`.\n",
    "It connects the `PyTorch` and the `spotpython` methods and is provided by `spotpython`.\n"
   ]
  },
  {
   "cell_type": "code",
   "execution_count": 2,
   "id": "spotpython_setup",
   "metadata": {},
   "outputs": [
    {
     "name": "stderr",
     "output_type": "stream",
     "text": [
      "Seed set to 123\n"
     ]
    },
    {
     "name": "stderr",
     "output_type": "stream",
     "text": [
      "Seed set to 123\n"
     ]
    },
    {
     "name": "stdout",
     "output_type": "stream",
     "text": [
      "module_name: light\n",
      "submodule_name: regression\n",
      "model_name: NNResNetRegressor\n"
     ]
    }
   ],
   "source": [
    "#| label: 605_spotpython_setup\n",
    "\n",
    "from spotpython.data.diabetes import Diabetes\n",
    "from spotpython.hyperdict.light_hyper_dict import LightHyperDict\n",
    "from spotpython.fun.hyperlight import HyperLight\n",
    "from spotpython.utils.init import (fun_control_init, surrogate_control_init, design_control_init)\n",
    "from spotpython.utils.eda import gen_design_table\n",
    "from spotpython.spot import spot\n",
    "from spotpython.utils.file import get_experiment_filename\n",
    "\n",
    "PREFIX=\"605\"\n",
    "\n",
    "data_set = Diabetes()\n",
    "\n",
    "fun_control = fun_control_init(\n",
    "    PREFIX=PREFIX,\n",
    "    fun_evals=inf,\n",
    "    max_time=1,\n",
    "    data_set = data_set,\n",
    "    core_model_name=\"light.regression.NNResNetRegressor\",\n",
    "    hyperdict=LightHyperDict,\n",
    "    _L_in=10,\n",
    "    _L_out=1)\n",
    "\n",
    "fun = HyperLight().fun"
   ]
  },
  {
   "cell_type": "markdown",
   "id": "d93f06e4",
   "metadata": {},
   "source": [
    "The method `set_hyperparameter` allows the user to modify default hyperparameter settings.\n",
    "Here we modify some hyperparameters to keep the model small and to decrease the tuning time.\n"
   ]
  },
  {
   "cell_type": "code",
   "execution_count": 3,
   "id": "b382bff2",
   "metadata": {},
   "outputs": [
    {
     "name": "stdout",
     "output_type": "stream",
     "text": [
      "| name           | type   | default   |   lower |   upper | transform             |\n",
      "|----------------|--------|-----------|---------|---------|-----------------------|\n",
      "| l1             | int    | 3         |     3   |   4     | transform_power_2_int |\n",
      "| epochs         | int    | 4         |     3   |   7     | transform_power_2_int |\n",
      "| batch_size     | int    | 4         |     4   |  11     | transform_power_2_int |\n",
      "| act_fn         | factor | ReLU      |     0   |   5     | None                  |\n",
      "| optimizer      | factor | SGD       |     0   |   2     | None                  |\n",
      "| dropout_prob   | float  | 0.01      |     0   |   0.025 | None                  |\n",
      "| lr_mult        | float  | 1.0       |     0.1 |  20     | None                  |\n",
      "| patience       | int    | 2         |     2   |   3     | transform_power_2_int |\n",
      "| initialization | factor | Default   |     0   |   4     | None                  |\n"
     ]
    }
   ],
   "source": [
    "from spotpython.hyperparameters.values import set_hyperparameter\n",
    "set_hyperparameter(fun_control, \"optimizer\", [ \"Adadelta\", \"Adam\", \"Adamax\"])\n",
    "set_hyperparameter(fun_control, \"l1\", [3,4])\n",
    "set_hyperparameter(fun_control, \"epochs\", [3,7])\n",
    "set_hyperparameter(fun_control, \"batch_size\", [4,11])\n",
    "set_hyperparameter(fun_control, \"dropout_prob\", [0.0, 0.025])\n",
    "set_hyperparameter(fun_control, \"patience\", [2,3])\n",
    "set_hyperparameter(fun_control, \"lr_mult\", [0.1, 20.0])\n",
    "\n",
    "design_control = design_control_init(init_size=10)\n",
    "\n",
    "print(gen_design_table(fun_control))"
   ]
  },
  {
   "cell_type": "markdown",
   "id": "db2bdd4a",
   "metadata": {},
   "source": [
    "Finally, a `Spot` object is created.\n",
    "Calling the method `run()` starts the hyperparameter tuning process.\n"
   ]
  },
  {
   "cell_type": "code",
   "execution_count": 4,
   "id": "run",
   "metadata": {},
   "outputs": [
    {
     "name": "stderr",
     "output_type": "stream",
     "text": [
      "GPU available: True (mps), used: True\n"
     ]
    },
    {
     "name": "stderr",
     "output_type": "stream",
     "text": [
      "TPU available: False, using: 0 TPU cores\n"
     ]
    },
    {
     "name": "stderr",
     "output_type": "stream",
     "text": [
      "HPU available: False, using: 0 HPUs\n"
     ]
    },
    {
     "name": "stderr",
     "output_type": "stream",
     "text": [
      "\n",
      "  | Name   | Type       | Params | Mode  | In sizes  | Out sizes\n",
      "----------------------------------------------------------------------\n",
      "0 | layers | Sequential | 637    | train | [128, 10] | [128, 1] \n",
      "----------------------------------------------------------------------\n",
      "637       Trainable params\n",
      "0         Non-trainable params\n",
      "637       Total params\n",
      "0.003     Total estimated model params size (MB)\n",
      "63        Modules in train mode\n",
      "0         Modules in eval mode\n"
     ]
    },
    {
     "name": "stderr",
     "output_type": "stream",
     "text": [
      "GPU available: True (mps), used: True\n"
     ]
    },
    {
     "name": "stderr",
     "output_type": "stream",
     "text": [
      "TPU available: False, using: 0 TPU cores\n"
     ]
    },
    {
     "name": "stderr",
     "output_type": "stream",
     "text": [
      "HPU available: False, using: 0 HPUs\n"
     ]
    },
    {
     "name": "stderr",
     "output_type": "stream",
     "text": [
      "\n",
      "  | Name   | Type       | Params | Mode  | In sizes  | Out sizes\n",
      "----------------------------------------------------------------------\n",
      "0 | layers | Sequential | 1.8 K  | train | [128, 10] | [128, 1] \n",
      "----------------------------------------------------------------------\n",
      "1.8 K     Trainable params\n",
      "0         Non-trainable params\n",
      "1.8 K     Total params\n",
      "0.007     Total estimated model params size (MB)\n",
      "101       Modules in train mode\n",
      "0         Modules in eval mode\n"
     ]
    },
    {
     "name": "stdout",
     "output_type": "stream",
     "text": [
      "train_model result: {'val_loss': 23449.109375, 'hp_metric': 23449.109375}\n"
     ]
    },
    {
     "name": "stderr",
     "output_type": "stream",
     "text": [
      "`Trainer.fit` stopped: `max_epochs=8` reached.\n"
     ]
    },
    {
     "name": "stderr",
     "output_type": "stream",
     "text": [
      "GPU available: True (mps), used: True\n"
     ]
    },
    {
     "name": "stderr",
     "output_type": "stream",
     "text": [
      "TPU available: False, using: 0 TPU cores\n"
     ]
    },
    {
     "name": "stderr",
     "output_type": "stream",
     "text": [
      "HPU available: False, using: 0 HPUs\n"
     ]
    },
    {
     "name": "stderr",
     "output_type": "stream",
     "text": [
      "\n",
      "  | Name   | Type       | Params | Mode  | In sizes  | Out sizes\n",
      "----------------------------------------------------------------------\n",
      "0 | layers | Sequential | 1.8 K  | train | [512, 10] | [512, 1] \n",
      "----------------------------------------------------------------------\n",
      "1.8 K     Trainable params\n",
      "0         Non-trainable params\n",
      "1.8 K     Total params\n",
      "0.007     Total estimated model params size (MB)\n",
      "101       Modules in train mode\n",
      "0         Modules in eval mode\n"
     ]
    },
    {
     "name": "stdout",
     "output_type": "stream",
     "text": [
      "train_model result: {'val_loss': 24580.740234375, 'hp_metric': 24580.740234375}\n"
     ]
    },
    {
     "name": "stderr",
     "output_type": "stream",
     "text": [
      "GPU available: True (mps), used: True\n"
     ]
    },
    {
     "name": "stderr",
     "output_type": "stream",
     "text": [
      "TPU available: False, using: 0 TPU cores\n"
     ]
    },
    {
     "name": "stderr",
     "output_type": "stream",
     "text": [
      "HPU available: False, using: 0 HPUs\n"
     ]
    },
    {
     "name": "stderr",
     "output_type": "stream",
     "text": [
      "\n",
      "  | Name   | Type       | Params | Mode  | In sizes | Out sizes\n",
      "---------------------------------------------------------------------\n",
      "0 | layers | Sequential | 1.8 K  | train | [16, 10] | [16, 1]  \n",
      "---------------------------------------------------------------------\n",
      "1.8 K     Trainable params\n",
      "0         Non-trainable params\n",
      "1.8 K     Total params\n",
      "0.007     Total estimated model params size (MB)\n",
      "101       Modules in train mode\n",
      "0         Modules in eval mode\n"
     ]
    },
    {
     "name": "stdout",
     "output_type": "stream",
     "text": [
      "train_model result: {'val_loss': 23744.66796875, 'hp_metric': 23744.66796875}\n"
     ]
    },
    {
     "name": "stderr",
     "output_type": "stream",
     "text": [
      "`Trainer.fit` stopped: `max_epochs=8` reached.\n"
     ]
    },
    {
     "name": "stderr",
     "output_type": "stream",
     "text": [
      "GPU available: True (mps), used: True\n"
     ]
    },
    {
     "name": "stderr",
     "output_type": "stream",
     "text": [
      "TPU available: False, using: 0 TPU cores\n"
     ]
    },
    {
     "name": "stderr",
     "output_type": "stream",
     "text": [
      "HPU available: False, using: 0 HPUs\n"
     ]
    },
    {
     "name": "stderr",
     "output_type": "stream",
     "text": [
      "\n",
      "  | Name   | Type       | Params | Mode  | In sizes   | Out sizes\n",
      "-----------------------------------------------------------------------\n",
      "0 | layers | Sequential | 1.8 K  | train | [1024, 10] | [1024, 1]\n",
      "-----------------------------------------------------------------------\n",
      "1.8 K     Trainable params\n",
      "0         Non-trainable params\n",
      "1.8 K     Total params\n",
      "0.007     Total estimated model params size (MB)\n",
      "101       Modules in train mode\n",
      "0         Modules in eval mode\n"
     ]
    },
    {
     "name": "stdout",
     "output_type": "stream",
     "text": [
      "train_model result: {'val_loss': 23675.974609375, 'hp_metric': 23675.974609375}\n"
     ]
    },
    {
     "name": "stderr",
     "output_type": "stream",
     "text": [
      "GPU available: True (mps), used: True\n"
     ]
    },
    {
     "name": "stderr",
     "output_type": "stream",
     "text": [
      "TPU available: False, using: 0 TPU cores\n"
     ]
    },
    {
     "name": "stderr",
     "output_type": "stream",
     "text": [
      "HPU available: False, using: 0 HPUs\n"
     ]
    },
    {
     "name": "stderr",
     "output_type": "stream",
     "text": [
      "\n",
      "  | Name   | Type       | Params | Mode  | In sizes   | Out sizes\n",
      "-----------------------------------------------------------------------\n",
      "0 | layers | Sequential | 637    | train | [2048, 10] | [2048, 1]\n",
      "-----------------------------------------------------------------------\n",
      "637       Trainable params\n",
      "0         Non-trainable params\n",
      "637       Total params\n",
      "0.003     Total estimated model params size (MB)\n",
      "63        Modules in train mode\n",
      "0         Modules in eval mode\n"
     ]
    },
    {
     "name": "stdout",
     "output_type": "stream",
     "text": [
      "train_model result: {'val_loss': 24016.11328125, 'hp_metric': 24016.11328125}\n"
     ]
    },
    {
     "name": "stderr",
     "output_type": "stream",
     "text": [
      "GPU available: True (mps), used: True\n"
     ]
    },
    {
     "name": "stderr",
     "output_type": "stream",
     "text": [
      "TPU available: False, using: 0 TPU cores\n"
     ]
    },
    {
     "name": "stderr",
     "output_type": "stream",
     "text": [
      "HPU available: False, using: 0 HPUs\n"
     ]
    },
    {
     "name": "stderr",
     "output_type": "stream",
     "text": [
      "\n",
      "  | Name   | Type       | Params | Mode  | In sizes  | Out sizes\n",
      "----------------------------------------------------------------------\n",
      "0 | layers | Sequential | 637    | train | [256, 10] | [256, 1] \n",
      "----------------------------------------------------------------------\n",
      "637       Trainable params\n",
      "0         Non-trainable params\n",
      "637       Total params\n",
      "0.003     Total estimated model params size (MB)\n",
      "63        Modules in train mode\n",
      "0         Modules in eval mode\n"
     ]
    },
    {
     "name": "stdout",
     "output_type": "stream",
     "text": [
      "train_model result: {'val_loss': 6686.21240234375, 'hp_metric': 6686.21240234375}\n"
     ]
    },
    {
     "name": "stderr",
     "output_type": "stream",
     "text": [
      "GPU available: True (mps), used: True\n"
     ]
    },
    {
     "name": "stderr",
     "output_type": "stream",
     "text": [
      "TPU available: False, using: 0 TPU cores\n"
     ]
    },
    {
     "name": "stderr",
     "output_type": "stream",
     "text": [
      "HPU available: False, using: 0 HPUs\n"
     ]
    },
    {
     "name": "stderr",
     "output_type": "stream",
     "text": [
      "\n",
      "  | Name   | Type       | Params | Mode  | In sizes  | Out sizes\n",
      "----------------------------------------------------------------------\n",
      "0 | layers | Sequential | 637    | train | [512, 10] | [512, 1] \n",
      "----------------------------------------------------------------------\n",
      "637       Trainable params\n",
      "0         Non-trainable params\n",
      "637       Total params\n",
      "0.003     Total estimated model params size (MB)\n",
      "63        Modules in train mode\n",
      "0         Modules in eval mode\n"
     ]
    },
    {
     "name": "stdout",
     "output_type": "stream",
     "text": [
      "train_model result: {'val_loss': 24109.787109375, 'hp_metric': 24109.787109375}\n"
     ]
    },
    {
     "name": "stderr",
     "output_type": "stream",
     "text": [
      "GPU available: True (mps), used: True\n"
     ]
    },
    {
     "name": "stderr",
     "output_type": "stream",
     "text": [
      "TPU available: False, using: 0 TPU cores\n"
     ]
    },
    {
     "name": "stderr",
     "output_type": "stream",
     "text": [
      "HPU available: False, using: 0 HPUs\n"
     ]
    },
    {
     "name": "stderr",
     "output_type": "stream",
     "text": [
      "\n",
      "  | Name   | Type       | Params | Mode  | In sizes | Out sizes\n",
      "---------------------------------------------------------------------\n",
      "0 | layers | Sequential | 637    | train | [32, 10] | [32, 1]  \n",
      "---------------------------------------------------------------------\n",
      "637       Trainable params\n",
      "0         Non-trainable params\n",
      "637       Total params\n",
      "0.003     Total estimated model params size (MB)\n",
      "63        Modules in train mode\n",
      "0         Modules in eval mode\n"
     ]
    },
    {
     "name": "stdout",
     "output_type": "stream",
     "text": [
      "train_model result: {'val_loss': 23714.3203125, 'hp_metric': 23714.3203125}\n"
     ]
    },
    {
     "name": "stderr",
     "output_type": "stream",
     "text": [
      "GPU available: True (mps), used: True\n"
     ]
    },
    {
     "name": "stderr",
     "output_type": "stream",
     "text": [
      "TPU available: False, using: 0 TPU cores\n"
     ]
    },
    {
     "name": "stderr",
     "output_type": "stream",
     "text": [
      "HPU available: False, using: 0 HPUs\n"
     ]
    },
    {
     "name": "stderr",
     "output_type": "stream",
     "text": [
      "\n",
      "  | Name   | Type       | Params | Mode  | In sizes | Out sizes\n",
      "---------------------------------------------------------------------\n",
      "0 | layers | Sequential | 1.8 K  | train | [64, 10] | [64, 1]  \n",
      "---------------------------------------------------------------------\n",
      "1.8 K     Trainable params\n",
      "0         Non-trainable params\n",
      "1.8 K     Total params\n",
      "0.007     Total estimated model params size (MB)\n",
      "101       Modules in train mode\n",
      "0         Modules in eval mode\n"
     ]
    },
    {
     "name": "stdout",
     "output_type": "stream",
     "text": [
      "train_model result: {'val_loss': 21453.193359375, 'hp_metric': 21453.193359375}\n"
     ]
    },
    {
     "name": "stderr",
     "output_type": "stream",
     "text": [
      "`Trainer.fit` stopped: `max_epochs=32` reached.\n"
     ]
    },
    {
     "name": "stdout",
     "output_type": "stream",
     "text": [
      "train_model result: {'val_loss': 23739.24609375, 'hp_metric': 23739.24609375}\n"
     ]
    },
    {
     "name": "stderr",
     "output_type": "stream",
     "text": [
      "GPU available: True (mps), used: True\n"
     ]
    },
    {
     "name": "stderr",
     "output_type": "stream",
     "text": [
      "TPU available: False, using: 0 TPU cores\n"
     ]
    },
    {
     "name": "stderr",
     "output_type": "stream",
     "text": [
      "HPU available: False, using: 0 HPUs\n"
     ]
    },
    {
     "name": "stderr",
     "output_type": "stream",
     "text": [
      "\n",
      "  | Name   | Type       | Params | Mode  | In sizes   | Out sizes\n",
      "-----------------------------------------------------------------------\n",
      "0 | layers | Sequential | 637    | train | [2048, 10] | [2048, 1]\n",
      "-----------------------------------------------------------------------\n",
      "637       Trainable params\n",
      "0         Non-trainable params\n",
      "637       Total params\n",
      "0.003     Total estimated model params size (MB)\n",
      "63        Modules in train mode\n",
      "0         Modules in eval mode\n"
     ]
    },
    {
     "name": "stdout",
     "output_type": "stream",
     "text": [
      "train_model result: {'val_loss': 5624.23486328125, 'hp_metric': 5624.23486328125}\n",
      "spotpython tuning: 5624.23486328125 [#---------] 5.96% \r\n"
     ]
    },
    {
     "name": "stderr",
     "output_type": "stream",
     "text": [
      "GPU available: True (mps), used: True\n"
     ]
    },
    {
     "name": "stderr",
     "output_type": "stream",
     "text": [
      "TPU available: False, using: 0 TPU cores\n"
     ]
    },
    {
     "name": "stderr",
     "output_type": "stream",
     "text": [
      "HPU available: False, using: 0 HPUs\n"
     ]
    },
    {
     "name": "stderr",
     "output_type": "stream",
     "text": [
      "\n",
      "  | Name   | Type       | Params | Mode  | In sizes   | Out sizes\n",
      "-----------------------------------------------------------------------\n",
      "0 | layers | Sequential | 637    | train | [2048, 10] | [2048, 1]\n",
      "-----------------------------------------------------------------------\n",
      "637       Trainable params\n",
      "0         Non-trainable params\n",
      "637       Total params\n",
      "0.003     Total estimated model params size (MB)\n",
      "63        Modules in train mode\n",
      "0         Modules in eval mode\n"
     ]
    },
    {
     "name": "stdout",
     "output_type": "stream",
     "text": [
      "train_model result: {'val_loss': 3792.017578125, 'hp_metric': 3792.017578125}\n"
     ]
    },
    {
     "name": "stdout",
     "output_type": "stream",
     "text": [
      "spotpython tuning: 3792.017578125 [#---------] 13.20% \r\n"
     ]
    },
    {
     "name": "stderr",
     "output_type": "stream",
     "text": [
      "GPU available: True (mps), used: True\n"
     ]
    },
    {
     "name": "stderr",
     "output_type": "stream",
     "text": [
      "TPU available: False, using: 0 TPU cores\n"
     ]
    },
    {
     "name": "stderr",
     "output_type": "stream",
     "text": [
      "HPU available: False, using: 0 HPUs\n"
     ]
    },
    {
     "name": "stderr",
     "output_type": "stream",
     "text": [
      "\n",
      "  | Name   | Type       | Params | Mode  | In sizes   | Out sizes\n",
      "-----------------------------------------------------------------------\n",
      "0 | layers | Sequential | 637    | train | [2048, 10] | [2048, 1]\n",
      "-----------------------------------------------------------------------\n",
      "637       Trainable params\n",
      "0         Non-trainable params\n",
      "637       Total params\n",
      "0.003     Total estimated model params size (MB)\n",
      "63        Modules in train mode\n",
      "0         Modules in eval mode\n"
     ]
    },
    {
     "name": "stderr",
     "output_type": "stream",
     "text": [
      "`Trainer.fit` stopped: `max_epochs=128` reached.\n"
     ]
    },
    {
     "name": "stdout",
     "output_type": "stream",
     "text": [
      "train_model result: {'val_loss': 6528.82763671875, 'hp_metric': 6528.82763671875}\n"
     ]
    },
    {
     "name": "stdout",
     "output_type": "stream",
     "text": [
      "spotpython tuning: 3792.017578125 [###-------] 34.38% \r\n"
     ]
    },
    {
     "name": "stderr",
     "output_type": "stream",
     "text": [
      "GPU available: True (mps), used: True\n"
     ]
    },
    {
     "name": "stderr",
     "output_type": "stream",
     "text": [
      "TPU available: False, using: 0 TPU cores\n"
     ]
    },
    {
     "name": "stderr",
     "output_type": "stream",
     "text": [
      "HPU available: False, using: 0 HPUs\n"
     ]
    },
    {
     "name": "stderr",
     "output_type": "stream",
     "text": [
      "\n",
      "  | Name   | Type       | Params | Mode  | In sizes   | Out sizes\n",
      "-----------------------------------------------------------------------\n",
      "0 | layers | Sequential | 637    | train | [2048, 10] | [2048, 1]\n",
      "-----------------------------------------------------------------------\n",
      "637       Trainable params\n",
      "0         Non-trainable params\n",
      "637       Total params\n",
      "0.003     Total estimated model params size (MB)\n",
      "63        Modules in train mode\n",
      "0         Modules in eval mode\n"
     ]
    },
    {
     "name": "stdout",
     "output_type": "stream",
     "text": [
      "train_model result: {'val_loss': 4984.78466796875, 'hp_metric': 4984.78466796875}\n"
     ]
    },
    {
     "name": "stdout",
     "output_type": "stream",
     "text": [
      "spotpython tuning: 3792.017578125 [####------] 41.72% \r\n"
     ]
    },
    {
     "name": "stderr",
     "output_type": "stream",
     "text": [
      "GPU available: True (mps), used: True\n"
     ]
    },
    {
     "name": "stderr",
     "output_type": "stream",
     "text": [
      "TPU available: False, using: 0 TPU cores\n"
     ]
    },
    {
     "name": "stderr",
     "output_type": "stream",
     "text": [
      "HPU available: False, using: 0 HPUs\n"
     ]
    },
    {
     "name": "stderr",
     "output_type": "stream",
     "text": [
      "\n",
      "  | Name   | Type       | Params | Mode  | In sizes   | Out sizes\n",
      "-----------------------------------------------------------------------\n",
      "0 | layers | Sequential | 637    | train | [2048, 10] | [2048, 1]\n",
      "-----------------------------------------------------------------------\n",
      "637       Trainable params\n",
      "0         Non-trainable params\n",
      "637       Total params\n",
      "0.003     Total estimated model params size (MB)\n",
      "63        Modules in train mode\n",
      "0         Modules in eval mode\n"
     ]
    },
    {
     "name": "stdout",
     "output_type": "stream",
     "text": [
      "train_model result: {'val_loss': 5016.91162109375, 'hp_metric': 5016.91162109375}\n"
     ]
    },
    {
     "name": "stdout",
     "output_type": "stream",
     "text": [
      "spotpython tuning: 3792.017578125 [#####-----] 50.75% \r\n"
     ]
    },
    {
     "name": "stderr",
     "output_type": "stream",
     "text": [
      "GPU available: True (mps), used: True\n"
     ]
    },
    {
     "name": "stderr",
     "output_type": "stream",
     "text": [
      "TPU available: False, using: 0 TPU cores\n"
     ]
    },
    {
     "name": "stderr",
     "output_type": "stream",
     "text": [
      "HPU available: False, using: 0 HPUs\n"
     ]
    },
    {
     "name": "stderr",
     "output_type": "stream",
     "text": [
      "\n",
      "  | Name   | Type       | Params | Mode  | In sizes | Out sizes\n",
      "---------------------------------------------------------------------\n",
      "0 | layers | Sequential | 637    | train | [16, 10] | [16, 1]  \n",
      "---------------------------------------------------------------------\n",
      "637       Trainable params\n",
      "0         Non-trainable params\n",
      "637       Total params\n",
      "0.003     Total estimated model params size (MB)\n",
      "63        Modules in train mode\n",
      "0         Modules in eval mode\n"
     ]
    },
    {
     "name": "stdout",
     "output_type": "stream",
     "text": [
      "train_model result: {'val_loss': 23554.8984375, 'hp_metric': 23554.8984375}\n"
     ]
    },
    {
     "name": "stdout",
     "output_type": "stream",
     "text": [
      "spotpython tuning: 3792.017578125 [######----] 59.60% \r\n"
     ]
    },
    {
     "name": "stderr",
     "output_type": "stream",
     "text": [
      "GPU available: True (mps), used: True\n"
     ]
    },
    {
     "name": "stderr",
     "output_type": "stream",
     "text": [
      "TPU available: False, using: 0 TPU cores\n"
     ]
    },
    {
     "name": "stderr",
     "output_type": "stream",
     "text": [
      "HPU available: False, using: 0 HPUs\n"
     ]
    },
    {
     "name": "stderr",
     "output_type": "stream",
     "text": [
      "\n",
      "  | Name   | Type       | Params | Mode  | In sizes   | Out sizes\n",
      "-----------------------------------------------------------------------\n",
      "0 | layers | Sequential | 637    | train | [2048, 10] | [2048, 1]\n",
      "-----------------------------------------------------------------------\n",
      "637       Trainable params\n",
      "0         Non-trainable params\n",
      "637       Total params\n",
      "0.003     Total estimated model params size (MB)\n",
      "63        Modules in train mode\n",
      "0         Modules in eval mode\n"
     ]
    },
    {
     "name": "stderr",
     "output_type": "stream",
     "text": [
      "`Trainer.fit` stopped: `max_epochs=8` reached.\n"
     ]
    },
    {
     "name": "stdout",
     "output_type": "stream",
     "text": [
      "train_model result: {'val_loss': 21770.8203125, 'hp_metric': 21770.8203125}\n"
     ]
    },
    {
     "name": "stdout",
     "output_type": "stream",
     "text": [
      "spotpython tuning: 3792.017578125 [######----] 63.12% \r\n"
     ]
    },
    {
     "name": "stderr",
     "output_type": "stream",
     "text": [
      "GPU available: True (mps), used: True\n"
     ]
    },
    {
     "name": "stderr",
     "output_type": "stream",
     "text": [
      "TPU available: False, using: 0 TPU cores\n"
     ]
    },
    {
     "name": "stderr",
     "output_type": "stream",
     "text": [
      "HPU available: False, using: 0 HPUs\n"
     ]
    },
    {
     "name": "stderr",
     "output_type": "stream",
     "text": [
      "\n",
      "  | Name   | Type       | Params | Mode  | In sizes   | Out sizes\n",
      "-----------------------------------------------------------------------\n",
      "0 | layers | Sequential | 637    | train | [2048, 10] | [2048, 1]\n",
      "-----------------------------------------------------------------------\n",
      "637       Trainable params\n",
      "0         Non-trainable params\n",
      "637       Total params\n",
      "0.003     Total estimated model params size (MB)\n",
      "63        Modules in train mode\n",
      "0         Modules in eval mode\n"
     ]
    },
    {
     "name": "stdout",
     "output_type": "stream",
     "text": [
      "train_model result: {'val_loss': 22465.623046875, 'hp_metric': 22465.623046875}\n"
     ]
    },
    {
     "name": "stdout",
     "output_type": "stream",
     "text": [
      "spotpython tuning: 3792.017578125 [########--] 82.75% \r\n"
     ]
    },
    {
     "name": "stderr",
     "output_type": "stream",
     "text": [
      "GPU available: True (mps), used: True\n"
     ]
    },
    {
     "name": "stderr",
     "output_type": "stream",
     "text": [
      "TPU available: False, using: 0 TPU cores\n"
     ]
    },
    {
     "name": "stderr",
     "output_type": "stream",
     "text": [
      "HPU available: False, using: 0 HPUs\n"
     ]
    },
    {
     "name": "stderr",
     "output_type": "stream",
     "text": [
      "\n",
      "  | Name   | Type       | Params | Mode  | In sizes | Out sizes\n",
      "---------------------------------------------------------------------\n",
      "0 | layers | Sequential | 637    | train | [16, 10] | [16, 1]  \n",
      "---------------------------------------------------------------------\n",
      "637       Trainable params\n",
      "0         Non-trainable params\n",
      "637       Total params\n",
      "0.003     Total estimated model params size (MB)\n",
      "63        Modules in train mode\n",
      "0         Modules in eval mode\n"
     ]
    },
    {
     "name": "stderr",
     "output_type": "stream",
     "text": [
      "`Trainer.fit` stopped: `max_epochs=8` reached.\n"
     ]
    },
    {
     "name": "stdout",
     "output_type": "stream",
     "text": [
      "train_model result: {'val_loss': 13155.591796875, 'hp_metric': 13155.591796875}\n"
     ]
    },
    {
     "name": "stdout",
     "output_type": "stream",
     "text": [
      "spotpython tuning: 3792.017578125 [#########-] 91.74% \r\n"
     ]
    },
    {
     "name": "stderr",
     "output_type": "stream",
     "text": [
      "GPU available: True (mps), used: True\n"
     ]
    },
    {
     "name": "stderr",
     "output_type": "stream",
     "text": [
      "TPU available: False, using: 0 TPU cores\n"
     ]
    },
    {
     "name": "stderr",
     "output_type": "stream",
     "text": [
      "HPU available: False, using: 0 HPUs\n"
     ]
    },
    {
     "name": "stderr",
     "output_type": "stream",
     "text": [
      "\n",
      "  | Name   | Type       | Params | Mode  | In sizes | Out sizes\n",
      "---------------------------------------------------------------------\n",
      "0 | layers | Sequential | 637    | train | [16, 10] | [16, 1]  \n",
      "---------------------------------------------------------------------\n",
      "637       Trainable params\n",
      "0         Non-trainable params\n",
      "637       Total params\n",
      "0.003     Total estimated model params size (MB)\n",
      "63        Modules in train mode\n",
      "0         Modules in eval mode\n"
     ]
    },
    {
     "name": "stdout",
     "output_type": "stream",
     "text": [
      "train_model result: {'val_loss': 4112.88427734375, 'hp_metric': 4112.88427734375}\n"
     ]
    },
    {
     "name": "stdout",
     "output_type": "stream",
     "text": [
      "spotpython tuning: 3792.017578125 [##########] 100.00% Done...\r\n",
      "\r\n"
     ]
    }
   ],
   "source": [
    "#| label: 605_run\n",
    "spot_tuner = spot.Spot(fun=fun,fun_control=fun_control, design_control=design_control)\n",
    "res = spot_tuner.run()"
   ]
  },
  {
   "cell_type": "markdown",
   "id": "c3616f84",
   "metadata": {},
   "source": [
    "## Looking at the Results\n",
    "\n",
    "### Tuning Progress\n",
    "\n",
    "After the hyperparameter tuning run is finished, the progress of the hyperparameter tuning can be visualized with `spotpython`'s method `plot_progress`. The black points represent the performace values (score or metric) of  hyperparameter configurations from the initial design, whereas the red points represents the  hyperparameter configurations found by the surrogate model based optimization.\n"
   ]
  },
  {
   "cell_type": "code",
   "execution_count": 5,
   "id": "f301e50b",
   "metadata": {},
   "outputs": [
    {
     "data": {
      "application/pdf": "[encoded data removed]",
      "text/plain": [
       "<Figure size 2700x1800 with 1 Axes>"
      ]
     },
     "metadata": {},
     "output_type": "display_data"
    }
   ],
   "source": [
    "spot_tuner.plot_progress()"
   ]
  },
  {
   "cell_type": "markdown",
   "id": "b7bdccbf",
   "metadata": {},
   "source": [
    "### Tuned Hyperparameters and Their Importance\n",
    "\n",
    "Results can be printed in tabular form.\n"
   ]
  },
  {
   "cell_type": "code",
   "execution_count": 6,
   "id": "699a6279",
   "metadata": {},
   "outputs": [
    {
     "name": "stdout",
     "output_type": "stream",
     "text": [
      "| name           | type   | default   |   lower |   upper | tuned                | transform             |   importance | stars   |\n",
      "|----------------|--------|-----------|---------|---------|----------------------|-----------------------|--------------|---------|\n",
      "| l1             | int    | 3         |     3.0 |     4.0 | 3.0                  | transform_power_2_int |         0.20 | .       |\n",
      "| epochs         | int    | 4         |     3.0 |     7.0 | 7.0                  | transform_power_2_int |         0.37 | .       |\n",
      "| batch_size     | int    | 4         |     4.0 |    11.0 | 11.0                 | transform_power_2_int |         0.22 | .       |\n",
      "| act_fn         | factor | ReLU      |     0.0 |     5.0 | ReLU                 | None                  |         0.35 | .       |\n",
      "| optimizer      | factor | SGD       |     0.0 |     2.0 | Adadelta             | None                  |         0.29 | .       |\n",
      "| dropout_prob   | float  | 0.01      |     0.0 |   0.025 | 0.015538965770081114 | None                  |         2.84 | *       |\n",
      "| lr_mult        | float  | 1.0       |     0.1 |    20.0 | 20.0                 | None                  |         0.23 | .       |\n",
      "| patience       | int    | 2         |     2.0 |     3.0 | 3.0                  | transform_power_2_int |       100.00 | ***     |\n",
      "| initialization | factor | Default   |     0.0 |     4.0 | kaiming_uniform      | None                  |         0.26 | .       |\n"
     ]
    }
   ],
   "source": [
    "from spotpython.utils.eda import gen_design_table\n",
    "print(gen_design_table(fun_control=fun_control, spot=spot_tuner))"
   ]
  },
  {
   "cell_type": "markdown",
   "id": "2fa3452d",
   "metadata": {},
   "source": [
    "A histogram can be used to visualize the most important hyperparameters.\n"
   ]
  },
  {
   "cell_type": "code",
   "execution_count": 7,
   "id": "c74c2753",
   "metadata": {},
   "outputs": [
    {
     "data": {
      "application/pdf": "[encoded data removed]",
      "text/plain": [
       "<Figure size 1650x1050 with 1 Axes>"
      ]
     },
     "metadata": {},
     "output_type": "display_data"
    }
   ],
   "source": [
    "spot_tuner.plot_importance(threshold=1.0)"
   ]
  },
  {
   "cell_type": "code",
   "execution_count": 8,
   "id": "47f7ba9c",
   "metadata": {},
   "outputs": [
    {
     "name": "stdout",
     "output_type": "stream",
     "text": [
      "l1:  0.20022018647632916\n",
      "epochs:  0.36770284649306495\n",
      "batch_size:  0.22043962999845218\n",
      "act_fn:  0.35269732441450835\n",
      "optimizer:  0.2932560330532338\n",
      "dropout_prob:  2.840683257228657\n",
      "lr_mult:  0.23328412651500768\n",
      "patience:  100.0\n",
      "initialization:  0.2610687626218617\n"
     ]
    },
    {
     "data": {
      "application/pdf": "[encoded data removed]",
      "text/plain": [
       "<Figure size 3600x1800 with 3 Axes>"
      ]
     },
     "metadata": {},
     "output_type": "display_data"
    },
    {
     "data": {
      "application/pdf": "[encoded data removed]",
      "text/plain": [
       "<Figure size 3600x1800 with 3 Axes>"
      ]
     },
     "metadata": {},
     "output_type": "display_data"
    },
    {
     "data": {
      "application/pdf": "[encoded data removed]",
      "text/plain": [
       "<Figure size 3600x1800 with 3 Axes>"
      ]
     },
     "metadata": {},
     "output_type": "display_data"
    }
   ],
   "source": [
    "spot_tuner.plot_important_hyperparameter_contour(max_imp=3)"
   ]
  },
  {
   "cell_type": "markdown",
   "id": "6ae10d21",
   "metadata": {},
   "source": [
    "### Get the Tuned Architecture {#sec-get-spot-results-31}\n"
   ]
  },
  {
   "cell_type": "code",
   "execution_count": 9,
   "id": "59a8bd1b",
   "metadata": {},
   "outputs": [
    {
     "name": "stdout",
     "output_type": "stream",
     "text": [
      "{'act_fn': ReLU(),\n",
      " 'batch_size': 2048,\n",
      " 'dropout_prob': 0.015538965770081114,\n",
      " 'epochs': 128,\n",
      " 'initialization': 'kaiming_uniform',\n",
      " 'l1': 8,\n",
      " 'lr_mult': 20.0,\n",
      " 'optimizer': 'Adadelta',\n",
      " 'patience': 8}\n"
     ]
    }
   ],
   "source": [
    "import pprint\n",
    "from spotpython.hyperparameters.values import get_tuned_architecture\n",
    "config = get_tuned_architecture(spot_tuner, fun_control)\n",
    "pprint.pprint(config)"
   ]
  },
  {
   "cell_type": "markdown",
   "id": "43334b80",
   "metadata": {},
   "source": [
    "### Test on the full data set\n"
   ]
  },
  {
   "cell_type": "code",
   "execution_count": 10,
   "id": "640000e6",
   "metadata": {},
   "outputs": [],
   "source": [
    "# set the value of the key \"TENSORBOARD_CLEAN\" to True in the fun_control dictionary and use the update() method to update the fun_control dictionary\n",
    "import os\n",
    "# if the directory \"./runs\" exists, delete it\n",
    "if os.path.exists(\"./runs\"):\n",
    "    os.system(\"rm -r ./runs\")\n",
    "fun_control.update({\"tensorboard_log\": True})"
   ]
  },
  {
   "cell_type": "code",
   "execution_count": 11,
   "id": "4e104215",
   "metadata": {},
   "outputs": [
    {
     "name": "stderr",
     "output_type": "stream",
     "text": [
      "GPU available: True (mps), used: True\n"
     ]
    },
    {
     "name": "stderr",
     "output_type": "stream",
     "text": [
      "TPU available: False, using: 0 TPU cores\n"
     ]
    },
    {
     "name": "stderr",
     "output_type": "stream",
     "text": [
      "HPU available: False, using: 0 HPUs\n"
     ]
    },
    {
     "name": "stderr",
     "output_type": "stream",
     "text": [
      "\n",
      "  | Name   | Type       | Params | Mode  | In sizes   | Out sizes\n",
      "-----------------------------------------------------------------------\n",
      "0 | layers | Sequential | 637    | train | [2048, 10] | [2048, 1]\n",
      "-----------------------------------------------------------------------\n",
      "637       Trainable params\n",
      "0         Non-trainable params\n",
      "637       Total params\n",
      "0.003     Total estimated model params size (MB)\n",
      "63        Modules in train mode\n",
      "0         Modules in eval mode\n"
     ]
    },
    {
     "name": "stderr",
     "output_type": "stream",
     "text": [
      "Restoring states from the checkpoint path at /Users/bartz/workspace/Hyperparameter-Tuning-Cookbook/runs/saved_models/8_128_2048_ReLU_Adadelta_0.0155_20.0_8_kaiming_uniform_TEST/last.ckpt\n"
     ]
    },
    {
     "name": "stderr",
     "output_type": "stream",
     "text": [
      "Loaded model weights from the checkpoint at /Users/bartz/workspace/Hyperparameter-Tuning-Cookbook/runs/saved_models/8_128_2048_ReLU_Adadelta_0.0155_20.0_8_kaiming_uniform_TEST/last.ckpt\n"
     ]
    },
    {
     "data": {
      "text/html": [
       "<pre style=\"white-space:pre;overflow-x:auto;line-height:normal;font-family:Menlo,'DejaVu Sans Mono',consolas,'Courier New',monospace\">┏━━━━━━━━━━━━━━━━━━━━━━━━━━━┳━━━━━━━━━━━━━━━━━━━━━━━━━━━┓\n",
       "┃<span style=\"font-weight: bold\">        Test metric        </span>┃<span style=\"font-weight: bold\">       DataLoader 0        </span>┃\n",
       "┡━━━━━━━━━━━━━━━━━━━━━━━━━━━╇━━━━━━━━━━━━━━━━━━━━━━━━━━━┩\n",
       "│<span style=\"color: #008080; text-decoration-color: #008080\">         hp_metric         </span>│<span style=\"color: #800080; text-decoration-color: #800080\">       24648.328125        </span>│\n",
       "│<span style=\"color: #008080; text-decoration-color: #008080\">         val_loss          </span>│<span style=\"color: #800080; text-decoration-color: #800080\">       24648.328125        </span>│\n",
       "└───────────────────────────┴───────────────────────────┘\n",
       "</pre>\n"
      ],
      "text/plain": [
       "┏━━━━━━━━━━━━━━━━━━━━━━━━━━━┳━━━━━━━━━━━━━━━━━━━━━━━━━━━┓\n",
       "┃\u001b[1m \u001b[0m\u001b[1m       Test metric       \u001b[0m\u001b[1m \u001b[0m┃\u001b[1m \u001b[0m\u001b[1m      DataLoader 0       \u001b[0m\u001b[1m \u001b[0m┃\n",
       "┡━━━━━━━━━━━━━━━━━━━━━━━━━━━╇━━━━━━━━━━━━━━━━━━━━━━━━━━━┩\n",
       "│\u001b[36m \u001b[0m\u001b[36m        hp_metric        \u001b[0m\u001b[36m \u001b[0m│\u001b[35m \u001b[0m\u001b[35m      24648.328125       \u001b[0m\u001b[35m \u001b[0m│\n",
       "│\u001b[36m \u001b[0m\u001b[36m        val_loss         \u001b[0m\u001b[36m \u001b[0m│\u001b[35m \u001b[0m\u001b[35m      24648.328125       \u001b[0m\u001b[35m \u001b[0m│\n",
       "└───────────────────────────┴───────────────────────────┘\n"
      ]
     },
     "metadata": {},
     "output_type": "display_data"
    },
    {
     "name": "stdout",
     "output_type": "stream",
     "text": [
      "test_model result: {'val_loss': 24648.328125, 'hp_metric': 24648.328125}\n"
     ]
    },
    {
     "data": {
      "text/plain": [
       "['age',\n",
       " 'sex',\n",
       " 'bmi',\n",
       " 'bp',\n",
       " 's1_tc',\n",
       " 's2_ldl',\n",
       " 's3_hdl',\n",
       " 's4_tch',\n",
       " 's5_ltg',\n",
       " 's6_glu']"
      ]
     },
     "execution_count": 11,
     "metadata": {},
     "output_type": "execute_result"
    }
   ],
   "source": [
    "from spotpython.light.testmodel import test_model\n",
    "from spotpython.utils.init import get_feature_names\n",
    "\n",
    "test_model(config, fun_control)\n",
    "get_feature_names(fun_control)"
   ]
  },
  {
   "cell_type": "markdown",
   "id": "cc16d75f",
   "metadata": {},
   "source": [
    "### Cross Validation With Lightning\n",
    "\n",
    "* The `KFold` class from `sklearn.model_selection` is used to generate the folds for cross-validation.\n",
    "* These mechanism is used to generate the folds for the final evaluation of the model.\n",
    "* The `CrossValidationDataModule` class [[SOURCE]](https://github.com/sequential-parameter-optimization/spotpython/blob/main/src/spotpython/data/lightcrossvalidationdatamodule.py) is used to generate the folds for the hyperparameter tuning process.\n",
    "* It is called from the `cv_model` function [[SOURCE]](https://github.com/sequential-parameter-optimization/spotpython/blob/main/src/spotpython/light/cvmodel.py).\n"
   ]
  },
  {
   "cell_type": "code",
   "execution_count": 12,
   "id": "9e9f3db8",
   "metadata": {},
   "outputs": [
    {
     "data": {
      "text/plain": [
       "{'l1': 8,\n",
       " 'epochs': 128,\n",
       " 'batch_size': 2048,\n",
       " 'act_fn': ReLU(),\n",
       " 'optimizer': 'Adadelta',\n",
       " 'dropout_prob': 0.015538965770081114,\n",
       " 'lr_mult': 20.0,\n",
       " 'patience': 8,\n",
       " 'initialization': 'kaiming_uniform'}"
      ]
     },
     "execution_count": 12,
     "metadata": {},
     "output_type": "execute_result"
    }
   ],
   "source": [
    "config"
   ]
  },
  {
   "cell_type": "code",
   "execution_count": 13,
   "id": "9cefbd84",
   "metadata": {},
   "outputs": [
    {
     "name": "stderr",
     "output_type": "stream",
     "text": [
      "GPU available: True (mps), used: True\n"
     ]
    },
    {
     "name": "stderr",
     "output_type": "stream",
     "text": [
      "TPU available: False, using: 0 TPU cores\n"
     ]
    },
    {
     "name": "stderr",
     "output_type": "stream",
     "text": [
      "HPU available: False, using: 0 HPUs\n"
     ]
    },
    {
     "name": "stderr",
     "output_type": "stream",
     "text": [
      "\n",
      "  | Name   | Type       | Params | Mode  | In sizes   | Out sizes\n",
      "-----------------------------------------------------------------------\n",
      "0 | layers | Sequential | 637    | train | [2048, 10] | [2048, 1]\n",
      "-----------------------------------------------------------------------\n",
      "637       Trainable params\n",
      "0         Non-trainable params\n",
      "637       Total params\n",
      "0.003     Total estimated model params size (MB)\n",
      "63        Modules in train mode\n",
      "0         Modules in eval mode\n"
     ]
    },
    {
     "name": "stdout",
     "output_type": "stream",
     "text": [
      "k: 0\n",
      "Train Dataset Size: 221\n",
      "Val Dataset Size: 221\n"
     ]
    },
    {
     "name": "stderr",
     "output_type": "stream",
     "text": [
      "GPU available: True (mps), used: True\n"
     ]
    },
    {
     "name": "stderr",
     "output_type": "stream",
     "text": [
      "TPU available: False, using: 0 TPU cores\n"
     ]
    },
    {
     "name": "stderr",
     "output_type": "stream",
     "text": [
      "HPU available: False, using: 0 HPUs\n"
     ]
    },
    {
     "name": "stderr",
     "output_type": "stream",
     "text": [
      "\n",
      "  | Name   | Type       | Params | Mode  | In sizes   | Out sizes\n",
      "-----------------------------------------------------------------------\n",
      "0 | layers | Sequential | 637    | train | [2048, 10] | [2048, 1]\n",
      "-----------------------------------------------------------------------\n",
      "637       Trainable params\n",
      "0         Non-trainable params\n",
      "637       Total params\n",
      "0.003     Total estimated model params size (MB)\n",
      "63        Modules in train mode\n",
      "0         Modules in eval mode\n"
     ]
    },
    {
     "name": "stdout",
     "output_type": "stream",
     "text": [
      "train_model result: {'val_loss': 6718.1357421875, 'hp_metric': 6718.1357421875}\n",
      "k: 1\n",
      "Train Dataset Size: 221\n",
      "Val Dataset Size: 221\n"
     ]
    },
    {
     "name": "stdout",
     "output_type": "stream",
     "text": [
      "train_model result: {'val_loss': 5204.14208984375, 'hp_metric': 5204.14208984375}\n"
     ]
    },
    {
     "data": {
      "text/plain": [
       "5961.138916015625"
      ]
     },
     "execution_count": 13,
     "metadata": {},
     "output_type": "execute_result"
    }
   ],
   "source": [
    "from spotpython.light.cvmodel import cv_model\n",
    "fun_control.update({\"k_folds\": 2})\n",
    "fun_control.update({\"test_size\": 0.6})\n",
    "cv_model(config, fun_control)"
   ]
  },
  {
   "cell_type": "markdown",
   "id": "f7f530c2",
   "metadata": {},
   "source": [
    "## Summary\n",
    "\n",
    "This section presented an introduction to the basic setup of hyperparameter tuning with `spotpython` and `PyTorch` Lightning using a ResNet model for the Diabetes data set.\n"
   ]
  }
 ],
 "metadata": {
  "kernelspec": {
   "display_name": "Python 3 (ipykernel)",
   "language": "python",
   "name": "python3",
   "path": "/Users/bartz/miniforge3/envs/spot312/share/jupyter/kernels/python3"
  },
  "language_info": {
   "codemirror_mode": {
    "name": "ipython",
    "version": 3
   },
   "file_extension": ".py",
   "mimetype": "text/x-python",
   "name": "python",
   "nbconvert_exporter": "python",
   "pygments_lexer": "ipython3",
   "version": "3.12.5"
  }
 },
 "nbformat": 4,
 "nbformat_minor": 5
}
