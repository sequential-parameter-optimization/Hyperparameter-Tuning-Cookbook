{
 "cells": [
  {
   "cell_type": "markdown",
   "id": "75ee0be1",
   "metadata": {},
   "source": [
    "---\n",
    "execute:\n",
    "  cache: false\n",
    "  eval: true\n",
    "  echo: true\n",
    "  warning: false\n",
    "jupyter: python3\n",
    "---\n",
    "\n",
    "\n",
    "# Hyperparameter Tuning of a Transformer Network with PyTorch Lightning {#sec-hyperparameter-tuning-with-pytorch-lightning-603}\n",
    "\n",
    "## Basic Setup {#sec-basic-setup-603}\n",
    "\n",
    "This section provides an overview of the hyperparameter tuning process using `spotpython` and `PyTorch` Lightning. It uses the `Diabetes` data set (see @sec-a-05-diabetes-data-set) for a regression task. \n",
    "@sec-light-user-data-603 describes how user data can be used in the hyperparameter tuning process.\n",
    "@sec-light-user-model-603 explains how user models can be used in the hyperparameter tuning process.\n"
   ]
  },
  {
   "cell_type": "code",
   "execution_count": 1,
   "id": "imports",
   "metadata": {},
   "outputs": [],
   "source": [
    "#| echo: false\n",
    "#| label: 603_imports\n",
    "import numpy as np\n",
    "import os\n",
    "from math import inf\n",
    "import numpy as np\n",
    "import warnings\n",
    "if not os.path.exists('./figures'):\n",
    "    os.makedirs('./figures')\n",
    "warnings.filterwarnings(\"ignore\")"
   ]
  },
  {
   "cell_type": "markdown",
   "id": "5c485700",
   "metadata": {},
   "source": [
    "In this section, we will show how `spotpython` can be integrated into the `PyTorch` Lightning\n",
    "training workflow for a regression task.\n",
    "It demonstrates how easy it is to use `spotpython` to tune hyperparameters for a `PyTorch` Lightning model.\n",
    "\n",
    "After importing the necessary libraries, the `fun_control` dictionary is set up via the `fun_control_init` function.\n",
    "The `fun_control` dictionary contains\n",
    "\n",
    "* `PREFIX`: a unique identifier for the experiment\n",
    "* `fun_evals`: the number of function evaluations\n",
    "* `max_time`: the maximum run time in minutes\n",
    "* `data_set`: the data set. Here we use the `Diabetes` data set that is provided by `spotpython`.\n",
    "* `core_model_name`: the class name of the neural network model. This neural network model is provided by `spotpython`.\n",
    "* `hyperdict`: the hyperparameter dictionary. This dictionary is used to define the hyperparameters of the neural network model. It is also provided by `spotpython`.\n",
    "* `_L_in`: the number of input features. Since the `Diabetes` data set has 10 features, `_L_in` is set to 10.\n",
    "* `_L_out`: the number of output features. Since we want to predict a single value, `_L_out` is set to 1.\n",
    "\n",
    "The method `set_hyperparameter` allows the user to modify default hyperparameter settings. Here we set the `initialization` method to `[\"Default\"]`. No other initializations are used in this experiment.\n",
    "The `HyperLight` class is used to define the objective function `fun`. It connects the `PyTorch` and the `spotpython` methods and is provided by `spotpython`.\n",
    "Finally, a `Spot` object is created.\n"
   ]
  },
  {
   "cell_type": "code",
   "execution_count": 2,
   "id": "setup",
   "metadata": {},
   "outputs": [
    {
     "name": "stderr",
     "output_type": "stream",
     "text": [
      "Seed set to 123\n"
     ]
    },
    {
     "name": "stderr",
     "output_type": "stream",
     "text": [
      "Seed set to 123\n"
     ]
    },
    {
     "name": "stdout",
     "output_type": "stream",
     "text": [
      "Moving TENSORBOARD_PATH: runs/ to TENSORBOARD_PATH_OLD: runs_OLD/runs_2024_09_22_17_47_56\n",
      "Created spot_tensorboard_path: runs/spot_logs/603_maans14_2024-09-22_17-47-56 for SummaryWriter()\n",
      "module_name: light\n",
      "submodule_name: regression\n",
      "model_name: NNTransformerRegressor\n"
     ]
    }
   ],
   "source": [
    "#| label: 603_setup\n",
    "from spotpython.data.diabetes import Diabetes\n",
    "from spotpython.hyperdict.light_hyper_dict import LightHyperDict\n",
    "from spotpython.fun.hyperlight import HyperLight\n",
    "from spotpython.utils.init import (fun_control_init, surrogate_control_init, design_control_init)\n",
    "from spotpython.utils.eda import gen_design_table\n",
    "from spotpython.hyperparameters.values import set_hyperparameter\n",
    "from spotpython.spot import spot\n",
    "from spotpython.utils.file import get_experiment_filename\n",
    "from spotpython.utils.scaler import TorchStandardScaler\n",
    "\n",
    "fun_control = fun_control_init(\n",
    "    PREFIX=\"603\",\n",
    "    TENSORBOARD_CLEAN=True,\n",
    "    tensorboard_log=True,\n",
    "    fun_evals=inf,\n",
    "    max_time=1,\n",
    "    data_set = Diabetes(),\n",
    "    scaler=TorchStandardScaler(),\n",
    "    core_model_name=\"light.regression.NNTransformerRegressor\",\n",
    "    hyperdict=LightHyperDict,\n",
    "    _L_in=10,\n",
    "    _L_out=1)\n",
    "\n",
    "set_hyperparameter(fun_control, \"optimizer\", [\n",
    "                \"Adadelta\",\n",
    "                \"Adagrad\",\n",
    "                \"Adam\",\n",
    "                \"AdamW\",\n",
    "                \"Adamax\",\n",
    "            ])\n",
    "set_hyperparameter(fun_control, \"epochs\", [5, 7])\n",
    "set_hyperparameter(fun_control, \"nhead\", [1, 2])\n",
    "set_hyperparameter(fun_control, \"dim_feedforward_mult\", [1, 1])\n",
    "\n",
    "design_control = design_control_init(init_size=5)\n",
    "surrogate_control = surrogate_control_init(\n",
    "    noise=True,\n",
    "    min_Lambda=1e-3,\n",
    "    max_Lambda=10,\n",
    ")\n",
    "\n",
    "fun = HyperLight().fun\n",
    "\n",
    "spot_tuner = spot.Spot(fun=fun,fun_control=fun_control, design_control=design_control, surrogate_control=surrogate_control)"
   ]
  },
  {
   "cell_type": "markdown",
   "id": "1b333555",
   "metadata": {},
   "source": [
    "We can take a look at the design table to see the initial design."
   ]
  },
  {
   "cell_type": "code",
   "execution_count": 3,
   "id": "design_table",
   "metadata": {},
   "outputs": [
    {
     "name": "stdout",
     "output_type": "stream",
     "text": [
      "| name                 | type   | default        |   lower |   upper | transform             |\n",
      "|----------------------|--------|----------------|---------|---------|-----------------------|\n",
      "| d_model_mult         | int    | 4              |    1    |     9   | transform_power_2_int |\n",
      "| nhead                | int    | 3              |    1    |     2   | transform_power_2_int |\n",
      "| num_encoder_layers   | int    | 1              |    1    |     4   | transform_power_2_int |\n",
      "| dim_feedforward_mult | int    | 1              |    1    |     1   | transform_power_2_int |\n",
      "| epochs               | int    | 7              |    5    |     7   | transform_power_2_int |\n",
      "| batch_size           | int    | 5              |    5    |     8   | transform_power_2_int |\n",
      "| optimizer            | factor | Adam           |    0    |     4   | None                  |\n",
      "| dropout              | float  | 0.1            |    0.01 |     0.1 | None                  |\n",
      "| lr_mult              | float  | 0.1            |    0.01 |     0.3 | None                  |\n",
      "| patience             | int    | 5              |    4    |     7   | transform_power_2_int |\n",
      "| initialization       | factor | xavier_uniform |    0    |     3   | None                  |\n"
     ]
    }
   ],
   "source": [
    "#| label: 603_design_table\n",
    "print(gen_design_table(fun_control))"
   ]
  },
  {
   "cell_type": "markdown",
   "id": "924064a7",
   "metadata": {},
   "source": [
    "If we want to run the hyperparameter tuning process on a remote server, we can save the setting as a `pickle` file and load it on the remote server.\n"
   ]
  },
  {
   "cell_type": "code",
   "execution_count": 4,
   "id": "save_experiment",
   "metadata": {},
   "outputs": [],
   "source": [
    "#| label: 603_save_experiment\n",
    "filename = get_experiment_filename(fun_control[\"PREFIX\"])\n",
    "# if userExperimnents directory does not exist, create it\n",
    "if not os.path.exists(\"userExperiment\"):\n",
    "    os.makedirs(\"userExperiment\")\n",
    "filename = os.path.join(\"userExperiment\", filename)\n",
    "if spot_tuner.spot_writer is not None:\n",
    "    spot_tuner.spot_writer.close()\n",
    "# remove attribute spot_writer from spot_tuner object\n",
    "if hasattr(spot_tuner, \"spot_writer\"):\n",
    "    delattr(spot_tuner, \"spot_writer\")\n",
    "spot_tuner.save_experiment(filename=filename)"
   ]
  },
  {
   "cell_type": "markdown",
   "id": "baff73dd",
   "metadata": {},
   "source": [
    "Calling the method `run()` starts the hyperparameter tuning process on the local machine.\n"
   ]
  },
  {
   "cell_type": "code",
   "execution_count": 5,
   "id": "run",
   "metadata": {},
   "outputs": [
    {
     "name": "stderr",
     "output_type": "stream",
     "text": [
      "GPU available: True (mps), used: True\n"
     ]
    },
    {
     "name": "stderr",
     "output_type": "stream",
     "text": [
      "TPU available: False, using: 0 TPU cores\n"
     ]
    },
    {
     "name": "stderr",
     "output_type": "stream",
     "text": [
      "HPU available: False, using: 0 HPUs\n"
     ]
    },
    {
     "name": "stdout",
     "output_type": "stream",
     "text": [
      "d_model: 16, dim_feedforward: 32\n",
      "Milestones: [16, 32, 48]\n"
     ]
    },
    {
     "name": "stderr",
     "output_type": "stream",
     "text": [
      "\n",
      "  | Name                | Type               | Params | Mode  | In sizes       | Out sizes     \n",
      "-----------------------------------------------------------------------------------------------------\n",
      "0 | input_proj          | Linear             | 176    | train | [128, 10]      | [128, 16]     \n",
      "1 | positional_encoding | PositionalEncoding | 0      | train | [128, 16]      | [128, 128, 16]\n",
      "2 | transformer_encoder | TransformerEncoder | 17.8 K | train | [128, 128, 16] | [128, 128, 16]\n",
      "3 | fc_out              | Linear             | 17     | train | [128, 16]      | [128, 1]      \n",
      "-----------------------------------------------------------------------------------------------------\n",
      "18.0 K    Trainable params\n",
      "0         Non-trainable params\n",
      "18.0 K    Total params\n",
      "0.072     Total estimated model params size (MB)\n",
      "85        Modules in train mode\n",
      "0         Modules in eval mode\n"
     ]
    },
    {
     "name": "stderr",
     "output_type": "stream",
     "text": [
      "`Trainer.fit` stopped: `max_epochs=64` reached.\n"
     ]
    },
    {
     "name": "stderr",
     "output_type": "stream",
     "text": [
      "GPU available: True (mps), used: True\n"
     ]
    },
    {
     "name": "stderr",
     "output_type": "stream",
     "text": [
      "TPU available: False, using: 0 TPU cores\n"
     ]
    },
    {
     "name": "stderr",
     "output_type": "stream",
     "text": [
      "HPU available: False, using: 0 HPUs\n"
     ]
    },
    {
     "name": "stderr",
     "output_type": "stream",
     "text": [
      "\n",
      "  | Name                | Type               | Params | Mode  | In sizes       | Out sizes     \n",
      "-----------------------------------------------------------------------------------------------------\n",
      "0 | input_proj          | Linear             | 11.3 K | train | [32, 10]       | [32, 1024]    \n",
      "1 | positional_encoding | PositionalEncoding | 0      | train | [32, 1024]     | [32, 32, 1024]\n",
      "2 | transformer_encoder | TransformerEncoder | 33.6 M | train | [32, 32, 1024] | [32, 32, 1024]\n",
      "3 | fc_out              | Linear             | 1.0 K  | train | [32, 1024]     | [32, 1]       \n",
      "-----------------------------------------------------------------------------------------------------\n",
      "33.6 M    Trainable params\n",
      "0         Non-trainable params\n",
      "33.6 M    Total params\n",
      "134.447   Total estimated model params size (MB)\n",
      "45        Modules in train mode\n",
      "0         Modules in eval mode\n"
     ]
    },
    {
     "name": "stdout",
     "output_type": "stream",
     "text": [
      "train_model result: {'val_loss': 23737.96484375, 'hp_metric': 23737.96484375}\n",
      "d_model: 1024, dim_feedforward: 2048\n",
      "Milestones: [32, 64, 96]\n"
     ]
    },
    {
     "name": "stderr",
     "output_type": "stream",
     "text": [
      "`Trainer.fit` stopped: `max_epochs=128` reached.\n"
     ]
    },
    {
     "name": "stderr",
     "output_type": "stream",
     "text": [
      "GPU available: True (mps), used: True\n"
     ]
    },
    {
     "name": "stderr",
     "output_type": "stream",
     "text": [
      "TPU available: False, using: 0 TPU cores\n"
     ]
    },
    {
     "name": "stderr",
     "output_type": "stream",
     "text": [
      "HPU available: False, using: 0 HPUs\n"
     ]
    },
    {
     "name": "stderr",
     "output_type": "stream",
     "text": [
      "\n",
      "  | Name                | Type               | Params | Mode  | In sizes        | Out sizes      \n",
      "-------------------------------------------------------------------------------------------------------\n",
      "0 | input_proj          | Linear             | 1.4 K  | train | [128, 10]       | [128, 128]     \n",
      "1 | positional_encoding | PositionalEncoding | 0      | train | [128, 128]      | [128, 128, 128]\n",
      "2 | transformer_encoder | TransformerEncoder | 1.1 M  | train | [128, 128, 128] | [128, 128, 128]\n",
      "3 | fc_out              | Linear             | 129    | train | [128, 128]      | [128, 1]       \n",
      "-------------------------------------------------------------------------------------------------------\n",
      "1.1 M     Trainable params\n",
      "0         Non-trainable params\n",
      "1.1 M     Total params\n",
      "4.246     Total estimated model params size (MB)\n",
      "85        Modules in train mode\n",
      "0         Modules in eval mode\n"
     ]
    },
    {
     "name": "stdout",
     "output_type": "stream",
     "text": [
      "train_model result: {'val_loss': 10616.427734375, 'hp_metric': 10616.427734375}\n",
      "d_model: 128, dim_feedforward: 256\n",
      "Milestones: [8, 16, 24]\n"
     ]
    },
    {
     "name": "stderr",
     "output_type": "stream",
     "text": [
      "`Trainer.fit` stopped: `max_epochs=32` reached.\n"
     ]
    },
    {
     "name": "stderr",
     "output_type": "stream",
     "text": [
      "GPU available: True (mps), used: True\n"
     ]
    },
    {
     "name": "stderr",
     "output_type": "stream",
     "text": [
      "TPU available: False, using: 0 TPU cores\n"
     ]
    },
    {
     "name": "stderr",
     "output_type": "stream",
     "text": [
      "HPU available: False, using: 0 HPUs\n"
     ]
    },
    {
     "name": "stderr",
     "output_type": "stream",
     "text": [
      "\n",
      "  | Name                | Type               | Params | Mode  | In sizes      | Out sizes    \n",
      "---------------------------------------------------------------------------------------------------\n",
      "0 | input_proj          | Linear             | 1.4 K  | train | [64, 10]      | [64, 128]    \n",
      "1 | positional_encoding | PositionalEncoding | 0      | train | [64, 128]     | [64, 64, 128]\n",
      "2 | transformer_encoder | TransformerEncoder | 2.1 M  | train | [64, 64, 128] | [64, 64, 128]\n",
      "3 | fc_out              | Linear             | 129    | train | [64, 128]     | [64, 1]      \n",
      "---------------------------------------------------------------------------------------------------\n",
      "2.1 M     Trainable params\n",
      "0         Non-trainable params\n",
      "2.1 M     Total params\n",
      "8.485     Total estimated model params size (MB)\n",
      "165       Modules in train mode\n",
      "0         Modules in eval mode\n"
     ]
    },
    {
     "name": "stdout",
     "output_type": "stream",
     "text": [
      "train_model result: {'val_loss': 22227.37109375, 'hp_metric': 22227.37109375}\n",
      "d_model: 128, dim_feedforward: 256\n",
      "Milestones: [8, 16, 24]\n"
     ]
    },
    {
     "name": "stderr",
     "output_type": "stream",
     "text": [
      "`Trainer.fit` stopped: `max_epochs=32` reached.\n"
     ]
    },
    {
     "name": "stderr",
     "output_type": "stream",
     "text": [
      "GPU available: True (mps), used: True\n"
     ]
    },
    {
     "name": "stderr",
     "output_type": "stream",
     "text": [
      "TPU available: False, using: 0 TPU cores\n"
     ]
    },
    {
     "name": "stderr",
     "output_type": "stream",
     "text": [
      "HPU available: False, using: 0 HPUs\n"
     ]
    },
    {
     "name": "stderr",
     "output_type": "stream",
     "text": [
      "\n",
      "  | Name                | Type               | Params | Mode  | In sizes      | Out sizes    \n",
      "---------------------------------------------------------------------------------------------------\n",
      "0 | input_proj          | Linear             | 88     | train | [256, 10]     | [256, 8]     \n",
      "1 | positional_encoding | PositionalEncoding | 0      | train | [256, 8]      | [256, 256, 8]\n",
      "2 | transformer_encoder | TransformerEncoder | 1.2 K  | train | [256, 256, 8] | [256, 256, 8]\n",
      "3 | fc_out              | Linear             | 9      | train | [256, 8]      | [256, 1]     \n",
      "---------------------------------------------------------------------------------------------------\n",
      "1.3 K     Trainable params\n",
      "0         Non-trainable params\n",
      "1.3 K     Total params\n",
      "0.005     Total estimated model params size (MB)\n",
      "25        Modules in train mode\n",
      "0         Modules in eval mode\n"
     ]
    },
    {
     "name": "stdout",
     "output_type": "stream",
     "text": [
      "train_model result: {'val_loss': 23569.638671875, 'hp_metric': 23569.638671875}\n",
      "d_model: 8, dim_feedforward: 16\n",
      "Milestones: [16, 32, 48]\n"
     ]
    },
    {
     "name": "stderr",
     "output_type": "stream",
     "text": [
      "`Trainer.fit` stopped: `max_epochs=64` reached.\n"
     ]
    },
    {
     "name": "stdout",
     "output_type": "stream",
     "text": [
      "train_model result: {'val_loss': 24153.24609375, 'hp_metric': 24153.24609375}\n"
     ]
    },
    {
     "name": "stderr",
     "output_type": "stream",
     "text": [
      "GPU available: True (mps), used: True\n"
     ]
    },
    {
     "name": "stderr",
     "output_type": "stream",
     "text": [
      "TPU available: False, using: 0 TPU cores\n"
     ]
    },
    {
     "name": "stderr",
     "output_type": "stream",
     "text": [
      "HPU available: False, using: 0 HPUs\n"
     ]
    },
    {
     "name": "stderr",
     "output_type": "stream",
     "text": [
      "\n",
      "  | Name                | Type               | Params | Mode  | In sizes       | Out sizes     \n",
      "-----------------------------------------------------------------------------------------------------\n",
      "0 | input_proj          | Linear             | 11.3 K | train | [32, 10]       | [32, 1024]    \n",
      "1 | positional_encoding | PositionalEncoding | 0      | train | [32, 1024]     | [32, 32, 1024]\n",
      "2 | transformer_encoder | TransformerEncoder | 33.6 M | train | [32, 32, 1024] | [32, 32, 1024]\n",
      "3 | fc_out              | Linear             | 1.0 K  | train | [32, 1024]     | [32, 1]       \n",
      "-----------------------------------------------------------------------------------------------------\n",
      "33.6 M    Trainable params\n",
      "0         Non-trainable params\n",
      "33.6 M    Total params\n",
      "134.447   Total estimated model params size (MB)\n",
      "45        Modules in train mode\n",
      "0         Modules in eval mode\n"
     ]
    },
    {
     "name": "stdout",
     "output_type": "stream",
     "text": [
      "d_model: 1024, dim_feedforward: 2048\n",
      "Milestones: [32, 64, 96]\n"
     ]
    },
    {
     "name": "stderr",
     "output_type": "stream",
     "text": [
      "`Trainer.fit` stopped: `max_epochs=128` reached.\n"
     ]
    },
    {
     "name": "stdout",
     "output_type": "stream",
     "text": [
      "train_model result: {'val_loss': 10587.1982421875, 'hp_metric': 10587.1982421875}\n"
     ]
    },
    {
     "name": "stdout",
     "output_type": "stream",
     "text": [
      "spotpython tuning: 10587.1982421875 [#######---] 72.75% \r\n"
     ]
    },
    {
     "name": "stdout",
     "output_type": "stream",
     "text": [
      "d_model: 1024, dim_feedforward: 2048\n"
     ]
    },
    {
     "name": "stderr",
     "output_type": "stream",
     "text": [
      "GPU available: True (mps), used: True\n"
     ]
    },
    {
     "name": "stderr",
     "output_type": "stream",
     "text": [
      "TPU available: False, using: 0 TPU cores\n"
     ]
    },
    {
     "name": "stderr",
     "output_type": "stream",
     "text": [
      "HPU available: False, using: 0 HPUs\n"
     ]
    },
    {
     "name": "stderr",
     "output_type": "stream",
     "text": [
      "\n",
      "  | Name                | Type               | Params | Mode  | In sizes       | Out sizes     \n",
      "-----------------------------------------------------------------------------------------------------\n",
      "0 | input_proj          | Linear             | 11.3 K | train | [32, 10]       | [32, 1024]    \n",
      "1 | positional_encoding | PositionalEncoding | 0      | train | [32, 1024]     | [32, 32, 1024]\n",
      "2 | transformer_encoder | TransformerEncoder | 33.6 M | train | [32, 32, 1024] | [32, 32, 1024]\n",
      "3 | fc_out              | Linear             | 1.0 K  | train | [32, 1024]     | [32, 1]       \n",
      "-----------------------------------------------------------------------------------------------------\n",
      "33.6 M    Trainable params\n",
      "0         Non-trainable params\n",
      "33.6 M    Total params\n",
      "134.447   Total estimated model params size (MB)\n",
      "45        Modules in train mode\n",
      "0         Modules in eval mode\n"
     ]
    },
    {
     "name": "stdout",
     "output_type": "stream",
     "text": [
      "Milestones: [32, 64, 96]\n"
     ]
    },
    {
     "name": "stderr",
     "output_type": "stream",
     "text": [
      "`Trainer.fit` stopped: `max_epochs=128` reached.\n"
     ]
    },
    {
     "name": "stdout",
     "output_type": "stream",
     "text": [
      "train_model result: {'val_loss': 10458.6181640625, 'hp_metric': 10458.6181640625}\n"
     ]
    },
    {
     "name": "stdout",
     "output_type": "stream",
     "text": [
      "spotpython tuning: 10458.6181640625 [##########] 100.00% Done...\r\n",
      "\r\n"
     ]
    }
   ],
   "source": [
    "#| label: 603_run\n",
    "res = spot_tuner.run()"
   ]
  },
  {
   "cell_type": "markdown",
   "id": "c702811c",
   "metadata": {},
   "source": [
    "Note that we have enabled Tensorboard-Logging, so we can visualize the results with Tensorboard. Execute the\n",
    "following command in the terminal to start Tensorboard.\n"
   ]
  },
  {
   "cell_type": "code",
   "execution_count": 6,
   "id": "tensorboard",
   "metadata": {},
   "outputs": [],
   "source": [
    "#| label: 603_tensorboard\n",
    "#| eval: false\n",
    "tensorboard --logdir=\"runs/\""
   ]
  },
  {
   "cell_type": "markdown",
   "id": "ce7dcedd",
   "metadata": {},
   "source": [
    "## Looking at the Results\n",
    "\n",
    "### Tuning Progress\n",
    "\n",
    "After the hyperparameter tuning run is finished, the progress of the hyperparameter tuning can be visualized with `spotpython`'s method `plot_progress`. The black points represent the performace values (score or metric) of  hyperparameter configurations from the initial design, whereas the red points represents the  hyperparameter configurations found by the surrogate model based optimization.\n"
   ]
  },
  {
   "cell_type": "code",
   "execution_count": 7,
   "id": "plot_progress",
   "metadata": {},
   "outputs": [
    {
     "data": {
      "application/pdf": "[encoded data removed]",
      "text/plain": [
       "<Figure size 2700x1800 with 1 Axes>"
      ]
     },
     "metadata": {},
     "output_type": "display_data"
    }
   ],
   "source": [
    "#| label: 603_plot_progress\n",
    "spot_tuner.plot_progress(log_y=True, filename=None)"
   ]
  },
  {
   "cell_type": "markdown",
   "id": "4df5a8ba",
   "metadata": {},
   "source": [
    "### Tuned Hyperparameters and Their Importance\n",
    "\n",
    "Results can be printed in tabular form.\n"
   ]
  },
  {
   "cell_type": "code",
   "execution_count": 8,
   "id": "gen_design_table_results",
   "metadata": {},
   "outputs": [
    {
     "name": "stdout",
     "output_type": "stream",
     "text": [
      "| name                 | type   | default        |   lower |   upper | tuned                | transform             |   importance | stars   |\n",
      "|----------------------|--------|----------------|---------|---------|----------------------|-----------------------|--------------|---------|\n",
      "| d_model_mult         | int    | 4              |     1.0 |     9.0 | 8.0                  | transform_power_2_int |         0.00 |         |\n",
      "| nhead                | int    | 3              |     1.0 |     2.0 | 2.0                  | transform_power_2_int |         0.07 |         |\n",
      "| num_encoder_layers   | int    | 1              |     1.0 |     4.0 | 2.0                  | transform_power_2_int |         0.00 |         |\n",
      "| dim_feedforward_mult | int    | 1              |     1.0 |     1.0 | 1.0                  | transform_power_2_int |         0.00 |         |\n",
      "| epochs               | int    | 7              |     5.0 |     7.0 | 7.0                  | transform_power_2_int |       100.00 | ***     |\n",
      "| batch_size           | int    | 5              |     5.0 |     8.0 | 5.0                  | transform_power_2_int |         0.00 |         |\n",
      "| optimizer            | factor | Adam           |     0.0 |     4.0 | Adagrad              | None                  |         0.00 |         |\n",
      "| dropout              | float  | 0.1            |    0.01 |     0.1 | 0.029313497926507982 | None                  |         0.00 |         |\n",
      "| lr_mult              | float  | 0.1            |    0.01 |     0.3 | 0.17049415493701156  | None                  |         0.00 |         |\n",
      "| patience             | int    | 5              |     4.0 |     7.0 | 4.0                  | transform_power_2_int |         0.00 |         |\n",
      "| initialization       | factor | xavier_uniform |     0.0 |     3.0 | xavier_normal        | None                  |         0.00 |         |\n"
     ]
    }
   ],
   "source": [
    "#| label: 603_gen_design_table_results\n",
    "from spotpython.utils.eda import gen_design_table\n",
    "print(gen_design_table(fun_control=fun_control, spot=spot_tuner))"
   ]
  },
  {
   "cell_type": "markdown",
   "id": "8e0f54ec",
   "metadata": {},
   "source": [
    "A histogram can be used to visualize the most important hyperparameters.\n"
   ]
  },
  {
   "cell_type": "code",
   "execution_count": 9,
   "id": "plot_importance",
   "metadata": {},
   "outputs": [
    {
     "data": {
      "application/pdf": "[encoded data removed]",
      "text/plain": [
       "<Figure size 1650x1050 with 1 Axes>"
      ]
     },
     "metadata": {},
     "output_type": "display_data"
    }
   ],
   "source": [
    "#| label: 603_plot_importance\n",
    "spot_tuner.plot_importance(threshold=1.0)"
   ]
  },
  {
   "cell_type": "markdown",
   "id": "9fd2107f",
   "metadata": {},
   "source": [
    "## Hyperparameter Considerations\n",
    "\n",
    "1. `d_model` (or `d_embedding`):\n",
    "\n",
    "   - This is the dimension of the embedding space or the number of expected features in the input.\n",
    "   - All input features are projected into this dimensional space before entering the transformer encoder.\n",
    "   - This dimension must be divisible by `nhead` since each head in the multi-head attention mechanism will process a subset of `d_model/nhead` features.\n",
    "\n",
    "2. `nhead`:\n",
    "\n",
    "   - This is the number of attention heads in the multi-head attention mechanism.\n",
    "   - It allows the transformer to jointly attend to information from different representation subspaces.\n",
    "   - It's important that `d_model % nhead == 0` to ensure the dimensions are evenly split among the heads.\n",
    "\n",
    "3. `num_encoder_layers`:\n",
    "\n",
    "   - This specifies the number of transformer encoder layers stacked together.\n",
    "   - Each layer contains a multi-head attention mechanism followed by position-wise feedforward layers.\n",
    "\n",
    "4. `dim_feedforward`:\n",
    "\n",
    "   - This is the dimension of the feedforward network model within the transformer encoder layer.\n",
    "   - Typically, this dimension is larger than `d_model` (e.g., 2048 for a Transformer model with `d_model=512`).\n",
    "\n",
    "### Important: Constraints and Interconnections:\n",
    "\n",
    "- `d_model` and `nhead`:\n",
    "  - As mentioned, `d_model` must be divisible by `nhead`. This is critical because each attention head operates simultaneously on a part of the embedding, so `d_model/nhead` should be an integer.\n",
    "\n",
    "- `num_encoder_layers` and `dim_feedforward`**: \n",
    "  - These parameters are more flexible and can be chosen independently of `d_model` and `nhead`.\n",
    "  - However, the choice of `dim_feedforward` does influence the computational cost and model capacity, as larger dimensions allow learning more complex representations. \n",
    "\n",
    "- One hyperparameter does not strictly need to be a multiple of others except for ensuring `d_model % nhead == 0`.\n",
    "\n",
    "### Practical Considerations:\n",
    "\n",
    "1. Setting `d_model`:\n",
    "\n",
    "   - Common choices for `d_model` are powers of 2 (e.g., 256, 512, 1024).\n",
    "   - Ensure that it matches the size of the input data after the linear projection layer.\n",
    "\n",
    "2. Setting `nhead`:\n",
    "\n",
    "   - Typically, values are 1, 2, 4, 8, etc., depending on the `d_model` value.\n",
    "   - Each head works on a subset of features, so `d_model / nhead` should be large enough to be meaningful.\n",
    "\n",
    "3. Setting `num_encoder_layers`:\n",
    "\n",
    "   - Practical values range from 1 to 12 or more depending on the depth desired.\n",
    "   - Deeper models can capture more complex patterns but are also more computationally intensive.\n",
    "\n",
    "4. Setting `dim_feedforward`:\n",
    "\n",
    "   - Often set to a multiple of `d_model`, such as 2048 when `d_model` is 512.\n",
    "   - Ensures sufficient capacity in the intermediate layers for complex feature transformations.\n",
    "\n",
    "\n",
    "::: {.callout-note}\n",
    "### Note: `d_model` Calculation \n",
    "\n",
    "Since `d_model % nhead == 0` is a critical constraint to ensure that the multi-head attention mechanism can operate effectively, `spotpython` computes the value of `d_model` based on the `nhead` value provided by the user. This ensures that the hyperparameter configuration is valid. So, the final value of `d_model` is a multiple of `nhead`.\n",
    "`spotpython` uses the hyperparameter `d_model_mult` to determine the multiple of `nhead` to use for `d_model`, i.e., `d_model = nhead * d_model_mult`.\n",
    ":::\n",
    "\n",
    "::: {.callout-note}\n",
    "### Note: `dim_feedforward` Calculation\n",
    "\n",
    "Since this dimension is typically larger than `d_model` (e.g., 2048 for a Transformer model with `d_model=512`),\n",
    "`spotpython` uses the hyperparameter `dim_feedforward_mult` to determine the multiple of `d_model` to use for `dim_feedforward`, i.e., `dim_feedforward = d_model * dim_feedforward_mult`.\n",
    "\n",
    "::: \n",
    "\n",
    "## Summary\n",
    "\n",
    "This section presented an introduction to the basic setup of hyperparameter tuning of a transformer with `spotpython` and `PyTorch` Lightning."
   ]
  }
 ],
 "metadata": {
  "kernelspec": {
   "display_name": "Python 3 (ipykernel)",
   "language": "python",
   "name": "python3",
   "path": "/Users/bartz/miniforge3/envs/spot312/share/jupyter/kernels/python3"
  },
  "language_info": {
   "codemirror_mode": {
    "name": "ipython",
    "version": 3
   },
   "file_extension": ".py",
   "mimetype": "text/x-python",
   "name": "python",
   "nbconvert_exporter": "python",
   "pygments_lexer": "ipython3",
   "version": "3.12.5"
  }
 },
 "nbformat": 4,
 "nbformat_minor": 5
}
