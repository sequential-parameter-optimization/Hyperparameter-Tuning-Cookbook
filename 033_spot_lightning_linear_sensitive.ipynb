{
 "cells": [
  {
   "cell_type": "raw",
   "id": "50b3cf1c",
   "metadata": {},
   "source": [
    "---\n",
    "execute:\n",
    "  cache: false\n",
    "  eval: true\n",
    "  echo: true\n",
    "  warning: false\n",
    "title: 'HPT PyTorch Lightning: User Specified Data Set and Regression Model'\n",
    "---"
   ]
  },
  {
   "cell_type": "markdown",
   "id": "392fe65c",
   "metadata": {},
   "source": [
    "In this tutorial, we will show how `spotPython` can be integrated into the `PyTorch` Lightning\n",
    "training workflow for a regression task with a user specified data set and a user specified regression model.\n",
    "\n",
    "This chapter describes the hyperparameter tuning of a `PyTorch Lightning` network on a user data set, which can be found in the subfolder of this notebook, `userData`.\n",
    "The network can be found in the subfolder `userModel`.\n",
    "\n",
    "## Step 1: Setup {#sec-setup-33}\n",
    "\n",
    "* Before we consider the detailed experimental setup, we select the parameters that affect run time, initial design size, etc. \n",
    "* The parameter `MAX_TIME` specifies the maximum run time in seconds.\n",
    "* The parameter `INIT_SIZE` specifies the initial design size.\n",
    "* The parameter `WORKERS` specifies the number of workers. \n",
    "* The prefix `PREFIX` is used for the experiment name and the name of the log file.\n",
    "* The parameter `DEVICE` specifies the device to use for training.\n"
   ]
  },
  {
   "cell_type": "code",
   "execution_count": 1,
   "id": "b8b3501c",
   "metadata": {
    "vscode": {
     "languageId": "python"
    }
   },
   "outputs": [],
   "source": [
    "from spotPython.utils.device import getDevice\n",
    "from math import inf\n",
    "\n",
    "MAX_TIME = 10\n",
    "FUN_EVALS = inf\n",
    "FUN_REPEATS = 2\n",
    "OCBA_DELTA = 1\n",
    "REPEATS = 2\n",
    "INIT_SIZE = 10\n",
    "WORKERS = 0\n",
    "PREFIX=\"032\"\n",
    "DEVICE = getDevice()\n",
    "DEVICES = 1\n",
    "TEST_SIZE = 0.3"
   ]
  },
  {
   "cell_type": "markdown",
   "id": "04584046",
   "metadata": {},
   "source": [
    "::: {.callout-caution}\n",
    "### Caution: Run time and initial design size should be increased for real experiments\n",
    "\n",
    "* `MAX_TIME` is set to one minute for demonstration purposes. For real experiments, this should be increased to at least 1 hour.\n",
    "* `INIT_SIZE` is set to 5 for demonstration purposes. For real experiments, this should be increased to at least 10.\n",
    "* `WORKERS` is set to 0 for demonstration purposes. For real experiments, this should be increased. See the warnings that are printed when the number of workers is set to 0.\n",
    "\n",
    ":::\n",
    "\n",
    "::: {.callout-note}\n",
    "### Note: Device selection\n",
    "\n",
    "* Although there are no .cuda() or .to(device) calls required, because Lightning does these for you, see \n",
    "[LIGHTNINGMODULE](https://lightning.ai/docs/pytorch/stable/common/lightning_module.html), we would like to know which device is used. Threrefore, we imitate the LightningModule behaviour which selects the highest device. \n",
    "* The method `spotPython.utils.device.getDevice()` returns the device that is used by Lightning.\n",
    ":::\n",
    "\n",
    "\n",
    "## Step 2: Initialization of the `fun_control` Dictionary\n",
    "\n",
    "`spotPython` uses a Python dictionary for storing the information required for the hyperparameter tuning process.\n"
   ]
  },
  {
   "cell_type": "code",
   "execution_count": 2,
   "id": "230ae54c",
   "metadata": {
    "vscode": {
     "languageId": "python"
    }
   },
   "outputs": [
    {
     "name": "stderr",
     "output_type": "stream",
     "text": [
      "Seed set to 123\n"
     ]
    },
    {
     "name": "stdout",
     "output_type": "stream",
     "text": [
      "Moving TENSORBOARD_PATH: runs/ to TENSORBOARD_PATH_OLD: runs_OLD/runs_2024_02_20_03_20_57\n",
      "Created spot_tensorboard_path: runs/spot_logs/032_bartz09_2024-02-20_03-20-57 for SummaryWriter()\n"
     ]
    }
   ],
   "source": [
    "from spotPython.utils.init import fun_control_init\n",
    "import numpy as np\n",
    "fun_control = fun_control_init(\n",
    "    _L_in=6,\n",
    "    _L_out=1,\n",
    "    PREFIX=PREFIX,\n",
    "    TENSORBOARD_CLEAN=True,\n",
    "    device=DEVICE,\n",
    "    enable_progress_bar=False,\n",
    "    fun_evals=FUN_EVALS,\n",
    "    fun_repeats=FUN_REPEATS,\n",
    "    log_level=10,\n",
    "    max_time=MAX_TIME,\n",
    "    num_workers=WORKERS,\n",
    "    ocba_delta = OCBA_DELTA,\n",
    "    show_progress=True,\n",
    "    test_size=TEST_SIZE,\n",
    "    tolerance_x=np.sqrt(np.spacing(1)),\n",
    "    verbosity=1,\n",
    "    )"
   ]
  },
  {
   "cell_type": "markdown",
   "id": "3b84ef8e",
   "metadata": {},
   "source": [
    "## Step 3: Loading the User Specified Data Set\n"
   ]
  },
  {
   "cell_type": "code",
   "execution_count": 3,
   "id": "cbb821e8",
   "metadata": {
    "vscode": {
     "languageId": "python"
    }
   },
   "outputs": [],
   "source": [
    "# from spotPython.hyperparameters.values import set_control_key_value\n",
    "# from spotPython.data.pkldataset import PKLDataset\n",
    "# import torch\n",
    "# dataset = PKLDataset(directory=\"./userData/\",\n",
    "#                      filename=\"data_sensitive.pkl\",\n",
    "#                      target_column='N',\n",
    "#                      feature_type=torch.float32,\n",
    "#                      target_type=torch.float32,\n",
    "#                      rmNA=True)\n",
    "# set_control_key_value(control_dict=fun_control,\n",
    "#                         key=\"data_set\",\n",
    "#                         value=dataset,\n",
    "#                         replace=True)\n",
    "# print(len(dataset))"
   ]
  },
  {
   "cell_type": "markdown",
   "id": "3b19d51f",
   "metadata": {},
   "source": [
    "::: {.callout-note}\n",
    "### Note: Data Set and Data Loader\n",
    "\n",
    "* As shown below, a DataLoader from `torch.utils.data` can be used to check the data.\n"
   ]
  },
  {
   "cell_type": "code",
   "execution_count": 4,
   "id": "d0c5f53a",
   "metadata": {
    "vscode": {
     "languageId": "python"
    }
   },
   "outputs": [
    {
     "name": "stdout",
     "output_type": "stream",
     "text": [
      "pyhcf is installed\n"
     ]
    },
    {
     "name": "stdout",
     "output_type": "stream",
     "text": [
      "Loading data for ['H', 'D', 'L', 'K', 'E', 'I', 'N']...\n"
     ]
    }
   ],
   "source": [
    "# if the package pyhcf is installed then print \"pyhcf is installed\" else print \"pyhcf is not installed\"\n",
    "try:\n",
    "    import pyhcf\n",
    "    print(\"pyhcf is installed\")\n",
    "    from pyhcf.data.loadHcfData import load_hcf_data\n",
    "    dataset = load_hcf_data(A=True, H=True,\n",
    "                        param_list=['H', 'D', 'L', 'K', 'E', 'I', 'N'],\n",
    "                        target='N', rmNA=True, rmMF=True, scale_data=True, return_X_y=False)\n",
    "except ImportError:\n",
    "    print(\"pyhcf is not installed\")\n",
    "    from spotPython.data.pkldataset import PKLDataset\n",
    "    import torch\n",
    "    dataset = PKLDataset(directory=\"./userData/\",\n",
    "                        filename=\"data_sensitive.pkl\",\n",
    "                        target_column='N',\n",
    "                        feature_type=torch.float32,\n",
    "                        target_type=torch.float32,\n",
    "                        rmNA=True)"
   ]
  },
  {
   "cell_type": "code",
   "execution_count": 5,
   "id": "6c056988",
   "metadata": {
    "vscode": {
     "languageId": "python"
    }
   },
   "outputs": [
    {
     "name": "stdout",
     "output_type": "stream",
     "text": [
      "41837\n"
     ]
    }
   ],
   "source": [
    "from spotPython.hyperparameters.values import set_control_key_value\n",
    "set_control_key_value(control_dict=fun_control,\n",
    "                        key=\"data_set\",\n",
    "                        value=dataset,\n",
    "                        replace=True)\n",
    "print(len(dataset))"
   ]
  },
  {
   "cell_type": "code",
   "execution_count": 6,
   "id": "e333be6c",
   "metadata": {
    "vscode": {
     "languageId": "python"
    }
   },
   "outputs": [
    {
     "name": "stdout",
     "output_type": "stream",
     "text": [
      "Batch Size: 5\n",
      "Inputs Shape: torch.Size([5, 6])\n",
      "Targets Shape: torch.Size([5])\n",
      "---------------\n",
      "Inputs: tensor([[0.0033, 0.4000, 0.0000, 0.7500, 1.0000, 0.1667],\n",
      "        [0.0246, 0.4000, 0.0435, 0.7500, 1.0000, 0.1667],\n",
      "        [0.0275, 0.4000, 0.0435, 0.7500, 1.0000, 0.1667],\n",
      "        [0.0285, 0.4000, 0.0435, 0.7500, 1.0000, 0.1667],\n",
      "        [0.0285, 0.4000, 0.0435, 0.7500, 1.0000, 0.1667]])\n",
      "Targets: tensor([4.5764, 4.9073, 6.2846, 5.5094, 5.6079])\n"
     ]
    }
   ],
   "source": [
    "# Set batch size for DataLoader\n",
    "batch_size = 5\n",
    "# Create DataLoader\n",
    "from torch.utils.data import DataLoader\n",
    "dataloader = DataLoader(dataset, batch_size=batch_size, shuffle=False)\n",
    " \n",
    "# Iterate over the data in the DataLoader\n",
    "for batch in dataloader:\n",
    "    inputs, targets = batch\n",
    "    print(f\"Batch Size: {inputs.size(0)}\")\n",
    "    print(f\"Inputs Shape: {inputs.shape}\")\n",
    "    print(f\"Targets Shape: {targets.shape}\")\n",
    "    print(\"---------------\")\n",
    "    print(f\"Inputs: {inputs}\")\n",
    "    print(f\"Targets: {targets}\")\n",
    "    break"
   ]
  },
  {
   "cell_type": "markdown",
   "id": "33d254b2",
   "metadata": {},
   "source": [
    ":::\n",
    "## Step 4: Preprocessing {#sec-preprocessing-33}\n",
    "\n",
    "Preprocessing is handled by `Lightning` and `PyTorch`. It is described in the [LIGHTNINGDATAMODULE](https://lightning.ai/docs/pytorch/stable/data/datamodule.html) documentation. Here you can find information about the `transforms` methods.\n",
    "\n",
    "## Step 5: Select the Core Model (`algorithm`) and `core_model_hyper_dict` {#sec-selection-of-the-algorithm-33}\n",
    "\n",
    "`spotPython` includes the `NetLightRegression` class [[SOURCE]](https://github.com/sequential-parameter-optimization/spotPython/blob/main/src/spotPython/light/netlightregression.py) for configurable neural networks. \n",
    "The class is imported here. It inherits from the class `Lightning.LightningModule`, which is the base class for all models in `Lightning`. `Lightning.LightningModule` is a subclass of `torch.nn.Module` and provides additional functionality for the training and testing of neural networks. The class `Lightning.LightningModule` is described in the [Lightning documentation](https://lightning.ai/docs/pytorch/stable/common/lightning_module.html).\n",
    "\n",
    "* Here we simply add the NN Model to the fun_control dictionary by calling the function `add_core_model_to_fun_control`:\n",
    "\n",
    "We can use aconfiguration from the `spotPython` package:\n"
   ]
  },
  {
   "cell_type": "code",
   "execution_count": 7,
   "id": "9b29d602",
   "metadata": {
    "vscode": {
     "languageId": "python"
    }
   },
   "outputs": [],
   "source": [
    "#| eval: false\n",
    "from spotPython.light.regression.netlightregression import NetLightRegression\n",
    "from spotPython.hyperdict.light_hyper_dict import LightHyperDict\n",
    "from spotPython.hyperparameters.values import add_core_model_to_fun_control\n",
    "add_core_model_to_fun_control(fun_control=fun_control,\n",
    "                              core_model=NetLightRegression,\n",
    "                              hyper_dict=LightHyperDict)"
   ]
  },
  {
   "cell_type": "markdown",
   "id": "063dc268",
   "metadata": {},
   "source": [
    "* Alternatively, we can use a userr configuration from the subdirectory `userModel`:\n"
   ]
  },
  {
   "cell_type": "code",
   "execution_count": 8,
   "id": "666f4d8a",
   "metadata": {
    "vscode": {
     "languageId": "python"
    }
   },
   "outputs": [],
   "source": [
    "#| eval: true\n",
    "from spotPython.hyperparameters.values import add_core_model_to_fun_control\n",
    "import sys\n",
    "sys.path.insert(0, './userModel')\n",
    "import netlightregression\n",
    "import light_hyper_dict\n",
    "add_core_model_to_fun_control(fun_control=fun_control,\n",
    "                              core_model=netlightregression.NetLightRegression,\n",
    "                              hyper_dict=light_hyper_dict.LightHyperDict)"
   ]
  },
  {
   "cell_type": "markdown",
   "id": "aed21f7b",
   "metadata": {},
   "source": [
    "The hyperparameters of the model are specified in the `core_model_hyper_dict` dictionary [[SOURCE]](https://github.com/sequential-parameter-optimization/spotPython/blob/main/src/spotPython/hyperdict/light_hyper_dict.json).\n",
    "\n",
    "\n",
    "\n",
    "## Step 6: Modify `hyper_dict` Hyperparameters for the Selected Algorithm aka `core_model` {#sec-modification-of-hyperparameters-33}\n",
    "\n",
    " `spotPython` provides functions for modifying the hyperparameters, their bounds and factors as well as for activating and de-activating hyperparameters without re-compilation of the Python source code. \n",
    "\n",
    "::: {.callout-caution}\n",
    "### Caution: Small number of epochs for demonstration purposes\n",
    "\n",
    "* `epochs` and `patience` are set to small values for demonstration purposes. These values are too small for a real application.\n",
    "* More resonable values are, e.g.:\n",
    "  * `set_control_hyperparameter_value(fun_control, \"epochs\", [7, 9])` and\n",
    "  * `set_control_hyperparameter_value(fun_control, \"patience\", [2, 7])`\n",
    "\n",
    ":::\n",
    "\n",
    "::: {.callout-note}\n",
    "#### Note: Pre-experimental Results\n",
    "\n",
    "* The following hyperparameters {@tbl-pre-experimental-results-33} have generated acceptable results (obtained in in pre-experimental runs):\n",
    "\n",
    "| Hyperparameter | Value |\n",
    "|----------------|-------|\n",
    "| `act_fn` | `LeakyReLU` |\n",
    "| `batch_size` | `16` |\n",
    "| `dropout_prob` | `0.01` |\n",
    "| `epochs` | `512` |\n",
    "| `initialization` | `Default` |\n",
    "| `l1` | `128` |\n",
    "| `lr_mult` | `0.5` |\n",
    "| `optimizer` | `Adagrad` |\n",
    "| `patience` | `16` |\n",
    "\n",
    ": Table 1: Pre-experimental results for the user specified data set. The test set size is 715, the train set size is 1167, and the batch size is 16. {#tbl-pre-experimental-results-33}\n",
    "\n",
    "Therefore, we will use these values as the starting poing for the hyperparameter tuning.\n",
    "\n",
    ":::\n"
   ]
  },
  {
   "cell_type": "code",
   "execution_count": 9,
   "id": "85f9674f",
   "metadata": {
    "vscode": {
     "languageId": "python"
    }
   },
   "outputs": [],
   "source": [
    "from spotPython.hyperparameters.values import set_control_hyperparameter_value\n",
    "\n",
    "set_control_hyperparameter_value(fun_control, \"l1\", [5, 9])\n",
    "set_control_hyperparameter_value(fun_control, \"epochs\", [5, 10])\n",
    "set_control_hyperparameter_value(fun_control, \"batch_size\", [3, 6])\n",
    "set_control_hyperparameter_value(fun_control, \"optimizer\", [\n",
    "                \"Adadelta\",\n",
    "                \"Adamax\",\n",
    "                \"Adagrad\"\n",
    "            ])\n",
    "set_control_hyperparameter_value(fun_control, \"dropout_prob\", [0.005, 0.25])\n",
    "set_control_hyperparameter_value(fun_control, \"lr_mult\", [0.25, 5.0])\n",
    "set_control_hyperparameter_value(fun_control, \"patience\", [3,5])\n",
    "set_control_hyperparameter_value(fun_control, \"act_fn\",[\n",
    "                \"ReLU\",\n",
    "                \"LeakyReLU\",\n",
    "            ] )\n",
    "set_control_hyperparameter_value(fun_control, \"initialization\",[\"Default\"] )"
   ]
  },
  {
   "cell_type": "markdown",
   "id": "85086b1d",
   "metadata": {},
   "source": [
    "Now, the dictionary `fun_control` contains all information needed for the hyperparameter tuning. Before the hyperparameter tuning is started, it is recommended to take a look at the experimental design. The method `gen_design_table` [[SOURCE]](https://github.com/sequential-parameter-optimization/spotPython/blob/main/src/spotPython/utils/eda.py) generates a design table as follows:\n"
   ]
  },
  {
   "cell_type": "code",
   "execution_count": 10,
   "id": "7f9672f6",
   "metadata": {
    "fig-label": "tbl-design-33",
    "vscode": {
     "languageId": "python"
    }
   },
   "outputs": [
    {
     "name": "stdout",
     "output_type": "stream",
     "text": [
      "| name           | type   | default   |   lower |   upper | transform             |\n",
      "|----------------|--------|-----------|---------|---------|-----------------------|\n",
      "| l1             | int    | 3         |   5     |    9    | transform_power_2_int |\n",
      "| epochs         | int    | 4         |   5     |   10    | transform_power_2_int |\n",
      "| batch_size     | int    | 4         |   3     |    6    | transform_power_2_int |\n",
      "| act_fn         | factor | ReLU      |   0     |    1    | None                  |\n",
      "| optimizer      | factor | SGD       |   0     |    2    | None                  |\n",
      "| dropout_prob   | float  | 0.01      |   0.005 |    0.25 | None                  |\n",
      "| lr_mult        | float  | 1.0       |   0.25  |    5    | None                  |\n",
      "| patience       | int    | 2         |   3     |    5    | transform_power_2_int |\n",
      "| initialization | factor | Default   |   0     |    0    | None                  |\n"
     ]
    }
   ],
   "source": [
    "#| fig-cap: Experimental design for the hyperparameter tuning.\n",
    "from spotPython.utils.eda import gen_design_table\n",
    "print(gen_design_table(fun_control))"
   ]
  },
  {
   "cell_type": "markdown",
   "id": "f650544c",
   "metadata": {},
   "source": [
    "This allows to check if all information is available and if the information is correct.\n",
    "\n",
    "::: {.callout-note}\n",
    "### Note: Hyperparameters of the Tuned Model and the `fun_control` Dictionary\n",
    "The updated `fun_control` dictionary can be shown with the command `fun_control[\"core_model_hyper_dict\"]`.\n",
    ":::\n",
    "\n",
    "\n",
    "## Step 7: Data Splitting, the Objective (Loss) Function and the Metric\n",
    "\n",
    "### Evaluation  {#sec-selection-of-target-function-33}\n",
    "\n",
    "The evaluation procedure requires the specification of two elements:\n",
    "\n",
    "1. the way how the data is split into a train and a test set\n",
    "2. the loss function (and a metric).\n",
    "\n",
    "::: {.callout-caution}\n",
    "### Caution: Data Splitting in Lightning\n",
    "\n",
    "The data splitting is handled by `Lightning`.\n",
    "\n",
    ":::\n",
    "\n",
    "### Loss Function {#sec-loss-function-33}\n",
    "\n",
    "The loss function is specified in the configurable network class [[SOURCE]](https://github.com/sequential-parameter-optimization/spotPython/blob/main/src/spotPython/light/regression/netlightregression.py)\n",
    "We will use MSE.\n",
    "\n",
    "### Metric {#sec-metric-33}\n",
    "\n",
    "* Similar to the loss function, the metric is specified in the configurable network class [[SOURCE]](https://github.com/sequential-parameter-optimization/spotPython/blob/main/src/spotPython/light/regression/netlightregression.py).\n",
    "\n",
    "::: {.callout-caution}\n",
    "### Caution: Loss Function and Metric in Lightning\n",
    "\n",
    "* The loss function and the metric are not hyperparameters that can be tuned with `spotPython`.\n",
    "* They are handled by `Lightning`.\n",
    "\n",
    ":::\n",
    "\n",
    "\n",
    "## Step 8: Calling the SPOT Function\n",
    "\n",
    "### Preparing the SPOT Call {#sec-prepare-spot-call-33}\n"
   ]
  },
  {
   "cell_type": "code",
   "execution_count": 11,
   "id": "6d146981",
   "metadata": {
    "vscode": {
     "languageId": "python"
    }
   },
   "outputs": [],
   "source": [
    "from spotPython.utils.init import design_control_init, surrogate_control_init\n",
    "design_control = design_control_init(init_size=INIT_SIZE,\n",
    "                                     repeats=REPEATS,)\n",
    "\n",
    "surrogate_control = surrogate_control_init(noise=True,\n",
    "                                            n_theta=2,\n",
    "                                            min_Lambda=1e-6,\n",
    "                                            max_Lambda=10,\n",
    "                                            log_level=10,)"
   ]
  },
  {
   "cell_type": "markdown",
   "id": "fa075f24",
   "metadata": {},
   "source": [
    "::: {.callout-note}\n",
    "### Note: Modifying Values in the Control Dictionaries \n",
    "\n",
    "* The values in the control dictionaries can be modified with the function `set_control_key_value` [[SOURCE]](https://github.com/sequential-parameter-optimization/spotPython/blob/main/src/spotPython/hyperparameters/values.py), for example:\n",
    "\n",
    "\n",
    "\n",
    "\n",
    "\n",
    "```{raw}\n",
    "set_control_key_value(control_dict=surrogate_control,\n",
    "                        key=\"noise\",\n",
    "                        value=True,\n",
    "                        replace=True)                       \n",
    "set_control_key_value(control_dict=surrogate_control,\n",
    "                        key=\"n_theta\",\n",
    "                        value=2,\n",
    "                        replace=True)      \n",
    "\n",
    "```\n",
    "\n",
    "\n",
    "\n",
    "\n",
    ":::\n",
    "\n",
    "### The Objective Function `fun` {#sec-the-objective-function-33}\n",
    "\n",
    "The objective function `fun` from the class `HyperLight` [[SOURCE]](https://github.com/sequential-parameter-optimization/spotPython/blob/main/src/spotPython/fun/hyperlight.py) is selected next. It implements an interface from `PyTorch`'s training, validation, and testing methods to `spotPython`.\n"
   ]
  },
  {
   "cell_type": "code",
   "execution_count": 12,
   "id": "67290a5b",
   "metadata": {
    "vscode": {
     "languageId": "python"
    }
   },
   "outputs": [],
   "source": [
    "from spotPython.fun.hyperlight import HyperLight\n",
    "fun = HyperLight(log_level=10).fun"
   ]
  },
  {
   "cell_type": "markdown",
   "id": "34e42fef",
   "metadata": {},
   "source": [
    "### Showing the fun_control Dictionary {#sec-show-fun-control-33}\n"
   ]
  },
  {
   "cell_type": "code",
   "execution_count": 13,
   "id": "d21d1e69",
   "metadata": {
    "vscode": {
     "languageId": "python"
    }
   },
   "outputs": [
    {
     "name": "stdout",
     "output_type": "stream",
     "text": [
      "{'CHECKPOINT_PATH': 'runs/saved_models/',\n",
      " 'DATASET_PATH': 'data/',\n",
      " 'PREFIX': '032',\n",
      " 'RESULTS_PATH': 'results/',\n",
      " 'TENSORBOARD_PATH': 'runs/',\n",
      " '_L_in': 6,\n",
      " '_L_out': 1,\n",
      " 'accelerator': 'auto',\n",
      " 'converters': None,\n",
      " 'core_model': <class 'netlightregression.NetLightRegression'>,\n",
      " 'core_model_hyper_dict': {'act_fn': {'class_name': 'spotPython.torch.activation',\n",
      "                                      'core_model_parameter_type': 'instance()',\n",
      "                                      'default': 'ReLU',\n",
      "                                      'levels': ['ReLU', 'LeakyReLU'],\n",
      "                                      'lower': 0,\n",
      "                                      'transform': 'None',\n",
      "                                      'type': 'factor',\n",
      "                                      'upper': 1},\n",
      "                           'batch_size': {'default': 4,\n",
      "                                          'lower': 3,\n",
      "                                          'transform': 'transform_power_2_int',\n",
      "                                          'type': 'int',\n",
      "                                          'upper': 6},\n",
      "                           'dropout_prob': {'default': 0.01,\n",
      "                                            'lower': 0.005,\n",
      "                                            'transform': 'None',\n",
      "                                            'type': 'float',\n",
      "                                            'upper': 0.25},\n",
      "                           'epochs': {'default': 4,\n",
      "                                      'lower': 5,\n",
      "                                      'transform': 'transform_power_2_int',\n",
      "                                      'type': 'int',\n",
      "                                      'upper': 10},\n",
      "                           'initialization': {'core_model_parameter_type': 'str',\n",
      "                                              'default': 'Default',\n",
      "                                              'levels': ['Default'],\n",
      "                                              'lower': 0,\n",
      "                                              'transform': 'None',\n",
      "                                              'type': 'factor',\n",
      "                                              'upper': 0},\n",
      "                           'l1': {'default': 3,\n",
      "                                  'lower': 5,\n",
      "                                  'transform': 'transform_power_2_int',\n",
      "                                  'type': 'int',\n",
      "                                  'upper': 9},\n",
      "                           'lr_mult': {'default': 1.0,\n",
      "                                       'lower': 0.25,\n",
      "                                       'transform': 'None',\n",
      "                                       'type': 'float',\n",
      "                                       'upper': 5.0},\n",
      "                           'optimizer': {'class_name': 'torch.optim',\n",
      "                                         'core_model_parameter_type': 'str',\n",
      "                                         'default': 'SGD',\n",
      "                                         'levels': ['Adadelta',\n",
      "                                                    'Adamax',\n",
      "                                                    'Adagrad'],\n",
      "                                         'lower': 0,\n",
      "                                         'transform': 'None',\n",
      "                                         'type': 'factor',\n",
      "                                         'upper': 2},\n",
      "                           'patience': {'default': 2,\n",
      "                                        'lower': 3,\n",
      "                                        'transform': 'transform_power_2_int',\n",
      "                                        'type': 'int',\n",
      "                                        'upper': 5}},\n",
      " 'counter': 0,\n",
      " 'data': None,\n",
      " 'data_dir': './data',\n",
      " 'data_module': None,\n",
      " 'data_set': <torch.utils.data.dataset.TensorDataset object at 0x1694fa550>,\n",
      " 'design': None,\n",
      " 'device': 'mps',\n",
      " 'devices': 1,\n",
      " 'enable_progress_bar': False,\n",
      " 'eval': None,\n",
      " 'fun_evals': inf,\n",
      " 'fun_repeats': 2,\n",
      " 'horizon': None,\n",
      " 'infill_criterion': 'y',\n",
      " 'k_folds': 3,\n",
      " 'log_graph': False,\n",
      " 'log_level': 10,\n",
      " 'loss_function': None,\n",
      " 'lower': array([3. , 4. , 1. , 0. , 0. , 0. , 0.1, 2. , 0. ]),\n",
      " 'max_time': 10,\n",
      " 'metric_params': {},\n",
      " 'metric_river': None,\n",
      " 'metric_sklearn': None,\n",
      " 'metric_torch': None,\n",
      " 'model_dict': {},\n",
      " 'n_points': 1,\n",
      " 'n_samples': None,\n",
      " 'noise': False,\n",
      " 'num_workers': 0,\n",
      " 'ocba_delta': 1,\n",
      " 'oml_grace_period': None,\n",
      " 'optimizer': None,\n",
      " 'path': None,\n",
      " 'prep_model': None,\n",
      " 'save_model': False,\n",
      " 'seed': 123,\n",
      " 'show_batch_interval': 1000000,\n",
      " 'show_models': False,\n",
      " 'show_progress': True,\n",
      " 'shuffle': None,\n",
      " 'sigma': 0.0,\n",
      " 'spot_tensorboard_path': 'runs/spot_logs/032_bartz09_2024-02-20_03-20-57',\n",
      " 'spot_writer': <torch.utils.tensorboard.writer.SummaryWriter object at 0x179047990>,\n",
      " 'target_column': None,\n",
      " 'task': None,\n",
      " 'test': None,\n",
      " 'test_seed': 1234,\n",
      " 'test_size': 0.3,\n",
      " 'tolerance_x': 1.4901161193847656e-08,\n",
      " 'train': None,\n",
      " 'upper': array([ 8.  ,  9.  ,  4.  ,  5.  , 11.  ,  0.25, 10.  ,  6.  ,  2.  ]),\n",
      " 'var_name': ['l1',\n",
      "              'epochs',\n",
      "              'batch_size',\n",
      "              'act_fn',\n",
      "              'optimizer',\n",
      "              'dropout_prob',\n",
      "              'lr_mult',\n",
      "              'patience',\n",
      "              'initialization'],\n",
      " 'var_type': ['int',\n",
      "              'int',\n",
      "              'int',\n",
      "              'factor',\n",
      "              'factor',\n",
      "              'float',\n",
      "              'float',\n",
      "              'int',\n",
      "              'factor'],\n",
      " 'verbosity': 1,\n",
      " 'weight_coeff': 0.0,\n",
      " 'weights': 1.0}\n"
     ]
    }
   ],
   "source": [
    "import pprint\n",
    "pprint.pprint(fun_control)"
   ]
  },
  {
   "cell_type": "markdown",
   "id": "b9a75e27",
   "metadata": {},
   "source": [
    "### Starting the Hyperparameter Tuning {#sec-call-the-hyperparameter-tuner-33}\n",
    "\n",
    "The `spotPython` hyperparameter tuning is started by calling the `Spot` function [[SOURCE]](https://github.com/sequential-parameter-optimization/spotPython/blob/main/src/spotPython/spot/spot.py).\n"
   ]
  },
  {
   "cell_type": "code",
   "execution_count": 14,
   "id": "798590e7",
   "metadata": {
    "vscode": {
     "languageId": "python"
    }
   },
   "outputs": [
    {
     "name": "stderr",
     "output_type": "stream",
     "text": [
      "Seed set to 123\n"
     ]
    },
    {
     "name": "stderr",
     "output_type": "stream",
     "text": [
      "/Users/bartz/miniforge3/envs/spotCondaEnv/lib/python3.11/site-packages/lightning/pytorch/utilities/parsing.py:198: Attribute 'act_fn' is an instance of `nn.Module` and is already saved during checkpointing. It is recommended to ignore them using `self.save_hyperparameters(ignore=['act_fn'])`.\n",
      "GPU available: True (mps), used: True\n"
     ]
    },
    {
     "name": "stderr",
     "output_type": "stream",
     "text": [
      "TPU available: False, using: 0 TPU cores\n"
     ]
    },
    {
     "name": "stderr",
     "output_type": "stream",
     "text": [
      "IPU available: False, using: 0 IPUs\n"
     ]
    },
    {
     "name": "stderr",
     "output_type": "stream",
     "text": [
      "HPU available: False, using: 0 HPUs\n"
     ]
    },
    {
     "name": "stdout",
     "output_type": "stream",
     "text": [
      "\n",
      "In fun(): config:\n",
      "{'act_fn': LeakyReLU(),\n",
      " 'batch_size': 64,\n",
      " 'dropout_prob': 0.20560368458693354,\n",
      " 'epochs': 128,\n",
      " 'initialization': 'Default',\n",
      " 'l1': 64,\n",
      " 'lr_mult': 4.561411125937148,\n",
      " 'optimizer': 'Adamax',\n",
      " 'patience': 8}\n",
      "LightDataModule: setup(). stage: None\n",
      "LightDataModule setup(): full_train_size: 0.7\n",
      "LightDataModule setup(): val_size: 0.21\n",
      "LightDataModule setup(): train_size: 0.49\n",
      "LightDataModule setup(): test_size: 0.3\n",
      "LightDataModule: setup(). stage: fit\n",
      "LightDataModule: setup(). stage: test\n",
      "LightDataModule: setup(). stage: predict\n",
      "train_model(): Test set size: 12552\n",
      "train_model(): Train set size: 20501\n",
      "train_model(): Batch size: 64\n",
      "LightDataModule: setup(). stage: TrainerFn.FITTING\n",
      "LightDataModule setup(): full_train_size: 0.7\n",
      "LightDataModule setup(): val_size: 0.21\n",
      "LightDataModule setup(): train_size: 0.49\n",
      "LightDataModule setup(): test_size: 0.3\n",
      "LightDataModule: setup(). stage: fit\n"
     ]
    },
    {
     "name": "stderr",
     "output_type": "stream",
     "text": [
      "\n",
      "  | Name   | Type       | Params | In sizes | Out sizes\n",
      "-------------------------------------------------------------\n",
      "0 | layers | Sequential | 4.1 K  | [64, 6]  | [64, 1]  \n",
      "-------------------------------------------------------------\n",
      "4.1 K     Trainable params\n",
      "0         Non-trainable params\n",
      "4.1 K     Total params\n",
      "0.017     Total estimated model params size (MB)\n"
     ]
    },
    {
     "name": "stdout",
     "output_type": "stream",
     "text": [
      "LightDataModule: val_dataloader(). Training set size: 8785\n",
      "LightDataModule: val_dataloader(). batch_size: 64\n",
      "LightDataModule: val_dataloader(). num_workers: 0\n"
     ]
    },
    {
     "name": "stderr",
     "output_type": "stream",
     "text": [
      "/Users/bartz/miniforge3/envs/spotCondaEnv/lib/python3.11/site-packages/lightning/pytorch/trainer/connectors/data_connector.py:441: The 'val_dataloader' does not have many workers which may be a bottleneck. Consider increasing the value of the `num_workers` argument` to `num_workers=11` in the `DataLoader` to improve performance.\n"
     ]
    },
    {
     "name": "stdout",
     "output_type": "stream",
     "text": [
      "LightDataModule: train_dataloader(). Training set size: 20501\n",
      "LightDataModule: train_dataloader(). batch_size: 64\n",
      "LightDataModule: train_dataloader(). num_workers: 0\n"
     ]
    },
    {
     "name": "stderr",
     "output_type": "stream",
     "text": [
      "/Users/bartz/miniforge3/envs/spotCondaEnv/lib/python3.11/site-packages/lightning/pytorch/trainer/connectors/data_connector.py:441: The 'train_dataloader' does not have many workers which may be a bottleneck. Consider increasing the value of the `num_workers` argument` to `num_workers=11` in the `DataLoader` to improve performance.\n"
     ]
    },
    {
     "name": "stdout",
     "output_type": "stream",
     "text": [
      "LightDataModule: setup(). stage: TrainerFn.VALIDATING\n",
      "LightDataModule setup(): full_train_size: 0.7\n",
      "LightDataModule setup(): val_size: 0.21\n",
      "LightDataModule setup(): train_size: 0.49\n",
      "LightDataModule setup(): test_size: 0.3\n",
      "LightDataModule: val_dataloader(). Training set size: 8785\n",
      "LightDataModule: val_dataloader(). batch_size: 64\n",
      "LightDataModule: val_dataloader(). num_workers: 0\n"
     ]
    },
    {
     "data": {
      "text/html": [
       "<pre style=\"white-space:pre;overflow-x:auto;line-height:normal;font-family:Menlo,'DejaVu Sans Mono',consolas,'Courier New',monospace\">┏━━━━━━━━━━━━━━━━━━━━━━━━━━━┳━━━━━━━━━━━━━━━━━━━━━━━━━━━┓\n",
       "┃<span style=\"font-weight: bold\">      Validate metric      </span>┃<span style=\"font-weight: bold\">       DataLoader 0        </span>┃\n",
       "┡━━━━━━━━━━━━━━━━━━━━━━━━━━━╇━━━━━━━━━━━━━━━━━━━━━━━━━━━┩\n",
       "│<span style=\"color: #008080; text-decoration-color: #008080\">         hp_metric         </span>│<span style=\"color: #800080; text-decoration-color: #800080\">     20.20969009399414     </span>│\n",
       "│<span style=\"color: #008080; text-decoration-color: #008080\">         val_loss          </span>│<span style=\"color: #800080; text-decoration-color: #800080\">     20.20969009399414     </span>│\n",
       "└───────────────────────────┴───────────────────────────┘\n",
       "</pre>\n"
      ],
      "text/plain": [
       "┏━━━━━━━━━━━━━━━━━━━━━━━━━━━┳━━━━━━━━━━━━━━━━━━━━━━━━━━━┓\n",
       "┃\u001b[1m \u001b[0m\u001b[1m     Validate metric     \u001b[0m\u001b[1m \u001b[0m┃\u001b[1m \u001b[0m\u001b[1m      DataLoader 0       \u001b[0m\u001b[1m \u001b[0m┃\n",
       "┡━━━━━━━━━━━━━━━━━━━━━━━━━━━╇━━━━━━━━━━━━━━━━━━━━━━━━━━━┩\n",
       "│\u001b[36m \u001b[0m\u001b[36m        hp_metric        \u001b[0m\u001b[36m \u001b[0m│\u001b[35m \u001b[0m\u001b[35m    20.20969009399414    \u001b[0m\u001b[35m \u001b[0m│\n",
       "│\u001b[36m \u001b[0m\u001b[36m        val_loss         \u001b[0m\u001b[36m \u001b[0m│\u001b[35m \u001b[0m\u001b[35m    20.20969009399414    \u001b[0m\u001b[35m \u001b[0m│\n",
       "└───────────────────────────┴───────────────────────────┘\n"
      ]
     },
     "metadata": {},
     "output_type": "display_data"
    },
    {
     "name": "stderr",
     "output_type": "stream",
     "text": [
      "GPU available: True (mps), used: True\n"
     ]
    },
    {
     "name": "stderr",
     "output_type": "stream",
     "text": [
      "TPU available: False, using: 0 TPU cores\n"
     ]
    },
    {
     "name": "stderr",
     "output_type": "stream",
     "text": [
      "IPU available: False, using: 0 IPUs\n"
     ]
    },
    {
     "name": "stderr",
     "output_type": "stream",
     "text": [
      "HPU available: False, using: 0 HPUs\n"
     ]
    },
    {
     "name": "stderr",
     "output_type": "stream",
     "text": [
      "\n",
      "  | Name   | Type       | Params | In sizes | Out sizes\n",
      "-------------------------------------------------------------\n",
      "0 | layers | Sequential | 4.1 K  | [64, 6]  | [64, 1]  \n",
      "-------------------------------------------------------------\n",
      "4.1 K     Trainable params\n",
      "0         Non-trainable params\n",
      "4.1 K     Total params\n",
      "0.017     Total estimated model params size (MB)\n"
     ]
    },
    {
     "name": "stdout",
     "output_type": "stream",
     "text": [
      "train_model result: {'val_loss': 20.20969009399414, 'hp_metric': 20.20969009399414}\n",
      "\n",
      "In fun(): config:\n",
      "{'act_fn': LeakyReLU(),\n",
      " 'batch_size': 64,\n",
      " 'dropout_prob': 0.20560368458693354,\n",
      " 'epochs': 128,\n",
      " 'initialization': 'Default',\n",
      " 'l1': 64,\n",
      " 'lr_mult': 4.561411125937148,\n",
      " 'optimizer': 'Adamax',\n",
      " 'patience': 8}\n",
      "LightDataModule: setup(). stage: None\n",
      "LightDataModule setup(): full_train_size: 0.7\n",
      "LightDataModule setup(): val_size: 0.21\n",
      "LightDataModule setup(): train_size: 0.49\n",
      "LightDataModule setup(): test_size: 0.3\n",
      "LightDataModule: setup(). stage: fit\n",
      "LightDataModule: setup(). stage: test\n",
      "LightDataModule: setup(). stage: predict\n",
      "train_model(): Test set size: 12552\n",
      "train_model(): Train set size: 20501\n",
      "train_model(): Batch size: 64\n",
      "LightDataModule: setup(). stage: TrainerFn.FITTING\n",
      "LightDataModule setup(): full_train_size: 0.7\n",
      "LightDataModule setup(): val_size: 0.21\n",
      "LightDataModule setup(): train_size: 0.49\n",
      "LightDataModule setup(): test_size: 0.3\n",
      "LightDataModule: setup(). stage: fit\n",
      "LightDataModule: val_dataloader(). Training set size: 8785\n",
      "LightDataModule: val_dataloader(). batch_size: 64\n",
      "LightDataModule: val_dataloader(). num_workers: 0\n",
      "LightDataModule: train_dataloader(). Training set size: 20501\n",
      "LightDataModule: train_dataloader(). batch_size: 64\n",
      "LightDataModule: train_dataloader(). num_workers: 0\n"
     ]
    },
    {
     "name": "stdout",
     "output_type": "stream",
     "text": [
      "LightDataModule: setup(). stage: TrainerFn.VALIDATING\n",
      "LightDataModule setup(): full_train_size: 0.7\n",
      "LightDataModule setup(): val_size: 0.21\n",
      "LightDataModule setup(): train_size: 0.49\n",
      "LightDataModule setup(): test_size: 0.3\n",
      "LightDataModule: val_dataloader(). Training set size: 8785\n",
      "LightDataModule: val_dataloader(). batch_size: 64\n",
      "LightDataModule: val_dataloader(). num_workers: 0\n"
     ]
    },
    {
     "data": {
      "text/html": [
       "<pre style=\"white-space:pre;overflow-x:auto;line-height:normal;font-family:Menlo,'DejaVu Sans Mono',consolas,'Courier New',monospace\">┏━━━━━━━━━━━━━━━━━━━━━━━━━━━┳━━━━━━━━━━━━━━━━━━━━━━━━━━━┓\n",
       "┃<span style=\"font-weight: bold\">      Validate metric      </span>┃<span style=\"font-weight: bold\">       DataLoader 0        </span>┃\n",
       "┡━━━━━━━━━━━━━━━━━━━━━━━━━━━╇━━━━━━━━━━━━━━━━━━━━━━━━━━━┩\n",
       "│<span style=\"color: #008080; text-decoration-color: #008080\">         hp_metric         </span>│<span style=\"color: #800080; text-decoration-color: #800080\">    20.051761627197266     </span>│\n",
       "│<span style=\"color: #008080; text-decoration-color: #008080\">         val_loss          </span>│<span style=\"color: #800080; text-decoration-color: #800080\">    20.051761627197266     </span>│\n",
       "└───────────────────────────┴───────────────────────────┘\n",
       "</pre>\n"
      ],
      "text/plain": [
       "┏━━━━━━━━━━━━━━━━━━━━━━━━━━━┳━━━━━━━━━━━━━━━━━━━━━━━━━━━┓\n",
       "┃\u001b[1m \u001b[0m\u001b[1m     Validate metric     \u001b[0m\u001b[1m \u001b[0m┃\u001b[1m \u001b[0m\u001b[1m      DataLoader 0       \u001b[0m\u001b[1m \u001b[0m┃\n",
       "┡━━━━━━━━━━━━━━━━━━━━━━━━━━━╇━━━━━━━━━━━━━━━━━━━━━━━━━━━┩\n",
       "│\u001b[36m \u001b[0m\u001b[36m        hp_metric        \u001b[0m\u001b[36m \u001b[0m│\u001b[35m \u001b[0m\u001b[35m   20.051761627197266    \u001b[0m\u001b[35m \u001b[0m│\n",
       "│\u001b[36m \u001b[0m\u001b[36m        val_loss         \u001b[0m\u001b[36m \u001b[0m│\u001b[35m \u001b[0m\u001b[35m   20.051761627197266    \u001b[0m\u001b[35m \u001b[0m│\n",
       "└───────────────────────────┴───────────────────────────┘\n"
      ]
     },
     "metadata": {},
     "output_type": "display_data"
    },
    {
     "name": "stderr",
     "output_type": "stream",
     "text": [
      "GPU available: True (mps), used: True\n"
     ]
    },
    {
     "name": "stderr",
     "output_type": "stream",
     "text": [
      "TPU available: False, using: 0 TPU cores\n"
     ]
    },
    {
     "name": "stderr",
     "output_type": "stream",
     "text": [
      "IPU available: False, using: 0 IPUs\n"
     ]
    },
    {
     "name": "stderr",
     "output_type": "stream",
     "text": [
      "HPU available: False, using: 0 HPUs\n"
     ]
    },
    {
     "name": "stderr",
     "output_type": "stream",
     "text": [
      "\n",
      "  | Name   | Type       | Params | In sizes | Out sizes\n",
      "-------------------------------------------------------------\n",
      "0 | layers | Sequential | 59.5 K | [64, 6]  | [64, 1]  \n",
      "-------------------------------------------------------------\n",
      "59.5 K    Trainable params\n",
      "0         Non-trainable params\n",
      "59.5 K    Total params\n",
      "0.238     Total estimated model params size (MB)\n"
     ]
    },
    {
     "name": "stdout",
     "output_type": "stream",
     "text": [
      "train_model result: {'val_loss': 20.051761627197266, 'hp_metric': 20.051761627197266}\n",
      "\n",
      "In fun(): config:\n",
      "{'act_fn': LeakyReLU(),\n",
      " 'batch_size': 64,\n",
      " 'dropout_prob': 0.02426280739731016,\n",
      " 'epochs': 256,\n",
      " 'initialization': 'Default',\n",
      " 'l1': 256,\n",
      " 'lr_mult': 1.322803150188513,\n",
      " 'optimizer': 'Adagrad',\n",
      " 'patience': 16}\n",
      "LightDataModule: setup(). stage: None\n",
      "LightDataModule setup(): full_train_size: 0.7\n",
      "LightDataModule setup(): val_size: 0.21\n",
      "LightDataModule setup(): train_size: 0.49\n",
      "LightDataModule setup(): test_size: 0.3\n",
      "LightDataModule: setup(). stage: fit\n",
      "LightDataModule: setup(). stage: test\n",
      "LightDataModule: setup(). stage: predict\n",
      "train_model(): Test set size: 12552\n",
      "train_model(): Train set size: 20501\n",
      "train_model(): Batch size: 64\n",
      "LightDataModule: setup(). stage: TrainerFn.FITTING\n",
      "LightDataModule setup(): full_train_size: 0.7\n",
      "LightDataModule setup(): val_size: 0.21\n",
      "LightDataModule setup(): train_size: 0.49\n",
      "LightDataModule setup(): test_size: 0.3\n",
      "LightDataModule: setup(). stage: fit\n",
      "LightDataModule: val_dataloader(). Training set size: 8785\n",
      "LightDataModule: val_dataloader(). batch_size: 64\n",
      "LightDataModule: val_dataloader(). num_workers: 0\n",
      "LightDataModule: train_dataloader(). Training set size: 20501\n",
      "LightDataModule: train_dataloader(). batch_size: 64\n",
      "LightDataModule: train_dataloader(). num_workers: 0\n"
     ]
    },
    {
     "name": "stderr",
     "output_type": "stream",
     "text": [
      "`Trainer.fit` stopped: `max_epochs=256` reached.\n"
     ]
    },
    {
     "name": "stdout",
     "output_type": "stream",
     "text": [
      "LightDataModule: setup(). stage: TrainerFn.VALIDATING\n",
      "LightDataModule setup(): full_train_size: 0.7\n",
      "LightDataModule setup(): val_size: 0.21\n",
      "LightDataModule setup(): train_size: 0.49\n",
      "LightDataModule setup(): test_size: 0.3\n",
      "LightDataModule: val_dataloader(). Training set size: 8785\n",
      "LightDataModule: val_dataloader(). batch_size: 64\n",
      "LightDataModule: val_dataloader(). num_workers: 0\n"
     ]
    },
    {
     "data": {
      "text/html": [
       "<pre style=\"white-space:pre;overflow-x:auto;line-height:normal;font-family:Menlo,'DejaVu Sans Mono',consolas,'Courier New',monospace\">┏━━━━━━━━━━━━━━━━━━━━━━━━━━━┳━━━━━━━━━━━━━━━━━━━━━━━━━━━┓\n",
       "┃<span style=\"font-weight: bold\">      Validate metric      </span>┃<span style=\"font-weight: bold\">       DataLoader 0        </span>┃\n",
       "┡━━━━━━━━━━━━━━━━━━━━━━━━━━━╇━━━━━━━━━━━━━━━━━━━━━━━━━━━┩\n",
       "│<span style=\"color: #008080; text-decoration-color: #008080\">         hp_metric         </span>│<span style=\"color: #800080; text-decoration-color: #800080\">     15.70073127746582     </span>│\n",
       "│<span style=\"color: #008080; text-decoration-color: #008080\">         val_loss          </span>│<span style=\"color: #800080; text-decoration-color: #800080\">     15.70073127746582     </span>│\n",
       "└───────────────────────────┴───────────────────────────┘\n",
       "</pre>\n"
      ],
      "text/plain": [
       "┏━━━━━━━━━━━━━━━━━━━━━━━━━━━┳━━━━━━━━━━━━━━━━━━━━━━━━━━━┓\n",
       "┃\u001b[1m \u001b[0m\u001b[1m     Validate metric     \u001b[0m\u001b[1m \u001b[0m┃\u001b[1m \u001b[0m\u001b[1m      DataLoader 0       \u001b[0m\u001b[1m \u001b[0m┃\n",
       "┡━━━━━━━━━━━━━━━━━━━━━━━━━━━╇━━━━━━━━━━━━━━━━━━━━━━━━━━━┩\n",
       "│\u001b[36m \u001b[0m\u001b[36m        hp_metric        \u001b[0m\u001b[36m \u001b[0m│\u001b[35m \u001b[0m\u001b[35m    15.70073127746582    \u001b[0m\u001b[35m \u001b[0m│\n",
       "│\u001b[36m \u001b[0m\u001b[36m        val_loss         \u001b[0m\u001b[36m \u001b[0m│\u001b[35m \u001b[0m\u001b[35m    15.70073127746582    \u001b[0m\u001b[35m \u001b[0m│\n",
       "└───────────────────────────┴───────────────────────────┘\n"
      ]
     },
     "metadata": {},
     "output_type": "display_data"
    },
    {
     "name": "stderr",
     "output_type": "stream",
     "text": [
      "GPU available: True (mps), used: True\n"
     ]
    },
    {
     "name": "stderr",
     "output_type": "stream",
     "text": [
      "TPU available: False, using: 0 TPU cores\n"
     ]
    },
    {
     "name": "stderr",
     "output_type": "stream",
     "text": [
      "IPU available: False, using: 0 IPUs\n"
     ]
    },
    {
     "name": "stderr",
     "output_type": "stream",
     "text": [
      "HPU available: False, using: 0 HPUs\n"
     ]
    },
    {
     "name": "stderr",
     "output_type": "stream",
     "text": [
      "\n",
      "  | Name   | Type       | Params | In sizes | Out sizes\n",
      "-------------------------------------------------------------\n",
      "0 | layers | Sequential | 59.5 K | [64, 6]  | [64, 1]  \n",
      "-------------------------------------------------------------\n",
      "59.5 K    Trainable params\n",
      "0         Non-trainable params\n",
      "59.5 K    Total params\n",
      "0.238     Total estimated model params size (MB)\n"
     ]
    },
    {
     "name": "stdout",
     "output_type": "stream",
     "text": [
      "train_model result: {'val_loss': 15.70073127746582, 'hp_metric': 15.70073127746582}\n",
      "\n",
      "In fun(): config:\n",
      "{'act_fn': LeakyReLU(),\n",
      " 'batch_size': 64,\n",
      " 'dropout_prob': 0.02426280739731016,\n",
      " 'epochs': 256,\n",
      " 'initialization': 'Default',\n",
      " 'l1': 256,\n",
      " 'lr_mult': 1.322803150188513,\n",
      " 'optimizer': 'Adagrad',\n",
      " 'patience': 16}\n",
      "LightDataModule: setup(). stage: None\n",
      "LightDataModule setup(): full_train_size: 0.7\n",
      "LightDataModule setup(): val_size: 0.21\n",
      "LightDataModule setup(): train_size: 0.49\n",
      "LightDataModule setup(): test_size: 0.3\n",
      "LightDataModule: setup(). stage: fit\n",
      "LightDataModule: setup(). stage: test\n",
      "LightDataModule: setup(). stage: predict\n",
      "train_model(): Test set size: 12552\n",
      "train_model(): Train set size: 20501\n",
      "train_model(): Batch size: 64\n",
      "LightDataModule: setup(). stage: TrainerFn.FITTING\n",
      "LightDataModule setup(): full_train_size: 0.7\n",
      "LightDataModule setup(): val_size: 0.21\n",
      "LightDataModule setup(): train_size: 0.49\n",
      "LightDataModule setup(): test_size: 0.3\n",
      "LightDataModule: setup(). stage: fit\n",
      "LightDataModule: val_dataloader(). Training set size: 8785\n",
      "LightDataModule: val_dataloader(). batch_size: 64\n",
      "LightDataModule: val_dataloader(). num_workers: 0\n",
      "LightDataModule: train_dataloader(). Training set size: 20501\n",
      "LightDataModule: train_dataloader(). batch_size: 64\n",
      "LightDataModule: train_dataloader(). num_workers: 0\n"
     ]
    },
    {
     "name": "stderr",
     "output_type": "stream",
     "text": [
      "`Trainer.fit` stopped: `max_epochs=256` reached.\n"
     ]
    },
    {
     "name": "stdout",
     "output_type": "stream",
     "text": [
      "LightDataModule: setup(). stage: TrainerFn.VALIDATING\n",
      "LightDataModule setup(): full_train_size: 0.7\n",
      "LightDataModule setup(): val_size: 0.21\n",
      "LightDataModule setup(): train_size: 0.49\n",
      "LightDataModule setup(): test_size: 0.3\n",
      "LightDataModule: val_dataloader(). Training set size: 8785\n",
      "LightDataModule: val_dataloader(). batch_size: 64\n",
      "LightDataModule: val_dataloader(). num_workers: 0\n"
     ]
    },
    {
     "data": {
      "text/html": [
       "<pre style=\"white-space:pre;overflow-x:auto;line-height:normal;font-family:Menlo,'DejaVu Sans Mono',consolas,'Courier New',monospace\">┏━━━━━━━━━━━━━━━━━━━━━━━━━━━┳━━━━━━━━━━━━━━━━━━━━━━━━━━━┓\n",
       "┃<span style=\"font-weight: bold\">      Validate metric      </span>┃<span style=\"font-weight: bold\">       DataLoader 0        </span>┃\n",
       "┡━━━━━━━━━━━━━━━━━━━━━━━━━━━╇━━━━━━━━━━━━━━━━━━━━━━━━━━━┩\n",
       "│<span style=\"color: #008080; text-decoration-color: #008080\">         hp_metric         </span>│<span style=\"color: #800080; text-decoration-color: #800080\">    15.502586364746094     </span>│\n",
       "│<span style=\"color: #008080; text-decoration-color: #008080\">         val_loss          </span>│<span style=\"color: #800080; text-decoration-color: #800080\">    15.502586364746094     </span>│\n",
       "└───────────────────────────┴───────────────────────────┘\n",
       "</pre>\n"
      ],
      "text/plain": [
       "┏━━━━━━━━━━━━━━━━━━━━━━━━━━━┳━━━━━━━━━━━━━━━━━━━━━━━━━━━┓\n",
       "┃\u001b[1m \u001b[0m\u001b[1m     Validate metric     \u001b[0m\u001b[1m \u001b[0m┃\u001b[1m \u001b[0m\u001b[1m      DataLoader 0       \u001b[0m\u001b[1m \u001b[0m┃\n",
       "┡━━━━━━━━━━━━━━━━━━━━━━━━━━━╇━━━━━━━━━━━━━━━━━━━━━━━━━━━┩\n",
       "│\u001b[36m \u001b[0m\u001b[36m        hp_metric        \u001b[0m\u001b[36m \u001b[0m│\u001b[35m \u001b[0m\u001b[35m   15.502586364746094    \u001b[0m\u001b[35m \u001b[0m│\n",
       "│\u001b[36m \u001b[0m\u001b[36m        val_loss         \u001b[0m\u001b[36m \u001b[0m│\u001b[35m \u001b[0m\u001b[35m   15.502586364746094    \u001b[0m\u001b[35m \u001b[0m│\n",
       "└───────────────────────────┴───────────────────────────┘\n"
      ]
     },
     "metadata": {},
     "output_type": "display_data"
    },
    {
     "name": "stderr",
     "output_type": "stream",
     "text": [
      "GPU available: True (mps), used: True\n"
     ]
    },
    {
     "name": "stderr",
     "output_type": "stream",
     "text": [
      "TPU available: False, using: 0 TPU cores\n"
     ]
    },
    {
     "name": "stderr",
     "output_type": "stream",
     "text": [
      "IPU available: False, using: 0 IPUs\n"
     ]
    },
    {
     "name": "stderr",
     "output_type": "stream",
     "text": [
      "HPU available: False, using: 0 HPUs\n"
     ]
    },
    {
     "name": "stderr",
     "output_type": "stream",
     "text": [
      "\n",
      "  | Name   | Type       | Params | In sizes | Out sizes\n",
      "-------------------------------------------------------------\n",
      "0 | layers | Sequential | 1.2 K  | [8, 6]   | [8, 1]   \n",
      "-------------------------------------------------------------\n",
      "1.2 K     Trainable params\n",
      "0         Non-trainable params\n",
      "1.2 K     Total params\n",
      "0.005     Total estimated model params size (MB)\n"
     ]
    },
    {
     "name": "stdout",
     "output_type": "stream",
     "text": [
      "train_model result: {'val_loss': 15.502586364746094, 'hp_metric': 15.502586364746094}\n",
      "\n",
      "In fun(): config:\n",
      "{'act_fn': ReLU(),\n",
      " 'batch_size': 8,\n",
      " 'dropout_prob': 0.07443535216560176,\n",
      " 'epochs': 512,\n",
      " 'initialization': 'Default',\n",
      " 'l1': 32,\n",
      " 'lr_mult': 2.863550239963548,\n",
      " 'optimizer': 'Adamax',\n",
      " 'patience': 16}\n",
      "LightDataModule: setup(). stage: None\n",
      "LightDataModule setup(): full_train_size: 0.7\n",
      "LightDataModule setup(): val_size: 0.21\n",
      "LightDataModule setup(): train_size: 0.49\n",
      "LightDataModule setup(): test_size: 0.3\n",
      "LightDataModule: setup(). stage: fit\n",
      "LightDataModule: setup(). stage: test\n",
      "LightDataModule: setup(). stage: predict\n",
      "train_model(): Test set size: 12552\n",
      "train_model(): Train set size: 20501\n",
      "train_model(): Batch size: 8\n",
      "LightDataModule: setup(). stage: TrainerFn.FITTING\n",
      "LightDataModule setup(): full_train_size: 0.7\n",
      "LightDataModule setup(): val_size: 0.21\n",
      "LightDataModule setup(): train_size: 0.49\n",
      "LightDataModule setup(): test_size: 0.3\n",
      "LightDataModule: setup(). stage: fit\n",
      "LightDataModule: val_dataloader(). Training set size: 8785\n",
      "LightDataModule: val_dataloader(). batch_size: 8\n",
      "LightDataModule: val_dataloader(). num_workers: 0\n",
      "LightDataModule: train_dataloader(). Training set size: 20501\n",
      "LightDataModule: train_dataloader(). batch_size: 8\n",
      "LightDataModule: train_dataloader(). num_workers: 0\n"
     ]
    },
    {
     "name": "stdout",
     "output_type": "stream",
     "text": [
      "LightDataModule: setup(). stage: TrainerFn.VALIDATING\n",
      "LightDataModule setup(): full_train_size: 0.7\n",
      "LightDataModule setup(): val_size: 0.21\n",
      "LightDataModule setup(): train_size: 0.49\n",
      "LightDataModule setup(): test_size: 0.3\n",
      "LightDataModule: val_dataloader(). Training set size: 8785\n",
      "LightDataModule: val_dataloader(). batch_size: 8\n",
      "LightDataModule: val_dataloader(). num_workers: 0\n"
     ]
    },
    {
     "data": {
      "text/html": [
       "<pre style=\"white-space:pre;overflow-x:auto;line-height:normal;font-family:Menlo,'DejaVu Sans Mono',consolas,'Courier New',monospace\">┏━━━━━━━━━━━━━━━━━━━━━━━━━━━┳━━━━━━━━━━━━━━━━━━━━━━━━━━━┓\n",
       "┃<span style=\"font-weight: bold\">      Validate metric      </span>┃<span style=\"font-weight: bold\">       DataLoader 0        </span>┃\n",
       "┡━━━━━━━━━━━━━━━━━━━━━━━━━━━╇━━━━━━━━━━━━━━━━━━━━━━━━━━━┩\n",
       "│<span style=\"color: #008080; text-decoration-color: #008080\">         hp_metric         </span>│<span style=\"color: #800080; text-decoration-color: #800080\">     15.79671859741211     </span>│\n",
       "│<span style=\"color: #008080; text-decoration-color: #008080\">         val_loss          </span>│<span style=\"color: #800080; text-decoration-color: #800080\">     15.79671859741211     </span>│\n",
       "└───────────────────────────┴───────────────────────────┘\n",
       "</pre>\n"
      ],
      "text/plain": [
       "┏━━━━━━━━━━━━━━━━━━━━━━━━━━━┳━━━━━━━━━━━━━━━━━━━━━━━━━━━┓\n",
       "┃\u001b[1m \u001b[0m\u001b[1m     Validate metric     \u001b[0m\u001b[1m \u001b[0m┃\u001b[1m \u001b[0m\u001b[1m      DataLoader 0       \u001b[0m\u001b[1m \u001b[0m┃\n",
       "┡━━━━━━━━━━━━━━━━━━━━━━━━━━━╇━━━━━━━━━━━━━━━━━━━━━━━━━━━┩\n",
       "│\u001b[36m \u001b[0m\u001b[36m        hp_metric        \u001b[0m\u001b[36m \u001b[0m│\u001b[35m \u001b[0m\u001b[35m    15.79671859741211    \u001b[0m\u001b[35m \u001b[0m│\n",
       "│\u001b[36m \u001b[0m\u001b[36m        val_loss         \u001b[0m\u001b[36m \u001b[0m│\u001b[35m \u001b[0m\u001b[35m    15.79671859741211    \u001b[0m\u001b[35m \u001b[0m│\n",
       "└───────────────────────────┴───────────────────────────┘\n"
      ]
     },
     "metadata": {},
     "output_type": "display_data"
    },
    {
     "name": "stderr",
     "output_type": "stream",
     "text": [
      "GPU available: True (mps), used: True\n"
     ]
    },
    {
     "name": "stderr",
     "output_type": "stream",
     "text": [
      "TPU available: False, using: 0 TPU cores\n"
     ]
    },
    {
     "name": "stderr",
     "output_type": "stream",
     "text": [
      "IPU available: False, using: 0 IPUs\n"
     ]
    },
    {
     "name": "stderr",
     "output_type": "stream",
     "text": [
      "HPU available: False, using: 0 HPUs\n"
     ]
    },
    {
     "name": "stderr",
     "output_type": "stream",
     "text": [
      "\n",
      "  | Name   | Type       | Params | In sizes | Out sizes\n",
      "-------------------------------------------------------------\n",
      "0 | layers | Sequential | 1.2 K  | [8, 6]   | [8, 1]   \n",
      "-------------------------------------------------------------\n",
      "1.2 K     Trainable params\n",
      "0         Non-trainable params\n",
      "1.2 K     Total params\n",
      "0.005     Total estimated model params size (MB)\n"
     ]
    },
    {
     "name": "stdout",
     "output_type": "stream",
     "text": [
      "train_model result: {'val_loss': 15.79671859741211, 'hp_metric': 15.79671859741211}\n",
      "\n",
      "In fun(): config:\n",
      "{'act_fn': ReLU(),\n",
      " 'batch_size': 8,\n",
      " 'dropout_prob': 0.07443535216560176,\n",
      " 'epochs': 512,\n",
      " 'initialization': 'Default',\n",
      " 'l1': 32,\n",
      " 'lr_mult': 2.863550239963548,\n",
      " 'optimizer': 'Adamax',\n",
      " 'patience': 16}\n",
      "LightDataModule: setup(). stage: None\n",
      "LightDataModule setup(): full_train_size: 0.7\n",
      "LightDataModule setup(): val_size: 0.21\n",
      "LightDataModule setup(): train_size: 0.49\n",
      "LightDataModule setup(): test_size: 0.3\n",
      "LightDataModule: setup(). stage: fit\n",
      "LightDataModule: setup(). stage: test\n",
      "LightDataModule: setup(). stage: predict\n",
      "train_model(): Test set size: 12552\n",
      "train_model(): Train set size: 20501\n",
      "train_model(): Batch size: 8\n",
      "LightDataModule: setup(). stage: TrainerFn.FITTING\n",
      "LightDataModule setup(): full_train_size: 0.7\n",
      "LightDataModule setup(): val_size: 0.21\n",
      "LightDataModule setup(): train_size: 0.49\n",
      "LightDataModule setup(): test_size: 0.3\n",
      "LightDataModule: setup(). stage: fit\n",
      "LightDataModule: val_dataloader(). Training set size: 8785\n",
      "LightDataModule: val_dataloader(). batch_size: 8\n",
      "LightDataModule: val_dataloader(). num_workers: 0\n",
      "LightDataModule: train_dataloader(). Training set size: 20501\n",
      "LightDataModule: train_dataloader(). batch_size: 8\n",
      "LightDataModule: train_dataloader(). num_workers: 0\n"
     ]
    },
    {
     "name": "stdout",
     "output_type": "stream",
     "text": [
      "LightDataModule: setup(). stage: TrainerFn.VALIDATING\n",
      "LightDataModule setup(): full_train_size: 0.7\n",
      "LightDataModule setup(): val_size: 0.21\n",
      "LightDataModule setup(): train_size: 0.49\n",
      "LightDataModule setup(): test_size: 0.3\n",
      "LightDataModule: val_dataloader(). Training set size: 8785\n",
      "LightDataModule: val_dataloader(). batch_size: 8\n",
      "LightDataModule: val_dataloader(). num_workers: 0\n"
     ]
    },
    {
     "data": {
      "text/html": [
       "<pre style=\"white-space:pre;overflow-x:auto;line-height:normal;font-family:Menlo,'DejaVu Sans Mono',consolas,'Courier New',monospace\">┏━━━━━━━━━━━━━━━━━━━━━━━━━━━┳━━━━━━━━━━━━━━━━━━━━━━━━━━━┓\n",
       "┃<span style=\"font-weight: bold\">      Validate metric      </span>┃<span style=\"font-weight: bold\">       DataLoader 0        </span>┃\n",
       "┡━━━━━━━━━━━━━━━━━━━━━━━━━━━╇━━━━━━━━━━━━━━━━━━━━━━━━━━━┩\n",
       "│<span style=\"color: #008080; text-decoration-color: #008080\">         hp_metric         </span>│<span style=\"color: #800080; text-decoration-color: #800080\">    16.472652435302734     </span>│\n",
       "│<span style=\"color: #008080; text-decoration-color: #008080\">         val_loss          </span>│<span style=\"color: #800080; text-decoration-color: #800080\">    16.472652435302734     </span>│\n",
       "└───────────────────────────┴───────────────────────────┘\n",
       "</pre>\n"
      ],
      "text/plain": [
       "┏━━━━━━━━━━━━━━━━━━━━━━━━━━━┳━━━━━━━━━━━━━━━━━━━━━━━━━━━┓\n",
       "┃\u001b[1m \u001b[0m\u001b[1m     Validate metric     \u001b[0m\u001b[1m \u001b[0m┃\u001b[1m \u001b[0m\u001b[1m      DataLoader 0       \u001b[0m\u001b[1m \u001b[0m┃\n",
       "┡━━━━━━━━━━━━━━━━━━━━━━━━━━━╇━━━━━━━━━━━━━━━━━━━━━━━━━━━┩\n",
       "│\u001b[36m \u001b[0m\u001b[36m        hp_metric        \u001b[0m\u001b[36m \u001b[0m│\u001b[35m \u001b[0m\u001b[35m   16.472652435302734    \u001b[0m\u001b[35m \u001b[0m│\n",
       "│\u001b[36m \u001b[0m\u001b[36m        val_loss         \u001b[0m\u001b[36m \u001b[0m│\u001b[35m \u001b[0m\u001b[35m   16.472652435302734    \u001b[0m\u001b[35m \u001b[0m│\n",
       "└───────────────────────────┴───────────────────────────┘\n"
      ]
     },
     "metadata": {},
     "output_type": "display_data"
    },
    {
     "name": "stderr",
     "output_type": "stream",
     "text": [
      "GPU available: True (mps), used: True\n"
     ]
    },
    {
     "name": "stderr",
     "output_type": "stream",
     "text": [
      "TPU available: False, using: 0 TPU cores\n"
     ]
    },
    {
     "name": "stderr",
     "output_type": "stream",
     "text": [
      "IPU available: False, using: 0 IPUs\n"
     ]
    },
    {
     "name": "stderr",
     "output_type": "stream",
     "text": [
      "HPU available: False, using: 0 HPUs\n"
     ]
    },
    {
     "name": "stderr",
     "output_type": "stream",
     "text": [
      "\n",
      "  | Name   | Type       | Params | In sizes | Out sizes\n",
      "-------------------------------------------------------------\n",
      "0 | layers | Sequential | 4.1 K  | [32, 6]  | [32, 1]  \n",
      "-------------------------------------------------------------\n",
      "4.1 K     Trainable params\n",
      "0         Non-trainable params\n",
      "4.1 K     Total params\n",
      "0.017     Total estimated model params size (MB)\n"
     ]
    },
    {
     "name": "stdout",
     "output_type": "stream",
     "text": [
      "train_model result: {'val_loss': 16.472652435302734, 'hp_metric': 16.472652435302734}\n",
      "\n",
      "In fun(): config:\n",
      "{'act_fn': ReLU(),\n",
      " 'batch_size': 32,\n",
      " 'dropout_prob': 0.18567441685948113,\n",
      " 'epochs': 64,\n",
      " 'initialization': 'Default',\n",
      " 'l1': 64,\n",
      " 'lr_mult': 4.089366778039889,\n",
      " 'optimizer': 'Adagrad',\n",
      " 'patience': 16}\n",
      "LightDataModule: setup(). stage: None\n",
      "LightDataModule setup(): full_train_size: 0.7\n",
      "LightDataModule setup(): val_size: 0.21\n",
      "LightDataModule setup(): train_size: 0.49\n",
      "LightDataModule setup(): test_size: 0.3\n",
      "LightDataModule: setup(). stage: fit\n",
      "LightDataModule: setup(). stage: test\n",
      "LightDataModule: setup(). stage: predict\n",
      "train_model(): Test set size: 12552\n",
      "train_model(): Train set size: 20501\n",
      "train_model(): Batch size: 32\n",
      "LightDataModule: setup(). stage: TrainerFn.FITTING\n",
      "LightDataModule setup(): full_train_size: 0.7\n",
      "LightDataModule setup(): val_size: 0.21\n",
      "LightDataModule setup(): train_size: 0.49\n",
      "LightDataModule setup(): test_size: 0.3\n",
      "LightDataModule: setup(). stage: fit\n",
      "LightDataModule: val_dataloader(). Training set size: 8785\n",
      "LightDataModule: val_dataloader(). batch_size: 32\n",
      "LightDataModule: val_dataloader(). num_workers: 0\n",
      "LightDataModule: train_dataloader(). Training set size: 20501\n",
      "LightDataModule: train_dataloader(). batch_size: 32\n",
      "LightDataModule: train_dataloader(). num_workers: 0\n"
     ]
    },
    {
     "name": "stderr",
     "output_type": "stream",
     "text": [
      "`Trainer.fit` stopped: `max_epochs=64` reached.\n"
     ]
    },
    {
     "name": "stdout",
     "output_type": "stream",
     "text": [
      "LightDataModule: setup(). stage: TrainerFn.VALIDATING\n",
      "LightDataModule setup(): full_train_size: 0.7\n",
      "LightDataModule setup(): val_size: 0.21\n",
      "LightDataModule setup(): train_size: 0.49\n",
      "LightDataModule setup(): test_size: 0.3\n",
      "LightDataModule: val_dataloader(). Training set size: 8785\n",
      "LightDataModule: val_dataloader(). batch_size: 32\n",
      "LightDataModule: val_dataloader(). num_workers: 0\n"
     ]
    },
    {
     "data": {
      "text/html": [
       "<pre style=\"white-space:pre;overflow-x:auto;line-height:normal;font-family:Menlo,'DejaVu Sans Mono',consolas,'Courier New',monospace\">┏━━━━━━━━━━━━━━━━━━━━━━━━━━━┳━━━━━━━━━━━━━━━━━━━━━━━━━━━┓\n",
       "┃<span style=\"font-weight: bold\">      Validate metric      </span>┃<span style=\"font-weight: bold\">       DataLoader 0        </span>┃\n",
       "┡━━━━━━━━━━━━━━━━━━━━━━━━━━━╇━━━━━━━━━━━━━━━━━━━━━━━━━━━┩\n",
       "│<span style=\"color: #008080; text-decoration-color: #008080\">         hp_metric         </span>│<span style=\"color: #800080; text-decoration-color: #800080\">    18.945697784423828     </span>│\n",
       "│<span style=\"color: #008080; text-decoration-color: #008080\">         val_loss          </span>│<span style=\"color: #800080; text-decoration-color: #800080\">    18.945697784423828     </span>│\n",
       "└───────────────────────────┴───────────────────────────┘\n",
       "</pre>\n"
      ],
      "text/plain": [
       "┏━━━━━━━━━━━━━━━━━━━━━━━━━━━┳━━━━━━━━━━━━━━━━━━━━━━━━━━━┓\n",
       "┃\u001b[1m \u001b[0m\u001b[1m     Validate metric     \u001b[0m\u001b[1m \u001b[0m┃\u001b[1m \u001b[0m\u001b[1m      DataLoader 0       \u001b[0m\u001b[1m \u001b[0m┃\n",
       "┡━━━━━━━━━━━━━━━━━━━━━━━━━━━╇━━━━━━━━━━━━━━━━━━━━━━━━━━━┩\n",
       "│\u001b[36m \u001b[0m\u001b[36m        hp_metric        \u001b[0m\u001b[36m \u001b[0m│\u001b[35m \u001b[0m\u001b[35m   18.945697784423828    \u001b[0m\u001b[35m \u001b[0m│\n",
       "│\u001b[36m \u001b[0m\u001b[36m        val_loss         \u001b[0m\u001b[36m \u001b[0m│\u001b[35m \u001b[0m\u001b[35m   18.945697784423828    \u001b[0m\u001b[35m \u001b[0m│\n",
       "└───────────────────────────┴───────────────────────────┘\n"
      ]
     },
     "metadata": {},
     "output_type": "display_data"
    },
    {
     "name": "stderr",
     "output_type": "stream",
     "text": [
      "GPU available: True (mps), used: True\n"
     ]
    },
    {
     "name": "stderr",
     "output_type": "stream",
     "text": [
      "TPU available: False, using: 0 TPU cores\n"
     ]
    },
    {
     "name": "stderr",
     "output_type": "stream",
     "text": [
      "IPU available: False, using: 0 IPUs\n"
     ]
    },
    {
     "name": "stderr",
     "output_type": "stream",
     "text": [
      "HPU available: False, using: 0 HPUs\n"
     ]
    },
    {
     "name": "stderr",
     "output_type": "stream",
     "text": [
      "\n",
      "  | Name   | Type       | Params | In sizes | Out sizes\n",
      "-------------------------------------------------------------\n",
      "0 | layers | Sequential | 4.1 K  | [32, 6]  | [32, 1]  \n",
      "-------------------------------------------------------------\n",
      "4.1 K     Trainable params\n",
      "0         Non-trainable params\n",
      "4.1 K     Total params\n",
      "0.017     Total estimated model params size (MB)\n"
     ]
    },
    {
     "name": "stdout",
     "output_type": "stream",
     "text": [
      "train_model result: {'val_loss': 18.945697784423828, 'hp_metric': 18.945697784423828}\n",
      "\n",
      "In fun(): config:\n",
      "{'act_fn': ReLU(),\n",
      " 'batch_size': 32,\n",
      " 'dropout_prob': 0.18567441685948113,\n",
      " 'epochs': 64,\n",
      " 'initialization': 'Default',\n",
      " 'l1': 64,\n",
      " 'lr_mult': 4.089366778039889,\n",
      " 'optimizer': 'Adagrad',\n",
      " 'patience': 16}\n",
      "LightDataModule: setup(). stage: None\n",
      "LightDataModule setup(): full_train_size: 0.7\n",
      "LightDataModule setup(): val_size: 0.21\n",
      "LightDataModule setup(): train_size: 0.49\n",
      "LightDataModule setup(): test_size: 0.3\n",
      "LightDataModule: setup(). stage: fit\n",
      "LightDataModule: setup(). stage: test\n",
      "LightDataModule: setup(). stage: predict\n",
      "train_model(): Test set size: 12552\n",
      "train_model(): Train set size: 20501\n",
      "train_model(): Batch size: 32\n",
      "LightDataModule: setup(). stage: TrainerFn.FITTING\n",
      "LightDataModule setup(): full_train_size: 0.7\n",
      "LightDataModule setup(): val_size: 0.21\n",
      "LightDataModule setup(): train_size: 0.49\n",
      "LightDataModule setup(): test_size: 0.3\n",
      "LightDataModule: setup(). stage: fit\n",
      "LightDataModule: val_dataloader(). Training set size: 8785\n",
      "LightDataModule: val_dataloader(). batch_size: 32\n",
      "LightDataModule: val_dataloader(). num_workers: 0\n",
      "LightDataModule: train_dataloader(). Training set size: 20501\n",
      "LightDataModule: train_dataloader(). batch_size: 32\n",
      "LightDataModule: train_dataloader(). num_workers: 0\n"
     ]
    },
    {
     "name": "stderr",
     "output_type": "stream",
     "text": [
      "`Trainer.fit` stopped: `max_epochs=64` reached.\n"
     ]
    },
    {
     "name": "stdout",
     "output_type": "stream",
     "text": [
      "LightDataModule: setup(). stage: TrainerFn.VALIDATING\n",
      "LightDataModule setup(): full_train_size: 0.7\n",
      "LightDataModule setup(): val_size: 0.21\n",
      "LightDataModule setup(): train_size: 0.49\n",
      "LightDataModule setup(): test_size: 0.3\n",
      "LightDataModule: val_dataloader(). Training set size: 8785\n",
      "LightDataModule: val_dataloader(). batch_size: 32\n",
      "LightDataModule: val_dataloader(). num_workers: 0\n"
     ]
    },
    {
     "data": {
      "text/html": [
       "<pre style=\"white-space:pre;overflow-x:auto;line-height:normal;font-family:Menlo,'DejaVu Sans Mono',consolas,'Courier New',monospace\">┏━━━━━━━━━━━━━━━━━━━━━━━━━━━┳━━━━━━━━━━━━━━━━━━━━━━━━━━━┓\n",
       "┃<span style=\"font-weight: bold\">      Validate metric      </span>┃<span style=\"font-weight: bold\">       DataLoader 0        </span>┃\n",
       "┡━━━━━━━━━━━━━━━━━━━━━━━━━━━╇━━━━━━━━━━━━━━━━━━━━━━━━━━━┩\n",
       "│<span style=\"color: #008080; text-decoration-color: #008080\">         hp_metric         </span>│<span style=\"color: #800080; text-decoration-color: #800080\">    18.523624420166016     </span>│\n",
       "│<span style=\"color: #008080; text-decoration-color: #008080\">         val_loss          </span>│<span style=\"color: #800080; text-decoration-color: #800080\">    18.523624420166016     </span>│\n",
       "└───────────────────────────┴───────────────────────────┘\n",
       "</pre>\n"
      ],
      "text/plain": [
       "┏━━━━━━━━━━━━━━━━━━━━━━━━━━━┳━━━━━━━━━━━━━━━━━━━━━━━━━━━┓\n",
       "┃\u001b[1m \u001b[0m\u001b[1m     Validate metric     \u001b[0m\u001b[1m \u001b[0m┃\u001b[1m \u001b[0m\u001b[1m      DataLoader 0       \u001b[0m\u001b[1m \u001b[0m┃\n",
       "┡━━━━━━━━━━━━━━━━━━━━━━━━━━━╇━━━━━━━━━━━━━━━━━━━━━━━━━━━┩\n",
       "│\u001b[36m \u001b[0m\u001b[36m        hp_metric        \u001b[0m\u001b[36m \u001b[0m│\u001b[35m \u001b[0m\u001b[35m   18.523624420166016    \u001b[0m\u001b[35m \u001b[0m│\n",
       "│\u001b[36m \u001b[0m\u001b[36m        val_loss         \u001b[0m\u001b[36m \u001b[0m│\u001b[35m \u001b[0m\u001b[35m   18.523624420166016    \u001b[0m\u001b[35m \u001b[0m│\n",
       "└───────────────────────────┴───────────────────────────┘\n"
      ]
     },
     "metadata": {},
     "output_type": "display_data"
    },
    {
     "name": "stderr",
     "output_type": "stream",
     "text": [
      "GPU available: True (mps), used: True\n"
     ]
    },
    {
     "name": "stderr",
     "output_type": "stream",
     "text": [
      "TPU available: False, using: 0 TPU cores\n"
     ]
    },
    {
     "name": "stderr",
     "output_type": "stream",
     "text": [
      "IPU available: False, using: 0 IPUs\n"
     ]
    },
    {
     "name": "stderr",
     "output_type": "stream",
     "text": [
      "HPU available: False, using: 0 HPUs\n"
     ]
    },
    {
     "name": "stderr",
     "output_type": "stream",
     "text": [
      "\n",
      "  | Name   | Type       | Params | In sizes | Out sizes\n",
      "-------------------------------------------------------------\n",
      "0 | layers | Sequential | 59.5 K | [32, 6]  | [32, 1]  \n",
      "-------------------------------------------------------------\n",
      "59.5 K    Trainable params\n",
      "0         Non-trainable params\n",
      "59.5 K    Total params\n",
      "0.238     Total estimated model params size (MB)\n"
     ]
    },
    {
     "name": "stdout",
     "output_type": "stream",
     "text": [
      "train_model result: {'val_loss': 18.523624420166016, 'hp_metric': 18.523624420166016}\n",
      "\n",
      "In fun(): config:\n",
      "{'act_fn': ReLU(),\n",
      " 'batch_size': 32,\n",
      " 'dropout_prob': 0.13080206803532848,\n",
      " 'epochs': 256,\n",
      " 'initialization': 'Default',\n",
      " 'l1': 256,\n",
      " 'lr_mult': 2.0077669995722074,\n",
      " 'optimizer': 'Adamax',\n",
      " 'patience': 8}\n",
      "LightDataModule: setup(). stage: None\n",
      "LightDataModule setup(): full_train_size: 0.7\n",
      "LightDataModule setup(): val_size: 0.21\n",
      "LightDataModule setup(): train_size: 0.49\n",
      "LightDataModule setup(): test_size: 0.3\n",
      "LightDataModule: setup(). stage: fit\n",
      "LightDataModule: setup(). stage: test\n",
      "LightDataModule: setup(). stage: predict\n",
      "train_model(): Test set size: 12552\n",
      "train_model(): Train set size: 20501\n",
      "train_model(): Batch size: 32\n",
      "LightDataModule: setup(). stage: TrainerFn.FITTING\n",
      "LightDataModule setup(): full_train_size: 0.7\n",
      "LightDataModule setup(): val_size: 0.21\n",
      "LightDataModule setup(): train_size: 0.49\n",
      "LightDataModule setup(): test_size: 0.3\n",
      "LightDataModule: setup(). stage: fit\n",
      "LightDataModule: val_dataloader(). Training set size: 8785\n",
      "LightDataModule: val_dataloader(). batch_size: 32\n",
      "LightDataModule: val_dataloader(). num_workers: 0\n",
      "LightDataModule: train_dataloader(). Training set size: 20501\n",
      "LightDataModule: train_dataloader(). batch_size: 32\n",
      "LightDataModule: train_dataloader(). num_workers: 0\n"
     ]
    },
    {
     "name": "stdout",
     "output_type": "stream",
     "text": [
      "LightDataModule: setup(). stage: TrainerFn.VALIDATING\n",
      "LightDataModule setup(): full_train_size: 0.7\n",
      "LightDataModule setup(): val_size: 0.21\n",
      "LightDataModule setup(): train_size: 0.49\n",
      "LightDataModule setup(): test_size: 0.3\n",
      "LightDataModule: val_dataloader(). Training set size: 8785\n",
      "LightDataModule: val_dataloader(). batch_size: 32\n",
      "LightDataModule: val_dataloader(). num_workers: 0\n"
     ]
    },
    {
     "data": {
      "text/html": [
       "<pre style=\"white-space:pre;overflow-x:auto;line-height:normal;font-family:Menlo,'DejaVu Sans Mono',consolas,'Courier New',monospace\">┏━━━━━━━━━━━━━━━━━━━━━━━━━━━┳━━━━━━━━━━━━━━━━━━━━━━━━━━━┓\n",
       "┃<span style=\"font-weight: bold\">      Validate metric      </span>┃<span style=\"font-weight: bold\">       DataLoader 0        </span>┃\n",
       "┡━━━━━━━━━━━━━━━━━━━━━━━━━━━╇━━━━━━━━━━━━━━━━━━━━━━━━━━━┩\n",
       "│<span style=\"color: #008080; text-decoration-color: #008080\">         hp_metric         </span>│<span style=\"color: #800080; text-decoration-color: #800080\">    15.432626724243164     </span>│\n",
       "│<span style=\"color: #008080; text-decoration-color: #008080\">         val_loss          </span>│<span style=\"color: #800080; text-decoration-color: #800080\">    15.432626724243164     </span>│\n",
       "└───────────────────────────┴───────────────────────────┘\n",
       "</pre>\n"
      ],
      "text/plain": [
       "┏━━━━━━━━━━━━━━━━━━━━━━━━━━━┳━━━━━━━━━━━━━━━━━━━━━━━━━━━┓\n",
       "┃\u001b[1m \u001b[0m\u001b[1m     Validate metric     \u001b[0m\u001b[1m \u001b[0m┃\u001b[1m \u001b[0m\u001b[1m      DataLoader 0       \u001b[0m\u001b[1m \u001b[0m┃\n",
       "┡━━━━━━━━━━━━━━━━━━━━━━━━━━━╇━━━━━━━━━━━━━━━━━━━━━━━━━━━┩\n",
       "│\u001b[36m \u001b[0m\u001b[36m        hp_metric        \u001b[0m\u001b[36m \u001b[0m│\u001b[35m \u001b[0m\u001b[35m   15.432626724243164    \u001b[0m\u001b[35m \u001b[0m│\n",
       "│\u001b[36m \u001b[0m\u001b[36m        val_loss         \u001b[0m\u001b[36m \u001b[0m│\u001b[35m \u001b[0m\u001b[35m   15.432626724243164    \u001b[0m\u001b[35m \u001b[0m│\n",
       "└───────────────────────────┴───────────────────────────┘\n"
      ]
     },
     "metadata": {},
     "output_type": "display_data"
    },
    {
     "name": "stderr",
     "output_type": "stream",
     "text": [
      "GPU available: True (mps), used: True\n"
     ]
    },
    {
     "name": "stderr",
     "output_type": "stream",
     "text": [
      "TPU available: False, using: 0 TPU cores\n"
     ]
    },
    {
     "name": "stderr",
     "output_type": "stream",
     "text": [
      "IPU available: False, using: 0 IPUs\n"
     ]
    },
    {
     "name": "stderr",
     "output_type": "stream",
     "text": [
      "HPU available: False, using: 0 HPUs\n"
     ]
    },
    {
     "name": "stderr",
     "output_type": "stream",
     "text": [
      "\n",
      "  | Name   | Type       | Params | In sizes | Out sizes\n",
      "-------------------------------------------------------------\n",
      "0 | layers | Sequential | 59.5 K | [32, 6]  | [32, 1]  \n",
      "-------------------------------------------------------------\n",
      "59.5 K    Trainable params\n",
      "0         Non-trainable params\n",
      "59.5 K    Total params\n",
      "0.238     Total estimated model params size (MB)\n"
     ]
    },
    {
     "name": "stdout",
     "output_type": "stream",
     "text": [
      "train_model result: {'val_loss': 15.432626724243164, 'hp_metric': 15.432626724243164}\n",
      "\n",
      "In fun(): config:\n",
      "{'act_fn': ReLU(),\n",
      " 'batch_size': 32,\n",
      " 'dropout_prob': 0.13080206803532848,\n",
      " 'epochs': 256,\n",
      " 'initialization': 'Default',\n",
      " 'l1': 256,\n",
      " 'lr_mult': 2.0077669995722074,\n",
      " 'optimizer': 'Adamax',\n",
      " 'patience': 8}\n",
      "LightDataModule: setup(). stage: None\n",
      "LightDataModule setup(): full_train_size: 0.7\n",
      "LightDataModule setup(): val_size: 0.21\n",
      "LightDataModule setup(): train_size: 0.49\n",
      "LightDataModule setup(): test_size: 0.3\n",
      "LightDataModule: setup(). stage: fit\n",
      "LightDataModule: setup(). stage: test\n",
      "LightDataModule: setup(). stage: predict\n",
      "train_model(): Test set size: 12552\n",
      "train_model(): Train set size: 20501\n",
      "train_model(): Batch size: 32\n",
      "LightDataModule: setup(). stage: TrainerFn.FITTING\n",
      "LightDataModule setup(): full_train_size: 0.7\n",
      "LightDataModule setup(): val_size: 0.21\n",
      "LightDataModule setup(): train_size: 0.49\n",
      "LightDataModule setup(): test_size: 0.3\n",
      "LightDataModule: setup(). stage: fit\n",
      "LightDataModule: val_dataloader(). Training set size: 8785\n",
      "LightDataModule: val_dataloader(). batch_size: 32\n",
      "LightDataModule: val_dataloader(). num_workers: 0\n",
      "LightDataModule: train_dataloader(). Training set size: 20501\n",
      "LightDataModule: train_dataloader(). batch_size: 32\n",
      "LightDataModule: train_dataloader(). num_workers: 0\n"
     ]
    },
    {
     "name": "stdout",
     "output_type": "stream",
     "text": [
      "LightDataModule: setup(). stage: TrainerFn.VALIDATING\n",
      "LightDataModule setup(): full_train_size: 0.7\n",
      "LightDataModule setup(): val_size: 0.21\n",
      "LightDataModule setup(): train_size: 0.49\n",
      "LightDataModule setup(): test_size: 0.3\n",
      "LightDataModule: val_dataloader(). Training set size: 8785\n",
      "LightDataModule: val_dataloader(). batch_size: 32\n",
      "LightDataModule: val_dataloader(). num_workers: 0\n"
     ]
    },
    {
     "data": {
      "text/html": [
       "<pre style=\"white-space:pre;overflow-x:auto;line-height:normal;font-family:Menlo,'DejaVu Sans Mono',consolas,'Courier New',monospace\">┏━━━━━━━━━━━━━━━━━━━━━━━━━━━┳━━━━━━━━━━━━━━━━━━━━━━━━━━━┓\n",
       "┃<span style=\"font-weight: bold\">      Validate metric      </span>┃<span style=\"font-weight: bold\">       DataLoader 0        </span>┃\n",
       "┡━━━━━━━━━━━━━━━━━━━━━━━━━━━╇━━━━━━━━━━━━━━━━━━━━━━━━━━━┩\n",
       "│<span style=\"color: #008080; text-decoration-color: #008080\">         hp_metric         </span>│<span style=\"color: #800080; text-decoration-color: #800080\">    15.104686737060547     </span>│\n",
       "│<span style=\"color: #008080; text-decoration-color: #008080\">         val_loss          </span>│<span style=\"color: #800080; text-decoration-color: #800080\">    15.104686737060547     </span>│\n",
       "└───────────────────────────┴───────────────────────────┘\n",
       "</pre>\n"
      ],
      "text/plain": [
       "┏━━━━━━━━━━━━━━━━━━━━━━━━━━━┳━━━━━━━━━━━━━━━━━━━━━━━━━━━┓\n",
       "┃\u001b[1m \u001b[0m\u001b[1m     Validate metric     \u001b[0m\u001b[1m \u001b[0m┃\u001b[1m \u001b[0m\u001b[1m      DataLoader 0       \u001b[0m\u001b[1m \u001b[0m┃\n",
       "┡━━━━━━━━━━━━━━━━━━━━━━━━━━━╇━━━━━━━━━━━━━━━━━━━━━━━━━━━┩\n",
       "│\u001b[36m \u001b[0m\u001b[36m        hp_metric        \u001b[0m\u001b[36m \u001b[0m│\u001b[35m \u001b[0m\u001b[35m   15.104686737060547    \u001b[0m\u001b[35m \u001b[0m│\n",
       "│\u001b[36m \u001b[0m\u001b[36m        val_loss         \u001b[0m\u001b[36m \u001b[0m│\u001b[35m \u001b[0m\u001b[35m   15.104686737060547    \u001b[0m\u001b[35m \u001b[0m│\n",
       "└───────────────────────────┴───────────────────────────┘\n"
      ]
     },
     "metadata": {},
     "output_type": "display_data"
    },
    {
     "name": "stderr",
     "output_type": "stream",
     "text": [
      "GPU available: True (mps), used: True\n"
     ]
    },
    {
     "name": "stderr",
     "output_type": "stream",
     "text": [
      "TPU available: False, using: 0 TPU cores\n"
     ]
    },
    {
     "name": "stderr",
     "output_type": "stream",
     "text": [
      "IPU available: False, using: 0 IPUs\n"
     ]
    },
    {
     "name": "stderr",
     "output_type": "stream",
     "text": [
      "HPU available: False, using: 0 HPUs\n"
     ]
    },
    {
     "name": "stderr",
     "output_type": "stream",
     "text": [
      "\n",
      "  | Name   | Type       | Params | In sizes | Out sizes\n",
      "-------------------------------------------------------------\n",
      "0 | layers | Sequential | 15.4 K | [32, 6]  | [32, 1]  \n",
      "-------------------------------------------------------------\n",
      "15.4 K    Trainable params\n",
      "0         Non-trainable params\n",
      "15.4 K    Total params\n",
      "0.062     Total estimated model params size (MB)\n"
     ]
    },
    {
     "name": "stdout",
     "output_type": "stream",
     "text": [
      "train_model result: {'val_loss': 15.104686737060547, 'hp_metric': 15.104686737060547}\n",
      "\n",
      "In fun(): config:\n",
      "{'act_fn': LeakyReLU(),\n",
      " 'batch_size': 32,\n",
      " 'dropout_prob': 0.11983781472185623,\n",
      " 'epochs': 1024,\n",
      " 'initialization': 'Default',\n",
      " 'l1': 128,\n",
      " 'lr_mult': 0.7181246235247182,\n",
      " 'optimizer': 'Adadelta',\n",
      " 'patience': 16}\n",
      "LightDataModule: setup(). stage: None\n",
      "LightDataModule setup(): full_train_size: 0.7\n",
      "LightDataModule setup(): val_size: 0.21\n",
      "LightDataModule setup(): train_size: 0.49\n",
      "LightDataModule setup(): test_size: 0.3\n",
      "LightDataModule: setup(). stage: fit\n",
      "LightDataModule: setup(). stage: test\n",
      "LightDataModule: setup(). stage: predict\n",
      "train_model(): Test set size: 12552\n",
      "train_model(): Train set size: 20501\n",
      "train_model(): Batch size: 32\n",
      "LightDataModule: setup(). stage: TrainerFn.FITTING\n",
      "LightDataModule setup(): full_train_size: 0.7\n",
      "LightDataModule setup(): val_size: 0.21\n",
      "LightDataModule setup(): train_size: 0.49\n",
      "LightDataModule setup(): test_size: 0.3\n",
      "LightDataModule: setup(). stage: fit\n",
      "LightDataModule: val_dataloader(). Training set size: 8785\n",
      "LightDataModule: val_dataloader(). batch_size: 32\n",
      "LightDataModule: val_dataloader(). num_workers: 0\n",
      "LightDataModule: train_dataloader(). Training set size: 20501\n",
      "LightDataModule: train_dataloader(). batch_size: 32\n",
      "LightDataModule: train_dataloader(). num_workers: 0\n"
     ]
    },
    {
     "name": "stdout",
     "output_type": "stream",
     "text": [
      "LightDataModule: setup(). stage: TrainerFn.VALIDATING\n",
      "LightDataModule setup(): full_train_size: 0.7\n",
      "LightDataModule setup(): val_size: 0.21\n",
      "LightDataModule setup(): train_size: 0.49\n",
      "LightDataModule setup(): test_size: 0.3\n",
      "LightDataModule: val_dataloader(). Training set size: 8785\n",
      "LightDataModule: val_dataloader(). batch_size: 32\n",
      "LightDataModule: val_dataloader(). num_workers: 0\n"
     ]
    },
    {
     "data": {
      "text/html": [
       "<pre style=\"white-space:pre;overflow-x:auto;line-height:normal;font-family:Menlo,'DejaVu Sans Mono',consolas,'Courier New',monospace\">┏━━━━━━━━━━━━━━━━━━━━━━━━━━━┳━━━━━━━━━━━━━━━━━━━━━━━━━━━┓\n",
       "┃<span style=\"font-weight: bold\">      Validate metric      </span>┃<span style=\"font-weight: bold\">       DataLoader 0        </span>┃\n",
       "┡━━━━━━━━━━━━━━━━━━━━━━━━━━━╇━━━━━━━━━━━━━━━━━━━━━━━━━━━┩\n",
       "│<span style=\"color: #008080; text-decoration-color: #008080\">         hp_metric         </span>│<span style=\"color: #800080; text-decoration-color: #800080\">    16.840728759765625     </span>│\n",
       "│<span style=\"color: #008080; text-decoration-color: #008080\">         val_loss          </span>│<span style=\"color: #800080; text-decoration-color: #800080\">    16.840728759765625     </span>│\n",
       "└───────────────────────────┴───────────────────────────┘\n",
       "</pre>\n"
      ],
      "text/plain": [
       "┏━━━━━━━━━━━━━━━━━━━━━━━━━━━┳━━━━━━━━━━━━━━━━━━━━━━━━━━━┓\n",
       "┃\u001b[1m \u001b[0m\u001b[1m     Validate metric     \u001b[0m\u001b[1m \u001b[0m┃\u001b[1m \u001b[0m\u001b[1m      DataLoader 0       \u001b[0m\u001b[1m \u001b[0m┃\n",
       "┡━━━━━━━━━━━━━━━━━━━━━━━━━━━╇━━━━━━━━━━━━━━━━━━━━━━━━━━━┩\n",
       "│\u001b[36m \u001b[0m\u001b[36m        hp_metric        \u001b[0m\u001b[36m \u001b[0m│\u001b[35m \u001b[0m\u001b[35m   16.840728759765625    \u001b[0m\u001b[35m \u001b[0m│\n",
       "│\u001b[36m \u001b[0m\u001b[36m        val_loss         \u001b[0m\u001b[36m \u001b[0m│\u001b[35m \u001b[0m\u001b[35m   16.840728759765625    \u001b[0m\u001b[35m \u001b[0m│\n",
       "└───────────────────────────┴───────────────────────────┘\n"
      ]
     },
     "metadata": {},
     "output_type": "display_data"
    },
    {
     "name": "stderr",
     "output_type": "stream",
     "text": [
      "GPU available: True (mps), used: True\n"
     ]
    },
    {
     "name": "stderr",
     "output_type": "stream",
     "text": [
      "TPU available: False, using: 0 TPU cores\n"
     ]
    },
    {
     "name": "stderr",
     "output_type": "stream",
     "text": [
      "IPU available: False, using: 0 IPUs\n"
     ]
    },
    {
     "name": "stderr",
     "output_type": "stream",
     "text": [
      "HPU available: False, using: 0 HPUs\n"
     ]
    },
    {
     "name": "stderr",
     "output_type": "stream",
     "text": [
      "\n",
      "  | Name   | Type       | Params | In sizes | Out sizes\n",
      "-------------------------------------------------------------\n",
      "0 | layers | Sequential | 15.4 K | [32, 6]  | [32, 1]  \n",
      "-------------------------------------------------------------\n",
      "15.4 K    Trainable params\n",
      "0         Non-trainable params\n",
      "15.4 K    Total params\n",
      "0.062     Total estimated model params size (MB)\n"
     ]
    },
    {
     "name": "stdout",
     "output_type": "stream",
     "text": [
      "train_model result: {'val_loss': 16.840728759765625, 'hp_metric': 16.840728759765625}\n",
      "\n",
      "In fun(): config:\n",
      "{'act_fn': LeakyReLU(),\n",
      " 'batch_size': 32,\n",
      " 'dropout_prob': 0.11983781472185623,\n",
      " 'epochs': 1024,\n",
      " 'initialization': 'Default',\n",
      " 'l1': 128,\n",
      " 'lr_mult': 0.7181246235247182,\n",
      " 'optimizer': 'Adadelta',\n",
      " 'patience': 16}\n",
      "LightDataModule: setup(). stage: None\n",
      "LightDataModule setup(): full_train_size: 0.7\n",
      "LightDataModule setup(): val_size: 0.21\n",
      "LightDataModule setup(): train_size: 0.49\n",
      "LightDataModule setup(): test_size: 0.3\n",
      "LightDataModule: setup(). stage: fit\n",
      "LightDataModule: setup(). stage: test\n",
      "LightDataModule: setup(). stage: predict\n",
      "train_model(): Test set size: 12552\n",
      "train_model(): Train set size: 20501\n",
      "train_model(): Batch size: 32\n",
      "LightDataModule: setup(). stage: TrainerFn.FITTING\n",
      "LightDataModule setup(): full_train_size: 0.7\n",
      "LightDataModule setup(): val_size: 0.21\n",
      "LightDataModule setup(): train_size: 0.49\n",
      "LightDataModule setup(): test_size: 0.3\n",
      "LightDataModule: setup(). stage: fit\n",
      "LightDataModule: val_dataloader(). Training set size: 8785\n",
      "LightDataModule: val_dataloader(). batch_size: 32\n",
      "LightDataModule: val_dataloader(). num_workers: 0\n",
      "LightDataModule: train_dataloader(). Training set size: 20501\n",
      "LightDataModule: train_dataloader(). batch_size: 32\n",
      "LightDataModule: train_dataloader(). num_workers: 0\n"
     ]
    },
    {
     "name": "stdout",
     "output_type": "stream",
     "text": [
      "LightDataModule: setup(). stage: TrainerFn.VALIDATING\n",
      "LightDataModule setup(): full_train_size: 0.7\n",
      "LightDataModule setup(): val_size: 0.21\n",
      "LightDataModule setup(): train_size: 0.49\n",
      "LightDataModule setup(): test_size: 0.3\n",
      "LightDataModule: val_dataloader(). Training set size: 8785\n",
      "LightDataModule: val_dataloader(). batch_size: 32\n",
      "LightDataModule: val_dataloader(). num_workers: 0\n"
     ]
    },
    {
     "data": {
      "text/html": [
       "<pre style=\"white-space:pre;overflow-x:auto;line-height:normal;font-family:Menlo,'DejaVu Sans Mono',consolas,'Courier New',monospace\">┏━━━━━━━━━━━━━━━━━━━━━━━━━━━┳━━━━━━━━━━━━━━━━━━━━━━━━━━━┓\n",
       "┃<span style=\"font-weight: bold\">      Validate metric      </span>┃<span style=\"font-weight: bold\">       DataLoader 0        </span>┃\n",
       "┡━━━━━━━━━━━━━━━━━━━━━━━━━━━╇━━━━━━━━━━━━━━━━━━━━━━━━━━━┩\n",
       "│<span style=\"color: #008080; text-decoration-color: #008080\">         hp_metric         </span>│<span style=\"color: #800080; text-decoration-color: #800080\">     17.4989013671875      </span>│\n",
       "│<span style=\"color: #008080; text-decoration-color: #008080\">         val_loss          </span>│<span style=\"color: #800080; text-decoration-color: #800080\">     17.4989013671875      </span>│\n",
       "└───────────────────────────┴───────────────────────────┘\n",
       "</pre>\n"
      ],
      "text/plain": [
       "┏━━━━━━━━━━━━━━━━━━━━━━━━━━━┳━━━━━━━━━━━━━━━━━━━━━━━━━━━┓\n",
       "┃\u001b[1m \u001b[0m\u001b[1m     Validate metric     \u001b[0m\u001b[1m \u001b[0m┃\u001b[1m \u001b[0m\u001b[1m      DataLoader 0       \u001b[0m\u001b[1m \u001b[0m┃\n",
       "┡━━━━━━━━━━━━━━━━━━━━━━━━━━━╇━━━━━━━━━━━━━━━━━━━━━━━━━━━┩\n",
       "│\u001b[36m \u001b[0m\u001b[36m        hp_metric        \u001b[0m\u001b[36m \u001b[0m│\u001b[35m \u001b[0m\u001b[35m    17.4989013671875     \u001b[0m\u001b[35m \u001b[0m│\n",
       "│\u001b[36m \u001b[0m\u001b[36m        val_loss         \u001b[0m\u001b[36m \u001b[0m│\u001b[35m \u001b[0m\u001b[35m    17.4989013671875     \u001b[0m\u001b[35m \u001b[0m│\n",
       "└───────────────────────────┴───────────────────────────┘\n"
      ]
     },
     "metadata": {},
     "output_type": "display_data"
    },
    {
     "name": "stderr",
     "output_type": "stream",
     "text": [
      "GPU available: True (mps), used: True\n"
     ]
    },
    {
     "name": "stderr",
     "output_type": "stream",
     "text": [
      "TPU available: False, using: 0 TPU cores\n"
     ]
    },
    {
     "name": "stderr",
     "output_type": "stream",
     "text": [
      "IPU available: False, using: 0 IPUs\n"
     ]
    },
    {
     "name": "stderr",
     "output_type": "stream",
     "text": [
      "HPU available: False, using: 0 HPUs\n"
     ]
    },
    {
     "name": "stderr",
     "output_type": "stream",
     "text": [
      "\n",
      "  | Name   | Type       | Params | In sizes | Out sizes\n",
      "-------------------------------------------------------------\n",
      "0 | layers | Sequential | 59.5 K | [16, 6]  | [16, 1]  \n",
      "-------------------------------------------------------------\n",
      "59.5 K    Trainable params\n",
      "0         Non-trainable params\n",
      "59.5 K    Total params\n",
      "0.238     Total estimated model params size (MB)\n"
     ]
    },
    {
     "name": "stdout",
     "output_type": "stream",
     "text": [
      "train_model result: {'val_loss': 17.4989013671875, 'hp_metric': 17.4989013671875}\n",
      "\n",
      "In fun(): config:\n",
      "{'act_fn': LeakyReLU(),\n",
      " 'batch_size': 16,\n",
      " 'dropout_prob': 0.09366384017851244,\n",
      " 'epochs': 64,\n",
      " 'initialization': 'Default',\n",
      " 'l1': 256,\n",
      " 'lr_mult': 3.301460285082441,\n",
      " 'optimizer': 'Adadelta',\n",
      " 'patience': 32}\n",
      "LightDataModule: setup(). stage: None\n",
      "LightDataModule setup(): full_train_size: 0.7\n",
      "LightDataModule setup(): val_size: 0.21\n",
      "LightDataModule setup(): train_size: 0.49\n",
      "LightDataModule setup(): test_size: 0.3\n",
      "LightDataModule: setup(). stage: fit\n",
      "LightDataModule: setup(). stage: test\n",
      "LightDataModule: setup(). stage: predict\n",
      "train_model(): Test set size: 12552\n",
      "train_model(): Train set size: 20501\n",
      "train_model(): Batch size: 16\n",
      "LightDataModule: setup(). stage: TrainerFn.FITTING\n",
      "LightDataModule setup(): full_train_size: 0.7\n",
      "LightDataModule setup(): val_size: 0.21\n",
      "LightDataModule setup(): train_size: 0.49\n",
      "LightDataModule setup(): test_size: 0.3\n",
      "LightDataModule: setup(). stage: fit\n",
      "LightDataModule: val_dataloader(). Training set size: 8785\n",
      "LightDataModule: val_dataloader(). batch_size: 16\n",
      "LightDataModule: val_dataloader(). num_workers: 0\n",
      "LightDataModule: train_dataloader(). Training set size: 20501\n",
      "LightDataModule: train_dataloader(). batch_size: 16\n",
      "LightDataModule: train_dataloader(). num_workers: 0\n"
     ]
    },
    {
     "name": "stderr",
     "output_type": "stream",
     "text": [
      "`Trainer.fit` stopped: `max_epochs=64` reached.\n"
     ]
    },
    {
     "name": "stdout",
     "output_type": "stream",
     "text": [
      "LightDataModule: setup(). stage: TrainerFn.VALIDATING\n",
      "LightDataModule setup(): full_train_size: 0.7\n",
      "LightDataModule setup(): val_size: 0.21\n",
      "LightDataModule setup(): train_size: 0.49\n",
      "LightDataModule setup(): test_size: 0.3\n",
      "LightDataModule: val_dataloader(). Training set size: 8785\n",
      "LightDataModule: val_dataloader(). batch_size: 16\n",
      "LightDataModule: val_dataloader(). num_workers: 0\n"
     ]
    },
    {
     "data": {
      "text/html": [
       "<pre style=\"white-space:pre;overflow-x:auto;line-height:normal;font-family:Menlo,'DejaVu Sans Mono',consolas,'Courier New',monospace\">┏━━━━━━━━━━━━━━━━━━━━━━━━━━━┳━━━━━━━━━━━━━━━━━━━━━━━━━━━┓\n",
       "┃<span style=\"font-weight: bold\">      Validate metric      </span>┃<span style=\"font-weight: bold\">       DataLoader 0        </span>┃\n",
       "┡━━━━━━━━━━━━━━━━━━━━━━━━━━━╇━━━━━━━━━━━━━━━━━━━━━━━━━━━┩\n",
       "│<span style=\"color: #008080; text-decoration-color: #008080\">         hp_metric         </span>│<span style=\"color: #800080; text-decoration-color: #800080\">     22.83207893371582     </span>│\n",
       "│<span style=\"color: #008080; text-decoration-color: #008080\">         val_loss          </span>│<span style=\"color: #800080; text-decoration-color: #800080\">     22.83207893371582     </span>│\n",
       "└───────────────────────────┴───────────────────────────┘\n",
       "</pre>\n"
      ],
      "text/plain": [
       "┏━━━━━━━━━━━━━━━━━━━━━━━━━━━┳━━━━━━━━━━━━━━━━━━━━━━━━━━━┓\n",
       "┃\u001b[1m \u001b[0m\u001b[1m     Validate metric     \u001b[0m\u001b[1m \u001b[0m┃\u001b[1m \u001b[0m\u001b[1m      DataLoader 0       \u001b[0m\u001b[1m \u001b[0m┃\n",
       "┡━━━━━━━━━━━━━━━━━━━━━━━━━━━╇━━━━━━━━━━━━━━━━━━━━━━━━━━━┩\n",
       "│\u001b[36m \u001b[0m\u001b[36m        hp_metric        \u001b[0m\u001b[36m \u001b[0m│\u001b[35m \u001b[0m\u001b[35m    22.83207893371582    \u001b[0m\u001b[35m \u001b[0m│\n",
       "│\u001b[36m \u001b[0m\u001b[36m        val_loss         \u001b[0m\u001b[36m \u001b[0m│\u001b[35m \u001b[0m\u001b[35m    22.83207893371582    \u001b[0m\u001b[35m \u001b[0m│\n",
       "└───────────────────────────┴───────────────────────────┘\n"
      ]
     },
     "metadata": {},
     "output_type": "display_data"
    },
    {
     "name": "stderr",
     "output_type": "stream",
     "text": [
      "GPU available: True (mps), used: True\n"
     ]
    },
    {
     "name": "stderr",
     "output_type": "stream",
     "text": [
      "TPU available: False, using: 0 TPU cores\n"
     ]
    },
    {
     "name": "stderr",
     "output_type": "stream",
     "text": [
      "IPU available: False, using: 0 IPUs\n"
     ]
    },
    {
     "name": "stderr",
     "output_type": "stream",
     "text": [
      "HPU available: False, using: 0 HPUs\n"
     ]
    },
    {
     "name": "stderr",
     "output_type": "stream",
     "text": [
      "\n",
      "  | Name   | Type       | Params | In sizes | Out sizes\n",
      "-------------------------------------------------------------\n",
      "0 | layers | Sequential | 59.5 K | [16, 6]  | [16, 1]  \n",
      "-------------------------------------------------------------\n",
      "59.5 K    Trainable params\n",
      "0         Non-trainable params\n",
      "59.5 K    Total params\n",
      "0.238     Total estimated model params size (MB)\n"
     ]
    },
    {
     "name": "stdout",
     "output_type": "stream",
     "text": [
      "train_model result: {'val_loss': 22.83207893371582, 'hp_metric': 22.83207893371582}\n",
      "\n",
      "In fun(): config:\n",
      "{'act_fn': LeakyReLU(),\n",
      " 'batch_size': 16,\n",
      " 'dropout_prob': 0.09366384017851244,\n",
      " 'epochs': 64,\n",
      " 'initialization': 'Default',\n",
      " 'l1': 256,\n",
      " 'lr_mult': 3.301460285082441,\n",
      " 'optimizer': 'Adadelta',\n",
      " 'patience': 32}\n",
      "LightDataModule: setup(). stage: None\n",
      "LightDataModule setup(): full_train_size: 0.7\n",
      "LightDataModule setup(): val_size: 0.21\n",
      "LightDataModule setup(): train_size: 0.49\n",
      "LightDataModule setup(): test_size: 0.3\n",
      "LightDataModule: setup(). stage: fit\n",
      "LightDataModule: setup(). stage: test\n",
      "LightDataModule: setup(). stage: predict\n",
      "train_model(): Test set size: 12552\n",
      "train_model(): Train set size: 20501\n",
      "train_model(): Batch size: 16\n",
      "LightDataModule: setup(). stage: TrainerFn.FITTING\n",
      "LightDataModule setup(): full_train_size: 0.7\n",
      "LightDataModule setup(): val_size: 0.21\n",
      "LightDataModule setup(): train_size: 0.49\n",
      "LightDataModule setup(): test_size: 0.3\n",
      "LightDataModule: setup(). stage: fit\n",
      "LightDataModule: val_dataloader(). Training set size: 8785\n",
      "LightDataModule: val_dataloader(). batch_size: 16\n",
      "LightDataModule: val_dataloader(). num_workers: 0\n",
      "LightDataModule: train_dataloader(). Training set size: 20501\n",
      "LightDataModule: train_dataloader(). batch_size: 16\n",
      "LightDataModule: train_dataloader(). num_workers: 0\n"
     ]
    },
    {
     "name": "stderr",
     "output_type": "stream",
     "text": [
      "`Trainer.fit` stopped: `max_epochs=64` reached.\n"
     ]
    },
    {
     "name": "stdout",
     "output_type": "stream",
     "text": [
      "LightDataModule: setup(). stage: TrainerFn.VALIDATING\n",
      "LightDataModule setup(): full_train_size: 0.7\n",
      "LightDataModule setup(): val_size: 0.21\n",
      "LightDataModule setup(): train_size: 0.49\n",
      "LightDataModule setup(): test_size: 0.3\n",
      "LightDataModule: val_dataloader(). Training set size: 8785\n",
      "LightDataModule: val_dataloader(). batch_size: 16\n",
      "LightDataModule: val_dataloader(). num_workers: 0\n"
     ]
    },
    {
     "data": {
      "text/html": [
       "<pre style=\"white-space:pre;overflow-x:auto;line-height:normal;font-family:Menlo,'DejaVu Sans Mono',consolas,'Courier New',monospace\">┏━━━━━━━━━━━━━━━━━━━━━━━━━━━┳━━━━━━━━━━━━━━━━━━━━━━━━━━━┓\n",
       "┃<span style=\"font-weight: bold\">      Validate metric      </span>┃<span style=\"font-weight: bold\">       DataLoader 0        </span>┃\n",
       "┡━━━━━━━━━━━━━━━━━━━━━━━━━━━╇━━━━━━━━━━━━━━━━━━━━━━━━━━━┩\n",
       "│<span style=\"color: #008080; text-decoration-color: #008080\">         hp_metric         </span>│<span style=\"color: #800080; text-decoration-color: #800080\">    22.913419723510742     </span>│\n",
       "│<span style=\"color: #008080; text-decoration-color: #008080\">         val_loss          </span>│<span style=\"color: #800080; text-decoration-color: #800080\">    22.913419723510742     </span>│\n",
       "└───────────────────────────┴───────────────────────────┘\n",
       "</pre>\n"
      ],
      "text/plain": [
       "┏━━━━━━━━━━━━━━━━━━━━━━━━━━━┳━━━━━━━━━━━━━━━━━━━━━━━━━━━┓\n",
       "┃\u001b[1m \u001b[0m\u001b[1m     Validate metric     \u001b[0m\u001b[1m \u001b[0m┃\u001b[1m \u001b[0m\u001b[1m      DataLoader 0       \u001b[0m\u001b[1m \u001b[0m┃\n",
       "┡━━━━━━━━━━━━━━━━━━━━━━━━━━━╇━━━━━━━━━━━━━━━━━━━━━━━━━━━┩\n",
       "│\u001b[36m \u001b[0m\u001b[36m        hp_metric        \u001b[0m\u001b[36m \u001b[0m│\u001b[35m \u001b[0m\u001b[35m   22.913419723510742    \u001b[0m\u001b[35m \u001b[0m│\n",
       "│\u001b[36m \u001b[0m\u001b[36m        val_loss         \u001b[0m\u001b[36m \u001b[0m│\u001b[35m \u001b[0m\u001b[35m   22.913419723510742    \u001b[0m\u001b[35m \u001b[0m│\n",
       "└───────────────────────────┴───────────────────────────┘\n"
      ]
     },
     "metadata": {},
     "output_type": "display_data"
    },
    {
     "name": "stderr",
     "output_type": "stream",
     "text": [
      "GPU available: True (mps), used: True\n"
     ]
    },
    {
     "name": "stderr",
     "output_type": "stream",
     "text": [
      "TPU available: False, using: 0 TPU cores\n"
     ]
    },
    {
     "name": "stderr",
     "output_type": "stream",
     "text": [
      "IPU available: False, using: 0 IPUs\n"
     ]
    },
    {
     "name": "stderr",
     "output_type": "stream",
     "text": [
      "HPU available: False, using: 0 HPUs\n"
     ]
    },
    {
     "name": "stderr",
     "output_type": "stream",
     "text": [
      "\n",
      "  | Name   | Type       | Params | In sizes | Out sizes\n",
      "-------------------------------------------------------------\n",
      "0 | layers | Sequential | 15.4 K | [16, 6]  | [16, 1]  \n",
      "-------------------------------------------------------------\n",
      "15.4 K    Trainable params\n",
      "0         Non-trainable params\n",
      "15.4 K    Total params\n",
      "0.062     Total estimated model params size (MB)\n"
     ]
    },
    {
     "name": "stdout",
     "output_type": "stream",
     "text": [
      "train_model result: {'val_loss': 22.913419723510742, 'hp_metric': 22.913419723510742}\n",
      "\n",
      "In fun(): config:\n",
      "{'act_fn': LeakyReLU(),\n",
      " 'batch_size': 16,\n",
      " 'dropout_prob': 0.03540914713540524,\n",
      " 'epochs': 32,\n",
      " 'initialization': 'Default',\n",
      " 'l1': 128,\n",
      " 'lr_mult': 3.7811076839948083,\n",
      " 'optimizer': 'Adamax',\n",
      " 'patience': 32}\n",
      "LightDataModule: setup(). stage: None\n",
      "LightDataModule setup(): full_train_size: 0.7\n",
      "LightDataModule setup(): val_size: 0.21\n",
      "LightDataModule setup(): train_size: 0.49\n",
      "LightDataModule setup(): test_size: 0.3\n",
      "LightDataModule: setup(). stage: fit\n",
      "LightDataModule: setup(). stage: test\n",
      "LightDataModule: setup(). stage: predict\n",
      "train_model(): Test set size: 12552\n",
      "train_model(): Train set size: 20501\n",
      "train_model(): Batch size: 16\n",
      "LightDataModule: setup(). stage: TrainerFn.FITTING\n",
      "LightDataModule setup(): full_train_size: 0.7\n",
      "LightDataModule setup(): val_size: 0.21\n",
      "LightDataModule setup(): train_size: 0.49\n",
      "LightDataModule setup(): test_size: 0.3\n",
      "LightDataModule: setup(). stage: fit\n",
      "LightDataModule: val_dataloader(). Training set size: 8785\n",
      "LightDataModule: val_dataloader(). batch_size: 16\n",
      "LightDataModule: val_dataloader(). num_workers: 0\n",
      "LightDataModule: train_dataloader(). Training set size: 20501\n",
      "LightDataModule: train_dataloader(). batch_size: 16\n",
      "LightDataModule: train_dataloader(). num_workers: 0\n"
     ]
    },
    {
     "name": "stderr",
     "output_type": "stream",
     "text": [
      "`Trainer.fit` stopped: `max_epochs=32` reached.\n"
     ]
    },
    {
     "name": "stdout",
     "output_type": "stream",
     "text": [
      "LightDataModule: setup(). stage: TrainerFn.VALIDATING\n",
      "LightDataModule setup(): full_train_size: 0.7\n",
      "LightDataModule setup(): val_size: 0.21\n",
      "LightDataModule setup(): train_size: 0.49\n",
      "LightDataModule setup(): test_size: 0.3\n",
      "LightDataModule: val_dataloader(). Training set size: 8785\n",
      "LightDataModule: val_dataloader(). batch_size: 16\n",
      "LightDataModule: val_dataloader(). num_workers: 0\n"
     ]
    },
    {
     "data": {
      "text/html": [
       "<pre style=\"white-space:pre;overflow-x:auto;line-height:normal;font-family:Menlo,'DejaVu Sans Mono',consolas,'Courier New',monospace\">┏━━━━━━━━━━━━━━━━━━━━━━━━━━━┳━━━━━━━━━━━━━━━━━━━━━━━━━━━┓\n",
       "┃<span style=\"font-weight: bold\">      Validate metric      </span>┃<span style=\"font-weight: bold\">       DataLoader 0        </span>┃\n",
       "┡━━━━━━━━━━━━━━━━━━━━━━━━━━━╇━━━━━━━━━━━━━━━━━━━━━━━━━━━┩\n",
       "│<span style=\"color: #008080; text-decoration-color: #008080\">         hp_metric         </span>│<span style=\"color: #800080; text-decoration-color: #800080\">    17.299013137817383     </span>│\n",
       "│<span style=\"color: #008080; text-decoration-color: #008080\">         val_loss          </span>│<span style=\"color: #800080; text-decoration-color: #800080\">    17.299013137817383     </span>│\n",
       "└───────────────────────────┴───────────────────────────┘\n",
       "</pre>\n"
      ],
      "text/plain": [
       "┏━━━━━━━━━━━━━━━━━━━━━━━━━━━┳━━━━━━━━━━━━━━━━━━━━━━━━━━━┓\n",
       "┃\u001b[1m \u001b[0m\u001b[1m     Validate metric     \u001b[0m\u001b[1m \u001b[0m┃\u001b[1m \u001b[0m\u001b[1m      DataLoader 0       \u001b[0m\u001b[1m \u001b[0m┃\n",
       "┡━━━━━━━━━━━━━━━━━━━━━━━━━━━╇━━━━━━━━━━━━━━━━━━━━━━━━━━━┩\n",
       "│\u001b[36m \u001b[0m\u001b[36m        hp_metric        \u001b[0m\u001b[36m \u001b[0m│\u001b[35m \u001b[0m\u001b[35m   17.299013137817383    \u001b[0m\u001b[35m \u001b[0m│\n",
       "│\u001b[36m \u001b[0m\u001b[36m        val_loss         \u001b[0m\u001b[36m \u001b[0m│\u001b[35m \u001b[0m\u001b[35m   17.299013137817383    \u001b[0m\u001b[35m \u001b[0m│\n",
       "└───────────────────────────┴───────────────────────────┘\n"
      ]
     },
     "metadata": {},
     "output_type": "display_data"
    },
    {
     "name": "stderr",
     "output_type": "stream",
     "text": [
      "GPU available: True (mps), used: True\n"
     ]
    },
    {
     "name": "stderr",
     "output_type": "stream",
     "text": [
      "TPU available: False, using: 0 TPU cores\n"
     ]
    },
    {
     "name": "stderr",
     "output_type": "stream",
     "text": [
      "IPU available: False, using: 0 IPUs\n"
     ]
    },
    {
     "name": "stderr",
     "output_type": "stream",
     "text": [
      "HPU available: False, using: 0 HPUs\n"
     ]
    },
    {
     "name": "stderr",
     "output_type": "stream",
     "text": [
      "\n",
      "  | Name   | Type       | Params | In sizes | Out sizes\n",
      "-------------------------------------------------------------\n",
      "0 | layers | Sequential | 15.4 K | [16, 6]  | [16, 1]  \n",
      "-------------------------------------------------------------\n",
      "15.4 K    Trainable params\n",
      "0         Non-trainable params\n",
      "15.4 K    Total params\n",
      "0.062     Total estimated model params size (MB)\n"
     ]
    },
    {
     "name": "stdout",
     "output_type": "stream",
     "text": [
      "train_model result: {'val_loss': 17.299013137817383, 'hp_metric': 17.299013137817383}\n",
      "\n",
      "In fun(): config:\n",
      "{'act_fn': LeakyReLU(),\n",
      " 'batch_size': 16,\n",
      " 'dropout_prob': 0.03540914713540524,\n",
      " 'epochs': 32,\n",
      " 'initialization': 'Default',\n",
      " 'l1': 128,\n",
      " 'lr_mult': 3.7811076839948083,\n",
      " 'optimizer': 'Adamax',\n",
      " 'patience': 32}\n",
      "LightDataModule: setup(). stage: None\n",
      "LightDataModule setup(): full_train_size: 0.7\n",
      "LightDataModule setup(): val_size: 0.21\n",
      "LightDataModule setup(): train_size: 0.49\n",
      "LightDataModule setup(): test_size: 0.3\n",
      "LightDataModule: setup(). stage: fit\n",
      "LightDataModule: setup(). stage: test\n",
      "LightDataModule: setup(). stage: predict\n",
      "train_model(): Test set size: 12552\n",
      "train_model(): Train set size: 20501\n",
      "train_model(): Batch size: 16\n",
      "LightDataModule: setup(). stage: TrainerFn.FITTING\n",
      "LightDataModule setup(): full_train_size: 0.7\n",
      "LightDataModule setup(): val_size: 0.21\n",
      "LightDataModule setup(): train_size: 0.49\n",
      "LightDataModule setup(): test_size: 0.3\n",
      "LightDataModule: setup(). stage: fit\n",
      "LightDataModule: val_dataloader(). Training set size: 8785\n",
      "LightDataModule: val_dataloader(). batch_size: 16\n",
      "LightDataModule: val_dataloader(). num_workers: 0\n",
      "LightDataModule: train_dataloader(). Training set size: 20501\n",
      "LightDataModule: train_dataloader(). batch_size: 16\n",
      "LightDataModule: train_dataloader(). num_workers: 0\n"
     ]
    },
    {
     "name": "stderr",
     "output_type": "stream",
     "text": [
      "`Trainer.fit` stopped: `max_epochs=32` reached.\n"
     ]
    },
    {
     "name": "stdout",
     "output_type": "stream",
     "text": [
      "LightDataModule: setup(). stage: TrainerFn.VALIDATING\n",
      "LightDataModule setup(): full_train_size: 0.7\n",
      "LightDataModule setup(): val_size: 0.21\n",
      "LightDataModule setup(): train_size: 0.49\n",
      "LightDataModule setup(): test_size: 0.3\n",
      "LightDataModule: val_dataloader(). Training set size: 8785\n",
      "LightDataModule: val_dataloader(). batch_size: 16\n",
      "LightDataModule: val_dataloader(). num_workers: 0\n"
     ]
    },
    {
     "data": {
      "text/html": [
       "<pre style=\"white-space:pre;overflow-x:auto;line-height:normal;font-family:Menlo,'DejaVu Sans Mono',consolas,'Courier New',monospace\">┏━━━━━━━━━━━━━━━━━━━━━━━━━━━┳━━━━━━━━━━━━━━━━━━━━━━━━━━━┓\n",
       "┃<span style=\"font-weight: bold\">      Validate metric      </span>┃<span style=\"font-weight: bold\">       DataLoader 0        </span>┃\n",
       "┡━━━━━━━━━━━━━━━━━━━━━━━━━━━╇━━━━━━━━━━━━━━━━━━━━━━━━━━━┩\n",
       "│<span style=\"color: #008080; text-decoration-color: #008080\">         hp_metric         </span>│<span style=\"color: #800080; text-decoration-color: #800080\">     17.1027774810791      </span>│\n",
       "│<span style=\"color: #008080; text-decoration-color: #008080\">         val_loss          </span>│<span style=\"color: #800080; text-decoration-color: #800080\">     17.1027774810791      </span>│\n",
       "└───────────────────────────┴───────────────────────────┘\n",
       "</pre>\n"
      ],
      "text/plain": [
       "┏━━━━━━━━━━━━━━━━━━━━━━━━━━━┳━━━━━━━━━━━━━━━━━━━━━━━━━━━┓\n",
       "┃\u001b[1m \u001b[0m\u001b[1m     Validate metric     \u001b[0m\u001b[1m \u001b[0m┃\u001b[1m \u001b[0m\u001b[1m      DataLoader 0       \u001b[0m\u001b[1m \u001b[0m┃\n",
       "┡━━━━━━━━━━━━━━━━━━━━━━━━━━━╇━━━━━━━━━━━━━━━━━━━━━━━━━━━┩\n",
       "│\u001b[36m \u001b[0m\u001b[36m        hp_metric        \u001b[0m\u001b[36m \u001b[0m│\u001b[35m \u001b[0m\u001b[35m    17.1027774810791     \u001b[0m\u001b[35m \u001b[0m│\n",
       "│\u001b[36m \u001b[0m\u001b[36m        val_loss         \u001b[0m\u001b[36m \u001b[0m│\u001b[35m \u001b[0m\u001b[35m    17.1027774810791     \u001b[0m\u001b[35m \u001b[0m│\n",
       "└───────────────────────────┴───────────────────────────┘\n"
      ]
     },
     "metadata": {},
     "output_type": "display_data"
    },
    {
     "name": "stderr",
     "output_type": "stream",
     "text": [
      "GPU available: True (mps), used: True\n"
     ]
    },
    {
     "name": "stderr",
     "output_type": "stream",
     "text": [
      "TPU available: False, using: 0 TPU cores\n"
     ]
    },
    {
     "name": "stderr",
     "output_type": "stream",
     "text": [
      "IPU available: False, using: 0 IPUs\n"
     ]
    },
    {
     "name": "stderr",
     "output_type": "stream",
     "text": [
      "HPU available: False, using: 0 HPUs\n"
     ]
    },
    {
     "name": "stderr",
     "output_type": "stream",
     "text": [
      "\n",
      "  | Name   | Type       | Params | In sizes | Out sizes\n",
      "-------------------------------------------------------------\n",
      "0 | layers | Sequential | 15.4 K | [16, 6]  | [16, 1]  \n",
      "-------------------------------------------------------------\n",
      "15.4 K    Trainable params\n",
      "0         Non-trainable params\n",
      "15.4 K    Total params\n",
      "0.062     Total estimated model params size (MB)\n"
     ]
    },
    {
     "name": "stdout",
     "output_type": "stream",
     "text": [
      "train_model result: {'val_loss': 17.1027774810791, 'hp_metric': 17.1027774810791}\n",
      "\n",
      "In fun(): config:\n",
      "{'act_fn': ReLU(),\n",
      " 'batch_size': 16,\n",
      " 'dropout_prob': 0.23933451103594558,\n",
      " 'epochs': 128,\n",
      " 'initialization': 'Default',\n",
      " 'l1': 128,\n",
      " 'lr_mult': 0.9693203335370014,\n",
      " 'optimizer': 'Adamax',\n",
      " 'patience': 8}\n",
      "LightDataModule: setup(). stage: None\n",
      "LightDataModule setup(): full_train_size: 0.7\n",
      "LightDataModule setup(): val_size: 0.21\n",
      "LightDataModule setup(): train_size: 0.49\n",
      "LightDataModule setup(): test_size: 0.3\n",
      "LightDataModule: setup(). stage: fit\n",
      "LightDataModule: setup(). stage: test\n",
      "LightDataModule: setup(). stage: predict\n",
      "train_model(): Test set size: 12552\n",
      "train_model(): Train set size: 20501\n",
      "train_model(): Batch size: 16\n",
      "LightDataModule: setup(). stage: TrainerFn.FITTING\n",
      "LightDataModule setup(): full_train_size: 0.7\n",
      "LightDataModule setup(): val_size: 0.21\n",
      "LightDataModule setup(): train_size: 0.49\n",
      "LightDataModule setup(): test_size: 0.3\n",
      "LightDataModule: setup(). stage: fit\n",
      "LightDataModule: val_dataloader(). Training set size: 8785\n",
      "LightDataModule: val_dataloader(). batch_size: 16\n",
      "LightDataModule: val_dataloader(). num_workers: 0\n",
      "LightDataModule: train_dataloader(). Training set size: 20501\n",
      "LightDataModule: train_dataloader(). batch_size: 16\n",
      "LightDataModule: train_dataloader(). num_workers: 0\n"
     ]
    },
    {
     "name": "stdout",
     "output_type": "stream",
     "text": [
      "LightDataModule: setup(). stage: TrainerFn.VALIDATING\n",
      "LightDataModule setup(): full_train_size: 0.7\n",
      "LightDataModule setup(): val_size: 0.21\n",
      "LightDataModule setup(): train_size: 0.49\n",
      "LightDataModule setup(): test_size: 0.3\n",
      "LightDataModule: val_dataloader(). Training set size: 8785\n",
      "LightDataModule: val_dataloader(). batch_size: 16\n",
      "LightDataModule: val_dataloader(). num_workers: 0\n"
     ]
    },
    {
     "data": {
      "text/html": [
       "<pre style=\"white-space:pre;overflow-x:auto;line-height:normal;font-family:Menlo,'DejaVu Sans Mono',consolas,'Courier New',monospace\">┏━━━━━━━━━━━━━━━━━━━━━━━━━━━┳━━━━━━━━━━━━━━━━━━━━━━━━━━━┓\n",
       "┃<span style=\"font-weight: bold\">      Validate metric      </span>┃<span style=\"font-weight: bold\">       DataLoader 0        </span>┃\n",
       "┡━━━━━━━━━━━━━━━━━━━━━━━━━━━╇━━━━━━━━━━━━━━━━━━━━━━━━━━━┩\n",
       "│<span style=\"color: #008080; text-decoration-color: #008080\">         hp_metric         </span>│<span style=\"color: #800080; text-decoration-color: #800080\">    17.801963806152344     </span>│\n",
       "│<span style=\"color: #008080; text-decoration-color: #008080\">         val_loss          </span>│<span style=\"color: #800080; text-decoration-color: #800080\">    17.801963806152344     </span>│\n",
       "└───────────────────────────┴───────────────────────────┘\n",
       "</pre>\n"
      ],
      "text/plain": [
       "┏━━━━━━━━━━━━━━━━━━━━━━━━━━━┳━━━━━━━━━━━━━━━━━━━━━━━━━━━┓\n",
       "┃\u001b[1m \u001b[0m\u001b[1m     Validate metric     \u001b[0m\u001b[1m \u001b[0m┃\u001b[1m \u001b[0m\u001b[1m      DataLoader 0       \u001b[0m\u001b[1m \u001b[0m┃\n",
       "┡━━━━━━━━━━━━━━━━━━━━━━━━━━━╇━━━━━━━━━━━━━━━━━━━━━━━━━━━┩\n",
       "│\u001b[36m \u001b[0m\u001b[36m        hp_metric        \u001b[0m\u001b[36m \u001b[0m│\u001b[35m \u001b[0m\u001b[35m   17.801963806152344    \u001b[0m\u001b[35m \u001b[0m│\n",
       "│\u001b[36m \u001b[0m\u001b[36m        val_loss         \u001b[0m\u001b[36m \u001b[0m│\u001b[35m \u001b[0m\u001b[35m   17.801963806152344    \u001b[0m\u001b[35m \u001b[0m│\n",
       "└───────────────────────────┴───────────────────────────┘\n"
      ]
     },
     "metadata": {},
     "output_type": "display_data"
    },
    {
     "name": "stderr",
     "output_type": "stream",
     "text": [
      "GPU available: True (mps), used: True\n"
     ]
    },
    {
     "name": "stderr",
     "output_type": "stream",
     "text": [
      "TPU available: False, using: 0 TPU cores\n"
     ]
    },
    {
     "name": "stderr",
     "output_type": "stream",
     "text": [
      "IPU available: False, using: 0 IPUs\n"
     ]
    },
    {
     "name": "stderr",
     "output_type": "stream",
     "text": [
      "HPU available: False, using: 0 HPUs\n"
     ]
    },
    {
     "name": "stderr",
     "output_type": "stream",
     "text": [
      "\n",
      "  | Name   | Type       | Params | In sizes | Out sizes\n",
      "-------------------------------------------------------------\n",
      "0 | layers | Sequential | 15.4 K | [16, 6]  | [16, 1]  \n",
      "-------------------------------------------------------------\n",
      "15.4 K    Trainable params\n",
      "0         Non-trainable params\n",
      "15.4 K    Total params\n",
      "0.062     Total estimated model params size (MB)\n"
     ]
    },
    {
     "name": "stdout",
     "output_type": "stream",
     "text": [
      "train_model result: {'val_loss': 17.801963806152344, 'hp_metric': 17.801963806152344}\n",
      "\n",
      "In fun(): config:\n",
      "{'act_fn': ReLU(),\n",
      " 'batch_size': 16,\n",
      " 'dropout_prob': 0.23933451103594558,\n",
      " 'epochs': 128,\n",
      " 'initialization': 'Default',\n",
      " 'l1': 128,\n",
      " 'lr_mult': 0.9693203335370014,\n",
      " 'optimizer': 'Adamax',\n",
      " 'patience': 8}\n",
      "LightDataModule: setup(). stage: None\n",
      "LightDataModule setup(): full_train_size: 0.7\n",
      "LightDataModule setup(): val_size: 0.21\n",
      "LightDataModule setup(): train_size: 0.49\n",
      "LightDataModule setup(): test_size: 0.3\n",
      "LightDataModule: setup(). stage: fit\n",
      "LightDataModule: setup(). stage: test\n",
      "LightDataModule: setup(). stage: predict\n",
      "train_model(): Test set size: 12552\n",
      "train_model(): Train set size: 20501\n",
      "train_model(): Batch size: 16\n",
      "LightDataModule: setup(). stage: TrainerFn.FITTING\n",
      "LightDataModule setup(): full_train_size: 0.7\n",
      "LightDataModule setup(): val_size: 0.21\n",
      "LightDataModule setup(): train_size: 0.49\n",
      "LightDataModule setup(): test_size: 0.3\n",
      "LightDataModule: setup(). stage: fit\n",
      "LightDataModule: val_dataloader(). Training set size: 8785\n",
      "LightDataModule: val_dataloader(). batch_size: 16\n",
      "LightDataModule: val_dataloader(). num_workers: 0\n",
      "LightDataModule: train_dataloader(). Training set size: 20501\n",
      "LightDataModule: train_dataloader(). batch_size: 16\n",
      "LightDataModule: train_dataloader(). num_workers: 0\n"
     ]
    },
    {
     "name": "stdout",
     "output_type": "stream",
     "text": [
      "LightDataModule: setup(). stage: TrainerFn.VALIDATING\n",
      "LightDataModule setup(): full_train_size: 0.7\n",
      "LightDataModule setup(): val_size: 0.21\n",
      "LightDataModule setup(): train_size: 0.49\n",
      "LightDataModule setup(): test_size: 0.3\n",
      "LightDataModule: val_dataloader(). Training set size: 8785\n",
      "LightDataModule: val_dataloader(). batch_size: 16\n",
      "LightDataModule: val_dataloader(). num_workers: 0\n"
     ]
    },
    {
     "data": {
      "text/html": [
       "<pre style=\"white-space:pre;overflow-x:auto;line-height:normal;font-family:Menlo,'DejaVu Sans Mono',consolas,'Courier New',monospace\">┏━━━━━━━━━━━━━━━━━━━━━━━━━━━┳━━━━━━━━━━━━━━━━━━━━━━━━━━━┓\n",
       "┃<span style=\"font-weight: bold\">      Validate metric      </span>┃<span style=\"font-weight: bold\">       DataLoader 0        </span>┃\n",
       "┡━━━━━━━━━━━━━━━━━━━━━━━━━━━╇━━━━━━━━━━━━━━━━━━━━━━━━━━━┩\n",
       "│<span style=\"color: #008080; text-decoration-color: #008080\">         hp_metric         </span>│<span style=\"color: #800080; text-decoration-color: #800080\">    15.633362770080566     </span>│\n",
       "│<span style=\"color: #008080; text-decoration-color: #008080\">         val_loss          </span>│<span style=\"color: #800080; text-decoration-color: #800080\">    15.633362770080566     </span>│\n",
       "└───────────────────────────┴───────────────────────────┘\n",
       "</pre>\n"
      ],
      "text/plain": [
       "┏━━━━━━━━━━━━━━━━━━━━━━━━━━━┳━━━━━━━━━━━━━━━━━━━━━━━━━━━┓\n",
       "┃\u001b[1m \u001b[0m\u001b[1m     Validate metric     \u001b[0m\u001b[1m \u001b[0m┃\u001b[1m \u001b[0m\u001b[1m      DataLoader 0       \u001b[0m\u001b[1m \u001b[0m┃\n",
       "┡━━━━━━━━━━━━━━━━━━━━━━━━━━━╇━━━━━━━━━━━━━━━━━━━━━━━━━━━┩\n",
       "│\u001b[36m \u001b[0m\u001b[36m        hp_metric        \u001b[0m\u001b[36m \u001b[0m│\u001b[35m \u001b[0m\u001b[35m   15.633362770080566    \u001b[0m\u001b[35m \u001b[0m│\n",
       "│\u001b[36m \u001b[0m\u001b[36m        val_loss         \u001b[0m\u001b[36m \u001b[0m│\u001b[35m \u001b[0m\u001b[35m   15.633362770080566    \u001b[0m\u001b[35m \u001b[0m│\n",
       "└───────────────────────────┴───────────────────────────┘\n"
      ]
     },
     "metadata": {},
     "output_type": "display_data"
    },
    {
     "name": "stderr",
     "output_type": "stream",
     "text": [
      "GPU available: True (mps), used: True\n"
     ]
    },
    {
     "name": "stderr",
     "output_type": "stream",
     "text": [
      "TPU available: False, using: 0 TPU cores\n"
     ]
    },
    {
     "name": "stderr",
     "output_type": "stream",
     "text": [
      "IPU available: False, using: 0 IPUs\n"
     ]
    },
    {
     "name": "stderr",
     "output_type": "stream",
     "text": [
      "HPU available: False, using: 0 HPUs\n"
     ]
    },
    {
     "name": "stderr",
     "output_type": "stream",
     "text": [
      "\n",
      "  | Name   | Type       | Params | In sizes | Out sizes\n",
      "-------------------------------------------------------------\n",
      "0 | layers | Sequential | 233 K  | [16, 6]  | [16, 1]  \n",
      "-------------------------------------------------------------\n",
      "233 K     Trainable params\n",
      "0         Non-trainable params\n",
      "233 K     Total params\n",
      "0.935     Total estimated model params size (MB)\n"
     ]
    },
    {
     "name": "stdout",
     "output_type": "stream",
     "text": [
      "train_model result: {'val_loss': 15.633362770080566, 'hp_metric': 15.633362770080566}\n",
      "\n",
      "In fun(): config:\n",
      "{'act_fn': ReLU(),\n",
      " 'batch_size': 16,\n",
      " 'dropout_prob': 0.15827496187066842,\n",
      " 'epochs': 512,\n",
      " 'initialization': 'Default',\n",
      " 'l1': 512,\n",
      " 'lr_mult': 2.4208305977937328,\n",
      " 'optimizer': 'Adamax',\n",
      " 'patience': 16}\n",
      "LightDataModule: setup(). stage: None\n",
      "LightDataModule setup(): full_train_size: 0.7\n",
      "LightDataModule setup(): val_size: 0.21\n",
      "LightDataModule setup(): train_size: 0.49\n",
      "LightDataModule setup(): test_size: 0.3\n",
      "LightDataModule: setup(). stage: fit\n",
      "LightDataModule: setup(). stage: test\n",
      "LightDataModule: setup(). stage: predict\n",
      "train_model(): Test set size: 12552\n",
      "train_model(): Train set size: 20501\n",
      "train_model(): Batch size: 16\n",
      "LightDataModule: setup(). stage: TrainerFn.FITTING\n",
      "LightDataModule setup(): full_train_size: 0.7\n",
      "LightDataModule setup(): val_size: 0.21\n",
      "LightDataModule setup(): train_size: 0.49\n",
      "LightDataModule setup(): test_size: 0.3\n",
      "LightDataModule: setup(). stage: fit\n",
      "LightDataModule: val_dataloader(). Training set size: 8785\n",
      "LightDataModule: val_dataloader(). batch_size: 16\n",
      "LightDataModule: val_dataloader(). num_workers: 0\n",
      "LightDataModule: train_dataloader(). Training set size: 20501\n",
      "LightDataModule: train_dataloader(). batch_size: 16\n",
      "LightDataModule: train_dataloader(). num_workers: 0\n"
     ]
    },
    {
     "name": "stdout",
     "output_type": "stream",
     "text": [
      "LightDataModule: setup(). stage: TrainerFn.VALIDATING\n",
      "LightDataModule setup(): full_train_size: 0.7\n",
      "LightDataModule setup(): val_size: 0.21\n",
      "LightDataModule setup(): train_size: 0.49\n",
      "LightDataModule setup(): test_size: 0.3\n",
      "LightDataModule: val_dataloader(). Training set size: 8785\n",
      "LightDataModule: val_dataloader(). batch_size: 16\n",
      "LightDataModule: val_dataloader(). num_workers: 0\n"
     ]
    },
    {
     "data": {
      "text/html": [
       "<pre style=\"white-space:pre;overflow-x:auto;line-height:normal;font-family:Menlo,'DejaVu Sans Mono',consolas,'Courier New',monospace\">┏━━━━━━━━━━━━━━━━━━━━━━━━━━━┳━━━━━━━━━━━━━━━━━━━━━━━━━━━┓\n",
       "┃<span style=\"font-weight: bold\">      Validate metric      </span>┃<span style=\"font-weight: bold\">       DataLoader 0        </span>┃\n",
       "┡━━━━━━━━━━━━━━━━━━━━━━━━━━━╇━━━━━━━━━━━━━━━━━━━━━━━━━━━┩\n",
       "│<span style=\"color: #008080; text-decoration-color: #008080\">         hp_metric         </span>│<span style=\"color: #800080; text-decoration-color: #800080\">    14.050446510314941     </span>│\n",
       "│<span style=\"color: #008080; text-decoration-color: #008080\">         val_loss          </span>│<span style=\"color: #800080; text-decoration-color: #800080\">    14.050446510314941     </span>│\n",
       "└───────────────────────────┴───────────────────────────┘\n",
       "</pre>\n"
      ],
      "text/plain": [
       "┏━━━━━━━━━━━━━━━━━━━━━━━━━━━┳━━━━━━━━━━━━━━━━━━━━━━━━━━━┓\n",
       "┃\u001b[1m \u001b[0m\u001b[1m     Validate metric     \u001b[0m\u001b[1m \u001b[0m┃\u001b[1m \u001b[0m\u001b[1m      DataLoader 0       \u001b[0m\u001b[1m \u001b[0m┃\n",
       "┡━━━━━━━━━━━━━━━━━━━━━━━━━━━╇━━━━━━━━━━━━━━━━━━━━━━━━━━━┩\n",
       "│\u001b[36m \u001b[0m\u001b[36m        hp_metric        \u001b[0m\u001b[36m \u001b[0m│\u001b[35m \u001b[0m\u001b[35m   14.050446510314941    \u001b[0m\u001b[35m \u001b[0m│\n",
       "│\u001b[36m \u001b[0m\u001b[36m        val_loss         \u001b[0m\u001b[36m \u001b[0m│\u001b[35m \u001b[0m\u001b[35m   14.050446510314941    \u001b[0m\u001b[35m \u001b[0m│\n",
       "└───────────────────────────┴───────────────────────────┘\n"
      ]
     },
     "metadata": {},
     "output_type": "display_data"
    },
    {
     "name": "stderr",
     "output_type": "stream",
     "text": [
      "GPU available: True (mps), used: True\n"
     ]
    },
    {
     "name": "stderr",
     "output_type": "stream",
     "text": [
      "TPU available: False, using: 0 TPU cores\n"
     ]
    },
    {
     "name": "stderr",
     "output_type": "stream",
     "text": [
      "IPU available: False, using: 0 IPUs\n"
     ]
    },
    {
     "name": "stderr",
     "output_type": "stream",
     "text": [
      "HPU available: False, using: 0 HPUs\n"
     ]
    },
    {
     "name": "stderr",
     "output_type": "stream",
     "text": [
      "\n",
      "  | Name   | Type       | Params | In sizes | Out sizes\n",
      "-------------------------------------------------------------\n",
      "0 | layers | Sequential | 233 K  | [16, 6]  | [16, 1]  \n",
      "-------------------------------------------------------------\n",
      "233 K     Trainable params\n",
      "0         Non-trainable params\n",
      "233 K     Total params\n",
      "0.935     Total estimated model params size (MB)\n"
     ]
    },
    {
     "name": "stdout",
     "output_type": "stream",
     "text": [
      "train_model result: {'val_loss': 14.050446510314941, 'hp_metric': 14.050446510314941}\n",
      "\n",
      "In fun(): config:\n",
      "{'act_fn': ReLU(),\n",
      " 'batch_size': 16,\n",
      " 'dropout_prob': 0.15827496187066842,\n",
      " 'epochs': 512,\n",
      " 'initialization': 'Default',\n",
      " 'l1': 512,\n",
      " 'lr_mult': 2.4208305977937328,\n",
      " 'optimizer': 'Adamax',\n",
      " 'patience': 16}\n",
      "LightDataModule: setup(). stage: None\n",
      "LightDataModule setup(): full_train_size: 0.7\n",
      "LightDataModule setup(): val_size: 0.21\n",
      "LightDataModule setup(): train_size: 0.49\n",
      "LightDataModule setup(): test_size: 0.3\n",
      "LightDataModule: setup(). stage: fit\n",
      "LightDataModule: setup(). stage: test\n",
      "LightDataModule: setup(). stage: predict\n",
      "train_model(): Test set size: 12552\n",
      "train_model(): Train set size: 20501\n",
      "train_model(): Batch size: 16\n",
      "LightDataModule: setup(). stage: TrainerFn.FITTING\n",
      "LightDataModule setup(): full_train_size: 0.7\n",
      "LightDataModule setup(): val_size: 0.21\n",
      "LightDataModule setup(): train_size: 0.49\n",
      "LightDataModule setup(): test_size: 0.3\n",
      "LightDataModule: setup(). stage: fit\n",
      "LightDataModule: val_dataloader(). Training set size: 8785\n",
      "LightDataModule: val_dataloader(). batch_size: 16\n",
      "LightDataModule: val_dataloader(). num_workers: 0\n",
      "LightDataModule: train_dataloader(). Training set size: 20501\n",
      "LightDataModule: train_dataloader(). batch_size: 16\n",
      "LightDataModule: train_dataloader(). num_workers: 0\n"
     ]
    },
    {
     "name": "stdout",
     "output_type": "stream",
     "text": [
      "LightDataModule: setup(). stage: TrainerFn.VALIDATING\n",
      "LightDataModule setup(): full_train_size: 0.7\n",
      "LightDataModule setup(): val_size: 0.21\n",
      "LightDataModule setup(): train_size: 0.49\n",
      "LightDataModule setup(): test_size: 0.3\n",
      "LightDataModule: val_dataloader(). Training set size: 8785\n",
      "LightDataModule: val_dataloader(). batch_size: 16\n",
      "LightDataModule: val_dataloader(). num_workers: 0\n"
     ]
    },
    {
     "data": {
      "text/html": [
       "<pre style=\"white-space:pre;overflow-x:auto;line-height:normal;font-family:Menlo,'DejaVu Sans Mono',consolas,'Courier New',monospace\">┏━━━━━━━━━━━━━━━━━━━━━━━━━━━┳━━━━━━━━━━━━━━━━━━━━━━━━━━━┓\n",
       "┃<span style=\"font-weight: bold\">      Validate metric      </span>┃<span style=\"font-weight: bold\">       DataLoader 0        </span>┃\n",
       "┡━━━━━━━━━━━━━━━━━━━━━━━━━━━╇━━━━━━━━━━━━━━━━━━━━━━━━━━━┩\n",
       "│<span style=\"color: #008080; text-decoration-color: #008080\">         hp_metric         </span>│<span style=\"color: #800080; text-decoration-color: #800080\">    13.820969581604004     </span>│\n",
       "│<span style=\"color: #008080; text-decoration-color: #008080\">         val_loss          </span>│<span style=\"color: #800080; text-decoration-color: #800080\">    13.820969581604004     </span>│\n",
       "└───────────────────────────┴───────────────────────────┘\n",
       "</pre>\n"
      ],
      "text/plain": [
       "┏━━━━━━━━━━━━━━━━━━━━━━━━━━━┳━━━━━━━━━━━━━━━━━━━━━━━━━━━┓\n",
       "┃\u001b[1m \u001b[0m\u001b[1m     Validate metric     \u001b[0m\u001b[1m \u001b[0m┃\u001b[1m \u001b[0m\u001b[1m      DataLoader 0       \u001b[0m\u001b[1m \u001b[0m┃\n",
       "┡━━━━━━━━━━━━━━━━━━━━━━━━━━━╇━━━━━━━━━━━━━━━━━━━━━━━━━━━┩\n",
       "│\u001b[36m \u001b[0m\u001b[36m        hp_metric        \u001b[0m\u001b[36m \u001b[0m│\u001b[35m \u001b[0m\u001b[35m   13.820969581604004    \u001b[0m\u001b[35m \u001b[0m│\n",
       "│\u001b[36m \u001b[0m\u001b[36m        val_loss         \u001b[0m\u001b[36m \u001b[0m│\u001b[35m \u001b[0m\u001b[35m   13.820969581604004    \u001b[0m\u001b[35m \u001b[0m│\n",
       "└───────────────────────────┴───────────────────────────┘\n"
      ]
     },
     "metadata": {},
     "output_type": "display_data"
    },
    {
     "name": "stdout",
     "output_type": "stream",
     "text": [
      "train_model result: {'val_loss': 13.820969581604004, 'hp_metric': 13.820969581604004}\n"
     ]
    },
    {
     "name": "stderr",
     "output_type": "stream",
     "text": [
      "/Users/bartz/miniforge3/envs/spotCondaEnv/lib/python3.11/site-packages/lightning/pytorch/utilities/parsing.py:198: Attribute 'act_fn' is an instance of `nn.Module` and is already saved during checkpointing. It is recommended to ignore them using `self.save_hyperparameters(ignore=['act_fn'])`.\n",
      "GPU available: True (mps), used: True\n"
     ]
    },
    {
     "name": "stderr",
     "output_type": "stream",
     "text": [
      "TPU available: False, using: 0 TPU cores\n"
     ]
    },
    {
     "name": "stderr",
     "output_type": "stream",
     "text": [
      "IPU available: False, using: 0 IPUs\n"
     ]
    },
    {
     "name": "stderr",
     "output_type": "stream",
     "text": [
      "HPU available: False, using: 0 HPUs\n"
     ]
    },
    {
     "name": "stderr",
     "output_type": "stream",
     "text": [
      "\n",
      "  | Name   | Type       | Params | In sizes | Out sizes\n",
      "-------------------------------------------------------------\n",
      "0 | layers | Sequential | 233 K  | [16, 6]  | [16, 1]  \n",
      "-------------------------------------------------------------\n",
      "233 K     Trainable params\n",
      "0         Non-trainable params\n",
      "233 K     Total params\n",
      "0.935     Total estimated model params size (MB)\n"
     ]
    },
    {
     "name": "stdout",
     "output_type": "stream",
     "text": [
      "\n",
      "In fun(): config:\n",
      "{'act_fn': LeakyReLU(),\n",
      " 'batch_size': 16,\n",
      " 'dropout_prob': 0.1647723988730034,\n",
      " 'epochs': 512,\n",
      " 'initialization': 'Default',\n",
      " 'l1': 512,\n",
      " 'lr_mult': 1.840511917259318,\n",
      " 'optimizer': 'Adamax',\n",
      " 'patience': 16}\n",
      "LightDataModule: setup(). stage: None\n",
      "LightDataModule setup(): full_train_size: 0.7\n",
      "LightDataModule setup(): val_size: 0.21\n",
      "LightDataModule setup(): train_size: 0.49\n",
      "LightDataModule setup(): test_size: 0.3\n",
      "LightDataModule: setup(). stage: fit\n",
      "LightDataModule: setup(). stage: test\n",
      "LightDataModule: setup(). stage: predict\n",
      "train_model(): Test set size: 12552\n",
      "train_model(): Train set size: 20501\n",
      "train_model(): Batch size: 16\n",
      "LightDataModule: setup(). stage: TrainerFn.FITTING\n",
      "LightDataModule setup(): full_train_size: 0.7\n",
      "LightDataModule setup(): val_size: 0.21\n",
      "LightDataModule setup(): train_size: 0.49\n",
      "LightDataModule setup(): test_size: 0.3\n",
      "LightDataModule: setup(). stage: fit\n",
      "LightDataModule: val_dataloader(). Training set size: 8785\n",
      "LightDataModule: val_dataloader(). batch_size: 16\n",
      "LightDataModule: val_dataloader(). num_workers: 0\n",
      "LightDataModule: train_dataloader(). Training set size: 20501\n",
      "LightDataModule: train_dataloader(). batch_size: 16\n",
      "LightDataModule: train_dataloader(). num_workers: 0\n"
     ]
    },
    {
     "name": "stderr",
     "output_type": "stream",
     "text": [
      "/Users/bartz/miniforge3/envs/spotCondaEnv/lib/python3.11/site-packages/lightning/pytorch/trainer/connectors/data_connector.py:441: The 'val_dataloader' does not have many workers which may be a bottleneck. Consider increasing the value of the `num_workers` argument` to `num_workers=11` in the `DataLoader` to improve performance.\n",
      "/Users/bartz/miniforge3/envs/spotCondaEnv/lib/python3.11/site-packages/lightning/pytorch/trainer/connectors/data_connector.py:441: The 'train_dataloader' does not have many workers which may be a bottleneck. Consider increasing the value of the `num_workers` argument` to `num_workers=11` in the `DataLoader` to improve performance.\n"
     ]
    },
    {
     "name": "stdout",
     "output_type": "stream",
     "text": [
      "LightDataModule: setup(). stage: TrainerFn.VALIDATING\n",
      "LightDataModule setup(): full_train_size: 0.7\n",
      "LightDataModule setup(): val_size: 0.21\n",
      "LightDataModule setup(): train_size: 0.49\n",
      "LightDataModule setup(): test_size: 0.3\n",
      "LightDataModule: val_dataloader(). Training set size: 8785\n",
      "LightDataModule: val_dataloader(). batch_size: 16\n",
      "LightDataModule: val_dataloader(). num_workers: 0\n"
     ]
    },
    {
     "data": {
      "text/html": [
       "<pre style=\"white-space:pre;overflow-x:auto;line-height:normal;font-family:Menlo,'DejaVu Sans Mono',consolas,'Courier New',monospace\">┏━━━━━━━━━━━━━━━━━━━━━━━━━━━┳━━━━━━━━━━━━━━━━━━━━━━━━━━━┓\n",
       "┃<span style=\"font-weight: bold\">      Validate metric      </span>┃<span style=\"font-weight: bold\">       DataLoader 0        </span>┃\n",
       "┡━━━━━━━━━━━━━━━━━━━━━━━━━━━╇━━━━━━━━━━━━━━━━━━━━━━━━━━━┩\n",
       "│<span style=\"color: #008080; text-decoration-color: #008080\">         hp_metric         </span>│<span style=\"color: #800080; text-decoration-color: #800080\">    15.127991676330566     </span>│\n",
       "│<span style=\"color: #008080; text-decoration-color: #008080\">         val_loss          </span>│<span style=\"color: #800080; text-decoration-color: #800080\">    15.127991676330566     </span>│\n",
       "└───────────────────────────┴───────────────────────────┘\n",
       "</pre>\n"
      ],
      "text/plain": [
       "┏━━━━━━━━━━━━━━━━━━━━━━━━━━━┳━━━━━━━━━━━━━━━━━━━━━━━━━━━┓\n",
       "┃\u001b[1m \u001b[0m\u001b[1m     Validate metric     \u001b[0m\u001b[1m \u001b[0m┃\u001b[1m \u001b[0m\u001b[1m      DataLoader 0       \u001b[0m\u001b[1m \u001b[0m┃\n",
       "┡━━━━━━━━━━━━━━━━━━━━━━━━━━━╇━━━━━━━━━━━━━━━━━━━━━━━━━━━┩\n",
       "│\u001b[36m \u001b[0m\u001b[36m        hp_metric        \u001b[0m\u001b[36m \u001b[0m│\u001b[35m \u001b[0m\u001b[35m   15.127991676330566    \u001b[0m\u001b[35m \u001b[0m│\n",
       "│\u001b[36m \u001b[0m\u001b[36m        val_loss         \u001b[0m\u001b[36m \u001b[0m│\u001b[35m \u001b[0m\u001b[35m   15.127991676330566    \u001b[0m\u001b[35m \u001b[0m│\n",
       "└───────────────────────────┴───────────────────────────┘\n"
      ]
     },
     "metadata": {},
     "output_type": "display_data"
    },
    {
     "name": "stderr",
     "output_type": "stream",
     "text": [
      "GPU available: True (mps), used: True\n"
     ]
    },
    {
     "name": "stderr",
     "output_type": "stream",
     "text": [
      "TPU available: False, using: 0 TPU cores\n"
     ]
    },
    {
     "name": "stderr",
     "output_type": "stream",
     "text": [
      "IPU available: False, using: 0 IPUs\n"
     ]
    },
    {
     "name": "stderr",
     "output_type": "stream",
     "text": [
      "HPU available: False, using: 0 HPUs\n"
     ]
    },
    {
     "name": "stderr",
     "output_type": "stream",
     "text": [
      "\n",
      "  | Name   | Type       | Params | In sizes | Out sizes\n",
      "-------------------------------------------------------------\n",
      "0 | layers | Sequential | 233 K  | [16, 6]  | [16, 1]  \n",
      "-------------------------------------------------------------\n",
      "233 K     Trainable params\n",
      "0         Non-trainable params\n",
      "233 K     Total params\n",
      "0.935     Total estimated model params size (MB)\n"
     ]
    },
    {
     "name": "stdout",
     "output_type": "stream",
     "text": [
      "train_model result: {'val_loss': 15.127991676330566, 'hp_metric': 15.127991676330566}\n",
      "\n",
      "In fun(): config:\n",
      "{'act_fn': LeakyReLU(),\n",
      " 'batch_size': 16,\n",
      " 'dropout_prob': 0.1647723988730034,\n",
      " 'epochs': 512,\n",
      " 'initialization': 'Default',\n",
      " 'l1': 512,\n",
      " 'lr_mult': 1.840511917259318,\n",
      " 'optimizer': 'Adamax',\n",
      " 'patience': 16}\n",
      "LightDataModule: setup(). stage: None\n",
      "LightDataModule setup(): full_train_size: 0.7\n",
      "LightDataModule setup(): val_size: 0.21\n",
      "LightDataModule setup(): train_size: 0.49\n",
      "LightDataModule setup(): test_size: 0.3\n",
      "LightDataModule: setup(). stage: fit\n",
      "LightDataModule: setup(). stage: test\n",
      "LightDataModule: setup(). stage: predict\n",
      "train_model(): Test set size: 12552\n",
      "train_model(): Train set size: 20501\n",
      "train_model(): Batch size: 16\n",
      "LightDataModule: setup(). stage: TrainerFn.FITTING\n",
      "LightDataModule setup(): full_train_size: 0.7\n",
      "LightDataModule setup(): val_size: 0.21\n",
      "LightDataModule setup(): train_size: 0.49\n",
      "LightDataModule setup(): test_size: 0.3\n",
      "LightDataModule: setup(). stage: fit\n",
      "LightDataModule: val_dataloader(). Training set size: 8785\n",
      "LightDataModule: val_dataloader(). batch_size: 16\n",
      "LightDataModule: val_dataloader(). num_workers: 0\n",
      "LightDataModule: train_dataloader(). Training set size: 20501\n",
      "LightDataModule: train_dataloader(). batch_size: 16\n",
      "LightDataModule: train_dataloader(). num_workers: 0\n"
     ]
    },
    {
     "name": "stdout",
     "output_type": "stream",
     "text": [
      "LightDataModule: setup(). stage: TrainerFn.VALIDATING\n",
      "LightDataModule setup(): full_train_size: 0.7\n",
      "LightDataModule setup(): val_size: 0.21\n",
      "LightDataModule setup(): train_size: 0.49\n",
      "LightDataModule setup(): test_size: 0.3\n",
      "LightDataModule: val_dataloader(). Training set size: 8785\n",
      "LightDataModule: val_dataloader(). batch_size: 16\n",
      "LightDataModule: val_dataloader(). num_workers: 0\n"
     ]
    },
    {
     "data": {
      "text/html": [
       "<pre style=\"white-space:pre;overflow-x:auto;line-height:normal;font-family:Menlo,'DejaVu Sans Mono',consolas,'Courier New',monospace\">┏━━━━━━━━━━━━━━━━━━━━━━━━━━━┳━━━━━━━━━━━━━━━━━━━━━━━━━━━┓\n",
       "┃<span style=\"font-weight: bold\">      Validate metric      </span>┃<span style=\"font-weight: bold\">       DataLoader 0        </span>┃\n",
       "┡━━━━━━━━━━━━━━━━━━━━━━━━━━━╇━━━━━━━━━━━━━━━━━━━━━━━━━━━┩\n",
       "│<span style=\"color: #008080; text-decoration-color: #008080\">         hp_metric         </span>│<span style=\"color: #800080; text-decoration-color: #800080\">    14.914267539978027     </span>│\n",
       "│<span style=\"color: #008080; text-decoration-color: #008080\">         val_loss          </span>│<span style=\"color: #800080; text-decoration-color: #800080\">    14.914267539978027     </span>│\n",
       "└───────────────────────────┴───────────────────────────┘\n",
       "</pre>\n"
      ],
      "text/plain": [
       "┏━━━━━━━━━━━━━━━━━━━━━━━━━━━┳━━━━━━━━━━━━━━━━━━━━━━━━━━━┓\n",
       "┃\u001b[1m \u001b[0m\u001b[1m     Validate metric     \u001b[0m\u001b[1m \u001b[0m┃\u001b[1m \u001b[0m\u001b[1m      DataLoader 0       \u001b[0m\u001b[1m \u001b[0m┃\n",
       "┡━━━━━━━━━━━━━━━━━━━━━━━━━━━╇━━━━━━━━━━━━━━━━━━━━━━━━━━━┩\n",
       "│\u001b[36m \u001b[0m\u001b[36m        hp_metric        \u001b[0m\u001b[36m \u001b[0m│\u001b[35m \u001b[0m\u001b[35m   14.914267539978027    \u001b[0m\u001b[35m \u001b[0m│\n",
       "│\u001b[36m \u001b[0m\u001b[36m        val_loss         \u001b[0m\u001b[36m \u001b[0m│\u001b[35m \u001b[0m\u001b[35m   14.914267539978027    \u001b[0m\u001b[35m \u001b[0m│\n",
       "└───────────────────────────┴───────────────────────────┘\n"
      ]
     },
     "metadata": {},
     "output_type": "display_data"
    },
    {
     "name": "stdout",
     "output_type": "stream",
     "text": [
      "train_model result: {'val_loss': 14.914267539978027, 'hp_metric': 14.914267539978027}\n"
     ]
    },
    {
     "name": "stdout",
     "output_type": "stream",
     "text": [
      "spotPython tuning: 13.820969581604004 [##########] 100.00% Done...\r\n",
      "\r\n"
     ]
    },
    {
     "data": {
      "text/plain": [
       "<spotPython.spot.spot.Spot at 0x2ae6ada10>"
      ]
     },
     "execution_count": 13,
     "metadata": {},
     "output_type": "execute_result"
    }
   ],
   "source": [
    "from spotPython.spot import spot\n",
    "spot_tuner = spot.Spot(fun=fun,\n",
    "                       fun_control=fun_control,\n",
    "                       design_control=design_control,\n",
    "                       surrogate_control=surrogate_control)\n",
    "spot_tuner.run()"
   ]
  },
  {
   "cell_type": "markdown",
   "id": "278697f9",
   "metadata": {},
   "source": [
    "## Step 9: Tensorboard {#sec-tensorboard-33}\n",
    "\n",
    "The textual output shown in the console (or code cell) can be visualized with Tensorboard.\n",
    "\n",
    "\n",
    "\n",
    "\n",
    "\n",
    "```{raw}\n",
    "tensorboard --logdir=\"runs/\"\n",
    "```\n",
    "\n",
    "\n",
    "\n",
    "\n",
    "\n",
    "Further information can be found in the [PyTorch Lightning documentation](https://lightning.ai/docs/pytorch/stable/api/lightning.pytorch.loggers.tensorboard.html) for Tensorboard.\n",
    "\n",
    "\n",
    "\n",
    "## Step 10: Results {#sec-results-33}\n",
    "\n",
    "After the hyperparameter tuning run is finished, the results can be analyzed.\n"
   ]
  },
  {
   "cell_type": "code",
   "execution_count": 15,
   "id": "c575a298",
   "metadata": {
    "vscode": {
     "languageId": "python"
    }
   },
   "outputs": [
    {
     "name": "stdout",
     "output_type": "stream",
     "text": [
      "[9.         9.         4.         0.         1.         0.15827496\n",
      " 2.4208306  4.        ]\n",
      "13.820969581604004\n"
     ]
    }
   ],
   "source": [
    "if spot_tuner.noise:\n",
    "    print(spot_tuner.min_mean_X)\n",
    "    print(spot_tuner.min_mean_y)\n",
    "else:\n",
    "    print(spot_tuner.min_X)\n",
    "    print(spot_tuner.min_y)"
   ]
  },
  {
   "cell_type": "code",
   "execution_count": 16,
   "id": "6f21288e",
   "metadata": {
    "fig-label": "fig-progress-33",
    "vscode": {
     "languageId": "python"
    }
   },
   "outputs": [
    {
     "data": {
      "image/png": "[encoded data removed]",
      "text/plain": [
       "<Figure size 864x576 with 1 Axes>"
      ]
     },
     "metadata": {
      "image/png": {
       "height": 261,
       "width": 715
      }
     },
     "output_type": "display_data"
    }
   ],
   "source": [
    "#| fig-cap: Progress plot. *Black* dots denote results from the initial design. *Red* dots  illustrate the improvement found by the surrogate model based optimization.\n",
    "spot_tuner.plot_progress(log_y=False,\n",
    "    filename=\"./figures/\" + PREFIX +\"_progress.png\")"
   ]
  },
  {
   "cell_type": "code",
   "execution_count": 17,
   "id": "e53db6ab",
   "metadata": {
    "fig-label": "tbl-results-33",
    "vscode": {
     "languageId": "python"
    }
   },
   "outputs": [
    {
     "name": "stdout",
     "output_type": "stream",
     "text": [
      "| name           | type   | default   |   lower |   upper | tuned               | transform             |   importance | stars   |\n",
      "|----------------|--------|-----------|---------|---------|---------------------|-----------------------|--------------|---------|\n",
      "| l1             | int    | 3         |     5.0 |     9.0 | 9.0                 | transform_power_2_int |         0.01 |         |\n",
      "| epochs         | int    | 4         |     5.0 |    10.0 | 9.0                 | transform_power_2_int |         0.00 |         |\n",
      "| batch_size     | int    | 4         |     3.0 |     6.0 | 4.0                 | transform_power_2_int |         0.00 |         |\n",
      "| act_fn         | factor | ReLU      |     0.0 |     1.0 | ReLU                | None                  |         0.00 |         |\n",
      "| optimizer      | factor | SGD       |     0.0 |     2.0 | Adamax              | None                  |       100.00 | ***     |\n",
      "| dropout_prob   | float  | 0.01      |   0.005 |    0.25 | 0.15827496187066842 | None                  |         0.00 |         |\n",
      "| lr_mult        | float  | 1.0       |    0.25 |     5.0 | 2.4208305977937328  | None                  |         0.24 | .       |\n",
      "| patience       | int    | 2         |     3.0 |     5.0 | 4.0                 | transform_power_2_int |         0.00 |         |\n",
      "| initialization | factor | Default   |     0.0 |     0.0 | Default             | None                  |         0.00 |         |\n"
     ]
    }
   ],
   "source": [
    "#| fig-cap: Results of the hyperparameter tuning.\n",
    "from spotPython.utils.eda import gen_design_table\n",
    "print(gen_design_table(fun_control=fun_control, spot=spot_tuner))"
   ]
  },
  {
   "cell_type": "code",
   "execution_count": 18,
   "id": "0df21630",
   "metadata": {
    "fig-label": "fig-importance-33",
    "vscode": {
     "languageId": "python"
    }
   },
   "outputs": [
    {
     "data": {
      "image/png": "[encoded data removed]",
      "text/plain": [
       "<Figure size 672x480 with 1 Axes>"
      ]
     },
     "metadata": {
      "image/png": {
       "height": 411,
       "width": 574
      }
     },
     "output_type": "display_data"
    }
   ],
   "source": [
    "#| fig-cap: 'Variable importance plot, threshold 0.025.'\n",
    "spot_tuner.plot_importance(threshold=0.025,\n",
    "    filename=\"./figures/\" + PREFIX + \"_importance.png\")"
   ]
  },
  {
   "cell_type": "markdown",
   "id": "7aa1c3b3",
   "metadata": {},
   "source": [
    "### Get the Tuned Architecture {#sec-get-spot-results-33}\n"
   ]
  },
  {
   "cell_type": "code",
   "execution_count": 19,
   "id": "5a3e4d4b",
   "metadata": {
    "vscode": {
     "languageId": "python"
    }
   },
   "outputs": [
    {
     "name": "stdout",
     "output_type": "stream",
     "text": [
      "{'l1': 512, 'epochs': 512, 'batch_size': 16, 'act_fn': ReLU(), 'optimizer': 'Adamax', 'dropout_prob': 0.15827496187066842, 'lr_mult': 2.4208305977937328, 'patience': 16, 'initialization': 'Default'}\n"
     ]
    }
   ],
   "source": [
    "from spotPython.hyperparameters.values import get_tuned_architecture\n",
    "config = get_tuned_architecture(spot_tuner, fun_control)\n",
    "print(config)"
   ]
  },
  {
   "cell_type": "markdown",
   "id": "8bcc00d4",
   "metadata": {},
   "source": [
    "* Test on the full data set\n"
   ]
  },
  {
   "cell_type": "code",
   "execution_count": 20,
   "id": "ecc63460",
   "metadata": {
    "vscode": {
     "languageId": "python"
    }
   },
   "outputs": [
    {
     "name": "stderr",
     "output_type": "stream",
     "text": [
      "/Users/bartz/miniforge3/envs/spotCondaEnv/lib/python3.11/site-packages/lightning/pytorch/utilities/parsing.py:198: Attribute 'act_fn' is an instance of `nn.Module` and is already saved during checkpointing. It is recommended to ignore them using `self.save_hyperparameters(ignore=['act_fn'])`.\n",
      "GPU available: True (mps), used: True\n"
     ]
    },
    {
     "name": "stderr",
     "output_type": "stream",
     "text": [
      "TPU available: False, using: 0 TPU cores\n"
     ]
    },
    {
     "name": "stderr",
     "output_type": "stream",
     "text": [
      "IPU available: False, using: 0 IPUs\n"
     ]
    },
    {
     "name": "stderr",
     "output_type": "stream",
     "text": [
      "HPU available: False, using: 0 HPUs\n"
     ]
    },
    {
     "name": "stderr",
     "output_type": "stream",
     "text": [
      "\n",
      "  | Name   | Type       | Params | In sizes | Out sizes\n",
      "-------------------------------------------------------------\n",
      "0 | layers | Sequential | 233 K  | [16, 6]  | [16, 1]  \n",
      "-------------------------------------------------------------\n",
      "233 K     Trainable params\n",
      "0         Non-trainable params\n",
      "233 K     Total params\n",
      "0.935     Total estimated model params size (MB)\n"
     ]
    },
    {
     "name": "stdout",
     "output_type": "stream",
     "text": [
      "LightDataModule: setup(). stage: None\n",
      "LightDataModule setup(): full_train_size: 0.7\n",
      "LightDataModule setup(): val_size: 0.21\n",
      "LightDataModule setup(): train_size: 0.49\n",
      "LightDataModule setup(): test_size: 0.3\n",
      "LightDataModule: setup(). stage: fit\n",
      "LightDataModule: setup(). stage: test\n",
      "LightDataModule: setup(). stage: predict\n",
      "LightDataModule: setup(). stage: TrainerFn.FITTING\n",
      "LightDataModule setup(): full_train_size: 0.7\n",
      "LightDataModule setup(): val_size: 0.21\n",
      "LightDataModule setup(): train_size: 0.49\n",
      "LightDataModule setup(): test_size: 0.3\n",
      "LightDataModule: setup(). stage: fit\n",
      "LightDataModule: val_dataloader(). Training set size: 8785\n",
      "LightDataModule: val_dataloader(). batch_size: 16\n",
      "LightDataModule: val_dataloader(). num_workers: 0\n",
      "LightDataModule: train_dataloader(). Training set size: 20501\n",
      "LightDataModule: train_dataloader(). batch_size: 16\n",
      "LightDataModule: train_dataloader(). num_workers: 0\n"
     ]
    },
    {
     "name": "stderr",
     "output_type": "stream",
     "text": [
      "/Users/bartz/miniforge3/envs/spotCondaEnv/lib/python3.11/site-packages/lightning/pytorch/trainer/connectors/data_connector.py:441: The 'val_dataloader' does not have many workers which may be a bottleneck. Consider increasing the value of the `num_workers` argument` to `num_workers=11` in the `DataLoader` to improve performance.\n",
      "/Users/bartz/miniforge3/envs/spotCondaEnv/lib/python3.11/site-packages/lightning/pytorch/trainer/connectors/data_connector.py:441: The 'train_dataloader' does not have many workers which may be a bottleneck. Consider increasing the value of the `num_workers` argument` to `num_workers=11` in the `DataLoader` to improve performance.\n"
     ]
    },
    {
     "name": "stderr",
     "output_type": "stream",
     "text": [
      "Restoring states from the checkpoint path at /Users/bartz/workspace/Hyperparameter-Tuning-Cookbook/runs/saved_models/512_512_16_ReLU_Adamax_0.1583_2.4208_16_Default_TEST/last.ckpt\n"
     ]
    },
    {
     "name": "stderr",
     "output_type": "stream",
     "text": [
      "Loaded model weights from the checkpoint at /Users/bartz/workspace/Hyperparameter-Tuning-Cookbook/runs/saved_models/512_512_16_ReLU_Adamax_0.1583_2.4208_16_Default_TEST/last.ckpt\n"
     ]
    },
    {
     "name": "stdout",
     "output_type": "stream",
     "text": [
      "LightDataModule: setup(). stage: TrainerFn.TESTING\n",
      "LightDataModule setup(): full_train_size: 0.7\n",
      "LightDataModule setup(): val_size: 0.21\n",
      "LightDataModule setup(): train_size: 0.49\n",
      "LightDataModule setup(): test_size: 0.3\n",
      "LightDataModule: setup(). stage: test\n",
      "LightDataModule: test_dataloader(). Test set size: 12552\n",
      "LightDataModule: test_dataloader(). batch_size: 16\n",
      "LightDataModule: test_dataloader(). num_workers: 0\n"
     ]
    },
    {
     "name": "stderr",
     "output_type": "stream",
     "text": [
      "/Users/bartz/miniforge3/envs/spotCondaEnv/lib/python3.11/site-packages/lightning/pytorch/trainer/connectors/data_connector.py:441: The 'test_dataloader' does not have many workers which may be a bottleneck. Consider increasing the value of the `num_workers` argument` to `num_workers=11` in the `DataLoader` to improve performance.\n"
     ]
    },
    {
     "data": {
      "text/html": [
       "<pre style=\"white-space:pre;overflow-x:auto;line-height:normal;font-family:Menlo,'DejaVu Sans Mono',consolas,'Courier New',monospace\">┏━━━━━━━━━━━━━━━━━━━━━━━━━━━┳━━━━━━━━━━━━━━━━━━━━━━━━━━━┓\n",
       "┃<span style=\"font-weight: bold\">        Test metric        </span>┃<span style=\"font-weight: bold\">       DataLoader 0        </span>┃\n",
       "┡━━━━━━━━━━━━━━━━━━━━━━━━━━━╇━━━━━━━━━━━━━━━━━━━━━━━━━━━┩\n",
       "│<span style=\"color: #008080; text-decoration-color: #008080\">         hp_metric         </span>│<span style=\"color: #800080; text-decoration-color: #800080\">    16.362627029418945     </span>│\n",
       "│<span style=\"color: #008080; text-decoration-color: #008080\">         val_loss          </span>│<span style=\"color: #800080; text-decoration-color: #800080\">    16.362627029418945     </span>│\n",
       "└───────────────────────────┴───────────────────────────┘\n",
       "</pre>\n"
      ],
      "text/plain": [
       "┏━━━━━━━━━━━━━━━━━━━━━━━━━━━┳━━━━━━━━━━━━━━━━━━━━━━━━━━━┓\n",
       "┃\u001b[1m \u001b[0m\u001b[1m       Test metric       \u001b[0m\u001b[1m \u001b[0m┃\u001b[1m \u001b[0m\u001b[1m      DataLoader 0       \u001b[0m\u001b[1m \u001b[0m┃\n",
       "┡━━━━━━━━━━━━━━━━━━━━━━━━━━━╇━━━━━━━━━━━━━━━━━━━━━━━━━━━┩\n",
       "│\u001b[36m \u001b[0m\u001b[36m        hp_metric        \u001b[0m\u001b[36m \u001b[0m│\u001b[35m \u001b[0m\u001b[35m   16.362627029418945    \u001b[0m\u001b[35m \u001b[0m│\n",
       "│\u001b[36m \u001b[0m\u001b[36m        val_loss         \u001b[0m\u001b[36m \u001b[0m│\u001b[35m \u001b[0m\u001b[35m   16.362627029418945    \u001b[0m\u001b[35m \u001b[0m│\n",
       "└───────────────────────────┴───────────────────────────┘\n"
      ]
     },
     "metadata": {},
     "output_type": "display_data"
    },
    {
     "name": "stdout",
     "output_type": "stream",
     "text": [
      "test_model result: {'val_loss': 16.362627029418945, 'hp_metric': 16.362627029418945}\n"
     ]
    },
    {
     "data": {
      "text/plain": [
       "(16.362627029418945, 16.362627029418945)"
      ]
     },
     "execution_count": 19,
     "metadata": {},
     "output_type": "execute_result"
    }
   ],
   "source": [
    "from spotPython.light.testmodel import test_model\n",
    "test_model(config, fun_control)"
   ]
  },
  {
   "cell_type": "code",
   "execution_count": 21,
   "id": "b20ec748",
   "metadata": {
    "vscode": {
     "languageId": "python"
    }
   },
   "outputs": [
    {
     "name": "stdout",
     "output_type": "stream",
     "text": [
      "config: {'l1': 512, 'epochs': 512, 'batch_size': 16, 'act_fn': ReLU(), 'optimizer': 'Adamax', 'dropout_prob': 0.15827496187066842, 'lr_mult': 2.4208305977937328, 'patience': 16, 'initialization': 'Default'}\n",
      "Loading model with 512_512_16_ReLU_Adamax_0.1583_2.4208_16_Default_TEST from runs/saved_models/512_512_16_ReLU_Adamax_0.1583_2.4208_16_Default_TEST/last.ckpt\n"
     ]
    },
    {
     "name": "stdout",
     "output_type": "stream",
     "text": [
      "Model: NetLightRegression(\n",
      "  (layers): Sequential(\n",
      "    (0): Linear(in_features=6, out_features=512, bias=True)\n",
      "    (1): ReLU()\n",
      "    (2): Dropout(p=0.15827496187066842, inplace=False)\n",
      "    (3): Linear(in_features=512, out_features=256, bias=True)\n",
      "    (4): ReLU()\n",
      "    (5): Dropout(p=0.15827496187066842, inplace=False)\n",
      "    (6): Linear(in_features=256, out_features=256, bias=True)\n",
      "    (7): ReLU()\n",
      "    (8): Dropout(p=0.15827496187066842, inplace=False)\n",
      "    (9): Linear(in_features=256, out_features=128, bias=True)\n",
      "    (10): ReLU()\n",
      "    (11): Dropout(p=0.15827496187066842, inplace=False)\n",
      "    (12): Linear(in_features=128, out_features=1, bias=True)\n",
      "  )\n",
      ")\n"
     ]
    }
   ],
   "source": [
    "from spotPython.light.loadmodel import load_light_from_checkpoint\n",
    "\n",
    "model_loaded = load_light_from_checkpoint(config, fun_control)"
   ]
  },
  {
   "cell_type": "code",
   "execution_count": 22,
   "id": "9a13e6ac",
   "metadata": {
    "fig-label": "fig-contour-33",
    "vscode": {
     "languageId": "python"
    }
   },
   "outputs": [
    {
     "name": "stdout",
     "output_type": "stream",
     "text": [
      "optimizer:  100.0\n",
      "lr_mult:  0.2359217453545927\n",
      "impo: [['l1', 0.008491788212338527], ['epochs', 0.001], ['batch_size', 0.001], ['act_fn', 0.001], ['optimizer', 100.0], ['dropout_prob', 0.001], ['lr_mult', 0.2359217453545927], ['patience', 0.001]]\n",
      "impo after select: [['l1', 0.008491788212338527], ['epochs', 0.001], ['batch_size', 0.001], ['act_fn', 0.001], ['optimizer', 100.0], ['dropout_prob', 0.001], ['lr_mult', 0.2359217453545927], ['patience', 0.001]]\n"
     ]
    },
    {
     "data": {
      "image/png": "[encoded data removed]",
      "text/plain": [
       "<Figure size 864x576 with 3 Axes>"
      ]
     },
     "metadata": {
      "image/png": {
       "height": 281,
       "width": 697
      }
     },
     "output_type": "display_data"
    }
   ],
   "source": [
    "#| fig-cap: Contour plots.\n",
    "filename = \"./figures/\" + PREFIX\n",
    "spot_tuner.plot_important_hyperparameter_contour(filename=filename)"
   ]
  },
  {
   "cell_type": "markdown",
   "id": "257079ed",
   "metadata": {},
   "source": [
    "### Parallel Coordinates Plot\n"
   ]
  },
  {
   "cell_type": "code",
   "execution_count": 23,
   "id": "c1f5688c",
   "metadata": {
    "fig-label": "fig-parallel-33",
    "vscode": {
     "languageId": "python"
    }
   },
   "outputs": [
    {
     "data": {
      "text/html": [
       "        <script type=\"text/javascript\">\n",
       "        window.PlotlyConfig = {MathJaxConfig: 'local'};\n",
       "        if (window.MathJax && window.MathJax.Hub && window.MathJax.Hub.Config) {window.MathJax.Hub.Config({SVG: {font: \"STIX-Web\"}});}\n",
       "        if (typeof require !== 'undefined') {\n",
       "        require.undef(\"plotly\");\n",
       "        requirejs.config({\n",
       "            paths: {\n",
       "                'plotly': ['https://cdn.plot.ly/plotly-2.27.0.min']\n",
       "            }\n",
       "        });\n",
       "        require(['plotly'], function(Plotly) {\n",
       "            window._Plotly = Plotly;\n",
       "        });\n",
       "        }\n",
       "        </script>\n",
       "        "
      ]
     },
     "metadata": {},
     "output_type": "display_data"
    },
    {
     "data": {
      "text/html": [
       "<div>                            <div id=\"4af441ac-99ee-44ee-ab92-da944c8c3cc7\" class=\"plotly-graph-div\" style=\"height:525px; width:100%;\"></div>            <script type=\"text/javascript\">                require([\"plotly\"], function(Plotly) {                    window.PLOTLYENV=window.PLOTLYENV || {};                                    if (document.getElementById(\"4af441ac-99ee-44ee-ab92-da944c8c3cc7\")) {                    Plotly.newPlot(                        \"4af441ac-99ee-44ee-ab92-da944c8c3cc7\",                        [{\"dimensions\":[{\"label\":\"l1\",\"range\":[5.0,9.0],\"values\":[6.0,6.0,8.0,8.0,5.0,5.0,6.0,6.0,8.0,8.0,7.0,7.0,8.0,8.0,7.0,7.0,7.0,7.0,9.0,9.0,9.0,9.0]},{\"label\":\"epochs\",\"range\":[5.0,10.0],\"values\":[7.0,7.0,8.0,8.0,9.0,9.0,6.0,6.0,8.0,8.0,10.0,10.0,6.0,6.0,5.0,5.0,7.0,7.0,9.0,9.0,9.0,9.0]},{\"label\":\"batch_size\",\"range\":[3.0,6.0],\"values\":[6.0,6.0,6.0,6.0,3.0,3.0,5.0,5.0,5.0,5.0,5.0,5.0,4.0,4.0,4.0,4.0,4.0,4.0,4.0,4.0,4.0,4.0]},{\"label\":\"act_fn\",\"range\":[0.0,1.0],\"values\":[1.0,1.0,1.0,1.0,0.0,0.0,0.0,0.0,0.0,0.0,1.0,1.0,1.0,1.0,1.0,1.0,0.0,0.0,0.0,0.0,1.0,1.0]},{\"label\":\"optimizer\",\"range\":[0.0,2.0],\"values\":[1.0,1.0,2.0,2.0,1.0,1.0,2.0,2.0,1.0,1.0,0.0,0.0,0.0,0.0,1.0,1.0,1.0,1.0,1.0,1.0,1.0,1.0]},{\"label\":\"dropout_prob\",\"range\":[0.02426280739731016,0.23933451103594558],\"values\":[0.20560368458693354,0.20560368458693354,0.02426280739731016,0.02426280739731016,0.07443535216560176,0.07443535216560176,0.18567441685948113,0.18567441685948113,0.13080206803532848,0.13080206803532848,0.11983781472185623,0.11983781472185623,0.09366384017851244,0.09366384017851244,0.03540914713540524,0.03540914713540524,0.23933451103594558,0.23933451103594558,0.15827496187066842,0.15827496187066842,0.1647723988730034,0.1647723988730034]},{\"label\":\"lr_mult\",\"range\":[0.7181246235247182,4.561411125937148],\"values\":[4.561411125937148,4.561411125937148,1.322803150188513,1.322803150188513,2.863550239963548,2.863550239963548,4.089366778039889,4.089366778039889,2.0077669995722074,2.0077669995722074,0.7181246235247182,0.7181246235247182,3.301460285082441,3.301460285082441,3.7811076839948083,3.7811076839948083,0.9693203335370014,0.9693203335370014,2.4208305977937328,2.4208305977937328,1.840511917259318,1.840511917259318]},{\"label\":\"patience\",\"range\":[3.0,5.0],\"values\":[3.0,3.0,4.0,4.0,4.0,4.0,4.0,4.0,3.0,3.0,4.0,4.0,5.0,5.0,5.0,5.0,3.0,3.0,4.0,4.0,4.0,4.0]}],\"line\":{\"cmax\":22.913419723510742,\"cmin\":13.820969581604004,\"color\":[20.20969009399414,20.051761627197266,15.70073127746582,15.502586364746094,15.79671859741211,16.472652435302734,18.945697784423828,18.523624420166016,15.432626724243164,15.104686737060547,16.840728759765625,17.4989013671875,22.83207893371582,22.913419723510742,17.299013137817383,17.1027774810791,17.801963806152344,15.633362770080566,14.050446510314941,13.820969581604004,15.127991676330566,14.914267539978027],\"colorscale\":[[0.0,\"rgb(0,0,131)\"],[0.2,\"rgb(0,60,170)\"],[0.4,\"rgb(5,255,255)\"],[0.6,\"rgb(255,255,0)\"],[0.8,\"rgb(250,0,0)\"],[1.0,\"rgb(128,0,0)\"]],\"showscale\":true},\"type\":\"parcoords\"}],                        {\"template\":{\"data\":{\"histogram2dcontour\":[{\"type\":\"histogram2dcontour\",\"colorbar\":{\"outlinewidth\":0,\"ticks\":\"\"},\"colorscale\":[[0.0,\"#0d0887\"],[0.1111111111111111,\"#46039f\"],[0.2222222222222222,\"#7201a8\"],[0.3333333333333333,\"#9c179e\"],[0.4444444444444444,\"#bd3786\"],[0.5555555555555556,\"#d8576b\"],[0.6666666666666666,\"#ed7953\"],[0.7777777777777778,\"#fb9f3a\"],[0.8888888888888888,\"#fdca26\"],[1.0,\"#f0f921\"]]}],\"choropleth\":[{\"type\":\"choropleth\",\"colorbar\":{\"outlinewidth\":0,\"ticks\":\"\"}}],\"histogram2d\":[{\"type\":\"histogram2d\",\"colorbar\":{\"outlinewidth\":0,\"ticks\":\"\"},\"colorscale\":[[0.0,\"#0d0887\"],[0.1111111111111111,\"#46039f\"],[0.2222222222222222,\"#7201a8\"],[0.3333333333333333,\"#9c179e\"],[0.4444444444444444,\"#bd3786\"],[0.5555555555555556,\"#d8576b\"],[0.6666666666666666,\"#ed7953\"],[0.7777777777777778,\"#fb9f3a\"],[0.8888888888888888,\"#fdca26\"],[1.0,\"#f0f921\"]]}],\"heatmap\":[{\"type\":\"heatmap\",\"colorbar\":{\"outlinewidth\":0,\"ticks\":\"\"},\"colorscale\":[[0.0,\"#0d0887\"],[0.1111111111111111,\"#46039f\"],[0.2222222222222222,\"#7201a8\"],[0.3333333333333333,\"#9c179e\"],[0.4444444444444444,\"#bd3786\"],[0.5555555555555556,\"#d8576b\"],[0.6666666666666666,\"#ed7953\"],[0.7777777777777778,\"#fb9f3a\"],[0.8888888888888888,\"#fdca26\"],[1.0,\"#f0f921\"]]}],\"heatmapgl\":[{\"type\":\"heatmapgl\",\"colorbar\":{\"outlinewidth\":0,\"ticks\":\"\"},\"colorscale\":[[0.0,\"#0d0887\"],[0.1111111111111111,\"#46039f\"],[0.2222222222222222,\"#7201a8\"],[0.3333333333333333,\"#9c179e\"],[0.4444444444444444,\"#bd3786\"],[0.5555555555555556,\"#d8576b\"],[0.6666666666666666,\"#ed7953\"],[0.7777777777777778,\"#fb9f3a\"],[0.8888888888888888,\"#fdca26\"],[1.0,\"#f0f921\"]]}],\"contourcarpet\":[{\"type\":\"contourcarpet\",\"colorbar\":{\"outlinewidth\":0,\"ticks\":\"\"}}],\"contour\":[{\"type\":\"contour\",\"colorbar\":{\"outlinewidth\":0,\"ticks\":\"\"},\"colorscale\":[[0.0,\"#0d0887\"],[0.1111111111111111,\"#46039f\"],[0.2222222222222222,\"#7201a8\"],[0.3333333333333333,\"#9c179e\"],[0.4444444444444444,\"#bd3786\"],[0.5555555555555556,\"#d8576b\"],[0.6666666666666666,\"#ed7953\"],[0.7777777777777778,\"#fb9f3a\"],[0.8888888888888888,\"#fdca26\"],[1.0,\"#f0f921\"]]}],\"surface\":[{\"type\":\"surface\",\"colorbar\":{\"outlinewidth\":0,\"ticks\":\"\"},\"colorscale\":[[0.0,\"#0d0887\"],[0.1111111111111111,\"#46039f\"],[0.2222222222222222,\"#7201a8\"],[0.3333333333333333,\"#9c179e\"],[0.4444444444444444,\"#bd3786\"],[0.5555555555555556,\"#d8576b\"],[0.6666666666666666,\"#ed7953\"],[0.7777777777777778,\"#fb9f3a\"],[0.8888888888888888,\"#fdca26\"],[1.0,\"#f0f921\"]]}],\"mesh3d\":[{\"type\":\"mesh3d\",\"colorbar\":{\"outlinewidth\":0,\"ticks\":\"\"}}],\"scatter\":[{\"fillpattern\":{\"fillmode\":\"overlay\",\"size\":10,\"solidity\":0.2},\"type\":\"scatter\"}],\"parcoords\":[{\"type\":\"parcoords\",\"line\":{\"colorbar\":{\"outlinewidth\":0,\"ticks\":\"\"}}}],\"scatterpolargl\":[{\"type\":\"scatterpolargl\",\"marker\":{\"colorbar\":{\"outlinewidth\":0,\"ticks\":\"\"}}}],\"bar\":[{\"error_x\":{\"color\":\"#2a3f5f\"},\"error_y\":{\"color\":\"#2a3f5f\"},\"marker\":{\"line\":{\"color\":\"#E5ECF6\",\"width\":0.5},\"pattern\":{\"fillmode\":\"overlay\",\"size\":10,\"solidity\":0.2}},\"type\":\"bar\"}],\"scattergeo\":[{\"type\":\"scattergeo\",\"marker\":{\"colorbar\":{\"outlinewidth\":0,\"ticks\":\"\"}}}],\"scatterpolar\":[{\"type\":\"scatterpolar\",\"marker\":{\"colorbar\":{\"outlinewidth\":0,\"ticks\":\"\"}}}],\"histogram\":[{\"marker\":{\"pattern\":{\"fillmode\":\"overlay\",\"size\":10,\"solidity\":0.2}},\"type\":\"histogram\"}],\"scattergl\":[{\"type\":\"scattergl\",\"marker\":{\"colorbar\":{\"outlinewidth\":0,\"ticks\":\"\"}}}],\"scatter3d\":[{\"type\":\"scatter3d\",\"line\":{\"colorbar\":{\"outlinewidth\":0,\"ticks\":\"\"}},\"marker\":{\"colorbar\":{\"outlinewidth\":0,\"ticks\":\"\"}}}],\"scattermapbox\":[{\"type\":\"scattermapbox\",\"marker\":{\"colorbar\":{\"outlinewidth\":0,\"ticks\":\"\"}}}],\"scatterternary\":[{\"type\":\"scatterternary\",\"marker\":{\"colorbar\":{\"outlinewidth\":0,\"ticks\":\"\"}}}],\"scattercarpet\":[{\"type\":\"scattercarpet\",\"marker\":{\"colorbar\":{\"outlinewidth\":0,\"ticks\":\"\"}}}],\"carpet\":[{\"aaxis\":{\"endlinecolor\":\"#2a3f5f\",\"gridcolor\":\"white\",\"linecolor\":\"white\",\"minorgridcolor\":\"white\",\"startlinecolor\":\"#2a3f5f\"},\"baxis\":{\"endlinecolor\":\"#2a3f5f\",\"gridcolor\":\"white\",\"linecolor\":\"white\",\"minorgridcolor\":\"white\",\"startlinecolor\":\"#2a3f5f\"},\"type\":\"carpet\"}],\"table\":[{\"cells\":{\"fill\":{\"color\":\"#EBF0F8\"},\"line\":{\"color\":\"white\"}},\"header\":{\"fill\":{\"color\":\"#C8D4E3\"},\"line\":{\"color\":\"white\"}},\"type\":\"table\"}],\"barpolar\":[{\"marker\":{\"line\":{\"color\":\"#E5ECF6\",\"width\":0.5},\"pattern\":{\"fillmode\":\"overlay\",\"size\":10,\"solidity\":0.2}},\"type\":\"barpolar\"}],\"pie\":[{\"automargin\":true,\"type\":\"pie\"}]},\"layout\":{\"autotypenumbers\":\"strict\",\"colorway\":[\"#636efa\",\"#EF553B\",\"#00cc96\",\"#ab63fa\",\"#FFA15A\",\"#19d3f3\",\"#FF6692\",\"#B6E880\",\"#FF97FF\",\"#FECB52\"],\"font\":{\"color\":\"#2a3f5f\"},\"hovermode\":\"closest\",\"hoverlabel\":{\"align\":\"left\"},\"paper_bgcolor\":\"white\",\"plot_bgcolor\":\"#E5ECF6\",\"polar\":{\"bgcolor\":\"#E5ECF6\",\"angularaxis\":{\"gridcolor\":\"white\",\"linecolor\":\"white\",\"ticks\":\"\"},\"radialaxis\":{\"gridcolor\":\"white\",\"linecolor\":\"white\",\"ticks\":\"\"}},\"ternary\":{\"bgcolor\":\"#E5ECF6\",\"aaxis\":{\"gridcolor\":\"white\",\"linecolor\":\"white\",\"ticks\":\"\"},\"baxis\":{\"gridcolor\":\"white\",\"linecolor\":\"white\",\"ticks\":\"\"},\"caxis\":{\"gridcolor\":\"white\",\"linecolor\":\"white\",\"ticks\":\"\"}},\"coloraxis\":{\"colorbar\":{\"outlinewidth\":0,\"ticks\":\"\"}},\"colorscale\":{\"sequential\":[[0.0,\"#0d0887\"],[0.1111111111111111,\"#46039f\"],[0.2222222222222222,\"#7201a8\"],[0.3333333333333333,\"#9c179e\"],[0.4444444444444444,\"#bd3786\"],[0.5555555555555556,\"#d8576b\"],[0.6666666666666666,\"#ed7953\"],[0.7777777777777778,\"#fb9f3a\"],[0.8888888888888888,\"#fdca26\"],[1.0,\"#f0f921\"]],\"sequentialminus\":[[0.0,\"#0d0887\"],[0.1111111111111111,\"#46039f\"],[0.2222222222222222,\"#7201a8\"],[0.3333333333333333,\"#9c179e\"],[0.4444444444444444,\"#bd3786\"],[0.5555555555555556,\"#d8576b\"],[0.6666666666666666,\"#ed7953\"],[0.7777777777777778,\"#fb9f3a\"],[0.8888888888888888,\"#fdca26\"],[1.0,\"#f0f921\"]],\"diverging\":[[0,\"#8e0152\"],[0.1,\"#c51b7d\"],[0.2,\"#de77ae\"],[0.3,\"#f1b6da\"],[0.4,\"#fde0ef\"],[0.5,\"#f7f7f7\"],[0.6,\"#e6f5d0\"],[0.7,\"#b8e186\"],[0.8,\"#7fbc41\"],[0.9,\"#4d9221\"],[1,\"#276419\"]]},\"xaxis\":{\"gridcolor\":\"white\",\"linecolor\":\"white\",\"ticks\":\"\",\"title\":{\"standoff\":15},\"zerolinecolor\":\"white\",\"automargin\":true,\"zerolinewidth\":2},\"yaxis\":{\"gridcolor\":\"white\",\"linecolor\":\"white\",\"ticks\":\"\",\"title\":{\"standoff\":15},\"zerolinecolor\":\"white\",\"automargin\":true,\"zerolinewidth\":2},\"scene\":{\"xaxis\":{\"backgroundcolor\":\"#E5ECF6\",\"gridcolor\":\"white\",\"linecolor\":\"white\",\"showbackground\":true,\"ticks\":\"\",\"zerolinecolor\":\"white\",\"gridwidth\":2},\"yaxis\":{\"backgroundcolor\":\"#E5ECF6\",\"gridcolor\":\"white\",\"linecolor\":\"white\",\"showbackground\":true,\"ticks\":\"\",\"zerolinecolor\":\"white\",\"gridwidth\":2},\"zaxis\":{\"backgroundcolor\":\"#E5ECF6\",\"gridcolor\":\"white\",\"linecolor\":\"white\",\"showbackground\":true,\"ticks\":\"\",\"zerolinecolor\":\"white\",\"gridwidth\":2}},\"shapedefaults\":{\"line\":{\"color\":\"#2a3f5f\"}},\"annotationdefaults\":{\"arrowcolor\":\"#2a3f5f\",\"arrowhead\":0,\"arrowwidth\":1},\"geo\":{\"bgcolor\":\"white\",\"landcolor\":\"#E5ECF6\",\"subunitcolor\":\"white\",\"showland\":true,\"showlakes\":true,\"lakecolor\":\"white\"},\"title\":{\"x\":0.05},\"mapbox\":{\"style\":\"light\"},\"margin\":{\"b\":0,\"l\":0,\"r\":0,\"t\":30}}}},                        {\"responsive\": true}                    ).then(function(){\n",
       "                            \n",
       "var gd = document.getElementById('4af441ac-99ee-44ee-ab92-da944c8c3cc7');\n",
       "var x = new MutationObserver(function (mutations, observer) {{\n",
       "        var display = window.getComputedStyle(gd).display;\n",
       "        if (!display || display === 'none') {{\n",
       "            console.log([gd, 'removed!']);\n",
       "            Plotly.purge(gd);\n",
       "            observer.disconnect();\n",
       "        }}\n",
       "}});\n",
       "\n",
       "// Listen for the removal of the full notebook cells\n",
       "var notebookContainer = gd.closest('#notebook-container');\n",
       "if (notebookContainer) {{\n",
       "    x.observe(notebookContainer, {childList: true});\n",
       "}}\n",
       "\n",
       "// Listen for the clearing of the current output cell\n",
       "var outputEl = gd.closest('.output');\n",
       "if (outputEl) {{\n",
       "    x.observe(outputEl, {childList: true});\n",
       "}}\n",
       "\n",
       "                        })                };                });            </script>        </div>"
      ]
     },
     "metadata": {},
     "output_type": "display_data"
    }
   ],
   "source": [
    "#| fig-cap: Parallel coordinates plots\n",
    "spot_tuner.parallel_plot()"
   ]
  },
  {
   "cell_type": "markdown",
   "id": "6a146ade",
   "metadata": {},
   "source": [
    "### Cross Validation With Lightning\n",
    "\n",
    "* The `KFold` class from `sklearn.model_selection` is used to generate the folds for cross-validation.\n",
    "* These mechanism is used to generate the folds for the final evaluation of the model.\n",
    "* The `CrossValidationDataModule` class [[SOURCE]](https://github.com/sequential-parameter-optimization/spotPython/blob/main/src/spotPython/data/lightcrossvalidationdatamodule.py) is used to generate the folds for the hyperparameter tuning process.\n",
    "* It is called from the `cv_model` function [[SOURCE]](https://github.com/sequential-parameter-optimization/spotPython/blob/main/src/spotPython/light/cvmodel.py).\n"
   ]
  },
  {
   "cell_type": "code",
   "execution_count": 24,
   "id": "61e4b84f",
   "metadata": {
    "vscode": {
     "languageId": "python"
    }
   },
   "outputs": [
    {
     "name": "stderr",
     "output_type": "stream",
     "text": [
      "/Users/bartz/miniforge3/envs/spotCondaEnv/lib/python3.11/site-packages/lightning/pytorch/utilities/parsing.py:198: Attribute 'act_fn' is an instance of `nn.Module` and is already saved during checkpointing. It is recommended to ignore them using `self.save_hyperparameters(ignore=['act_fn'])`.\n",
      "GPU available: True (mps), used: True\n"
     ]
    },
    {
     "name": "stderr",
     "output_type": "stream",
     "text": [
      "TPU available: False, using: 0 TPU cores\n"
     ]
    },
    {
     "name": "stderr",
     "output_type": "stream",
     "text": [
      "IPU available: False, using: 0 IPUs\n"
     ]
    },
    {
     "name": "stderr",
     "output_type": "stream",
     "text": [
      "HPU available: False, using: 0 HPUs\n"
     ]
    },
    {
     "name": "stderr",
     "output_type": "stream",
     "text": [
      "\n",
      "  | Name   | Type       | Params | In sizes | Out sizes\n",
      "-------------------------------------------------------------\n",
      "0 | layers | Sequential | 233 K  | [16, 6]  | [16, 1]  \n",
      "-------------------------------------------------------------\n",
      "233 K     Trainable params\n",
      "0         Non-trainable params\n",
      "233 K     Total params\n",
      "0.935     Total estimated model params size (MB)\n"
     ]
    },
    {
     "name": "stdout",
     "output_type": "stream",
     "text": [
      "k: 0\n",
      "Train Dataset Size: 20918\n",
      "Val Dataset Size: 20919\n"
     ]
    },
    {
     "name": "stderr",
     "output_type": "stream",
     "text": [
      "/Users/bartz/miniforge3/envs/spotCondaEnv/lib/python3.11/site-packages/lightning/pytorch/trainer/connectors/data_connector.py:441: The 'val_dataloader' does not have many workers which may be a bottleneck. Consider increasing the value of the `num_workers` argument` to `num_workers=11` in the `DataLoader` to improve performance.\n",
      "/Users/bartz/miniforge3/envs/spotCondaEnv/lib/python3.11/site-packages/lightning/pytorch/trainer/connectors/data_connector.py:441: The 'train_dataloader' does not have many workers which may be a bottleneck. Consider increasing the value of the `num_workers` argument` to `num_workers=11` in the `DataLoader` to improve performance.\n"
     ]
    },
    {
     "data": {
      "text/html": [
       "<pre style=\"white-space:pre;overflow-x:auto;line-height:normal;font-family:Menlo,'DejaVu Sans Mono',consolas,'Courier New',monospace\">┏━━━━━━━━━━━━━━━━━━━━━━━━━━━┳━━━━━━━━━━━━━━━━━━━━━━━━━━━┓\n",
       "┃<span style=\"font-weight: bold\">      Validate metric      </span>┃<span style=\"font-weight: bold\">       DataLoader 0        </span>┃\n",
       "┡━━━━━━━━━━━━━━━━━━━━━━━━━━━╇━━━━━━━━━━━━━━━━━━━━━━━━━━━┩\n",
       "│<span style=\"color: #008080; text-decoration-color: #008080\">         hp_metric         </span>│<span style=\"color: #800080; text-decoration-color: #800080\">    14.243213653564453     </span>│\n",
       "│<span style=\"color: #008080; text-decoration-color: #008080\">         val_loss          </span>│<span style=\"color: #800080; text-decoration-color: #800080\">    14.243213653564453     </span>│\n",
       "└───────────────────────────┴───────────────────────────┘\n",
       "</pre>\n"
      ],
      "text/plain": [
       "┏━━━━━━━━━━━━━━━━━━━━━━━━━━━┳━━━━━━━━━━━━━━━━━━━━━━━━━━━┓\n",
       "┃\u001b[1m \u001b[0m\u001b[1m     Validate metric     \u001b[0m\u001b[1m \u001b[0m┃\u001b[1m \u001b[0m\u001b[1m      DataLoader 0       \u001b[0m\u001b[1m \u001b[0m┃\n",
       "┡━━━━━━━━━━━━━━━━━━━━━━━━━━━╇━━━━━━━━━━━━━━━━━━━━━━━━━━━┩\n",
       "│\u001b[36m \u001b[0m\u001b[36m        hp_metric        \u001b[0m\u001b[36m \u001b[0m│\u001b[35m \u001b[0m\u001b[35m   14.243213653564453    \u001b[0m\u001b[35m \u001b[0m│\n",
       "│\u001b[36m \u001b[0m\u001b[36m        val_loss         \u001b[0m\u001b[36m \u001b[0m│\u001b[35m \u001b[0m\u001b[35m   14.243213653564453    \u001b[0m\u001b[35m \u001b[0m│\n",
       "└───────────────────────────┴───────────────────────────┘\n"
      ]
     },
     "metadata": {},
     "output_type": "display_data"
    },
    {
     "name": "stderr",
     "output_type": "stream",
     "text": [
      "GPU available: True (mps), used: True\n"
     ]
    },
    {
     "name": "stderr",
     "output_type": "stream",
     "text": [
      "TPU available: False, using: 0 TPU cores\n"
     ]
    },
    {
     "name": "stderr",
     "output_type": "stream",
     "text": [
      "IPU available: False, using: 0 IPUs\n"
     ]
    },
    {
     "name": "stderr",
     "output_type": "stream",
     "text": [
      "HPU available: False, using: 0 HPUs\n"
     ]
    },
    {
     "name": "stderr",
     "output_type": "stream",
     "text": [
      "/Users/bartz/miniforge3/envs/spotCondaEnv/lib/python3.11/site-packages/lightning/pytorch/callbacks/model_checkpoint.py:639: Checkpoint directory runs/lightning_logs/20240220080517095337_512_512_16_ReLU_Adamax_0.1583_2.4208_16_Default_CV/checkpoints exists and is not empty.\n",
      "\n",
      "  | Name   | Type       | Params | In sizes | Out sizes\n",
      "-------------------------------------------------------------\n",
      "0 | layers | Sequential | 233 K  | [16, 6]  | [16, 1]  \n",
      "-------------------------------------------------------------\n",
      "233 K     Trainable params\n",
      "0         Non-trainable params\n",
      "233 K     Total params\n",
      "0.935     Total estimated model params size (MB)\n"
     ]
    },
    {
     "name": "stdout",
     "output_type": "stream",
     "text": [
      "train_model result: {'val_loss': 14.243213653564453, 'hp_metric': 14.243213653564453}\n",
      "k: 1\n",
      "Train Dataset Size: 20919\n",
      "Val Dataset Size: 20918\n"
     ]
    },
    {
     "data": {
      "text/html": [
       "<pre style=\"white-space:pre;overflow-x:auto;line-height:normal;font-family:Menlo,'DejaVu Sans Mono',consolas,'Courier New',monospace\">┏━━━━━━━━━━━━━━━━━━━━━━━━━━━┳━━━━━━━━━━━━━━━━━━━━━━━━━━━┓\n",
       "┃<span style=\"font-weight: bold\">      Validate metric      </span>┃<span style=\"font-weight: bold\">       DataLoader 0        </span>┃\n",
       "┡━━━━━━━━━━━━━━━━━━━━━━━━━━━╇━━━━━━━━━━━━━━━━━━━━━━━━━━━┩\n",
       "│<span style=\"color: #008080; text-decoration-color: #008080\">         hp_metric         </span>│<span style=\"color: #800080; text-decoration-color: #800080\">    14.557976722717285     </span>│\n",
       "│<span style=\"color: #008080; text-decoration-color: #008080\">         val_loss          </span>│<span style=\"color: #800080; text-decoration-color: #800080\">    14.557976722717285     </span>│\n",
       "└───────────────────────────┴───────────────────────────┘\n",
       "</pre>\n"
      ],
      "text/plain": [
       "┏━━━━━━━━━━━━━━━━━━━━━━━━━━━┳━━━━━━━━━━━━━━━━━━━━━━━━━━━┓\n",
       "┃\u001b[1m \u001b[0m\u001b[1m     Validate metric     \u001b[0m\u001b[1m \u001b[0m┃\u001b[1m \u001b[0m\u001b[1m      DataLoader 0       \u001b[0m\u001b[1m \u001b[0m┃\n",
       "┡━━━━━━━━━━━━━━━━━━━━━━━━━━━╇━━━━━━━━━━━━━━━━━━━━━━━━━━━┩\n",
       "│\u001b[36m \u001b[0m\u001b[36m        hp_metric        \u001b[0m\u001b[36m \u001b[0m│\u001b[35m \u001b[0m\u001b[35m   14.557976722717285    \u001b[0m\u001b[35m \u001b[0m│\n",
       "│\u001b[36m \u001b[0m\u001b[36m        val_loss         \u001b[0m\u001b[36m \u001b[0m│\u001b[35m \u001b[0m\u001b[35m   14.557976722717285    \u001b[0m\u001b[35m \u001b[0m│\n",
       "└───────────────────────────┴───────────────────────────┘\n"
      ]
     },
     "metadata": {},
     "output_type": "display_data"
    },
    {
     "name": "stdout",
     "output_type": "stream",
     "text": [
      "train_model result: {'val_loss': 14.557976722717285, 'hp_metric': 14.557976722717285}\n"
     ]
    },
    {
     "data": {
      "text/plain": [
       "14.40059518814087"
      ]
     },
     "execution_count": 23,
     "metadata": {},
     "output_type": "execute_result"
    }
   ],
   "source": [
    "from spotPython.light.cvmodel import cv_model\n",
    "set_control_key_value(control_dict=fun_control,\n",
    "                        key=\"k_folds\",\n",
    "                        value=2,\n",
    "                        replace=True)\n",
    "set_control_key_value(control_dict=fun_control,\n",
    "                        key=\"test_size\",\n",
    "                        value=0.6,\n",
    "                        replace=True)\n",
    "cv_model(config, fun_control)"
   ]
  },
  {
   "cell_type": "markdown",
   "id": "ef3db685",
   "metadata": {},
   "source": [
    "### Plot all Combinations of Hyperparameters\n",
    "\n",
    "* Warning: this may take a while.\n"
   ]
  },
  {
   "cell_type": "code",
   "execution_count": 25,
   "id": "73ab95d4",
   "metadata": {
    "vscode": {
     "languageId": "python"
    }
   },
   "outputs": [],
   "source": [
    "PLOT_ALL = False\n",
    "if PLOT_ALL:\n",
    "    n = spot_tuner.k\n",
    "    for i in range(n-1):\n",
    "        for j in range(i+1, n):\n",
    "            spot_tuner.plot_contour(i=i, j=j, min_z=min_z, max_z = max_z)"
   ]
  },
  {
   "cell_type": "markdown",
   "id": "6b38e74a",
   "metadata": {},
   "source": [
    "### Visualizing the Activation Distribution (Under Development)\n",
    "\n",
    "::: {.callout-note}\n",
    "### Reference:\n",
    "\n",
    "* The following code is based on [[PyTorch Lightning TUTORIAL 2: ACTIVATION FUNCTIONS]](https://lightning.ai/docs/pytorch/stable/notebooks/course_UvA-DL/02-activation-functions.html), Author: Phillip Lippe, License: [[CC BY-SA]](https://creativecommons.org/licenses/by-sa/3.0/), Generated: 2023-03-15T09:52:39.179933.\n",
    "\n",
    ":::\n",
    "\n",
    "After we have trained the models, we can look at the actual activation values that find inside the model. For instance, how many neurons are set to zero in ReLU? Where do we find most values in Tanh? To answer these questions, we can write a simple function which takes a trained model, applies it to a batch of images, and plots the histogram of the activations inside the network:\n"
   ]
  },
  {
   "cell_type": "code",
   "execution_count": 26,
   "id": "dc03414a",
   "metadata": {
    "vscode": {
     "languageId": "python"
    }
   },
   "outputs": [],
   "source": [
    "from spotPython.torch.activation import Sigmoid, Tanh, ReLU, LeakyReLU, ELU, Swish\n",
    "act_fn_by_name = {\"sigmoid\": Sigmoid, \"tanh\": Tanh, \"relu\": ReLU, \"leakyrelu\": LeakyReLU, \"elu\": ELU, \"swish\": Swish}"
   ]
  },
  {
   "cell_type": "code",
   "execution_count": 27,
   "id": "a5068993",
   "metadata": {
    "vscode": {
     "languageId": "python"
    }
   },
   "outputs": [
    {
     "data": {
      "text/plain": [
       "NetLightRegression(\n",
       "  (layers): Sequential(\n",
       "    (0): Linear(in_features=64, out_features=512, bias=True)\n",
       "    (1): ReLU()\n",
       "    (2): Dropout(p=0.15827496187066842, inplace=False)\n",
       "    (3): Linear(in_features=512, out_features=256, bias=True)\n",
       "    (4): ReLU()\n",
       "    (5): Dropout(p=0.15827496187066842, inplace=False)\n",
       "    (6): Linear(in_features=256, out_features=256, bias=True)\n",
       "    (7): ReLU()\n",
       "    (8): Dropout(p=0.15827496187066842, inplace=False)\n",
       "    (9): Linear(in_features=256, out_features=128, bias=True)\n",
       "    (10): ReLU()\n",
       "    (11): Dropout(p=0.15827496187066842, inplace=False)\n",
       "    (12): Linear(in_features=128, out_features=11, bias=True)\n",
       "  )\n",
       ")"
      ]
     },
     "execution_count": 26,
     "metadata": {},
     "output_type": "execute_result"
    }
   ],
   "source": [
    "from spotPython.hyperparameters.values import get_one_config_from_X\n",
    "X = spot_tuner.to_all_dim(spot_tuner.min_X.reshape(1,-1))\n",
    "config = get_one_config_from_X(X, fun_control)\n",
    "model = fun_control[\"core_model\"](**config, _L_in=64, _L_out=11)\n",
    "model"
   ]
  },
  {
   "cell_type": "code",
   "execution_count": 28,
   "id": "f453e82d",
   "metadata": {
    "vscode": {
     "languageId": "python"
    }
   },
   "outputs": [],
   "source": [
    "# from spotPython.utils.eda import visualize_activations\n",
    "# visualize_activations(model, color=f\"C{0}\")"
   ]
  }
 ],
 "metadata": {
  "kernelspec": {
   "display_name": "Python 3 (ipykernel)",
   "language": "python",
   "name": "python3"
  },
  "language_info": {
   "codemirror_mode": {
    "name": "ipython",
    "version": 3
   },
   "file_extension": ".py",
   "mimetype": "text/x-python",
   "name": "python",
   "nbconvert_exporter": "python",
   "pygments_lexer": "ipython3",
   "version": "3.11.7"
  }
 },
 "nbformat": 4,
 "nbformat_minor": 5
}
