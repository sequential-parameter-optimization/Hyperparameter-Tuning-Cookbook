{
  "cells": [
    {
      "cell_type": "markdown",
      "metadata": {},
      "source": [
        "---\n",
        "execute:\n",
        "  cache: false\n",
        "  eval: true\n",
        "  echo: true\n",
        "  warning: false\n",
        "title: Hyperparameter Tuning with `spotpython` and `PyTorch` Lightning Using a CondNet Model\n",
        "jupyter: python3\n",
        "---"
      ]
    },
    {
      "cell_type": "code",
      "metadata": {},
      "source": [
        "#| label: 608_user-user-imports\n",
        "#| echo: false\n",
        "import os\n",
        "from math import inf\n",
        "import warnings\n",
        "warnings.filterwarnings(\"ignore\")"
      ],
      "execution_count": null,
      "outputs": []
    },
    {
      "cell_type": "markdown",
      "metadata": {},
      "source": [
        "* We use the `Diabetes` dataset to illustrate the hyperparameter tuning process of a `CondNet` model using the `spotpython` package.\n",
        "* The CondNet model is a conditional neural network that can be used to model conditional distributions [[LINK]](https://sequential-parameter-optimization.github.io/spotPython/reference/spotpython/light/regression/nn_condnet_regressor/).\n",
        "\n",
        "Note, the `divergence_threshold` is set to 5,000, which is based on some pre-experiments with the `Diabetes` data set."
      ]
    },
    {
      "cell_type": "code",
      "metadata": {},
      "source": [
        "#| label: 608_cond_net_setup\n",
        "from spotpython.data.diabetes import Diabetes\n",
        "from spotpython.hyperdict.light_hyper_dict import LightHyperDict\n",
        "from spotpython.fun.hyperlight import HyperLight\n",
        "from spotpython.utils.init import (fun_control_init, surrogate_control_init, design_control_init)\n",
        "from spotpython.utils.eda import print_exp_table\n",
        "from spotpython.spot import Spot\n",
        "from spotpython.utils.file import get_experiment_filename\n",
        "from math import inf\n",
        "from spotpython.hyperparameters.values import set_hyperparameter\n",
        "\n",
        "PREFIX=\"CondNet_01\"\n",
        "\n",
        "data_set = Diabetes()\n",
        "input_dim = 10\n",
        "output_dim = 1\n",
        "cond_dim = 2\n",
        "\n",
        "fun_control = fun_control_init(\n",
        "    PREFIX=PREFIX,\n",
        "    fun_evals=inf,\n",
        "    max_time=1,\n",
        "    data_set = data_set,\n",
        "    core_model_name=\"light.regression.NNCondNetRegressor\",\n",
        "    hyperdict=LightHyperDict,\n",
        "    divergence_threshold=5_000,\n",
        "    _L_in=input_dim - cond_dim,\n",
        "    _L_out=1,\n",
        "    _L_cond=cond_dim,)\n",
        "\n",
        "fun = HyperLight().fun\n",
        "\n",
        "\n",
        "set_hyperparameter(fun_control, \"optimizer\", [ \"Adadelta\", \"Adam\", \"Adamax\"])\n",
        "set_hyperparameter(fun_control, \"l1\", [3,4])\n",
        "set_hyperparameter(fun_control, \"epochs\", [3,7])\n",
        "set_hyperparameter(fun_control, \"batch_size\", [4,5])\n",
        "set_hyperparameter(fun_control, \"dropout_prob\", [0.0, 0.025])\n",
        "set_hyperparameter(fun_control, \"patience\", [2,3])\n",
        "set_hyperparameter(fun_control, \"lr_mult\", [0.1, 20.0])\n",
        "\n",
        "design_control = design_control_init(init_size=10)\n",
        "\n",
        "print_exp_table(fun_control)"
      ],
      "execution_count": null,
      "outputs": []
    },
    {
      "cell_type": "code",
      "metadata": {},
      "source": [
        "#| label: 608_cond_net_run\n",
        "spot_tuner = Spot(fun=fun,fun_control=fun_control, design_control=design_control)\n",
        "res = spot_tuner.run()"
      ],
      "execution_count": null,
      "outputs": []
    },
    {
      "cell_type": "markdown",
      "metadata": {},
      "source": [
        "## Looking at the Results\n",
        "\n",
        "### Tuning Progress\n",
        "\n",
        "After the hyperparameter tuning run is finished, the progress of the hyperparameter tuning can be visualized with `spotpython`'s method `plot_progress`. The black points represent the performace values (score or metric) of  hyperparameter configurations from the initial design, whereas the red points represents the  hyperparameter configurations found by the surrogate model based optimization."
      ]
    },
    {
      "cell_type": "code",
      "metadata": {},
      "source": [
        "spot_tuner.plot_progress()"
      ],
      "execution_count": null,
      "outputs": []
    },
    {
      "cell_type": "markdown",
      "metadata": {},
      "source": [
        "### Tuned Hyperparameters and Their Importance\n",
        "\n",
        "Results can be printed in tabular form."
      ]
    },
    {
      "cell_type": "code",
      "metadata": {},
      "source": [
        "from spotpython.utils.eda import print_res_table\n",
        "print_res_table(spot_tuner)"
      ],
      "execution_count": null,
      "outputs": []
    },
    {
      "cell_type": "markdown",
      "metadata": {},
      "source": [
        "A histogram can be used to visualize the most important hyperparameters."
      ]
    },
    {
      "cell_type": "code",
      "metadata": {},
      "source": [
        "spot_tuner.plot_importance(threshold=1.0)"
      ],
      "execution_count": null,
      "outputs": []
    },
    {
      "cell_type": "code",
      "metadata": {},
      "source": [
        "spot_tuner.plot_important_hyperparameter_contour(max_imp=3)"
      ],
      "execution_count": null,
      "outputs": []
    },
    {
      "cell_type": "markdown",
      "metadata": {},
      "source": [
        "### Get the Tuned Architecture {#sec-get-spot-results-608}"
      ]
    },
    {
      "cell_type": "code",
      "metadata": {},
      "source": [
        "import pprint\n",
        "from spotpython.hyperparameters.values import get_tuned_architecture\n",
        "config = get_tuned_architecture(spot_tuner)\n",
        "pprint.pprint(config)"
      ],
      "execution_count": null,
      "outputs": []
    }
  ],
  "metadata": {
    "kernelspec": {
      "name": "python3",
      "language": "python",
      "display_name": "Python 3 (ipykernel)",
      "path": "/Users/bartz/miniforge3/envs/spot313/share/jupyter/kernels/python3"
    }
  },
  "nbformat": 4,
  "nbformat_minor": 4
}