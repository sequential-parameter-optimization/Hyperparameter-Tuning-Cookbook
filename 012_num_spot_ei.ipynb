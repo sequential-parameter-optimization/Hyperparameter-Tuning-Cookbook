{
 "cells": [
  {
   "cell_type": "raw",
   "id": "f62212d9",
   "metadata": {},
   "source": [
    "---\n",
    "execute:\n",
    "  cache: false\n",
    "  eval: true\n",
    "  echo: true\n",
    "  warning: false\n",
    "---"
   ]
  },
  {
   "cell_type": "markdown",
   "id": "31ed11a1",
   "metadata": {},
   "source": [
    "# Expected Improvement {#sec-expected-improvement}\n",
    "\n",
    "This chapter describes, analyzes, and compares different infill criterion. An infill criterion defines how the next point $x_{n+1}$ is selected from the surrogate model $S$. Expected improvement is a popular infill criterion in Bayesian optimization.\n",
    "\n",
    "## Example: `Spot` and the 1-dim Sphere Function\n"
   ]
  },
  {
   "cell_type": "code",
   "execution_count": 1,
   "id": "be048830",
   "metadata": {},
   "outputs": [
    {
     "name": "stderr",
     "output_type": "stream",
     "text": [
      "Seed set to 123\n"
     ]
    }
   ],
   "source": [
    "import numpy as np\n",
    "from math import inf\n",
    "from spotpython.fun.objectivefunctions import analytical\n",
    "from spotpython.spot import spot\n",
    "from spotpython.utils.init import fun_control_init, surrogate_control_init, design_control_init\n",
    "import matplotlib.pyplot as plt"
   ]
  },
  {
   "cell_type": "markdown",
   "id": "4450a7c4",
   "metadata": {},
   "source": [
    "### The Objective Function: 1-dim Sphere\n",
    "\n",
    "* The `spotpython` package provides several classes of objective functions.\n",
    "* We will use an analytical objective function, i.e., a function that can be described by a (closed) formula:\n",
    "   $$f(x) = x^2 $$\n"
   ]
  },
  {
   "cell_type": "code",
   "execution_count": 2,
   "id": "dc404bc7",
   "metadata": {},
   "outputs": [],
   "source": [
    "fun = analytical().fun_sphere"
   ]
  },
  {
   "cell_type": "markdown",
   "id": "1af5bce1",
   "metadata": {},
   "source": [
    "* The size of the `lower` bound vector determines the problem dimension.\n",
    "* Here we will use `np.array([-1])`, i.e., a one-dim function.\n",
    "\n",
    ":::{.callout-note}\n",
    "#### TensorBoard\n",
    "\n",
    "Similar to the one-dimensional case, which was introduced in Section @sec-visualizing-tensorboard-01, we can use TensorBoard to monitor the progress of the optimization. We will use the same code, only the prefix is different:\n"
   ]
  },
  {
   "cell_type": "code",
   "execution_count": 3,
   "id": "c1cfcb3f",
   "metadata": {},
   "outputs": [
    {
     "name": "stderr",
     "output_type": "stream",
     "text": [
      "Seed set to 123\n"
     ]
    }
   ],
   "source": [
    "from spotpython.utils.init import fun_control_init\n",
    "PREFIX = \"07_Y\"\n",
    "fun_control = fun_control_init(\n",
    "    PREFIX=PREFIX,\n",
    "    fun_evals = 25,\n",
    "    lower = np.array([-1]),\n",
    "    upper = np.array([1]),\n",
    "    tolerance_x = np.sqrt(np.spacing(1)),)\n",
    "design_control = design_control_init(init_size=10)"
   ]
  },
  {
   "cell_type": "markdown",
   "id": "af0e356b",
   "metadata": {},
   "source": [
    ":::\n"
   ]
  },
  {
   "cell_type": "code",
   "execution_count": 4,
   "id": "a347ca2b",
   "metadata": {},
   "outputs": [
    {
     "name": "stdout",
     "output_type": "stream",
     "text": [
      "spotpython tuning: 4.959603317754042e-09 [####------] 44.00% \n",
      "spotpython tuning: 4.959603317754042e-09 [#####-----] 48.00% \n",
      "spotpython tuning: 4.959603317754042e-09 [#####-----] 52.00% \n",
      "spotpython tuning: 4.959603317754042e-09 [######----] 56.00% \n",
      "spotpython tuning: 1.7538785665210774e-10 [######----] 60.00% \n",
      "spotpython tuning: 5.299979470384224e-12 [######----] 64.00% \n",
      "spotpython tuning: 5.299979470384224e-12 [#######---] 68.00% \n",
      "spotpython tuning: 5.299979470384224e-12 [#######---] 72.00% \n",
      "spotpython tuning: 5.299979470384224e-12 [########--] 76.00% \n",
      "spotpython tuning: 5.299979470384224e-12 [########--] 80.00% \n",
      "spotpython tuning: 5.299979470384224e-12 [########--] 84.00% \n",
      "spotpython tuning: 5.299979470384224e-12 [#########-] 88.00% \n",
      "spotpython tuning: 5.299979470384224e-12 [#########-] 92.00% \n",
      "spotpython tuning: 5.299979470384224e-12 [##########] 96.00% \n",
      "spotpython tuning: 5.299979470384224e-12 [##########] 100.00% Done...\n",
      "\n"
     ]
    },
    {
     "data": {
      "text/plain": [
       "<spotpython.spot.spot.Spot at 0x107bb3c50>"
      ]
     },
     "execution_count": 4,
     "metadata": {},
     "output_type": "execute_result"
    }
   ],
   "source": [
    "spot_1 = spot.Spot(\n",
    "            fun=fun,\n",
    "            fun_control=fun_control,\n",
    "            design_control=design_control)\n",
    "spot_1.run()"
   ]
  },
  {
   "cell_type": "markdown",
   "id": "70a59dda",
   "metadata": {},
   "source": [
    "### Results\n"
   ]
  },
  {
   "cell_type": "code",
   "execution_count": 5,
   "id": "3e3e1edd",
   "metadata": {},
   "outputs": [
    {
     "name": "stdout",
     "output_type": "stream",
     "text": [
      "min y: 5.299979470384224e-12\n",
      "x0: 2.302168427892326e-06\n"
     ]
    },
    {
     "data": {
      "text/plain": [
       "[['x0', 2.302168427892326e-06]]"
      ]
     },
     "execution_count": 5,
     "metadata": {},
     "output_type": "execute_result"
    }
   ],
   "source": [
    "spot_1.print_results()"
   ]
  },
  {
   "cell_type": "code",
   "execution_count": 6,
   "id": "c8614f4b",
   "metadata": {},
   "outputs": [],
   "source": [
    "spot_1.plot_progress(log_y=True)"
   ]
  },
  {
   "cell_type": "markdown",
   "id": "063b7d13",
   "metadata": {},
   "source": [
    "![TensorBoard visualization of the spotpython optimization process and the surrogate model.](figures_static/07_tensorboard_Y.png){width=\"100%\"}\n",
    "\n",
    "## Same, but with EI as infill_criterion\n"
   ]
  },
  {
   "cell_type": "code",
   "execution_count": 7,
   "id": "da740045",
   "metadata": {},
   "outputs": [
    {
     "name": "stderr",
     "output_type": "stream",
     "text": [
      "Seed set to 123\n"
     ]
    }
   ],
   "source": [
    "PREFIX = \"07_EI_ISO\"\n",
    "fun_control = fun_control_init(\n",
    "    PREFIX=PREFIX,\n",
    "    lower = np.array([-1]),\n",
    "    upper = np.array([1]),\n",
    "    fun_evals = 25,\n",
    "    tolerance_x = np.sqrt(np.spacing(1)),\n",
    "    infill_criterion = \"ei\")"
   ]
  },
  {
   "cell_type": "code",
   "execution_count": 8,
   "id": "22a91888",
   "metadata": {},
   "outputs": [
    {
     "name": "stdout",
     "output_type": "stream",
     "text": [
      "spotpython tuning: 7.188987729200596e-08 [####------] 44.00% \n",
      "spotpython tuning: 7.188987729200596e-08 [#####-----] 48.00% \n",
      "spotpython tuning: 7.188987729200596e-08 [#####-----] 52.00% \n",
      "spotpython tuning: 7.188987729200596e-08 [######----] 56.00% \n",
      "spotpython tuning: 5.939954122907979e-08 [######----] 60.00% \n",
      "spotpython tuning: 1.3947524785731501e-08 [######----] 64.00% \n",
      "spotpython tuning: 1.3947524785731501e-08 [#######---] 68.00% \n",
      "spotpython tuning: 1.3947524785731501e-08 [#######---] 72.00% \n",
      "spotpython tuning: 1.3947524785731501e-08 [########--] 76.00% \n",
      "spotpython tuning: 1.3947524785731501e-08 [########--] 80.00% \n",
      "spotpython tuning: 4.854409561808151e-10 [########--] 84.00% \n",
      "spotpython tuning: 4.854409561808151e-10 [#########-] 88.00% \n",
      "spotpython tuning: 2.611463411033466e-11 [#########-] 92.00% \n",
      "spotpython tuning: 2.611463411033466e-11 [##########] 96.00% \n",
      "spotpython tuning: 2.611463411033466e-11 [##########] 100.00% Done...\n",
      "\n"
     ]
    },
    {
     "data": {
      "text/plain": [
       "<spotpython.spot.spot.Spot at 0x107bb2de0>"
      ]
     },
     "execution_count": 8,
     "metadata": {},
     "output_type": "execute_result"
    }
   ],
   "source": [
    "spot_1_ei = spot.Spot(fun=fun,\n",
    "                     fun_control=fun_control)\n",
    "spot_1_ei.run()"
   ]
  },
  {
   "cell_type": "code",
   "execution_count": 9,
   "id": "fb12c3d8",
   "metadata": {},
   "outputs": [],
   "source": [
    "spot_1_ei.plot_progress(log_y=True)"
   ]
  },
  {
   "cell_type": "code",
   "execution_count": 10,
   "id": "8af00bcb",
   "metadata": {},
   "outputs": [
    {
     "name": "stdout",
     "output_type": "stream",
     "text": [
      "min y: 2.611463411033466e-11\n",
      "x0: 5.110247949985857e-06\n"
     ]
    },
    {
     "data": {
      "text/plain": [
       "[['x0', 5.110247949985857e-06]]"
      ]
     },
     "execution_count": 10,
     "metadata": {},
     "output_type": "execute_result"
    }
   ],
   "source": [
    "spot_1_ei.print_results()"
   ]
  },
  {
   "cell_type": "markdown",
   "id": "46eb1ff7",
   "metadata": {},
   "source": [
    "![TensorBoard visualization of the spotpython optimization process and the surrogate model. Expected improvement, isotropic Kriging.](figures_static/07_tensorboard_EI_ISO.png){width=\"100%\"}\n",
    "\n",
    "\n",
    "## Non-isotropic Kriging\n"
   ]
  },
  {
   "cell_type": "code",
   "execution_count": 11,
   "id": "19d91e5f",
   "metadata": {},
   "outputs": [
    {
     "name": "stderr",
     "output_type": "stream",
     "text": [
      "Seed set to 123\n"
     ]
    }
   ],
   "source": [
    "PREFIX = \"07_EI_NONISO\"\n",
    "fun_control = fun_control_init(\n",
    "    PREFIX=PREFIX,\n",
    "    lower = np.array([-1, -1]),\n",
    "    upper = np.array([1, 1]),\n",
    "    fun_evals = 25,\n",
    "    tolerance_x = np.sqrt(np.spacing(1)),\n",
    "    infill_criterion = \"ei\")\n",
    "surrogate_control = surrogate_control_init(\n",
    "    n_theta=2,\n",
    "    noise=False,\n",
    "    )"
   ]
  },
  {
   "cell_type": "code",
   "execution_count": 12,
   "id": "92ce270f",
   "metadata": {},
   "outputs": [
    {
     "name": "stdout",
     "output_type": "stream",
     "text": [
      "spotpython tuning: 1.8084153639415482e-05 [####------] 44.00% \n",
      "spotpython tuning: 1.8084153639415482e-05 [#####-----] 48.00% \n",
      "spotpython tuning: 1.8084153639415482e-05 [#####-----] 52.00% \n",
      "spotpython tuning: 1.8084153639415482e-05 [######----] 56.00% \n",
      "spotpython tuning: 1.8084153639415482e-05 [######----] 60.00% \n",
      "spotpython tuning: 1.8084153639415482e-05 [######----] 64.00% \n",
      "spotpython tuning: 1.8084153639415482e-05 [#######---] 68.00% \n",
      "spotpython tuning: 1.8084153639415482e-05 [#######---] 72.00% \n",
      "spotpython tuning: 1.8084153639415482e-05 [########--] 76.00% \n",
      "spotpython tuning: 1.7065306452997463e-05 [########--] 80.00% \n",
      "spotpython tuning: 1.7065306452997463e-05 [########--] 84.00% \n",
      "spotpython tuning: 7.056740725219606e-06 [#########-] 88.00% \n",
      "spotpython tuning: 7.056740725219606e-06 [#########-] 92.00% \n",
      "spotpython tuning: 7.056740725219606e-06 [##########] 96.00% \n",
      "spotpython tuning: 7.056740725219606e-06 [##########] 100.00% Done...\n",
      "\n"
     ]
    },
    {
     "data": {
      "text/plain": [
       "<spotpython.spot.spot.Spot at 0x3584966c0>"
      ]
     },
     "execution_count": 12,
     "metadata": {},
     "output_type": "execute_result"
    }
   ],
   "source": [
    "spot_2_ei_noniso = spot.Spot(fun=fun,\n",
    "                   fun_control=fun_control,\n",
    "                   surrogate_control=surrogate_control)\n",
    "spot_2_ei_noniso.run()"
   ]
  },
  {
   "cell_type": "code",
   "execution_count": 13,
   "id": "1f8a4452",
   "metadata": {},
   "outputs": [
    {
     "name": "stderr",
     "output_type": "stream",
     "text": [
      "can't invoke \"event\" command: application has been destroyed\n",
      "    while executing\n",
      "\"event generate $w <<ThemeChanged>>\"\n",
      "    (procedure \"ttk::ThemeChanged\" line 6)\n",
      "    invoked from within\n",
      "\"ttk::ThemeChanged\"\n"
     ]
    }
   ],
   "source": [
    "spot_2_ei_noniso.plot_progress(log_y=True)"
   ]
  },
  {
   "cell_type": "code",
   "execution_count": 14,
   "id": "ffdbab87",
   "metadata": {},
   "outputs": [
    {
     "name": "stdout",
     "output_type": "stream",
     "text": [
      "min y: 7.056740725219606e-06\n",
      "x0: -0.0025062845492088196\n",
      "x1: -0.0008804989969425007\n"
     ]
    },
    {
     "data": {
      "text/plain": [
       "[['x0', -0.0025062845492088196], ['x1', -0.0008804989969425007]]"
      ]
     },
     "execution_count": 14,
     "metadata": {},
     "output_type": "execute_result"
    }
   ],
   "source": [
    "spot_2_ei_noniso.print_results()"
   ]
  },
  {
   "cell_type": "code",
   "execution_count": 15,
   "id": "8573b78c",
   "metadata": {},
   "outputs": [
    {
     "name": "stderr",
     "output_type": "stream",
     "text": [
      "can't invoke \"event\" command: application has been destroyed\n",
      "    while executing\n",
      "\"event generate $w <<ThemeChanged>>\"\n",
      "    (procedure \"ttk::ThemeChanged\" line 6)\n",
      "    invoked from within\n",
      "\"ttk::ThemeChanged\"\n"
     ]
    }
   ],
   "source": [
    "spot_2_ei_noniso.surrogate.plot()"
   ]
  },
  {
   "cell_type": "markdown",
   "id": "feab925a",
   "metadata": {},
   "source": [
    "![TensorBoard visualization of the spotpython optimization process and the surrogate model. Expected improvement, isotropic Kriging.](figures_static/07_tensorboard_EI_NONISO.png){width=\"100%\"}\n",
    "\n",
    "\n",
    "## Using `sklearn` Surrogates\n",
    "\n",
    "### The spot Loop\n",
    "\n",
    "The `spot` loop consists of the following steps:\n",
    "\n",
    "1. Init: Build initial design $X$\n",
    "2. Evaluate initial design on real objective $f$: $y = f(X)$\n",
    "3. Build surrogate: $S = S(X,y)$\n",
    "4. Optimize on surrogate: $X_0 =  \\text{optimize}(S)$\n",
    "5. Evaluate on real objective: $y_0 = f(X_0)$\n",
    "6. Impute (Infill) new points: $X = X \\cup X_0$, $y = y \\cup y_0$.\n",
    "7. Got 3.\n",
    "\n",
    "The `spot` loop is implemented in `R` as follows:\n",
    "\n",
    "![Visual representation of the model based search with SPOT. Taken from: Bartz-Beielstein, T., and Zaefferer, M. Hyperparameter tuning approaches. In Hyperparameter Tuning for Machine and Deep Learning with R - A Practical Guide, E. Bartz, T. Bartz-Beielstein, M. Zaefferer, and O. Mersmann, Eds. Springer, 2022, ch. 4, pp. 67–114. ](figures_static/spotModel.png)\n",
    "\n",
    "### spot: The Initial Model\n",
    "\n",
    "#### Example: Modifying the initial design size\n",
    "\n",
    "This is the \"Example: Modifying the initial design size\"  from Chapter 4.5.1 in [bart21i].\n"
   ]
  },
  {
   "cell_type": "code",
   "execution_count": 16,
   "id": "155a60c8",
   "metadata": {},
   "outputs": [
    {
     "name": "stderr",
     "output_type": "stream",
     "text": [
      "Seed set to 123\n"
     ]
    },
    {
     "name": "stdout",
     "output_type": "stream",
     "text": [
      "spotpython tuning: 0.13771720111978272 [####------] 40.00% \n",
      "spotpython tuning: 0.008762260544617942 [#####-----] 46.67% \n",
      "spotpython tuning: 0.0028383641218116835 [#####-----] 53.33% \n",
      "spotpython tuning: 0.0008109493206433335 [######----] 60.00% \n",
      "spotpython tuning: 0.0003652470205973824 [#######---] 66.67% \n",
      "spotpython tuning: 0.00036032551596159646 [#######---] 73.33% \n",
      "spotpython tuning: 0.00035888041070709844 [########--] 80.00% \n",
      "spotpython tuning: 0.00032677794812133767 [#########-] 86.67% \n",
      "spotpython tuning: 0.0002726988496483528 [#########-] 93.33% \n",
      "spotpython tuning: 0.00015304178060680248 [##########] 100.00% Done...\n",
      "\n"
     ]
    },
    {
     "data": {
      "text/plain": [
       "<spotpython.spot.spot.Spot at 0x367f47d10>"
      ]
     },
     "execution_count": 16,
     "metadata": {},
     "output_type": "execute_result"
    }
   ],
   "source": [
    "spot_ei = spot.Spot(fun=fun,\n",
    "                fun_control=fun_control_init(\n",
    "                lower = np.array([-1,-1]),\n",
    "                upper= np.array([1,1])), \n",
    "                design_control = design_control_init(init_size=5))\n",
    "spot_ei.run()"
   ]
  },
  {
   "cell_type": "code",
   "execution_count": 17,
   "id": "7f0d3246",
   "metadata": {},
   "outputs": [
    {
     "name": "stderr",
     "output_type": "stream",
     "text": [
      "can't invoke \"event\" command: application has been destroyed\n",
      "    while executing\n",
      "\"event generate $w <<ThemeChanged>>\"\n",
      "    (procedure \"ttk::ThemeChanged\" line 6)\n",
      "    invoked from within\n",
      "\"ttk::ThemeChanged\"\n"
     ]
    }
   ],
   "source": [
    "spot_ei.plot_progress()"
   ]
  },
  {
   "cell_type": "code",
   "execution_count": 18,
   "id": "e3fc47bf",
   "metadata": {},
   "outputs": [
    {
     "data": {
      "text/plain": [
       "(5.299979470384224e-12, 0.00015304178060680248)"
      ]
     },
     "execution_count": 18,
     "metadata": {},
     "output_type": "execute_result"
    }
   ],
   "source": [
    "np.min(spot_1.y), np.min(spot_ei.y)"
   ]
  },
  {
   "cell_type": "markdown",
   "id": "2ca34228",
   "metadata": {},
   "source": [
    "### Init: Build Initial Design\n"
   ]
  },
  {
   "cell_type": "code",
   "execution_count": 19,
   "id": "5c312cba",
   "metadata": {},
   "outputs": [
    {
     "name": "stdout",
     "output_type": "stream",
     "text": [
      "[[ 8.97647221 13.41926847]\n",
      " [ 0.66946019  1.22344228]\n",
      " [ 5.23614115 13.78185824]\n",
      " [ 5.6149825  11.5851384 ]\n",
      " [-1.72963184  1.66516096]\n",
      " [-4.26945568  7.1325531 ]\n",
      " [ 1.26363761 10.17935555]\n",
      " [ 2.88779942  8.05508969]\n",
      " [-3.39111089  4.15213772]\n",
      " [ 7.30131231  5.22275244]]\n",
      "[128.95676449  31.73474356 172.89678121 126.71295908  64.34349975\n",
      "  70.16178611  48.71407916  31.77322887  76.91788181  30.69410529]\n"
     ]
    }
   ],
   "source": [
    "from spotpython.design.spacefilling import spacefilling\n",
    "from spotpython.build.kriging import Kriging\n",
    "from spotpython.fun.objectivefunctions import analytical\n",
    "gen = spacefilling(2)\n",
    "rng = np.random.RandomState(1)\n",
    "lower = np.array([-5,-0])\n",
    "upper = np.array([10,15])\n",
    "fun = analytical().fun_branin\n",
    "\n",
    "X = gen.scipy_lhd(10, lower=lower, upper = upper)\n",
    "print(X)\n",
    "y = fun(X, fun_control=fun_control)\n",
    "print(y)"
   ]
  },
  {
   "cell_type": "code",
   "execution_count": 20,
   "id": "52cc3575",
   "metadata": {},
   "outputs": [
    {
     "name": "stderr",
     "output_type": "stream",
     "text": [
      "invalid command name \"14806027840process_stream_events\"\n",
      "    while executing\n",
      "\"14806027840process_stream_events\"\n",
      "    (\"after\" script)\n",
      "can't invoke \"event\" command: application has been destroyed\n",
      "    while executing\n",
      "\"event generate $w <<ThemeChanged>>\"\n",
      "    (procedure \"ttk::ThemeChanged\" line 6)\n",
      "    invoked from within\n",
      "\"ttk::ThemeChanged\"\n"
     ]
    }
   ],
   "source": [
    "S = Kriging(name='kriging',  seed=123)\n",
    "S.fit(X, y)\n",
    "S.plot()"
   ]
  },
  {
   "cell_type": "code",
   "execution_count": 21,
   "id": "69a84f39",
   "metadata": {},
   "outputs": [
    {
     "data": {
      "text/plain": [
       "(array([[0.77254938, 0.31539299],\n",
       "        [0.59321338, 0.93854273],\n",
       "        [0.27469803, 0.3959685 ]]),\n",
       " array([[0.78373509, 0.86811887],\n",
       "        [0.06692621, 0.6058029 ],\n",
       "        [0.41374778, 0.00525456]]),\n",
       " array([[0.121357  , 0.69043832],\n",
       "        [0.41906219, 0.32838498],\n",
       "        [0.86742658, 0.52910374]]),\n",
       " array([[0.77254938, 0.31539299],\n",
       "        [0.59321338, 0.93854273],\n",
       "        [0.27469803, 0.3959685 ]]))"
      ]
     },
     "execution_count": 21,
     "metadata": {},
     "output_type": "execute_result"
    }
   ],
   "source": [
    "gen = spacefilling(2, seed=123)\n",
    "X0 = gen.scipy_lhd(3)\n",
    "gen = spacefilling(2, seed=345)\n",
    "X1 = gen.scipy_lhd(3)\n",
    "X2 = gen.scipy_lhd(3)\n",
    "gen = spacefilling(2, seed=123)\n",
    "X3 = gen.scipy_lhd(3)\n",
    "X0, X1, X2, X3"
   ]
  },
  {
   "cell_type": "markdown",
   "id": "fc72decb",
   "metadata": {},
   "source": [
    "### Evaluate \n",
    "\n",
    "###  Build Surrogate\n",
    "\n",
    "### A Simple Predictor\n",
    "\n",
    "The code below shows how to use a simple model for prediction.\n",
    "\n",
    "* Assume that only two (very costly) measurements are available:\n",
    "  \n",
    "  1. f(0) = 0.5\n",
    "  2. f(2) = 2.5\n",
    "\n",
    "* We are interested in the value at $x_0 = 1$, i.e., $f(x_0 = 1)$, but cannot run an additional, third experiment.\n"
   ]
  },
  {
   "cell_type": "code",
   "execution_count": 22,
   "id": "74a8f7bb",
   "metadata": {},
   "outputs": [
    {
     "name": "stdout",
     "output_type": "stream",
     "text": [
      "[1.5]\n"
     ]
    }
   ],
   "source": [
    "from sklearn import linear_model\n",
    "X = np.array([[0], [2]])\n",
    "y = np.array([0.5, 2.5])\n",
    "S_lm = linear_model.LinearRegression()\n",
    "S_lm = S_lm.fit(X, y)\n",
    "X0 = np.array([[1]])\n",
    "y0 = S_lm.predict(X0)\n",
    "print(y0)"
   ]
  },
  {
   "cell_type": "markdown",
   "id": "3b8efdd9",
   "metadata": {},
   "source": [
    "* Central Idea:\n",
    "  * Evaluation of the surrogate model `S_lm` is much cheaper (or / and much faster) than running the real-world experiment $f$.\n",
    "\n",
    "## Gaussian Processes regression: basic introductory example\n",
    "\n",
    "This example was taken from [scikit-learn](https://scikit-learn.org/stable/auto_examples/gaussian_process/plot_gpr_noisy_targets.html). After fitting our model, we see that the hyperparameters of the kernel have been optimized. Now, we will use our kernel to compute the mean prediction of the full dataset and plot the 95% confidence interval.\n"
   ]
  },
  {
   "cell_type": "code",
   "execution_count": 23,
   "id": "bdaf9146",
   "metadata": {},
   "outputs": [],
   "source": [
    "import numpy as np\n",
    "import matplotlib.pyplot as plt\n",
    "import math as m\n",
    "from sklearn.gaussian_process import GaussianProcessRegressor\n",
    "from sklearn.gaussian_process.kernels import RBF\n",
    "\n",
    "X = np.linspace(start=0, stop=10, num=1_000).reshape(-1, 1)\n",
    "y = np.squeeze(X * np.sin(X))\n",
    "rng = np.random.RandomState(1)\n",
    "training_indices = rng.choice(np.arange(y.size), size=6, replace=False)\n",
    "X_train, y_train = X[training_indices], y[training_indices]\n",
    "\n",
    "kernel = 1 * RBF(length_scale=1.0, length_scale_bounds=(1e-2, 1e2))\n",
    "gaussian_process = GaussianProcessRegressor(kernel=kernel, n_restarts_optimizer=9)\n",
    "gaussian_process.fit(X_train, y_train)\n",
    "gaussian_process.kernel_\n",
    "\n",
    "mean_prediction, std_prediction = gaussian_process.predict(X, return_std=True)\n",
    "\n",
    "plt.plot(X, y, label=r\"$f(x) = x \\sin(x)$\", linestyle=\"dotted\")\n",
    "plt.scatter(X_train, y_train, label=\"Observations\")\n",
    "plt.plot(X, mean_prediction, label=\"Mean prediction\")\n",
    "plt.fill_between(\n",
    "    X.ravel(),\n",
    "    mean_prediction - 1.96 * std_prediction,\n",
    "    mean_prediction + 1.96 * std_prediction,\n",
    "    alpha=0.5,\n",
    "    label=r\"95% confidence interval\",\n",
    ")\n",
    "plt.legend()\n",
    "plt.xlabel(\"$x$\")\n",
    "plt.ylabel(\"$f(x)$\")\n",
    "_ = plt.title(\"sk-learn Version: Gaussian process regression on noise-free dataset\")"
   ]
  },
  {
   "cell_type": "code",
   "execution_count": 24,
   "id": "0b0b7426",
   "metadata": {},
   "outputs": [],
   "source": [
    "from spotpython.build.kriging import Kriging\n",
    "import numpy as np\n",
    "import matplotlib.pyplot as plt\n",
    "rng = np.random.RandomState(1)\n",
    "X = np.linspace(start=0, stop=10, num=1_000).reshape(-1, 1)\n",
    "y = np.squeeze(X * np.sin(X))\n",
    "training_indices = rng.choice(np.arange(y.size), size=6, replace=False)\n",
    "X_train, y_train = X[training_indices], y[training_indices]\n",
    "\n",
    "\n",
    "S = Kriging(name='kriging',  seed=123, log_level=50, cod_type=\"norm\")\n",
    "S.fit(X_train, y_train)\n",
    "\n",
    "mean_prediction, std_prediction, ei = S.predict(X, return_val=\"all\")\n",
    "\n",
    "std_prediction\n",
    "\n",
    "plt.plot(X, y, label=r\"$f(x) = x \\sin(x)$\", linestyle=\"dotted\")\n",
    "plt.scatter(X_train, y_train, label=\"Observations\")\n",
    "plt.plot(X, mean_prediction, label=\"Mean prediction\")\n",
    "plt.fill_between(\n",
    "    X.ravel(),\n",
    "    mean_prediction - 1.96 * std_prediction,\n",
    "    mean_prediction + 1.96 * std_prediction,\n",
    "    alpha=0.5,\n",
    "    label=r\"95% confidence interval\",\n",
    ")\n",
    "plt.legend()\n",
    "plt.xlabel(\"$x$\")\n",
    "plt.ylabel(\"$f(x)$\")\n",
    "_ = plt.title(\"spotpython Version: Gaussian process regression on noise-free dataset\")"
   ]
  },
  {
   "cell_type": "markdown",
   "id": "601ff683",
   "metadata": {},
   "source": [
    "## The Surrogate: Using scikit-learn models\n",
    "\n",
    "Default is the internal `kriging` surrogate.\n"
   ]
  },
  {
   "cell_type": "code",
   "execution_count": 25,
   "id": "1efdc9af",
   "metadata": {},
   "outputs": [],
   "source": [
    "S_0 = Kriging(name='kriging', seed=123)"
   ]
  },
  {
   "cell_type": "markdown",
   "id": "f59a7966",
   "metadata": {},
   "source": [
    "Models from `scikit-learn` can be selected, e.g., Gaussian Process:\n"
   ]
  },
  {
   "cell_type": "code",
   "execution_count": 26,
   "id": "98cf43c9",
   "metadata": {},
   "outputs": [],
   "source": [
    "# Needed for the sklearn surrogates:\n",
    "from sklearn.gaussian_process import GaussianProcessRegressor\n",
    "from sklearn.gaussian_process.kernels import RBF\n",
    "from sklearn.tree import DecisionTreeRegressor\n",
    "from sklearn.ensemble import RandomForestRegressor\n",
    "from sklearn import linear_model\n",
    "from sklearn import tree\n",
    "import pandas as pd"
   ]
  },
  {
   "cell_type": "code",
   "execution_count": 27,
   "id": "9f503e0f",
   "metadata": {},
   "outputs": [],
   "source": [
    "kernel = 1 * RBF(length_scale=1.0, length_scale_bounds=(1e-2, 1e2))\n",
    "S_GP = GaussianProcessRegressor(kernel=kernel, n_restarts_optimizer=9)"
   ]
  },
  {
   "cell_type": "markdown",
   "id": "e2e3df22",
   "metadata": {},
   "source": [
    "* and many more:\n"
   ]
  },
  {
   "cell_type": "code",
   "execution_count": 28,
   "id": "16fd4d7e",
   "metadata": {},
   "outputs": [],
   "source": [
    "S_Tree = DecisionTreeRegressor(random_state=0)\n",
    "S_LM = linear_model.LinearRegression()\n",
    "S_Ridge = linear_model.Ridge()\n",
    "S_RF = RandomForestRegressor(max_depth=2, random_state=0) "
   ]
  },
  {
   "cell_type": "markdown",
   "id": "02bec27e",
   "metadata": {},
   "source": [
    "* The scikit-learn GP model `S_GP` is selected.\n"
   ]
  },
  {
   "cell_type": "code",
   "execution_count": 29,
   "id": "f6b82e01",
   "metadata": {},
   "outputs": [],
   "source": [
    "S = S_GP"
   ]
  },
  {
   "cell_type": "code",
   "execution_count": 30,
   "id": "d56eb43a",
   "metadata": {},
   "outputs": [
    {
     "data": {
      "text/plain": [
       "True"
      ]
     },
     "execution_count": 30,
     "metadata": {},
     "output_type": "execute_result"
    }
   ],
   "source": [
    "isinstance(S, GaussianProcessRegressor)\n"
   ]
  },
  {
   "cell_type": "code",
   "execution_count": 31,
   "id": "b68faedc",
   "metadata": {},
   "outputs": [
    {
     "name": "stderr",
     "output_type": "stream",
     "text": [
      "Seed set to 123\n"
     ]
    },
    {
     "name": "stdout",
     "output_type": "stream",
     "text": [
      "spotpython tuning: 24.51465459019188 [####------] 40.00% \n",
      "spotpython tuning: 11.003101704408273 [#####-----] 46.67% \n",
      "spotpython tuning: 11.003101704408273 [#####-----] 53.33% \n",
      "spotpython tuning: 7.281515308693262 [######----] 60.00% \n",
      "spotpython tuning: 7.281515308693262 [#######---] 66.67% \n",
      "spotpython tuning: 7.281515308693262 [#######---] 73.33% \n",
      "spotpython tuning: 2.9519942803779493 [########--] 80.00% \n",
      "spotpython tuning: 2.9519942803779493 [#########-] 86.67% \n",
      "spotpython tuning: 2.1049767654946914 [#########-] 93.33% \n",
      "spotpython tuning: 1.9431498675678949 [##########] 100.00% Done...\n",
      "\n"
     ]
    },
    {
     "name": "stderr",
     "output_type": "stream",
     "text": [
      "/Users/bartz/miniforge3/envs/spot312/lib/python3.12/site-packages/sklearn/gaussian_process/_gpr.py:659: ConvergenceWarning: lbfgs failed to converge (status=2):\n",
      "ABNORMAL_TERMINATION_IN_LNSRCH.\n",
      "\n",
      "Increase the number of iterations (max_iter) or scale the data as shown in:\n",
      "    https://scikit-learn.org/stable/modules/preprocessing.html\n",
      "  _check_optimize_result(\"lbfgs\", opt_res)\n"
     ]
    },
    {
     "data": {
      "text/plain": [
       "<spotpython.spot.spot.Spot at 0x367ead430>"
      ]
     },
     "execution_count": 31,
     "metadata": {},
     "output_type": "execute_result"
    }
   ],
   "source": [
    "from spotpython.fun.objectivefunctions import analytical\n",
    "fun = analytical().fun_branin\n",
    "fun_control = fun_control_init(\n",
    "    lower = np.array([-5,-0]),\n",
    "    upper = np.array([10,15]),\n",
    "    fun_evals = 15)    \n",
    "design_control = design_control_init(init_size=5)\n",
    "spot_GP = spot.Spot(fun=fun, \n",
    "                    fun_control=fun_control,\n",
    "                    surrogate=S, \n",
    "                    design_control=design_control)\n",
    "spot_GP.run()"
   ]
  },
  {
   "cell_type": "code",
   "execution_count": 32,
   "id": "3d034c3d",
   "metadata": {},
   "outputs": [
    {
     "data": {
      "text/plain": [
       "array([ 69.32459936, 152.38491454, 107.92560483,  24.51465459,\n",
       "        76.73500031,  86.30429136,  11.0031017 ,  16.11757292,\n",
       "         7.28151531,  21.82295775,  10.96088904,   2.95199428,\n",
       "         3.0290972 ,   2.10497677,   1.94314987])"
      ]
     },
     "execution_count": 32,
     "metadata": {},
     "output_type": "execute_result"
    }
   ],
   "source": [
    "spot_GP.y"
   ]
  },
  {
   "cell_type": "code",
   "execution_count": 33,
   "id": "70233a74",
   "metadata": {},
   "outputs": [
    {
     "name": "stderr",
     "output_type": "stream",
     "text": [
      "invalid command name \"14802186432process_stream_events\"\n",
      "    while executing\n",
      "\"14802186432process_stream_events\"\n",
      "    (\"after\" script)\n",
      "can't invoke \"event\" command: application has been destroyed\n",
      "    while executing\n",
      "\"event generate $w <<ThemeChanged>>\"\n",
      "    (procedure \"ttk::ThemeChanged\" line 6)\n",
      "    invoked from within\n",
      "\"ttk::ThemeChanged\"\n"
     ]
    }
   ],
   "source": [
    "spot_GP.plot_progress()"
   ]
  },
  {
   "cell_type": "code",
   "execution_count": 34,
   "id": "45ac9976",
   "metadata": {},
   "outputs": [
    {
     "name": "stdout",
     "output_type": "stream",
     "text": [
      "min y: 1.9431498675678949\n",
      "x0: 10.0\n",
      "x1: 2.9999226833344648\n"
     ]
    },
    {
     "data": {
      "text/plain": [
       "[['x0', 10.0], ['x1', 2.9999226833344648]]"
      ]
     },
     "execution_count": 34,
     "metadata": {},
     "output_type": "execute_result"
    }
   ],
   "source": [
    "spot_GP.print_results()"
   ]
  },
  {
   "cell_type": "markdown",
   "id": "5c82d31e",
   "metadata": {},
   "source": [
    "## Additional Examples\n"
   ]
  },
  {
   "cell_type": "code",
   "execution_count": 35,
   "id": "ee669ac4",
   "metadata": {},
   "outputs": [],
   "source": [
    "# Needed for the sklearn surrogates:\n",
    "from sklearn.gaussian_process import GaussianProcessRegressor\n",
    "from sklearn.gaussian_process.kernels import RBF\n",
    "from sklearn.tree import DecisionTreeRegressor\n",
    "from sklearn.ensemble import RandomForestRegressor\n",
    "from sklearn import linear_model\n",
    "from sklearn import tree\n",
    "import pandas as pd"
   ]
  },
  {
   "cell_type": "code",
   "execution_count": 36,
   "id": "fc12251e",
   "metadata": {},
   "outputs": [],
   "source": [
    "kernel = 1 * RBF(length_scale=1.0, length_scale_bounds=(1e-2, 1e2))\n",
    "S_GP = GaussianProcessRegressor(kernel=kernel, n_restarts_optimizer=9)"
   ]
  },
  {
   "cell_type": "code",
   "execution_count": 37,
   "id": "ddcac8ad",
   "metadata": {},
   "outputs": [
    {
     "name": "stderr",
     "output_type": "stream",
     "text": [
      "Seed set to 123\n"
     ]
    },
    {
     "name": "stdout",
     "output_type": "stream",
     "text": [
      "spotpython tuning: 0.13771716844457255 [##--------] 24.00% \n",
      "spotpython tuning: 0.008763992988881779 [###-------] 28.00% \n",
      "spotpython tuning: 0.0028324931031249094 [###-------] 32.00% \n",
      "spotpython tuning: 0.0008161627041911008 [####------] 36.00% \n",
      "spotpython tuning: 0.00036337249944152984 [####------] 40.00% \n",
      "spotpython tuning: 0.0003620634598515755 [####------] 44.00% \n",
      "spotpython tuning: 0.00036019126988579237 [#####-----] 48.00% \n",
      "spotpython tuning: 0.0003310003348891555 [#####-----] 52.00% \n",
      "spotpython tuning: 0.0002796810486585005 [######----] 56.00% \n",
      "spotpython tuning: 0.00016668209586740844 [######----] 60.00% \n",
      "spotpython tuning: 2.105184213458755e-05 [######----] 64.00% \n",
      "spotpython tuning: 2.33449020805854e-06 [#######---] 68.00% \n",
      "spotpython tuning: 7.112087478830758e-07 [#######---] 72.00% \n",
      "spotpython tuning: 4.3581016990329405e-07 [########--] 76.00% \n",
      "spotpython tuning: 3.9965568597157324e-07 [########--] 80.00% \n",
      "spotpython tuning: 1.9740797347254742e-07 [########--] 84.00% \n",
      "spotpython tuning: 1.6627705746993065e-07 [#########-] 88.00% \n",
      "spotpython tuning: 1.6627705746993065e-07 [#########-] 92.00% \n",
      "spotpython tuning: 1.6627705746993065e-07 [##########] 96.00% \n",
      "spotpython tuning: 1.6627705746993065e-07 [##########] 100.00% Done...\n",
      "\n"
     ]
    },
    {
     "data": {
      "text/plain": [
       "<spotpython.spot.spot.Spot at 0x372471d60>"
      ]
     },
     "execution_count": 37,
     "metadata": {},
     "output_type": "execute_result"
    }
   ],
   "source": [
    "from spotpython.build.kriging import Kriging\n",
    "import numpy as np\n",
    "import spotpython\n",
    "from spotpython.fun.objectivefunctions import analytical\n",
    "from spotpython.spot import spot\n",
    "\n",
    "S_K = Kriging(name='kriging',\n",
    "              seed=123,\n",
    "              log_level=50,\n",
    "              infill_criterion = \"y\",\n",
    "              n_theta=1,\n",
    "              noise=False,\n",
    "              cod_type=\"norm\")\n",
    "fun = analytical().fun_sphere\n",
    "\n",
    "fun_control = fun_control_init(\n",
    "    lower = np.array([-1,-1]),\n",
    "    upper = np.array([1,1]),\n",
    "    fun_evals = 25)\n",
    "\n",
    "spot_S_K = spot.Spot(fun=fun,\n",
    "                     fun_control=fun_control,\n",
    "                     surrogate=S_K,\n",
    "                     design_control=design_control,\n",
    "                     surrogate_control=surrogate_control)\n",
    "spot_S_K.run()"
   ]
  },
  {
   "cell_type": "code",
   "execution_count": 38,
   "id": "59af7036",
   "metadata": {},
   "outputs": [
    {
     "name": "stderr",
     "output_type": "stream",
     "text": [
      "invalid command name \"14622506432process_stream_events\"\n",
      "    while executing\n",
      "\"14622506432process_stream_events\"\n",
      "    (\"after\" script)\n",
      "can't invoke \"event\" command: application has been destroyed\n",
      "    while executing\n",
      "\"event generate $w <<ThemeChanged>>\"\n",
      "    (procedure \"ttk::ThemeChanged\" line 6)\n",
      "    invoked from within\n",
      "\"ttk::ThemeChanged\"\n"
     ]
    }
   ],
   "source": [
    "spot_S_K.plot_progress(log_y=True)"
   ]
  },
  {
   "cell_type": "code",
   "execution_count": 39,
   "id": "39b06534",
   "metadata": {},
   "outputs": [
    {
     "name": "stderr",
     "output_type": "stream",
     "text": [
      "invalid command name \"14812618816process_stream_events\"\n",
      "    while executing\n",
      "\"14812618816process_stream_events\"\n",
      "    (\"after\" script)\n",
      "can't invoke \"event\" command: application has been destroyed\n",
      "    while executing\n",
      "\"event generate $w <<ThemeChanged>>\"\n",
      "    (procedure \"ttk::ThemeChanged\" line 6)\n",
      "    invoked from within\n",
      "\"ttk::ThemeChanged\"\n"
     ]
    }
   ],
   "source": [
    "spot_S_K.surrogate.plot()"
   ]
  },
  {
   "cell_type": "code",
   "execution_count": 40,
   "id": "5d24409b",
   "metadata": {},
   "outputs": [
    {
     "name": "stdout",
     "output_type": "stream",
     "text": [
      "min y: 1.6627705746993065e-07\n",
      "x0: 0.0003245075243596407\n",
      "x1: 0.00024692493617273215\n"
     ]
    },
    {
     "data": {
      "text/plain": [
       "[['x0', 0.0003245075243596407], ['x1', 0.00024692493617273215]]"
      ]
     },
     "execution_count": 40,
     "metadata": {},
     "output_type": "execute_result"
    }
   ],
   "source": [
    "spot_S_K.print_results()"
   ]
  },
  {
   "cell_type": "markdown",
   "id": "e722352e",
   "metadata": {},
   "source": [
    "### Optimize on Surrogate\n",
    "\n",
    "### Evaluate on Real Objective\n",
    "\n",
    "### Impute / Infill new Points\n",
    "\n",
    "## Tests\n"
   ]
  },
  {
   "cell_type": "code",
   "execution_count": 41,
   "id": "ab7d6b2e",
   "metadata": {},
   "outputs": [
    {
     "name": "stderr",
     "output_type": "stream",
     "text": [
      "Seed set to 123\n"
     ]
    },
    {
     "name": "stdout",
     "output_type": "stream",
     "text": [
      "[[ 0.86352963  0.7892358 ]\n",
      " [-0.24407197 -0.83687436]\n",
      " [ 0.36481882  0.8375811 ]\n",
      " [ 0.415331    0.54468512]\n",
      " [-0.56395091 -0.77797854]\n",
      " [-0.90259409 -0.04899292]\n",
      " [-0.16484832  0.35724741]\n",
      " [ 0.05170659  0.07401196]\n",
      " [-0.78548145 -0.44638164]\n",
      " [ 0.64017497 -0.30363301]]\n",
      "[1.36857656 0.75992983 0.83463487 0.46918172 0.92329124 0.8170764\n",
      " 0.15480068 0.00815134 0.81623768 0.502017  ]\n",
      "[[0.00163775 0.00441483]\n",
      " [0.00163816 0.00398502]]\n"
     ]
    }
   ],
   "source": [
    "import numpy as np\n",
    "from spotpython.spot import spot\n",
    "from spotpython.fun.objectivefunctions import analytical\n",
    "\n",
    "fun_sphere = analytical().fun_sphere\n",
    "\n",
    "fun_control = fun_control_init(\n",
    "                    lower=np.array([-1, -1]),\n",
    "                    upper=np.array([1, 1]),\n",
    "                    n_points = 2)\n",
    "spot_1 = spot.Spot(\n",
    "    fun=fun_sphere,\n",
    "    fun_control=fun_control,\n",
    ")\n",
    "\n",
    "# (S-2) Initial Design:\n",
    "spot_1.X = spot_1.design.scipy_lhd(\n",
    "    spot_1.design_control[\"init_size\"], lower=spot_1.lower, upper=spot_1.upper\n",
    ")\n",
    "print(spot_1.X)\n",
    "\n",
    "# (S-3): Eval initial design:\n",
    "spot_1.y = spot_1.fun(spot_1.X)\n",
    "print(spot_1.y)\n",
    "\n",
    "spot_1.fit_surrogate()\n",
    "X0 = spot_1.suggest_new_X()\n",
    "print(X0)\n",
    "assert X0.size == spot_1.n_points * spot_1.k"
   ]
  },
  {
   "cell_type": "markdown",
   "id": "1c5a37ea",
   "metadata": {},
   "source": [
    "## EI: The Famous Schonlau Example\n"
   ]
  },
  {
   "cell_type": "code",
   "execution_count": 42,
   "id": "c9c57b25",
   "metadata": {},
   "outputs": [],
   "source": [
    "X_train0 = np.array([1, 2, 3, 4, 12]).reshape(-1,1)\n",
    "X_train = np.linspace(start=0, stop=10, num=5).reshape(-1, 1)"
   ]
  },
  {
   "cell_type": "code",
   "execution_count": 43,
   "id": "6a6efef7",
   "metadata": {},
   "outputs": [],
   "source": [
    "from spotpython.build.kriging import Kriging\n",
    "import numpy as np\n",
    "import matplotlib.pyplot as plt\n",
    "\n",
    "X_train = np.array([1., 2., 3., 4., 12.]).reshape(-1,1)\n",
    "y_train = np.array([0., -1.75, -2, -0.5, 5.])\n",
    "\n",
    "S = Kriging(name='kriging',  seed=123, log_level=50, n_theta=1, noise=False, cod_type=\"norm\")\n",
    "S.fit(X_train, y_train)\n",
    "\n",
    "X = np.linspace(start=0, stop=13, num=1000).reshape(-1, 1)\n",
    "mean_prediction, std_prediction, ei = S.predict(X, return_val=\"all\")\n",
    "\n",
    "plt.scatter(X_train, y_train, label=\"Observations\")\n",
    "plt.plot(X, mean_prediction, label=\"Mean prediction\")\n",
    "if True:\n",
    "    plt.fill_between(\n",
    "        X.ravel(),\n",
    "        mean_prediction - 2 * std_prediction,\n",
    "        mean_prediction + 2 * std_prediction,\n",
    "        alpha=0.5,\n",
    "        label=r\"95% confidence interval\",\n",
    "    )\n",
    "plt.legend()\n",
    "plt.xlabel(\"$x$\")\n",
    "plt.ylabel(\"$f(x)$\")\n",
    "_ = plt.title(\"Gaussian process regression on noise-free dataset\")"
   ]
  },
  {
   "cell_type": "code",
   "execution_count": 44,
   "id": "88e2e485",
   "metadata": {},
   "outputs": [],
   "source": [
    "#plt.plot(X, y, label=r\"$f(x) = x \\sin(x)$\", linestyle=\"dotted\")\n",
    "# plt.scatter(X_train, y_train, label=\"Observations\")\n",
    "plt.plot(X, -ei, label=\"Expected Improvement\")\n",
    "plt.legend()\n",
    "plt.xlabel(\"$x$\")\n",
    "plt.ylabel(\"$f(x)$\")\n",
    "_ = plt.title(\"Gaussian process regression on noise-free dataset\")"
   ]
  },
  {
   "cell_type": "code",
   "execution_count": 45,
   "id": "303177a2",
   "metadata": {},
   "outputs": [
    {
     "data": {
      "text/plain": [
       "{'negLnLike': array([1.20788205]),\n",
       " 'theta': array([-0.99002505]),\n",
       " 'p': [],\n",
       " 'Lambda': []}"
      ]
     },
     "execution_count": 45,
     "metadata": {},
     "output_type": "execute_result"
    }
   ],
   "source": [
    "S.log"
   ]
  },
  {
   "cell_type": "markdown",
   "id": "2eb2bbce",
   "metadata": {},
   "source": [
    "## EI: The Forrester Example\n"
   ]
  },
  {
   "cell_type": "code",
   "execution_count": 46,
   "id": "7d3a744c",
   "metadata": {},
   "outputs": [
    {
     "name": "stderr",
     "output_type": "stream",
     "text": [
      "Seed set to 123\n"
     ]
    }
   ],
   "source": [
    "from spotpython.build.kriging import Kriging\n",
    "import numpy as np\n",
    "import matplotlib.pyplot as plt\n",
    "import spotpython\n",
    "from spotpython.fun.objectivefunctions import analytical\n",
    "from spotpython.spot import spot\n",
    "\n",
    "# exact x locations are unknown:\n",
    "X_train = np.array([0.0, 0.175, 0.225, 0.3, 0.35, 0.375, 0.5,1]).reshape(-1,1)\n",
    "\n",
    "fun = analytical().fun_forrester\n",
    "fun_control = fun_control_init(\n",
    "    PREFIX=\"07_EI_FORRESTER\",\n",
    "    sigma=1.0,\n",
    "    seed=123,)\n",
    "y_train = fun(X_train, fun_control=fun_control)\n",
    "\n",
    "S = Kriging(name='kriging',  seed=123, log_level=50, n_theta=1, noise=False, cod_type=\"norm\")\n",
    "S.fit(X_train, y_train)\n",
    "\n",
    "X = np.linspace(start=0, stop=1, num=1000).reshape(-1, 1)\n",
    "mean_prediction, std_prediction, ei = S.predict(X, return_val=\"all\")\n",
    "\n",
    "plt.scatter(X_train, y_train, label=\"Observations\")\n",
    "plt.plot(X, mean_prediction, label=\"Mean prediction\")\n",
    "if True:\n",
    "    plt.fill_between(\n",
    "        X.ravel(),\n",
    "        mean_prediction - 2 * std_prediction,\n",
    "        mean_prediction + 2 * std_prediction,\n",
    "        alpha=0.5,\n",
    "        label=r\"95% confidence interval\",\n",
    "    )\n",
    "plt.legend()\n",
    "plt.xlabel(\"$x$\")\n",
    "plt.ylabel(\"$f(x)$\")\n",
    "_ = plt.title(\"Gaussian process regression on noise-free dataset\")"
   ]
  },
  {
   "cell_type": "code",
   "execution_count": 47,
   "id": "fe60efc1",
   "metadata": {},
   "outputs": [],
   "source": [
    "#plt.plot(X, y, label=r\"$f(x) = x \\sin(x)$\", linestyle=\"dotted\")\n",
    "# plt.scatter(X_train, y_train, label=\"Observations\")\n",
    "plt.plot(X, -ei, label=\"Expected Improvement\")\n",
    "plt.legend()\n",
    "plt.xlabel(\"$x$\")\n",
    "plt.ylabel(\"$f(x)$\")\n",
    "_ = plt.title(\"Gaussian process regression on noise-free dataset\")"
   ]
  },
  {
   "cell_type": "markdown",
   "id": "fdc6405c",
   "metadata": {},
   "source": [
    "## Noise\n"
   ]
  },
  {
   "cell_type": "code",
   "execution_count": 48,
   "id": "5c708616",
   "metadata": {},
   "outputs": [
    {
     "name": "stderr",
     "output_type": "stream",
     "text": [
      "Seed set to 123\n"
     ]
    },
    {
     "name": "stdout",
     "output_type": "stream",
     "text": [
      "[[ 0.63529627]\n",
      " [-4.10764204]\n",
      " [-0.44071975]\n",
      " [ 9.63125638]\n",
      " [-8.3518118 ]\n",
      " [-3.62418901]\n",
      " [ 4.15331   ]\n",
      " [ 3.4468512 ]\n",
      " [ 6.36049088]\n",
      " [-7.77978539]]\n",
      "[-1.57464135 16.13714981  2.77008442 93.14904827 71.59322218 14.28895359\n",
      " 15.9770567  12.96468767 39.82265329 59.88028242]\n"
     ]
    }
   ],
   "source": [
    "import numpy as np\n",
    "import spotpython\n",
    "from spotpython.fun.objectivefunctions import analytical\n",
    "from spotpython.spot import spot\n",
    "from spotpython.design.spacefilling import spacefilling\n",
    "from spotpython.build.kriging import Kriging\n",
    "import matplotlib.pyplot as plt\n",
    "\n",
    "gen = spacefilling(1)\n",
    "rng = np.random.RandomState(1)\n",
    "lower = np.array([-10])\n",
    "upper = np.array([10])\n",
    "fun = analytical().fun_sphere\n",
    "fun_control = fun_control_init(\n",
    "    PREFIX=\"07_Y\",\n",
    "    sigma=2.0,\n",
    "    seed=123,)\n",
    "X = gen.scipy_lhd(10, lower=lower, upper = upper)\n",
    "print(X)\n",
    "y = fun(X, fun_control=fun_control)\n",
    "print(y)\n",
    "y.shape\n",
    "X_train = X.reshape(-1,1)\n",
    "y_train = y\n",
    "\n",
    "S = Kriging(name='kriging',\n",
    "            seed=123,\n",
    "            log_level=50,\n",
    "            n_theta=1,\n",
    "            noise=False)\n",
    "S.fit(X_train, y_train)\n",
    "\n",
    "X_axis = np.linspace(start=-13, stop=13, num=1000).reshape(-1, 1)\n",
    "mean_prediction, std_prediction, ei = S.predict(X_axis, return_val=\"all\")\n",
    "\n",
    "#plt.plot(X, y, label=r\"$f(x) = x \\sin(x)$\", linestyle=\"dotted\")\n",
    "plt.scatter(X_train, y_train, label=\"Observations\")\n",
    "#plt.plot(X, ei, label=\"Expected Improvement\")\n",
    "plt.plot(X_axis, mean_prediction, label=\"mue\")\n",
    "plt.legend()\n",
    "plt.xlabel(\"$x$\")\n",
    "plt.ylabel(\"$f(x)$\")\n",
    "_ = plt.title(\"Sphere: Gaussian process regression on noisy dataset\")"
   ]
  },
  {
   "cell_type": "code",
   "execution_count": 49,
   "id": "6cbc70a5",
   "metadata": {},
   "outputs": [
    {
     "data": {
      "text/plain": [
       "{'negLnLike': array([26.18505386]),\n",
       " 'theta': array([-1.10547468]),\n",
       " 'p': [],\n",
       " 'Lambda': []}"
      ]
     },
     "execution_count": 49,
     "metadata": {},
     "output_type": "execute_result"
    }
   ],
   "source": [
    "S.log"
   ]
  },
  {
   "cell_type": "code",
   "execution_count": 50,
   "id": "082b017d",
   "metadata": {},
   "outputs": [],
   "source": [
    "S = Kriging(name='kriging',\n",
    "            seed=123,\n",
    "            log_level=50,\n",
    "            n_theta=1,\n",
    "            noise=True)\n",
    "S.fit(X_train, y_train)\n",
    "\n",
    "X_axis = np.linspace(start=-13, stop=13, num=1000).reshape(-1, 1)\n",
    "mean_prediction, std_prediction, ei = S.predict(X_axis, return_val=\"all\")\n",
    "\n",
    "#plt.plot(X, y, label=r\"$f(x) = x \\sin(x)$\", linestyle=\"dotted\")\n",
    "plt.scatter(X_train, y_train, label=\"Observations\")\n",
    "#plt.plot(X, ei, label=\"Expected Improvement\")\n",
    "plt.plot(X_axis, mean_prediction, label=\"mue\")\n",
    "plt.legend()\n",
    "plt.xlabel(\"$x$\")\n",
    "plt.ylabel(\"$f(x)$\")\n",
    "_ = plt.title(\"Sphere: Gaussian process regression with nugget on noisy dataset\")"
   ]
  },
  {
   "cell_type": "code",
   "execution_count": 51,
   "id": "e7eeaf3a",
   "metadata": {},
   "outputs": [
    {
     "data": {
      "text/plain": [
       "{'negLnLike': array([21.82276721]),\n",
       " 'theta': array([-2.94197609]),\n",
       " 'p': [],\n",
       " 'Lambda': array([4.89634048e-05])}"
      ]
     },
     "execution_count": 51,
     "metadata": {},
     "output_type": "execute_result"
    }
   ],
   "source": [
    "S.log"
   ]
  },
  {
   "cell_type": "markdown",
   "id": "360ec592",
   "metadata": {},
   "source": [
    "## Cubic Function\n"
   ]
  },
  {
   "cell_type": "code",
   "execution_count": 52,
   "id": "02b4f559",
   "metadata": {},
   "outputs": [
    {
     "name": "stderr",
     "output_type": "stream",
     "text": [
      "Seed set to 123\n"
     ]
    },
    {
     "name": "stdout",
     "output_type": "stream",
     "text": [
      "[[ 0.63529627]\n",
      " [-4.10764204]\n",
      " [-0.44071975]\n",
      " [ 9.63125638]\n",
      " [-8.3518118 ]\n",
      " [-3.62418901]\n",
      " [ 4.15331   ]\n",
      " [ 3.4468512 ]\n",
      " [ 6.36049088]\n",
      " [-7.77978539]]\n",
      "[ 2.56406437e-01 -6.93071067e+01 -8.56027124e-02  8.93405931e+02\n",
      " -5.82561927e+02 -4.76028022e+01  7.16445311e+01  4.09512920e+01\n",
      "  2.57319028e+02 -4.70871982e+02]\n"
     ]
    }
   ],
   "source": [
    "import numpy as np\n",
    "import spotpython\n",
    "from spotpython.fun.objectivefunctions import analytical\n",
    "from spotpython.spot import spot\n",
    "from spotpython.design.spacefilling import spacefilling\n",
    "from spotpython.build.kriging import Kriging\n",
    "import matplotlib.pyplot as plt\n",
    "\n",
    "gen = spacefilling(1)\n",
    "rng = np.random.RandomState(1)\n",
    "lower = np.array([-10])\n",
    "upper = np.array([10])\n",
    "fun = analytical().fun_cubed\n",
    "fun_control = fun_control_init(\n",
    "    PREFIX=\"07_Y\",\n",
    "    sigma=10.0,\n",
    "    seed=123,)\n",
    "\n",
    "X = gen.scipy_lhd(10, lower=lower, upper = upper)\n",
    "print(X)\n",
    "y = fun(X, fun_control=fun_control)\n",
    "print(y)\n",
    "y.shape\n",
    "X_train = X.reshape(-1,1)\n",
    "y_train = y\n",
    "\n",
    "S = Kriging(name='kriging',  seed=123, log_level=50, n_theta=1, noise=False)\n",
    "S.fit(X_train, y_train)\n",
    "\n",
    "X_axis = np.linspace(start=-13, stop=13, num=1000).reshape(-1, 1)\n",
    "mean_prediction, std_prediction, ei = S.predict(X_axis, return_val=\"all\")\n",
    "\n",
    "plt.scatter(X_train, y_train, label=\"Observations\")\n",
    "#plt.plot(X, ei, label=\"Expected Improvement\")\n",
    "plt.plot(X_axis, mean_prediction, label=\"mue\")\n",
    "plt.legend()\n",
    "plt.xlabel(\"$x$\")\n",
    "plt.ylabel(\"$f(x)$\")\n",
    "_ = plt.title(\"Cubed: Gaussian process regression on noisy dataset\")"
   ]
  },
  {
   "cell_type": "code",
   "execution_count": 53,
   "id": "4fa6af7f",
   "metadata": {},
   "outputs": [],
   "source": [
    "S = Kriging(name='kriging',  seed=123, log_level=0, n_theta=1, noise=True)\n",
    "S.fit(X_train, y_train)\n",
    "\n",
    "X_axis = np.linspace(start=-13, stop=13, num=1000).reshape(-1, 1)\n",
    "mean_prediction, std_prediction, ei = S.predict(X_axis, return_val=\"all\")\n",
    "\n",
    "plt.scatter(X_train, y_train, label=\"Observations\")\n",
    "#plt.plot(X, ei, label=\"Expected Improvement\")\n",
    "plt.plot(X_axis, mean_prediction, label=\"mue\")\n",
    "plt.legend()\n",
    "plt.xlabel(\"$x$\")\n",
    "plt.ylabel(\"$f(x)$\")\n",
    "_ = plt.title(\"Cubed: Gaussian process with nugget regression on noisy dataset\")"
   ]
  },
  {
   "cell_type": "code",
   "execution_count": 54,
   "id": "a133a966",
   "metadata": {},
   "outputs": [
    {
     "name": "stderr",
     "output_type": "stream",
     "text": [
      "Seed set to 123\n"
     ]
    },
    {
     "name": "stdout",
     "output_type": "stream",
     "text": [
      "[[ 0.63529627]\n",
      " [-4.10764204]\n",
      " [-0.44071975]\n",
      " [ 9.63125638]\n",
      " [-8.3518118 ]\n",
      " [-3.62418901]\n",
      " [ 4.15331   ]\n",
      " [ 3.4468512 ]\n",
      " [ 6.36049088]\n",
      " [-7.77978539]]\n",
      "[0.712453   0.05595118 0.83735691 0.0106654  0.01413372 0.07074765\n",
      " 0.05479457 0.07763503 0.02412205 0.01625354]\n"
     ]
    }
   ],
   "source": [
    "import numpy as np\n",
    "import spotpython\n",
    "from spotpython.fun.objectivefunctions import analytical\n",
    "from spotpython.spot import spot\n",
    "from spotpython.design.spacefilling import spacefilling\n",
    "from spotpython.build.kriging import Kriging\n",
    "import matplotlib.pyplot as plt\n",
    "\n",
    "gen = spacefilling(1)\n",
    "rng = np.random.RandomState(1)\n",
    "lower = np.array([-10])\n",
    "upper = np.array([10])\n",
    "fun = analytical().fun_runge\n",
    "fun_control = fun_control_init(\n",
    "    PREFIX=\"07_Y\",\n",
    "    sigma=0.25,\n",
    "    seed=123,)\n",
    "\n",
    "X = gen.scipy_lhd(10, lower=lower, upper = upper)\n",
    "print(X)\n",
    "y = fun(X, fun_control=fun_control)\n",
    "print(y)\n",
    "y.shape\n",
    "X_train = X.reshape(-1,1)\n",
    "y_train = y\n",
    "\n",
    "S = Kriging(name='kriging',  seed=123, log_level=50, n_theta=1, noise=False)\n",
    "S.fit(X_train, y_train)\n",
    "\n",
    "X_axis = np.linspace(start=-13, stop=13, num=1000).reshape(-1, 1)\n",
    "mean_prediction, std_prediction, ei = S.predict(X_axis, return_val=\"all\")\n",
    "\n",
    "plt.scatter(X_train, y_train, label=\"Observations\")\n",
    "#plt.plot(X, ei, label=\"Expected Improvement\")\n",
    "plt.plot(X_axis, mean_prediction, label=\"mue\")\n",
    "plt.legend()\n",
    "plt.xlabel(\"$x$\")\n",
    "plt.ylabel(\"$f(x)$\")\n",
    "_ = plt.title(\"Gaussian process regression on noisy dataset\")"
   ]
  },
  {
   "cell_type": "code",
   "execution_count": 55,
   "id": "40e5a72c",
   "metadata": {},
   "outputs": [],
   "source": [
    "S = Kriging(name='kriging',\n",
    "            seed=123,\n",
    "            log_level=50,\n",
    "            n_theta=1,\n",
    "            noise=True)\n",
    "S.fit(X_train, y_train)\n",
    "\n",
    "X_axis = np.linspace(start=-13, stop=13, num=1000).reshape(-1, 1)\n",
    "mean_prediction, std_prediction, ei = S.predict(X_axis, return_val=\"all\")\n",
    "\n",
    "plt.scatter(X_train, y_train, label=\"Observations\")\n",
    "#plt.plot(X, ei, label=\"Expected Improvement\")\n",
    "plt.plot(X_axis, mean_prediction, label=\"mue\")\n",
    "plt.legend()\n",
    "plt.xlabel(\"$x$\")\n",
    "plt.ylabel(\"$f(x)$\")\n",
    "_ = plt.title(\"Gaussian process regression with nugget on noisy dataset\")"
   ]
  },
  {
   "cell_type": "markdown",
   "id": "0aa5dbc2",
   "metadata": {},
   "source": [
    "## Modifying Lambda Search Space\n"
   ]
  },
  {
   "cell_type": "code",
   "execution_count": 56,
   "id": "498b035c",
   "metadata": {},
   "outputs": [
    {
     "name": "stdout",
     "output_type": "stream",
     "text": [
      "Lambda: 0.1\n"
     ]
    }
   ],
   "source": [
    "S = Kriging(name='kriging',\n",
    "            seed=123,\n",
    "            log_level=50,\n",
    "            n_theta=1,\n",
    "            noise=True,\n",
    "            min_Lambda=0.1,\n",
    "            max_Lambda=10)\n",
    "S.fit(X_train, y_train)\n",
    "\n",
    "print(f\"Lambda: {S.Lambda}\")"
   ]
  },
  {
   "cell_type": "code",
   "execution_count": 57,
   "id": "6cbfc00e",
   "metadata": {},
   "outputs": [],
   "source": [
    "X_axis = np.linspace(start=-13, stop=13, num=1000).reshape(-1, 1)\n",
    "mean_prediction, std_prediction, ei = S.predict(X_axis, return_val=\"all\")\n",
    "\n",
    "plt.scatter(X_train, y_train, label=\"Observations\")\n",
    "#plt.plot(X, ei, label=\"Expected Improvement\")\n",
    "plt.plot(X_axis, mean_prediction, label=\"mue\")\n",
    "plt.legend()\n",
    "plt.xlabel(\"$x$\")\n",
    "plt.ylabel(\"$f(x)$\")\n",
    "_ = plt.title(\"Gaussian process regression with nugget on noisy dataset. Modified Lambda search space.\")"
   ]
  }
 ],
 "metadata": {
  "kernelspec": {
   "display_name": "Python 3 (ipykernel)",
   "language": "python",
   "name": "python3"
  },
  "language_info": {
   "codemirror_mode": {
    "name": "ipython",
    "version": 3
   },
   "file_extension": ".py",
   "mimetype": "text/x-python",
   "name": "python",
   "nbconvert_exporter": "python",
   "pygments_lexer": "ipython3",
   "version": "3.12.5"
  }
 },
 "nbformat": 4,
 "nbformat_minor": 5
}
