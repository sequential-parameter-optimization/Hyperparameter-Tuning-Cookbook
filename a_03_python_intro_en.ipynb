{
  "cells": [
    {
      "cell_type": "markdown",
      "metadata": {},
      "source": [
        "---\n",
        "title: \"Python Introduction\"\n",
        "author: \"Thomas Bartz-Beielstein\"\n",
        "date: last-modified\n",
        "date-format: long\n",
        "lang: en\n",
        "format:\n",
        "    html:\n",
        "        theme: cosmo\n",
        "toc: true\n",
        "highlight-style: pygments\n",
        "number-sections: true\n",
        "title-block-banner: true\n",
        "title-block-author-single: \"Autor\"\n",
        "---\n",
        "\n",
        "## Recommendations\n",
        "\n",
        "\n",
        "[Beginner's Guide to Python](https://wiki.python.org/moin/BeginnersGuide)\n"
      ]
    }
  ],
  "metadata": {
    "kernelspec": {
      "name": "python3",
      "language": "python",
      "display_name": "Python 3 (ipykernel)",
      "path": "/Users/bartz/miniforge3/envs/spot312/share/jupyter/kernels/python3"
    }
  },
  "nbformat": 4,
  "nbformat_minor": 4
}