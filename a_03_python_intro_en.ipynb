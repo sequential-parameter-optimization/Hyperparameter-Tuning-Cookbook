{
  "cells": [
    {
      "cell_type": "markdown",
      "metadata": {},
      "source": [
        "---\n",
        "title: \"Python Introduction\"\n",
        "author: \"Thomas Bartz-Beielstein\"\n",
        "date: last-modified\n",
        "date-format: long\n",
        "lang: en\n",
        "format:\n",
        "    html:\n",
        "        theme: cosmo\n",
        "toc: true\n",
        "highlight-style: pygments\n",
        "number-sections: true\n",
        "title-block-banner: true\n",
        "title-block-author-single: \"Autor\"\n",
        "---\n",
        "\n",
        "## Recommendations\n",
        "\n",
        "\n",
        "[Beginner's Guide to Python](https://wiki.python.org/moin/BeginnersGuide)\n"
      ]
    }
  ],
  "metadata": {
    "kernelspec": {
      "display_name": "Python 3",
      "language": "python",
      "name": "python3"
    }
  },
  "nbformat": 4,
  "nbformat_minor": 4
}