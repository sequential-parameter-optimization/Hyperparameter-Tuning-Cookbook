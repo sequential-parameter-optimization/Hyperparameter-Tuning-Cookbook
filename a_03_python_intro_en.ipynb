{
  "cells": [
    {
      "cell_type": "markdown",
      "metadata": {},
      "source": [
        "---\n",
        "execute:\n",
        "  cache: false\n",
        "  eval: true\n",
        "  echo: true\n",
        "  warning: false\n",
        "---\n",
        "\n",
        "# Python\n",
        "\n",
        "## Data Types and Precision in Python\n",
        "\n",
        "The float16 data type in numpy represents a half-precision floating point number. It uses 16 bits of memory, which gives it a precision of about 3 decimal digits.\n",
        "\n",
        "The float32 data type in numpy represents a single-precision floating point number. It uses 32 bits of memory, which gives it a precision of about 7 decimal digits.\n",
        "On the other hand, float64 represents a double-precision floating point number. It uses 64 bits of memory, which gives it a precision of about 15 decimal digits.\n",
        "\n",
        "The reason float16 and float32 show fewer digits is because it has less precision due to using less memory.\n",
        "The bits of memory are used to store the sign, exponent, and fraction parts of the floating point number, and with fewer bits, you can represent fewer digits accurately.\n",
        "\n",
        "::: {#exm-float}\n",
        "#### 16 versus 32 versus 64 bit"
      ]
    },
    {
      "cell_type": "code",
      "metadata": {},
      "source": [
        "import numpy as np\n",
        "\n",
        "# Define a number\n",
        "num = 0.123456789123456789\n",
        "\n",
        "num_float16 = np.float16(num)\n",
        "num_float32 = np.float32(num)\n",
        "num_float64 = np.float64(num)\n",
        "\n",
        "print(\"float16: \", num_float16) \n",
        "print(\"float32: \", num_float32)\n",
        "print(\"float64: \", num_float64)"
      ],
      "execution_count": null,
      "outputs": []
    },
    {
      "cell_type": "markdown",
      "metadata": {},
      "source": [
        ":::\n",
        "\n",
        "\n",
        "\n",
        "\n",
        "## Recommendations\n",
        "\n",
        "\n",
        "[Beginner's Guide to Python](https://wiki.python.org/moin/BeginnersGuide)\n"
      ]
    }
  ],
  "metadata": {
    "kernelspec": {
      "name": "python3",
      "language": "python",
      "display_name": "Python 3 (ipykernel)",
      "path": "/Users/bartz/miniforge3/envs/spot312/share/jupyter/kernels/python3"
    }
  },
  "nbformat": 4,
  "nbformat_minor": 4
}