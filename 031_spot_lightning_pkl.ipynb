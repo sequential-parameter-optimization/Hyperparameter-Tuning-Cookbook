{
  "cells": [
    {
      "cell_type": "raw",
      "metadata": {},
      "source": [
        "---\n",
        "execute:\n",
        "  cache: false\n",
        "  eval: true\n",
        "  echo: true\n",
        "  warning: false\n",
        "---"
      ]
    },
    {
      "cell_type": "markdown",
      "metadata": {},
      "source": [
        "# HPT PyTorch Lightning: VBDP {#sec-hyperparameter-tuning-lightning-31}\n",
        "\n",
        "In this tutorial, we will show how `spotPython` can be integrated into the `PyTorch` Lightning\n",
        "training workflow for a classification task.\n",
        "\n",
        "This chapter describes the hyperparameter tuning of a `PyTorch Lightning` network on the Vector Borne Disease Prediction (VBDP) data set.\n",
        "\n",
        ":::{.callout-important}\n",
        "### Vector Borne Disease Prediction Data Set\n",
        "This chapter uses the Vector Borne Disease Prediction data set from Kaggle. It is a categorical dataset for eleven Vector Borne Diseases with associated symptoms.\n",
        "\n",
        "> The person who associated a work with this deed has dedicated the work to the public domain by waiving all of his or her rights to the work worldwide under copyright law, including all related and neighboring rights, to the extent allowed by law.You can copy, modify, distribute and perform the work, even for commercial purposes, all without asking permission. See Other Information below, see [https://creativecommons.org/publicdomain/zero/1.0/](https://creativecommons.org/publicdomain/zero/1.0/).\n",
        "\n",
        "The data set is available at:\n",
        "[https://www.kaggle.com/datasets/richardbernat/vector-borne-disease-prediction](https://www.kaggle.com/datasets/richardbernat/vector-borne-disease-prediction),\n",
        "\n",
        "The data should be downloaded and stored in the `data/VBDP` subfolder. The data set is not available as a part of the `spotPython` package.\n",
        ":::\n",
        "\n",
        "\n",
        "This document refers to the latest `spotPython` version, which can be installed via pip. Alternatively, the source code can be downloaded from gitHub: [https://github.com/sequential-parameter-optimization/spotPython](https://github.com/sequential-parameter-optimization/spotPython).\n",
        "\n",
        "* Uncomment the following lines if you want to for (re-)installation the latest version of `spotPython` from GitHub."
      ]
    },
    {
      "cell_type": "code",
      "execution_count": 1,
      "metadata": {},
      "outputs": [],
      "source": [
        "# import sys\n",
        "# !{sys.executable} -m pip install --upgrade build\n",
        "# !{sys.executable} -m pip install --upgrade --force-reinstall spotPython"
      ]
    },
    {
      "cell_type": "markdown",
      "metadata": {},
      "source": [
        "## Step 1: Setup {#sec-setup-31}\n",
        "\n",
        "* Before we consider the detailed experimental setup, we select the parameters that affect run time, initial design size, etc. \n",
        "* The parameter `MAX_TIME` specifies the maximum run time in seconds.\n",
        "* The parameter `INIT_SIZE` specifies the initial design size.\n",
        "* The parameter `WORKERS` specifies the number of workers. \n",
        "* The prefix `PREFIX` is used for the experiment name and the name of the log file.\n"
      ]
    },
    {
      "cell_type": "code",
      "execution_count": 2,
      "metadata": {},
      "outputs": [],
      "source": [
        "MAX_TIME = 1\n",
        "INIT_SIZE = 5\n",
        "WORKERS = 0\n",
        "PREFIX=\"031\""
      ]
    },
    {
      "cell_type": "markdown",
      "metadata": {},
      "source": [
        "::: {.callout-caution}\n",
        "### Caution: Run time and initial design size should be increased for real experiments\n",
        "\n",
        "* `MAX_TIME` is set to one minute for demonstration purposes. For real experiments, this should be increased to at least 1 hour.\n",
        "* `INIT_SIZE` is set to 5 for demonstration purposes. For real experiments, this should be increased to at least 10.\n",
        "* `WORKERS` is set to 0 for demonstration purposes. For real experiments, this should be increased. See the warnings that are printed when the number of workers is set to 0.\n",
        "\n",
        ":::\n",
        "\n",
        "::: {.callout-note}\n",
        "### Note: Device selection\n",
        "\n",
        "* Although there are no .cuda() or .to(device) calls required, because Lightning does these for you, see \n",
        "[LIGHTNINGMODULE](https://lightning.ai/docs/pytorch/stable/common/lightning_module.html), we would like to know which device is used. Threrefore, we imitate the LightningModule behaviour which selects the highest device. \n",
        "* The method `spotPython.utils.device.getDevice()` returns the device that is used by Lightning.\n",
        ":::\n",
        "\n",
        "\n",
        "## Step 2: Initialization of the `fun_control` Dictionary\n",
        "\n",
        "`spotPython` uses a Python dictionary for storing the information required for the hyperparameter tuning process, which was described in @sec-initialization-fun-control-14, see [Initialization of the fun_control Dictionary](https://sequential-parameter-optimization.github.io/spotPython/14_spot_ray_hpt_torch_cifar10.html#sec-initialization-fun-control-14) in the documentation."
      ]
    },
    {
      "cell_type": "code",
      "execution_count": 3,
      "metadata": {},
      "outputs": [
        {
          "name": "stderr",
          "output_type": "stream",
          "text": [
            "Seed set to 42\n"
          ]
        }
      ],
      "source": [
        "from spotPython.utils.init import fun_control_init\n",
        "from spotPython.utils.file import get_experiment_name, get_spot_tensorboard_path\n",
        "from spotPython.utils.device import getDevice\n",
        "\n",
        "experiment_name = get_experiment_name(prefix=PREFIX)\n",
        "fun_control = fun_control_init(\n",
        "    spot_tensorboard_path=get_spot_tensorboard_path(experiment_name),\n",
        "    num_workers=WORKERS,\n",
        "    device=getDevice(),\n",
        "    _L_in=133,    \n",
        "    _L_out=1,\n",
        "    TENSORBOARD_CLEAN=True)"
      ]
    },
    {
      "cell_type": "code",
      "execution_count": 4,
      "metadata": {},
      "outputs": [
        {
          "data": {
            "text/plain": [
              "'mps'"
            ]
          },
          "execution_count": 4,
          "metadata": {},
          "output_type": "execute_result"
        }
      ],
      "source": [
        "fun_control[\"device\"]"
      ]
    },
    {
      "cell_type": "markdown",
      "metadata": {},
      "source": [
        "## Step 3: PyTorch Data Loading {#sec-data-loading-31}\n",
        "\n",
        "### Lightning Dataset and DataModule\n",
        "\n",
        "The data loading and preprocessing is handled by `Lightning` and `PyTorch`.\n",
        "It comprehends the following classes:\n",
        "\n",
        "*   `CSVDataset`: A class that loads the data from a CSV file. [[SOURCE]](https://github.com/sequential-parameter-optimization/spotPython/blob/main/src/spotPython/light/csvdataset.py)\n",
        "*   `CSVDataModule`: A class that prepares the data for training and testing. [[SOURCE]](https://github.com/sequential-parameter-optimization/spotPython/blob/main/src/spotPython/light/csvdatamodule.py)\n",
        "\n",
        "\n",
        "Section @sec-taking-a-look-at-the-data-31 illustrates how to access the data.\n",
        "\n"
      ]
    },
    {
      "cell_type": "markdown",
      "metadata": {},
      "source": [
        "## Loading a local Data set"
      ]
    },
    {
      "cell_type": "code",
      "execution_count": 5,
      "metadata": {},
      "outputs": [
        {
          "name": "stdout",
          "output_type": "stream",
          "text": [
            "torch.Size([11, 64])\n",
            "torch.Size([11])\n"
          ]
        }
      ],
      "source": [
        "# PKL\n",
        "from spotPython.hyperparameters.values import set_data_set\n",
        "# from spotPython.data.lightdatamodule import LightDataModule\n",
        "from spotPython.data.pkldataset import PKLDataset\n",
        "import torch\n",
        "# dataset = PKLDataset(target_column='prognosis', feature_type=torch.long)\n",
        "dataset = PKLDataset(directory=\"/Users/bartz/workspace/spotPython/notebooks/data/spotPython/\", filename=\"data_sensitive.pkl\", target_column='N', feature_type=torch.float32, target_type=torch.float32, rmNA=True)\n",
        "set_data_set(fun_control=fun_control,\n",
        "                data_set=dataset)\n",
        "print(fun_control[\"data_set\"].data.shape)\n",
        "print(fun_control[\"data_set\"].targets.shape)\n",
        "# dm = LightDataModule(dataset=dataset, batch_size=5, test_size=77)\n",
        "# dm.setup()\n",
        "# set_data_module(fun_control=fun_control,\n",
        "#                 data_module=dm)"
      ]
    },
    {
      "cell_type": "code",
      "execution_count": 6,
      "metadata": {},
      "outputs": [],
      "source": [
        "# from spotPython.utils.init import fun_control_init\n",
        "# from spotPython.hyperparameters.values import set_data_module, set_data_set\n",
        "# from spotPython.data.lightdatamodule import LightDataModule\n",
        "# from spotPython.data.csvdataset import CSVDataset\n",
        "# import torch\n",
        "# dataset = CSVDataset(directory=\"/Users/bartz/workspace/spotPython/notebooks/data/VBDP/\", filename=\"train.csv\",target_column='prognosis', target_type=torch.long, feature_type=torch.float32, dropId=True)\n",
        "# set_data_set(fun_control=fun_control,\n",
        "#                 data_set=dataset)\n",
        "# print(fun_control[\"data_set\"].data.shape)\n",
        "# print(fun_control[\"data_set\"].targets.shape)"
      ]
    },
    {
      "cell_type": "code",
      "execution_count": 7,
      "metadata": {},
      "outputs": [],
      "source": [
        "\n",
        "# dm = LightDataModule(dataset=dataset, batch_size=5, test_size=0.6)\n",
        "# dm.setup()\n",
        "# set_data_module(fun_control=fun_control,\n",
        "#                 data_module=dm)\n",
        "# data_module = fun_control[\"data_module\"]\n",
        "# print(f\"Test set size: {len(data_module.data_test)}\")"
      ]
    },
    {
      "cell_type": "markdown",
      "metadata": {},
      "source": [
        "\n",
        "\n",
        "\n",
        "## Step 4: Preprocessing {#sec-preprocessing-31}\n",
        "\n",
        "Preprocessing is handled by `Lightning` and `PyTorch`. It can be implemented in the `CSVDataModule` class [[SOURCE]](https://github.com/sequential-parameter-optimization/spotPython/blob/main/src/spotPython/light/csvdatamodule.py) and is described in the [LIGHTNINGDATAMODULE](https://lightning.ai/docs/pytorch/stable/data/datamodule.html) documentation. Here you can find information about the `transforms` methods.\n",
        "\n",
        "\n",
        "\n",
        "## Step 5: Select the NN Model (`algorithm`) and `core_model_hyper_dict` {#sec-selection-of-the-algorithm-31}\n",
        "\n",
        "`spotPython` includes the `NetLightBase` class [[SOURCE]](https://github.com/sequential-parameter-optimization/spotPython/blob/main/src/spotPython/light/netlightbase.py) for configurable neural networks. \n",
        "The class is imported here. It inherits from the class `Lightning.LightningModule`, which is the base class for all models in `Lightning`. `Lightning.LightningModule` is a subclass of `torch.nn.Module` and provides additional functionality for the training and testing of neural networks. The class `Lightning.LightningModule` is described in the [Lightning documentation](https://lightning.ai/docs/pytorch/stable/common/lightning_module.html).\n",
        "\n",
        "* Here we simply add the NN Model to the fun_control dictionary by calling the function `add_core_model_to_fun_control`:"
      ]
    },
    {
      "cell_type": "code",
      "execution_count": 8,
      "metadata": {},
      "outputs": [],
      "source": [
        "from spotPython.light.regression.netlightregression import NetLightRegression\n",
        "from spotPython.hyperdict.light_hyper_dict import LightHyperDict\n",
        "from spotPython.hyperparameters.values import add_core_model_to_fun_control\n",
        "add_core_model_to_fun_control(core_model=NetLightRegression,\n",
        "                              fun_control=fun_control,\n",
        "                              hyper_dict=LightHyperDict)"
      ]
    },
    {
      "cell_type": "code",
      "execution_count": 9,
      "metadata": {},
      "outputs": [],
      "source": [
        "# Alternatively, a user specific hyper_dict can be used:\n",
        "# from spotPython.light.netlightbase import NetLightBase\n",
        "# from spotPython.hyperparameters.values import add_core_model_to_fun_control\n",
        "# add_core_model_to_fun_control(core_model=NetLightBase,\n",
        "#                               fun_control=fun_control,\n",
        "#                               filename=\"./hyperdict/user_hyper_dict.json\")"
      ]
    },
    {
      "cell_type": "markdown",
      "metadata": {},
      "source": [
        "The `NetLightRegression` is a configurable neural network. The hyperparameters of the model are specified in the `core_model_hyper_dict` dictionary [[SOURCE]](https://github.com/sequential-parameter-optimization/spotPython/blob/main/src/spotPython/data/light_hyper_dict.json).\n",
        "\n",
        "## Step 6: Modify `hyper_dict` Hyperparameters for the Selected Algorithm aka `core_model` {#sec-modification-of-hyperparameters-31}\n",
        "\n",
        " `spotPython` provides functions for modifying the hyperparameters, their bounds and factors as well as for activating and de-activating hyperparameters without re-compilation of the Python source code. These functions were described in @sec-modification-of-hyperparameters-14.\n",
        "\n",
        "::: {.callout-caution}\n",
        "### Caution: Small number of epochs for demonstration purposes\n",
        "\n",
        "* `epochs` and `patience` are set to small values for demonstration purposes. These values are too small for a real application.\n",
        "* More resonable values are, e.g.:\n",
        "  * `modify_hyper_parameter_bounds(fun_control, \"epochs\", bounds=[7, 9])` and\n",
        "  * `modify_hyper_parameter_bounds(fun_control, \"patience\", bounds=[2, 7])`\n",
        ":::"
      ]
    },
    {
      "cell_type": "code",
      "execution_count": 10,
      "metadata": {},
      "outputs": [],
      "source": [
        "from spotPython.hyperparameters.values import modify_hyper_parameter_bounds\n",
        "\n",
        "modify_hyper_parameter_bounds(fun_control, \"l1\", bounds=[5,8])\n",
        "modify_hyper_parameter_bounds(fun_control, \"epochs\", bounds=[6,13])\n",
        "modify_hyper_parameter_bounds(fun_control, \"batch_size\", bounds=[2, 8])"
      ]
    },
    {
      "cell_type": "code",
      "execution_count": 11,
      "metadata": {},
      "outputs": [],
      "source": [
        "from spotPython.hyperparameters.values import modify_hyper_parameter_levels\n",
        "modify_hyper_parameter_levels(fun_control, \"optimizer\",[\"Adam\", \"AdamW\", \"Adamax\", \"NAdam\"])\n",
        "# modify_hyper_parameter_levels(fun_control, \"optimizer\", [\"Adam\"])"
      ]
    },
    {
      "cell_type": "markdown",
      "metadata": {},
      "source": [
        "Now, the dictionary `fun_control` contains all information needed for the hyperparameter tuning. Before the hyperparameter tuning is started, it is recommended to take a look at the experimental design. The method `gen_design_table` [[SOURCE]](https://github.com/sequential-parameter-optimization/spotPython/blob/main/src/spotPython/utils/eda.py) generates a design table as follows:"
      ]
    },
    {
      "cell_type": "code",
      "execution_count": 12,
      "metadata": {
        "fig-label": "tbl-design-31"
      },
      "outputs": [
        {
          "name": "stdout",
          "output_type": "stream",
          "text": [
            "| name           | type   | default   |   lower |   upper | transform             |\n",
            "|----------------|--------|-----------|---------|---------|-----------------------|\n",
            "| l1             | int    | 3         |     5   |    8    | transform_power_2_int |\n",
            "| epochs         | int    | 4         |     6   |   13    | transform_power_2_int |\n",
            "| batch_size     | int    | 4         |     2   |    8    | transform_power_2_int |\n",
            "| act_fn         | factor | ReLU      |     0   |    5    | None                  |\n",
            "| optimizer      | factor | SGD       |     0   |    3    | None                  |\n",
            "| dropout_prob   | float  | 0.01      |     0   |    0.25 | None                  |\n",
            "| lr_mult        | float  | 1.0       |     0.1 |   10    | None                  |\n",
            "| patience       | int    | 2         |     2   |    6    | transform_power_2_int |\n",
            "| initialization | factor | Default   |     0   |    2    | None                  |\n"
          ]
        }
      ],
      "source": [
        "#| fig-cap: Experimental design for the hyperparameter tuning.\n",
        "from spotPython.utils.eda import gen_design_table\n",
        "print(gen_design_table(fun_control))"
      ]
    },
    {
      "cell_type": "markdown",
      "metadata": {},
      "source": [
        "This allows to check if all information is available and if the information is correct.\n",
        "\n",
        "::: {.callout-note}\n",
        "### Note: Hyperparameters of the Tuned Model and the `fun_control` Dictionary\n",
        "The updated `fun_control` dictionary can be shown with the command `fun_control[\"core_model_hyper_dict\"]`.\n",
        ":::\n",
        "\n",
        "\n",
        "## Step 7: Data Splitting, the Objective (Loss) Function and the Metric\n",
        "\n",
        "### Evaluation  {#sec-selection-of-target-function-31}\n",
        "\n",
        "The evaluation procedure requires the specification of two elements:\n",
        "\n",
        "1. the way how the data is split into a train and a test set (see @sec-data-splitting-14)\n",
        "2. the loss function (and a metric).\n",
        "\n",
        "::: {.callout-caution}\n",
        "### Caution: Data Splitting in Lightning\n",
        "\n",
        "* The data splitting is handled by `Lightning`.\n",
        "\n",
        ":::\n",
        "\n",
        "### Loss Functions and Metrics {#sec-loss-functions-and-metrics-31}\n",
        "\n",
        "The loss function is specified in the configurable network class [[SOURCE]](https://github.com/sequential-parameter-optimization/spotPython/blob/main/src/spotPython/light/netlightbase.py)\n",
        "We will use CrossEntropy loss for the multiclass-classification task.\n",
        "\n",
        "### Metric {#sec-metric-31}\n",
        "\n",
        "* We will use the MAP@k metric [[SOURCE]](https://github.com/sequential-parameter-optimization/spotPython/blob/main/src/spotPython/torch/mapk.py) for the evaluation of the model. \n",
        "* An example, how this metric works, is shown in the Appendix, see Section {@sec-the-mapk-metric-31}.\n",
        "\n",
        "Similar to the loss function, the metric is specified in the configurable network class [[SOURCE]](https://github.com/sequential-parameter-optimization/spotPython/blob/main/src/spotPython/light/netlightbase.py).\n",
        "\n",
        "::: {.callout-caution}\n",
        "### Caution: Loss Function and Metric in Lightning\n",
        "\n",
        "* The loss function and the metric are not hyperparameters that can be tuned with `spotPython`.\n",
        "* They are handled by `Lightning`.\n",
        "\n",
        ":::\n",
        "\n",
        "## Step 8: Calling the SPOT Function\n",
        "\n",
        "### Preparing the SPOT Call {#sec-prepare-spot-call-31}\n",
        "\n",
        "The following code passes the information about the parameter ranges and bounds to `spot`.\n",
        "It extracts the variable types, names, and bounds"
      ]
    },
    {
      "cell_type": "code",
      "execution_count": 13,
      "metadata": {},
      "outputs": [],
      "source": [
        "from spotPython.hyperparameters.values import (get_bound_values,\n",
        "    get_var_name,\n",
        "    get_var_type,)\n",
        "var_type = get_var_type(fun_control)\n",
        "var_name = get_var_name(fun_control)\n",
        "lower = get_bound_values(fun_control, \"lower\")\n",
        "upper = get_bound_values(fun_control, \"upper\")"
      ]
    },
    {
      "cell_type": "markdown",
      "metadata": {},
      "source": [
        "### The Objective Function `fun` {#sec-the-objective-function-31}\n",
        "\n",
        "The objective function `fun` from the class `HyperLight` [[SOURCE]](https://github.com/sequential-parameter-optimization/spotPython/blob/main/src/spotPython/fun/hyperlight.py) is selected next. It implements an interface from `PyTorch`'s training, validation, and testing methods to `spotPython`."
      ]
    },
    {
      "cell_type": "code",
      "execution_count": 14,
      "metadata": {},
      "outputs": [],
      "source": [
        "from spotPython.fun.hyperlight import HyperLight\n",
        "fun = HyperLight(log_level=50).fun"
      ]
    },
    {
      "cell_type": "markdown",
      "metadata": {},
      "source": [
        "### Starting the Hyperparameter Tuning {#sec-call-the-hyperparameter-tuner-31}\n",
        "\n",
        "The `spotPython` hyperparameter tuning is started by calling the `Spot` function [[SOURCE]](https://github.com/sequential-parameter-optimization/spotPython/blob/main/src/spotPython/spot/spot.py) as described in @sec-call-the-hyperparameter-tuner-14."
      ]
    },
    {
      "cell_type": "code",
      "execution_count": 15,
      "metadata": {},
      "outputs": [
        {
          "name": "stderr",
          "output_type": "stream",
          "text": [
            "/Users/bartz/miniforge3/envs/spotCondaEnv/lib/python3.11/site-packages/lightning/pytorch/utilities/parsing.py:198: Attribute 'act_fn' is an instance of `nn.Module` and is already saved during checkpointing. It is recommended to ignore them using `self.save_hyperparameters(ignore=['act_fn'])`.\n",
            "GPU available: True (mps), used: True\n",
            "TPU available: False, using: 0 TPU cores\n",
            "IPU available: False, using: 0 IPUs\n",
            "HPU available: False, using: 0 HPUs\n"
          ]
        },
        {
          "name": "stdout",
          "output_type": "stream",
          "text": [
            "Train_model(): Test set size: 7\n"
          ]
        },
        {
          "name": "stderr",
          "output_type": "stream",
          "text": [
            "\n",
            "  | Name   | Type       | Params | In sizes | Out sizes\n",
            "-------------------------------------------------------------\n",
            "0 | layers | Sequential | 74.4 K | [32, 64] | [32, 1]  \n",
            "-------------------------------------------------------------\n",
            "74.4 K    Trainable params\n",
            "0         Non-trainable params\n",
            "74.4 K    Total params\n",
            "0.297     Total estimated model params size (MB)\n",
            "/Users/bartz/miniforge3/envs/spotCondaEnv/lib/python3.11/site-packages/lightning/pytorch/trainer/connectors/data_connector.py:441: The 'val_dataloader' does not have many workers which may be a bottleneck. Consider increasing the value of the `num_workers` argument` to `num_workers=11` in the `DataLoader` to improve performance.\n",
            "GPU available: True (mps), used: True\n",
            "TPU available: False, using: 0 TPU cores\n",
            "IPU available: False, using: 0 IPUs\n",
            "HPU available: False, using: 0 HPUs\n",
            "\n",
            "  | Name   | Type       | Params | In sizes  | Out sizes\n",
            "--------------------------------------------------------------\n",
            "0 | layers | Sequential | 3.0 K  | [256, 64] | [256, 1] \n",
            "--------------------------------------------------------------\n",
            "3.0 K     Trainable params\n",
            "0         Non-trainable params\n",
            "3.0 K     Total params\n",
            "0.012     Total estimated model params size (MB)\n",
            "GPU available: True (mps), used: True\n",
            "TPU available: False, using: 0 TPU cores\n",
            "IPU available: False, using: 0 IPUs\n",
            "HPU available: False, using: 0 HPUs\n",
            "\n",
            "  | Name   | Type       | Params | In sizes | Out sizes\n",
            "-------------------------------------------------------------\n",
            "0 | layers | Sequential | 22.8 K | [8, 64]  | [8, 1]   \n",
            "-------------------------------------------------------------\n",
            "22.8 K    Trainable params\n",
            "0         Non-trainable params\n",
            "22.8 K    Total params\n",
            "0.091     Total estimated model params size (MB)\n"
          ]
        },
        {
          "name": "stdout",
          "output_type": "stream",
          "text": [
            "Train_model(): Test set size: 7\n",
            "Train_model(): Test set size: 7\n"
          ]
        },
        {
          "name": "stderr",
          "output_type": "stream",
          "text": [
            "GPU available: True (mps), used: True\n",
            "TPU available: False, using: 0 TPU cores\n",
            "IPU available: False, using: 0 IPUs\n",
            "HPU available: False, using: 0 HPUs\n",
            "\n",
            "  | Name   | Type       | Params | In sizes | Out sizes\n",
            "-------------------------------------------------------------\n",
            "0 | layers | Sequential | 7.8 K  | [16, 64] | [16, 1]  \n",
            "-------------------------------------------------------------\n",
            "7.8 K     Trainable params\n",
            "0         Non-trainable params\n",
            "7.8 K     Total params\n",
            "0.031     Total estimated model params size (MB)\n",
            "GPU available: True (mps), used: True\n",
            "TPU available: False, using: 0 TPU cores\n",
            "IPU available: False, using: 0 IPUs\n",
            "HPU available: False, using: 0 HPUs\n"
          ]
        },
        {
          "name": "stdout",
          "output_type": "stream",
          "text": [
            "Train_model(): Test set size: 7\n",
            "Train_model(): Test set size: 7\n"
          ]
        },
        {
          "name": "stderr",
          "output_type": "stream",
          "text": [
            "\n",
            "  | Name   | Type       | Params | In sizes | Out sizes\n",
            "-------------------------------------------------------------\n",
            "0 | layers | Sequential | 7.8 K  | [64, 64] | [64, 1]  \n",
            "-------------------------------------------------------------\n",
            "7.8 K     Trainable params\n",
            "0         Non-trainable params\n",
            "7.8 K     Total params\n",
            "0.031     Total estimated model params size (MB)\n"
          ]
        },
        {
          "ename": "ValueError",
          "evalue": "min() arg is an empty sequence",
          "output_type": "error",
          "traceback": [
            "\u001b[0;31m---------------------------------------------------------------------------\u001b[0m",
            "\u001b[0;31mValueError\u001b[0m                                Traceback (most recent call last)",
            "Cell \u001b[0;32mIn[15], line 21\u001b[0m\n\u001b[1;32m      3\u001b[0m \u001b[38;5;28;01mfrom\u001b[39;00m \u001b[38;5;21;01mmath\u001b[39;00m \u001b[38;5;28;01mimport\u001b[39;00m inf\n\u001b[1;32m      4\u001b[0m spot_tuner \u001b[38;5;241m=\u001b[39m spot\u001b[38;5;241m.\u001b[39mSpot(fun\u001b[38;5;241m=\u001b[39mfun,\n\u001b[1;32m      5\u001b[0m                    lower \u001b[38;5;241m=\u001b[39m lower,\n\u001b[1;32m      6\u001b[0m                    upper \u001b[38;5;241m=\u001b[39m upper,\n\u001b[0;32m   (...)\u001b[0m\n\u001b[1;32m     19\u001b[0m                                       \u001b[38;5;124m\"\u001b[39m\u001b[38;5;124mmodel_fun_evals\u001b[39m\u001b[38;5;124m\"\u001b[39m: \u001b[38;5;241m10_000\u001b[39m,\n\u001b[1;32m     20\u001b[0m                                       })\n\u001b[0;32m---> 21\u001b[0m \u001b[43mspot_tuner\u001b[49m\u001b[38;5;241;43m.\u001b[39;49m\u001b[43mrun\u001b[49m\u001b[43m(\u001b[49m\u001b[43m)\u001b[49m\n",
            "File \u001b[0;32m~/miniforge3/envs/spotCondaEnv/lib/python3.11/site-packages/spotPython/spot/spot.py:475\u001b[0m, in \u001b[0;36mSpot.run\u001b[0;34m(self, X_start)\u001b[0m\n\u001b[1;32m    474\u001b[0m \u001b[38;5;28;01mdef\u001b[39;00m \u001b[38;5;21mrun\u001b[39m(\u001b[38;5;28mself\u001b[39m, X_start\u001b[38;5;241m=\u001b[39m\u001b[38;5;28;01mNone\u001b[39;00m):\n\u001b[0;32m--> 475\u001b[0m     \u001b[38;5;28;43mself\u001b[39;49m\u001b[38;5;241;43m.\u001b[39;49m\u001b[43minitialize_design\u001b[49m\u001b[43m(\u001b[49m\u001b[43mX_start\u001b[49m\u001b[43m)\u001b[49m\n\u001b[1;32m    476\u001b[0m     \u001b[38;5;66;03m# New: self.update_stats() moved here:\u001b[39;00m\n\u001b[1;32m    477\u001b[0m     \u001b[38;5;66;03m# self.update_stats()\u001b[39;00m\n\u001b[1;32m    478\u001b[0m     \u001b[38;5;66;03m# (S-5) Calling the spotLoop Function\u001b[39;00m\n\u001b[1;32m    479\u001b[0m     \u001b[38;5;66;03m# and\u001b[39;00m\n\u001b[1;32m    480\u001b[0m     \u001b[38;5;66;03m# (S-9) Termination Criteria, Conditions:\u001b[39;00m\n\u001b[1;32m    481\u001b[0m     timeout_start \u001b[38;5;241m=\u001b[39m time\u001b[38;5;241m.\u001b[39mtime()\n",
            "File \u001b[0;32m~/miniforge3/envs/spotCondaEnv/lib/python3.11/site-packages/spotPython/spot/spot.py:536\u001b[0m, in \u001b[0;36mSpot.initialize_design\u001b[0;34m(self, X_start)\u001b[0m\n\u001b[1;32m    533\u001b[0m \u001b[38;5;28mself\u001b[39m\u001b[38;5;241m.\u001b[39mX, \u001b[38;5;28mself\u001b[39m\u001b[38;5;241m.\u001b[39my \u001b[38;5;241m=\u001b[39m remove_nan(\u001b[38;5;28mself\u001b[39m\u001b[38;5;241m.\u001b[39mX, \u001b[38;5;28mself\u001b[39m\u001b[38;5;241m.\u001b[39my)\n\u001b[1;32m    534\u001b[0m \u001b[38;5;66;03m# self.update_stats() moved to run()!\u001b[39;00m\n\u001b[1;32m    535\u001b[0m \u001b[38;5;66;03m# changed in 0.5.9:\u001b[39;00m\n\u001b[0;32m--> 536\u001b[0m \u001b[38;5;28;43mself\u001b[39;49m\u001b[38;5;241;43m.\u001b[39;49m\u001b[43mupdate_stats\u001b[49m\u001b[43m(\u001b[49m\u001b[43m)\u001b[49m\n\u001b[1;32m    537\u001b[0m \u001b[38;5;66;03m# (S-4): Imputation:\u001b[39;00m\n\u001b[1;32m    538\u001b[0m \u001b[38;5;66;03m# Not implemented yet.\u001b[39;00m\n\u001b[1;32m    539\u001b[0m \u001b[38;5;66;03m# (S-11) Surrogate Fit:\u001b[39;00m\n\u001b[1;32m    540\u001b[0m \u001b[38;5;28mself\u001b[39m\u001b[38;5;241m.\u001b[39mfit_surrogate()\n",
            "File \u001b[0;32m~/miniforge3/envs/spotCondaEnv/lib/python3.11/site-packages/spotPython/spot/spot.py:587\u001b[0m, in \u001b[0;36mSpot.update_stats\u001b[0;34m(self)\u001b[0m\n\u001b[1;32m    580\u001b[0m \u001b[38;5;28;01mdef\u001b[39;00m \u001b[38;5;21mupdate_stats\u001b[39m(\u001b[38;5;28mself\u001b[39m):\n\u001b[1;32m    581\u001b[0m \u001b[38;5;250m    \u001b[39m\u001b[38;5;124;03m\"\"\"\u001b[39;00m\n\u001b[1;32m    582\u001b[0m \u001b[38;5;124;03m    Update the following stats: 1. `min_y` 2. `min_X` 3. `counter`\u001b[39;00m\n\u001b[1;32m    583\u001b[0m \u001b[38;5;124;03m    If `noise` is `True`, additionally the following stats are computed: 1. `mean_X`\u001b[39;00m\n\u001b[1;32m    584\u001b[0m \u001b[38;5;124;03m    2. `mean_y` 3. `min_mean_y` 4. `min_mean_X`.\u001b[39;00m\n\u001b[1;32m    585\u001b[0m \n\u001b[1;32m    586\u001b[0m \u001b[38;5;124;03m    \"\"\"\u001b[39;00m\n\u001b[0;32m--> 587\u001b[0m     \u001b[38;5;28mself\u001b[39m\u001b[38;5;241m.\u001b[39mmin_y \u001b[38;5;241m=\u001b[39m \u001b[38;5;28;43mmin\u001b[39;49m\u001b[43m(\u001b[49m\u001b[38;5;28;43mself\u001b[39;49m\u001b[38;5;241;43m.\u001b[39;49m\u001b[43my\u001b[49m\u001b[43m)\u001b[49m\n\u001b[1;32m    588\u001b[0m     \u001b[38;5;28mself\u001b[39m\u001b[38;5;241m.\u001b[39mmin_X \u001b[38;5;241m=\u001b[39m \u001b[38;5;28mself\u001b[39m\u001b[38;5;241m.\u001b[39mX[argmin(\u001b[38;5;28mself\u001b[39m\u001b[38;5;241m.\u001b[39my)]\n\u001b[1;32m    589\u001b[0m     \u001b[38;5;28mself\u001b[39m\u001b[38;5;241m.\u001b[39mcounter \u001b[38;5;241m=\u001b[39m \u001b[38;5;28mself\u001b[39m\u001b[38;5;241m.\u001b[39my\u001b[38;5;241m.\u001b[39msize\n",
            "\u001b[0;31mValueError\u001b[0m: min() arg is an empty sequence"
          ]
        }
      ],
      "source": [
        "import numpy as np\n",
        "from spotPython.spot import spot\n",
        "from math import inf\n",
        "spot_tuner = spot.Spot(fun=fun,\n",
        "                   lower = lower,\n",
        "                   upper = upper,\n",
        "                   fun_evals = inf,\n",
        "                   max_time = MAX_TIME,\n",
        "                   tolerance_x = np.sqrt(np.spacing(1)),\n",
        "                   var_type = var_type,\n",
        "                   var_name = var_name,\n",
        "                   show_progress= True,\n",
        "                   fun_control = fun_control,\n",
        "                   design_control={\"init_size\": INIT_SIZE},\n",
        "                   surrogate_control={\"noise\": True,\n",
        "                                      \"min_theta\": -4,\n",
        "                                      \"max_theta\": 3,\n",
        "                                      \"n_theta\": len(var_name),\n",
        "                                      \"model_fun_evals\": 10_000,\n",
        "                                      })\n",
        "spot_tuner.run()"
      ]
    },
    {
      "cell_type": "markdown",
      "metadata": {},
      "source": [
        "## Step 9: Tensorboard {#sec-tensorboard-31}\n",
        "\n",
        "The textual output shown in the console (or code cell) can be visualized with Tensorboard.\n",
        "\n",
        "```{raw}\n",
        "tensorboard --logdir=\"runs/\"\n",
        "```\n",
        "\n",
        "Further information can be found in the [PyTorch Lightning documentation](https://lightning.ai/docs/pytorch/stable/api/lightning.pytorch.loggers.tensorboard.html) for Tensorboard.\n",
        "\n",
        "## Step 10: Results {#sec-results-31}\n",
        "\n",
        "After the hyperparameter tuning run is finished, the results can be analyzed as described in @sec-results-14."
      ]
    },
    {
      "cell_type": "code",
      "execution_count": null,
      "metadata": {
        "fig-label": "fig-progress-31"
      },
      "outputs": [],
      "source": [
        "#| fig-cap: Progress plot. *Black* dots denote results from the initial design. *Red* dots  illustrate the improvement found by the surrogate model based optimization.\n",
        "spot_tuner.plot_progress(log_y=False,\n",
        "    filename=\"./figures/\" + experiment_name+\"_progress.png\")"
      ]
    },
    {
      "cell_type": "code",
      "execution_count": null,
      "metadata": {
        "fig-label": "tbl-results-31"
      },
      "outputs": [],
      "source": [
        "#| fig-cap: Results of the hyperparameter tuning.\n",
        "from spotPython.utils.eda import gen_design_table\n",
        "print(gen_design_table(fun_control=fun_control, spot=spot_tuner))"
      ]
    },
    {
      "cell_type": "code",
      "execution_count": null,
      "metadata": {
        "fig-label": "fig-importance-31"
      },
      "outputs": [],
      "source": [
        "#| fig-cap: 'Variable importance plot, threshold 0.025.'\n",
        "spot_tuner.plot_importance(threshold=0.025,\n",
        "    filename=\"./figures/\" + experiment_name+\"_importance.png\")"
      ]
    },
    {
      "cell_type": "markdown",
      "metadata": {},
      "source": [
        "### Get the Tuned Architecture {#sec-get-spot-results-31}"
      ]
    },
    {
      "cell_type": "code",
      "execution_count": null,
      "metadata": {},
      "outputs": [],
      "source": [
        "from spotPython.hyperparameters.values import get_tuned_architecture\n",
        "config = get_tuned_architecture(spot_tuner, fun_control)\n",
        "print(config)"
      ]
    },
    {
      "cell_type": "markdown",
      "metadata": {},
      "source": [
        "* Test on the full data set"
      ]
    },
    {
      "cell_type": "code",
      "execution_count": null,
      "metadata": {},
      "outputs": [],
      "source": [
        "from spotPython.light.testmodel import test_model\n",
        "test_model(config, fun_control)"
      ]
    },
    {
      "cell_type": "code",
      "execution_count": null,
      "metadata": {},
      "outputs": [],
      "source": [
        "from spotPython.light.loadmodel import load_light_from_checkpoint\n",
        "\n",
        "model_loaded = load_light_from_checkpoint(config, fun_control)"
      ]
    },
    {
      "cell_type": "code",
      "execution_count": null,
      "metadata": {
        "fig-label": "fig-contour-31"
      },
      "outputs": [],
      "source": [
        "#| fig-cap: Contour plots.\n",
        "filename = \"./figures/\" + experiment_name\n",
        "spot_tuner.plot_important_hyperparameter_contour(filename=filename)"
      ]
    },
    {
      "cell_type": "markdown",
      "metadata": {},
      "source": [
        "### Parallel Coordinates Plot"
      ]
    },
    {
      "cell_type": "code",
      "execution_count": null,
      "metadata": {
        "fig-label": "fig-parallel-31"
      },
      "outputs": [],
      "source": [
        "#| fig-cap: Parallel coordinates plots\n",
        "spot_tuner.parallel_plot()"
      ]
    },
    {
      "cell_type": "markdown",
      "metadata": {},
      "source": [
        "### Cross Validation With Lightning\n",
        "\n",
        "* The `KFold` class from `sklearn.model_selection` is used to generate the folds for cross-validation.\n",
        "* These mechanism is used to generate the folds for the final evaluation of the model.\n",
        "* The `CrossValidationDataModule` class [[SOURCE]](https://github.com/sequential-parameter-optimization/spotPython/blob/main/src/spotPython/light/crossvalidationdatamodule.py) is used to generate the folds for the hyperparameter tuning process.\n",
        "* It is called from the `cv_model` function [[SOURCE]](https://github.com/sequential-parameter-optimization/spotPython/blob/main/src/spotPython/light/traintest.py)."
      ]
    },
    {
      "cell_type": "code",
      "execution_count": null,
      "metadata": {},
      "outputs": [],
      "source": [
        "from spotPython.light.cvmodel import cv_model\n",
        "# set the number of folds to 10\n",
        "fun_control[\"k_folds\"] = 3\n",
        "cv_model(config, fun_control)"
      ]
    },
    {
      "cell_type": "markdown",
      "metadata": {},
      "source": [
        "### Plot all Combinations of Hyperparameters\n",
        "\n",
        "* Warning: this may take a while."
      ]
    },
    {
      "cell_type": "code",
      "execution_count": null,
      "metadata": {},
      "outputs": [],
      "source": [
        "PLOT_ALL = False\n",
        "if PLOT_ALL:\n",
        "    n = spot_tuner.k\n",
        "    for i in range(n-1):\n",
        "        for j in range(i+1, n):\n",
        "            spot_tuner.plot_contour(i=i, j=j, min_z=min_z, max_z = max_z)"
      ]
    },
    {
      "cell_type": "markdown",
      "metadata": {},
      "source": [
        "### Visualizing the Activation Distribution\n",
        "\n",
        "::: {.callout-note}\n",
        "### Reference:\n",
        "\n",
        "* The following code is based on [[PyTorch Lightning TUTORIAL 2: ACTIVATION FUNCTIONS]](https://lightning.ai/docs/pytorch/stable/notebooks/course_UvA-DL/02-activation-functions.html), Author: Phillip Lippe, License: [[CC BY-SA]](https://creativecommons.org/licenses/by-sa/3.0/), Generated: 2023-03-15T09:52:39.179933.\n",
        "\n",
        ":::\n",
        "\n",
        "After we have trained the models, we can look at the actual activation values that find inside the model. For instance, how many neurons are set to zero in ReLU? Where do we find most values in Tanh? To answer these questions, we can write a simple function which takes a trained model, applies it to a batch of images, and plots the histogram of the activations inside the network:"
      ]
    },
    {
      "cell_type": "code",
      "execution_count": null,
      "metadata": {},
      "outputs": [],
      "source": [
        "from spotPython.torch.activation import Sigmoid, Tanh, ReLU, LeakyReLU, ELU, Swish\n",
        "act_fn_by_name = {\"sigmoid\": Sigmoid, \"tanh\": Tanh, \"relu\": ReLU, \"leakyrelu\": LeakyReLU, \"elu\": ELU, \"swish\": Swish}"
      ]
    },
    {
      "cell_type": "code",
      "execution_count": null,
      "metadata": {},
      "outputs": [],
      "source": [
        "from spotPython.hyperparameters.values import get_one_config_from_X\n",
        "X = spot_tuner.to_all_dim(spot_tuner.min_X.reshape(1,-1))\n",
        "config = get_one_config_from_X(X, fun_control)\n",
        "model = fun_control[\"core_model\"](**config, _L_in=64, _L_out=11)\n",
        "model"
      ]
    },
    {
      "cell_type": "code",
      "execution_count": null,
      "metadata": {},
      "outputs": [],
      "source": [
        "from spotPython.utils.eda import visualize_activations\n",
        "visualize_activations(model, color=f\"C{0}\")"
      ]
    },
    {
      "cell_type": "markdown",
      "metadata": {},
      "source": [
        "## Submission"
      ]
    },
    {
      "cell_type": "code",
      "execution_count": null,
      "metadata": {},
      "outputs": [],
      "source": [
        "import numpy as np\n",
        "import pandas as pd\n",
        "from sklearn.preprocessing import OrdinalEncoder"
      ]
    },
    {
      "cell_type": "code",
      "execution_count": null,
      "metadata": {},
      "outputs": [],
      "source": [
        "import pandas as pd\n",
        "from sklearn.preprocessing import OrdinalEncoder\n",
        "train_df = pd.read_csv('./data/VBDP/train.csv', index_col=0)\n",
        "# remove the id column\n",
        "# train_df = train_df.drop(columns=['id'])\n",
        "n_samples = train_df.shape[0]\n",
        "n_features = train_df.shape[1] - 1\n",
        "target_column = \"prognosis\"\n",
        "# Encode our prognosis labels as integers for easier decoding later\n",
        "enc = OrdinalEncoder()\n",
        "y = enc.fit_transform(train_df[[target_column]])\n",
        "test_df = pd.read_csv('./data/VBDP/test.csv', index_col=0)\n",
        "test_df"
      ]
    },
    {
      "cell_type": "code",
      "execution_count": null,
      "metadata": {},
      "outputs": [],
      "source": [
        "import torch\n",
        "X_tensor = torch.Tensor(test_df.values)\n",
        "X_tensor = X_tensor.to(fun_control[\"device\"])"
      ]
    },
    {
      "cell_type": "code",
      "execution_count": null,
      "metadata": {},
      "outputs": [],
      "source": [
        "y = model_loaded(X_tensor)\n",
        "y.shape"
      ]
    },
    {
      "cell_type": "code",
      "execution_count": null,
      "metadata": {},
      "outputs": [],
      "source": [
        "# convert the predictions to a numpy array\n",
        "y = y.cpu().detach().numpy()\n",
        "y"
      ]
    },
    {
      "cell_type": "code",
      "execution_count": null,
      "metadata": {},
      "outputs": [],
      "source": [
        "test_sorted_prediction_ids = np.argsort(-y, axis=1)\n",
        "test_top_3_prediction_ids = test_sorted_prediction_ids[:,:3]\n",
        "original_shape = test_top_3_prediction_ids.shape\n",
        "test_top_3_prediction = enc.inverse_transform(test_top_3_prediction_ids.reshape(-1, 1))\n",
        "test_top_3_prediction = test_top_3_prediction.reshape(original_shape)\n",
        "test_df['prognosis'] = np.apply_along_axis(lambda x: np.array(' '.join(x), dtype=\"object\"), 1, test_top_3_prediction)\n",
        "test_df['prognosis'].reset_index().to_csv('./data/VBDP/submission.csv', index=False)"
      ]
    },
    {
      "cell_type": "markdown",
      "metadata": {},
      "source": [
        "## Appendix\n",
        "\n",
        "### Differences to the spotPython Approaches for `torch`, `sklearn` and `river`\n",
        "\n",
        "::: {.callout-caution}\n",
        "#### Caution: Data Loading in Lightning\n",
        "\n",
        "* Data loading is handled independently from the `fun_control` dictionary by `Lightning` and `PyTorch`.\n",
        "* In contrast to `spotPython` with `torch`, `river` and `sklearn`, the data sets are not added to the `fun_control` dictionary.\n",
        ":::\n",
        "\n",
        "#### Specification of the Preprocessing Model {#sec-specification-of-preprocessing-model-31}\n",
        "\n",
        "The `fun_control` dictionary, the `torch`, `sklearn`and `river` versions of `spotPython` allow the specification of a data preprocessing pipeline, e.g., for the scaling of the data or for the one-hot encoding of categorical variables, see @sec-specification-of-preprocessing-model-14. This feature is not used in the `Lightning` version.\n",
        "\n",
        ":::{.callout-caution}\n",
        "#### Caution: Data preprocessing in Lightning\n",
        "\n",
        "Lightning allows the data preprocessing to be specified in the `LightningDataModule` class. It is not considered here, because it should be computed at one location only.\n",
        ":::\n",
        "\n",
        "### Taking a Look at the Data {#sec-taking-a-look-at-the-data-31}"
      ]
    },
    {
      "cell_type": "code",
      "execution_count": null,
      "metadata": {},
      "outputs": [],
      "source": [
        "import torch\n",
        "from spotPython.light.vbdpdataset import CSVDataset\n",
        "from torch.utils.data import DataLoader\n",
        "from torchvision.transforms import ToTensor\n",
        "\n",
        "# Create an instance of CSVDataset\n",
        "dataset = CSVDataset(csv_file=\"./data/VBDP/train.csv\", train=True)\n",
        "# show the dimensions of the input data\n",
        "print(dataset[0][0].shape)\n",
        "# show the first element of the input data\n",
        "print(dataset[0][0])\n",
        "# show the size of the dataset\n",
        "print(f\"Dataset Size: {len(dataset)}\")"
      ]
    },
    {
      "cell_type": "code",
      "execution_count": null,
      "metadata": {},
      "outputs": [],
      "source": [
        "# Set batch size for DataLoader\n",
        "batch_size = 3\n",
        "# Create DataLoader\n",
        "dataloader = DataLoader(dataset, batch_size=batch_size, shuffle=True)\n",
        "\n",
        "# Iterate over the data in the DataLoader\n",
        "for batch in dataloader:\n",
        "    inputs, targets = batch\n",
        "    print(f\"Batch Size: {inputs.size(0)}\")\n",
        "    print(\"---------------\")\n",
        "    print(f\"Inputs: {inputs}\")\n",
        "    print(f\"Targets: {targets}\")\n",
        "    break"
      ]
    },
    {
      "cell_type": "markdown",
      "metadata": {},
      "source": [
        "### The MAPK Metric {#sec-the-mapk-metric-31}\n",
        "\n",
        "Here is an example how the MAPK metric is calculated."
      ]
    },
    {
      "cell_type": "code",
      "execution_count": null,
      "metadata": {},
      "outputs": [],
      "source": [
        "from spotPython.torch.mapk import MAPK\n",
        "import torch\n",
        "mapk = MAPK(k=2)\n",
        "target = torch.tensor([0, 1, 2, 2])\n",
        "preds = torch.tensor(\n",
        "    [\n",
        "        [0.5, 0.2, 0.2],  # 0 is in top 2\n",
        "        [0.3, 0.4, 0.2],  # 1 is in top 2\n",
        "        [0.2, 0.4, 0.3],  # 2 is in top 2\n",
        "        [0.7, 0.2, 0.1],  # 2 isn't in top 2\n",
        "    ]\n",
        ")\n",
        "mapk.update(preds, target)\n",
        "print(mapk.compute()) # tensor(0.6250)"
      ]
    }
  ],
  "metadata": {
    "kernelspec": {
      "display_name": "Python 3",
      "language": "python",
      "name": "python3"
    },
    "language_info": {
      "codemirror_mode": {
        "name": "ipython",
        "version": 3
      },
      "file_extension": ".py",
      "mimetype": "text/x-python",
      "name": "python",
      "nbconvert_exporter": "python",
      "pygments_lexer": "ipython3",
      "version": "3.11.6"
    }
  },
  "nbformat": 4,
  "nbformat_minor": 4
}
