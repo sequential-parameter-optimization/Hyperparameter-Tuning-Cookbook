{
  "cells": [
    {
      "cell_type": "raw",
      "metadata": {},
      "source": [
        "---\n",
        "execute:\n",
        "  cache: false\n",
        "  eval: true\n",
        "  echo: true\n",
        "  warning: false\n",
        "---"
      ],
      "id": "41a7fbd2"
    },
    {
      "cell_type": "markdown",
      "metadata": {},
      "source": [
        "# Handling Noise {#sec-noise}\n",
        "\n",
        "This chapter demonstrates how noisy functions can be handled by `Spot` and how noise can be simulated, i.e., added to the objective function.\n",
        "\n",
        "## Example: `Spot` and the Noisy Sphere Function\n"
      ],
      "id": "51639ef3"
    },
    {
      "cell_type": "code",
      "metadata": {},
      "source": [
        "import numpy as np\n",
        "from math import inf\n",
        "from spotPython.fun.objectivefunctions import analytical\n",
        "from spotPython.spot import spot\n",
        "import matplotlib.pyplot as plt\n",
        "from spotPython.utils.init import fun_control_init, get_spot_tensorboard_path\n",
        "from spotPython.utils.init import fun_control_init, design_control_init, surrogate_control_init\n",
        "\n",
        "PREFIX = \"08\""
      ],
      "id": "913e47da",
      "execution_count": null,
      "outputs": []
    },
    {
      "cell_type": "markdown",
      "metadata": {},
      "source": [
        "### The Objective Function: Noisy Sphere\n",
        "\n",
        "The `spotPython` package provides several classes of objective functions, which return a one-dimensional output $y=f(x)$ for a given input $x$ (independent variable). Several objective functions allow one- or multidimensional input, some also combinations of real-valued and categorial input values.\n",
        "\n",
        "An objective function is considered as \"analytical\" if it can be described by a closed mathematical formula, e.g.,\n",
        "$$\n",
        "f(x, y) = x^2 + y^2.\n",
        "$$\n",
        "\n",
        "To simulate measurement errors, adding artificial noise to the function value $y$ is a common practice, e.g.,:\n",
        "\n",
        "$$\n",
        "f(x, y) = x^2 + y^2 + \\epsilon.\n",
        "$$\n",
        "\n",
        "Usually, noise is assumed to be normally distributed with mean $\\mu=0$ and standard deviation $\\sigma$.\n",
        "spotPython uses numpy's `scale` parameter, which specifies the standard deviation (spread or \"width\") of the distribution is used. This must be a non-negative value, see [https://numpy.org/doc/stable/reference/random/generated/numpy.random.normal.html](https://numpy.org/doc/stable/reference/random/generated/numpy.random.normal.html).\n",
        "\n",
        ":::{.callout-note}\n",
        "### Example: The sphere function without noise\n",
        "\n",
        "The default setting does not use any noise.\n"
      ],
      "id": "e83b3fb6"
    },
    {
      "cell_type": "code",
      "metadata": {},
      "source": [
        "from spotPython.fun.objectivefunctions import analytical\n",
        "fun = analytical().fun_sphere\n",
        "x = np.linspace(-1,1,100).reshape(-1,1)\n",
        "y = fun(x)\n",
        "plt.figure()\n",
        "plt.plot(x,y, \"k\")\n",
        "plt.show()"
      ],
      "id": "88eae86e",
      "execution_count": null,
      "outputs": []
    },
    {
      "cell_type": "markdown",
      "metadata": {},
      "source": [
        ":::\n",
        "\n",
        "\n",
        ":::{.callout-note}\n",
        "### Example: The sphere function with noise\n",
        "\n",
        "Noise can be added to the sphere function as follows:\n"
      ],
      "id": "8df15953"
    },
    {
      "cell_type": "code",
      "metadata": {},
      "source": [
        "from spotPython.fun.objectivefunctions import analytical\n",
        "fun = analytical(seed=123, sigma=0.02).fun_sphere\n",
        "x = np.linspace(-1,1,100).reshape(-1,1)\n",
        "y = fun(x)\n",
        "plt.figure()\n",
        "plt.plot(x,y, \"k\")\n",
        "plt.show()"
      ],
      "id": "d93d3347",
      "execution_count": null,
      "outputs": []
    },
    {
      "cell_type": "markdown",
      "metadata": {},
      "source": [
        ":::\n",
        "\n",
        "### Reproducibility: Noise Generation and Seed Handling\n",
        "\n",
        "spotPython provides two mechanisms for generating random noise:\n",
        "\n",
        "1. The seed is initialized once, i.e., when the objective function is instantiated. This can be done using the following call: `fun = analytical(sigma=0.02, seed=123).fun_sphere`.\n",
        "2. The seed is set every time the objective function is called. This can be done using the following call: `y = fun(x, sigma=0.02, seed=123)`.\n",
        "\n",
        "These two different ways lead to different results as explained in the following tables:\n",
        "\n",
        "\n",
        "\n",
        ":::{.callout-note}\n",
        "### Example: Noise added to the sphere function\n",
        "\n",
        "Since `sigma` is set to `0.02`, noise is added to the function:\n"
      ],
      "id": "1471a524"
    },
    {
      "cell_type": "code",
      "metadata": {},
      "source": [
        "from spotPython.fun.objectivefunctions import analytical\n",
        "fun = analytical(sigma=0.02, seed=123).fun_sphere\n",
        "x = np.array([1]).reshape(-1,1)\n",
        "for i in range(3):\n",
        "    print(f\"{i}: {fun(x)}\")"
      ],
      "id": "2268a89a",
      "execution_count": null,
      "outputs": []
    },
    {
      "cell_type": "markdown",
      "metadata": {},
      "source": [
        "The seed is set once. Every call to `fun()` results in a different value.\n",
        "The whole experiment can be repeated, the initial seed is used to generate the same sequence as shown below:\n",
        "\n",
        ":::\n",
        "\n",
        ":::{.callout-note}\n",
        "### Example: Noise added to the sphere function\n",
        "\n",
        "Since `sigma` is set to `0.02`, noise is added to the function:\n"
      ],
      "id": "860581ce"
    },
    {
      "cell_type": "code",
      "metadata": {},
      "source": [
        "from spotPython.fun.objectivefunctions import analytical\n",
        "fun = analytical(sigma=0.02, seed=123).fun_sphere\n",
        "x = np.array([1]).reshape(-1,1)\n",
        "for i in range(3):\n",
        "    print(f\"{i}: {fun(x)}\")"
      ],
      "id": "04060e5a",
      "execution_count": null,
      "outputs": []
    },
    {
      "cell_type": "markdown",
      "metadata": {},
      "source": [
        ":::\n",
        "\n",
        "If `spotPython` is used as a hyperparameter tuner, it is important that only one realization of the noise function is optimized.\n",
        "This behaviour can be accomplished by passing the same seed via the dictionary `fun_control` to every call of the objective function `fun` as shown below:\n",
        "\n",
        ":::{.callout-note}\n",
        "### Example: The same noise added to the sphere function\n",
        "\n",
        "Since `sigma` is set to `0.02`, noise is added to the function:\n"
      ],
      "id": "f7bb4948"
    },
    {
      "cell_type": "code",
      "metadata": {},
      "source": [
        "from spotPython.fun.objectivefunctions import analytical\n",
        "fun = analytical().fun_sphere\n",
        "fun_control = fun_control_init(\n",
        "    PREFIX=PREFIX,\n",
        "    sigma=0.02)\n",
        "y = fun(x, fun_control=fun_control)\n",
        "x = np.array([1]).reshape(-1,1)\n",
        "for i in range(3):\n",
        "    print(f\"{i}: {fun(x)}\")"
      ],
      "id": "21b936db",
      "execution_count": null,
      "outputs": []
    },
    {
      "cell_type": "markdown",
      "metadata": {},
      "source": [
        ":::\n",
        "\n",
        "\n",
        "## spotPython's Noise Handling Approaches\n",
        "\n",
        "The following setting will be used for the next steps:\n"
      ],
      "id": "c6ef42be"
    },
    {
      "cell_type": "code",
      "metadata": {},
      "source": [
        "fun = analytical().fun_sphere\n",
        "fun_control = fun_control_init(\n",
        "    PREFIX=PREFIX,\n",
        "    sigma=0.02,\n",
        ")"
      ],
      "id": "8743a249",
      "execution_count": null,
      "outputs": []
    },
    {
      "cell_type": "markdown",
      "metadata": {},
      "source": [
        "`spotPython` is adopted as follows to cope with noisy functions:\n",
        "\n",
        "1. `fun_repeats` is set to a value larger than 1 (here: 2)\n",
        "2. `noise` is set to `true`. Therefore, a nugget (`Lambda`) term is added to the correlation matrix\n",
        "3.  `init size` (of the `design_control` dictionary) is set to a value larger than 1 (here: 3)\n"
      ],
      "id": "a747b815"
    },
    {
      "cell_type": "code",
      "metadata": {},
      "source": [
        "spot_1_noisy = spot.Spot(fun=fun,\n",
        "                   fun_control=fun_control_init(\n",
        "                                    lower = np.array([-1]),\n",
        "                                    upper = np.array([1]),\n",
        "                                    fun_evals = 20,\n",
        "                                    fun_repeats = 2,\n",
        "                                    noise = True,\n",
        "                                    show_models=True),\n",
        "                   design_control=design_control_init(init_size=3, repeats=2),\n",
        "                   surrogate_control=surrogate_control_init(noise=True))"
      ],
      "id": "a875a3bd",
      "execution_count": null,
      "outputs": []
    },
    {
      "cell_type": "code",
      "metadata": {},
      "source": [
        "spot_1_noisy.run()"
      ],
      "id": "aa108a17",
      "execution_count": null,
      "outputs": []
    },
    {
      "cell_type": "markdown",
      "metadata": {},
      "source": [
        "## Print the Results\n"
      ],
      "id": "a0ffe568"
    },
    {
      "cell_type": "code",
      "metadata": {},
      "source": [
        "spot_1_noisy.print_results()"
      ],
      "id": "7f2f6566",
      "execution_count": null,
      "outputs": []
    },
    {
      "cell_type": "code",
      "metadata": {
        "fig-label": "fig-progress"
      },
      "source": [
        "#| fig-cap: Progress plot. *Black* dots denote results from the initial design. *Red* dots  illustrate the improvement found by the surrogate model based optimization.\n",
        "spot_1_noisy.plot_progress(log_y=False,\n",
        "    filename=\"./figures/\" + PREFIX + \"_progress.png\")"
      ],
      "id": "8e772302",
      "execution_count": null,
      "outputs": []
    },
    {
      "cell_type": "markdown",
      "metadata": {},
      "source": [
        "##  Noise and Surrogates: The Nugget Effect\n",
        "\n",
        "### The Noisy Sphere\n",
        "\n",
        "#### The Data\n",
        "\n",
        "* We prepare some data first:\n"
      ],
      "id": "bdfdcf5c"
    },
    {
      "cell_type": "code",
      "metadata": {},
      "source": [
        "import numpy as np\n",
        "import spotPython\n",
        "from spotPython.fun.objectivefunctions import analytical\n",
        "from spotPython.spot import spot\n",
        "from spotPython.design.spacefilling import spacefilling\n",
        "from spotPython.build.kriging import Kriging\n",
        "import matplotlib.pyplot as plt\n",
        "\n",
        "gen = spacefilling(1)\n",
        "rng = np.random.RandomState(1)\n",
        "lower = np.array([-10])\n",
        "upper = np.array([10])\n",
        "fun = analytical().fun_sphere\n",
        "fun_control = fun_control_init(\n",
        "    PREFIX=PREFIX,\n",
        "    sigma=4)\n",
        "X = gen.scipy_lhd(10, lower=lower, upper = upper)\n",
        "y = fun(X, fun_control=fun_control)\n",
        "X_train = X.reshape(-1,1)\n",
        "y_train = y"
      ],
      "id": "6e9d4f52",
      "execution_count": null,
      "outputs": []
    },
    {
      "cell_type": "markdown",
      "metadata": {},
      "source": [
        "* A surrogate without nugget is fitted to these data:\n"
      ],
      "id": "f16dfcd5"
    },
    {
      "cell_type": "code",
      "metadata": {},
      "source": [
        "S = Kriging(name='kriging',\n",
        "            n_theta=1,\n",
        "            noise=False)\n",
        "S.fit(X_train, y_train)\n",
        "\n",
        "X_axis = np.linspace(start=-13, stop=13, num=1000).reshape(-1, 1)\n",
        "mean_prediction, std_prediction, ei = S.predict(X_axis, return_val=\"all\")\n",
        "\n",
        "plt.scatter(X_train, y_train, label=\"Observations\")\n",
        "plt.plot(X_axis, mean_prediction, label=\"mue\")\n",
        "plt.legend()\n",
        "plt.xlabel(\"$x$\")\n",
        "plt.ylabel(\"$f(x)$\")\n",
        "_ = plt.title(\"Sphere: Gaussian process regression on noisy dataset\")"
      ],
      "id": "f89738bd",
      "execution_count": null,
      "outputs": []
    },
    {
      "cell_type": "markdown",
      "metadata": {},
      "source": [
        "* In comparison to the surrogate without nugget, we fit a surrogate with nugget to the data:\n"
      ],
      "id": "f489952a"
    },
    {
      "cell_type": "code",
      "metadata": {},
      "source": [
        "S_nug = Kriging(name='kriging',\n",
        "            n_theta=1,\n",
        "            noise=True)\n",
        "S_nug.fit(X_train, y_train)\n",
        "X_axis = np.linspace(start=-13, stop=13, num=1000).reshape(-1, 1)\n",
        "mean_prediction, std_prediction, ei = S_nug.predict(X_axis, return_val=\"all\")\n",
        "plt.scatter(X_train, y_train, label=\"Observations\")\n",
        "plt.plot(X_axis, mean_prediction, label=\"mue\")\n",
        "plt.legend()\n",
        "plt.xlabel(\"$x$\")\n",
        "plt.ylabel(\"$f(x)$\")\n",
        "_ = plt.title(\"Sphere: Gaussian process regression with nugget on noisy dataset\")"
      ],
      "id": "386f88ca",
      "execution_count": null,
      "outputs": []
    },
    {
      "cell_type": "markdown",
      "metadata": {},
      "source": [
        "* The value of the nugget term can be extracted from the model as follows:\n"
      ],
      "id": "a3ac6187"
    },
    {
      "cell_type": "code",
      "metadata": {},
      "source": [
        "S.Lambda"
      ],
      "id": "b5a6c114",
      "execution_count": null,
      "outputs": []
    },
    {
      "cell_type": "code",
      "metadata": {},
      "source": [
        "S_nug.Lambda"
      ],
      "id": "6c2512af",
      "execution_count": null,
      "outputs": []
    },
    {
      "cell_type": "markdown",
      "metadata": {},
      "source": [
        "* We see:\n",
        "    * the first model `S` has no nugget, \n",
        "    * whereas the second model has a nugget value (`Lambda`) larger than zero.\n",
        "\n",
        "## Exercises\n",
        "\n",
        "### Noisy `fun_cubed`\n",
        "\n",
        "* Analyse the effect of noise on the `fun_cubed` function with the following settings:\n"
      ],
      "id": "8cc76c9a"
    },
    {
      "cell_type": "code",
      "metadata": {},
      "source": [
        "fun = analytical().fun_cubed\n",
        "fun_control = fun_control_init(\n",
        "    sigma=10)\n",
        "lower = np.array([-10])\n",
        "upper = np.array([10])"
      ],
      "id": "8a6631b5",
      "execution_count": null,
      "outputs": []
    },
    {
      "cell_type": "markdown",
      "metadata": {},
      "source": [
        "###  `fun_runge`\n",
        "\n",
        "* Analyse the effect of noise on the `fun_runge` function with the following settings:\n"
      ],
      "id": "f09b10fd"
    },
    {
      "cell_type": "code",
      "metadata": {},
      "source": [
        "lower = np.array([-10])\n",
        "upper = np.array([10])\n",
        "fun = analytical().fun_runge\n",
        "fun_control = fun_control_init(\n",
        "    sigma=0.25)"
      ],
      "id": "ff6bb2c6",
      "execution_count": null,
      "outputs": []
    },
    {
      "cell_type": "markdown",
      "metadata": {},
      "source": [
        "###  `fun_forrester`\n",
        "\n",
        "* Analyse the effect of noise on the `fun_forrester` function with the following settings: \n"
      ],
      "id": "5828fde9"
    },
    {
      "cell_type": "code",
      "metadata": {},
      "source": [
        "lower = np.array([0])\n",
        "upper = np.array([1])\n",
        "fun = analytical().fun_forrester\n",
        "fun_control = fun_control_init(\n",
        "    sigma=5)"
      ],
      "id": "b3b25d70",
      "execution_count": null,
      "outputs": []
    },
    {
      "cell_type": "markdown",
      "metadata": {},
      "source": [
        "###  `fun_xsin`\n",
        "\n",
        "* Analyse the effect of noise on the `fun_xsin` function with the following settings: \n"
      ],
      "id": "01fafc98"
    },
    {
      "cell_type": "code",
      "metadata": {},
      "source": [
        "lower = np.array([-1.])\n",
        "upper = np.array([1.])\n",
        "fun = analytical().fun_xsin\n",
        "fun_control = fun_control_init(    \n",
        "    sigma=0.5)"
      ],
      "id": "6edb9c4b",
      "execution_count": null,
      "outputs": []
    }
  ],
  "metadata": {
    "kernelspec": {
      "name": "python3",
      "language": "python",
      "display_name": "Python 3 (ipykernel)"
    }
  },
  "nbformat": 4,
  "nbformat_minor": 5
}