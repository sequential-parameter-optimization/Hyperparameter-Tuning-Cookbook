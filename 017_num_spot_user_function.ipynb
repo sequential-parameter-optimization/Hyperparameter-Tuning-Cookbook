{
  "cells": [
    {
      "cell_type": "markdown",
      "metadata": {},
      "source": [
        "---\n",
        "execute:\n",
        "  cache: false\n",
        "  eval: true\n",
        "  echo: true\n",
        "  warning: false\n",
        "  keep-ipynb: true\n",
        "---\n",
        "\n",
        "# User-Specified Functions: Extending the Analytical Class {#sec-user-function}\n",
        "\n",
        "\n",
        "This chapter illustrates how user-specified functions can be optimized and analyzed.\n",
        "It covers singe-objective function in @sec-single-objective and multi-objective functions in @sec-multi-objective, and how to use the `spotpython` package to optimize them. It shows a simple approach to define a user-specified function, both for single- and multi-objective optimization, and how to extend the `Analytical` class to create a custom function.\n",
        "\n",
        "\n",
        "::: {.callout-note}\n",
        "#### Citation\n",
        "\n",
        "* If this document has been useful to you and you wish to cite it in a scientific publication, please refer to the following paper, which can be found on arXiv: [https://arxiv.org/abs/2307.10262](https://arxiv.org/abs/2307.10262).\n",
        "\n",
        "\n",
        "```{bibtex}\n",
        "@ARTICLE{bart23iArXiv,\n",
        "      author = {{Bartz-Beielstein}, Thomas},\n",
        "      title = \"{Hyperparameter Tuning Cookbook:\n",
        "          A guide for scikit-learn, PyTorch, river, and spotpython}\",\n",
        "     journal = {arXiv e-prints},\n",
        "    keywords = {Computer Science - Machine Learning,\n",
        "      Computer Science - Artificial Intelligence, 90C26, I.2.6, G.1.6},\n",
        "         year = 2023,\n",
        "        month = jul,\n",
        "          eid = {arXiv:2307.10262},\n",
        "          doi = {10.48550/arXiv.2307.10262},\n",
        "archivePrefix = {arXiv},\n",
        "       eprint = {2307.10262},\n",
        " primaryClass = {cs.LG}\n",
        "}\n",
        "```\n",
        "\n",
        "::: \n",
        "\n",
        "## Software Requirements\n",
        "\n",
        "* The code examples in this chapter require the `spotpython` package, which can be installed via `pip`.\n",
        "* Furthermore, the following Python packages are required:"
      ]
    },
    {
      "cell_type": "code",
      "metadata": {},
      "source": [
        "import numpy as np\n",
        "import matplotlib.pyplot as plt\n",
        "from spotpython.fun.objectivefunctions import Analytical\n",
        "from spotpython.utils.init import fun_control_init, surrogate_control_init\n",
        "from spotpython.spot import Spot"
      ],
      "execution_count": null,
      "outputs": []
    },
    {
      "cell_type": "markdown",
      "metadata": {},
      "source": [
        "## The Single-Objective Function: User Specified {#sec-single-objective}\n",
        "\n",
        "We will use an analytical objective function, i.e., a function that can be described by a (closed) formula:\n",
        "$$\n",
        "f(x) = \\sum_i^k x_i^4.\n",
        "$$ \n",
        "   \n",
        "\n",
        "This function is continuous, convex and unimodal. Since it returns one value for each input vector, it is a single-objective function. Multiple-objective functions can also be handled by `spotpython`. They  are  covered in @sec-multi-objective.\n",
        "\n",
        "The global minimum of the single-objective function is \n",
        "$$\n",
        "f(x) = 0, \\text{at } x = (0,0, \\ldots, 0).\n",
        "$$\n",
        "\n",
        "It can be implemented in Python as follows:"
      ]
    },
    {
      "cell_type": "code",
      "metadata": {},
      "source": [
        "def user_fun(X):\n",
        "    return(np.sum((X) **4, axis=1))"
      ],
      "execution_count": null,
      "outputs": []
    },
    {
      "cell_type": "markdown",
      "metadata": {},
      "source": [
        "For example, if we have $X = (1, 2, 3)$, then\n",
        "$$\n",
        "f(x) = 1^4 + 2^4 + 3^4 = 1 + 16 + 81 = 98,\n",
        "$$\n",
        "and if we have $X = (4, 5, 6)$, then\n",
        "$$\n",
        "f(x) = 4^4 + 5^4 + 6^4 = 256 + 625 + 1296 = 2177.\n",
        "$$\n",
        "\n",
        "We can pass a 2D array to the function, and it will return a 1D array with the results for each row:"
      ]
    },
    {
      "cell_type": "code",
      "metadata": {},
      "source": [
        "user_fun(np.array([[1, 2, 3], [4, 5, 6]]))"
      ],
      "execution_count": null,
      "outputs": []
    },
    {
      "cell_type": "markdown",
      "metadata": {},
      "source": [
        "To make `user_fun` compatible with the `spotpython` package, we need to extend its argument list, so that it can handle the `fun_control` dictionary."
      ]
    },
    {
      "cell_type": "code",
      "metadata": {},
      "source": [
        "def user_fun(X, fun_control=None):\n",
        "    return(np.sum((X) **4, axis=1))"
      ],
      "execution_count": null,
      "outputs": []
    },
    {
      "cell_type": "markdown",
      "metadata": {},
      "source": [
        "Alternatively, you can add the `**kwargs` argument to the function, which will allow you to pass any additional keyword arguments:"
      ]
    },
    {
      "cell_type": "code",
      "metadata": {},
      "source": [
        "def user_fun(X, **kwargs):\n",
        "    return(np.sum((X) **4, axis=1))"
      ],
      "execution_count": null,
      "outputs": []
    },
    {
      "cell_type": "code",
      "metadata": {},
      "source": [
        "fun_control = fun_control_init(\n",
        "              lower = np.array( [-1, -1]),\n",
        "              upper = np.array([1, 1]),\n",
        ")\n",
        "S = Spot(fun=user_fun,\n",
        "                 fun_control=fun_control)\n",
        "S.run()\n",
        "S.plot_progress()"
      ],
      "execution_count": null,
      "outputs": []
    },
    {
      "cell_type": "markdown",
      "metadata": {},
      "source": [
        "::: {.callout-note}\n",
        "### Summary: Using `spotpython` with Single-Objective User-Specified Functions \n",
        "\n",
        "* `spotpython` accepts user-specified functions that can be defined in Python.\n",
        "* The function should accept a 2D array as input and return a 1D array as output.\n",
        "* The function can be defined with an additional argument `fun_control` to handle control parameters.\n",
        "* The `fun_control` dictionary can be initialized with the `fun_control_init` function, which allows you to specify the bounds of the input variables.\n",
        "::: \n",
        "\n",
        "## The Objective Function: Extending the Analytical Class\n",
        "\n",
        "* The `Analytical` class is a base class for analytical functions in the `spotpython` package.\n",
        "* It provides a framework for defining and evaluating analytical functions, including the ability to add noise to the output.\n",
        "* The `Analytical` class can be extended as follows:"
      ]
    },
    {
      "cell_type": "code",
      "metadata": {},
      "source": [
        "from typing import Optional, Dict\n",
        "\n",
        "class UserAnalytical(Analytical):\n",
        "    def fun_user_function(self, X: np.ndarray, fun_control: Optional[Dict] = None) -> np.ndarray:\n",
        "        \"\"\"\n",
        "        Custom new function: f(x) = x^4\n",
        "        \n",
        "        Args:\n",
        "            X (np.ndarray): Input data as a 2D array.\n",
        "            fun_control (Optional[Dict]): Control parameters for the function.\n",
        "        \n",
        "        Returns:\n",
        "            np.ndarray: Computed values with optional noise.\n",
        "        \n",
        "        Examples:\n",
        "            >>> import numpy as np\n",
        "            >>> X = np.array([[1, 2, 3], [4, 5, 6]])\n",
        "            >>> fun = UserAnalytical()\n",
        "            >>> fun.fun_user_function(X)\n",
        "        \"\"\"\n",
        "        X = self._prepare_input_data(X, fun_control)\n",
        "     \n",
        "        offset = np.ones(X.shape[1]) * self.offset\n",
        "        y = np.sum((X - offset) **4, axis=1) \n",
        "\n",
        "        # Add noise if specified in fun_control\n",
        "        return self._add_noise(y)"
      ],
      "execution_count": null,
      "outputs": []
    },
    {
      "cell_type": "markdown",
      "metadata": {},
      "source": [
        "* In comparison to the `user_fun` function, the `UserAnalytical` class provides additional functionality, such as adding noise to the output and preparing the input data.\n",
        "* First, we use the `user_fun` function as above.\n"
      ]
    },
    {
      "cell_type": "code",
      "metadata": {},
      "source": [
        "user_fun = UserAnalytical()\n",
        "X = np.array([[0, 0, 0], [1, 1, 1]])\n",
        "results = user_fun.fun_user_function(X)\n",
        "print(results)"
      ],
      "execution_count": null,
      "outputs": []
    },
    {
      "cell_type": "markdown",
      "metadata": {},
      "source": [
        "* Then we can add an offset to the function, which will shift the function by a constant value. This is useful for testing the optimization algorithm's ability to find the global minimum.\n"
      ]
    },
    {
      "cell_type": "code",
      "metadata": {},
      "source": [
        "user_fun = UserAnalytical(offset=1.0)\n",
        "X = np.array([[0, 0, 0], [1, 1, 1]])\n",
        "results = user_fun.fun_user_function(X)\n",
        "print(results)"
      ],
      "execution_count": null,
      "outputs": []
    },
    {
      "cell_type": "markdown",
      "metadata": {},
      "source": [
        "* And, we can add noise to the function, which will add a random value to the output. This is useful for testing the optimization algorithm's ability to find the global minimum in the presence of noise."
      ]
    },
    {
      "cell_type": "code",
      "metadata": {},
      "source": [
        "user_fun = UserAnalytical(sigma=1.0)\n",
        "X = np.array([[0, 0, 0], [1, 1, 1]])\n",
        "results = user_fun.fun_user_function(X)\n",
        "print(results)"
      ],
      "execution_count": null,
      "outputs": []
    },
    {
      "cell_type": "markdown",
      "metadata": {},
      "source": [
        "* Here is an example of how to use the `UserAnalytical` class with the `spotpython` package:"
      ]
    },
    {
      "cell_type": "code",
      "metadata": {},
      "source": [
        "#| label: 017-spot-run\n",
        "user_fun = UserAnalytical().fun_user_function\n",
        "fun_control = fun_control_init(\n",
        "              PREFIX=\"USER\",              \n",
        "              lower = -1.0*np.ones(2),\n",
        "              upper = np.ones(2),\n",
        "              var_name=[\"User Pressure\", \"User Temp\"],\n",
        "              TENSORBOARD_CLEAN=True,\n",
        "              tensorboard_log=True)\n",
        "spot_user = Spot(fun=user_fun,\n",
        "                  fun_control=fun_control)\n",
        "spot_user.run()"
      ],
      "execution_count": null,
      "outputs": []
    },
    {
      "cell_type": "markdown",
      "metadata": {},
      "source": [
        "## Results"
      ]
    },
    {
      "cell_type": "code",
      "metadata": {},
      "source": [
        "_ = spot_user.print_results()"
      ],
      "execution_count": null,
      "outputs": []
    },
    {
      "cell_type": "code",
      "metadata": {},
      "source": [
        "spot_user.plot_progress()"
      ],
      "execution_count": null,
      "outputs": []
    },
    {
      "cell_type": "markdown",
      "metadata": {},
      "source": [
        "## A Contour Plot\n",
        "\n",
        "We can select two dimensions, say $i=0$ and $j=1$, and generate a contour plot as follows.\n",
        "\n",
        "::: {.callout-note}\n",
        "#### Note: \n",
        "\n",
        "We have specified identical `min_z` and `max_z` values to generate comparable plots.\n",
        "\n",
        ":::\n"
      ]
    },
    {
      "cell_type": "code",
      "metadata": {},
      "source": [
        "spot_user.plot_contour(i=0, j=1, min_z=0, max_z=2.25)"
      ],
      "execution_count": null,
      "outputs": []
    },
    {
      "cell_type": "markdown",
      "metadata": {},
      "source": [
        "* The variable importance:"
      ]
    },
    {
      "cell_type": "code",
      "metadata": {},
      "source": [
        "_ = spot_user.print_importance()"
      ],
      "execution_count": null,
      "outputs": []
    },
    {
      "cell_type": "code",
      "metadata": {},
      "source": [
        "spot_user.plot_importance()"
      ],
      "execution_count": null,
      "outputs": []
    },
    {
      "cell_type": "markdown",
      "metadata": {},
      "source": [
        "## Multi-Objective Functions {#sec-multi-objective}\n",
        "\n",
        "* The `spotpython` package can also handle multi-objective functions, which are functions that return multiple values for each input vector.\n",
        "* As noted in @sec-single-objective, in the single-objective case, the function returns one value for each input vector and `spotpython` expects a 1D array as output.\n",
        "* If the function returns a 2D array as output, `spotpython` will treat it as a multi-objective function result.\n",
        "\n",
        "### Response Surface Experiment\n",
        "\n",
        "@Myers2016 describe a response surface experiment where three input variables (`reaction time`, `reaction temperature`, and `percent catalyst`) were used to model two characteristics of a chemical reaction: `percent conversion` and `thermal activity`. Their model is based on the following equations:\n",
        "\n",
        "\\begin{align*}\n",
        "f_{\\text{con}}(x) =\n",
        "&\n",
        " 81.09\n",
        "+\n",
        "1.0284 \\cdot x_1\n",
        "+\n",
        "4.043 \\cdot x_2\n",
        "+\n",
        "6.2037 \\cdot x_3\n",
        "+\n",
        "1.8366 \\cdot x_1^2\n",
        "+\n",
        "2.9382 \\cdot x_2^2 \\\\\n",
        "&\n",
        "+\n",
        "5.1915 \\cdot x_3^2\n",
        "+\n",
        "2.2150 \\cdot x_1 \\cdot x_2\n",
        "+\n",
        "11.375 \\cdot x_1 \\cdot x_3\n",
        "+\n",
        "3.875 \\cdot x_2 \\cdot x_3\n",
        "\\end{align*}\n",
        "and\n",
        "\\begin{align*}\n",
        "f_{\\text{act}}(x) = \n",
        " & \n",
        " 59.85\n",
        "+ 3.583 \\cdot x_1\n",
        "+ 0.2546 \\cdot x_2\n",
        "+ 2.2298 \\cdot x_3\n",
        "+ 0.83479 \\cdot x_1^2\n",
        "+ 0.07484 \\cdot x_2^2\n",
        "\\\\\n",
        "&\n",
        "+ 0.05716 \\cdot x_3^2\n",
        "+ 0.3875 \\cdot x_1 \\cdot x_2\n",
        "+ 0.375 \\cdot x_1 \\cdot x_3\n",
        "+ 0.3125 \\cdot x_2 \\cdot x_3. \n",
        "\\end{align*}\n",
        "\n",
        " \n",
        "\n",
        "#### Defining the Multi-Objective Function `myer16a`\n",
        "\n",
        "* The multi-objective function `myer16a` combines the results of two single-objective functions: conversion and activity.\n",
        "* It is implemented in `spotpython` as follows:"
      ]
    },
    {
      "cell_type": "code",
      "metadata": {},
      "source": [
        "import numpy as np\n",
        "\n",
        "def conversion_pred(X):\n",
        "    \"\"\"\n",
        "    Compute conversion predictions for each row in the input array.\n",
        "\n",
        "    Args:\n",
        "        X (np.ndarray): 2D array where each row is a configuration.\n",
        "\n",
        "    Returns:\n",
        "        np.ndarray: 1D array of conversion predictions.\n",
        "    \"\"\"\n",
        "    return (\n",
        "        81.09\n",
        "        + 1.0284 * X[:, 0]\n",
        "        + 4.043 * X[:, 1]\n",
        "        + 6.2037 * X[:, 2]\n",
        "        - 1.8366 * X[:, 0]**2\n",
        "        + 2.9382 * X[:, 1]**2\n",
        "        - 5.1915 * X[:, 2]**2\n",
        "        + 2.2150 * X[:, 0] * X[:, 1]\n",
        "        + 11.375 * X[:, 0] * X[:, 2]\n",
        "        - 3.875 * X[:, 1] * X[:, 2]\n",
        "    )\n",
        "\n",
        "def activity_pred(X):\n",
        "    \"\"\"\n",
        "    Compute activity predictions for each row in the input array.\n",
        "\n",
        "    Args:\n",
        "        X (np.ndarray): 2D array where each row is a configuration.\n",
        "\n",
        "    Returns:\n",
        "        np.ndarray: 1D array of activity predictions.\n",
        "    \"\"\"\n",
        "    return (\n",
        "        59.85\n",
        "        + 3.583 * X[:, 0]\n",
        "        + 0.2546 * X[:, 1]\n",
        "        + 2.2298 * X[:, 2]\n",
        "        + 0.83479 * X[:, 0]**2\n",
        "        + 0.07484 * X[:, 1]**2\n",
        "        + 0.05716 * X[:, 2]**2\n",
        "        - 0.3875 * X[:, 0] * X[:, 1]\n",
        "        - 0.375 * X[:, 0] * X[:, 2]\n",
        "        + 0.3125 * X[:, 1] * X[:, 2]\n",
        "    )\n",
        "\n",
        "def fun_myer16a(X, fun_control=None):\n",
        "    \"\"\"\n",
        "    Compute both conversion and activity predictions for each row in the input array.\n",
        "\n",
        "    Args:\n",
        "        X (np.ndarray): 2D array where each row is a configuration.\n",
        "        fun_control (dict, optional): Additional control parameters (not used here).\n",
        "\n",
        "    Returns:\n",
        "        np.ndarray: 2D array where each row contains [conversion_pred, activity_pred].\n",
        "    \"\"\"\n",
        "    return np.column_stack((conversion_pred(X), activity_pred(X)))"
      ],
      "execution_count": null,
      "outputs": []
    },
    {
      "cell_type": "markdown",
      "metadata": {},
      "source": [
        "Now the function returns a 2D array with two columns, one for each objective function. The first column corresponds to the conversion prediction, and the second column corresponds to the activity prediction."
      ]
    },
    {
      "cell_type": "code",
      "metadata": {},
      "source": [
        "X = np.array([[1, 2, 3], [4, 5, 6]])\n",
        "results = fun_myer16a(X)\n",
        "print(results)"
      ],
      "execution_count": null,
      "outputs": []
    },
    {
      "cell_type": "markdown",
      "metadata": {},
      "source": [
        "#### Using a Weighted Sum\n",
        "\n",
        "* The `spotpython` package can also handle multi-objective functions, which are functions that return multiple values for each input vector.\n",
        "* In this case, we can use a weighted sum to combine the two objectives into a single objective function.\n",
        "* The function `aggergate` takes the two objectives and combines them into a single objective function by applying weights to each objective.\n",
        "* The weights can be adjusted to give more importance to one objective over the other.\n",
        "* For example, if we want to give more importance to the conversion prediction, we can set the weight for the conversion prediction to 2 and the weight for the activity prediction to 0.1."
      ]
    },
    {
      "cell_type": "code",
      "metadata": {},
      "source": [
        "# Weight first objective with 2, second with 1/10\n",
        "def aggregate(y):\n",
        "    return np.sum(y*np.array([2, 0.1]), axis=1)"
      ],
      "execution_count": null,
      "outputs": []
    },
    {
      "cell_type": "markdown",
      "metadata": {},
      "source": [
        "The `aggregate` function object is passed to the `fun_control` dictionary aas the `fun_mo2so` argument. "
      ]
    },
    {
      "cell_type": "code",
      "metadata": {},
      "source": [
        "fun_control = fun_control_init(\n",
        "              lower = np.array( [0, 0, 0]),\n",
        "              upper = np.array([1, 1, 1]),\n",
        "              fun_mo2so=aggregate)\n",
        "S = Spot(fun=fun_myer16a,\n",
        "        fun_control=fun_control)\n",
        "S.run()\n",
        "S.plot_progress()"
      ],
      "execution_count": null,
      "outputs": []
    },
    {
      "cell_type": "markdown",
      "metadata": {},
      "source": [
        "If no `fun_mo2so` function is specified, the `spotpython` package will use the first return value of the multi-objective function as the single objective function.\n",
        "\n",
        "`spotpython` allows access to the complete history of multi-objective return values. They are stored in the `y_mo` attribute of the `Spot` object. The `y_mo` attribute is a 2D array where each row corresponds to a configuration and each column corresponds to an objective function.\n",
        "These values can be visualized as shown in @fig-017-spot-single-multi-objective."
      ]
    },
    {
      "cell_type": "code",
      "metadata": {},
      "source": [
        "#| label: fig-017-spot-single-multi-objective\n",
        "#| fig-cap: \"Single- and Multi-Objective Function Values. The red line shows the optimization progress based on the aggregated objective function. The blue lines show the progress of the conversion objective, the orange line the progress of the activity objective. Points denote individual evaluations, lines the cumulative minimum of the respective objective function.\"\n",
        "y_mo = S.y_mo\n",
        "y = S.y\n",
        "plt.xlim(0, len(y_mo))\n",
        "plt.ylim(0.9 * np.min(y_mo), 1.1* np.max(y))\n",
        "plt.scatter(range(len(y_mo)), y_mo[:, 0], label='Conversion', marker='o')\n",
        "plt.scatter(range(len(y_mo)), y_mo[:, 1], label='Activity', marker='x')\n",
        "plt.plot(np.minimum.accumulate(y_mo[:, 0]), label='Cum. Min Conversion')\n",
        "plt.plot(np.minimum.accumulate(y_mo[:, 1]), label='Cum. Min Activity')\n",
        "plt.scatter(range(len(y)), y, label='Agg. Result', marker='D', color='red')\n",
        "plt.plot(np.minimum.accumulate(y), label='Cum. Min Agg. Res.', color='red')\n",
        "plt.xlabel('Iteration')\n",
        "plt.ylabel('Objective Function Value')\n",
        "plt.grid()\n",
        "plt.title('Single- and Multi-Obj. Function Values')\n",
        "plt.legend(loc='upper left', bbox_to_anchor=(1, 1))\n",
        "plt.tight_layout()\n",
        "plt.show()"
      ],
      "execution_count": null,
      "outputs": []
    },
    {
      "cell_type": "markdown",
      "metadata": {},
      "source": [
        "Since all values from the multi-objective functions can be accessed, more sophisticated multi-objective optimization methods can be implemented. For example, the `spotpython` package provides a `pareto_front` function that can be used to compute the Pareto front of the multi-objective function values, see [pareto](https://sequential-parameter-optimization.github.io/spotPython/reference/spotpython/mo/pareto/). The Pareto front is a set of solutions that are not dominated by any other solution in the objective space.\n",
        "\n",
        "\n",
        "::: {.callout-note}\n",
        "### Summary: Using `spotpython` with Multi-Objective User-Specified Functions\n",
        "* `spotpython` accepts user-specified multi-objective functions that can be defined in Python.\n",
        "* The function should accept a 2D array as input and return a 2D array as output.\n",
        "* An `aggregate` function can be used to combine multiple objectives into a single objective function.\n",
        ":::\n",
        "\n",
        "## Jupyter Notebook\n",
        "\n",
        ":::{.callout-note}\n",
        "\n",
        "* The Jupyter-Notebook of this lecture is available on GitHub in the [Hyperparameter-Tuning-Cookbook Repository](https://github.com/sequential-parameter-optimization/Hyperparameter-Tuning-Cookbook/blob/main/017_num_spot_user_function.ipynb)\n",
        "\n",
        ":::"
      ]
    }
  ],
  "metadata": {
    "kernelspec": {
      "name": "python3",
      "language": "python",
      "display_name": "Python 3 (ipykernel)",
      "path": "/Users/bartz/miniforge3/envs/spot312/share/jupyter/kernels/python3"
    }
  },
  "nbformat": 4,
  "nbformat_minor": 4
}