{
  "cells": [
    {
      "cell_type": "markdown",
      "metadata": {},
      "source": [
        "---\n",
        "execute:\n",
        "  cache: false\n",
        "  eval: true\n",
        "  echo: true\n",
        "  warning: false\n",
        "  keep-ipynb: true\n",
        "---\n",
        "\n",
        "# User-Specified Functions: Extending the Analytical Class {#sec-user-function}\n",
        "\n",
        "\n",
        "This chapter illustrates how user-specified functions can be optimized and analyzed with the `spotpython` package by extending the `Analytical` class.\n"
      ]
    },
    {
      "cell_type": "code",
      "metadata": {},
      "source": [
        "import numpy as np\n",
        "from spotpython.fun.objectivefunctions import Analytical\n",
        "from spotpython.utils.init import fun_control_init, surrogate_control_init\n",
        "from spotpython.spot import Spot"
      ],
      "execution_count": null,
      "outputs": []
    },
    {
      "cell_type": "markdown",
      "metadata": {},
      "source": [
        "## The Objective Function: User Specified\n",
        "\n",
        "We will use an analytical objective function, i.e., a function that can be described by a (closed) formula:\n",
        "$$\n",
        "f(x) = \\sum_i^k x_i^4.\n",
        "$$ \n",
        "   \n",
        "\n",
        "This function is continuous, convex and unimodal.\n",
        "The global minimum is \n",
        "$$\n",
        "f(x) = 0, \\text{at } x = (0,0, \\ldots, 0).\n",
        "$$\n",
        "\n",
        "* The `Analytical` class can be extended as follows:"
      ]
    },
    {
      "cell_type": "code",
      "metadata": {},
      "source": [
        "from typing import Optional, Dict\n",
        "\n",
        "class UserAnalytical(Analytical):\n",
        "    def fun_user_function(self, X: np.ndarray, fun_control: Optional[Dict] = None) -> np.ndarray:\n",
        "        \"\"\"\n",
        "        Custom new function: f(x) = x^4\n",
        "        \n",
        "        Args:\n",
        "            X (np.ndarray): Input data as a 2D array.\n",
        "            fun_control (Optional[Dict]): Control parameters for the function.\n",
        "        \n",
        "        Returns:\n",
        "            np.ndarray: Computed values with optional noise.\n",
        "        \n",
        "        Examples:\n",
        "            >>> import numpy as np\n",
        "            >>> X = np.array([[1, 2, 3], [4, 5, 6]])\n",
        "            >>> fun = UserAnalytical()\n",
        "            >>> fun.fun_user_function(X)\n",
        "        \"\"\"\n",
        "        X = self._prepare_input_data(X, fun_control)\n",
        "     \n",
        "        offset = np.ones(X.shape[1]) * self.offset\n",
        "        y = np.sum((X - offset) **4, axis=1) \n",
        "\n",
        "        # Add noise if specified in fun_control\n",
        "        return self._add_noise(y)"
      ],
      "execution_count": null,
      "outputs": []
    },
    {
      "cell_type": "code",
      "metadata": {},
      "source": [
        "user_fun = UserAnalytical()\n",
        "X = np.array([[0, 0, 0], [1, 1, 1]])\n",
        "results = user_fun.fun_user_function(X)\n",
        "print(results)"
      ],
      "execution_count": null,
      "outputs": []
    },
    {
      "cell_type": "code",
      "metadata": {},
      "source": [
        "user_fun = UserAnalytical(offset=1.0)\n",
        "X = np.array([[0, 0, 0], [1, 1, 1]])\n",
        "results = user_fun.fun_user_function(X)\n",
        "print(results)"
      ],
      "execution_count": null,
      "outputs": []
    },
    {
      "cell_type": "code",
      "metadata": {},
      "source": [
        "user_fun = UserAnalytical(sigma=1.0)\n",
        "X = np.array([[0, 0, 0], [1, 1, 1]])\n",
        "results = user_fun.fun_user_function(X)\n",
        "print(results)"
      ],
      "execution_count": null,
      "outputs": []
    },
    {
      "cell_type": "code",
      "metadata": {},
      "source": [
        "#| label: 017-spot-run\n",
        "user_fun = UserAnalytical().fun_user_function\n",
        "fun_control = fun_control_init(\n",
        "              PREFIX=\"USER\",              \n",
        "              lower = -1.0*np.ones(2),\n",
        "              upper = np.ones(2),\n",
        "              var_name=[\"User Pressure\", \"User Temp\"],\n",
        "              TENSORBOARD_CLEAN=True,\n",
        "              tensorboard_log=True)\n",
        "spot_user = Spot(fun=user_fun,\n",
        "                  fun_control=fun_control)\n",
        "spot_user.run()"
      ],
      "execution_count": null,
      "outputs": []
    },
    {
      "cell_type": "markdown",
      "metadata": {},
      "source": [
        "## Results"
      ]
    },
    {
      "cell_type": "code",
      "metadata": {},
      "source": [
        "_ = spot_user.print_results()"
      ],
      "execution_count": null,
      "outputs": []
    },
    {
      "cell_type": "code",
      "metadata": {},
      "source": [
        "spot_user.plot_progress()"
      ],
      "execution_count": null,
      "outputs": []
    },
    {
      "cell_type": "markdown",
      "metadata": {},
      "source": [
        "## A Contour Plot\n",
        "\n",
        "We can select two dimensions, say $i=0$ and $j=1$, and generate a contour plot as follows.\n",
        "\n",
        "::: {.callout-note}\n",
        "#### Note: \n",
        "\n",
        "We have specified identical `min_z` and `max_z` values to generate comparable plots.\n",
        "\n",
        ":::\n"
      ]
    },
    {
      "cell_type": "code",
      "metadata": {},
      "source": [
        "spot_user.plot_contour(i=0, j=1, min_z=0, max_z=2.25)"
      ],
      "execution_count": null,
      "outputs": []
    },
    {
      "cell_type": "markdown",
      "metadata": {},
      "source": [
        "* The variable importance:"
      ]
    },
    {
      "cell_type": "code",
      "metadata": {},
      "source": [
        "_ = spot_user.print_importance()"
      ],
      "execution_count": null,
      "outputs": []
    },
    {
      "cell_type": "code",
      "metadata": {},
      "source": [
        "spot_user.plot_importance()"
      ],
      "execution_count": null,
      "outputs": []
    },
    {
      "cell_type": "markdown",
      "metadata": {},
      "source": [
        "## Jupyter Notebook\n",
        "\n",
        ":::{.callout-note}\n",
        "\n",
        "* The Jupyter-Notebook of this lecture is available on GitHub in the [Hyperparameter-Tuning-Cookbook Repository](https://github.com/sequential-parameter-optimization/Hyperparameter-Tuning-Cookbook/blob/main/017_num_spot_user_function.ipynb)\n",
        "\n",
        ":::"
      ]
    }
  ],
  "metadata": {
    "kernelspec": {
      "name": "python3",
      "language": "python",
      "display_name": "Python 3 (ipykernel)",
      "path": "/Users/bartz/miniforge3/envs/spot312/share/jupyter/kernels/python3"
    }
  },
  "nbformat": 4,
  "nbformat_minor": 4
}