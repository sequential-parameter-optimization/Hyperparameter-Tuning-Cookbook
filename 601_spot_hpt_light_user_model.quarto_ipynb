{
 "cells": [
  {
   "cell_type": "markdown",
   "id": "4a449ade",
   "metadata": {},
   "source": [
    "---\n",
    "execute:\n",
    "  cache: false\n",
    "  eval: true\n",
    "  echo: true\n",
    "  warning: false\n",
    "jupyter: python3\n",
    "---\n",
    "\n",
    "\n",
    "# Hyperparameter Tuning with PyTorch Lightning and User Models {#sec-light-user-model-601}\n"
   ]
  },
  {
   "cell_type": "code",
   "execution_count": 1,
   "id": "user_model_first_imports",
   "metadata": {},
   "outputs": [],
   "source": [
    "#| echo: false\n",
    "#| label: 601_user_model_first_imports\n",
    "import numpy as np\n",
    "import os\n",
    "from math import inf\n",
    "import numpy as np\n",
    "import warnings\n",
    "if not os.path.exists('./figures'):\n",
    "    os.makedirs('./figures')\n",
    "warnings.filterwarnings(\"ignore\")"
   ]
  },
  {
   "cell_type": "markdown",
   "id": "dca5972b",
   "metadata": {},
   "source": [
    "In this section, we will show how a user defined model can be used for the `PyTorch` Lightning hyperparameter tuning workflow with `spotpython`.\n",
    "\n",
    "## Using a User Specified Model\n",
    "\n",
    "As templates, we provide the following three files that allow the user to specify a model in the `/userModel` directory:\n",
    "\n",
    "* `my_regressor.py`, see @sec-my-regressor\n",
    "* `my_hyperdict.json`, see @sec-my-hyper-dict-json\n",
    "* `my_hyperdict.py`, see @sec-my-hyper-dict.\n",
    "\n",
    "The `my_regressor.py` file contains the model class, which is a subclass of `nn.Module`.\n",
    "The `my_hyperdict.json` file contains the hyperparameter settings as a dictionary, which are loaded via the `my_hyperdict.py` file.\n",
    "\n",
    "Note, that we have to add the path to the `userModel` directory to the `sys.path` list as shown below.\n"
   ]
  },
  {
   "cell_type": "code",
   "execution_count": 2,
   "id": "user_model_imports_sys",
   "metadata": {},
   "outputs": [
    {
     "name": "stderr",
     "output_type": "stream",
     "text": [
      "Seed set to 123\n"
     ]
    },
    {
     "name": "stderr",
     "output_type": "stream",
     "text": [
      "Seed set to 123\n"
     ]
    }
   ],
   "source": [
    "#| label: 601_user_model_imports_sys\n",
    "import sys\n",
    "sys.path.insert(0, './userModel')\n",
    "import my_regressor\n",
    "import my_hyper_dict\n",
    "from spotpython.hyperparameters.values import add_core_model_to_fun_control\n",
    "\n",
    "from spotpython.data.diabetes import Diabetes\n",
    "from spotpython.hyperdict.light_hyper_dict import LightHyperDict\n",
    "from spotpython.fun.hyperlight import HyperLight\n",
    "from spotpython.utils.init import (fun_control_init, design_control_init)\n",
    "from spotpython.utils.eda import gen_design_table\n",
    "from spotpython.hyperparameters.values import set_hyperparameter\n",
    "from spotpython.spot import spot\n",
    "\n",
    "fun_control = fun_control_init(\n",
    "    PREFIX=\"601-user-model\",\n",
    "    fun_evals=inf,\n",
    "    max_time=1,\n",
    "    data_set = Diabetes(),\n",
    "    _L_in=10,\n",
    "    _L_out=1)\n",
    "\n",
    "add_core_model_to_fun_control(fun_control=fun_control,\n",
    "                              core_model=my_regressor.MyRegressor,\n",
    "                              hyper_dict=my_hyper_dict.MyHyperDict)\n",
    "\n",
    "design_control = design_control_init(init_size=7)\n",
    "\n",
    "fun = HyperLight().fun\n",
    "\n",
    "spot_tuner = spot.Spot(fun=fun,fun_control=fun_control, design_control=design_control)"
   ]
  },
  {
   "cell_type": "code",
   "execution_count": 3,
   "id": "user_model_run",
   "metadata": {},
   "outputs": [
    {
     "name": "stderr",
     "output_type": "stream",
     "text": [
      "GPU available: True (mps), used: True\n"
     ]
    },
    {
     "name": "stderr",
     "output_type": "stream",
     "text": [
      "TPU available: False, using: 0 TPU cores\n"
     ]
    },
    {
     "name": "stderr",
     "output_type": "stream",
     "text": [
      "HPU available: False, using: 0 HPUs\n"
     ]
    },
    {
     "name": "stderr",
     "output_type": "stream",
     "text": [
      "\n",
      "  | Name   | Type       | Params | Mode  | In sizes | Out sizes\n",
      "---------------------------------------------------------------------\n",
      "0 | layers | Sequential | 169    | train | [4, 10]  | [4, 1]   \n",
      "---------------------------------------------------------------------\n",
      "169       Trainable params\n",
      "0         Non-trainable params\n",
      "169       Total params\n",
      "0.001     Total estimated model params size (MB)\n",
      "15        Modules in train mode\n",
      "0         Modules in eval mode\n"
     ]
    },
    {
     "name": "stderr",
     "output_type": "stream",
     "text": [
      "GPU available: True (mps), used: True\n"
     ]
    },
    {
     "name": "stderr",
     "output_type": "stream",
     "text": [
      "TPU available: False, using: 0 TPU cores\n"
     ]
    },
    {
     "name": "stderr",
     "output_type": "stream",
     "text": [
      "HPU available: False, using: 0 HPUs\n"
     ]
    },
    {
     "name": "stderr",
     "output_type": "stream",
     "text": [
      "\n",
      "  | Name   | Type       | Params | Mode  | In sizes | Out sizes\n",
      "---------------------------------------------------------------------\n",
      "0 | layers | Sequential | 19.8 K | train | [8, 10]  | [8, 1]   \n",
      "---------------------------------------------------------------------\n",
      "19.8 K    Trainable params\n",
      "0         Non-trainable params\n",
      "19.8 K    Total params\n",
      "0.079     Total estimated model params size (MB)\n",
      "47        Modules in train mode\n",
      "0         Modules in eval mode\n"
     ]
    },
    {
     "name": "stderr",
     "output_type": "stream",
     "text": [
      "GPU available: True (mps), used: True\n"
     ]
    },
    {
     "name": "stderr",
     "output_type": "stream",
     "text": [
      "TPU available: False, using: 0 TPU cores\n"
     ]
    },
    {
     "name": "stderr",
     "output_type": "stream",
     "text": [
      "HPU available: False, using: 0 HPUs\n"
     ]
    },
    {
     "name": "stderr",
     "output_type": "stream",
     "text": [
      "\n",
      "  | Name   | Type       | Params | Mode  | In sizes | Out sizes\n",
      "---------------------------------------------------------------------\n",
      "0 | layers | Sequential | 491    | train | [4, 10]  | [4, 1]   \n",
      "---------------------------------------------------------------------\n",
      "491       Trainable params\n",
      "0         Non-trainable params\n",
      "491       Total params\n",
      "0.002     Total estimated model params size (MB)\n",
      "23        Modules in train mode\n",
      "0         Modules in eval mode\n"
     ]
    },
    {
     "name": "stdout",
     "output_type": "stream",
     "text": [
      "train_model result: {'val_loss': nan, 'hp_metric': nan}\n"
     ]
    },
    {
     "name": "stderr",
     "output_type": "stream",
     "text": [
      "GPU available: True (mps), used: True\n"
     ]
    },
    {
     "name": "stderr",
     "output_type": "stream",
     "text": [
      "TPU available: False, using: 0 TPU cores\n"
     ]
    },
    {
     "name": "stderr",
     "output_type": "stream",
     "text": [
      "HPU available: False, using: 0 HPUs\n"
     ]
    },
    {
     "name": "stderr",
     "output_type": "stream",
     "text": [
      "\n",
      "  | Name   | Type       | Params | Mode  | In sizes | Out sizes\n",
      "---------------------------------------------------------------------\n",
      "0 | layers | Sequential | 5.4 K  | train | [8, 10]  | [8, 1]   \n",
      "---------------------------------------------------------------------\n",
      "5.4 K     Trainable params\n",
      "0         Non-trainable params\n",
      "5.4 K     Total params\n",
      "0.022     Total estimated model params size (MB)\n",
      "39        Modules in train mode\n",
      "0         Modules in eval mode\n"
     ]
    },
    {
     "name": "stdout",
     "output_type": "stream",
     "text": [
      "train_model result: {'val_loss': 4795.22509765625, 'hp_metric': 4795.22509765625}\n"
     ]
    },
    {
     "name": "stderr",
     "output_type": "stream",
     "text": [
      "`Trainer.fit` stopped: `max_epochs=256` reached.\n"
     ]
    },
    {
     "name": "stderr",
     "output_type": "stream",
     "text": [
      "GPU available: True (mps), used: True\n"
     ]
    },
    {
     "name": "stderr",
     "output_type": "stream",
     "text": [
      "TPU available: False, using: 0 TPU cores\n"
     ]
    },
    {
     "name": "stderr",
     "output_type": "stream",
     "text": [
      "HPU available: False, using: 0 HPUs\n"
     ]
    },
    {
     "name": "stderr",
     "output_type": "stream",
     "text": [
      "\n",
      "  | Name   | Type       | Params | Mode  | In sizes | Out sizes\n",
      "---------------------------------------------------------------------\n",
      "0 | layers | Sequential | 1.6 K  | train | [8, 10]  | [8, 1]   \n",
      "---------------------------------------------------------------------\n",
      "1.6 K     Trainable params\n",
      "0         Non-trainable params\n",
      "1.6 K     Total params\n",
      "0.006     Total estimated model params size (MB)\n",
      "31        Modules in train mode\n",
      "0         Modules in eval mode\n"
     ]
    },
    {
     "name": "stdout",
     "output_type": "stream",
     "text": [
      "train_model result: {'val_loss': 19881.609375, 'hp_metric': 19881.609375}\n"
     ]
    },
    {
     "name": "stderr",
     "output_type": "stream",
     "text": [
      "GPU available: True (mps), used: True\n"
     ]
    },
    {
     "name": "stderr",
     "output_type": "stream",
     "text": [
      "TPU available: False, using: 0 TPU cores\n"
     ]
    },
    {
     "name": "stderr",
     "output_type": "stream",
     "text": [
      "HPU available: False, using: 0 HPUs\n"
     ]
    },
    {
     "name": "stderr",
     "output_type": "stream",
     "text": [
      "\n",
      "  | Name   | Type       | Params | Mode  | In sizes | Out sizes\n",
      "---------------------------------------------------------------------\n",
      "0 | layers | Sequential | 75.9 K | train | [2, 10]  | [2, 1]   \n",
      "---------------------------------------------------------------------\n",
      "75.9 K    Trainable params\n",
      "0         Non-trainable params\n",
      "75.9 K    Total params\n",
      "0.303     Total estimated model params size (MB)\n",
      "55        Modules in train mode\n",
      "0         Modules in eval mode\n"
     ]
    },
    {
     "name": "stdout",
     "output_type": "stream",
     "text": [
      "train_model result: {'val_loss': nan, 'hp_metric': nan}\n"
     ]
    },
    {
     "name": "stderr",
     "output_type": "stream",
     "text": [
      "GPU available: True (mps), used: True\n"
     ]
    },
    {
     "name": "stderr",
     "output_type": "stream",
     "text": [
      "TPU available: False, using: 0 TPU cores\n"
     ]
    },
    {
     "name": "stderr",
     "output_type": "stream",
     "text": [
      "HPU available: False, using: 0 HPUs\n"
     ]
    },
    {
     "name": "stderr",
     "output_type": "stream",
     "text": [
      "\n",
      "  | Name   | Type       | Params | Mode  | In sizes | Out sizes\n",
      "---------------------------------------------------------------------\n",
      "0 | layers | Sequential | 1.6 K  | train | [16, 10] | [16, 1]  \n",
      "---------------------------------------------------------------------\n",
      "1.6 K     Trainable params\n",
      "0         Non-trainable params\n",
      "1.6 K     Total params\n",
      "0.006     Total estimated model params size (MB)\n",
      "31        Modules in train mode\n",
      "0         Modules in eval mode\n"
     ]
    },
    {
     "name": "stdout",
     "output_type": "stream",
     "text": [
      "train_model result: {'val_loss': 22673.50390625, 'hp_metric': 22673.50390625}\n"
     ]
    },
    {
     "name": "stderr",
     "output_type": "stream",
     "text": [
      "`Trainer.fit` stopped: `max_epochs=16` reached.\n"
     ]
    },
    {
     "name": "stderr",
     "output_type": "stream",
     "text": [
      "GPU available: True (mps), used: True\n"
     ]
    },
    {
     "name": "stderr",
     "output_type": "stream",
     "text": [
      "TPU available: False, using: 0 TPU cores\n"
     ]
    },
    {
     "name": "stderr",
     "output_type": "stream",
     "text": [
      "HPU available: False, using: 0 HPUs\n"
     ]
    },
    {
     "name": "stdout",
     "output_type": "stream",
     "text": [
      "train_model result: {'val_loss': 23567.240234375, 'hp_metric': 23567.240234375}\n"
     ]
    },
    {
     "name": "stderr",
     "output_type": "stream",
     "text": [
      "\n",
      "  | Name   | Type       | Params | Mode  | In sizes | Out sizes\n",
      "---------------------------------------------------------------------\n",
      "0 | layers | Sequential | 491    | train | [4, 10]  | [4, 1]   \n",
      "---------------------------------------------------------------------\n",
      "491       Trainable params\n",
      "0         Non-trainable params\n",
      "491       Total params\n",
      "0.002     Total estimated model params size (MB)\n",
      "23        Modules in train mode\n",
      "0         Modules in eval mode\n"
     ]
    },
    {
     "name": "stdout",
     "output_type": "stream",
     "text": [
      "train_model result: {'val_loss': 4621.07568359375, 'hp_metric': 4621.07568359375}\n",
      "spotpython tuning: 4621.07568359375 [#---------] 12.38% \r\n"
     ]
    },
    {
     "name": "stderr",
     "output_type": "stream",
     "text": [
      "GPU available: True (mps), used: True\n"
     ]
    },
    {
     "name": "stderr",
     "output_type": "stream",
     "text": [
      "TPU available: False, using: 0 TPU cores\n"
     ]
    },
    {
     "name": "stderr",
     "output_type": "stream",
     "text": [
      "HPU available: False, using: 0 HPUs\n"
     ]
    },
    {
     "name": "stderr",
     "output_type": "stream",
     "text": [
      "\n",
      "  | Name   | Type       | Params | Mode  | In sizes | Out sizes\n",
      "---------------------------------------------------------------------\n",
      "0 | layers | Sequential | 169    | train | [2, 10]  | [2, 1]   \n",
      "---------------------------------------------------------------------\n",
      "169       Trainable params\n",
      "0         Non-trainable params\n",
      "169       Total params\n",
      "0.001     Total estimated model params size (MB)\n",
      "15        Modules in train mode\n",
      "0         Modules in eval mode\n"
     ]
    },
    {
     "name": "stderr",
     "output_type": "stream",
     "text": [
      "`Trainer.fit` stopped: `max_epochs=512` reached.\n"
     ]
    },
    {
     "name": "stdout",
     "output_type": "stream",
     "text": [
      "train_model result: {'val_loss': 20895.22265625, 'hp_metric': 20895.22265625}\n",
      "spotpython tuning: 4621.07568359375 [##########] 100.00% Done...\r\n",
      "\r\n"
     ]
    },
    {
     "name": "stdout",
     "output_type": "stream",
     "text": [
      "| name           | type   | default   |   lower |   upper | tuned               | transform             |   importance | stars   |\n",
      "|----------------|--------|-----------|---------|---------|---------------------|-----------------------|--------------|---------|\n",
      "| l1             | int    | 3         |     3.0 |     8.0 | 4.0                 | transform_power_2_int |       100.00 | ***     |\n",
      "| epochs         | int    | 4         |     4.0 |     9.0 | 7.0                 | transform_power_2_int |       100.00 | ***     |\n",
      "| batch_size     | int    | 4         |     1.0 |     4.0 | 2.0                 | transform_power_2_int |       100.00 | ***     |\n",
      "| act_fn         | factor | ReLU      |     0.0 |     5.0 | Swish               | None                  |       100.00 | ***     |\n",
      "| optimizer      | factor | SGD       |     0.0 |    11.0 | Adagrad             | None                  |       100.00 | ***     |\n",
      "| dropout_prob   | float  | 0.01      |     0.0 |    0.25 | 0.08633123597746432 | None                  |       100.00 | ***     |\n",
      "| lr_mult        | float  | 1.0       |     0.1 |    10.0 | 5.496435680719033   | None                  |       100.00 | ***     |\n",
      "| patience       | int    | 2         |     2.0 |     6.0 | 3.0                 | transform_power_2_int |       100.00 | ***     |\n",
      "| initialization | factor | Default   |     0.0 |     4.0 | kaiming_normal      | None                  |       100.00 | ***     |\n",
      "l1:  100.0\n",
      "epochs:  100.0\n",
      "batch_size:  100.0\n",
      "act_fn:  100.0\n",
      "optimizer:  100.0\n",
      "dropout_prob:  100.0\n",
      "lr_mult:  100.0\n",
      "patience:  100.0\n",
      "initialization:  100.0\n"
     ]
    },
    {
     "data": {
      "application/pdf": "[encoded data removed]",
      "text/plain": [
       "<Figure size 3600x1800 with 3 Axes>"
      ]
     },
     "metadata": {},
     "output_type": "display_data"
    },
    {
     "data": {
      "application/pdf": "[encoded data removed]",
      "text/plain": [
       "<Figure size 3600x1800 with 3 Axes>"
      ]
     },
     "metadata": {},
     "output_type": "display_data"
    },
    {
     "data": {
      "application/pdf": "[encoded data removed]",
      "text/plain": [
       "<Figure size 3600x1800 with 3 Axes>"
      ]
     },
     "metadata": {},
     "output_type": "display_data"
    }
   ],
   "source": [
    "#| label: 601_user_model_run\n",
    "res = spot_tuner.run()\n",
    "print(gen_design_table(fun_control=fun_control, spot=spot_tuner))\n",
    "spot_tuner.plot_important_hyperparameter_contour(max_imp=3)"
   ]
  },
  {
   "cell_type": "markdown",
   "id": "faef2bd6",
   "metadata": {},
   "source": [
    "## Details\n",
    "\n",
    "### Model Setup\n",
    "\n",
    "By using `core_model_name = \"my_regressor.MyRegressor\"`, the user specified model class `MyRegressor` [[SOURCE]](https://github.com/sequential-parameter-optimization/Hyperparameter-Tuning-Cookbook/blob/main/userModel/my_regressor.py) is selected.\n",
    "For this given `core_model_name`, the local hyper_dict is loaded using the `my_hyper_dict.py` file as shown below.\n",
    "\n",
    "### The `my_hyper_dict.py` File {#sec-my-hyper-dict}\n",
    "\n",
    "The `my_hyper_dict.py` file  must be placed in the `/userModel` directory.  It provides a convenience function to load the hyperparameters from user specified the `my_hyper_dict.json` file, see @sec-my-hyper-dict.\n",
    "The user does not need to modify this file, if the JSON file is stored as `my_hyper_dict.json`. \n",
    "Alternative filenames can be specified via the `filename` argument (which is default set to `\"my_hyper_dict.json\"`).\n",
    "\n",
    "### The `my_hyper_dict.json` File {#sec-my-hyper-dict-json}\n",
    "\n",
    "The `my_hyper_dict.json` file contains the hyperparameter settings as a dictionary, which are loaded via the `my_hyper_dict.py` file.\n",
    "The example below shows the content of the `my_hyper_dict.json` file.\n",
    "```json\n",
    "{\n",
    "    \"MyRegressor\": {\n",
    "        \"l1\": {\n",
    "            \"type\": \"int\",\n",
    "            \"default\": 3,\n",
    "            \"transform\": \"transform_power_2_int\",\n",
    "            \"lower\": 3,\n",
    "            \"upper\": 8\n",
    "        },\n",
    "        \"epochs\": {\n",
    "            \"type\": \"int\",\n",
    "            \"default\": 4,\n",
    "            \"transform\": \"transform_power_2_int\",\n",
    "            \"lower\": 4,\n",
    "            \"upper\": 9\n",
    "        },\n",
    "        \"batch_size\": {\n",
    "            \"type\": \"int\",\n",
    "            \"default\": 4,\n",
    "            \"transform\": \"transform_power_2_int\",\n",
    "            \"lower\": 1,\n",
    "            \"upper\": 4\n",
    "        },\n",
    "        \"act_fn\": {\n",
    "            \"levels\": [\n",
    "                \"Sigmoid\",\n",
    "                \"Tanh\",\n",
    "                \"ReLU\",\n",
    "                \"LeakyReLU\",\n",
    "                \"ELU\",\n",
    "                \"Swish\"\n",
    "            ],\n",
    "            \"type\": \"factor\",\n",
    "            \"default\": \"ReLU\",\n",
    "            \"transform\": \"None\",\n",
    "            \"class_name\": \"spotpython.torch.activation\",\n",
    "            \"core_model_parameter_type\": \"instance()\",\n",
    "            \"lower\": 0,\n",
    "            \"upper\": 5\n",
    "        },\n",
    "        \"optimizer\": {\n",
    "            \"levels\": [\n",
    "                \"Adadelta\",\n",
    "                \"Adagrad\",\n",
    "                \"Adam\",\n",
    "                \"AdamW\",\n",
    "                \"SparseAdam\",\n",
    "                \"Adamax\",\n",
    "                \"ASGD\",\n",
    "                \"NAdam\",\n",
    "                \"RAdam\",\n",
    "                \"RMSprop\",\n",
    "                \"Rprop\",\n",
    "                \"SGD\"\n",
    "            ],\n",
    "            \"type\": \"factor\",\n",
    "            \"default\": \"SGD\",\n",
    "            \"transform\": \"None\",\n",
    "            \"class_name\": \"torch.optim\",\n",
    "            \"core_model_parameter_type\": \"str\",\n",
    "            \"lower\": 0,\n",
    "            \"upper\": 11\n",
    "        },\n",
    "        \"dropout_prob\": {\n",
    "            \"type\": \"float\",\n",
    "            \"default\": 0.01,\n",
    "            \"transform\": \"None\",\n",
    "            \"lower\": 0.0,\n",
    "            \"upper\": 0.25\n",
    "        },\n",
    "        \"lr_mult\": {\n",
    "            \"type\": \"float\",\n",
    "            \"default\": 1.0,\n",
    "            \"transform\": \"None\",\n",
    "            \"lower\": 0.1,\n",
    "            \"upper\": 10.0\n",
    "        },\n",
    "        \"patience\": {\n",
    "            \"type\": \"int\",\n",
    "            \"default\": 2,\n",
    "            \"transform\": \"transform_power_2_int\",\n",
    "            \"lower\": 2,\n",
    "            \"upper\": 6\n",
    "        },\n",
    "        \"initialization\": {\n",
    "            \"levels\": [\n",
    "                \"Default\",\n",
    "                \"Kaiming\",\n",
    "                \"Xavier\"\n",
    "            ],\n",
    "            \"type\": \"factor\",\n",
    "            \"default\": \"Default\",\n",
    "            \"transform\": \"None\",\n",
    "            \"core_model_parameter_type\": \"str\",\n",
    "            \"lower\": 0,\n",
    "            \"upper\": 2\n",
    "        }\n",
    "    }\n",
    "}\n",
    "```\n",
    "\n",
    "### The `my_regressor.py` File {#sec-my-regressor}\n",
    "\n",
    "The `my_regressor.py` file contains [[SOURCE]](https://github.com/sequential-parameter-optimization/Hyperparameter-Tuning-Cookbook/blob/main/userModel/my_regressor.py) the model class, which is a subclass of `nn.Module`. It must implement the following methods:\n",
    "\n",
    "* `__init__(self, **kwargs)`: The constructor of the model class. The hyperparameters are passed as keyword arguments.\n",
    "* `forward(self, x: torch.Tensor) -> torch.Tensor`: The forward pass of the model. The input `x` is passed through the model and the output is returned.\n",
    "* `training_step(self, batch, batch_idx) -> torch.Tensor`: The training step of the model. It takes a batch of data and the batch index as input and returns the loss.\n",
    "* `validation_step(self, batch, batch_idx) -> torch.Tensor`: The validation step of the model. It takes a batch of data and the batch index as input and returns the loss.\n",
    "* `test_step(self, batch, batch_idx) -> torch.Tensor`: The test step of the model. It takes a batch of data and the batch index as input and returns the loss.\n",
    "* `predict(self, x: torch.Tensor) -> torch.Tensor`: The prediction method of the model. It takes an input `x` and returns the prediction.\n",
    "* `configure_optimizers(self) -> torch.optim.Optimizer`: The method to configure the optimizer of the model. It returns the optimizer.\n",
    "\n",
    "The file `my_regressor.py` must be placed in the `/userModel` directory. The user can modify the model class to implement a custom model architecture.\n",
    "\n",
    "We will take a closer look at the methods defined in the `my_regressor.py` file in the next subsections.\n",
    "\n",
    "#### The `__init__` Method\n",
    "\n",
    "`__init__()` initializes the `MyRegressor` object. It takes the following arguments:\n",
    "\n",
    "* `l1` (int): The number of neurons in the first hidden layer.\n",
    "* `epochs` (int): The number of epochs to train the model for.\n",
    "* `batch_size` (int): The batch size to use during training.\n",
    "* `initialization` (str): The initialization method to use for the weights.\n",
    "* `act_fn` (nn.Module): The activation function to use in the hidden layers.\n",
    "* `optimizer` (str): The optimizer to use during training.\n",
    "* `dropout_prob` (float): The probability of dropping out a neuron during training.\n",
    "* `lr_mult` (float): The learning rate multiplier for the optimizer.\n",
    "* `patience` (int): The number of epochs to wait before early stopping.\n",
    "* `_L_in` (int): The number of input features. Not a hyperparameter, but needed to create the network.\n",
    "* `_L_out` (int): The number of output classes. Not a hyperparameter, but needed to create the network.\n",
    "* `_torchmetric` (str): The metric to use for the loss function. If `None`, then \"mean_squared_error\" is used.\n",
    "\n",
    "It is implemented as follows:\n"
   ]
  },
  {
   "cell_type": "code",
   "execution_count": 4,
   "id": "user_model_init",
   "metadata": {},
   "outputs": [],
   "source": [
    "#| label: 601_user_model_init\n",
    "#| eval: false\n",
    "class MyRegressor(L.LightningModule):\n",
    "        def __init__(\n",
    "        self,\n",
    "        l1: int,\n",
    "        epochs: int,\n",
    "        batch_size: int,\n",
    "        initialization: str,\n",
    "        act_fn: nn.Module,\n",
    "        optimizer: str,\n",
    "        dropout_prob: float,\n",
    "        lr_mult: float,\n",
    "        patience: int,\n",
    "        _L_in: int,\n",
    "        _L_out: int,\n",
    "        _torchmetric: str,\n",
    "        *args,\n",
    "        **kwargs,\n",
    "    ):\n",
    "        super().__init__()\n",
    "        self._L_in = _L_in\n",
    "        self._L_out = _L_out\n",
    "        if _torchmetric is None:\n",
    "            _torchmetric = \"mean_squared_error\"\n",
    "        self._torchmetric = _torchmetric\n",
    "        self.metric = getattr(torchmetrics.functional.regression, _torchmetric)\n",
    "        # _L_in and _L_out are not hyperparameters, but are needed to create the network\n",
    "        # _torchmetric is not a hyperparameter, but is needed to calculate the loss\n",
    "        self.save_hyperparameters(ignore=[\"_L_in\", \"_L_out\", \"_torchmetric\"])\n",
    "        # set dummy input array for Tensorboard Graphs\n",
    "        # set log_graph=True in Trainer to see the graph (in traintest.py)\n",
    "        self.example_input_array = torch.zeros((batch_size, self._L_in))\n",
    "        if self.hparams.l1 < 4:\n",
    "            raise ValueError(\"l1 must be at least 4\")\n",
    "        hidden_sizes = self._get_hidden_sizes()\n",
    "        # Create the network based on the specified hidden sizes\n",
    "        layers = []\n",
    "        layer_sizes = [self._L_in] + hidden_sizes\n",
    "        layer_size_last = layer_sizes[0]\n",
    "        for layer_size in layer_sizes[1:]:\n",
    "            layers += [\n",
    "                nn.Linear(layer_size_last, layer_size),\n",
    "                self.hparams.act_fn,\n",
    "                nn.Dropout(self.hparams.dropout_prob),\n",
    "            ]\n",
    "            layer_size_last = layer_size\n",
    "        layers += [nn.Linear(layer_sizes[-1], self._L_out)]\n",
    "        # nn.Sequential summarizes a list of modules into a single module,\n",
    "        # applying them in sequence\n",
    "        self.layers = nn.Sequential(*layers)"
   ]
  },
  {
   "cell_type": "markdown",
   "id": "babd8107",
   "metadata": {},
   "source": [
    "#### The `_get_hidden_sizes` Method\n",
    "\n",
    "`__init__()` uses the helper method `_get_hidden_sizes()` to calculate the hidden layer sizes based on the number of neurons in the first hidden layer `l1`. The hidden layer sizes are calculated as follows:\n"
   ]
  },
  {
   "cell_type": "code",
   "execution_count": 5,
   "id": "user_model_get_hidden_sizes",
   "metadata": {},
   "outputs": [],
   "source": [
    "#| label: 601_user_model_get_hidden_sizes\n",
    "#| eval: false\n",
    "def _get_hidden_sizes(self):\n",
    "    # Calculate the hidden layer sizes based on the number of neurons in the first hidden layer\n",
    "    hidden_sizes = [self.hparams.l1]\n",
    "    while hidden_sizes[-1] > 2:\n",
    "        hidden_sizes.append(hidden_sizes[-1] // 2)\n",
    "    return hidden_sizes"
   ]
  },
  {
   "cell_type": "markdown",
   "id": "6afc9dc2",
   "metadata": {},
   "source": [
    "#### The `forward` Method\n",
    "\n",
    "The `forward()` method defines the forward pass of the model. It takes an input tensor `x` and passes it through the network layers to produce an output tensor. It is implemented as follows:\n"
   ]
  },
  {
   "cell_type": "code",
   "execution_count": 6,
   "id": "user_model_forward",
   "metadata": {},
   "outputs": [],
   "source": [
    "#| label: 601_user_model_forward\n",
    "#| eval: false\n",
    "def forward(self, x: torch.Tensor) -> torch.Tensor:\n",
    "    return self.layers(x)"
   ]
  },
  {
   "cell_type": "markdown",
   "id": "ea0506f4",
   "metadata": {},
   "source": [
    "#### The `_calculate_loss` Method\n",
    "\n",
    "The `_calculate_loss()` method calculates the loss based on the predicted output and the target values. It uses the specified metric to calculate the loss. \n",
    "It takes the following arguments:\n",
    "\n",
    "* `batch (tuple)`: A tuple containing a batch of input data and labels.\n",
    "\n",
    "It is implemented as follows:\n"
   ]
  },
  {
   "cell_type": "code",
   "execution_count": 7,
   "id": "user_model_calculate_loss",
   "metadata": {},
   "outputs": [],
   "source": [
    "#| label: 601_user_model_calculate_loss\n",
    "#| eval: false\n",
    "def _calculate_loss(self, batch):\n",
    "    x, y = batch\n",
    "    y = y.view(len(y), 1)\n",
    "    y_hat = self(x)\n",
    "    loss = self.metric(y_hat, y)\n",
    "    return loss"
   ]
  },
  {
   "cell_type": "markdown",
   "id": "b8f0d7fd",
   "metadata": {},
   "source": [
    "#### The `training_step` Method\n",
    "\n",
    "The `training_step()` method defines the training step of the model. It takes a batch of data and returns the loss. It is implemented as follows:\n"
   ]
  },
  {
   "cell_type": "code",
   "execution_count": 8,
   "id": "user_model_training_step",
   "metadata": {},
   "outputs": [],
   "source": [
    "#| label: 601_user_model_training_step\n",
    "#| eval: false\n",
    "def training_step(self, batch: tuple) -> torch.Tensor:\n",
    "    val_loss = self._calculate_loss(batch)\n",
    "    return val_loss"
   ]
  },
  {
   "cell_type": "markdown",
   "id": "76d6eba7",
   "metadata": {},
   "source": [
    "#### The `validation_step` Method\n",
    "\n",
    "The `validation_step()` method defines the validation step of the model. It takes a batch of data and returns the loss. It is implemented as follows:\n"
   ]
  },
  {
   "cell_type": "code",
   "execution_count": 9,
   "id": "user_model_validation_step",
   "metadata": {},
   "outputs": [],
   "source": [
    "#| label: 601_user_model_validation_step\n",
    "#| eval: false\n",
    "def validation_step(self, batch: tuple) -> torch.Tensor:\n",
    "    val_loss = self._calculate_loss(batch)\n",
    "    return val_loss"
   ]
  },
  {
   "cell_type": "markdown",
   "id": "858ff574",
   "metadata": {},
   "source": [
    "#### The `test_step` Method\n",
    "\n",
    "The `test_step()` method defines the test step of the model. It takes a batch of data and returns the loss. It is implemented as follows:\n"
   ]
  },
  {
   "cell_type": "code",
   "execution_count": 10,
   "id": "user_model_test_step",
   "metadata": {},
   "outputs": [],
   "source": [
    "#| label: 601_user_model_test_step\n",
    "#| eval: false\n",
    "def test_step(self, batch: tuple) -> torch.Tensor:\n",
    "    val_loss = self._calculate_loss(batch)\n",
    "    return val_loss"
   ]
  },
  {
   "cell_type": "markdown",
   "id": "d6893f51",
   "metadata": {},
   "source": [
    "#### The `predict` Method\n",
    "\n",
    "The `predict()` method defines the prediction method of the model. It takes an input tensor `x` and returns \n",
    "a tuple with the input tensor `x`, the target tensor `y`, and the predicted tensor `y_hat`.\n",
    "\n",
    " It is implemented as follows:\n"
   ]
  },
  {
   "cell_type": "code",
   "execution_count": 11,
   "id": "user_model_predict",
   "metadata": {},
   "outputs": [],
   "source": [
    "#| label: 601_user_model_predict\n",
    "#| eval: false\n",
    "def predict(self, x: torch.Tensor) -> torch.Tensor:\n",
    "    x, y = batch\n",
    "    yhat = self(x)\n",
    "    y = y.view(len(y), 1)\n",
    "    yhat = yhat.view(len(yhat), 1)\n",
    "    return (x, y, yhat)"
   ]
  },
  {
   "cell_type": "markdown",
   "id": "2fb5710d",
   "metadata": {},
   "source": [
    "#### The `configure_optimizers` Method\n",
    "\n",
    "The `configure_optimizers()` method defines the optimizer to use during training.\n",
    "It uses the `optimizer_handler` from `spotpython.hyperparameter.optimizer` to create the optimizer based on the specified optimizer name, parameters, and learning rate multiplier.\n",
    "It is implemented as follows:\n"
   ]
  },
  {
   "cell_type": "code",
   "execution_count": 12,
   "id": "user_model_configure_optimizers",
   "metadata": {},
   "outputs": [],
   "source": [
    "#| label: 601_user_model_configure_optimizers\n",
    "#| eval: false\n",
    "def configure_optimizers(self) -> torch.optim.Optimizer:\n",
    "    optimizer = optimizer_handler(\n",
    "        optimizer_name=self.hparams.optimizer, params=self.parameters(), lr_mult=self.hparams.lr_mult\n",
    "    )\n",
    "    return optimizer"
   ]
  },
  {
   "cell_type": "markdown",
   "id": "02244d85",
   "metadata": {},
   "source": [
    "Note, the default Lightning way is to define an optimizer as\n",
    "`optimizer = torch.optim.Adam(self.parameters(), lr=self.learning_rate)`.\n",
    "`spotpython` uses an optimizer handler to create the optimizer, which adapts the learning rate according to the `lr_mult` hyperparameter as\n",
    "well as other hyperparameters. See `spotpython.hyperparameters.optimizer.py` [[SOURCE]](https://github.com/sequential-parameter-optimization/spotPython/blob/main/src/spotpython/hyperparameters/optimizer.py) for details.\n",
    "\n",
    "## Connection with the LightDataModule\n",
    "\n",
    "The steps described in @sec-my-regressor are connected to the `LightDataModule` class [[DOC]](https://sequential-parameter-optimization.github.io/spotPython/reference/spotpython/data/lightdatamodule/).\n",
    "This class is used to create the data loaders for the training, validation, and test sets.\n",
    "The `LightDataModule` class is part of the `spotpython` package and class provides the following methods [[SOURCE]](https://github.com/sequential-parameter-optimization/spotPython/blob/main/src/spotpython/data/lightdatamodule.py):\n",
    "\n",
    "* `prepare_data()`: This method is used to prepare the data set.\n",
    "* `setup()`: This method is used to create the data loaders for the training, validation, and test sets.\n",
    "* `train_dataloader()`: This method is used to return the data loader for the training set.\n",
    "* `val_dataloader()`: This method is used to return the data loader for the validation set.\n",
    "* `test_dataloader()`: This method is used to return the data loader for the test set.\n",
    "* `predict_dataloader()`: This method is used to return the data loader for the prediction set.\n",
    "\n",
    "### The `prepare_data()` Method\n",
    "\n",
    "The `prepare_data()` method is used to prepare the data set.\n",
    "This method is called only once and on a single process.\n",
    "It can be used to download the data set. In our case, the data set is already available, so this method uses a simple `pass` statement.\n",
    "\n",
    "### The `setup()` Method\n",
    "\n",
    "The `stage` is used to define the data set to be returned. It \n",
    "can be `None`, `fit`, `test`, or `predict`.\n",
    "If `stage` is `None`, the method returns the training (`fit`),\n",
    "testing (`test`), and prediction (`predict`) data sets.\n",
    "\n",
    "The `setup` methods splits the data based on the `stage` setting for use in training, validation, and testing.\n",
    "It uses `torch.utils.data.random_split()` to split the data.\n",
    "\n",
    "Splitting is based on the `test_size` and `test_seed`. \n",
    "The `test_size` can be a float or an int.\n",
    "\n",
    "First, the data set sizes are determined as described in @sec-determine-sizes-601.\n",
    "Then, the data sets are split based on the `stage` setting.\n",
    "`spotpython`'s `LightDataModule` class uses the following sizes:\n",
    "\n",
    "* `full_train_size`: The size of the full training data set. This data set is splitted into the final training data set and a validation data set.\n",
    "* `val_size`: The size of the validation data set. The validation data set is used to validate the model during training.\n",
    "* `train_size`: The size of the training data set. The training data set is used to train the model.\n",
    "* `test_size`: The size of the test data set. The test data set is used to evaluate the model after training. It is not used during training (\"hyperparameter tuning\"). Only after everything is finished, the model is evaluated on the test data set.\n",
    "\n",
    "#### Determine the Sizes of the Data Sets {#sec-determine-sizes-601}\n"
   ]
  },
  {
   "cell_type": "code",
   "execution_count": 13,
   "id": "user_data_module_setup",
   "metadata": {},
   "outputs": [
    {
     "name": "stdout",
     "output_type": "stream",
     "text": [
      "LightDataModule setup(): full_train_size: 0.6\n",
      "LightDataModule setup(): val_size: 0.24\n",
      "LightDataModule setup(): train_size: 0.36\n",
      "LightDataModule setup(): test_size: 0.4\n"
     ]
    }
   ],
   "source": [
    "#| label: 601_user_data_module_setup\n",
    "import torch\n",
    "from torch.utils.data import random_split\n",
    "data_full = Diabetes()\n",
    "test_size = fun_control[\"test_size\"]\n",
    "test_seed=fun_control[\"test_seed\"]\n",
    "# if test_size is float, then train_size is 1 - test_size\n",
    "if isinstance(test_size, float):\n",
    "    full_train_size = round(1.0 - test_size, 2)\n",
    "    val_size = round(full_train_size * test_size, 2)\n",
    "    train_size = round(full_train_size - val_size, 2)\n",
    "else:\n",
    "    # if test_size is int, then train_size is len(data_full) - test_size\n",
    "    full_train_size = len(data_full) - test_size\n",
    "    val_size = int(full_train_size * test_size / len(data_full))\n",
    "    train_size = full_train_size - val_size\n",
    "\n",
    "print(f\"LightDataModule setup(): full_train_size: {full_train_size}\")\n",
    "print(f\"LightDataModule setup(): val_size: {val_size}\")\n",
    "print(f\"LightDataModule setup(): train_size: {train_size}\")\n",
    "print(f\"LightDataModule setup(): test_size: {test_size}\")"
   ]
  },
  {
   "cell_type": "markdown",
   "id": "8bb1594a",
   "metadata": {},
   "source": [
    "#### The \"setup\" Method: Stage \"fit\" {#sec-stage-fit-601}\n",
    "\n",
    "Here, `train_size` and `val_size` are used to split the data into training and validation sets.\n"
   ]
  },
  {
   "cell_type": "code",
   "execution_count": 14,
   "id": "user_data_module_setup_fit",
   "metadata": {},
   "outputs": [
    {
     "name": "stdout",
     "output_type": "stream",
     "text": [
      "train_size: 0.36, val_size: 0.24 used for train & val data.\n"
     ]
    }
   ],
   "source": [
    "#| label: 601_user_data_module_setup_fit\n",
    "stage = \"fit\"\n",
    "scaler = None\n",
    "# Assign train/val datasets for use in dataloaders\n",
    "if stage == \"fit\" or stage is None:\n",
    "    print(f\"train_size: {train_size}, val_size: {val_size} used for train & val data.\")\n",
    "    generator_fit = torch.Generator().manual_seed(test_seed)\n",
    "    data_train, data_val, _ = random_split(\n",
    "        data_full, [train_size, val_size, test_size], generator=generator_fit\n",
    "    )\n",
    "    if scaler is not None:\n",
    "        # Fit the scaler on training data and transform both train and val data\n",
    "        scaler_train_data = torch.stack([data_train[i][0] for i in range(len(data_train))]).squeeze(1)\n",
    "        # train_val_data = data_train[:,0]\n",
    "        print(scaler_train_data.shape)\n",
    "        scaler.fit(scaler_train_data)\n",
    "        data_train = [(scaler.transform(data), target) for data, target in data_train]\n",
    "        data_tensors_train = [data.clone().detach() for data, target in data_train]\n",
    "        target_tensors_train = [target.clone().detach() for data, target in data_train]\n",
    "        data_train = TensorDataset(\n",
    "            torch.stack(data_tensors_train).squeeze(1), torch.stack(target_tensors_train)\n",
    "        )\n",
    "        # print(data_train)\n",
    "        data_val = [(scaler.transform(data), target) for data, target in data_val]\n",
    "        data_tensors_val = [data.clone().detach() for data, target in data_val]\n",
    "        target_tensors_val = [target.clone().detach() for data, target in data_val]\n",
    "        data_val = TensorDataset(torch.stack(data_tensors_val).squeeze(1), torch.stack(target_tensors_val))"
   ]
  },
  {
   "cell_type": "markdown",
   "id": "281c97c3",
   "metadata": {},
   "source": [
    "The `data_train` and `data_val` data sets are further used to create the training and validation data loaders as \n",
    "described in @sec-train-dataloader-601 and @sec-val-dataloader-601, respectively.\n",
    "\n",
    "#### The \"setup\" Method: Stage \"test\" {#sec-stage-test-601}\n",
    "\n",
    "Here, the test data set, which is based on the `test_size`, is created.\n"
   ]
  },
  {
   "cell_type": "code",
   "execution_count": 15,
   "id": "user_data_module_setup_test",
   "metadata": {},
   "outputs": [
    {
     "name": "stdout",
     "output_type": "stream",
     "text": [
      "test_size: 0.4 used for test dataset.\n",
      "LightDataModule setup(): Test set size: 177\n",
      "Batch Size: 5\n",
      "Inputs Shape: torch.Size([5, 10])\n",
      "Targets Shape: torch.Size([5])\n",
      "---------------\n",
      "Inputs: tensor([[ 0.0490, -0.0446, -0.0418,  0.1045,  0.0356, -0.0257,  0.1775, -0.0764,\n",
      "         -0.0129,  0.0155],\n",
      "        [-0.0273,  0.0507, -0.0159, -0.0298,  0.0039, -0.0007,  0.0413, -0.0395,\n",
      "         -0.0236,  0.0113],\n",
      "        [ 0.0708,  0.0507, -0.0170,  0.0219,  0.0438,  0.0563,  0.0376, -0.0026,\n",
      "         -0.0702, -0.0176],\n",
      "        [-0.0382,  0.0507,  0.0714, -0.0573,  0.1539,  0.1559,  0.0008,  0.0719,\n",
      "          0.0503,  0.0693],\n",
      "        [ 0.0453, -0.0446,  0.0391,  0.0460,  0.0067, -0.0242,  0.0081, -0.0126,\n",
      "          0.0643,  0.0569]])\n",
      "Targets: tensor([103.,  53.,  80., 220., 246.])\n"
     ]
    }
   ],
   "source": [
    "#| label: 601_user_data_module_setup_test\n",
    "stage = \"test\"\n",
    "# Assign test dataset for use in dataloader(s)\n",
    "if stage == \"test\" or stage is None:\n",
    "    print(f\"test_size: {test_size} used for test dataset.\")\n",
    "    # get test data set as test_abs percent of the full dataset\n",
    "    generator_test = torch.Generator().manual_seed(test_seed)\n",
    "    data_test, _ = random_split(data_full, [test_size, full_train_size], generator=generator_test)\n",
    "    if scaler is not None:\n",
    "        data_test = [(scaler.transform(data), target) for data, target in data_test]\n",
    "        data_tensors_test = [data.clone().detach() for data, target in data_test]\n",
    "        target_tensors_test = [target.clone().detach() for data, target in data_test]\n",
    "        data_test = TensorDataset(\n",
    "            torch.stack(data_tensors_test).squeeze(1), torch.stack(target_tensors_test)\n",
    "        )\n",
    "print(f\"LightDataModule setup(): Test set size: {len(data_test)}\")\n",
    "# Set batch size for DataLoader\n",
    "batch_size = 5\n",
    "# Create DataLoader\n",
    "from torch.utils.data import DataLoader\n",
    "dataloader = DataLoader(data_test, batch_size=batch_size, shuffle=False)\n",
    "# Iterate over the data in the DataLoader\n",
    "for batch in dataloader:\n",
    "    inputs, targets = batch\n",
    "    print(f\"Batch Size: {inputs.size(0)}\")\n",
    "    print(f\"Inputs Shape: {inputs.shape}\")\n",
    "    print(f\"Targets Shape: {targets.shape}\")\n",
    "    print(\"---------------\")\n",
    "    print(f\"Inputs: {inputs}\")\n",
    "    print(f\"Targets: {targets}\")\n",
    "    break"
   ]
  },
  {
   "cell_type": "markdown",
   "id": "12077794",
   "metadata": {},
   "source": [
    "#### The \"setup\" Method: Stage \"predict\" {#sec-stage-predict-601}\n",
    "\n",
    "Prediction and testing use the same data set.\n",
    "The prediction data set is created based on the `test_size`.\n"
   ]
  },
  {
   "cell_type": "code",
   "execution_count": 16,
   "id": "user_data_module_setup_predict",
   "metadata": {},
   "outputs": [
    {
     "name": "stdout",
     "output_type": "stream",
     "text": [
      "test_size: 0.4 used for predict dataset.\n",
      "LightDataModule setup(): Predict set size: 177\n",
      "Batch Size: 5\n",
      "Inputs Shape: torch.Size([5, 10])\n",
      "Targets Shape: torch.Size([5])\n",
      "---------------\n",
      "Inputs: tensor([[ 0.0490, -0.0446, -0.0418,  0.1045,  0.0356, -0.0257,  0.1775, -0.0764,\n",
      "         -0.0129,  0.0155],\n",
      "        [-0.0273,  0.0507, -0.0159, -0.0298,  0.0039, -0.0007,  0.0413, -0.0395,\n",
      "         -0.0236,  0.0113],\n",
      "        [ 0.0708,  0.0507, -0.0170,  0.0219,  0.0438,  0.0563,  0.0376, -0.0026,\n",
      "         -0.0702, -0.0176],\n",
      "        [-0.0382,  0.0507,  0.0714, -0.0573,  0.1539,  0.1559,  0.0008,  0.0719,\n",
      "          0.0503,  0.0693],\n",
      "        [ 0.0453, -0.0446,  0.0391,  0.0460,  0.0067, -0.0242,  0.0081, -0.0126,\n",
      "          0.0643,  0.0569]])\n",
      "Targets: tensor([103.,  53.,  80., 220., 246.])\n"
     ]
    }
   ],
   "source": [
    "#| label: 601_user_data_module_setup_predict\n",
    "stage = \"predict\"\n",
    "if stage == \"predict\" or stage is None:\n",
    "    print(f\"test_size: {test_size} used for predict dataset.\")\n",
    "    # get test data set as test_abs percent of the full dataset\n",
    "    generator_predict = torch.Generator().manual_seed(test_seed)\n",
    "    data_predict, _ = random_split(\n",
    "        data_full, [test_size, full_train_size], generator=generator_predict\n",
    "    )\n",
    "    if scaler is not None:\n",
    "        data_predict = [(scaler.transform(data), target) for data, target in data_predict]\n",
    "        data_tensors_predict = [data.clone().detach() for data, target in data_predict]\n",
    "        target_tensors_predict = [target.clone().detach() for data, target in data_predict]\n",
    "        data_predict = TensorDataset(\n",
    "            torch.stack(data_tensors_predict).squeeze(1), torch.stack(target_tensors_predict)\n",
    "        )\n",
    "print(f\"LightDataModule setup(): Predict set size: {len(data_predict)}\")\n",
    "# Set batch size for DataLoader\n",
    "batch_size = 5\n",
    "# Create DataLoader\n",
    "from torch.utils.data import DataLoader\n",
    "dataloader = DataLoader(data_predict, batch_size=batch_size, shuffle=False)\n",
    "# Iterate over the data in the DataLoader\n",
    "for batch in dataloader:\n",
    "    inputs, targets = batch\n",
    "    print(f\"Batch Size: {inputs.size(0)}\")\n",
    "    print(f\"Inputs Shape: {inputs.shape}\")\n",
    "    print(f\"Targets Shape: {targets.shape}\")\n",
    "    print(\"---------------\")\n",
    "    print(f\"Inputs: {inputs}\")\n",
    "    print(f\"Targets: {targets}\")\n",
    "    break"
   ]
  },
  {
   "cell_type": "markdown",
   "id": "4d9e8b00",
   "metadata": {},
   "source": [
    "### The `train_dataloader()` Method {#sec-train-dataloader-601}\n",
    "\n",
    "The method ``train_dataloader` returns the training dataloader, i.e., a Pytorch DataLoader instance using the training dataset.\n",
    "It simply returns a DataLoader with the `data_train` set that was created in the `setup()` method as described in @sec-stage-fit-601.\n"
   ]
  },
  {
   "cell_type": "code",
   "execution_count": 17,
   "id": "3061afa9",
   "metadata": {},
   "outputs": [],
   "source": [
    "#| eval: false\n",
    "def train_dataloader(self) -> DataLoader:\n",
    "    return DataLoader(data_train, batch_size=batch_size, num_workers=num_workers)"
   ]
  },
  {
   "cell_type": "markdown",
   "id": "e7f319d3",
   "metadata": {},
   "source": [
    "::: {.callout-note}\n",
    "#### Using the `train_dataloader()` Method\n",
    "\n",
    "The `train_dataloader()` method can be used as follows:\n"
   ]
  },
  {
   "cell_type": "code",
   "execution_count": 18,
   "id": "6fadbcba",
   "metadata": {},
   "outputs": [
    {
     "name": "stdout",
     "output_type": "stream",
     "text": [
      "Training set size: 160\n",
      "Batch Size: 5\n",
      "Inputs Shape: torch.Size([5, 10])\n",
      "Targets Shape: torch.Size([5])\n",
      "---------------\n",
      "Inputs: tensor([[ 0.0562, -0.0446, -0.0579, -0.0080,  0.0521,  0.0491,  0.0560, -0.0214,\n",
      "         -0.0283,  0.0445],\n",
      "        [ 0.0018, -0.0446, -0.0709, -0.0229, -0.0016, -0.0010,  0.0266, -0.0395,\n",
      "         -0.0225,  0.0072],\n",
      "        [-0.0527, -0.0446,  0.0542, -0.0263, -0.0552, -0.0339, -0.0139, -0.0395,\n",
      "         -0.0741, -0.0591],\n",
      "        [ 0.0054, -0.0446, -0.0482, -0.0126,  0.0012, -0.0066,  0.0634, -0.0395,\n",
      "         -0.0514, -0.0591],\n",
      "        [-0.0527, -0.0446, -0.0094, -0.0057,  0.0397,  0.0447,  0.0266, -0.0026,\n",
      "         -0.0181, -0.0135]])\n",
      "Targets: tensor([158.,  49., 142.,  96.,  59.])\n"
     ]
    }
   ],
   "source": [
    "from spotpython.data.lightdatamodule import LightDataModule\n",
    "from spotpython.data.diabetes import Diabetes\n",
    "dataset = Diabetes(target_type=torch.float)\n",
    "data_module = LightDataModule(dataset=dataset, batch_size=5, test_size=0.4)\n",
    "data_module.setup()\n",
    "print(f\"Training set size: {len(data_module.data_train)}\")\n",
    "dl = data_module.train_dataloader()\n",
    "# Iterate over the data in the DataLoader\n",
    "for batch in dl:\n",
    "    inputs, targets = batch\n",
    "    print(f\"Batch Size: {inputs.size(0)}\")\n",
    "    print(f\"Inputs Shape: {inputs.shape}\")\n",
    "    print(f\"Targets Shape: {targets.shape}\")\n",
    "    print(\"---------------\")\n",
    "    print(f\"Inputs: {inputs}\")\n",
    "    print(f\"Targets: {targets}\")\n",
    "    break"
   ]
  },
  {
   "cell_type": "markdown",
   "id": "a78f8827",
   "metadata": {},
   "source": [
    ":::\n",
    "\n",
    "### The `val_dataloader()` Method {#sec-val-dataloader-601}\n",
    "\n",
    "Returns the validation dataloader, i.e., a Pytorch DataLoader instance using the validation dataset.\n",
    "It simply returns a DataLoader with the `data_val` set that was created in the `setup()` method as desccribed in @sec-stage-fit-601.\n"
   ]
  },
  {
   "cell_type": "code",
   "execution_count": 19,
   "id": "839ca87a",
   "metadata": {},
   "outputs": [],
   "source": [
    "#| eval: false\n",
    "def val_dataloader(self) -> DataLoader:\n",
    "    return DataLoader(data_val, batch_size=batch_size, num_workers=num_workers)"
   ]
  },
  {
   "cell_type": "markdown",
   "id": "e2eea637",
   "metadata": {},
   "source": [
    "::: {.callout-note}\n",
    "#### Using the `val_dataloader()` Method\n",
    "\n",
    "The `val_dataloader()` method can be used as follows:\n"
   ]
  },
  {
   "cell_type": "code",
   "execution_count": 20,
   "id": "d5d47224",
   "metadata": {},
   "outputs": [
    {
     "name": "stdout",
     "output_type": "stream",
     "text": [
      "Validation set size: 106\n",
      "Batch Size: 5\n",
      "Inputs Shape: torch.Size([5, 10])\n",
      "Targets Shape: torch.Size([5])\n",
      "---------------\n",
      "Inputs: tensor([[ 0.0163, -0.0446,  0.0736, -0.0412, -0.0043, -0.0135, -0.0139, -0.0011,\n",
      "          0.0429,  0.0445],\n",
      "        [ 0.0453, -0.0446,  0.0714,  0.0012, -0.0098, -0.0010,  0.0155, -0.0395,\n",
      "         -0.0412, -0.0715],\n",
      "        [ 0.0308,  0.0507,  0.0326,  0.0494, -0.0401, -0.0436, -0.0692,  0.0343,\n",
      "          0.0630,  0.0031],\n",
      "        [ 0.0235,  0.0507, -0.0396, -0.0057, -0.0484, -0.0333,  0.0118, -0.0395,\n",
      "         -0.1016, -0.0674],\n",
      "        [-0.0091,  0.0507,  0.0013, -0.0022,  0.0796,  0.0701,  0.0339, -0.0026,\n",
      "          0.0267,  0.0818]])\n",
      "Targets: tensor([275., 141., 208.,  78., 142.])\n"
     ]
    }
   ],
   "source": [
    "from spotpython.data.lightdatamodule import LightDataModule\n",
    "from spotpython.data.diabetes import Diabetes\n",
    "dataset = Diabetes(target_type=torch.float)\n",
    "data_module = LightDataModule(dataset=dataset, batch_size=5, test_size=0.4)\n",
    "data_module.setup()\n",
    "print(f\"Validation set size: {len(data_module.data_val)}\")\n",
    "dl = data_module.val_dataloader()\n",
    "# Iterate over the data in the DataLoader\n",
    "for batch in dl:\n",
    "    inputs, targets = batch\n",
    "    print(f\"Batch Size: {inputs.size(0)}\")\n",
    "    print(f\"Inputs Shape: {inputs.shape}\")\n",
    "    print(f\"Targets Shape: {targets.shape}\")\n",
    "    print(\"---------------\")\n",
    "    print(f\"Inputs: {inputs}\")\n",
    "    print(f\"Targets: {targets}\")\n",
    "    break"
   ]
  },
  {
   "cell_type": "markdown",
   "id": "865a3c60",
   "metadata": {},
   "source": [
    "::: \n",
    "\n",
    "\n",
    "### The `test_dataloader()` Method\n",
    "\n",
    "Returns the test dataloader, i.e., a Pytorch DataLoader instance using the test dataset.\n",
    "It simply returns a DataLoader with the `data_test` set that was created in the `setup()` method as described in @sec-stage-test-30.\n"
   ]
  },
  {
   "cell_type": "code",
   "execution_count": 21,
   "id": "b78d39f3",
   "metadata": {},
   "outputs": [],
   "source": [
    "#| eval: false\n",
    "def test_dataloader(self) -> DataLoader:\n",
    "    return DataLoader(data_test, batch_size=batch_size, num_workers=num_workers)"
   ]
  },
  {
   "cell_type": "markdown",
   "id": "dfc01c99",
   "metadata": {},
   "source": [
    "::: {.callout-note}\n",
    "#### Using the `test_dataloader()` Method\n",
    "\n",
    "The `test_dataloader()` method can be used as follows:\n"
   ]
  },
  {
   "cell_type": "code",
   "execution_count": 22,
   "id": "cb98c4c3",
   "metadata": {},
   "outputs": [
    {
     "name": "stdout",
     "output_type": "stream",
     "text": [
      "Test set size: 177\n",
      "Batch Size: 5\n",
      "Inputs Shape: torch.Size([5, 10])\n",
      "Targets Shape: torch.Size([5])\n",
      "---------------\n",
      "Inputs: tensor([[ 0.0562, -0.0446, -0.0579, -0.0080,  0.0521,  0.0491,  0.0560, -0.0214,\n",
      "         -0.0283,  0.0445],\n",
      "        [ 0.0018, -0.0446, -0.0709, -0.0229, -0.0016, -0.0010,  0.0266, -0.0395,\n",
      "         -0.0225,  0.0072],\n",
      "        [-0.0527, -0.0446,  0.0542, -0.0263, -0.0552, -0.0339, -0.0139, -0.0395,\n",
      "         -0.0741, -0.0591],\n",
      "        [ 0.0054, -0.0446, -0.0482, -0.0126,  0.0012, -0.0066,  0.0634, -0.0395,\n",
      "         -0.0514, -0.0591],\n",
      "        [-0.0527, -0.0446, -0.0094, -0.0057,  0.0397,  0.0447,  0.0266, -0.0026,\n",
      "         -0.0181, -0.0135]])\n",
      "Targets: tensor([158.,  49., 142.,  96.,  59.])\n"
     ]
    }
   ],
   "source": [
    "from spotpython.data.lightdatamodule import LightDataModule\n",
    "from spotpython.data.diabetes import Diabetes\n",
    "dataset = Diabetes(target_type=torch.float)\n",
    "data_module = LightDataModule(dataset=dataset, batch_size=5, test_size=0.4)\n",
    "data_module.setup()\n",
    "print(f\"Test set size: {len(data_module.data_test)}\")\n",
    "dl = data_module.test_dataloader()\n",
    "# Iterate over the data in the DataLoader\n",
    "for batch in dl:\n",
    "    inputs, targets = batch\n",
    "    print(f\"Batch Size: {inputs.size(0)}\")\n",
    "    print(f\"Inputs Shape: {inputs.shape}\")\n",
    "    print(f\"Targets Shape: {targets.shape}\")\n",
    "    print(\"---------------\")\n",
    "    print(f\"Inputs: {inputs}\")\n",
    "    print(f\"Targets: {targets}\")\n",
    "    break"
   ]
  },
  {
   "cell_type": "markdown",
   "id": "73164926",
   "metadata": {},
   "source": [
    "::: \n",
    "\n",
    "### The `predict_dataloader()` Method\n",
    "\n",
    "Returns the prediction dataloader, i.e., a Pytorch DataLoader instance using the prediction dataset.\n",
    "It simply returns a DataLoader with the `data_predict` set that was created in the `setup()` method as described in @sec-stage-predict-30.\n",
    "\n",
    "::: {.callout-warning}\n",
    "The `batch_size` is set to the length of the `data_predict` set.\n",
    ":::"
   ]
  },
  {
   "cell_type": "code",
   "execution_count": 23,
   "id": "043609a7",
   "metadata": {},
   "outputs": [],
   "source": [
    "#| eval: false\n",
    "def predict_dataloader(self) -> DataLoader:\n",
    "    return DataLoader(data_predict, batch_size=len(data_predict), num_workers=num_workers)"
   ]
  },
  {
   "cell_type": "markdown",
   "id": "011dd858",
   "metadata": {},
   "source": [
    "::: {.callout-note}\n",
    "#### Using the `predict_dataloader()` Method\n",
    "\n",
    "The `predict_dataloader()` method can be used as follows:\n"
   ]
  },
  {
   "cell_type": "code",
   "execution_count": 24,
   "id": "4c771608",
   "metadata": {},
   "outputs": [
    {
     "name": "stdout",
     "output_type": "stream",
     "text": [
      "Test set size: 177\n",
      "Batch Size: 177\n",
      "Inputs Shape: torch.Size([177, 10])\n",
      "Targets Shape: torch.Size([177])\n",
      "---------------\n",
      "Inputs: tensor([[ 0.0562, -0.0446, -0.0579,  ..., -0.0214, -0.0283,  0.0445],\n",
      "        [ 0.0018, -0.0446, -0.0709,  ..., -0.0395, -0.0225,  0.0072],\n",
      "        [-0.0527, -0.0446,  0.0542,  ..., -0.0395, -0.0741, -0.0591],\n",
      "        ...,\n",
      "        [ 0.0090, -0.0446, -0.0321,  ..., -0.0764, -0.0119, -0.0384],\n",
      "        [-0.0273, -0.0446, -0.0666,  ..., -0.0395, -0.0358, -0.0094],\n",
      "        [ 0.0817,  0.0507,  0.0067,  ...,  0.0919,  0.0547,  0.0072]])\n",
      "Targets: tensor([158.,  49., 142.,  96.,  59.,  74., 137., 136.,  39.,  66., 310., 198.,\n",
      "        235., 116.,  55., 177.,  59., 246.,  53., 135.,  88., 198., 186., 217.,\n",
      "         51., 118., 153., 180.,  51., 229.,  84.,  72., 237., 142., 185.,  91.,\n",
      "         88., 148., 179., 144.,  25.,  89.,  42.,  60., 124., 170., 215., 263.,\n",
      "        178., 245., 202.,  97., 321.,  71., 123., 220., 132., 243.,  61., 102.,\n",
      "        187.,  70., 242., 134.,  63.,  72.,  88., 219., 127., 146., 122., 143.,\n",
      "        220., 293.,  59., 317.,  60., 140.,  65., 277.,  90.,  96., 109., 190.,\n",
      "         90.,  52., 160., 233., 230., 175.,  68., 272., 144.,  70.,  68., 163.,\n",
      "         71.,  93., 263., 118., 220.,  90., 232., 120., 163.,  88.,  85.,  52.,\n",
      "        181., 232., 212., 332.,  81., 214., 145., 268., 115.,  93.,  64., 156.,\n",
      "        128., 200., 281., 103., 220.,  66.,  48., 246.,  42., 150., 125., 109.,\n",
      "        129.,  97., 265.,  97., 173., 216., 237., 121.,  42., 151.,  31.,  68.,\n",
      "        137., 221., 283., 124., 243., 150.,  69., 306., 182., 252., 132., 258.,\n",
      "        121., 110., 292., 101., 275., 141., 208.,  78., 142., 185., 167., 258.,\n",
      "        144.,  89., 225., 140., 303., 236.,  87.,  77., 131.])\n"
     ]
    }
   ],
   "source": [
    "from spotpython.data.lightdatamodule import LightDataModule\n",
    "from spotpython.data.diabetes import Diabetes\n",
    "dataset = Diabetes(target_type=torch.float)\n",
    "data_module = LightDataModule(dataset=dataset, batch_size=5, test_size=0.4)\n",
    "data_module.setup()\n",
    "print(f\"Test set size: {len(data_module.data_predict)}\")\n",
    "dl = data_module.predict_dataloader()\n",
    "# Iterate over the data in the DataLoader\n",
    "for batch in dl:\n",
    "    inputs, targets = batch\n",
    "    print(f\"Batch Size: {inputs.size(0)}\")\n",
    "    print(f\"Inputs Shape: {inputs.shape}\")\n",
    "    print(f\"Targets Shape: {targets.shape}\")\n",
    "    print(\"---------------\")\n",
    "    print(f\"Inputs: {inputs}\")\n",
    "    print(f\"Targets: {targets}\")\n",
    "    break"
   ]
  },
  {
   "cell_type": "markdown",
   "id": "8a87b0d4",
   "metadata": {},
   "source": [
    ":::\n",
    "\n",
    "## Using the `LightDataModule` in the `train_model()` Method\n",
    "\n",
    "The methods discussed so far are used in `spotpython`'s  `train_model()` method [[DOC]](https://sequential-parameter-optimization.github.io/spotPython/reference/spotpython/light/trainmodel/) to train the model.\n",
    "It is implemented as follows [[SOURCE]](https://github.com/sequential-parameter-optimization/spotPython/blob/main/src/spotpython/light/trainmodel.py).\n",
    "\n",
    "First, a `LightDataModule` object is created and the `setup()` method is called."
   ]
  },
  {
   "cell_type": "code",
   "execution_count": 25,
   "id": "b26f32a8",
   "metadata": {},
   "outputs": [],
   "source": [
    "#| eval: false\n",
    "dm = LightDataModule(\n",
    "    dataset=fun_control[\"data_set\"],\n",
    "    batch_size=config[\"batch_size\"],\n",
    "    num_workers=fun_control[\"num_workers\"],\n",
    "    test_size=fun_control[\"test_size\"],\n",
    "    test_seed=fun_control[\"test_seed\"],\n",
    ")\n",
    "dm.setup()"
   ]
  },
  {
   "cell_type": "markdown",
   "id": "d932f67a",
   "metadata": {},
   "source": [
    "Then, the `Trainer` is initialized."
   ]
  },
  {
   "cell_type": "code",
   "execution_count": 26,
   "id": "7592a01f",
   "metadata": {},
   "outputs": [],
   "source": [
    "#| eval: false\n",
    "# Init trainer\n",
    "trainer = L.Trainer(\n",
    "    default_root_dir=os.path.join(fun_control[\"CHECKPOINT_PATH\"], config_id),\n",
    "    max_epochs=model.hparams.epochs,\n",
    "    accelerator=fun_control[\"accelerator\"],\n",
    "    devices=fun_control[\"devices\"],\n",
    "    logger=TensorBoardLogger(\n",
    "        save_dir=fun_control[\"TENSORBOARD_PATH\"],\n",
    "        version=config_id,\n",
    "        default_hp_metric=True,\n",
    "        log_graph=fun_control[\"log_graph\"],\n",
    "    ),\n",
    "    callbacks=[\n",
    "        EarlyStopping(monitor=\"val_loss\", patience=config[\"patience\"], mode=\"min\", strict=False, verbose=False)\n",
    "    ],\n",
    "    enable_progress_bar=enable_progress_bar,\n",
    ")"
   ]
  },
  {
   "cell_type": "markdown",
   "id": "6792611c",
   "metadata": {},
   "source": [
    "Next, the `fit()` method is called to train the model.\n"
   ]
  },
  {
   "cell_type": "code",
   "execution_count": 27,
   "id": "49f029b5",
   "metadata": {},
   "outputs": [],
   "source": [
    "#| eval: false\n",
    "# Pass the datamodule as arg to trainer.fit to override model hooks :)\n",
    "trainer.fit(model=model, datamodule=dm)"
   ]
  },
  {
   "cell_type": "markdown",
   "id": "3050fb41",
   "metadata": {},
   "source": [
    "Finally, the `validate()` method is called to validate the model.\n",
    "The `validate()` method returns the validation loss.\n"
   ]
  },
  {
   "cell_type": "code",
   "execution_count": 28,
   "id": "27bb20fa",
   "metadata": {},
   "outputs": [],
   "source": [
    "#| eval: false\n",
    "# Test best model on validation and test set\n",
    "result = trainer.validate(model=model, datamodule=dm)\n",
    "# unlist the result (from a list of one dict)\n",
    "result = result[0]\n",
    "return result[\"val_loss\"]"
   ]
  },
  {
   "cell_type": "markdown",
   "id": "81d1da2f",
   "metadata": {},
   "source": [
    "## The Last Connection: The `HyperLight` Class\n",
    "\n",
    "The method `train_model()` is part of the `HyperLight` class [[DOC]](https://sequential-parameter-optimization.github.io/spotPython/reference/spotpython/light/trainmodel/). It is called from `spotpython` as an objective function to train the model and return the validation loss.\n",
    "\n",
    "The `HyperLight` class is implemented as follows [[SOURCE]](https://github.com/sequential-parameter-optimization/spotPython/blob/main/src/spotpython/fun/hyperlight.py).\n"
   ]
  },
  {
   "cell_type": "code",
   "execution_count": 29,
   "id": "user_hyperlight",
   "metadata": {},
   "outputs": [],
   "source": [
    "#| eval: false\n",
    "#| label: 601_user_hyperlight\n",
    "\n",
    "class HyperLight:\n",
    "    def fun(self, X: np.ndarray, fun_control: dict = None) -> np.ndarray:\n",
    "        z_res = np.array([], dtype=float)\n",
    "        self.check_X_shape(X=X, fun_control=fun_control)\n",
    "        var_dict = assign_values(X, get_var_name(fun_control))\n",
    "        for config in generate_one_config_from_var_dict(var_dict, fun_control):\n",
    "            df_eval = train_model(config, fun_control)\n",
    "            z_val = fun_control[\"weights\"] * df_eval\n",
    "            z_res = np.append(z_res, z_val)\n",
    "        return z_res"
   ]
  },
  {
   "cell_type": "markdown",
   "id": "5f45e060",
   "metadata": {},
   "source": [
    "## Further Information \n",
    "\n",
    "### Preprocessing {#sec-preprocessing-601}\n",
    "\n",
    "Preprocessing is handled by `Lightning` and `PyTorch`. It is described in the [LIGHTNINGDATAMODULE](https://lightning.ai/docs/pytorch/stable/data/datamodule.html) documentation. Here you can find information about the `transforms` methods."
   ]
  }
 ],
 "metadata": {
  "kernelspec": {
   "display_name": "Python 3 (ipykernel)",
   "language": "python",
   "name": "python3",
   "path": "/Users/bartz/miniforge3/envs/spot312/share/jupyter/kernels/python3"
  },
  "language_info": {
   "codemirror_mode": {
    "name": "ipython",
    "version": 3
   },
   "file_extension": ".py",
   "mimetype": "text/x-python",
   "name": "python",
   "nbconvert_exporter": "python",
   "pygments_lexer": "ipython3",
   "version": "3.12.5"
  }
 },
 "nbformat": 4,
 "nbformat_minor": 5
}
