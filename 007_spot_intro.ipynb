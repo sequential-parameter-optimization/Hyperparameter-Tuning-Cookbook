{
  "cells": [
    {
      "cell_type": "markdown",
      "metadata": {},
      "source": [
        "---\n",
        "execute:\n",
        "  cache: false\n",
        "  eval: true\n",
        "  echo: true\n",
        "  warning: false\n",
        "jupyter: python3\n",
        "---\n",
        "\n",
        "# Introduction to Sequential Parameter Optimization {#sec-spot-intro}\n",
        "\n",
        "The following libraries are used in this document:\n"
      ]
    },
    {
      "cell_type": "code",
      "metadata": {},
      "source": [
        "import numpy as np\n",
        "from math import inf\n",
        "from scipy.optimize import shgo\n",
        "from scipy.optimize import direct\n",
        "from scipy.optimize import differential_evolution\n",
        "import matplotlib.pyplot as plt\n",
        "from spotpython.fun.objectivefunctions import Analytical\n",
        "from spotpython.spot import Spot\n",
        "from spotpython.utils.init import (fun_control_init, design_control_init, surrogate_control_init, optimizer_control_init)\n",
        "from spotpython.data.diabetes import Diabetes\n",
        "from spotpython.hyperdict.light_hyper_dict import LightHyperDict\n",
        "from spotpython.fun.hyperlight import HyperLight\n",
        "from spotpython.utils.eda import print_exp_table, print_res_table"
      ],
      "execution_count": null,
      "outputs": []
    },
    {
      "cell_type": "markdown",
      "metadata": {},
      "source": [
        "This presents an introduction to `spotpythons`'s `Spot` class. The official `spotpython` documentation can be found here: [https://sequential-parameter-optimization.github.io/spotpython/](https://sequential-parameter-optimization.github.io/spotpython/).\n",
        "\n",
        "\n",
        "## Surrogate Model Based Optimization {#sec-spot}\n",
        "\n",
        "Surrogate model based optimization methods are common approaches in simulation and optimization. The sequential parameter optimization toolbox (SPOT) was developed because there is a great need for sound statistical analysis of simulation and optimization algorithms [@BLP05 ]. SPOT includes methods for tuning based on classical regression and analysis of variance techniques.\n",
        "It presents tree-based models such as classification and regression trees and random forests as well as Bayesian optimization (Gaussian process models, also known as Kriging). Combinations of different meta-modeling approaches are possible. SPOT comes with a sophisticated surrogate model based optimization method, that can handle discrete and continuous inputs. Furthermore, any model implemented in `scikit-learn` can be used out-of-the-box as a surrogate in `spotpython`.\n",
        "\n",
        "SPOT implements key techniques such as exploratory fitness landscape analysis and sensitivity analysis. It can be used to understand the performance of various algorithms, while simultaneously giving insights into their algorithmic behavior.\n",
        "\n",
        "The `spot` loop consists of the following steps:\n",
        "\n",
        "1. Init: Build initial design $X$  using the `design` method, e.g., Latin Hypercube Sampling (LHS).\n",
        "2. Evaluate initial design on real objective $f$: $y = f(X)$ using the `fun` method, e.g., `fun_sphere`.\n",
        "3. Build surrogate: $S = S(X,y)$, using the `fit` method of the surrogate model, e.g., `Kriging`.\n",
        "4. Optimize on surrogate: $X_0 =  \\text{optimize}(S)$, using the `optimizer` method, e.g., `differential_evolution`.\n",
        "5. Evaluate on real objective: $y_0 = f(X_0)$, using the `fun` method from above.\n",
        "6. Impute (Infill) new points: $X = X \\cup X_0$, $y = y \\cup y_0$, using  `Spot`'s `infill` method.\n",
        "7. Goto 3.\n",
        "\n",
        "\n",
        "<!-- \\begin{algorithm}\n",
        "    \\caption{Surrogate-Based Optimization}\n",
        "    \\label{alg:spot}\n",
        "    \\begin{algorithmic}[1]\n",
        "        \\State \\textbf{Init:} Build initial design $X$\n",
        "        \\State \\textbf{Evaluate} initial design on real objective $f$: $y = f(X)$\n",
        "        \\While{stopping criterion not met}\n",
        "            \\State \\textbf{Build surrogate:} $S = S(X,y)$\n",
        "            \\State \\textbf{Optimize on surrogate:} $X_0 =  \\text{optimize}(S)$\n",
        "            \\State \\textbf{Evaluate on real objective:} $y_0 = f(X_0)$\n",
        "            \\State \\textbf{Impute (Infill) new points:} $X = X \\cup X_0$, $y = y \\cup y_0$\n",
        "        \\EndWhile\n",
        "    \\end{algorithmic} \n",
        "\\end{algorithm} -->\n",
        "\n",
        "\n",
        "## Advantages of the `spotpython` Approach\n",
        "\n",
        "* Neural networks and many ML algorithms are non-deterministic, so results are noisy (i.e., depend on the the initialization of the weights). Enhanced noise handling strategies, OCBA (description from HPT-book).\n",
        "\n",
        "* Optimal Computational Budget Allocation (OCBA) is a very efficient solution to solve the \"general ranking and selection problem\" if the objective function is noisy. It allocates function evaluations in an uneven manner to identify the best solutions and to reduce the total optimization costs. [Chen10a, Bart11b]\n",
        "Given a total number of optimization samples $N$ to be allocated to \n",
        "$k$ competing solutions whose performance is depicted by random variables with means\n",
        "$\\bar{y}_i$ ($i=1, 2, \\ldots, k$), and finite variances $\\sigma_i^2$, respectively, as \n",
        "$N \\to \\infty$, the \\gls{APCS} can be asymptotically maximized when\n",
        "\\begin{align}\n",
        "\\frac{N_i}{N_j} & = \\left( \\frac{ \\sigma_i / \\delta_{b,i}}{\\sigma_j/ \\delta_{b,j}} \\right)^2, i,j \\in \\{ 1, 2, \\ldots, k\\}, \\text{ and }\n",
        "i \\neq j \\neq b,\\\\\n",
        "N_b &= \\sigma_b \\sqrt{ \n",
        "\\sum_{i=1, i\\neq b}^k \\frac{N_i^2}{\\sigma_i^2}\n",
        "},\n",
        "\\end{align}\n",
        "where $N_i$ is the number of replications allocated to solution $i$, $\\delta_{b,i} = \\bar{y}_b - \\bar{y}_i$,\n",
        "and $\\bar{y}_b \\leq \\min_{i\\neq b} \\bar{y}_i$ [@Chen10a, @Bart11a].\n",
        "\n",
        "\n",
        "* Surrogate-based optimization: Better than grid search and random search (Reference to HPT-book)\n",
        "* Visualization\n",
        "* Importance based on the Kriging model\n",
        "* Sensitivity analysis.  Exploratory fitness landscape analysis. Provides XAI methods (feature importance, integrated gradients, etc.)\n",
        "* Uncertainty quantification\n",
        "* Flexible, modular meta-modeling handling. `spotpython` comes with a Kriging model, which can be replaced by any model implemented in `scikit-learn`.\n",
        "* Enhanced metric handling, especially for categorical hyperparameters (any `sklearn` metric can be used). Default is..\n",
        "* Integration with `TensorBoard`: Visualization of the hyperparameter tuning process, of the training steps, the model graph. Parallel coordinates plot, scatter plot matrix, and more.\n",
        "* Reproducibility. Results are stored as pickle files. The results can be loaded and visualized at any time and be transferred between different machines and operating systems.\n",
        "* Handles `scikit-learn` models and `PyTorch` models out-of-the-box. The user has to add a simple wrapper for passing the hyperparameters to use a `PyTorch` model in `spotpython`.\n",
        "* Compatible with `Lightning`.\n",
        "* User can add own models as plain python code.\n",
        "* User can add own data sets in various formats.\n",
        "* Flexible data handling and data preprocessing.\n",
        "* Many examples online (hyperparameter-tuning-cookbook).\n",
        "* `spotpython` uses a robust optimizer that can even deal with hyperparameter-settings that cause crashes of the algorithms to be tuned.\n",
        "* even if the optimum is not found, HPT with `spotpython` prevents the user from choosing bad hyperparameters in a systematic way (design of experiments).\n",
        "\n",
        "\n",
        "## Disadvantages of the spotpython Approach\n",
        "\n",
        "* Time consuming\n",
        "* Surrogate can be misguiding\n",
        "\n",
        "\n",
        "## An Initial Example: Optimization of the One-dimensional Sphere Function\n",
        "\n",
        "### The Objective Function: Sphere\n",
        "\n",
        "The `spotpython` package provides several classes of objective functions. We will use the `sphere`-function, which is an analytical objective function. Analytical functions can be described by a (closed) formula:\n",
        "$$\n",
        "f(x) = x^2.\n",
        "$$"
      ]
    },
    {
      "cell_type": "code",
      "metadata": {},
      "source": [
        "#| label: fig-sphere-fun\n",
        "#| fig-cap: \"The sphere function $f(x) = x^2$ in the range [-1, 1].\"\n",
        "fun = Analytical().fun_sphere\n",
        "x = np.linspace(-1, 1, 100).reshape(-1,1)\n",
        "y = fun(x)\n",
        "plt.figure()\n",
        "plt.plot(x,y, \"k\")\n",
        "plt.grid()\n",
        "plt.xlabel(\"x\")\n",
        "plt.ylabel(\"f(x)\")\n",
        "plt.title(\"Sphere Function\")\n",
        "plt.show()"
      ],
      "execution_count": null,
      "outputs": []
    },
    {
      "cell_type": "markdown",
      "metadata": {},
      "source": [
        "The optimal solution of the sphere function is $x^* = 0$ with $f(x^*) = 0$.\n",
        "\n",
        "### The `Spot` Method as an Optimization Algorithm Using a Surrogate Model\n",
        "\n",
        "\n",
        "`pyspot` implements the `Spot` method.\n",
        "The `Spot` method uses a surrogate model to approximate the objective function and to find the optimal solution by performing an optimization on the surrogate model. In this example, `Spot` uses ten initial design points, which are sampled from a Latin Hypercube Sampling (LHS) design. The `Spot` method will then build a surrogate model based on these initial design points and the corresponding objective function values. The surrogate model is then used to find the optimal solution.\n",
        "As a default, `Spot` uses a Kriging surrogate model, which is a Gaussian process model. As a default, ten initial design points are sampled from a Latin Hypercube Sampling (LHS) design. Also as a default, 15 function evaluations are performed, i.e., the final surrogate model is built based on 15 points.\n",
        "\n",
        "The specification of the `lower` and `upper` bounds of the input space is mandatory via the `fun_control` dictionary, is passed to the `Spot` method.\n",
        "For convenience, `spotpython` provides an initialization method `fun_control_init()` to create the `fun_control` dictionary.\n",
        "After the `Spot` method is initialized, the `run()` method is called to start the optimization process. The `run()` method will perform the optimization on the surrogate model and return the optimal solution. Finally, the `print_results()` method is called to print the results of the optimization process, i.e., the best objective function value (\"min y\") and the corresponding input value (\"x0\")."
      ]
    },
    {
      "cell_type": "code",
      "metadata": {},
      "source": [
        "fun_control=fun_control_init(lower = np.array([-1]),\n",
        "                             upper = np.array([1]))\n",
        "S = Spot(fun=fun, fun_control=fun_control)\n",
        "S.run()\n",
        "S.print_results()"
      ],
      "execution_count": null,
      "outputs": []
    },
    {
      "cell_type": "markdown",
      "metadata": {},
      "source": [
        "`spotpython` provides a method `plot_progress()` to visualize the search progress. The parameter `log_y` is used to plot the objective function values on a logarithmic scale. The black points represent the ten initial design points, whereas the remainin g five red points represent the points found by the surrogate model based optimization."
      ]
    },
    {
      "cell_type": "code",
      "metadata": {},
      "source": [
        "S.plot_progress(log_y=True)"
      ],
      "execution_count": null,
      "outputs": []
    },
    {
      "cell_type": "code",
      "metadata": {},
      "source": [
        "S.surrogate_control"
      ],
      "execution_count": null,
      "outputs": []
    },
    {
      "cell_type": "markdown",
      "metadata": {},
      "source": [
        "## A Second Example: Optimization of a User-Specified Multi-dimensional Function {#sec-user-specified-fun-branin}\n",
        "\n",
        "Users can easily specify their own objective functions. The following example shows how to use the `Spot` method to optimize a user-specified two-dimensional function.\n",
        "Here we will use the 2-dimensional Branin function, which is a well-known test function in optimization. The Branin function is defined as follows:\n",
        "$$\n",
        "f(x) = a (x2 - bx1^2 + cx1 - r)^2 + s(1-t) \\cos(x1) + s\n",
        "$$\n",
        "where:\n",
        "\n",
        "* $a = 1$,\n",
        "* $b = 5.1/(4\\pi^2)$,\n",
        "* $c = 5/\\pi$,\n",
        "* $r = 6$,\n",
        "* $s = 10$, and\n",
        "* $t = 1/(8\\pi)$.\n",
        "\n",
        "The input space is defined as $x_1 \\in [-5, 10]$ and $x_2 \\in [0, 15]$.\n",
        "The user specified Branin function can be implemented as follows (note, that the function is vectorized, i.e., it can handle multiple input points at once and that the `**kwargs` argument is mandatory for compatibility with `spotpython` to pass additional parameters to the function, if needed):"
      ]
    },
    {
      "cell_type": "code",
      "metadata": {},
      "source": [
        "def user_fun(X, **kwargs):\n",
        "    x1 = X[:, 0]\n",
        "    x2 = X[:, 1]\n",
        "    a = 1\n",
        "    b = 5.1 / (4 * np.pi**2)\n",
        "    c = 5 / np.pi\n",
        "    r = 6\n",
        "    s = 10\n",
        "    t = 1 / (8 * np.pi)\n",
        "    y = a * (x2 - b * x1**2 + c * x1 - r)**2 + s * (1 - t) * np.cos(x1) + s\n",
        "    return y"
      ],
      "execution_count": null,
      "outputs": []
    },
    {
      "cell_type": "markdown",
      "metadata": {},
      "source": [
        "The Branin function has its global minimum at three points:\n",
        "$f(x^*) = 0.397887$, at $x^* = (-\\pi, 12.275)$, $(\\pi, 2.275)$ and $(9.42478, 2.475)$.\n",
        "It can be visualized as shown in @fig-branin-fun."
      ]
    },
    {
      "cell_type": "code",
      "metadata": {},
      "source": [
        "#| label: fig-branin-fun\n",
        "#| fig-cap: \"The Branin function $f(x)$ in the range $x1 \\\\in [-5, 10]$ and $x2 \\\\in [0, 15]$.\"\n",
        "x1 = np.linspace(-5, 10, 100)\n",
        "x2 = np.linspace(0, 15, 100)\n",
        "X1, X2 = np.meshgrid(x1, x2)\n",
        "Z = user_fun(np.array([X1.ravel(), X2.ravel()]).T)\n",
        "Z = Z.reshape(X1.shape)\n",
        "plt.figure(figsize=(8, 6))\n",
        "plt.contourf(X1, X2, Z, levels=30, cmap='jet')\n",
        "plt.colorbar(label='f(x)')\n",
        "plt.xlabel('x1')\n",
        "plt.ylabel('x2')\n",
        "plt.title('Branin Function')\n",
        "plt.scatter([-np.pi, np.pi, 9.42478], [12.275, 2.275, 2.475], color='white', label='Global Minima')\n",
        "plt.legend()\n",
        "plt.show()"
      ],
      "execution_count": null,
      "outputs": []
    },
    {
      "cell_type": "markdown",
      "metadata": {},
      "source": [
        "The default `Spot` class assumes a noisy objective function, because many real-world applications have noisy objective functions. Here, we will set the `noise` parameter to `False` in the `fun_control` dictionary, because the Branin function is a deterministic function. Accordingly, the `interpolation` surrogate method is used, which is suitable for deterministic functions. Therefore, we need to specify the `interpolation` method in the `surrogate_control` dictionary. Furthermore, since the Branin is harder to optimize than the sphere function, we will increase the number of function evaluations to 25 and the number of initial design points to 15."
      ]
    },
    {
      "cell_type": "code",
      "metadata": {},
      "source": [
        "fun_control = fun_control_init(\n",
        "              lower = np.array( [-5, 0]),\n",
        "              upper = np.array([10, 15]),\n",
        "              fun_evals = 25,\n",
        "              noise = False,\n",
        "              seed=123\n",
        ")\n",
        "\n",
        "design_control=design_control_init(init_size=15)\n",
        "surrogate_control=surrogate_control_init(method=\"interpolation\")\n",
        "\n",
        "S_2 = Spot(fun=user_fun,\n",
        "                 fun_control=fun_control,\n",
        "                 design_control=design_control,\n",
        "                 surrogate_control=surrogate_control)\n",
        "S_2.run()\n",
        "S_2.print_results()\n",
        "S_2.plot_progress(log_y=True)"
      ],
      "execution_count": null,
      "outputs": []
    },
    {
      "cell_type": "markdown",
      "metadata": {},
      "source": [
        "The resulting surrogate used by `Spot` can be visualized as shown in @fig-spot-branin-surrogate."
      ]
    },
    {
      "cell_type": "code",
      "metadata": {},
      "source": [
        "#| label: fig-spot-branin-surrogate\n",
        "#| fig-cap: \"Visualization of the surrogate model of the Branin function.\"\n",
        "S_2.plot_contour()"
      ],
      "execution_count": null,
      "outputs": []
    },
    {
      "cell_type": "code",
      "metadata": {},
      "source": [
        "S_2.surrogate_control"
      ],
      "execution_count": null,
      "outputs": []
    },
    {
      "cell_type": "markdown",
      "metadata": {},
      "source": [
        "## A Third Example: Hyperparameter Tuning of a Neural Network\n",
        "\n",
        "`spotpython` provides several `PyTorch` neural networks, which can be used out-of-the-box for hyperparameter tuning. We will use the `Diabetes` dataset, which is a regression dataset with 10 input features and one output feature.\n",
        "\n",
        "Similar to the steps from above, we define the `fun_control` dictionary. The hyperparameter tuning of neural networks requires a few additional parameters in the `fun_control` dictionary, e.g., for selecting the neural network model, the hyperparameter dictionary, and the number of input and output features of the neural network. The `fun_control` dictionary is initialized using the `fun_control_init()` method. The following parameters are used:\n",
        "\n",
        "* The `core_model_name` parameter specifies the neural network model to be used. In this case, we will use the `NNLinearRegressor`, which is a simple linear regression model implemented in `spotpython`.\n",
        "* The `hyperdict` parameter specifies the hyperparameter dictionary to be used. In this case, we will use the `LightHyperDict`, which is a hyperparameter dictionary for light-weight models.\n",
        "* `_L_in` and `_L_out` specify the number of input and output features of the neural network, respectively. In this case, we will use 10 input features and 1 output feature, which are required for the `Diabetes` dataset.\n",
        "\n",
        "Sometimes, very bad configurations appear in the initial design, leading to an unnecessarily long optimization process. An example is illustrated in @fig-divergence-threshold. To avoid this, we can set a divergence threshold in the `fun_control` dictionary. The `divergence_threshold` parameter is used to stop the optimization process if the objective function value exceeds a certain threshold. This is useful to avoid long optimization processes if the objective function is not well-behaved. We have set the `divergence_threshold=5_000`.\n",
        "\n",
        "![TensorBoard visualization of the spotpython process.](figures_static/007_divergence_threshold.png){width=\"80%\" #fig-divergence-threshold}\n"
      ]
    },
    {
      "cell_type": "code",
      "metadata": {},
      "source": [
        "fun_control = fun_control_init(\n",
        "    PREFIX=\"S_3\",\n",
        "    max_time=1,\n",
        "    data_set = Diabetes(),\n",
        "    core_model_name=\"light.regression.NNLinearRegressor\",\n",
        "    hyperdict=LightHyperDict,\n",
        "    divergence_threshold=5_000,\n",
        "    _L_in=10,\n",
        "    _L_out=1)\n",
        "\n",
        "S_3 = Spot(fun=HyperLight().fun,\n",
        "         fun_control=fun_control)\n",
        "S_3.surrogate_control"
      ],
      "execution_count": null,
      "outputs": []
    },
    {
      "cell_type": "code",
      "metadata": {},
      "source": [
        "S_3.run()\n",
        "S_3.print_results()\n",
        "S_3.plot_progress(log_y=True)"
      ],
      "execution_count": null,
      "outputs": []
    },
    {
      "cell_type": "markdown",
      "metadata": {},
      "source": [
        "Results can be printed using `Spot`'s `print_results()` method. The results include the best objective function value, the corresponding input values, and the number of function evaluations."
      ]
    },
    {
      "cell_type": "code",
      "metadata": {},
      "source": [
        "results = S_3.print_results()"
      ],
      "execution_count": null,
      "outputs": []
    },
    {
      "cell_type": "code",
      "metadata": {},
      "source": [
        "S_3.surrogate_control"
      ],
      "execution_count": null,
      "outputs": []
    },
    {
      "cell_type": "markdown",
      "metadata": {},
      "source": [
        "A formatted table of the results can be printed using the `print_res_table()` method:"
      ]
    },
    {
      "cell_type": "code",
      "metadata": {},
      "source": [
        "print_res_table(S_3)"
      ],
      "execution_count": null,
      "outputs": []
    },
    {
      "cell_type": "markdown",
      "metadata": {},
      "source": [
        "The fitness landscape can be visualized using the `plot_important_hyperparameter_contour()` method:"
      ]
    },
    {
      "cell_type": "code",
      "metadata": {},
      "source": [
        "S_3.plot_important_hyperparameter_contour(max_imp=3)"
      ],
      "execution_count": null,
      "outputs": []
    },
    {
      "cell_type": "markdown",
      "metadata": {},
      "source": [
        "## Organization\n",
        "\n",
        "`Spot` organizes the surrogate based optimization process in four steps:\n",
        "\n",
        "1. Selection of the objective function: `fun`.\n",
        "2. Selection of the initial design: `design`.\n",
        "3. Selection of the optimization algorithm: `optimizer`.\n",
        "4. Selection of the surrogate model: `surrogate`.\n",
        "\n",
        "For each of these steps, the user can specify an object:"
      ]
    },
    {
      "cell_type": "code",
      "metadata": {},
      "source": [
        "from spotpython.fun.objectivefunctions import Analytical\n",
        "fun = Analytical().fun_sphere\n",
        "from spotpython.design.spacefilling import SpaceFilling\n",
        "design = SpaceFilling(2)\n",
        "from scipy.optimize import differential_evolution\n",
        "optimizer = differential_evolution\n",
        "from spotpython.surrogate.kriging import Kriging\n",
        "surrogate = Kriging()"
      ],
      "execution_count": null,
      "outputs": []
    },
    {
      "cell_type": "markdown",
      "metadata": {},
      "source": [
        "For each of these steps, the user can specify a dictionary of control parameters.\n",
        "\n",
        "1. `fun_control`\n",
        "2. `design_control`\n",
        "3. `optimizer_control`\n",
        "4. `surrogate_control`\n",
        "\n",
        "Each of these dictionaries has an initialization method, e.g., `fun_control_init()`. The initialization methods set the default values for the control parameters.\n",
        "\n",
        ":::: {.callout-important}\n",
        "#### Important:\n",
        "\n",
        "* The specification of an lower bound in `fun_control` is mandatory.\n",
        "\n",
        ":::\n",
        "\n",
        "## Summary: Basic Attributes and Methods of the `Spot` Object\n",
        "\n",
        "The `Spot` class organizes the surrogate based optimization process into the\n",
        "\n",
        "* `fun` object with dictionry `fun_control`,\n",
        "* `design` object with dictionary `design_control`,\n",
        "* `optimizer` object with dictionary `optimizer_control`, and\n",
        "* `surrogate` object with dictionary `surrogate_control`.\n",
        "\n",
        "| Object | Description | Default |\n",
        "| -- | -- | -- |\n",
        "| `fun` | Can be one of the following: (1) any function from `spotpython.fun.*`, e.g., [fun_rosen](https://sequential-parameter-optimization.github.io/spotPython/reference/spotpython/fun/objectivefunctions/#spotpython.fun.objectivefunctions.Analytical.fun_rosen), (2) a user-specified function (vectorized and accepting the `**kwargs` argument as, e.g., in @sec-user-specified-fun-branin), or, (3) if `PyTorch` hyperparameter tuning with `Lightning` is desired, the `HyperLight` class from `spotpython`, see [HyperLight](https://sequential-parameter-optimization.github.io/spotPython/reference/spotpython/fun/hyperlight/). | There is no default, a simple example is `fun = Analytical().fun_sphere`|\n",
        "| `design` | Can be any design generating function from `spotpython.design:*`, e.g., [Clustered](https://sequential-parameter-optimization.github.io/spotPython/reference/spotpython/design/clustered/), [Factorial](https://sequential-parameter-optimization.github.io/spotPython/reference/spotpython/design/factorial/), [Grid](https://sequential-parameter-optimization.github.io/spotPython/reference/spotpython/design/factorial/), [Poor](https://sequential-parameter-optimization.github.io/spotPython/reference/spotpython/design/poor/), [Random](https://sequential-parameter-optimization.github.io/spotPython/reference/spotpython/design/random/), [Sobol](https://sequential-parameter-optimization.github.io/spotPython/reference/spotpython/design/sobol/), or  [SpaceFilling](https://sequential-parameter-optimization.github.io/spotPython/reference/spotpython/design/spacefilling/). | `design = SpaceFilling(k=15)` |\n",
        "| `optimizer` | Can be any of `dual_annealing`, `direct`, `shgo`, `basinhopping`, or `differential_evolution`, see, e.g., [differential_evolution](hhttps://docs.scipy.org/doc/scipy/reference/generated/scipy.optimize.differential_evolution.html#scipy.optimize.differential_evolution).| `optimizer=differential_evolution`|\n",
        "| `surrogate` | Can be any `sklearn` regressor, e.g., [GaussianProcessRegressor](https://scikit-learn.org/stable/modules/generated/sklearn.gaussian_process.GaussianProcessRegressor.html#sklearn.gaussian_process.GaussianProcessRegressor) or, the [Kriging](https://sequential-parameter-optimization.github.io/spotPython/reference/spotpython/surrogate/kriging/) class from `spotpython`.| `surrogate=Kriging()`|\n",
        "\n",
        "| Dictionary | Code Reference | Example |\n",
        "| -- | -- | -- |\n",
        "| `fun_control` | [fun_control_init](https://sequential-parameter-optimization.github.io/spotPython/reference/spotpython/utils/init/#spotpython.utils.init.fun_control_init) | The `lower` and  `upper` arguments are mandatory, e.g., `fun_control=fun_control_init(lower=np.array([-1, -1]),upper=np.array([1, 1]))`.|\n",
        "| `design_control` | [design_control_init()](https://sequential-parameter-optimization.github.io/spotPython/reference/spotpython/utils/init/#spotpython.utils.init.design_control_init) | `design_control=design_control_init()`|\n",
        "| `optimizer_control` | [optimizer_control_init](https://sequential-parameter-optimization.github.io/spotPython/reference/spotpython/utils/init/#spotpython.utils.init.optimizer_control_init) | `optimizer_control_init()`|\n",
        "| `surrogate_control` |  [surrogate_control_init](https://sequential-parameter-optimization.github.io/spotPython/reference/spotpython/utils/init/#spotpython.utils.init.surrogate_control_init) |`surrogate_control=surrogate_control_init()`\n",
        "\n",
        "\n",
        "Based on the definition of the `fun`, `design`, `optimizer`, and `surrogate` objects, \n",
        "and their corresponding control parameter dictionaries, `fun_control`, `design_control`, `optimizer_control`, and `surrogate_control`,\n",
        "the `Spot` object can be build as follows:\n"
      ]
    },
    {
      "cell_type": "code",
      "metadata": {},
      "source": [
        "fun_control=fun_control_init(lower=np.array([-1, -1]),\n",
        "                            upper=np.array([1, 1]))\n",
        "design_control=design_control_init()\n",
        "optimizer_control=optimizer_control_init()\n",
        "surrogate_control=surrogate_control_init()\n",
        "spot_tuner = Spot(fun=fun,\n",
        "                       fun_control=fun_control,\n",
        "                       design_control=design_control,\n",
        "                       optimizer_control=optimizer_control,\n",
        "                       surrogate_control=surrogate_control)"
      ],
      "execution_count": null,
      "outputs": []
    },
    {
      "cell_type": "markdown",
      "metadata": {},
      "source": [
        "## Run"
      ]
    },
    {
      "cell_type": "code",
      "metadata": {},
      "source": [
        "spot_tuner.run()"
      ],
      "execution_count": null,
      "outputs": []
    },
    {
      "cell_type": "markdown",
      "metadata": {},
      "source": [
        "## Print the Results"
      ]
    },
    {
      "cell_type": "code",
      "metadata": {},
      "source": [
        "spot_tuner.print_results()"
      ],
      "execution_count": null,
      "outputs": []
    },
    {
      "cell_type": "markdown",
      "metadata": {},
      "source": [
        "## Show the Progress"
      ]
    },
    {
      "cell_type": "code",
      "metadata": {},
      "source": [
        "spot_tuner.plot_progress()"
      ],
      "execution_count": null,
      "outputs": []
    },
    {
      "cell_type": "markdown",
      "metadata": {},
      "source": [
        "## Visualize the Surrogate\n",
        "\n",
        "* The plot method of the `kriging` surrogate is used.\n",
        "* Note: the plot uses the interval defined by the ranges of the natural variables."
      ]
    },
    {
      "cell_type": "code",
      "metadata": {},
      "source": [
        "spot_tuner.surrogate.plot()"
      ],
      "execution_count": null,
      "outputs": []
    },
    {
      "cell_type": "markdown",
      "metadata": {},
      "source": [
        "## Init: Build Initial Design"
      ]
    },
    {
      "cell_type": "code",
      "metadata": {},
      "source": [
        "from spotpython.design.spacefilling import SpaceFilling\n",
        "from spotpython.surrogate.kriging import Kriging\n",
        "from spotpython.fun.objectivefunctions import Analytical\n",
        "from spotpython.utils.init import fun_control_init\n",
        "gen = SpaceFilling(2)\n",
        "rng = np.random.RandomState(1)\n",
        "lower = np.array([-5,-0])\n",
        "upper = np.array([10,15])\n",
        "fun = Analytical().fun_branin\n",
        "\n",
        "fun_control = fun_control_init(sigma=0)\n",
        "\n",
        "X = gen.scipy_lhd(10, lower=lower, upper = upper)\n",
        "print(X)\n",
        "y = fun(X, fun_control=fun_control)\n",
        "print(y)"
      ],
      "execution_count": null,
      "outputs": []
    },
    {
      "cell_type": "markdown",
      "metadata": {},
      "source": [
        "## Replicability\n",
        "\n",
        "Seed"
      ]
    },
    {
      "cell_type": "code",
      "metadata": {},
      "source": [
        "gen = SpaceFilling(2, seed=123)\n",
        "X0 = gen.scipy_lhd(3)\n",
        "gen = SpaceFilling(2, seed=345)\n",
        "X1 = gen.scipy_lhd(3)\n",
        "X2 = gen.scipy_lhd(3)\n",
        "gen = SpaceFilling(2, seed=123)\n",
        "X3 = gen.scipy_lhd(3)\n",
        "X0, X1, X2, X3"
      ],
      "execution_count": null,
      "outputs": []
    },
    {
      "cell_type": "markdown",
      "metadata": {},
      "source": [
        "## Surrogates\n",
        "\n",
        "### A Simple Predictor\n",
        "\n",
        "The code below shows how to use a simple model for prediction. Assume that only two (very costly) measurements are available:\n",
        "  \n",
        "  1. f(0) = 0.5\n",
        "  2. f(2) = 2.5\n",
        "\n",
        "We are interested in the value at $x_0 = 1$, i.e., $f(x_0 = 1)$, but cannot run an additional, third experiment."
      ]
    },
    {
      "cell_type": "code",
      "metadata": {},
      "source": [
        "from sklearn import linear_model\n",
        "X = np.array([[0], [2]])\n",
        "y = np.array([0.5, 2.5])\n",
        "S_lm = linear_model.LinearRegression()\n",
        "S_lm = S_lm.fit(X, y)\n",
        "X0 = np.array([[1]])\n",
        "y0 = S_lm.predict(X0)\n",
        "print(y0)"
      ],
      "execution_count": null,
      "outputs": []
    },
    {
      "cell_type": "markdown",
      "metadata": {},
      "source": [
        "Central Idea: Evaluation of the surrogate model `S_lm` is much cheaper (or / and much faster) than running the real-world experiment $f$.\n",
        "\n",
        "\n",
        "## Tensorboard Setup\n",
        "\n",
        "### Tensorboard Configuration\n",
        "\n",
        "The `TENSORBOARD_CLEAN` argument can be set to `True` in the `fun_control` dictionary to archive the TensorBoard folder if it already exists. This is useful if you want to start a hyperparameter tuning process from scratch. If you want to continue a hyperparameter tuning process, set `TENSORBOARD_CLEAN` to `False`. Then the TensorBoard folder will not be archived and the old and new TensorBoard files will shown in the TensorBoard dashboard.\n",
        "\n",
        "\n",
        "### Starting TensorBoard {#sec-tensorboard-start}\n",
        "\n",
        "`TensorBoard` can be started as a background process with the following command, where `./runs` is the default directory for the TensorBoard log files:\n",
        "\n",
        "```{raw}\n",
        "tensorboard --logdir=\"./runs\"\n",
        "```\n",
        "\n",
        "::: {.callout-note}\n",
        "#### TENSORBOARD_PATH\n",
        "\n",
        "The TensorBoard path can be printed with the following command (after a `fun_control` object has been created):"
      ]
    },
    {
      "cell_type": "code",
      "metadata": {},
      "source": [
        "#| label: 024_tensorboard_path\n",
        "#| eval: false\n",
        "from spotpython.utils.init import get_tensorboard_path\n",
        "get_tensorboard_path(fun_control)"
      ],
      "execution_count": null,
      "outputs": []
    },
    {
      "cell_type": "markdown",
      "metadata": {},
      "source": [
        ":::\n",
        "\n",
        "\n",
        "## Demo/Test: Objective Function Fails\n",
        "\n",
        "SPOT expects `np.nan` values from failed objective function values. These are handled. Note: SPOT's counter considers only successful executions of the objective function."
      ]
    },
    {
      "cell_type": "code",
      "metadata": {},
      "source": [
        "import numpy as np\n",
        "from spotpython.fun.objectivefunctions import Analytical\n",
        "from spotpython.spot import Spot\n",
        "import numpy as np\n",
        "from math import inf\n",
        "# number of initial points:\n",
        "ni = 20\n",
        "# number of points\n",
        "n = 30\n",
        "\n",
        "fun = Analytical().fun_random_error\n",
        "fun_control=fun_control_init(\n",
        "    lower = np.array([-1]),\n",
        "    upper= np.array([1]),\n",
        "    fun_evals = n,\n",
        "    show_progress=False)\n",
        "design_control=design_control_init(init_size=ni)\n",
        "\n",
        "spot_1 = Spot(fun=fun,\n",
        "                     fun_control=fun_control,\n",
        "                     design_control=design_control)\n",
        "\n",
        "# assert value error from the run method\n",
        "try:\n",
        "    spot_1.run()\n",
        "except ValueError as e:\n",
        "    print(e)"
      ],
      "execution_count": null,
      "outputs": []
    },
    {
      "cell_type": "markdown",
      "metadata": {},
      "source": [
        "## Handling Results: Printing, Saving, and Loading\n",
        "\n",
        "The results can be printed with the following command:"
      ]
    },
    {
      "cell_type": "code",
      "metadata": {},
      "source": [
        "#| label: a_04__print_results\n",
        "#| eval: false\n",
        "spot_tuner.print_results(print_screen=False)"
      ],
      "execution_count": null,
      "outputs": []
    },
    {
      "cell_type": "markdown",
      "metadata": {},
      "source": [
        "The tuned hyperparameters can be obtained as a dictionary with the following command:"
      ]
    },
    {
      "cell_type": "code",
      "metadata": {},
      "source": [
        "#| label: a_04__get_tuned_hyperparameters\n",
        "#| eval: false\n",
        "from spotpython.hyperparameters.values import get_tuned_hyperparameters\n",
        "get_tuned_hyperparameters(spot_tuner, fun_control)"
      ],
      "execution_count": null,
      "outputs": []
    },
    {
      "cell_type": "markdown",
      "metadata": {},
      "source": [
        "The results can be saved and reloaded with the following commands:"
      ]
    },
    {
      "cell_type": "code",
      "metadata": {},
      "source": [
        "#| label: a_04__save_and_load\n",
        "#| eval: false\n",
        "from spotpython.utils.file import save_pickle, load_pickle\n",
        "from spotpython.utils.init import get_experiment_name\n",
        "experiment_name = get_experiment_name(\"024\")\n",
        "SAVE_AND_LOAD = False\n",
        "if SAVE_AND_LOAD == True:\n",
        "    save_pickle(spot_tuner, experiment_name)\n",
        "    spot_tuner = load_pickle(experiment_name)"
      ],
      "execution_count": null,
      "outputs": []
    },
    {
      "cell_type": "markdown",
      "metadata": {},
      "source": [
        "## `spotpython` as a Hyperparameter Tuner\n",
        "\n",
        "### Modifying Hyperparameter Levels {#sec-modifying-hyperparameter-levels}\n",
        "\n",
        "\n",
        "`spotpython` distinguishes between different types of hyperparameters. The following types are supported:\n",
        "\n",
        "* `int` (integer)\n",
        "* `float` (floating point number)\n",
        "* `boolean` (boolean)\n",
        "* `factor` (categorical)\n",
        "\n",
        "#### Integer Hyperparameters\n",
        "\n",
        "Integer hyperparameters can be modified with the `set_int_hyperparameter_values()` [[SOURCE]](https://sequential-parameter-optimization.github.io/spotpython/reference/spotpython/hyperparameters/values/#spotpython.hyperparameters.values.set_int_hyperparameter_values) function. The following code snippet shows how to modify the `n_estimators` hyperparameter of a random forest model:"
      ]
    },
    {
      "cell_type": "code",
      "metadata": {},
      "source": [
        "from spotriver.hyperdict.river_hyper_dict import RiverHyperDict\n",
        "from spotpython.utils.init import fun_control_init\n",
        "from spotpython.hyperparameters.values import set_int_hyperparameter_values\n",
        "from spotpython.utils.eda import print_exp_table\n",
        "fun_control = fun_control_init(\n",
        "    core_model_name=\"forest.AMFRegressor\",\n",
        "    hyperdict=RiverHyperDict,\n",
        ")\n",
        "print(\"Before modification:\")\n",
        "print_exp_table(fun_control)\n",
        "set_int_hyperparameter_values(fun_control, \"n_estimators\", 2, 5)\n",
        "print(\"After modification:\")\n",
        "print_exp_table(fun_control)"
      ],
      "execution_count": null,
      "outputs": []
    },
    {
      "cell_type": "markdown",
      "metadata": {},
      "source": [
        "#### Float Hyperparameters\n",
        "\n",
        "Float hyperparameters can be modified with the `set_float_hyperparameter_values()` [[SOURCE]](https://sequential-parameter-optimization.github.io/spotpython/reference/spotpython/hyperparameters/values/#spotpython.hyperparameters.values.set_float_hyperparameter_values) function. The following code snippet shows how to modify the `step` hyperparameter of a hyperparameter of a Mondrian Regression Tree model:\n"
      ]
    },
    {
      "cell_type": "code",
      "metadata": {},
      "source": [
        "from spotriver.hyperdict.river_hyper_dict import RiverHyperDict\n",
        "from spotpython.utils.init import fun_control_init\n",
        "from spotpython.hyperparameters.values import set_float_hyperparameter_values\n",
        "from spotpython.utils.eda import print_exp_table\n",
        "fun_control = fun_control_init(\n",
        "    core_model_name=\"forest.AMFRegressor\",\n",
        "    hyperdict=RiverHyperDict,\n",
        ")\n",
        "print(\"Before modification:\")\n",
        "print_exp_table(fun_control)\n",
        "set_float_hyperparameter_values(fun_control, \"step\", 0.2, 5)\n",
        "print(\"After modification:\")\n",
        "print_exp_table(fun_control)"
      ],
      "execution_count": null,
      "outputs": []
    },
    {
      "cell_type": "markdown",
      "metadata": {},
      "source": [
        "#### Boolean Hyperparameters\n",
        "\n",
        "Boolean hyperparameters can be modified with the `set_boolean_hyperparameter_values()` [[SOURCE]](https://sequential-parameter-optimization.github.io/spotpython/reference/spotpython/hyperparameters/values/#spotpython.hyperparameters.values.set_boolean_hyperparameter_values) function. The following code snippet shows how to modify the `use_aggregation` hyperparameter of a Mondrian Regression Tree model:"
      ]
    },
    {
      "cell_type": "code",
      "metadata": {},
      "source": [
        "from spotriver.hyperdict.river_hyper_dict import RiverHyperDict\n",
        "from spotpython.utils.init import fun_control_init\n",
        "from spotpython.hyperparameters.values import set_boolean_hyperparameter_values\n",
        "from spotpython.utils.eda import print_exp_table\n",
        "fun_control = fun_control_init(\n",
        "    core_model_name=\"forest.AMFRegressor\",\n",
        "    hyperdict=RiverHyperDict,\n",
        ")\n",
        "print(\"Before modification:\")\n",
        "print_exp_table(fun_control)\n",
        "set_boolean_hyperparameter_values(fun_control, \"use_aggregation\", 0, 0)\n",
        "print(\"After modification:\")\n",
        "print_exp_table(fun_control)"
      ],
      "execution_count": null,
      "outputs": []
    },
    {
      "cell_type": "markdown",
      "metadata": {},
      "source": [
        "#### Factor Hyperparameters\n",
        "\n",
        "Factor hyperparameters can be modified with the `set_factor_hyperparameter_values()` [[SOURCE]](https://sequential-parameter-optimization.github.io/spotpython/reference/spotpython/hyperparameters/values/#spotpython.hyperparameters.values.set_factor_hyperparameter_values) function. The following code snippet shows how to modify the `leaf_model` hyperparameter of a Hoeffding Tree Regressor  model:"
      ]
    },
    {
      "cell_type": "code",
      "metadata": {},
      "source": [
        "from spotriver.hyperdict.river_hyper_dict import RiverHyperDict\n",
        "from spotpython.utils.init import fun_control_init\n",
        "from spotpython.hyperparameters.values import set_factor_hyperparameter_values\n",
        "from spotpython.utils.eda import print_exp_table\n",
        "fun_control = fun_control_init(\n",
        "    core_model_name=\"tree.HoeffdingTreeRegressor\",\n",
        "    hyperdict=RiverHyperDict,\n",
        ")\n",
        "print(\"Before modification:\")\n",
        "print_exp_table(fun_control)\n",
        "set_factor_hyperparameter_values(fun_control, \"leaf_model\", ['LinearRegression',\n",
        "                                                    'Perceptron'])\n",
        "print(\"After modification:\")"
      ],
      "execution_count": null,
      "outputs": []
    },
    {
      "cell_type": "markdown",
      "metadata": {},
      "source": [
        "## Sampling in spotpython\n",
        "\n",
        "`spotpython` uses a class for generating space-filling designs using Latin Hypercube Sampling (LHS) and maximin distance criteria. It is based on `scipy`'s `LatinHypercube` class. The following example demonstrates how to generate a Latin Hypercube Sampling design using `spotpython`. The result is shown in @fig-lhs-spotpython. As can seen in the figure, a Latin hypercube sample generates $n$ points in $[0,1)^{d}$. Each univariate marginal distribution is stratified, placing exactly one point in $[j/n, (j+1)/n)$ for $j=0,1,...,n-1$."
      ]
    },
    {
      "cell_type": "code",
      "metadata": {},
      "source": [
        "#| label: fig-lhs-spotpython\n",
        "#| fig-cap: \"Latin Hypercube Sampling design (sampling plan)\"\n",
        "import matplotlib.pyplot as plt\n",
        "import numpy as np\n",
        "from spotpython.design.spacefilling import SpaceFilling\n",
        "lhd = SpaceFilling(k=2, seed=123)\n",
        "X = lhd.scipy_lhd(n=10, repeats=1, lower=np.array([0, 0]), upper=np.array([10, 10]))\n",
        "plt.scatter(X[:, 0], X[:, 1])\n",
        "plt.xlabel('x1')\n",
        "plt.ylabel('x2')\n",
        "plt.grid()"
      ],
      "execution_count": null,
      "outputs": []
    },
    {
      "cell_type": "markdown",
      "metadata": {},
      "source": [
        "## Example: `Spot` and the Sphere Function\n",
        "\n",
        "Central Idea: Evaluation of the surrogate model `S` is much cheaper (or / and much faster) than running the real-world experiment $f$.\n",
        "We start with a small example.\n"
      ]
    },
    {
      "cell_type": "code",
      "metadata": {},
      "source": [
        "import numpy as np\n",
        "from math import inf\n",
        "from spotpython.fun.objectivefunctions import Analytical\n",
        "from spotpython.utils.init import fun_control_init, design_control_init\n",
        "from spotpython.hyperparameters.values import set_control_key_value\n",
        "from spotpython.spot import Spot\n",
        "import matplotlib.pyplot as plt"
      ],
      "execution_count": null,
      "outputs": []
    },
    {
      "cell_type": "markdown",
      "metadata": {},
      "source": [
        "### The Objective Function: Sphere\n",
        "\n",
        "The `spotpython` package provides several classes of objective functions. We will use an analytical objective function, i.e., a function that can be described by a (closed) formula:\n",
        "$$\n",
        "f(x) = x^2\n",
        "$$"
      ]
    },
    {
      "cell_type": "code",
      "metadata": {},
      "source": [
        "fun = Analytical().fun_sphere"
      ],
      "execution_count": null,
      "outputs": []
    },
    {
      "cell_type": "markdown",
      "metadata": {},
      "source": [
        "We can apply the function `fun` to input values and plot the result:"
      ]
    },
    {
      "cell_type": "code",
      "metadata": {},
      "source": [
        "x = np.linspace(-1,1,100).reshape(-1,1)\n",
        "y = fun(x)\n",
        "plt.figure()\n",
        "plt.plot(x, y, \"k\")\n",
        "plt.show()"
      ],
      "execution_count": null,
      "outputs": []
    },
    {
      "cell_type": "markdown",
      "metadata": {},
      "source": [
        "### The `Spot` Method as an Optimization Algorithm Using a Surrogate Model\n",
        "\n",
        "We initialize the `fun_control` dictionary.\n",
        "The `fun_control` dictionary contains the parameters for the objective function.\n",
        "The `fun_control` dictionary is passed to the `Spot` method."
      ]
    },
    {
      "cell_type": "code",
      "metadata": {},
      "source": [
        "fun_control=fun_control_init(lower = np.array([-1]),\n",
        "                     upper = np.array([1]))\n",
        "spot_0 = Spot(fun=fun,\n",
        "                   fun_control=fun_control)\n",
        "spot_0.run()"
      ],
      "execution_count": null,
      "outputs": []
    },
    {
      "cell_type": "markdown",
      "metadata": {},
      "source": [
        "The method `print_results()` prints the results, i.e., the best objective function value (\"min y\") and the corresponding input value (\"x0\")."
      ]
    },
    {
      "cell_type": "code",
      "metadata": {},
      "source": [
        "spot_0.print_results()"
      ],
      "execution_count": null,
      "outputs": []
    },
    {
      "cell_type": "markdown",
      "metadata": {},
      "source": [
        "To plot the search progress, the method `plot_progress()` can be used. The parameter `log_y` is used to plot the objective function values on a logarithmic scale."
      ]
    },
    {
      "cell_type": "code",
      "metadata": {},
      "source": [
        "#| label: fig-spot-progress\n",
        "#| fig-cap: \"Visualization of the search progress of the `Spot` method. The black elements (points and line) represent the initial design, before the surrogate is build. The red elements represent the search on the surrogate.\"\n",
        "spot_0.plot_progress(log_y=True)"
      ],
      "execution_count": null,
      "outputs": []
    },
    {
      "cell_type": "markdown",
      "metadata": {},
      "source": [
        "If the dimension of the input space is one, the method `plot_model()` can be used to visualize the model and the underlying objective function values."
      ]
    },
    {
      "cell_type": "code",
      "metadata": {},
      "source": [
        "#| label: fig-spot-model-1d\n",
        "#| fig-cap: \"Visualization of the model and the underlying objective function values.\"\n",
        "spot_0.plot_model()"
      ],
      "execution_count": null,
      "outputs": []
    },
    {
      "cell_type": "markdown",
      "metadata": {},
      "source": [
        "## `Spot` Parameters: `fun_evals`, `init_size` and `show_models`\n",
        "\n",
        "We will modify three parameters:\n",
        "\n",
        "  1. The number of function evaluations (`fun_evals`) will be set to `10` (instead of 15, which is the default value) in the `fun_control` dictionary.\n",
        "  2. The parameter `show_models`, which visualizes the search process for each single iteration for 1-dim functions, in the `fun_control` dictionary.\n",
        "  3. The size of the initial design (`init_size`) in the `design_control` dictionary.\n",
        "\n",
        "\n",
        "The full list of the `Spot` parameters is shown in code reference on GitHub, see [Spot](https://sequential-parameter-optimization.github.io/spotpython/reference/spotpython/spot/spot/#spotpython.Spot)."
      ]
    },
    {
      "cell_type": "code",
      "metadata": {},
      "source": [
        "fun_control=fun_control_init(lower = np.array([-1]),\n",
        "                     upper = np.array([1]),\n",
        "                     fun_evals = 10,\n",
        "                     show_models = True)               \n",
        "design_control = design_control_init(init_size=9)\n",
        "spot_1 = Spot(fun=fun,\n",
        "                   fun_control=fun_control,\n",
        "                   design_control=design_control)\n",
        "spot_1.run()"
      ],
      "execution_count": null,
      "outputs": []
    },
    {
      "cell_type": "markdown",
      "metadata": {},
      "source": [
        "## Print the Results"
      ]
    },
    {
      "cell_type": "code",
      "metadata": {},
      "source": [
        "spot_1.print_results()"
      ],
      "execution_count": null,
      "outputs": []
    },
    {
      "cell_type": "markdown",
      "metadata": {},
      "source": [
        "## Show the Progress"
      ]
    },
    {
      "cell_type": "code",
      "metadata": {},
      "source": [
        "spot_1.plot_progress()"
      ],
      "execution_count": null,
      "outputs": []
    },
    {
      "cell_type": "markdown",
      "metadata": {},
      "source": [
        "## Visualizing the Optimization and Hyperparameter Tuning Process with TensorBoard {#sec-visualizing-tensorboard-01}\n",
        "\n",
        "`spotpython` supports the visualization of the hyperparameter tuning process with TensorBoard. The following example shows how to use TensorBoard with `spotpython`.\n",
        "\n",
        "First, we define an \"PREFIX\" to identify the hyperparameter tuning process. The PREFIX is used to create a directory for the TensorBoard files."
      ]
    },
    {
      "cell_type": "code",
      "metadata": {},
      "source": [
        "#| label: code-spot-tensorboard\n",
        "fun_control = fun_control_init(\n",
        "    PREFIX = \"01\",\n",
        "    lower = np.array([-1]),\n",
        "    upper = np.array([2]),\n",
        "    fun_evals=100,\n",
        "    TENSORBOARD_CLEAN=True,\n",
        "    tensorboard_log=True)\n",
        "design_control = design_control_init(init_size=5)"
      ],
      "execution_count": null,
      "outputs": []
    },
    {
      "cell_type": "markdown",
      "metadata": {},
      "source": [
        "Since the `tensorboard_log` is `True`, `spotpython` will log the optimization process in the TensorBoard files.\n",
        "The argument `TENSORBOARD_CLEAN=True` will move the TensorBoard files from the previous run to a backup folder, so that  TensorBoard files from previous runs are not overwritten and a clean start in the `runs` folder is guaranteed."
      ]
    },
    {
      "cell_type": "code",
      "metadata": {},
      "source": [
        "spot_tuner = Spot(fun=fun,                   \n",
        "                   fun_control=fun_control,\n",
        "                   design_control=design_control)\n",
        "spot_tuner.run()\n",
        "spot_tuner.print_results()"
      ],
      "execution_count": null,
      "outputs": []
    },
    {
      "cell_type": "markdown",
      "metadata": {},
      "source": [
        "Now we can start TensorBoard in the background. The TensorBoard process will read the TensorBoard files and visualize the hyperparameter tuning process.\n",
        "From the terminal, we can start TensorBoard with the following command:\n",
        "\n",
        "```{raw}\n",
        "tensorboard --logdir=\"./runs\"\n",
        "```\n",
        "\n",
        "`logdir` is the directory where the TensorBoard files are stored. In our case, the TensorBoard files are stored in the directory `./runs`.\n",
        "\n",
        "TensorBoard will start a web server on port 6006. We can access the TensorBoard web server with the following URL:\n",
        "\n",
        "```{raw}\n",
        "http://localhost:6006/\n",
        "```\n",
        "\n",
        "The first TensorBoard visualization shows the objective function values plotted against the wall time. The wall time is the time that has passed since the start of the hyperparameter tuning process. The five initial design points are shown in the upper left region of the plot. The line visualizes the optimization process.\n",
        "![TensorBoard visualization of the spotpython process. Objective function values plotted against wall time.](figures_static/01_tensorboard_01.png)\n",
        "\n",
        "The second TensorBoard visualization shows the input values, i.e., $x_0$, plotted against the wall time.\n",
        "![TensorBoard visualization of the spotpython process.](figures_static/01_tensorboard_02.png)\n",
        "\n",
        "The third TensorBoard plot illustrates how `spotpython` can be used as a microscope for the internal mechanisms of the surrogate-based optimization process. Here, one important parameter, the learning rate $\\theta$ of the Kriging surrogate is plotted against the number of optimization steps.\n",
        "\n",
        "![TensorBoard visualization of the spotpython process.](figures_static/01_tensorboard_03.png){width=\"50%\"}\n",
        "\n",
        "\n",
        "## Jupyter Notebook\n",
        "\n",
        ":::{.callout-note}\n",
        "\n",
        "* The Jupyter-Notebook of this lecture is available on GitHub in the [Hyperparameter-Tuning-Cookbook Repository](https://github.com/sequential-parameter-optimization/Hyperparameter-Tuning-Cookbook/blob/main/007_spot_intro.ipynb)\n",
        "\n",
        ":::"
      ]
    }
  ],
  "metadata": {
    "kernelspec": {
      "name": "python3",
      "language": "python",
      "display_name": "Python 3 (ipykernel)",
      "path": "/Users/bartz/miniforge3/envs/spot312/share/jupyter/kernels/python3"
    }
  },
  "nbformat": 4,
  "nbformat_minor": 4
}