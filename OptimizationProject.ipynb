{
 "cells": [
  {
   "cell_type": "code",
   "execution_count": 1,
   "metadata": {},
   "outputs": [],
   "source": [
    "import numpy as np\n",
    "import pandas as pd\n",
    "import matplotlib.pyplot as plt\n",
    "from scipy.optimize import minimize\n"
   ]
  },
  {
   "cell_type": "markdown",
   "metadata": {},
   "source": [
    "# Project: One-Mass Oscillator Optimization\n",
    "\n",
    "## Introduction\n",
    "\n",
    "In this project, you will apply various optimization algorithms to fit a one-mass oscillator model to real-world data. The objective is to minimize the sum of the squared residuals between the model predictions and the observed amplitudes of a one-mass oscillator system across different frequencies.\n",
    "\n",
    "### One-Mass Oscillator Model\n",
    "\n",
    "The one-mass oscillator is characterized by the following equation, representing the amplitudes of the system:\n",
    "\n",
    "$$ V(\\omega) = \\frac{F}{\\sqrt{(1 - \\nu^2)^2 + 4D^2\\nu^2}} $$\n",
    "\n",
    "Here, \n",
    "- $ \\omega $ represents the angular frequency of the system,\n",
    "- $ \\nu $ is the ratio of the excitation frequency to the natural frequency ($ \\nu = \\frac{\\omega_{\\text{err}}}{\\omega_{\\text{eig}}} $),\n",
    "- $ D $ is the damping ratio,\n",
    "- $ F $ is the force applied to the system.\n",
    "\n",
    "The goal of the project is to determine the optimal values for the parameters $ \\omega_{\\text{eig}} $, $ D $, and $ F $ that result in the best fit of the one-mass oscillator model to the observed amplitudes.\n"
   ]
  },
  {
   "cell_type": "markdown",
   "metadata": {},
   "source": [
    "### Load the real world data\n",
    "\n",
    "- we have two different measurements\n",
    "- J represents the measured frequencies\n",
    "- N represents the measured amplitudes"
   ]
  },
  {
   "cell_type": "code",
   "execution_count": 2,
   "metadata": {},
   "outputs": [
    {
     "data": {
      "text/html": [
       "<div>\n",
       "<style scoped>\n",
       "    .dataframe tbody tr th:only-of-type {\n",
       "        vertical-align: middle;\n",
       "    }\n",
       "\n",
       "    .dataframe tbody tr th {\n",
       "        vertical-align: top;\n",
       "    }\n",
       "\n",
       "    .dataframe thead th {\n",
       "        text-align: right;\n",
       "    }\n",
       "</style>\n",
       "<table border=\"1\" class=\"dataframe\">\n",
       "  <thead>\n",
       "    <tr style=\"text-align: right;\">\n",
       "      <th></th>\n",
       "      <th>J</th>\n",
       "      <th>N</th>\n",
       "    </tr>\n",
       "  </thead>\n",
       "  <tbody>\n",
       "    <tr>\n",
       "      <th>14999</th>\n",
       "      <td>8162.504002</td>\n",
       "      <td>5.527511</td>\n",
       "    </tr>\n",
       "    <tr>\n",
       "      <th>15011</th>\n",
       "      <td>8156.384831</td>\n",
       "      <td>7.359789</td>\n",
       "    </tr>\n",
       "    <tr>\n",
       "      <th>15016</th>\n",
       "      <td>8159.199238</td>\n",
       "      <td>6.532958</td>\n",
       "    </tr>\n",
       "    <tr>\n",
       "      <th>15020</th>\n",
       "      <td>8159.200889</td>\n",
       "      <td>5.895933</td>\n",
       "    </tr>\n",
       "    <tr>\n",
       "      <th>15025</th>\n",
       "      <td>8153.934051</td>\n",
       "      <td>9.326749</td>\n",
       "    </tr>\n",
       "    <tr>\n",
       "      <th>15027</th>\n",
       "      <td>8154.492655</td>\n",
       "      <td>9.986718</td>\n",
       "    </tr>\n",
       "    <tr>\n",
       "      <th>15031</th>\n",
       "      <td>8153.330890</td>\n",
       "      <td>10.152119</td>\n",
       "    </tr>\n",
       "    <tr>\n",
       "      <th>15035</th>\n",
       "      <td>8152.841605</td>\n",
       "      <td>10.759362</td>\n",
       "    </tr>\n",
       "    <tr>\n",
       "      <th>15037</th>\n",
       "      <td>8156.021641</td>\n",
       "      <td>10.231306</td>\n",
       "    </tr>\n",
       "    <tr>\n",
       "      <th>15044</th>\n",
       "      <td>8156.166975</td>\n",
       "      <td>9.148720</td>\n",
       "    </tr>\n",
       "    <tr>\n",
       "      <th>15049</th>\n",
       "      <td>8149.775754</td>\n",
       "      <td>13.413394</td>\n",
       "    </tr>\n",
       "    <tr>\n",
       "      <th>15054</th>\n",
       "      <td>8150.504981</td>\n",
       "      <td>13.726156</td>\n",
       "    </tr>\n",
       "    <tr>\n",
       "      <th>15057</th>\n",
       "      <td>8159.111875</td>\n",
       "      <td>10.563015</td>\n",
       "    </tr>\n",
       "    <tr>\n",
       "      <th>15060</th>\n",
       "      <td>8152.736948</td>\n",
       "      <td>12.549981</td>\n",
       "    </tr>\n",
       "    <tr>\n",
       "      <th>15063</th>\n",
       "      <td>8152.512573</td>\n",
       "      <td>14.382749</td>\n",
       "    </tr>\n",
       "    <tr>\n",
       "      <th>15065</th>\n",
       "      <td>8146.496916</td>\n",
       "      <td>13.407260</td>\n",
       "    </tr>\n",
       "    <tr>\n",
       "      <th>15070</th>\n",
       "      <td>8146.942295</td>\n",
       "      <td>14.199003</td>\n",
       "    </tr>\n",
       "    <tr>\n",
       "      <th>15073</th>\n",
       "      <td>8143.989359</td>\n",
       "      <td>13.660392</td>\n",
       "    </tr>\n",
       "    <tr>\n",
       "      <th>15076</th>\n",
       "      <td>8140.786816</td>\n",
       "      <td>10.111637</td>\n",
       "    </tr>\n",
       "    <tr>\n",
       "      <th>15080</th>\n",
       "      <td>8143.799766</td>\n",
       "      <td>11.698237</td>\n",
       "    </tr>\n",
       "    <tr>\n",
       "      <th>15082</th>\n",
       "      <td>8144.141029</td>\n",
       "      <td>11.923062</td>\n",
       "    </tr>\n",
       "    <tr>\n",
       "      <th>15083</th>\n",
       "      <td>8142.653083</td>\n",
       "      <td>9.629806</td>\n",
       "    </tr>\n",
       "    <tr>\n",
       "      <th>15084</th>\n",
       "      <td>8141.089371</td>\n",
       "      <td>9.520013</td>\n",
       "    </tr>\n",
       "    <tr>\n",
       "      <th>15087</th>\n",
       "      <td>8144.032337</td>\n",
       "      <td>10.011318</td>\n",
       "    </tr>\n",
       "    <tr>\n",
       "      <th>15092</th>\n",
       "      <td>8146.902995</td>\n",
       "      <td>12.514134</td>\n",
       "    </tr>\n",
       "    <tr>\n",
       "      <th>15093</th>\n",
       "      <td>8143.818564</td>\n",
       "      <td>14.216623</td>\n",
       "    </tr>\n",
       "    <tr>\n",
       "      <th>15094</th>\n",
       "      <td>8150.506910</td>\n",
       "      <td>14.323530</td>\n",
       "    </tr>\n",
       "    <tr>\n",
       "      <th>15097</th>\n",
       "      <td>8145.261590</td>\n",
       "      <td>13.744230</td>\n",
       "    </tr>\n",
       "    <tr>\n",
       "      <th>15099</th>\n",
       "      <td>8140.603569</td>\n",
       "      <td>7.507237</td>\n",
       "    </tr>\n",
       "    <tr>\n",
       "      <th>15101</th>\n",
       "      <td>8140.448905</td>\n",
       "      <td>6.885582</td>\n",
       "    </tr>\n",
       "    <tr>\n",
       "      <th>15102</th>\n",
       "      <td>8137.649210</td>\n",
       "      <td>4.698761</td>\n",
       "    </tr>\n",
       "    <tr>\n",
       "      <th>15105</th>\n",
       "      <td>8140.731456</td>\n",
       "      <td>8.319253</td>\n",
       "    </tr>\n",
       "    <tr>\n",
       "      <th>15106</th>\n",
       "      <td>8140.185234</td>\n",
       "      <td>8.292742</td>\n",
       "    </tr>\n",
       "  </tbody>\n",
       "</table>\n",
       "</div>"
      ],
      "text/plain": [
       "                 J          N\n",
       "14999  8162.504002   5.527511\n",
       "15011  8156.384831   7.359789\n",
       "15016  8159.199238   6.532958\n",
       "15020  8159.200889   5.895933\n",
       "15025  8153.934051   9.326749\n",
       "15027  8154.492655   9.986718\n",
       "15031  8153.330890  10.152119\n",
       "15035  8152.841605  10.759362\n",
       "15037  8156.021641  10.231306\n",
       "15044  8156.166975   9.148720\n",
       "15049  8149.775754  13.413394\n",
       "15054  8150.504981  13.726156\n",
       "15057  8159.111875  10.563015\n",
       "15060  8152.736948  12.549981\n",
       "15063  8152.512573  14.382749\n",
       "15065  8146.496916  13.407260\n",
       "15070  8146.942295  14.199003\n",
       "15073  8143.989359  13.660392\n",
       "15076  8140.786816  10.111637\n",
       "15080  8143.799766  11.698237\n",
       "15082  8144.141029  11.923062\n",
       "15083  8142.653083   9.629806\n",
       "15084  8141.089371   9.520013\n",
       "15087  8144.032337  10.011318\n",
       "15092  8146.902995  12.514134\n",
       "15093  8143.818564  14.216623\n",
       "15094  8150.506910  14.323530\n",
       "15097  8145.261590  13.744230\n",
       "15099  8140.603569   7.507237\n",
       "15101  8140.448905   6.885582\n",
       "15102  8137.649210   4.698761\n",
       "15105  8140.731456   8.319253\n",
       "15106  8140.185234   8.292742"
      ]
     },
     "execution_count": 2,
     "metadata": {},
     "output_type": "execute_result"
    }
   ],
   "source": [
    "df1 = pd.read_pickle(\"df1.pkl\")\n",
    "df2 = pd.read_pickle(\"df2.pkl\")\n",
    "df1"
   ]
  },
  {
   "cell_type": "markdown",
   "metadata": {},
   "source": [
    "### Low amplitudes distort the fit and are negligible therefore we define a lower threshold for N"
   ]
  },
  {
   "cell_type": "code",
   "execution_count": 3,
   "metadata": {},
   "outputs": [],
   "source": [
    "threshold = 0.4\n",
    "df1.sort_values(\"N\")\n",
    "max_N = max(df1[\"N\"])\n",
    "df1 = df1[df1[\"N\"]>=threshold*max_N]\n"
   ]
  },
  {
   "cell_type": "markdown",
   "metadata": {},
   "source": [
    "### We extract the frequency value for maximum value of the amplitude. This serves as the initial value for one decision variable."
   ]
  },
  {
   "cell_type": "code",
   "execution_count": 4,
   "metadata": {},
   "outputs": [],
   "source": [
    "df_max=df1[df1[\"N\"]==max(df1[\"N\"])]\n",
    "initial_Oeig = df_max[\"J\"].values[0]\n",
    "max_N = df_max[\"N\"].values[0]"
   ]
  },
  {
   "cell_type": "markdown",
   "metadata": {},
   "source": [
    "### We also have to define the other two initial guesses"
   ]
  },
  {
   "cell_type": "code",
   "execution_count": 5,
   "metadata": {},
   "outputs": [],
   "source": [
    "initial_D = 0.006\n",
    "initial_F = 0.120\n",
    "\n",
    "initial_values = [initial_Oeig, initial_D, initial_F]"
   ]
  },
  {
   "cell_type": "markdown",
   "metadata": {},
   "source": [
    "### Additionally we define the bounds for the decision variables\n",
    "\n"
   ]
  },
  {
   "cell_type": "code",
   "execution_count": 6,
   "metadata": {},
   "outputs": [],
   "source": [
    "min_Oerr = min(df1[\"J\"])\n",
    "max_Oerr = max(df1[\"J\"])"
   ]
  },
  {
   "cell_type": "code",
   "execution_count": 7,
   "metadata": {},
   "outputs": [],
   "source": [
    "bounds = [(min_Oerr, max_Oerr), (0, 0.03), (0, 1)]"
   ]
  },
  {
   "cell_type": "markdown",
   "metadata": {},
   "source": [
    "### Then we define the objective function"
   ]
  },
  {
   "cell_type": "code",
   "execution_count": 8,
   "metadata": {},
   "outputs": [],
   "source": [
    "def one_mass_oscillator(params, Oerr) -> np.ndarray:\n",
    "    # returns amplitudes of the system\n",
    "    # Defines the model of a one mass oscilator \n",
    "    Oeig, D, F = params\n",
    "    nue = Oerr / Oeig\n",
    "    V = F / (np.sqrt((1 - nue**2) ** 2 + (4 * D**2 * nue**2)))\n",
    "    return V"
   ]
  },
  {
   "cell_type": "code",
   "execution_count": 9,
   "metadata": {},
   "outputs": [],
   "source": [
    "def objective_function(params, Oerr, amplitudes) -> np.ndarray:\n",
    "    # objective function to compare calculated and real amplitudes\n",
    "    return np.sum((amplitudes - one_mass_oscillator(params, Oerr)) ** 2)"
   ]
  },
  {
   "cell_type": "markdown",
   "metadata": {},
   "source": [
    "### We define the options and start the optimization process"
   ]
  },
  {
   "cell_type": "code",
   "execution_count": 10,
   "metadata": {},
   "outputs": [],
   "source": [
    "options = {\n",
    "    \"maxfun\": 100000,\n",
    "    \"ftol\": 1e-9,\n",
    "    \"xtol\": 1e-9,\n",
    "    \"stepmx\": 10,\n",
    "    \"eta\": 0.25,\n",
    "    \"gtol\": 1e-5}\n"
   ]
  },
  {
   "cell_type": "code",
   "execution_count": 11,
   "metadata": {},
   "outputs": [],
   "source": [
    "J = np.array(df1[\"J\"]) # measured frequency\n",
    "N = np.array(df1[\"N\"]) # measured amplitude"
   ]
  },
  {
   "cell_type": "code",
   "execution_count": 12,
   "metadata": {},
   "outputs": [
    {
     "name": "stderr",
     "output_type": "stream",
     "text": [
      "/var/folders/dw/pvtj6mt91znd0hftcztqb0k00000gn/T/ipykernel_69272/2959858538.py:1: OptimizeWarning: Unknown solver options: maxfun, ftol, xtol, stepmx, eta, gtol\n",
      "  result = minimize(\n"
     ]
    }
   ],
   "source": [
    "result = minimize(\n",
    "    objective_function,\n",
    "    initial_values,\n",
    "    args=(J, N),\n",
    "    method='Nelder-Mead',\n",
    "    bounds=bounds,\n",
    "    options=options)\n"
   ]
  },
  {
   "cell_type": "markdown",
   "metadata": {},
   "source": [
    "### Then we can observe the results"
   ]
  },
  {
   "cell_type": "code",
   "execution_count": 13,
   "metadata": {},
   "outputs": [],
   "source": [
    "\n",
    "# map optimized values to variables\n",
    "resonant_frequency = result.x[0]\n",
    "D = result.x[1]\n",
    "F = result.x[2]\n",
    "# predict the resonant amplitude with the fitted one mass oscillator.\n",
    "X_pred = np.linspace(min_Oerr, max_Oerr, 1000)\n",
    "ypred_one_mass_oscillator = one_mass_oscillator(result.x, X_pred)\n",
    "resonant_amplitude = max(ypred_one_mass_oscillator)\n"
   ]
  },
  {
   "cell_type": "code",
   "execution_count": 14,
   "metadata": {},
   "outputs": [
    {
     "data": {
      "text/plain": [
       "       message: Optimization terminated successfully.\n",
       "       success: True\n",
       "        status: 0\n",
       "           fun: 53.5414407415841\n",
       "             x: [ 8.148e+03  7.434e-04  2.153e-02]\n",
       "           nit: 99\n",
       "          nfev: 175\n",
       " final_simplex: (array([[ 8.148e+03,  7.434e-04,  2.153e-02],\n",
       "                       [ 8.148e+03,  7.435e-04,  2.153e-02],\n",
       "                       [ 8.148e+03,  7.435e-04,  2.153e-02],\n",
       "                       [ 8.148e+03,  7.435e-04,  2.153e-02]]), array([ 5.354e+01,  5.354e+01,  5.354e+01,  5.354e+01]))"
      ]
     },
     "execution_count": 14,
     "metadata": {},
     "output_type": "execute_result"
    }
   ],
   "source": [
    "result"
   ]
  },
  {
   "cell_type": "markdown",
   "metadata": {},
   "source": [
    "### Finally, we can plot the optimized fit and the real values"
   ]
  },
  {
   "cell_type": "code",
   "execution_count": 15,
   "metadata": {},
   "outputs": [
    {
     "data": {
      "text/plain": [
       "<matplotlib.collections.PathCollection at 0x17644e050>"
      ]
     },
     "execution_count": 15,
     "metadata": {},
     "output_type": "execute_result"
    },
    {
     "data": {
      "image/png": "[encoded data removed]",
      "text/plain": [
       "<Figure size 640x480 with 1 Axes>"
      ]
     },
     "metadata": {},
     "output_type": "display_data"
    }
   ],
   "source": [
    "plt.scatter(\n",
    "    df1[\"J\"],\n",
    "    df1[\"N\"],\n",
    "    color=\"black\",\n",
    "    label=\"Spektralpunkte filtered\",\n",
    "    zorder=5,\n",
    "    s=10,\n",
    ")\n",
    "# color the max amplitude point red\n",
    "plt.scatter(\n",
    "    initial_Oeig,\n",
    "    max_N,\n",
    "    color=\"red\",\n",
    "    label=\"Max Amplitude\",\n",
    "    zorder=5,\n",
    "    s=10,\n",
    ")\n",
    "\n",
    "plt.plot(\n",
    "        X_pred,\n",
    "        ypred_one_mass_oscillator,\n",
    "        label=\"Alpha\",\n",
    "        color=\"blue\",\n",
    "        linewidth=1,\n",
    "    )\n",
    "plt.scatter(\n",
    "    resonant_frequency,\n",
    "    resonant_amplitude,\n",
    "    color=\"blue\",\n",
    "    label=\"Max Curve Fit\",\n",
    "    zorder=10,\n",
    "    s=20,\n",
    ")\n"
   ]
  },
  {
   "cell_type": "markdown",
   "metadata": {},
   "source": [
    "### Task for the Project Work\n",
    "\n",
    "Experiment with various optimizers to identify the optimal parameter setup for the one-mass oscillator model and both data frames. Please explain your thoughts and ideas, and subsequently compare the results obtained from different optimizers."
   ]
  },
  {
   "cell_type": "markdown",
   "metadata": {},
   "source": []
  }
 ],
 "metadata": {
  "kernelspec": {
   "display_name": "py3.10",
   "language": "python",
   "name": "python3"
  },
  "language_info": {
   "codemirror_mode": {
    "name": "ipython",
    "version": 3
   },
   "file_extension": ".py",
   "mimetype": "text/x-python",
   "name": "python",
   "nbconvert_exporter": "python",
   "pygments_lexer": "ipython3",
   "version": "3.11.7"
  }
 },
 "nbformat": 4,
 "nbformat_minor": 2
}
