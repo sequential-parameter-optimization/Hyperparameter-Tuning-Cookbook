{
 "cells": [
  {
   "cell_type": "markdown",
   "id": "14756202",
   "metadata": {},
   "source": [
    "---\n",
    "execute:\n",
    "  cache: false\n",
    "  eval: true\n",
    "  echo: true\n",
    "  warning: false\n",
    "title: Hyperparameter Tuning with `spotpython` and `PyTorch` Lightning Using a CondNet Model\n",
    "jupyter: python3\n",
    "---"
   ]
  },
  {
   "cell_type": "code",
   "execution_count": 1,
   "id": "user-user-imports",
   "metadata": {},
   "outputs": [],
   "source": [
    "#| label: 608_user-user-imports\n",
    "#| echo: false\n",
    "import os\n",
    "from math import inf\n",
    "import warnings\n",
    "warnings.filterwarnings(\"ignore\")"
   ]
  },
  {
   "cell_type": "markdown",
   "id": "dc80a8d5",
   "metadata": {},
   "source": [
    "* We use the `Diabetes` dataset to illustrate the hyperparameter tuning process of a `CondNet` model using the `spotpython` package.\n",
    "* The CondNet model is a conditional neural network that can be used to model conditional distributions [[LINK]](https://sequential-parameter-optimization.github.io/spotPython/reference/spotpython/light/regression/nn_condnet_regressor/).\n"
   ]
  },
  {
   "cell_type": "code",
   "execution_count": 2,
   "id": "cond_net_setup",
   "metadata": {},
   "outputs": [
    {
     "name": "stderr",
     "output_type": "stream",
     "text": [
      "Seed set to 123\n"
     ]
    },
    {
     "name": "stderr",
     "output_type": "stream",
     "text": [
      "Seed set to 123\n"
     ]
    },
    {
     "name": "stdout",
     "output_type": "stream",
     "text": [
      "module_name: light\n",
      "submodule_name: regression\n",
      "model_name: NNCondNetRegressor\n",
      "| name           | type   | default   |   lower |   upper | transform             |\n",
      "|----------------|--------|-----------|---------|---------|-----------------------|\n",
      "| l1             | int    | 3         |     3   |   4     | transform_power_2_int |\n",
      "| epochs         | int    | 4         |     3   |   7     | transform_power_2_int |\n",
      "| batch_size     | int    | 4         |     4   |   5     | transform_power_2_int |\n",
      "| act_fn         | factor | ReLU      |     0   |   5     | None                  |\n",
      "| optimizer      | factor | SGD       |     0   |   2     | None                  |\n",
      "| dropout_prob   | float  | 0.01      |     0   |   0.025 | None                  |\n",
      "| lr_mult        | float  | 1.0       |     0.1 |  20     | None                  |\n",
      "| patience       | int    | 2         |     2   |   3     | transform_power_2_int |\n",
      "| batch_norm     | factor | 0         |     0   |   1     | None                  |\n",
      "| initialization | factor | Default   |     0   |   4     | None                  |\n"
     ]
    }
   ],
   "source": [
    "#| label: 608_cond_net_setup\n",
    "from spotpython.data.diabetes import Diabetes\n",
    "from spotpython.hyperdict.light_hyper_dict import LightHyperDict\n",
    "from spotpython.fun.hyperlight import HyperLight\n",
    "from spotpython.utils.init import (fun_control_init, surrogate_control_init, design_control_init)\n",
    "from spotpython.utils.eda import gen_design_table\n",
    "from spotpython.spot import spot\n",
    "from spotpython.utils.file import get_experiment_filename\n",
    "from math import inf\n",
    "from spotpython.hyperparameters.values import set_hyperparameter\n",
    "\n",
    "PREFIX=\"CondNet_01\"\n",
    "\n",
    "data_set = Diabetes()\n",
    "input_dim = 10\n",
    "output_dim = 1\n",
    "cond_dim = 2\n",
    "\n",
    "fun_control = fun_control_init(\n",
    "    PREFIX=PREFIX,\n",
    "    fun_evals=inf,\n",
    "    max_time=1,\n",
    "    data_set = data_set,\n",
    "    core_model_name=\"light.regression.NNCondNetRegressor\",\n",
    "    hyperdict=LightHyperDict,\n",
    "    _L_in=input_dim - cond_dim,\n",
    "    _L_out=1,\n",
    "    _L_cond=cond_dim,)\n",
    "\n",
    "fun = HyperLight().fun\n",
    "\n",
    "\n",
    "set_hyperparameter(fun_control, \"optimizer\", [ \"Adadelta\", \"Adam\", \"Adamax\"])\n",
    "set_hyperparameter(fun_control, \"l1\", [3,4])\n",
    "set_hyperparameter(fun_control, \"epochs\", [3,7])\n",
    "set_hyperparameter(fun_control, \"batch_size\", [4,5])\n",
    "set_hyperparameter(fun_control, \"dropout_prob\", [0.0, 0.025])\n",
    "set_hyperparameter(fun_control, \"patience\", [2,3])\n",
    "set_hyperparameter(fun_control, \"lr_mult\", [0.1, 20.0])\n",
    "\n",
    "design_control = design_control_init(init_size=10)\n",
    "\n",
    "print(gen_design_table(fun_control))"
   ]
  },
  {
   "cell_type": "code",
   "execution_count": 3,
   "id": "cond_net_run",
   "metadata": {},
   "outputs": [
    {
     "name": "stderr",
     "output_type": "stream",
     "text": [
      "GPU available: True (mps), used: True\n"
     ]
    },
    {
     "name": "stderr",
     "output_type": "stream",
     "text": [
      "TPU available: False, using: 0 TPU cores\n"
     ]
    },
    {
     "name": "stderr",
     "output_type": "stream",
     "text": [
      "HPU available: False, using: 0 HPUs\n"
     ]
    },
    {
     "name": "stderr",
     "output_type": "stream",
     "text": [
      "\n",
      "  | Name       | Type             | Params | Mode  | In sizes           | Out sizes\n",
      "-----------------------------------------------------------------------------------------\n",
      "0 | cond_layer | ConditionalLayer | 192    | train | [[32, 8], [32, 2]] | [32, 16] \n",
      "1 | layers     | Sequential       | 587    | train | [32, 16]           | [32, 1]  \n",
      "-----------------------------------------------------------------------------------------\n",
      "779       Trainable params\n",
      "0         Non-trainable params\n",
      "779       Total params\n",
      "0.003     Total estimated model params size (MB)\n",
      "26        Modules in train mode\n",
      "0         Modules in eval mode\n"
     ]
    },
    {
     "name": "stderr",
     "output_type": "stream",
     "text": [
      "`Trainer.fit` stopped: `max_epochs=16` reached.\n"
     ]
    },
    {
     "name": "stderr",
     "output_type": "stream",
     "text": [
      "GPU available: True (mps), used: True\n"
     ]
    },
    {
     "name": "stderr",
     "output_type": "stream",
     "text": [
      "TPU available: False, using: 0 TPU cores\n"
     ]
    },
    {
     "name": "stderr",
     "output_type": "stream",
     "text": [
      "HPU available: False, using: 0 HPUs\n"
     ]
    },
    {
     "name": "stderr",
     "output_type": "stream",
     "text": [
      "\n",
      "  | Name       | Type             | Params | Mode  | In sizes           | Out sizes\n",
      "-----------------------------------------------------------------------------------------\n",
      "0 | cond_layer | ConditionalLayer | 96     | train | [[16, 8], [16, 2]] | [16, 8]  \n",
      "1 | layers     | Sequential       | 153    | train | [16, 8]            | [16, 1]  \n",
      "-----------------------------------------------------------------------------------------\n",
      "249       Trainable params\n",
      "0         Non-trainable params\n",
      "249       Total params\n",
      "0.001     Total estimated model params size (MB)\n",
      "18        Modules in train mode\n",
      "0         Modules in eval mode\n"
     ]
    },
    {
     "name": "stdout",
     "output_type": "stream",
     "text": [
      "train_model result: {'val_loss': 24158.83203125, 'hp_metric': 24158.83203125}\n"
     ]
    },
    {
     "name": "stderr",
     "output_type": "stream",
     "text": [
      "`Trainer.fit` stopped: `max_epochs=32` reached.\n"
     ]
    },
    {
     "name": "stderr",
     "output_type": "stream",
     "text": [
      "GPU available: True (mps), used: True\n"
     ]
    },
    {
     "name": "stderr",
     "output_type": "stream",
     "text": [
      "TPU available: False, using: 0 TPU cores\n"
     ]
    },
    {
     "name": "stderr",
     "output_type": "stream",
     "text": [
      "HPU available: False, using: 0 HPUs\n"
     ]
    },
    {
     "name": "stderr",
     "output_type": "stream",
     "text": [
      "\n",
      "  | Name       | Type             | Params | Mode  | In sizes           | Out sizes\n",
      "-----------------------------------------------------------------------------------------\n",
      "0 | cond_layer | ConditionalLayer | 192    | train | [[32, 8], [32, 2]] | [32, 16] \n",
      "1 | layers     | Sequential       | 691    | train | [32, 16]           | [32, 1]  \n",
      "-----------------------------------------------------------------------------------------\n",
      "883       Trainable params\n",
      "0         Non-trainable params\n",
      "883       Total params\n",
      "0.004     Total estimated model params size (MB)\n",
      "36        Modules in train mode\n",
      "0         Modules in eval mode\n"
     ]
    },
    {
     "name": "stdout",
     "output_type": "stream",
     "text": [
      "train_model result: {'val_loss': 23447.546875, 'hp_metric': 23447.546875}\n"
     ]
    },
    {
     "name": "stderr",
     "output_type": "stream",
     "text": [
      "GPU available: True (mps), used: True\n"
     ]
    },
    {
     "name": "stderr",
     "output_type": "stream",
     "text": [
      "TPU available: False, using: 0 TPU cores\n"
     ]
    },
    {
     "name": "stderr",
     "output_type": "stream",
     "text": [
      "HPU available: False, using: 0 HPUs\n"
     ]
    },
    {
     "name": "stderr",
     "output_type": "stream",
     "text": [
      "\n",
      "  | Name       | Type             | Params | Mode  | In sizes           | Out sizes\n",
      "-----------------------------------------------------------------------------------------\n",
      "0 | cond_layer | ConditionalLayer | 96     | train | [[32, 8], [32, 2]] | [32, 8]  \n",
      "1 | layers     | Sequential       | 197    | train | [32, 8]            | [32, 1]  \n",
      "-----------------------------------------------------------------------------------------\n",
      "293       Trainable params\n",
      "0         Non-trainable params\n",
      "293       Total params\n",
      "0.001     Total estimated model params size (MB)\n",
      "24        Modules in train mode\n",
      "0         Modules in eval mode\n"
     ]
    },
    {
     "name": "stdout",
     "output_type": "stream",
     "text": [
      "train_model result: {'val_loss': 7307.08984375, 'hp_metric': 7307.08984375}\n"
     ]
    },
    {
     "name": "stderr",
     "output_type": "stream",
     "text": [
      "`Trainer.fit` stopped: `max_epochs=8` reached.\n"
     ]
    },
    {
     "name": "stderr",
     "output_type": "stream",
     "text": [
      "GPU available: True (mps), used: True\n"
     ]
    },
    {
     "name": "stderr",
     "output_type": "stream",
     "text": [
      "TPU available: False, using: 0 TPU cores\n"
     ]
    },
    {
     "name": "stderr",
     "output_type": "stream",
     "text": [
      "HPU available: False, using: 0 HPUs\n"
     ]
    },
    {
     "name": "stderr",
     "output_type": "stream",
     "text": [
      "\n",
      "  | Name       | Type             | Params | Mode  | In sizes           | Out sizes\n",
      "-----------------------------------------------------------------------------------------\n",
      "0 | cond_layer | ConditionalLayer | 192    | train | [[16, 8], [16, 2]] | [16, 16] \n",
      "1 | layers     | Sequential       | 691    | train | [16, 16]           | [16, 1]  \n",
      "-----------------------------------------------------------------------------------------\n",
      "883       Trainable params\n",
      "0         Non-trainable params\n",
      "883       Total params\n",
      "0.004     Total estimated model params size (MB)\n",
      "36        Modules in train mode\n",
      "0         Modules in eval mode\n"
     ]
    },
    {
     "name": "stdout",
     "output_type": "stream",
     "text": [
      "train_model result: {'val_loss': 23786.861328125, 'hp_metric': 23786.861328125}\n"
     ]
    },
    {
     "name": "stderr",
     "output_type": "stream",
     "text": [
      "`Trainer.fit` stopped: `max_epochs=32` reached.\n"
     ]
    },
    {
     "name": "stderr",
     "output_type": "stream",
     "text": [
      "GPU available: True (mps), used: True\n"
     ]
    },
    {
     "name": "stderr",
     "output_type": "stream",
     "text": [
      "TPU available: False, using: 0 TPU cores\n"
     ]
    },
    {
     "name": "stderr",
     "output_type": "stream",
     "text": [
      "HPU available: False, using: 0 HPUs\n"
     ]
    },
    {
     "name": "stderr",
     "output_type": "stream",
     "text": [
      "\n",
      "  | Name       | Type             | Params | Mode  | In sizes           | Out sizes\n",
      "-----------------------------------------------------------------------------------------\n",
      "0 | cond_layer | ConditionalLayer | 192    | train | [[16, 8], [16, 2]] | [16, 16] \n",
      "1 | layers     | Sequential       | 587    | train | [16, 16]           | [16, 1]  \n",
      "-----------------------------------------------------------------------------------------\n",
      "779       Trainable params\n",
      "0         Non-trainable params\n",
      "779       Total params\n",
      "0.003     Total estimated model params size (MB)\n",
      "26        Modules in train mode\n",
      "0         Modules in eval mode\n"
     ]
    },
    {
     "name": "stdout",
     "output_type": "stream",
     "text": [
      "train_model result: {'val_loss': 22770.90625, 'hp_metric': 22770.90625}\n"
     ]
    },
    {
     "name": "stderr",
     "output_type": "stream",
     "text": [
      "`Trainer.fit` stopped: `max_epochs=16` reached.\n"
     ]
    },
    {
     "name": "stderr",
     "output_type": "stream",
     "text": [
      "GPU available: True (mps), used: True\n"
     ]
    },
    {
     "name": "stderr",
     "output_type": "stream",
     "text": [
      "TPU available: False, using: 0 TPU cores\n"
     ]
    },
    {
     "name": "stderr",
     "output_type": "stream",
     "text": [
      "HPU available: False, using: 0 HPUs\n"
     ]
    },
    {
     "name": "stderr",
     "output_type": "stream",
     "text": [
      "\n",
      "  | Name       | Type             | Params | Mode  | In sizes           | Out sizes\n",
      "-----------------------------------------------------------------------------------------\n",
      "0 | cond_layer | ConditionalLayer | 96     | train | [[32, 8], [32, 2]] | [32, 8]  \n",
      "1 | layers     | Sequential       | 153    | train | [32, 8]            | [32, 1]  \n",
      "-----------------------------------------------------------------------------------------\n",
      "249       Trainable params\n",
      "0         Non-trainable params\n",
      "249       Total params\n",
      "0.001     Total estimated model params size (MB)\n",
      "18        Modules in train mode\n",
      "0         Modules in eval mode\n"
     ]
    },
    {
     "name": "stdout",
     "output_type": "stream",
     "text": [
      "train_model result: {'val_loss': 23846.84375, 'hp_metric': 23846.84375}\n"
     ]
    },
    {
     "name": "stderr",
     "output_type": "stream",
     "text": [
      "`Trainer.fit` stopped: `max_epochs=8` reached.\n"
     ]
    },
    {
     "name": "stderr",
     "output_type": "stream",
     "text": [
      "GPU available: True (mps), used: True\n"
     ]
    },
    {
     "name": "stderr",
     "output_type": "stream",
     "text": [
      "TPU available: False, using: 0 TPU cores\n"
     ]
    },
    {
     "name": "stderr",
     "output_type": "stream",
     "text": [
      "HPU available: False, using: 0 HPUs\n"
     ]
    },
    {
     "name": "stderr",
     "output_type": "stream",
     "text": [
      "\n",
      "  | Name       | Type             | Params | Mode  | In sizes           | Out sizes\n",
      "-----------------------------------------------------------------------------------------\n",
      "0 | cond_layer | ConditionalLayer | 96     | train | [[16, 8], [16, 2]] | [16, 8]  \n",
      "1 | layers     | Sequential       | 197    | train | [16, 8]            | [16, 1]  \n",
      "-----------------------------------------------------------------------------------------\n",
      "293       Trainable params\n",
      "0         Non-trainable params\n",
      "293       Total params\n",
      "0.001     Total estimated model params size (MB)\n",
      "24        Modules in train mode\n",
      "0         Modules in eval mode\n"
     ]
    },
    {
     "name": "stdout",
     "output_type": "stream",
     "text": [
      "train_model result: {'val_loss': 23610.291015625, 'hp_metric': 23610.291015625}\n"
     ]
    },
    {
     "name": "stderr",
     "output_type": "stream",
     "text": [
      "GPU available: True (mps), used: True\n"
     ]
    },
    {
     "name": "stderr",
     "output_type": "stream",
     "text": [
      "TPU available: False, using: 0 TPU cores\n"
     ]
    },
    {
     "name": "stderr",
     "output_type": "stream",
     "text": [
      "HPU available: False, using: 0 HPUs\n"
     ]
    },
    {
     "name": "stderr",
     "output_type": "stream",
     "text": [
      "\n",
      "  | Name       | Type             | Params | Mode  | In sizes           | Out sizes\n",
      "-----------------------------------------------------------------------------------------\n",
      "0 | cond_layer | ConditionalLayer | 96     | train | [[16, 8], [16, 2]] | [16, 8]  \n",
      "1 | layers     | Sequential       | 153    | train | [16, 8]            | [16, 1]  \n",
      "-----------------------------------------------------------------------------------------\n",
      "249       Trainable params\n",
      "0         Non-trainable params\n",
      "249       Total params\n",
      "0.001     Total estimated model params size (MB)\n",
      "18        Modules in train mode\n",
      "0         Modules in eval mode\n"
     ]
    },
    {
     "name": "stdout",
     "output_type": "stream",
     "text": [
      "train_model result: {'val_loss': 4652.201171875, 'hp_metric': 4652.201171875}\n"
     ]
    },
    {
     "name": "stderr",
     "output_type": "stream",
     "text": [
      "`Trainer.fit` stopped: `max_epochs=32` reached.\n"
     ]
    },
    {
     "name": "stderr",
     "output_type": "stream",
     "text": [
      "GPU available: True (mps), used: True\n"
     ]
    },
    {
     "name": "stderr",
     "output_type": "stream",
     "text": [
      "TPU available: False, using: 0 TPU cores\n"
     ]
    },
    {
     "name": "stderr",
     "output_type": "stream",
     "text": [
      "HPU available: False, using: 0 HPUs\n"
     ]
    },
    {
     "name": "stderr",
     "output_type": "stream",
     "text": [
      "\n",
      "  | Name       | Type             | Params | Mode  | In sizes           | Out sizes\n",
      "-----------------------------------------------------------------------------------------\n",
      "0 | cond_layer | ConditionalLayer | 192    | train | [[32, 8], [32, 2]] | [32, 16] \n",
      "1 | layers     | Sequential       | 691    | train | [32, 16]           | [32, 1]  \n",
      "-----------------------------------------------------------------------------------------\n",
      "883       Trainable params\n",
      "0         Non-trainable params\n",
      "883       Total params\n",
      "0.004     Total estimated model params size (MB)\n",
      "36        Modules in train mode\n",
      "0         Modules in eval mode\n"
     ]
    },
    {
     "name": "stdout",
     "output_type": "stream",
     "text": [
      "train_model result: {'val_loss': 22452.896484375, 'hp_metric': 22452.896484375}\n"
     ]
    },
    {
     "name": "stdout",
     "output_type": "stream",
     "text": [
      "train_model result: {'val_loss': 22722.826171875, 'hp_metric': 22722.826171875}\n"
     ]
    },
    {
     "name": "stderr",
     "output_type": "stream",
     "text": [
      "GPU available: True (mps), used: True\n"
     ]
    },
    {
     "name": "stderr",
     "output_type": "stream",
     "text": [
      "TPU available: False, using: 0 TPU cores\n"
     ]
    },
    {
     "name": "stderr",
     "output_type": "stream",
     "text": [
      "HPU available: False, using: 0 HPUs\n"
     ]
    },
    {
     "name": "stderr",
     "output_type": "stream",
     "text": [
      "\n",
      "  | Name       | Type             | Params | Mode  | In sizes           | Out sizes\n",
      "-----------------------------------------------------------------------------------------\n",
      "0 | cond_layer | ConditionalLayer | 96     | train | [[16, 8], [16, 2]] | [16, 8]  \n",
      "1 | layers     | Sequential       | 197    | train | [16, 8]            | [16, 1]  \n",
      "-----------------------------------------------------------------------------------------\n",
      "293       Trainable params\n",
      "0         Non-trainable params\n",
      "293       Total params\n",
      "0.001     Total estimated model params size (MB)\n",
      "24        Modules in train mode\n",
      "0         Modules in eval mode\n"
     ]
    },
    {
     "name": "stdout",
     "output_type": "stream",
     "text": [
      "train_model result: {'val_loss': 3839.544921875, 'hp_metric': 3839.544921875}\n",
      "In update_writer().\n",
      "No spot_writer available.\n"
     ]
    },
    {
     "name": "stdout",
     "output_type": "stream",
     "text": [
      "spotpython tuning: 3839.544921875 [----------] 3.74% \r\n"
     ]
    },
    {
     "name": "stderr",
     "output_type": "stream",
     "text": [
      "GPU available: True (mps), used: True\n"
     ]
    },
    {
     "name": "stderr",
     "output_type": "stream",
     "text": [
      "TPU available: False, using: 0 TPU cores\n"
     ]
    },
    {
     "name": "stderr",
     "output_type": "stream",
     "text": [
      "HPU available: False, using: 0 HPUs\n"
     ]
    },
    {
     "name": "stderr",
     "output_type": "stream",
     "text": [
      "\n",
      "  | Name       | Type             | Params | Mode  | In sizes           | Out sizes\n",
      "-----------------------------------------------------------------------------------------\n",
      "0 | cond_layer | ConditionalLayer | 96     | train | [[16, 8], [16, 2]] | [16, 8]  \n",
      "1 | layers     | Sequential       | 197    | train | [16, 8]            | [16, 1]  \n",
      "-----------------------------------------------------------------------------------------\n",
      "293       Trainable params\n",
      "0         Non-trainable params\n",
      "293       Total params\n",
      "0.001     Total estimated model params size (MB)\n",
      "24        Modules in train mode\n",
      "0         Modules in eval mode\n"
     ]
    },
    {
     "name": "stdout",
     "output_type": "stream",
     "text": [
      "train_model result: {'val_loss': 4479.22265625, 'hp_metric': 4479.22265625}\n",
      "In update_writer().\n",
      "No spot_writer available.\n",
      "spotpython tuning: 3839.544921875 [#---------] 7.33% \r\n"
     ]
    },
    {
     "name": "stderr",
     "output_type": "stream",
     "text": [
      "GPU available: True (mps), used: True\n"
     ]
    },
    {
     "name": "stderr",
     "output_type": "stream",
     "text": [
      "TPU available: False, using: 0 TPU cores\n"
     ]
    },
    {
     "name": "stderr",
     "output_type": "stream",
     "text": [
      "HPU available: False, using: 0 HPUs\n"
     ]
    },
    {
     "name": "stderr",
     "output_type": "stream",
     "text": [
      "\n",
      "  | Name       | Type             | Params | Mode  | In sizes           | Out sizes\n",
      "-----------------------------------------------------------------------------------------\n",
      "0 | cond_layer | ConditionalLayer | 96     | train | [[16, 8], [16, 2]] | [16, 8]  \n",
      "1 | layers     | Sequential       | 197    | train | [16, 8]            | [16, 1]  \n",
      "-----------------------------------------------------------------------------------------\n",
      "293       Trainable params\n",
      "0         Non-trainable params\n",
      "293       Total params\n",
      "0.001     Total estimated model params size (MB)\n",
      "24        Modules in train mode\n",
      "0         Modules in eval mode\n"
     ]
    },
    {
     "name": "stdout",
     "output_type": "stream",
     "text": [
      "train_model result: {'val_loss': 3642.4208984375, 'hp_metric': 3642.4208984375}\n",
      "In update_writer().\n",
      "No spot_writer available.\n"
     ]
    },
    {
     "name": "stdout",
     "output_type": "stream",
     "text": [
      "spotpython tuning: 3642.4208984375 [#---------] 13.35% \r\n"
     ]
    },
    {
     "name": "stderr",
     "output_type": "stream",
     "text": [
      "GPU available: True (mps), used: True\n"
     ]
    },
    {
     "name": "stderr",
     "output_type": "stream",
     "text": [
      "TPU available: False, using: 0 TPU cores\n"
     ]
    },
    {
     "name": "stderr",
     "output_type": "stream",
     "text": [
      "HPU available: False, using: 0 HPUs\n"
     ]
    },
    {
     "name": "stderr",
     "output_type": "stream",
     "text": [
      "\n",
      "  | Name       | Type             | Params | Mode  | In sizes           | Out sizes\n",
      "-----------------------------------------------------------------------------------------\n",
      "0 | cond_layer | ConditionalLayer | 96     | train | [[16, 8], [16, 2]] | [16, 8]  \n",
      "1 | layers     | Sequential       | 197    | train | [16, 8]            | [16, 1]  \n",
      "-----------------------------------------------------------------------------------------\n",
      "293       Trainable params\n",
      "0         Non-trainable params\n",
      "293       Total params\n",
      "0.001     Total estimated model params size (MB)\n",
      "24        Modules in train mode\n",
      "0         Modules in eval mode\n"
     ]
    },
    {
     "name": "stdout",
     "output_type": "stream",
     "text": [
      "train_model result: {'val_loss': 3912.334716796875, 'hp_metric': 3912.334716796875}\n",
      "In update_writer().\n",
      "No spot_writer available.\n",
      "spotpython tuning: 3642.4208984375 [##--------] 19.57% \r\n"
     ]
    },
    {
     "name": "stderr",
     "output_type": "stream",
     "text": [
      "GPU available: True (mps), used: True\n"
     ]
    },
    {
     "name": "stderr",
     "output_type": "stream",
     "text": [
      "TPU available: False, using: 0 TPU cores\n"
     ]
    },
    {
     "name": "stderr",
     "output_type": "stream",
     "text": [
      "HPU available: False, using: 0 HPUs\n"
     ]
    },
    {
     "name": "stderr",
     "output_type": "stream",
     "text": [
      "\n",
      "  | Name       | Type             | Params | Mode  | In sizes           | Out sizes\n",
      "-----------------------------------------------------------------------------------------\n",
      "0 | cond_layer | ConditionalLayer | 96     | train | [[16, 8], [16, 2]] | [16, 8]  \n",
      "1 | layers     | Sequential       | 197    | train | [16, 8]            | [16, 1]  \n",
      "-----------------------------------------------------------------------------------------\n",
      "293       Trainable params\n",
      "0         Non-trainable params\n",
      "293       Total params\n",
      "0.001     Total estimated model params size (MB)\n",
      "24        Modules in train mode\n",
      "0         Modules in eval mode\n"
     ]
    },
    {
     "name": "stdout",
     "output_type": "stream",
     "text": [
      "train_model result: {'val_loss': 5815.0966796875, 'hp_metric': 5815.0966796875}\n",
      "In update_writer().\n",
      "No spot_writer available.\n"
     ]
    },
    {
     "name": "stdout",
     "output_type": "stream",
     "text": [
      "spotpython tuning: 3642.4208984375 [##--------] 23.66% \r\n"
     ]
    },
    {
     "name": "stderr",
     "output_type": "stream",
     "text": [
      "GPU available: True (mps), used: True\n"
     ]
    },
    {
     "name": "stderr",
     "output_type": "stream",
     "text": [
      "TPU available: False, using: 0 TPU cores\n"
     ]
    },
    {
     "name": "stderr",
     "output_type": "stream",
     "text": [
      "HPU available: False, using: 0 HPUs\n"
     ]
    },
    {
     "name": "stderr",
     "output_type": "stream",
     "text": [
      "\n",
      "  | Name       | Type             | Params | Mode  | In sizes           | Out sizes\n",
      "-----------------------------------------------------------------------------------------\n",
      "0 | cond_layer | ConditionalLayer | 96     | train | [[16, 8], [16, 2]] | [16, 8]  \n",
      "1 | layers     | Sequential       | 197    | train | [16, 8]            | [16, 1]  \n",
      "-----------------------------------------------------------------------------------------\n",
      "293       Trainable params\n",
      "0         Non-trainable params\n",
      "293       Total params\n",
      "0.001     Total estimated model params size (MB)\n",
      "24        Modules in train mode\n",
      "0         Modules in eval mode\n"
     ]
    },
    {
     "name": "stderr",
     "output_type": "stream",
     "text": [
      "`Trainer.fit` stopped: `max_epochs=128` reached.\n"
     ]
    },
    {
     "name": "stdout",
     "output_type": "stream",
     "text": [
      "train_model result: {'val_loss': 8211.8828125, 'hp_metric': 8211.8828125}\n",
      "In update_writer().\n",
      "No spot_writer available.\n",
      "spotpython tuning: 3642.4208984375 [######----] 57.15% \r\n"
     ]
    },
    {
     "name": "stderr",
     "output_type": "stream",
     "text": [
      "GPU available: True (mps), used: True\n"
     ]
    },
    {
     "name": "stderr",
     "output_type": "stream",
     "text": [
      "TPU available: False, using: 0 TPU cores\n"
     ]
    },
    {
     "name": "stderr",
     "output_type": "stream",
     "text": [
      "HPU available: False, using: 0 HPUs\n"
     ]
    },
    {
     "name": "stderr",
     "output_type": "stream",
     "text": [
      "\n",
      "  | Name       | Type             | Params | Mode  | In sizes           | Out sizes\n",
      "-----------------------------------------------------------------------------------------\n",
      "0 | cond_layer | ConditionalLayer | 96     | train | [[16, 8], [16, 2]] | [16, 8]  \n",
      "1 | layers     | Sequential       | 197    | train | [16, 8]            | [16, 1]  \n",
      "-----------------------------------------------------------------------------------------\n",
      "293       Trainable params\n",
      "0         Non-trainable params\n",
      "293       Total params\n",
      "0.001     Total estimated model params size (MB)\n",
      "24        Modules in train mode\n",
      "0         Modules in eval mode\n"
     ]
    },
    {
     "name": "stdout",
     "output_type": "stream",
     "text": [
      "train_model result: {'val_loss': 6238.09716796875, 'hp_metric': 6238.09716796875}\n",
      "In update_writer().\n",
      "No spot_writer available.\n"
     ]
    },
    {
     "name": "stdout",
     "output_type": "stream",
     "text": [
      "spotpython tuning: 3642.4208984375 [######----] 61.22% \r\n"
     ]
    },
    {
     "name": "stderr",
     "output_type": "stream",
     "text": [
      "GPU available: True (mps), used: True\n"
     ]
    },
    {
     "name": "stderr",
     "output_type": "stream",
     "text": [
      "TPU available: False, using: 0 TPU cores\n"
     ]
    },
    {
     "name": "stderr",
     "output_type": "stream",
     "text": [
      "HPU available: False, using: 0 HPUs\n"
     ]
    },
    {
     "name": "stderr",
     "output_type": "stream",
     "text": [
      "\n",
      "  | Name       | Type             | Params | Mode  | In sizes           | Out sizes\n",
      "-----------------------------------------------------------------------------------------\n",
      "0 | cond_layer | ConditionalLayer | 96     | train | [[16, 8], [16, 2]] | [16, 8]  \n",
      "1 | layers     | Sequential       | 197    | train | [16, 8]            | [16, 1]  \n",
      "-----------------------------------------------------------------------------------------\n",
      "293       Trainable params\n",
      "0         Non-trainable params\n",
      "293       Total params\n",
      "0.001     Total estimated model params size (MB)\n",
      "24        Modules in train mode\n",
      "0         Modules in eval mode\n"
     ]
    },
    {
     "name": "stderr",
     "output_type": "stream",
     "text": [
      "`Trainer.fit` stopped: `max_epochs=128` reached.\n"
     ]
    },
    {
     "name": "stdout",
     "output_type": "stream",
     "text": [
      "train_model result: {'val_loss': 18082.51953125, 'hp_metric': 18082.51953125}\n",
      "In update_writer().\n",
      "No spot_writer available.\n"
     ]
    },
    {
     "name": "stdout",
     "output_type": "stream",
     "text": [
      "spotpython tuning: 3642.4208984375 [#########-] 92.54% \r\n"
     ]
    },
    {
     "name": "stderr",
     "output_type": "stream",
     "text": [
      "GPU available: True (mps), used: True\n"
     ]
    },
    {
     "name": "stderr",
     "output_type": "stream",
     "text": [
      "TPU available: False, using: 0 TPU cores\n"
     ]
    },
    {
     "name": "stderr",
     "output_type": "stream",
     "text": [
      "HPU available: False, using: 0 HPUs\n"
     ]
    },
    {
     "name": "stderr",
     "output_type": "stream",
     "text": [
      "\n",
      "  | Name       | Type             | Params | Mode  | In sizes           | Out sizes\n",
      "-----------------------------------------------------------------------------------------\n",
      "0 | cond_layer | ConditionalLayer | 96     | train | [[16, 8], [16, 2]] | [16, 8]  \n",
      "1 | layers     | Sequential       | 197    | train | [16, 8]            | [16, 1]  \n",
      "-----------------------------------------------------------------------------------------\n",
      "293       Trainable params\n",
      "0         Non-trainable params\n",
      "293       Total params\n",
      "0.001     Total estimated model params size (MB)\n",
      "24        Modules in train mode\n",
      "0         Modules in eval mode\n"
     ]
    },
    {
     "name": "stdout",
     "output_type": "stream",
     "text": [
      "train_model result: {'val_loss': 4545.3212890625, 'hp_metric': 4545.3212890625}\n",
      "In update_writer().\n",
      "No spot_writer available.\n"
     ]
    },
    {
     "name": "stdout",
     "output_type": "stream",
     "text": [
      "spotpython tuning: 3642.4208984375 [##########] 99.59% \r\n"
     ]
    },
    {
     "name": "stderr",
     "output_type": "stream",
     "text": [
      "GPU available: True (mps), used: True\n"
     ]
    },
    {
     "name": "stderr",
     "output_type": "stream",
     "text": [
      "TPU available: False, using: 0 TPU cores\n"
     ]
    },
    {
     "name": "stderr",
     "output_type": "stream",
     "text": [
      "HPU available: False, using: 0 HPUs\n"
     ]
    },
    {
     "name": "stderr",
     "output_type": "stream",
     "text": [
      "\n",
      "  | Name       | Type             | Params | Mode  | In sizes           | Out sizes\n",
      "-----------------------------------------------------------------------------------------\n",
      "0 | cond_layer | ConditionalLayer | 96     | train | [[16, 8], [16, 2]] | [16, 8]  \n",
      "1 | layers     | Sequential       | 197    | train | [16, 8]            | [16, 1]  \n",
      "-----------------------------------------------------------------------------------------\n",
      "293       Trainable params\n",
      "0         Non-trainable params\n",
      "293       Total params\n",
      "0.001     Total estimated model params size (MB)\n",
      "24        Modules in train mode\n",
      "0         Modules in eval mode\n"
     ]
    },
    {
     "name": "stdout",
     "output_type": "stream",
     "text": [
      "train_model result: {'val_loss': 6086.51220703125, 'hp_metric': 6086.51220703125}\n",
      "In update_writer().\n",
      "No spot_writer available.\n"
     ]
    },
    {
     "name": "stdout",
     "output_type": "stream",
     "text": [
      "spotpython tuning: 3642.4208984375 [##########] 100.00% Done...\r\n",
      "\r\n"
     ]
    }
   ],
   "source": [
    "#| label: 608_cond_net_run\n",
    "spot_tuner = spot.Spot(fun=fun,fun_control=fun_control, design_control=design_control)\n",
    "res = spot_tuner.run()"
   ]
  },
  {
   "cell_type": "markdown",
   "id": "1cbdf4f6",
   "metadata": {},
   "source": [
    "## Looking at the Results\n",
    "\n",
    "### Tuning Progress\n",
    "\n",
    "After the hyperparameter tuning run is finished, the progress of the hyperparameter tuning can be visualized with `spotpython`'s method `plot_progress`. The black points represent the performace values (score or metric) of  hyperparameter configurations from the initial design, whereas the red points represents the  hyperparameter configurations found by the surrogate model based optimization.\n"
   ]
  },
  {
   "cell_type": "code",
   "execution_count": 4,
   "id": "97e8fc83",
   "metadata": {},
   "outputs": [
    {
     "data": {
      "application/pdf": "[encoded data removed]",
      "text/plain": [
       "<Figure size 2700x1800 with 1 Axes>"
      ]
     },
     "metadata": {},
     "output_type": "display_data"
    }
   ],
   "source": [
    "spot_tuner.plot_progress()"
   ]
  },
  {
   "cell_type": "markdown",
   "id": "34f4695c",
   "metadata": {},
   "source": [
    "### Tuned Hyperparameters and Their Importance\n",
    "\n",
    "Results can be printed in tabular form.\n"
   ]
  },
  {
   "cell_type": "code",
   "execution_count": 5,
   "id": "255b5f2d",
   "metadata": {},
   "outputs": [
    {
     "name": "stdout",
     "output_type": "stream",
     "text": [
      "| name           | type   | default   |   lower |   upper | tuned             | transform             |   importance | stars   |\n",
      "|----------------|--------|-----------|---------|---------|-------------------|-----------------------|--------------|---------|\n",
      "| l1             | int    | 3         |     3.0 |     4.0 | 3.0               | transform_power_2_int |         0.23 | .       |\n",
      "| epochs         | int    | 4         |     3.0 |     7.0 | 7.0               | transform_power_2_int |         2.42 | *       |\n",
      "| batch_size     | int    | 4         |     4.0 |     5.0 | 4.0               | transform_power_2_int |         6.14 | *       |\n",
      "| act_fn         | factor | ReLU      |     0.0 |     5.0 | Swish             | None                  |         0.06 |         |\n",
      "| optimizer      | factor | SGD       |     0.0 |     2.0 | Adadelta          | None                  |         0.02 |         |\n",
      "| dropout_prob   | float  | 0.01      |     0.0 |   0.025 | 0.025             | None                  |         0.01 |         |\n",
      "| lr_mult        | float  | 1.0       |     0.1 |    20.0 | 7.238064006094006 | None                  |        11.35 | *       |\n",
      "| patience       | int    | 2         |     2.0 |     3.0 | 2.0               | transform_power_2_int |        32.03 | *       |\n",
      "| batch_norm     | factor | 0         |     0.0 |     1.0 | 1                 | None                  |       100.00 | ***     |\n",
      "| initialization | factor | Default   |     0.0 |     4.0 | kaiming_uniform   | None                  |         0.00 |         |\n"
     ]
    }
   ],
   "source": [
    "from spotpython.utils.eda import gen_design_table\n",
    "print(gen_design_table(fun_control=fun_control, spot=spot_tuner))"
   ]
  },
  {
   "cell_type": "markdown",
   "id": "c5e165e2",
   "metadata": {},
   "source": [
    "A histogram can be used to visualize the most important hyperparameters.\n"
   ]
  },
  {
   "cell_type": "code",
   "execution_count": 6,
   "id": "acad1fa8",
   "metadata": {},
   "outputs": [
    {
     "data": {
      "application/pdf": "[encoded data removed]",
      "text/plain": [
       "<Figure size 1650x1050 with 1 Axes>"
      ]
     },
     "metadata": {},
     "output_type": "display_data"
    }
   ],
   "source": [
    "spot_tuner.plot_importance(threshold=1.0)"
   ]
  },
  {
   "cell_type": "code",
   "execution_count": 7,
   "id": "9aad8076",
   "metadata": {},
   "outputs": [
    {
     "name": "stdout",
     "output_type": "stream",
     "text": [
      "l1:  0.23245802662720985\n",
      "epochs:  2.422982746690775\n",
      "batch_size:  6.137227352565651\n",
      "act_fn:  0.05726140228501812\n",
      "optimizer:  0.016375544662219414\n",
      "dropout_prob:  0.010887476187303657\n",
      "lr_mult:  11.35277138039679\n",
      "patience:  32.027368518765655\n",
      "batch_norm:  100.0\n",
      "initialization:  0.004143925147813915\n"
     ]
    },
    {
     "data": {
      "application/pdf": "[encoded data removed]",
      "text/plain": [
       "<Figure size 3600x1800 with 3 Axes>"
      ]
     },
     "metadata": {},
     "output_type": "display_data"
    },
    {
     "data": {
      "application/pdf": "[encoded data removed]",
      "text/plain": [
       "<Figure size 3600x1800 with 3 Axes>"
      ]
     },
     "metadata": {},
     "output_type": "display_data"
    },
    {
     "data": {
      "application/pdf": "[encoded data removed]",
      "text/plain": [
       "<Figure size 3600x1800 with 3 Axes>"
      ]
     },
     "metadata": {},
     "output_type": "display_data"
    }
   ],
   "source": [
    "spot_tuner.plot_important_hyperparameter_contour(max_imp=3)"
   ]
  },
  {
   "cell_type": "markdown",
   "id": "7e4c131c",
   "metadata": {},
   "source": [
    "### Get the Tuned Architecture {#sec-get-spot-results-608}\n"
   ]
  },
  {
   "cell_type": "code",
   "execution_count": 8,
   "id": "f1e46d1c",
   "metadata": {},
   "outputs": [
    {
     "name": "stdout",
     "output_type": "stream",
     "text": [
      "{'act_fn': Swish(),\n",
      " 'batch_norm': True,\n",
      " 'batch_size': 16,\n",
      " 'dropout_prob': 0.025,\n",
      " 'epochs': 128,\n",
      " 'initialization': 'kaiming_uniform',\n",
      " 'l1': 8,\n",
      " 'lr_mult': 7.238064006094006,\n",
      " 'optimizer': 'Adadelta',\n",
      " 'patience': 4}\n"
     ]
    }
   ],
   "source": [
    "import pprint\n",
    "from spotpython.hyperparameters.values import get_tuned_architecture\n",
    "config = get_tuned_architecture(spot_tuner, fun_control)\n",
    "pprint.pprint(config)"
   ]
  }
 ],
 "metadata": {
  "kernelspec": {
   "display_name": "Python 3 (ipykernel)",
   "language": "python",
   "name": "python3",
   "path": "/Users/bartz/miniforge3/envs/spot312/share/jupyter/kernels/python3"
  },
  "language_info": {
   "codemirror_mode": {
    "name": "ipython",
    "version": 3
   },
   "file_extension": ".py",
   "mimetype": "text/x-python",
   "name": "python",
   "nbconvert_exporter": "python",
   "pygments_lexer": "ipython3",
   "version": "3.12.7"
  }
 },
 "nbformat": 4,
 "nbformat_minor": 5
}
