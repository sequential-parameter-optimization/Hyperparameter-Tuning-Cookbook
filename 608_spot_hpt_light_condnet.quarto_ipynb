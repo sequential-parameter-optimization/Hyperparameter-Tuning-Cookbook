{
 "cells": [
  {
   "cell_type": "markdown",
   "id": "ef62e27b",
   "metadata": {},
   "source": [
    "---\n",
    "execute:\n",
    "  cache: false\n",
    "  eval: true\n",
    "  echo: true\n",
    "  warning: false\n",
    "title: Hyperparameter Tuning with `spotpython` and `PyTorch` Lightning Using a CondNet Model\n",
    "jupyter: python3\n",
    "---"
   ]
  },
  {
   "cell_type": "code",
   "execution_count": 1,
   "id": "user-user-imports",
   "metadata": {},
   "outputs": [],
   "source": [
    "#| label: 608_user-user-imports\n",
    "#| echo: false\n",
    "import os\n",
    "from math import inf\n",
    "import warnings\n",
    "warnings.filterwarnings(\"ignore\")"
   ]
  },
  {
   "cell_type": "markdown",
   "id": "b99d548a",
   "metadata": {},
   "source": [
    "* We use the `Diabetes` dataset to illustrate the hyperparameter tuning process of a `CondNet` model using the `spotpython` package.\n",
    "* The CondNet model is a conditional neural network that can be used to model conditional distributions [[LINK]](https://sequential-parameter-optimization.github.io/spotPython/reference/spotpython/light/regression/nn_condnet_regressor/).\n"
   ]
  },
  {
   "cell_type": "code",
   "execution_count": 2,
   "id": "cond_net_setup",
   "metadata": {},
   "outputs": [
    {
     "name": "stderr",
     "output_type": "stream",
     "text": [
      "Seed set to 123\n"
     ]
    },
    {
     "name": "stderr",
     "output_type": "stream",
     "text": [
      "Seed set to 123\n"
     ]
    },
    {
     "name": "stdout",
     "output_type": "stream",
     "text": [
      "module_name: light\n",
      "submodule_name: regression\n",
      "model_name: NNCondNetRegressor\n",
      "| name           | type   | default   |   lower |   upper | transform             |\n",
      "|----------------|--------|-----------|---------|---------|-----------------------|\n",
      "| l1             | int    | 3         |     3   |   4     | transform_power_2_int |\n",
      "| epochs         | int    | 4         |     3   |   7     | transform_power_2_int |\n",
      "| batch_size     | int    | 4         |     4   |   5     | transform_power_2_int |\n",
      "| act_fn         | factor | ReLU      |     0   |   5     | None                  |\n",
      "| optimizer      | factor | SGD       |     0   |   2     | None                  |\n",
      "| dropout_prob   | float  | 0.01      |     0   |   0.025 | None                  |\n",
      "| lr_mult        | float  | 1.0       |     0.1 |  20     | None                  |\n",
      "| patience       | int    | 2         |     2   |   3     | transform_power_2_int |\n",
      "| batch_norm     | factor | 0         |     0   |   1     | None                  |\n",
      "| initialization | factor | Default   |     0   |   4     | None                  |\n"
     ]
    }
   ],
   "source": [
    "#| label: 608_cond_net_setup\n",
    "from spotpython.data.diabetes import Diabetes\n",
    "from spotpython.hyperdict.light_hyper_dict import LightHyperDict\n",
    "from spotpython.fun.hyperlight import HyperLight\n",
    "from spotpython.utils.init import (fun_control_init, surrogate_control_init, design_control_init)\n",
    "from spotpython.utils.eda import gen_design_table\n",
    "from spotpython.spot import spot\n",
    "from spotpython.utils.file import get_experiment_filename\n",
    "from math import inf\n",
    "from spotpython.hyperparameters.values import set_hyperparameter\n",
    "\n",
    "PREFIX=\"CondNet_01\"\n",
    "\n",
    "data_set = Diabetes()\n",
    "input_dim = 10\n",
    "output_dim = 1\n",
    "cond_dim = 2\n",
    "\n",
    "fun_control = fun_control_init(\n",
    "    PREFIX=PREFIX,\n",
    "    fun_evals=inf,\n",
    "    max_time=1,\n",
    "    data_set = data_set,\n",
    "    core_model_name=\"light.regression.NNCondNetRegressor\",\n",
    "    hyperdict=LightHyperDict,\n",
    "    _L_in=input_dim - cond_dim,\n",
    "    _L_out=1,\n",
    "    _L_cond=cond_dim,)\n",
    "\n",
    "fun = HyperLight().fun\n",
    "\n",
    "\n",
    "set_hyperparameter(fun_control, \"optimizer\", [ \"Adadelta\", \"Adam\", \"Adamax\"])\n",
    "set_hyperparameter(fun_control, \"l1\", [3,4])\n",
    "set_hyperparameter(fun_control, \"epochs\", [3,7])\n",
    "set_hyperparameter(fun_control, \"batch_size\", [4,5])\n",
    "set_hyperparameter(fun_control, \"dropout_prob\", [0.0, 0.025])\n",
    "set_hyperparameter(fun_control, \"patience\", [2,3])\n",
    "set_hyperparameter(fun_control, \"lr_mult\", [0.1, 20.0])\n",
    "\n",
    "design_control = design_control_init(init_size=10)\n",
    "\n",
    "print(gen_design_table(fun_control))"
   ]
  },
  {
   "cell_type": "code",
   "execution_count": 3,
   "id": "cond_net_run",
   "metadata": {},
   "outputs": [
    {
     "name": "stderr",
     "output_type": "stream",
     "text": [
      "GPU available: True (mps), used: True\n"
     ]
    },
    {
     "name": "stderr",
     "output_type": "stream",
     "text": [
      "TPU available: False, using: 0 TPU cores\n"
     ]
    },
    {
     "name": "stderr",
     "output_type": "stream",
     "text": [
      "HPU available: False, using: 0 HPUs\n"
     ]
    },
    {
     "name": "stderr",
     "output_type": "stream",
     "text": [
      "\n",
      "  | Name       | Type             | Params | Mode  | In sizes           | Out sizes\n",
      "-----------------------------------------------------------------------------------------\n",
      "0 | cond_layer | ConditionalLayer | 192    | train | [[32, 8], [32, 2]] | [32, 16] \n",
      "1 | layers     | Sequential       | 587    | train | [32, 16]           | [32, 1]  \n",
      "-----------------------------------------------------------------------------------------\n",
      "779       Trainable params\n",
      "0         Non-trainable params\n",
      "779       Total params\n",
      "0.003     Total estimated model params size (MB)\n",
      "26        Modules in train mode\n",
      "0         Modules in eval mode\n"
     ]
    },
    {
     "name": "stderr",
     "output_type": "stream",
     "text": [
      "`Trainer.fit` stopped: `max_epochs=16` reached.\n"
     ]
    },
    {
     "name": "stderr",
     "output_type": "stream",
     "text": [
      "GPU available: True (mps), used: True\n"
     ]
    },
    {
     "name": "stderr",
     "output_type": "stream",
     "text": [
      "TPU available: False, using: 0 TPU cores\n"
     ]
    },
    {
     "name": "stderr",
     "output_type": "stream",
     "text": [
      "HPU available: False, using: 0 HPUs\n"
     ]
    },
    {
     "name": "stderr",
     "output_type": "stream",
     "text": [
      "\n",
      "  | Name       | Type             | Params | Mode  | In sizes           | Out sizes\n",
      "-----------------------------------------------------------------------------------------\n",
      "0 | cond_layer | ConditionalLayer | 96     | train | [[16, 8], [16, 2]] | [16, 8]  \n",
      "1 | layers     | Sequential       | 153    | train | [16, 8]            | [16, 1]  \n",
      "-----------------------------------------------------------------------------------------\n",
      "249       Trainable params\n",
      "0         Non-trainable params\n",
      "249       Total params\n",
      "0.001     Total estimated model params size (MB)\n",
      "18        Modules in train mode\n",
      "0         Modules in eval mode\n"
     ]
    },
    {
     "name": "stdout",
     "output_type": "stream",
     "text": [
      "train_model result: {'val_loss': 24158.83203125, 'hp_metric': 24158.83203125}\n"
     ]
    },
    {
     "name": "stderr",
     "output_type": "stream",
     "text": [
      "`Trainer.fit` stopped: `max_epochs=32` reached.\n"
     ]
    },
    {
     "name": "stderr",
     "output_type": "stream",
     "text": [
      "GPU available: True (mps), used: True\n"
     ]
    },
    {
     "name": "stderr",
     "output_type": "stream",
     "text": [
      "TPU available: False, using: 0 TPU cores\n"
     ]
    },
    {
     "name": "stderr",
     "output_type": "stream",
     "text": [
      "HPU available: False, using: 0 HPUs\n"
     ]
    },
    {
     "name": "stderr",
     "output_type": "stream",
     "text": [
      "\n",
      "  | Name       | Type             | Params | Mode  | In sizes           | Out sizes\n",
      "-----------------------------------------------------------------------------------------\n",
      "0 | cond_layer | ConditionalLayer | 192    | train | [[32, 8], [32, 2]] | [32, 16] \n",
      "1 | layers     | Sequential       | 691    | train | [32, 16]           | [32, 1]  \n",
      "-----------------------------------------------------------------------------------------\n",
      "883       Trainable params\n",
      "0         Non-trainable params\n",
      "883       Total params\n",
      "0.004     Total estimated model params size (MB)\n",
      "36        Modules in train mode\n",
      "0         Modules in eval mode\n"
     ]
    },
    {
     "name": "stdout",
     "output_type": "stream",
     "text": [
      "train_model result: {'val_loss': 23447.546875, 'hp_metric': 23447.546875}\n"
     ]
    },
    {
     "name": "stderr",
     "output_type": "stream",
     "text": [
      "GPU available: True (mps), used: True\n"
     ]
    },
    {
     "name": "stderr",
     "output_type": "stream",
     "text": [
      "TPU available: False, using: 0 TPU cores\n"
     ]
    },
    {
     "name": "stderr",
     "output_type": "stream",
     "text": [
      "HPU available: False, using: 0 HPUs\n"
     ]
    },
    {
     "name": "stderr",
     "output_type": "stream",
     "text": [
      "\n",
      "  | Name       | Type             | Params | Mode  | In sizes           | Out sizes\n",
      "-----------------------------------------------------------------------------------------\n",
      "0 | cond_layer | ConditionalLayer | 96     | train | [[32, 8], [32, 2]] | [32, 8]  \n",
      "1 | layers     | Sequential       | 197    | train | [32, 8]            | [32, 1]  \n",
      "-----------------------------------------------------------------------------------------\n",
      "293       Trainable params\n",
      "0         Non-trainable params\n",
      "293       Total params\n",
      "0.001     Total estimated model params size (MB)\n",
      "24        Modules in train mode\n",
      "0         Modules in eval mode\n"
     ]
    },
    {
     "name": "stdout",
     "output_type": "stream",
     "text": [
      "train_model result: {'val_loss': 5128.1162109375, 'hp_metric': 5128.1162109375}\n"
     ]
    },
    {
     "name": "stderr",
     "output_type": "stream",
     "text": [
      "GPU available: True (mps), used: True\n"
     ]
    },
    {
     "name": "stderr",
     "output_type": "stream",
     "text": [
      "TPU available: False, using: 0 TPU cores\n"
     ]
    },
    {
     "name": "stderr",
     "output_type": "stream",
     "text": [
      "HPU available: False, using: 0 HPUs\n"
     ]
    },
    {
     "name": "stderr",
     "output_type": "stream",
     "text": [
      "\n",
      "  | Name       | Type             | Params | Mode  | In sizes           | Out sizes\n",
      "-----------------------------------------------------------------------------------------\n",
      "0 | cond_layer | ConditionalLayer | 192    | train | [[16, 8], [16, 2]] | [16, 16] \n",
      "1 | layers     | Sequential       | 691    | train | [16, 16]           | [16, 1]  \n",
      "-----------------------------------------------------------------------------------------\n",
      "883       Trainable params\n",
      "0         Non-trainable params\n",
      "883       Total params\n",
      "0.004     Total estimated model params size (MB)\n",
      "36        Modules in train mode\n",
      "0         Modules in eval mode\n"
     ]
    },
    {
     "name": "stdout",
     "output_type": "stream",
     "text": [
      "train_model result: {'val_loss': 24131.58984375, 'hp_metric': 24131.58984375}\n"
     ]
    },
    {
     "name": "stderr",
     "output_type": "stream",
     "text": [
      "GPU available: True (mps), used: True\n"
     ]
    },
    {
     "name": "stderr",
     "output_type": "stream",
     "text": [
      "TPU available: False, using: 0 TPU cores\n"
     ]
    },
    {
     "name": "stderr",
     "output_type": "stream",
     "text": [
      "HPU available: False, using: 0 HPUs\n"
     ]
    },
    {
     "name": "stderr",
     "output_type": "stream",
     "text": [
      "\n",
      "  | Name       | Type             | Params | Mode  | In sizes           | Out sizes\n",
      "-----------------------------------------------------------------------------------------\n",
      "0 | cond_layer | ConditionalLayer | 192    | train | [[16, 8], [16, 2]] | [16, 16] \n",
      "1 | layers     | Sequential       | 587    | train | [16, 16]           | [16, 1]  \n",
      "-----------------------------------------------------------------------------------------\n",
      "779       Trainable params\n",
      "0         Non-trainable params\n",
      "779       Total params\n",
      "0.003     Total estimated model params size (MB)\n",
      "26        Modules in train mode\n",
      "0         Modules in eval mode\n"
     ]
    },
    {
     "name": "stdout",
     "output_type": "stream",
     "text": [
      "train_model result: {'val_loss': 22622.26953125, 'hp_metric': 22622.26953125}\n"
     ]
    },
    {
     "name": "stderr",
     "output_type": "stream",
     "text": [
      "`Trainer.fit` stopped: `max_epochs=16` reached.\n"
     ]
    },
    {
     "name": "stderr",
     "output_type": "stream",
     "text": [
      "GPU available: True (mps), used: True\n"
     ]
    },
    {
     "name": "stderr",
     "output_type": "stream",
     "text": [
      "TPU available: False, using: 0 TPU cores\n"
     ]
    },
    {
     "name": "stderr",
     "output_type": "stream",
     "text": [
      "HPU available: False, using: 0 HPUs\n"
     ]
    },
    {
     "name": "stderr",
     "output_type": "stream",
     "text": [
      "\n",
      "  | Name       | Type             | Params | Mode  | In sizes           | Out sizes\n",
      "-----------------------------------------------------------------------------------------\n",
      "0 | cond_layer | ConditionalLayer | 96     | train | [[32, 8], [32, 2]] | [32, 8]  \n",
      "1 | layers     | Sequential       | 153    | train | [32, 8]            | [32, 1]  \n",
      "-----------------------------------------------------------------------------------------\n",
      "249       Trainable params\n",
      "0         Non-trainable params\n",
      "249       Total params\n",
      "0.001     Total estimated model params size (MB)\n",
      "18        Modules in train mode\n",
      "0         Modules in eval mode\n"
     ]
    },
    {
     "name": "stdout",
     "output_type": "stream",
     "text": [
      "train_model result: {'val_loss': 23945.794921875, 'hp_metric': 23945.794921875}\n"
     ]
    },
    {
     "name": "stderr",
     "output_type": "stream",
     "text": [
      "`Trainer.fit` stopped: `max_epochs=8` reached.\n"
     ]
    },
    {
     "name": "stderr",
     "output_type": "stream",
     "text": [
      "GPU available: True (mps), used: True\n"
     ]
    },
    {
     "name": "stderr",
     "output_type": "stream",
     "text": [
      "TPU available: False, using: 0 TPU cores\n"
     ]
    },
    {
     "name": "stderr",
     "output_type": "stream",
     "text": [
      "HPU available: False, using: 0 HPUs\n"
     ]
    },
    {
     "name": "stderr",
     "output_type": "stream",
     "text": [
      "\n",
      "  | Name       | Type             | Params | Mode  | In sizes           | Out sizes\n",
      "-----------------------------------------------------------------------------------------\n",
      "0 | cond_layer | ConditionalLayer | 96     | train | [[16, 8], [16, 2]] | [16, 8]  \n",
      "1 | layers     | Sequential       | 197    | train | [16, 8]            | [16, 1]  \n",
      "-----------------------------------------------------------------------------------------\n",
      "293       Trainable params\n",
      "0         Non-trainable params\n",
      "293       Total params\n",
      "0.001     Total estimated model params size (MB)\n",
      "24        Modules in train mode\n",
      "0         Modules in eval mode\n"
     ]
    },
    {
     "name": "stdout",
     "output_type": "stream",
     "text": [
      "train_model result: {'val_loss': 23592.5, 'hp_metric': 23592.5}\n"
     ]
    },
    {
     "name": "stderr",
     "output_type": "stream",
     "text": [
      "GPU available: True (mps), used: True\n"
     ]
    },
    {
     "name": "stderr",
     "output_type": "stream",
     "text": [
      "TPU available: False, using: 0 TPU cores\n"
     ]
    },
    {
     "name": "stderr",
     "output_type": "stream",
     "text": [
      "HPU available: False, using: 0 HPUs\n"
     ]
    },
    {
     "name": "stderr",
     "output_type": "stream",
     "text": [
      "\n",
      "  | Name       | Type             | Params | Mode  | In sizes           | Out sizes\n",
      "-----------------------------------------------------------------------------------------\n",
      "0 | cond_layer | ConditionalLayer | 96     | train | [[16, 8], [16, 2]] | [16, 8]  \n",
      "1 | layers     | Sequential       | 153    | train | [16, 8]            | [16, 1]  \n",
      "-----------------------------------------------------------------------------------------\n",
      "249       Trainable params\n",
      "0         Non-trainable params\n",
      "249       Total params\n",
      "0.001     Total estimated model params size (MB)\n",
      "18        Modules in train mode\n",
      "0         Modules in eval mode\n"
     ]
    },
    {
     "name": "stdout",
     "output_type": "stream",
     "text": [
      "train_model result: {'val_loss': 3970.03271484375, 'hp_metric': 3970.03271484375}\n"
     ]
    },
    {
     "name": "stderr",
     "output_type": "stream",
     "text": [
      "`Trainer.fit` stopped: `max_epochs=32` reached.\n"
     ]
    },
    {
     "name": "stderr",
     "output_type": "stream",
     "text": [
      "GPU available: True (mps), used: True\n"
     ]
    },
    {
     "name": "stderr",
     "output_type": "stream",
     "text": [
      "TPU available: False, using: 0 TPU cores\n"
     ]
    },
    {
     "name": "stderr",
     "output_type": "stream",
     "text": [
      "HPU available: False, using: 0 HPUs\n"
     ]
    },
    {
     "name": "stderr",
     "output_type": "stream",
     "text": [
      "\n",
      "  | Name       | Type             | Params | Mode  | In sizes           | Out sizes\n",
      "-----------------------------------------------------------------------------------------\n",
      "0 | cond_layer | ConditionalLayer | 192    | train | [[32, 8], [32, 2]] | [32, 16] \n",
      "1 | layers     | Sequential       | 691    | train | [32, 16]           | [32, 1]  \n",
      "-----------------------------------------------------------------------------------------\n",
      "883       Trainable params\n",
      "0         Non-trainable params\n",
      "883       Total params\n",
      "0.004     Total estimated model params size (MB)\n",
      "36        Modules in train mode\n",
      "0         Modules in eval mode\n"
     ]
    },
    {
     "name": "stdout",
     "output_type": "stream",
     "text": [
      "train_model result: {'val_loss': 22140.10546875, 'hp_metric': 22140.10546875}\n"
     ]
    },
    {
     "name": "stdout",
     "output_type": "stream",
     "text": [
      "train_model result: {'val_loss': 22977.068359375, 'hp_metric': 22977.068359375}\n"
     ]
    },
    {
     "name": "stderr",
     "output_type": "stream",
     "text": [
      "GPU available: True (mps), used: True\n"
     ]
    },
    {
     "name": "stderr",
     "output_type": "stream",
     "text": [
      "TPU available: False, using: 0 TPU cores\n"
     ]
    },
    {
     "name": "stderr",
     "output_type": "stream",
     "text": [
      "HPU available: False, using: 0 HPUs\n"
     ]
    },
    {
     "name": "stderr",
     "output_type": "stream",
     "text": [
      "\n",
      "  | Name       | Type             | Params | Mode  | In sizes           | Out sizes\n",
      "-----------------------------------------------------------------------------------------\n",
      "0 | cond_layer | ConditionalLayer | 192    | train | [[16, 8], [16, 2]] | [16, 16] \n",
      "1 | layers     | Sequential       | 691    | train | [16, 16]           | [16, 1]  \n",
      "-----------------------------------------------------------------------------------------\n",
      "883       Trainable params\n",
      "0         Non-trainable params\n",
      "883       Total params\n",
      "0.004     Total estimated model params size (MB)\n",
      "36        Modules in train mode\n",
      "0         Modules in eval mode\n"
     ]
    },
    {
     "name": "stdout",
     "output_type": "stream",
     "text": [
      "train_model result: {'val_loss': 9490.4794921875, 'hp_metric': 9490.4794921875}\n",
      "spotpython tuning: 3970.03271484375 [----------] 3.94% \r\n"
     ]
    },
    {
     "name": "stderr",
     "output_type": "stream",
     "text": [
      "GPU available: True (mps), used: True\n"
     ]
    },
    {
     "name": "stderr",
     "output_type": "stream",
     "text": [
      "TPU available: False, using: 0 TPU cores\n"
     ]
    },
    {
     "name": "stderr",
     "output_type": "stream",
     "text": [
      "HPU available: False, using: 0 HPUs\n"
     ]
    },
    {
     "name": "stderr",
     "output_type": "stream",
     "text": [
      "\n",
      "  | Name       | Type             | Params | Mode  | In sizes           | Out sizes\n",
      "-----------------------------------------------------------------------------------------\n",
      "0 | cond_layer | ConditionalLayer | 96     | train | [[32, 8], [32, 2]] | [32, 8]  \n",
      "1 | layers     | Sequential       | 197    | train | [32, 8]            | [32, 1]  \n",
      "-----------------------------------------------------------------------------------------\n",
      "293       Trainable params\n",
      "0         Non-trainable params\n",
      "293       Total params\n",
      "0.001     Total estimated model params size (MB)\n",
      "24        Modules in train mode\n",
      "0         Modules in eval mode\n"
     ]
    },
    {
     "name": "stdout",
     "output_type": "stream",
     "text": [
      "train_model result: {'val_loss': 4811.8203125, 'hp_metric': 4811.8203125}\n"
     ]
    },
    {
     "name": "stdout",
     "output_type": "stream",
     "text": [
      "spotpython tuning: 3970.03271484375 [#---------] 7.80% \r\n"
     ]
    },
    {
     "name": "stderr",
     "output_type": "stream",
     "text": [
      "GPU available: True (mps), used: True\n"
     ]
    },
    {
     "name": "stderr",
     "output_type": "stream",
     "text": [
      "TPU available: False, using: 0 TPU cores\n"
     ]
    },
    {
     "name": "stderr",
     "output_type": "stream",
     "text": [
      "HPU available: False, using: 0 HPUs\n"
     ]
    },
    {
     "name": "stderr",
     "output_type": "stream",
     "text": [
      "\n",
      "  | Name       | Type             | Params | Mode  | In sizes           | Out sizes\n",
      "-----------------------------------------------------------------------------------------\n",
      "0 | cond_layer | ConditionalLayer | 192    | train | [[32, 8], [32, 2]] | [32, 16] \n",
      "1 | layers     | Sequential       | 691    | train | [32, 16]           | [32, 1]  \n",
      "-----------------------------------------------------------------------------------------\n",
      "883       Trainable params\n",
      "0         Non-trainable params\n",
      "883       Total params\n",
      "0.004     Total estimated model params size (MB)\n",
      "36        Modules in train mode\n",
      "0         Modules in eval mode\n"
     ]
    },
    {
     "name": "stdout",
     "output_type": "stream",
     "text": [
      "train_model result: {'val_loss': 16126.7421875, 'hp_metric': 16126.7421875}\n"
     ]
    },
    {
     "name": "stdout",
     "output_type": "stream",
     "text": [
      "spotpython tuning: 3970.03271484375 [#---------] 11.16% \r\n"
     ]
    },
    {
     "name": "stderr",
     "output_type": "stream",
     "text": [
      "GPU available: True (mps), used: True\n"
     ]
    },
    {
     "name": "stderr",
     "output_type": "stream",
     "text": [
      "TPU available: False, using: 0 TPU cores\n"
     ]
    },
    {
     "name": "stderr",
     "output_type": "stream",
     "text": [
      "HPU available: False, using: 0 HPUs\n"
     ]
    },
    {
     "name": "stderr",
     "output_type": "stream",
     "text": [
      "\n",
      "  | Name       | Type             | Params | Mode  | In sizes           | Out sizes\n",
      "-----------------------------------------------------------------------------------------\n",
      "0 | cond_layer | ConditionalLayer | 96     | train | [[16, 8], [16, 2]] | [16, 8]  \n",
      "1 | layers     | Sequential       | 197    | train | [16, 8]            | [16, 1]  \n",
      "-----------------------------------------------------------------------------------------\n",
      "293       Trainable params\n",
      "0         Non-trainable params\n",
      "293       Total params\n",
      "0.001     Total estimated model params size (MB)\n",
      "24        Modules in train mode\n",
      "0         Modules in eval mode\n"
     ]
    },
    {
     "name": "stdout",
     "output_type": "stream",
     "text": [
      "train_model result: {'val_loss': 5215.19384765625, 'hp_metric': 5215.19384765625}\n"
     ]
    },
    {
     "name": "stdout",
     "output_type": "stream",
     "text": [
      "spotpython tuning: 3970.03271484375 [##--------] 16.40% \r\n"
     ]
    },
    {
     "name": "stderr",
     "output_type": "stream",
     "text": [
      "GPU available: True (mps), used: True\n"
     ]
    },
    {
     "name": "stderr",
     "output_type": "stream",
     "text": [
      "TPU available: False, using: 0 TPU cores\n"
     ]
    },
    {
     "name": "stderr",
     "output_type": "stream",
     "text": [
      "HPU available: False, using: 0 HPUs\n"
     ]
    },
    {
     "name": "stderr",
     "output_type": "stream",
     "text": [
      "\n",
      "  | Name       | Type             | Params | Mode  | In sizes           | Out sizes\n",
      "-----------------------------------------------------------------------------------------\n",
      "0 | cond_layer | ConditionalLayer | 96     | train | [[16, 8], [16, 2]] | [16, 8]  \n",
      "1 | layers     | Sequential       | 197    | train | [16, 8]            | [16, 1]  \n",
      "-----------------------------------------------------------------------------------------\n",
      "293       Trainable params\n",
      "0         Non-trainable params\n",
      "293       Total params\n",
      "0.001     Total estimated model params size (MB)\n",
      "24        Modules in train mode\n",
      "0         Modules in eval mode\n"
     ]
    },
    {
     "name": "stderr",
     "output_type": "stream",
     "text": [
      "`Trainer.fit` stopped: `max_epochs=128` reached.\n"
     ]
    },
    {
     "name": "stdout",
     "output_type": "stream",
     "text": [
      "train_model result: {'val_loss': 23775.759765625, 'hp_metric': 23775.759765625}\n",
      "spotpython tuning: 3970.03271484375 [#####-----] 46.66% \r\n"
     ]
    },
    {
     "name": "stderr",
     "output_type": "stream",
     "text": [
      "GPU available: True (mps), used: True\n"
     ]
    },
    {
     "name": "stderr",
     "output_type": "stream",
     "text": [
      "TPU available: False, using: 0 TPU cores\n"
     ]
    },
    {
     "name": "stderr",
     "output_type": "stream",
     "text": [
      "HPU available: False, using: 0 HPUs\n"
     ]
    },
    {
     "name": "stderr",
     "output_type": "stream",
     "text": [
      "\n",
      "  | Name       | Type             | Params | Mode  | In sizes           | Out sizes\n",
      "-----------------------------------------------------------------------------------------\n",
      "0 | cond_layer | ConditionalLayer | 96     | train | [[16, 8], [16, 2]] | [16, 8]  \n",
      "1 | layers     | Sequential       | 197    | train | [16, 8]            | [16, 1]  \n",
      "-----------------------------------------------------------------------------------------\n",
      "293       Trainable params\n",
      "0         Non-trainable params\n",
      "293       Total params\n",
      "0.001     Total estimated model params size (MB)\n",
      "24        Modules in train mode\n",
      "0         Modules in eval mode\n"
     ]
    },
    {
     "name": "stdout",
     "output_type": "stream",
     "text": [
      "train_model result: {'val_loss': 4698.92138671875, 'hp_metric': 4698.92138671875}\n",
      "spotpython tuning: 3970.03271484375 [#####-----] 52.67% \r\n"
     ]
    },
    {
     "name": "stderr",
     "output_type": "stream",
     "text": [
      "GPU available: True (mps), used: True\n"
     ]
    },
    {
     "name": "stderr",
     "output_type": "stream",
     "text": [
      "TPU available: False, using: 0 TPU cores\n"
     ]
    },
    {
     "name": "stderr",
     "output_type": "stream",
     "text": [
      "HPU available: False, using: 0 HPUs\n"
     ]
    },
    {
     "name": "stderr",
     "output_type": "stream",
     "text": [
      "\n",
      "  | Name       | Type             | Params | Mode  | In sizes           | Out sizes\n",
      "-----------------------------------------------------------------------------------------\n",
      "0 | cond_layer | ConditionalLayer | 96     | train | [[16, 8], [16, 2]] | [16, 8]  \n",
      "1 | layers     | Sequential       | 197    | train | [16, 8]            | [16, 1]  \n",
      "-----------------------------------------------------------------------------------------\n",
      "293       Trainable params\n",
      "0         Non-trainable params\n",
      "293       Total params\n",
      "0.001     Total estimated model params size (MB)\n",
      "24        Modules in train mode\n",
      "0         Modules in eval mode\n"
     ]
    },
    {
     "name": "stdout",
     "output_type": "stream",
     "text": [
      "train_model result: {'val_loss': 4691.24072265625, 'hp_metric': 4691.24072265625}\n",
      "spotpython tuning: 3970.03271484375 [######----] 58.34% \r\n"
     ]
    },
    {
     "name": "stderr",
     "output_type": "stream",
     "text": [
      "GPU available: True (mps), used: True\n"
     ]
    },
    {
     "name": "stderr",
     "output_type": "stream",
     "text": [
      "TPU available: False, using: 0 TPU cores\n"
     ]
    },
    {
     "name": "stderr",
     "output_type": "stream",
     "text": [
      "HPU available: False, using: 0 HPUs\n"
     ]
    },
    {
     "name": "stderr",
     "output_type": "stream",
     "text": [
      "\n",
      "  | Name       | Type             | Params | Mode  | In sizes           | Out sizes\n",
      "-----------------------------------------------------------------------------------------\n",
      "0 | cond_layer | ConditionalLayer | 96     | train | [[16, 8], [16, 2]] | [16, 8]  \n",
      "1 | layers     | Sequential       | 197    | train | [16, 8]            | [16, 1]  \n",
      "-----------------------------------------------------------------------------------------\n",
      "293       Trainable params\n",
      "0         Non-trainable params\n",
      "293       Total params\n",
      "0.001     Total estimated model params size (MB)\n",
      "24        Modules in train mode\n",
      "0         Modules in eval mode\n"
     ]
    },
    {
     "name": "stderr",
     "output_type": "stream",
     "text": [
      "`Trainer.fit` stopped: `max_epochs=128` reached.\n"
     ]
    },
    {
     "name": "stdout",
     "output_type": "stream",
     "text": [
      "train_model result: {'val_loss': 20540.259765625, 'hp_metric': 20540.259765625}\n"
     ]
    },
    {
     "name": "stdout",
     "output_type": "stream",
     "text": [
      "spotpython tuning: 3970.03271484375 [#########-] 89.32% \r\n"
     ]
    },
    {
     "name": "stderr",
     "output_type": "stream",
     "text": [
      "GPU available: True (mps), used: True\n"
     ]
    },
    {
     "name": "stderr",
     "output_type": "stream",
     "text": [
      "TPU available: False, using: 0 TPU cores\n"
     ]
    },
    {
     "name": "stderr",
     "output_type": "stream",
     "text": [
      "HPU available: False, using: 0 HPUs\n"
     ]
    },
    {
     "name": "stderr",
     "output_type": "stream",
     "text": [
      "\n",
      "  | Name       | Type             | Params | Mode  | In sizes           | Out sizes\n",
      "-----------------------------------------------------------------------------------------\n",
      "0 | cond_layer | ConditionalLayer | 96     | train | [[16, 8], [16, 2]] | [16, 8]  \n",
      "1 | layers     | Sequential       | 197    | train | [16, 8]            | [16, 1]  \n",
      "-----------------------------------------------------------------------------------------\n",
      "293       Trainable params\n",
      "0         Non-trainable params\n",
      "293       Total params\n",
      "0.001     Total estimated model params size (MB)\n",
      "24        Modules in train mode\n",
      "0         Modules in eval mode\n"
     ]
    },
    {
     "name": "stdout",
     "output_type": "stream",
     "text": [
      "train_model result: {'val_loss': 5512.07861328125, 'hp_metric': 5512.07861328125}\n"
     ]
    },
    {
     "name": "stdout",
     "output_type": "stream",
     "text": [
      "spotpython tuning: 3970.03271484375 [##########] 95.09% \r\n"
     ]
    },
    {
     "name": "stderr",
     "output_type": "stream",
     "text": [
      "GPU available: True (mps), used: True\n"
     ]
    },
    {
     "name": "stderr",
     "output_type": "stream",
     "text": [
      "TPU available: False, using: 0 TPU cores\n"
     ]
    },
    {
     "name": "stderr",
     "output_type": "stream",
     "text": [
      "HPU available: False, using: 0 HPUs\n"
     ]
    },
    {
     "name": "stderr",
     "output_type": "stream",
     "text": [
      "\n",
      "  | Name       | Type             | Params | Mode  | In sizes           | Out sizes\n",
      "-----------------------------------------------------------------------------------------\n",
      "0 | cond_layer | ConditionalLayer | 96     | train | [[16, 8], [16, 2]] | [16, 8]  \n",
      "1 | layers     | Sequential       | 197    | train | [16, 8]            | [16, 1]  \n",
      "-----------------------------------------------------------------------------------------\n",
      "293       Trainable params\n",
      "0         Non-trainable params\n",
      "293       Total params\n",
      "0.001     Total estimated model params size (MB)\n",
      "24        Modules in train mode\n",
      "0         Modules in eval mode\n"
     ]
    },
    {
     "name": "stdout",
     "output_type": "stream",
     "text": [
      "train_model result: {'val_loss': 5099.7158203125, 'hp_metric': 5099.7158203125}\n"
     ]
    },
    {
     "name": "stdout",
     "output_type": "stream",
     "text": [
      "spotpython tuning: 3970.03271484375 [##########] 100.00% Done...\r\n",
      "\r\n"
     ]
    }
   ],
   "source": [
    "#| label: 608_cond_net_run\n",
    "spot_tuner = spot.Spot(fun=fun,fun_control=fun_control, design_control=design_control)\n",
    "res = spot_tuner.run()"
   ]
  },
  {
   "cell_type": "markdown",
   "id": "04ef4488",
   "metadata": {},
   "source": [
    "## Looking at the Results\n",
    "\n",
    "### Tuning Progress\n",
    "\n",
    "After the hyperparameter tuning run is finished, the progress of the hyperparameter tuning can be visualized with `spotpython`'s method `plot_progress`. The black points represent the performace values (score or metric) of  hyperparameter configurations from the initial design, whereas the red points represents the  hyperparameter configurations found by the surrogate model based optimization.\n"
   ]
  },
  {
   "cell_type": "code",
   "execution_count": 4,
   "id": "76375414",
   "metadata": {},
   "outputs": [
    {
     "data": {
      "application/pdf": "[encoded data removed]",
      "text/plain": [
       "<Figure size 2700x1800 with 1 Axes>"
      ]
     },
     "metadata": {},
     "output_type": "display_data"
    }
   ],
   "source": [
    "spot_tuner.plot_progress()"
   ]
  },
  {
   "cell_type": "markdown",
   "id": "1c2b7086",
   "metadata": {},
   "source": [
    "### Tuned Hyperparameters and Their Importance\n",
    "\n",
    "Results can be printed in tabular form.\n"
   ]
  },
  {
   "cell_type": "code",
   "execution_count": 5,
   "id": "2eda18ce",
   "metadata": {},
   "outputs": [
    {
     "name": "stdout",
     "output_type": "stream",
     "text": [
      "| name           | type   | default   |   lower |   upper | tuned                 | transform             |   importance | stars   |\n",
      "|----------------|--------|-----------|---------|---------|-----------------------|-----------------------|--------------|---------|\n",
      "| l1             | int    | 3         |     3.0 |     4.0 | 3.0                   | transform_power_2_int |       100.00 | ***     |\n",
      "| epochs         | int    | 4         |     3.0 |     7.0 | 7.0                   | transform_power_2_int |         0.00 |         |\n",
      "| batch_size     | int    | 4         |     4.0 |     5.0 | 4.0                   | transform_power_2_int |         0.00 |         |\n",
      "| act_fn         | factor | ReLU      |     0.0 |     5.0 | Swish                 | None                  |         0.00 |         |\n",
      "| optimizer      | factor | SGD       |     0.0 |     2.0 | Adadelta              | None                  |         0.00 |         |\n",
      "| dropout_prob   | float  | 0.01      |     0.0 |   0.025 | 0.0012790404219919403 | None                  |         0.38 | .       |\n",
      "| lr_mult        | float  | 1.0       |     0.1 |    20.0 | 4.855811791679552     | None                  |        37.02 | *       |\n",
      "| patience       | int    | 2         |     2.0 |     3.0 | 2.0                   | transform_power_2_int |        88.12 | **      |\n",
      "| batch_norm     | factor | 0         |     0.0 |     1.0 | 1                     | None                  |         0.08 |         |\n",
      "| initialization | factor | Default   |     0.0 |     4.0 | kaiming_uniform       | None                  |         0.00 |         |\n"
     ]
    }
   ],
   "source": [
    "from spotpython.utils.eda import gen_design_table\n",
    "print(gen_design_table(fun_control=fun_control, spot=spot_tuner))"
   ]
  },
  {
   "cell_type": "markdown",
   "id": "282d8efd",
   "metadata": {},
   "source": [
    "A histogram can be used to visualize the most important hyperparameters.\n"
   ]
  },
  {
   "cell_type": "code",
   "execution_count": 6,
   "id": "3e32e52d",
   "metadata": {},
   "outputs": [
    {
     "data": {
      "application/pdf": "[encoded data removed]",
      "text/plain": [
       "<Figure size 1650x1050 with 1 Axes>"
      ]
     },
     "metadata": {},
     "output_type": "display_data"
    }
   ],
   "source": [
    "spot_tuner.plot_importance(threshold=1.0)"
   ]
  },
  {
   "cell_type": "code",
   "execution_count": 7,
   "id": "a5063e06",
   "metadata": {},
   "outputs": [
    {
     "name": "stdout",
     "output_type": "stream",
     "text": [
      "l1:  100.0\n",
      "epochs:  0.003532001160479277\n",
      "batch_size:  0.003532001160479277\n",
      "act_fn:  0.003532001160479277\n",
      "optimizer:  0.003532001160479277\n",
      "dropout_prob:  0.3822714188581696\n",
      "lr_mult:  37.02150696084474\n",
      "patience:  88.12101545498376\n",
      "batch_norm:  0.08263474354948015\n",
      "initialization:  0.003928818160068734\n",
      "impo: [['l1', 100.0], ['epochs', 0.003532001160479277], ['batch_size', 0.003532001160479277], ['act_fn', 0.003532001160479277], ['optimizer', 0.003532001160479277], ['dropout_prob', 0.3822714188581696], ['lr_mult', 37.02150696084474], ['patience', 88.12101545498376], ['batch_norm', 0.08263474354948015], ['initialization', 0.003928818160068734]]\n",
      "indices: [0, 7, 6, 5, 8, 9, 1, 2, 3, 4]\n",
      "indices after max_imp selection: [0, 7, 6]\n"
     ]
    },
    {
     "data": {
      "application/pdf": "[encoded data removed]",
      "text/plain": [
       "<Figure size 3600x1800 with 3 Axes>"
      ]
     },
     "metadata": {},
     "output_type": "display_data"
    },
    {
     "data": {
      "application/pdf": "[encoded data removed]",
      "text/plain": [
       "<Figure size 3600x1800 with 3 Axes>"
      ]
     },
     "metadata": {},
     "output_type": "display_data"
    },
    {
     "data": {
      "application/pdf": "[encoded data removed]",
      "text/plain": [
       "<Figure size 3600x1800 with 3 Axes>"
      ]
     },
     "metadata": {},
     "output_type": "display_data"
    }
   ],
   "source": [
    "spot_tuner.plot_important_hyperparameter_contour(max_imp=3)"
   ]
  },
  {
   "cell_type": "markdown",
   "id": "0614274e",
   "metadata": {},
   "source": [
    "### Get the Tuned Architecture {#sec-get-spot-results-608}\n"
   ]
  },
  {
   "cell_type": "code",
   "execution_count": 8,
   "id": "4918f70d",
   "metadata": {},
   "outputs": [
    {
     "name": "stdout",
     "output_type": "stream",
     "text": [
      "{'act_fn': Swish(),\n",
      " 'batch_norm': True,\n",
      " 'batch_size': 16,\n",
      " 'dropout_prob': 0.0012790404219919403,\n",
      " 'epochs': 128,\n",
      " 'initialization': 'kaiming_uniform',\n",
      " 'l1': 8,\n",
      " 'lr_mult': 4.855811791679552,\n",
      " 'optimizer': 'Adadelta',\n",
      " 'patience': 4}\n"
     ]
    }
   ],
   "source": [
    "import pprint\n",
    "from spotpython.hyperparameters.values import get_tuned_architecture\n",
    "config = get_tuned_architecture(spot_tuner, fun_control)\n",
    "pprint.pprint(config)"
   ]
  }
 ],
 "metadata": {
  "kernelspec": {
   "display_name": "Python 3 (ipykernel)",
   "language": "python",
   "name": "python3",
   "path": "/Users/bartz/miniforge3/envs/spot312/share/jupyter/kernels/python3"
  },
  "language_info": {
   "codemirror_mode": {
    "name": "ipython",
    "version": 3
   },
   "file_extension": ".py",
   "mimetype": "text/x-python",
   "name": "python",
   "nbconvert_exporter": "python",
   "pygments_lexer": "ipython3",
   "version": "3.12.5"
  }
 },
 "nbformat": 4,
 "nbformat_minor": 5
}
