{
  "cells": [
    {
      "cell_type": "raw",
      "id": "48403f9f",
      "metadata": {},
      "source": [
        "---\n",
        "execute:\n",
        "  cache: false\n",
        "  eval: true\n",
        "  echo: true\n",
        "  warning: false\n",
        "---"
      ]
    },
    {
      "cell_type": "markdown",
      "id": "0ac1ddd4",
      "metadata": {},
      "source": [
        "# `river` Hyperparameter Tuning: Mondrian Tree Classifier with Bananas Data {#sec-river-amf-classifier-bananas}\n",
        "\n",
        "This chapter demonstrates hyperparameter tuning for `river`'s `Mondrian Tree Classifier` with the bananas data set [[SOURCE]](https://riverml.xyz/0.19.0/api/datasets/Bananas/). \n",
        "\n",
        "## Setup {#sec-setup-13}\n",
        "\n",
        "Before we consider the detailed experimental setup, we select the parameters that affect run time, initial design size, size of the data set, and the experiment name.\n",
        "\n",
        "* `MAX_TIME`: The maximum run time in seconds for the hyperparameter tuning process.\n",
        "* `INIT_SIZE`: The initial design size for the hyperparameter tuning process.\n",
        "* `PREFIX`: The prefix for the experiment name.\n",
        "* `K`: The factor that determines the number of samples in the data set.\n",
        "\n",
        "::: {.callout-caution}\n",
        "### Caution: Run time and initial design size should be increased for real experiments\n",
        "\n",
        "* `MAX_TIME` is set to one minute for demonstration purposes. For real experiments, this should be increased to at least 1 hour.\n",
        "* `INIT_SIZE` is set to 5 for demonstration purposes. For real experiments, this should be increased to at least 10.\n",
        "* `K` is the multiplier for the number of samples. If it is set to 1, then `100_000`samples are taken. It is set to 0.1 for demonstration purposes. For real experiments, this should be increased to at least 1.\n",
        ":::\n"
      ]
    },
    {
      "cell_type": "code",
      "execution_count": 1,
      "id": "6c657648",
      "metadata": {},
      "outputs": [],
      "source": [
        "MAX_TIME = 60\n",
        "INIT_SIZE = 5\n",
        "PREFIX=\"52-river\""
      ]
    },
    {
      "cell_type": "code",
      "execution_count": 2,
      "id": "43a2eed8",
      "metadata": {},
      "outputs": [],
      "source": [
        "#| echo: false\n",
        "import os\n",
        "import warnings\n",
        "if not os.path.exists('./figures'):\n",
        "    os.makedirs('./figures')\n",
        "warnings.filterwarnings(\"ignore\")"
      ]
    },
    {
      "cell_type": "markdown",
      "id": "c3de12fd",
      "metadata": {},
      "source": [
        "## Initialization of the `fun_control` Dictionary\n",
        "\n",
        "`spotPython` supports the visualization of the hyperparameter tuning process with TensorBoard. The following example shows how to use TensorBoard with `spotPython`.\n",
        "\n",
        "First, we define an \"experiment name\" to identify the hyperparameter tuning process. The experiment name is also used to create a directory for the TensorBoard files.\n"
      ]
    },
    {
      "cell_type": "code",
      "execution_count": 3,
      "id": "2a8848d9",
      "metadata": {},
      "outputs": [
        {
          "name": "stderr",
          "output_type": "stream",
          "text": [
            "Seed set to 42\n"
          ]
        },
        {
          "name": "stdout",
          "output_type": "stream",
          "text": [
            "52-river_bartz09_2023-10-28_19-22-59\n"
          ]
        }
      ],
      "source": [
        "from spotPython.utils.init import fun_control_init\n",
        "from spotPython.utils.file import get_spot_tensorboard_path\n",
        "import os\n",
        "from spotPython.utils.file import get_experiment_name\n",
        "experiment_name = get_experiment_name(prefix=PREFIX)\n",
        "fun_control = fun_control_init(\n",
        "    spot_tensorboard_path=get_spot_tensorboard_path(experiment_name),\n",
        "    TENSORBOARD_CLEAN=True)\n",
        "print(experiment_name)"
      ]
    },
    {
      "cell_type": "markdown",
      "id": "92f4adaf",
      "metadata": {},
      "source": [
        "::: {.callout-tip}\n",
        "#### Tip: TensorBoard\n",
        "* Since the `spot_tensorboard_path` argument is not `None`, which is the default, `spotPython` will log the optimization process in the TensorBoard folder.\n",
        "* @sec-tensorboard-10 describes how to start TensorBoard and access the TensorBoard dashboard.\n",
        "* The `TENSORBOARD_CLEAN` argument is set to `True` to archive the TensorBoard folder if it already exists. This is useful if you want to start a hyperparameter tuning process from scratch.\n",
        "If you want to continue a hyperparameter tuning process, set `TENSORBOARD_CLEAN` to `False`. Then the TensorBoard folder will not be archived and the old and new TensorBoard files will shown in the TensorBoard dashboard.\n",
        ":::\n",
        "\n",
        "## Load Data: The Bananas Dataset\n",
        "\n",
        "We will use the Bananas dataset [[SOURCE]](https://riverml.xyz/0.19.0/api/datasets/Bananas/). \n",
        "\n",
        "The following parameters are used to generate and handle the data set:\n",
        "\n",
        "* horizon: The prediction horizon in hours.\n",
        "* n_samples: The number of samples in the data set.\n",
        "* n_train: The number of samples used for training.\n"
      ]
    },
    {
      "cell_type": "code",
      "execution_count": 4,
      "id": "57376fc5",
      "metadata": {},
      "outputs": [],
      "source": [
        "horizon = 7*24\n",
        "n_samples = 5300\n",
        "n_train = 1_000"
      ]
    },
    {
      "cell_type": "code",
      "execution_count": 5,
      "id": "2b0b6f2d",
      "metadata": {},
      "outputs": [],
      "source": [
        "from river.datasets import Bananas\n",
        "import pandas as pd\n",
        "dataset = Bananas(\n",
        ")"
      ]
    },
    {
      "cell_type": "code",
      "execution_count": 6,
      "id": "dd03b12b",
      "metadata": {},
      "outputs": [
        {
          "data": {
            "text/plain": [
              "2"
            ]
          },
          "execution_count": 6,
          "metadata": {},
          "output_type": "execute_result"
        }
      ],
      "source": [
        "dataset.n_features"
      ]
    },
    {
      "cell_type": "markdown",
      "id": "4bd9c22e",
      "metadata": {},
      "source": [
        "* We will use `spotRiver`'s `convert_to_df` function [[SOURCE]](https://github.com/sequential-parameter-optimization/spotRiver/blob/main/src/spotRiver/utils/data_conversion.py) to convert the `river` data set to a `pandas` data frame.\n"
      ]
    },
    {
      "cell_type": "code",
      "execution_count": 7,
      "id": "47120e8a",
      "metadata": {},
      "outputs": [
        {
          "data": {
            "text/html": [
              "<div>\n",
              "<style scoped>\n",
              "    .dataframe tbody tr th:only-of-type {\n",
              "        vertical-align: middle;\n",
              "    }\n",
              "\n",
              "    .dataframe tbody tr th {\n",
              "        vertical-align: top;\n",
              "    }\n",
              "\n",
              "    .dataframe thead th {\n",
              "        text-align: right;\n",
              "    }\n",
              "</style>\n",
              "<table border=\"1\" class=\"dataframe\">\n",
              "  <thead>\n",
              "    <tr style=\"text-align: right;\">\n",
              "      <th></th>\n",
              "      <th>1</th>\n",
              "      <th>2</th>\n",
              "      <th>y</th>\n",
              "    </tr>\n",
              "  </thead>\n",
              "  <tbody>\n",
              "    <tr>\n",
              "      <th>count</th>\n",
              "      <td>5.300000e+03</td>\n",
              "      <td>5.300000e+03</td>\n",
              "      <td>5300</td>\n",
              "    </tr>\n",
              "    <tr>\n",
              "      <th>unique</th>\n",
              "      <td>NaN</td>\n",
              "      <td>NaN</td>\n",
              "      <td>2</td>\n",
              "    </tr>\n",
              "    <tr>\n",
              "      <th>top</th>\n",
              "      <td>NaN</td>\n",
              "      <td>NaN</td>\n",
              "      <td>False</td>\n",
              "    </tr>\n",
              "    <tr>\n",
              "      <th>freq</th>\n",
              "      <td>NaN</td>\n",
              "      <td>NaN</td>\n",
              "      <td>2924</td>\n",
              "    </tr>\n",
              "    <tr>\n",
              "      <th>mean</th>\n",
              "      <td>-4.150943e-09</td>\n",
              "      <td>-1.886792e-10</td>\n",
              "      <td>NaN</td>\n",
              "    </tr>\n",
              "    <tr>\n",
              "      <th>std</th>\n",
              "      <td>1.000000e+00</td>\n",
              "      <td>1.000000e+00</td>\n",
              "      <td>NaN</td>\n",
              "    </tr>\n",
              "    <tr>\n",
              "      <th>min</th>\n",
              "      <td>-3.089839e+00</td>\n",
              "      <td>-2.385937e+00</td>\n",
              "      <td>NaN</td>\n",
              "    </tr>\n",
              "    <tr>\n",
              "      <th>25%</th>\n",
              "      <td>-7.533490e-01</td>\n",
              "      <td>-9.139027e-01</td>\n",
              "      <td>NaN</td>\n",
              "    </tr>\n",
              "    <tr>\n",
              "      <th>50%</th>\n",
              "      <td>-1.523150e-02</td>\n",
              "      <td>-3.721500e-02</td>\n",
              "      <td>NaN</td>\n",
              "    </tr>\n",
              "    <tr>\n",
              "      <th>75%</th>\n",
              "      <td>7.818312e-01</td>\n",
              "      <td>8.221040e-01</td>\n",
              "      <td>NaN</td>\n",
              "    </tr>\n",
              "    <tr>\n",
              "      <th>max</th>\n",
              "      <td>2.813360e+00</td>\n",
              "      <td>3.194302e+00</td>\n",
              "      <td>NaN</td>\n",
              "    </tr>\n",
              "  </tbody>\n",
              "</table>\n",
              "</div>"
            ],
            "text/plain": [
              "                   1             2      y\n",
              "count   5.300000e+03  5.300000e+03   5300\n",
              "unique           NaN           NaN      2\n",
              "top              NaN           NaN  False\n",
              "freq             NaN           NaN   2924\n",
              "mean   -4.150943e-09 -1.886792e-10    NaN\n",
              "std     1.000000e+00  1.000000e+00    NaN\n",
              "min    -3.089839e+00 -2.385937e+00    NaN\n",
              "25%    -7.533490e-01 -9.139027e-01    NaN\n",
              "50%    -1.523150e-02 -3.721500e-02    NaN\n",
              "75%     7.818312e-01  8.221040e-01    NaN\n",
              "max     2.813360e+00  3.194302e+00    NaN"
            ]
          },
          "execution_count": 7,
          "metadata": {},
          "output_type": "execute_result"
        }
      ],
      "source": [
        "from spotRiver.utils.data_conversion import convert_to_df\n",
        "target_column = \"y\"\n",
        "df = convert_to_df(dataset, target_column=target_column, n_total=n_samples)\n",
        "df.describe(include=\"all\")"
      ]
    },
    {
      "cell_type": "markdown",
      "id": "55866a6d",
      "metadata": {},
      "source": [
        "* Add column names x1 until x2 to the first 2 columns of the dataframe and the column name y to the last column of the dataframe.\n",
        "* Then split the data frame into a training and test data set. The train and test data sets are stored in the `fun_control` dictionary.\n"
      ]
    },
    {
      "cell_type": "code",
      "execution_count": 8,
      "id": "1d97d9a0",
      "metadata": {},
      "outputs": [],
      "source": [
        "df.columns = [f\"x{i}\" for i in range(1, dataset.n_features+1)] + [\"y\"]\n",
        "# map the target from False to integer 0 and from True to integer 1\n",
        "df[\"y\"] = df[\"y\"].astype(int)\n",
        "\n",
        "fun_control.update({\"train\":  df[:n_train],\n",
        "                    \"test\":  df[n_train:],\n",
        "                    \"n_samples\": n_samples,\n",
        "                    \"target_column\": target_column})"
      ]
    },
    {
      "cell_type": "markdown",
      "id": "b96a32e2",
      "metadata": {},
      "source": [
        "## Specification of the Preprocessing Model\n",
        "\n",
        "* We use the `StandardScaler` [[SOURCE]](https://riverml.xyz/dev/api/preprocessing/StandardScaler/) from `river` as the preprocessing model. The `StandardScaler` is used to standardize the data set, i.e., it has zero mean and unit variance.\n"
      ]
    },
    {
      "cell_type": "code",
      "execution_count": 9,
      "id": "b6d25cd7",
      "metadata": {},
      "outputs": [],
      "source": [
        "from river import preprocessing\n",
        "prep_model = preprocessing.StandardScaler()\n",
        "prep_model = None\n",
        "fun_control.update({\"prep_model\": prep_model})"
      ]
    },
    {
      "cell_type": "markdown",
      "id": "20d0bd92",
      "metadata": {},
      "source": [
        "## SelectSelect Model (`algorithm`) and `core_model_hyper_dict`\n",
        "\n",
        "`spotPython` hyperparameter tuning approach uses two components:\n",
        "\n",
        "1. a model (class) and \n",
        "2. an associated hyperparameter dictionary. \n",
        "\n",
        "\n",
        "The corresponding hyperparameters are loaded from the associated dictionary, which is stored as a JSON file [[SOURCE]](https://github.com/sequential-parameter-optimization/spotRiver/blob/main/src/spotRiver/data/river_hyper_dict.json). The JSON file contains hyperparameter type information, names, and bounds. \n",
        "\n",
        "The method `add_core_model_to_fun_control` adds the model and the hyperparameter dictionary to the `fun_control` dictionary.\n",
        "\n",
        "Alternatively, you can load a local hyper_dict. Simply set `river_hyper_dict.json` as the filename. If `filename`is set to `None`, which is the default, the hyper_dict [[SOURCE]](https://github.com/sequential-parameter-optimization/spotRiver/blob/main/src/spotRiver/data/river_hyper_dict.json) is loaded from the `spotRiver` package.\n"
      ]
    },
    {
      "cell_type": "code",
      "execution_count": 10,
      "id": "3e50ac92",
      "metadata": {},
      "outputs": [],
      "source": [
        "from river.forest import AMFClassifier\n",
        "from spotRiver.data.river_hyper_dict import RiverHyperDict\n",
        "from spotPython.hyperparameters.values import add_core_model_to_fun_control\n",
        "add_core_model_to_fun_control(core_model=AMFClassifier,\n",
        "                              fun_control=fun_control,\n",
        "                              hyper_dict=RiverHyperDict,\n",
        "                              filename=None)"
      ]
    },
    {
      "cell_type": "markdown",
      "id": "60d17f88",
      "metadata": {},
      "source": [
        "## Modify `hyper_dict` Hyperparameters for the Selected Algorithm aka `core_model`\n",
        "\n",
        "After the `core_model` and the `core_model_hyper_dict` are added to the `fun_control` dictionary, the hyperparameter tuning can be started.\n",
        "However, in some settings, the user wants to modify the hyperparameters of the `core_model_hyper_dict`. This can be done with the `modify_hyper_parameter_bounds` and `modify_hyper_parameter_levels` functions [[SOURCE]](https://github.com/sequential-parameter-optimization/spotPython/blob/main/src/spotPython/hyperparameters/values.py).\n",
        "\n",
        "The following code shows how hyperparameter of type numeric and integer (boolean) can be modified. The `modify_hyper_parameter_bounds` function is used to modify the bounds of the hyperparameter `delta` and `merit_preprune`. Similar option exists for the `modify_hyper_parameter_levels` function to modify the levels of categorical hyperparameters.\n"
      ]
    },
    {
      "cell_type": "code",
      "execution_count": 11,
      "id": "f6be0d73",
      "metadata": {},
      "outputs": [],
      "source": [
        "from spotPython.hyperparameters.values import modify_hyper_parameter_bounds\n",
        "modify_hyper_parameter_bounds(fun_control, \"n_estimators\", bounds=[2,20])\n",
        "modify_hyper_parameter_bounds(fun_control, \"step\", bounds=[0.01,10])"
      ]
    },
    {
      "cell_type": "markdown",
      "id": "b874873e",
      "metadata": {},
      "source": [
        "::: {.callout-note}\n",
        "#### Note: Active and Inactive Hyperparameters\n",
        "Hyperparameters can be excluded from the tuning procedure by selecting identical values for the lower and upper bounds.\n"
      ]
    },
    {
      "cell_type": "code",
      "execution_count": 12,
      "id": "2271847e",
      "metadata": {},
      "outputs": [
        {
          "name": "stdout",
          "output_type": "stream",
          "text": [
            "| name            | type   |   default |   lower |   upper | transform   |\n",
            "|-----------------|--------|-----------|---------|---------|-------------|\n",
            "| n_estimators    | int    |      10   |    2    |      20 | None        |\n",
            "| step            | float  |       1   |    0.01 |      10 | None        |\n",
            "| use_aggregation | factor |       1   |    0    |       1 | None        |\n",
            "| dirichlet       | float  |       0.5 |    0.01 |       1 | None        |\n",
            "| split_pure      | factor |       0   |    0    |       1 | None        |\n"
          ]
        }
      ],
      "source": [
        "from spotPython.utils.eda import gen_design_table\n",
        "print(gen_design_table(fun_control))"
      ]
    },
    {
      "cell_type": "markdown",
      "id": "698df0ff",
      "metadata": {},
      "source": [
        "## Selection of the Objective (Loss) Function\n",
        "\n",
        "The `metric_sklearn` is used for the sklearn based evaluation via `eval_oml_horizon` [[SOURCE]](https://github.com/sequential-parameter-optimization/spotRiver/blob/main/src/spotRiver/evaluation/eval_bml.py). Here we use the ` mean_absolute_error` [[SOURCE]](https://scikit-learn.org/stable/modules/generated/sklearn.metrics.mean_absolute_error.html) as the objective function.\n",
        "\n",
        ":::{.callout-note}\n",
        "#### Note: Additional metrics\n",
        "`spotRiver` also supports additional metrics. For example, the `metric_river` is used for the river based evaluation via `eval_oml_iter_progressive` [[SOURCE]](https://github.com/sequential-parameter-optimization/spotRiver/blob/main/src/spotRiver/evaluation/eval_oml.py). The `metric_river` is implemented to simulate the behaviour of the \"original\" `river` metrics.\n",
        ":::\n",
        "\n",
        "`spotRiver` provides information about the model' s score (metric), memory, and time.\n",
        "The hyperparamter tuner requires a single objective.\n",
        "Therefore, a weighted sum of the metric, memory, and time is computed. The weights are defined in the `weights` array.\n",
        "\n",
        ":::{.callout-note}\n",
        "#### Note: Weights\n",
        "The `weights` provide a flexible way to define specific requirements, e.g., if the memory is more important than the time, the weight for the memory can be increased.\n",
        ":::\n",
        "\n",
        "The `oml_grace_period` defines the number of observations that are used for the initial training of the model. The `step` defines the iteration number at which to yield results. This only takes into account the predictions, and not the training steps.  The `weight_coeff` defines a multiplier for the results: results are multiplied by (step/n_steps)**weight_coeff, where n_steps is the total number of iterations. \n",
        "Results from the beginning have a lower weight than results from the end if weight_coeff > 1. If weight_coeff == 0, all results have equal weight. Note, that the `weight_coeff` is only used internally for the tuner and does not affect the results that are used for the evaluation or comparisons.\n"
      ]
    },
    {
      "cell_type": "code",
      "execution_count": 13,
      "id": "f3a80b5a",
      "metadata": {},
      "outputs": [],
      "source": [
        "import numpy as np\n",
        "from sklearn.metrics import accuracy_score\n",
        "\n",
        "weights = np.array([1, 1/1000, 1/1000])*10_000.0\n",
        "oml_grace_period = 2\n",
        "step = 100\n",
        "weight_coeff = -1.0\n",
        "\n",
        "fun_control.update({\n",
        "               \"horizon\": horizon,\n",
        "               \"oml_grace_period\": oml_grace_period,\n",
        "               \"weights\": weights,\n",
        "               \"step\": step,\n",
        "               \"weight_coeff\": weight_coeff,\n",
        "               \"metric_sklearn\": accuracy_score\n",
        "               })"
      ]
    },
    {
      "cell_type": "markdown",
      "id": "a58b5f34",
      "metadata": {},
      "source": [
        "## Calling the SPOT Function\n",
        "\n",
        "### Prepare the SPOT Parameters\n",
        "\n",
        "The hyperparameter tuning configuration is stored in the `fun_control` dictionary. Since `Spot` can be used as an optimization algorithm with a similar interface as optimization algorithms from `scipy.optimize` [[LINK]](https://docs.scipy.org/doc/scipy/reference/optimize.html#module-scipy.optimize), the bounds and variable types have to be specified explicitely. The `get_var_type`, `get_var_name`, and `get_bound_values` functions [[SOURCE]](https://github.com/sequential-parameter-optimization/spotPython/blob/main/src/spotPython/hyperparameters/values.py) implement the required functionality.\n",
        "\n",
        "* Get types and variable names as well as lower and upper bounds for the hyperparameters, so that they can be passed to the `Spot` function.\n"
      ]
    },
    {
      "cell_type": "code",
      "execution_count": 14,
      "id": "febbd4d1",
      "metadata": {},
      "outputs": [],
      "source": [
        "from spotPython.hyperparameters.values import (\n",
        "    get_var_type,\n",
        "    get_var_name,\n",
        "    get_bound_values\n",
        "    )\n",
        "var_type = get_var_type(fun_control)\n",
        "var_name = get_var_name(fun_control)\n",
        "lower = get_bound_values(fun_control, \"lower\")\n",
        "upper = get_bound_values(fun_control, \"upper\")"
      ]
    },
    {
      "cell_type": "markdown",
      "id": "0d7be039",
      "metadata": {},
      "source": [
        "### The Objective Function {#sec-the-objective-function-13}\n",
        "\n",
        "The objective function `fun_oml_horizon` [[SOURCE]](https://github.com/sequential-parameter-optimization/spotRiver/blob/main/src/spotRiver/fun/hyperriver.py) is selected next.\n"
      ]
    },
    {
      "cell_type": "code",
      "execution_count": 15,
      "id": "bf473966",
      "metadata": {},
      "outputs": [],
      "source": [
        "from spotRiver.fun.hyperriver import HyperRiver\n",
        "fun = HyperRiver(log_level=50).fun_oml_horizon"
      ]
    },
    {
      "cell_type": "markdown",
      "id": "8a9913e8",
      "metadata": {},
      "source": [
        "The following code snippet shows how to get the default hyperparameters as an array, so that they can be passed to the `Spot` function.\n"
      ]
    },
    {
      "cell_type": "code",
      "execution_count": 16,
      "id": "d4a9be5c",
      "metadata": {},
      "outputs": [],
      "source": [
        "from spotPython.hyperparameters.values import get_default_hyperparameters_as_array\n",
        "X_start = get_default_hyperparameters_as_array(fun_control)"
      ]
    },
    {
      "cell_type": "markdown",
      "id": "63e6a054",
      "metadata": {},
      "source": [
        "### Run the `Spot` Optimizer\n",
        "\n",
        "The class `Spot` [[SOURCE]](https://github.com/sequential-parameter-optimization/spotPython/blob/main/src/spotPython/spot/spot.py) is the hyperparameter tuning workhorse. It is initialized with the following parameters:\n",
        "\n",
        "* `fun`: the objective function\n",
        "* `lower`: lower bounds of the hyperparameters\n",
        "* `upper`: upper bounds of the hyperparameters\n",
        "* `fun_evals`: number of function evaluations\n",
        "* `max_time`: maximum time in seconds\n",
        "* `tolerance_x`: tolerance for the hyperparameters\n",
        "* `var_type`: variable types of the hyperparameters\n",
        "* `var_name`: variable names of the hyperparameters\n",
        "* `show_progress`: show progress bar\n",
        "* `fun_control`: dictionary with control parameters for the objective function\n",
        "* `design_control`: dictionary with control parameters for the initial design\n",
        "* `surrogate_control`: dictionary with control parameters for the surrogate model\n",
        "\n",
        ":::{.callout-note}\n",
        "#### Note: Total run time\n",
        " The total run time may exceed the specified `max_time`, because the initial design (here: `init_size` = INIT_SIZE as specified above) is always evaluated, even if this takes longer than `max_time`.\n",
        ":::\n"
      ]
    },
    {
      "cell_type": "code",
      "execution_count": 17,
      "id": "85616deb",
      "metadata": {},
      "outputs": [],
      "source": [
        "from spotPython.spot import spot\n",
        "from math import inf\n",
        "spot_tuner = spot.Spot(fun=fun,\n",
        "                   lower = lower,\n",
        "                   upper = upper,\n",
        "                   fun_evals = inf,\n",
        "                   max_time = MAX_TIME,\n",
        "                   tolerance_x = np.sqrt(np.spacing(1)),\n",
        "                   var_type = var_type,\n",
        "                   var_name = var_name,\n",
        "                   show_progress= True,\n",
        "                   fun_control = fun_control,\n",
        "                   design_control={\"init_size\": INIT_SIZE},\n",
        "                   surrogate_control={\"noise\": False,\n",
        "                                      \"cod_type\": \"norm\",\n",
        "                                      \"min_theta\": -4,\n",
        "                                      \"max_theta\": 3,\n",
        "                                      \"n_theta\": len(var_name),\n",
        "                                      \"model_fun_evals\": 10_000},\n",
        "                                      log_level=50)\n",
        "spot_tuner.run(X_start=X_start)"
      ]
    },
    {
      "cell_type": "markdown",
      "id": "5ad54508",
      "metadata": {},
      "source": [
        "### TensorBoard {#sec-tensorboard-10}\n",
        "\n",
        "Now we can start TensorBoard in the background with the following command, where `./runs` is the default directory for the TensorBoard log files:\n",
        "\n",
        "\n",
        "```{raw}\n",
        "tensorboard --logdir=\"./runs\"\n",
        "```\n",
        "\n",
        "\n",
        ":::{.callout-tip}\n",
        "#### Tip: TENSORBOARD_PATH\n",
        "The TensorBoard path can be printed with the following command:\n"
      ]
    },
    {
      "cell_type": "code",
      "execution_count": null,
      "id": "05a934a6",
      "metadata": {},
      "outputs": [],
      "source": [
        "from spotPython.utils.file import get_tensorboard_path\n",
        "get_tensorboard_path(fun_control)"
      ]
    },
    {
      "cell_type": "markdown",
      "id": "68ce5f6e",
      "metadata": {},
      "source": [
        ":::\n",
        "\n",
        "We can access the TensorBoard web server with the following URL:\n",
        "\n",
        "\n",
        "```{raw}\n",
        "http://localhost:6006/\n",
        "```\n",
        "\n",
        "\n",
        "The TensorBoard plot illustrates how `spotPython` can be used as a microscope for the internal mechanisms of the surrogate-based optimization process. Here, one important parameter, the learning rate $\\theta$ of the Kriging surrogate [[SOURCE]](https://github.com/sequential-parameter-optimization/spotPython/blob/main/src/spotPython/build/kriging.py) is plotted against the number of optimization steps.\n",
        "\n",
        "![TensorBoard visualization of the spotPython optimization process and the surrogate model.](figures_static/13_tensorboard_01.png){width=\"100%\"}\n",
        "\n",
        "\n",
        "### Results\n",
        "\n",
        "After the hyperparameter tuning run is finished, the results can be saved and reloaded with the following commands:\n"
      ]
    },
    {
      "cell_type": "code",
      "execution_count": null,
      "id": "e2fca5c0",
      "metadata": {},
      "outputs": [],
      "source": [
        "from spotPython.utils.file import save_pickle\n",
        "save_pickle(spot_tuner, experiment_name)"
      ]
    },
    {
      "cell_type": "code",
      "execution_count": null,
      "id": "2db61c17",
      "metadata": {},
      "outputs": [],
      "source": [
        "from spotPython.utils.file import load_pickle\n",
        "spot_tuner = load_pickle(experiment_name)"
      ]
    },
    {
      "cell_type": "markdown",
      "id": "bb65ec16",
      "metadata": {},
      "source": [
        "After the hyperparameter tuning run is finished, the progress of the hyperparameter tuning can be visualized. The black points represent the performace values (score or metric) of  hyperparameter configurations from the initial design, whereas the red points represents the  hyperparameter configurations found by the surrogate model based optimization.\n"
      ]
    },
    {
      "cell_type": "code",
      "execution_count": null,
      "id": "b2d35ecf",
      "metadata": {},
      "outputs": [],
      "source": [
        "spot_tuner.plot_progress(log_y=True, filename=\"./figures/\" + experiment_name+\"_progress.pdf\")"
      ]
    },
    {
      "cell_type": "markdown",
      "id": "e474b132",
      "metadata": {},
      "source": [
        "Results can also be printed in tabular form.\n"
      ]
    },
    {
      "cell_type": "code",
      "execution_count": null,
      "id": "3201bb63",
      "metadata": {},
      "outputs": [],
      "source": [
        "print(gen_design_table(fun_control=fun_control, spot=spot_tuner))"
      ]
    },
    {
      "cell_type": "markdown",
      "id": "c7f6c04c",
      "metadata": {},
      "source": [
        "A histogram can be used to visualize the most important hyperparameters.\n"
      ]
    },
    {
      "cell_type": "code",
      "execution_count": null,
      "id": "1a6b954a",
      "metadata": {},
      "outputs": [],
      "source": [
        "spot_tuner.plot_importance(threshold=0.0025, filename=\"./figures/\" + experiment_name+\"_importance.pdf\")"
      ]
    },
    {
      "cell_type": "markdown",
      "id": "aa2716b7",
      "metadata": {},
      "source": [
        "## Get Default Hyperparameters\n",
        "\n",
        "The default hyperparameters, whihc will be used for a comparion with the tuned hyperparameters, can be obtained with the following commands:"
      ]
    },
    {
      "cell_type": "code",
      "execution_count": null,
      "id": "6ea1fd19",
      "metadata": {},
      "outputs": [],
      "source": [
        "from spotPython.hyperparameters.values import get_one_core_model_from_X\n",
        "from spotPython.hyperparameters.values import get_default_hyperparameters_as_array\n",
        "X_start = get_default_hyperparameters_as_array(fun_control)\n",
        "model_default = get_one_core_model_from_X(X_start, fun_control)"
      ]
    },
    {
      "cell_type": "markdown",
      "id": "c3c99a3e",
      "metadata": {},
      "source": [
        ":::{.callout-note}\n",
        "#### Note: `spotPython` tunes numpy arrays\n",
        "* `spotPython` tunes numpy arrays, i.e., the hyperparameters are stored in a numpy array.\n",
        "::::\n",
        "\n",
        "The model with the default hyperparameters can be trained and evaluated with the following commands:\n"
      ]
    },
    {
      "cell_type": "code",
      "execution_count": null,
      "id": "47041f83",
      "metadata": {},
      "outputs": [],
      "source": [
        "from spotRiver.evaluation.eval_bml import eval_oml_horizon\n",
        "\n",
        "df_eval_default, df_true_default = eval_oml_horizon(\n",
        "                    model=model_default,\n",
        "                    train=fun_control[\"train\"],\n",
        "                    test=fun_control[\"test\"],\n",
        "                    target_column=fun_control[\"target_column\"],\n",
        "                    horizon=fun_control[\"horizon\"],\n",
        "                    oml_grace_period=fun_control[\"oml_grace_period\"],\n",
        "                    metric=fun_control[\"metric_sklearn\"],\n",
        "                )"
      ]
    },
    {
      "cell_type": "markdown",
      "id": "5a0156a9",
      "metadata": {},
      "source": [
        "The three performance criteria, i.e., space (metric), runtime, and memory consumption, can be visualized with the following commands:\n"
      ]
    },
    {
      "cell_type": "code",
      "execution_count": null,
      "id": "ad31330b",
      "metadata": {},
      "outputs": [],
      "source": [
        "from spotRiver.evaluation.eval_bml import plot_bml_oml_horizon_metrics, plot_bml_oml_horizon_predictions\n",
        "df_labels=[\"default\"]\n",
        "plot_bml_oml_horizon_metrics(df_eval = [df_eval_default], log_y=False, df_labels=df_labels, metric=fun_control[\"metric_sklearn\"])"
      ]
    },
    {
      "cell_type": "markdown",
      "id": "1cde10b7",
      "metadata": {},
      "source": [
        "### Show Predictions\n",
        "\n",
        "* Select a subset of the data set for the visualization of the predictions:\n",
        "    * We use the mean, $m$, of the data set as the center of the visualization.\n",
        "    * We use 100 data points, i.e., $m \\pm 50$ as the visualization window.\n"
      ]
    },
    {
      "cell_type": "code",
      "execution_count": null,
      "id": "9ddf6ed3",
      "metadata": {},
      "outputs": [],
      "source": [
        "m = fun_control[\"test\"].shape[0]\n",
        "a = int(m/2)-50\n",
        "b = int(m/2)"
      ]
    },
    {
      "cell_type": "code",
      "execution_count": null,
      "id": "d70a13a5",
      "metadata": {},
      "outputs": [],
      "source": [
        "plot_bml_oml_horizon_predictions(df_true = [df_true_default[a:b]], target_column=target_column,  df_labels=df_labels)"
      ]
    },
    {
      "cell_type": "markdown",
      "id": "8b339be9",
      "metadata": {},
      "source": [
        "## Get SPOT Results\n",
        "\n",
        "In a similar way, we can obtain the hyperparameters found by `spotPython`.\n"
      ]
    },
    {
      "cell_type": "code",
      "execution_count": null,
      "id": "26e15643",
      "metadata": {},
      "outputs": [],
      "source": [
        "from spotPython.hyperparameters.values import get_one_core_model_from_X\n",
        "X = spot_tuner.to_all_dim(spot_tuner.min_X.reshape(1,-1))\n",
        "model_spot = get_one_core_model_from_X(X, fun_control)"
      ]
    },
    {
      "cell_type": "code",
      "execution_count": null,
      "id": "2b05f8da",
      "metadata": {},
      "outputs": [],
      "source": [
        "df_eval_spot, df_true_spot = eval_oml_horizon(\n",
        "                    model=model_spot,\n",
        "                    train=fun_control[\"train\"],\n",
        "                    test=fun_control[\"test\"],\n",
        "                    target_column=fun_control[\"target_column\"],\n",
        "                    horizon=fun_control[\"horizon\"],\n",
        "                    oml_grace_period=fun_control[\"oml_grace_period\"],\n",
        "                    metric=fun_control[\"metric_sklearn\"],\n",
        "                )"
      ]
    },
    {
      "cell_type": "code",
      "execution_count": null,
      "id": "413a24c7",
      "metadata": {},
      "outputs": [],
      "source": [
        "df_labels=[\"default\", \"spot\"]\n",
        "plot_bml_oml_horizon_metrics(df_eval = [df_eval_default, df_eval_spot], log_y=False, df_labels=df_labels, metric=fun_control[\"metric_sklearn\"], filename=\"./figures/\" + experiment_name+\"_metrics.pdf\")"
      ]
    },
    {
      "cell_type": "code",
      "execution_count": null,
      "id": "2f70955e",
      "metadata": {},
      "outputs": [],
      "source": [
        "# plot_bml_oml_horizon_predictions(df_true = [df_true_default[a:b], df_true_spot[a:b]], target_column=target_column,  df_labels=df_labels, filename=\"./figures/\" + experiment_name+\"_predictions.pdf\")"
      ]
    },
    {
      "cell_type": "code",
      "execution_count": null,
      "id": "94ccc21d",
      "metadata": {},
      "outputs": [],
      "source": [
        "# from spotPython.plot.validation import plot_actual_vs_predicted\n",
        "# plot_actual_vs_predicted(y_test=df_true_default[target_column], y_pred=df_true_default[\"Prediction\"], title=\"Default\")\n",
        "# plot_actual_vs_predicted(y_test=df_true_spot[target_column], y_pred=df_true_spot[\"Prediction\"], title=\"SPOT\")"
      ]
    },
    {
      "cell_type": "markdown",
      "id": "5741c14d",
      "metadata": {},
      "source": [
        "## Compare Predictions"
      ]
    },
    {
      "cell_type": "code",
      "execution_count": null,
      "id": "fb8baffd",
      "metadata": {},
      "outputs": [],
      "source": [
        "from sklearn.model_selection import cross_val_predict\n",
        "import matplotlib.pyplot as plt\n",
        "from sklearn.base import BaseEstimator\n",
        "from sklearn.metrics import PredictionErrorDisplay\n",
        "from sklearn.metrics import RocCurveDisplay\n",
        "from sklearn.metrics import ConfusionMatrixDisplay\n",
        "from spotPython.utils.convert import get_Xy_from_df\n",
        "from typing import Any, Dict, List, Union\n",
        "import pandas as pd\n",
        "\n",
        "\n",
        "def plot_roc(\n",
        "    model_list: List[pd.DataFrame],\n",
        "    alpha: float = 0.8,\n",
        "    model_names: List[str] = None,\n",
        ") -> None:\n",
        "    \"\"\"\n",
        "    Plot ROC curve for a list of models.\n",
        "\n",
        "    Args:\n",
        "        model_list: List of models.\n",
        "        alpha: Transparency of the plotted lines.\n",
        "        model_names: List of model names.\n",
        "        \n",
        "    Returns:\n",
        "        None\n",
        "\n",
        "    Examples:\n",
        "        >>> from spotPython.utils.file import load_pickle\n",
        "        >>> spot_tuner = load_pickle(\"spot_tuner\")\n",
        "        >>> plot_roc(model_list=[spot_tuner.df_eval], model_names=[\"SPOT\"])\n",
        "    \"\"\"\n",
        "    ax = plt.gca()\n",
        "    for i, df in enumerate(model_list):\n",
        "        y_test=df[target_column]\n",
        "        y_pred=df[\"Prediction\"]\n",
        "        if model_names is not None:\n",
        "            model_name = model_names[i]\n",
        "        else:\n",
        "            model_name = None        \n",
        "        RocCurveDisplay.from_predictions(y_test, y_pred, ax=ax, alpha=alpha, name=model_name)\n",
        "    plt.show()"
      ]
    },
    {
      "cell_type": "code",
      "execution_count": null,
      "id": "76bb7d50",
      "metadata": {},
      "outputs": [],
      "source": [
        "plot_roc([df_true_default, df_true_spot], model_names=[\"default\", \"spot\"])"
      ]
    },
    {
      "cell_type": "code",
      "execution_count": null,
      "id": "1093cf92",
      "metadata": {},
      "outputs": [],
      "source": [
        "def plot_confusion_matrix(df, target_names=None, title=None):\n",
        "    \"\"\"\n",
        "    Plotting a confusion matrix\n",
        "    \"\"\"\n",
        "    y_test=df[target_column]\n",
        "    pred=df[\"Prediction\"]\n",
        "    fig, ax = plt.subplots(figsize=(10, 5))\n",
        "    ConfusionMatrixDisplay.from_predictions(y_test, pred, ax=ax)\n",
        "    if target_names is not None:\n",
        "        ax.xaxis.set_ticklabels(target_names)\n",
        "        ax.yaxis.set_ticklabels(target_names)\n",
        "    if title is not None:\n",
        "        _ = ax.set_title(title)"
      ]
    },
    {
      "cell_type": "code",
      "execution_count": null,
      "id": "80d19f46",
      "metadata": {},
      "outputs": [],
      "source": [
        "plot_confusion_matrix(df=df_true_default, title=\"Default\")"
      ]
    },
    {
      "cell_type": "code",
      "execution_count": null,
      "id": "a2afc9c9",
      "metadata": {},
      "outputs": [],
      "source": [
        "plot_confusion_matrix(df=df_true_spot, title=\"Spot\")"
      ]
    },
    {
      "cell_type": "markdown",
      "id": "a5d06a0b",
      "metadata": {},
      "source": [
        "## Detailed Hyperparameter Plots\n"
      ]
    },
    {
      "cell_type": "code",
      "execution_count": null,
      "id": "fd28a7a3",
      "metadata": {},
      "outputs": [],
      "source": [
        "filename = \"./figures/\" + experiment_name\n",
        "spot_tuner.plot_important_hyperparameter_contour(filename=filename)"
      ]
    },
    {
      "cell_type": "markdown",
      "id": "7b98d9bb",
      "metadata": {},
      "source": [
        "## Parallel Coordinates Plots\n"
      ]
    },
    {
      "cell_type": "code",
      "execution_count": null,
      "id": "e22b098a",
      "metadata": {},
      "outputs": [],
      "source": [
        "spot_tuner.parallel_plot()"
      ]
    },
    {
      "cell_type": "markdown",
      "id": "9ca00262",
      "metadata": {},
      "source": [
        "## Plot all Combinations of Hyperparameters\n",
        "\n",
        "* Warning: this may take a while.\n"
      ]
    },
    {
      "cell_type": "code",
      "execution_count": null,
      "id": "4b4dad67",
      "metadata": {},
      "outputs": [],
      "source": [
        "PLOT_ALL = False\n",
        "if PLOT_ALL:\n",
        "    n = spot_tuner.k\n",
        "    for i in range(n-1):\n",
        "        for j in range(i+1, n):\n",
        "            spot_tuner.plot_contour(i=i, j=j, min_z=min_z, max_z = max_z)"
      ]
    }
  ],
  "metadata": {
    "kernelspec": {
      "display_name": "Python 3 (ipykernel)",
      "language": "python",
      "name": "python3"
    },
    "language_info": {
      "codemirror_mode": {
        "name": "ipython",
        "version": 3
      },
      "file_extension": ".py",
      "mimetype": "text/x-python",
      "name": "python",
      "nbconvert_exporter": "python",
      "pygments_lexer": "ipython3",
      "version": "3.11.6"
    }
  },
  "nbformat": 4,
  "nbformat_minor": 5
}
