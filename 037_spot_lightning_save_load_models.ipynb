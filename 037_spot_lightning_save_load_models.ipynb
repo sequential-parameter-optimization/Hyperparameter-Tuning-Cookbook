{
  "cells": [
    {
      "cell_type": "markdown",
      "metadata": {},
      "source": [
        "---\n",
        "execute:\n",
        "  cache: false\n",
        "  eval: true\n",
        "  echo: true\n",
        "  warning: false\n",
        "jupyter: python3\n",
        "---\n",
        "\n",
        "# Saving and Loading\n",
        "\n",
        "This tutorial shows how to save and load objects in `spotPython`.\n",
        "It is split into the following parts:\n",
        "- @sec-spotpython-saving-and-loading shows how to save and load objects in `spotPython`, if `spotPython` is used as an optimizer.\n",
        "- @sec-spotpython-as-a-hyperparameter-tuner-37 shows how to save and load hyperparameter tuning experiments.\n",
        "- @sec-saving-and-loading-pytorch-lightning-models-37 shows how to save and load `PyTorch Lightning` models.\n",
        "- @sec-converting-a-lightning-model-to-a-plain-torch-model-37 shows how to convert a `PyTorch Lightning` model to a plain `PyTorch` model.\n",
        "\n",
        "## spotPython: Saving and Loading Optimization Experiments {#sec-spotpython-saving-and-loading}\n",
        "\n",
        "In this section, we will show how results from `spotPython` can be saved and reloaded.\n",
        "Here, `spotPython` can be used as an optimizer. \n",
        "\n",
        "### spotPython as an Optimizer\n",
        "\n",
        "If `spotPython` is used as an optimizer, no dictionary of hyperparameters has be specified. The `fun_control` dictionary is sufficient. \n"
      ]
    },
    {
      "cell_type": "code",
      "execution_count": 1,
      "metadata": {},
      "outputs": [
        {
          "name": "stderr",
          "output_type": "stream",
          "text": [
            "Seed set to 123\n",
            "Seed set to 123\n"
          ]
        },
        {
          "name": "stdout",
          "output_type": "stream",
          "text": [
            "spotPython tuning: 4.7932399644479124 [########--] 75.00% \n",
            "spotPython tuning: 2.0379795645847087 [#########-] 87.50% \n",
            "spotPython tuning: 1.986328241945829 [##########] 100.00% Done...\n",
            "\n",
            "filename: spot_branin_experiment.pickle\n"
          ]
        }
      ],
      "source": [
        "#| label: code-optimization-experiment-37\n",
        "import os\n",
        "import pprint\n",
        "from spotPython.utils.file import load_experiment\n",
        "from spotPython.utils.file import get_experiment_filename\n",
        "import numpy as np\n",
        "from math import inf\n",
        "from spotPython.spot import spot\n",
        "from spotPython.utils.init import (\n",
        "    fun_control_init,\n",
        "    design_control_init,\n",
        "    surrogate_control_init,\n",
        "    optimizer_control_init)\n",
        "from spotPython.fun.objectivefunctions import analytical\n",
        "fun = analytical().fun_branin\n",
        "fun_control = fun_control_init(\n",
        "            PREFIX=\"branin\",\n",
        "            SUMMARY_WRITER=False,\n",
        "            lower = np.array([0, 0]),\n",
        "            upper = np.array([10, 10]),\n",
        "            fun_evals=8,\n",
        "            fun_repeats=1,\n",
        "            max_time=inf,\n",
        "            noise=False,\n",
        "            tolerance_x=0,\n",
        "            ocba_delta=0,\n",
        "            var_type=[\"num\", \"num\"],\n",
        "            infill_criterion=\"ei\",\n",
        "            n_points=1,\n",
        "            seed=123,\n",
        "            log_level=20,\n",
        "            show_models=False,\n",
        "            show_progress=True)\n",
        "design_control = design_control_init(\n",
        "            init_size=5,\n",
        "            repeats=1)\n",
        "surrogate_control = surrogate_control_init(\n",
        "            model_fun_evals=10000,\n",
        "            min_theta=-3,\n",
        "            max_theta=3,\n",
        "            n_theta=2,\n",
        "            theta_init_zero=True,\n",
        "            n_p=1,\n",
        "            optim_p=False,\n",
        "            var_type=[\"num\", \"num\"],\n",
        "            seed=124)\n",
        "optimizer_control = optimizer_control_init(\n",
        "            max_iter=1000,\n",
        "            seed=125)\n",
        "spot_tuner = spot.Spot(fun=fun,\n",
        "            fun_control=fun_control,\n",
        "            design_control=design_control,\n",
        "            surrogate_control=surrogate_control,\n",
        "            optimizer_control=optimizer_control)\n",
        "spot_tuner.run()\n",
        "PREFIX = fun_control[\"PREFIX\"]\n",
        "filename = get_experiment_filename(PREFIX)\n",
        "spot_tuner.save_experiment(filename=filename)\n",
        "print(f\"filename: {filename}\")"
      ]
    },
    {
      "cell_type": "code",
      "execution_count": 2,
      "metadata": {},
      "outputs": [],
      "source": [
        "#| label: code-reload-optimization-experiment-37\n",
        "(spot_tuner_1, fun_control_1, design_control_1,\n",
        "    surrogate_control_1, optimizer_control_1) = load_experiment(filename)"
      ]
    },
    {
      "cell_type": "markdown",
      "metadata": {},
      "source": [
        "The progress of the original experiment is shown in @fig-plot-progress-37a and the reloaded experiment in @fig-plot-progress-37b."
      ]
    },
    {
      "cell_type": "code",
      "execution_count": 3,
      "metadata": {},
      "outputs": [
        {
          "data": {
            "image/png": "[encoded data removed]",
            "text/plain": [
              "<Figure size 900x600 with 1 Axes>"
            ]
          },
          "metadata": {},
          "output_type": "display_data"
        }
      ],
      "source": [
        "#| label: fig-plot-progress-37a\n",
        "#| fig-cap: \"Progress of the original experiment\"\n",
        "spot_tuner.plot_progress(log_y=True)"
      ]
    },
    {
      "cell_type": "code",
      "execution_count": 4,
      "metadata": {},
      "outputs": [
        {
          "data": {
            "image/png": "[encoded data removed]",
            "text/plain": [
              "<Figure size 900x600 with 1 Axes>"
            ]
          },
          "metadata": {},
          "output_type": "display_data"
        }
      ],
      "source": [
        "#| label: fig-plot-progress-37b\n",
        "#| fig-cap: \"Progress of the reloaded experiment\"\n",
        "spot_tuner_1.plot_progress(log_y=True)"
      ]
    },
    {
      "cell_type": "markdown",
      "metadata": {},
      "source": [
        "The results from the original experiment are shown in @tbl-results-37a and the reloaded experiment in @tbl-results-37b."
      ]
    },
    {
      "cell_type": "code",
      "execution_count": 5,
      "metadata": {},
      "outputs": [
        {
          "name": "stdout",
          "output_type": "stream",
          "text": [
            "min y: 1.986328241945829\n",
            "x0: 10.0\n",
            "x1: 3.2107728198306598\n"
          ]
        },
        {
          "data": {
            "text/plain": [
              "[['x0', 10.0], ['x1', 3.2107728198306598]]"
            ]
          },
          "execution_count": 5,
          "metadata": {},
          "output_type": "execute_result"
        }
      ],
      "source": [
        "#| label: tbl-results-37a\n",
        "spot_tuner.print_results()"
      ]
    },
    {
      "cell_type": "code",
      "execution_count": 6,
      "metadata": {},
      "outputs": [
        {
          "name": "stdout",
          "output_type": "stream",
          "text": [
            "min y: 1.986328241945829\n",
            "x0: 10.0\n",
            "x1: 3.2107728198306598\n"
          ]
        },
        {
          "data": {
            "text/plain": [
              "[['x0', 10.0], ['x1', 3.2107728198306598]]"
            ]
          },
          "execution_count": 6,
          "metadata": {},
          "output_type": "execute_result"
        }
      ],
      "source": [
        "#| label: tbl-results-37b\n",
        "spot_tuner_1.print_results()"
      ]
    },
    {
      "cell_type": "markdown",
      "metadata": {},
      "source": [
        "#### Getting the Tuned Hyperparameters\n",
        "\n",
        "The tuned hyperparameters can be obtained as a dictionary with the following code."
      ]
    },
    {
      "cell_type": "code",
      "execution_count": 7,
      "metadata": {},
      "outputs": [
        {
          "data": {
            "text/plain": [
              "{'x0': 10.0, 'x1': 3.2107728198306598}"
            ]
          },
          "execution_count": 7,
          "metadata": {},
          "output_type": "execute_result"
        }
      ],
      "source": [
        "#| label: code-get-tuned-optimization-37\n",
        "from spotPython.hyperparameters.values import get_tuned_hyperparameters\n",
        "get_tuned_hyperparameters(spot_tuner=spot_tuner)"
      ]
    },
    {
      "cell_type": "markdown",
      "metadata": {},
      "source": [
        "::: {.callout-note}\n",
        "### Summary: Saving and Loading Optimization Experiments\n",
        "* If `spotPython` is used as an optimizer (without an hyperparameter dictionary), experiments can be saved and reloaded with the `save_experiment` and `load_experiment` functions.\n",
        "* The tuned hyperparameters can be obtained with the `get_tuned_hyperparameters` function.\n",
        ":::\n",
        "\n",
        "\n",
        "\n",
        "## spotPython as a Hyperparameter Tuner {#sec-spotpython-as-a-hyperparameter-tuner-37}\n",
        "\n",
        "If `spotPython` is used as a hyperparameter tuner, in addition to the `fun_control` dictionary a `core_model` dictionary have to be specified.\n",
        "This will be explained in @sec-adding-a-core-model-37.\n",
        "\n",
        "Furthermore, a data set has to be selected and added to the `fun_control` dictionary.\n",
        "Here, we will use the `Diabetes` data set.\n",
        "\n",
        "\n",
        "### The Diabetes Data Set\n",
        "\n",
        "The hyperparameter tuning of a `PyTorch Lightning` network on the `Diabetes` data set is used as an example. The `Diabetes` data set is a PyTorch Dataset for regression, which originates from the `scikit-learn` package, see [https://scikit-learn.org/stable/modules/generated/sklearn.datasets.load_diabetes.html#sklearn.datasets.load_diabetes](https://scikit-learn.org/stable/modules/generated/sklearn.datasets.load_diabetes.html#sklearn.datasets.load_diabetes).\n",
        "\n",
        " Ten baseline variables, age, sex, body mass index, average blood pressure, and six blood serum measurements were obtained for each of n = 442 diabetes patients,  as well as the response of interest, a quantitative measure of disease progression one year after baseline.\n",
        "The `Diabetes` data set is described in @tbl-diabetes-31.\n",
        "\n",
        "| Description | Value |\n",
        "| --- | --- |\n",
        "| Samples total | 442 |\n",
        "| Dimensionality | 10 |\n",
        "| Features | real, -.2 < x < .2 |\n",
        "| Targets | integer 25 - 346 |\n",
        ": The Diabetes data set {#tbl-diabetes-31}\n"
      ]
    },
    {
      "cell_type": "code",
      "execution_count": 8,
      "metadata": {},
      "outputs": [
        {
          "name": "stderr",
          "output_type": "stream",
          "text": [
            "Seed set to 123\n"
          ]
        },
        {
          "name": "stdout",
          "output_type": "stream",
          "text": [
            "Moving TENSORBOARD_PATH: runs/ to TENSORBOARD_PATH_OLD: runs_OLD/runs_2024_07_05_21_27_24\n",
            "Created spot_tensorboard_path: runs/spot_logs/037_p040025_2024-07-05_21-27-24 for SummaryWriter()\n"
          ]
        }
      ],
      "source": [
        "#| label: code-hyperparameter-tuning-37\n",
        "from spotPython.utils.device import getDevice\n",
        "from math import inf\n",
        "from spotPython.utils.init import fun_control_init\n",
        "import numpy as np\n",
        "from spotPython.hyperparameters.values import set_control_key_value\n",
        "from spotPython.data.diabetes import Diabetes\n",
        "\n",
        "MAX_TIME = inf\n",
        "FUN_EVALS = 8\n",
        "INIT_SIZE = 5\n",
        "WORKERS = 0\n",
        "PREFIX=\"037\"\n",
        "DEVICE = getDevice()\n",
        "DEVICES = 1\n",
        "TEST_SIZE = 0.4\n",
        "TORCH_METRIC = \"mean_squared_error\"\n",
        "dataset = Diabetes()\n",
        "\n",
        "fun_control = fun_control_init(\n",
        "    _L_in=10,\n",
        "    _L_out=1,\n",
        "    _torchmetric=TORCH_METRIC,\n",
        "    PREFIX=PREFIX,\n",
        "    TENSORBOARD_CLEAN=True,\n",
        "    data_set=dataset,\n",
        "    device=DEVICE,\n",
        "    enable_progress_bar=False,\n",
        "    fun_evals=FUN_EVALS,\n",
        "    log_level=10,\n",
        "    max_time=MAX_TIME,\n",
        "    num_workers=WORKERS,\n",
        "    show_progress=True,\n",
        "    test_size=TEST_SIZE,\n",
        "    tolerance_x=np.sqrt(np.spacing(1)),\n",
        "    )"
      ]
    },
    {
      "cell_type": "markdown",
      "metadata": {},
      "source": [
        "### Adding a `core_model` to the `fun_control` Dictionary {#sec-adding-a-core-model-37}\n",
        "\n",
        "`spotPython` includes the `NetLightRegression` class [[SOURCE]](https://github.com/sequential-parameter-optimization/spotPython/blob/main/src/spotPython/light/NetLightRegression.py) for configurable neural networks. \n",
        "The class is imported here. It inherits from the class `Lightning.LightningModule`, which is the base class for all models in `Lightning`. `Lightning.LightningModule` is a subclass of `torch.nn.Module` and provides additional functionality for the training and testing of neural networks. The class `Lightning.LightningModule` is described in the [Lightning documentation](https://lightning.ai/docs/pytorch/stable/common/lightning_module.html).\n",
        "\n",
        "\n",
        "The hyperparameters of the model are specified in the `core_model_hyper_dict` dictionary [[SOURCE]](https://github.com/sequential-parameter-optimization/spotPython/blob/main/src/spotPython/hyperdict/light_hyper_dict.json).\n",
        "\n",
        "The `core_model` dictionary contains the hyperparameters of the model to be tuned. These hyperparameters can be specified and modified with as shown in the following code."
      ]
    },
    {
      "cell_type": "code",
      "execution_count": 9,
      "metadata": {},
      "outputs": [
        {
          "name": "stdout",
          "output_type": "stream",
          "text": [
            "Setting hyperparameter epochs to value [4, 5].\n",
            "Variable type is int.\n",
            "Core type is None.\n",
            "Calling modify_hyper_parameter_bounds().\n",
            "Setting hyperparameter batch_size to value [4, 5].\n",
            "Variable type is int.\n",
            "Core type is None.\n",
            "Calling modify_hyper_parameter_bounds().\n",
            "Setting hyperparameter optimizer to value ['Adam', 'RAdam'].\n",
            "Variable type is factor.\n",
            "Core type is str.\n",
            "Calling modify_hyper_parameter_levels().\n",
            "Setting hyperparameter dropout_prob to value [0.01, 0.1].\n",
            "Variable type is float.\n",
            "Core type is None.\n",
            "Calling modify_hyper_parameter_bounds().\n",
            "Setting hyperparameter lr_mult to value [0.05, 1.0].\n",
            "Variable type is float.\n",
            "Core type is None.\n",
            "Calling modify_hyper_parameter_bounds().\n",
            "Setting hyperparameter patience to value [2, 3].\n",
            "Variable type is int.\n",
            "Core type is None.\n",
            "Calling modify_hyper_parameter_bounds().\n",
            "Setting hyperparameter act_fn to value ['ReLU', 'LeakyReLU'].\n",
            "Variable type is factor.\n",
            "Core type is instance().\n",
            "Calling modify_hyper_parameter_levels().\n"
          ]
        }
      ],
      "source": [
        "#| label: code-add-core-model-to-fun-control-37\n",
        "from spotPython.light.regression.netlightregression import NetLightRegression\n",
        "from spotPython.hyperdict.light_hyper_dict import LightHyperDict\n",
        "from spotPython.hyperparameters.values import add_core_model_to_fun_control\n",
        "add_core_model_to_fun_control(fun_control=fun_control,\n",
        "                              core_model=NetLightRegression,\n",
        "                              hyper_dict=LightHyperDict)\n",
        "from spotPython.hyperparameters.values import set_control_hyperparameter_value\n",
        "\n",
        "set_control_hyperparameter_value(fun_control, \"epochs\", [4, 5])\n",
        "set_control_hyperparameter_value(fun_control, \"batch_size\", [4, 5])\n",
        "set_control_hyperparameter_value(fun_control, \"optimizer\", [\n",
        "                \"Adam\",\n",
        "                \"RAdam\",\n",
        "            ])\n",
        "set_control_hyperparameter_value(fun_control, \"dropout_prob\", [0.01, 0.1])\n",
        "set_control_hyperparameter_value(fun_control, \"lr_mult\", [0.05, 1.0])\n",
        "set_control_hyperparameter_value(fun_control, \"patience\", [2, 3])\n",
        "set_control_hyperparameter_value(fun_control, \"act_fn\",[\n",
        "                \"ReLU\",\n",
        "                \"LeakyReLU\"\n",
        "            ] )"
      ]
    },
    {
      "cell_type": "code",
      "execution_count": 10,
      "metadata": {},
      "outputs": [
        {
          "name": "stdout",
          "output_type": "stream",
          "text": [
            "{'CHECKPOINT_PATH': 'runs/saved_models/',\n",
            " 'DATASET_PATH': 'data/',\n",
            " 'PREFIX': '037',\n",
            " 'RESULTS_PATH': 'results/',\n",
            " 'TENSORBOARD_PATH': 'runs/',\n",
            " '_L_in': 10,\n",
            " '_L_out': 1,\n",
            " '_torchmetric': 'mean_squared_error',\n",
            " 'accelerator': 'auto',\n",
            " 'converters': None,\n",
            " 'core_model': <class 'spotPython.light.regression.netlightregression.NetLightRegression'>,\n",
            " 'core_model_hyper_dict': {'act_fn': {'class_name': 'spotPython.torch.activation',\n",
            "                                      'core_model_parameter_type': 'instance()',\n",
            "                                      'default': 'ReLU',\n",
            "                                      'levels': ['ReLU', 'LeakyReLU'],\n",
            "                                      'lower': 0,\n",
            "                                      'transform': 'None',\n",
            "                                      'type': 'factor',\n",
            "                                      'upper': 1},\n",
            "                           'batch_size': {'default': 4,\n",
            "                                          'lower': 4,\n",
            "                                          'transform': 'transform_power_2_int',\n",
            "                                          'type': 'int',\n",
            "                                          'upper': 5},\n",
            "                           'dropout_prob': {'default': 0.01,\n",
            "                                            'lower': 0.01,\n",
            "                                            'transform': 'None',\n",
            "                                            'type': 'float',\n",
            "                                            'upper': 0.1},\n",
            "                           'epochs': {'default': 4,\n",
            "                                      'lower': 4,\n",
            "                                      'transform': 'transform_power_2_int',\n",
            "                                      'type': 'int',\n",
            "                                      'upper': 5},\n",
            "                           'initialization': {'core_model_parameter_type': 'str',\n",
            "                                              'default': 'Default',\n",
            "                                              'levels': ['Default'],\n",
            "                                              'lower': 0,\n",
            "                                              'transform': 'None',\n",
            "                                              'type': 'factor',\n",
            "                                              'upper': 0},\n",
            "                           'l1': {'default': 3,\n",
            "                                  'lower': 3,\n",
            "                                  'transform': 'transform_power_2_int',\n",
            "                                  'type': 'int',\n",
            "                                  'upper': 8},\n",
            "                           'lr_mult': {'default': 1.0,\n",
            "                                       'lower': 0.05,\n",
            "                                       'transform': 'None',\n",
            "                                       'type': 'float',\n",
            "                                       'upper': 1.0},\n",
            "                           'optimizer': {'class_name': 'torch.optim',\n",
            "                                         'core_model_parameter_type': 'str',\n",
            "                                         'default': 'SGD',\n",
            "                                         'levels': ['Adam', 'RAdam'],\n",
            "                                         'lower': 0,\n",
            "                                         'transform': 'None',\n",
            "                                         'type': 'factor',\n",
            "                                         'upper': 1},\n",
            "                           'patience': {'default': 2,\n",
            "                                        'lower': 2,\n",
            "                                        'transform': 'transform_power_2_int',\n",
            "                                        'type': 'int',\n",
            "                                        'upper': 3}},\n",
            " 'core_model_hyper_dict_default': {'act_fn': {'class_name': 'spotPython.torch.activation',\n",
            "                                              'core_model_parameter_type': 'instance()',\n",
            "                                              'default': 'ReLU',\n",
            "                                              'levels': ['Sigmoid',\n",
            "                                                         'Tanh',\n",
            "                                                         'ReLU',\n",
            "                                                         'LeakyReLU',\n",
            "                                                         'ELU',\n",
            "                                                         'Swish'],\n",
            "                                              'lower': 0,\n",
            "                                              'transform': 'None',\n",
            "                                              'type': 'factor',\n",
            "                                              'upper': 5},\n",
            "                                   'batch_size': {'default': 4,\n",
            "                                                  'lower': 1,\n",
            "                                                  'transform': 'transform_power_2_int',\n",
            "                                                  'type': 'int',\n",
            "                                                  'upper': 4},\n",
            "                                   'dropout_prob': {'default': 0.01,\n",
            "                                                    'lower': 0.0,\n",
            "                                                    'transform': 'None',\n",
            "                                                    'type': 'float',\n",
            "                                                    'upper': 0.25},\n",
            "                                   'epochs': {'default': 4,\n",
            "                                              'lower': 4,\n",
            "                                              'transform': 'transform_power_2_int',\n",
            "                                              'type': 'int',\n",
            "                                              'upper': 9},\n",
            "                                   'initialization': {'core_model_parameter_type': 'str',\n",
            "                                                      'default': 'Default',\n",
            "                                                      'levels': ['Default',\n",
            "                                                                 'Kaiming',\n",
            "                                                                 'Xavier'],\n",
            "                                                      'lower': 0,\n",
            "                                                      'transform': 'None',\n",
            "                                                      'type': 'factor',\n",
            "                                                      'upper': 2},\n",
            "                                   'l1': {'default': 3,\n",
            "                                          'lower': 3,\n",
            "                                          'transform': 'transform_power_2_int',\n",
            "                                          'type': 'int',\n",
            "                                          'upper': 8},\n",
            "                                   'lr_mult': {'default': 1.0,\n",
            "                                               'lower': 0.1,\n",
            "                                               'transform': 'None',\n",
            "                                               'type': 'float',\n",
            "                                               'upper': 10.0},\n",
            "                                   'optimizer': {'class_name': 'torch.optim',\n",
            "                                                 'core_model_parameter_type': 'str',\n",
            "                                                 'default': 'SGD',\n",
            "                                                 'levels': ['Adadelta',\n",
            "                                                            'Adagrad',\n",
            "                                                            'Adam',\n",
            "                                                            'AdamW',\n",
            "                                                            'SparseAdam',\n",
            "                                                            'Adamax',\n",
            "                                                            'ASGD',\n",
            "                                                            'NAdam',\n",
            "                                                            'RAdam',\n",
            "                                                            'RMSprop',\n",
            "                                                            'Rprop',\n",
            "                                                            'SGD'],\n",
            "                                                 'lower': 0,\n",
            "                                                 'transform': 'None',\n",
            "                                                 'type': 'factor',\n",
            "                                                 'upper': 11},\n",
            "                                   'patience': {'default': 2,\n",
            "                                                'lower': 2,\n",
            "                                                'transform': 'transform_power_2_int',\n",
            "                                                'type': 'int',\n",
            "                                                'upper': 6}},\n",
            " 'core_model_name': None,\n",
            " 'counter': 0,\n",
            " 'data': None,\n",
            " 'data_dir': './data',\n",
            " 'data_module': None,\n",
            " 'data_set': <spotPython.data.diabetes.Diabetes object at 0x38ff21e10>,\n",
            " 'data_set_name': None,\n",
            " 'db_dict_name': None,\n",
            " 'design': None,\n",
            " 'device': 'mps',\n",
            " 'devices': 1,\n",
            " 'enable_progress_bar': False,\n",
            " 'eval': None,\n",
            " 'fun_evals': 8,\n",
            " 'fun_repeats': 1,\n",
            " 'horizon': None,\n",
            " 'hyperdict': None,\n",
            " 'infill_criterion': 'y',\n",
            " 'k_folds': 3,\n",
            " 'log_graph': False,\n",
            " 'log_level': 10,\n",
            " 'loss_function': None,\n",
            " 'lower': array([3. , 4. , 1. , 0. , 0. , 0. , 0.1, 2. , 0. ]),\n",
            " 'max_surrogate_points': 30,\n",
            " 'max_time': inf,\n",
            " 'metric_params': {},\n",
            " 'metric_river': None,\n",
            " 'metric_sklearn': None,\n",
            " 'metric_sklearn_name': None,\n",
            " 'metric_torch': None,\n",
            " 'model_dict': {},\n",
            " 'n_points': 1,\n",
            " 'n_samples': None,\n",
            " 'n_total': None,\n",
            " 'noise': False,\n",
            " 'num_workers': 0,\n",
            " 'ocba_delta': 0,\n",
            " 'oml_grace_period': None,\n",
            " 'optimizer': None,\n",
            " 'path': None,\n",
            " 'prep_model': None,\n",
            " 'prep_model_name': None,\n",
            " 'progress_file': None,\n",
            " 'save_model': False,\n",
            " 'scenario': None,\n",
            " 'seed': 123,\n",
            " 'show_batch_interval': 1000000,\n",
            " 'show_models': False,\n",
            " 'show_progress': True,\n",
            " 'shuffle': None,\n",
            " 'sigma': 0.0,\n",
            " 'spot_tensorboard_path': 'runs/spot_logs/037_p040025_2024-07-05_21-27-24',\n",
            " 'spot_writer': <torch.utils.tensorboard.writer.SummaryWriter object at 0x38feaa6d0>,\n",
            " 'target_column': None,\n",
            " 'target_type': None,\n",
            " 'task': None,\n",
            " 'test': None,\n",
            " 'test_seed': 1234,\n",
            " 'test_size': 0.4,\n",
            " 'tolerance_x': 1.4901161193847656e-08,\n",
            " 'train': None,\n",
            " 'upper': array([ 8.  ,  9.  ,  4.  ,  5.  , 11.  ,  0.25, 10.  ,  6.  ,  2.  ]),\n",
            " 'var_name': ['l1',\n",
            "              'epochs',\n",
            "              'batch_size',\n",
            "              'act_fn',\n",
            "              'optimizer',\n",
            "              'dropout_prob',\n",
            "              'lr_mult',\n",
            "              'patience',\n",
            "              'initialization'],\n",
            " 'var_type': ['int',\n",
            "              'int',\n",
            "              'int',\n",
            "              'factor',\n",
            "              'factor',\n",
            "              'float',\n",
            "              'float',\n",
            "              'int',\n",
            "              'factor'],\n",
            " 'verbosity': 0,\n",
            " 'weight_coeff': 0.0,\n",
            " 'weights': 1.0,\n",
            " 'weights_entry': None}\n"
          ]
        }
      ],
      "source": [
        "import pprint as pp\n",
        "from spotPython.hyperparameters.values import set_factor_hyperparameter_values\n",
        "set_factor_hyperparameter_values(fun_control, \"initialization\", [\"Default\"])\n",
        "pp.pprint(fun_control)\n"
      ]
    },
    {
      "cell_type": "markdown",
      "metadata": {},
      "source": [
        "### `design_control`,  `surrogate_control` Dictionaries and the Objective Function {#sec-specifying-design-surrogate-control-dictionaries-37}\n",
        "\n",
        "After specifying the `design_control` and `surrogate_control` dictionaries, the objective function `fun` from the class `HyperLight` [[SOURCE]](https://github.com/sequential-parameter-optimization/spotPython/blob/main/src/spotPython/fun/hyperlight.py) is selected. It implements an interface from `PyTorch`'s training, validation, and testing methods to `spotPython`.\n",
        "\n",
        "Then, the hyperparameter tuning can be started."
      ]
    },
    {
      "cell_type": "code",
      "execution_count": 11,
      "metadata": {},
      "outputs": [
        {
          "name": "stderr",
          "output_type": "stream",
          "text": [
            "/Users/bartz/miniforge3/envs/spotCondaEnv/lib/python3.11/site-packages/lightning/pytorch/utilities/parsing.py:198: Attribute 'act_fn' is an instance of `nn.Module` and is already saved during checkpointing. It is recommended to ignore them using `self.save_hyperparameters(ignore=['act_fn'])`.\n",
            "GPU available: True (mps), used: True\n",
            "TPU available: False, using: 0 TPU cores\n",
            "IPU available: False, using: 0 IPUs\n",
            "HPU available: False, using: 0 HPUs\n"
          ]
        },
        {
          "name": "stdout",
          "output_type": "stream",
          "text": [
            "LightDataModule.setup(): stage: TrainerFn.FITTING\n",
            "train_size: 0.36, val_size: 0.24 used for train & val data.\n"
          ]
        },
        {
          "name": "stderr",
          "output_type": "stream",
          "text": [
            "\n",
            "  | Name   | Type       | Params | In sizes | Out sizes\n",
            "-------------------------------------------------------------\n",
            "0 | layers | Sequential | 4.7 K  | [16, 10] | [16, 1]  \n",
            "-------------------------------------------------------------\n",
            "4.7 K     Trainable params\n",
            "0         Non-trainable params\n",
            "4.7 K     Total params\n",
            "0.019     Total estimated model params size (MB)\n",
            "/Users/bartz/miniforge3/envs/spotCondaEnv/lib/python3.11/site-packages/lightning/pytorch/trainer/connectors/data_connector.py:441: The 'val_dataloader' does not have many workers which may be a bottleneck. Consider increasing the value of the `num_workers` argument` to `num_workers=15` in the `DataLoader` to improve performance.\n",
            "/Users/bartz/miniforge3/envs/spotCondaEnv/lib/python3.11/site-packages/lightning/pytorch/trainer/connectors/data_connector.py:441: The 'train_dataloader' does not have many workers which may be a bottleneck. Consider increasing the value of the `num_workers` argument` to `num_workers=15` in the `DataLoader` to improve performance.\n",
            "/Users/bartz/miniforge3/envs/spotCondaEnv/lib/python3.11/site-packages/lightning/pytorch/loops/fit_loop.py:293: The number of training batches (10) is smaller than the logging interval Trainer(log_every_n_steps=50). Set a lower value for log_every_n_steps if you want to see logs for the training epoch.\n"
          ]
        },
        {
          "name": "stdout",
          "output_type": "stream",
          "text": [
            "LightDataModule.val_dataloader(). Val. set size: 106\n",
            "LightDataModule.train_dataloader(). data_train size: 160\n"
          ]
        },
        {
          "name": "stderr",
          "output_type": "stream",
          "text": [
            "`Trainer.fit` stopped: `max_epochs=32` reached.\n"
          ]
        },
        {
          "name": "stdout",
          "output_type": "stream",
          "text": [
            "LightDataModule.setup(): stage: TrainerFn.VALIDATING\n",
            "LightDataModule.val_dataloader(). Val. set size: 106\n"
          ]
        },
        {
          "data": {
            "text/html": [
              "<pre style=\"white-space:pre;overflow-x:auto;line-height:normal;font-family:Menlo,'DejaVu Sans Mono',consolas,'Courier New',monospace\">┏━━━━━━━━━━━━━━━━━━━━━━━━━━━┳━━━━━━━━━━━━━━━━━━━━━━━━━━━┓\n",
              "┃<span style=\"font-weight: bold\">      Validate metric      </span>┃<span style=\"font-weight: bold\">       DataLoader 0        </span>┃\n",
              "┡━━━━━━━━━━━━━━━━━━━━━━━━━━━╇━━━━━━━━━━━━━━━━━━━━━━━━━━━┩\n",
              "│<span style=\"color: #008080; text-decoration-color: #008080\">         hp_metric         </span>│<span style=\"color: #800080; text-decoration-color: #800080\">      23630.99609375       </span>│\n",
              "│<span style=\"color: #008080; text-decoration-color: #008080\">         val_loss          </span>│<span style=\"color: #800080; text-decoration-color: #800080\">      23630.99609375       </span>│\n",
              "└───────────────────────────┴───────────────────────────┘\n",
              "</pre>\n"
            ],
            "text/plain": [
              "┏━━━━━━━━━━━━━━━━━━━━━━━━━━━┳━━━━━━━━━━━━━━━━━━━━━━━━━━━┓\n",
              "┃\u001b[1m \u001b[0m\u001b[1m     Validate metric     \u001b[0m\u001b[1m \u001b[0m┃\u001b[1m \u001b[0m\u001b[1m      DataLoader 0       \u001b[0m\u001b[1m \u001b[0m┃\n",
              "┡━━━━━━━━━━━━━━━━━━━━━━━━━━━╇━━━━━━━━━━━━━━━━━━━━━━━━━━━┩\n",
              "│\u001b[36m \u001b[0m\u001b[36m        hp_metric        \u001b[0m\u001b[36m \u001b[0m│\u001b[35m \u001b[0m\u001b[35m     23630.99609375      \u001b[0m\u001b[35m \u001b[0m│\n",
              "│\u001b[36m \u001b[0m\u001b[36m        val_loss         \u001b[0m\u001b[36m \u001b[0m│\u001b[35m \u001b[0m\u001b[35m     23630.99609375      \u001b[0m\u001b[35m \u001b[0m│\n",
              "└───────────────────────────┴───────────────────────────┘\n"
            ]
          },
          "metadata": {},
          "output_type": "display_data"
        },
        {
          "name": "stderr",
          "output_type": "stream",
          "text": [
            "GPU available: True (mps), used: True\n",
            "TPU available: False, using: 0 TPU cores\n",
            "IPU available: False, using: 0 IPUs\n",
            "HPU available: False, using: 0 HPUs\n",
            "\n",
            "  | Name   | Type       | Params | In sizes | Out sizes\n",
            "-------------------------------------------------------------\n",
            "0 | layers | Sequential | 1.4 K  | [32, 10] | [32, 1]  \n",
            "-------------------------------------------------------------\n",
            "1.4 K     Trainable params\n",
            "0         Non-trainable params\n",
            "1.4 K     Total params\n",
            "0.006     Total estimated model params size (MB)\n",
            "/Users/bartz/miniforge3/envs/spotCondaEnv/lib/python3.11/site-packages/lightning/pytorch/loops/fit_loop.py:293: The number of training batches (5) is smaller than the logging interval Trainer(log_every_n_steps=50). Set a lower value for log_every_n_steps if you want to see logs for the training epoch.\n"
          ]
        },
        {
          "name": "stdout",
          "output_type": "stream",
          "text": [
            "train_model result: {'val_loss': 23630.99609375, 'hp_metric': 23630.99609375}\n",
            "LightDataModule.setup(): stage: TrainerFn.FITTING\n",
            "train_size: 0.36, val_size: 0.24 used for train & val data.\n",
            "LightDataModule.val_dataloader(). Val. set size: 106\n",
            "LightDataModule.train_dataloader(). data_train size: 160\n",
            "LightDataModule.setup(): stage: TrainerFn.VALIDATING\n",
            "LightDataModule.val_dataloader(). Val. set size: 106\n"
          ]
        },
        {
          "data": {
            "text/html": [
              "<pre style=\"white-space:pre;overflow-x:auto;line-height:normal;font-family:Menlo,'DejaVu Sans Mono',consolas,'Courier New',monospace\">┏━━━━━━━━━━━━━━━━━━━━━━━━━━━┳━━━━━━━━━━━━━━━━━━━━━━━━━━━┓\n",
              "┃<span style=\"font-weight: bold\">      Validate metric      </span>┃<span style=\"font-weight: bold\">       DataLoader 0        </span>┃\n",
              "┡━━━━━━━━━━━━━━━━━━━━━━━━━━━╇━━━━━━━━━━━━━━━━━━━━━━━━━━━┩\n",
              "│<span style=\"color: #008080; text-decoration-color: #008080\">         hp_metric         </span>│<span style=\"color: #800080; text-decoration-color: #800080\">      23312.27734375       </span>│\n",
              "│<span style=\"color: #008080; text-decoration-color: #008080\">         val_loss          </span>│<span style=\"color: #800080; text-decoration-color: #800080\">      23312.27734375       </span>│\n",
              "└───────────────────────────┴───────────────────────────┘\n",
              "</pre>\n"
            ],
            "text/plain": [
              "┏━━━━━━━━━━━━━━━━━━━━━━━━━━━┳━━━━━━━━━━━━━━━━━━━━━━━━━━━┓\n",
              "┃\u001b[1m \u001b[0m\u001b[1m     Validate metric     \u001b[0m\u001b[1m \u001b[0m┃\u001b[1m \u001b[0m\u001b[1m      DataLoader 0       \u001b[0m\u001b[1m \u001b[0m┃\n",
              "┡━━━━━━━━━━━━━━━━━━━━━━━━━━━╇━━━━━━━━━━━━━━━━━━━━━━━━━━━┩\n",
              "│\u001b[36m \u001b[0m\u001b[36m        hp_metric        \u001b[0m\u001b[36m \u001b[0m│\u001b[35m \u001b[0m\u001b[35m     23312.27734375      \u001b[0m\u001b[35m \u001b[0m│\n",
              "│\u001b[36m \u001b[0m\u001b[36m        val_loss         \u001b[0m\u001b[36m \u001b[0m│\u001b[35m \u001b[0m\u001b[35m     23312.27734375      \u001b[0m\u001b[35m \u001b[0m│\n",
              "└───────────────────────────┴───────────────────────────┘\n"
            ]
          },
          "metadata": {},
          "output_type": "display_data"
        },
        {
          "name": "stderr",
          "output_type": "stream",
          "text": [
            "GPU available: True (mps), used: True\n",
            "TPU available: False, using: 0 TPU cores\n",
            "IPU available: False, using: 0 IPUs\n",
            "HPU available: False, using: 0 HPUs\n",
            "\n",
            "  | Name   | Type       | Params | In sizes | Out sizes\n",
            "-------------------------------------------------------------\n",
            "0 | layers | Sequential | 16.5 K | [16, 10] | [16, 1]  \n",
            "-------------------------------------------------------------\n",
            "16.5 K    Trainable params\n",
            "0         Non-trainable params\n",
            "16.5 K    Total params\n",
            "0.066     Total estimated model params size (MB)\n"
          ]
        },
        {
          "name": "stdout",
          "output_type": "stream",
          "text": [
            "train_model result: {'val_loss': 23312.27734375, 'hp_metric': 23312.27734375}\n",
            "LightDataModule.setup(): stage: TrainerFn.FITTING\n",
            "train_size: 0.36, val_size: 0.24 used for train & val data.\n",
            "LightDataModule.val_dataloader(). Val. set size: 106\n",
            "LightDataModule.train_dataloader(). data_train size: 160\n"
          ]
        },
        {
          "name": "stderr",
          "output_type": "stream",
          "text": [
            "`Trainer.fit` stopped: `max_epochs=32` reached.\n"
          ]
        },
        {
          "name": "stdout",
          "output_type": "stream",
          "text": [
            "LightDataModule.setup(): stage: TrainerFn.VALIDATING\n",
            "LightDataModule.val_dataloader(). Val. set size: 106\n"
          ]
        },
        {
          "data": {
            "text/html": [
              "<pre style=\"white-space:pre;overflow-x:auto;line-height:normal;font-family:Menlo,'DejaVu Sans Mono',consolas,'Courier New',monospace\">┏━━━━━━━━━━━━━━━━━━━━━━━━━━━┳━━━━━━━━━━━━━━━━━━━━━━━━━━━┓\n",
              "┃<span style=\"font-weight: bold\">      Validate metric      </span>┃<span style=\"font-weight: bold\">       DataLoader 0        </span>┃\n",
              "┡━━━━━━━━━━━━━━━━━━━━━━━━━━━╇━━━━━━━━━━━━━━━━━━━━━━━━━━━┩\n",
              "│<span style=\"color: #008080; text-decoration-color: #008080\">         hp_metric         </span>│<span style=\"color: #800080; text-decoration-color: #800080\">       19552.1796875       </span>│\n",
              "│<span style=\"color: #008080; text-decoration-color: #008080\">         val_loss          </span>│<span style=\"color: #800080; text-decoration-color: #800080\">       19552.1796875       </span>│\n",
              "└───────────────────────────┴───────────────────────────┘\n",
              "</pre>\n"
            ],
            "text/plain": [
              "┏━━━━━━━━━━━━━━━━━━━━━━━━━━━┳━━━━━━━━━━━━━━━━━━━━━━━━━━━┓\n",
              "┃\u001b[1m \u001b[0m\u001b[1m     Validate metric     \u001b[0m\u001b[1m \u001b[0m┃\u001b[1m \u001b[0m\u001b[1m      DataLoader 0       \u001b[0m\u001b[1m \u001b[0m┃\n",
              "┡━━━━━━━━━━━━━━━━━━━━━━━━━━━╇━━━━━━━━━━━━━━━━━━━━━━━━━━━┩\n",
              "│\u001b[36m \u001b[0m\u001b[36m        hp_metric        \u001b[0m\u001b[36m \u001b[0m│\u001b[35m \u001b[0m\u001b[35m      19552.1796875      \u001b[0m\u001b[35m \u001b[0m│\n",
              "│\u001b[36m \u001b[0m\u001b[36m        val_loss         \u001b[0m\u001b[36m \u001b[0m│\u001b[35m \u001b[0m\u001b[35m      19552.1796875      \u001b[0m\u001b[35m \u001b[0m│\n",
              "└───────────────────────────┴───────────────────────────┘\n"
            ]
          },
          "metadata": {},
          "output_type": "display_data"
        },
        {
          "name": "stderr",
          "output_type": "stream",
          "text": [
            "GPU available: True (mps), used: True\n",
            "TPU available: False, using: 0 TPU cores\n",
            "IPU available: False, using: 0 IPUs\n",
            "HPU available: False, using: 0 HPUs\n",
            "\n",
            "  | Name   | Type       | Params | In sizes | Out sizes\n",
            "-------------------------------------------------------------\n",
            "0 | layers | Sequential | 497    | [32, 10] | [32, 1]  \n",
            "-------------------------------------------------------------\n",
            "497       Trainable params\n",
            "0         Non-trainable params\n",
            "497       Total params\n",
            "0.002     Total estimated model params size (MB)\n"
          ]
        },
        {
          "name": "stdout",
          "output_type": "stream",
          "text": [
            "train_model result: {'val_loss': 19552.1796875, 'hp_metric': 19552.1796875}\n",
            "LightDataModule.setup(): stage: TrainerFn.FITTING\n",
            "train_size: 0.36, val_size: 0.24 used for train & val data.\n",
            "LightDataModule.val_dataloader(). Val. set size: 106\n",
            "LightDataModule.train_dataloader(). data_train size: 160\n"
          ]
        },
        {
          "name": "stderr",
          "output_type": "stream",
          "text": [
            "`Trainer.fit` stopped: `max_epochs=16` reached.\n"
          ]
        },
        {
          "name": "stdout",
          "output_type": "stream",
          "text": [
            "LightDataModule.setup(): stage: TrainerFn.VALIDATING\n",
            "LightDataModule.val_dataloader(). Val. set size: 106\n"
          ]
        },
        {
          "data": {
            "text/html": [
              "<pre style=\"white-space:pre;overflow-x:auto;line-height:normal;font-family:Menlo,'DejaVu Sans Mono',consolas,'Courier New',monospace\">┏━━━━━━━━━━━━━━━━━━━━━━━━━━━┳━━━━━━━━━━━━━━━━━━━━━━━━━━━┓\n",
              "┃<span style=\"font-weight: bold\">      Validate metric      </span>┃<span style=\"font-weight: bold\">       DataLoader 0        </span>┃\n",
              "┡━━━━━━━━━━━━━━━━━━━━━━━━━━━╇━━━━━━━━━━━━━━━━━━━━━━━━━━━┩\n",
              "│<span style=\"color: #008080; text-decoration-color: #008080\">         hp_metric         </span>│<span style=\"color: #800080; text-decoration-color: #800080\">       23842.2265625       </span>│\n",
              "│<span style=\"color: #008080; text-decoration-color: #008080\">         val_loss          </span>│<span style=\"color: #800080; text-decoration-color: #800080\">       23842.2265625       </span>│\n",
              "└───────────────────────────┴───────────────────────────┘\n",
              "</pre>\n"
            ],
            "text/plain": [
              "┏━━━━━━━━━━━━━━━━━━━━━━━━━━━┳━━━━━━━━━━━━━━━━━━━━━━━━━━━┓\n",
              "┃\u001b[1m \u001b[0m\u001b[1m     Validate metric     \u001b[0m\u001b[1m \u001b[0m┃\u001b[1m \u001b[0m\u001b[1m      DataLoader 0       \u001b[0m\u001b[1m \u001b[0m┃\n",
              "┡━━━━━━━━━━━━━━━━━━━━━━━━━━━╇━━━━━━━━━━━━━━━━━━━━━━━━━━━┩\n",
              "│\u001b[36m \u001b[0m\u001b[36m        hp_metric        \u001b[0m\u001b[36m \u001b[0m│\u001b[35m \u001b[0m\u001b[35m      23842.2265625      \u001b[0m\u001b[35m \u001b[0m│\n",
              "│\u001b[36m \u001b[0m\u001b[36m        val_loss         \u001b[0m\u001b[36m \u001b[0m│\u001b[35m \u001b[0m\u001b[35m      23842.2265625      \u001b[0m\u001b[35m \u001b[0m│\n",
              "└───────────────────────────┴───────────────────────────┘\n"
            ]
          },
          "metadata": {},
          "output_type": "display_data"
        },
        {
          "name": "stderr",
          "output_type": "stream",
          "text": [
            "GPU available: True (mps), used: True\n",
            "TPU available: False, using: 0 TPU cores\n",
            "IPU available: False, using: 0 IPUs\n",
            "HPU available: False, using: 0 HPUs\n",
            "\n",
            "  | Name   | Type       | Params | In sizes | Out sizes\n",
            "-------------------------------------------------------------\n",
            "0 | layers | Sequential | 1.4 K  | [16, 10] | [16, 1]  \n",
            "-------------------------------------------------------------\n",
            "1.4 K     Trainable params\n",
            "0         Non-trainable params\n",
            "1.4 K     Total params\n",
            "0.006     Total estimated model params size (MB)\n"
          ]
        },
        {
          "name": "stdout",
          "output_type": "stream",
          "text": [
            "train_model result: {'val_loss': 23842.2265625, 'hp_metric': 23842.2265625}\n",
            "LightDataModule.setup(): stage: TrainerFn.FITTING\n",
            "train_size: 0.36, val_size: 0.24 used for train & val data.\n",
            "LightDataModule.val_dataloader(). Val. set size: 106\n",
            "LightDataModule.train_dataloader(). data_train size: 160\n"
          ]
        },
        {
          "name": "stderr",
          "output_type": "stream",
          "text": [
            "`Trainer.fit` stopped: `max_epochs=16` reached.\n"
          ]
        },
        {
          "name": "stdout",
          "output_type": "stream",
          "text": [
            "LightDataModule.setup(): stage: TrainerFn.VALIDATING\n",
            "LightDataModule.val_dataloader(). Val. set size: 106\n"
          ]
        },
        {
          "data": {
            "text/html": [
              "<pre style=\"white-space:pre;overflow-x:auto;line-height:normal;font-family:Menlo,'DejaVu Sans Mono',consolas,'Courier New',monospace\">┏━━━━━━━━━━━━━━━━━━━━━━━━━━━┳━━━━━━━━━━━━━━━━━━━━━━━━━━━┓\n",
              "┃<span style=\"font-weight: bold\">      Validate metric      </span>┃<span style=\"font-weight: bold\">       DataLoader 0        </span>┃\n",
              "┡━━━━━━━━━━━━━━━━━━━━━━━━━━━╇━━━━━━━━━━━━━━━━━━━━━━━━━━━┩\n",
              "│<span style=\"color: #008080; text-decoration-color: #008080\">         hp_metric         </span>│<span style=\"color: #800080; text-decoration-color: #800080\">      23955.794921875      </span>│\n",
              "│<span style=\"color: #008080; text-decoration-color: #008080\">         val_loss          </span>│<span style=\"color: #800080; text-decoration-color: #800080\">      23955.794921875      </span>│\n",
              "└───────────────────────────┴───────────────────────────┘\n",
              "</pre>\n"
            ],
            "text/plain": [
              "┏━━━━━━━━━━━━━━━━━━━━━━━━━━━┳━━━━━━━━━━━━━━━━━━━━━━━━━━━┓\n",
              "┃\u001b[1m \u001b[0m\u001b[1m     Validate metric     \u001b[0m\u001b[1m \u001b[0m┃\u001b[1m \u001b[0m\u001b[1m      DataLoader 0       \u001b[0m\u001b[1m \u001b[0m┃\n",
              "┡━━━━━━━━━━━━━━━━━━━━━━━━━━━╇━━━━━━━━━━━━━━━━━━━━━━━━━━━┩\n",
              "│\u001b[36m \u001b[0m\u001b[36m        hp_metric        \u001b[0m\u001b[36m \u001b[0m│\u001b[35m \u001b[0m\u001b[35m     23955.794921875     \u001b[0m\u001b[35m \u001b[0m│\n",
              "│\u001b[36m \u001b[0m\u001b[36m        val_loss         \u001b[0m\u001b[36m \u001b[0m│\u001b[35m \u001b[0m\u001b[35m     23955.794921875     \u001b[0m\u001b[35m \u001b[0m│\n",
              "└───────────────────────────┴───────────────────────────┘\n"
            ]
          },
          "metadata": {},
          "output_type": "display_data"
        },
        {
          "name": "stdout",
          "output_type": "stream",
          "text": [
            "train_model result: {'val_loss': 23955.794921875, 'hp_metric': 23955.794921875}\n"
          ]
        },
        {
          "name": "stderr",
          "output_type": "stream",
          "text": [
            "/Users/bartz/miniforge3/envs/spotCondaEnv/lib/python3.11/site-packages/lightning/pytorch/utilities/parsing.py:198: Attribute 'act_fn' is an instance of `nn.Module` and is already saved during checkpointing. It is recommended to ignore them using `self.save_hyperparameters(ignore=['act_fn'])`.\n",
            "GPU available: True (mps), used: True\n",
            "TPU available: False, using: 0 TPU cores\n",
            "IPU available: False, using: 0 IPUs\n",
            "HPU available: False, using: 0 HPUs\n",
            "\n",
            "  | Name   | Type       | Params | In sizes | Out sizes\n",
            "-------------------------------------------------------------\n",
            "0 | layers | Sequential | 16.5 K | [16, 10] | [16, 1]  \n",
            "-------------------------------------------------------------\n",
            "16.5 K    Trainable params\n",
            "0         Non-trainable params\n",
            "16.5 K    Total params\n",
            "0.066     Total estimated model params size (MB)\n",
            "/Users/bartz/miniforge3/envs/spotCondaEnv/lib/python3.11/site-packages/lightning/pytorch/trainer/connectors/data_connector.py:441: The 'val_dataloader' does not have many workers which may be a bottleneck. Consider increasing the value of the `num_workers` argument` to `num_workers=15` in the `DataLoader` to improve performance.\n",
            "/Users/bartz/miniforge3/envs/spotCondaEnv/lib/python3.11/site-packages/lightning/pytorch/trainer/connectors/data_connector.py:441: The 'train_dataloader' does not have many workers which may be a bottleneck. Consider increasing the value of the `num_workers` argument` to `num_workers=15` in the `DataLoader` to improve performance.\n",
            "/Users/bartz/miniforge3/envs/spotCondaEnv/lib/python3.11/site-packages/lightning/pytorch/loops/fit_loop.py:293: The number of training batches (10) is smaller than the logging interval Trainer(log_every_n_steps=50). Set a lower value for log_every_n_steps if you want to see logs for the training epoch.\n"
          ]
        },
        {
          "name": "stdout",
          "output_type": "stream",
          "text": [
            "LightDataModule.setup(): stage: TrainerFn.FITTING\n",
            "train_size: 0.36, val_size: 0.24 used for train & val data.\n",
            "LightDataModule.val_dataloader(). Val. set size: 106\n",
            "LightDataModule.train_dataloader(). data_train size: 160\n"
          ]
        },
        {
          "name": "stderr",
          "output_type": "stream",
          "text": [
            "`Trainer.fit` stopped: `max_epochs=32` reached.\n"
          ]
        },
        {
          "name": "stdout",
          "output_type": "stream",
          "text": [
            "LightDataModule.setup(): stage: TrainerFn.VALIDATING\n",
            "LightDataModule.val_dataloader(). Val. set size: 106\n"
          ]
        },
        {
          "data": {
            "text/html": [
              "<pre style=\"white-space:pre;overflow-x:auto;line-height:normal;font-family:Menlo,'DejaVu Sans Mono',consolas,'Courier New',monospace\">┏━━━━━━━━━━━━━━━━━━━━━━━━━━━┳━━━━━━━━━━━━━━━━━━━━━━━━━━━┓\n",
              "┃<span style=\"font-weight: bold\">      Validate metric      </span>┃<span style=\"font-weight: bold\">       DataLoader 0        </span>┃\n",
              "┡━━━━━━━━━━━━━━━━━━━━━━━━━━━╇━━━━━━━━━━━━━━━━━━━━━━━━━━━┩\n",
              "│<span style=\"color: #008080; text-decoration-color: #008080\">         hp_metric         </span>│<span style=\"color: #800080; text-decoration-color: #800080\">      19014.068359375      </span>│\n",
              "│<span style=\"color: #008080; text-decoration-color: #008080\">         val_loss          </span>│<span style=\"color: #800080; text-decoration-color: #800080\">      19014.068359375      </span>│\n",
              "└───────────────────────────┴───────────────────────────┘\n",
              "</pre>\n"
            ],
            "text/plain": [
              "┏━━━━━━━━━━━━━━━━━━━━━━━━━━━┳━━━━━━━━━━━━━━━━━━━━━━━━━━━┓\n",
              "┃\u001b[1m \u001b[0m\u001b[1m     Validate metric     \u001b[0m\u001b[1m \u001b[0m┃\u001b[1m \u001b[0m\u001b[1m      DataLoader 0       \u001b[0m\u001b[1m \u001b[0m┃\n",
              "┡━━━━━━━━━━━━━━━━━━━━━━━━━━━╇━━━━━━━━━━━━━━━━━━━━━━━━━━━┩\n",
              "│\u001b[36m \u001b[0m\u001b[36m        hp_metric        \u001b[0m\u001b[36m \u001b[0m│\u001b[35m \u001b[0m\u001b[35m     19014.068359375     \u001b[0m\u001b[35m \u001b[0m│\n",
              "│\u001b[36m \u001b[0m\u001b[36m        val_loss         \u001b[0m\u001b[36m \u001b[0m│\u001b[35m \u001b[0m\u001b[35m     19014.068359375     \u001b[0m\u001b[35m \u001b[0m│\n",
              "└───────────────────────────┴───────────────────────────┘\n"
            ]
          },
          "metadata": {},
          "output_type": "display_data"
        },
        {
          "name": "stdout",
          "output_type": "stream",
          "text": [
            "train_model result: {'val_loss': 19014.068359375, 'hp_metric': 19014.068359375}\n",
            "spotPython tuning: 19014.068359375 [########--] 75.00% \n"
          ]
        },
        {
          "name": "stderr",
          "output_type": "stream",
          "text": [
            "/Users/bartz/miniforge3/envs/spotCondaEnv/lib/python3.11/site-packages/lightning/pytorch/utilities/parsing.py:198: Attribute 'act_fn' is an instance of `nn.Module` and is already saved during checkpointing. It is recommended to ignore them using `self.save_hyperparameters(ignore=['act_fn'])`.\n",
            "GPU available: True (mps), used: True\n",
            "TPU available: False, using: 0 TPU cores\n",
            "IPU available: False, using: 0 IPUs\n",
            "HPU available: False, using: 0 HPUs\n",
            "\n",
            "  | Name   | Type       | Params | In sizes | Out sizes\n",
            "-------------------------------------------------------------\n",
            "0 | layers | Sequential | 16.5 K | [16, 10] | [16, 1]  \n",
            "-------------------------------------------------------------\n",
            "16.5 K    Trainable params\n",
            "0         Non-trainable params\n",
            "16.5 K    Total params\n",
            "0.066     Total estimated model params size (MB)\n"
          ]
        },
        {
          "name": "stdout",
          "output_type": "stream",
          "text": [
            "LightDataModule.setup(): stage: TrainerFn.FITTING\n",
            "train_size: 0.36, val_size: 0.24 used for train & val data.\n",
            "LightDataModule.val_dataloader(). Val. set size: 106\n",
            "LightDataModule.train_dataloader(). data_train size: 160\n"
          ]
        },
        {
          "name": "stderr",
          "output_type": "stream",
          "text": [
            "/Users/bartz/miniforge3/envs/spotCondaEnv/lib/python3.11/site-packages/lightning/pytorch/trainer/connectors/data_connector.py:441: The 'val_dataloader' does not have many workers which may be a bottleneck. Consider increasing the value of the `num_workers` argument` to `num_workers=15` in the `DataLoader` to improve performance.\n",
            "/Users/bartz/miniforge3/envs/spotCondaEnv/lib/python3.11/site-packages/lightning/pytorch/trainer/connectors/data_connector.py:441: The 'train_dataloader' does not have many workers which may be a bottleneck. Consider increasing the value of the `num_workers` argument` to `num_workers=15` in the `DataLoader` to improve performance.\n",
            "/Users/bartz/miniforge3/envs/spotCondaEnv/lib/python3.11/site-packages/lightning/pytorch/loops/fit_loop.py:293: The number of training batches (10) is smaller than the logging interval Trainer(log_every_n_steps=50). Set a lower value for log_every_n_steps if you want to see logs for the training epoch.\n",
            "`Trainer.fit` stopped: `max_epochs=32` reached.\n"
          ]
        },
        {
          "name": "stdout",
          "output_type": "stream",
          "text": [
            "LightDataModule.setup(): stage: TrainerFn.VALIDATING\n",
            "LightDataModule.val_dataloader(). Val. set size: 106\n"
          ]
        },
        {
          "data": {
            "text/html": [
              "<pre style=\"white-space:pre;overflow-x:auto;line-height:normal;font-family:Menlo,'DejaVu Sans Mono',consolas,'Courier New',monospace\">┏━━━━━━━━━━━━━━━━━━━━━━━━━━━┳━━━━━━━━━━━━━━━━━━━━━━━━━━━┓\n",
              "┃<span style=\"font-weight: bold\">      Validate metric      </span>┃<span style=\"font-weight: bold\">       DataLoader 0        </span>┃\n",
              "┡━━━━━━━━━━━━━━━━━━━━━━━━━━━╇━━━━━━━━━━━━━━━━━━━━━━━━━━━┩\n",
              "│<span style=\"color: #008080; text-decoration-color: #008080\">         hp_metric         </span>│<span style=\"color: #800080; text-decoration-color: #800080\">      19208.46484375       </span>│\n",
              "│<span style=\"color: #008080; text-decoration-color: #008080\">         val_loss          </span>│<span style=\"color: #800080; text-decoration-color: #800080\">      19208.46484375       </span>│\n",
              "└───────────────────────────┴───────────────────────────┘\n",
              "</pre>\n"
            ],
            "text/plain": [
              "┏━━━━━━━━━━━━━━━━━━━━━━━━━━━┳━━━━━━━━━━━━━━━━━━━━━━━━━━━┓\n",
              "┃\u001b[1m \u001b[0m\u001b[1m     Validate metric     \u001b[0m\u001b[1m \u001b[0m┃\u001b[1m \u001b[0m\u001b[1m      DataLoader 0       \u001b[0m\u001b[1m \u001b[0m┃\n",
              "┡━━━━━━━━━━━━━━━━━━━━━━━━━━━╇━━━━━━━━━━━━━━━━━━━━━━━━━━━┩\n",
              "│\u001b[36m \u001b[0m\u001b[36m        hp_metric        \u001b[0m\u001b[36m \u001b[0m│\u001b[35m \u001b[0m\u001b[35m     19208.46484375      \u001b[0m\u001b[35m \u001b[0m│\n",
              "│\u001b[36m \u001b[0m\u001b[36m        val_loss         \u001b[0m\u001b[36m \u001b[0m│\u001b[35m \u001b[0m\u001b[35m     19208.46484375      \u001b[0m\u001b[35m \u001b[0m│\n",
              "└───────────────────────────┴───────────────────────────┘\n"
            ]
          },
          "metadata": {},
          "output_type": "display_data"
        },
        {
          "name": "stdout",
          "output_type": "stream",
          "text": [
            "train_model result: {'val_loss': 19208.46484375, 'hp_metric': 19208.46484375}\n",
            "spotPython tuning: 19014.068359375 [#########-] 87.50% \n"
          ]
        },
        {
          "name": "stderr",
          "output_type": "stream",
          "text": [
            "/Users/bartz/miniforge3/envs/spotCondaEnv/lib/python3.11/site-packages/lightning/pytorch/utilities/parsing.py:198: Attribute 'act_fn' is an instance of `nn.Module` and is already saved during checkpointing. It is recommended to ignore them using `self.save_hyperparameters(ignore=['act_fn'])`.\n",
            "GPU available: True (mps), used: True\n",
            "TPU available: False, using: 0 TPU cores\n",
            "IPU available: False, using: 0 IPUs\n",
            "HPU available: False, using: 0 HPUs\n",
            "\n",
            "  | Name   | Type       | Params | In sizes | Out sizes\n",
            "-------------------------------------------------------------\n",
            "0 | layers | Sequential | 16.5 K | [16, 10] | [16, 1]  \n",
            "-------------------------------------------------------------\n",
            "16.5 K    Trainable params\n",
            "0         Non-trainable params\n",
            "16.5 K    Total params\n",
            "0.066     Total estimated model params size (MB)\n"
          ]
        },
        {
          "name": "stdout",
          "output_type": "stream",
          "text": [
            "LightDataModule.setup(): stage: TrainerFn.FITTING\n",
            "train_size: 0.36, val_size: 0.24 used for train & val data.\n",
            "LightDataModule.val_dataloader(). Val. set size: 106\n",
            "LightDataModule.train_dataloader(). data_train size: 160\n"
          ]
        },
        {
          "name": "stderr",
          "output_type": "stream",
          "text": [
            "/Users/bartz/miniforge3/envs/spotCondaEnv/lib/python3.11/site-packages/lightning/pytorch/trainer/connectors/data_connector.py:441: The 'val_dataloader' does not have many workers which may be a bottleneck. Consider increasing the value of the `num_workers` argument` to `num_workers=15` in the `DataLoader` to improve performance.\n",
            "/Users/bartz/miniforge3/envs/spotCondaEnv/lib/python3.11/site-packages/lightning/pytorch/trainer/connectors/data_connector.py:441: The 'train_dataloader' does not have many workers which may be a bottleneck. Consider increasing the value of the `num_workers` argument` to `num_workers=15` in the `DataLoader` to improve performance.\n",
            "/Users/bartz/miniforge3/envs/spotCondaEnv/lib/python3.11/site-packages/lightning/pytorch/loops/fit_loop.py:293: The number of training batches (10) is smaller than the logging interval Trainer(log_every_n_steps=50). Set a lower value for log_every_n_steps if you want to see logs for the training epoch.\n",
            "`Trainer.fit` stopped: `max_epochs=32` reached.\n"
          ]
        },
        {
          "name": "stdout",
          "output_type": "stream",
          "text": [
            "LightDataModule.setup(): stage: TrainerFn.VALIDATING\n",
            "LightDataModule.val_dataloader(). Val. set size: 106\n"
          ]
        },
        {
          "data": {
            "text/html": [
              "<pre style=\"white-space:pre;overflow-x:auto;line-height:normal;font-family:Menlo,'DejaVu Sans Mono',consolas,'Courier New',monospace\">┏━━━━━━━━━━━━━━━━━━━━━━━━━━━┳━━━━━━━━━━━━━━━━━━━━━━━━━━━┓\n",
              "┃<span style=\"font-weight: bold\">      Validate metric      </span>┃<span style=\"font-weight: bold\">       DataLoader 0        </span>┃\n",
              "┡━━━━━━━━━━━━━━━━━━━━━━━━━━━╇━━━━━━━━━━━━━━━━━━━━━━━━━━━┩\n",
              "│<span style=\"color: #008080; text-decoration-color: #008080\">         hp_metric         </span>│<span style=\"color: #800080; text-decoration-color: #800080\">      19290.615234375      </span>│\n",
              "│<span style=\"color: #008080; text-decoration-color: #008080\">         val_loss          </span>│<span style=\"color: #800080; text-decoration-color: #800080\">      19290.615234375      </span>│\n",
              "└───────────────────────────┴───────────────────────────┘\n",
              "</pre>\n"
            ],
            "text/plain": [
              "┏━━━━━━━━━━━━━━━━━━━━━━━━━━━┳━━━━━━━━━━━━━━━━━━━━━━━━━━━┓\n",
              "┃\u001b[1m \u001b[0m\u001b[1m     Validate metric     \u001b[0m\u001b[1m \u001b[0m┃\u001b[1m \u001b[0m\u001b[1m      DataLoader 0       \u001b[0m\u001b[1m \u001b[0m┃\n",
              "┡━━━━━━━━━━━━━━━━━━━━━━━━━━━╇━━━━━━━━━━━━━━━━━━━━━━━━━━━┩\n",
              "│\u001b[36m \u001b[0m\u001b[36m        hp_metric        \u001b[0m\u001b[36m \u001b[0m│\u001b[35m \u001b[0m\u001b[35m     19290.615234375     \u001b[0m\u001b[35m \u001b[0m│\n",
              "│\u001b[36m \u001b[0m\u001b[36m        val_loss         \u001b[0m\u001b[36m \u001b[0m│\u001b[35m \u001b[0m\u001b[35m     19290.615234375     \u001b[0m\u001b[35m \u001b[0m│\n",
              "└───────────────────────────┴───────────────────────────┘\n"
            ]
          },
          "metadata": {},
          "output_type": "display_data"
        },
        {
          "name": "stdout",
          "output_type": "stream",
          "text": [
            "train_model result: {'val_loss': 19290.615234375, 'hp_metric': 19290.615234375}\n",
            "spotPython tuning: 19014.068359375 [##########] 100.00% Done...\n",
            "\n"
          ]
        },
        {
          "data": {
            "text/plain": [
              "<spotPython.spot.spot.Spot at 0x38fe83950>"
            ]
          },
          "execution_count": 11,
          "metadata": {},
          "output_type": "execute_result"
        }
      ],
      "source": [
        "#| label: code-start-hyperparameter-tuning-37\n",
        "from spotPython.utils.init import design_control_init, surrogate_control_init\n",
        "design_control = design_control_init(init_size=INIT_SIZE)\n",
        "\n",
        "surrogate_control = surrogate_control_init(noise=True,\n",
        "                                            n_theta=2)\n",
        "from spotPython.fun.hyperlight import HyperLight\n",
        "fun = HyperLight(log_level=10).fun\n",
        "from spotPython.spot import spot\n",
        "spot_tuner = spot.Spot(fun=fun,\n",
        "                       fun_control=fun_control,\n",
        "                       design_control=design_control,\n",
        "                       surrogate_control=surrogate_control)\n",
        "spot_tuner.run()"
      ]
    },
    {
      "cell_type": "markdown",
      "metadata": {},
      "source": [
        "The tuned hyperparameters can be obtained as a dictionary with the following code."
      ]
    },
    {
      "cell_type": "code",
      "execution_count": 12,
      "metadata": {},
      "outputs": [
        {
          "data": {
            "text/plain": [
              "{'l1': 7.0,\n",
              " 'epochs': 5.0,\n",
              " 'batch_size': 4.0,\n",
              " 'act_fn': 0.0,\n",
              " 'optimizer': 1.0,\n",
              " 'dropout_prob': 0.09699240513877071,\n",
              " 'lr_mult': 0.9054114496467818,\n",
              " 'patience': 3.0,\n",
              " 'initialization': 0.0}"
            ]
          },
          "execution_count": 12,
          "metadata": {},
          "output_type": "execute_result"
        }
      ],
      "source": [
        "#| label: code-get-tuned-hyperparameters-37\n",
        "from spotPython.hyperparameters.values import get_tuned_hyperparameters\n",
        "get_tuned_hyperparameters(spot_tuner)"
      ]
    },
    {
      "cell_type": "markdown",
      "metadata": {},
      "source": [
        "Here , the numerical levels of the hyperparameters are used as keys in the dictionary.\n",
        "If the `fun_control` dictionary is used, the names of the hyperparameters are used as keys in the dictionary. "
      ]
    },
    {
      "cell_type": "code",
      "execution_count": 13,
      "metadata": {},
      "outputs": [
        {
          "data": {
            "text/plain": [
              "{'l1': 7.0,\n",
              " 'epochs': 5.0,\n",
              " 'batch_size': 4.0,\n",
              " 'act_fn': 'ReLU',\n",
              " 'optimizer': 'RAdam',\n",
              " 'dropout_prob': 0.09699240513877071,\n",
              " 'lr_mult': 0.9054114496467818,\n",
              " 'patience': 3.0,\n",
              " 'initialization': 'Default'}"
            ]
          },
          "execution_count": 13,
          "metadata": {},
          "output_type": "execute_result"
        }
      ],
      "source": [
        "#| label: code-get-tuned-hyperparameters-fun-ctrl37\n",
        "get_tuned_hyperparameters(spot_tuner, fun_control)"
      ]
    },
    {
      "cell_type": "code",
      "execution_count": 14,
      "metadata": {},
      "outputs": [
        {
          "name": "stdout",
          "output_type": "stream",
          "text": [
            "filename: spot_037_experiment.pickle\n"
          ]
        }
      ],
      "source": [
        "#| label: code-save-experiment-37\n",
        "PREFIX = fun_control[\"PREFIX\"]\n",
        "filename = get_experiment_filename(PREFIX)\n",
        "spot_tuner.save_experiment(filename=filename)\n",
        "print(f\"filename: {filename}\")"
      ]
    },
    {
      "cell_type": "markdown",
      "metadata": {},
      "source": [
        "The results from the experiment are stored in the pickle file `{python} filename`.\n",
        "The experiment can be reloaded with the following code.\n"
      ]
    },
    {
      "cell_type": "code",
      "execution_count": 15,
      "metadata": {},
      "outputs": [],
      "source": [
        "#| label: code-reload-hyper-experiment-37\n",
        "(spot_tuner_1, fun_control_1, design_control_1,\n",
        "    surrogate_control_1, optimizer_control_1) = load_experiment(filename)"
      ]
    },
    {
      "cell_type": "markdown",
      "metadata": {},
      "source": [
        "Plot the progress of the original experiment are identical to the reloaded experiment."
      ]
    },
    {
      "cell_type": "code",
      "execution_count": 16,
      "metadata": {},
      "outputs": [
        {
          "data": {
            "image/png": "[encoded data removed]",
            "text/plain": [
              "<Figure size 900x600 with 1 Axes>"
            ]
          },
          "metadata": {},
          "output_type": "display_data"
        },
        {
          "data": {
            "image/png": "[encoded data removed]",
            "text/plain": [
              "<Figure size 900x600 with 1 Axes>"
            ]
          },
          "metadata": {},
          "output_type": "display_data"
        }
      ],
      "source": [
        "spot_tuner.plot_progress(log_y=True)\n",
        "spot_tuner_1.plot_progress(log_y=True)"
      ]
    },
    {
      "cell_type": "markdown",
      "metadata": {},
      "source": [
        "Finally, the tuned hyperparameters can be obtained as a dictionary from the reloaded experiment with the following code."
      ]
    },
    {
      "cell_type": "code",
      "execution_count": 17,
      "metadata": {},
      "outputs": [
        {
          "data": {
            "text/plain": [
              "{'l1': 7.0,\n",
              " 'epochs': 5.0,\n",
              " 'batch_size': 4.0,\n",
              " 'act_fn': 'ReLU',\n",
              " 'optimizer': 'RAdam',\n",
              " 'dropout_prob': 0.09699240513877071,\n",
              " 'lr_mult': 0.9054114496467818,\n",
              " 'patience': 3.0,\n",
              " 'initialization': 'Default'}"
            ]
          },
          "execution_count": 17,
          "metadata": {},
          "output_type": "execute_result"
        }
      ],
      "source": [
        "get_tuned_hyperparameters(spot_tuner_1, fun_control_1)"
      ]
    },
    {
      "cell_type": "markdown",
      "metadata": {},
      "source": [
        "::: {.callout-note}\n",
        "### Summary: Saving and Loading Hyperparameter-Tuning Experiments\n",
        "* If `spotPython` is used as an hyperparameter tuner (with an hyperparameter dictionary), experiments can be saved and reloaded with the `save_experiment` and `load_experiment` functions.\n",
        "* The tuned hyperparameters can be obtained with the `get_tuned_hyperparameters` function.\n",
        ":::\n",
        "\n",
        "\n",
        "## Saving and Loading PyTorch Lightning Models {#sec-saving-and-loading-pytorch-lightning-models-37}\n",
        "\n",
        "@sec-spotpython-saving-and-loading  and @sec-spotpython-as-a-hyperparameter-tuner-37 explained how to save and load optimization and hyperparameter tuning experiments and how to get the tuned hyperparameters as a dictionary.\n",
        "This section shows how to save and load `PyTorch Lightning` models.\n",
        "\n",
        "\n",
        "### Get the Tuned Architecture {#sec-get-spot-results-31}\n",
        "\n",
        "In contrast to the function `get_tuned_hyperparameters`, the function `get_tuned_architecture` returns the tuned architecture of the model as a dictionary. Here, the transformations are already applied to the numerical levels of the hyperparameters and the encoding (and types) are the original types of the hyperparameters used by the model. The `config` dictionary can be passed to the model without any modifications."
      ]
    },
    {
      "cell_type": "code",
      "execution_count": 18,
      "metadata": {},
      "outputs": [
        {
          "name": "stdout",
          "output_type": "stream",
          "text": [
            "{'act_fn': ReLU(),\n",
            " 'batch_size': 16,\n",
            " 'dropout_prob': 0.09699240513877071,\n",
            " 'epochs': 32,\n",
            " 'initialization': 'Default',\n",
            " 'l1': 128,\n",
            " 'lr_mult': 0.9054114496467818,\n",
            " 'optimizer': 'RAdam',\n",
            " 'patience': 8}\n"
          ]
        }
      ],
      "source": [
        "from spotPython.hyperparameters.values import get_tuned_architecture\n",
        "config = get_tuned_architecture(spot_tuner, fun_control)\n",
        "pprint.pprint(config)"
      ]
    },
    {
      "cell_type": "markdown",
      "metadata": {},
      "source": [
        "After getting the tuned architecture, the model can be created and tested with the following code."
      ]
    },
    {
      "cell_type": "code",
      "execution_count": 19,
      "metadata": {},
      "outputs": [
        {
          "name": "stderr",
          "output_type": "stream",
          "text": [
            "/Users/bartz/miniforge3/envs/spotCondaEnv/lib/python3.11/site-packages/lightning/pytorch/utilities/parsing.py:198: Attribute 'act_fn' is an instance of `nn.Module` and is already saved during checkpointing. It is recommended to ignore them using `self.save_hyperparameters(ignore=['act_fn'])`.\n",
            "GPU available: True (mps), used: True\n",
            "TPU available: False, using: 0 TPU cores\n",
            "IPU available: False, using: 0 IPUs\n",
            "HPU available: False, using: 0 HPUs\n",
            "\n",
            "  | Name   | Type       | Params | In sizes | Out sizes\n",
            "-------------------------------------------------------------\n",
            "0 | layers | Sequential | 16.5 K | [16, 10] | [16, 1]  \n",
            "-------------------------------------------------------------\n",
            "16.5 K    Trainable params\n",
            "0         Non-trainable params\n",
            "16.5 K    Total params\n",
            "0.066     Total estimated model params size (MB)\n"
          ]
        },
        {
          "name": "stdout",
          "output_type": "stream",
          "text": [
            "LightDataModule.setup(): stage: TrainerFn.FITTING\n",
            "train_size: 0.36, val_size: 0.24 used for train & val data.\n",
            "LightDataModule.val_dataloader(). Val. set size: 106\n",
            "LightDataModule.train_dataloader(). data_train size: 160\n"
          ]
        },
        {
          "name": "stderr",
          "output_type": "stream",
          "text": [
            "/Users/bartz/miniforge3/envs/spotCondaEnv/lib/python3.11/site-packages/lightning/pytorch/trainer/connectors/data_connector.py:441: The 'val_dataloader' does not have many workers which may be a bottleneck. Consider increasing the value of the `num_workers` argument` to `num_workers=15` in the `DataLoader` to improve performance.\n",
            "/Users/bartz/miniforge3/envs/spotCondaEnv/lib/python3.11/site-packages/lightning/pytorch/trainer/connectors/data_connector.py:441: The 'train_dataloader' does not have many workers which may be a bottleneck. Consider increasing the value of the `num_workers` argument` to `num_workers=15` in the `DataLoader` to improve performance.\n",
            "/Users/bartz/miniforge3/envs/spotCondaEnv/lib/python3.11/site-packages/lightning/pytorch/loops/fit_loop.py:293: The number of training batches (10) is smaller than the logging interval Trainer(log_every_n_steps=50). Set a lower value for log_every_n_steps if you want to see logs for the training epoch.\n",
            "`Trainer.fit` stopped: `max_epochs=32` reached.\n",
            "Restoring states from the checkpoint path at /Users/bartz/workspace/Hyperparameter-Tuning-Cookbook/runs/saved_models/128_32_16_ReLU_RAdam_0.097_0.9054_8_Default_TEST/last.ckpt\n",
            "Loaded model weights from the checkpoint at /Users/bartz/workspace/Hyperparameter-Tuning-Cookbook/runs/saved_models/128_32_16_ReLU_RAdam_0.097_0.9054_8_Default_TEST/last.ckpt\n"
          ]
        },
        {
          "name": "stdout",
          "output_type": "stream",
          "text": [
            "LightDataModule.setup(): stage: TrainerFn.TESTING\n",
            "test_size: 0.4 used for test dataset.\n",
            "LightDataModule.test_dataloader(). Test set size: 177\n"
          ]
        },
        {
          "name": "stderr",
          "output_type": "stream",
          "text": [
            "/Users/bartz/miniforge3/envs/spotCondaEnv/lib/python3.11/site-packages/lightning/pytorch/trainer/connectors/data_connector.py:441: The 'test_dataloader' does not have many workers which may be a bottleneck. Consider increasing the value of the `num_workers` argument` to `num_workers=15` in the `DataLoader` to improve performance.\n"
          ]
        },
        {
          "data": {
            "text/html": [
              "<pre style=\"white-space:pre;overflow-x:auto;line-height:normal;font-family:Menlo,'DejaVu Sans Mono',consolas,'Courier New',monospace\">┏━━━━━━━━━━━━━━━━━━━━━━━━━━━┳━━━━━━━━━━━━━━━━━━━━━━━━━━━┓\n",
              "┃<span style=\"font-weight: bold\">        Test metric        </span>┃<span style=\"font-weight: bold\">       DataLoader 0        </span>┃\n",
              "┡━━━━━━━━━━━━━━━━━━━━━━━━━━━╇━━━━━━━━━━━━━━━━━━━━━━━━━━━┩\n",
              "│<span style=\"color: #008080; text-decoration-color: #008080\">         hp_metric         </span>│<span style=\"color: #800080; text-decoration-color: #800080\">      26001.91796875       </span>│\n",
              "│<span style=\"color: #008080; text-decoration-color: #008080\">         val_loss          </span>│<span style=\"color: #800080; text-decoration-color: #800080\">      26001.91796875       </span>│\n",
              "└───────────────────────────┴───────────────────────────┘\n",
              "</pre>\n"
            ],
            "text/plain": [
              "┏━━━━━━━━━━━━━━━━━━━━━━━━━━━┳━━━━━━━━━━━━━━━━━━━━━━━━━━━┓\n",
              "┃\u001b[1m \u001b[0m\u001b[1m       Test metric       \u001b[0m\u001b[1m \u001b[0m┃\u001b[1m \u001b[0m\u001b[1m      DataLoader 0       \u001b[0m\u001b[1m \u001b[0m┃\n",
              "┡━━━━━━━━━━━━━━━━━━━━━━━━━━━╇━━━━━━━━━━━━━━━━━━━━━━━━━━━┩\n",
              "│\u001b[36m \u001b[0m\u001b[36m        hp_metric        \u001b[0m\u001b[36m \u001b[0m│\u001b[35m \u001b[0m\u001b[35m     26001.91796875      \u001b[0m\u001b[35m \u001b[0m│\n",
              "│\u001b[36m \u001b[0m\u001b[36m        val_loss         \u001b[0m\u001b[36m \u001b[0m│\u001b[35m \u001b[0m\u001b[35m     26001.91796875      \u001b[0m\u001b[35m \u001b[0m│\n",
              "└───────────────────────────┴───────────────────────────┘\n"
            ]
          },
          "metadata": {},
          "output_type": "display_data"
        },
        {
          "name": "stdout",
          "output_type": "stream",
          "text": [
            "test_model result: {'val_loss': 26001.91796875, 'hp_metric': 26001.91796875}\n"
          ]
        },
        {
          "data": {
            "text/plain": [
              "(26001.91796875, 26001.91796875)"
            ]
          },
          "execution_count": 19,
          "metadata": {},
          "output_type": "execute_result"
        }
      ],
      "source": [
        "from spotPython.light.testmodel import test_model\n",
        "test_model(config, fun_control)"
      ]
    },
    {
      "cell_type": "markdown",
      "metadata": {},
      "source": [
        "### Load a Model from Checkpoint"
      ]
    },
    {
      "cell_type": "code",
      "execution_count": 20,
      "metadata": {},
      "outputs": [
        {
          "name": "stdout",
          "output_type": "stream",
          "text": [
            "config: {'l1': 128, 'epochs': 32, 'batch_size': 16, 'act_fn': ReLU(), 'optimizer': 'RAdam', 'dropout_prob': 0.09699240513877071, 'lr_mult': 0.9054114496467818, 'patience': 8, 'initialization': 'Default'}\n",
            "Loading model with 128_32_16_ReLU_RAdam_0.097_0.9054_8_Default_TEST from runs/saved_models/128_32_16_ReLU_RAdam_0.097_0.9054_8_Default_TEST/last.ckpt\n",
            "Model: NetLightRegression(\n",
            "  (layers): Sequential(\n",
            "    (0): Linear(in_features=10, out_features=128, bias=True)\n",
            "    (1): BatchNorm1d(128, eps=1e-05, momentum=0.1, affine=True, track_running_stats=True)\n",
            "    (2): ReLU()\n",
            "    (3): Dropout(p=0.09699240513877071, inplace=False)\n",
            "    (4): Linear(in_features=128, out_features=64, bias=True)\n",
            "    (5): BatchNorm1d(64, eps=1e-05, momentum=0.1, affine=True, track_running_stats=True)\n",
            "    (6): ReLU()\n",
            "    (7): Dropout(p=0.09699240513877071, inplace=False)\n",
            "    (8): Linear(in_features=64, out_features=64, bias=True)\n",
            "    (9): BatchNorm1d(64, eps=1e-05, momentum=0.1, affine=True, track_running_stats=True)\n",
            "    (10): ReLU()\n",
            "    (11): Dropout(p=0.09699240513877071, inplace=False)\n",
            "    (12): Linear(in_features=64, out_features=32, bias=True)\n",
            "    (13): BatchNorm1d(32, eps=1e-05, momentum=0.1, affine=True, track_running_stats=True)\n",
            "    (14): ReLU()\n",
            "    (15): Dropout(p=0.09699240513877071, inplace=False)\n",
            "    (16): Linear(in_features=32, out_features=1, bias=True)\n",
            "  )\n",
            ")\n"
          ]
        }
      ],
      "source": [
        "from spotPython.light.loadmodel import load_light_from_checkpoint\n",
        "model_loaded = load_light_from_checkpoint(config, fun_control)"
      ]
    },
    {
      "cell_type": "code",
      "execution_count": 21,
      "metadata": {},
      "outputs": [
        {
          "data": {
            "text/plain": [
              "{'training': False,\n",
              " '_parameters': OrderedDict(),\n",
              " '_buffers': OrderedDict(),\n",
              " '_non_persistent_buffers_set': set(),\n",
              " '_backward_pre_hooks': OrderedDict(),\n",
              " '_backward_hooks': OrderedDict(),\n",
              " '_is_full_backward_hook': None,\n",
              " '_forward_hooks': OrderedDict(),\n",
              " '_forward_hooks_with_kwargs': OrderedDict(),\n",
              " '_forward_hooks_always_called': OrderedDict(),\n",
              " '_forward_pre_hooks': OrderedDict(),\n",
              " '_forward_pre_hooks_with_kwargs': OrderedDict(),\n",
              " '_state_dict_hooks': OrderedDict(),\n",
              " '_state_dict_pre_hooks': OrderedDict(),\n",
              " '_load_state_dict_pre_hooks': OrderedDict(),\n",
              " '_load_state_dict_post_hooks': OrderedDict(),\n",
              " '_modules': OrderedDict([('layers',\n",
              "               Sequential(\n",
              "                 (0): Linear(in_features=10, out_features=128, bias=True)\n",
              "                 (1): BatchNorm1d(128, eps=1e-05, momentum=0.1, affine=True, track_running_stats=True)\n",
              "                 (2): ReLU()\n",
              "                 (3): Dropout(p=0.09699240513877071, inplace=False)\n",
              "                 (4): Linear(in_features=128, out_features=64, bias=True)\n",
              "                 (5): BatchNorm1d(64, eps=1e-05, momentum=0.1, affine=True, track_running_stats=True)\n",
              "                 (6): ReLU()\n",
              "                 (7): Dropout(p=0.09699240513877071, inplace=False)\n",
              "                 (8): Linear(in_features=64, out_features=64, bias=True)\n",
              "                 (9): BatchNorm1d(64, eps=1e-05, momentum=0.1, affine=True, track_running_stats=True)\n",
              "                 (10): ReLU()\n",
              "                 (11): Dropout(p=0.09699240513877071, inplace=False)\n",
              "                 (12): Linear(in_features=64, out_features=32, bias=True)\n",
              "                 (13): BatchNorm1d(32, eps=1e-05, momentum=0.1, affine=True, track_running_stats=True)\n",
              "                 (14): ReLU()\n",
              "                 (15): Dropout(p=0.09699240513877071, inplace=False)\n",
              "                 (16): Linear(in_features=32, out_features=1, bias=True)\n",
              "               ))]),\n",
              " 'prepare_data_per_node': True,\n",
              " 'allow_zero_length_dataloader_with_multiple_devices': False,\n",
              " '_log_hyperparams': True,\n",
              " '_dtype': torch.float32,\n",
              " '_device': device(type='mps', index=0),\n",
              " '_trainer': None,\n",
              " '_example_input_array': tensor([[0., 0., 0., 0., 0., 0., 0., 0., 0., 0.],\n",
              "         [0., 0., 0., 0., 0., 0., 0., 0., 0., 0.],\n",
              "         [0., 0., 0., 0., 0., 0., 0., 0., 0., 0.],\n",
              "         [0., 0., 0., 0., 0., 0., 0., 0., 0., 0.],\n",
              "         [0., 0., 0., 0., 0., 0., 0., 0., 0., 0.],\n",
              "         [0., 0., 0., 0., 0., 0., 0., 0., 0., 0.],\n",
              "         [0., 0., 0., 0., 0., 0., 0., 0., 0., 0.],\n",
              "         [0., 0., 0., 0., 0., 0., 0., 0., 0., 0.],\n",
              "         [0., 0., 0., 0., 0., 0., 0., 0., 0., 0.],\n",
              "         [0., 0., 0., 0., 0., 0., 0., 0., 0., 0.],\n",
              "         [0., 0., 0., 0., 0., 0., 0., 0., 0., 0.],\n",
              "         [0., 0., 0., 0., 0., 0., 0., 0., 0., 0.],\n",
              "         [0., 0., 0., 0., 0., 0., 0., 0., 0., 0.],\n",
              "         [0., 0., 0., 0., 0., 0., 0., 0., 0., 0.],\n",
              "         [0., 0., 0., 0., 0., 0., 0., 0., 0., 0.],\n",
              "         [0., 0., 0., 0., 0., 0., 0., 0., 0., 0.]]),\n",
              " '_current_fx_name': None,\n",
              " '_automatic_optimization': True,\n",
              " '_param_requires_grad_state': {},\n",
              " '_metric_attributes': None,\n",
              " '_compiler_ctx': None,\n",
              " '_fabric': None,\n",
              " '_fabric_optimizers': [],\n",
              " '_L_in': 10,\n",
              " '_L_out': 1,\n",
              " '_torchmetric': 'mean_squared_error',\n",
              " 'metric': <function torchmetrics.functional.regression.mse.mean_squared_error(preds: torch.Tensor, target: torch.Tensor, squared: bool = True, num_outputs: int = 1) -> torch.Tensor>,\n",
              " '_hparams_name': 'kwargs',\n",
              " '_hparams': \"act_fn\":         ReLU()\n",
              " \"batch_size\":     16\n",
              " \"dropout_prob\":   0.09699240513877071\n",
              " \"epochs\":         32\n",
              " \"initialization\": Default\n",
              " \"l1\":             128\n",
              " \"lr_mult\":        0.9054114496467818\n",
              " \"optimizer\":      RAdam\n",
              " \"patience\":       8,\n",
              " '_hparams_initial': \"act_fn\":         ReLU()\n",
              " \"batch_size\":     16\n",
              " \"dropout_prob\":   0.09699240513877071\n",
              " \"epochs\":         32\n",
              " \"initialization\": Default\n",
              " \"l1\":             128\n",
              " \"lr_mult\":        0.9054114496467818\n",
              " \"optimizer\":      RAdam\n",
              " \"patience\":       8}"
            ]
          },
          "execution_count": 21,
          "metadata": {},
          "output_type": "execute_result"
        }
      ],
      "source": [
        "vars(model_loaded)"
      ]
    },
    {
      "cell_type": "code",
      "execution_count": 22,
      "metadata": {},
      "outputs": [],
      "source": [
        "import torch\n",
        "torch.save(model_loaded, \"model.pt\")"
      ]
    },
    {
      "cell_type": "code",
      "execution_count": 23,
      "metadata": {},
      "outputs": [],
      "source": [
        "mymodel = torch.load(\"model.pt\")"
      ]
    },
    {
      "cell_type": "code",
      "execution_count": 24,
      "metadata": {},
      "outputs": [
        {
          "data": {
            "text/plain": [
              "{'training': False,\n",
              " '_parameters': OrderedDict(),\n",
              " '_buffers': OrderedDict(),\n",
              " '_non_persistent_buffers_set': set(),\n",
              " '_backward_pre_hooks': OrderedDict(),\n",
              " '_backward_hooks': OrderedDict(),\n",
              " '_is_full_backward_hook': None,\n",
              " '_forward_hooks': OrderedDict(),\n",
              " '_forward_hooks_with_kwargs': OrderedDict(),\n",
              " '_forward_hooks_always_called': OrderedDict(),\n",
              " '_forward_pre_hooks': OrderedDict(),\n",
              " '_forward_pre_hooks_with_kwargs': OrderedDict(),\n",
              " '_state_dict_hooks': OrderedDict(),\n",
              " '_state_dict_pre_hooks': OrderedDict(),\n",
              " '_load_state_dict_pre_hooks': OrderedDict(),\n",
              " '_load_state_dict_post_hooks': OrderedDict(),\n",
              " '_modules': OrderedDict([('layers',\n",
              "               Sequential(\n",
              "                 (0): Linear(in_features=10, out_features=128, bias=True)\n",
              "                 (1): BatchNorm1d(128, eps=1e-05, momentum=0.1, affine=True, track_running_stats=True)\n",
              "                 (2): ReLU()\n",
              "                 (3): Dropout(p=0.09699240513877071, inplace=False)\n",
              "                 (4): Linear(in_features=128, out_features=64, bias=True)\n",
              "                 (5): BatchNorm1d(64, eps=1e-05, momentum=0.1, affine=True, track_running_stats=True)\n",
              "                 (6): ReLU()\n",
              "                 (7): Dropout(p=0.09699240513877071, inplace=False)\n",
              "                 (8): Linear(in_features=64, out_features=64, bias=True)\n",
              "                 (9): BatchNorm1d(64, eps=1e-05, momentum=0.1, affine=True, track_running_stats=True)\n",
              "                 (10): ReLU()\n",
              "                 (11): Dropout(p=0.09699240513877071, inplace=False)\n",
              "                 (12): Linear(in_features=64, out_features=32, bias=True)\n",
              "                 (13): BatchNorm1d(32, eps=1e-05, momentum=0.1, affine=True, track_running_stats=True)\n",
              "                 (14): ReLU()\n",
              "                 (15): Dropout(p=0.09699240513877071, inplace=False)\n",
              "                 (16): Linear(in_features=32, out_features=1, bias=True)\n",
              "               ))]),\n",
              " 'prepare_data_per_node': True,\n",
              " 'allow_zero_length_dataloader_with_multiple_devices': False,\n",
              " '_log_hyperparams': True,\n",
              " '_dtype': torch.float32,\n",
              " '_device': device(type='mps', index=0),\n",
              " '_trainer': None,\n",
              " '_example_input_array': tensor([[0., 0., 0., 0., 0., 0., 0., 0., 0., 0.],\n",
              "         [0., 0., 0., 0., 0., 0., 0., 0., 0., 0.],\n",
              "         [0., 0., 0., 0., 0., 0., 0., 0., 0., 0.],\n",
              "         [0., 0., 0., 0., 0., 0., 0., 0., 0., 0.],\n",
              "         [0., 0., 0., 0., 0., 0., 0., 0., 0., 0.],\n",
              "         [0., 0., 0., 0., 0., 0., 0., 0., 0., 0.],\n",
              "         [0., 0., 0., 0., 0., 0., 0., 0., 0., 0.],\n",
              "         [0., 0., 0., 0., 0., 0., 0., 0., 0., 0.],\n",
              "         [0., 0., 0., 0., 0., 0., 0., 0., 0., 0.],\n",
              "         [0., 0., 0., 0., 0., 0., 0., 0., 0., 0.],\n",
              "         [0., 0., 0., 0., 0., 0., 0., 0., 0., 0.],\n",
              "         [0., 0., 0., 0., 0., 0., 0., 0., 0., 0.],\n",
              "         [0., 0., 0., 0., 0., 0., 0., 0., 0., 0.],\n",
              "         [0., 0., 0., 0., 0., 0., 0., 0., 0., 0.],\n",
              "         [0., 0., 0., 0., 0., 0., 0., 0., 0., 0.],\n",
              "         [0., 0., 0., 0., 0., 0., 0., 0., 0., 0.]]),\n",
              " '_current_fx_name': None,\n",
              " '_automatic_optimization': True,\n",
              " '_param_requires_grad_state': {},\n",
              " '_metric_attributes': None,\n",
              " '_compiler_ctx': None,\n",
              " '_fabric': None,\n",
              " '_fabric_optimizers': [],\n",
              " '_L_in': 10,\n",
              " '_L_out': 1,\n",
              " '_torchmetric': 'mean_squared_error',\n",
              " 'metric': <function torchmetrics.functional.regression.mse.mean_squared_error(preds: torch.Tensor, target: torch.Tensor, squared: bool = True, num_outputs: int = 1) -> torch.Tensor>,\n",
              " '_hparams_name': 'kwargs',\n",
              " '_hparams': \"act_fn\":         ReLU()\n",
              " \"batch_size\":     16\n",
              " \"dropout_prob\":   0.09699240513877071\n",
              " \"epochs\":         32\n",
              " \"initialization\": Default\n",
              " \"l1\":             128\n",
              " \"lr_mult\":        0.9054114496467818\n",
              " \"optimizer\":      RAdam\n",
              " \"patience\":       8,\n",
              " '_hparams_initial': \"act_fn\":         ReLU()\n",
              " \"batch_size\":     16\n",
              " \"dropout_prob\":   0.09699240513877071\n",
              " \"epochs\":         32\n",
              " \"initialization\": Default\n",
              " \"l1\":             128\n",
              " \"lr_mult\":        0.9054114496467818\n",
              " \"optimizer\":      RAdam\n",
              " \"patience\":       8}"
            ]
          },
          "execution_count": 24,
          "metadata": {},
          "output_type": "execute_result"
        }
      ],
      "source": [
        "# show all attributes of the model\n",
        "vars(mymodel)"
      ]
    },
    {
      "cell_type": "markdown",
      "metadata": {},
      "source": [
        "## Converting a Lightning Model to a Plain Torch Model {#sec-converting-a-lightning-model-to-a-plain-torch-model-37}\n",
        "\n",
        "### The Function `get_removed_attributes_and_base_net`\n",
        "\n",
        "`spotPython` provides a function to covert a `PyTorch Lightning` model to a plain `PyTorch` model. The function `get_removed_attributes_and_base_net` returns a tuple with the removed attributes and the base net. The base net is a plain `PyTorch` model. The removed attributes are the attributes of the `PyTorch Lightning` model that are not part of the base net.\n",
        "\n",
        "This conversion can be reverted."
      ]
    },
    {
      "cell_type": "code",
      "execution_count": 25,
      "metadata": {},
      "outputs": [],
      "source": [
        "import numpy as np\n",
        "import torch\n",
        "from spotPython.utils.device import getDevice\n",
        "from torch.utils.data import random_split\n",
        "from spotPython.utils.classes import get_removed_attributes_and_base_net\n",
        "from spotPython.hyperparameters.optimizer import optimizer_handler\n",
        "removed_attributes, torch_net = get_removed_attributes_and_base_net(net=mymodel)"
      ]
    },
    {
      "cell_type": "code",
      "execution_count": 26,
      "metadata": {},
      "outputs": [
        {
          "name": "stdout",
          "output_type": "stream",
          "text": [
            "{'_dtype': torch.float32, '_torchmetric': 'mean_squared_error', '_automatic_optimization': True, '_fabric': None, 'metric': <function mean_squared_error at 0x37aa0f380>, '_log_hyperparams': True, '_L_in': 10, '_compiler_ctx': None, '_param_requires_grad_state': {}, '_hparams_initial': \"act_fn\":         ReLU()\n",
            "\"batch_size\":     16\n",
            "\"dropout_prob\":   0.09699240513877071\n",
            "\"epochs\":         32\n",
            "\"initialization\": Default\n",
            "\"l1\":             128\n",
            "\"lr_mult\":        0.9054114496467818\n",
            "\"optimizer\":      RAdam\n",
            "\"patience\":       8, '_trainer': None, '_current_fx_name': None, '_hparams': \"act_fn\":         ReLU()\n",
            "\"batch_size\":     16\n",
            "\"dropout_prob\":   0.09699240513877071\n",
            "\"epochs\":         32\n",
            "\"initialization\": Default\n",
            "\"l1\":             128\n",
            "\"lr_mult\":        0.9054114496467818\n",
            "\"optimizer\":      RAdam\n",
            "\"patience\":       8, '_hparams_name': 'kwargs', 'prepare_data_per_node': True, '_example_input_array': tensor([[0., 0., 0., 0., 0., 0., 0., 0., 0., 0.],\n",
            "        [0., 0., 0., 0., 0., 0., 0., 0., 0., 0.],\n",
            "        [0., 0., 0., 0., 0., 0., 0., 0., 0., 0.],\n",
            "        [0., 0., 0., 0., 0., 0., 0., 0., 0., 0.],\n",
            "        [0., 0., 0., 0., 0., 0., 0., 0., 0., 0.],\n",
            "        [0., 0., 0., 0., 0., 0., 0., 0., 0., 0.],\n",
            "        [0., 0., 0., 0., 0., 0., 0., 0., 0., 0.],\n",
            "        [0., 0., 0., 0., 0., 0., 0., 0., 0., 0.],\n",
            "        [0., 0., 0., 0., 0., 0., 0., 0., 0., 0.],\n",
            "        [0., 0., 0., 0., 0., 0., 0., 0., 0., 0.],\n",
            "        [0., 0., 0., 0., 0., 0., 0., 0., 0., 0.],\n",
            "        [0., 0., 0., 0., 0., 0., 0., 0., 0., 0.],\n",
            "        [0., 0., 0., 0., 0., 0., 0., 0., 0., 0.],\n",
            "        [0., 0., 0., 0., 0., 0., 0., 0., 0., 0.],\n",
            "        [0., 0., 0., 0., 0., 0., 0., 0., 0., 0.],\n",
            "        [0., 0., 0., 0., 0., 0., 0., 0., 0., 0.]]), '_L_out': 1, '_device': device(type='mps', index=0), 'allow_zero_length_dataloader_with_multiple_devices': False, '_metric_attributes': None, '_fabric_optimizers': []}\n"
          ]
        }
      ],
      "source": [
        "print(removed_attributes)"
      ]
    },
    {
      "cell_type": "code",
      "execution_count": 27,
      "metadata": {},
      "outputs": [
        {
          "name": "stdout",
          "output_type": "stream",
          "text": [
            "NetLightRegression(\n",
            "  (layers): Sequential(\n",
            "    (0): Linear(in_features=10, out_features=128, bias=True)\n",
            "    (1): BatchNorm1d(128, eps=1e-05, momentum=0.1, affine=True, track_running_stats=True)\n",
            "    (2): ReLU()\n",
            "    (3): Dropout(p=0.09699240513877071, inplace=False)\n",
            "    (4): Linear(in_features=128, out_features=64, bias=True)\n",
            "    (5): BatchNorm1d(64, eps=1e-05, momentum=0.1, affine=True, track_running_stats=True)\n",
            "    (6): ReLU()\n",
            "    (7): Dropout(p=0.09699240513877071, inplace=False)\n",
            "    (8): Linear(in_features=64, out_features=64, bias=True)\n",
            "    (9): BatchNorm1d(64, eps=1e-05, momentum=0.1, affine=True, track_running_stats=True)\n",
            "    (10): ReLU()\n",
            "    (11): Dropout(p=0.09699240513877071, inplace=False)\n",
            "    (12): Linear(in_features=64, out_features=32, bias=True)\n",
            "    (13): BatchNorm1d(32, eps=1e-05, momentum=0.1, affine=True, track_running_stats=True)\n",
            "    (14): ReLU()\n",
            "    (15): Dropout(p=0.09699240513877071, inplace=False)\n",
            "    (16): Linear(in_features=32, out_features=1, bias=True)\n",
            "  )\n",
            ")\n"
          ]
        }
      ],
      "source": [
        "print(torch_net)"
      ]
    },
    {
      "cell_type": "markdown",
      "metadata": {},
      "source": [
        "###  An Example how to use the Plain Torch Net"
      ]
    },
    {
      "cell_type": "code",
      "execution_count": 28,
      "metadata": {},
      "outputs": [
        {
          "data": {
            "image/png": "[encoded data removed]",
            "text/plain": [
              "<Figure size 640x480 with 1 Axes>"
            ]
          },
          "metadata": {},
          "output_type": "display_data"
        }
      ],
      "source": [
        "import torch\n",
        "import torch.nn as nn\n",
        "import torch.optim as optim\n",
        "from torch.utils.data import DataLoader, TensorDataset\n",
        "from sklearn.datasets import load_diabetes\n",
        "from sklearn.model_selection import train_test_split\n",
        "from sklearn.preprocessing import StandardScaler\n",
        "import matplotlib.pyplot as plt\n",
        "\n",
        "# Load the Diabetes dataset from sklearn\n",
        "diabetes = load_diabetes()\n",
        "X = diabetes.data\n",
        "y = diabetes.target\n",
        "\n",
        "# Split the dataset into training and testing sets\n",
        "X_train, X_test, y_train, y_test = train_test_split(X, y, test_size=0.2, random_state=42)\n",
        "\n",
        "# Scale the features\n",
        "scaler = StandardScaler()\n",
        "X_train = scaler.fit_transform(X_train)\n",
        "X_test = scaler.transform(X_test)\n",
        "\n",
        "# Convert the data to PyTorch tensors\n",
        "X_train_tensor = torch.tensor(X_train, dtype=torch.float32)\n",
        "y_train_tensor = torch.tensor(y_train, dtype=torch.float32)\n",
        "X_test_tensor = torch.tensor(X_test, dtype=torch.float32)\n",
        "y_test_tensor = torch.tensor(y_test, dtype=torch.float32)\n",
        "\n",
        "# Create a PyTorch dataset\n",
        "train_dataset = TensorDataset(X_train_tensor, y_train_tensor)\n",
        "test_dataset = TensorDataset(X_test_tensor, y_test_tensor)\n",
        "\n",
        "# Create a PyTorch dataloader\n",
        "batch_size = 32\n",
        "train_dataloader = DataLoader(train_dataset, batch_size=batch_size, shuffle=True)\n",
        "test_dataloader = DataLoader(test_dataset, batch_size=batch_size)\n",
        "\n",
        "torch_net.to(getDevice(\"cpu\"))\n",
        "\n",
        "# train the net\n",
        "criterion = nn.MSELoss()\n",
        "optimizer = optim.Adam(torch_net.parameters(), lr=0.01)\n",
        "n_epochs = 100\n",
        "losses = []\n",
        "for epoch in range(n_epochs):\n",
        "    for inputs, targets in train_dataloader:\n",
        "        targets = targets.view(-1, 1)\n",
        "        optimizer.zero_grad()\n",
        "        outputs = torch_net(inputs)\n",
        "        loss = criterion(outputs, targets)\n",
        "        losses.append(loss.item())\n",
        "        loss.backward()\n",
        "        optimizer.step()\n",
        "# visualize the network training\n",
        "plt.plot(losses)\n",
        "plt.xlabel(\"Epoch\")\n",
        "plt.ylabel(\"Loss\")\n",
        "plt.show()"
      ]
    }
  ],
  "metadata": {
    "kernelspec": {
      "display_name": "Python 3 (ipykernel)",
      "language": "python",
      "name": "python3",
      "path": "/Users/bartz/miniforge3/envs/spotCondaEnv/share/jupyter/kernels/python3"
    },
    "language_info": {
      "codemirror_mode": {
        "name": "ipython",
        "version": 3
      },
      "file_extension": ".py",
      "mimetype": "text/x-python",
      "name": "python",
      "nbconvert_exporter": "python",
      "pygments_lexer": "ipython3",
      "version": "3.11.7"
    }
  },
  "nbformat": 4,
  "nbformat_minor": 4
}
