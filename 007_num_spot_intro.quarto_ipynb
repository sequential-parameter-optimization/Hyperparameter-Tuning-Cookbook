{
 "cells": [
  {
   "cell_type": "markdown",
   "id": "34458a9f",
   "metadata": {},
   "source": [
    "---\n",
    "execute:\n",
    "  cache: false\n",
    "  eval: true\n",
    "  echo: true\n",
    "  warning: false\n",
    "---\n",
    "\n",
    "\n",
    "# Introduction to spotpython {#sec-spot}\n",
    "\n",
    "Surrogate model based optimization methods are common approaches in simulation and optimization. SPOT was developed because there is a great need for sound statistical analysis of simulation and optimization algorithms. SPOT includes methods for tuning based on classical regression and analysis of variance techniques.\n",
    "It presents tree-based models such as classification and regression trees and random forests as well as Bayesian optimization (Gaussian process models, also known as Kriging). Combinations of different meta-modeling approaches are possible. SPOT comes with a sophisticated surrogate model based optimization method, that can handle discrete and continuous inputs. Furthermore, any model implemented in `scikit-learn` can be used out-of-the-box as a surrogate in `spotpython`.\n",
    "\n",
    "SPOT implements key techniques such as exploratory fitness landscape analysis and sensitivity analysis. It can be used to understand the performance of various algorithms, while simultaneously giving insights into their algorithmic behavior.\n",
    "\n",
    "The `spot` loop consists of the following steps:\n",
    "\n",
    "1. Init: Build initial design $X$\n",
    "2. Evaluate initial design on real objective $f$: $y = f(X)$\n",
    "3. Build surrogate: $S = S(X,y)$\n",
    "4. Optimize on surrogate: $X_0 =  \\text{optimize}(S)$\n",
    "5. Evaluate on real objective: $y_0 = f(X_0)$\n",
    "6. Impute (Infill) new points: $X = X \\cup X_0$, $y = y \\cup y_0$.\n",
    "7. Goto 3.\n",
    "\n",
    "Central Idea: Evaluation of the surrogate model `S` is much cheaper (or / and much faster) than running the real-world experiment $f$.\n",
    "We start with a small example.\n",
    "\n",
    "## Example: `Spot` and the Sphere Function\n"
   ]
  },
  {
   "cell_type": "code",
   "execution_count": 1,
   "id": "ab41dcfb",
   "metadata": {},
   "outputs": [
    {
     "name": "stderr",
     "output_type": "stream",
     "text": [
      "Seed set to 123\n"
     ]
    }
   ],
   "source": [
    "import numpy as np\n",
    "from math import inf\n",
    "from spotpython.fun.objectivefunctions import analytical\n",
    "from spotpython.utils.init import fun_control_init, design_control_init\n",
    "from spotpython.hyperparameters.values import set_control_key_value\n",
    "from spotpython.spot import spot\n",
    "import matplotlib.pyplot as plt"
   ]
  },
  {
   "cell_type": "markdown",
   "id": "d2c3ac35",
   "metadata": {},
   "source": [
    "### The Objective Function: Sphere\n",
    "\n",
    "The `spotpython` package provides several classes of objective functions. We will use an analytical objective function, i.e., a function that can be described by a (closed) formula:\n",
    "$$\n",
    "f(x) = x^2\n",
    "$$\n"
   ]
  },
  {
   "cell_type": "code",
   "execution_count": 2,
   "id": "08bfd368",
   "metadata": {},
   "outputs": [],
   "source": [
    "fun = analytical().fun_sphere"
   ]
  },
  {
   "cell_type": "markdown",
   "id": "77b05fac",
   "metadata": {},
   "source": [
    "We can apply the function `fun` to input values and plot the result:\n"
   ]
  },
  {
   "cell_type": "code",
   "execution_count": 3,
   "id": "4b79f91b",
   "metadata": {},
   "outputs": [
    {
     "data": {
      "application/pdf": "[encoded data removed]",
      "text/plain": [
       "<Figure size 1650x1050 with 1 Axes>"
      ]
     },
     "metadata": {},
     "output_type": "display_data"
    }
   ],
   "source": [
    "x = np.linspace(-1,1,100).reshape(-1,1)\n",
    "y = fun(x)\n",
    "plt.figure()\n",
    "plt.plot(x, y, \"k\")\n",
    "plt.show()"
   ]
  },
  {
   "cell_type": "markdown",
   "id": "9b8d1960",
   "metadata": {},
   "source": [
    "### The `Spot` Method as an Optimization Algorithm Using a Surrogate Model\n",
    "\n",
    "We initialize the `fun_control` dictionary.\n",
    "The `fun_control` dictionary contains the parameters for the objective function.\n",
    "The `fun_control` dictionary is passed to the `Spot` method.\n"
   ]
  },
  {
   "cell_type": "code",
   "execution_count": 4,
   "id": "32ce01bd",
   "metadata": {},
   "outputs": [
    {
     "name": "stderr",
     "output_type": "stream",
     "text": [
      "Seed set to 123\n"
     ]
    },
    {
     "name": "stdout",
     "output_type": "stream",
     "text": [
      "spotpython tuning: 4.959603317754042e-09 [#######---] 73.33% \r\n"
     ]
    },
    {
     "name": "stdout",
     "output_type": "stream",
     "text": [
      "spotpython tuning: 4.959603317754042e-09 [########--] 80.00% \r\n"
     ]
    },
    {
     "name": "stdout",
     "output_type": "stream",
     "text": [
      "spotpython tuning: 4.959603317754042e-09 [#########-] 86.67% \r\n"
     ]
    },
    {
     "name": "stdout",
     "output_type": "stream",
     "text": [
      "spotpython tuning: 4.959603317754042e-09 [#########-] 93.33% \r\n"
     ]
    },
    {
     "name": "stdout",
     "output_type": "stream",
     "text": [
      "spotpython tuning: 1.866838525968143e-10 [##########] 100.00% Done...\r\n",
      "\r\n"
     ]
    },
    {
     "data": {
      "text/plain": [
       "<spotpython.spot.spot.Spot at 0x35d0670e0>"
      ]
     },
     "execution_count": 4,
     "metadata": {},
     "output_type": "execute_result"
    }
   ],
   "source": [
    "fun_control=fun_control_init(lower = np.array([-1]),\n",
    "                     upper = np.array([1]))\n",
    "spot_0 = spot.Spot(fun=fun,\n",
    "                   fun_control=fun_control)\n",
    "spot_0.run()"
   ]
  },
  {
   "cell_type": "markdown",
   "id": "6ad61402",
   "metadata": {},
   "source": [
    "The method `print_results()` prints the results, i.e., the best objective function value (\"min y\") and the corresponding input value (\"x0\").\n"
   ]
  },
  {
   "cell_type": "code",
   "execution_count": 5,
   "id": "837c5552",
   "metadata": {},
   "outputs": [
    {
     "name": "stdout",
     "output_type": "stream",
     "text": [
      "min y: 1.866838525968143e-10\n",
      "x0: 1.3663229947447064e-05\n"
     ]
    },
    {
     "data": {
      "text/plain": [
       "[['x0', 1.3663229947447064e-05]]"
      ]
     },
     "execution_count": 5,
     "metadata": {},
     "output_type": "execute_result"
    }
   ],
   "source": [
    "spot_0.print_results()"
   ]
  },
  {
   "cell_type": "markdown",
   "id": "92e6a55e",
   "metadata": {},
   "source": [
    "To plot the search progress, the method `plot_progress()` can be used. The parameter `log_y` is used to plot the objective function values on a logarithmic scale.\n"
   ]
  },
  {
   "cell_type": "code",
   "execution_count": 6,
   "id": "fig-spot-progress",
   "metadata": {},
   "outputs": [
    {
     "data": {
      "application/pdf": "[encoded data removed]",
      "text/plain": [
       "<Figure size 2700x1800 with 1 Axes>"
      ]
     },
     "metadata": {},
     "output_type": "display_data"
    }
   ],
   "source": [
    "#| label: fig-spot-progress\n",
    "#| fig-cap: 'Visualization of the search progress of the `Spot` method. The black elements (points and line) represent the initial design, before the surrogate is build. The red elements represent the search on the surrogate.'\n",
    "spot_0.plot_progress(log_y=True)"
   ]
  },
  {
   "cell_type": "markdown",
   "id": "d0d40587",
   "metadata": {},
   "source": [
    "If the dimension of the input space is one, the method `plot_model()` can be used to visualize the model and the underlying objective function values.\n"
   ]
  },
  {
   "cell_type": "code",
   "execution_count": 7,
   "id": "fig-spot-model-1d",
   "metadata": {},
   "outputs": [
    {
     "data": {
      "application/pdf": "[encoded data removed]",
      "text/plain": [
       "<Figure size 1650x1050 with 1 Axes>"
      ]
     },
     "metadata": {},
     "output_type": "display_data"
    }
   ],
   "source": [
    "#| label: fig-spot-model-1d\n",
    "#| fig-cap: Visualization of the model and the underlying objective function values.\n",
    "spot_0.plot_model()"
   ]
  },
  {
   "cell_type": "markdown",
   "id": "82b86e18",
   "metadata": {},
   "source": [
    "## `Spot` Parameters: `fun_evals`, `init_size` and `show_models`\n",
    "\n",
    "We will modify three parameters:\n",
    "\n",
    "  1. The number of function evaluations (`fun_evals`) will be set to `10` (instead of 15, which is the default value) in the `fun_control` dictionary.\n",
    "  2. The parameter `show_models`, which visualizes the search process for each single iteration for 1-dim functions, in the `fun_control` dictionary.\n",
    "  3. The size of the initial design (`init_size`) in the `design_control` dictionary.\n",
    "\n",
    "\n",
    "The full list of the `Spot` parameters is shown in code reference on GitHub, see [Spot](https://sequential-parameter-optimization.github.io/spotpython/reference/spotpython/spot/spot/#spotpython.spot.spot).\n"
   ]
  },
  {
   "cell_type": "code",
   "execution_count": 8,
   "id": "9e3070b6",
   "metadata": {},
   "outputs": [
    {
     "name": "stderr",
     "output_type": "stream",
     "text": [
      "Seed set to 123\n"
     ]
    },
    {
     "data": {
      "application/pdf": "[encoded data removed]",
      "text/plain": [
       "<Figure size 1650x1050 with 1 Axes>"
      ]
     },
     "metadata": {},
     "output_type": "display_data"
    },
    {
     "data": {
      "application/pdf": "[encoded data removed]",
      "text/plain": [
       "<Figure size 1650x1050 with 1 Axes>"
      ]
     },
     "metadata": {},
     "output_type": "display_data"
    },
    {
     "name": "stdout",
     "output_type": "stream",
     "text": [
      "spotpython tuning: 9.642507519254602e-09 [##########] 100.00% Done...\r\n",
      "\r\n"
     ]
    },
    {
     "data": {
      "text/plain": [
       "<spotpython.spot.spot.Spot at 0x36a58c3b0>"
      ]
     },
     "execution_count": 8,
     "metadata": {},
     "output_type": "execute_result"
    }
   ],
   "source": [
    "fun_control=fun_control_init(lower = np.array([-1]),\n",
    "                     upper = np.array([1]),\n",
    "                     fun_evals = 10,\n",
    "                     show_models = True)               \n",
    "design_control = design_control_init(init_size=9)\n",
    "spot_1 = spot.Spot(fun=fun,\n",
    "                   fun_control=fun_control,\n",
    "                   design_control=design_control)\n",
    "spot_1.run()"
   ]
  },
  {
   "cell_type": "markdown",
   "id": "bf5bfb5d",
   "metadata": {},
   "source": [
    "## Print the Results\n"
   ]
  },
  {
   "cell_type": "code",
   "execution_count": 9,
   "id": "6534c311",
   "metadata": {},
   "outputs": [
    {
     "name": "stdout",
     "output_type": "stream",
     "text": [
      "min y: 9.642507519254602e-09\n",
      "x0: -9.819627039381181e-05\n"
     ]
    },
    {
     "data": {
      "text/plain": [
       "[['x0', -9.819627039381181e-05]]"
      ]
     },
     "execution_count": 9,
     "metadata": {},
     "output_type": "execute_result"
    }
   ],
   "source": [
    "spot_1.print_results()"
   ]
  },
  {
   "cell_type": "markdown",
   "id": "786f5f6e",
   "metadata": {},
   "source": [
    "## Show the Progress\n"
   ]
  },
  {
   "cell_type": "code",
   "execution_count": 10,
   "id": "ad782a8b",
   "metadata": {},
   "outputs": [
    {
     "data": {
      "application/pdf": "[encoded data removed]",
      "text/plain": [
       "<Figure size 2700x1800 with 1 Axes>"
      ]
     },
     "metadata": {},
     "output_type": "display_data"
    }
   ],
   "source": [
    "spot_1.plot_progress()"
   ]
  },
  {
   "cell_type": "markdown",
   "id": "b4fc551d",
   "metadata": {},
   "source": [
    "## Visualizing the Optimization and Hyperparameter Tuning Process with TensorBoard {#sec-visualizing-tensorboard-01}\n",
    "\n",
    "`spotpython` supports the visualization of the hyperparameter tuning process with TensorBoard. The following example shows how to use TensorBoard with `spotpython`.\n",
    "\n",
    "First, we define an \"PREFIX\" to identify the hyperparameter tuning process. The PREFIX is used to create a directory for the TensorBoard files.\n"
   ]
  },
  {
   "cell_type": "code",
   "execution_count": 11,
   "id": "8095678a",
   "metadata": {},
   "outputs": [
    {
     "name": "stderr",
     "output_type": "stream",
     "text": [
      "Seed set to 123\n"
     ]
    }
   ],
   "source": [
    "fun_control = fun_control_init(\n",
    "    PREFIX = \"01\",\n",
    "    lower = np.array([-1]),\n",
    "    upper = np.array([2]))\n",
    "design_control = design_control_init(init_size=5)"
   ]
  },
  {
   "cell_type": "markdown",
   "id": "56060b0e",
   "metadata": {},
   "source": [
    "Since the `PREFIX` is not None, `spotpython` will log the optimization process in the TensorBoard files. \n"
   ]
  },
  {
   "cell_type": "code",
   "execution_count": 12,
   "id": "0c557492",
   "metadata": {},
   "outputs": [
    {
     "name": "stdout",
     "output_type": "stream",
     "text": [
      "spotpython tuning: 2.4876122402648534e-05 [####------] 40.00% \r\n"
     ]
    },
    {
     "name": "stdout",
     "output_type": "stream",
     "text": [
      "spotpython tuning: 8.406820960103693e-07 [#####-----] 46.67% \r\n"
     ]
    },
    {
     "name": "stdout",
     "output_type": "stream",
     "text": [
      "spotpython tuning: 7.414780214595436e-07 [#####-----] 53.33% \r\n"
     ]
    },
    {
     "name": "stdout",
     "output_type": "stream",
     "text": [
      "spotpython tuning: 3.807407090267134e-07 [######----] 60.00% \r\n"
     ]
    },
    {
     "name": "stdout",
     "output_type": "stream",
     "text": [
      "spotpython tuning: 5.01557230424484e-09 [#######---] 66.67% \r\n"
     ]
    },
    {
     "name": "stdout",
     "output_type": "stream",
     "text": [
      "spotpython tuning: 5.01557230424484e-09 [#######---] 73.33% \r\n"
     ]
    },
    {
     "name": "stdout",
     "output_type": "stream",
     "text": [
      "spotpython tuning: 5.01557230424484e-09 [########--] 80.00% \r\n"
     ]
    },
    {
     "name": "stdout",
     "output_type": "stream",
     "text": [
      "spotpython tuning: 5.01557230424484e-09 [#########-] 86.67% \r\n"
     ]
    },
    {
     "name": "stdout",
     "output_type": "stream",
     "text": [
      "spotpython tuning: 5.01557230424484e-09 [#########-] 93.33% \r\n"
     ]
    },
    {
     "name": "stdout",
     "output_type": "stream",
     "text": [
      "spotpython tuning: 5.01557230424484e-09 [##########] 100.00% Done...\r\n",
      "\r\n"
     ]
    },
    {
     "name": "stdout",
     "output_type": "stream",
     "text": [
      "min y: 5.01557230424484e-09\n",
      "x0: -7.082070533569148e-05\n"
     ]
    },
    {
     "data": {
      "text/plain": [
       "[['x0', -7.082070533569148e-05]]"
      ]
     },
     "execution_count": 12,
     "metadata": {},
     "output_type": "execute_result"
    }
   ],
   "source": [
    "spot_tuner = spot.Spot(fun=fun,\n",
    "                   fun_control=fun_control,\n",
    "                   design_control=design_control)\n",
    "spot_tuner.run()\n",
    "spot_tuner.print_results()"
   ]
  },
  {
   "cell_type": "markdown",
   "id": "acd0c581",
   "metadata": {},
   "source": [
    "Now we can start TensorBoard in the background. The TensorBoard process will read the TensorBoard files and visualize the hyperparameter tuning process.\n",
    "From the terminal, we can start TensorBoard with the following command:\n",
    "\n",
    "\n",
    "```{raw}\n",
    "tensorboard --logdir=\"./runs\"\n",
    "```\n",
    "\n",
    "\n",
    "`logdir` is the directory where the TensorBoard files are stored. In our case, the TensorBoard files are stored in the directory `./runs`.\n",
    "\n",
    "TensorBoard will start a web server on port 6006. We can access the TensorBoard web server with the following URL:\n",
    "\n",
    "\n",
    "```{raw}\n",
    "http://localhost:6006/\n",
    "```\n",
    "\n",
    "\n",
    "The first TensorBoard visualization shows the objective function values plotted against the wall time. The wall time is the time that has passed since the start of the hyperparameter tuning process. The five initial design points are shown in the upper left region of the plot. The line visualizes the optimization process.\n",
    "![TensorBoard visualization of the spotpython process. Objective function values plotted against wall time.](figures_static/01_tensorboard_01.png)\n",
    "\n",
    "The second TensorBoard visualization shows the input values, i.e., $x_0$, plotted against the wall time.\n",
    "![TensorBoard visualization of the spotpython process.](figures_static/01_tensorboard_02.png)\n",
    "\n",
    "The third TensorBoard plot illustrates how `spotpython` can be used as a microscope for the internal mechanisms of the surrogate-based optimization process. Here, one important parameter, the learning rate $\\theta$ of the Kriging surrogate is plotted against the number of optimization steps.\n",
    "\n",
    "![TensorBoard visualization of the spotpython process.](figures_static/01_tensorboard_03.png){width=\"50%\"}\n",
    "\n",
    "\n",
    "## Jupyter Notebook\n",
    "\n",
    ":::{.callout-note}\n",
    "\n",
    "* The Jupyter-Notebook of this lecture is available on GitHub in the [Hyperparameter-Tuning-Cookbook Repository](https://github.com/sequential-parameter-optimization/Hyperparameter-Tuning-Cookbook/blob/main/007_num_spot_intro.ipynb)\n",
    "\n",
    ":::"
   ]
  }
 ],
 "metadata": {
  "kernelspec": {
   "display_name": "Python 3 (ipykernel)",
   "language": "python",
   "name": "python3",
   "path": "/Users/bartz/miniforge3/envs/spot312/share/jupyter/kernels/python3"
  },
  "language_info": {
   "codemirror_mode": {
    "name": "ipython",
    "version": 3
   },
   "file_extension": ".py",
   "mimetype": "text/x-python",
   "name": "python",
   "nbconvert_exporter": "python",
   "pygments_lexer": "ipython3",
   "version": "3.12.6"
  }
 },
 "nbformat": 4,
 "nbformat_minor": 5
}
