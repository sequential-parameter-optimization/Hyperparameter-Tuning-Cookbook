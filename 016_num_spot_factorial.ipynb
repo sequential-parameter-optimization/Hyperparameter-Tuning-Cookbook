{
  "cells": [
    {
      "cell_type": "markdown",
      "metadata": {},
      "source": [
        "---\n",
        "execute:\n",
        "  cache: false\n",
        "  eval: true\n",
        "  echo: true\n",
        "  warning: false\n",
        "  keep-ipynb: true\n",
        "---\n",
        "\n",
        "# Factorial Variables {#sec-factorial}\n",
        "\n",
        "Until now, we have considered continuous variables. However, in many applications, the variables are not continuous, but rather discrete or categorical. For example, the number of layers in a neural network, the number of trees in a random forest, or the type of kernel in a support vector machine are all discrete variables. In the following, we will consider a simple example with two numerical variables and one categorical variable.\n"
      ]
    },
    {
      "cell_type": "code",
      "metadata": {},
      "source": [
        "from spotpython.design.spacefilling import SpaceFilling\n",
        "from spotpython.surrogate.kriging import Kriging\n",
        "from spotpython.fun.objectivefunctions import Analytical\n",
        "import numpy as np"
      ],
      "execution_count": null,
      "outputs": []
    },
    {
      "cell_type": "markdown",
      "metadata": {},
      "source": [
        "First, we generate the test data set for fitting the Kriging model. We use the `SpaceFilling` class to generate the first two diemnsion of $n=30$ design points.\n",
        "The third dimension is a categorical variable, which can take the values $0$, $1$, or $2$."
      ]
    },
    {
      "cell_type": "code",
      "metadata": {},
      "source": [
        "gen = SpaceFilling(2)\n",
        "n = 30\n",
        "rng = np.random.RandomState(1)\n",
        "lower = np.array([-5,-0])\n",
        "upper = np.array([10,15])\n",
        "fun_orig = Analytical().fun_branin\n",
        "fun = Analytical().fun_branin_factor\n",
        "\n",
        "X0 = gen.scipy_lhd(n, lower=lower, upper = upper)\n",
        "X1 = np.random.randint(low=0, high=3, size=(n,))\n",
        "X = np.c_[X0, X1]\n",
        "print(X[:5,:])"
      ],
      "execution_count": null,
      "outputs": []
    },
    {
      "cell_type": "markdown",
      "metadata": {},
      "source": [
        "The objective function is the `fun_branin_factor` in the `analytical` class [[SOURCE]](https://sequential-parameter-optimization.github.io/spotpython/reference/spotpython/fun/objectivefunctions/#spotpython.fun.objectivefunctions.analytical.fun_branin_factor).\n",
        "It calculates the Branin function of $(x_1, x_2)$ with an additional factor based on the value of $x_3$. If $x_3 = 1$, the value of the Branin function is increased by 10. If $x_3 = 2$, the value of the Branin function is decreased by 10. Otherwise, the value of the Branin function is not changed."
      ]
    },
    {
      "cell_type": "code",
      "metadata": {},
      "source": [
        "y = fun(X)\n",
        "y_orig = fun_orig(X0)\n",
        "data = np.c_[X, y_orig, y]\n",
        "print(data[:5,:])"
      ],
      "execution_count": null,
      "outputs": []
    },
    {
      "cell_type": "markdown",
      "metadata": {},
      "source": [
        "We fit two Kriging models, one with three numerical variables and one with two numerical variables and one categorical variable. We then compare the predictions of the two models."
      ]
    },
    {
      "cell_type": "code",
      "metadata": {},
      "source": [
        "S = Kriging(name='kriging',  seed=123, log_level=50, n_theta=3, noise=False, var_type=[\"num\", \"num\", \"num\"])\n",
        "S.fit(X, y)\n",
        "Sf = Kriging(name='kriging',  seed=123, log_level=50, n_theta=3, noise=False, var_type=[\"num\", \"num\", \"factor\"])\n",
        "Sf.fit(X, y)"
      ],
      "execution_count": null,
      "outputs": []
    },
    {
      "cell_type": "markdown",
      "metadata": {},
      "source": [
        "We can now compare the predictions of the two models. We generate a new test data set and calculate the sum of the absolute differences between the predictions of the two models and the true values of the objective function.\n",
        "If the categorical variable is important, the sum of the absolute differences should be smaller than if the categorical variable is not important."
      ]
    },
    {
      "cell_type": "code",
      "metadata": {},
      "source": [
        "n = 100\n",
        "k = 100\n",
        "y_true = np.zeros(n*k)\n",
        "y_pred= np.zeros(n*k)\n",
        "y_factor_pred= np.zeros(n*k)\n",
        "for i in range(k):\n",
        "  X0 = gen.scipy_lhd(n, lower=lower, upper = upper)\n",
        "  X1 = np.random.randint(low=0, high=3, size=(n,))\n",
        "  X = np.c_[X0, X1]\n",
        "  a = i*n\n",
        "  b = (i+1)*n\n",
        "  y_true[a:b] = fun(X)\n",
        "  y_pred[a:b] = S.predict(X)\n",
        "  y_factor_pred[a:b] = Sf.predict(X)"
      ],
      "execution_count": null,
      "outputs": []
    },
    {
      "cell_type": "code",
      "metadata": {},
      "source": [
        "import pandas as pd\n",
        "df = pd.DataFrame({\"y\":y_true, \"Prediction\":y_pred, \"Prediction_factor\":y_factor_pred})\n",
        "df.head()"
      ],
      "execution_count": null,
      "outputs": []
    },
    {
      "cell_type": "code",
      "metadata": {},
      "source": [
        "df.tail()"
      ],
      "execution_count": null,
      "outputs": []
    },
    {
      "cell_type": "code",
      "metadata": {},
      "source": [
        "s=np.sum(np.abs(y_pred - y_true))\n",
        "sf=np.sum(np.abs(y_factor_pred - y_true))\n",
        "res = (sf - s)\n",
        "print(res)"
      ],
      "execution_count": null,
      "outputs": []
    },
    {
      "cell_type": "code",
      "metadata": {},
      "source": [
        "from spotpython.plot.validation import plot_actual_vs_predicted\n",
        "plot_actual_vs_predicted(y_test=df[\"y\"], y_pred=df[\"Prediction\"], title=\"Default\")\n",
        "plot_actual_vs_predicted(y_test=df[\"y\"], y_pred=df[\"Prediction_factor\"], title=\"Factor\")"
      ],
      "execution_count": null,
      "outputs": []
    },
    {
      "cell_type": "markdown",
      "metadata": {},
      "source": [
        "## Jupyter Notebook\n",
        "\n",
        ":::{.callout-note}\n",
        "\n",
        "* The Jupyter-Notebook of this lecture is available on GitHub in the [Hyperparameter-Tuning-Cookbook Repository](https://github.com/sequential-parameter-optimization/Hyperparameter-Tuning-Cookbook/blob/main/016_num_spot_factorial.ipynb)\n",
        "\n",
        ":::"
      ]
    }
  ],
  "metadata": {
    "kernelspec": {
      "name": "python3",
      "language": "python",
      "display_name": "Python 3 (ipykernel)",
      "path": "/Users/bartz/miniforge3/envs/spot312/share/jupyter/kernels/python3"
    }
  },
  "nbformat": 4,
  "nbformat_minor": 4
}