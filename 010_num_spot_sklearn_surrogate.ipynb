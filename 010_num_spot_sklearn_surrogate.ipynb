{
 "cells": [
  {
   "cell_type": "raw",
   "id": "e0e39753",
   "metadata": {},
   "source": [
    "---\n",
    "execute:\n",
    "  cache: false\n",
    "  eval: true\n",
    "  echo: true\n",
    "  warning: false\n",
    "  keep-ipynb: true\n",
    "---"
   ]
  },
  {
   "cell_type": "markdown",
   "id": "1b2c36fa",
   "metadata": {},
   "source": [
    "# Using `sklearn` Surrogates in `spotpython` {#sec-sklearn-surrogates}\n",
    "\n",
    "Besides the internal kriging surrogate, which is used as a default by `spotpython`, any surrogate model from `scikit-learn` can be used as a surrogate in `spotpython`. This chapter explains how to use `scikit-learn` surrogates in `spotpython`.\n"
   ]
  },
  {
   "cell_type": "code",
   "execution_count": null,
   "id": "5c6f6111",
   "metadata": {},
   "outputs": [],
   "source": [
    "import numpy as np\n",
    "from math import inf\n",
    "from spotpython.fun.objectivefunctions import analytical\n",
    "from spotpython.spot import spot"
   ]
  },
  {
   "cell_type": "markdown",
   "id": "1afd80df",
   "metadata": {},
   "source": [
    "## Example: Branin Function with `spotpython`'s Internal Kriging Surrogate\n",
    "\n",
    "### The Objective Function Branin\n",
    "\n",
    "* The `spotpython` package provides several classes of objective functions.\n",
    "* We will use an analytical objective function, i.e., a function that can be described by a (closed) formula.\n",
    "* Here we will use the Branin function:\n",
    "\n",
    "        y = a * (x2 - b * x1**2 + c * x1 - r) ** 2 + s * (1 - t) * np.cos(x1) + s,\n",
    "        where values of a, b, c, r, s and t are: a = 1, b = 5.1 / (4*pi**2),\n",
    "        c = 5 / pi, r = 6, s = 10 and t = 1 / (8*pi).\n",
    "\n",
    "* It has three global minima:\n",
    "\n",
    "\n",
    "        f(x) = 0.397887 at (-pi, 12.275), (pi, 2.275), and (9.42478, 2.475).\n"
   ]
  },
  {
   "cell_type": "code",
   "execution_count": null,
   "id": "25782cc9",
   "metadata": {},
   "outputs": [],
   "source": [
    "from spotpython.fun.objectivefunctions import analytical\n",
    "fun = analytical().fun_branin"
   ]
  },
  {
   "cell_type": "markdown",
   "id": "09646cec",
   "metadata": {},
   "source": [
    ":::{.callout-note}\n",
    "#### TensorBoard\n",
    "\n",
    "Similar to the one-dimensional case, which was introduced in Section @sec-visualizing-tensorboard-01, we can use TensorBoard to monitor the progress of the optimization. We will use the same code, only the prefix is different:\n"
   ]
  },
  {
   "cell_type": "code",
   "execution_count": null,
   "id": "96390006",
   "metadata": {},
   "outputs": [],
   "source": [
    "from spotpython.utils.init import fun_control_init, design_control_init\n",
    "PREFIX = \"04\"\n",
    "fun_control = fun_control_init(\n",
    "    PREFIX=PREFIX,\n",
    "    lower = np.array([-5,-0]),\n",
    "    upper = np.array([10,15]),\n",
    "    fun_evals=20,\n",
    "    max_time=inf)\n",
    "\n",
    "design_control = design_control_init(\n",
    "    init_size=10)"
   ]
  },
  {
   "cell_type": "markdown",
   "id": "fb66cad8",
   "metadata": {},
   "source": [
    ":::\n",
    "\n",
    "### Running the surrogate model based optimizer `Spot`:\n"
   ]
  },
  {
   "cell_type": "code",
   "execution_count": null,
   "id": "1b93785e",
   "metadata": {},
   "outputs": [],
   "source": [
    "spot_2 = spot.Spot(fun=fun,\n",
    "                   fun_control=fun_control,\n",
    "                   design_control=design_control)"
   ]
  },
  {
   "cell_type": "code",
   "execution_count": null,
   "id": "ade0a4fb",
   "metadata": {},
   "outputs": [],
   "source": [
    "spot_2.run()"
   ]
  },
  {
   "cell_type": "markdown",
   "id": "71247fcd",
   "metadata": {},
   "source": [
    "### TensorBoard\n",
    "\n",
    "Now we can start TensorBoard in the background with the following command:\n",
    "\n",
    "\n",
    "\n",
    "```{raw}\n",
    "tensorboard --logdir=\"./runs\"\n",
    "```\n",
    "\n",
    "\n",
    "\n",
    "We can access the TensorBoard web server with the following URL:\n",
    "\n",
    "\n",
    "\n",
    "```{raw}\n",
    "http://localhost:6006/\n",
    "```\n",
    "\n",
    "\n",
    "\n",
    "The TensorBoard plot illustrates how `spotpython` can be used as a microscope for the internal mechanisms of the surrogate-based optimization process. Here, one important parameter, the learning rate $\\theta$ of the Kriging surrogate is plotted against the number of optimization steps.\n",
    "\n",
    "![TensorBoard visualization of the spotpython optimization process and the surrogate model.](figures_static/04_tensorboard_01.png){width=\"100%\"}\n",
    "\n",
    "\n",
    "\n",
    "### Print the Results\n"
   ]
  },
  {
   "cell_type": "code",
   "execution_count": null,
   "id": "621c3ae5",
   "metadata": {},
   "outputs": [],
   "source": [
    "spot_2.print_results()"
   ]
  },
  {
   "cell_type": "markdown",
   "id": "de70b93e",
   "metadata": {},
   "source": [
    "### Show the Progress and the Surrogate\n"
   ]
  },
  {
   "cell_type": "code",
   "execution_count": null,
   "id": "94969da4",
   "metadata": {},
   "outputs": [],
   "source": [
    "spot_2.plot_progress(log_y=True)"
   ]
  },
  {
   "cell_type": "code",
   "execution_count": null,
   "id": "d0e9be56",
   "metadata": {},
   "outputs": [],
   "source": [
    "spot_2.surrogate.plot()"
   ]
  },
  {
   "cell_type": "markdown",
   "id": "050f75df",
   "metadata": {},
   "source": [
    "## Example: Using Surrogates From scikit-learn\n",
    "\n",
    "* Default is the `spotpython` (i.e., the internal) `kriging` surrogate.\n",
    "* It can be called explicitely and passed to `Spot`.\n"
   ]
  },
  {
   "cell_type": "code",
   "execution_count": null,
   "id": "9c0492d9",
   "metadata": {},
   "outputs": [],
   "source": [
    "from spotpython.build.kriging import Kriging\n",
    "S_0 = Kriging(name='kriging', seed=123)"
   ]
  },
  {
   "cell_type": "markdown",
   "id": "dc8a77d8",
   "metadata": {},
   "source": [
    "* Alternatively, models from `scikit-learn` can be selected, e.g., Gaussian Process, RBFs, Regression Trees, etc.\n"
   ]
  },
  {
   "cell_type": "code",
   "execution_count": null,
   "id": "a1a326dc",
   "metadata": {},
   "outputs": [],
   "source": [
    "# Needed for the sklearn surrogates:\n",
    "from sklearn.gaussian_process import GaussianProcessRegressor\n",
    "from sklearn.gaussian_process.kernels import RBF\n",
    "from sklearn.tree import DecisionTreeRegressor\n",
    "from sklearn.ensemble import RandomForestRegressor\n",
    "from sklearn import linear_model\n",
    "from sklearn import tree\n",
    "import pandas as pd"
   ]
  },
  {
   "cell_type": "markdown",
   "id": "f4d1c841",
   "metadata": {},
   "source": [
    "* Here are some additional models that might be useful later:\n"
   ]
  },
  {
   "cell_type": "code",
   "execution_count": null,
   "id": "a12cdbf2",
   "metadata": {},
   "outputs": [],
   "source": [
    "S_Tree = DecisionTreeRegressor(random_state=0)\n",
    "S_LM = linear_model.LinearRegression()\n",
    "S_Ridge = linear_model.Ridge()\n",
    "S_RF = RandomForestRegressor(max_depth=2, random_state=0)"
   ]
  },
  {
   "cell_type": "markdown",
   "id": "6712c1a7",
   "metadata": {},
   "source": [
    "### GaussianProcessRegressor as a Surrogate\n",
    "\n",
    "* To use a Gaussian Process model from `sklearn`, that is similar to `spotpython`'s `Kriging`, we can proceed as follows:\n"
   ]
  },
  {
   "cell_type": "code",
   "execution_count": null,
   "id": "9412db64",
   "metadata": {},
   "outputs": [],
   "source": [
    "kernel = 1 * RBF(length_scale=1.0, length_scale_bounds=(1e-2, 1e2))\n",
    "S_GP = GaussianProcessRegressor(kernel=kernel, n_restarts_optimizer=9)"
   ]
  },
  {
   "cell_type": "markdown",
   "id": "1aea8a80",
   "metadata": {},
   "source": [
    "* The scikit-learn GP model `S_GP` is selected for `Spot` as follows: \n",
    "\n",
    "    `surrogate = S_GP`\n",
    "\n",
    "* We can check the kind of surogate model with the command `isinstance`:\n"
   ]
  },
  {
   "cell_type": "code",
   "execution_count": null,
   "id": "67f7c08e",
   "metadata": {},
   "outputs": [],
   "source": [
    "isinstance(S_GP, GaussianProcessRegressor) "
   ]
  },
  {
   "cell_type": "code",
   "execution_count": null,
   "id": "93fed042",
   "metadata": {},
   "outputs": [],
   "source": [
    "isinstance(S_0, Kriging)"
   ]
  },
  {
   "cell_type": "markdown",
   "id": "12ceb016",
   "metadata": {},
   "source": [
    "* Similar to the `Spot` run with the internal `Kriging` model, we can call the run with the `scikit-learn` surrogate:\n"
   ]
  },
  {
   "cell_type": "code",
   "execution_count": null,
   "id": "49daafa2",
   "metadata": {},
   "outputs": [],
   "source": [
    "fun = analytical(seed=123).fun_branin\n",
    "spot_2_GP = spot.Spot(fun=fun,\n",
    "                     fun_control=fun_control,\n",
    "                     design_control=design_control,\n",
    "                     surrogate = S_GP)\n",
    "spot_2_GP.run()"
   ]
  },
  {
   "cell_type": "code",
   "execution_count": null,
   "id": "317c75be",
   "metadata": {},
   "outputs": [],
   "source": [
    "spot_2_GP.plot_progress()"
   ]
  },
  {
   "cell_type": "code",
   "execution_count": null,
   "id": "fc48158f",
   "metadata": {},
   "outputs": [],
   "source": [
    "spot_2_GP.print_results()"
   ]
  },
  {
   "cell_type": "markdown",
   "id": "da236625",
   "metadata": {},
   "source": [
    "## Example: One-dimensional Sphere Function With `spotpython`'s Kriging\n",
    "\n",
    "* In this example, we will use an one-dimensional function, which allows us to visualize the optimization process.\n",
    "  * `show_models= True` is added to the argument list.\n"
   ]
  },
  {
   "cell_type": "code",
   "execution_count": null,
   "id": "20403f74",
   "metadata": {},
   "outputs": [],
   "source": [
    "from spotpython.fun.objectivefunctions import analytical\n",
    "fun_control = fun_control_init(\n",
    "    lower = np.array([-1]),\n",
    "    upper = np.array([1]),\n",
    "    fun_evals=10,\n",
    "    max_time=inf,\n",
    "    show_models= True,\n",
    "    tolerance_x = np.sqrt(np.spacing(1)))\n",
    "fun = analytical(seed=123).fun_sphere\n",
    "design_control = design_control_init(\n",
    "    init_size=3)"
   ]
  },
  {
   "cell_type": "code",
   "execution_count": null,
   "id": "7213cbd0",
   "metadata": {},
   "outputs": [],
   "source": [
    "spot_1 = spot.Spot(fun=fun,\n",
    "                    fun_control=fun_control,\n",
    "                    design_control=design_control)\n",
    "spot_1.run()"
   ]
  },
  {
   "cell_type": "markdown",
   "id": "582a8ec4",
   "metadata": {},
   "source": [
    "### Results\n"
   ]
  },
  {
   "cell_type": "code",
   "execution_count": null,
   "id": "07601b3f",
   "metadata": {},
   "outputs": [],
   "source": [
    "spot_1.print_results()"
   ]
  },
  {
   "cell_type": "code",
   "execution_count": null,
   "id": "7fdca168",
   "metadata": {},
   "outputs": [],
   "source": [
    "spot_1.plot_progress(log_y=True)"
   ]
  },
  {
   "cell_type": "markdown",
   "id": "a2260d84",
   "metadata": {},
   "source": [
    "* The method `plot_model` plots the final surrogate:\n"
   ]
  },
  {
   "cell_type": "code",
   "execution_count": null,
   "id": "9e5d97e5",
   "metadata": {},
   "outputs": [],
   "source": [
    "spot_1.plot_model()"
   ]
  },
  {
   "cell_type": "markdown",
   "id": "254512d3",
   "metadata": {},
   "source": [
    "## Example: `Sklearn` Model GaussianProcess\n",
    "\n",
    "* This example visualizes the search process on the `GaussianProcessRegression` surrogate from `sklearn`.\n",
    "* Therefore `surrogate = S_GP` is added to the argument list.\n"
   ]
  },
  {
   "cell_type": "code",
   "execution_count": null,
   "id": "4aecf35d",
   "metadata": {},
   "outputs": [],
   "source": [
    "fun = analytical(seed=123).fun_sphere\n",
    "spot_1_GP = spot.Spot(fun=fun,\n",
    "                      fun_control=fun_control,\n",
    "                      design_control=design_control,\n",
    "                      surrogate = S_GP)\n",
    "spot_1_GP.run()"
   ]
  },
  {
   "cell_type": "code",
   "execution_count": null,
   "id": "dd63ce59",
   "metadata": {},
   "outputs": [],
   "source": [
    "spot_1_GP.print_results()"
   ]
  },
  {
   "cell_type": "code",
   "execution_count": null,
   "id": "02ce557b",
   "metadata": {},
   "outputs": [],
   "source": [
    "spot_1_GP.plot_progress(log_y=True)"
   ]
  },
  {
   "cell_type": "code",
   "execution_count": null,
   "id": "56e39b91",
   "metadata": {},
   "outputs": [],
   "source": [
    "spot_1_GP.plot_model()"
   ]
  },
  {
   "cell_type": "markdown",
   "id": "0411b7e3",
   "metadata": {},
   "source": [
    "## Exercises\n",
    "\n",
    "### 1. A decision tree regressor: `DecisionTreeRegressor` {#sec-10-exercise-01}\n",
    "\n",
    "* Describe the surrogate model. Use the information from the [scikit-learn documentation](https://scikit-learn.org/stable/modules/generated/sklearn.tree.DecisionTreeRegressor.html).\n",
    "* Use the surrogate as the model for optimization.\n",
    "\n",
    "### 2. A random forest regressor: `RandomForestRegressor` {#sec-10-exercise-02}\n",
    "\n",
    "* Describe the surrogate model. Use the information from the [scikit-learn documentation](https://scikit-learn.org/stable/modules/generated/sklearn.ensemble.RandomForestRegressor.html).\n",
    "* Use the surrogate as the model for optimization.\n",
    "\n",
    "### 3. Ordinary least squares Linear Regression: `LinearRegression` {#sec-10-exercise-03}\n",
    "\n",
    "* Describe the surrogate model. Use the information from the [scikit-learn documentation](https://scikit-learn.org/stable/modules/generated/sklearn.linear_model.LinearRegression.html).\n",
    "* Use the surrogate as the model for optimization.\n",
    "\n",
    "### 4. Linear least squares with l2 regularization: `Ridge` {#sec-10-exercise-04}\n",
    "\n",
    "* Describe the surrogate model. Use the information from the [scikit-learn documentation](https://scikit-learn.org/stable/modules/generated/sklearn.linear_model.Ridge.html).\n",
    "* Use the surrogate as the model for optimization.\n",
    "\n",
    "### 5. Gradient Boosting: `HistGradientBoostingRegressor` {#sec-10-exercise-05}\n",
    "\n",
    "* Describe the surrogate model. Use the information from the [scikit-learn documentation](https://scikit-learn.org/stable/modules/generated/sklearn.ensemble.HistGradientBoostingRegressor.html#sklearn.ensemble.HistGradientBoostingRegressor).\n",
    "* Use the surrogate as the model for optimization.\n",
    "\n",
    "\n",
    "\n",
    "### 6. Comparison of Surrogates {#sec-10-exercise-06}\n",
    "\n",
    "* Use the following two objective functions\n",
    "\n",
    "  1. the 1-dim sphere function [`fun_sphere`](https://github.com/sequential-parameter-optimization/spotpython/blob/main/src/spotpython/fun/objectivefunctions.py) and\n",
    "  2. the two-dim Branin function [`fun_branin`](https://github.com/sequential-parameter-optimization/spotpython/blob/main/src/spotpython/fun/objectivefunctions.py):\n",
    "    \n",
    "    for a comparison of the performance of the five different surrogates: \n",
    "    * `spotpython`'s internal Kriging\n",
    "    * `DecisionTreeRegressor`\n",
    "    * `RandomForestRegressor`\n",
    "    * `linear_model.LinearRegression`\n",
    "    * `linear_model.Ridge`.\n",
    "\n",
    "* Generate a table with the results (number of function evaluations, best function value, and best parameter vector) for each surrogate and each function as shown in @tbl-results.\n",
    "\n",
    "| `surrogate` | `fun` | `fun_evals` | `max_time` | `x_0` | `min_y` | Comments |\n",
    "|-------------|-------|-------------:|------------|------------------:|---------:|----------|\n",
    "| `Kriging`     | `fun_sphere` | 10         | `inf`         |          |      |          |\n",
    "| `Kriging`     | `fun_branin` | 10         | `inf`          |          |      |          |\n",
    "| `DecisionTreeRegressor`     | `fun_sphere` | 10         | `inf`          |          |      |          |\n",
    "| ...     | ... | ...         | ...          |          |      |          |\n",
    "| `Ridge`     | `fun_branin` | 10         | `inf`          |          |      |          |\n",
    "\n",
    ": Result table {#tbl-results}\n",
    "\n",
    "* Discuss the results. Which surrogate is the best for which function? Why?\n",
    "\n",
    "\n",
    "## Selected Solutions\n",
    "\n",
    "### Solution to Exercise @sec-10-exercise-05: Gradient Boosting\n",
    "\n",
    "\n",
    "#### Branin: Using SPOT\n"
   ]
  },
  {
   "cell_type": "code",
   "execution_count": null,
   "id": "7fa97156",
   "metadata": {},
   "outputs": [],
   "source": [
    "import numpy as np\n",
    "from math import inf\n",
    "from spotpython.fun.objectivefunctions import analytical\n",
    "from spotpython.utils.init import fun_control_init, design_control_init\n",
    "from spotpython.spot import spot"
   ]
  },
  {
   "cell_type": "markdown",
   "id": "80852c90",
   "metadata": {},
   "source": [
    "* The Objective Function Branin\n"
   ]
  },
  {
   "cell_type": "code",
   "execution_count": null,
   "id": "1390ae87",
   "metadata": {},
   "outputs": [],
   "source": [
    "fun = analytical().fun_branin\n",
    "PREFIX = \"BRANIN\"\n",
    "fun_control = fun_control_init(\n",
    "    PREFIX=PREFIX,\n",
    "    lower = np.array([-5,-0]),\n",
    "    upper = np.array([10,15]),\n",
    "    fun_evals=20,\n",
    "    max_time=inf)\n",
    "\n",
    "design_control = design_control_init(\n",
    "    init_size=10)"
   ]
  },
  {
   "cell_type": "markdown",
   "id": "3caf1b7b",
   "metadata": {},
   "source": [
    "*  Running the surrogate model based optimizer `Spot`:\n"
   ]
  },
  {
   "cell_type": "code",
   "execution_count": null,
   "id": "5ca1a649",
   "metadata": {},
   "outputs": [],
   "source": [
    "spot_2 = spot.Spot(fun=fun,\n",
    "                   fun_control=fun_control,\n",
    "                   design_control=design_control)\n",
    "spot_2.run()"
   ]
  },
  {
   "cell_type": "markdown",
   "id": "5e3ab2ec",
   "metadata": {},
   "source": [
    "* Print the results\n"
   ]
  },
  {
   "cell_type": "code",
   "execution_count": null,
   "id": "5948dd8d",
   "metadata": {},
   "outputs": [],
   "source": [
    "spot_2.print_results()"
   ]
  },
  {
   "cell_type": "markdown",
   "id": "33fc733c",
   "metadata": {},
   "source": [
    "*  Show the optimization progress:\n"
   ]
  },
  {
   "cell_type": "code",
   "execution_count": null,
   "id": "440ab786",
   "metadata": {},
   "outputs": [],
   "source": [
    "spot_2.plot_progress(log_y=True)"
   ]
  },
  {
   "cell_type": "markdown",
   "id": "04fadad0",
   "metadata": {},
   "source": [
    "* Generate a surrogate model plot:\n"
   ]
  },
  {
   "cell_type": "code",
   "execution_count": null,
   "id": "9695dbde",
   "metadata": {},
   "outputs": [],
   "source": [
    "spot_2.surrogate.plot()"
   ]
  },
  {
   "cell_type": "markdown",
   "id": "4e0d08b9",
   "metadata": {},
   "source": [
    "#### Branin: Using Surrogates From scikit-learn\n",
    "\n",
    "* The `HistGradientBoostingRegressor` model from `scikit-learn` is selected:\n"
   ]
  },
  {
   "cell_type": "code",
   "execution_count": null,
   "id": "194bff48",
   "metadata": {},
   "outputs": [],
   "source": [
    "# Needed for the sklearn surrogates:\n",
    "from sklearn.ensemble import HistGradientBoostingRegressor\n",
    "import pandas as pd\n",
    "S_XGB = HistGradientBoostingRegressor()"
   ]
  },
  {
   "cell_type": "markdown",
   "id": "d44ae7e0",
   "metadata": {},
   "source": [
    "* The scikit-learn XGB model `S_XGB` is selected for `Spot` as follows: `surrogate = S_XGB`.\n",
    "* Similar to the `Spot` run with the internal `Kriging` model, we can call the run with the `scikit-learn` surrogate:\n"
   ]
  },
  {
   "cell_type": "code",
   "execution_count": null,
   "id": "31bb368c",
   "metadata": {},
   "outputs": [],
   "source": [
    "fun = analytical(seed=123).fun_branin\n",
    "spot_2_XGB = spot.Spot(fun=fun,\n",
    "                     fun_control=fun_control,\n",
    "                     design_control=design_control,\n",
    "                     surrogate = S_XGB)\n",
    "spot_2_XGB.run()"
   ]
  },
  {
   "cell_type": "markdown",
   "id": "c121c81a",
   "metadata": {},
   "source": [
    "* Print the Results\n"
   ]
  },
  {
   "cell_type": "code",
   "execution_count": null,
   "id": "ae09c523",
   "metadata": {},
   "outputs": [],
   "source": [
    "spot_2_XGB.print_results()"
   ]
  },
  {
   "cell_type": "markdown",
   "id": "664c8663",
   "metadata": {},
   "source": [
    "*  Show the Progress\n"
   ]
  },
  {
   "cell_type": "code",
   "execution_count": null,
   "id": "230b40b5",
   "metadata": {},
   "outputs": [],
   "source": [
    "spot_2_XGB.plot_progress(log_y=True)"
   ]
  },
  {
   "cell_type": "markdown",
   "id": "e0196898",
   "metadata": {},
   "source": [
    "* Since the `sklearn` model does not provide a `plot` method, we cannot generate a surrogate model plot.\n",
    "\n",
    "\n",
    "#### One-dimensional Sphere Function With `spotpython`'s Kriging\n",
    "\n",
    "* In this example, we will use an one-dimensional function, which allows us to visualize the optimization process.\n",
    "  * `show_models= True` is added to the argument list.\n"
   ]
  },
  {
   "cell_type": "code",
   "execution_count": null,
   "id": "47eea9ee",
   "metadata": {},
   "outputs": [],
   "source": [
    "from spotpython.fun.objectivefunctions import analytical\n",
    "fun_control = fun_control_init(\n",
    "    lower = np.array([-1]),\n",
    "    upper = np.array([1]),\n",
    "    fun_evals=10,\n",
    "    max_time=inf,\n",
    "    show_models= True,\n",
    "    tolerance_x = np.sqrt(np.spacing(1)))\n",
    "fun = analytical(seed=123).fun_sphere\n",
    "design_control = design_control_init(\n",
    "    init_size=3)"
   ]
  },
  {
   "cell_type": "code",
   "execution_count": null,
   "id": "9f85a586",
   "metadata": {},
   "outputs": [],
   "source": [
    "spot_1 = spot.Spot(fun=fun,\n",
    "                    fun_control=fun_control,\n",
    "                    design_control=design_control)\n",
    "spot_1.run()"
   ]
  },
  {
   "cell_type": "markdown",
   "id": "3df48d88",
   "metadata": {},
   "source": [
    "* Print the Results\n"
   ]
  },
  {
   "cell_type": "code",
   "execution_count": null,
   "id": "18893fdb",
   "metadata": {},
   "outputs": [],
   "source": [
    "spot_1.print_results()"
   ]
  },
  {
   "cell_type": "markdown",
   "id": "e5180008",
   "metadata": {},
   "source": [
    "* Show the Progress\n"
   ]
  },
  {
   "cell_type": "code",
   "execution_count": null,
   "id": "20ab8273",
   "metadata": {},
   "outputs": [],
   "source": [
    "spot_1.plot_progress(log_y=True)"
   ]
  },
  {
   "cell_type": "markdown",
   "id": "801ca8c1",
   "metadata": {},
   "source": [
    "* The method `plot_model` plots the final surrogate:\n"
   ]
  },
  {
   "cell_type": "code",
   "execution_count": null,
   "id": "38e81dd1",
   "metadata": {},
   "outputs": [],
   "source": [
    "spot_1.plot_model()"
   ]
  },
  {
   "cell_type": "markdown",
   "id": "176a0257",
   "metadata": {},
   "source": [
    "#### One-dimensional Sphere Function With `Sklearn` Model HistGradientBoostingRegressor\n",
    "\n",
    "* This example visualizes the search process on the `HistGradientBoostingRegressor` surrogate from `sklearn`.\n",
    "* Therefore `surrogate = S_XGB` is added to the argument list.\n"
   ]
  },
  {
   "cell_type": "code",
   "execution_count": null,
   "id": "20583476",
   "metadata": {},
   "outputs": [],
   "source": [
    "fun_control = fun_control_init(\n",
    "    lower = np.array([-1]),\n",
    "    upper = np.array([1]),\n",
    "    fun_evals=10,\n",
    "    max_time=inf,\n",
    "    show_models= True,\n",
    "    tolerance_x = np.sqrt(np.spacing(1)))\n",
    "fun = analytical(seed=123).fun_sphere\n",
    "design_control = design_control_init(\n",
    "    init_size=3)\n",
    "spot_1_XGB = spot.Spot(fun=fun,\n",
    "                      fun_control=fun_control,\n",
    "                      design_control=design_control,\n",
    "                      surrogate = S_XGB)\n",
    "spot_1_XGB.run()"
   ]
  },
  {
   "cell_type": "code",
   "execution_count": null,
   "id": "07b2f66a",
   "metadata": {},
   "outputs": [],
   "source": [
    "spot_1_XGB.print_results()"
   ]
  },
  {
   "cell_type": "code",
   "execution_count": null,
   "id": "4d62434d",
   "metadata": {},
   "outputs": [],
   "source": [
    "spot_1_XGB.plot_progress(log_y=True)"
   ]
  },
  {
   "cell_type": "code",
   "execution_count": null,
   "id": "4b62d52c",
   "metadata": {},
   "outputs": [],
   "source": [
    "spot_1_XGB.plot_model()"
   ]
  },
  {
   "cell_type": "markdown",
   "id": "90d32788",
   "metadata": {},
   "source": [
    "## Jupyter Notebook\n",
    "\n",
    ":::{.callout-note}\n",
    "\n",
    "* The Jupyter-Notebook of this lecture is available on GitHub in the [Hyperparameter-Tuning-Cookbook Repository](https://github.com/sequential-parameter-optimization/Hyperparameter-Tuning-Cookbook/blob/main/010_num_spot_sklearn_surrogate.ipynb)\n",
    "\n",
    ":::"
   ]
  }
 ],
 "metadata": {
  "kernelspec": {
   "display_name": "Python 3 (ipykernel)",
   "language": "python",
   "name": "python3"
  },
  "language_info": {
   "codemirror_mode": {
    "name": "ipython",
    "version": 3
   },
   "file_extension": ".py",
   "mimetype": "text/x-python",
   "name": "python",
   "nbconvert_exporter": "python",
   "pygments_lexer": "ipython3",
   "version": "3.11.7"
  }
 },
 "nbformat": 4,
 "nbformat_minor": 5
}
