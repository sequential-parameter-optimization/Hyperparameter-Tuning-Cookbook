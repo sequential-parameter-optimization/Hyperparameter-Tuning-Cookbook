{
  "cells": [
    {
      "cell_type": "raw",
      "metadata": {},
      "source": [
        "---\n",
        "execute:\n",
        "  cache: false\n",
        "  eval: true\n",
        "  echo: true\n",
        "  warning: false\n",
        "  keep-ipynb: true\n",
        "---"
      ],
      "id": "726d7cb0"
    },
    {
      "cell_type": "markdown",
      "metadata": {},
      "source": [
        "# Using `sklearn` Surrogates in `spotPython` {#sec-sklearn-surrogates}\n",
        "\n",
        "Besides the internal kriging surrogate, which is used as a default by `spotPython`, any surrogate model from `scikit-learn` can be used as a surrogate in `spotPython`. This chapter explains how to use `scikit-learn` surrogates in `spotPython`.\n"
      ],
      "id": "7a9b0ad7"
    },
    {
      "cell_type": "code",
      "metadata": {},
      "source": [
        "import numpy as np\n",
        "from math import inf\n",
        "from spotPython.fun.objectivefunctions import analytical\n",
        "from spotPython.spot import spot"
      ],
      "id": "875ef84b",
      "execution_count": null,
      "outputs": []
    },
    {
      "cell_type": "markdown",
      "metadata": {},
      "source": [
        "## Example: Branin Function with `spotPython`'s Internal Kriging Surrogate\n",
        "\n",
        "### The Objective Function Branin\n",
        "\n",
        "* The `spotPython` package provides several classes of objective functions.\n",
        "* We will use an analytical objective function, i.e., a function that can be described by a (closed) formula.\n",
        "* Here we will use the Branin function:\n",
        "\n",
        "        y = a * (x2 - b * x1**2 + c * x1 - r) ** 2 + s * (1 - t) * np.cos(x1) + s,\n",
        "        where values of a, b, c, r, s and t are: a = 1, b = 5.1 / (4*pi**2),\n",
        "        c = 5 / pi, r = 6, s = 10 and t = 1 / (8*pi).\n",
        "\n",
        "* It has three global minima:\n",
        "\n",
        "\n",
        "        f(x) = 0.397887 at (-pi, 12.275), (pi, 2.275), and (9.42478, 2.475).\n"
      ],
      "id": "e736cb01"
    },
    {
      "cell_type": "code",
      "metadata": {},
      "source": [
        "from spotPython.fun.objectivefunctions import analytical\n",
        "fun = analytical().fun_branin"
      ],
      "id": "f7e2cc20",
      "execution_count": null,
      "outputs": []
    },
    {
      "cell_type": "markdown",
      "metadata": {},
      "source": [
        ":::{.callout-note}\n",
        "#### TensorBoard\n",
        "\n",
        "Similar to the one-dimensional case, which was introduced in Section @sec-visualizing-tensorboard-01, we can use TensorBoard to monitor the progress of the optimization. We will use the same code, only the prefix is different:\n"
      ],
      "id": "cf818649"
    },
    {
      "cell_type": "code",
      "metadata": {},
      "source": [
        "from spotPython.utils.init import fun_control_init, design_control_init\n",
        "PREFIX = \"04\"\n",
        "fun_control = fun_control_init(\n",
        "    PREFIX=PREFIX,\n",
        "    lower = np.array([-5,-0]),\n",
        "    upper = np.array([10,15]),\n",
        "    fun_evals=20,\n",
        "    max_time=inf)\n",
        "\n",
        "design_control = design_control_init(\n",
        "    init_size=10)"
      ],
      "id": "d74a07d7",
      "execution_count": null,
      "outputs": []
    },
    {
      "cell_type": "markdown",
      "metadata": {},
      "source": [
        ":::\n",
        "\n",
        "### Running the surrogate model based optimizer `Spot`:\n"
      ],
      "id": "e5fad09a"
    },
    {
      "cell_type": "code",
      "metadata": {},
      "source": [
        "spot_2 = spot.Spot(fun=fun,\n",
        "                   fun_control=fun_control,\n",
        "                   design_control=design_control)"
      ],
      "id": "8690edac",
      "execution_count": null,
      "outputs": []
    },
    {
      "cell_type": "code",
      "metadata": {},
      "source": [
        "spot_2.run()"
      ],
      "id": "32f8b791",
      "execution_count": null,
      "outputs": []
    },
    {
      "cell_type": "markdown",
      "metadata": {},
      "source": [
        "### TensorBoard\n",
        "\n",
        "Now we can start TensorBoard in the background with the following command:\n",
        "\n",
        "\n",
        "\n",
        "```{raw}\n",
        "tensorboard --logdir=\"./runs\"\n",
        "```\n",
        "\n",
        "\n",
        "\n",
        "We can access the TensorBoard web server with the following URL:\n",
        "\n",
        "\n",
        "\n",
        "```{raw}\n",
        "http://localhost:6006/\n",
        "```\n",
        "\n",
        "\n",
        "\n",
        "The TensorBoard plot illustrates how `spotPython` can be used as a microscope for the internal mechanisms of the surrogate-based optimization process. Here, one important parameter, the learning rate $\\theta$ of the Kriging surrogate is plotted against the number of optimization steps.\n",
        "\n",
        "![TensorBoard visualization of the spotPython optimization process and the surrogate model.](figures_static/04_tensorboard_01.png){width=\"100%\"}\n",
        "\n",
        "\n",
        "\n",
        "### Print the Results\n"
      ],
      "id": "b6d4bd76"
    },
    {
      "cell_type": "code",
      "metadata": {},
      "source": [
        "spot_2.print_results()"
      ],
      "id": "c0e627c8",
      "execution_count": null,
      "outputs": []
    },
    {
      "cell_type": "markdown",
      "metadata": {},
      "source": [
        "### Show the Progress and the Surrogate\n"
      ],
      "id": "4b84db9e"
    },
    {
      "cell_type": "code",
      "metadata": {},
      "source": [
        "spot_2.plot_progress(log_y=True)"
      ],
      "id": "12ba1590",
      "execution_count": null,
      "outputs": []
    },
    {
      "cell_type": "code",
      "metadata": {},
      "source": [
        "spot_2.surrogate.plot()"
      ],
      "id": "87eaf4cd",
      "execution_count": null,
      "outputs": []
    },
    {
      "cell_type": "markdown",
      "metadata": {},
      "source": [
        "## Example: Using Surrogates From scikit-learn\n",
        "\n",
        "* Default is the `spotPython` (i.e., the internal) `kriging` surrogate.\n",
        "* It can be called explicitely and passed to `Spot`.\n"
      ],
      "id": "f56b99b6"
    },
    {
      "cell_type": "code",
      "metadata": {},
      "source": [
        "from spotPython.build.kriging import Kriging\n",
        "S_0 = Kriging(name='kriging', seed=123)"
      ],
      "id": "d6042e2f",
      "execution_count": null,
      "outputs": []
    },
    {
      "cell_type": "markdown",
      "metadata": {},
      "source": [
        "* Alternatively, models from `scikit-learn` can be selected, e.g., Gaussian Process, RBFs, Regression Trees, etc.\n"
      ],
      "id": "5327d642"
    },
    {
      "cell_type": "code",
      "metadata": {},
      "source": [
        "# Needed for the sklearn surrogates:\n",
        "from sklearn.gaussian_process import GaussianProcessRegressor\n",
        "from sklearn.gaussian_process.kernels import RBF\n",
        "from sklearn.tree import DecisionTreeRegressor\n",
        "from sklearn.ensemble import RandomForestRegressor\n",
        "from sklearn import linear_model\n",
        "from sklearn import tree\n",
        "import pandas as pd"
      ],
      "id": "af5bd74a",
      "execution_count": null,
      "outputs": []
    },
    {
      "cell_type": "markdown",
      "metadata": {},
      "source": [
        "* Here are some additional models that might be useful later:\n"
      ],
      "id": "7279fbfc"
    },
    {
      "cell_type": "code",
      "metadata": {},
      "source": [
        "S_Tree = DecisionTreeRegressor(random_state=0)\n",
        "S_LM = linear_model.LinearRegression()\n",
        "S_Ridge = linear_model.Ridge()\n",
        "S_RF = RandomForestRegressor(max_depth=2, random_state=0)"
      ],
      "id": "1c885108",
      "execution_count": null,
      "outputs": []
    },
    {
      "cell_type": "markdown",
      "metadata": {},
      "source": [
        "### GaussianProcessRegressor as a Surrogate\n",
        "\n",
        "* To use a Gaussian Process model from `sklearn`, that is similar to `spotPython`'s `Kriging`, we can proceed as follows:\n"
      ],
      "id": "8e6b8c0a"
    },
    {
      "cell_type": "code",
      "metadata": {},
      "source": [
        "kernel = 1 * RBF(length_scale=1.0, length_scale_bounds=(1e-2, 1e2))\n",
        "S_GP = GaussianProcessRegressor(kernel=kernel, n_restarts_optimizer=9)"
      ],
      "id": "0d5d6b44",
      "execution_count": null,
      "outputs": []
    },
    {
      "cell_type": "markdown",
      "metadata": {},
      "source": [
        "* The scikit-learn GP model `S_GP` is selected for `Spot` as follows: \n",
        "\n",
        "    `surrogate = S_GP`\n",
        "\n",
        "* We can check the kind of surogate model with the command `isinstance`:\n"
      ],
      "id": "0ec44cce"
    },
    {
      "cell_type": "code",
      "metadata": {},
      "source": [
        "isinstance(S_GP, GaussianProcessRegressor) "
      ],
      "id": "70e98ca4",
      "execution_count": null,
      "outputs": []
    },
    {
      "cell_type": "code",
      "metadata": {},
      "source": [
        "isinstance(S_0, Kriging)"
      ],
      "id": "5621327b",
      "execution_count": null,
      "outputs": []
    },
    {
      "cell_type": "markdown",
      "metadata": {},
      "source": [
        "* Similar to the `Spot` run with the internal `Kriging` model, we can call the run with the `scikit-learn` surrogate:\n"
      ],
      "id": "386940a1"
    },
    {
      "cell_type": "code",
      "metadata": {},
      "source": [
        "fun = analytical(seed=123).fun_branin\n",
        "spot_2_GP = spot.Spot(fun=fun,\n",
        "                     fun_control=fun_control,\n",
        "                     design_control=design_control,\n",
        "                     surrogate = S_GP)\n",
        "spot_2_GP.run()"
      ],
      "id": "eb329aac",
      "execution_count": null,
      "outputs": []
    },
    {
      "cell_type": "code",
      "metadata": {},
      "source": [
        "spot_2_GP.plot_progress()"
      ],
      "id": "4d93c36c",
      "execution_count": null,
      "outputs": []
    },
    {
      "cell_type": "code",
      "metadata": {},
      "source": [
        "spot_2_GP.print_results()"
      ],
      "id": "3cdf4010",
      "execution_count": null,
      "outputs": []
    },
    {
      "cell_type": "markdown",
      "metadata": {},
      "source": [
        "## Example: One-dimensional Sphere Function With `spotPython`'s Kriging\n",
        "\n",
        "* In this example, we will use an one-dimensional function, which allows us to visualize the optimization process.\n",
        "  * `show_models= True` is added to the argument list.\n"
      ],
      "id": "3a6b2c72"
    },
    {
      "cell_type": "code",
      "metadata": {},
      "source": [
        "from spotPython.fun.objectivefunctions import analytical\n",
        "fun_control = fun_control_init(\n",
        "    lower = np.array([-1]),\n",
        "    upper = np.array([1]),\n",
        "    fun_evals=10,\n",
        "    max_time=inf,\n",
        "    show_models= True,\n",
        "    tolerance_x = np.sqrt(np.spacing(1)))\n",
        "fun = analytical(seed=123).fun_sphere\n",
        "design_control = design_control_init(\n",
        "    init_size=3)"
      ],
      "id": "e7406ad6",
      "execution_count": null,
      "outputs": []
    },
    {
      "cell_type": "code",
      "metadata": {},
      "source": [
        "spot_1 = spot.Spot(fun=fun,\n",
        "                    fun_control=fun_control,\n",
        "                    design_control=design_control)\n",
        "spot_1.run()"
      ],
      "id": "76c824a9",
      "execution_count": null,
      "outputs": []
    },
    {
      "cell_type": "markdown",
      "metadata": {},
      "source": [
        "### Results\n"
      ],
      "id": "39cf8267"
    },
    {
      "cell_type": "code",
      "metadata": {},
      "source": [
        "spot_1.print_results()"
      ],
      "id": "4cf22cb3",
      "execution_count": null,
      "outputs": []
    },
    {
      "cell_type": "code",
      "metadata": {},
      "source": [
        "spot_1.plot_progress(log_y=True)"
      ],
      "id": "2cb1b3c4",
      "execution_count": null,
      "outputs": []
    },
    {
      "cell_type": "markdown",
      "metadata": {},
      "source": [
        "* The method `plot_model` plots the final surrogate:\n"
      ],
      "id": "adc934c1"
    },
    {
      "cell_type": "code",
      "metadata": {},
      "source": [
        "spot_1.plot_model()"
      ],
      "id": "7f54ef23",
      "execution_count": null,
      "outputs": []
    },
    {
      "cell_type": "markdown",
      "metadata": {},
      "source": [
        "## Example: `Sklearn` Model GaussianProcess\n",
        "\n",
        "* This example visualizes the search process on the `GaussianProcessRegression` surrogate from `sklearn`.\n",
        "* Therefore `surrogate = S_GP` is added to the argument list.\n"
      ],
      "id": "54977ade"
    },
    {
      "cell_type": "code",
      "metadata": {},
      "source": [
        "fun = analytical(seed=123).fun_sphere\n",
        "spot_1_GP = spot.Spot(fun=fun,\n",
        "                      fun_control=fun_control,\n",
        "                      design_control=design_control,\n",
        "                      surrogate = S_GP)\n",
        "spot_1_GP.run()"
      ],
      "id": "244c6d10",
      "execution_count": null,
      "outputs": []
    },
    {
      "cell_type": "code",
      "metadata": {},
      "source": [
        "spot_1_GP.print_results()"
      ],
      "id": "f9666a9c",
      "execution_count": null,
      "outputs": []
    },
    {
      "cell_type": "code",
      "metadata": {},
      "source": [
        "spot_1_GP.plot_progress(log_y=True)"
      ],
      "id": "2680bdcb",
      "execution_count": null,
      "outputs": []
    },
    {
      "cell_type": "code",
      "metadata": {},
      "source": [
        "spot_1_GP.plot_model()"
      ],
      "id": "26818c00",
      "execution_count": null,
      "outputs": []
    },
    {
      "cell_type": "markdown",
      "metadata": {},
      "source": [
        "## Exercises\n",
        "\n",
        "### 1. A decision tree regressor: `DecisionTreeRegressor` {#sec-10-exercise-01}\n",
        "\n",
        "* Describe the surrogate model. Use the information from the [scikit-learn documentation](https://scikit-learn.org/stable/modules/generated/sklearn.tree.DecisionTreeRegressor.html).\n",
        "* Use the surrogate as the model for optimization.\n",
        "\n",
        "### 2. A random forest regressor: `RandomForestRegressor` {#sec-10-exercise-02}\n",
        "\n",
        "* Describe the surrogate model. Use the information from the [scikit-learn documentation](https://scikit-learn.org/stable/modules/generated/sklearn.ensemble.RandomForestRegressor.html).\n",
        "* Use the surrogate as the model for optimization.\n",
        "\n",
        "### 3. Ordinary least squares Linear Regression: `LinearRegression` {#sec-10-exercise-03}\n",
        "\n",
        "* Describe the surrogate model. Use the information from the [scikit-learn documentation](https://scikit-learn.org/stable/modules/generated/sklearn.linear_model.LinearRegression.html).\n",
        "* Use the surrogate as the model for optimization.\n",
        "\n",
        "### 4. Linear least squares with l2 regularization: `Ridge` {#sec-10-exercise-04}\n",
        "\n",
        "* Describe the surrogate model. Use the information from the [scikit-learn documentation](https://scikit-learn.org/stable/modules/generated/sklearn.linear_model.Ridge.html).\n",
        "* Use the surrogate as the model for optimization.\n",
        "\n",
        "### 5. Gradient Boosting: `HistGradientBoostingRegressor` {#sec-10-exercise-05}\n",
        "\n",
        "* Describe the surrogate model. Use the information from the [scikit-learn documentation](https://scikit-learn.org/stable/modules/generated/sklearn.ensemble.HistGradientBoostingRegressor.html#sklearn.ensemble.HistGradientBoostingRegressor).\n",
        "* Use the surrogate as the model for optimization.\n",
        "\n",
        "\n",
        "\n",
        "### 6. Comparison of Surrogates {#sec-10-exercise-06}\n",
        "\n",
        "* Use the following two objective functions\n",
        "\n",
        "  1. the 1-dim sphere function [`fun_sphere`](https://github.com/sequential-parameter-optimization/spotPython/blob/main/src/spotPython/fun/objectivefunctions.py) and\n",
        "  2. the two-dim Branin function [`fun_branin`](https://github.com/sequential-parameter-optimization/spotPython/blob/main/src/spotPython/fun/objectivefunctions.py):\n",
        "    \n",
        "    for a comparison of the performance of the five different surrogates: \n",
        "    * `spotPython`'s internal Kriging\n",
        "    * `DecisionTreeRegressor`\n",
        "    * `RandomForestRegressor`\n",
        "    * `linear_model.LinearRegression`\n",
        "    * `linear_model.Ridge`.\n",
        "\n",
        "* Generate a table with the results (number of function evaluations, best function value, and best parameter vector) for each surrogate and each function as shown in @tbl-results.\n",
        "\n",
        "| `surrogate` | `fun` | `fun_evals` | `max_time` | `x_0` | `min_y` | Comments |\n",
        "|-------------|-------|-------------:|------------|------------------:|---------:|----------|\n",
        "| `Kriging`     | `fun_sphere` | 10         | `inf`         |          |      |          |\n",
        "| `Kriging`     | `fun_branin` | 10         | `inf`          |          |      |          |\n",
        "| `DecisionTreeRegressor`     | `fun_sphere` | 10         | `inf`          |          |      |          |\n",
        "| ...     | ... | ...         | ...          |          |      |          |\n",
        "| `Ridge`     | `fun_branin` | 10         | `inf`          |          |      |          |\n",
        "\n",
        ": Result table {#tbl-results}\n",
        "\n",
        "* Discuss the results. Which surrogate is the best for which function? Why?\n",
        "\n",
        "\n",
        "## Selected Solutions\n",
        "\n",
        "### Solution to Exercise @sec-10-exercise-05: Gradient Boosting\n",
        "\n",
        "\n",
        "#### Branin: Using SPOT\n"
      ],
      "id": "48fab4fe"
    },
    {
      "cell_type": "code",
      "metadata": {},
      "source": [
        "import numpy as np\n",
        "from math import inf\n",
        "from spotPython.fun.objectivefunctions import analytical\n",
        "from spotPython.utils.init import fun_control_init, design_control_init\n",
        "from spotPython.spot import spot"
      ],
      "id": "3516b983",
      "execution_count": null,
      "outputs": []
    },
    {
      "cell_type": "markdown",
      "metadata": {},
      "source": [
        "* The Objective Function Branin\n"
      ],
      "id": "612e2883"
    },
    {
      "cell_type": "code",
      "metadata": {},
      "source": [
        "fun = analytical().fun_branin\n",
        "PREFIX = \"BRANIN\"\n",
        "fun_control = fun_control_init(\n",
        "    PREFIX=PREFIX,\n",
        "    lower = np.array([-5,-0]),\n",
        "    upper = np.array([10,15]),\n",
        "    fun_evals=20,\n",
        "    max_time=inf)\n",
        "\n",
        "design_control = design_control_init(\n",
        "    init_size=10)"
      ],
      "id": "e1e3dd94",
      "execution_count": null,
      "outputs": []
    },
    {
      "cell_type": "markdown",
      "metadata": {},
      "source": [
        "*  Running the surrogate model based optimizer `Spot`:\n"
      ],
      "id": "c32cb03c"
    },
    {
      "cell_type": "code",
      "metadata": {},
      "source": [
        "spot_2 = spot.Spot(fun=fun,\n",
        "                   fun_control=fun_control,\n",
        "                   design_control=design_control)\n",
        "spot_2.run()"
      ],
      "id": "8df3b6cc",
      "execution_count": null,
      "outputs": []
    },
    {
      "cell_type": "markdown",
      "metadata": {},
      "source": [
        "* Print the results\n"
      ],
      "id": "5680d61a"
    },
    {
      "cell_type": "code",
      "metadata": {},
      "source": [
        "spot_2.print_results()"
      ],
      "id": "35e8064c",
      "execution_count": null,
      "outputs": []
    },
    {
      "cell_type": "markdown",
      "metadata": {},
      "source": [
        "*  Show the optimization progress:\n"
      ],
      "id": "7d3aac89"
    },
    {
      "cell_type": "code",
      "metadata": {},
      "source": [
        "spot_2.plot_progress(log_y=True)"
      ],
      "id": "3ec6cc04",
      "execution_count": null,
      "outputs": []
    },
    {
      "cell_type": "markdown",
      "metadata": {},
      "source": [
        "* Generate a surrogate model plot:\n"
      ],
      "id": "e2ace37e"
    },
    {
      "cell_type": "code",
      "metadata": {},
      "source": [
        "spot_2.surrogate.plot()"
      ],
      "id": "1650ad86",
      "execution_count": null,
      "outputs": []
    },
    {
      "cell_type": "markdown",
      "metadata": {},
      "source": [
        "#### Branin: Using Surrogates From scikit-learn\n",
        "\n",
        "* The `HistGradientBoostingRegressor` model from `scikit-learn` is selected:\n"
      ],
      "id": "3c8d1d2d"
    },
    {
      "cell_type": "code",
      "metadata": {},
      "source": [
        "# Needed for the sklearn surrogates:\n",
        "from sklearn.ensemble import HistGradientBoostingRegressor\n",
        "import pandas as pd\n",
        "S_XGB = HistGradientBoostingRegressor()"
      ],
      "id": "e801175b",
      "execution_count": null,
      "outputs": []
    },
    {
      "cell_type": "markdown",
      "metadata": {},
      "source": [
        "* The scikit-learn XGB model `S_XGB` is selected for `Spot` as follows: `surrogate = S_XGB`.\n",
        "* Similar to the `Spot` run with the internal `Kriging` model, we can call the run with the `scikit-learn` surrogate:\n"
      ],
      "id": "69ad73fa"
    },
    {
      "cell_type": "code",
      "metadata": {},
      "source": [
        "fun = analytical(seed=123).fun_branin\n",
        "spot_2_XGB = spot.Spot(fun=fun,\n",
        "                     fun_control=fun_control,\n",
        "                     design_control=design_control,\n",
        "                     surrogate = S_XGB)\n",
        "spot_2_XGB.run()"
      ],
      "id": "8d8982d2",
      "execution_count": null,
      "outputs": []
    },
    {
      "cell_type": "markdown",
      "metadata": {},
      "source": [
        "* Print the Results\n"
      ],
      "id": "deefd26e"
    },
    {
      "cell_type": "code",
      "metadata": {},
      "source": [
        "spot_2_XGB.print_results()"
      ],
      "id": "ac5f8147",
      "execution_count": null,
      "outputs": []
    },
    {
      "cell_type": "markdown",
      "metadata": {},
      "source": [
        "*  Show the Progress\n"
      ],
      "id": "68116e00"
    },
    {
      "cell_type": "code",
      "metadata": {},
      "source": [
        "spot_2_XGB.plot_progress(log_y=True)"
      ],
      "id": "3244a54b",
      "execution_count": null,
      "outputs": []
    },
    {
      "cell_type": "markdown",
      "metadata": {},
      "source": [
        "* Since the `sklearn` model does not provide a `plot` method, we cannot generate a surrogate model plot.\n",
        "\n",
        "\n",
        "#### One-dimensional Sphere Function With `spotPython`'s Kriging\n",
        "\n",
        "* In this example, we will use an one-dimensional function, which allows us to visualize the optimization process.\n",
        "  * `show_models= True` is added to the argument list.\n"
      ],
      "id": "1f62d5f6"
    },
    {
      "cell_type": "code",
      "metadata": {},
      "source": [
        "from spotPython.fun.objectivefunctions import analytical\n",
        "fun_control = fun_control_init(\n",
        "    lower = np.array([-1]),\n",
        "    upper = np.array([1]),\n",
        "    fun_evals=10,\n",
        "    max_time=inf,\n",
        "    show_models= True,\n",
        "    tolerance_x = np.sqrt(np.spacing(1)))\n",
        "fun = analytical(seed=123).fun_sphere\n",
        "design_control = design_control_init(\n",
        "    init_size=3)"
      ],
      "id": "842df0cd",
      "execution_count": null,
      "outputs": []
    },
    {
      "cell_type": "code",
      "metadata": {},
      "source": [
        "spot_1 = spot.Spot(fun=fun,\n",
        "                    fun_control=fun_control,\n",
        "                    design_control=design_control)\n",
        "spot_1.run()"
      ],
      "id": "70f34b71",
      "execution_count": null,
      "outputs": []
    },
    {
      "cell_type": "markdown",
      "metadata": {},
      "source": [
        "* Print the Results\n"
      ],
      "id": "c97c30f4"
    },
    {
      "cell_type": "code",
      "metadata": {},
      "source": [
        "spot_1.print_results()"
      ],
      "id": "d893c9d3",
      "execution_count": null,
      "outputs": []
    },
    {
      "cell_type": "markdown",
      "metadata": {},
      "source": [
        "* Show the Progress\n"
      ],
      "id": "493d78ba"
    },
    {
      "cell_type": "code",
      "metadata": {},
      "source": [
        "spot_1.plot_progress(log_y=True)"
      ],
      "id": "be33abaf",
      "execution_count": null,
      "outputs": []
    },
    {
      "cell_type": "markdown",
      "metadata": {},
      "source": [
        "* The method `plot_model` plots the final surrogate:\n"
      ],
      "id": "3139d7d2"
    },
    {
      "cell_type": "code",
      "metadata": {},
      "source": [
        "spot_1.plot_model()"
      ],
      "id": "476084b4",
      "execution_count": null,
      "outputs": []
    },
    {
      "cell_type": "markdown",
      "metadata": {},
      "source": [
        "#### One-dimensional Sphere Function With `Sklearn` Model HistGradientBoostingRegressor\n",
        "\n",
        "* This example visualizes the search process on the `HistGradientBoostingRegressor` surrogate from `sklearn`.\n",
        "* Therefore `surrogate = S_XGB` is added to the argument list.\n"
      ],
      "id": "d1751c7c"
    },
    {
      "cell_type": "code",
      "metadata": {},
      "source": [
        "fun_control = fun_control_init(\n",
        "    lower = np.array([-1]),\n",
        "    upper = np.array([1]),\n",
        "    fun_evals=10,\n",
        "    max_time=inf,\n",
        "    show_models= True,\n",
        "    tolerance_x = np.sqrt(np.spacing(1)))\n",
        "fun = analytical(seed=123).fun_sphere\n",
        "design_control = design_control_init(\n",
        "    init_size=3)\n",
        "spot_1_XGB = spot.Spot(fun=fun,\n",
        "                      fun_control=fun_control,\n",
        "                      design_control=design_control,\n",
        "                      surrogate = S_XGB)\n",
        "spot_1_XGB.run()"
      ],
      "id": "d0e4ec82",
      "execution_count": null,
      "outputs": []
    },
    {
      "cell_type": "code",
      "metadata": {},
      "source": [
        "spot_1_XGB.print_results()"
      ],
      "id": "e1575638",
      "execution_count": null,
      "outputs": []
    },
    {
      "cell_type": "code",
      "metadata": {},
      "source": [
        "spot_1_XGB.plot_progress(log_y=True)"
      ],
      "id": "bb33fc9e",
      "execution_count": null,
      "outputs": []
    },
    {
      "cell_type": "code",
      "metadata": {},
      "source": [
        "spot_1_XGB.plot_model()"
      ],
      "id": "86b7f603",
      "execution_count": null,
      "outputs": []
    },
    {
      "cell_type": "markdown",
      "metadata": {},
      "source": [
        "## Jupyter Notebook\n",
        "\n",
        ":::{.callout-note}\n",
        "\n",
        "* The Jupyter-Notebook of this lecture is available on GitHub in the [Hyperparameter-Tuning-Cookbook Repository](https://github.com/sequential-parameter-optimization/Hyperparameter-Tuning-Cookbook/blob/main/010_num_spot_sklearn_surrogate.ipynb)\n",
        "\n",
        ":::"
      ],
      "id": "70d1abf5"
    }
  ],
  "metadata": {
    "kernelspec": {
      "name": "python3",
      "language": "python",
      "display_name": "Python 3 (ipykernel)"
    }
  },
  "nbformat": 4,
  "nbformat_minor": 5
}