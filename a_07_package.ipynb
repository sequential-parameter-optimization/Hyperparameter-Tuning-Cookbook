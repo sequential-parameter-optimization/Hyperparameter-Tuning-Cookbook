{
 "cells": [
  {
   "cell_type": "markdown",
   "metadata": {},
   "source": [
    "---\n",
    "execute:\n",
    "  cache: false\n",
    "  eval: false\n",
    "  echo: true\n",
    "  warning: false\n",
    "title: Python Package Building\n",
    "jupyter: python3\n",
    "---\n",
    "\n",
    "## Introduction\n",
    "\n",
    "This Notebook will guide you through the process of creating a Python package.\n",
    "\n",
    "* Example data can be found in the `userPackage` directory, see: [userPackage](./userPackage/userpackage/)\n",
    "\n",
    "* `conda create -n userpackage python=3.12`\n",
    "\n",
    "* `conda activate userpackage`\n",
    "\n",
    "* Install the following packages:\n",
    "\n",
    "`python -m pip install build flake8 black mkdocs mkdocs-gen-files mkdocs-literate-nav mkdocs-section-index mkdocs-material mkdocs-exclude mkdocstrings mkdocstrings-python tensorflow twine jupyter matplotlib plotly pandas pytest`"
   ]
  },
  {
   "cell_type": "markdown",
   "metadata": {},
   "source": [
    "* cd into the `userPackage` directory and run the following command:\n",
    "* `./makefile.sh`\n",
    "* Alternatively, you can run the following commands:\n",
    "    * `rm -f dist/userpackage*; python -m build; python -m pip install dist/userpackage*.tar.gz`    \n",
    "    * `python -m mkdocs build`\n",
    "\n",
    "* `mkdocs serve` to view the documentation"
   ]
  },
  {
   "cell_type": "markdown",
   "metadata": {},
   "source": []
  }
 ],
 "metadata": {
  "kernelspec": {
   "display_name": "Python 3",
   "language": "python",
   "name": "python3"
  }
 },
 "nbformat": 4,
 "nbformat_minor": 4
}
