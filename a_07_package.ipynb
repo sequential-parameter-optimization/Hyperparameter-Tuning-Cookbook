{
  "cells": [
    {
      "cell_type": "markdown",
      "metadata": {},
      "source": [
        "---\n",
        "execute:\n",
        "  cache: false\n",
        "  eval: false\n",
        "  echo: true\n",
        "  warning: false\n",
        "title: Python Package Building\n",
        "jupyter: python3\n",
        "---\n",
        "\n",
        "## Introduction {.unnumbered}\n",
        "\n",
        "This notebook will guide you through the process of creating a Python package.\n",
        "\n",
        "* All examples can be found in the `userPackage` directory, see: [userPackage](https://github.com/sequential-parameter-optimization/Hyperparameter-Tuning-Cookbook/tree/main/userPackage)\n",
        "\n",
        "## Create a Conda Environment\n",
        "\n",
        "* `conda create -n userpackage python=3.12`\n",
        "\n",
        "* `conda activate userpackage`\n",
        "\n",
        "* Install the following packages:\n",
        "\n",
        "```bash\n",
        "python -m pip install build flake8 black mkdocs mkdocs-gen-files mkdocs-literate-nav mkdocs-section-index mkdocs-material mkdocs-exclude mkdocstrings mkdocstrings-python tensorflow twine jupyter matplotlib plotly pandas pytest spotpython\n",
        "```\n",
        "\n",
        "## Download the User Package\n",
        "\n",
        "The user package can be found in the `userPackage` directory, see: [userPackage](https://github.com/sequential-parameter-optimization/Hyperparameter-Tuning-Cookbook/tree/main/userPackage)\n",
        "\n",
        "## Build the User Package\n",
        "\n",
        "* cd into the `userPackage` directory and run the following command:\n",
        "  * `./makefile.sh`\n",
        "  * Alternatively, you can run the following commands:\n",
        "      * `rm -f dist/userpackage*; python -m build; python -m pip install dist/userpackage*.tar.gz`    \n",
        "      * `python -m mkdocs build`\n",
        "\n",
        "## Open the Documentation of the User Package\n",
        "\n",
        "* `mkdocs serve` to view the documentation\n"
      ]
    }
  ],
  "metadata": {
    "kernelspec": {
      "name": "python3",
      "language": "python",
      "display_name": "Python 3 (ipykernel)",
      "path": "/Users/bartz/miniforge3/envs/spot313/share/jupyter/kernels/python3"
    }
  },
  "nbformat": 4,
  "nbformat_minor": 4
}