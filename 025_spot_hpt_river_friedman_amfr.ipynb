{
 "cells": [
  {
   "cell_type": "raw",
   "id": "09ddb2b5",
   "metadata": {},
   "source": [
    "---\n",
    "execute:\n",
    "  cache: false\n",
    "  eval: true\n",
    "  echo: true\n",
    "  warning: false\n",
    "---"
   ]
  },
  {
   "cell_type": "markdown",
   "id": "98a76d5b",
   "metadata": {},
   "source": [
    "# `river` Hyperparameter Tuning: Mondrian Tree Regressor with Friedman Drift Data {#sec-river-hpt-51}\n",
    "\n",
    "This chapter demonstrates hyperparameter tuning for `river`'s `Mondrian Tree Regressor` with the Friedman drift data set [[SOURCE]](https://riverml.xyz/0.18.0/api/datasets/synth/FriedmanDrift/). The `Mondrian Tree Regressor` is a regression tree, i.e., it predicts a real value for each sample.\n",
    "\n",
    "\n",
    "## Setup {#sec-setup-51}\n",
    "\n",
    "Before we consider the detailed experimental setup, we select the parameters that affect run time, initial design size, size of the data set, and the experiment name.\n",
    "\n",
    "* `MAX_TIME`: The maximum run time in seconds for the hyperparameter tuning process.\n",
    "* `INIT_SIZE`: The initial design size for the hyperparameter tuning process.\n",
    "* `PREFIX`: The prefix for the experiment name.\n",
    "* `K`: The factor that determines the number of samples in the data set.\n",
    "\n",
    "::: {.callout-caution}\n",
    "### Caution: Run time and initial design size should be increased for real experiments\n",
    "\n",
    "* `MAX_TIME` is set to one minute for demonstration purposes. For real experiments, this should be increased to at least 1 hour.\n",
    "* `INIT_SIZE` is set to 5 for demonstration purposes. For real experiments, this should be increased to at least 10.\n",
    "* `K` is the multiplier for the number of samples. If it is set to 1, then `100_000`samples are taken. It is set to 0.1 for demonstration purposes. For real experiments, this should be increased to at least 1.\n",
    ":::\n"
   ]
  },
  {
   "cell_type": "code",
   "execution_count": 1,
   "id": "2c33579a",
   "metadata": {},
   "outputs": [],
   "source": [
    "MAX_TIME = 30\n",
    "INIT_SIZE = 10\n",
    "PREFIX=\"025RIVER\"\n",
    "K = 0.1"
   ]
  },
  {
   "cell_type": "code",
   "execution_count": 2,
   "id": "fde13916",
   "metadata": {},
   "outputs": [],
   "source": [
    "#| echo: false\n",
    "import os\n",
    "import numpy as np\n",
    "from math import inf\n",
    "import warnings\n",
    "if not os.path.exists('./figures'):\n",
    "    os.makedirs('./figures')\n",
    "warnings.filterwarnings(\"ignore\")"
   ]
  },
  {
   "cell_type": "markdown",
   "id": "9942f895",
   "metadata": {},
   "source": [
    "* This notebook exemplifies hyperparameter tuning with SPOT (spotPython and spotRiver).\n",
    "* The hyperparameter software SPOT is available in Python. It was developed in R (statistical programming language), see Open Access book \"Hyperparameter Tuning for Machine and Deep Learning with R - A Practical Guide\", available here: [https://link.springer.com/book/10.1007/978-981-19-5170-1](https://link.springer.com/book/10.1007/978-981-19-5170-1).\n",
    "* This notebook demonstrates hyperparameter tuning for `river`. It is based on the notebook \"Incremental decision trees in river: the Hoeffding Tree case\", see: [https://riverml.xyz/0.15.0/recipes/on-hoeffding-trees/#42-regression-tree-splitters](https://riverml.xyz/0.15.0/recipes/on-hoeffding-trees/#42-regression-tree-splitters).\n",
    "* Here we will use the river `AMFRegressor` functions, see: [https://riverml.xyz/0.19.0/api/forest/AMFRegressor/](https://riverml.xyz/0.19.0/api/forest/AMFRegressor/).\n",
    "\n",
    "## Initialization of the `fun_control` Dictionary\n",
    "\n",
    "`spotPython` supports the visualization of the hyperparameter tuning process with TensorBoard. The following example shows how to use TensorBoard with `spotPython`.\n",
    "\n",
    "First, we define an \"experiment name\" to identify the hyperparameter tuning process. The experiment name is also used to create a directory for the TensorBoard files.\n"
   ]
  },
  {
   "cell_type": "code",
   "execution_count": 3,
   "id": "122acf8c",
   "metadata": {},
   "outputs": [
    {
     "name": "stderr",
     "output_type": "stream",
     "text": [
      "Seed set to 123\n"
     ]
    },
    {
     "name": "stdout",
     "output_type": "stream",
     "text": [
      "Moving TENSORBOARD_PATH: runs/ to TENSORBOARD_PATH_OLD: runs_OLD/runs_2024_03_04_13_44_46\n",
      "Created spot_tensorboard_path: runs/spot_logs/025RIVER_maans14_2024-03-04_13-44-46 for SummaryWriter()\n"
     ]
    }
   ],
   "source": [
    "from spotPython.utils.init import fun_control_init\n",
    "fun_control = fun_control_init(\n",
    "    PREFIX=PREFIX,\n",
    "    TENSORBOARD_CLEAN=True,\n",
    "    max_time=MAX_TIME,\n",
    "    fun_evals=inf,\n",
    "    tolerance_x=np.sqrt(np.spacing(1)))"
   ]
  },
  {
   "cell_type": "markdown",
   "id": "a81ea5f0",
   "metadata": {},
   "source": [
    "::: {.callout-tip}\n",
    "#### Tip: TensorBoard\n",
    "* Since the `spot_tensorboard_path` argument is not `None`, which is the default, `spotPython` will log the optimization process in the TensorBoard folder.\n",
    "* @sec-tensorboard-10 describes how to start TensorBoard and access the TensorBoard dashboard.\n",
    "* The `TENSORBOARD_CLEAN` argument is set to `True` to archive the TensorBoard folder if it already exists. This is useful if you want to start a hyperparameter tuning process from scratch.\n",
    "If you want to continue a hyperparameter tuning process, set `TENSORBOARD_CLEAN` to `False`. Then the TensorBoard folder will not be archived and the old and new TensorBoard files will shown in the TensorBoard dashboard.\n",
    ":::\n",
    "\n",
    "## Load Data: The Friedman Drift Data\n",
    "\n",
    "We will use the Friedman synthetic dataset with concept drifts [[SOURCE]](https://riverml.xyz/0.18.0/api/datasets/synth/FriedmanDrift/). Each observation is composed of ten features. Each feature value is sampled uniformly in [0, 1]. Only the first five features are relevant. The target is defined by different functions depending on the type of the drift. Global Recurring Abrupt drift will be used, i.e., the concept drift appears over the whole instance space. There are two points of concept drift. At the second point of drift the old concept reoccurs.\n",
    "\n",
    "The following parameters are used to generate and handle the data set:\n",
    "\n",
    "* horizon: The prediction horizon in hours.\n",
    "* n_samples: The number of samples in the data set.\n",
    "* p_1: The position of the first concept drift.\n",
    "* p_2: The position of the second concept drift.\n",
    "* position: The position of the concept drifts.\n",
    "* n_train: The number of samples used for training.\n"
   ]
  },
  {
   "cell_type": "code",
   "execution_count": 4,
   "id": "afe63678",
   "metadata": {},
   "outputs": [],
   "source": [
    "horizon = 7*24\n",
    "n_samples = int(K*100_000)\n",
    "p_1 = int(K*25_000)\n",
    "p_2 = int(K*50_000)\n",
    "position=(p_1, p_2)\n",
    "n_train = 1_000"
   ]
  },
  {
   "cell_type": "code",
   "execution_count": 5,
   "id": "76b23a93",
   "metadata": {},
   "outputs": [],
   "source": [
    "from river.datasets import synth\n",
    "import pandas as pd\n",
    "dataset = synth.FriedmanDrift(\n",
    "   drift_type='gra',\n",
    "   position=position,\n",
    "   seed=123\n",
    ")"
   ]
  },
  {
   "cell_type": "markdown",
   "id": "70fcbf5d",
   "metadata": {},
   "source": [
    "* We will use `spotRiver`'s `convert_to_df` function [[SOURCE]](https://github.com/sequential-parameter-optimization/spotRiver/blob/main/src/spotRiver/utils/data_conversion.py) to convert the `river` data set to a `pandas` data frame.\n"
   ]
  },
  {
   "cell_type": "code",
   "execution_count": 6,
   "id": "64f1c922",
   "metadata": {},
   "outputs": [],
   "source": [
    "from spotRiver.utils.data_conversion import convert_to_df\n",
    "target_column = \"y\"\n",
    "df = convert_to_df(dataset, target_column=target_column, n_total=n_samples)"
   ]
  },
  {
   "cell_type": "markdown",
   "id": "b6dc5b05",
   "metadata": {},
   "source": [
    "* Add column names x1 until x10 to the first 10 columns of the dataframe and the column name y to the last column of the dataframe.\n",
    "* Then split the data frame into a training and test data set. The train and test data sets are stored in the `fun_control` dictionary.\n"
   ]
  },
  {
   "cell_type": "code",
   "execution_count": 7,
   "id": "b85a54bc",
   "metadata": {},
   "outputs": [],
   "source": [
    "from spotPython.hyperparameters.values import set_control_key_value\n",
    "df.columns = [f\"x{i}\" for i in range(1, 11)] + [\"y\"]\n",
    "set_control_key_value(control_dict=fun_control,\n",
    "                        key=\"train\",\n",
    "                        value=df[:n_train],\n",
    "                        replace=True)\n",
    "set_control_key_value(fun_control, \"test\", df[n_train:], True)\n",
    "set_control_key_value(fun_control, \"n_samples\", n_samples, replace=True)\n",
    "set_control_key_value(fun_control, \"target_column\", target_column, replace=True)"
   ]
  },
  {
   "cell_type": "markdown",
   "id": "7bc7bb5c",
   "metadata": {},
   "source": [
    "## Specification of the Preprocessing Model\n",
    "\n",
    "* We use the `StandardScaler` [[SOURCE]](https://riverml.xyz/dev/api/preprocessing/StandardScaler/) from `river` as the preprocessing model. The `StandardScaler` is used to standardize the data set, i.e., it has zero mean and unit variance.\n"
   ]
  },
  {
   "cell_type": "code",
   "execution_count": 8,
   "id": "d123981a",
   "metadata": {},
   "outputs": [],
   "source": [
    "from river import preprocessing\n",
    "prep_model = preprocessing.StandardScaler()\n",
    "set_control_key_value(fun_control, \"prep_model\", prep_model, replace=True)"
   ]
  },
  {
   "cell_type": "markdown",
   "id": "41ce2090",
   "metadata": {},
   "source": [
    "## SelectSelect Model (`algorithm`) and `core_model_hyper_dict`\n",
    "\n",
    "`spotPython` hyperparameter tuning approach uses two components:\n",
    "\n",
    "1. a model (class) and \n",
    "2. an associated hyperparameter dictionary. \n",
    "\n",
    "\n",
    "The corresponding hyperparameters are loaded from the associated dictionary, which is stored as a JSON file [[SOURCE]](https://github.com/sequential-parameter-optimization/spotRiver/blob/main/src/spotRiver/data/river_hyper_dict.json). The JSON file contains hyperparameter type information, names, and bounds. \n",
    "\n",
    "The method `add_core_model_to_fun_control` adds the model and the hyperparameter dictionary to the `fun_control` dictionary.\n",
    "\n",
    "Alternatively, you can load a local hyper_dict. Simply set `river_hyper_dict.json` as the filename. If `filename`is set to `None`, which is the default, the hyper_dict [[SOURCE]](https://github.com/sequential-parameter-optimization/spotRiver/blob/main/src/spotRiver/data/river_hyper_dict.json) is loaded from the `spotRiver` package.\n"
   ]
  },
  {
   "cell_type": "code",
   "execution_count": 9,
   "id": "958a3c83",
   "metadata": {},
   "outputs": [],
   "source": [
    "from river.forest import AMFRegressor\n",
    "from spotRiver.data.river_hyper_dict import RiverHyperDict\n",
    "from spotPython.hyperparameters.values import add_core_model_to_fun_control\n",
    "add_core_model_to_fun_control(core_model=AMFRegressor,\n",
    "                              fun_control=fun_control,\n",
    "                              hyper_dict=RiverHyperDict,\n",
    "                              filename=None)"
   ]
  },
  {
   "cell_type": "markdown",
   "id": "1beecfe3",
   "metadata": {},
   "source": [
    "## Modify `hyper_dict` Hyperparameters for the Selected Algorithm aka `core_model`\n",
    "\n",
    "After the `core_model` and the `core_model_hyper_dict` are added to the `fun_control` dictionary, the hyperparameter tuning can be started.\n",
    "However, in some settings, the user wants to modify the hyperparameters of the `core_model_hyper_dict`. This can be done with the `modify_hyper_parameter_bounds` and `modify_hyper_parameter_levels` functions [[SOURCE]](https://github.com/sequential-parameter-optimization/spotPython/blob/main/src/spotPython/hyperparameters/values.py).\n",
    "\n",
    "The following code shows how hyperparameter of type numeric and integer (boolean) can be modified. The `modify_hyper_parameter_bounds` function is used to modify the bounds of the hyperparameter `delta` and `merit_preprune`. Similar option exists for the `modify_hyper_parameter_levels` function to modify the levels of categorical hyperparameters.\n"
   ]
  },
  {
   "cell_type": "code",
   "execution_count": 10,
   "id": "23b1aefe",
   "metadata": {},
   "outputs": [],
   "source": [
    "# from spotPython.hyperparameters.values import modify_hyper_parameter_bounds\n",
    "# modify_hyper_parameter_bounds(fun_control, \"n_estimators\", bounds=[2,100])\n",
    "\n",
    "from spotPython.hyperparameters.values import set_control_hyperparameter_value\n",
    "set_control_hyperparameter_value(fun_control, \"n_estimators\", [2, 100])"
   ]
  },
  {
   "cell_type": "markdown",
   "id": "8c02f5f0",
   "metadata": {},
   "source": [
    "::: {.callout-note}\n",
    "#### Note: Active and Inactive Hyperparameters\n",
    "Hyperparameters can be excluded from the tuning procedure by selecting identical values for the lower and upper bounds.\n"
   ]
  },
  {
   "cell_type": "code",
   "execution_count": 11,
   "id": "97598901",
   "metadata": {},
   "outputs": [
    {
     "name": "stdout",
     "output_type": "stream",
     "text": [
      "| name            | type   |   default |   lower |   upper | transform   |\n",
      "|-----------------|--------|-----------|---------|---------|-------------|\n",
      "| n_estimators    | int    |        10 |     2   |     100 | None        |\n",
      "| step            | float  |         1 |     0.1 |      10 | None        |\n",
      "| use_aggregation | factor |         1 |     0   |       1 | None        |\n"
     ]
    }
   ],
   "source": [
    "from spotPython.utils.eda import gen_design_table\n",
    "print(gen_design_table(fun_control))"
   ]
  },
  {
   "cell_type": "markdown",
   "id": "f4518f8b",
   "metadata": {},
   "source": [
    "## Selection of the Objective (Loss) Function\n",
    "\n",
    "The `metric_sklearn` is used for the sklearn based evaluation via `eval_oml_horizon` [[SOURCE]](https://github.com/sequential-parameter-optimization/spotRiver/blob/main/src/spotRiver/evaluation/eval_bml.py). Here we use the ` mean_absolute_error` [[SOURCE]](https://scikit-learn.org/stable/modules/generated/sklearn.metrics.mean_absolute_error.html) as the objective function.\n",
    "\n",
    ":::{.callout-note}\n",
    "#### Note: Additional metrics\n",
    "`spotRiver` also supports additional metrics. For example, the `metric_river` is used for the river based evaluation via `eval_oml_iter_progressive` [[SOURCE]](https://github.com/sequential-parameter-optimization/spotRiver/blob/main/src/spotRiver/evaluation/eval_oml.py). The `metric_river` is implemented to simulate the behaviour of the \"original\" `river` metrics.\n",
    ":::\n",
    "\n",
    "`spotRiver` provides information about the model' s score (metric), memory, and time.\n",
    "The hyperparamter tuner requires a single objective.\n",
    "Therefore, a weighted sum of the metric, memory, and time is computed. The weights are defined in the `weights` array.\n",
    "\n",
    ":::{.callout-note}\n",
    "#### Note: Weights\n",
    "The `weights` provide a flexible way to define specific requirements, e.g., if the memory is more important than the time, the weight for the memory can be increased.\n",
    ":::\n",
    "\n",
    "The `oml_grace_period` defines the number of observations that are used for the initial training of the model. The `step` defines the iteration number at which to yield results. This only takes into account the predictions, and not the training steps.  The `weight_coeff` defines a multiplier for the results: results are multiplied by (step/n_steps)**weight_coeff, where n_steps is the total number of iterations. \n",
    "Results from the beginning have a lower weight than results from the end if weight_coeff > 1. If weight_coeff == 0, all results have equal weight. Note, that the `weight_coeff` is only used internally for the tuner and does not affect the results that are used for the evaluation or comparisons.\n"
   ]
  },
  {
   "cell_type": "code",
   "execution_count": 12,
   "id": "0b42ab47",
   "metadata": {},
   "outputs": [],
   "source": [
    "import numpy as np\n",
    "from sklearn.metrics import mean_absolute_error\n",
    "\n",
    "weights = np.array([1, 1/1000, 1/1000])*10_000.0\n",
    "oml_grace_period = 2\n",
    "step = 100\n",
    "weight_coeff = 1.0\n",
    "\n",
    "# fun_control.update({\n",
    "#                \"horizon\": horizon,\n",
    "#                \"oml_grace_period\": oml_grace_period,\n",
    "#                \"weights\": weights,\n",
    "#                \"step\": step,\n",
    "#                \"weight_coeff\": weight_coeff,\n",
    "#                \"metric_sklearn\": mean_absolute_error\n",
    "#                })\n",
    "set_control_key_value(control_dict=fun_control,\n",
    "                        key=\"horizon\",\n",
    "                        value=horizon,\n",
    "                        replace=True)\n",
    "set_control_key_value(fun_control, \"oml_grace_period\", oml_grace_period, True)\n",
    "set_control_key_value(fun_control, \"weights\", weights, True)\n",
    "set_control_key_value(fun_control, \"step\", step, True)\n",
    "set_control_key_value(fun_control, \"weight_coeff\", weight_coeff, True)\n",
    "set_control_key_value(fun_control, \"metric_sklearn\", mean_absolute_error, True)"
   ]
  },
  {
   "cell_type": "markdown",
   "id": "6c1d6862",
   "metadata": {},
   "source": [
    "## Calling the SPOT Function\n",
    "\n",
    "\n",
    "### The Objective Function {#sec-the-objective-function-51}\n",
    "\n",
    "The objective function `fun_oml_horizon` [[SOURCE]](https://github.com/sequential-parameter-optimization/spotRiver/blob/main/src/spotRiver/fun/hyperriver.py) is selected next.\n"
   ]
  },
  {
   "cell_type": "code",
   "execution_count": 13,
   "id": "8f5ca42c",
   "metadata": {},
   "outputs": [],
   "source": [
    "from spotRiver.fun.hyperriver import HyperRiver\n",
    "fun = HyperRiver().fun_oml_horizon"
   ]
  },
  {
   "cell_type": "markdown",
   "id": "fa658e7f",
   "metadata": {},
   "source": [
    "The following code snippet shows how to get the default hyperparameters as an array, so that they can be passed to the `Spot` function.\n"
   ]
  },
  {
   "cell_type": "code",
   "execution_count": 14,
   "id": "1ef2d6c9",
   "metadata": {},
   "outputs": [],
   "source": [
    "from spotPython.hyperparameters.values import get_default_hyperparameters_as_array\n",
    "X_start = get_default_hyperparameters_as_array(fun_control)"
   ]
  },
  {
   "cell_type": "markdown",
   "id": "d44de7f7",
   "metadata": {},
   "source": [
    "### Run the `Spot` Optimizer\n",
    "\n",
    "The class `Spot` [[SOURCE]](https://github.com/sequential-parameter-optimization/spotPython/blob/main/src/spotPython/spot/spot.py) is the hyperparameter tuning workhorse. It is initialized with the following parameters:\n",
    "\n",
    "* `fun`: the objective function\n",
    "* `fun_control`: the dictionary with the control parameters for the objective function\n",
    "* `design`: the experimental design\n",
    "* `design_control`: the dictionary with the control parameters for the experimental design\n",
    "* `surrogate`: the surrogate model\n",
    "* `surrogate_control`: the dictionary with the control parameters for the surrogate model\n",
    "* `optimizer`: the optimizer\n",
    "* `optimizer_control`: the dictionary with the control parameters for the optimizer\n",
    "\n",
    ":::{.callout-note}\n",
    "#### Note: Total run time\n",
    " The total run time may exceed the specified `max_time`, because the initial design (here: `init_size` = INIT_SIZE as specified above) is always evaluated, even if this takes longer than `max_time`.\n",
    ":::\n"
   ]
  },
  {
   "cell_type": "code",
   "execution_count": 15,
   "id": "21be199c",
   "metadata": {},
   "outputs": [],
   "source": [
    "from spotPython.utils.init import design_control_init, surrogate_control_init\n",
    "design_control = design_control_init()\n",
    "set_control_key_value(control_dict=design_control,\n",
    "                        key=\"init_size\",\n",
    "                        value=INIT_SIZE,\n",
    "                        replace=True)\n",
    "\n",
    "surrogate_control = surrogate_control_init(noise=True,\n",
    "                                           n_theta=2)"
   ]
  },
  {
   "cell_type": "code",
   "execution_count": 16,
   "id": "9a409ef1",
   "metadata": {},
   "outputs": [
    {
     "name": "stderr",
     "output_type": "stream",
     "text": [
      "Seed set to 123\n"
     ]
    },
    {
     "name": "stdout",
     "output_type": "stream",
     "text": [
      "spotPython tuning: 26568.33480378245 [#---------] 8.23% \r\n"
     ]
    },
    {
     "name": "stdout",
     "output_type": "stream",
     "text": [
      "spotPython tuning: 26568.33480378245 [###-------] 25.28% \r\n"
     ]
    },
    {
     "name": "stdout",
     "output_type": "stream",
     "text": [
      "spotPython tuning: 26385.940254809317 [####------] 37.12% \r\n"
     ]
    },
    {
     "name": "stdout",
     "output_type": "stream",
     "text": [
      "spotPython tuning: 26385.940254809317 [#####-----] 49.04% \r\n"
     ]
    },
    {
     "name": "stdout",
     "output_type": "stream",
     "text": [
      "spotPython tuning: 26385.940254809317 [######----] 60.61% \r\n"
     ]
    },
    {
     "name": "stdout",
     "output_type": "stream",
     "text": [
      "spotPython tuning: 26385.940254809317 [#######---] 72.07% \r\n"
     ]
    },
    {
     "name": "stdout",
     "output_type": "stream",
     "text": [
      "spotPython tuning: 26385.940254809317 [########--] 83.50% \r\n"
     ]
    },
    {
     "name": "stdout",
     "output_type": "stream",
     "text": [
      "spotPython tuning: 26385.940254809317 [##########] 95.14% \r\n"
     ]
    },
    {
     "name": "stdout",
     "output_type": "stream",
     "text": [
      "spotPython tuning: 26385.940254809317 [##########] 100.00% Done...\r\n",
      "\r\n"
     ]
    },
    {
     "data": {
      "text/plain": [
       "<spotPython.spot.spot.Spot at 0x2c89a4cd0>"
      ]
     },
     "execution_count": 16,
     "metadata": {},
     "output_type": "execute_result"
    }
   ],
   "source": [
    "from spotPython.spot import spot\n",
    "spot_tuner = spot.Spot(fun=fun,\n",
    "                   fun_control=fun_control,\n",
    "                   design_control=design_control,\n",
    "                   surrogate_control=surrogate_control)\n",
    "spot_tuner.run(X_start=X_start)"
   ]
  },
  {
   "cell_type": "markdown",
   "id": "ad585fb0",
   "metadata": {},
   "source": [
    "### TensorBoard {#sec-tensorboard-10}\n",
    "\n",
    "Now we can start TensorBoard in the background with the following command, where `./runs` is the default directory for the TensorBoard log files:\n",
    "\n",
    "\n",
    "\n",
    "```{raw}\n",
    "tensorboard --logdir=\"./runs\"\n",
    "```\n",
    "\n",
    "\n",
    "\n",
    ":::{.callout-tip}\n",
    "#### Tip: TENSORBOARD_PATH\n",
    "The TensorBoard path can be printed with the following command:\n"
   ]
  },
  {
   "cell_type": "code",
   "execution_count": 17,
   "id": "efa29b87",
   "metadata": {},
   "outputs": [
    {
     "data": {
      "text/plain": [
       "'runs/'"
      ]
     },
     "execution_count": 17,
     "metadata": {},
     "output_type": "execute_result"
    }
   ],
   "source": [
    "from spotPython.utils.init import get_tensorboard_path\n",
    "get_tensorboard_path(fun_control)"
   ]
  },
  {
   "cell_type": "markdown",
   "id": "f274fe85",
   "metadata": {},
   "source": [
    ":::\n",
    "\n",
    "We can access the TensorBoard web server with the following URL:\n",
    "\n",
    "\n",
    "\n",
    "```{raw}\n",
    "http://localhost:6006/\n",
    "```\n",
    "\n",
    "\n",
    "\n",
    "The TensorBoard plot illustrates how `spotPython` can be used as a microscope for the internal mechanisms of the surrogate-based optimization process. Here, one important parameter, the learning rate $\\theta$ of the Kriging surrogate [[SOURCE]](https://github.com/sequential-parameter-optimization/spotPython/blob/main/src/spotPython/build/kriging.py) is plotted against the number of optimization steps.\n",
    "\n",
    "![TensorBoard visualization of the spotPython optimization process and the surrogate model.](figures_static/13_tensorboard_01.png){width=\"100%\"}\n",
    "\n",
    "\n",
    "### Results\n",
    "\n",
    "After the hyperparameter tuning run is finished, the results can be saved and reloaded with the following commands:\n"
   ]
  },
  {
   "cell_type": "code",
   "execution_count": 18,
   "id": "43b50905",
   "metadata": {},
   "outputs": [],
   "source": [
    "from spotPython.utils.file import save_pickle,  load_pickle\n",
    "from spotPython.utils.init import get_experiment_name\n",
    "experiment_name = get_experiment_name(PREFIX)\n",
    "SAVE_AND_LOAD = False\n",
    "if SAVE_AND_LOAD == True:\n",
    "    save_pickle(spot_tuner, experiment_name)\n",
    "    spot_tuner = load_pickle(experiment_name)"
   ]
  },
  {
   "cell_type": "markdown",
   "id": "e19789ee",
   "metadata": {},
   "source": [
    "After the hyperparameter tuning run is finished, the progress of the hyperparameter tuning can be visualized. The black points represent the performace values (score or metric) of  hyperparameter configurations from the initial design, whereas the red points represents the  hyperparameter configurations found by the surrogate model based optimization.\n"
   ]
  },
  {
   "cell_type": "code",
   "execution_count": 19,
   "id": "c29b4549",
   "metadata": {},
   "outputs": [
    {
     "data": {
      "application/pdf": "[encoded data removed]",
      "text/plain": [
       "<Figure size 2700x1800 with 1 Axes>"
      ]
     },
     "metadata": {},
     "output_type": "display_data"
    }
   ],
   "source": [
    "spot_tuner.plot_progress(log_y=True, filename=\"./figures/\" + experiment_name+\"_progress.pdf\")"
   ]
  },
  {
   "cell_type": "markdown",
   "id": "a412fa7e",
   "metadata": {},
   "source": [
    "Results can also be printed in tabular form.\n"
   ]
  },
  {
   "cell_type": "code",
   "execution_count": 20,
   "id": "67b9fae1",
   "metadata": {},
   "outputs": [
    {
     "name": "stdout",
     "output_type": "stream",
     "text": [
      "| name            | type   |   default |   lower |   upper |            tuned | transform   |   importance | stars   |\n",
      "|-----------------|--------|-----------|---------|---------|------------------|-------------|--------------|---------|\n",
      "| n_estimators    | int    |      10.0 |     2.0 |     100 |             71.0 | None        |         0.01 |         |\n",
      "| step            | float  |       1.0 |     0.1 |      10 | 4.83651791141202 | None        |         0.00 |         |\n",
      "| use_aggregation | factor |       1.0 |     0.0 |       1 |              0.0 | None        |       100.00 | ***     |\n"
     ]
    }
   ],
   "source": [
    "print(gen_design_table(fun_control=fun_control, spot=spot_tuner))"
   ]
  },
  {
   "cell_type": "markdown",
   "id": "80803204",
   "metadata": {},
   "source": [
    "A histogram can be used to visualize the most important hyperparameters.\n"
   ]
  },
  {
   "cell_type": "code",
   "execution_count": 21,
   "id": "e94417e3",
   "metadata": {},
   "outputs": [
    {
     "data": {
      "application/pdf": "[encoded data removed]",
      "text/plain": [
       "<Figure size 1650x1050 with 1 Axes>"
      ]
     },
     "metadata": {},
     "output_type": "display_data"
    }
   ],
   "source": [
    "spot_tuner.plot_importance(threshold=0.0025, filename=\"./figures/\" + experiment_name+\"_importance.pdf\")"
   ]
  },
  {
   "cell_type": "markdown",
   "id": "7d875790",
   "metadata": {},
   "source": [
    "## The Larger Data Set \n",
    "\n",
    "After the hyperparameter were tuned on a small data set, we can now apply the hyperparameter configuration to a larger data set. The following code snippet shows how to generate the larger data set.\n",
    "\n",
    ":::{.callout-caution}\n",
    "#### Caution: Increased Friedman-Drift Data Set\n",
    "\n",
    "* The Friedman-Drift Data Set is increased by a factor of two to show the transferability of the hyperparameter tuning results.\n",
    "* Larger values of `K` lead to a longer run time.\n",
    ":::\n"
   ]
  },
  {
   "cell_type": "code",
   "execution_count": 22,
   "id": "310b8b7c",
   "metadata": {},
   "outputs": [],
   "source": [
    "K = 0.2\n",
    "n_samples = int(K*100_000)\n",
    "p_1 = int(K*25_000)\n",
    "p_2 = int(K*50_000)\n",
    "position=(p_1, p_2)"
   ]
  },
  {
   "cell_type": "code",
   "execution_count": 23,
   "id": "715ba891",
   "metadata": {},
   "outputs": [],
   "source": [
    "dataset = synth.FriedmanDrift(\n",
    "   drift_type='gra',\n",
    "   position=position,\n",
    "   seed=123\n",
    ")"
   ]
  },
  {
   "cell_type": "markdown",
   "id": "c01edbd8",
   "metadata": {},
   "source": [
    "The larger data set is converted to a Pandas data frame and passed to the `fun_control` dictionary.\n"
   ]
  },
  {
   "cell_type": "code",
   "execution_count": 24,
   "id": "1b98a69f",
   "metadata": {},
   "outputs": [],
   "source": [
    "df = convert_to_df(dataset, target_column=target_column, n_total=n_samples)\n",
    "df.columns = [f\"x{i}\" for i in range(1, 11)] + [\"y\"]\n",
    "# fun_control.update({\"train\": df[:n_train],\n",
    "#                     \"test\": df[n_train:],\n",
    "#                     \"n_samples\": n_samples,\n",
    "#                     \"target_column\": target_column})\n",
    "set_control_key_value(fun_control, \"train\", df[:n_train], True)\n",
    "set_control_key_value(fun_control, \"test\", df[n_train:], True)\n",
    "set_control_key_value(fun_control, \"n_samples\", n_samples, True)\n",
    "set_control_key_value(fun_control, \"target_column\", target_column, True)"
   ]
  },
  {
   "cell_type": "markdown",
   "id": "e535e6c6",
   "metadata": {},
   "source": [
    "## Get Default Hyperparameters\n",
    "\n",
    "The default hyperparameters, whihc will be used for a comparion with the tuned hyperparameters, can be obtained with the following commands:\n"
   ]
  },
  {
   "cell_type": "code",
   "execution_count": 25,
   "id": "fb68362c",
   "metadata": {},
   "outputs": [],
   "source": [
    "from spotPython.hyperparameters.values import get_one_core_model_from_X\n",
    "from spotPython.hyperparameters.values import get_default_hyperparameters_as_array\n",
    "X_start = get_default_hyperparameters_as_array(fun_control)\n",
    "model_default = get_one_core_model_from_X(X_start, fun_control)"
   ]
  },
  {
   "cell_type": "markdown",
   "id": "018b00fd",
   "metadata": {},
   "source": [
    ":::{.callout-note}\n",
    "#### Note: `spotPython` tunes numpy arrays\n",
    "* `spotPython` tunes numpy arrays, i.e., the hyperparameters are stored in a numpy array.\n",
    "::::\n",
    "\n",
    "The model with the default hyperparameters can be trained and evaluated with the following commands:\n"
   ]
  },
  {
   "cell_type": "code",
   "execution_count": 26,
   "id": "0d9bf34f",
   "metadata": {},
   "outputs": [],
   "source": [
    "from spotRiver.evaluation.eval_bml import eval_oml_horizon\n",
    "\n",
    "df_eval_default, df_true_default = eval_oml_horizon(\n",
    "                    model=model_default,\n",
    "                    train=fun_control[\"train\"],\n",
    "                    test=fun_control[\"test\"],\n",
    "                    target_column=fun_control[\"target_column\"],\n",
    "                    horizon=fun_control[\"horizon\"],\n",
    "                    oml_grace_period=fun_control[\"oml_grace_period\"],\n",
    "                    metric=fun_control[\"metric_sklearn\"],\n",
    "                )"
   ]
  },
  {
   "cell_type": "markdown",
   "id": "4f36b31b",
   "metadata": {},
   "source": [
    "The three performance criteria, i.e., scaoe (metric), runtime, and memory consumption, can be visualized with the following commands:\n"
   ]
  },
  {
   "cell_type": "code",
   "execution_count": 27,
   "id": "99d5ba1a",
   "metadata": {},
   "outputs": [
    {
     "data": {
      "application/pdf": "[encoded data removed]",
      "text/plain": [
       "<Figure size 3000x1500 with 3 Axes>"
      ]
     },
     "metadata": {},
     "output_type": "display_data"
    }
   ],
   "source": [
    "from spotRiver.evaluation.eval_bml import plot_bml_oml_horizon_metrics, plot_bml_oml_horizon_predictions\n",
    "df_labels=[\"default\"]\n",
    "plot_bml_oml_horizon_metrics(df_eval = [df_eval_default], log_y=False, df_labels=df_labels, metric=fun_control[\"metric_sklearn\"])"
   ]
  },
  {
   "cell_type": "markdown",
   "id": "5063548f",
   "metadata": {},
   "source": [
    "### Show Predictions\n",
    "\n",
    "* Select a subset of the data set for the visualization of the predictions:\n",
    "    * We use the mean, $m$, of the data set as the center of the visualization.\n",
    "    * We use 100 data points, i.e., $m \\pm 50$ as the visualization window.\n"
   ]
  },
  {
   "cell_type": "code",
   "execution_count": 28,
   "id": "bc252c18",
   "metadata": {},
   "outputs": [],
   "source": [
    "m = fun_control[\"test\"].shape[0]\n",
    "a = int(m/2)-50\n",
    "b = int(m/2)"
   ]
  },
  {
   "cell_type": "code",
   "execution_count": 29,
   "id": "9f0254a1",
   "metadata": {},
   "outputs": [
    {
     "data": {
      "application/pdf": "[encoded data removed]",
      "text/plain": [
       "<Figure size 3000x1500 with 1 Axes>"
      ]
     },
     "metadata": {},
     "output_type": "display_data"
    }
   ],
   "source": [
    "plot_bml_oml_horizon_predictions(df_true = [df_true_default[a:b]], target_column=target_column,  df_labels=df_labels)"
   ]
  },
  {
   "cell_type": "markdown",
   "id": "daee472e",
   "metadata": {},
   "source": [
    "## Get SPOT Results\n",
    "\n",
    "In a similar way, we can obtain the hyperparameters found by `spotPython`.\n"
   ]
  },
  {
   "cell_type": "code",
   "execution_count": 30,
   "id": "2b3fac76",
   "metadata": {},
   "outputs": [],
   "source": [
    "from spotPython.hyperparameters.values import get_one_core_model_from_X\n",
    "X = spot_tuner.to_all_dim(spot_tuner.min_X.reshape(1,-1))\n",
    "model_spot = get_one_core_model_from_X(X, fun_control)"
   ]
  },
  {
   "cell_type": "code",
   "execution_count": 31,
   "id": "281c1879",
   "metadata": {},
   "outputs": [],
   "source": [
    "df_eval_spot, df_true_spot = eval_oml_horizon(\n",
    "                    model=model_spot,\n",
    "                    train=fun_control[\"train\"],\n",
    "                    test=fun_control[\"test\"],\n",
    "                    target_column=fun_control[\"target_column\"],\n",
    "                    horizon=fun_control[\"horizon\"],\n",
    "                    oml_grace_period=fun_control[\"oml_grace_period\"],\n",
    "                    metric=fun_control[\"metric_sklearn\"],\n",
    "                )"
   ]
  },
  {
   "cell_type": "code",
   "execution_count": 32,
   "id": "a6f8fd18",
   "metadata": {},
   "outputs": [
    {
     "data": {
      "application/pdf": "[encoded data removed]",
      "text/plain": [
       "<Figure size 3000x1500 with 3 Axes>"
      ]
     },
     "metadata": {},
     "output_type": "display_data"
    }
   ],
   "source": [
    "df_labels=[\"default\", \"spot\"]\n",
    "plot_bml_oml_horizon_metrics(df_eval = [df_eval_default, df_eval_spot], log_y=False, df_labels=df_labels, metric=fun_control[\"metric_sklearn\"], filename=\"./figures/\" + experiment_name+\"_metrics.pdf\")"
   ]
  },
  {
   "cell_type": "code",
   "execution_count": 33,
   "id": "1800a32a",
   "metadata": {},
   "outputs": [
    {
     "data": {
      "application/pdf": "[encoded data removed]",
      "text/plain": [
       "<Figure size 3000x1500 with 1 Axes>"
      ]
     },
     "metadata": {},
     "output_type": "display_data"
    }
   ],
   "source": [
    "plot_bml_oml_horizon_predictions(df_true = [df_true_default[a:b], df_true_spot[a:b]], target_column=target_column,  df_labels=df_labels, filename=\"./figures/\" + experiment_name+\"_predictions.pdf\")"
   ]
  },
  {
   "cell_type": "code",
   "execution_count": 34,
   "id": "d713db76",
   "metadata": {},
   "outputs": [
    {
     "data": {
      "application/pdf": "[encoded data removed]",
      "text/plain": [
       "<Figure size 2400x1200 with 2 Axes>"
      ]
     },
     "metadata": {},
     "output_type": "display_data"
    },
    {
     "data": {
      "application/pdf": "[encoded data removed]",
      "text/plain": [
       "<Figure size 2400x1200 with 2 Axes>"
      ]
     },
     "metadata": {},
     "output_type": "display_data"
    }
   ],
   "source": [
    "from spotPython.plot.validation import plot_actual_vs_predicted\n",
    "plot_actual_vs_predicted(y_test=df_true_default[target_column], y_pred=df_true_default[\"Prediction\"], title=\"Default\")\n",
    "plot_actual_vs_predicted(y_test=df_true_spot[target_column], y_pred=df_true_spot[\"Prediction\"], title=\"SPOT\")"
   ]
  },
  {
   "cell_type": "markdown",
   "id": "b367a92a",
   "metadata": {},
   "source": [
    "## Detailed Hyperparameter Plots\n"
   ]
  },
  {
   "cell_type": "code",
   "execution_count": 35,
   "id": "ea9bf531",
   "metadata": {},
   "outputs": [
    {
     "name": "stdout",
     "output_type": "stream",
     "text": [
      "use_aggregation:  100.0\n",
      "impo: [['n_estimators', 0.005319327934398571], ['step', 0.001804633632163148], ['use_aggregation', 100.0]]\n",
      "impo after select: [['n_estimators', 0.005319327934398571], ['step', 0.001804633632163148], ['use_aggregation', 100.0]]\n"
     ]
    }
   ],
   "source": [
    "filename = \"./figures/\" + experiment_name\n",
    "spot_tuner.plot_important_hyperparameter_contour(filename=filename)"
   ]
  },
  {
   "cell_type": "markdown",
   "id": "aecc0f97",
   "metadata": {},
   "source": [
    "## Parallel Coordinates Plots\n"
   ]
  },
  {
   "cell_type": "code",
   "execution_count": 36,
   "id": "6b7b7be3",
   "metadata": {},
   "outputs": [
    {
     "data": {
      "text/html": [
       "        <script type=\"text/javascript\">\n",
       "        window.PlotlyConfig = {MathJaxConfig: 'local'};\n",
       "        if (window.MathJax && window.MathJax.Hub && window.MathJax.Hub.Config) {window.MathJax.Hub.Config({SVG: {font: \"STIX-Web\"}});}\n",
       "        if (typeof require !== 'undefined') {\n",
       "        require.undef(\"plotly\");\n",
       "        requirejs.config({\n",
       "            paths: {\n",
       "                'plotly': ['https://cdn.plot.ly/plotly-2.27.0.min']\n",
       "            }\n",
       "        });\n",
       "        require(['plotly'], function(Plotly) {\n",
       "            window._Plotly = Plotly;\n",
       "        });\n",
       "        }\n",
       "        </script>\n",
       "        "
      ]
     },
     "metadata": {},
     "output_type": "display_data"
    },
    {
     "data": {
      "text/html": [
       "<div>                            <div id=\"2b5449c3-ce30-45d3-b785-ad8478211124\" class=\"plotly-graph-div\" style=\"height:525px; width:100%;\"></div>            <script type=\"text/javascript\">                require([\"plotly\"], function(Plotly) {                    window.PLOTLYENV=window.PLOTLYENV || {};                                    if (document.getElementById(\"2b5449c3-ce30-45d3-b785-ad8478211124\")) {                    Plotly.newPlot(                        \"2b5449c3-ce30-45d3-b785-ad8478211124\",                        [{\"dimensions\":[{\"label\":\"n_estimators\",\"range\":[10.0,98.0],\"values\":[10.0,15.0,98.0,71.0,81.0,63.0,55.0,43.0,30.0,10.0,34.0,40.0,81.0,71.0,73.0,70.0,70.0,70.0,70.0,70.0]},{\"label\":\"step\",\"range\":[0.1,9.82585315792582],\"values\":[1.0,5.986717191385799,9.82585315792582,6.756191346180865,1.5721592493227634,2.8583746662586558,4.131866814060085,8.497016613515813,7.527188921187184,1.07525403240737,3.1505855131441924,0.1,2.003168824335956,4.83651791141202,3.1273198227715846,7.294541023471084,4.995173803073023,5.090206453537287,5.117900152211082,5.167830281725163]},{\"label\":\"use_aggregation\",\"range\":[0.0,1.0],\"values\":[1.0,0.0,0.0,0.0,1.0,0.0,0.0,1.0,1.0,1.0,1.0,1.0,1.0,0.0,0.0,0.0,0.0,0.0,0.0,0.0]}],\"line\":{\"cmax\":28187.663191695625,\"cmin\":26385.940254809317,\"color\":[28187.663191695625,27500.672613998016,26974.01997682645,26615.70832460511,26568.33480378245,26679.504124533378,26858.373262310357,26644.79933363748,27023.303654577237,28169.230657425873,26580.684611448196,26994.133150882037,26888.77058045003,26385.940254809317,26770.142458714305,26715.105534710205,26674.658254788254,26655.220796328525,26727.25306091004,26467.927742348318],\"colorscale\":[[0.0,\"rgb(0,0,131)\"],[0.2,\"rgb(0,60,170)\"],[0.4,\"rgb(5,255,255)\"],[0.6,\"rgb(255,255,0)\"],[0.8,\"rgb(250,0,0)\"],[1.0,\"rgb(128,0,0)\"]],\"showscale\":true},\"type\":\"parcoords\"}],                        {\"template\":{\"data\":{\"histogram2dcontour\":[{\"type\":\"histogram2dcontour\",\"colorbar\":{\"outlinewidth\":0,\"ticks\":\"\"},\"colorscale\":[[0.0,\"#0d0887\"],[0.1111111111111111,\"#46039f\"],[0.2222222222222222,\"#7201a8\"],[0.3333333333333333,\"#9c179e\"],[0.4444444444444444,\"#bd3786\"],[0.5555555555555556,\"#d8576b\"],[0.6666666666666666,\"#ed7953\"],[0.7777777777777778,\"#fb9f3a\"],[0.8888888888888888,\"#fdca26\"],[1.0,\"#f0f921\"]]}],\"choropleth\":[{\"type\":\"choropleth\",\"colorbar\":{\"outlinewidth\":0,\"ticks\":\"\"}}],\"histogram2d\":[{\"type\":\"histogram2d\",\"colorbar\":{\"outlinewidth\":0,\"ticks\":\"\"},\"colorscale\":[[0.0,\"#0d0887\"],[0.1111111111111111,\"#46039f\"],[0.2222222222222222,\"#7201a8\"],[0.3333333333333333,\"#9c179e\"],[0.4444444444444444,\"#bd3786\"],[0.5555555555555556,\"#d8576b\"],[0.6666666666666666,\"#ed7953\"],[0.7777777777777778,\"#fb9f3a\"],[0.8888888888888888,\"#fdca26\"],[1.0,\"#f0f921\"]]}],\"heatmap\":[{\"type\":\"heatmap\",\"colorbar\":{\"outlinewidth\":0,\"ticks\":\"\"},\"colorscale\":[[0.0,\"#0d0887\"],[0.1111111111111111,\"#46039f\"],[0.2222222222222222,\"#7201a8\"],[0.3333333333333333,\"#9c179e\"],[0.4444444444444444,\"#bd3786\"],[0.5555555555555556,\"#d8576b\"],[0.6666666666666666,\"#ed7953\"],[0.7777777777777778,\"#fb9f3a\"],[0.8888888888888888,\"#fdca26\"],[1.0,\"#f0f921\"]]}],\"heatmapgl\":[{\"type\":\"heatmapgl\",\"colorbar\":{\"outlinewidth\":0,\"ticks\":\"\"},\"colorscale\":[[0.0,\"#0d0887\"],[0.1111111111111111,\"#46039f\"],[0.2222222222222222,\"#7201a8\"],[0.3333333333333333,\"#9c179e\"],[0.4444444444444444,\"#bd3786\"],[0.5555555555555556,\"#d8576b\"],[0.6666666666666666,\"#ed7953\"],[0.7777777777777778,\"#fb9f3a\"],[0.8888888888888888,\"#fdca26\"],[1.0,\"#f0f921\"]]}],\"contourcarpet\":[{\"type\":\"contourcarpet\",\"colorbar\":{\"outlinewidth\":0,\"ticks\":\"\"}}],\"contour\":[{\"type\":\"contour\",\"colorbar\":{\"outlinewidth\":0,\"ticks\":\"\"},\"colorscale\":[[0.0,\"#0d0887\"],[0.1111111111111111,\"#46039f\"],[0.2222222222222222,\"#7201a8\"],[0.3333333333333333,\"#9c179e\"],[0.4444444444444444,\"#bd3786\"],[0.5555555555555556,\"#d8576b\"],[0.6666666666666666,\"#ed7953\"],[0.7777777777777778,\"#fb9f3a\"],[0.8888888888888888,\"#fdca26\"],[1.0,\"#f0f921\"]]}],\"surface\":[{\"type\":\"surface\",\"colorbar\":{\"outlinewidth\":0,\"ticks\":\"\"},\"colorscale\":[[0.0,\"#0d0887\"],[0.1111111111111111,\"#46039f\"],[0.2222222222222222,\"#7201a8\"],[0.3333333333333333,\"#9c179e\"],[0.4444444444444444,\"#bd3786\"],[0.5555555555555556,\"#d8576b\"],[0.6666666666666666,\"#ed7953\"],[0.7777777777777778,\"#fb9f3a\"],[0.8888888888888888,\"#fdca26\"],[1.0,\"#f0f921\"]]}],\"mesh3d\":[{\"type\":\"mesh3d\",\"colorbar\":{\"outlinewidth\":0,\"ticks\":\"\"}}],\"scatter\":[{\"fillpattern\":{\"fillmode\":\"overlay\",\"size\":10,\"solidity\":0.2},\"type\":\"scatter\"}],\"parcoords\":[{\"type\":\"parcoords\",\"line\":{\"colorbar\":{\"outlinewidth\":0,\"ticks\":\"\"}}}],\"scatterpolargl\":[{\"type\":\"scatterpolargl\",\"marker\":{\"colorbar\":{\"outlinewidth\":0,\"ticks\":\"\"}}}],\"bar\":[{\"error_x\":{\"color\":\"#2a3f5f\"},\"error_y\":{\"color\":\"#2a3f5f\"},\"marker\":{\"line\":{\"color\":\"#E5ECF6\",\"width\":0.5},\"pattern\":{\"fillmode\":\"overlay\",\"size\":10,\"solidity\":0.2}},\"type\":\"bar\"}],\"scattergeo\":[{\"type\":\"scattergeo\",\"marker\":{\"colorbar\":{\"outlinewidth\":0,\"ticks\":\"\"}}}],\"scatterpolar\":[{\"type\":\"scatterpolar\",\"marker\":{\"colorbar\":{\"outlinewidth\":0,\"ticks\":\"\"}}}],\"histogram\":[{\"marker\":{\"pattern\":{\"fillmode\":\"overlay\",\"size\":10,\"solidity\":0.2}},\"type\":\"histogram\"}],\"scattergl\":[{\"type\":\"scattergl\",\"marker\":{\"colorbar\":{\"outlinewidth\":0,\"ticks\":\"\"}}}],\"scatter3d\":[{\"type\":\"scatter3d\",\"line\":{\"colorbar\":{\"outlinewidth\":0,\"ticks\":\"\"}},\"marker\":{\"colorbar\":{\"outlinewidth\":0,\"ticks\":\"\"}}}],\"scattermapbox\":[{\"type\":\"scattermapbox\",\"marker\":{\"colorbar\":{\"outlinewidth\":0,\"ticks\":\"\"}}}],\"scatterternary\":[{\"type\":\"scatterternary\",\"marker\":{\"colorbar\":{\"outlinewidth\":0,\"ticks\":\"\"}}}],\"scattercarpet\":[{\"type\":\"scattercarpet\",\"marker\":{\"colorbar\":{\"outlinewidth\":0,\"ticks\":\"\"}}}],\"carpet\":[{\"aaxis\":{\"endlinecolor\":\"#2a3f5f\",\"gridcolor\":\"white\",\"linecolor\":\"white\",\"minorgridcolor\":\"white\",\"startlinecolor\":\"#2a3f5f\"},\"baxis\":{\"endlinecolor\":\"#2a3f5f\",\"gridcolor\":\"white\",\"linecolor\":\"white\",\"minorgridcolor\":\"white\",\"startlinecolor\":\"#2a3f5f\"},\"type\":\"carpet\"}],\"table\":[{\"cells\":{\"fill\":{\"color\":\"#EBF0F8\"},\"line\":{\"color\":\"white\"}},\"header\":{\"fill\":{\"color\":\"#C8D4E3\"},\"line\":{\"color\":\"white\"}},\"type\":\"table\"}],\"barpolar\":[{\"marker\":{\"line\":{\"color\":\"#E5ECF6\",\"width\":0.5},\"pattern\":{\"fillmode\":\"overlay\",\"size\":10,\"solidity\":0.2}},\"type\":\"barpolar\"}],\"pie\":[{\"automargin\":true,\"type\":\"pie\"}]},\"layout\":{\"autotypenumbers\":\"strict\",\"colorway\":[\"#636efa\",\"#EF553B\",\"#00cc96\",\"#ab63fa\",\"#FFA15A\",\"#19d3f3\",\"#FF6692\",\"#B6E880\",\"#FF97FF\",\"#FECB52\"],\"font\":{\"color\":\"#2a3f5f\"},\"hovermode\":\"closest\",\"hoverlabel\":{\"align\":\"left\"},\"paper_bgcolor\":\"white\",\"plot_bgcolor\":\"#E5ECF6\",\"polar\":{\"bgcolor\":\"#E5ECF6\",\"angularaxis\":{\"gridcolor\":\"white\",\"linecolor\":\"white\",\"ticks\":\"\"},\"radialaxis\":{\"gridcolor\":\"white\",\"linecolor\":\"white\",\"ticks\":\"\"}},\"ternary\":{\"bgcolor\":\"#E5ECF6\",\"aaxis\":{\"gridcolor\":\"white\",\"linecolor\":\"white\",\"ticks\":\"\"},\"baxis\":{\"gridcolor\":\"white\",\"linecolor\":\"white\",\"ticks\":\"\"},\"caxis\":{\"gridcolor\":\"white\",\"linecolor\":\"white\",\"ticks\":\"\"}},\"coloraxis\":{\"colorbar\":{\"outlinewidth\":0,\"ticks\":\"\"}},\"colorscale\":{\"sequential\":[[0.0,\"#0d0887\"],[0.1111111111111111,\"#46039f\"],[0.2222222222222222,\"#7201a8\"],[0.3333333333333333,\"#9c179e\"],[0.4444444444444444,\"#bd3786\"],[0.5555555555555556,\"#d8576b\"],[0.6666666666666666,\"#ed7953\"],[0.7777777777777778,\"#fb9f3a\"],[0.8888888888888888,\"#fdca26\"],[1.0,\"#f0f921\"]],\"sequentialminus\":[[0.0,\"#0d0887\"],[0.1111111111111111,\"#46039f\"],[0.2222222222222222,\"#7201a8\"],[0.3333333333333333,\"#9c179e\"],[0.4444444444444444,\"#bd3786\"],[0.5555555555555556,\"#d8576b\"],[0.6666666666666666,\"#ed7953\"],[0.7777777777777778,\"#fb9f3a\"],[0.8888888888888888,\"#fdca26\"],[1.0,\"#f0f921\"]],\"diverging\":[[0,\"#8e0152\"],[0.1,\"#c51b7d\"],[0.2,\"#de77ae\"],[0.3,\"#f1b6da\"],[0.4,\"#fde0ef\"],[0.5,\"#f7f7f7\"],[0.6,\"#e6f5d0\"],[0.7,\"#b8e186\"],[0.8,\"#7fbc41\"],[0.9,\"#4d9221\"],[1,\"#276419\"]]},\"xaxis\":{\"gridcolor\":\"white\",\"linecolor\":\"white\",\"ticks\":\"\",\"title\":{\"standoff\":15},\"zerolinecolor\":\"white\",\"automargin\":true,\"zerolinewidth\":2},\"yaxis\":{\"gridcolor\":\"white\",\"linecolor\":\"white\",\"ticks\":\"\",\"title\":{\"standoff\":15},\"zerolinecolor\":\"white\",\"automargin\":true,\"zerolinewidth\":2},\"scene\":{\"xaxis\":{\"backgroundcolor\":\"#E5ECF6\",\"gridcolor\":\"white\",\"linecolor\":\"white\",\"showbackground\":true,\"ticks\":\"\",\"zerolinecolor\":\"white\",\"gridwidth\":2},\"yaxis\":{\"backgroundcolor\":\"#E5ECF6\",\"gridcolor\":\"white\",\"linecolor\":\"white\",\"showbackground\":true,\"ticks\":\"\",\"zerolinecolor\":\"white\",\"gridwidth\":2},\"zaxis\":{\"backgroundcolor\":\"#E5ECF6\",\"gridcolor\":\"white\",\"linecolor\":\"white\",\"showbackground\":true,\"ticks\":\"\",\"zerolinecolor\":\"white\",\"gridwidth\":2}},\"shapedefaults\":{\"line\":{\"color\":\"#2a3f5f\"}},\"annotationdefaults\":{\"arrowcolor\":\"#2a3f5f\",\"arrowhead\":0,\"arrowwidth\":1},\"geo\":{\"bgcolor\":\"white\",\"landcolor\":\"#E5ECF6\",\"subunitcolor\":\"white\",\"showland\":true,\"showlakes\":true,\"lakecolor\":\"white\"},\"title\":{\"x\":0.05},\"mapbox\":{\"style\":\"light\"},\"margin\":{\"b\":0,\"l\":0,\"r\":0,\"t\":30}}}},                        {\"responsive\": true}                    ).then(function(){\n",
       "                            \n",
       "var gd = document.getElementById('2b5449c3-ce30-45d3-b785-ad8478211124');\n",
       "var x = new MutationObserver(function (mutations, observer) {{\n",
       "        var display = window.getComputedStyle(gd).display;\n",
       "        if (!display || display === 'none') {{\n",
       "            console.log([gd, 'removed!']);\n",
       "            Plotly.purge(gd);\n",
       "            observer.disconnect();\n",
       "        }}\n",
       "}});\n",
       "\n",
       "// Listen for the removal of the full notebook cells\n",
       "var notebookContainer = gd.closest('#notebook-container');\n",
       "if (notebookContainer) {{\n",
       "    x.observe(notebookContainer, {childList: true});\n",
       "}}\n",
       "\n",
       "// Listen for the clearing of the current output cell\n",
       "var outputEl = gd.closest('.output');\n",
       "if (outputEl) {{\n",
       "    x.observe(outputEl, {childList: true});\n",
       "}}\n",
       "\n",
       "                        })                };                });            </script>        </div>"
      ]
     },
     "metadata": {},
     "output_type": "display_data"
    }
   ],
   "source": [
    "spot_tuner.parallel_plot()"
   ]
  },
  {
   "cell_type": "markdown",
   "id": "817c0480",
   "metadata": {},
   "source": [
    "## Plot all Combinations of Hyperparameters\n",
    "\n",
    "* Warning: this may take a while.\n"
   ]
  },
  {
   "cell_type": "code",
   "execution_count": 37,
   "id": "e4fd013c",
   "metadata": {},
   "outputs": [],
   "source": [
    "PLOT_ALL = False\n",
    "if PLOT_ALL:\n",
    "    n = spot_tuner.k\n",
    "    for i in range(n-1):\n",
    "        for j in range(i+1, n):\n",
    "            spot_tuner.plot_contour(i=i, j=j, min_z=min_z, max_z = max_z)"
   ]
  }
 ],
 "metadata": {
  "kernelspec": {
   "display_name": "Python 3 (ipykernel)",
   "language": "python",
   "name": "python3"
  },
  "language_info": {
   "codemirror_mode": {
    "name": "ipython",
    "version": 3
   },
   "file_extension": ".py",
   "mimetype": "text/x-python",
   "name": "python",
   "nbconvert_exporter": "python",
   "pygments_lexer": "ipython3",
   "version": "3.11.7"
  }
 },
 "nbformat": 4,
 "nbformat_minor": 5
}
