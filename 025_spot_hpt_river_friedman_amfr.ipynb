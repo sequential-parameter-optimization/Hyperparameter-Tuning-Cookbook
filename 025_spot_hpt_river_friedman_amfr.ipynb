{
  "cells": [
    {
      "cell_type": "raw",
      "metadata": {},
      "source": [
        "---\n",
        "execute:\n",
        "  cache: false\n",
        "  eval: true\n",
        "  echo: true\n",
        "  warning: false\n",
        "---"
      ],
      "id": "d65b3aec"
    },
    {
      "cell_type": "markdown",
      "metadata": {},
      "source": [
        "# `river` Hyperparameter Tuning: Mondrian Tree Regressor with Friedman Drift Data {#sec-river-hpt-51}\n",
        "\n",
        "This chapter demonstrates hyperparameter tuning for `river`'s `Mondrian Tree Regressor` with the Friedman drift data set [[SOURCE]](https://riverml.xyz/0.18.0/api/datasets/synth/FriedmanDrift/). The `Mondrian Tree Regressor` is a regression tree, i.e., it predicts a real value for each sample.\n",
        "\n",
        "\n",
        "## Setup {#sec-setup-51}\n",
        "\n",
        "Before we consider the detailed experimental setup, we select the parameters that affect run time, initial design size, size of the data set, and the experiment name.\n",
        "\n",
        "* `MAX_TIME`: The maximum run time in seconds for the hyperparameter tuning process.\n",
        "* `INIT_SIZE`: The initial design size for the hyperparameter tuning process.\n",
        "* `PREFIX`: The prefix for the experiment name.\n",
        "* `K`: The factor that determines the number of samples in the data set.\n",
        "\n",
        "::: {.callout-caution}\n",
        "### Caution: Run time and initial design size should be increased for real experiments\n",
        "\n",
        "* `MAX_TIME` is set to one minute for demonstration purposes. For real experiments, this should be increased to at least 1 hour.\n",
        "* `INIT_SIZE` is set to 5 for demonstration purposes. For real experiments, this should be increased to at least 10.\n",
        "* `K` is the multiplier for the number of samples. If it is set to 1, then `100_000`samples are taken. It is set to 0.1 for demonstration purposes. For real experiments, this should be increased to at least 1.\n",
        ":::\n"
      ],
      "id": "d77876ca"
    },
    {
      "cell_type": "code",
      "metadata": {},
      "source": [
        "MAX_TIME = 1\n",
        "INIT_SIZE = 5\n",
        "PREFIX=\"51-river\"\n",
        "K = 0.1"
      ],
      "id": "eca73bed",
      "execution_count": null,
      "outputs": []
    },
    {
      "cell_type": "code",
      "metadata": {},
      "source": [
        "#| echo: false\n",
        "import os\n",
        "import warnings\n",
        "if not os.path.exists('./figures'):\n",
        "    os.makedirs('./figures')\n",
        "warnings.filterwarnings(\"ignore\")"
      ],
      "id": "d19133a4",
      "execution_count": null,
      "outputs": []
    },
    {
      "cell_type": "markdown",
      "metadata": {},
      "source": [
        "* This notebook exemplifies hyperparameter tuning with SPOT (spotPython and spotRiver).\n",
        "* The hyperparameter software SPOT is available in Python. It was developed in R (statistical programming language), see Open Access book \"Hyperparameter Tuning for Machine and Deep Learning with R - A Practical Guide\", available here: [https://link.springer.com/book/10.1007/978-981-19-5170-1](https://link.springer.com/book/10.1007/978-981-19-5170-1).\n",
        "* This notebook demonstrates hyperparameter tuning for `river`. It is based on the notebook \"Incremental decision trees in river: the Hoeffding Tree case\", see: [https://riverml.xyz/0.15.0/recipes/on-hoeffding-trees/#42-regression-tree-splitters](https://riverml.xyz/0.15.0/recipes/on-hoeffding-trees/#42-regression-tree-splitters).\n",
        "* Here we will use the river `AMFRegressor` functions, see: [https://riverml.xyz/0.19.0/api/forest/AMFRegressor/](https://riverml.xyz/0.19.0/api/forest/AMFRegressor/).\n",
        "\n",
        "## Initialization of the `fun_control` Dictionary\n",
        "\n",
        "`spotPython` supports the visualization of the hyperparameter tuning process with TensorBoard. The following example shows how to use TensorBoard with `spotPython`.\n",
        "\n",
        "First, we define an \"experiment name\" to identify the hyperparameter tuning process. The experiment name is also used to create a directory for the TensorBoard files.\n"
      ],
      "id": "53221d04"
    },
    {
      "cell_type": "code",
      "metadata": {},
      "source": [
        "from spotPython.utils.init import fun_control_init\n",
        "from spotPython.utils.file import get_spot_tensorboard_path\n",
        "import os\n",
        "from spotPython.utils.file import get_experiment_name\n",
        "experiment_name = get_experiment_name(prefix=PREFIX)\n",
        "fun_control = fun_control_init(\n",
        "    spot_tensorboard_path=get_spot_tensorboard_path(experiment_name),\n",
        "    TENSORBOARD_CLEAN=True)\n",
        "print(experiment_name)"
      ],
      "id": "6e87d50c",
      "execution_count": null,
      "outputs": []
    },
    {
      "cell_type": "markdown",
      "metadata": {},
      "source": [
        "::: {.callout-tip}\n",
        "#### Tip: TensorBoard\n",
        "* Since the `spot_tensorboard_path` argument is not `None`, which is the default, `spotPython` will log the optimization process in the TensorBoard folder.\n",
        "* @sec-tensorboard-10 describes how to start TensorBoard and access the TensorBoard dashboard.\n",
        "* The `TENSORBOARD_CLEAN` argument is set to `True` to archive the TensorBoard folder if it already exists. This is useful if you want to start a hyperparameter tuning process from scratch.\n",
        "If you want to continue a hyperparameter tuning process, set `TENSORBOARD_CLEAN` to `False`. Then the TensorBoard folder will not be archived and the old and new TensorBoard files will shown in the TensorBoard dashboard.\n",
        ":::\n",
        "\n",
        "## Load Data: The Friedman Drift Data\n",
        "\n",
        "We will use the Friedman synthetic dataset with concept drifts [[SOURCE]](https://riverml.xyz/0.18.0/api/datasets/synth/FriedmanDrift/). Each observation is composed of ten features. Each feature value is sampled uniformly in [0, 1]. Only the first five features are relevant. The target is defined by different functions depending on the type of the drift. Global Recurring Abrupt drift will be used, i.e., the concept drift appears over the whole instance space. There are two points of concept drift. At the second point of drift the old concept reoccurs.\n",
        "\n",
        "The following parameters are used to generate and handle the data set:\n",
        "\n",
        "* horizon: The prediction horizon in hours.\n",
        "* n_samples: The number of samples in the data set.\n",
        "* p_1: The position of the first concept drift.\n",
        "* p_2: The position of the second concept drift.\n",
        "* position: The position of the concept drifts.\n",
        "* n_train: The number of samples used for training.\n"
      ],
      "id": "19513557"
    },
    {
      "cell_type": "code",
      "metadata": {},
      "source": [
        "horizon = 7*24\n",
        "n_samples = int(K*100_000)\n",
        "p_1 = int(K*25_000)\n",
        "p_2 = int(K*50_000)\n",
        "position=(p_1, p_2)\n",
        "n_train = 1_000"
      ],
      "id": "771f4d6a",
      "execution_count": null,
      "outputs": []
    },
    {
      "cell_type": "code",
      "metadata": {},
      "source": [
        "from river.datasets import synth\n",
        "import pandas as pd\n",
        "dataset = synth.FriedmanDrift(\n",
        "   drift_type='gra',\n",
        "   position=position,\n",
        "   seed=123\n",
        ")"
      ],
      "id": "210ab0e1",
      "execution_count": null,
      "outputs": []
    },
    {
      "cell_type": "markdown",
      "metadata": {},
      "source": [
        "* We will use `spotRiver`'s `convert_to_df` function [[SOURCE]](https://github.com/sequential-parameter-optimization/spotRiver/blob/main/src/spotRiver/utils/data_conversion.py) to convert the `river` data set to a `pandas` data frame.\n"
      ],
      "id": "0975caca"
    },
    {
      "cell_type": "code",
      "metadata": {},
      "source": [
        "from spotRiver.utils.data_conversion import convert_to_df\n",
        "target_column = \"y\"\n",
        "df = convert_to_df(dataset, target_column=target_column, n_total=n_samples)"
      ],
      "id": "9de17bcd",
      "execution_count": null,
      "outputs": []
    },
    {
      "cell_type": "markdown",
      "metadata": {},
      "source": [
        "* Add column names x1 until x10 to the first 10 columns of the dataframe and the column name y to the last column of the dataframe.\n",
        "* Then split the data frame into a training and test data set. The train and test data sets are stored in the `fun_control` dictionary.\n"
      ],
      "id": "db26f535"
    },
    {
      "cell_type": "code",
      "metadata": {},
      "source": [
        "df.columns = [f\"x{i}\" for i in range(1, 11)] + [\"y\"]\n",
        "fun_control.update({\"train\":  df[:n_train],\n",
        "                    \"test\":  df[n_train:],\n",
        "                    \"n_samples\": n_samples,\n",
        "                    \"target_column\": target_column})"
      ],
      "id": "f5051319",
      "execution_count": null,
      "outputs": []
    },
    {
      "cell_type": "markdown",
      "metadata": {},
      "source": [
        "## Specification of the Preprocessing Model\n",
        "\n",
        "* We use the `StandardScaler` [[SOURCE]](https://riverml.xyz/dev/api/preprocessing/StandardScaler/) from `river` as the preprocessing model. The `StandardScaler` is used to standardize the data set, i.e., it has zero mean and unit variance.\n"
      ],
      "id": "ee7ca182"
    },
    {
      "cell_type": "code",
      "metadata": {},
      "source": [
        "from river import preprocessing\n",
        "prep_model = preprocessing.StandardScaler()\n",
        "fun_control.update({\"prep_model\": prep_model})"
      ],
      "id": "92709c4d",
      "execution_count": null,
      "outputs": []
    },
    {
      "cell_type": "markdown",
      "metadata": {},
      "source": [
        "## SelectSelect Model (`algorithm`) and `core_model_hyper_dict`\n",
        "\n",
        "`spotPython` hyperparameter tuning approach uses two components:\n",
        "\n",
        "1. a model (class) and \n",
        "2. an associated hyperparameter dictionary. \n",
        "\n",
        "\n",
        "The corresponding hyperparameters are loaded from the associated dictionary, which is stored as a JSON file [[SOURCE]](https://github.com/sequential-parameter-optimization/spotRiver/blob/main/src/spotRiver/data/river_hyper_dict.json). The JSON file contains hyperparameter type information, names, and bounds. \n",
        "\n",
        "The method `add_core_model_to_fun_control` adds the model and the hyperparameter dictionary to the `fun_control` dictionary.\n",
        "\n",
        "Alternatively, you can load a local hyper_dict. Simply set `river_hyper_dict.json` as the filename. If `filename`is set to `None`, which is the default, the hyper_dict [[SOURCE]](https://github.com/sequential-parameter-optimization/spotRiver/blob/main/src/spotRiver/data/river_hyper_dict.json) is loaded from the `spotRiver` package.\n"
      ],
      "id": "b2c906a7"
    },
    {
      "cell_type": "code",
      "metadata": {},
      "source": [
        "from river.forest import AMFRegressor\n",
        "from spotRiver.data.river_hyper_dict import RiverHyperDict\n",
        "from spotPython.hyperparameters.values import add_core_model_to_fun_control\n",
        "add_core_model_to_fun_control(core_model=AMFRegressor,\n",
        "                              fun_control=fun_control,\n",
        "                              hyper_dict=RiverHyperDict,\n",
        "                              filename=None)"
      ],
      "id": "18da77f8",
      "execution_count": null,
      "outputs": []
    },
    {
      "cell_type": "markdown",
      "metadata": {},
      "source": [
        "## Modify `hyper_dict` Hyperparameters for the Selected Algorithm aka `core_model`\n",
        "\n",
        "After the `core_model` and the `core_model_hyper_dict` are added to the `fun_control` dictionary, the hyperparameter tuning can be started.\n",
        "However, in some settings, the user wants to modify the hyperparameters of the `core_model_hyper_dict`. This can be done with the `modify_hyper_parameter_bounds` and `modify_hyper_parameter_levels` functions [[SOURCE]](https://github.com/sequential-parameter-optimization/spotPython/blob/main/src/spotPython/hyperparameters/values.py).\n",
        "\n",
        "The following code shows how hyperparameter of type numeric and integer (boolean) can be modified. The `modify_hyper_parameter_bounds` function is used to modify the bounds of the hyperparameter `delta` and `merit_preprune`. Similar option exists for the `modify_hyper_parameter_levels` function to modify the levels of categorical hyperparameters.\n"
      ],
      "id": "12acce3f"
    },
    {
      "cell_type": "code",
      "metadata": {},
      "source": [
        "from spotPython.hyperparameters.values import modify_hyper_parameter_bounds\n",
        "modify_hyper_parameter_bounds(fun_control, \"n_estimators\", bounds=[2,100])"
      ],
      "id": "ee6031e0",
      "execution_count": null,
      "outputs": []
    },
    {
      "cell_type": "markdown",
      "metadata": {},
      "source": [
        "::: {.callout-note}\n",
        "#### Note: Active and Inactive Hyperparameters\n",
        "Hyperparameters can be excluded from the tuning procedure by selecting identical values for the lower and upper bounds.\n"
      ],
      "id": "3567d8a8"
    },
    {
      "cell_type": "code",
      "metadata": {},
      "source": [
        "from spotPython.utils.eda import gen_design_table\n",
        "print(gen_design_table(fun_control))"
      ],
      "id": "961fcdb4",
      "execution_count": null,
      "outputs": []
    },
    {
      "cell_type": "markdown",
      "metadata": {},
      "source": [
        "## Selection of the Objective (Loss) Function\n",
        "\n",
        "The `metric_sklearn` is used for the sklearn based evaluation via `eval_oml_horizon` [[SOURCE]](https://github.com/sequential-parameter-optimization/spotRiver/blob/main/src/spotRiver/evaluation/eval_bml.py). Here we use the ` mean_absolute_error` [[SOURCE]](https://scikit-learn.org/stable/modules/generated/sklearn.metrics.mean_absolute_error.html) as the objective function.\n",
        "\n",
        ":::{.callout-note}\n",
        "#### Note: Additional metrics\n",
        "`spotRiver` also supports additional metrics. For example, the `metric_river` is used for the river based evaluation via `eval_oml_iter_progressive` [[SOURCE]](https://github.com/sequential-parameter-optimization/spotRiver/blob/main/src/spotRiver/evaluation/eval_oml.py). The `metric_river` is implemented to simulate the behaviour of the \"original\" `river` metrics.\n",
        ":::\n",
        "\n",
        "`spotRiver` provides information about the model' s score (metric), memory, and time.\n",
        "The hyperparamter tuner requires a single objective.\n",
        "Therefore, a weighted sum of the metric, memory, and time is computed. The weights are defined in the `weights` array.\n",
        "\n",
        ":::{.callout-note}\n",
        "#### Note: Weights\n",
        "The `weights` provide a flexible way to define specific requirements, e.g., if the memory is more important than the time, the weight for the memory can be increased.\n",
        ":::\n",
        "\n",
        "The `oml_grace_period` defines the number of observations that are used for the initial training of the model. The `step` defines the iteration number at which to yield results. This only takes into account the predictions, and not the training steps.  The `weight_coeff` defines a multiplier for the results: results are multiplied by (step/n_steps)**weight_coeff, where n_steps is the total number of iterations. \n",
        "Results from the beginning have a lower weight than results from the end if weight_coeff > 1. If weight_coeff == 0, all results have equal weight. Note, that the `weight_coeff` is only used internally for the tuner and does not affect the results that are used for the evaluation or comparisons.\n"
      ],
      "id": "39b81255"
    },
    {
      "cell_type": "code",
      "metadata": {},
      "source": [
        "import numpy as np\n",
        "from sklearn.metrics import mean_absolute_error\n",
        "\n",
        "weights = np.array([1, 1/1000, 1/1000])*10_000.0\n",
        "oml_grace_period = 2\n",
        "step = 100\n",
        "weight_coeff = 1.0\n",
        "\n",
        "fun_control.update({\n",
        "               \"horizon\": horizon,\n",
        "               \"oml_grace_period\": oml_grace_period,\n",
        "               \"weights\": weights,\n",
        "               \"step\": step,\n",
        "               \"weight_coeff\": weight_coeff,\n",
        "               \"metric_sklearn\": mean_absolute_error\n",
        "               })"
      ],
      "id": "d8935cf9",
      "execution_count": null,
      "outputs": []
    },
    {
      "cell_type": "markdown",
      "metadata": {},
      "source": [
        "## Calling the SPOT Function\n",
        "\n",
        "### Prepare the SPOT Parameters\n",
        "\n",
        "The hyperparameter tuning configuration is stored in the `fun_control` dictionary. Since `Spot` can be used as an optimization algorithm with a similar interface as optimization algorithms from `scipy.optimize` [[LINK]](https://docs.scipy.org/doc/scipy/reference/optimize.html#module-scipy.optimize), the bounds and variable types have to be specified explicitely. The `get_var_type`, `get_var_name`, and `get_bound_values` functions [[SOURCE]](https://github.com/sequential-parameter-optimization/spotPython/blob/main/src/spotPython/hyperparameters/values.py) implement the required functionality.\n",
        "\n",
        "* Get types and variable names as well as lower and upper bounds for the hyperparameters, so that they can be passed to the `Spot` function.\n"
      ],
      "id": "ad3ab2fe"
    },
    {
      "cell_type": "code",
      "metadata": {},
      "source": [
        "from spotPython.hyperparameters.values import (\n",
        "    get_var_type,\n",
        "    get_var_name,\n",
        "    get_bound_values\n",
        "    )\n",
        "var_type = get_var_type(fun_control)\n",
        "var_name = get_var_name(fun_control)\n",
        "lower = get_bound_values(fun_control, \"lower\")\n",
        "upper = get_bound_values(fun_control, \"upper\")"
      ],
      "id": "08ecc9a3",
      "execution_count": null,
      "outputs": []
    },
    {
      "cell_type": "markdown",
      "metadata": {},
      "source": [
        "### The Objective Function {#sec-the-objective-function-51}\n",
        "\n",
        "The objective function `fun_oml_horizon` [[SOURCE]](https://github.com/sequential-parameter-optimization/spotRiver/blob/main/src/spotRiver/fun/hyperriver.py) is selected next.\n"
      ],
      "id": "03361191"
    },
    {
      "cell_type": "code",
      "metadata": {},
      "source": [
        "from spotRiver.fun.hyperriver import HyperRiver\n",
        "fun = HyperRiver().fun_oml_horizon"
      ],
      "id": "94e516f1",
      "execution_count": null,
      "outputs": []
    },
    {
      "cell_type": "markdown",
      "metadata": {},
      "source": [
        "The following code snippet shows how to get the default hyperparameters as an array, so that they can be passed to the `Spot` function.\n"
      ],
      "id": "6155b095"
    },
    {
      "cell_type": "code",
      "metadata": {},
      "source": [
        "from spotPython.hyperparameters.values import get_default_hyperparameters_as_array\n",
        "X_start = get_default_hyperparameters_as_array(fun_control)"
      ],
      "id": "a4e27cf2",
      "execution_count": null,
      "outputs": []
    },
    {
      "cell_type": "markdown",
      "metadata": {},
      "source": [
        "### Run the `Spot` Optimizer\n",
        "\n",
        "The class `Spot` [[SOURCE]](https://github.com/sequential-parameter-optimization/spotPython/blob/main/src/spotPython/spot/spot.py) is the hyperparameter tuning workhorse. It is initialized with the following parameters:\n",
        "\n",
        "* `fun`: the objective function\n",
        "* `lower`: lower bounds of the hyperparameters\n",
        "* `upper`: upper bounds of the hyperparameters\n",
        "* `fun_evals`: number of function evaluations\n",
        "* `max_time`: maximum time in seconds\n",
        "* `tolerance_x`: tolerance for the hyperparameters\n",
        "* `var_type`: variable types of the hyperparameters\n",
        "* `var_name`: variable names of the hyperparameters\n",
        "* `show_progress`: show progress bar\n",
        "* `fun_control`: dictionary with control parameters for the objective function\n",
        "* `design_control`: dictionary with control parameters for the initial design\n",
        "* `surrogate_control`: dictionary with control parameters for the surrogate model\n",
        "\n",
        ":::{.callout-note}\n",
        "#### Note: Total run time\n",
        " The total run time may exceed the specified `max_time`, because the initial design (here: `init_size` = INIT_SIZE as specified above) is always evaluated, even if this takes longer than `max_time`.\n",
        ":::\n"
      ],
      "id": "7d6bf9ae"
    },
    {
      "cell_type": "code",
      "metadata": {},
      "source": [
        "from spotPython.spot import spot\n",
        "from math import inf\n",
        "spot_tuner = spot.Spot(fun=fun,\n",
        "                   lower = lower,\n",
        "                   upper = upper,\n",
        "                   fun_evals = inf,\n",
        "                   max_time = MAX_TIME,\n",
        "                   tolerance_x = np.sqrt(np.spacing(1)),\n",
        "                   var_type = var_type,\n",
        "                   var_name = var_name,\n",
        "                   show_progress= True,\n",
        "                   fun_control = fun_control,\n",
        "                   design_control={\"init_size\": INIT_SIZE},\n",
        "                   surrogate_control={\"noise\": False,\n",
        "                                      \"cod_type\": \"norm\",\n",
        "                                      \"min_theta\": -4,\n",
        "                                      \"max_theta\": 3,\n",
        "                                      \"n_theta\": len(var_name),\n",
        "                                      \"model_fun_evals\": 10_000})\n",
        "spot_tuner.run(X_start=X_start)"
      ],
      "id": "d25312a6",
      "execution_count": null,
      "outputs": []
    },
    {
      "cell_type": "markdown",
      "metadata": {},
      "source": [
        "### TensorBoard {#sec-tensorboard-10}\n",
        "\n",
        "Now we can start TensorBoard in the background with the following command, where `./runs` is the default directory for the TensorBoard log files:\n",
        "\n",
        "\n",
        "\n",
        "```{raw}\n",
        "tensorboard --logdir=\"./runs\"\n",
        "```\n",
        "\n",
        "\n",
        "\n",
        ":::{.callout-tip}\n",
        "#### Tip: TENSORBOARD_PATH\n",
        "The TensorBoard path can be printed with the following command:\n"
      ],
      "id": "1feae83d"
    },
    {
      "cell_type": "code",
      "metadata": {},
      "source": [
        "from spotPython.utils.file import get_tensorboard_path\n",
        "get_tensorboard_path(fun_control)"
      ],
      "id": "2a538075",
      "execution_count": null,
      "outputs": []
    },
    {
      "cell_type": "markdown",
      "metadata": {},
      "source": [
        ":::\n",
        "\n",
        "We can access the TensorBoard web server with the following URL:\n",
        "\n",
        "\n",
        "\n",
        "```{raw}\n",
        "http://localhost:6006/\n",
        "```\n",
        "\n",
        "\n",
        "\n",
        "The TensorBoard plot illustrates how `spotPython` can be used as a microscope for the internal mechanisms of the surrogate-based optimization process. Here, one important parameter, the learning rate $\\theta$ of the Kriging surrogate [[SOURCE]](https://github.com/sequential-parameter-optimization/spotPython/blob/main/src/spotPython/build/kriging.py) is plotted against the number of optimization steps.\n",
        "\n",
        "![TensorBoard visualization of the spotPython optimization process and the surrogate model.](figures_static/13_tensorboard_01.png){width=\"100%\"}\n",
        "\n",
        "\n",
        "### Results\n",
        "\n",
        "After the hyperparameter tuning run is finished, the results can be saved and reloaded with the following commands:\n"
      ],
      "id": "6adb7213"
    },
    {
      "cell_type": "code",
      "metadata": {},
      "source": [
        "from spotPython.utils.file import save_pickle\n",
        "save_pickle(spot_tuner, experiment_name)"
      ],
      "id": "e390429a",
      "execution_count": null,
      "outputs": []
    },
    {
      "cell_type": "code",
      "metadata": {},
      "source": [
        "from spotPython.utils.file import load_pickle\n",
        "spot_tuner = load_pickle(experiment_name)"
      ],
      "id": "4ade73c4",
      "execution_count": null,
      "outputs": []
    },
    {
      "cell_type": "markdown",
      "metadata": {},
      "source": [
        "After the hyperparameter tuning run is finished, the progress of the hyperparameter tuning can be visualized. The black points represent the performace values (score or metric) of  hyperparameter configurations from the initial design, whereas the red points represents the  hyperparameter configurations found by the surrogate model based optimization.\n"
      ],
      "id": "79f8f36b"
    },
    {
      "cell_type": "code",
      "metadata": {},
      "source": [
        "spot_tuner.plot_progress(log_y=True, filename=\"./figures/\" + experiment_name+\"_progress.pdf\")"
      ],
      "id": "e7dca56a",
      "execution_count": null,
      "outputs": []
    },
    {
      "cell_type": "markdown",
      "metadata": {},
      "source": [
        "Results can also be printed in tabular form.\n"
      ],
      "id": "2ede5ece"
    },
    {
      "cell_type": "code",
      "metadata": {},
      "source": [
        "print(gen_design_table(fun_control=fun_control, spot=spot_tuner))"
      ],
      "id": "d891030d",
      "execution_count": null,
      "outputs": []
    },
    {
      "cell_type": "markdown",
      "metadata": {},
      "source": [
        "A histogram can be used to visualize the most important hyperparameters.\n"
      ],
      "id": "ad0241f6"
    },
    {
      "cell_type": "code",
      "metadata": {},
      "source": [
        "spot_tuner.plot_importance(threshold=0.0025, filename=\"./figures/\" + experiment_name+\"_importance.pdf\")"
      ],
      "id": "1963ff19",
      "execution_count": null,
      "outputs": []
    },
    {
      "cell_type": "markdown",
      "metadata": {},
      "source": [
        "## The Larger Data Set \n",
        "\n",
        "After the hyperparameter were tuned on a small data set, we can now apply the hyperparameter configuration to a larger data set. The following code snippet shows how to generate the larger data set.\n",
        "\n",
        ":::{.callout-caution}\n",
        "#### Caution: Increased Friedman-Drift Data Set\n",
        "\n",
        "* The Friedman-Drift Data Set is increased by a factor of two to show the transferability of the hyperparameter tuning results.\n",
        "* Larger values of `K` lead to a longer run time.\n",
        ":::\n"
      ],
      "id": "91576e03"
    },
    {
      "cell_type": "code",
      "metadata": {},
      "source": [
        "K = 0.2\n",
        "n_samples = int(K*100_000)\n",
        "p_1 = int(K*25_000)\n",
        "p_2 = int(K*50_000)\n",
        "position=(p_1, p_2)"
      ],
      "id": "ce404827",
      "execution_count": null,
      "outputs": []
    },
    {
      "cell_type": "code",
      "metadata": {},
      "source": [
        "dataset = synth.FriedmanDrift(\n",
        "   drift_type='gra',\n",
        "   position=position,\n",
        "   seed=123\n",
        ")"
      ],
      "id": "4e37102f",
      "execution_count": null,
      "outputs": []
    },
    {
      "cell_type": "markdown",
      "metadata": {},
      "source": [
        "The larger data set is converted to a Pandas data frame and passed to the `fun_control` dictionary.\n"
      ],
      "id": "ed2a4a52"
    },
    {
      "cell_type": "code",
      "metadata": {},
      "source": [
        "df = convert_to_df(dataset, target_column=target_column, n_total=n_samples)\n",
        "df.columns = [f\"x{i}\" for i in range(1, 11)] + [\"y\"]\n",
        "fun_control.update({\"train\": df[:n_train],\n",
        "                    \"test\": df[n_train:],\n",
        "                    \"n_samples\": n_samples,\n",
        "                    \"target_column\": target_column})"
      ],
      "id": "8baf2777",
      "execution_count": null,
      "outputs": []
    },
    {
      "cell_type": "markdown",
      "metadata": {},
      "source": [
        "## Get Default Hyperparameters\n",
        "\n",
        "The default hyperparameters, whihc will be used for a comparion with the tuned hyperparameters, can be obtained with the following commands:\n"
      ],
      "id": "5cdc3a59"
    },
    {
      "cell_type": "code",
      "metadata": {},
      "source": [
        "from spotPython.hyperparameters.values import get_one_core_model_from_X\n",
        "from spotPython.hyperparameters.values import get_default_hyperparameters_as_array\n",
        "X_start = get_default_hyperparameters_as_array(fun_control)\n",
        "model_default = get_one_core_model_from_X(X_start, fun_control)"
      ],
      "id": "fec146f6",
      "execution_count": null,
      "outputs": []
    },
    {
      "cell_type": "markdown",
      "metadata": {},
      "source": [
        ":::{.callout-note}\n",
        "#### Note: `spotPython` tunes numpy arrays\n",
        "* `spotPython` tunes numpy arrays, i.e., the hyperparameters are stored in a numpy array.\n",
        "::::\n",
        "\n",
        "The model with the default hyperparameters can be trained and evaluated with the following commands:\n"
      ],
      "id": "5a2ae3fc"
    },
    {
      "cell_type": "code",
      "metadata": {},
      "source": [
        "from spotRiver.evaluation.eval_bml import eval_oml_horizon\n",
        "\n",
        "df_eval_default, df_true_default = eval_oml_horizon(\n",
        "                    model=model_default,\n",
        "                    train=fun_control[\"train\"],\n",
        "                    test=fun_control[\"test\"],\n",
        "                    target_column=fun_control[\"target_column\"],\n",
        "                    horizon=fun_control[\"horizon\"],\n",
        "                    oml_grace_period=fun_control[\"oml_grace_period\"],\n",
        "                    metric=fun_control[\"metric_sklearn\"],\n",
        "                )"
      ],
      "id": "01623976",
      "execution_count": null,
      "outputs": []
    },
    {
      "cell_type": "markdown",
      "metadata": {},
      "source": [
        "The three performance criteria, i.e., scaoe (metric), runtime, and memory consumption, can be visualized with the following commands:\n"
      ],
      "id": "9897ffe6"
    },
    {
      "cell_type": "code",
      "metadata": {},
      "source": [
        "from spotRiver.evaluation.eval_bml import plot_bml_oml_horizon_metrics, plot_bml_oml_horizon_predictions\n",
        "df_labels=[\"default\"]\n",
        "plot_bml_oml_horizon_metrics(df_eval = [df_eval_default], log_y=False, df_labels=df_labels, metric=fun_control[\"metric_sklearn\"])"
      ],
      "id": "a2cefc48",
      "execution_count": null,
      "outputs": []
    },
    {
      "cell_type": "markdown",
      "metadata": {},
      "source": [
        "### Show Predictions\n",
        "\n",
        "* Select a subset of the data set for the visualization of the predictions:\n",
        "    * We use the mean, $m$, of the data set as the center of the visualization.\n",
        "    * We use 100 data points, i.e., $m \\pm 50$ as the visualization window.\n"
      ],
      "id": "150c9a2a"
    },
    {
      "cell_type": "code",
      "metadata": {},
      "source": [
        "m = fun_control[\"test\"].shape[0]\n",
        "a = int(m/2)-50\n",
        "b = int(m/2)"
      ],
      "id": "795ea156",
      "execution_count": null,
      "outputs": []
    },
    {
      "cell_type": "code",
      "metadata": {},
      "source": [
        "plot_bml_oml_horizon_predictions(df_true = [df_true_default[a:b]], target_column=target_column,  df_labels=df_labels)"
      ],
      "id": "aa6852fb",
      "execution_count": null,
      "outputs": []
    },
    {
      "cell_type": "markdown",
      "metadata": {},
      "source": [
        "## Get SPOT Results\n",
        "\n",
        "In a similar way, we can obtain the hyperparameters found by `spotPython`.\n"
      ],
      "id": "b08d2902"
    },
    {
      "cell_type": "code",
      "metadata": {},
      "source": [
        "from spotPython.hyperparameters.values import get_one_core_model_from_X\n",
        "X = spot_tuner.to_all_dim(spot_tuner.min_X.reshape(1,-1))\n",
        "model_spot = get_one_core_model_from_X(X, fun_control)"
      ],
      "id": "9e97173e",
      "execution_count": null,
      "outputs": []
    },
    {
      "cell_type": "code",
      "metadata": {},
      "source": [
        "df_eval_spot, df_true_spot = eval_oml_horizon(\n",
        "                    model=model_spot,\n",
        "                    train=fun_control[\"train\"],\n",
        "                    test=fun_control[\"test\"],\n",
        "                    target_column=fun_control[\"target_column\"],\n",
        "                    horizon=fun_control[\"horizon\"],\n",
        "                    oml_grace_period=fun_control[\"oml_grace_period\"],\n",
        "                    metric=fun_control[\"metric_sklearn\"],\n",
        "                )"
      ],
      "id": "a7b946dd",
      "execution_count": null,
      "outputs": []
    },
    {
      "cell_type": "code",
      "metadata": {},
      "source": [
        "df_labels=[\"default\", \"spot\"]\n",
        "plot_bml_oml_horizon_metrics(df_eval = [df_eval_default, df_eval_spot], log_y=False, df_labels=df_labels, metric=fun_control[\"metric_sklearn\"], filename=\"./figures/\" + experiment_name+\"_metrics.pdf\")"
      ],
      "id": "8218e978",
      "execution_count": null,
      "outputs": []
    },
    {
      "cell_type": "code",
      "metadata": {},
      "source": [
        "plot_bml_oml_horizon_predictions(df_true = [df_true_default[a:b], df_true_spot[a:b]], target_column=target_column,  df_labels=df_labels, filename=\"./figures/\" + experiment_name+\"_predictions.pdf\")"
      ],
      "id": "66599e0b",
      "execution_count": null,
      "outputs": []
    },
    {
      "cell_type": "code",
      "metadata": {},
      "source": [
        "from spotPython.plot.validation import plot_actual_vs_predicted\n",
        "plot_actual_vs_predicted(y_test=df_true_default[target_column], y_pred=df_true_default[\"Prediction\"], title=\"Default\")\n",
        "plot_actual_vs_predicted(y_test=df_true_spot[target_column], y_pred=df_true_spot[\"Prediction\"], title=\"SPOT\")"
      ],
      "id": "ae45afcd",
      "execution_count": null,
      "outputs": []
    },
    {
      "cell_type": "markdown",
      "metadata": {},
      "source": [
        "## Detailed Hyperparameter Plots\n"
      ],
      "id": "bb76046b"
    },
    {
      "cell_type": "code",
      "metadata": {},
      "source": [
        "filename = \"./figures/\" + experiment_name\n",
        "spot_tuner.plot_important_hyperparameter_contour(filename=filename)"
      ],
      "id": "555bef2f",
      "execution_count": null,
      "outputs": []
    },
    {
      "cell_type": "markdown",
      "metadata": {},
      "source": [
        "## Parallel Coordinates Plots\n"
      ],
      "id": "2bce89f9"
    },
    {
      "cell_type": "code",
      "metadata": {},
      "source": [
        "spot_tuner.parallel_plot()"
      ],
      "id": "7a69d88a",
      "execution_count": null,
      "outputs": []
    },
    {
      "cell_type": "markdown",
      "metadata": {},
      "source": [
        "## Plot all Combinations of Hyperparameters\n",
        "\n",
        "* Warning: this may take a while.\n"
      ],
      "id": "13a0298f"
    },
    {
      "cell_type": "code",
      "metadata": {},
      "source": [
        "PLOT_ALL = False\n",
        "if PLOT_ALL:\n",
        "    n = spot_tuner.k\n",
        "    for i in range(n-1):\n",
        "        for j in range(i+1, n):\n",
        "            spot_tuner.plot_contour(i=i, j=j, min_z=min_z, max_z = max_z)"
      ],
      "id": "336a6709",
      "execution_count": null,
      "outputs": []
    }
  ],
  "metadata": {
    "kernelspec": {
      "name": "python3",
      "language": "python",
      "display_name": "Python 3 (ipykernel)"
    }
  },
  "nbformat": 4,
  "nbformat_minor": 5
}