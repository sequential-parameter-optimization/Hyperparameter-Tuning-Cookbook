{
  "cells": [
    {
      "cell_type": "markdown",
      "metadata": {},
      "source": [
        "---\n",
        "execute:\n",
        "  cache: false\n",
        "  eval: true\n",
        "  echo: true\n",
        "  warning: false\n",
        "jupyter: python3\n",
        "---\n",
        "\n",
        "\n",
        "# Hyperparameter Tuning with `spotpython` and `PyTorch` Lightning for the Diabetes Data Set {#sec-hpt-pytorch}\n",
        "\n",
        "In this section, we will show how `spotpython` can be integrated into the `PyTorch` Lightning\n",
        "training workflow for a regression task.\n",
        "It demonstrates how easy it is to use `spotpython` to tune hyperparameters for a `PyTorch` Lightning model.\n",
        "\n",
        "## The Basic Setting {#sec-basic-setup-601}\n"
      ],
      "id": "29d49f88"
    },
    {
      "cell_type": "code",
      "metadata": {},
      "source": [
        "#| label: 601_imports\n",
        "import os\n",
        "from math import inf\n",
        "import warnings\n",
        "warnings.filterwarnings(\"ignore\")"
      ],
      "id": "imports",
      "execution_count": null,
      "outputs": []
    },
    {
      "cell_type": "markdown",
      "metadata": {},
      "source": [
        "After importing the necessary libraries, the `fun_control` dictionary is set up via the `fun_control_init` function.\n",
        "The `fun_control` dictionary contains\n",
        "\n",
        "* `PREFIX`: a unique identifier for the experiment\n",
        "* `fun_evals`: the number of function evaluations\n",
        "* `max_time`: the maximum run time in minutes\n",
        "* `data_set`: the data set. Here we use the `Diabetes` data set that is provided by `spotpython`.\n",
        "* `core_model_name`: the class name of the neural network model. This neural network model is provided by `spotpython`.\n",
        "* `hyperdict`: the hyperparameter dictionary. This dictionary is used to define the hyperparameters of the neural network model. It is also provided by `spotpython`.\n",
        "* `_L_in`: the number of input features. Since the `Diabetes` data set has 10 features, `_L_in` is set to 10.\n",
        "* `_L_out`: the number of output features. Since we want to predict a single value, `_L_out` is set to 1.\n",
        "\n",
        "The `HyperLight` class is used to define the objective function `fun`.\n",
        "It connects the `PyTorch` and the `spotpython` methods and is provided by `spotpython`.\n"
      ],
      "id": "eec2198f"
    },
    {
      "cell_type": "code",
      "metadata": {},
      "source": [
        "#| label: 601_spotpython_setup\n",
        "\n",
        "from spotpython.data.diabetes import Diabetes\n",
        "from spotpython.hyperdict.light_hyper_dict import LightHyperDict\n",
        "from spotpython.fun.hyperlight import HyperLight\n",
        "from spotpython.utils.init import (fun_control_init, surrogate_control_init, design_control_init)\n",
        "from spotpython.utils.eda import gen_design_table\n",
        "from spotpython.spot import spot\n",
        "from spotpython.utils.file import get_experiment_filename\n",
        "\n",
        "PREFIX=\"601\"\n",
        "\n",
        "data_set = Diabetes()\n",
        "\n",
        "fun_control = fun_control_init(\n",
        "    PREFIX=PREFIX,\n",
        "    save_experiment=True,\n",
        "    fun_evals=inf,\n",
        "    max_time=1,\n",
        "    data_set = data_set,\n",
        "    core_model_name=\"light.regression.NNLinearRegressor\",\n",
        "    hyperdict=LightHyperDict,\n",
        "    _L_in=10,\n",
        "    _L_out=1)\n",
        "\n",
        "fun = HyperLight().fun"
      ],
      "id": "spotpython_setup",
      "execution_count": null,
      "outputs": []
    },
    {
      "cell_type": "markdown",
      "metadata": {},
      "source": [
        "The method `set_hyperparameter` allows the user to modify default hyperparameter settings.\n",
        "Here we modify some hyperparameters to keep the model small and to decrease the tuning time.\n"
      ],
      "id": "98e9c88b"
    },
    {
      "cell_type": "code",
      "metadata": {},
      "source": [
        "from spotpython.hyperparameters.values import set_hyperparameter\n",
        "set_hyperparameter(fun_control, \"optimizer\", [ \"Adadelta\", \"Adam\", \"Adamax\"])\n",
        "set_hyperparameter(fun_control, \"l1\", [3,4])\n",
        "set_hyperparameter(fun_control, \"epochs\", [3,7])\n",
        "set_hyperparameter(fun_control, \"batch_size\", [4,11])\n",
        "set_hyperparameter(fun_control, \"dropout_prob\", [0.0, 0.025])\n",
        "set_hyperparameter(fun_control, \"patience\", [2,3])\n",
        "\n",
        "design_control = design_control_init(init_size=10)\n",
        "\n",
        "print(gen_design_table(fun_control))"
      ],
      "id": "e3389ed9",
      "execution_count": null,
      "outputs": []
    },
    {
      "cell_type": "markdown",
      "metadata": {},
      "source": [
        "Finally, a `Spot` object is created.\n",
        "Calling the method `run()` starts the hyperparameter tuning process.\n"
      ],
      "id": "32f7635a"
    },
    {
      "cell_type": "code",
      "metadata": {},
      "source": [
        "#| label: 601_run\n",
        "spot_tuner = spot.Spot(fun=fun,fun_control=fun_control, design_control=design_control)\n",
        "res = spot_tuner.run()"
      ],
      "id": "run",
      "execution_count": null,
      "outputs": []
    },
    {
      "cell_type": "markdown",
      "metadata": {},
      "source": [
        "## Looking at the Results\n",
        "\n",
        "### Tuning Progress\n",
        "\n",
        "After the hyperparameter tuning run is finished, the progress of the hyperparameter tuning can be visualized with `spotpython`'s method `plot_progress`. The black points represent the performace values (score or metric) of  hyperparameter configurations from the initial design, whereas the red points represents the  hyperparameter configurations found by the surrogate model based optimization.\n"
      ],
      "id": "c9a52d4b"
    },
    {
      "cell_type": "code",
      "metadata": {},
      "source": [
        "#| label: 601_plot_progress_1\n",
        "spot_tuner.plot_progress()"
      ],
      "id": "plot_progress_1",
      "execution_count": null,
      "outputs": []
    },
    {
      "cell_type": "markdown",
      "metadata": {},
      "source": [
        "### Tuned Hyperparameters and Their Importance\n",
        "\n",
        "Results can be printed in tabular form.\n"
      ],
      "id": "fb3c20ae"
    },
    {
      "cell_type": "code",
      "metadata": {},
      "source": [
        "from spotpython.utils.eda import gen_design_table\n",
        "print(gen_design_table(fun_control=fun_control, spot=spot_tuner))"
      ],
      "id": "cc45041a",
      "execution_count": null,
      "outputs": []
    },
    {
      "cell_type": "markdown",
      "metadata": {},
      "source": [
        "A histogram can be used to visualize the most important hyperparameters.\n"
      ],
      "id": "e8a695cd"
    },
    {
      "cell_type": "code",
      "metadata": {},
      "source": [
        "spot_tuner.plot_importance(threshold=1.0)"
      ],
      "id": "8c174529",
      "execution_count": null,
      "outputs": []
    },
    {
      "cell_type": "code",
      "metadata": {},
      "source": [
        "spot_tuner.plot_important_hyperparameter_contour(max_imp=3)"
      ],
      "id": "07310b07",
      "execution_count": null,
      "outputs": []
    },
    {
      "cell_type": "markdown",
      "metadata": {},
      "source": [
        "### Get the Tuned Architecture {#sec-get-spot-results-601}\n"
      ],
      "id": "1cc56bb2"
    },
    {
      "cell_type": "code",
      "metadata": {},
      "source": [
        "import pprint\n",
        "from spotpython.hyperparameters.values import get_tuned_architecture\n",
        "config = get_tuned_architecture(spot_tuner, fun_control)\n",
        "pprint.pprint(config)"
      ],
      "id": "b8bcbf97",
      "execution_count": null,
      "outputs": []
    },
    {
      "cell_type": "markdown",
      "metadata": {},
      "source": [
        "### Test on the full data set\n"
      ],
      "id": "0d07eebe"
    },
    {
      "cell_type": "code",
      "metadata": {},
      "source": [
        "# set the value of the key \"TENSORBOARD_CLEAN\" to True in the fun_control dictionary and use the update() method to update the fun_control dictionary\n",
        "fun_control.update({\"TENSORBOARD_CLEAN\": True})\n",
        "fun_control.update({\"tensorboard_log\": True})"
      ],
      "id": "e0594dc1",
      "execution_count": null,
      "outputs": []
    },
    {
      "cell_type": "code",
      "metadata": {},
      "source": [
        "from spotpython.light.testmodel import test_model\n",
        "from spotpython.utils.init import get_feature_names\n",
        "\n",
        "test_model(config, fun_control)\n",
        "get_feature_names(fun_control)"
      ],
      "id": "d89b3ed5",
      "execution_count": null,
      "outputs": []
    },
    {
      "cell_type": "markdown",
      "metadata": {},
      "source": [
        "## Cross Validation With Lightning\n",
        "\n",
        "* The `KFold` class from `sklearn.model_selection` is used to generate the folds for cross-validation.\n",
        "* These mechanism is used to generate the folds for the final evaluation of the model.\n",
        "* The `CrossValidationDataModule` class [[SOURCE]](https://github.com/sequential-parameter-optimization/spotpython/blob/main/src/spotpython/data/lightcrossvalidationdatamodule.py) is used to generate the folds for the hyperparameter tuning process.\n",
        "* It is called from the `cv_model` function [[SOURCE]](https://github.com/sequential-parameter-optimization/spotpython/blob/main/src/spotpython/light/cvmodel.py).\n"
      ],
      "id": "01d69c9b"
    },
    {
      "cell_type": "code",
      "metadata": {},
      "source": [
        "config"
      ],
      "id": "3e0b9220",
      "execution_count": null,
      "outputs": []
    },
    {
      "cell_type": "code",
      "metadata": {},
      "source": [
        "from spotpython.light.cvmodel import cv_model\n",
        "fun_control.update({\"k_folds\": 2})\n",
        "fun_control.update({\"test_size\": 0.6})\n",
        "cv_model(config, fun_control)"
      ],
      "id": "549df53d",
      "execution_count": null,
      "outputs": []
    },
    {
      "cell_type": "markdown",
      "metadata": {},
      "source": [
        "## Extending the Basic Setup\n",
        "\n",
        "This basic setup can be adapted to user-specific needs in many ways. For example, the user can specify a custom data set, a custom model, or a custom loss function.\n",
        "The following sections provide more details on how to customize the hyperparameter tuning process.\n",
        "Before we proceed, we will provide an overview of the basic settings of the hyperparameter tuning process and explain the parameters used so far.\n",
        "\n",
        "### General Experiment Setup {#sec-general-experiment-setup-601}\n",
        "\n",
        "To keep track of the different experiments, we use a `PREFIX` for the experiment name. The `PREFIX` is used to create a unique experiment name. The `PREFIX` is also used to create a unique TensorBoard folder, which is used to store the TensorBoard log files.\n",
        "\n",
        "`spotpython` allows the specification of two different types of stopping criteria: first, the number of function evaluations (`fun_evals`), and second, the maximum run time in seconds (`max_time`). Here, we will set the number of function evaluations to infinity and the maximum run time to one minute.\n",
        "\n",
        "`max_time` is set to one minute for demonstration purposes. For real experiments, this value should be increased.\n",
        "Note,  the total run time may exceed the specified `max_time`, because the initial design is always evaluated, even if this takes longer than `max_time`.\n",
        "\n",
        "\n",
        "### Data Setup {#sec-data-601}\n",
        "\n",
        "Here, we have provided the `Diabetes` data set class, which is a subclass of `torch.utils.data.Dataset`. \n",
        "Data preprocessing is handled by `Lightning` and `PyTorch`. It is described in the [LIGHTNINGDATAMODULE](https://lightning.ai/docs/pytorch/stable/data/datamodule.html) documentation. \n",
        "\n",
        "The data splitting, i.e., the generation of training, validation, and testing data, is handled by `Lightning`.\n",
        "\n",
        "\n",
        "### Objective Function `fun` {#sec-the-objective-function-601}\n",
        "\n",
        "The objective function `fun` from the class `HyperLight` [[SOURCE]](https://github.com/sequential-parameter-optimization/spotpython/blob/main/src/spotpython/fun/hyperlight.py) is selected next. It implements an interface from `PyTorch`'s training, validation, and testing methods to `spotpython`.\n",
        "\n",
        "### Core-Model Setup\n",
        "\n",
        "By using `core_model_name = \"light.regression.NNLinearRegressor\"`, the `spotpython` model class `NetLightRegression` [[SOURCE]](https://sequential-parameter-optimization.github.io/spotpython/reference/spotpython/light/regression/netlightregression/) from the `light.regression` module is selected.\n",
        "\n",
        "### Hyperdict Setup\n",
        "\n",
        "For a given `core_model_name`, the corresponding hyperparameters are automatically loaded from the associated dictionary, which is stored as a JSON file. The JSON file contains hyperparameter type information, names, and bounds. For `spotpython` models, the hyperparameters are stored in the `LightHyperDict`, see [[SOURCE]](https://github.com/sequential-parameter-optimization/spotpython/blob/main/src/spotpython/hyperdict/light_hyper_dict.json)\n",
        "Alternatively, you can load a local hyper_dict.\n",
        "The `hyperdict`  uses the default hyperparameter settings. These can be modified as described in @sec-modifying-hyperparameter-levels.\n",
        "\n",
        "### Other Settings {#sec-other-settings-601}\n",
        "\n",
        "There are several additional parameters that can be specified, e.g., since we did not specify a loss function, `mean_squared_error` is used, which is the default loss function. These will be explained in more detail in the following sections.\n",
        "\n",
        "\n",
        "## Tensorboard {#sec-tensorboard-601}\n",
        "\n",
        "The textual output shown in the console (or code cell) can be visualized with Tensorboard, if the argument `tensorboard_log` to `fun_control_init()` is set to `True`. The Tensorboard log files are stored in the `runs` folder. To start Tensorboard, run the following command in the terminal:\n",
        "\n",
        "\n",
        "\n",
        "```{raw}\n",
        "tensorboard --logdir=\"runs/\"\n",
        "```\n",
        "\n",
        "\n",
        "Further information can be found in the [PyTorch Lightning documentation](https://lightning.ai/docs/pytorch/stable/api/lightning.pytorch.loggers.tensorboard.html) for Tensorboard.\n",
        "\n",
        "## Loading the Saved Experiment and Getting the Hyperparameters of the Tuned Model\n",
        "\n",
        "To get the tuned hyperparameters as a dictionary, the `get_experiment_from_PREFIX` function can be used.\n"
      ],
      "id": "d9563737"
    },
    {
      "cell_type": "code",
      "metadata": {},
      "source": [
        "from spotpython.utils.file import get_experiment_from_PREFIX\n",
        "config = get_experiment_from_PREFIX(\"601\")[\"config\"]\n",
        "config"
      ],
      "id": "5b24feec",
      "execution_count": null,
      "outputs": []
    },
    {
      "cell_type": "markdown",
      "metadata": {},
      "source": [
        "## Using the `spotgui`\n",
        "\n",
        "The `spotgui` [[github]](https://github.com/sequential-parameter-optimization/spotGUI) provides a convenient way to interact with the hyperparameter tuning process.\n",
        "To obtain the settings from @sec-basic-setup-601, the `spotgui` can be started as shown in @fig-spotgui.\n",
        "\n",
        "![spotgui](./figures_static/024_gui.png){width=100% #fig-spotgui}\n",
        "\n",
        "## Summary\n",
        "\n",
        "This section presented an introduction to the basic setup of hyperparameter tuning with `spotpython` and `PyTorch` Lightning.\n"
      ],
      "id": "0106ae4e"
    }
  ],
  "metadata": {
    "kernelspec": {
      "name": "python3",
      "language": "python",
      "display_name": "Python 3 (ipykernel)",
      "path": "/Users/bartz/miniforge3/envs/spot312/share/jupyter/kernels/python3"
    }
  },
  "nbformat": 4,
  "nbformat_minor": 5
}