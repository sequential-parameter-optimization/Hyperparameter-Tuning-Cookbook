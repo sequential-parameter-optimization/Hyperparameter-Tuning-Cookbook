{
  "cells": [
    {
      "cell_type": "markdown",
      "metadata": {},
      "source": [
        "---\n",
        "execute:\n",
        "  cache: false\n",
        "  eval: true\n",
        "  echo: true\n",
        "  warning: false\n",
        "jupyter: python3\n",
        "---\n",
        "\n",
        "\n",
        "# Pytorch Lightning: Hyperparameter Tuning with Diabetes Data\n"
      ],
      "id": "ff1ab04d"
    },
    {
      "cell_type": "code",
      "metadata": {},
      "source": [
        "#| echo: false\n",
        "#| label: 100_imports\n",
        "import numpy as np\n",
        "import os\n",
        "from math import inf\n",
        "import numpy as np\n",
        "import warnings\n",
        "if not os.path.exists('./figures'):\n",
        "    os.makedirs('./figures')\n",
        "warnings.filterwarnings(\"ignore\")"
      ],
      "id": "imports",
      "execution_count": null,
      "outputs": []
    },
    {
      "cell_type": "markdown",
      "metadata": {},
      "source": [
        "In this tutorial, we will show how `spotPython` can be integrated into the `PyTorch` Lightning\n",
        "training workflow for a regression task.\n",
        "\n",
        "## The Diabetes Data Set {#sec-the-diabetes-data-set-100}\n",
        "\n",
        "This chapter describes the hyperparameter tuning of a `PyTorch Lightning` network on the Diabetes data set. This is a PyTorch Dataset for regression. A toy data set from scikit-learn. Ten baseline variables, age, sex, body mass index, average blood pressure, and six blood serum measurements were obtained for each of n = 442 diabetes patients,  as well as the response of interest, a quantitative measure of disease progression one year after baseline.\n",
        "\n",
        "### Data Exploration of the sklearn Diabetes Data Set\n"
      ],
      "id": "697c471d"
    },
    {
      "cell_type": "code",
      "metadata": {},
      "source": [
        "from sklearn.datasets import load_diabetes\n",
        "from spotPython.plot.xy import plot_y_vs_X\n",
        "data = load_diabetes()\n",
        "X, y = data.data, data.target\n",
        "plot_y_vs_X(X, y, nrows=5, ncols=2, figsize=(20, 15))"
      ],
      "id": "32e511a3",
      "execution_count": null,
      "outputs": []
    },
    {
      "cell_type": "markdown",
      "metadata": {},
      "source": [
        "* Each of these 10 feature variables have been mean centered and scaled by the standard deviation times the square root of n_samples (i.e. the sum of squares of each column totals 1).\n",
        "\n",
        "* HDL (high-density lipoprotein) cholesterol, sometimes called “good” cholesterol, absorbs cholesterol in the blood and carries it back to the liver.\n",
        "* The liver then flushes it from the body.\n",
        "* High levels of HDL cholesterol can lower your risk for heart disease and stroke.\n",
        "\n",
        "### Generating the PyTorch data set\n"
      ],
      "id": "89909cc4"
    },
    {
      "cell_type": "code",
      "metadata": {},
      "source": [
        "from spotPython.data.diabetes import Diabetes\n",
        "data_set = Diabetes()\n",
        "print(len(data_set))\n",
        "print(data_set.names)"
      ],
      "id": "bafde5ff",
      "execution_count": null,
      "outputs": []
    },
    {
      "cell_type": "markdown",
      "metadata": {},
      "source": [
        "## Setup{#sec-setup-24}\n",
        "\n",
        "### General Experiment Setup{#sec-general-experiment-setup-24}\n",
        "\n",
        "To keep track of the different experiments, we use a `PREFIX` for the experiment name. The `PREFIX` is used to create a unique experiment name. The `PREFIX` is also used to create a unique TensorBoard folder, which is used to store the TensorBoard log files.\n",
        "\n",
        "`spotpython` allows the specification of two different types of stopping criteria: first, the number of function evaluations (`fun_evals`), and second, the maximum run time in seconds (`max_time`). Here, we will set the number of function evaluations to infinity and the maximum run time to one minute.\n",
        "\n",
        "Furthermore, we set the initial design size (`init_size`) to 10. The initial design is used to train the surrogate model. The surrogate model is used to predict the performance of the hyperparameter configurations. The initial design is also used to train the first model. Since the `init_size` belongs to the experimental design, it is set in the `design_control` dictionary, see [[SOURCE]](https://sequential-parameter-optimization.github.io/spotPython/reference/spotPython/utils/init/#spotPython.utils.init.design_control_init).\n",
        "\n",
        "`max_time` is set to one minute for demonstration purposes and `init_size` is set to 10 for demonstration purposes. For real experiments, these values should be increased.\n",
        "Note,  the total run time may exceed the specified `max_time`, because the initial design is always evaluated, even if this takes longer than `max_time`.\n",
        "\n",
        "The following parameters are used to specify the general experiment setup:\n"
      ],
      "id": "214b11ce"
    },
    {
      "cell_type": "code",
      "metadata": {},
      "source": [
        "#| label: 024_sum_exp\n",
        "PREFIX = \"100\"\n",
        "fun_evals = inf\n",
        "max_time = 1\n",
        "init_size = 10"
      ],
      "id": "sum_exp",
      "execution_count": null,
      "outputs": []
    },
    {
      "cell_type": "markdown",
      "metadata": {},
      "source": [
        "### Data Preprocessing {#sec-preprocessing-100}\n",
        "\n",
        "Preprocessing is handled by `Lightning` and `PyTorch`. It is described in the [LIGHTNINGDATAMODULE](https://lightning.ai/docs/pytorch/stable/data/datamodule.html) documentation. Here you can find information about the `transforms` methods.\n",
        "\n",
        "###  Data Splitting\n",
        "\n",
        "The data splitting is handled by `Lightning`.\n",
        "\n",
        "### Loss Function {#sec-loss-function-100}\n",
        "\n",
        "The loss function is specified in the configurable network class [[SOURCE]](https://github.com/sequential-parameter-optimization/spotPython/blob/main/src/spotPython/light/regression/nn_linear_regressor.py).\n",
        "We will use the mean squared error (MSE) as the loss function. i.e., from `torchmetrics` the function ` mean_squared_error`, see [[SOURCE]](https://github.com/Lightning-AI/torchmetrics/blob/master/src/torchmetrics/functional/regression/mse.py).\n",
        "The user can specify any of the loss functions from `torchmetrics` via the argument `_torchmetric` in the `fun_control` dictionary, see [[SOURCE]](https://sequential-parameter-optimization.github.io/spotPython/reference/spotPython/utils/init/#spotPython.utils.init.fun_control_init).\n",
        "\n",
        "A detailed description of the loss functions (torchmetrics) is presented in @sec-torchmetrics-100.\n",
        "\n",
        "\n",
        "### The Objective Function `fun` {#sec-the-objective-function-31}\n",
        "\n",
        "The objective function `fun` from the class `HyperLight` [[SOURCE]](https://github.com/sequential-parameter-optimization/spotPython/blob/main/src/spotPython/fun/hyperlight.py) is selected next. It implements an interface from `PyTorch`'s training, validation, and testing methods to `spotPython`.\n"
      ],
      "id": "cbf6c482"
    },
    {
      "cell_type": "code",
      "metadata": {},
      "source": [
        "from spotPython.fun.hyperlight import HyperLight\n",
        "fun = HyperLight().fun"
      ],
      "id": "7958be1f",
      "execution_count": null,
      "outputs": []
    },
    {
      "cell_type": "markdown",
      "metadata": {},
      "source": [
        "### Model Setup\n",
        "\n",
        "By using `core_model_name = \"light.regression.NNLinearRegressor\"`, the `spotPython` model class `NetLightRegression` [[SOURCE]](https://sequential-parameter-optimization.github.io/spotPython/reference/spotPython/light/regression/netlightregression/) from the `light.regression` module is selected.\n",
        "For a given `core_model_name`, the corresponding hyperparameters are automatically loaded from the associated dictionary, which is stored as a JSON file. The JSON file contains hyperparameter type information, names, and bounds. For `spotPython` models, the hyperparameters are stored in the `LightHyperDict`, see [[SOURCE]](https://github.com/sequential-parameter-optimization/spotPython/blob/main/src/spotPython/hyperdict/light_hyper_dict.json)\n",
        "Alternatively, you can load a local hyper_dict.\n",
        "The `hyperdict`  uses the default hyperparameter settings. These can be modified as described in @sec-modifying-hyperparameter-levels.\n",
        "\n",
        "The following parameters are used for the model setup:\n"
      ],
      "id": "fa7df1e0"
    },
    {
      "cell_type": "code",
      "metadata": {},
      "source": [
        "#| label: 100_sum_model-setup\n",
        "from spotPython.hyperdict.light_hyper_dict import LightHyperDict\n",
        "core_model_name = \"light.regression.NNLinearRegressor\"\n",
        "hyperdict = LightHyperDict\n",
        "_L_in=10\n",
        "_L_out=1"
      ],
      "id": "sum_model-setup",
      "execution_count": null,
      "outputs": []
    },
    {
      "cell_type": "markdown",
      "metadata": {},
      "source": [
        "### Surrogate Model Setup\n",
        "\n",
        "The default surrogate model is the `Kriging` model, see [[SOURCE]](https://sequential-parameter-optimization.github.io/spotPython/reference/spotPython/build/kriging/). We specify `noise` as `True` to include noise in the model. An `anisotropic` kernel is used, which allows different length scales for each dimension, by setting `n_theta = 2`. Furthermore, the interval for the `Lambda` value is set to `[1e-3, 1e2]`.\n",
        "\n",
        "These parameters are set in the `surrogate_control` dictionary and therefore passed  to the `surrogate_control_init` function [[SOURCE]](https://sequential-parameter-optimization.github.io/spotPython/reference/spotPython/utils/init/#spotPython.utils.init.surrogate_control_init).\n"
      ],
      "id": "c4e57db1"
    },
    {
      "cell_type": "code",
      "metadata": {},
      "source": [
        "#| label: 100_surrogate_control_setup\n",
        "noise = True\n",
        "n_theta = 2\n",
        "min_Lambda = 1e-3\n",
        "max_Lambda = 10"
      ],
      "id": "surrogate_control_setup",
      "execution_count": null,
      "outputs": []
    },
    {
      "cell_type": "markdown",
      "metadata": {},
      "source": [
        "### Summary: Setting up the Experiment {#sec-summary-setting-up-the-experiment-24}\n",
        "\n",
        "At this stage, all required information is available to set up the dictionaries for the hyperparameter tuning.\n",
        "The class `Spot` [[SOURCE]](https://github.com/sequential-parameter-optimization/spotPython/blob/main/src/spotPython/spot/spot.py) is the hyperparameter tuning workhorse. It is initialized with the following parameters, which were specified above.\n",
        "\n",
        "* `fun`: the objective function\n",
        "* `fun_control`: the dictionary with the control parameters for the objective function\n",
        "* `design_control`: the dictionary with the control parameters for the experimental design\n",
        "* `surrogate_control`: the dictionary with the control parameters for the surrogate model\n",
        "* `optimizer_control`: the dictionary with the control parameters for the optimizer\n",
        "\n",
        "`spotpython` allows maximum flexibility in the definition of the hyperparameter tuning setup. Alternative surrogate models, optimizers, and experimental designs can be used. Thus, interfaces for the `surrogate` model, experimental `design`, and `optimizer` are provided. The default surrogate model is the kriging model, the default optimizer is the differential evolution, and default experimental design is the Latin hypercube design.\n",
        "\n",
        "The information discussed so far can be summarized as follows:\n"
      ],
      "id": "eba4f91f"
    },
    {
      "cell_type": "code",
      "metadata": {},
      "source": [
        "#| label: 100_summary_control\n",
        "from spotPython.data.diabetes import Diabetes\n",
        "from spotPython.hyperdict.light_hyper_dict import LightHyperDict\n",
        "from spotPython.fun.hyperlight import HyperLight\n",
        "from spotPython.utils.init import (fun_control_init, surrogate_control_init)\n",
        "\n",
        "\n",
        "fun = HyperLight().fun\n",
        "\n",
        "fun_control = fun_control_init(\n",
        "    PREFIX=\"100\",\n",
        "    fun_evals=inf,\n",
        "    max_time=1,\n",
        "    data_set = Diabetes(),\n",
        "    core_model_name=\"light.regression.NNLinearRegressor\",\n",
        "    hyperdict=LightHyperDict,\n",
        "    _L_in=10,\n",
        "    _L_out=1,\n",
        "    _torchmetric=\"mean_squared_error\",\n",
        "    TENSORBOARD_CLEAN=True,\n",
        "   )\n",
        "surrogate_control = surrogate_control_init(n_theta=2, noise=True, min_Lambda=1e-3, max_Lambda=10)"
      ],
      "id": "summary_control",
      "execution_count": null,
      "outputs": []
    },
    {
      "cell_type": "markdown",
      "metadata": {},
      "source": [
        "### Checking the Experimental Design\n"
      ],
      "id": "65b5ef23"
    },
    {
      "cell_type": "code",
      "metadata": {},
      "source": [
        "from spotPython.utils.eda import gen_design_table\n",
        "print(gen_design_table(fun_control))"
      ],
      "id": "5c1e010b",
      "execution_count": null,
      "outputs": []
    },
    {
      "cell_type": "code",
      "metadata": {},
      "source": [
        "from spotPython.hyperparameters.values import set_hyperparameter\n",
        "set_hyperparameter(fun_control, \"initialization\", [\"Default\"])\n",
        "print(gen_design_table(fun_control))"
      ],
      "id": "a54f0905",
      "execution_count": null,
      "outputs": []
    },
    {
      "cell_type": "markdown",
      "metadata": {},
      "source": [
        ":::\n",
        "\n",
        "## Tensorboard {#sec-tensorboard-100}\n",
        "\n",
        "The textual output shown in the console (or code cell) can be visualized with Tensorboard.\n",
        "\n",
        "\n",
        "\n",
        "```{raw}\n",
        "tensorboard --logdir=\"runs/\"\n",
        "```\n",
        "\n",
        "\n",
        "Further information can be found in the [PyTorch Lightning documentation](https://lightning.ai/docs/pytorch/stable/api/lightning.pytorch.loggers.tensorboard.html) for Tensorboard.\n",
        "\n",
        "## Running the Hyperparameter Tuning Experiment\n"
      ],
      "id": "761e6241"
    },
    {
      "cell_type": "code",
      "metadata": {},
      "source": [
        "#| label: 100_spot_run\n",
        "from spotPython.spot import spot\n",
        "spot_tuner = spot.Spot(\n",
        "    fun=fun,\n",
        "    fun_control=fun_control,\n",
        "    surrogate_control=surrogate_control,\n",
        ")\n",
        "res = spot_tuner.run()"
      ],
      "id": "spot_run",
      "execution_count": null,
      "outputs": []
    },
    {
      "cell_type": "markdown",
      "metadata": {},
      "source": [
        "## Using the `spotgui`\n",
        "\n",
        "The `spotgui` [[github]](https://github.com/sequential-parameter-optimization/spotGUI) provides a convenient way to interact with the hyperparameter tuning process.\n",
        "To obtain the settings from @sec-summary-setting-up-the-experiment-24, the `spotgui` can be started as shown in @fig-spotgui.\n",
        "\n",
        "![spotgui](./figures_static/024_gui.png){width=100% #fig-spotgui}\n",
        "\n",
        "\n",
        "## Results\n",
        "\n",
        "### Progress Plot\n",
        "\n",
        "\n",
        "After the hyperparameter tuning run is finished, the progress of the hyperparameter tuning can be visualized with `spotpython`'s method `plot_progress`. The black points represent the performace values (score or metric) of  hyperparameter configurations from the initial design, whereas the red points represents the  hyperparameter configurations found by the surrogate model based optimization.\n"
      ],
      "id": "ec26e4ec"
    },
    {
      "cell_type": "code",
      "metadata": {},
      "source": [
        "spot_tuner.plot_progress(log_y=True, filename=None)"
      ],
      "id": "fd51f55d",
      "execution_count": null,
      "outputs": []
    },
    {
      "cell_type": "markdown",
      "metadata": {},
      "source": [
        "### Tuned Hyperparameters and Their Importance\n",
        "\n",
        "Results can be printed in tabular form.\n"
      ],
      "id": "db13549b"
    },
    {
      "cell_type": "code",
      "metadata": {},
      "source": [
        "from spotPython.utils.eda import gen_design_table\n",
        "print(gen_design_table(fun_control=fun_control, spot=spot_tuner))"
      ],
      "id": "cd7b053c",
      "execution_count": null,
      "outputs": []
    },
    {
      "cell_type": "markdown",
      "metadata": {},
      "source": [
        "A histogram can be used to visualize the most important hyperparameters.\n"
      ],
      "id": "26f56b96"
    },
    {
      "cell_type": "code",
      "metadata": {},
      "source": [
        "spot_tuner.plot_importance(threshold=10.0)"
      ],
      "id": "f9ba6884",
      "execution_count": null,
      "outputs": []
    },
    {
      "cell_type": "markdown",
      "metadata": {},
      "source": [
        "### Detailed Hyperparameter Plots\n"
      ],
      "id": "503704f4"
    },
    {
      "cell_type": "code",
      "metadata": {},
      "source": [
        "#| label: 024_plot_important_hyperparameter_contour\n",
        "spot_tuner.plot_important_hyperparameter_contour(max_imp=3)"
      ],
      "id": "plot_important_hyperparameter_contour",
      "execution_count": null,
      "outputs": []
    },
    {
      "cell_type": "markdown",
      "metadata": {},
      "source": [
        "### Parallel Coordinates Plots\n"
      ],
      "id": "90c97297"
    },
    {
      "cell_type": "code",
      "metadata": {},
      "source": [
        "#| label: 024_parallel_plot\n",
        "spot_tuner.parallel_plot()"
      ],
      "id": "parallel_plot",
      "execution_count": null,
      "outputs": []
    },
    {
      "cell_type": "markdown",
      "metadata": {},
      "source": [
        "## Load the saved experiment and get the hyperparameters (tuned architecture)\n"
      ],
      "id": "2d0dfd07"
    },
    {
      "cell_type": "code",
      "metadata": {},
      "source": [
        "from spotPython.utils.file import get_experiment_from_PREFIX\n",
        "config = get_experiment_from_PREFIX(\"100\")[\"config\"]\n",
        "config"
      ],
      "id": "f7f9ed5c",
      "execution_count": null,
      "outputs": []
    },
    {
      "cell_type": "markdown",
      "metadata": {},
      "source": [
        "### Cross Validation With Lightning\n",
        "\n",
        "* The `KFold` class from `sklearn.model_selection` is used to generate the folds for cross-validation.\n",
        "* These mechanism is used to generate the folds for the final evaluation of the model.\n",
        "* The `CrossValidationDataModule` class [[SOURCE]](https://github.com/sequential-parameter-optimization/spotPython/blob/main/src/spotPython/data/lightcrossvalidationdatamodule.py) is used to generate the folds for the hyperparameter tuning process.\n",
        "* It is called from the `cv_model` function [[SOURCE]](https://github.com/sequential-parameter-optimization/spotPython/blob/main/src/spotPython/light/cvmodel.py).\n"
      ],
      "id": "e8a094e9"
    },
    {
      "cell_type": "code",
      "metadata": {},
      "source": [
        "from spotPython.light.cvmodel import cv_model\n",
        "from spotPython.hyperparameters.values import set_control_key_value\n",
        "set_control_key_value(control_dict=fun_control,\n",
        "                        key=\"k_folds\",\n",
        "                        value=2,\n",
        "                        replace=True)\n",
        "set_control_key_value(control_dict=fun_control,\n",
        "                        key=\"test_size\",\n",
        "                        value=0.6,\n",
        "                        replace=True)\n",
        "cv_model(config, fun_control)"
      ],
      "id": "51147b9a",
      "execution_count": null,
      "outputs": []
    },
    {
      "cell_type": "markdown",
      "metadata": {},
      "source": [
        "## Test on the full data set\n"
      ],
      "id": "b6a943ef"
    },
    {
      "cell_type": "code",
      "metadata": {},
      "source": [
        "from spotPython.light.testmodel import test_model\n",
        "test_model(config, fun_control)"
      ],
      "id": "80813270",
      "execution_count": null,
      "outputs": []
    },
    {
      "cell_type": "markdown",
      "metadata": {},
      "source": [
        "## Load the last model\n"
      ],
      "id": "e711cede"
    },
    {
      "cell_type": "code",
      "metadata": {},
      "source": [
        "from spotPython.light.loadmodel import load_light_from_checkpoint\n",
        "model_loaded = load_light_from_checkpoint(config, fun_control)"
      ],
      "id": "472a00ef",
      "execution_count": null,
      "outputs": []
    },
    {
      "cell_type": "code",
      "metadata": {},
      "source": [
        "from spotPython.utils.init import get_feature_names\n",
        "get_feature_names(fun_control)"
      ],
      "id": "57f03564",
      "execution_count": null,
      "outputs": []
    },
    {
      "cell_type": "markdown",
      "metadata": {},
      "source": [
        "### Integrated Gradients\n"
      ],
      "id": "70509bb2"
    },
    {
      "cell_type": "code",
      "metadata": {},
      "source": [
        "from spotPython.plot.xai import get_attributions, plot_attributions\n",
        "df = get_attributions(spot_tuner, fun_control, attr_method=\"IntegratedGradients\")\n",
        "print(df)\n",
        "plot_attributions(df)"
      ],
      "id": "255c2961",
      "execution_count": null,
      "outputs": []
    },
    {
      "cell_type": "markdown",
      "metadata": {},
      "source": [
        "### Deep Lift\n"
      ],
      "id": "75059c14"
    },
    {
      "cell_type": "code",
      "metadata": {},
      "source": [
        "df = get_attributions(spot_tuner, fun_control, attr_method=\"DeepLift\")\n",
        "print(df)\n",
        "plot_attributions(df,  attr_method=\"DeepLift\")"
      ],
      "id": "9c751a8b",
      "execution_count": null,
      "outputs": []
    },
    {
      "cell_type": "markdown",
      "metadata": {},
      "source": [
        "### Feature Ablation\n"
      ],
      "id": "9b752856"
    },
    {
      "cell_type": "code",
      "metadata": {},
      "source": [
        "df = get_attributions(spot_tuner, fun_control, attr_method=\"FeatureAblation\")\n",
        "print(df)\n",
        "plot_attributions(df, attr_method=\"FeatureAblation\")"
      ],
      "id": "b93e336f",
      "execution_count": null,
      "outputs": []
    },
    {
      "cell_type": "markdown",
      "metadata": {},
      "source": [
        "## Visualizing the Activations, Weights, and Gradients\n",
        "\n",
        "In neural networks, activations, weights, and gradients are fundamental concepts that play different.\n",
        "\n",
        "1. Activations:\n",
        "\n",
        "   Activations refer to the outputs of neurons after applying an activation function. In neural networks, the input passes through each neuron of the network layers, where each unit calculates a weighted sum of its inputs and then applies a non-linear activation function (such as ReLU, Sigmoid, or Tanh). These activation functions help introduce non-linearity into the model, enabling the neural network to learn complex relationships between the input data and the predictions. In short, activations are the outputs that are forwarded by the neurons after applying the activation function.\n",
        "\n",
        "2. Weights:\n",
        "\n",
        "   Weights are parameters within a neural network that control the strength of the connection between two neurons in successive layers. They are adjusted during the training process to enable the neural network to perform the desired task as well as possible. Each input is multiplied by a weight, and the neural network learns by adjusting these weights based on the error between the predictions and the actual values. Adjusting the weights allows the network to recognize patterns and relationships in the input data and use them for predictions or classifications.\n",
        "\n",
        "3. Gradients:\n",
        "\n",
        "   In the context of machine learning and specifically in neural networks, gradients are a measure of the rate of change or the slope of the loss function (a function that measures how well the network performs in predicting the desired output) with respect to the weights. During the training process, the goal is to minimize the value of the loss function to improve the model’s performance. The gradients indicate the direction and size of the steps that need to be taken to adjust the weights in a way that minimizes the loss (known as gradient descent). By repeatedly adjusting the weights in the opposite direction of the gradient, the network can be effectively trained to improve its prediction accuracy.\n",
        "\n",
        "::: {.callout-note}\n",
        "### Reference:\n",
        "\n",
        "* The following code is based on [[PyTorch Lightning TUTORIAL 2: ACTIVATION FUNCTIONS]](https://lightning.ai/docs/pytorch/stable/notebooks/course_UvA-DL/02-activation-functions.html), Author: Phillip Lippe, License: [[CC BY-SA]](https://creativecommons.org/licenses/by-sa/3.0/), Generated: 2023-03-15T09:52:39.179933.\n",
        "\n",
        ":::\n",
        "\n",
        "After we have trained the models, we can look at the actual activation values that find inside the model. For instance, how many neurons are set to zero in ReLU? Where do we find most values in Tanh? To answer these questions, we can write a simple function which takes a trained model, applies it to a batch of images, and plots the histogram of the activations inside the network:\n"
      ],
      "id": "c216ce5b"
    },
    {
      "cell_type": "code",
      "metadata": {},
      "source": [
        "from spotPython.plot.xai import (get_activations, get_gradients, get_weights, plot_nn_values_hist, plot_nn_values_scatter, visualize_weights, visualize_gradients, visualize_activations, visualize_activations_distributions, visualize_gradient_distributions, visualize_weights_distributions)\n",
        "import pprint"
      ],
      "id": "aef3021a",
      "execution_count": null,
      "outputs": []
    },
    {
      "cell_type": "code",
      "metadata": {},
      "source": [
        "from spotPython.utils.file import get_experiment_from_PREFIX\n",
        "get_experiment_from_PREFIX(\"100\", return_dict=False)\n",
        "pprint.pprint(config)\n",
        "batch_size = config[\"batch_size\"]\n",
        "print(batch_size)"
      ],
      "id": "fd929742",
      "execution_count": null,
      "outputs": []
    },
    {
      "cell_type": "code",
      "metadata": {},
      "source": [
        "from spotPython.light.loadmodel import load_light_from_checkpoint\n",
        "model_loaded = load_light_from_checkpoint(config, fun_control)\n",
        "model = model_loaded.to(\"cpu\")"
      ],
      "id": "12b7569d",
      "execution_count": null,
      "outputs": []
    },
    {
      "cell_type": "markdown",
      "metadata": {},
      "source": [
        "### Weights\n"
      ],
      "id": "a7579567"
    },
    {
      "cell_type": "code",
      "metadata": {},
      "source": [
        "weights, index = get_weights(model, return_index=True)\n",
        "print(index)"
      ],
      "id": "2d1a2e32",
      "execution_count": null,
      "outputs": []
    },
    {
      "cell_type": "code",
      "metadata": {},
      "source": [
        "visualize_weights(model, absolute=True, cmap=\"gray\", figsize=(6, 6))"
      ],
      "id": "842fc226",
      "execution_count": null,
      "outputs": []
    },
    {
      "cell_type": "code",
      "metadata": {},
      "source": [
        "visualize_weights_distributions(model, color=f\"C{0}\")"
      ],
      "id": "2f57df4d",
      "execution_count": null,
      "outputs": []
    },
    {
      "cell_type": "markdown",
      "metadata": {},
      "source": [
        "### Activations\n"
      ],
      "id": "d0374561"
    },
    {
      "cell_type": "code",
      "metadata": {},
      "source": [
        "activations = get_activations(model, fun_control=fun_control, batch_size=batch_size, device = \"cpu\")"
      ],
      "id": "91704c68",
      "execution_count": null,
      "outputs": []
    },
    {
      "cell_type": "code",
      "metadata": {},
      "source": [
        "visualize_activations(model, fun_control=fun_control, batch_size=batch_size, device = \"cpu\", cmap=\"BlueWhiteRed\", absolute=False)"
      ],
      "id": "9874261c",
      "execution_count": null,
      "outputs": []
    },
    {
      "cell_type": "markdown",
      "metadata": {},
      "source": [
        "* Absolute values of the activations are plotted:\n"
      ],
      "id": "79245440"
    },
    {
      "cell_type": "code",
      "metadata": {},
      "source": [
        "visualize_activations(model, fun_control=fun_control, batch_size=batch_size, device = \"cpu\", absolute=True)"
      ],
      "id": "c0bb92b9",
      "execution_count": null,
      "outputs": []
    },
    {
      "cell_type": "code",
      "metadata": {},
      "source": [
        "visualize_activations_distributions(net=model, fun_control=fun_control, batch_size=batch_size, device=\"cpu\", color=\"C0\", columns=2)"
      ],
      "id": "80ad0be1",
      "execution_count": null,
      "outputs": []
    },
    {
      "cell_type": "markdown",
      "metadata": {},
      "source": [
        "### Gradients\n"
      ],
      "id": "4b52b778"
    },
    {
      "cell_type": "code",
      "metadata": {},
      "source": [
        "gradients = get_gradients(model, fun_control, batch_size, device=\"cpu\")"
      ],
      "id": "587cf547",
      "execution_count": null,
      "outputs": []
    },
    {
      "cell_type": "code",
      "metadata": {},
      "source": [
        "visualize_gradients(model, fun_control, batch_size, absolute=True, cmap=\"BlueWhiteRed\", figsize=(6, 6))"
      ],
      "id": "abc95fa6",
      "execution_count": null,
      "outputs": []
    },
    {
      "cell_type": "code",
      "metadata": {},
      "source": [
        "visualize_gradient_distributions(model, fun_control, batch_size=batch_size, color=f\"C{0}\")"
      ],
      "id": "6d8f14ba",
      "execution_count": null,
      "outputs": []
    },
    {
      "cell_type": "markdown",
      "metadata": {},
      "source": [
        "## Layer Conductance\n"
      ],
      "id": "19411005"
    },
    {
      "cell_type": "code",
      "metadata": {},
      "source": [
        "from spotPython.plot.xai import get_weights_conductance_last_layer, plot_conductance_last_layer\n",
        "w, c = get_weights_conductance_last_layer(spot_tuner, fun_control)\n",
        "plot_conductance_last_layer(w,c)"
      ],
      "id": "073f74bb",
      "execution_count": null,
      "outputs": []
    },
    {
      "cell_type": "markdown",
      "metadata": {},
      "source": [
        "## Details of the Implementation\n",
        "\n",
        "### Loss Function {#sec-loss-function-100}\n",
        "\n",
        "\n",
        "The parameter `_torchmetric` is used to specify the metric. Any metric from the `torchmetrics` library can be used.\n",
        "Currently, the following metrics are provided, see [[LINK]](https://lightning.ai/docs/torchmetrics/stable/all-metrics.html):\n",
        "\n",
        "* `concordance_corrcoef`\n",
        "* `cosine_similarity`\n",
        "* `critical_success_index`\n",
        "* `explained_variance`\n",
        "* `kendall_rank_corrcoef`\n",
        "* `kl_divergence`\n",
        "* `log_cosh_error`\n",
        "* `mean_squared_log_error`\n",
        "* `mean_absolute_error`\n",
        "* `mean_squared_error`\n",
        "* `pearson_corrcoef`\n",
        "* `mean_absolute_percentage_error`\n",
        "* `mean_absolute_percentage_error`\n",
        "* `minkowski_distance`\n",
        "* `r2_score`\n",
        "* `relative_squared_error`\n",
        "* `spearman_corrcoef`\n",
        "* `symmetric_mean_absolute_percentage_error`\n",
        "* `tweedie_deviance_score`\n",
        "* `weighted_mean_absolute_percentage_error`\n",
        "\n",
        "\n",
        "\n",
        " The metric is used in the training, validation, and testing steps of the model.\n",
        "\n",
        "\n",
        "`NNLightRegressor` implements a loss function as follows:\n",
        "\n",
        "```python\n",
        "    def _calculate_loss(self, batch):\n",
        "        \"\"\"\n",
        "        Calculate the loss for the given batch.\n",
        "\n",
        "        Args:\n",
        "            batch (tuple): A tuple containing a batch of input data and labels.\n",
        "            mode (str, optional): The mode of the model. Defaults to \"train\".\n",
        "\n",
        "        Returns:\n",
        "            torch.Tensor: A tensor containing the loss for this batch.\n",
        "\n",
        "        \"\"\"\n",
        "        x, y = batch\n",
        "        y = y.view(len(y), 1)\n",
        "        y_hat = self(x)\n",
        "        loss = self.metric(y_hat, y)\n",
        "        return loss\n",
        "```\n",
        "\n",
        "The loss function is used in the training, validation, and testing steps of the model.\n",
        "\n",
        "### Data Handling {#sec-data-handling-100}\n",
        "\n",
        "As shown below, a DataLoader from `torch.utils.data` can be used to check the data. `spotPython` implements a `DataModule` class, which is used to load the data. The `DataModule` class is called from the `fun` function. The `DataModule` class is used to load the data and to split the data into training, validation, and test sets.\n"
      ],
      "id": "da257d53"
    },
    {
      "cell_type": "code",
      "metadata": {},
      "source": [
        "from spotPython.data.diabetes import Diabetes\n",
        "import torch\n",
        "data_set = Diabetes(target_type=torch.float)\n",
        "print(len(data_set))\n",
        "# Set batch size for DataLoader\n",
        "batch_size = 5\n",
        "# Create DataLoader\n",
        "from torch.utils.data import DataLoader\n",
        "dataloader = DataLoader(data_set, batch_size=batch_size, shuffle=False)\n",
        "\n",
        "# Iterate over the data in the DataLoader\n",
        "for batch in dataloader:\n",
        "    inputs, targets = batch\n",
        "    print(f\"Batch Size: {inputs.size(0)}\")\n",
        "    print(f\"Inputs Shape: {inputs.shape}\")\n",
        "    print(f\"Targets Shape: {targets.shape}\")\n",
        "    print(\"---------------\")\n",
        "    print(f\"Inputs: {inputs}\")\n",
        "    print(f\"Targets: {targets}\")\n",
        "    break"
      ],
      "id": "eb47d2ac",
      "execution_count": null,
      "outputs": []
    },
    {
      "cell_type": "markdown",
      "metadata": {},
      "source": [
        "Information related to the data is set in the `fun_control` dictionary, see [[SOURCE]](https://sequential-parameter-optimization.github.io/spotPython/reference/spotPython/utils/init/#spotPython.utils.init.fun_control_init).\n",
        "Specifically, the following parameters are set:\n",
        "\n",
        "* `data_set`: the data set\n",
        "* `num_workers`: the number of workers\n",
        "* `test_size`: the size of the test set\n",
        "* `test_seed`: the seed for the test set\n"
      ],
      "id": "9df21ba7"
    },
    {
      "cell_type": "code",
      "metadata": {},
      "source": [
        "from spotPython.utils.init import fun_control_init\n",
        "from spotPython.data.diabetes import Diabetes\n",
        "data_set = Diabetes(target_type=torch.float)\n",
        "fun_control = fun_control_init(\n",
        "    data_set=data_set,\n",
        "    device=\"cpu\",\n",
        "    enable_progress_bar=False,\n",
        "    num_workers=0,\n",
        "    show_progress=True,\n",
        "    test_size=0.4,\n",
        "    test_seed=42,\n",
        "    )"
      ],
      "id": "4295fcf8",
      "execution_count": null,
      "outputs": []
    },
    {
      "cell_type": "markdown",
      "metadata": {},
      "source": [
        "### `spotPython`'s  `LightDataModule` Class\n",
        "\n",
        "The values from the `fun_control` dictionary are used to set up the `LightDataModule` class, see [[SOURCE]](https://sequential-parameter-optimization.github.io/spotPython/reference/spotPython/data/lightdatamodule/).\n",
        "The parameter `batch_size` is a hyperparameter that can be tuned and therefore not set in the `fun_control` dictionary.\n"
      ],
      "id": "aea21af1"
    },
    {
      "cell_type": "code",
      "metadata": {},
      "source": [
        "from spotPython.data.lightdatamodule import LightDataModule\n",
        "dm = LightDataModule(\n",
        "    dataset=fun_control[\"data_set\"],\n",
        "    batch_size=5,\n",
        "    num_workers=fun_control[\"num_workers\"],\n",
        "    test_size=fun_control[\"test_size\"],\n",
        "    test_seed=fun_control[\"test_seed\"],\n",
        ")\n",
        "dm.setup()\n",
        "print(f\"train_model(): Test set size: {len(dm.data_test)}\")\n",
        "print(f\"train_model(): Train set size: {len(dm.data_train)}\")"
      ],
      "id": "b482a17d",
      "execution_count": null,
      "outputs": []
    },
    {
      "cell_type": "markdown",
      "metadata": {},
      "source": [
        "The steps described above are handled by the `LightDataModule` class. This class is used to create the data loaders for the training, validation, and test sets. The `LightDataModule` class is part of the `spotPython` package.\n",
        "The `LightDataModule` class provides the following methods:\n",
        "\n",
        "* `prepare_data()`: This method is used to prepare the data set.\n",
        "* `setup()`: This method is used to create the data loaders for the training, validation, and test sets.\n",
        "* `train_dataloader()`: This method is used to return the data loader for the training set.\n",
        "* `val_dataloader()`: This method is used to return the data loader for the validation set.\n",
        "* `test_dataloader()`: This method is used to return the data loader for the test set.\n",
        "* `predict_dataloader()`: This method is used to return the data loader for the prediction set.\n",
        "\n",
        "Details of the implementation can be found in @sec-hpt-pytorch-lightning-data-30.\n",
        "\n",
        "## HyperLight: Interfacing the Optimizer `spotPython`  with the Data, the Loss Function, and the Model\n",
        "\n",
        "### The `HyperLight` Class Method `fun()`\n",
        "\n",
        "The class `Hyperlight` implements the method `fun()`, which passes the hyperparameter tuning parametrizations to the neural network and the configurations to the DataModule. The `fun()` method passes one configuration to the `train_model()` method, which trains the model and returns the performance value. The performance value is then returned to the optimizer.\n",
        "\n",
        "```python\n",
        "df_eval = train_model(config, fun_control)\n",
        "```\n",
        "\n",
        "### The Method `train_model`\n",
        "\n",
        "`train_model` trains a model using the given configuration and function control parameters.\n",
        "It extracts the information from the configuration and the function control parameters and trains the model using the `Lightning` framework.\n",
        "A simplified version of the `train_model` method is shown below:\n"
      ],
      "id": "854001ae"
    },
    {
      "cell_type": "code",
      "metadata": {},
      "source": [
        "def train_model(config: dict, fun_control: dict, timestamp: bool = True) -> float:\n",
        "    _L_in = fun_control[\"_L_in\"]\n",
        "    _L_out = fun_control[\"_L_out\"]\n",
        "    _torchmetric = fun_control[\"_torchmetric\"]\n",
        "    model = fun_control[\"core_model\"](**config, _L_in=_L_in, _L_out=_L_out, _torchmetric=_torchmetric)\n",
        "    dm = LightDataModule(\n",
        "        dataset=fun_control[\"data_set\"],\n",
        "        batch_size=config[\"batch_size\"],\n",
        "        num_workers=fun_control[\"num_workers\"],\n",
        "        test_size=fun_control[\"test_size\"],\n",
        "        test_seed=fun_control[\"test_seed\"],\n",
        "        scaler=fun_control[\"scaler\"],\n",
        "    )\n",
        "    trainer = L.Trainer()\n",
        "    trainer.fit(model=model, datamodule=dm)\n",
        "    # Test best model on validation set\n",
        "    result = trainer.validate(model=model, datamodule=dm)\n",
        "    result = result[0]\n",
        "    return result[\"val_loss\"]"
      ],
      "id": "ab44078b",
      "execution_count": null,
      "outputs": []
    },
    {
      "cell_type": "markdown",
      "metadata": {},
      "source": [
        "## Summary of the Lightning Training Process in `spotPython`\n",
        "\n",
        "The following code exemplifies the workflow and shows how to combine the elements discussed so far:\n",
        "\n",
        "* First, results from the tuning experiment (\"100\") are loaded.\n",
        "* A `LightDataModule` object is created and the `setup()` method is called.\n",
        "* Then, the `Trainer` is initialized.\n",
        "* Load the NN model from the last checkpoint.\n",
        "* Next, the `fit()` method is called to train the model.\n",
        "* Finally, the `validate()` method is called to validate the model. The `validate()` method returns the validation loss.\n"
      ],
      "id": "7743868c"
    },
    {
      "cell_type": "code",
      "metadata": {},
      "source": [
        "# Load results from the experiment 100\n",
        "from spotPython.utils.file import get_experiment_from_PREFIX\n",
        "config, fun_control, design_control, surrogate_control, optimizer_control = get_experiment_from_PREFIX(\"100\",return_dict=False)"
      ],
      "id": "58d4b4a9",
      "execution_count": null,
      "outputs": []
    },
    {
      "cell_type": "code",
      "metadata": {},
      "source": [
        "# Create a LightDataModule object\n",
        "from spotPython.data.lightdatamodule import LightDataModule\n",
        "dm = LightDataModule(\n",
        "    dataset=fun_control[\"data_set\"],\n",
        "    batch_size=config[\"batch_size\"],\n",
        "    num_workers=fun_control[\"num_workers\"],\n",
        "    test_size=fun_control[\"test_size\"],\n",
        "    test_seed=fun_control[\"test_seed\"],\n",
        ")\n",
        "dm.setup()"
      ],
      "id": "676a663f",
      "execution_count": null,
      "outputs": []
    },
    {
      "cell_type": "code",
      "metadata": {},
      "source": [
        "# Initialize the Trainer\n",
        "import lightning as L\n",
        "trainer = L.Trainer(enable_progress_bar=False)"
      ],
      "id": "c1e78eca",
      "execution_count": null,
      "outputs": []
    },
    {
      "cell_type": "code",
      "metadata": {},
      "source": [
        "# Load the model from the checkpoint\n",
        "from spotPython.light.loadmodel import load_light_from_checkpoint\n",
        "model_loaded = load_light_from_checkpoint(config, fun_control)\n",
        "model = model_loaded.to(\"cpu\")"
      ],
      "id": "ed3ef613",
      "execution_count": null,
      "outputs": []
    },
    {
      "cell_type": "code",
      "metadata": {},
      "source": [
        "# Fit (train) the model\n",
        "trainer.fit(model=model, datamodule=dm)"
      ],
      "id": "f59813bf",
      "execution_count": null,
      "outputs": []
    },
    {
      "cell_type": "code",
      "metadata": {},
      "source": [
        "# Validation: Test best model on validation set\n",
        "result = trainer.validate(model=model, datamodule=dm)\n",
        "# unlist the result (from a list of one dict)\n",
        "result = result[0]\n",
        "print(result[\"val_loss\"])"
      ],
      "id": "aba416c8",
      "execution_count": null,
      "outputs": []
    },
    {
      "cell_type": "markdown",
      "metadata": {},
      "source": [
        "## Loading a User Specified Data Set\n",
        "\n",
        "Using a user-specified data set is straightforward. The user simply needs to provide a data set and loads is as a  `spotPython`  `CVSDataset()` class by specifying the path, filename, and target column as follows:\n"
      ],
      "id": "fe2787cb"
    },
    {
      "cell_type": "code",
      "metadata": {},
      "source": [
        "from spotPython.data.csvdataset import CSVDataset\n",
        "import torch\n",
        "data_set = CSVDataset(directory=\"./userData/\",\n",
        "                     filename=\"data.csv\",\n",
        "                     target_column='target',\n",
        "                     feature_type=torch.float32,\n",
        "                     target_type=torch.float32,\n",
        "                     rmNA=True)\n",
        "print(len(data_set))\n",
        "# Set batch size for DataLoader\n",
        "batch_size = 5\n",
        "# Create DataLoader\n",
        "from torch.utils.data import DataLoader\n",
        "dataloader = DataLoader(data_set, batch_size=batch_size, shuffle=False)\n",
        "\n",
        "# Iterate over the data in the DataLoader\n",
        "for batch in dataloader:\n",
        "    inputs, targets = batch\n",
        "    print(f\"Batch Size: {inputs.size(0)}\")\n",
        "    print(f\"Inputs Shape: {inputs.shape}\")\n",
        "    print(f\"Targets Shape: {targets.shape}\")\n",
        "    print(\"---------------\")\n",
        "    print(f\"Inputs: {inputs}\")\n",
        "    print(f\"Targets: {targets}\")\n",
        "    break"
      ],
      "id": "16a5c945",
      "execution_count": null,
      "outputs": []
    },
    {
      "cell_type": "markdown",
      "metadata": {},
      "source": [
        "## Using a User Specified Model\n",
        "\n",
        "As templates, we provide the following three files that allow the user to specify a model in the `/userModel` directory:\n",
        "    * `my_regressor.py`\n",
        "    * `my_hyperdict.json`\n",
        "    * `my_hyperdict.py`\n",
        "\n",
        "The `my_regressor.py` file contains the model class, which is a subclass of `nn.Module`. The `my_hyperdict.json` file contains the hyperparameter settings as a dictionary, which are loaded via the `my_hyperdict.py` file.\n"
      ],
      "id": "944c0a19"
    },
    {
      "cell_type": "code",
      "metadata": {},
      "source": [
        "from spotPython.hyperparameters.values import add_core_model_to_fun_control\n",
        "import sys\n",
        "sys.path.insert(0, './userModel')\n",
        "import my_regressor\n",
        "import my_hyper_dict\n",
        "add_core_model_to_fun_control(fun_control=fun_control,\n",
        "                              core_model=my_regressor.MyRegressor,\n",
        "                              hyper_dict=my_hyper_dict.MyHyperDict)"
      ],
      "id": "fd33328e",
      "execution_count": null,
      "outputs": []
    }
  ],
  "metadata": {
    "kernelspec": {
      "name": "python3",
      "language": "python",
      "display_name": "Python 3 (ipykernel)",
      "path": "/Users/bartz/miniforge3/envs/spotCondaEnv/share/jupyter/kernels/python3"
    }
  },
  "nbformat": 4,
  "nbformat_minor": 5
}