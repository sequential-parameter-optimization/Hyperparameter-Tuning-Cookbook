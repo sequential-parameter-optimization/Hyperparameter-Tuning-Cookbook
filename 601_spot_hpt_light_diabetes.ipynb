{
  "cells": [
    {
      "cell_type": "markdown",
      "metadata": {},
      "source": [
        "---\n",
        "execute:\n",
        "  cache: false\n",
        "  eval: true\n",
        "  echo: true\n",
        "  warning: false\n",
        "jupyter: python3\n",
        "---\n",
        "\n",
        "# Hyperparameter Tuning with `spotpython` and `PyTorch` Lightning for the Diabetes Data Set {#sec-hpt-pytorch}\n",
        "\n",
        "In this section, we will show how `spotpython` can be integrated into the `PyTorch` Lightning\n",
        "training workflow for a regression task.\n",
        "It demonstrates how easy it is to use `spotpython` to tune hyperparameters for a `PyTorch` Lightning model.\n",
        "\n",
        "## The Basic Setting {#sec-basic-setup-601}\n"
      ]
    },
    {
      "cell_type": "code",
      "execution_count": null,
      "metadata": {},
      "outputs": [],
      "source": [
        "#| label: 601_imports\n",
        "import os\n",
        "from math import inf\n",
        "import warnings\n",
        "warnings.filterwarnings(\"ignore\")"
      ]
    },
    {
      "cell_type": "markdown",
      "metadata": {},
      "source": [
        "After importing the necessary libraries, the `fun_control` dictionary is set up via the `fun_control_init` function.\n",
        "The `fun_control` dictionary contains\n",
        "\n",
        "* `PREFIX`: a unique identifier for the experiment\n",
        "* `fun_evals`: the number of function evaluations\n",
        "* `max_time`: the maximum run time in minutes\n",
        "* `data_set`: the data set. Here we use the `Diabetes` data set that is provided by `spotpython`.\n",
        "* `core_model_name`: the class name of the neural network model. This neural network model is provided by `spotpython`.\n",
        "* `hyperdict`: the hyperparameter dictionary. This dictionary is used to define the hyperparameters of the neural network model. It is also provided by `spotpython`.\n",
        "* `_L_in`: the number of input features. Since the `Diabetes` data set has 10 features, `_L_in` is set to 10.\n",
        "* `_L_out`: the number of output features. Since we want to predict a single value, `_L_out` is set to 1.\n",
        "\n",
        "The `HyperLight` class is used to define the objective function `fun`.\n",
        "It connects the `PyTorch` and the `spotpython` methods and is provided by `spotpython`."
      ]
    },
    {
      "cell_type": "code",
      "execution_count": null,
      "metadata": {},
      "outputs": [
        {
          "name": "stderr",
          "output_type": "stream",
          "text": [
            "Seed set to 123\n",
            "Seed set to 123\n"
          ]
        },
        {
          "name": "stdout",
          "output_type": "stream",
          "text": [
            "module_name: light\n",
            "submodule_name: regression\n",
            "model_name: NNLinearRegressor\n"
          ]
        }
      ],
      "source": [
        "#| label: 601_spotpython_setup\n",
        "\n",
        "from spotpython.data.diabetes import Diabetes\n",
        "from spotpython.hyperdict.light_hyper_dict import LightHyperDict\n",
        "from spotpython.fun.hyperlight import HyperLight\n",
        "from spotpython.utils.init import (fun_control_init, surrogate_control_init, design_control_init)\n",
        "from spotpython.utils.eda import gen_design_table\n",
        "from spotpython.spot import Spot\n",
        "from spotpython.utils.file import get_experiment_filename\n",
        "\n",
        "PREFIX=\"601\"\n",
        "\n",
        "data_set = Diabetes()\n",
        "\n",
        "fun_control = fun_control_init(\n",
        "    PREFIX=PREFIX,\n",
        "    fun_evals=inf,\n",
        "    max_time=1,\n",
        "    data_set = data_set,\n",
        "    core_model_name=\"light.regression.NNLinearRegressor\",\n",
        "    hyperdict=LightHyperDict,\n",
        "    _L_in=10,\n",
        "    _L_out=1)\n",
        "\n",
        "fun = HyperLight().fun"
      ]
    },
    {
      "cell_type": "markdown",
      "metadata": {},
      "source": [
        "The method `set_hyperparameter` allows the user to modify default hyperparameter settings.\n",
        "Here we modify some hyperparameters to keep the model small and to decrease the tuning time."
      ]
    },
    {
      "cell_type": "code",
      "execution_count": null,
      "metadata": {},
      "outputs": [
        {
          "name": "stdout",
          "output_type": "stream",
          "text": [
            "| name           | type   | default   |   lower |   upper | transform             |\n",
            "|----------------|--------|-----------|---------|---------|-----------------------|\n",
            "| l1             | int    | 3         |     3   |   4     | transform_power_2_int |\n",
            "| epochs         | int    | 4         |     3   |   7     | transform_power_2_int |\n",
            "| batch_size     | int    | 4         |     4   |  11     | transform_power_2_int |\n",
            "| act_fn         | factor | ReLU      |     0   |   5     | None                  |\n",
            "| optimizer      | factor | SGD       |     0   |   2     | None                  |\n",
            "| dropout_prob   | float  | 0.01      |     0   |   0.025 | None                  |\n",
            "| lr_mult        | float  | 1.0       |     0.1 |  10     | None                  |\n",
            "| patience       | int    | 2         |     2   |   3     | transform_power_2_int |\n",
            "| batch_norm     | factor | 0         |     0   |   1     | None                  |\n",
            "| initialization | factor | Default   |     0   |   4     | None                  |\n"
          ]
        }
      ],
      "source": [
        "from spotpython.hyperparameters.values import set_hyperparameter\n",
        "set_hyperparameter(fun_control, \"optimizer\", [ \"Adadelta\", \"Adam\", \"Adamax\"])\n",
        "set_hyperparameter(fun_control, \"l1\", [3,4])\n",
        "set_hyperparameter(fun_control, \"epochs\", [3,7])\n",
        "set_hyperparameter(fun_control, \"batch_size\", [4,11])\n",
        "set_hyperparameter(fun_control, \"dropout_prob\", [0.0, 0.025])\n",
        "set_hyperparameter(fun_control, \"patience\", [2,3])\n",
        "\n",
        "design_control = design_control_init(init_size=10)\n",
        "\n",
        "print(gen_design_table(fun_control))"
      ]
    },
    {
      "cell_type": "markdown",
      "metadata": {},
      "source": [
        "Finally, a `Spot` object is created.\n",
        "Calling the method `run()` starts the hyperparameter tuning process."
      ]
    },
    {
      "cell_type": "code",
      "execution_count": null,
      "metadata": {},
      "outputs": [
        {
          "name": "stderr",
          "output_type": "stream",
          "text": [
            "GPU available: True (mps), used: True\n",
            "TPU available: False, using: 0 TPU cores\n",
            "HPU available: False, using: 0 HPUs\n",
            "\n",
            "  | Name   | Type       | Params | Mode  | In sizes   | Out sizes\n",
            "-----------------------------------------------------------------------\n",
            "0 | layers | Sequential | 202 K  | train | [2048, 10] | [2048, 1]\n",
            "-----------------------------------------------------------------------\n",
            "202 K     Trainable params\n",
            "0         Non-trainable params\n",
            "202 K     Total params\n",
            "0.812     Total estimated model params size (MB)\n",
            "17        Modules in train mode\n",
            "0         Modules in eval mode\n"
          ]
        },
        {
          "name": "stdout",
          "output_type": "stream",
          "text": [
            "Experiment saved to 601_exp.pkl\n"
          ]
        },
        {
          "name": "stderr",
          "output_type": "stream",
          "text": [
            "`Trainer.fit` stopped: `max_epochs=16` reached.\n",
            "GPU available: True (mps), used: True\n",
            "TPU available: False, using: 0 TPU cores\n",
            "HPU available: False, using: 0 HPUs\n",
            "\n",
            "  | Name   | Type       | Params | Mode  | In sizes | Out sizes\n",
            "---------------------------------------------------------------------\n",
            "0 | layers | Sequential | 51.9 K | train | [64, 10] | [64, 1]  \n",
            "---------------------------------------------------------------------\n",
            "51.9 K    Trainable params\n",
            "0         Non-trainable params\n",
            "51.9 K    Total params\n",
            "0.208     Total estimated model params size (MB)\n",
            "17        Modules in train mode\n",
            "0         Modules in eval mode\n"
          ]
        },
        {
          "name": "stdout",
          "output_type": "stream",
          "text": [
            "train_model result: {'val_loss': 23075.166015625, 'hp_metric': 23075.166015625}\n"
          ]
        },
        {
          "name": "stderr",
          "output_type": "stream",
          "text": [
            "GPU available: True (mps), used: True\n",
            "TPU available: False, using: 0 TPU cores\n",
            "HPU available: False, using: 0 HPUs\n",
            "\n",
            "  | Name   | Type       | Params | Mode  | In sizes  | Out sizes\n",
            "----------------------------------------------------------------------\n",
            "0 | layers | Sequential | 205 K  | train | [256, 10] | [256, 1] \n",
            "----------------------------------------------------------------------\n",
            "205 K     Trainable params\n",
            "0         Non-trainable params\n",
            "205 K     Total params\n",
            "0.822     Total estimated model params size (MB)\n",
            "24        Modules in train mode\n",
            "0         Modules in eval mode\n"
          ]
        },
        {
          "name": "stdout",
          "output_type": "stream",
          "text": [
            "train_model result: {'val_loss': 3600.9345703125, 'hp_metric': 3600.9345703125}\n"
          ]
        },
        {
          "name": "stderr",
          "output_type": "stream",
          "text": [
            "GPU available: True (mps), used: True\n",
            "TPU available: False, using: 0 TPU cores\n",
            "HPU available: False, using: 0 HPUs\n",
            "\n",
            "  | Name   | Type       | Params | Mode  | In sizes  | Out sizes\n",
            "----------------------------------------------------------------------\n",
            "0 | layers | Sequential | 53.2 K | train | [512, 10] | [512, 1] \n",
            "----------------------------------------------------------------------\n",
            "53.2 K    Trainable params\n",
            "0         Non-trainable params\n",
            "53.2 K    Total params\n",
            "0.213     Total estimated model params size (MB)\n",
            "24        Modules in train mode\n",
            "0         Modules in eval mode\n"
          ]
        },
        {
          "name": "stdout",
          "output_type": "stream",
          "text": [
            "train_model result: {'val_loss': 4820.04443359375, 'hp_metric': 4820.04443359375}\n"
          ]
        },
        {
          "name": "stderr",
          "output_type": "stream",
          "text": [
            "GPU available: True (mps), used: True\n",
            "TPU available: False, using: 0 TPU cores\n",
            "HPU available: False, using: 0 HPUs\n",
            "\n",
            "  | Name   | Type       | Params | Mode  | In sizes  | Out sizes\n",
            "----------------------------------------------------------------------\n",
            "0 | layers | Sequential | 205 K  | train | [128, 10] | [128, 1] \n",
            "----------------------------------------------------------------------\n",
            "205 K     Trainable params\n",
            "0         Non-trainable params\n",
            "205 K     Total params\n",
            "0.822     Total estimated model params size (MB)\n",
            "24        Modules in train mode\n",
            "0         Modules in eval mode\n"
          ]
        },
        {
          "name": "stdout",
          "output_type": "stream",
          "text": [
            "train_model result: {'val_loss': 24072.69140625, 'hp_metric': 24072.69140625}\n"
          ]
        },
        {
          "name": "stderr",
          "output_type": "stream",
          "text": [
            "GPU available: True (mps), used: True\n",
            "TPU available: False, using: 0 TPU cores\n",
            "HPU available: False, using: 0 HPUs\n",
            "\n",
            "  | Name   | Type       | Params | Mode  | In sizes | Out sizes\n",
            "---------------------------------------------------------------------\n",
            "0 | layers | Sequential | 202 K  | train | [32, 10] | [32, 1]  \n",
            "---------------------------------------------------------------------\n",
            "202 K     Trainable params\n",
            "0         Non-trainable params\n",
            "202 K     Total params\n",
            "0.812     Total estimated model params size (MB)\n",
            "17        Modules in train mode\n",
            "0         Modules in eval mode\n"
          ]
        },
        {
          "name": "stdout",
          "output_type": "stream",
          "text": [
            "train_model result: {'val_loss': 22493.71875, 'hp_metric': 22493.71875}\n"
          ]
        },
        {
          "name": "stderr",
          "output_type": "stream",
          "text": [
            "`Trainer.fit` stopped: `max_epochs=16` reached.\n",
            "GPU available: True (mps), used: True\n",
            "TPU available: False, using: 0 TPU cores\n",
            "HPU available: False, using: 0 HPUs\n",
            "\n",
            "  | Name   | Type       | Params | Mode  | In sizes  | Out sizes\n",
            "----------------------------------------------------------------------\n",
            "0 | layers | Sequential | 51.9 K | train | [512, 10] | [512, 1] \n",
            "----------------------------------------------------------------------\n",
            "51.9 K    Trainable params\n",
            "0         Non-trainable params\n",
            "51.9 K    Total params\n",
            "0.208     Total estimated model params size (MB)\n",
            "17        Modules in train mode\n",
            "0         Modules in eval mode\n",
            "`Trainer.fit` stopped: `max_epochs=8` reached.\n"
          ]
        },
        {
          "name": "stdout",
          "output_type": "stream",
          "text": [
            "train_model result: {'val_loss': 4145.4853515625, 'hp_metric': 4145.4853515625}\n"
          ]
        },
        {
          "name": "stderr",
          "output_type": "stream",
          "text": [
            "GPU available: True (mps), used: True\n",
            "TPU available: False, using: 0 TPU cores\n",
            "HPU available: False, using: 0 HPUs\n",
            "\n",
            "  | Name   | Type       | Params | Mode  | In sizes | Out sizes\n",
            "---------------------------------------------------------------------\n",
            "0 | layers | Sequential | 53.2 K | train | [32, 10] | [32, 1]  \n",
            "---------------------------------------------------------------------\n",
            "53.2 K    Trainable params\n",
            "0         Non-trainable params\n",
            "53.2 K    Total params\n",
            "0.213     Total estimated model params size (MB)\n",
            "24        Modules in train mode\n",
            "0         Modules in eval mode\n"
          ]
        },
        {
          "name": "stdout",
          "output_type": "stream",
          "text": [
            "train_model result: {'val_loss': 20313.955078125, 'hp_metric': 20313.955078125}\n"
          ]
        },
        {
          "name": "stderr",
          "output_type": "stream",
          "text": [
            "GPU available: True (mps), used: True\n",
            "TPU available: False, using: 0 TPU cores\n",
            "HPU available: False, using: 0 HPUs\n",
            "\n",
            "  | Name   | Type       | Params | Mode  | In sizes  | Out sizes\n",
            "----------------------------------------------------------------------\n",
            "0 | layers | Sequential | 51.9 K | train | [128, 10] | [128, 1] \n",
            "----------------------------------------------------------------------\n",
            "51.9 K    Trainable params\n",
            "0         Non-trainable params\n",
            "51.9 K    Total params\n",
            "0.208     Total estimated model params size (MB)\n",
            "17        Modules in train mode\n",
            "0         Modules in eval mode\n"
          ]
        },
        {
          "name": "stdout",
          "output_type": "stream",
          "text": [
            "train_model result: {'val_loss': 4382.205078125, 'hp_metric': 4382.205078125}\n"
          ]
        },
        {
          "name": "stderr",
          "output_type": "stream",
          "text": [
            "`Trainer.fit` stopped: `max_epochs=32` reached.\n",
            "GPU available: True (mps), used: True\n",
            "TPU available: False, using: 0 TPU cores\n",
            "HPU available: False, using: 0 HPUs\n",
            "\n",
            "  | Name   | Type       | Params | Mode  | In sizes   | Out sizes\n",
            "-----------------------------------------------------------------------\n",
            "0 | layers | Sequential | 205 K  | train | [1024, 10] | [1024, 1]\n",
            "-----------------------------------------------------------------------\n",
            "205 K     Trainable params\n",
            "0         Non-trainable params\n",
            "205 K     Total params\n",
            "0.822     Total estimated model params size (MB)\n",
            "24        Modules in train mode\n",
            "0         Modules in eval mode\n"
          ]
        },
        {
          "name": "stdout",
          "output_type": "stream",
          "text": [
            "train_model result: {'val_loss': 20690.306640625, 'hp_metric': 20690.306640625}\n"
          ]
        },
        {
          "name": "stderr",
          "output_type": "stream",
          "text": [
            "GPU available: True (mps), used: True\n",
            "TPU available: False, using: 0 TPU cores\n",
            "HPU available: False, using: 0 HPUs\n",
            "\n",
            "  | Name   | Type       | Params | Mode  | In sizes | Out sizes\n",
            "---------------------------------------------------------------------\n",
            "0 | layers | Sequential | 51.9 K | train | [64, 10] | [64, 1]  \n",
            "---------------------------------------------------------------------\n",
            "51.9 K    Trainable params\n",
            "0         Non-trainable params\n",
            "51.9 K    Total params\n",
            "0.208     Total estimated model params size (MB)\n",
            "17        Modules in train mode\n",
            "0         Modules in eval mode\n"
          ]
        },
        {
          "name": "stdout",
          "output_type": "stream",
          "text": [
            "train_model result: {'val_loss': 24063.02734375, 'hp_metric': 24063.02734375}\n",
            "train_model result: {'val_loss': 3323.162353515625, 'hp_metric': 3323.162353515625}\n",
            "spotpython tuning: 3323.162353515625 [----------] 0.98% \n"
          ]
        },
        {
          "name": "stderr",
          "output_type": "stream",
          "text": [
            "GPU available: True (mps), used: True\n",
            "TPU available: False, using: 0 TPU cores\n",
            "HPU available: False, using: 0 HPUs\n",
            "\n",
            "  | Name   | Type       | Params | Mode  | In sizes | Out sizes\n",
            "---------------------------------------------------------------------\n",
            "0 | layers | Sequential | 51.9 K | train | [64, 10] | [64, 1]  \n",
            "---------------------------------------------------------------------\n",
            "51.9 K    Trainable params\n",
            "0         Non-trainable params\n",
            "51.9 K    Total params\n",
            "0.208     Total estimated model params size (MB)\n",
            "17        Modules in train mode\n",
            "0         Modules in eval mode\n"
          ]
        },
        {
          "name": "stdout",
          "output_type": "stream",
          "text": [
            "train_model result: {'val_loss': 3555.804443359375, 'hp_metric': 3555.804443359375}\n",
            "spotpython tuning: 3323.162353515625 [----------] 2.80% \n"
          ]
        },
        {
          "name": "stderr",
          "output_type": "stream",
          "text": [
            "GPU available: True (mps), used: True\n",
            "TPU available: False, using: 0 TPU cores\n",
            "HPU available: False, using: 0 HPUs\n",
            "\n",
            "  | Name   | Type       | Params | Mode  | In sizes   | Out sizes\n",
            "-----------------------------------------------------------------------\n",
            "0 | layers | Sequential | 51.9 K | train | [1024, 10] | [1024, 1]\n",
            "-----------------------------------------------------------------------\n",
            "51.9 K    Trainable params\n",
            "0         Non-trainable params\n",
            "51.9 K    Total params\n",
            "0.208     Total estimated model params size (MB)\n",
            "17        Modules in train mode\n",
            "0         Modules in eval mode\n",
            "`Trainer.fit` stopped: `max_epochs=8` reached.\n"
          ]
        },
        {
          "name": "stdout",
          "output_type": "stream",
          "text": [
            "train_model result: {'val_loss': 24033.90625, 'hp_metric': 24033.90625}\n",
            "spotpython tuning: 3323.162353515625 [----------] 4.05% \n"
          ]
        },
        {
          "name": "stderr",
          "output_type": "stream",
          "text": [
            "GPU available: True (mps), used: True\n",
            "TPU available: False, using: 0 TPU cores\n",
            "HPU available: False, using: 0 HPUs\n",
            "\n",
            "  | Name   | Type       | Params | Mode  | In sizes | Out sizes\n",
            "---------------------------------------------------------------------\n",
            "0 | layers | Sequential | 51.9 K | train | [64, 10] | [64, 1]  \n",
            "---------------------------------------------------------------------\n",
            "51.9 K    Trainable params\n",
            "0         Non-trainable params\n",
            "51.9 K    Total params\n",
            "0.208     Total estimated model params size (MB)\n",
            "17        Modules in train mode\n",
            "0         Modules in eval mode\n"
          ]
        },
        {
          "name": "stdout",
          "output_type": "stream",
          "text": [
            "train_model result: {'val_loss': 3263.774169921875, 'hp_metric': 3263.774169921875}\n",
            "spotpython tuning: 3263.774169921875 [#---------] 5.62% \n"
          ]
        },
        {
          "name": "stderr",
          "output_type": "stream",
          "text": [
            "GPU available: True (mps), used: True\n",
            "TPU available: False, using: 0 TPU cores\n",
            "HPU available: False, using: 0 HPUs\n",
            "\n",
            "  | Name   | Type       | Params | Mode  | In sizes | Out sizes\n",
            "---------------------------------------------------------------------\n",
            "0 | layers | Sequential | 51.9 K | train | [64, 10] | [64, 1]  \n",
            "---------------------------------------------------------------------\n",
            "51.9 K    Trainable params\n",
            "0         Non-trainable params\n",
            "51.9 K    Total params\n",
            "0.208     Total estimated model params size (MB)\n",
            "17        Modules in train mode\n",
            "0         Modules in eval mode\n"
          ]
        },
        {
          "name": "stdout",
          "output_type": "stream",
          "text": [
            "train_model result: {'val_loss': 10676.2216796875, 'hp_metric': 10676.2216796875}\n",
            "spotpython tuning: 3263.774169921875 [#---------] 6.81% \n"
          ]
        },
        {
          "name": "stderr",
          "output_type": "stream",
          "text": [
            "GPU available: True (mps), used: True\n",
            "TPU available: False, using: 0 TPU cores\n",
            "HPU available: False, using: 0 HPUs\n",
            "\n",
            "  | Name   | Type       | Params | Mode  | In sizes | Out sizes\n",
            "---------------------------------------------------------------------\n",
            "0 | layers | Sequential | 51.9 K | train | [64, 10] | [64, 1]  \n",
            "---------------------------------------------------------------------\n",
            "51.9 K    Trainable params\n",
            "0         Non-trainable params\n",
            "51.9 K    Total params\n",
            "0.208     Total estimated model params size (MB)\n",
            "17        Modules in train mode\n",
            "0         Modules in eval mode\n"
          ]
        },
        {
          "name": "stdout",
          "output_type": "stream",
          "text": [
            "train_model result: {'val_loss': 3352.18505859375, 'hp_metric': 3352.18505859375}\n",
            "spotpython tuning: 3263.774169921875 [#---------] 8.33% \n"
          ]
        },
        {
          "name": "stderr",
          "output_type": "stream",
          "text": [
            "GPU available: True (mps), used: True\n",
            "TPU available: False, using: 0 TPU cores\n",
            "HPU available: False, using: 0 HPUs\n",
            "\n",
            "  | Name   | Type       | Params | Mode  | In sizes | Out sizes\n",
            "---------------------------------------------------------------------\n",
            "0 | layers | Sequential | 51.9 K | train | [64, 10] | [64, 1]  \n",
            "---------------------------------------------------------------------\n",
            "51.9 K    Trainable params\n",
            "0         Non-trainable params\n",
            "51.9 K    Total params\n",
            "0.208     Total estimated model params size (MB)\n",
            "17        Modules in train mode\n",
            "0         Modules in eval mode\n"
          ]
        },
        {
          "name": "stdout",
          "output_type": "stream",
          "text": [
            "train_model result: {'val_loss': 4080.423828125, 'hp_metric': 4080.423828125}\n",
            "spotpython tuning: 3263.774169921875 [#---------] 9.65% \n"
          ]
        },
        {
          "name": "stderr",
          "output_type": "stream",
          "text": [
            "GPU available: True (mps), used: True\n",
            "TPU available: False, using: 0 TPU cores\n",
            "HPU available: False, using: 0 HPUs\n",
            "\n",
            "  | Name   | Type       | Params | Mode  | In sizes | Out sizes\n",
            "---------------------------------------------------------------------\n",
            "0 | layers | Sequential | 51.9 K | train | [64, 10] | [64, 1]  \n",
            "---------------------------------------------------------------------\n",
            "51.9 K    Trainable params\n",
            "0         Non-trainable params\n",
            "51.9 K    Total params\n",
            "0.208     Total estimated model params size (MB)\n",
            "17        Modules in train mode\n",
            "0         Modules in eval mode\n",
            "`Trainer.fit` stopped: `max_epochs=32` reached.\n"
          ]
        },
        {
          "name": "stdout",
          "output_type": "stream",
          "text": [
            "train_model result: {'val_loss': 3483.333740234375, 'hp_metric': 3483.333740234375}\n",
            "spotpython tuning: 3263.774169921875 [#---------] 12.29% \n"
          ]
        },
        {
          "name": "stderr",
          "output_type": "stream",
          "text": [
            "GPU available: True (mps), used: True\n",
            "TPU available: False, using: 0 TPU cores\n",
            "HPU available: False, using: 0 HPUs\n",
            "\n",
            "  | Name   | Type       | Params | Mode  | In sizes | Out sizes\n",
            "---------------------------------------------------------------------\n",
            "0 | layers | Sequential | 51.9 K | train | [64, 10] | [64, 1]  \n",
            "---------------------------------------------------------------------\n",
            "51.9 K    Trainable params\n",
            "0         Non-trainable params\n",
            "51.9 K    Total params\n",
            "0.208     Total estimated model params size (MB)\n",
            "17        Modules in train mode\n",
            "0         Modules in eval mode\n"
          ]
        },
        {
          "name": "stdout",
          "output_type": "stream",
          "text": [
            "train_model result: {'val_loss': 21503.978515625, 'hp_metric': 21503.978515625}\n",
            "spotpython tuning: 3263.774169921875 [#---------] 13.40% \n"
          ]
        },
        {
          "name": "stderr",
          "output_type": "stream",
          "text": [
            "GPU available: True (mps), used: True\n",
            "TPU available: False, using: 0 TPU cores\n",
            "HPU available: False, using: 0 HPUs\n",
            "\n",
            "  | Name   | Type       | Params | Mode  | In sizes  | Out sizes\n",
            "----------------------------------------------------------------------\n",
            "0 | layers | Sequential | 51.9 K | train | [128, 10] | [128, 1] \n",
            "----------------------------------------------------------------------\n",
            "51.9 K    Trainable params\n",
            "0         Non-trainable params\n",
            "51.9 K    Total params\n",
            "0.208     Total estimated model params size (MB)\n",
            "17        Modules in train mode\n",
            "0         Modules in eval mode\n",
            "`Trainer.fit` stopped: `max_epochs=8` reached.\n"
          ]
        },
        {
          "name": "stdout",
          "output_type": "stream",
          "text": [
            "train_model result: {'val_loss': 40124.15234375, 'hp_metric': 40124.15234375}\n",
            "spotpython tuning: 3263.774169921875 [#---------] 14.41% \n"
          ]
        },
        {
          "name": "stderr",
          "output_type": "stream",
          "text": [
            "GPU available: True (mps), used: True\n",
            "TPU available: False, using: 0 TPU cores\n",
            "HPU available: False, using: 0 HPUs\n",
            "\n",
            "  | Name   | Type       | Params | Mode  | In sizes | Out sizes\n",
            "---------------------------------------------------------------------\n",
            "0 | layers | Sequential | 51.9 K | train | [64, 10] | [64, 1]  \n",
            "---------------------------------------------------------------------\n",
            "51.9 K    Trainable params\n",
            "0         Non-trainable params\n",
            "51.9 K    Total params\n",
            "0.208     Total estimated model params size (MB)\n",
            "17        Modules in train mode\n",
            "0         Modules in eval mode\n",
            "`Trainer.fit` stopped: `max_epochs=32` reached.\n"
          ]
        },
        {
          "name": "stdout",
          "output_type": "stream",
          "text": [
            "train_model result: {'val_loss': 3363.0498046875, 'hp_metric': 3363.0498046875}\n",
            "spotpython tuning: 3263.774169921875 [##--------] 16.78% \n"
          ]
        },
        {
          "name": "stderr",
          "output_type": "stream",
          "text": [
            "GPU available: True (mps), used: True\n",
            "TPU available: False, using: 0 TPU cores\n",
            "HPU available: False, using: 0 HPUs\n",
            "\n",
            "  | Name   | Type       | Params | Mode  | In sizes | Out sizes\n",
            "---------------------------------------------------------------------\n",
            "0 | layers | Sequential | 51.9 K | train | [64, 10] | [64, 1]  \n",
            "---------------------------------------------------------------------\n",
            "51.9 K    Trainable params\n",
            "0         Non-trainable params\n",
            "51.9 K    Total params\n",
            "0.208     Total estimated model params size (MB)\n",
            "17        Modules in train mode\n",
            "0         Modules in eval mode\n"
          ]
        },
        {
          "name": "stdout",
          "output_type": "stream",
          "text": [
            "train_model result: {'val_loss': 3517.5087890625, 'hp_metric': 3517.5087890625}\n",
            "spotpython tuning: 3263.774169921875 [##--------] 18.71% \n"
          ]
        },
        {
          "name": "stderr",
          "output_type": "stream",
          "text": [
            "GPU available: True (mps), used: True\n",
            "TPU available: False, using: 0 TPU cores\n",
            "HPU available: False, using: 0 HPUs\n",
            "\n",
            "  | Name   | Type       | Params | Mode  | In sizes | Out sizes\n",
            "---------------------------------------------------------------------\n",
            "0 | layers | Sequential | 51.9 K | train | [64, 10] | [64, 1]  \n",
            "---------------------------------------------------------------------\n",
            "51.9 K    Trainable params\n",
            "0         Non-trainable params\n",
            "51.9 K    Total params\n",
            "0.208     Total estimated model params size (MB)\n",
            "17        Modules in train mode\n",
            "0         Modules in eval mode\n",
            "`Trainer.fit` stopped: `max_epochs=32` reached.\n"
          ]
        },
        {
          "name": "stdout",
          "output_type": "stream",
          "text": [
            "train_model result: {'val_loss': 21383.916015625, 'hp_metric': 21383.916015625}\n",
            "spotpython tuning: 3263.774169921875 [##--------] 20.93% \n"
          ]
        },
        {
          "name": "stderr",
          "output_type": "stream",
          "text": [
            "GPU available: True (mps), used: True\n",
            "TPU available: False, using: 0 TPU cores\n",
            "HPU available: False, using: 0 HPUs\n",
            "\n",
            "  | Name   | Type       | Params | Mode  | In sizes | Out sizes\n",
            "---------------------------------------------------------------------\n",
            "0 | layers | Sequential | 51.9 K | train | [64, 10] | [64, 1]  \n",
            "---------------------------------------------------------------------\n",
            "51.9 K    Trainable params\n",
            "0         Non-trainable params\n",
            "51.9 K    Total params\n",
            "0.208     Total estimated model params size (MB)\n",
            "17        Modules in train mode\n",
            "0         Modules in eval mode\n"
          ]
        },
        {
          "name": "stdout",
          "output_type": "stream",
          "text": [
            "train_model result: {'val_loss': 3492.506591796875, 'hp_metric': 3492.506591796875}\n",
            "spotpython tuning: 3263.774169921875 [##--------] 22.36% \n"
          ]
        },
        {
          "name": "stderr",
          "output_type": "stream",
          "text": [
            "GPU available: True (mps), used: True\n",
            "TPU available: False, using: 0 TPU cores\n",
            "HPU available: False, using: 0 HPUs\n",
            "\n",
            "  | Name   | Type       | Params | Mode  | In sizes | Out sizes\n",
            "---------------------------------------------------------------------\n",
            "0 | layers | Sequential | 51.9 K | train | [64, 10] | [64, 1]  \n",
            "---------------------------------------------------------------------\n",
            "51.9 K    Trainable params\n",
            "0         Non-trainable params\n",
            "51.9 K    Total params\n",
            "0.208     Total estimated model params size (MB)\n",
            "17        Modules in train mode\n",
            "0         Modules in eval mode\n"
          ]
        },
        {
          "name": "stdout",
          "output_type": "stream",
          "text": [
            "train_model result: {'val_loss': 3307.992431640625, 'hp_metric': 3307.992431640625}\n",
            "spotpython tuning: 3263.774169921875 [##--------] 24.05% \n"
          ]
        },
        {
          "name": "stderr",
          "output_type": "stream",
          "text": [
            "GPU available: True (mps), used: True\n",
            "TPU available: False, using: 0 TPU cores\n",
            "HPU available: False, using: 0 HPUs\n",
            "\n",
            "  | Name   | Type       | Params | Mode  | In sizes | Out sizes\n",
            "---------------------------------------------------------------------\n",
            "0 | layers | Sequential | 51.9 K | train | [64, 10] | [64, 1]  \n",
            "---------------------------------------------------------------------\n",
            "51.9 K    Trainable params\n",
            "0         Non-trainable params\n",
            "51.9 K    Total params\n",
            "0.208     Total estimated model params size (MB)\n",
            "17        Modules in train mode\n",
            "0         Modules in eval mode\n"
          ]
        },
        {
          "name": "stdout",
          "output_type": "stream",
          "text": [
            "train_model result: {'val_loss': 3643.89111328125, 'hp_metric': 3643.89111328125}\n",
            "spotpython tuning: 3263.774169921875 [###-------] 25.94% \n"
          ]
        },
        {
          "name": "stderr",
          "output_type": "stream",
          "text": [
            "GPU available: True (mps), used: True\n",
            "TPU available: False, using: 0 TPU cores\n",
            "HPU available: False, using: 0 HPUs\n",
            "\n",
            "  | Name   | Type       | Params | Mode  | In sizes | Out sizes\n",
            "---------------------------------------------------------------------\n",
            "0 | layers | Sequential | 51.9 K | train | [64, 10] | [64, 1]  \n",
            "---------------------------------------------------------------------\n",
            "51.9 K    Trainable params\n",
            "0         Non-trainable params\n",
            "51.9 K    Total params\n",
            "0.208     Total estimated model params size (MB)\n",
            "17        Modules in train mode\n",
            "0         Modules in eval mode\n"
          ]
        },
        {
          "name": "stdout",
          "output_type": "stream",
          "text": [
            "train_model result: {'val_loss': 3387.20703125, 'hp_metric': 3387.20703125}\n",
            "spotpython tuning: 3263.774169921875 [###-------] 27.73% \n"
          ]
        },
        {
          "name": "stderr",
          "output_type": "stream",
          "text": [
            "GPU available: True (mps), used: True\n",
            "TPU available: False, using: 0 TPU cores\n",
            "HPU available: False, using: 0 HPUs\n",
            "\n",
            "  | Name   | Type       | Params | Mode  | In sizes | Out sizes\n",
            "---------------------------------------------------------------------\n",
            "0 | layers | Sequential | 51.9 K | train | [64, 10] | [64, 1]  \n",
            "---------------------------------------------------------------------\n",
            "51.9 K    Trainable params\n",
            "0         Non-trainable params\n",
            "51.9 K    Total params\n",
            "0.208     Total estimated model params size (MB)\n",
            "17        Modules in train mode\n",
            "0         Modules in eval mode\n"
          ]
        },
        {
          "name": "stdout",
          "output_type": "stream",
          "text": [
            "train_model result: {'val_loss': 3335.376220703125, 'hp_metric': 3335.376220703125}\n",
            "spotpython tuning: 3263.774169921875 [###-------] 29.67% \n"
          ]
        },
        {
          "name": "stderr",
          "output_type": "stream",
          "text": [
            "GPU available: True (mps), used: True\n",
            "TPU available: False, using: 0 TPU cores\n",
            "HPU available: False, using: 0 HPUs\n",
            "\n",
            "  | Name   | Type       | Params | Mode  | In sizes | Out sizes\n",
            "---------------------------------------------------------------------\n",
            "0 | layers | Sequential | 51.9 K | train | [64, 10] | [64, 1]  \n",
            "---------------------------------------------------------------------\n",
            "51.9 K    Trainable params\n",
            "0         Non-trainable params\n",
            "51.9 K    Total params\n",
            "0.208     Total estimated model params size (MB)\n",
            "17        Modules in train mode\n",
            "0         Modules in eval mode\n"
          ]
        },
        {
          "name": "stdout",
          "output_type": "stream",
          "text": [
            "train_model result: {'val_loss': 3228.65966796875, 'hp_metric': 3228.65966796875}\n",
            "spotpython tuning: 3228.65966796875 [###-------] 31.48% \n"
          ]
        },
        {
          "name": "stderr",
          "output_type": "stream",
          "text": [
            "GPU available: True (mps), used: True\n",
            "TPU available: False, using: 0 TPU cores\n",
            "HPU available: False, using: 0 HPUs\n",
            "\n",
            "  | Name   | Type       | Params | Mode  | In sizes | Out sizes\n",
            "---------------------------------------------------------------------\n",
            "0 | layers | Sequential | 51.9 K | train | [64, 10] | [64, 1]  \n",
            "---------------------------------------------------------------------\n",
            "51.9 K    Trainable params\n",
            "0         Non-trainable params\n",
            "51.9 K    Total params\n",
            "0.208     Total estimated model params size (MB)\n",
            "17        Modules in train mode\n",
            "0         Modules in eval mode\n"
          ]
        },
        {
          "name": "stdout",
          "output_type": "stream",
          "text": [
            "train_model result: {'val_loss': 3304.39404296875, 'hp_metric': 3304.39404296875}\n",
            "spotpython tuning: 3228.65966796875 [###-------] 33.58% \n"
          ]
        },
        {
          "name": "stderr",
          "output_type": "stream",
          "text": [
            "GPU available: True (mps), used: True\n",
            "TPU available: False, using: 0 TPU cores\n",
            "HPU available: False, using: 0 HPUs\n",
            "\n",
            "  | Name   | Type       | Params | Mode  | In sizes | Out sizes\n",
            "---------------------------------------------------------------------\n",
            "0 | layers | Sequential | 51.9 K | train | [64, 10] | [64, 1]  \n",
            "---------------------------------------------------------------------\n",
            "51.9 K    Trainable params\n",
            "0         Non-trainable params\n",
            "51.9 K    Total params\n",
            "0.208     Total estimated model params size (MB)\n",
            "17        Modules in train mode\n",
            "0         Modules in eval mode\n"
          ]
        },
        {
          "name": "stdout",
          "output_type": "stream",
          "text": [
            "train_model result: {'val_loss': 3975.175048828125, 'hp_metric': 3975.175048828125}\n",
            "spotpython tuning: 3228.65966796875 [####------] 35.53% \n"
          ]
        },
        {
          "name": "stderr",
          "output_type": "stream",
          "text": [
            "GPU available: True (mps), used: True\n",
            "TPU available: False, using: 0 TPU cores\n",
            "HPU available: False, using: 0 HPUs\n",
            "\n",
            "  | Name   | Type       | Params | Mode  | In sizes | Out sizes\n",
            "---------------------------------------------------------------------\n",
            "0 | layers | Sequential | 51.9 K | train | [64, 10] | [64, 1]  \n",
            "---------------------------------------------------------------------\n",
            "51.9 K    Trainable params\n",
            "0         Non-trainable params\n",
            "51.9 K    Total params\n",
            "0.208     Total estimated model params size (MB)\n",
            "17        Modules in train mode\n",
            "0         Modules in eval mode\n"
          ]
        },
        {
          "name": "stdout",
          "output_type": "stream",
          "text": [
            "train_model result: {'val_loss': 19447.30859375, 'hp_metric': 19447.30859375}\n",
            "spotpython tuning: 3228.65966796875 [####------] 36.96% \n"
          ]
        },
        {
          "name": "stderr",
          "output_type": "stream",
          "text": [
            "GPU available: True (mps), used: True\n",
            "TPU available: False, using: 0 TPU cores\n",
            "HPU available: False, using: 0 HPUs\n",
            "\n",
            "  | Name   | Type       | Params | Mode  | In sizes | Out sizes\n",
            "---------------------------------------------------------------------\n",
            "0 | layers | Sequential | 51.9 K | train | [64, 10] | [64, 1]  \n",
            "---------------------------------------------------------------------\n",
            "51.9 K    Trainable params\n",
            "0         Non-trainable params\n",
            "51.9 K    Total params\n",
            "0.208     Total estimated model params size (MB)\n",
            "17        Modules in train mode\n",
            "0         Modules in eval mode\n"
          ]
        },
        {
          "name": "stdout",
          "output_type": "stream",
          "text": [
            "train_model result: {'val_loss': 5898.79736328125, 'hp_metric': 5898.79736328125}\n",
            "spotpython tuning: 3228.65966796875 [####------] 39.17% \n"
          ]
        },
        {
          "name": "stderr",
          "output_type": "stream",
          "text": [
            "GPU available: True (mps), used: True\n",
            "TPU available: False, using: 0 TPU cores\n",
            "HPU available: False, using: 0 HPUs\n",
            "\n",
            "  | Name   | Type       | Params | Mode  | In sizes | Out sizes\n",
            "---------------------------------------------------------------------\n",
            "0 | layers | Sequential | 51.9 K | train | [64, 10] | [64, 1]  \n",
            "---------------------------------------------------------------------\n",
            "51.9 K    Trainable params\n",
            "0         Non-trainable params\n",
            "51.9 K    Total params\n",
            "0.208     Total estimated model params size (MB)\n",
            "17        Modules in train mode\n",
            "0         Modules in eval mode\n"
          ]
        },
        {
          "name": "stdout",
          "output_type": "stream",
          "text": [
            "train_model result: {'val_loss': 3406.994140625, 'hp_metric': 3406.994140625}\n",
            "spotpython tuning: 3228.65966796875 [####------] 41.28% \n"
          ]
        },
        {
          "name": "stderr",
          "output_type": "stream",
          "text": [
            "GPU available: True (mps), used: True\n",
            "TPU available: False, using: 0 TPU cores\n",
            "HPU available: False, using: 0 HPUs\n",
            "\n",
            "  | Name   | Type       | Params | Mode  | In sizes | Out sizes\n",
            "---------------------------------------------------------------------\n",
            "0 | layers | Sequential | 51.9 K | train | [64, 10] | [64, 1]  \n",
            "---------------------------------------------------------------------\n",
            "51.9 K    Trainable params\n",
            "0         Non-trainable params\n",
            "51.9 K    Total params\n",
            "0.208     Total estimated model params size (MB)\n",
            "17        Modules in train mode\n",
            "0         Modules in eval mode\n"
          ]
        },
        {
          "name": "stdout",
          "output_type": "stream",
          "text": [
            "train_model result: {'val_loss': 3523.98828125, 'hp_metric': 3523.98828125}\n",
            "spotpython tuning: 3228.65966796875 [####------] 43.07% \n"
          ]
        },
        {
          "name": "stderr",
          "output_type": "stream",
          "text": [
            "GPU available: True (mps), used: True\n",
            "TPU available: False, using: 0 TPU cores\n",
            "HPU available: False, using: 0 HPUs\n",
            "\n",
            "  | Name   | Type       | Params | Mode  | In sizes | Out sizes\n",
            "---------------------------------------------------------------------\n",
            "0 | layers | Sequential | 51.9 K | train | [64, 10] | [64, 1]  \n",
            "---------------------------------------------------------------------\n",
            "51.9 K    Trainable params\n",
            "0         Non-trainable params\n",
            "51.9 K    Total params\n",
            "0.208     Total estimated model params size (MB)\n",
            "17        Modules in train mode\n",
            "0         Modules in eval mode\n"
          ]
        },
        {
          "name": "stdout",
          "output_type": "stream",
          "text": [
            "train_model result: {'val_loss': 21379.70703125, 'hp_metric': 21379.70703125}\n",
            "spotpython tuning: 3228.65966796875 [#####-----] 45.49% \n"
          ]
        },
        {
          "name": "stderr",
          "output_type": "stream",
          "text": [
            "GPU available: True (mps), used: True\n",
            "TPU available: False, using: 0 TPU cores\n",
            "HPU available: False, using: 0 HPUs\n",
            "\n",
            "  | Name   | Type       | Params | Mode  | In sizes | Out sizes\n",
            "---------------------------------------------------------------------\n",
            "0 | layers | Sequential | 51.9 K | train | [64, 10] | [64, 1]  \n",
            "---------------------------------------------------------------------\n",
            "51.9 K    Trainable params\n",
            "0         Non-trainable params\n",
            "51.9 K    Total params\n",
            "0.208     Total estimated model params size (MB)\n",
            "17        Modules in train mode\n",
            "0         Modules in eval mode\n"
          ]
        },
        {
          "name": "stdout",
          "output_type": "stream",
          "text": [
            "train_model result: {'val_loss': 3281.513916015625, 'hp_metric': 3281.513916015625}\n",
            "spotpython tuning: 3228.65966796875 [#####-----] 48.35% \n"
          ]
        },
        {
          "name": "stderr",
          "output_type": "stream",
          "text": [
            "GPU available: True (mps), used: True\n",
            "TPU available: False, using: 0 TPU cores\n",
            "HPU available: False, using: 0 HPUs\n",
            "\n",
            "  | Name   | Type       | Params | Mode  | In sizes | Out sizes\n",
            "---------------------------------------------------------------------\n",
            "0 | layers | Sequential | 51.9 K | train | [64, 10] | [64, 1]  \n",
            "---------------------------------------------------------------------\n",
            "51.9 K    Trainable params\n",
            "0         Non-trainable params\n",
            "51.9 K    Total params\n",
            "0.208     Total estimated model params size (MB)\n",
            "17        Modules in train mode\n",
            "0         Modules in eval mode\n"
          ]
        },
        {
          "name": "stdout",
          "output_type": "stream",
          "text": [
            "train_model result: {'val_loss': 3326.1025390625, 'hp_metric': 3326.1025390625}\n",
            "spotpython tuning: 3228.65966796875 [#####-----] 51.00% \n"
          ]
        },
        {
          "name": "stderr",
          "output_type": "stream",
          "text": [
            "GPU available: True (mps), used: True\n",
            "TPU available: False, using: 0 TPU cores\n",
            "HPU available: False, using: 0 HPUs\n",
            "\n",
            "  | Name   | Type       | Params | Mode  | In sizes | Out sizes\n",
            "---------------------------------------------------------------------\n",
            "0 | layers | Sequential | 51.9 K | train | [64, 10] | [64, 1]  \n",
            "---------------------------------------------------------------------\n",
            "51.9 K    Trainable params\n",
            "0         Non-trainable params\n",
            "51.9 K    Total params\n",
            "0.208     Total estimated model params size (MB)\n",
            "17        Modules in train mode\n",
            "0         Modules in eval mode\n"
          ]
        },
        {
          "name": "stdout",
          "output_type": "stream",
          "text": [
            "train_model result: {'val_loss': 6862.0693359375, 'hp_metric': 6862.0693359375}\n",
            "spotpython tuning: 3228.65966796875 [#####-----] 52.89% \n"
          ]
        },
        {
          "name": "stderr",
          "output_type": "stream",
          "text": [
            "GPU available: True (mps), used: True\n",
            "TPU available: False, using: 0 TPU cores\n",
            "HPU available: False, using: 0 HPUs\n",
            "\n",
            "  | Name   | Type       | Params | Mode  | In sizes | Out sizes\n",
            "---------------------------------------------------------------------\n",
            "0 | layers | Sequential | 51.9 K | train | [64, 10] | [64, 1]  \n",
            "---------------------------------------------------------------------\n",
            "51.9 K    Trainable params\n",
            "0         Non-trainable params\n",
            "51.9 K    Total params\n",
            "0.208     Total estimated model params size (MB)\n",
            "17        Modules in train mode\n",
            "0         Modules in eval mode\n"
          ]
        },
        {
          "name": "stdout",
          "output_type": "stream",
          "text": [
            "train_model result: {'val_loss': 3296.29833984375, 'hp_metric': 3296.29833984375}\n",
            "spotpython tuning: 3228.65966796875 [######----] 55.18% \n"
          ]
        },
        {
          "name": "stderr",
          "output_type": "stream",
          "text": [
            "GPU available: True (mps), used: True\n",
            "TPU available: False, using: 0 TPU cores\n",
            "HPU available: False, using: 0 HPUs\n",
            "\n",
            "  | Name   | Type       | Params | Mode  | In sizes | Out sizes\n",
            "---------------------------------------------------------------------\n",
            "0 | layers | Sequential | 51.9 K | train | [64, 10] | [64, 1]  \n",
            "---------------------------------------------------------------------\n",
            "51.9 K    Trainable params\n",
            "0         Non-trainable params\n",
            "51.9 K    Total params\n",
            "0.208     Total estimated model params size (MB)\n",
            "17        Modules in train mode\n",
            "0         Modules in eval mode\n",
            "`Trainer.fit` stopped: `max_epochs=32` reached.\n"
          ]
        },
        {
          "name": "stdout",
          "output_type": "stream",
          "text": [
            "train_model result: {'val_loss': 3638.530029296875, 'hp_metric': 3638.530029296875}\n",
            "spotpython tuning: 3228.65966796875 [######----] 58.66% \n"
          ]
        },
        {
          "name": "stderr",
          "output_type": "stream",
          "text": [
            "GPU available: True (mps), used: True\n",
            "TPU available: False, using: 0 TPU cores\n",
            "HPU available: False, using: 0 HPUs\n",
            "\n",
            "  | Name   | Type       | Params | Mode  | In sizes | Out sizes\n",
            "---------------------------------------------------------------------\n",
            "0 | layers | Sequential | 51.9 K | train | [64, 10] | [64, 1]  \n",
            "---------------------------------------------------------------------\n",
            "51.9 K    Trainable params\n",
            "0         Non-trainable params\n",
            "51.9 K    Total params\n",
            "0.208     Total estimated model params size (MB)\n",
            "17        Modules in train mode\n",
            "0         Modules in eval mode\n"
          ]
        },
        {
          "name": "stdout",
          "output_type": "stream",
          "text": [
            "train_model result: {'val_loss': 3276.3759765625, 'hp_metric': 3276.3759765625}\n",
            "spotpython tuning: 3228.65966796875 [######----] 60.48% \n"
          ]
        },
        {
          "name": "stderr",
          "output_type": "stream",
          "text": [
            "GPU available: True (mps), used: True\n",
            "TPU available: False, using: 0 TPU cores\n",
            "HPU available: False, using: 0 HPUs\n",
            "\n",
            "  | Name   | Type       | Params | Mode  | In sizes | Out sizes\n",
            "---------------------------------------------------------------------\n",
            "0 | layers | Sequential | 51.9 K | train | [64, 10] | [64, 1]  \n",
            "---------------------------------------------------------------------\n",
            "51.9 K    Trainable params\n",
            "0         Non-trainable params\n",
            "51.9 K    Total params\n",
            "0.208     Total estimated model params size (MB)\n",
            "17        Modules in train mode\n",
            "0         Modules in eval mode\n"
          ]
        },
        {
          "name": "stdout",
          "output_type": "stream",
          "text": [
            "train_model result: {'val_loss': 12468.056640625, 'hp_metric': 12468.056640625}\n",
            "spotpython tuning: 3228.65966796875 [######----] 62.28% \n"
          ]
        },
        {
          "name": "stderr",
          "output_type": "stream",
          "text": [
            "GPU available: True (mps), used: True\n",
            "TPU available: False, using: 0 TPU cores\n",
            "HPU available: False, using: 0 HPUs\n",
            "\n",
            "  | Name   | Type       | Params | Mode  | In sizes | Out sizes\n",
            "---------------------------------------------------------------------\n",
            "0 | layers | Sequential | 51.9 K | train | [64, 10] | [64, 1]  \n",
            "---------------------------------------------------------------------\n",
            "51.9 K    Trainable params\n",
            "0         Non-trainable params\n",
            "51.9 K    Total params\n",
            "0.208     Total estimated model params size (MB)\n",
            "17        Modules in train mode\n",
            "0         Modules in eval mode\n"
          ]
        },
        {
          "name": "stdout",
          "output_type": "stream",
          "text": [
            "train_model result: {'val_loss': 3386.015380859375, 'hp_metric': 3386.015380859375}\n",
            "spotpython tuning: 3228.65966796875 [######----] 64.11% \n"
          ]
        },
        {
          "name": "stderr",
          "output_type": "stream",
          "text": [
            "GPU available: True (mps), used: True\n",
            "TPU available: False, using: 0 TPU cores\n",
            "HPU available: False, using: 0 HPUs\n",
            "\n",
            "  | Name   | Type       | Params | Mode  | In sizes | Out sizes\n",
            "---------------------------------------------------------------------\n",
            "0 | layers | Sequential | 51.9 K | train | [64, 10] | [64, 1]  \n",
            "---------------------------------------------------------------------\n",
            "51.9 K    Trainable params\n",
            "0         Non-trainable params\n",
            "51.9 K    Total params\n",
            "0.208     Total estimated model params size (MB)\n",
            "17        Modules in train mode\n",
            "0         Modules in eval mode\n"
          ]
        },
        {
          "name": "stdout",
          "output_type": "stream",
          "text": [
            "train_model result: {'val_loss': 3345.7900390625, 'hp_metric': 3345.7900390625}\n",
            "spotpython tuning: 3228.65966796875 [#######---] 66.38% \n"
          ]
        },
        {
          "name": "stderr",
          "output_type": "stream",
          "text": [
            "GPU available: True (mps), used: True\n",
            "TPU available: False, using: 0 TPU cores\n",
            "HPU available: False, using: 0 HPUs\n",
            "\n",
            "  | Name   | Type       | Params | Mode  | In sizes | Out sizes\n",
            "---------------------------------------------------------------------\n",
            "0 | layers | Sequential | 51.9 K | train | [64, 10] | [64, 1]  \n",
            "---------------------------------------------------------------------\n",
            "51.9 K    Trainable params\n",
            "0         Non-trainable params\n",
            "51.9 K    Total params\n",
            "0.208     Total estimated model params size (MB)\n",
            "17        Modules in train mode\n",
            "0         Modules in eval mode\n"
          ]
        },
        {
          "name": "stdout",
          "output_type": "stream",
          "text": [
            "train_model result: {'val_loss': 3411.15283203125, 'hp_metric': 3411.15283203125}\n",
            "spotpython tuning: 3228.65966796875 [#######---] 68.87% \n"
          ]
        },
        {
          "name": "stderr",
          "output_type": "stream",
          "text": [
            "GPU available: True (mps), used: True\n",
            "TPU available: False, using: 0 TPU cores\n",
            "HPU available: False, using: 0 HPUs\n",
            "\n",
            "  | Name   | Type       | Params | Mode  | In sizes | Out sizes\n",
            "---------------------------------------------------------------------\n",
            "0 | layers | Sequential | 51.9 K | train | [64, 10] | [64, 1]  \n",
            "---------------------------------------------------------------------\n",
            "51.9 K    Trainable params\n",
            "0         Non-trainable params\n",
            "51.9 K    Total params\n",
            "0.208     Total estimated model params size (MB)\n",
            "17        Modules in train mode\n",
            "0         Modules in eval mode\n"
          ]
        },
        {
          "name": "stdout",
          "output_type": "stream",
          "text": [
            "train_model result: {'val_loss': 3278.40966796875, 'hp_metric': 3278.40966796875}\n",
            "spotpython tuning: 3228.65966796875 [#######---] 71.32% \n"
          ]
        },
        {
          "name": "stderr",
          "output_type": "stream",
          "text": [
            "GPU available: True (mps), used: True\n",
            "TPU available: False, using: 0 TPU cores\n",
            "HPU available: False, using: 0 HPUs\n",
            "\n",
            "  | Name   | Type       | Params | Mode  | In sizes | Out sizes\n",
            "---------------------------------------------------------------------\n",
            "0 | layers | Sequential | 51.9 K | train | [64, 10] | [64, 1]  \n",
            "---------------------------------------------------------------------\n",
            "51.9 K    Trainable params\n",
            "0         Non-trainable params\n",
            "51.9 K    Total params\n",
            "0.208     Total estimated model params size (MB)\n",
            "17        Modules in train mode\n",
            "0         Modules in eval mode\n"
          ]
        },
        {
          "name": "stdout",
          "output_type": "stream",
          "text": [
            "train_model result: {'val_loss': 3225.05712890625, 'hp_metric': 3225.05712890625}\n",
            "spotpython tuning: 3225.05712890625 [#######---] 74.15% \n"
          ]
        },
        {
          "name": "stderr",
          "output_type": "stream",
          "text": [
            "GPU available: True (mps), used: True\n",
            "TPU available: False, using: 0 TPU cores\n",
            "HPU available: False, using: 0 HPUs\n",
            "\n",
            "  | Name   | Type       | Params | Mode  | In sizes | Out sizes\n",
            "---------------------------------------------------------------------\n",
            "0 | layers | Sequential | 51.9 K | train | [64, 10] | [64, 1]  \n",
            "---------------------------------------------------------------------\n",
            "51.9 K    Trainable params\n",
            "0         Non-trainable params\n",
            "51.9 K    Total params\n",
            "0.208     Total estimated model params size (MB)\n",
            "17        Modules in train mode\n",
            "0         Modules in eval mode\n"
          ]
        },
        {
          "name": "stdout",
          "output_type": "stream",
          "text": [
            "train_model result: {'val_loss': 3160.129150390625, 'hp_metric': 3160.129150390625}\n",
            "spotpython tuning: 3160.129150390625 [########--] 76.40% \n"
          ]
        },
        {
          "name": "stderr",
          "output_type": "stream",
          "text": [
            "GPU available: True (mps), used: True\n",
            "TPU available: False, using: 0 TPU cores\n",
            "HPU available: False, using: 0 HPUs\n",
            "\n",
            "  | Name   | Type       | Params | Mode  | In sizes | Out sizes\n",
            "---------------------------------------------------------------------\n",
            "0 | layers | Sequential | 51.9 K | train | [64, 10] | [64, 1]  \n",
            "---------------------------------------------------------------------\n",
            "51.9 K    Trainable params\n",
            "0         Non-trainable params\n",
            "51.9 K    Total params\n",
            "0.208     Total estimated model params size (MB)\n",
            "17        Modules in train mode\n",
            "0         Modules in eval mode\n"
          ]
        },
        {
          "name": "stdout",
          "output_type": "stream",
          "text": [
            "train_model result: {'val_loss': 3569.117431640625, 'hp_metric': 3569.117431640625}\n",
            "spotpython tuning: 3160.129150390625 [########--] 78.80% \n"
          ]
        },
        {
          "name": "stderr",
          "output_type": "stream",
          "text": [
            "GPU available: True (mps), used: True\n",
            "TPU available: False, using: 0 TPU cores\n",
            "HPU available: False, using: 0 HPUs\n",
            "\n",
            "  | Name   | Type       | Params | Mode  | In sizes | Out sizes\n",
            "---------------------------------------------------------------------\n",
            "0 | layers | Sequential | 51.9 K | train | [64, 10] | [64, 1]  \n",
            "---------------------------------------------------------------------\n",
            "51.9 K    Trainable params\n",
            "0         Non-trainable params\n",
            "51.9 K    Total params\n",
            "0.208     Total estimated model params size (MB)\n",
            "17        Modules in train mode\n",
            "0         Modules in eval mode\n"
          ]
        },
        {
          "name": "stdout",
          "output_type": "stream",
          "text": [
            "train_model result: {'val_loss': 6475.9658203125, 'hp_metric': 6475.9658203125}\n",
            "spotpython tuning: 3160.129150390625 [########--] 81.46% \n"
          ]
        },
        {
          "name": "stderr",
          "output_type": "stream",
          "text": [
            "GPU available: True (mps), used: True\n",
            "TPU available: False, using: 0 TPU cores\n",
            "HPU available: False, using: 0 HPUs\n",
            "\n",
            "  | Name   | Type       | Params | Mode  | In sizes | Out sizes\n",
            "---------------------------------------------------------------------\n",
            "0 | layers | Sequential | 51.9 K | train | [64, 10] | [64, 1]  \n",
            "---------------------------------------------------------------------\n",
            "51.9 K    Trainable params\n",
            "0         Non-trainable params\n",
            "51.9 K    Total params\n",
            "0.208     Total estimated model params size (MB)\n",
            "17        Modules in train mode\n",
            "0         Modules in eval mode\n"
          ]
        },
        {
          "name": "stdout",
          "output_type": "stream",
          "text": [
            "train_model result: {'val_loss': 3821.56005859375, 'hp_metric': 3821.56005859375}\n",
            "spotpython tuning: 3160.129150390625 [########--] 84.43% \n"
          ]
        },
        {
          "name": "stderr",
          "output_type": "stream",
          "text": [
            "GPU available: True (mps), used: True\n",
            "TPU available: False, using: 0 TPU cores\n",
            "HPU available: False, using: 0 HPUs\n",
            "\n",
            "  | Name   | Type       | Params | Mode  | In sizes | Out sizes\n",
            "---------------------------------------------------------------------\n",
            "0 | layers | Sequential | 51.9 K | train | [64, 10] | [64, 1]  \n",
            "---------------------------------------------------------------------\n",
            "51.9 K    Trainable params\n",
            "0         Non-trainable params\n",
            "51.9 K    Total params\n",
            "0.208     Total estimated model params size (MB)\n",
            "17        Modules in train mode\n",
            "0         Modules in eval mode\n"
          ]
        },
        {
          "name": "stdout",
          "output_type": "stream",
          "text": [
            "train_model result: {'val_loss': 3343.693359375, 'hp_metric': 3343.693359375}\n",
            "spotpython tuning: 3160.129150390625 [#########-] 86.68% \n"
          ]
        },
        {
          "name": "stderr",
          "output_type": "stream",
          "text": [
            "GPU available: True (mps), used: True\n",
            "TPU available: False, using: 0 TPU cores\n",
            "HPU available: False, using: 0 HPUs\n",
            "\n",
            "  | Name   | Type       | Params | Mode  | In sizes | Out sizes\n",
            "---------------------------------------------------------------------\n",
            "0 | layers | Sequential | 51.9 K | train | [64, 10] | [64, 1]  \n",
            "---------------------------------------------------------------------\n",
            "51.9 K    Trainable params\n",
            "0         Non-trainable params\n",
            "51.9 K    Total params\n",
            "0.208     Total estimated model params size (MB)\n",
            "17        Modules in train mode\n",
            "0         Modules in eval mode\n"
          ]
        },
        {
          "name": "stdout",
          "output_type": "stream",
          "text": [
            "train_model result: {'val_loss': 3376.55859375, 'hp_metric': 3376.55859375}\n",
            "spotpython tuning: 3160.129150390625 [#########-] 88.57% \n"
          ]
        },
        {
          "name": "stderr",
          "output_type": "stream",
          "text": [
            "GPU available: True (mps), used: True\n",
            "TPU available: False, using: 0 TPU cores\n",
            "HPU available: False, using: 0 HPUs\n",
            "\n",
            "  | Name   | Type       | Params | Mode  | In sizes | Out sizes\n",
            "---------------------------------------------------------------------\n",
            "0 | layers | Sequential | 51.9 K | train | [64, 10] | [64, 1]  \n",
            "---------------------------------------------------------------------\n",
            "51.9 K    Trainable params\n",
            "0         Non-trainable params\n",
            "51.9 K    Total params\n",
            "0.208     Total estimated model params size (MB)\n",
            "17        Modules in train mode\n",
            "0         Modules in eval mode\n",
            "`Trainer.fit` stopped: `max_epochs=32` reached.\n"
          ]
        },
        {
          "name": "stdout",
          "output_type": "stream",
          "text": [
            "train_model result: {'val_loss': 3396.094970703125, 'hp_metric': 3396.094970703125}\n",
            "spotpython tuning: 3160.129150390625 [#########-] 91.57% \n"
          ]
        },
        {
          "name": "stderr",
          "output_type": "stream",
          "text": [
            "GPU available: True (mps), used: True\n",
            "TPU available: False, using: 0 TPU cores\n",
            "HPU available: False, using: 0 HPUs\n",
            "\n",
            "  | Name   | Type       | Params | Mode  | In sizes | Out sizes\n",
            "---------------------------------------------------------------------\n",
            "0 | layers | Sequential | 51.9 K | train | [64, 10] | [64, 1]  \n",
            "---------------------------------------------------------------------\n",
            "51.9 K    Trainable params\n",
            "0         Non-trainable params\n",
            "51.9 K    Total params\n",
            "0.208     Total estimated model params size (MB)\n",
            "17        Modules in train mode\n",
            "0         Modules in eval mode\n"
          ]
        },
        {
          "name": "stdout",
          "output_type": "stream",
          "text": [
            "train_model result: {'val_loss': 3430.751708984375, 'hp_metric': 3430.751708984375}\n",
            "spotpython tuning: 3160.129150390625 [#########-] 94.01% \n"
          ]
        },
        {
          "name": "stderr",
          "output_type": "stream",
          "text": [
            "GPU available: True (mps), used: True\n",
            "TPU available: False, using: 0 TPU cores\n",
            "HPU available: False, using: 0 HPUs\n",
            "\n",
            "  | Name   | Type       | Params | Mode  | In sizes | Out sizes\n",
            "---------------------------------------------------------------------\n",
            "0 | layers | Sequential | 51.9 K | train | [64, 10] | [64, 1]  \n",
            "---------------------------------------------------------------------\n",
            "51.9 K    Trainable params\n",
            "0         Non-trainable params\n",
            "51.9 K    Total params\n",
            "0.208     Total estimated model params size (MB)\n",
            "17        Modules in train mode\n",
            "0         Modules in eval mode\n"
          ]
        },
        {
          "name": "stdout",
          "output_type": "stream",
          "text": [
            "train_model result: {'val_loss': 20867.796875, 'hp_metric': 20867.796875}\n",
            "spotpython tuning: 3160.129150390625 [##########] 95.73% \n"
          ]
        },
        {
          "name": "stderr",
          "output_type": "stream",
          "text": [
            "GPU available: True (mps), used: True\n",
            "TPU available: False, using: 0 TPU cores\n",
            "HPU available: False, using: 0 HPUs\n",
            "\n",
            "  | Name   | Type       | Params | Mode  | In sizes   | Out sizes\n",
            "-----------------------------------------------------------------------\n",
            "0 | layers | Sequential | 202 K  | train | [1024, 10] | [1024, 1]\n",
            "-----------------------------------------------------------------------\n",
            "202 K     Trainable params\n",
            "0         Non-trainable params\n",
            "202 K     Total params\n",
            "0.812     Total estimated model params size (MB)\n",
            "17        Modules in train mode\n",
            "0         Modules in eval mode\n",
            "`Trainer.fit` stopped: `max_epochs=32` reached.\n"
          ]
        },
        {
          "name": "stdout",
          "output_type": "stream",
          "text": [
            "train_model result: {'val_loss': 23914.5234375, 'hp_metric': 23914.5234375}\n",
            "spotpython tuning: 3160.129150390625 [##########] 97.44% \n"
          ]
        },
        {
          "name": "stderr",
          "output_type": "stream",
          "text": [
            "GPU available: True (mps), used: True\n",
            "TPU available: False, using: 0 TPU cores\n",
            "HPU available: False, using: 0 HPUs\n",
            "\n",
            "  | Name   | Type       | Params | Mode  | In sizes | Out sizes\n",
            "---------------------------------------------------------------------\n",
            "0 | layers | Sequential | 51.9 K | train | [64, 10] | [64, 1]  \n",
            "---------------------------------------------------------------------\n",
            "51.9 K    Trainable params\n",
            "0         Non-trainable params\n",
            "51.9 K    Total params\n",
            "0.208     Total estimated model params size (MB)\n",
            "17        Modules in train mode\n",
            "0         Modules in eval mode\n"
          ]
        },
        {
          "name": "stdout",
          "output_type": "stream",
          "text": [
            "train_model result: {'val_loss': 3788.2216796875, 'hp_metric': 3788.2216796875}\n",
            "spotpython tuning: 3160.129150390625 [##########] 99.50% \n"
          ]
        },
        {
          "name": "stderr",
          "output_type": "stream",
          "text": [
            "GPU available: True (mps), used: True\n",
            "TPU available: False, using: 0 TPU cores\n",
            "HPU available: False, using: 0 HPUs\n",
            "\n",
            "  | Name   | Type       | Params | Mode  | In sizes | Out sizes\n",
            "---------------------------------------------------------------------\n",
            "0 | layers | Sequential | 51.9 K | train | [64, 10] | [64, 1]  \n",
            "---------------------------------------------------------------------\n",
            "51.9 K    Trainable params\n",
            "0         Non-trainable params\n",
            "51.9 K    Total params\n",
            "0.208     Total estimated model params size (MB)\n",
            "17        Modules in train mode\n",
            "0         Modules in eval mode\n"
          ]
        },
        {
          "name": "stdout",
          "output_type": "stream",
          "text": [
            "train_model result: {'val_loss': 3567.052001953125, 'hp_metric': 3567.052001953125}\n",
            "spotpython tuning: 3160.129150390625 [##########] 100.00% Done...\n",
            "\n",
            "Experiment saved to 601_res.pkl\n"
          ]
        },
        {
          "data": {
            "text/plain": [
              "<spotpython.spot.spot.Spot at 0x114804e30>"
            ]
          },
          "execution_count": 4,
          "metadata": {},
          "output_type": "execute_result"
        }
      ],
      "source": [
        "#| label: 601_run\n",
        "S = Spot(fun=fun,fun_control=fun_control, design_control=design_control)\n",
        "S.run()"
      ]
    },
    {
      "cell_type": "markdown",
      "metadata": {},
      "source": [
        "## Looking at the Results\n",
        "\n",
        "### Tuning Progress\n",
        "\n",
        "After the hyperparameter tuning run is finished, the progress of the hyperparameter tuning can be visualized with `spotpython`'s method `plot_progress`. The black points represent the performace values (score or metric) of  hyperparameter configurations from the initial design, whereas the red points represents the  hyperparameter configurations found by the surrogate model based optimization."
      ]
    },
    {
      "cell_type": "code",
      "execution_count": null,
      "metadata": {},
      "outputs": [
        {
          "data": {
            "image/png": "[encoded data removed]",
            "text/plain": [
              "<Figure size 900x600 with 1 Axes>"
            ]
          },
          "metadata": {},
          "output_type": "display_data"
        }
      ],
      "source": [
        "#| label: 601_plot_progress_1\n",
        "S.plot_progress()"
      ]
    },
    {
      "cell_type": "markdown",
      "metadata": {},
      "source": [
        "### Tuned Hyperparameters and Their Importance\n",
        "\n",
        "Results can be printed in tabular form."
      ]
    },
    {
      "cell_type": "code",
      "execution_count": null,
      "metadata": {},
      "outputs": [
        {
          "name": "stdout",
          "output_type": "stream",
          "text": [
            "| name           | type   | default   |   lower |   upper | tuned             | transform             |   importance | stars   |\n",
            "|----------------|--------|-----------|---------|---------|-------------------|-----------------------|--------------|---------|\n",
            "| l1             | int    | 3         |     3.0 |     4.0 | 3.0               | transform_power_2_int |        18.93 | *       |\n",
            "| epochs         | int    | 4         |     3.0 |     7.0 | 5.0               | transform_power_2_int |        19.25 | *       |\n",
            "| batch_size     | int    | 4         |     4.0 |    11.0 | 6.0               | transform_power_2_int |         0.00 |         |\n",
            "| act_fn         | factor | ReLU      |     0.0 |     5.0 | ReLU              | None                  |         0.00 |         |\n",
            "| optimizer      | factor | SGD       |     0.0 |     2.0 | Adadelta          | None                  |         1.18 | *       |\n",
            "| dropout_prob   | float  | 0.01      |     0.0 |   0.025 | 0.025             | None                  |         0.00 |         |\n",
            "| lr_mult        | float  | 1.0       |     0.1 |    10.0 | 4.768940284499347 | None                  |       100.00 | ***     |\n",
            "| patience       | int    | 2         |     2.0 |     3.0 | 3.0               | transform_power_2_int |         0.01 |         |\n",
            "| batch_norm     | factor | 0         |     0.0 |     1.0 | 0                 | None                  |         0.73 | .       |\n",
            "| initialization | factor | Default   |     0.0 |     4.0 | kaiming_normal    | None                  |         0.00 |         |\n"
          ]
        }
      ],
      "source": [
        "from spotpython.utils.eda import gen_design_table\n",
        "print(gen_design_table(fun_control=fun_control, spot=S))"
      ]
    },
    {
      "cell_type": "markdown",
      "metadata": {},
      "source": [
        "A histogram can be used to visualize the most important hyperparameters."
      ]
    },
    {
      "cell_type": "code",
      "execution_count": null,
      "metadata": {},
      "outputs": [
        {
          "data": {
            "image/png": "[encoded data removed]",
            "text/plain": [
              "<Figure size 640x480 with 1 Axes>"
            ]
          },
          "metadata": {},
          "output_type": "display_data"
        }
      ],
      "source": [
        "S.plot_importance(threshold=1.0)"
      ]
    },
    {
      "cell_type": "code",
      "execution_count": null,
      "metadata": {},
      "outputs": [
        {
          "name": "stdout",
          "output_type": "stream",
          "text": [
            "l1:  18.92582347547081\n",
            "epochs:  19.254078054131366\n",
            "batch_size:  0.0012439210241905554\n",
            "act_fn:  0.0012439210241905554\n",
            "optimizer:  1.1764570775922896\n",
            "dropout_prob:  0.0019772055551804365\n",
            "lr_mult:  100.0\n",
            "patience:  0.007137382766218943\n",
            "batch_norm:  0.7286986330067262\n",
            "initialization:  0.0012439210241905554\n"
          ]
        },
        {
          "data": {
            "image/png": "[encoded data removed]",
            "text/plain": [
              "<Figure size 1200x600 with 3 Axes>"
            ]
          },
          "metadata": {},
          "output_type": "display_data"
        },
        {
          "data": {
            "image/png": "[encoded data removed]",
            "text/plain": [
              "<Figure size 1200x600 with 3 Axes>"
            ]
          },
          "metadata": {},
          "output_type": "display_data"
        },
        {
          "data": {
            "image/png": "[encoded data removed]",
            "text/plain": [
              "<Figure size 1200x600 with 3 Axes>"
            ]
          },
          "metadata": {},
          "output_type": "display_data"
        }
      ],
      "source": [
        "S.plot_important_hyperparameter_contour(max_imp=3)"
      ]
    },
    {
      "cell_type": "markdown",
      "metadata": {},
      "source": [
        "### Get the Tuned Architecture {#sec-get-spot-results-601}"
      ]
    },
    {
      "cell_type": "code",
      "execution_count": null,
      "metadata": {},
      "outputs": [
        {
          "name": "stdout",
          "output_type": "stream",
          "text": [
            "{'act_fn': ReLU(),\n",
            " 'batch_norm': False,\n",
            " 'batch_size': 64,\n",
            " 'dropout_prob': 0.025,\n",
            " 'epochs': 32,\n",
            " 'initialization': 'kaiming_normal',\n",
            " 'l1': 8,\n",
            " 'lr_mult': 4.768940284499347,\n",
            " 'optimizer': 'Adadelta',\n",
            " 'patience': 8}\n"
          ]
        }
      ],
      "source": [
        "import pprint\n",
        "from spotpython.hyperparameters.values import get_tuned_architecture\n",
        "config = get_tuned_architecture(S)\n",
        "pprint.pprint(config)"
      ]
    },
    {
      "cell_type": "markdown",
      "metadata": {},
      "source": [
        "### Test on the full data set"
      ]
    },
    {
      "cell_type": "code",
      "execution_count": null,
      "metadata": {},
      "outputs": [],
      "source": [
        "# set the value of the key \"TENSORBOARD_CLEAN\" to True in the fun_control dictionary and use the update() method to update the fun_control dictionary\n",
        "fun_control.update({\"TENSORBOARD_CLEAN\": True})\n",
        "fun_control.update({\"tensorboard_log\": True})"
      ]
    },
    {
      "cell_type": "code",
      "execution_count": null,
      "metadata": {},
      "outputs": [
        {
          "name": "stderr",
          "output_type": "stream",
          "text": [
            "GPU available: True (mps), used: True\n",
            "TPU available: False, using: 0 TPU cores\n",
            "HPU available: False, using: 0 HPUs\n",
            "\n",
            "  | Name   | Type       | Params | Mode  | In sizes | Out sizes\n",
            "---------------------------------------------------------------------\n",
            "0 | layers | Sequential | 51.9 K | train | [64, 10] | [64, 1]  \n",
            "---------------------------------------------------------------------\n",
            "51.9 K    Trainable params\n",
            "0         Non-trainable params\n",
            "51.9 K    Total params\n",
            "0.208     Total estimated model params size (MB)\n",
            "17        Modules in train mode\n",
            "0         Modules in eval mode\n",
            "Restoring states from the checkpoint path at /Users/bartz/workspace/Hyperparameter-Tuning-Cookbook/runs/saved_models/8_32_64_ReLU_Adadelta_0.025_4.7689_8_False_kaiming_normal_TEST/epoch=16-step=51.ckpt\n",
            "Loaded model weights from the checkpoint at /Users/bartz/workspace/Hyperparameter-Tuning-Cookbook/runs/saved_models/8_32_64_ReLU_Adadelta_0.025_4.7689_8_False_kaiming_normal_TEST/epoch=16-step=51.ckpt\n"
          ]
        },
        {
          "data": {
            "text/html": [
              "<pre style=\"white-space:pre;overflow-x:auto;line-height:normal;font-family:Menlo,'DejaVu Sans Mono',consolas,'Courier New',monospace\">┏━━━━━━━━━━━━━━━━━━━━━━━━━━━┳━━━━━━━━━━━━━━━━━━━━━━━━━━━┓\n",
              "┃<span style=\"font-weight: bold\">        Test metric        </span>┃<span style=\"font-weight: bold\">       DataLoader 0        </span>┃\n",
              "┡━━━━━━━━━━━━━━━━━━━━━━━━━━━╇━━━━━━━━━━━━━━━━━━━━━━━━━━━┩\n",
              "│<span style=\"color: #008080; text-decoration-color: #008080\">         hp_metric         </span>│<span style=\"color: #800080; text-decoration-color: #800080\">     3599.204833984375     </span>│\n",
              "│<span style=\"color: #008080; text-decoration-color: #008080\">         val_loss          </span>│<span style=\"color: #800080; text-decoration-color: #800080\">     3599.204833984375     </span>│\n",
              "└───────────────────────────┴───────────────────────────┘\n",
              "</pre>\n"
            ],
            "text/plain": [
              "┏━━━━━━━━━━━━━━━━━━━━━━━━━━━┳━━━━━━━━━━━━━━━━━━━━━━━━━━━┓\n",
              "┃\u001b[1m \u001b[0m\u001b[1m       Test metric       \u001b[0m\u001b[1m \u001b[0m┃\u001b[1m \u001b[0m\u001b[1m      DataLoader 0       \u001b[0m\u001b[1m \u001b[0m┃\n",
              "┡━━━━━━━━━━━━━━━━━━━━━━━━━━━╇━━━━━━━━━━━━━━━━━━━━━━━━━━━┩\n",
              "│\u001b[36m \u001b[0m\u001b[36m        hp_metric        \u001b[0m\u001b[36m \u001b[0m│\u001b[35m \u001b[0m\u001b[35m    3599.204833984375    \u001b[0m\u001b[35m \u001b[0m│\n",
              "│\u001b[36m \u001b[0m\u001b[36m        val_loss         \u001b[0m\u001b[36m \u001b[0m│\u001b[35m \u001b[0m\u001b[35m    3599.204833984375    \u001b[0m\u001b[35m \u001b[0m│\n",
              "└───────────────────────────┴───────────────────────────┘\n"
            ]
          },
          "metadata": {},
          "output_type": "display_data"
        },
        {
          "name": "stdout",
          "output_type": "stream",
          "text": [
            "test_model result: {'val_loss': 3599.204833984375, 'hp_metric': 3599.204833984375}\n"
          ]
        },
        {
          "data": {
            "text/plain": [
              "['age',\n",
              " 'sex',\n",
              " 'bmi',\n",
              " 'bp',\n",
              " 's1_tc',\n",
              " 's2_ldl',\n",
              " 's3_hdl',\n",
              " 's4_tch',\n",
              " 's5_ltg',\n",
              " 's6_glu']"
            ]
          },
          "execution_count": 11,
          "metadata": {},
          "output_type": "execute_result"
        }
      ],
      "source": [
        "from spotpython.light.testmodel import test_model\n",
        "from spotpython.utils.init import get_feature_names\n",
        "\n",
        "test_model(config, fun_control)\n",
        "get_feature_names(fun_control)"
      ]
    },
    {
      "cell_type": "markdown",
      "metadata": {},
      "source": [
        "## Cross Validation With Lightning\n",
        "\n",
        "* The `KFold` class from `sklearn.model_selection` is used to generate the folds for cross-validation.\n",
        "* These mechanism is used to generate the folds for the final evaluation of the model.\n",
        "* The `CrossValidationDataModule` class [[SOURCE]](https://github.com/sequential-parameter-optimization/spotpython/blob/main/src/spotpython/data/lightcrossvalidationdatamodule.py) is used to generate the folds for the hyperparameter tuning process.\n",
        "* It is called from the `cv_model` function [[SOURCE]](https://github.com/sequential-parameter-optimization/spotpython/blob/main/src/spotpython/light/cvmodel.py)."
      ]
    },
    {
      "cell_type": "code",
      "execution_count": null,
      "metadata": {},
      "outputs": [
        {
          "data": {
            "text/plain": [
              "{'l1': 8,\n",
              " 'epochs': 32,\n",
              " 'batch_size': 64,\n",
              " 'act_fn': ReLU(),\n",
              " 'optimizer': 'Adadelta',\n",
              " 'dropout_prob': 0.025,\n",
              " 'lr_mult': 4.768940284499347,\n",
              " 'patience': 8,\n",
              " 'batch_norm': False,\n",
              " 'initialization': 'kaiming_normal'}"
            ]
          },
          "execution_count": 12,
          "metadata": {},
          "output_type": "execute_result"
        }
      ],
      "source": [
        "config"
      ]
    },
    {
      "cell_type": "code",
      "execution_count": null,
      "metadata": {},
      "outputs": [
        {
          "name": "stderr",
          "output_type": "stream",
          "text": [
            "GPU available: True (mps), used: True\n",
            "TPU available: False, using: 0 TPU cores\n",
            "HPU available: False, using: 0 HPUs\n",
            "\n",
            "  | Name   | Type       | Params | Mode  | In sizes | Out sizes\n",
            "---------------------------------------------------------------------\n",
            "0 | layers | Sequential | 51.9 K | train | [64, 10] | [64, 1]  \n",
            "---------------------------------------------------------------------\n",
            "51.9 K    Trainable params\n",
            "0         Non-trainable params\n",
            "51.9 K    Total params\n",
            "0.208     Total estimated model params size (MB)\n",
            "17        Modules in train mode\n",
            "0         Modules in eval mode\n"
          ]
        },
        {
          "name": "stdout",
          "output_type": "stream",
          "text": [
            "k: 0\n"
          ]
        },
        {
          "name": "stderr",
          "output_type": "stream",
          "text": [
            "`Trainer.fit` stopped: `max_epochs=32` reached.\n",
            "GPU available: True (mps), used: True\n",
            "TPU available: False, using: 0 TPU cores\n",
            "HPU available: False, using: 0 HPUs\n",
            "\n",
            "  | Name   | Type       | Params | Mode  | In sizes | Out sizes\n",
            "---------------------------------------------------------------------\n",
            "0 | layers | Sequential | 51.9 K | train | [64, 10] | [64, 1]  \n",
            "---------------------------------------------------------------------\n",
            "51.9 K    Trainable params\n",
            "0         Non-trainable params\n",
            "51.9 K    Total params\n",
            "0.208     Total estimated model params size (MB)\n",
            "17        Modules in train mode\n",
            "0         Modules in eval mode\n"
          ]
        },
        {
          "name": "stdout",
          "output_type": "stream",
          "text": [
            "train_model result: {'val_loss': 3384.131103515625, 'hp_metric': 3384.131103515625}\n",
            "k: 1\n",
            "train_model result: {'val_loss': 3116.005126953125, 'hp_metric': 3116.005126953125}\n"
          ]
        },
        {
          "data": {
            "text/plain": [
              "3250.068115234375"
            ]
          },
          "execution_count": 13,
          "metadata": {},
          "output_type": "execute_result"
        }
      ],
      "source": [
        "from spotpython.light.cvmodel import cv_model\n",
        "fun_control.update({\"k_folds\": 2})\n",
        "fun_control.update({\"test_size\": 0.6})\n",
        "cv_model(config, fun_control)"
      ]
    },
    {
      "cell_type": "markdown",
      "metadata": {},
      "source": [
        "## Extending the Basic Setup\n",
        "\n",
        "This basic setup can be adapted to user-specific needs in many ways. For example, the user can specify a custom data set, a custom model, or a custom loss function.\n",
        "The following sections provide more details on how to customize the hyperparameter tuning process.\n",
        "Before we proceed, we will provide an overview of the basic settings of the hyperparameter tuning process and explain the parameters used so far.\n",
        "\n",
        "### General Experiment Setup {#sec-general-experiment-setup-601}\n",
        "\n",
        "To keep track of the different experiments, we use a `PREFIX` for the experiment name. The `PREFIX` is used to create a unique experiment name. The `PREFIX` is also used to create a unique TensorBoard folder, which is used to store the TensorBoard log files.\n",
        "\n",
        "`spotpython` allows the specification of two different types of stopping criteria: first, the number of function evaluations (`fun_evals`), and second, the maximum run time in seconds (`max_time`). Here, we will set the number of function evaluations to infinity and the maximum run time to one minute.\n",
        "\n",
        "`max_time` is set to one minute for demonstration purposes. For real experiments, this value should be increased.\n",
        "Note,  the total run time may exceed the specified `max_time`, because the initial design is always evaluated, even if this takes longer than `max_time`.\n",
        "\n",
        "\n",
        "### Data Setup {#sec-data-601}\n",
        "\n",
        "Here, we have provided the `Diabetes` data set class, which is a subclass of `torch.utils.data.Dataset`. \n",
        "Data preprocessing is handled by `Lightning` and `PyTorch`. It is described in the [LIGHTNINGDATAMODULE](https://lightning.ai/docs/pytorch/stable/data/datamodule.html) documentation. \n",
        "\n",
        "The data splitting, i.e., the generation of training, validation, and testing data, is handled by `Lightning`.\n",
        "\n",
        "\n",
        "### Objective Function `fun` {#sec-the-objective-function-601}\n",
        "\n",
        "The objective function `fun` from the class `HyperLight` [[SOURCE]](https://github.com/sequential-parameter-optimization/spotpython/blob/main/src/spotpython/fun/hyperlight.py) is selected next. It implements an interface from `PyTorch`'s training, validation, and testing methods to `spotpython`.\n",
        "\n",
        "### Core-Model Setup\n",
        "\n",
        "By using `core_model_name = \"light.regression.NNLinearRegressor\"`, the `spotpython` model class `NetLightRegression` [[SOURCE]](https://sequential-parameter-optimization.github.io/spotpython/reference/spotpython/light/regression/netlightregression/) from the `light.regression` module is selected.\n",
        "\n",
        "### Hyperdict Setup\n",
        "\n",
        "For a given `core_model_name`, the corresponding hyperparameters are automatically loaded from the associated dictionary, which is stored as a JSON file. The JSON file contains hyperparameter type information, names, and bounds. For `spotpython` models, the hyperparameters are stored in the `LightHyperDict`, see [[SOURCE]](https://github.com/sequential-parameter-optimization/spotpython/blob/main/src/spotpython/hyperdict/light_hyper_dict.json)\n",
        "Alternatively, you can load a local hyper_dict.\n",
        "The `hyperdict`  uses the default hyperparameter settings. These can be modified as described in @sec-modifying-hyperparameter-levels.\n",
        "\n",
        "### Other Settings {#sec-other-settings-601}\n",
        "\n",
        "There are several additional parameters that can be specified, e.g., since we did not specify a loss function, `mean_squared_error` is used, which is the default loss function. These will be explained in more detail in the following sections.\n",
        "\n",
        "\n",
        "## Tensorboard {#sec-tensorboard-601}\n",
        "\n",
        "The textual output shown in the console (or code cell) can be visualized with Tensorboard, if the argument `tensorboard_log` to `fun_control_init()` is set to `True`. The Tensorboard log files are stored in the `runs` folder. To start Tensorboard, run the following command in the terminal:\n",
        "\n",
        "\n",
        "```{raw}\n",
        "tensorboard --logdir=\"runs/\"\n",
        "```\n",
        "\n",
        "Further information can be found in the [PyTorch Lightning documentation](https://lightning.ai/docs/pytorch/stable/api/lightning.pytorch.loggers.tensorboard.html) for Tensorboard.\n",
        "\n",
        "## Loading the Saved Experiment and Getting the Hyperparameters of the Tuned Model\n",
        "\n",
        "To get the tuned hyperparameters as a dictionary, the `get_tuned_architecture` function can be used."
      ]
    },
    {
      "cell_type": "code",
      "execution_count": null,
      "metadata": {},
      "outputs": [
        {
          "name": "stdout",
          "output_type": "stream",
          "text": [
            "Loaded experiment from 601_res.pkl\n"
          ]
        },
        {
          "data": {
            "text/plain": [
              "{'l1': 8,\n",
              " 'epochs': 32,\n",
              " 'batch_size': 64,\n",
              " 'act_fn': ReLU(),\n",
              " 'optimizer': 'Adadelta',\n",
              " 'dropout_prob': 0.025,\n",
              " 'lr_mult': 4.768940284499347,\n",
              " 'patience': 8,\n",
              " 'batch_norm': False,\n",
              " 'initialization': 'kaiming_normal'}"
            ]
          },
          "execution_count": 14,
          "metadata": {},
          "output_type": "execute_result"
        }
      ],
      "source": [
        "from spotpython.utils.file import load_result\n",
        "spot_tuner = load_result(PREFIX=PREFIX)\n",
        "config = get_tuned_architecture(spot_tuner)\n",
        "config"
      ]
    },
    {
      "cell_type": "markdown",
      "metadata": {},
      "source": [
        "## Using the `spotgui`\n",
        "\n",
        "The `spotgui` [[github]](https://github.com/sequential-parameter-optimization/spotGUI) provides a convenient way to interact with the hyperparameter tuning process.\n",
        "To obtain the settings from @sec-basic-setup-601, the `spotgui` can be started as shown in @fig-spotgui.\n",
        "\n",
        "![spotgui](./figures_static/024_gui.png){width=100% #fig-spotgui}\n",
        "\n",
        "## Summary\n",
        "\n",
        "This section presented an introduction to the basic setup of hyperparameter tuning with `spotpython` and `PyTorch` Lightning.\n"
      ]
    }
  ],
  "metadata": {
    "kernelspec": {
      "display_name": "Python 3 (ipykernel)",
      "language": "python",
      "name": "python3",
      "path": "/Users/bartz/miniforge3/envs/spot312/share/jupyter/kernels/python3"
    }
  },
  "nbformat": 4,
  "nbformat_minor": 4
}
