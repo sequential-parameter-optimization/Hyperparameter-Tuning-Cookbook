{
  "cells": [
    {
      "cell_type": "markdown",
      "metadata": {},
      "source": [
        "---\n",
        "execute:\n",
        "  cache: false\n",
        "  eval: true\n",
        "  echo: true\n",
        "  warning: false\n",
        "jupyter: python3\n",
        "---\n",
        "\n",
        "# Multicollinearity and Principle Component Analysis (PCA)"
      ]
    },
    {
      "cell_type": "code",
      "metadata": {},
      "source": [
        "#| echo: false\n",
        "import copy\n",
        "import matplotlib.pyplot as plt\n",
        "import numpy as np\n",
        "import pandas as pd\n",
        "import seaborn as sns\n",
        "import statsmodels.api as sm\n",
        "from factor_analyzer import FactorAnalyzer, calculate_kmo\n",
        "from sklearn.ensemble import RandomForestRegressor\n",
        "from sklearn.metrics import mean_squared_error, r2_score\n",
        "from sklearn.model_selection import train_test_split\n",
        "from sklearn.preprocessing import OneHotEncoder, StandardScaler\n",
        "from spotpython.surrogate.kriging import Kriging\n",
        "from spotpython.utils.pca import pca_analysis\n",
        "from spotpython.utils.stats import compute_coefficients_table, condition_index\n",
        "import xgboost as xgb"
      ],
      "execution_count": null,
      "outputs": []
    },
    {
      "cell_type": "markdown",
      "metadata": {},
      "source": [
        "First, the data is preprocessed to ensure that it does not contain any NaN or infinite values. Then, PCA is performed to reduce the dimensions and extract the principal components. Finally, a linear regression is conducted on the extracted factors.\n",
        "\n",
        "::: {#def-multicoll}\n",
        "#### Multicollinearity and Multicorrelation\n",
        "\n",
        "Multicorrelation is a general term that describes correlation between multiple variables. Multicollinearity is a specific problem in regression models caused by strong correlations between independent variables, making model interpretation difficult.\n",
        ":::\n",
        "\n",
        "## Loading and Preprocessing the Data\n",
        "\n",
        "We load the data set and display the first few rows. The data set contains information about car sales, including various features such as price, engine size, horsepower, and more."
      ]
    },
    {
      "cell_type": "code",
      "metadata": {},
      "source": [
        "df = pd.read_csv(\"data/car_sales.csv\", encoding=\"utf-8\")\n",
        "print(df.shape)\n",
        "df.head()"
      ],
      "execution_count": null,
      "outputs": []
    },
    {
      "cell_type": "code",
      "metadata": {},
      "source": [
        "# Remove the first column (assuming it is an index or non-informative)\n",
        "df = df.drop(df.columns[0], axis=1)\n",
        "# print the column names\n",
        "print(df.columns)"
      ],
      "execution_count": null,
      "outputs": []
    },
    {
      "cell_type": "markdown",
      "metadata": {},
      "source": [
        "### The Target Variable `y`\n",
        "\n",
        "Transform sales to log scale; handle negative or zero sales separately.\n",
        "Explicitly check and handle missing and infinite values."
      ]
    },
    {
      "cell_type": "code",
      "metadata": {},
      "source": [
        "df['ln_sales'] = np.log(df['sales'].replace(0, np.nan))\n",
        "if df['ln_sales'].isnull().any() or np.isinf(df['ln_sales']).any():\n",
        "    df['ln_sales'] = df['ln_sales'].fillna(df['ln_sales'].median())  # Or any other strategy\n",
        "y = df['ln_sales']"
      ],
      "execution_count": null,
      "outputs": []
    },
    {
      "cell_type": "markdown",
      "metadata": {},
      "source": [
        "### The Features `X`\n",
        "\n",
        "### Numerical Features\n",
        "\n",
        "### Data Preprocessing\n",
        "\n",
        "The following steps are performed during data preprocessing:\n",
        "1. Check for NaN or infinite values in `X`.\n",
        "2. Replace NaN and infinite values with the median of the respective column.\n",
        "3. Remove constant or nearly constant columns.\n",
        "4. Standardize the numerical predictors in `X` using `StandardScaler`.\n",
        "5. Verify that `X_scaled` does not contain any NaN or infinite values.\n"
      ]
    },
    {
      "cell_type": "code",
      "metadata": {},
      "source": [
        "# Use columns from 'price' to 'mpg' as predictors\n",
        "independent_var_columns = ['price', 'engine_s', 'horsepow', 'wheelbas', \n",
        "                           'width', 'length', 'curb_wgt', 'fuel_cap', 'mpg']\n",
        "\n",
        "# Select those columns, ensuring they are numeric\n",
        "X = df[independent_var_columns].apply(pd.to_numeric, errors='coerce')\n",
        "\n",
        "# Handle missing/nans in features by using an appropriate imputation strategy\n",
        "X = X.fillna(X.median())  # Impute with median or any other appropriate strategy\n",
        "# Display the first few rows of the features\n",
        "X.head()"
      ],
      "execution_count": null,
      "outputs": []
    },
    {
      "cell_type": "code",
      "metadata": {},
      "source": [
        "if X.isnull().any().any():\n",
        "    print(\"NaNs detected in X. Filling with column medians.\")\n",
        "    X = X.fillna(X.median())"
      ],
      "execution_count": null,
      "outputs": []
    },
    {
      "cell_type": "code",
      "metadata": {},
      "source": [
        "scaler = StandardScaler()\n",
        "X_scaled = scaler.fit_transform(X)\n",
        "if np.isnan(X_scaled).any() or np.isinf(X_scaled).any():\n",
        "    raise ValueError(\"X_scaled contains NaN or infinite values after preprocessing.\")\n",
        "# Convert the scaled data back to a DataFrame\n",
        "X_scaled = pd.DataFrame(X_scaled, columns=X.columns)\n",
        "# Display the first few rows of the scaled features\n",
        "X_scaled.head()"
      ],
      "execution_count": null,
      "outputs": []
    },
    {
      "cell_type": "markdown",
      "metadata": {},
      "source": [
        "### Categorical Features"
      ]
    },
    {
      "cell_type": "code",
      "metadata": {},
      "source": [
        "categorical_cols = ['type']  # Replace if more categorical variables exist\n",
        "encoder = OneHotEncoder(drop='first', sparse_output=False)\n",
        "X_categorical_encoded = encoder.fit_transform(df[categorical_cols])\n",
        "# Convert encoded data into a DataFrame\n",
        "X_categorical_encoded_df = pd.DataFrame(X_categorical_encoded,\n",
        "                                        columns=encoder.get_feature_names_out(categorical_cols))\n",
        "X_categorical_encoded_df.describe(include='all')"
      ],
      "execution_count": null,
      "outputs": []
    },
    {
      "cell_type": "markdown",
      "metadata": {},
      "source": [
        "### Combine non-categorical and categorical (encoded) data"
      ]
    },
    {
      "cell_type": "code",
      "metadata": {},
      "source": [
        "X_encoded = pd.concat([X_scaled, X_categorical_encoded_df], axis=1)\n",
        "X_encoded.describe(include='all')"
      ],
      "execution_count": null,
      "outputs": []
    },
    {
      "cell_type": "markdown",
      "metadata": {},
      "source": [
        "## Fit the Linear Regression Model using statsmodels"
      ]
    },
    {
      "cell_type": "code",
      "metadata": {},
      "source": [
        "X_encoded_with_const = sm.add_constant(X_encoded)  # Adds a constant term (intercept) to the model\n",
        "model = sm.OLS(df['ln_sales'], X_encoded_with_const).fit()"
      ],
      "execution_count": null,
      "outputs": []
    },
    {
      "cell_type": "markdown",
      "metadata": {},
      "source": [
        "## Model Summary and Interpretation"
      ]
    },
    {
      "cell_type": "code",
      "metadata": {},
      "source": [
        "print(model.summary())"
      ],
      "execution_count": null,
      "outputs": []
    },
    {
      "cell_type": "markdown",
      "metadata": {},
      "source": [
        "### The OLS Regression Results\n",
        "\n",
        "The ANOVA table shows a significant F-value (observed in the output as `Prob (F-statistic)`, with a value close to zero). This indicates that using the model is better than estimating the mean. Overall, the regression performs well in modeling the selected target variable (`ln_sales`). Nearly 40% of the variation in the `ln_sales` values is explained by the model, as shown by `Adj. R-squared`.\n",
        "\n",
        "Although the model fit appears positive, the coefficients (`coef`) reveal that too many predictors are included in the model. There are several non-significant coefficients (`P>|t|` much larger than $0.05$), indicating that these variables contribute little to the model.\n",
        "\n",
        "### The Coefficient Table"
      ]
    },
    {
      "cell_type": "code",
      "metadata": {},
      "source": [
        "coeffs_table = compute_coefficients_table(\n",
        "    model=model,\n",
        "    X_encoded=X_encoded_with_const,\n",
        "    y=y,\n",
        "    vif_table=None\n",
        ")\n",
        "print(\"\\nCoefficients Table:\")\n",
        "print(coeffs_table)"
      ],
      "execution_count": null,
      "outputs": []
    },
    {
      "cell_type": "markdown",
      "metadata": {},
      "source": [
        "The coefficient table further suggests that there may be a problem with multicollinearity. For most predictors, the values of the partial correlations (`Partial r`) decrease significantly compared to the zero-order correlation (`Zero-Order r`).\n",
        "\n",
        "The tolerance (`Tolerance`) indicates the percentage of variance in a specific predictor that cannot be explained by the other predictors. The low tolerances therefore show that approximately 70%-90%, i.e., 1 minus the `Tolerance` value in percent, of the variance in a given predictor can be explained by the other predictors. When tolerances are close to 0, high multicollinearity exists.\n",
        "\n",
        "A variance inflation factor (`VIF`) greater than 2 is typically considered problematic, and the smallest VIF in the table is already greater than 2.\n",
        "\n",
        "\n",
        "## Eigenvalues\n",
        "\n",
        "Eigenvalues indicate how many factors can be meaningfully extracted.\n",
        "An eigenvalue greater than 1 suggests that the factor explains more variance than a single variable."
      ]
    },
    {
      "cell_type": "code",
      "metadata": {},
      "source": [
        "fa_temp = FactorAnalyzer(n_factors=X_encoded.shape[1], method=\"principal\", rotation=None)\n",
        "try:\n",
        "    fa_temp.fit(X_encoded)\n",
        "    ev, _ = fa_temp.get_eigenvalues()\n",
        "    # sort eigenvalues in ascending order\n",
        "    ev = np.sort(ev)\n",
        "    print(\"Eigenvalues for each component:\\n\", ev)\n",
        "except Exception as e:\n",
        "    print(f\"Error during factor analysis fitting: {e}\")\n",
        "    print(\"Consider reducing multicollinearity or removing problematic features.\")"
      ],
      "execution_count": null,
      "outputs": []
    },
    {
      "cell_type": "markdown",
      "metadata": {},
      "source": [
        "## Collinearity Diagnostics Based on Eigenvalues"
      ]
    },
    {
      "cell_type": "code",
      "metadata": {},
      "source": [
        "X_cond = copy.deepcopy(X_encoded)\n",
        "condition_index_df = condition_index(X_cond)\n",
        "print(\"\\nCondition Index:\")\n",
        "print(condition_index_df)"
      ],
      "execution_count": null,
      "outputs": []
    },
    {
      "cell_type": "markdown",
      "metadata": {},
      "source": [
        "The eigenvalue-based collinearity diagnostics confirm that there are serious issues with multicollinearity. Several eigenvalues (`Eigenvalue`) are close to 0, indicating that the predictors are highly correlated and that small changes in the data values can lead to large changes in the coefficient estimates.\n",
        "\n",
        "The condition indices (`Condition Index`) are calculated as the square roots of the ratios of the largest eigenvalue to each subsequent eigenvalue. Values greater than 15 indicate a potential collinearity problem, while values greater than 30 suggest a severe issue. Five of these indices exceed 30, highlighting a very serious problem with multicollinearity.\n",
        "\n",
        "\n",
        "### Kayser-Meyer-Olkin (KMO) Measure\n",
        "\n",
        "The KMO measure (Kaiser-Meyer-Olkin) is a metric for assessing the suitability of data for factor analysis. A KMO value of 0.6 or higher is often considered acceptable; see also [Wikipedia](https://en.wikipedia.org/wiki/Kaiser%E2%80%93Meyer%E2%80%93Olkin). A KMO value below 0.5 indicates that the data is not suitable for factor analysis.\n",
        "\n",
        "* The KMO measure is based on the correlation and partial correlation between variables.\n",
        "* It is calculated as follows: For each variable, the ratio of the squared sums of correlations to the squared sums of partial correlations is computed. The formula for the KMO measure is:\n",
        "\n",
        "$$\n",
        "KMO = \\frac{\\displaystyle \\underset{j\\neq k}{\\sum\\sum} r_{jk}^2}{\\displaystyle \\underset{j\\neq k}{\\sum\\sum} r_{jk}^2+\\underset{j\\neq k}{\\sum\\sum} p_{jk}^2},\n",
        "$$\n",
        "\n",
        "where $r_{ij}^2$ are the squares of the correlations between variables $i$ and $j$, and $p_{ij}^2$ are the squares of the partial correlations between variables $i$ and $j$.\n",
        "\n",
        "* The KMO measure ranges between 0 and 1.\n",
        "* Values close to 1 indicate that factor analysis is suitable, as the variables are strongly correlated.\n",
        "* Values close to 0 indicate that factor analysis is unsuitable, as the variables are only weakly correlated."
      ]
    },
    {
      "cell_type": "code",
      "metadata": {},
      "source": [
        "kmo_all, kmo_model = calculate_kmo(X_encoded)\n",
        "print(f\"\\nKMO measure: {kmo_model:.3f} (0.6+ is often considered acceptable)\")"
      ],
      "execution_count": null,
      "outputs": []
    },
    {
      "cell_type": "markdown",
      "metadata": {},
      "source": [
        "## Principal Component Analysis, Factor Analysis, PCA\n",
        "\n",
        "To solve the multicollinearity problem, we can use PCA to reduce the number of predictors. PCA transforms the original correlated variables into a smaller set of uncorrelated variables called principal components. These components can then be used in regression models to avoid multicollinearity issues.\n",
        "\n",
        "### Application of PCA in Regression Problems:\n",
        "\n",
        "* **Dimensionality Reduction:** PCA reduces the number of explanatory variables (features) by transforming the original variables into a smaller number of uncorrelated principal components. This can be particularly useful when dealing with many features, as fewer dimensions make the regression algorithm less prone to overfitting.\n",
        "* **Reducing Multicollinearity:** In linear regression models, multicollinearity among independent variables can lead to unstable estimates. PCA helps eliminate this multicollinearity because the resulting principal components are orthogonal to each other.\n",
        "* **Handling High-Dimensional Data:** For datasets with a large number of variables, PCA can be used to reduce the dimensions to a manageable level before starting the regression.\n",
        "* **Reduced Overfitting Tendencies:** By removing redundant and highly correlated variables, PCA can help reduce the risk of overfitting by focusing the model on the most influential features.\n",
        "* **Improved Model Performance:** In many cases, performing regression on the most important principal components instead of the original features can lead to better generalization and improved model performance on new, unseen data.\n",
        "* **Interpretation of Feature Importance:** PCA provides insights into the importance of the original features through the variance explained by each principal component. This information can be used to identify which combinations of variables best represent the data.\n",
        "\n",
        "### Loading Scores\n",
        "\n",
        "* **Loading Scores** can be viewed as directional vectors in the feature space. The magnitude of the score indicates how dominant the variable is in the component, while the sign represents a direction.\n",
        "* A **high positive loading score** means that the variable has a positive influence on the principal component and is correlated with it.\n",
        "* A **high negative loading score** indicates that the variable is negatively correlated with the principal component, meaning it varies in the opposite direction.\n",
        "* **Contribution to Variance:** The loading score values indicate how much each original variable contributes to the explained variance in the respective principal component.\n",
        "\n",
        "## PCA for Car Sales\n",
        "\n",
        "The Principal Component Analysis (PCA) is applied only to the features, not to the target variables.\n",
        "Here we use the `pca_analysis` function to perform PCA on the dataset. The function takes the following parameters:\n",
        "\n",
        "* `df`: The input DataFrame containing the features.\n",
        "* `df_name`: The name of the DataFrame (for display purposes).\n",
        "* `k`: The number of principal components to extract.\n",
        "* `scaler`: The scaler to use for standardizing the data (e.g., `StandardScaler`).\n",
        "* `max_scree`: The maximum number of components to display in the scree plot.\n"
      ]
    },
    {
      "cell_type": "code",
      "metadata": {},
      "source": [
        "top_features = pca_analysis(df=X_encoded, df_name=\"car_sales\", k=10, scaler=StandardScaler(), max_scree=10)"
      ],
      "execution_count": null,
      "outputs": []
    },
    {
      "cell_type": "code",
      "metadata": {},
      "source": [
        "# Display the top features\n",
        "print(\"Top Features from PCA:\")\n",
        "print(f\"PCA 1: {top_features[0]}\")\n",
        "print(f\"PCA 2: {top_features[1]}\")"
      ],
      "execution_count": null,
      "outputs": []
    },
    {
      "cell_type": "markdown",
      "metadata": {},
      "source": [
        "## PCA Application for Addressing Multicollinearity\n",
        "\n",
        "\n",
        "### Determining the Number of Factors for Factor Analysis\n",
        "\n",
        "The number of factors is set to `anz_fak=10` to reduce the dimensions. Factor analysis is performed with a Varimax rotation to improve the interpretability of the factors."
      ]
    },
    {
      "cell_type": "code",
      "metadata": {},
      "source": [
        "anz_fak = 10\n",
        "n_factors = min(anz_fak, X_encoded.shape[1])\n",
        "fa = FactorAnalyzer(n_factors=n_factors, method=\"principal\", rotation=\"varimax\")\n",
        "fa.fit(X_encoded)\n",
        "# Factor loadings\n",
        "factor_loadings = fa.loadings_\n",
        "actual_factors = factor_loadings.shape[1]  # Number of factors actually extracted\n",
        "print(f\"actual_factors: {actual_factors}\")\n",
        "if actual_factors < n_factors:\n",
        "    print(\n",
        "        f\"\\nWarning: Only {actual_factors} factors could be extracted \"\n",
        "        f\"(requested {n_factors}).\"\n",
        "    )\n",
        "factor_columns = [f\"Factor{i+1}\" for i in range(actual_factors)]"
      ],
      "execution_count": null,
      "outputs": []
    },
    {
      "cell_type": "markdown",
      "metadata": {},
      "source": [
        "### Factor Loadings\n",
        "\n",
        "Factor Loadings indicate how strongly each original variable is correlated with the extracted factors. High values suggest that the variable has a significant influence on the factor."
      ]
    },
    {
      "cell_type": "code",
      "metadata": {},
      "source": [
        "# Print factor loadings with 2 decimals\n",
        "print(\"Factor Loadings (rounded to 2 decimals):\\n\", np.round(factor_loadings, 2))"
      ],
      "execution_count": null,
      "outputs": []
    },
    {
      "cell_type": "code",
      "metadata": {},
      "source": [
        "# Create a DataFrame for the factor loadings\n",
        "factor_loadings_df = pd.DataFrame(\n",
        "    factor_loadings,\n",
        "    index=X_encoded.columns,  # Original feature names\n",
        "    columns=factor_columns  # Factor names\n",
        ")\n",
        "\n",
        "# Plot the heatmap\n",
        "plt.figure(figsize=(10, 8))\n",
        "sns.heatmap(\n",
        "    factor_loadings_df,\n",
        "    annot=True,  # Annotate with values\n",
        "    fmt=\".2f\",  # Format values to 2 decimals\n",
        "    cmap=\"coolwarm\",  # Color map\n",
        "    cbar=True  # Show color bar\n",
        ")\n",
        "plt.title(\"Factor Loadings Heatmap\")\n",
        "plt.xlabel(\"Factors\")\n",
        "plt.ylabel(\"Features\")\n",
        "plt.tight_layout()\n",
        "plt.show()"
      ],
      "execution_count": null,
      "outputs": []
    },
    {
      "cell_type": "markdown",
      "metadata": {},
      "source": [
        "#### Factor Scores\n",
        "\n",
        "The factor scores are the transformed values of the original variables based on the extracted factors. These scores can be used as new features in regression models."
      ]
    },
    {
      "cell_type": "code",
      "metadata": {},
      "source": [
        "# Factor scores for each row (shape: [n_samples, actual_factors])\n",
        "X_factor_scores = fa.transform(X_encoded)\n",
        "print(f\"X_factor_scores shape: {X_factor_scores.shape}\")\n",
        "\n",
        "# Adapt the factor column names to the actual factor count\n",
        "df_factors = pd.DataFrame(X_factor_scores, columns=factor_columns)\n",
        "print(f\"df_factors shape: {df_factors.shape}\")\n",
        "print(f\"df_factors head:\\n{df_factors.head()}\")"
      ],
      "execution_count": null,
      "outputs": []
    },
    {
      "cell_type": "markdown",
      "metadata": {},
      "source": [
        "### Creating the Regression Model with all ten Extracted Factors"
      ]
    },
    {
      "cell_type": "code",
      "metadata": {},
      "source": [
        "X_model = sm.add_constant(df_factors)\n",
        "model_factors = sm.OLS(y, X_model).fit()\n",
        "print(\"\\nRegression on Factor Scores:\")\n",
        "print(model_factors.summary())"
      ],
      "execution_count": null,
      "outputs": []
    },
    {
      "cell_type": "code",
      "metadata": {},
      "source": [
        "coeffs_table = compute_coefficients_table(\n",
        "    model=model_factors,\n",
        "    X_encoded=X_model,\n",
        "    y=y,\n",
        "    vif_table=None\n",
        ")\n",
        "print(\"\\nCoefficients Table:\")\n",
        "print(coeffs_table)"
      ],
      "execution_count": null,
      "outputs": []
    },
    {
      "cell_type": "markdown",
      "metadata": {},
      "source": [
        "As expected, the collinearity statistics show that the factor values are uncorrelated. Additionally, it is important to note that the variability of the coefficient estimates in this model is not artificially inflated by collinearity. Consequently, the coefficient estimates are larger relative to their standard errors compared to the original model. This means that more factors are identified as statistically significant, which can influence your final results if you aim to create a model that includes only significant effects.\n",
        "\n",
        "To verify, we calculate the condition indices for the extracted factors. These should all be close to 1, indicating that there are no serious issues with multicollinearity."
      ]
    },
    {
      "cell_type": "code",
      "metadata": {},
      "source": [
        "X_cond = copy.deepcopy(df_factors)\n",
        "condition_index_df = condition_index(X_cond)\n",
        "print(\"\\nCondition Index:\")\n",
        "print(condition_index_df)"
      ],
      "execution_count": null,
      "outputs": []
    },
    {
      "cell_type": "markdown",
      "metadata": {},
      "source": [
        "### Comparison of Model Performance"
      ]
    },
    {
      "cell_type": "code",
      "metadata": {},
      "source": [
        "# Predictions from the Linear Regression Model (model)\n",
        "predictions_linear = model.predict(X_encoded_with_const)\n",
        "\n",
        "# Predictions from the Factor Analysis Regression Model (model_factors)\n",
        "predictions_factors = model_factors.predict(X_model)\n",
        "\n",
        "# Calculate R-squared and Adjusted R-squared for both models\n",
        "r2_linear = model.rsquared\n",
        "adj_r2_linear = model.rsquared_adj\n",
        "\n",
        "r2_factors = model_factors.rsquared\n",
        "adj_r2_factors = model_factors.rsquared_adj\n",
        "\n",
        "# Calculate Mean Squared Error (MSE) and Root Mean Squared Error (RMSE) for both models\n",
        "mse_linear = mean_squared_error(y, predictions_linear)\n",
        "rmse_linear = np.sqrt(mse_linear)\n",
        "\n",
        "mse_factors = mean_squared_error(y, predictions_factors)\n",
        "rmse_factors = np.sqrt(mse_factors)\n",
        "\n",
        "# Print the comparison\n",
        "print(\"Vergleich der beiden Modelle\")\n",
        "print(\"\\nLinear Regression Model:\")\n",
        "print(f\"R-squared: {r2_linear:.4f}\")\n",
        "print(f\"Adjusted R-squared: {adj_r2_linear:.4f}\")\n",
        "print(f\"MSE: {mse_linear:.4f}\")\n",
        "print(f\"RMSE: {rmse_linear:.4f}\")\n",
        "\n",
        "print(\"\\nFactor Analysis Regression Model:\")\n",
        "print(f\"R-squared: {r2_factors:.4f}\")\n",
        "print(f\"Adjusted R-squared: {adj_r2_factors:.4f}\")\n",
        "print(f\"MSE: {mse_factors:.4f}\")\n",
        "print(f\"RMSE: {rmse_factors:.4f}\")"
      ],
      "execution_count": null,
      "outputs": []
    },
    {
      "cell_type": "markdown",
      "metadata": {},
      "source": [
        "If the R-squared and Adjusted R-squared values for `model_factors` are close to those of `model`, this indicates that the regression model based on factor analysis performs similarly well while potentially reducing multicollinearity. Lower MSE and RMSE values suggest better predictive performance.\n",
        "\n",
        "\n",
        "### Creating the Regression Model with three Extracted Factors only"
      ]
    },
    {
      "cell_type": "code",
      "metadata": {},
      "source": [
        "# Create a regression model using only the first three factors\n",
        "# select the first three factors\n",
        "df_factors = df_factors.iloc[:, :3]"
      ],
      "execution_count": null,
      "outputs": []
    },
    {
      "cell_type": "code",
      "metadata": {},
      "source": [
        "X_model = sm.add_constant(df_factors)\n",
        "model_factors = sm.OLS(y, X_model).fit()\n",
        "print(\"\\nRegression on Factor Scores:\")\n",
        "print(model_factors.summary())"
      ],
      "execution_count": null,
      "outputs": []
    },
    {
      "cell_type": "code",
      "metadata": {},
      "source": [
        "coeffs_table = compute_coefficients_table(\n",
        "    model=model_factors,\n",
        "    X_encoded=X_model,\n",
        "    y=y,\n",
        "    vif_table=None\n",
        ")\n",
        "print(\"\\nCoefficients Table:\")\n",
        "print(coeffs_table)"
      ],
      "execution_count": null,
      "outputs": []
    },
    {
      "cell_type": "markdown",
      "metadata": {},
      "source": [
        "As expected, the collinearity statistics show that the factor values are uncorrelated. Additionally, it is important to note that the variability of the coefficient estimates in this model is not artificially inflated by collinearity. Consequently, the coefficient estimates are larger relative to their standard errors compared to the original model. This means that more factors are identified as statistically significant, which can influence your final results if you aim to create a model that includes only significant effects.\n",
        "\n",
        "To verify, we calculate the condition indices for the extracted factors. These should all be close to 1, indicating that there are no serious issues with multicollinearity."
      ]
    },
    {
      "cell_type": "code",
      "metadata": {},
      "source": [
        "X_cond = copy.deepcopy(df_factors)\n",
        "condition_index_df = condition_index(X_cond)\n",
        "print(\"\\nCondition Index:\")\n",
        "print(condition_index_df)"
      ],
      "execution_count": null,
      "outputs": []
    },
    {
      "cell_type": "markdown",
      "metadata": {},
      "source": [
        "### Comparison of Model Performance of the Reduced Model and the Full Model"
      ]
    },
    {
      "cell_type": "code",
      "metadata": {},
      "source": [
        "# Predictions from the Linear Regression Model (model)\n",
        "predictions_linear = model.predict(X_encoded_with_const)\n",
        "\n",
        "# Predictions from the Factor Analysis Regression Model (model_factors)\n",
        "predictions_factors = model_factors.predict(X_model)\n",
        "\n",
        "# Calculate R-squared and Adjusted R-squared for both models\n",
        "r2_linear = model.rsquared\n",
        "adj_r2_linear = model.rsquared_adj\n",
        "\n",
        "r2_factors = model_factors.rsquared\n",
        "adj_r2_factors = model_factors.rsquared_adj\n",
        "\n",
        "# Calculate Mean Squared Error (MSE) and Root Mean Squared Error (RMSE) for both models\n",
        "mse_linear = mean_squared_error(y, predictions_linear)\n",
        "rmse_linear = np.sqrt(mse_linear)\n",
        "\n",
        "mse_factors = mean_squared_error(y, predictions_factors)\n",
        "rmse_factors = np.sqrt(mse_factors)\n",
        "\n",
        "# Print the comparison\n",
        "print(\"Vergleich der beiden Modelle\")\n",
        "print(\"\\nLinear Regression Model:\")\n",
        "print(f\"R-squared: {r2_linear:.4f}\")\n",
        "print(f\"Adjusted R-squared: {adj_r2_linear:.4f}\")\n",
        "print(f\"MSE: {mse_linear:.4f}\")\n",
        "print(f\"RMSE: {rmse_linear:.4f}\")\n",
        "\n",
        "print(\"\\nFactor Analysis Regression Model:\")\n",
        "print(f\"R-squared: {r2_factors:.4f}\")\n",
        "print(f\"Adjusted R-squared: {adj_r2_factors:.4f}\")\n",
        "print(f\"MSE: {mse_factors:.4f}\")\n",
        "print(f\"RMSE: {rmse_factors:.4f}\")"
      ],
      "execution_count": null,
      "outputs": []
    },
    {
      "cell_type": "markdown",
      "metadata": {},
      "source": [
        "If the R-squared and Adjusted R-squared values for `model_factors` are close to those of `model`, this indicates that the regression model based on factor analysis performs similarly well while potentially reducing multicollinearity. Lower MSE and RMSE values suggest better predictive performance.\n",
        "\n",
        "\n",
        "\n",
        "## Summary\n",
        "\n",
        "### Interpretation of the Regression Model `model_factors`\n",
        "\n",
        "The `model_factors` regression model is based on factor analysis, which reduces the dimensionality of the input data by transforming the original variables into a smaller group of uncorrelated factors. These factors are linear combinations of the original variables and are designed to capture the underlying structure of the data.\n",
        "\n",
        "**Factors:** Instead of using the original variables, the regression is performed on the extracted factors. Each factor represents a weighted combination of the original variables.\n",
        "\n",
        "**Coefficients:** The coefficients in the `model_factors` regression model indicate the relationship between the target variable (`y`) and the extracted factors.\n",
        "\n",
        "### Differences Compared to the Standard OLS Model\n",
        "\n",
        "**Input Variables:**\n",
        "\n",
        "- **OLS Model (`model`):** Uses the original variables (`X_encoded`) as predictors.\n",
        "- **Factor Analysis Model (`model_factors`):** Uses the extracted factors (`df_factors`) as predictors.\n",
        "\n",
        "**Multicollinearity:**\n",
        "\n",
        "- **OLS Model:** Can suffer from multicollinearity if the predictors are highly correlated, leading to unstable coefficients and inflated standard errors.\n",
        "- **Factor Analysis Model:** Reduces multicollinearity by using uncorrelated factors as predictors.\n",
        "\n",
        "**Interpretability:**\n",
        "\n",
        "- **OLS Model:** Coefficients correspond directly to the original variables, making it easier to interpret the influence of each variable on the target variable.\n",
        "- **Factor Analysis Model:** Coefficients relate to abstract factors, which are combinations of the original variables, making interpretation more challenging.\n",
        "\n",
        "**Dimensionality:**\n",
        "\n",
        "- **OLS Model:** Uses all original variables, which may include redundant or irrelevant features.\n",
        "- **Factor Analysis Model:** Reduces the number of predictors by combining the original variables into a smaller number of factors.\n",
        "\n",
        "### Advantages of Using `model_factors`\n",
        "\n",
        "- **Reduced Multicollinearity:** By using uncorrelated factors, the model avoids instability caused by multicollinearity.\n",
        "- **Dimensionality Reduction:** The model uses fewer predictors, improving computational efficiency and generalization.\n",
        "- **Focus on Underlying Structure:** Factor analysis captures the latent structure of the data, providing better insights into the relationships between variables.\n",
        "\n",
        "### Disadvantages of Using `model_factors`\n",
        "\n",
        "- **Loss of Interpretability:** Factors are abstract combinations of the original variables, making it harder to directly interpret the coefficients. To understand the influence of individual variables on the target variable, factor loadings must be analyzed.\n",
        "- **Potential Information Loss:** If too few factors are retained, information from the original variables may be lost, reducing predictive accuracy.\n",
        "- **Complexity:** The process of extracting factors and interpreting their meaning adds complexity to the modeling process.\n",
        "- **Dependence on Factor Selection:** The number of factors to retain is subjective and can affect model performance. Too few factors may oversimplify the data, while too many factors may reintroduce multicollinearity.\n",
        "\n",
        "### Summary\n",
        "\n",
        "- `model_factors` is a good choice when multicollinearity is a problem and the focus is on predictive performance rather than interpretability.\n",
        "- The `model` is preferable when interpretability is crucial and multicollinearity is not a significant issue.\n",
        "\n",
        "## Using `model_factors` in Other Models\n",
        "\n",
        "### Random Forest Regressor with the Full Dataset\n",
        "\n",
        "* First, use the original variables."
      ]
    },
    {
      "cell_type": "code",
      "metadata": {},
      "source": [
        "# ------------------------------------------------------------------------\n",
        "# 1. Prepare Data\n",
        "# ------------------------------------------------------------------------\n",
        "\n",
        "# Use the original input features (X_encoded) as predictors\n",
        "X_original = X_encoded\n",
        "\n",
        "# Split the data into training and testing sets\n",
        "X_train_orig, X_test_orig, y_train_orig, y_test_orig = train_test_split(X_original, y, test_size=0.2, random_state=42)\n",
        "\n",
        "# ------------------------------------------------------------------------\n",
        "# 2. Fit Random Forest Model\n",
        "# ------------------------------------------------------------------------\n",
        "\n",
        "# Initialize the Random Forest Regressor\n",
        "rf_model_orig = RandomForestRegressor(n_estimators=100, random_state=42)\n",
        "\n",
        "# Train the model on the training data\n",
        "rf_model_orig.fit(X_train_orig, y_train_orig)\n",
        "\n",
        "# ------------------------------------------------------------------------\n",
        "# 3. Evaluate the Model\n",
        "# ------------------------------------------------------------------------\n",
        "\n",
        "# Make predictions on the test set\n",
        "y_pred_orig = rf_model_orig.predict(X_test_orig)\n",
        "\n",
        "# Calculate evaluation metrics\n",
        "r2_rf_orig = r2_score(y_test_orig, y_pred_orig)\n",
        "mse_rf_orig = mean_squared_error(y_test_orig, y_pred_orig)\n",
        "rmse_rf_orig = np.sqrt(mse_rf_orig)\n",
        "\n",
        "# Print the results\n",
        "print(\"\\nRandom Forest Model (using original data):\")\n",
        "print(f\"R-squared: {r2_rf_orig:.4f}\")\n",
        "print(f\"MSE: {mse_rf_orig:.4f}\")\n",
        "print(f\"RMSE: {rmse_rf_orig:.4f}\")"
      ],
      "execution_count": null,
      "outputs": []
    },
    {
      "cell_type": "markdown",
      "metadata": {},
      "source": [
        "### Random Forest Regressor with Extracted Factors\n",
        "\n",
        "* Then use the extracted factors."
      ]
    },
    {
      "cell_type": "code",
      "metadata": {},
      "source": [
        "# ------------------------------------------------------------------------\n",
        "# 1. Prepare Data\n",
        "# ------------------------------------------------------------------------\n",
        "\n",
        "# Use the extracted factors as predictors\n",
        "X_factors = df_factors\n",
        "\n",
        "\n",
        "# Split the data into training and testing sets\n",
        "X_train, X_test, y_train, y_test = train_test_split(X_factors, y, test_size=0.2, random_state=42)\n",
        "\n",
        "# ------------------------------------------------------------------------\n",
        "# 2. Fit Random Forest Model\n",
        "# ------------------------------------------------------------------------\n",
        "\n",
        "# Initialize the Random Forest Regressor\n",
        "rf_model = RandomForestRegressor(n_estimators=100, random_state=42)\n",
        "\n",
        "# Train the model on the training data\n",
        "rf_model.fit(X_train, y_train)\n",
        "\n",
        "# ------------------------------------------------------------------------\n",
        "# 3. Evaluate the Model\n",
        "# ------------------------------------------------------------------------\n",
        "\n",
        "# Make predictions on the test set\n",
        "y_pred = rf_model.predict(X_test)\n",
        "\n",
        "# Calculate evaluation metrics\n",
        "r2_rf = r2_score(y_test, y_pred)\n",
        "mse_rf = mean_squared_error(y_test, y_pred)\n",
        "rmse_rf = np.sqrt(mse_rf)\n",
        "\n",
        "# Print the results\n",
        "print(\"\\nRandom Forest Model (using extracted factors):\")\n",
        "print(f\"R-squared: {r2_rf:.4f}\")\n",
        "print(f\"MSE: {mse_rf:.4f}\")\n",
        "print(f\"RMSE: {rmse_rf:.4f}\")"
      ],
      "execution_count": null,
      "outputs": []
    },
    {
      "cell_type": "markdown",
      "metadata": {},
      "source": [
        "### Comparison of the two Random Forest Models {#sec-rf-comparison}"
      ]
    },
    {
      "cell_type": "code",
      "metadata": {},
      "source": [
        "# Print comparison of Random Forest models\n",
        "print(\"\\nComparison of Random Forest Models:\")\n",
        "print(\"\\nUsing Extracted Factors:\")\n",
        "print(f\"R-squared: {r2_rf:.4f}\")\n",
        "print(f\"MSE: {mse_rf:.4f}\")\n",
        "print(f\"RMSE: {rmse_rf:.4f}\")\n",
        "\n",
        "print(\"\\nUsing Original Data:\")\n",
        "print(f\"R-squared: {r2_rf_orig:.4f}\")\n",
        "print(f\"MSE: {mse_rf_orig:.4f}\")\n",
        "print(f\"RMSE: {rmse_rf_orig:.4f}\")"
      ],
      "execution_count": null,
      "outputs": []
    },
    {
      "cell_type": "markdown",
      "metadata": {},
      "source": [
        "## Multicollinearity: Conclusion and Recommendation\n",
        "\n",
        "* PCA is a standard method for addressing multicollinearity.\n",
        "* The principal components determined using linear regression are no longer multicollinear.\n",
        "* These components can also be used for other models, such as Random Forest.\n",
        "* The principal components are not easy to interpret.\n",
        "\n",
        "\n",
        "## Videos: Principal Component Analysis (PCA)\n",
        "\n",
        "* Video: [Principal Component Analysis (PCA), Step-by-Step](https://youtu.be/FgakZw6K1QQ?si=lmXhc-bpOqb7RmDP)\n",
        "* Video: [PCA - Practical Tips](https://youtu.be/oRvgq966yZg?si=TIUsxNItfyYOjTLt)\n",
        "* Video: [PCA in Python](https://youtu.be/Lsue2gEM9D0?si=_fV_RzK8j1jwcb-e)\n",
        "\n",
        "\n",
        "## Jupyter Notebook\n",
        "\n",
        ":::{.callout-note}\n",
        "\n",
        "* The Jupyter-Notebook of this lecture is available on GitHub in the [Hyperparameter-Tuning-Cookbook Repository](https://github.com/sequential-parameter-optimization/Hyperparameter-Tuning-Cookbook/blob/main/100_ddmo_pca.ipynb)\n",
        "\n",
        ":::\n"
      ]
    }
  ],
  "metadata": {
    "kernelspec": {
      "name": "python3",
      "language": "python",
      "display_name": "Python 3 (ipykernel)",
      "path": "/Users/bartz/miniforge3/envs/spot312/share/jupyter/kernels/python3"
    }
  },
  "nbformat": 4,
  "nbformat_minor": 4
}