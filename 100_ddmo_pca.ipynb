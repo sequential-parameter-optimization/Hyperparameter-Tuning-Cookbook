{
  "cells": [
    {
      "cell_type": "markdown",
      "metadata": {},
      "source": [
        "---\n",
        "execute:\n",
        "  cache: false\n",
        "  eval: true\n",
        "  echo: true\n",
        "  warning: false\n",
        "jupyter: python3\n",
        "---\n",
        "\n",
        "# Addressing Multicollinearity: Principle Component Analysis (PCA) and Factor Analysis (FA)\n",
        "\n",
        "## Introduction\n",
        "\n",
        "The concepts of Principal Component Analysis (PCA) and Factor Analysis (FA) are both  dimensionality reduction techniques. They operate on different assumptions and serve distinct purposes.\n",
        "PCA aims to transform correlated variables into a smaller set of uncorrelated principal components that capture maximum variance, whereas Factor Analysis seeks to explain the correlations between observed variables in terms of a smaller number of unobserved, underlying factors. \n",
        "\n",
        "After loading and preprocessing the data in @sec-data-preprocessing, we will explore these methods to reduce dimensions and address multicollinearity. In @sec-fit-ols we will conduct linear regression on the extracted components or factors.\n",
        "@sec-collinearity-diagnostics provides diagnostics for multicollinearity, including the coefficient table, eigenvalues, condition indices, and the KMO measure. \n",
        "@sec-pca explains how PCA is applied to the data, while @sec-fa discusses Factor Analysis. Both methods are used to mitigate multicollinearity issues in regression models. @sec-other-models shows how the reduced dimensions can be used in other machine learning models, such as Random Forests.\n",
        "\n",
        "The following packages are used in this chapter:"
      ]
    },
    {
      "cell_type": "code",
      "metadata": {},
      "source": [
        "import pandas as pd\n",
        "import numpy as np\n",
        "import statsmodels.api as sm\n",
        "from sklearn.preprocessing import StandardScaler, OneHotEncoder\n",
        "from factor_analyzer import FactorAnalyzer\n",
        "from factor_analyzer.factor_analyzer import calculate_kmo\n",
        "from sklearn.metrics import mean_squared_error, r2_score\n",
        "from sklearn.decomposition import PCA\n",
        "import matplotlib.pyplot as plt\n",
        "import seaborn as sns\n",
        "from sklearn.model_selection import train_test_split\n",
        "import copy\n",
        "from spotpython.utils.stats import condition_index\n",
        "from spotpython.utils.pca import (get_pca, plot_pca_scree, plot_pca1vs2, get_pca_topk, get_loading_scores, plot_loading_scores)"
      ],
      "execution_count": null,
      "outputs": []
    },
    {
      "cell_type": "markdown",
      "metadata": {},
      "source": [
        "## The Car-Sales Data Set {#sec-data-preprocessing}\n",
        "\n",
        "First, the data is preprocessed to ensure that it does not contain any NaN or infinite values.\n",
        "We load the data set, which contains information about car sales, including various features such as price, engine size, horsepower, and more. The initial shape of the DataFrame is `(157, 27)`."
      ]
    },
    {
      "cell_type": "code",
      "metadata": {},
      "source": [
        "#| label: load_car_sales_data\n",
        "df = pd.read_csv(\"data/car_sales.csv\", encoding=\"utf-8\", index_col=None)\n",
        "print(df.shape)\n",
        "df.head()"
      ],
      "execution_count": null,
      "outputs": []
    },
    {
      "cell_type": "markdown",
      "metadata": {},
      "source": [
        "The first column is removed as it's an index or non-informative column."
      ]
    },
    {
      "cell_type": "code",
      "metadata": {},
      "source": [
        "#| label: drop_first_column\n",
        "df = df.drop(df.columns[0], axis=1)\n",
        "df.head()"
      ],
      "execution_count": null,
      "outputs": []
    },
    {
      "cell_type": "markdown",
      "metadata": {},
      "source": [
        "### The Target Variable\n",
        "\n",
        "The `sales` variable, which is our target, is transformed to a log scale. Missing or zero values are handled by replacing them with the median."
      ]
    },
    {
      "cell_type": "code",
      "metadata": {},
      "source": [
        "#| label: transform_sales_variable\n",
        "df['ln_sales'] = np.log(df['sales'].replace(0, np.nan))\n",
        "if df['ln_sales'].isnull().any() or np.isinf(df['ln_sales']).any():\n",
        "    df['ln_sales'] = df['ln_sales'].fillna(df['ln_sales'].median()) # Or any other strategy\n",
        "y = df['ln_sales']"
      ],
      "execution_count": null,
      "outputs": []
    },
    {
      "cell_type": "markdown",
      "metadata": {},
      "source": [
        "### The Features\n",
        "#### Numerical Features\n",
        "\n",
        "The following steps are performed during data preprocessing for numerical features:\n",
        "\n",
        "1.  Check for NaN or infinite values in X.\n",
        "2.  Replace NaN and infinite values with the median of the respective column.\n",
        "3.  Remove constant or nearly constant columns (not explicitly shown in code but stated in preprocessing steps).\n",
        "4.  Standardize the numerical predictors in X using StandardScaler.\n",
        "5.  Verify that X_scaled does not contain any NaN or infinite values."
      ]
    },
    {
      "cell_type": "code",
      "metadata": {},
      "source": [
        "# Use columns from 'price' to 'mpg' as predictors\n",
        "independent_var_columns = ['price', 'engine_s', 'horsepow', 'wheelbas',\n",
        "                           'width', 'length', 'curb_wgt', 'fuel_cap', 'mpg']\n",
        "# Select those columns, ensuring they are numeric\n",
        "X = df[independent_var_columns].apply(pd.to_numeric, errors='coerce')\n",
        "# Handle missing/nans in features by using an appropriate imputation strategy\n",
        "X = X.fillna(X.median()) # Impute with median or any other appropriate strategy\n",
        "# Display the first few rows of the features\n",
        "X.head()"
      ],
      "execution_count": null,
      "outputs": []
    },
    {
      "cell_type": "code",
      "metadata": {},
      "source": [
        "if X.isnull().any().any():\n",
        "    print(\"NaNs detected in X. Filling with column medians.\")\n",
        "    X = X.fillna(X.median())\n",
        "\n",
        "scaler = StandardScaler()\n",
        "X_scaled = scaler.fit_transform(X)\n",
        "if np.isnan(X_scaled).any() or np.isinf(X_scaled).any():\n",
        "    raise ValueError(\"X_scaled contains NaN or infinite values after preprocessing.\")\n",
        "# Convert the scaled data back to a DataFrame\n",
        "X_scaled = pd.DataFrame(X_scaled, columns=X.columns)\n",
        "# Display the first few rows of the scaled features\n",
        "X_scaled.head()"
      ],
      "execution_count": null,
      "outputs": []
    },
    {
      "cell_type": "markdown",
      "metadata": {},
      "source": [
        "#### Categorical Features\n",
        "\n",
        "Categorical features (like 'type') are one-hot encoded and then combined with the scaled numerical features."
      ]
    },
    {
      "cell_type": "code",
      "metadata": {},
      "source": [
        "categorical_cols = ['type'] # Replace if more categorical variables exist\n",
        "encoder = OneHotEncoder(drop='first', sparse_output=False)\n",
        "X_categorical_encoded = encoder.fit_transform(df[categorical_cols])\n",
        "# Convert encoded data into a DataFrame\n",
        "X_categorical_encoded_df = pd.DataFrame(X_categorical_encoded,\n",
        "                                        columns=encoder.get_feature_names_out(categorical_cols))\n",
        "X_categorical_encoded_df.describe(include='all')"
      ],
      "execution_count": null,
      "outputs": []
    },
    {
      "cell_type": "markdown",
      "metadata": {},
      "source": [
        "### Combining Non-categorical and Categorical (encoded) Data\n",
        "\n",
        "The final feature set `X_encoded` is created by concatenating the scaled numerical features and the one-hot encoded categorical features. This combined DataFrame will be used for regression analysis."
      ]
    },
    {
      "cell_type": "code",
      "metadata": {},
      "source": [
        "X_encoded = pd.concat([X_scaled, X_categorical_encoded_df], axis=1)\n",
        "print(f\"Dimension: {X_encoded.shape}\")\n",
        "print(list(X_encoded.columns))"
      ],
      "execution_count": null,
      "outputs": []
    },
    {
      "cell_type": "code",
      "metadata": {},
      "source": [
        "X_encoded.describe(include='all')"
      ],
      "execution_count": null,
      "outputs": []
    },
    {
      "cell_type": "markdown",
      "metadata": {},
      "source": [
        "## Fit the Linear Regression Model {#sec-fit-ols}\n",
        "\n",
        "An Ordinary Least Squares (OLS) regression model is fitted using the preprocessed and combined features (`X_encoded`)."
      ]
    },
    {
      "cell_type": "code",
      "metadata": {},
      "source": [
        "X_encoded_with_const = sm.add_constant(X_encoded) # Adds a constant term (intercept) to the model\n",
        "model = sm.OLS(df['ln_sales'], X_encoded_with_const).fit()"
      ],
      "execution_count": null,
      "outputs": []
    },
    {
      "cell_type": "markdown",
      "metadata": {},
      "source": [
        "### Model Summary and Interpretation\n",
        "\n",
        "#### Model Summary (ANOVA Table)\n",
        "The ANOVA table shows a significant F-value (Prob (F-statistic) close to zero), indicating that the model is statistically significant and better than simply estimating the mean. The Adj. R-squared value, close to 0.40, suggests that nearly 40% of the variation in `ln_sales` is explained by the model."
      ]
    },
    {
      "cell_type": "code",
      "metadata": {},
      "source": [
        "print(model.summary())"
      ],
      "execution_count": null,
      "outputs": []
    },
    {
      "cell_type": "markdown",
      "metadata": {},
      "source": [
        "Despite the positive model fit, many predictors show non-significant coefficients (P>|t| much larger than 0.05), suggesting they contribute little to the model.\n",
        "\n",
        "## Collinearity Diagnostics {#sec-collinearity-diagnostics}\n",
        "\n",
        "### The Coefficient Table\n",
        "The coefficient table provides further evidence of multicollinearity. The function `compute_coefficients_table()`  from the `spotpython` package is used here for comprehensive diagnostics."
      ]
    },
    {
      "cell_type": "code",
      "metadata": {},
      "source": [
        "from spotpython.utils.stats import compute_coefficients_table\n",
        "coeffs_table = compute_coefficients_table(\n",
        "    model=model, X_encoded=X_encoded_with_const, y=y, vif_table=None\n",
        ")\n",
        "print(\"\\nCoefficients Table:\")\n",
        "print(coeffs_table)"
      ],
      "execution_count": null,
      "outputs": []
    },
    {
      "cell_type": "markdown",
      "metadata": {},
      "source": [
        "For most predictors, the partial correlations (Partial r) decrease significantly compared to the zero-order correlations (Zero-Order r), which suggests multicollinearity. Tolerance values (1 minus the proportion of variance explained by other predictors) are low, indicating that approximately 70%-90% of a given predictor's variance can be explained by other predictors. Tolerances close to 0 signify high multicollinearity. A Variance Inflation Factor (VIF) greater than 2 is typically considered problematic, and in this table, the smallest VIF is already greater than 2, confirming serious multicollinearity.\n",
        "\n",
        "### Eigenvalues and Condition Indices\n",
        "\n",
        "Eigenvalues indicate how many factors or components can be meaningfully extracted. An eigenvalue greater than 1 suggests that the factor/component explains more variance than a single variable.\n",
        "\n",
        "#### Eigenvalues\n",
        "\n",
        "We use the `FactorAnalyzer` function from the `factor_analyzer` package to compute eigenvalues."
      ]
    },
    {
      "cell_type": "code",
      "metadata": {},
      "source": [
        "fa_temp = FactorAnalyzer(n_factors=X_encoded.shape[1], method=\"principal\", rotation=None)\n",
        "try:\n",
        "    fa_temp.fit(X_encoded)\n",
        "    ev, _ = fa_temp.get_eigenvalues()\n",
        "    ev = np.sort(ev) # The source prints in ascending order\n",
        "    print(\"Eigenvalues for each component:\\n\", ev)\n",
        "except Exception as e:\n",
        "    print(f\"Error during factor analysis fitting: {e}\")\n",
        "    print(\"Consider reducing multicollinearity or removing problematic features.\")"
      ],
      "execution_count": null,
      "outputs": []
    },
    {
      "cell_type": "markdown",
      "metadata": {},
      "source": [
        "The eigenvalue-based diagnostics confirm severe multicollinearity.\n",
        "Several eigenvalues are close to 0, indicating strong correlations among predictors.\n",
        "\n",
        "#### Condition Indices\n",
        "\n",
        "From `spotpython.utils.stats`, we can compute the condition index, which is a measure of multicollinearity. A condition index greater than 15 suggests potential multicollinearity issues, and values above 30 indicate severe problems.\n",
        "\n",
        "Condition indices, calculated as the square roots of the ratios of the largest eigenvalue to each subsequent eigenvalue, also highlight the issue.\n",
        "\n",
        "::: {#def-condition_index}\n",
        "###### Condition Index\n",
        "\n",
        "The Condition Index ($CI_i$) for the $i$-th eigenvalue is defined as:\n",
        "$$\n",
        "\\text{CI}_i = \\sqrt{\\frac{\\lambda{\\max}}{\\lambda_i}},\n",
        "$$\n",
        "where $\\lambda_{\\max}$ is the largest eigenvalue of the scaled predictor correlation matrix, and $\\lambda_i$ is the $i$-th eigenvalue of the same matrix.\n",
        "::: \n",
        "\n",
        "$CI_i$-values greater than 15 suggest a potential problem, and values over 30 indicate a severe problem."
      ]
    },
    {
      "cell_type": "code",
      "metadata": {},
      "source": [
        "X_cond = copy.deepcopy(X_encoded)\n",
        "condition_index_df = condition_index(X_cond)\n",
        "print(\"\\nCondition Index:\")\n",
        "print(condition_index_df)"
      ],
      "execution_count": null,
      "outputs": []
    },
    {
      "cell_type": "markdown",
      "metadata": {},
      "source": [
        "###  Kayser-Meyer-Olkin (KMO) Measure\n",
        "\n",
        "The KMO (Kaiser-Meyer-Olkin) measure is a metric for assessing the suitability of data for Factor Analysis. A KMO value of 0.6 or higher is generally considered acceptable, while a value below 0.5 indicates that the data is not suitable for Factor Analysis.\n",
        "\n",
        "The KMO measure is based on the correlation and partial correlation between variables. It is calculated as the ratio of the squared sums of correlations to the squared sums of correlations plus the squared sums of partial correlations. KMO values range between 0 and 1, where values close to 1 suggest strong correlations and suitability for Factor Analysis, and values close to 0 indicate weak correlations and unsuitability."
      ]
    },
    {
      "cell_type": "code",
      "metadata": {},
      "source": [
        "kmo_all, kmo_model = calculate_kmo(X_encoded)\n",
        "print(f\"\\nKMO measure: {kmo_model:.3f} (0.6+ is often considered acceptable)\")"
      ],
      "execution_count": null,
      "outputs": []
    },
    {
      "cell_type": "markdown",
      "metadata": {},
      "source": [
        "A KMO measure of 0.835 indicates that the data is well-suited for Factor Analysis.\n",
        "\n",
        "## Addressing Multicollinearity with Principal Component Analysis (PCA) {#sec-pca}\n",
        "\n",
        "::: {#def-multicoll}\n",
        "###### Multicollinearity and Multicorrelation\n",
        "\n",
        "Multicorrelation is a general term that describes correlation between multiple variables. Multicollinearity is a specific problem in regression models caused by strong correlations between independent variables, making model interpretation difficult.\n",
        ":::\n",
        "\n",
        "\n",
        "### Introduction to PCA\n",
        "\n",
        "Principal Component Analysis (PCA) is a popular unsupervised dimensionality reduction technique. It transforms a set of possibly correlated variables into a set of linearly uncorrelated variables called principal components. The first principal component accounts for as much of the variability in the data as possible, and each succeeding component accounts for as much of the remaining variability as possible. PCA is primarily used for data compression and simplifying complex datasets.\n",
        "\n",
        "### Application of PCA in Regression Problems:\n",
        "\n",
        "*   **Dimensionality Reduction:** PCA reduces the number of explanatory variables by transforming original variables into a smaller set of uncorrelated principal components, making regression algorithms less prone to overfitting, especially with many features.\n",
        "*   **Reducing Multicollinearity:** PCA effectively eliminates multicollinearity in linear regression models because the resulting principal components are orthogonal (uncorrelated) to each other, leading to more stable coefficient estimates.\n",
        "*   **Handling High-Dimensional Data:** It can reduce the dimensions of datasets with many variables to a manageable level before regression.\n",
        "*   **Reduced Overfitting Tendencies:** By removing redundant and highly correlated variables, PCA helps reduce the risk of overfitting by focusing the model on the most influential features.\n",
        "*   **Improved Model Performance:** Performing regression on the most important principal components often leads to better generalization and improved model performance on new data.\n",
        "*   **Interpretation of Feature Importance:** PCA provides insights into the importance of original features through the variance explained by each principal component, which can identify combinations of variables best representing the data.\n",
        "\n",
        "### Scree Plot\n",
        "\n",
        "::: {#def-scree-plot}\n",
        "#### Scree Plot\n",
        "A scree plot is a graphical representation of the eigenvalues of a covariance or correlation matrix in descending order. It is used to determine the number of significant components or factors in dimensionality reduction techniques.\n",
        "\n",
        "Mathematically, the eigenvalues $\\lambda_1, \\lambda_2, \\dots, \\lambda_p$ are plotted against their corresponding component or factor indices $i = 1, 2, \\dots, p$, where $p$ is the total number of components or factors.\n",
        "\n",
        "The eigenvalues are defined as:\n",
        "\n",
        "$$\n",
        "\\lambda_i = \\text{Var}(\\mathbf{z}_i),\n",
        "$$\n",
        "\n",
        "where $\\mathbf{z}_i$ is the $i$-th principal component or factor, and $\\text{Var}(\\mathbf{z}_i)$ is its variance.\n",
        "\n",
        "The scree plot is constructed by plotting the points $(i, \\lambda_i)$ for $i = 1, 2, \\dots, p$. The \"elbow\" in the plot, where the eigenvalues start to level off, indicates the optimal number of components or factors to retain.\n",
        "::: \n",
        "\n",
        "\n",
        "### Loading Scores (for PCA)\n",
        "\n",
        "Loading scores in the context of Principal Component Analysis (PCA) represent the correlation or relationship between the original variables and the principal components. \n",
        "\n",
        "::: {#def-loading_scores}\n",
        "#### Loading Scores\n",
        "The loading score for the $j$-th variable on the $i$-th principal component is defined as:\n",
        "\n",
        "$$\n",
        "L_{ij} = \\mathbf{a}_i^\\top \\mathbf{x}_j,\n",
        "$$\n",
        "\n",
        "where:\n",
        "\n",
        "$\\mathbf{a}_i$ is the eigenvector corresponding to the $i$-th principal component,\n",
        "$\\mathbf{x}_j$ is the standardized value of the $j$-th variable.\n",
        ":::\n",
        "\n",
        "In PCA, the loading scores indicate how much each original variable contributes to a given principal component. High absolute values of $L_{ij}$ suggest that the $j$-th variable strongly influences the $i$-th principal component.\n",
        "In PCA, loading scores can be viewed as directional vectors in the feature space. The magnitude of the score indicates how dominant the variable is in a component, while the sign represents the direction of the relationship. A high positive loading means a positive influence and correlation with the component, and a high negative loading indicates a negative correlation. Loading score values also show how much each original variable contributes to the explained variance in its respective principal component.\n",
        "\n",
        "::: {.callout-note}\n",
        "### Summary of Loading Scores\n",
        "Loading scores are used in Principal Component Analysis (PCA).\n",
        "\n",
        "* Definition: Loading scores represent the correlation or relationship between the original variables and the principal components.\n",
        "* Purpose: They indicate how much each original variable contributes to a given principal component.\n",
        "* Mathematical Representation: In PCA, the loading scores are the elements of the eigenvectors of the covariance (or correlation) matrix, scaled by the square root of the corresponding eigenvalues.\n",
        "* Interpretation: High absolute values of loading scores suggest that the variable strongly influences the corresponding principal component.\n",
        "::: \n",
        "\n",
        "@sec-loading-scores-vs-factor-loadings explains the difference between loading scores in PCA and factor loadings in FA. \n",
        "\n",
        "\n",
        "\n",
        "### PCA for Car Sales Example\n",
        "\n",
        "#### Computing the Principal Components\n",
        "The Principal Component Analysis (PCA) is applied only to the features (`X_encoded`), not to the target variable. We will use functions from `spotpython.utils.pca`, which are based on `sklearn.decomposition.PCA` to perform PCA.\n",
        "\n",
        "Step 1: Perform PCA and scale the data"
      ]
    },
    {
      "cell_type": "code",
      "metadata": {},
      "source": [
        "#| label: pca_car_sales\n",
        "pca, scaled_data, feature_names, sample_names, df_pca_components = get_pca(df=X_encoded, n_components=10)"
      ],
      "execution_count": null,
      "outputs": []
    },
    {
      "cell_type": "markdown",
      "metadata": {},
      "source": [
        "Step 2: Plot the scree plot"
      ]
    },
    {
      "cell_type": "code",
      "metadata": {},
      "source": [
        "#| label: fig-scree_plot_pca-1\n",
        "#| fig-cap: \"Scree plot for PCA showing the explained variance ratio for each principal component.\"\n",
        "plot_pca_scree(pca, df_name=\"Car Sales Data\", max_scree=10)"
      ],
      "execution_count": null,
      "outputs": []
    },
    {
      "cell_type": "markdown",
      "metadata": {},
      "source": [
        "Step 3: Plot the first two principal components"
      ]
    },
    {
      "cell_type": "code",
      "metadata": {},
      "source": [
        "#| label: fig-pcvals2\n",
        "#| fig-cap: \"Scatter plot of the first two principal components (PC1 vs PC2) for the Car Sales Data.\"\n",
        "plot_pca1vs2(pca, df_pca_components, df_name=\"Car Sales Data\")"
      ],
      "execution_count": null,
      "outputs": []
    },
    {
      "cell_type": "markdown",
      "metadata": {},
      "source": [
        "Step 4: Get the top k features influencing PC1 and PC2"
      ]
    },
    {
      "cell_type": "code",
      "metadata": {},
      "source": [
        "#| label: pca_top_k_features\n",
        "top_k_features_pc1, top_k_features_pc2 = get_pca_topk(pca, feature_names, k=10)\n",
        "print(\"Top 10 features influencing PC1:\", top_k_features_pc1)\n",
        "print(\"Top 10 features influencing PC2:\", top_k_features_pc2)"
      ],
      "execution_count": null,
      "outputs": []
    },
    {
      "cell_type": "markdown",
      "metadata": {},
      "source": [
        "#### Loading Scores for PCA (10 Components)"
      ]
    },
    {
      "cell_type": "code",
      "metadata": {},
      "source": [
        "#| label: pca_loading_scores-10\n",
        "# Get and print loading scores\n",
        "loading_scores_df = get_loading_scores(pca, X_encoded.columns)\n",
        "print(\"PCA Loading Scores (10 Components):\\n\", loading_scores_df)"
      ],
      "execution_count": null,
      "outputs": []
    },
    {
      "cell_type": "markdown",
      "metadata": {},
      "source": [
        "@fig-pca_loading_scores-10 shows the loading scores heatmap for the first 10 principal components. The heatmap visualizes how much each original feature contributes to each principal component, with darker colors indicating stronger contributions."
      ]
    },
    {
      "cell_type": "code",
      "metadata": {},
      "source": [
        "#| label: fig-pca_loading_scores-10\n",
        "#| fig-cap: \"PCA Loading Scores Heatmap showing the influence of original features on the principal components.\"\n",
        "plot_loading_scores(loading_scores_df)"
      ],
      "execution_count": null,
      "outputs": []
    },
    {
      "cell_type": "markdown",
      "metadata": {},
      "source": [
        "### Creating the Regression Model with Principal Components\n",
        "Now, a linear regression model is fitted using the principal components derived from PCA. These components are uncorrelated, which should eliminate multicollinearity issues."
      ]
    },
    {
      "cell_type": "code",
      "metadata": {},
      "source": [
        "X_pca_model_with_const = sm.add_constant(df_pca_components)\n",
        "model_pca = sm.OLS(y, X_pca_model_with_const).fit()\n",
        "print(\"\\nRegression on PCA Components:\")\n",
        "print(model_pca.summary())"
      ],
      "execution_count": null,
      "outputs": []
    },
    {
      "cell_type": "markdown",
      "metadata": {},
      "source": [
        "When all principal components are retained, the PCA regression model performs identically to the original OLS model in terms of R-squared, Adjusted R-squared, MSE, and RMSE. This is because PCA merely rotates the data, preserving all variance if all components are used. Its benefit lies in handling multicollinearity and enabling dimensionality reduction if fewer components are chosen without significant loss of information.\n",
        "\n",
        "### Collinearity Diagnostics for PCA Regression Model\n",
        "\n",
        "Consider the eigenvalues of the PCA components to verify that they are uncorrelated. The eigenvalues should be close to 1, indicating that the components are orthogonal and do not exhibit multicollinearity."
      ]
    },
    {
      "cell_type": "code",
      "metadata": {},
      "source": [
        "fa_temp = FactorAnalyzer(n_factors=df_pca_components.shape[1], method=\"principal\", rotation=None)\n",
        "try:\n",
        "    fa_temp.fit(df_pca_components)\n",
        "    ev, _ = fa_temp.get_eigenvalues()\n",
        "    ev = np.sort(ev) # The source prints in ascending order\n",
        "    print(\"Eigenvalues for each component:\\n\", ev)\n",
        "except Exception as e:\n",
        "    print(f\"Error during factor analysis fitting: {e}\")\n",
        "    print(\"Consider reducing multicollinearity or removing problematic features.\")"
      ],
      "execution_count": null,
      "outputs": []
    },
    {
      "cell_type": "markdown",
      "metadata": {},
      "source": [
        "Next, we compute the condition indices for the PCA components to confirm that they are uncorrelated."
      ]
    },
    {
      "cell_type": "code",
      "metadata": {},
      "source": [
        "coeffs_table = compute_coefficients_table(\n",
        "    model=model_pca, X_encoded=X_pca_model_with_const, y=y, vif_table=None\n",
        ")\n",
        "print(\"\\nCoefficients Table:\")\n",
        "print(coeffs_table)"
      ],
      "execution_count": null,
      "outputs": []
    },
    {
      "cell_type": "markdown",
      "metadata": {},
      "source": [
        "As expected, results indicate that there is  no multicollinearity among the principal components. This confirms that PCA successfully addresses the multicollinearity problem. The R-squared and Adjusted R-squared values remain the same as the original OLS model since PCA preserves the total variance when all components are retained.\n",
        "\n",
        "### PCA: Creating the Regression Model with three Principle Components only {#sec-pca-reduced}"
      ]
    },
    {
      "cell_type": "code",
      "metadata": {},
      "source": [
        "# Create a regression model using only the first three principal components\n",
        "df_pc_reduced = df_pca_components.iloc[:, :3] # select the first three factors\n",
        "X_model_pc_reduced = sm.add_constant(df_pc_reduced)\n",
        "model_pc_reduced = sm.OLS(y, X_model_pc_reduced).fit()\n",
        "print(\"\\nRegression on PCs (three PCs only):\")\n",
        "print(model_pc_reduced.summary())\n",
        "\n",
        "# Verify collinearity statistics for reduced PCs scores\n",
        "coeffs_table_pc_reduced = compute_coefficients_table(\n",
        "    model=model_pc_reduced, X_encoded=X_model_pc_reduced, y=y, vif_table=None\n",
        ")\n",
        "print(\"\\nCoefficients Table (Reduced PCs Analysis Model):\")\n",
        "print(coeffs_table_pc_reduced)\n",
        "\n",
        "# Verify condition indices for reduced FA scores\n",
        "X_cond_pc_reduced = copy.deepcopy(df_pc_reduced)\n",
        "condition_index_df_pc_reduced = condition_index(X_cond_pc_reduced)\n",
        "print(\"\\nCondition Index (Reduced PC Analysis Model):\")\n",
        "print(condition_index_df_pc_reduced)"
      ],
      "execution_count": null,
      "outputs": []
    },
    {
      "cell_type": "markdown",
      "metadata": {},
      "source": [
        "## Addressing Multicollinearity and Latent Structure with Factor Analysis (FA) {#sec-fa}\n",
        "\n",
        "### Introduction to Factor Analysis\n",
        "Factor Analysis (FA) is a statistical method used to describe variability among observed, correlated variables in terms of a potentially lower number of unobserved variables called factors or latent variables. Unlike PCA, which is primarily a data reduction technique focused on maximizing variance explained, FA assumes that the observed variables are linear combinations of these underlying factors plus an error term. FA's main goal is to uncover the underlying structure that explains the correlations among observed variables.\n",
        "\n",
        "### Determining the Number of Factors for Factor Analysis\n",
        "For Factor Analysis, the number of factors to extract is a crucial decision. A common approach, consistent with the KMO measure, is to consider factors with eigenvalues greater than 1 (Kaiser's criterion). Factor analysis is then performed, often with a rotation method like Varimax to improve factor interpretability."
      ]
    },
    {
      "cell_type": "code",
      "metadata": {},
      "source": [
        "anz_fak = 10 # Number of factors to extract, similar to the components in PCA\n",
        "n_factors = min(anz_fak, X_encoded.shape[1])\n",
        "fa = FactorAnalyzer(n_factors=n_factors, method=\"principal\", rotation=\"varimax\")\n",
        "fa.fit(X_encoded) # Fit the Factor Analyzer\n",
        "actual_factors = fa.loadings_.shape[1] # Number of factors actually extracted\n",
        "print(f\"actual_factors: {actual_factors}\")\n",
        "if actual_factors < n_factors:\n",
        "    print(\n",
        "        f\"\\nWarning: Only {actual_factors} factors could be extracted \"\n",
        "        f\"(requested {n_factors}).\"\n",
        "    )\n",
        "factor_columns = [f\"Factor{i+1}\" for i in range(actual_factors)]"
      ],
      "execution_count": null,
      "outputs": []
    },
    {
      "cell_type": "markdown",
      "metadata": {},
      "source": [
        "### Scree Plot for Factor Analysis\n",
        "\n",
        "\n",
        "@fig-scree_plot_fa shows the eigenvalues for each factor extracted from Factor Analysis. The scree plot helps in determining the number of factors to retain by identifying the \"elbow\" point where the eigenvalues start to level off, indicating diminishing returns in explained variance."
      ]
    },
    {
      "cell_type": "code",
      "metadata": {},
      "source": [
        "#| label: fig-scree_plot_fa\n",
        "#| fig-cap: \"Scree plot for Factor Analysis showing the eigenvalues for each factor.\"\n",
        "plt.figure(figsize=(10, 6))\n",
        "ev_fa, _ = fa.get_eigenvalues()\n",
        "plt.plot(range(1, len(ev_fa) + 1), ev_fa, marker='o', linestyle='--')\n",
        "plt.title('Scree Plot for Factor Analysis')\n",
        "plt.xlabel('Number of Factors')\n",
        "plt.ylabel('Eigenvalue')\n",
        "plt.grid(True)\n",
        "plt.xticks(range(1, len(ev_fa) + 1))\n",
        "plt.show()"
      ],
      "execution_count": null,
      "outputs": []
    },
    {
      "cell_type": "markdown",
      "metadata": {},
      "source": [
        "### Factor Loadings\n",
        "\n",
        "Factor Loadings indicate how strongly each original variable is correlated with the extracted factors. High absolute values suggest that the variable has a significant influence on, or is strongly associated with, that factor. Loadings help in interpreting the meaning of each underlying factor.\n",
        "\n",
        "::: {.callout-note}\n",
        "#### Summary of Factor Loadings\n",
        "Factor loadings are used in Factor Analysis (FA).\n",
        "* Definition: Factor loadings represent the correlation or relationship between the observed variables and the latent factors.\n",
        "* Purpose: They indicate how much each observed variable is explained by a given factor.\n",
        "* Mathematical Representation: In FA, factor loadings are derived from the factor model, where observed variables are expressed as linear combinations of latent factors plus error terms.\n",
        "* Interpretation: High absolute values of factor loadings suggest that the variable is strongly associated with the corresponding factor.\n",
        ":::\n",
        "\n",
        "@sec-loading-scores-vs-factor-loadings explains the difference between loading scores in PCA and factor loadings in FA. "
      ]
    },
    {
      "cell_type": "code",
      "metadata": {},
      "source": [
        "# Print factor loadings with 2 decimals\n",
        "factor_loadings = fa.loadings_\n",
        "print(\"Factor Loadings (rounded to 2 decimals):\\n\", np.round(factor_loadings, 2))\n",
        "\n",
        "# Create a DataFrame for the factor loadings for better visualization\n",
        "factor_loadings_df = pd.DataFrame(\n",
        "    factor_loadings, index=X_encoded.columns, # Original feature names\n",
        "    columns=factor_columns # Factor names\n",
        ")\n",
        "\n",
        "# Plot the heatmap for factor loadings\n",
        "plt.figure(figsize=(10, 8))\n",
        "sns.heatmap(\n",
        "    factor_loadings_df, annot=True, # Annotate with values\n",
        "    fmt=\".2f\", # Format values to 2 decimals\n",
        "    cmap=\"coolwarm\", # Color map\n",
        "    cbar=True # Show color bar\n",
        ")\n",
        "plt.title(\"Factor Loadings Heatmap\")\n",
        "plt.xlabel(\"Factors\")\n",
        "plt.ylabel(\"Features\")\n",
        "plt.tight_layout()\n",
        "plt.show()"
      ],
      "execution_count": null,
      "outputs": []
    },
    {
      "cell_type": "markdown",
      "metadata": {},
      "source": [
        "### Factor Scores\n",
        "The factor scores are the transformed values of the original variables based on the extracted factors. These scores represent the values of the latent factors for each observation and can be used as new features in regression models, similar to principal components in PCA.\n",
        "\n",
        "::: {#def-factor_scores}\n",
        "#### Factor Scores\n",
        "A **factor score** represents the value of a latent factor for a given observation, calculated as a linear combination of the observed variables weighted by the factor score coefficients.\n",
        "\n",
        "Mathematically, the factor score for the $i$-th factor and the $j$-th observation is defined as:\n",
        "\n",
        "$$\n",
        "F_{ji} = w_{i1} x_{j1} + w_{i2} x_{j2} + \\cdots + w_{ip} x_{jp} = \\sum_{k=1}^p w_{ik} x_{jk},\n",
        "$$\n",
        "\n",
        "where\n",
        "\n",
        "* $F_{ji}$ is the factor score for factor $i$ and observation $j$,  \n",
        "* $w_{ik}$ is the factor score coefficient for variable $k$ on factor $i$,  \n",
        "* $x_{jk}$ is the standardized value of variable $k$ for observation $j$, and \n",
        "* $p$ is the number of observed variables.\n",
        "::: \n"
      ]
    },
    {
      "cell_type": "code",
      "metadata": {},
      "source": [
        "# Factor scores for each row (shape: [n_samples, actual_factors])\n",
        "X_factor_scores = fa.transform(X_encoded)\n",
        "print(f\"X_factor_scores shape: {X_factor_scores.shape}\")\n",
        "\n",
        "# Adapt the factor column names to the actual factor count\n",
        "df_factors = pd.DataFrame(X_factor_scores, columns=factor_columns)\n",
        "print(f\"df_factors shape: {df_factors.shape}\")\n",
        "print(f\"df_factors head:\\n{df_factors.head()}\")"
      ],
      "execution_count": null,
      "outputs": []
    },
    {
      "cell_type": "markdown",
      "metadata": {},
      "source": [
        "### Creating the Regression Model with Extracted Factors (from FA)\n",
        "A linear regression model is built using all ten extracted factors from Factor Analysis. The expectation is that these factors are uncorrelated, addressing multicollinearity."
      ]
    },
    {
      "cell_type": "code",
      "metadata": {},
      "source": [
        "X_model_fa = sm.add_constant(df_factors)\n",
        "model_factors = sm.OLS(y, X_model_fa).fit()\n",
        "print(\"\\nRegression on Factor Scores (all 10 factors):\")\n",
        "print(model_factors.summary())\n",
        "\n",
        "# Verify collinearity statistics for Factor Analysis scores (VIF and Tolerance)\n",
        "coeffs_table_fa = compute_coefficients_table(\n",
        "    model=model_factors, X_encoded=X_model_fa, y=y, vif_table=None\n",
        ")\n",
        "print(\"\\nCoefficients Table (Factor Analysis Model):\")\n",
        "print(coeffs_table_fa)\n",
        "\n",
        "# Verify condition indices\n",
        "X_cond_fa = copy.deepcopy(df_factors)\n",
        "condition_index_df_fa = condition_index(X_cond_fa)\n",
        "print(\"\\nCondition Index (Factor Analysis Model):\")\n",
        "print(condition_index_df_fa)"
      ],
      "execution_count": null,
      "outputs": []
    },
    {
      "cell_type": "markdown",
      "metadata": {},
      "source": [
        "As expected, the collinearity statistics (VIF and Tolerance) for the factor values show that they are uncorrelated (VIF=1, Tolerance=1). The condition indices are also all close to 1, confirming that Factor Analysis successfully mitigates multicollinearity. The coefficient estimates are larger relative to their standard errors compared to the original model, which can lead to more factors being identified as statistically significant.\n",
        "\n",
        "If the R-squared and Adjusted R-squared values for `model_factors` are close to those of the original `model`, it indicates that the regression model based on Factor Analysis performs similarly well, while successfully reducing multicollinearity. When all factors are used, the predictive performance metrics are identical to the original OLS model.\n",
        "\n",
        "### Factor Analysis: Creating the Regression Model with three Extracted Factors only\n",
        "\n",
        "#### Setting Up the Regression Model with Reduced Factors\n",
        "\n",
        "To demonstrate the effect of dimensionality reduction, a regression model is created using only the first three extracted factors from Factor Analysis."
      ]
    },
    {
      "cell_type": "code",
      "metadata": {},
      "source": [
        "# Create a regression model using only the first three factors\n",
        "df_factors_reduced = df_factors.iloc[:, :3] # select the first three factors\n",
        "X_model_fa_reduced = sm.add_constant(df_factors_reduced)\n",
        "model_factors_reduced = sm.OLS(y, X_model_fa_reduced).fit()\n",
        "print(\"\\nRegression on Factor Scores (three factors only):\")\n",
        "print(model_factors_reduced.summary())\n",
        "\n",
        "# Verify collinearity statistics for reduced FA scores\n",
        "coeffs_table_fa_reduced = compute_coefficients_table(\n",
        "    model=model_factors_reduced, X_encoded=X_model_fa_reduced, y=y, vif_table=None\n",
        ")\n",
        "print(\"\\nCoefficients Table (Reduced Factor Analysis Model):\")\n",
        "print(coeffs_table_fa_reduced)\n",
        "\n",
        "# Verify condition indices for reduced FA scores\n",
        "X_cond_fa_reduced = copy.deepcopy(df_factors_reduced)\n",
        "condition_index_df_fa_reduced = condition_index(X_cond_fa_reduced)\n",
        "print(\"\\nCondition Index (Reduced Factor Analysis Model):\")\n",
        "print(condition_index_df_fa_reduced)"
      ],
      "execution_count": null,
      "outputs": []
    },
    {
      "cell_type": "markdown",
      "metadata": {},
      "source": [
        "The collinearity statistics for the reduced factor set continue to show that they are uncorrelated, with VIFs of 1.0 and condition indices close to 1.\n",
        "\n",
        "#### Comparison of Model Performance of the Reduced FA Model and the Full OLS Model\n",
        "\n",
        "When reducing the number of factors from 10 to 3, the R-squared and Adjusted R-squared values for the Factor Analysis model decrease significantly (from ~0.48 to ~0.35). This indicates a trade-off: while reducing dimensionality successfully addresses multicollinearity, retaining too few factors can lead to information loss and reduced predictive accuracy. Lower MSE and RMSE values still suggest better predictive performance for the full OLS model in this specific comparison, as it retains more information.\n",
        "\n",
        "## Summary: Comparing OLS, PCA, and Factor Analysis Models {#sec-summary-comparison}\n",
        "\n",
        "Multicollinearity is a common issue in regression models that can lead to unstable and difficult-to-interpret coefficients. Both Principal Component Analysis (PCA) and Factor Analysis (FA) are powerful techniques for addressing multicollinearity and reducing dimensionality.\n",
        "\n",
        "*   **PCA** is a standard method for addressing multicollinearity by transforming correlated variables into uncorrelated principal components. These components can be effectively used in linear regression and other models like Random Forest. While PCA components are not always easy to interpret directly in terms of original variables, they excel at data compression and reducing model complexity.\n",
        "*   **Factor Analysis** provides a way to simplify data by identifying underlying latent structures (factors) that explain correlations among variables. It also results in uncorrelated factors, making it suitable for regression problems affected by multicollinearity. Interpretation of factors relies on factor loadings.\n",
        "\n",
        "The choice between PCA and Factor Analysis depends on the specific goals: PCA for dimensionality reduction and variance explanation, FA for discovering latent constructs. Both are valuable tools in the data scientist's toolkit for handling complex, highly correlated datasets.\n",
        "\n",
        "\n",
        "### Interpretation of the Regression Models\n",
        "\n",
        "*   **OLS Model (`model`):** This model uses the original variables directly. Coefficients indicate the direct relationship between each original variable and the target variable.\n",
        "*   **PCA Regression Model (`model_pca`):** This model uses principal components, which are linear combinations of the original variables, as predictors. The coefficients show the relationship between the target variable and these abstract components.\n",
        "*   **Factor Analysis Model (`model_factors`):** This model uses extracted factors, which are also linear combinations of original variables, designed to capture underlying latent structures. Coefficients indicate the relationship between the target variable and these latent factors.\n",
        "\n",
        "### Differences Compared to the Standard OLS Model\n",
        "\n",
        "| Feature           | OLS Model (Standard)                                        | PCA Regression Model                                                      | Factor Analysis Model                                                      |\n",
        "| :---------------- | :---------------------------------------------------------- | :------------------------------------------------------------------------ | :------------------------------------------------------------------------- |\n",
        "| **Input Variables** | Uses original variables (e.g., `X_encoded`) as predictors. | Uses principal components (e.g., `df_pca_components`) as predictors.       | Uses extracted factors (e.g., `df_factors`) as predictors.        |\n",
        "| **Multicollinearity** | Can suffer from multicollinearity if predictors are highly correlated, leading to unstable coefficients and inflated standard errors. | Reduces multicollinearity because principal components are orthogonal (uncorrelated). | Reduces multicollinearity by using uncorrelated factors as predictors. |\n",
        "| **Interpretability** | Coefficients correspond directly to original variables, making interpretation straightforward. | Coefficients relate to abstract principal components, making direct interpretation of original variable influence more challenging. | Coefficients relate to abstract factors, making interpretation more challenging. Factor loadings must be analyzed for meaning. |\n",
        "| **Dimensionality** | Uses all original variables, potentially including redundant or irrelevant features. | Reduces the number of predictors by combining original variables into fewer principal components. | Reduces the number of predictors by combining original variables into fewer factors. |\n",
        "| **Purpose**       | Direct relationship modeling, inference.                    | Dimensionality reduction, variance maximization, multicollinearity mitigation. | Discovering latent structures, explaining correlations.                     |\n",
        "| **Assumptions**   | None on underlying structure beyond linear relationship.    | Does not assume an underlying causal model.                               | Assumes observed variables are caused by underlying factors.               |\n",
        "| **Error Variance** | Does not explicitly separate unique variance.               | Does not separate unique variance from common variance.                   | Explicitly models unique variance for each variable.                       |\n",
        "\n",
        "### Key Differences Between Loading Scores (PCA) and Factor Loadings (FA) {#sec-loading-scores-vs-factor-loadings}\n",
        "\n",
        "| Aspect                | Loading Scores (PCA)                                   | Factor Loadings (FA)                                   |\n",
        "|-----------------------|--------------------------------------------------------|-------------------------------------------------------|\n",
        "| **Context**           | Principal Component Analysis (PCA)                    | Factor Analysis (FA)                                  |\n",
        "| **Purpose**           | Describe the contribution of variables to principal components. | Describe the relationship between variables and latent factors. |\n",
        "| **Underlying Model**  | No assumption of latent structure; purely variance-based. | Assumes a latent structure explaining observed variables. |\n",
        "| **Error Term**        | PCA does not explicitly model error variance.          | FA explicitly models unique (error) variance for each variable. |\n",
        "| **Interpretability**  | Components are orthogonal (uncorrelated).              | Factors may not be orthogonal, depending on rotation. |\n",
        "\n",
        "While both loading scores and factor loadings describe relationships between variables and derived components or factors, **loading scores** are specific to PCA and focus on maximizing variance, while **factor loadings** are specific to FA and aim to uncover latent structures.\n",
        "\n",
        "\n",
        "\n",
        "\n",
        "### Advantages of Using PCA and FA\n",
        "\n",
        "**Principal Component Analysis (PCA):**\n",
        "\n",
        "*   **Reduced Multicollinearity:** By using uncorrelated principal components, the model avoids instability caused by multicollinearity.\n",
        "*   **Dimensionality Reduction:** The model uses fewer predictors if desired, improving computational efficiency and potentially generalization by removing noise.\n",
        "*   **Variance Maximization:** Components are constructed to capture the maximum possible variance from the original data.\n",
        "\n",
        "**Factor Analysis (FA):**\n",
        "\n",
        "*   **Reduced Multicollinearity:** Similar to PCA, using uncorrelated factors prevents instability from multicollinearity.\n",
        "*   **Dimensionality Reduction:** Reduces the number of predictors, improving computational efficiency and generalization.\n",
        "*   **Focus on Underlying Structure:** Factor analysis aims to capture the latent structure of the data, potentially providing better insights into the fundamental relationships between variables.\n",
        "\n",
        "### Disadvantages of Using PCA and FA\n",
        "\n",
        "**Principal Component Analysis (PCA):**\n",
        "\n",
        "*   **Loss of Interpretability:** Principal components are abstract combinations of the original variables, making it harder to directly interpret the coefficients. Understanding individual variable influence requires examining loading scores.\n",
        "*   **Potential Information Loss:** If too few components are retained, information from the original variables may be lost, potentially reducing predictive accuracy.\n",
        "\n",
        "**Factor Analysis (FA):**\n",
        "\n",
        "*   **Loss of Interpretability:** Factors are abstract combinations of the original variables, making it harder to directly interpret the coefficients. Factor loadings must be analyzed to understand the influence of individual variables.\n",
        "*   **Potential Information Loss:** If too few factors are retained, information from the original variables may be lost, reducing predictive accuracy.\n",
        "*   **Complexity:** The process of extracting factors and interpreting their meaning adds complexity to the modeling process.\n",
        "*   **Dependence on Factor Selection:** The number of factors to retain is subjective and can affect model performance. Too few factors may oversimplify, while too many may reintroduce multicollinearity.\n",
        "*   **Assumption of Latent Structure:** Relies on the assumption that an underlying latent structure exists, which may not always be true for all datasets.\n",
        "\n",
        "### When to Use Which Method\n",
        "*   Use PCA when the primary goal is **dimensionality reduction**, **data compression**, and **multicollinearity resolution**, especially when interpretability of the new components is secondary to predictive performance.\n",
        "*   Use Factor Analysis when the goal is to **uncover underlying latent constructs or factors** that explain the relationships among variables, and when you seek to understand the conceptual meaning of these latent variables, even if it adds complexity.\n",
        "*   The original OLS model is preferable when **interpretability of original variables is crucial** and multicollinearity is not a significant issue.\n",
        "\n",
        "## Using Principal Components / Factors in Other Models {#sec-other-models}\n",
        "\n",
        "The principal components from PCA or factors from Factor Analysis can also be effectively used as predictors in other machine learning models, not just linear regression.\n",
        "\n",
        "### Random Forest Regressor with the Full Dataset\n",
        "First, a Random Forest Regressor is trained using the original, full dataset (`X_encoded`)."
      ]
    },
    {
      "cell_type": "code",
      "metadata": {},
      "source": [
        "# 1. Prepare Data # \n",
        "# Use the original input features (X_encoded) as predictors\n",
        "X_original = X_encoded\n",
        "# Split the data into training and testing sets\n",
        "X_train_orig, X_test_orig, y_train_orig, y_test_orig = train_test_split(X_original, y, test_size=0.2, random_state=42)\n",
        "\n",
        "# 2. Fit Random Forest Model \n",
        "from sklearn.ensemble import RandomForestRegressor\n",
        "rf_model_orig = RandomForestRegressor(n_estimators=100, random_state=42)\n",
        "# Train the model on the training data\n",
        "rf_model_orig.fit(X_train_orig, y_train_orig)\n",
        "\n",
        "# 3. Evaluate the Model\n",
        "# Make predictions on the test set\n",
        "y_pred_orig = rf_model_orig.predict(X_test_orig)\n",
        "# Calculate evaluation metrics\n",
        "r2_rf_orig = r2_score(y_test_orig, y_pred_orig)\n",
        "mse_rf_orig = mean_squared_error(y_test_orig, y_pred_orig)\n",
        "rmse_rf_orig = np.sqrt(mse_rf_orig)\n",
        "\n",
        "# Print the results\n",
        "print(\"\\nRandom Forest Model (using original data):\")\n",
        "print(f\"R-squared: {r2_rf_orig:.4f}\")\n",
        "print(f\"MSE: {mse_rf_orig:.4f}\")\n",
        "print(f\"RMSE: {rmse_rf_orig:.4f}\")"
      ],
      "execution_count": null,
      "outputs": []
    },
    {
      "cell_type": "markdown",
      "metadata": {},
      "source": [
        "### Random Forest Regressor with PCA Components\n",
        "Next, a Random Forest Regressor is trained using the principal components derived from PCA. This tests if the dimensionality reduction and multicollinearity resolution of PCA benefit non-linear models."
      ]
    },
    {
      "cell_type": "code",
      "metadata": {},
      "source": [
        "# 1. Prepare Data \n",
        "# Use the extracted PCA components as predictors (using the 10 components)\n",
        "X_pca_rf = df_pca_components\n",
        "\n",
        "# Split the data into training and testing sets\n",
        "X_train_pca_rf, X_test_pca_rf, y_train_pca_rf, y_test_pca_rf = train_test_split(X_pca_rf, y, test_size=0.2, random_state=42)\n",
        "\n",
        "# 2. Fit Random Forest Model\n",
        "# Initialize the Random Forest Regressor\n",
        "rf_model_pca = RandomForestRegressor(n_estimators=100, random_state=42)\n",
        "# Train the model on the training data\n",
        "rf_model_pca.fit(X_train_pca_rf, y_train_pca_rf)\n",
        "\n",
        "#  3. Evaluate the Model \n",
        "# Make predictions on the test set\n",
        "y_pred_pca_rf = rf_model_pca.predict(X_test_pca_rf)\n",
        "# Calculate evaluation metrics\n",
        "r2_rf_pca = r2_score(y_test_pca_rf, y_pred_pca_rf)\n",
        "mse_rf_pca = mean_squared_error(y_test_pca_rf, y_pred_pca_rf)\n",
        "rmse_rf_pca = np.sqrt(mse_rf_pca)\n",
        "\n",
        "# Print the results\n",
        "print(\"\\nRandom Forest Model (using PCA components):\")\n",
        "print(f\"R-squared: {r2_rf_pca:.4f}\")\n",
        "print(f\"MSE: {mse_rf_pca:.4f}\")\n",
        "print(f\"RMSE: {rmse_rf_pca:.4f}\")"
      ],
      "execution_count": null,
      "outputs": []
    },
    {
      "cell_type": "markdown",
      "metadata": {},
      "source": [
        "### Random Forest Regressor with Extracted Factors (from FA)\n",
        "Finally, a Random Forest Regressor is trained using the extracted factors from Factor Analysis (using the 3 factors from the reduced model for this example to illustrate potential impact of reduction)."
      ]
    },
    {
      "cell_type": "code",
      "metadata": {},
      "source": [
        "# 1. Prepare Data \n",
        "# Use the extracted factors as predictors (using the 3 factors from the reduced FA model)\n",
        "X_factors_rf = df_factors_reduced\n",
        "\n",
        "# Split the data into training and testing sets\n",
        "X_train_fa_rf, X_test_fa_rf, y_train_fa_rf, y_test_fa_rf = train_test_split(X_factors_rf, y, test_size=0.2, random_state=42)\n",
        "\n",
        "# 2. Fit Random Forest Model \n",
        "# Initialize the Random Forest Regressor\n",
        "rf_model_fa = RandomForestRegressor(n_estimators=100, random_state=42)\n",
        "# Train the model on the training data\n",
        "rf_model_fa.fit(X_train_fa_rf, y_train_fa_rf)\n",
        "\n",
        "# 3. Evaluate the Model \n",
        "# Make predictions on the test set\n",
        "y_pred_fa_rf = rf_model_fa.predict(X_test_fa_rf)\n",
        "# Calculate evaluation metrics\n",
        "r2_rf_fa = r2_score(y_test_fa_rf, y_pred_fa_rf)\n",
        "mse_rf_fa = mean_squared_error(y_test_fa_rf, y_pred_fa_rf)\n",
        "rmse_rf_fa = np.sqrt(mse_rf_fa)\n",
        "\n",
        "# Print the results\n",
        "print(\"\\nRandom Forest Model (using extracted factors):\")\n",
        "print(f\"R-squared: {r2_rf_fa:.4f}\")\n",
        "print(f\"MSE: {mse_rf_fa:.4f}\")\n",
        "print(f\"RMSE: {rmse_rf_fa:.4f}\")"
      ],
      "execution_count": null,
      "outputs": []
    },
    {
      "cell_type": "markdown",
      "metadata": {},
      "source": [
        "### Comparison of the Random Forest Models {#sec-rf-comparison}"
      ]
    },
    {
      "cell_type": "code",
      "metadata": {},
      "source": [
        "# Print comparison of Random Forest models\n",
        "print(\"\\nComparison of Random Forest Models:\")\n",
        "print(\"\\nUsing Original Data:\")\n",
        "print(f\"R-squared: {r2_rf_orig:.4f}\")\n",
        "print(f\"MSE: {mse_rf_orig:.4f}\")\n",
        "print(f\"RMSE: {rmse_rf_orig:.4f}\")\n",
        "\n",
        "print(\"\\nUsing PCA Components:\")\n",
        "print(f\"R-squared: {r2_rf_pca:.4f}\")\n",
        "print(f\"MSE: {mse_rf_pca:.4f}\")\n",
        "print(f\"RMSE: {rmse_rf_pca:.4f}\")\n",
        "\n",
        "print(\"\\nUsing Extracted Factors (from FA):\")\n",
        "print(f\"R-squared: {r2_rf_fa:.4f}\")\n",
        "print(f\"MSE: {mse_rf_fa:.4f}\")\n",
        "print(f\"RMSE: {rmse_rf_fa:.4f}\")"
      ],
      "execution_count": null,
      "outputs": []
    },
    {
      "cell_type": "markdown",
      "metadata": {},
      "source": [
        "In this example, for Random Forest, using the reduced set of 3 factors from PCA and FA led to a decrease in R-squared and an increase in MSE/RMSE compared to using the original variables. This highlights that while dimensionality reduction can be beneficial, choosing too few components or factors can lead to information loss, negatively impacting predictive performance.\n",
        "\n",
        "\n",
        "## Videos: Principal Component Analysis (PCA)\n",
        "\n",
        "* Video: [Principal Component Analysis (PCA), Step-by-Step](https://youtu.be/FgakZw6K1QQ?si=lmXhc-bpOqb7RmDP)\n",
        "* Video: [PCA - Practical Tips](https://youtu.be/oRvgq966yZg?si=TIUsxNItfyYOjTLt)\n",
        "* Video: [PCA in Python](https://youtu.be/Lsue2gEM9D0?si=_fV_RzK8j1jwcb-e)\n",
        "\n",
        "\n",
        "## Jupyter Notebook\n",
        "\n",
        ":::{.callout-note}\n",
        "\n",
        "* The Jupyter-Notebook of this lecture is available on GitHub in the [Hyperparameter-Tuning-Cookbook Repository](https://github.com/sequential-parameter-optimization/Hyperparameter-Tuning-Cookbook/blob/main/100_ddmo_pca.ipynb)\n",
        "\n",
        ":::\n"
      ]
    }
  ],
  "metadata": {
    "kernelspec": {
      "name": "python3",
      "language": "python",
      "display_name": "Python 3 (ipykernel)",
      "path": "/Users/bartz/miniforge3/envs/spot312/share/jupyter/kernels/python3"
    }
  },
  "nbformat": 4,
  "nbformat_minor": 4
}