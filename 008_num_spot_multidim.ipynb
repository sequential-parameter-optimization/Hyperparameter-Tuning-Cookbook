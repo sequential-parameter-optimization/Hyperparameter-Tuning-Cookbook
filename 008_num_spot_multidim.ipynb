{
  "cells": [
    {
      "cell_type": "raw",
      "metadata": {},
      "source": [
        "---\n",
        "execute:\n",
        "  cache: false\n",
        "  eval: true\n",
        "  echo: true\n",
        "  warning: false\n",
        "---"
      ]
    },
    {
      "cell_type": "markdown",
      "metadata": {},
      "source": [
        "# Multi-dimensional Functions {#sec-multi-dim}\n",
        "\n",
        "\n",
        "This chapter illustrates how high-dimensional functions can be optimzed and analyzed.\n",
        "\n",
        "## Example: `Spot` and the 3-dim Sphere Function"
      ]
    },
    {
      "cell_type": "code",
      "metadata": {},
      "source": [
        "import numpy as np\n",
        "from spotPython.fun.objectivefunctions import analytical\n",
        "from spotPython.utils.init import fun_control_init, surrogate_control_init\n",
        "from spotPython.spot import spot"
      ],
      "execution_count": null,
      "outputs": []
    },
    {
      "cell_type": "markdown",
      "metadata": {},
      "source": [
        "### The Objective Function: 3-dim Sphere\n",
        "\n",
        "The `spotPython` package provides several classes of objective functions.\n",
        "We will use an analytical objective function, i.e., a function that can be described by a (closed) formula:\n",
        "   $$f(x) = \\sum_i^k x_i^2 $$. It is avaliable as `fun_sphere` in the `analytical` class."
      ]
    },
    {
      "cell_type": "code",
      "metadata": {},
      "source": [
        "fun = analytical().fun_sphere"
      ],
      "execution_count": null,
      "outputs": []
    },
    {
      "cell_type": "markdown",
      "metadata": {},
      "source": [
        "Here we will use problem dimension $k=3$.\n",
        "\n",
        "* The size of the `lower` bound array determines the problem dimension.\n",
        "* Here we will use `-1.0 * np.ones(3)`, i.e., a three-dim function.\n",
        "* We will use three different `theta` values (one for each dimension), i.e., we set `n_theta=3` in the `surrogate_control`.\n",
        "\n",
        "\n",
        "Similar to the one-dimensional case, which was introduced in Section @sec-visualizing-tensorboard-01, we can use TensorBoard to monitor the progress of the optimization. We will use the same code, only the prefix is different:"
      ]
    },
    {
      "cell_type": "code",
      "metadata": {},
      "source": [
        "fun_control = fun_control_init(\n",
        "              PREFIX=\"01\",\n",
        "              lower = -1.0*np.ones(3),\n",
        "              upper = np.ones(3),\n",
        "              var_name=[\"Pressure\", \"Temp\", \"Lambda\"],\n",
        "              show_progress=True)\n",
        "surrogate_control = surrogate_control_init(n_theta=3)\n",
        "spot_3 = spot.Spot(fun=fun,\n",
        "                  fun_control=fun_control,\n",
        "                  surrogate_control=surrogate_control)\n",
        "spot_3.run()"
      ],
      "execution_count": null,
      "outputs": []
    },
    {
      "cell_type": "markdown",
      "metadata": {},
      "source": [
        "::: {.callout-note}\n",
        "Now we can start TensorBoard in the background with the following command:\n",
        "\n",
        "```{raw}\n",
        "tensorboard --logdir=\"./runs\"\n",
        "```\n",
        "and can access the TensorBoard web server with the following URL:\n",
        "\n",
        "```{raw}\n",
        "http://localhost:6006/\n",
        "```\n",
        "::: \n",
        "\n",
        "### Results"
      ]
    },
    {
      "cell_type": "code",
      "metadata": {},
      "source": [
        "spot_3.print_results()"
      ],
      "execution_count": null,
      "outputs": []
    },
    {
      "cell_type": "code",
      "metadata": {},
      "source": [
        "spot_3.plot_progress()"
      ],
      "execution_count": null,
      "outputs": []
    },
    {
      "cell_type": "markdown",
      "metadata": {},
      "source": [
        "### A Contour Plot\n",
        "\n",
        "We can select two dimensions, say $i=0$ and $j=1$, and generate a contour plot as follows.\n",
        "\n",
        "::: {.callout-note}\n",
        "#### Note: \n",
        "\n",
        "We have specified identical `min_z` and `max_z` values to generate comparable plots.\n",
        "\n",
        ":::\n"
      ]
    },
    {
      "cell_type": "code",
      "metadata": {},
      "source": [
        "spot_3.plot_contour(i=0, j=1, min_z=0, max_z=2.25)"
      ],
      "execution_count": null,
      "outputs": []
    },
    {
      "cell_type": "markdown",
      "metadata": {},
      "source": [
        "* In a similar manner, we can plot dimension $i=0$ and $j=2$:"
      ]
    },
    {
      "cell_type": "code",
      "metadata": {},
      "source": [
        "spot_3.plot_contour(i=0, j=2, min_z=0, max_z=2.25)"
      ],
      "execution_count": null,
      "outputs": []
    },
    {
      "cell_type": "markdown",
      "metadata": {},
      "source": [
        "* The final combination is $i=1$ and $j=2$:"
      ]
    },
    {
      "cell_type": "code",
      "metadata": {},
      "source": [
        "spot_3.plot_contour(i=1, j=2, min_z=0, max_z=2.25)"
      ],
      "execution_count": null,
      "outputs": []
    },
    {
      "cell_type": "markdown",
      "metadata": {},
      "source": [
        "* The three plots look very similar, because the `fun_sphere` is symmetric.\n",
        "* This can also be seen from the variable importance:"
      ]
    },
    {
      "cell_type": "code",
      "metadata": {},
      "source": [
        "spot_3.print_importance()"
      ],
      "execution_count": null,
      "outputs": []
    },
    {
      "cell_type": "markdown",
      "metadata": {},
      "source": [
        "### TensorBoard\n",
        "\n",
        "![TensorBoard visualization of the spotPython process. Objective function values plotted against wall time.](figures_static/02_tensorboard_01.png)\n",
        "\n",
        "The second TensorBoard visualization shows the input values, i.e., $x_0, \\ldots, x_2$, plotted against the wall time.\n",
        "![TensorBoard visualization of the spotPython process.](figures_static/02_tensorboard_02.png)\n",
        "\n",
        "The third TensorBoard plot illustrates how `spotPython` can be used as a microscope for the internal mechanisms of the surrogate-based optimization process. Here, one important parameter, the learning rate $\\theta$ of the Kriging surrogate is plotted against the number of optimization steps.\n",
        "\n",
        "![TensorBoard visualization of the spotPython surrogate model.](figures_static/02_tensorboard_03.png){width=\"100%\"}\n",
        "\n",
        "\n",
        "## Conclusion\n",
        "\n",
        "Based on this quick analysis, we can conclude that all three dimensions are equally important (as expected, because the analytical function is known).\n",
        "\n",
        "## Exercises\n",
        "\n",
        "* Important:\n",
        "    * Results from these exercises should be added to this document, i.e., you should submit an updated version of this notebook.\n",
        "    * Please combine your results using this notebook.\n",
        "    * Only one notebook from each group!\n",
        "    * Presentation is based on this notebook. No addtional slides are required!\n",
        "    * spotPython version `0.16.11` (or greater) is required \n",
        "\n",
        "### The Three Dimensional `fun_cubed`\n",
        "\n",
        "* The input dimension is `3`. The search range is  $-1 \\leq x \\leq 1$ for all dimensions.\n",
        "* Generate contour plots\n",
        "* Calculate the variable importance.\n",
        "* Discuss the variable importance: \n",
        "  * Are all variables equally important? \n",
        "  * If not: \n",
        "    * Which is the most important variable?\n",
        "    * Which is the least important variable?\n",
        "\n",
        "### The Ten Dimensional `fun_wing_wt`\n",
        "\n",
        "* The input dimension is `10`. The search range is  $0 \\leq x \\leq 1$ for all dimensions.\n",
        "* Calculate the variable importance.\n",
        "* Discuss the variable importance: \n",
        "  * Are all variables equally important? \n",
        "  * If not: \n",
        "    * Which is the most important variable?\n",
        "    * Which is the least important variable?\n",
        "  * Generate contour plots for the three most important variables. Do they confirm your selection?\n",
        "\n",
        "### The Three Dimensional `fun_runge`\n",
        "\n",
        "* The input dimension is `3`. The search range is  $-5 \\leq x \\leq 5$ for all dimensions.\n",
        "* Generate contour plots\n",
        "* Calculate the variable importance.\n",
        "* Discuss the variable importance: \n",
        "  * Are all variables equally important? \n",
        "  * If not: \n",
        "    * Which is the most important variable?\n",
        "    * Which is the least important variable?\n",
        "\n",
        "### The Three Dimensional `fun_linear`\n",
        "\n",
        "* The input dimension is `3`. The search range is  $-5 \\leq x \\leq 5$ for all dimensions.\n",
        "* Generate contour plots\n",
        "* Calculate the variable importance.\n",
        "* Discuss the variable importance: \n",
        "  * Are all variables equally important? \n",
        "  * If not: \n",
        "    * Which is the most important variable?\n",
        "    * Which is the least important variable?\n"
      ]
    }
  ],
  "metadata": {
    "kernelspec": {
      "name": "python3",
      "language": "python",
      "display_name": "Python 3 (ipykernel)"
    }
  },
  "nbformat": 4,
  "nbformat_minor": 4
}