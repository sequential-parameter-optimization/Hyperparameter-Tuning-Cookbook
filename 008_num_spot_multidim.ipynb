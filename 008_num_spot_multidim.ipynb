{
  "cells": [
    {
      "cell_type": "raw",
      "metadata": {},
      "source": [
        "---\n",
        "execute:\n",
        "  cache: false\n",
        "  eval: true\n",
        "  echo: true\n",
        "  warning: false\n",
        "  keep-ipynb: true\n",
        "---"
      ],
      "id": "dd54276c"
    },
    {
      "cell_type": "markdown",
      "metadata": {},
      "source": [
        "# Multi-dimensional Functions {#sec-multi-dim}\n",
        "\n",
        "\n",
        "This chapter illustrates how high-dimensional functions can be optimized and analyzed.\n",
        "\n",
        "## Example: `Spot` and the 3-dim Sphere Function\n"
      ],
      "id": "63df9fb7"
    },
    {
      "cell_type": "code",
      "metadata": {},
      "source": [
        "import numpy as np\n",
        "from spotPython.fun.objectivefunctions import analytical\n",
        "from spotPython.utils.init import fun_control_init, surrogate_control_init\n",
        "from spotPython.spot import spot"
      ],
      "id": "a206222f",
      "execution_count": null,
      "outputs": []
    },
    {
      "cell_type": "markdown",
      "metadata": {},
      "source": [
        "### The Objective Function: 3-dim Sphere\n",
        "\n",
        "The `spotPython` package provides several classes of objective functions.\n",
        "We will use an analytical objective function, i.e., a function that can be described by a (closed) formula:\n",
        "$$\n",
        "f(x) = \\sum_i^k x_i^2.\n",
        "$$ \n",
        "   \n",
        "It is avaliable as `fun_sphere` in the `analytical` class [[SOURCE]](https://github.com/sequential-parameter-optimization/spotPython/blob/main/src/spotPython/fun/objectivefunctions.py).\n"
      ],
      "id": "f9fc8fd2"
    },
    {
      "cell_type": "code",
      "metadata": {},
      "source": [
        "fun = analytical().fun_sphere"
      ],
      "id": "91868c73",
      "execution_count": null,
      "outputs": []
    },
    {
      "cell_type": "markdown",
      "metadata": {},
      "source": [
        "Here we will use problem dimension $k=3$, which can be specified by the `lower` bound arrays.\n",
        "The size of the `lower` bound array determines the problem dimension. If we select `-1.0 * np.ones(3)`, a three-dimensional function is created.\n",
        "In contrast to the one-dimensional case (@sec-visualizing-tensorboard-01), where only one `theta` value was used, we will use three different `theta` values (one for each dimension), i.e., we set `n_theta=3` in the `surrogate_control`.\n",
        "The prefix is set to `\"03\"` to distinguish the results from the one-dimensional case.\n",
        "Again, TensorBoard can be used to monitor the progress of the optimization.\n",
        "\n",
        "We can also add interpreable labels to the dimensions, which will be used in the plots. Therefore, we set `var_name=[\"Pressure\", \"Temp\", \"Lambda\"]` instead of the default `var_name=None`, which would result in the labels `x_0`, `x_1`, and `x_2`.\n"
      ],
      "id": "7cdea4ef"
    },
    {
      "cell_type": "code",
      "metadata": {},
      "source": [
        "fun_control = fun_control_init(\n",
        "              PREFIX=\"03\",\n",
        "              lower = -1.0*np.ones(3),\n",
        "              upper = np.ones(3),\n",
        "              var_name=[\"Pressure\", \"Temp\", \"Lambda\"],\n",
        "              show_progress=True)\n",
        "surrogate_control = surrogate_control_init(n_theta=3)\n",
        "spot_3 = spot.Spot(fun=fun,\n",
        "                  fun_control=fun_control,\n",
        "                  surrogate_control=surrogate_control)\n",
        "spot_3.run()"
      ],
      "id": "1d45ea7e",
      "execution_count": null,
      "outputs": []
    },
    {
      "cell_type": "markdown",
      "metadata": {},
      "source": [
        "::: {.callout-note}\n",
        "Now we can start TensorBoard in the background with the following command:\n",
        "\n",
        "\n",
        "\n",
        "```{raw}\n",
        "tensorboard --logdir=\"./runs\"\n",
        "```\n",
        "\n",
        "\n",
        "and can access the TensorBoard web server with the following URL:\n",
        "\n",
        "\n",
        "\n",
        "```{raw}\n",
        "http://localhost:6006/\n",
        "```\n",
        "\n",
        "\n",
        "::: \n",
        "\n",
        "### Results\n"
      ],
      "id": "e1bc52d7"
    },
    {
      "cell_type": "code",
      "metadata": {},
      "source": [
        "_ = spot_3.print_results()"
      ],
      "id": "fba32955",
      "execution_count": null,
      "outputs": []
    },
    {
      "cell_type": "code",
      "metadata": {},
      "source": [
        "spot_3.plot_progress()"
      ],
      "id": "df04f757",
      "execution_count": null,
      "outputs": []
    },
    {
      "cell_type": "markdown",
      "metadata": {},
      "source": [
        "### A Contour Plot\n",
        "\n",
        "We can select two dimensions, say $i=0$ and $j=1$, and generate a contour plot as follows.\n",
        "\n",
        "::: {.callout-note}\n",
        "#### Note: \n",
        "\n",
        "We have specified identical `min_z` and `max_z` values to generate comparable plots.\n",
        "\n",
        ":::\n"
      ],
      "id": "d613f332"
    },
    {
      "cell_type": "code",
      "metadata": {},
      "source": [
        "spot_3.plot_contour(i=0, j=1, min_z=0, max_z=2.25)"
      ],
      "id": "b294a6e1",
      "execution_count": null,
      "outputs": []
    },
    {
      "cell_type": "markdown",
      "metadata": {},
      "source": [
        "* In a similar manner, we can plot dimension $i=0$ and $j=2$:\n"
      ],
      "id": "085dce1d"
    },
    {
      "cell_type": "code",
      "metadata": {},
      "source": [
        "spot_3.plot_contour(i=0, j=2, min_z=0, max_z=2.25)"
      ],
      "id": "f74a930a",
      "execution_count": null,
      "outputs": []
    },
    {
      "cell_type": "markdown",
      "metadata": {},
      "source": [
        "* The final combination is $i=1$ and $j=2$:\n"
      ],
      "id": "345dac44"
    },
    {
      "cell_type": "code",
      "metadata": {},
      "source": [
        "spot_3.plot_contour(i=1, j=2, min_z=0, max_z=2.25)"
      ],
      "id": "918a51fc",
      "execution_count": null,
      "outputs": []
    },
    {
      "cell_type": "markdown",
      "metadata": {},
      "source": [
        "* The three plots look very similar, because the `fun_sphere` is symmetric.\n",
        "* This can also be seen from the variable importance:\n"
      ],
      "id": "ed200dc4"
    },
    {
      "cell_type": "code",
      "metadata": {},
      "source": [
        "_ = spot_3.print_importance()"
      ],
      "id": "05c804ec",
      "execution_count": null,
      "outputs": []
    },
    {
      "cell_type": "code",
      "metadata": {},
      "source": [
        "spot_3.plot_importance()"
      ],
      "id": "bc2e322e",
      "execution_count": null,
      "outputs": []
    },
    {
      "cell_type": "markdown",
      "metadata": {},
      "source": [
        "### TensorBoard\n",
        "\n",
        "![TensorBoard visualization of the spotPython process. Objective function values plotted against wall time.](figures_static/02_tensorboard_01.png)\n",
        "\n",
        "The second TensorBoard visualization shows the input values, i.e., $x_0, \\ldots, x_2$, plotted against the wall time.\n",
        "![TensorBoard visualization of the spotPython process.](figures_static/02_tensorboard_02.png)\n",
        "\n",
        "The third TensorBoard plot illustrates how `spotPython` can be used as a microscope for the internal mechanisms of the surrogate-based optimization process. Here, one important parameter, the learning rate $\\theta$ of the Kriging surrogate is plotted against the number of optimization steps.\n",
        "\n",
        "![TensorBoard visualization of the spotPython surrogate model.](figures_static/02_tensorboard_03.png){width=\"100%\"}\n",
        "\n",
        "\n",
        "## Conclusion\n",
        "\n",
        "Based on this quick analysis, we can conclude that all three dimensions are equally important (as expected, because the analytical function is known).\n",
        "\n",
        "## Exercises\n",
        "\n",
        "\n",
        "### 1. The Three Dimensional `fun_cubed`\n",
        "\n",
        "* The input dimension is `3`. The search range is  $-1 \\leq x \\leq 1$ for all dimensions.\n",
        "* Generate contour plots\n",
        "* Calculate the variable importance.\n",
        "* Discuss the variable importance: \n",
        "  * Are all variables equally important? \n",
        "  * If not: \n",
        "    * Which is the most important variable?\n",
        "    * Which is the least important variable?\n",
        "\n",
        "### 2. The Ten Dimensional `fun_wing_wt`\n",
        "\n",
        "* The input dimension is `10`. The search range is  $0 \\leq x \\leq 1$ for all dimensions.\n",
        "* Calculate the variable importance.\n",
        "* Discuss the variable importance: \n",
        "  * Are all variables equally important? \n",
        "  * If not: \n",
        "    * Which is the most important variable?\n",
        "    * Which is the least important variable?\n",
        "  * Generate contour plots for the three most important variables. Do they confirm your selection?\n",
        "\n",
        "### 3. The Three Dimensional `fun_runge`\n",
        "\n",
        "* The input dimension is `3`. The search range is  $-5 \\leq x \\leq 5$ for all dimensions.\n",
        "* Generate contour plots\n",
        "* Calculate the variable importance.\n",
        "* Discuss the variable importance: \n",
        "  * Are all variables equally important? \n",
        "  * If not: \n",
        "    * Which is the most important variable?\n",
        "    * Which is the least important variable?\n",
        "\n",
        "### 4. The Three Dimensional `fun_linear`\n",
        "\n",
        "* The input dimension is `3`. The search range is  $-5 \\leq x \\leq 5$ for all dimensions.\n",
        "* Generate contour plots\n",
        "* Calculate the variable importance.\n",
        "* Discuss the variable importance: \n",
        "  * Are all variables equally important? \n",
        "  * If not: \n",
        "    * Which is the most important variable?\n",
        "    * Which is the least important variable?\n",
        "\n",
        "### 5. The Two Dimensional Rosenbrock Function `fun_rosen` {#sec-08-exer-rosenbrock}\n",
        "\n",
        "* The input dimension is `2`. The search range is  $-5 \\leq x \\leq 10$ for all dimensions.\n",
        "* See [Rosenbrock function](https://en.wikipedia.org/wiki/Rosenbrock_function) and [Rosenbrock Function](https://www.sfu.ca/~ssurjano/rosen.html) for details.\n",
        "* Generate contour plots\n",
        "* Calculate the variable importance.\n",
        "* Discuss the variable importance: \n",
        "  * Are all variables equally important? \n",
        "  * If not: \n",
        "    * Which is the most important variable?\n",
        "    * Which is the least important variable?\n",
        "\n",
        "\n",
        "## Selected Solutions\n",
        "\n",
        "### Solution to Exercise @sec-08-exer-rosenbrock: The Two-dimensional Rosenbrock Function `fun_rosen`\n"
      ],
      "id": "6c98d1cd"
    },
    {
      "cell_type": "code",
      "metadata": {},
      "source": [
        "import numpy as np\n",
        "from spotPython.fun.objectivefunctions import analytical\n",
        "from spotPython.utils.init import fun_control_init, surrogate_control_init\n",
        "from spotPython.spot import spot"
      ],
      "id": "a4eea002",
      "execution_count": null,
      "outputs": []
    },
    {
      "cell_type": "markdown",
      "metadata": {},
      "source": [
        "#### The Objective Function: 2-dim fun_rosen\n",
        "\n",
        "The `spotPython` package provides several classes of objective functions.\n",
        "We will use the `fun_rosen` in the `analytical` class [[SOURCE]](https://github.com/sequential-parameter-optimization/spotPython/blob/main/src/spotPython/fun/objectivefunctions.py).\n"
      ],
      "id": "166ee900"
    },
    {
      "cell_type": "code",
      "metadata": {},
      "source": [
        "fun_rosen = analytical().fun_rosen"
      ],
      "id": "59b0fac8",
      "execution_count": null,
      "outputs": []
    },
    {
      "cell_type": "markdown",
      "metadata": {},
      "source": [
        "Here we will use problem dimension $k=2$, which can be specified by the `lower` bound arrays.\n",
        "The size of the `lower` bound array determines the problem dimension. If we select `-5.0 * np.ones(2)`, a two-dimensional function is created.\n",
        "In contrast to the one-dimensional case, where only one `theta` value is used, we will use $k$ different `theta` values (one for each dimension), i.e., we set `n_theta=3` in the `surrogate_control`.\n",
        "The prefix is set to `\"ROSEN\"`. Again, TensorBoard can be used to monitor the progress of the optimization.\n"
      ],
      "id": "675ce51d"
    },
    {
      "cell_type": "code",
      "metadata": {},
      "source": [
        "fun_control = fun_control_init(\n",
        "              PREFIX=\"ROSEN\",\n",
        "              lower = -5.0*np.ones(2),\n",
        "              upper = 10*np.ones(2),\n",
        "              show_progress=True,\n",
        "              fun_evals=25)\n",
        "surrogate_control = surrogate_control_init(n_theta=2)\n",
        "spot_rosen = spot.Spot(fun=fun_rosen,\n",
        "                  fun_control=fun_control,\n",
        "                  surrogate_control=surrogate_control)\n",
        "spot_rosen.run()"
      ],
      "id": "fa7743fc",
      "execution_count": null,
      "outputs": []
    },
    {
      "cell_type": "markdown",
      "metadata": {},
      "source": [
        "::: {.callout-note}\n",
        "Now we can start TensorBoard in the background with the following command:\n",
        "\n",
        "\n",
        "\n",
        "```{raw}\n",
        "tensorboard --logdir=\"./runs\"\n",
        "```\n",
        "\n",
        "\n",
        "and can access the TensorBoard web server with the following URL:\n",
        "\n",
        "\n",
        "\n",
        "```{raw}\n",
        "http://localhost:6006/\n",
        "```\n",
        "\n",
        "\n",
        "::: \n",
        "\n",
        "#### Results\n"
      ],
      "id": "18c42c4d"
    },
    {
      "cell_type": "code",
      "metadata": {},
      "source": [
        "_ = spot_rosen.print_results()"
      ],
      "id": "804a4ef6",
      "execution_count": null,
      "outputs": []
    },
    {
      "cell_type": "code",
      "metadata": {},
      "source": [
        "spot_rosen.plot_progress(log_y=True)"
      ],
      "id": "36f380ca",
      "execution_count": null,
      "outputs": []
    },
    {
      "cell_type": "markdown",
      "metadata": {},
      "source": [
        "#### A Contour Plot\n",
        "\n",
        "We can select two dimensions, say $i=0$ and $j=1$, and generate a contour plot as follows.\n",
        "\n",
        "::: {.callout-note}\n",
        "#### Note: \n",
        "\n",
        "For higher dimensions, it might be useful to have identical `min_z` and `max_z` values to generate comparable plots.\n",
        "The default values are `min_z=None` and `max_z=None`, which will be replaced by the minimum and maximum values of the objective function.\n",
        ":::\n"
      ],
      "id": "145ac548"
    },
    {
      "cell_type": "code",
      "metadata": {},
      "source": [
        "min_z = None\n",
        "max_z = None\n",
        "spot_rosen.plot_contour(i=0, j=1, min_z=min_z, max_z=max_z)"
      ],
      "id": "4fce496a",
      "execution_count": null,
      "outputs": []
    },
    {
      "cell_type": "markdown",
      "metadata": {},
      "source": [
        "* The variable importance can be calculated as follows:\n"
      ],
      "id": "527db71d"
    },
    {
      "cell_type": "code",
      "metadata": {},
      "source": [
        "_ = spot_rosen.print_importance()"
      ],
      "id": "147b267c",
      "execution_count": null,
      "outputs": []
    },
    {
      "cell_type": "code",
      "metadata": {},
      "source": [
        "spot_rosen.plot_importance()"
      ],
      "id": "421adc5c",
      "execution_count": null,
      "outputs": []
    },
    {
      "cell_type": "markdown",
      "metadata": {},
      "source": [
        "#### TensorBoard\n",
        "\n",
        "TBD\n",
        "\n",
        "## Jupyter Notebook\n",
        "\n",
        ":::{.callout-note}\n",
        "\n",
        "* The Jupyter-Notebook of this lecture is available on GitHub in the [Hyperparameter-Tuning-Cookbook Repository](https://github.com/sequential-parameter-optimization/Hyperparameter-Tuning-Cookbook/blob/main/008_num_spot_multidim.ipynb)\n",
        "\n",
        ":::"
      ],
      "id": "4f3912e3"
    }
  ],
  "metadata": {
    "kernelspec": {
      "name": "python3",
      "language": "python",
      "display_name": "Python 3 (ipykernel)"
    }
  },
  "nbformat": 4,
  "nbformat_minor": 5
}