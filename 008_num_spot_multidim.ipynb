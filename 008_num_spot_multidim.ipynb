{
  "cells": [
    {
      "cell_type": "markdown",
      "metadata": {},
      "source": [
        "---\n",
        "execute:\n",
        "  cache: false\n",
        "  eval: true\n",
        "  echo: true\n",
        "  warning: false\n",
        "  keep-ipynb: true\n",
        "---\n",
        "\n",
        "# Multi-dimensional Functions {#sec-multi-dim}\n",
        "\n",
        "\n",
        "This chapter illustrates how high-dimensional functions can be optimized and analyzed.\n",
        "For reasons of illustration, we will use the three-dimensional Sphere function, which is a simple and well-known function.\n",
        "The problem dimension is $k=3$, but can be easily adapted to other, higher dimensions."
      ]
    },
    {
      "cell_type": "code",
      "metadata": {},
      "source": [
        "import numpy as np\n",
        "from spotpython.fun.objectivefunctions import Analytical\n",
        "from spotpython.utils.init import fun_control_init, surrogate_control_init, design_control_init\n",
        "from spotpython.spot import Spot"
      ],
      "execution_count": null,
      "outputs": []
    },
    {
      "cell_type": "markdown",
      "metadata": {},
      "source": [
        "## The Objective Function: 3-dim Sphere\n",
        "\n",
        "The `spotpython` package provides several classes of objective functions.\n",
        "We will use an analytical objective function, i.e., a function that can be described by a (closed) formula:\n",
        "$$\n",
        "f(x) = \\sum_i^k x_i^2.\n",
        "$$ \n",
        "   \n",
        "\n",
        "The Sphere function is continuous, convex and unimodal. The plot shows its two-dimensional form.\n",
        "\\index{Sphere function}\n",
        "The global minimum is \n",
        "$$\n",
        "f(x) = 0, \\text{at } x = (0,0, \\ldots, 0).\n",
        "$$\n",
        "\n",
        "It is available as `fun_sphere` in the `Analytical` class [[SOURCE]](https://github.com/sequential-parameter-optimization/spotpython/blob/main/src/spotpython/fun/objectivefunctions.py).\n",
        "\\index{fun\\_sphere}"
      ]
    },
    {
      "cell_type": "code",
      "metadata": {},
      "source": [
        "fun = Analytical().fun_sphere"
      ],
      "execution_count": null,
      "outputs": []
    },
    {
      "cell_type": "markdown",
      "metadata": {},
      "source": [
        "Here we will use problem dimension $k=3$, which can be specified by the `lower` bound arrays.\n",
        "The size of the `lower` bound array determines the problem dimension. If we select `-1.0 * np.ones(3)`, a three-dimensional function is created.\n",
        "\n",
        "In contrast to the one-dimensional case (@sec-visualizing-tensorboard-01), where only one `theta` value was used, we will use three different `theta` values (one for each dimension). This is done automatically, because the setting `isotropic=False` is the default in the `surrogate_control`.\n",
        "As default, `spotpython` uses separate theta values for each problem dimension.  More specifically, if `isotropic` is set to `True`, only one theta value is used for all dimensions. If `isotropic` is set to `False`, then the $k$ theta values are used, where $k$ is the problem dimension. \n",
        "The meaning of \"isotropic\" is explained in @#sec-iso-aniso-kriging.\n",
        "\n",
        "The prefix is set to `\"03\"` to distinguish the results from the one-dimensional case.\n",
        "Again, TensorBoard can be used to monitor the progress of the optimization.\n",
        "\n",
        "We can also add interpretable labels to the dimensions, which will be used in the plots. Therefore, we set `var_name=[\"Pressure\", \"Temp\", \"Lambda\"]` instead of the default `var_name=None`, which would result in the labels `x_0`, `x_1`, and `x_2`."
      ]
    },
    {
      "cell_type": "code",
      "metadata": {},
      "source": [
        "#| label: 008-spot-run\n",
        "fun_control = fun_control_init(\n",
        "              PREFIX=\"03\",\n",
        "              lower = -1.0*np.ones(3),\n",
        "              upper = np.ones(3),\n",
        "              var_name=[\"Pressure\", \"Temp\", \"Lambda\"],\n",
        "              TENSORBOARD_CLEAN=True,\n",
        "              tensorboard_log=True)\n",
        "surrogate_control = surrogate_control_init()\n",
        "spot_3 = Spot(fun=fun,\n",
        "                  fun_control=fun_control,\n",
        "                  surrogate_control=surrogate_control)\n",
        "spot_3.run()"
      ],
      "execution_count": null,
      "outputs": []
    },
    {
      "cell_type": "markdown",
      "metadata": {},
      "source": [
        "::: {.callout-note}\n",
        "Now we can start TensorBoard in the background with the following command:\n",
        "\n",
        "```{raw}\n",
        "tensorboard --logdir=\"./runs\"\n",
        "```\n",
        "and can access the TensorBoard web server with the following URL:\n",
        "\n",
        "```{raw}\n",
        "http://localhost:6006/\n",
        "```\n",
        "::: \n",
        "\n",
        "### Results\n",
        "\n",
        "#### Best Objective Function Values\n",
        "\n",
        "The best objective function value and its corresponding input values are printed as follows:"
      ]
    },
    {
      "cell_type": "code",
      "metadata": {},
      "source": [
        "_ = spot_3.print_results()"
      ],
      "execution_count": null,
      "outputs": []
    },
    {
      "cell_type": "markdown",
      "metadata": {},
      "source": [
        "The method `plot_progress()` plots current and best found solutions versus the number of iterations as shown in @fig-008-spot-plot-progress."
      ]
    },
    {
      "cell_type": "code",
      "metadata": {},
      "source": [
        "#| label: fig-008-spot-plot-progress\n",
        "#| fig-cap: Progress of the optimization process for the 3-dim Sphere function. The initial design points are shown in black, whereas the points that were found by the search on the surrogate are plotted in red.\n",
        "spot_3.plot_progress()"
      ],
      "execution_count": null,
      "outputs": []
    },
    {
      "cell_type": "markdown",
      "metadata": {},
      "source": [
        "#### A Contour Plot\n",
        "\n",
        "We can select two dimensions, say $i=0$ and $j=1$, and generate a contour plot as follows.\n",
        "Note, we have specified identical `min_z` and `max_z` values to generate comparable plots.\n"
      ]
    },
    {
      "cell_type": "code",
      "metadata": {},
      "source": [
        "spot_3.plot_contour(i=0, j=1, min_z=0, max_z=2.25)"
      ],
      "execution_count": null,
      "outputs": []
    },
    {
      "cell_type": "markdown",
      "metadata": {},
      "source": [
        "* In a similar manner, we can plot dimension $i=0$ and $j=2$:"
      ]
    },
    {
      "cell_type": "code",
      "metadata": {},
      "source": [
        "spot_3.plot_contour(i=0, j=2, min_z=0, max_z=2.25)"
      ],
      "execution_count": null,
      "outputs": []
    },
    {
      "cell_type": "markdown",
      "metadata": {},
      "source": [
        "* The final combination is $i=1$ and $j=2$:"
      ]
    },
    {
      "cell_type": "code",
      "metadata": {},
      "source": [
        "spot_3.plot_contour(i=1, j=2, min_z=0, max_z=2.25)"
      ],
      "execution_count": null,
      "outputs": []
    },
    {
      "cell_type": "markdown",
      "metadata": {},
      "source": [
        "* The three plots look very similar, because the `fun_sphere` is symmetric.\n",
        "* This can also be seen from the variable importance:"
      ]
    },
    {
      "cell_type": "code",
      "metadata": {},
      "source": [
        "_ = spot_3.print_importance()"
      ],
      "execution_count": null,
      "outputs": []
    },
    {
      "cell_type": "code",
      "metadata": {},
      "source": [
        "spot_3.plot_importance()"
      ],
      "execution_count": null,
      "outputs": []
    },
    {
      "cell_type": "markdown",
      "metadata": {},
      "source": [
        "### TensorBoard\n",
        "\n",
        "![TensorBoard visualization of the spotpython process. Objective function values plotted against wall time.](figures_static/02_tensorboard_01.png)\n",
        "\n",
        "The second TensorBoard visualization shows the input values, i.e., $x_0, \\ldots, x_2$, plotted against the wall time.\n",
        "![TensorBoard visualization of the spotpython process.](figures_static/02_tensorboard_02.png)\n",
        "\n",
        "The third TensorBoard plot illustrates how `spotpython` can be used as a microscope for the internal mechanisms of the surrogate-based optimization process. Here, one important parameter, the learning rate $\\theta$ of the Kriging surrogate is plotted against the number of optimization steps.\n",
        "\n",
        "![TensorBoard visualization of the spotpython surrogate model.](figures_static/02_tensorboard_03.png){width=\"100%\"}\n",
        "\n",
        "\n",
        "### Conclusion\n",
        "\n",
        "Based on this quick analysis, we can conclude that all three dimensions are equally important (as expected, because the Analytical function is known).\n",
        "\n",
        "\n",
        "## Exercises\n",
        "\n",
        "\n",
        "::: {#exr-fun-cubed}\n",
        "### The Three Dimensional `fun_cubed`\n",
        "\n",
        "The `spotpython` package provides several classes of objective functions.\n",
        "\n",
        "We will use the `fun_cubed` in the `Analytical` class [[SOURCE]](https://github.com/sequential-parameter-optimization/spotpython/blob/main/src/spotpython/fun/objectivefunctions.py). The input dimension is `3`. The search range is  $-1 \\leq x \\leq 1$ for all dimensions.\n",
        "\n",
        "Tasks:\n",
        "  * Generate contour plots\n",
        "  * Calculate the variable importance.\n",
        "  * Discuss the variable importance: \n",
        "    * Are all variables equally important? \n",
        "    * If not: \n",
        "      * Which is the most important variable?\n",
        "      * Which is the least important variable?\n",
        ":::\n",
        "\n",
        "::: {#exr-fun-wing-wt}\n",
        "### The Ten Dimensional `fun_wing_wt`\n",
        "\n",
        "* The input dimension is `10`. The search range is  $0 \\leq x \\leq 1$ for all dimensions.\n",
        "* Calculate the variable importance.\n",
        "* Discuss the variable importance: \n",
        "  * Are all variables equally important? \n",
        "  * If not: \n",
        "    * Which is the most important variable?\n",
        "    * Which is the least important variable?\n",
        "  * Generate contour plots for the three most important variables. Do they confirm your selection?\n",
        ":::\n",
        "\n",
        "\n",
        "::: {#exr-fun-runge}\n",
        "### The Three Dimensional `fun_runge`\n",
        "\n",
        "* The input dimension is `3`. The search range is  $-5 \\leq x \\leq 5$ for all dimensions.\n",
        "* Generate contour plots\n",
        "* Calculate the variable importance.\n",
        "* Discuss the variable importance: \n",
        "  * Are all variables equally important? \n",
        "  * If not: \n",
        "    * Which is the most important variable?\n",
        "    * Which is the least important variable?\n",
        ":::\n",
        "\n",
        "::: {#exr-fun-linear}\n",
        "### The Three Dimensional `fun_linear`\n",
        "\n",
        "* The input dimension is `3`. The search range is  $-5 \\leq x \\leq 5$ for all dimensions.\n",
        "* Generate contour plots\n",
        "* Calculate the variable importance.\n",
        "* Discuss the variable importance: \n",
        "  * Are all variables equally important? \n",
        "  * If not: \n",
        "    * Which is the most important variable?\n",
        "    * Which is the least important variable?\n",
        ":::\n",
        "\n",
        "::: {#exr-fun-rosen}\n",
        "### The Two Dimensional Rosenbrock Function `fun_rosen` \n",
        "\n",
        "* The input dimension is `2`. The search range is  $-5 \\leq x \\leq 10$ for all dimensions.\n",
        "* See [Rosenbrock function](https://en.wikipedia.org/wiki/Rosenbrock_function) and [Rosenbrock Function](https://www.sfu.ca/~ssurjano/rosen.html) for details.\n",
        "* Generate contour plots\n",
        "* Calculate the variable importance.\n",
        "* Discuss the variable importance: \n",
        "  * Are all variables equally important? \n",
        "  * If not: \n",
        "    * Which is the most important variable?\n",
        "    * Which is the least important variable?\n",
        ":::\n",
        "\n",
        "\n",
        "## Selected Solutions\n",
        "\n",
        "::: {#sol-fun-cubed}\n",
        "### Solution to @exr-fun-cubed: The Three-dimensional Cubed Function `fun_cubed`\n",
        "\n",
        "We instanciate the `fun_cubed` function from the `Analytical` class."
      ]
    },
    {
      "cell_type": "code",
      "metadata": {},
      "source": [
        "#| label: 008-spot-fun-cubed-instanciation\n",
        "from spotpython.fun.objectivefunctions import Analytical\n",
        "fun_cubed = Analytical().fun_cubed"
      ],
      "execution_count": null,
      "outputs": []
    },
    {
      "cell_type": "markdown",
      "metadata": {},
      "source": [
        "* Here we will use problem dimension $k=3$, which can be specified by the `lower` bound arrays. The size of the `lower` bound array determines the problem dimension. If we select `-1.0 * np.ones(3)`, a three-dimensional function is created.\n",
        "* In contrast to the one-dimensional case, where only one `theta` value was used, we will use three different `theta` values (one for each dimension).\n",
        "* The prefix is set to `\"03\"` to distinguish the results from the one-dimensional case.\n",
        "* We will set the `fun_evals=20` to limit the number of function evaluations to 20 for this example.\n",
        "* The size of the initial design is set to `10` by default. It can be changed by setting `init_size=10` via `design_control_init` in the `design_control` dictionary.\n",
        "* Again, TensorBoard can be used to monitor the progress of the optimization.\n",
        "* We can also add interpretable labels to the dimensions, which will be used in the plots. Therefore, we set `var_name=[\"Pressure\", \"Temp\", \"Lambda\"]` instead of the default `var_name=None`, which would result in the labels `x_0`, `x_1`, and `x_2`.\n",
        "\n",
        "Here is the link to the documentation of the fun_control_init function: [[DOC]](https://sequential-parameter-optimization.github.io/spotPython/reference/spotpython/utils/init/#spotpython.utils.init.fun_control_init).\n",
        "The documentation of the `design_control_init` function can be found here: [[DOC]](https://sequential-parameter-optimization.github.io/spotPython/reference/spotpython/utils/init/#spotpython.utils.init.design_control_init).\n",
        "\n",
        "The setup can be done as follows:"
      ]
    },
    {
      "cell_type": "code",
      "metadata": {},
      "source": [
        "fun_control = fun_control_init(\n",
        "              PREFIX=\"cubed\",\n",
        "              fun_evals=20,\n",
        "              lower = -1.0*np.ones(3),\n",
        "              upper = np.ones(3),\n",
        "              var_name=[\"Pressure\", \"Temp\", \"Lambda\"],\n",
        "              TENSORBOARD_CLEAN=True,\n",
        "              tensorboard_log=True\n",
        "              )\n",
        "\n",
        "surrogate_control = surrogate_control_init()\n",
        "design_control = design_control_init(init_size=10)"
      ],
      "execution_count": null,
      "outputs": []
    },
    {
      "cell_type": "markdown",
      "metadata": {},
      "source": [
        "* After the setup, we can pass the dictionaries to the `Spot` class and run the optimization process."
      ]
    },
    {
      "cell_type": "code",
      "metadata": {},
      "source": [
        "spot_cubed = Spot(fun=fun_cubed,\n",
        "                  fun_control=fun_control,\n",
        "                  surrogate_control=surrogate_control)\n",
        "spot_cubed.run()"
      ],
      "execution_count": null,
      "outputs": []
    },
    {
      "cell_type": "markdown",
      "metadata": {},
      "source": [
        "* Results"
      ]
    },
    {
      "cell_type": "code",
      "metadata": {},
      "source": [
        "_ = spot_cubed.print_results()"
      ],
      "execution_count": null,
      "outputs": []
    },
    {
      "cell_type": "code",
      "metadata": {},
      "source": [
        "spot_cubed.plot_progress()"
      ],
      "execution_count": null,
      "outputs": []
    },
    {
      "cell_type": "markdown",
      "metadata": {},
      "source": [
        "* Contour Plots\n",
        "\n",
        "We can select two dimensions, say $i=0$ and $j=1$, and generate a contour plot as follows.\n",
        "\n",
        "We can specify identical `min_z` and `max_z` values to generate comparable plots.\n",
        "The default values are `min_z=None` and `max_z=None`, which will be replaced by the minimum and maximum values of the objective function."
      ]
    },
    {
      "cell_type": "code",
      "metadata": {},
      "source": [
        "min_z = -3\n",
        "max_z = 1\n",
        "spot_cubed.plot_contour(i=0, j=1, min_z=min_z, max_z=max_z)"
      ],
      "execution_count": null,
      "outputs": []
    },
    {
      "cell_type": "markdown",
      "metadata": {},
      "source": [
        "* In a similar manner, we can plot dimension $i=0$ and $j=2$:"
      ]
    },
    {
      "cell_type": "code",
      "metadata": {},
      "source": [
        "spot_cubed.plot_contour(i=0, j=2, min_z=min_z, max_z=max_z)"
      ],
      "execution_count": null,
      "outputs": []
    },
    {
      "cell_type": "markdown",
      "metadata": {},
      "source": [
        "* The final combination is $i=1$ and $j=2$:"
      ]
    },
    {
      "cell_type": "code",
      "metadata": {},
      "source": [
        "spot_cubed.plot_contour(i=1, j=2, min_z=min_z, max_z=max_z)"
      ],
      "execution_count": null,
      "outputs": []
    },
    {
      "cell_type": "markdown",
      "metadata": {},
      "source": [
        "* The variable importance can be printed and visualized as follows:"
      ]
    },
    {
      "cell_type": "code",
      "metadata": {},
      "source": [
        "_ = spot_cubed.print_importance()"
      ],
      "execution_count": null,
      "outputs": []
    },
    {
      "cell_type": "code",
      "metadata": {},
      "source": [
        "spot_cubed.plot_importance()"
      ],
      "execution_count": null,
      "outputs": []
    },
    {
      "cell_type": "markdown",
      "metadata": {},
      "source": [
        ":::\n",
        "\n",
        "\n",
        "::: {#sol-fun-rosen}\n",
        "### Solution to @exr-fun-rosen: The Two-dimensional Rosenbrock Function `fun_rosen`\n"
      ]
    },
    {
      "cell_type": "code",
      "metadata": {},
      "source": [
        "import numpy as np\n",
        "from spotpython.fun.objectivefunctions import Analytical\n",
        "from spotpython.utils.init import fun_control_init, surrogate_control_init\n",
        "from spotpython.spot import Spot"
      ],
      "execution_count": null,
      "outputs": []
    },
    {
      "cell_type": "markdown",
      "metadata": {},
      "source": [
        "* The Objective Function: 2-dim `fun_rosen`\n",
        "\n",
        "The `spotpython` package provides several classes of objective functions.\n",
        "We will use the `fun_rosen` in the `Analytical` class [[SOURCE]](https://github.com/sequential-parameter-optimization/spotpython/blob/main/src/spotpython/fun/objectivefunctions.py)."
      ]
    },
    {
      "cell_type": "code",
      "metadata": {},
      "source": [
        "fun_rosen = Analytical().fun_rosen"
      ],
      "execution_count": null,
      "outputs": []
    },
    {
      "cell_type": "markdown",
      "metadata": {},
      "source": [
        "* Here we will use problem dimension $k=2$, which can be specified by the `lower` bound arrays.\n",
        "* The size of the `lower` bound array determines the problem dimension. If we select `-5.0 * np.ones(2)`, a two-dimensional function is created.\n",
        "* In contrast to the one-dimensional case, where only one `theta` value is used, we will use $k$ different `theta` values (one for each dimension).\n",
        "* The prefix is set to `\"ROSEN\"`.\n",
        "* Again, TensorBoard can be used to monitor the progress of the optimization.\n"
      ]
    },
    {
      "cell_type": "code",
      "metadata": {},
      "source": [
        "fun_control = fun_control_init(\n",
        "              PREFIX=\"ROSEN\",\n",
        "              lower = -5.0*np.ones(2),\n",
        "              upper = 10*np.ones(2),\n",
        "              fun_evals=25)\n",
        "surrogate_control = surrogate_control_init()\n",
        "spot_rosen = Spot(fun=fun_rosen,\n",
        "                  fun_control=fun_control,\n",
        "                  surrogate_control=surrogate_control)\n",
        "spot_rosen.run()"
      ],
      "execution_count": null,
      "outputs": []
    },
    {
      "cell_type": "markdown",
      "metadata": {},
      "source": [
        "Now we can start TensorBoard in the background with the following command:\n",
        "\n",
        "```{raw}\n",
        "tensorboard --logdir=\"./runs\"\n",
        "```\n",
        "and can access the TensorBoard web server with the following URL:\n",
        "\n",
        "```{raw}\n",
        "http://localhost:6006/\n",
        "```\n",
        "\n",
        "\n",
        "* Results"
      ]
    },
    {
      "cell_type": "code",
      "metadata": {},
      "source": [
        "_ = spot_rosen.print_results()"
      ],
      "execution_count": null,
      "outputs": []
    },
    {
      "cell_type": "code",
      "metadata": {},
      "source": [
        "spot_rosen.plot_progress(log_y=True)"
      ],
      "execution_count": null,
      "outputs": []
    },
    {
      "cell_type": "markdown",
      "metadata": {},
      "source": [
        "* A Contour Plot: We can select two dimensions, say $i=0$ and $j=1$, and generate a contour plot as follows.\n",
        "* Note: For higher dimensions, it might be useful to have identical `min_z` and `max_z` values to generate comparable plots.\n",
        "The default values are `min_z=None` and `max_z=None`, which will be replaced by the minimum and maximum values of the objective function."
      ]
    },
    {
      "cell_type": "code",
      "metadata": {},
      "source": [
        "min_z = None\n",
        "max_z = None\n",
        "spot_rosen.plot_contour(i=0, j=1, min_z=min_z, max_z=max_z)"
      ],
      "execution_count": null,
      "outputs": []
    },
    {
      "cell_type": "markdown",
      "metadata": {},
      "source": [
        "* The variable importance can be calculated as follows:"
      ]
    },
    {
      "cell_type": "code",
      "metadata": {},
      "source": [
        "_ = spot_rosen.print_importance()"
      ],
      "execution_count": null,
      "outputs": []
    },
    {
      "cell_type": "code",
      "metadata": {},
      "source": [
        "spot_rosen.plot_importance()"
      ],
      "execution_count": null,
      "outputs": []
    },
    {
      "cell_type": "markdown",
      "metadata": {},
      "source": [
        ":::\n",
        "\n",
        "## Jupyter Notebook\n",
        "\n",
        ":::{.callout-note}\n",
        "\n",
        "* The Jupyter-Notebook of this lecture is available on GitHub in the [Hyperparameter-Tuning-Cookbook Repository](https://github.com/sequential-parameter-optimization/Hyperparameter-Tuning-Cookbook/blob/main/008_num_spot_multidim.ipynb)\n",
        "\n",
        ":::"
      ]
    }
  ],
  "metadata": {
    "kernelspec": {
      "name": "python3",
      "language": "python",
      "display_name": "Python 3 (ipykernel)",
      "path": "/Users/bartz/miniforge3/envs/spot313/share/jupyter/kernels/python3"
    }
  },
  "nbformat": 4,
  "nbformat_minor": 4
}