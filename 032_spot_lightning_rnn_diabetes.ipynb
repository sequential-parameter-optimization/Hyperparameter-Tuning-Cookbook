{
 "cells": [
  {
   "cell_type": "raw",
   "id": "d1e47b4f",
   "metadata": {},
   "source": [
    "---\n",
    "execute:\n",
    "  cache: false\n",
    "  eval: true\n",
    "  echo: true\n",
    "  warning: false\n",
    "title: 'HPT PyTorch Lightning: Diabetes Using a Recurrent Neural Network'\n",
    "---"
   ]
  },
  {
   "cell_type": "markdown",
   "id": "1e1ee423",
   "metadata": {},
   "source": [
    "In this tutorial, we will show how `spotPython` can be integrated into the `PyTorch` Lightning\n",
    "training workflow for a regression task.\n",
    "\n",
    "This chapter describes the hyperparameter tuning of a `PyTorch Lightning` network on the Diabetes data set. This is a PyTorch Dataset for regression. A toy data set from scikit-learn. Ten baseline variables, age, sex, body mass index, average blood pressure, and six blood serum measurements were obtained for each of n = 442 diabetes patients,  as well as the response of interest, a quantitative measure of disease progression one year after baseline.\n",
    "\n",
    "\n",
    "## Step 1: Setup {#sec-setup-32}\n",
    "\n",
    "* Before we consider the detailed experimental setup, we select the parameters that affect run time, initial design size, etc. \n",
    "* The parameter `MAX_TIME` specifies the maximum run time in seconds.\n",
    "* The parameter `INIT_SIZE` specifies the initial design size.\n",
    "* The parameter `WORKERS` specifies the number of workers. \n",
    "* The prefix `PREFIX` is used for the experiment name and the name of the log file.\n",
    "* The parameter `DEVICE` specifies the device to use for training.\n"
   ]
  },
  {
   "cell_type": "code",
   "execution_count": 1,
   "id": "79f0e163",
   "metadata": {},
   "outputs": [],
   "source": [
    "from spotPython.utils.device import getDevice\n",
    "from math import inf\n",
    "MAX_TIME = 1\n",
    "FUN_EVALS = inf\n",
    "INIT_SIZE = 5\n",
    "WORKERS = 0\n",
    "PREFIX=\"032\"\n",
    "DEVICE = getDevice()"
   ]
  },
  {
   "cell_type": "markdown",
   "id": "25c7acfe",
   "metadata": {},
   "source": [
    "::: {.callout-caution}\n",
    "### Caution: Run time and initial design size should be increased for real experiments\n",
    "\n",
    "* `MAX_TIME` is set to one minute for demonstration purposes. For real experiments, this should be increased to at least 1 hour.\n",
    "* `FUN_EVALS` is set to infinity.\n",
    "* `INIT_SIZE` is set to 5 for demonstration purposes. For real experiments, this should be increased to at least 10.\n",
    "* `WORKERS` is set to 0 for demonstration purposes. For real experiments, this should be increased. See the warnings that are printed when the number of workers is set to 0.\n",
    "* `PREFIX` is set to \"032\". This is used for the experiment name and the name of the log file.\n",
    "* `DEVICE` is set to the device that is returned by `getDevice()`, e.g., `gpu`.\n",
    ":::\n",
    "\n",
    "::: {.callout-note}\n",
    "### Note: Device selection\n",
    "\n",
    "* Although there are no .cuda() or .to(device) calls required, because Lightning does these for you, see \n",
    "[LIGHTNINGMODULE](https://lightning.ai/docs/pytorch/stable/common/lightning_module.html), we would like to know which device is used. Threrefore, we imitate the LightningModule behaviour which selects the highest device. \n",
    "* The method `spotPython.utils.device.getDevice()` returns the device that is used by Lightning.\n",
    ":::\n",
    "\n",
    "\n",
    "## Step 2: Initialization of the `fun_control` Dictionary\n",
    "\n",
    "`spotPython` uses a Python dictionary for storing the information required for the hyperparameter tuning process.\n"
   ]
  },
  {
   "cell_type": "code",
   "execution_count": 2,
   "id": "55dab5f1",
   "metadata": {},
   "outputs": [
    {
     "name": "stderr",
     "output_type": "stream",
     "text": [
      "Seed set to 123\n"
     ]
    },
    {
     "name": "stdout",
     "output_type": "stream",
     "text": [
      "Moving TENSORBOARD_PATH: runs/ to TENSORBOARD_PATH_OLD: runs_OLD/runs_2024_01_11_16_14_20\n",
      "Created spot_tensorboard_path: runs/spot_logs/032_maans14_2024-01-11_16-14-20 for SummaryWriter()\n"
     ]
    }
   ],
   "source": [
    "from spotPython.utils.init import fun_control_init\n",
    "import numpy as np\n",
    "\n",
    "fun_control = fun_control_init(\n",
    "    _L_in=10,\n",
    "    _L_out=1,\n",
    "    PREFIX=PREFIX,\n",
    "    TENSORBOARD_CLEAN=True,\n",
    "    device=DEVICE,\n",
    "    enable_progress_bar=False,\n",
    "    fun_evals=FUN_EVALS,\n",
    "    log_level=10,\n",
    "    max_time=MAX_TIME,\n",
    "    num_workers=WORKERS,\n",
    "    show_progress=True,\n",
    "    test_size=0.1,\n",
    "    tolerance_x=np.sqrt(np.spacing(1)),\n",
    "    verbosity=1\n",
    "    )"
   ]
  },
  {
   "cell_type": "markdown",
   "id": "883a8fbb",
   "metadata": {},
   "source": [
    "## Step 3: Loading the Diabetes Data Set\n"
   ]
  },
  {
   "cell_type": "code",
   "execution_count": 3,
   "id": "e30b70d0",
   "metadata": {},
   "outputs": [
    {
     "name": "stdout",
     "output_type": "stream",
     "text": [
      "442\n"
     ]
    }
   ],
   "source": [
    "from spotPython.hyperparameters.values import set_control_key_value\n",
    "from spotPython.data.diabetes import Diabetes\n",
    "dataset = Diabetes()\n",
    "set_control_key_value(control_dict=fun_control,\n",
    "                        key=\"data_set\",\n",
    "                        value=dataset,\n",
    "                        replace=True)\n",
    "print(len(dataset))"
   ]
  },
  {
   "cell_type": "markdown",
   "id": "1823d5be",
   "metadata": {},
   "source": [
    "::: {.callout-note}\n",
    "### Note: Data Set and Data Loader\n",
    "\n",
    "* As shown below, a DataLoader from `torch.utils.data` can be used to check the data.\n"
   ]
  },
  {
   "cell_type": "code",
   "execution_count": 4,
   "id": "6719c4be",
   "metadata": {},
   "outputs": [
    {
     "name": "stdout",
     "output_type": "stream",
     "text": [
      "Batch Size: 5\n",
      "Inputs Shape: torch.Size([5, 10])\n",
      "Targets Shape: torch.Size([5])\n",
      "---------------\n",
      "Inputs: tensor([[ 0.0381,  0.0507,  0.0617,  0.0219, -0.0442, -0.0348, -0.0434, -0.0026,\n",
      "          0.0199, -0.0176],\n",
      "        [-0.0019, -0.0446, -0.0515, -0.0263, -0.0084, -0.0192,  0.0744, -0.0395,\n",
      "         -0.0683, -0.0922],\n",
      "        [ 0.0853,  0.0507,  0.0445, -0.0057, -0.0456, -0.0342, -0.0324, -0.0026,\n",
      "          0.0029, -0.0259],\n",
      "        [-0.0891, -0.0446, -0.0116, -0.0367,  0.0122,  0.0250, -0.0360,  0.0343,\n",
      "          0.0227, -0.0094],\n",
      "        [ 0.0054, -0.0446, -0.0364,  0.0219,  0.0039,  0.0156,  0.0081, -0.0026,\n",
      "         -0.0320, -0.0466]])\n",
      "Targets: tensor([151.,  75., 141., 206., 135.])\n"
     ]
    }
   ],
   "source": [
    "# Set batch size for DataLoader\n",
    "batch_size = 5\n",
    "# Create DataLoader\n",
    "from torch.utils.data import DataLoader\n",
    "dataloader = DataLoader(dataset, batch_size=batch_size, shuffle=False)\n",
    "\n",
    "# Iterate over the data in the DataLoader\n",
    "for batch in dataloader:\n",
    "    inputs, targets = batch\n",
    "    print(f\"Batch Size: {inputs.size(0)}\")\n",
    "    print(f\"Inputs Shape: {inputs.shape}\")\n",
    "    print(f\"Targets Shape: {targets.shape}\")\n",
    "    print(\"---------------\")\n",
    "    print(f\"Inputs: {inputs}\")\n",
    "    print(f\"Targets: {targets}\")\n",
    "    break"
   ]
  },
  {
   "cell_type": "markdown",
   "id": "1708ab4b",
   "metadata": {},
   "source": [
    ":::\n",
    "## Step 4: Preprocessing {#sec-preprocessing-32}\n",
    "\n",
    "Preprocessing is handled by `Lightning` and `PyTorch`. It is described in the [LIGHTNINGDATAMODULE](https://lightning.ai/docs/pytorch/stable/data/datamodule.html) documentation. Here you can find information about the `transforms` methods.\n",
    "\n",
    "## Step 5: Select the Core Model (`algorithm`) and `core_model_hyper_dict` {#sec-selection-of-the-algorithm-32}\n",
    "\n",
    "`spotPython` includes the `NetLightRegression` class [[SOURCE]](https://github.com/sequential-parameter-optimization/spotPython/blob/main/src/spotPython/light/netlightregression.py) for configurable neural networks. \n",
    "The class is imported here. It inherits from the class `Lightning.LightningModule`, which is the base class for all models in `Lightning`. `Lightning.LightningModule` is a subclass of `torch.nn.Module` and provides additional functionality for the training and testing of neural networks. The class `Lightning.LightningModule` is described in the [Lightning documentation](https://lightning.ai/docs/pytorch/stable/common/lightning_module.html).\n",
    "\n",
    "* Here we simply add the NN Model to the fun_control dictionary by calling the function `add_core_model_to_fun_control`:\n"
   ]
  },
  {
   "cell_type": "code",
   "execution_count": 5,
   "id": "1c529145",
   "metadata": {},
   "outputs": [],
   "source": [
    "from spotPython.light.regression.rnnlightregression import RNNLightRegression\n",
    "from spotPython.hyperdict.light_hyper_dict import LightHyperDict\n",
    "from spotPython.hyperparameters.values import add_core_model_to_fun_control\n",
    "add_core_model_to_fun_control(fun_control=fun_control,\n",
    "                              core_model=RNNLightRegression,\n",
    "                              hyper_dict=LightHyperDict)"
   ]
  },
  {
   "cell_type": "markdown",
   "id": "1ad66b80",
   "metadata": {},
   "source": [
    "The hyperparameters of the model are specified in the `core_model_hyper_dict` dictionary [[SOURCE]](https://github.com/sequential-parameter-optimization/spotPython/blob/main/src/spotPython/hyperdict/light_hyper_dict.json).\n",
    "\n",
    "\n",
    "::: {.callout-note}\n",
    "#### Note: User specified models and hyperparameter dictionaries\n",
    "\n",
    "* The user can specify a model and a hyperparameter dictionary in a subfolder, e.g., `userRNN` in the current working directory.\n",
    "* The model and the hyperparameter dictionary are imported with the following code:\n",
    "\n",
    "\n",
    "\n",
    "```{raw}\n",
    "from spotPython.hyperparameters.values import add_core_model_to_fun_control\n",
    "import sys\n",
    "sys.path.insert(0, './userRNN')\n",
    "import userrnn\n",
    "import user_hyper_dict\n",
    "add_core_model_to_fun_control(fun_control=fun_control,\n",
    "                              core_model=userrnn.RNNLightRegression,\n",
    "                              hyper_dict=user_hyper_dict.UserHyperDict)\n",
    "```\n",
    "\n",
    "\n",
    "* Example files can be found in the [userRNN](https://github.com/sequential-parameter-optimization/Hyperparameter-Tuning-Cookbook/tree/main/userRNN) folder.\n",
    "* These files can be modified by the user.\n",
    "* They can be used without re-compilation of the `spotPython` source code, if they are located in a subfolder of the current working directory.\n",
    "\n",
    ":::\n",
    "\n",
    "\n",
    "## Step 6: Modify `hyper_dict` Hyperparameters for the Selected Algorithm aka `core_model` {#sec-modification-of-hyperparameters-32}\n",
    "\n",
    " `spotPython` provides functions for modifying the hyperparameters, their bounds and factors as well as for activating and de-activating hyperparameters without re-compilation of the Python source code. \n",
    "\n",
    "::: {.callout-caution}\n",
    "### Caution: Small number of epochs for demonstration purposes\n",
    "\n",
    "* `epochs` and `patience` are set to small values for demonstration purposes. These values are too small for a real application.\n",
    "* More resonable values are, e.g.:\n",
    "  * `set_control_hyperparameter_value(fun_control, \"epochs\", [7, 9])` and\n",
    "  * `set_control_hyperparameter_value(fun_control, \"patience\", [2, 7])`\n",
    ":::\n"
   ]
  },
  {
   "cell_type": "code",
   "execution_count": 6,
   "id": "d5bd1765",
   "metadata": {},
   "outputs": [],
   "source": [
    "from spotPython.hyperparameters.values import set_control_hyperparameter_value\n",
    "\n",
    "set_control_hyperparameter_value(fun_control, \"l1\", [3, 8])\n",
    "set_control_hyperparameter_value(fun_control, \"epochs\", [7, 9])\n",
    "set_control_hyperparameter_value(fun_control, \"batch_size\", [2, 6])\n",
    "set_control_hyperparameter_value(fun_control, \"optimizer\", [\n",
    "                \"Adadelta\",\n",
    "                \"Adagrad\",\n",
    "                \"Adam\",\n",
    "                \"Adamax\"])\n",
    "set_control_hyperparameter_value(fun_control, \"dropout_prob\", [0.01, 0.25])\n",
    "set_control_hyperparameter_value(fun_control, \"lr_mult\", [0.5, 5.0])\n",
    "set_control_hyperparameter_value(fun_control, \"patience\", [3, 9])\n",
    "set_control_hyperparameter_value(fun_control, \"act_fn\",[\"ReLU\"] )\n",
    "set_control_hyperparameter_value(fun_control, \"initialization\",[\"Default\"] )"
   ]
  },
  {
   "cell_type": "markdown",
   "id": "88ab4b5a",
   "metadata": {},
   "source": [
    "Now, the dictionary `fun_control` contains all information needed for the hyperparameter tuning. Before the hyperparameter tuning is started, it is recommended to take a look at the experimental design. The method `gen_design_table` [[SOURCE]](https://github.com/sequential-parameter-optimization/spotPython/blob/main/src/spotPython/utils/eda.py) generates a design table as follows:\n"
   ]
  },
  {
   "cell_type": "code",
   "execution_count": 7,
   "id": "225ffdf9",
   "metadata": {
    "fig-label": "tbl-design-32"
   },
   "outputs": [
    {
     "name": "stdout",
     "output_type": "stream",
     "text": [
      "| name           | type   | default   |   lower |   upper | transform             |\n",
      "|----------------|--------|-----------|---------|---------|-----------------------|\n",
      "| l1             | int    | 3         |    3    |    8    | transform_power_2_int |\n",
      "| epochs         | int    | 4         |    7    |    9    | transform_power_2_int |\n",
      "| batch_size     | int    | 4         |    2    |    6    | transform_power_2_int |\n",
      "| act_fn         | factor | ReLU      |    0    |    0    | None                  |\n",
      "| optimizer      | factor | SGD       |    0    |    3    | None                  |\n",
      "| dropout_prob   | float  | 0.01      |    0.01 |    0.25 | None                  |\n",
      "| lr_mult        | float  | 1.0       |    0.5  |    5    | None                  |\n",
      "| patience       | int    | 2         |    3    |    9    | transform_power_2_int |\n",
      "| initialization | factor | Default   |    0    |    0    | None                  |\n"
     ]
    }
   ],
   "source": [
    "#| fig-cap: Experimental design for the hyperparameter tuning.\n",
    "from spotPython.utils.eda import gen_design_table\n",
    "print(gen_design_table(fun_control))"
   ]
  },
  {
   "cell_type": "markdown",
   "id": "c6a8328b",
   "metadata": {},
   "source": [
    "This allows to check if all information is available and if the information is correct.\n",
    "\n",
    "::: {.callout-note}\n",
    "### Note: Hyperparameters of the Tuned Model and the `fun_control` Dictionary\n",
    "The updated `fun_control` dictionary can be shown with the command `fun_control[\"core_model_hyper_dict\"]`.\n",
    ":::\n",
    "\n",
    "\n",
    "## Step 7: Data Splitting, the Objective (Loss) Function and the Metric\n",
    "\n",
    "### Evaluation  {#sec-selection-of-target-function-32}\n",
    "\n",
    "The evaluation procedure requires the specification of two elements:\n",
    "\n",
    "1. the way how the data is split into a train and a test set\n",
    "2. the loss function (and a metric).\n",
    "\n",
    "::: {.callout-caution}\n",
    "### Caution: Data Splitting in Lightning\n",
    "\n",
    "The data splitting is handled by `Lightning`.\n",
    "\n",
    ":::\n",
    "\n",
    "### Loss Function {#sec-loss-function-32}\n",
    "\n",
    "The loss function is specified in the configurable network class [[SOURCE]](https://github.com/sequential-parameter-optimization/spotPython/blob/main/src/spotPython/light/regression/netlightregression.py)\n",
    "We will use MSE.\n",
    "\n",
    "### Metric {#sec-metric-32}\n",
    "\n",
    "* Similar to the loss function, the metric is specified in the configurable network class [[SOURCE]](https://github.com/sequential-parameter-optimization/spotPython/blob/main/src/spotPython/light/regression/netlightregression.py).\n",
    "\n",
    "::: {.callout-caution}\n",
    "### Caution: Loss Function and Metric in Lightning\n",
    "\n",
    "* The loss function and the metric are not hyperparameters that can be tuned with `spotPython`.\n",
    "* They are handled by `Lightning`.\n",
    "\n",
    ":::\n",
    "\n",
    "\n",
    "## Step 8: Calling the SPOT Function\n",
    "\n",
    "### Preparing the SPOT Call {#sec-prepare-spot-call-32}\n"
   ]
  },
  {
   "cell_type": "code",
   "execution_count": 8,
   "id": "033cd119",
   "metadata": {},
   "outputs": [],
   "source": [
    "from spotPython.utils.init import design_control_init, surrogate_control_init\n",
    "design_control = design_control_init()\n",
    "set_control_key_value(control_dict=design_control,\n",
    "                        key=\"init_size\",\n",
    "                        value=INIT_SIZE,\n",
    "                        replace=True)\n",
    "\n",
    "surrogate_control = surrogate_control_init()\n",
    "set_control_key_value(control_dict=surrogate_control,\n",
    "                        key=\"noise\",\n",
    "                        value=True,\n",
    "                        replace=True)                       \n",
    "set_control_key_value(control_dict=surrogate_control,\n",
    "                        key=\"n_theta\",\n",
    "                        value=2,\n",
    "                        replace=True)      "
   ]
  },
  {
   "cell_type": "markdown",
   "id": "40c43047",
   "metadata": {},
   "source": [
    "### The Objective Function `fun` {#sec-the-objective-function-32}\n",
    "\n",
    "The objective function `fun` from the class `HyperLight` [[SOURCE]](https://github.com/sequential-parameter-optimization/spotPython/blob/main/src/spotPython/fun/hyperlight.py) is selected next. It implements an interface from `PyTorch`'s training, validation, and testing methods to `spotPython`.\n"
   ]
  },
  {
   "cell_type": "code",
   "execution_count": 9,
   "id": "c44146b9",
   "metadata": {},
   "outputs": [],
   "source": [
    "from spotPython.fun.hyperlight import HyperLight\n",
    "fun = HyperLight(log_level=10).fun"
   ]
  },
  {
   "cell_type": "markdown",
   "id": "86e3222a",
   "metadata": {},
   "source": [
    "### Showing the fun_control Dictionary {#sec-show-fun-control-32}\n"
   ]
  },
  {
   "cell_type": "code",
   "execution_count": 10,
   "id": "d73ba04f",
   "metadata": {},
   "outputs": [
    {
     "name": "stdout",
     "output_type": "stream",
     "text": [
      "{'CHECKPOINT_PATH': 'runs/saved_models/',\n",
      " 'DATASET_PATH': 'data/',\n",
      " 'RESULTS_PATH': 'results/',\n",
      " 'TENSORBOARD_PATH': 'runs/',\n",
      " '_L_in': 10,\n",
      " '_L_out': 1,\n",
      " 'accelerator': 'auto',\n",
      " 'core_model': <class 'spotPython.light.regression.rnnlightregression.RNNLightRegression'>,\n",
      " 'core_model_hyper_dict': {'act_fn': {'class_name': 'spotPython.torch.activation',\n",
      "                                      'core_model_parameter_type': 'instance()',\n",
      "                                      'default': 'ReLU',\n",
      "                                      'levels': ['ReLU'],\n",
      "                                      'lower': 0,\n",
      "                                      'transform': 'None',\n",
      "                                      'type': 'factor',\n",
      "                                      'upper': 0},\n",
      "                           'batch_size': {'default': 4,\n",
      "                                          'lower': 2,\n",
      "                                          'transform': 'transform_power_2_int',\n",
      "                                          'type': 'int',\n",
      "                                          'upper': 6},\n",
      "                           'dropout_prob': {'default': 0.01,\n",
      "                                            'lower': 0.01,\n",
      "                                            'transform': 'None',\n",
      "                                            'type': 'float',\n",
      "                                            'upper': 0.25},\n",
      "                           'epochs': {'default': 4,\n",
      "                                      'lower': 7,\n",
      "                                      'transform': 'transform_power_2_int',\n",
      "                                      'type': 'int',\n",
      "                                      'upper': 9},\n",
      "                           'initialization': {'core_model_parameter_type': 'str',\n",
      "                                              'default': 'Default',\n",
      "                                              'levels': ['Default'],\n",
      "                                              'lower': 0,\n",
      "                                              'transform': 'None',\n",
      "                                              'type': 'factor',\n",
      "                                              'upper': 0},\n",
      "                           'l1': {'default': 3,\n",
      "                                  'lower': 3,\n",
      "                                  'transform': 'transform_power_2_int',\n",
      "                                  'type': 'int',\n",
      "                                  'upper': 8},\n",
      "                           'lr_mult': {'default': 1.0,\n",
      "                                       'lower': 0.5,\n",
      "                                       'transform': 'None',\n",
      "                                       'type': 'float',\n",
      "                                       'upper': 5.0},\n",
      "                           'optimizer': {'class_name': 'torch.optim',\n",
      "                                         'core_model_parameter_type': 'str',\n",
      "                                         'default': 'SGD',\n",
      "                                         'levels': ['Adadelta',\n",
      "                                                    'Adagrad',\n",
      "                                                    'Adam',\n",
      "                                                    'Adamax'],\n",
      "                                         'lower': 0,\n",
      "                                         'transform': 'None',\n",
      "                                         'type': 'factor',\n",
      "                                         'upper': 3},\n",
      "                           'patience': {'default': 2,\n",
      "                                        'lower': 3,\n",
      "                                        'transform': 'transform_power_2_int',\n",
      "                                        'type': 'int',\n",
      "                                        'upper': 9}},\n",
      " 'counter': 0,\n",
      " 'data': None,\n",
      " 'data_dir': './data',\n",
      " 'data_module': None,\n",
      " 'data_set': <spotPython.data.diabetes.Diabetes object at 0x169d0d4d0>,\n",
      " 'design': None,\n",
      " 'device': 'mps',\n",
      " 'devices': 1,\n",
      " 'enable_progress_bar': False,\n",
      " 'eval': None,\n",
      " 'fun_evals': inf,\n",
      " 'fun_repeats': 1,\n",
      " 'infill_criterion': 'y',\n",
      " 'k_folds': 3,\n",
      " 'log_level': 10,\n",
      " 'loss_function': None,\n",
      " 'lower': array([3. , 4. , 1. , 0. , 0. , 0. , 0.1, 2. , 0. ]),\n",
      " 'max_time': 1,\n",
      " 'metric_params': {},\n",
      " 'metric_river': None,\n",
      " 'metric_sklearn': None,\n",
      " 'metric_torch': None,\n",
      " 'model_dict': {},\n",
      " 'n_points': 1,\n",
      " 'n_samples': None,\n",
      " 'noise': False,\n",
      " 'num_workers': 0,\n",
      " 'ocba_delta': 0,\n",
      " 'optimizer': None,\n",
      " 'path': None,\n",
      " 'prep_model': None,\n",
      " 'save_model': False,\n",
      " 'seed': 123,\n",
      " 'show_batch_interval': 1000000,\n",
      " 'show_models': False,\n",
      " 'show_progress': True,\n",
      " 'shuffle': None,\n",
      " 'sigma': 0.0,\n",
      " 'spot_tensorboard_path': 'runs/spot_logs/032_maans14_2024-01-11_16-14-20',\n",
      " 'spot_writer': <torch.utils.tensorboard.writer.SummaryWriter object at 0x2c56ad9d0>,\n",
      " 'target_column': None,\n",
      " 'task': None,\n",
      " 'test': None,\n",
      " 'test_seed': 1234,\n",
      " 'test_size': 0.1,\n",
      " 'tolerance_x': 1.4901161193847656e-08,\n",
      " 'train': None,\n",
      " 'upper': array([ 8.  ,  9.  ,  4.  ,  1.  , 11.  ,  0.25, 10.  ,  6.  ,  2.  ]),\n",
      " 'var_name': ['l1',\n",
      "              'epochs',\n",
      "              'batch_size',\n",
      "              'act_fn',\n",
      "              'optimizer',\n",
      "              'dropout_prob',\n",
      "              'lr_mult',\n",
      "              'patience',\n",
      "              'initialization'],\n",
      " 'var_type': ['int',\n",
      "              'int',\n",
      "              'int',\n",
      "              'factor',\n",
      "              'factor',\n",
      "              'float',\n",
      "              'float',\n",
      "              'int',\n",
      "              'factor'],\n",
      " 'verbosity': 1,\n",
      " 'weights': 1.0}\n"
     ]
    }
   ],
   "source": [
    "import pprint\n",
    "pprint.pprint(fun_control)"
   ]
  },
  {
   "cell_type": "code",
   "execution_count": 11,
   "id": "83c97be9",
   "metadata": {},
   "outputs": [
    {
     "name": "stdout",
     "output_type": "stream",
     "text": [
      "{'init_size': 5, 'repeats': 1}\n"
     ]
    }
   ],
   "source": [
    "pprint.pprint(design_control)"
   ]
  },
  {
   "cell_type": "code",
   "execution_count": 12,
   "id": "113d1f1d",
   "metadata": {},
   "outputs": [
    {
     "name": "stdout",
     "output_type": "stream",
     "text": [
      "{'log_level': 50,\n",
      " 'max_Lambda': 1,\n",
      " 'max_theta': 2.0,\n",
      " 'min_Lambda': 1e-09,\n",
      " 'min_theta': -3.0,\n",
      " 'model_fun_evals': 10000,\n",
      " 'model_optimizer': <function differential_evolution at 0x17564dc60>,\n",
      " 'n_p': 1,\n",
      " 'n_theta': 2,\n",
      " 'noise': True,\n",
      " 'optim_p': False,\n",
      " 'p_val': 2.0,\n",
      " 'seed': 124,\n",
      " 'theta_init_zero': True,\n",
      " 'var_type': None}\n"
     ]
    }
   ],
   "source": [
    "pprint.pprint(surrogate_control)"
   ]
  },
  {
   "cell_type": "markdown",
   "id": "ecd7fd39",
   "metadata": {},
   "source": [
    "### Starting the Hyperparameter Tuning {#sec-call-the-hyperparameter-tuner-32}\n",
    "\n",
    "The `spotPython` hyperparameter tuning is started by calling the `Spot` function [[SOURCE]](https://github.com/sequential-parameter-optimization/spotPython/blob/main/src/spotPython/spot/spot.py).\n"
   ]
  },
  {
   "cell_type": "code",
   "execution_count": 13,
   "id": "7deba46f",
   "metadata": {},
   "outputs": [
    {
     "name": "stderr",
     "output_type": "stream",
     "text": [
      "Seed set to 123\n"
     ]
    },
    {
     "name": "stdout",
     "output_type": "stream",
     "text": [
      "\n",
      "In fun(): config:\n",
      "{'act_fn': ReLU(),\n",
      " 'batch_size': 64,\n",
      " 'dropout_prob': 0.19355651674791854,\n",
      " 'epochs': 256,\n",
      " 'initialization': 'Default',\n",
      " 'l1': 16,\n",
      " 'lr_mult': 1.5691149440098038,\n",
      " 'optimizer': 'Adam',\n",
      " 'patience': 32}\n",
      "train_model(): Test set size: 45\n",
      "train_model(): Train set size: 359\n",
      "train_model(): Batch size: 64\n"
     ]
    },
    {
     "name": "stderr",
     "output_type": "stream",
     "text": [
      "/Users/bartz/miniforge3/envs/spotCondaEnv/lib/python3.11/site-packages/lightning/pytorch/utilities/parsing.py:198: Attribute 'act_fn' is an instance of `nn.Module` and is already saved during checkpointing. It is recommended to ignore them using `self.save_hyperparameters(ignore=['act_fn'])`.\n",
      "GPU available: True (mps), used: True\n"
     ]
    },
    {
     "name": "stderr",
     "output_type": "stream",
     "text": [
      "TPU available: False, using: 0 TPU cores\n"
     ]
    },
    {
     "name": "stderr",
     "output_type": "stream",
     "text": [
      "IPU available: False, using: 0 IPUs\n"
     ]
    },
    {
     "name": "stderr",
     "output_type": "stream",
     "text": [
      "HPU available: False, using: 0 HPUs\n"
     ]
    },
    {
     "name": "stderr",
     "output_type": "stream",
     "text": [
      "\n",
      "  | Name           | Type    | Params | In sizes | Out sizes          \n",
      "----------------------------------------------------------------------------\n",
      "0 | rnn_layer      | RNN     | 448    | [64, 10] | [[64, 16], [1, 16]]\n",
      "1 | fc             | Linear  | 272    | [64, 16] | [64, 16]           \n",
      "2 | output_layer   | Linear  | 17     | [64, 16] | [64, 1]            \n",
      "3 | dropout1       | Dropout | 0      | [64, 10] | [64, 10]           \n",
      "4 | dropout2       | Dropout | 0      | [64, 16] | [64, 16]           \n",
      "5 | dropout3       | Dropout | 0      | [64, 16] | [64, 16]           \n",
      "6 | activation_fct | ReLU    | 0      | [64, 16] | [64, 16]           \n",
      "----------------------------------------------------------------------------\n",
      "737       Trainable params\n",
      "0         Non-trainable params\n",
      "737       Total params\n",
      "0.003     Total estimated model params size (MB)\n"
     ]
    },
    {
     "name": "stderr",
     "output_type": "stream",
     "text": [
      "/Users/bartz/miniforge3/envs/spotCondaEnv/lib/python3.11/site-packages/lightning/pytorch/trainer/connectors/data_connector.py:441: The 'val_dataloader' does not have many workers which may be a bottleneck. Consider increasing the value of the `num_workers` argument` to `num_workers=23` in the `DataLoader` to improve performance.\n",
      "/Users/bartz/miniforge3/envs/spotCondaEnv/lib/python3.11/site-packages/lightning/pytorch/trainer/connectors/data_connector.py:441: The 'train_dataloader' does not have many workers which may be a bottleneck. Consider increasing the value of the `num_workers` argument` to `num_workers=23` in the `DataLoader` to improve performance.\n",
      "/Users/bartz/miniforge3/envs/spotCondaEnv/lib/python3.11/site-packages/lightning/pytorch/loops/fit_loop.py:293: The number of training batches (6) is smaller than the logging interval Trainer(log_every_n_steps=50). Set a lower value for log_every_n_steps if you want to see logs for the training epoch.\n"
     ]
    },
    {
     "name": "stdout",
     "output_type": "stream",
     "text": [
      "LightDataModule: train_dataloader(). Training set size: 359\n",
      "LightDataModule: train_dataloader(). batch_size: 64\n",
      "LightDataModule: train_dataloader(). num_workers: 0\n"
     ]
    },
    {
     "name": "stderr",
     "output_type": "stream",
     "text": [
      "`Trainer.fit` stopped: `max_epochs=256` reached.\n"
     ]
    },
    {
     "data": {
      "text/html": [
       "<pre style=\"white-space:pre;overflow-x:auto;line-height:normal;font-family:Menlo,'DejaVu Sans Mono',consolas,'Courier New',monospace\">┏━━━━━━━━━━━━━━━━━━━━━━━━━━━┳━━━━━━━━━━━━━━━━━━━━━━━━━━━┓\n",
       "┃<span style=\"font-weight: bold\">      Validate metric      </span>┃<span style=\"font-weight: bold\">       DataLoader 0        </span>┃\n",
       "┡━━━━━━━━━━━━━━━━━━━━━━━━━━━╇━━━━━━━━━━━━━━━━━━━━━━━━━━━┩\n",
       "│<span style=\"color: #008080; text-decoration-color: #008080\">         hp_metric         </span>│<span style=\"color: #800080; text-decoration-color: #800080\">     5832.97998046875      </span>│\n",
       "│<span style=\"color: #008080; text-decoration-color: #008080\">         val_loss          </span>│<span style=\"color: #800080; text-decoration-color: #800080\">     5832.97998046875      </span>│\n",
       "└───────────────────────────┴───────────────────────────┘\n",
       "</pre>\n"
      ],
      "text/plain": [
       "┏━━━━━━━━━━━━━━━━━━━━━━━━━━━┳━━━━━━━━━━━━━━━━━━━━━━━━━━━┓\n",
       "┃\u001b[1m \u001b[0m\u001b[1m     Validate metric     \u001b[0m\u001b[1m \u001b[0m┃\u001b[1m \u001b[0m\u001b[1m      DataLoader 0       \u001b[0m\u001b[1m \u001b[0m┃\n",
       "┡━━━━━━━━━━━━━━━━━━━━━━━━━━━╇━━━━━━━━━━━━━━━━━━━━━━━━━━━┩\n",
       "│\u001b[36m \u001b[0m\u001b[36m        hp_metric        \u001b[0m\u001b[36m \u001b[0m│\u001b[35m \u001b[0m\u001b[35m    5832.97998046875     \u001b[0m\u001b[35m \u001b[0m│\n",
       "│\u001b[36m \u001b[0m\u001b[36m        val_loss         \u001b[0m\u001b[36m \u001b[0m│\u001b[35m \u001b[0m\u001b[35m    5832.97998046875     \u001b[0m\u001b[35m \u001b[0m│\n",
       "└───────────────────────────┴───────────────────────────┘\n"
      ]
     },
     "metadata": {},
     "output_type": "display_data"
    },
    {
     "name": "stderr",
     "output_type": "stream",
     "text": [
      "GPU available: True (mps), used: True\n"
     ]
    },
    {
     "name": "stderr",
     "output_type": "stream",
     "text": [
      "TPU available: False, using: 0 TPU cores\n"
     ]
    },
    {
     "name": "stderr",
     "output_type": "stream",
     "text": [
      "IPU available: False, using: 0 IPUs\n"
     ]
    },
    {
     "name": "stderr",
     "output_type": "stream",
     "text": [
      "HPU available: False, using: 0 HPUs\n"
     ]
    },
    {
     "name": "stderr",
     "output_type": "stream",
     "text": [
      "\n",
      "  | Name           | Type    | Params | In sizes  | Out sizes            \n",
      "-------------------------------------------------------------------------------\n",
      "0 | rnn_layer      | RNN     | 17.9 K | [16, 10]  | [[16, 128], [1, 128]]\n",
      "1 | fc             | Linear  | 16.5 K | [16, 128] | [16, 128]            \n",
      "2 | output_layer   | Linear  | 129    | [16, 128] | [16, 1]              \n",
      "3 | dropout1       | Dropout | 0      | [16, 10]  | [16, 10]             \n",
      "4 | dropout2       | Dropout | 0      | [16, 128] | [16, 128]            \n",
      "5 | dropout3       | Dropout | 0      | [16, 128] | [16, 128]            \n",
      "6 | activation_fct | ReLU    | 0      | [16, 128] | [16, 128]            \n",
      "-------------------------------------------------------------------------------\n",
      "34.6 K    Trainable params\n",
      "0         Non-trainable params\n",
      "34.6 K    Total params\n",
      "0.138     Total estimated model params size (MB)\n"
     ]
    },
    {
     "name": "stdout",
     "output_type": "stream",
     "text": [
      "train_model result: {'val_loss': 5832.97998046875, 'hp_metric': 5832.97998046875}\n",
      "\n",
      "In fun(): config:\n",
      "{'act_fn': ReLU(),\n",
      " 'batch_size': 16,\n",
      " 'dropout_prob': 0.09424169914869776,\n",
      " 'epochs': 256,\n",
      " 'initialization': 'Default',\n",
      " 'l1': 128,\n",
      " 'lr_mult': 3.35818256351233,\n",
      " 'optimizer': 'Adadelta',\n",
      " 'patience': 512}\n",
      "train_model(): Test set size: 45\n",
      "train_model(): Train set size: 359\n",
      "train_model(): Batch size: 16\n",
      "LightDataModule: train_dataloader(). Training set size: 359\n",
      "LightDataModule: train_dataloader(). batch_size: 16\n",
      "LightDataModule: train_dataloader(). num_workers: 0\n"
     ]
    },
    {
     "name": "stderr",
     "output_type": "stream",
     "text": [
      "/Users/bartz/miniforge3/envs/spotCondaEnv/lib/python3.11/site-packages/lightning/pytorch/loops/fit_loop.py:293: The number of training batches (23) is smaller than the logging interval Trainer(log_every_n_steps=50). Set a lower value for log_every_n_steps if you want to see logs for the training epoch.\n"
     ]
    },
    {
     "name": "stderr",
     "output_type": "stream",
     "text": [
      "`Trainer.fit` stopped: `max_epochs=256` reached.\n"
     ]
    },
    {
     "data": {
      "text/html": [
       "<pre style=\"white-space:pre;overflow-x:auto;line-height:normal;font-family:Menlo,'DejaVu Sans Mono',consolas,'Courier New',monospace\">┏━━━━━━━━━━━━━━━━━━━━━━━━━━━┳━━━━━━━━━━━━━━━━━━━━━━━━━━━┓\n",
       "┃<span style=\"font-weight: bold\">      Validate metric      </span>┃<span style=\"font-weight: bold\">       DataLoader 0        </span>┃\n",
       "┡━━━━━━━━━━━━━━━━━━━━━━━━━━━╇━━━━━━━━━━━━━━━━━━━━━━━━━━━┩\n",
       "│<span style=\"color: #008080; text-decoration-color: #008080\">         hp_metric         </span>│<span style=\"color: #800080; text-decoration-color: #800080\">     3652.889404296875     </span>│\n",
       "│<span style=\"color: #008080; text-decoration-color: #008080\">         val_loss          </span>│<span style=\"color: #800080; text-decoration-color: #800080\">     3652.889404296875     </span>│\n",
       "└───────────────────────────┴───────────────────────────┘\n",
       "</pre>\n"
      ],
      "text/plain": [
       "┏━━━━━━━━━━━━━━━━━━━━━━━━━━━┳━━━━━━━━━━━━━━━━━━━━━━━━━━━┓\n",
       "┃\u001b[1m \u001b[0m\u001b[1m     Validate metric     \u001b[0m\u001b[1m \u001b[0m┃\u001b[1m \u001b[0m\u001b[1m      DataLoader 0       \u001b[0m\u001b[1m \u001b[0m┃\n",
       "┡━━━━━━━━━━━━━━━━━━━━━━━━━━━╇━━━━━━━━━━━━━━━━━━━━━━━━━━━┩\n",
       "│\u001b[36m \u001b[0m\u001b[36m        hp_metric        \u001b[0m\u001b[36m \u001b[0m│\u001b[35m \u001b[0m\u001b[35m    3652.889404296875    \u001b[0m\u001b[35m \u001b[0m│\n",
       "│\u001b[36m \u001b[0m\u001b[36m        val_loss         \u001b[0m\u001b[36m \u001b[0m│\u001b[35m \u001b[0m\u001b[35m    3652.889404296875    \u001b[0m\u001b[35m \u001b[0m│\n",
       "└───────────────────────────┴───────────────────────────┘\n"
      ]
     },
     "metadata": {},
     "output_type": "display_data"
    },
    {
     "name": "stderr",
     "output_type": "stream",
     "text": [
      "GPU available: True (mps), used: True\n"
     ]
    },
    {
     "name": "stderr",
     "output_type": "stream",
     "text": [
      "TPU available: False, using: 0 TPU cores\n"
     ]
    },
    {
     "name": "stderr",
     "output_type": "stream",
     "text": [
      "IPU available: False, using: 0 IPUs\n"
     ]
    },
    {
     "name": "stderr",
     "output_type": "stream",
     "text": [
      "HPU available: False, using: 0 HPUs\n"
     ]
    },
    {
     "name": "stderr",
     "output_type": "stream",
     "text": [
      "\n",
      "  | Name           | Type    | Params | In sizes | Out sizes           \n",
      "-----------------------------------------------------------------------------\n",
      "0 | rnn_layer      | RNN     | 17.9 K | [4, 10]  | [[4, 128], [1, 128]]\n",
      "1 | fc             | Linear  | 16.5 K | [4, 128] | [4, 128]            \n",
      "2 | output_layer   | Linear  | 129    | [4, 128] | [4, 1]              \n",
      "3 | dropout1       | Dropout | 0      | [4, 10]  | [4, 10]             \n",
      "4 | dropout2       | Dropout | 0      | [4, 128] | [4, 128]            \n",
      "5 | dropout3       | Dropout | 0      | [4, 128] | [4, 128]            \n",
      "6 | activation_fct | ReLU    | 0      | [4, 128] | [4, 128]            \n",
      "-----------------------------------------------------------------------------\n",
      "34.6 K    Trainable params\n",
      "0         Non-trainable params\n",
      "34.6 K    Total params\n",
      "0.138     Total estimated model params size (MB)\n"
     ]
    },
    {
     "name": "stdout",
     "output_type": "stream",
     "text": [
      "train_model result: {'val_loss': 3652.889404296875, 'hp_metric': 3652.889404296875}\n",
      "\n",
      "In fun(): config:\n",
      "{'act_fn': ReLU(),\n",
      " 'batch_size': 4,\n",
      " 'dropout_prob': 0.21164199382623602,\n",
      " 'epochs': 512,\n",
      " 'initialization': 'Default',\n",
      " 'l1': 128,\n",
      " 'lr_mult': 0.9336514668325573,\n",
      " 'optimizer': 'Adamax',\n",
      " 'patience': 16}\n",
      "train_model(): Test set size: 45\n",
      "train_model(): Train set size: 359\n",
      "train_model(): Batch size: 4\n",
      "LightDataModule: train_dataloader(). Training set size: 359\n",
      "LightDataModule: train_dataloader(). batch_size: 4\n",
      "LightDataModule: train_dataloader(). num_workers: 0\n"
     ]
    },
    {
     "data": {
      "text/html": [
       "<pre style=\"white-space:pre;overflow-x:auto;line-height:normal;font-family:Menlo,'DejaVu Sans Mono',consolas,'Courier New',monospace\">┏━━━━━━━━━━━━━━━━━━━━━━━━━━━┳━━━━━━━━━━━━━━━━━━━━━━━━━━━┓\n",
       "┃<span style=\"font-weight: bold\">      Validate metric      </span>┃<span style=\"font-weight: bold\">       DataLoader 0        </span>┃\n",
       "┡━━━━━━━━━━━━━━━━━━━━━━━━━━━╇━━━━━━━━━━━━━━━━━━━━━━━━━━━┩\n",
       "│<span style=\"color: #008080; text-decoration-color: #008080\">         hp_metric         </span>│<span style=\"color: #800080; text-decoration-color: #800080\">      2414.205078125       </span>│\n",
       "│<span style=\"color: #008080; text-decoration-color: #008080\">         val_loss          </span>│<span style=\"color: #800080; text-decoration-color: #800080\">      2414.205078125       </span>│\n",
       "└───────────────────────────┴───────────────────────────┘\n",
       "</pre>\n"
      ],
      "text/plain": [
       "┏━━━━━━━━━━━━━━━━━━━━━━━━━━━┳━━━━━━━━━━━━━━━━━━━━━━━━━━━┓\n",
       "┃\u001b[1m \u001b[0m\u001b[1m     Validate metric     \u001b[0m\u001b[1m \u001b[0m┃\u001b[1m \u001b[0m\u001b[1m      DataLoader 0       \u001b[0m\u001b[1m \u001b[0m┃\n",
       "┡━━━━━━━━━━━━━━━━━━━━━━━━━━━╇━━━━━━━━━━━━━━━━━━━━━━━━━━━┩\n",
       "│\u001b[36m \u001b[0m\u001b[36m        hp_metric        \u001b[0m\u001b[36m \u001b[0m│\u001b[35m \u001b[0m\u001b[35m     2414.205078125      \u001b[0m\u001b[35m \u001b[0m│\n",
       "│\u001b[36m \u001b[0m\u001b[36m        val_loss         \u001b[0m\u001b[36m \u001b[0m│\u001b[35m \u001b[0m\u001b[35m     2414.205078125      \u001b[0m\u001b[35m \u001b[0m│\n",
       "└───────────────────────────┴───────────────────────────┘\n"
      ]
     },
     "metadata": {},
     "output_type": "display_data"
    },
    {
     "name": "stderr",
     "output_type": "stream",
     "text": [
      "GPU available: True (mps), used: True\n"
     ]
    },
    {
     "name": "stderr",
     "output_type": "stream",
     "text": [
      "TPU available: False, using: 0 TPU cores\n"
     ]
    },
    {
     "name": "stderr",
     "output_type": "stream",
     "text": [
      "IPU available: False, using: 0 IPUs\n"
     ]
    },
    {
     "name": "stderr",
     "output_type": "stream",
     "text": [
      "HPU available: False, using: 0 HPUs\n"
     ]
    },
    {
     "name": "stderr",
     "output_type": "stream",
     "text": [
      "\n",
      "  | Name           | Type    | Params | In sizes | Out sizes         \n",
      "---------------------------------------------------------------------------\n",
      "0 | rnn_layer      | RNN     | 4.9 K  | [8, 10]  | [[8, 64], [1, 64]]\n",
      "1 | fc             | Linear  | 4.2 K  | [8, 64]  | [8, 64]           \n",
      "2 | output_layer   | Linear  | 65     | [8, 64]  | [8, 1]            \n",
      "3 | dropout1       | Dropout | 0      | [8, 10]  | [8, 10]           \n",
      "4 | dropout2       | Dropout | 0      | [8, 64]  | [8, 64]           \n",
      "5 | dropout3       | Dropout | 0      | [8, 64]  | [8, 64]           \n",
      "6 | activation_fct | ReLU    | 0      | [8, 64]  | [8, 64]           \n",
      "---------------------------------------------------------------------------\n",
      "9.1 K     Trainable params\n",
      "0         Non-trainable params\n",
      "9.1 K     Total params\n",
      "0.036     Total estimated model params size (MB)\n"
     ]
    },
    {
     "name": "stdout",
     "output_type": "stream",
     "text": [
      "train_model result: {'val_loss': 2414.205078125, 'hp_metric': 2414.205078125}\n",
      "\n",
      "In fun(): config:\n",
      "{'act_fn': ReLU(),\n",
      " 'batch_size': 8,\n",
      " 'dropout_prob': 0.05728504399550885,\n",
      " 'epochs': 128,\n",
      " 'initialization': 'Default',\n",
      " 'l1': 64,\n",
      " 'lr_mult': 4.575980093998586,\n",
      " 'optimizer': 'Adam',\n",
      " 'patience': 32}\n",
      "train_model(): Test set size: 45\n",
      "train_model(): Train set size: 359\n",
      "train_model(): Batch size: 8\n",
      "LightDataModule: train_dataloader(). Training set size: 359\n",
      "LightDataModule: train_dataloader(). batch_size: 8\n",
      "LightDataModule: train_dataloader(). num_workers: 0\n"
     ]
    },
    {
     "name": "stderr",
     "output_type": "stream",
     "text": [
      "/Users/bartz/miniforge3/envs/spotCondaEnv/lib/python3.11/site-packages/lightning/pytorch/loops/fit_loop.py:293: The number of training batches (45) is smaller than the logging interval Trainer(log_every_n_steps=50). Set a lower value for log_every_n_steps if you want to see logs for the training epoch.\n"
     ]
    },
    {
     "data": {
      "text/html": [
       "<pre style=\"white-space:pre;overflow-x:auto;line-height:normal;font-family:Menlo,'DejaVu Sans Mono',consolas,'Courier New',monospace\">┏━━━━━━━━━━━━━━━━━━━━━━━━━━━┳━━━━━━━━━━━━━━━━━━━━━━━━━━━┓\n",
       "┃<span style=\"font-weight: bold\">      Validate metric      </span>┃<span style=\"font-weight: bold\">       DataLoader 0        </span>┃\n",
       "┡━━━━━━━━━━━━━━━━━━━━━━━━━━━╇━━━━━━━━━━━━━━━━━━━━━━━━━━━┩\n",
       "│<span style=\"color: #008080; text-decoration-color: #008080\">         hp_metric         </span>│<span style=\"color: #800080; text-decoration-color: #800080\">     5862.02099609375      </span>│\n",
       "│<span style=\"color: #008080; text-decoration-color: #008080\">         val_loss          </span>│<span style=\"color: #800080; text-decoration-color: #800080\">     5862.02099609375      </span>│\n",
       "└───────────────────────────┴───────────────────────────┘\n",
       "</pre>\n"
      ],
      "text/plain": [
       "┏━━━━━━━━━━━━━━━━━━━━━━━━━━━┳━━━━━━━━━━━━━━━━━━━━━━━━━━━┓\n",
       "┃\u001b[1m \u001b[0m\u001b[1m     Validate metric     \u001b[0m\u001b[1m \u001b[0m┃\u001b[1m \u001b[0m\u001b[1m      DataLoader 0       \u001b[0m\u001b[1m \u001b[0m┃\n",
       "┡━━━━━━━━━━━━━━━━━━━━━━━━━━━╇━━━━━━━━━━━━━━━━━━━━━━━━━━━┩\n",
       "│\u001b[36m \u001b[0m\u001b[36m        hp_metric        \u001b[0m\u001b[36m \u001b[0m│\u001b[35m \u001b[0m\u001b[35m    5862.02099609375     \u001b[0m\u001b[35m \u001b[0m│\n",
       "│\u001b[36m \u001b[0m\u001b[36m        val_loss         \u001b[0m\u001b[36m \u001b[0m│\u001b[35m \u001b[0m\u001b[35m    5862.02099609375     \u001b[0m\u001b[35m \u001b[0m│\n",
       "└───────────────────────────┴───────────────────────────┘\n"
      ]
     },
     "metadata": {},
     "output_type": "display_data"
    },
    {
     "name": "stderr",
     "output_type": "stream",
     "text": [
      "GPU available: True (mps), used: True\n"
     ]
    },
    {
     "name": "stderr",
     "output_type": "stream",
     "text": [
      "TPU available: False, using: 0 TPU cores\n"
     ]
    },
    {
     "name": "stderr",
     "output_type": "stream",
     "text": [
      "IPU available: False, using: 0 IPUs\n"
     ]
    },
    {
     "name": "stderr",
     "output_type": "stream",
     "text": [
      "HPU available: False, using: 0 HPUs\n"
     ]
    },
    {
     "name": "stderr",
     "output_type": "stream",
     "text": [
      "\n",
      "  | Name           | Type    | Params | In sizes | Out sizes        \n",
      "--------------------------------------------------------------------------\n",
      "0 | rnn_layer      | RNN     | 160    | [16, 10] | [[16, 8], [1, 8]]\n",
      "1 | fc             | Linear  | 72     | [16, 8]  | [16, 8]          \n",
      "2 | output_layer   | Linear  | 9      | [16, 8]  | [16, 1]          \n",
      "3 | dropout1       | Dropout | 0      | [16, 10] | [16, 10]         \n",
      "4 | dropout2       | Dropout | 0      | [16, 8]  | [16, 8]          \n",
      "5 | dropout3       | Dropout | 0      | [16, 8]  | [16, 8]          \n",
      "6 | activation_fct | ReLU    | 0      | [16, 8]  | [16, 8]          \n",
      "--------------------------------------------------------------------------\n",
      "241       Trainable params\n",
      "0         Non-trainable params\n",
      "241       Total params\n",
      "0.001     Total estimated model params size (MB)\n"
     ]
    },
    {
     "name": "stdout",
     "output_type": "stream",
     "text": [
      "train_model result: {'val_loss': 5862.02099609375, 'hp_metric': 5862.02099609375}\n",
      "\n",
      "In fun(): config:\n",
      "{'act_fn': ReLU(),\n",
      " 'batch_size': 16,\n",
      " 'dropout_prob': 0.14352914208400058,\n",
      " 'epochs': 256,\n",
      " 'initialization': 'Default',\n",
      " 'l1': 8,\n",
      " 'lr_mult': 2.4204853123355816,\n",
      " 'optimizer': 'Adagrad',\n",
      " 'patience': 128}\n",
      "train_model(): Test set size: 45\n",
      "train_model(): Train set size: 359\n",
      "train_model(): Batch size: 16\n",
      "LightDataModule: train_dataloader(). Training set size: 359\n",
      "LightDataModule: train_dataloader(). batch_size: 16\n",
      "LightDataModule: train_dataloader(). num_workers: 0\n"
     ]
    },
    {
     "name": "stderr",
     "output_type": "stream",
     "text": [
      "`Trainer.fit` stopped: `max_epochs=256` reached.\n"
     ]
    },
    {
     "data": {
      "text/html": [
       "<pre style=\"white-space:pre;overflow-x:auto;line-height:normal;font-family:Menlo,'DejaVu Sans Mono',consolas,'Courier New',monospace\">┏━━━━━━━━━━━━━━━━━━━━━━━━━━━┳━━━━━━━━━━━━━━━━━━━━━━━━━━━┓\n",
       "┃<span style=\"font-weight: bold\">      Validate metric      </span>┃<span style=\"font-weight: bold\">       DataLoader 0        </span>┃\n",
       "┡━━━━━━━━━━━━━━━━━━━━━━━━━━━╇━━━━━━━━━━━━━━━━━━━━━━━━━━━┩\n",
       "│<span style=\"color: #008080; text-decoration-color: #008080\">         hp_metric         </span>│<span style=\"color: #800080; text-decoration-color: #800080\">     3681.71923828125      </span>│\n",
       "│<span style=\"color: #008080; text-decoration-color: #008080\">         val_loss          </span>│<span style=\"color: #800080; text-decoration-color: #800080\">     3681.71923828125      </span>│\n",
       "└───────────────────────────┴───────────────────────────┘\n",
       "</pre>\n"
      ],
      "text/plain": [
       "┏━━━━━━━━━━━━━━━━━━━━━━━━━━━┳━━━━━━━━━━━━━━━━━━━━━━━━━━━┓\n",
       "┃\u001b[1m \u001b[0m\u001b[1m     Validate metric     \u001b[0m\u001b[1m \u001b[0m┃\u001b[1m \u001b[0m\u001b[1m      DataLoader 0       \u001b[0m\u001b[1m \u001b[0m┃\n",
       "┡━━━━━━━━━━━━━━━━━━━━━━━━━━━╇━━━━━━━━━━━━━━━━━━━━━━━━━━━┩\n",
       "│\u001b[36m \u001b[0m\u001b[36m        hp_metric        \u001b[0m\u001b[36m \u001b[0m│\u001b[35m \u001b[0m\u001b[35m    3681.71923828125     \u001b[0m\u001b[35m \u001b[0m│\n",
       "│\u001b[36m \u001b[0m\u001b[36m        val_loss         \u001b[0m\u001b[36m \u001b[0m│\u001b[35m \u001b[0m\u001b[35m    3681.71923828125     \u001b[0m\u001b[35m \u001b[0m│\n",
       "└───────────────────────────┴───────────────────────────┘\n"
      ]
     },
     "metadata": {},
     "output_type": "display_data"
    },
    {
     "name": "stderr",
     "output_type": "stream",
     "text": [
      "/Users/bartz/miniforge3/envs/spotCondaEnv/lib/python3.11/site-packages/lightning/pytorch/utilities/parsing.py:198: Attribute 'act_fn' is an instance of `nn.Module` and is already saved during checkpointing. It is recommended to ignore them using `self.save_hyperparameters(ignore=['act_fn'])`.\n",
      "GPU available: True (mps), used: True\n"
     ]
    },
    {
     "name": "stderr",
     "output_type": "stream",
     "text": [
      "TPU available: False, using: 0 TPU cores\n"
     ]
    },
    {
     "name": "stderr",
     "output_type": "stream",
     "text": [
      "IPU available: False, using: 0 IPUs\n"
     ]
    },
    {
     "name": "stderr",
     "output_type": "stream",
     "text": [
      "HPU available: False, using: 0 HPUs\n"
     ]
    },
    {
     "name": "stderr",
     "output_type": "stream",
     "text": [
      "\n",
      "  | Name           | Type    | Params | In sizes | Out sizes           \n",
      "-----------------------------------------------------------------------------\n",
      "0 | rnn_layer      | RNN     | 17.9 K | [4, 10]  | [[4, 128], [1, 128]]\n",
      "1 | fc             | Linear  | 16.5 K | [4, 128] | [4, 128]            \n",
      "2 | output_layer   | Linear  | 129    | [4, 128] | [4, 1]              \n",
      "3 | dropout1       | Dropout | 0      | [4, 10]  | [4, 10]             \n",
      "4 | dropout2       | Dropout | 0      | [4, 128] | [4, 128]            \n",
      "5 | dropout3       | Dropout | 0      | [4, 128] | [4, 128]            \n",
      "6 | activation_fct | ReLU    | 0      | [4, 128] | [4, 128]            \n",
      "-----------------------------------------------------------------------------\n",
      "34.6 K    Trainable params\n",
      "0         Non-trainable params\n",
      "34.6 K    Total params\n",
      "0.138     Total estimated model params size (MB)\n"
     ]
    },
    {
     "name": "stdout",
     "output_type": "stream",
     "text": [
      "train_model result: {'val_loss': 3681.71923828125, 'hp_metric': 3681.71923828125}\n",
      "\n",
      "In fun(): config:\n",
      "{'act_fn': ReLU(),\n",
      " 'batch_size': 4,\n",
      " 'dropout_prob': 0.2116436615948213,\n",
      " 'epochs': 512,\n",
      " 'initialization': 'Default',\n",
      " 'l1': 128,\n",
      " 'lr_mult': 0.9336534446907111,\n",
      " 'optimizer': 'Adamax',\n",
      " 'patience': 16}\n",
      "train_model(): Test set size: 45\n",
      "train_model(): Train set size: 359\n",
      "train_model(): Batch size: 4\n"
     ]
    },
    {
     "name": "stderr",
     "output_type": "stream",
     "text": [
      "/Users/bartz/miniforge3/envs/spotCondaEnv/lib/python3.11/site-packages/lightning/pytorch/trainer/connectors/data_connector.py:441: The 'val_dataloader' does not have many workers which may be a bottleneck. Consider increasing the value of the `num_workers` argument` to `num_workers=23` in the `DataLoader` to improve performance.\n",
      "/Users/bartz/miniforge3/envs/spotCondaEnv/lib/python3.11/site-packages/lightning/pytorch/trainer/connectors/data_connector.py:441: The 'train_dataloader' does not have many workers which may be a bottleneck. Consider increasing the value of the `num_workers` argument` to `num_workers=23` in the `DataLoader` to improve performance.\n"
     ]
    },
    {
     "name": "stdout",
     "output_type": "stream",
     "text": [
      "LightDataModule: train_dataloader(). Training set size: 359\n",
      "LightDataModule: train_dataloader(). batch_size: 4\n",
      "LightDataModule: train_dataloader(). num_workers: 0\n"
     ]
    },
    {
     "data": {
      "text/html": [
       "<pre style=\"white-space:pre;overflow-x:auto;line-height:normal;font-family:Menlo,'DejaVu Sans Mono',consolas,'Courier New',monospace\">┏━━━━━━━━━━━━━━━━━━━━━━━━━━━┳━━━━━━━━━━━━━━━━━━━━━━━━━━━┓\n",
       "┃<span style=\"font-weight: bold\">      Validate metric      </span>┃<span style=\"font-weight: bold\">       DataLoader 0        </span>┃\n",
       "┡━━━━━━━━━━━━━━━━━━━━━━━━━━━╇━━━━━━━━━━━━━━━━━━━━━━━━━━━┩\n",
       "│<span style=\"color: #008080; text-decoration-color: #008080\">         hp_metric         </span>│<span style=\"color: #800080; text-decoration-color: #800080\">      3089.423828125       </span>│\n",
       "│<span style=\"color: #008080; text-decoration-color: #008080\">         val_loss          </span>│<span style=\"color: #800080; text-decoration-color: #800080\">      3089.423828125       </span>│\n",
       "└───────────────────────────┴───────────────────────────┘\n",
       "</pre>\n"
      ],
      "text/plain": [
       "┏━━━━━━━━━━━━━━━━━━━━━━━━━━━┳━━━━━━━━━━━━━━━━━━━━━━━━━━━┓\n",
       "┃\u001b[1m \u001b[0m\u001b[1m     Validate metric     \u001b[0m\u001b[1m \u001b[0m┃\u001b[1m \u001b[0m\u001b[1m      DataLoader 0       \u001b[0m\u001b[1m \u001b[0m┃\n",
       "┡━━━━━━━━━━━━━━━━━━━━━━━━━━━╇━━━━━━━━━━━━━━━━━━━━━━━━━━━┩\n",
       "│\u001b[36m \u001b[0m\u001b[36m        hp_metric        \u001b[0m\u001b[36m \u001b[0m│\u001b[35m \u001b[0m\u001b[35m     3089.423828125      \u001b[0m\u001b[35m \u001b[0m│\n",
       "│\u001b[36m \u001b[0m\u001b[36m        val_loss         \u001b[0m\u001b[36m \u001b[0m│\u001b[35m \u001b[0m\u001b[35m     3089.423828125      \u001b[0m\u001b[35m \u001b[0m│\n",
       "└───────────────────────────┴───────────────────────────┘\n"
      ]
     },
     "metadata": {},
     "output_type": "display_data"
    },
    {
     "name": "stdout",
     "output_type": "stream",
     "text": [
      "train_model result: {'val_loss': 3089.423828125, 'hp_metric': 3089.423828125}\n",
      "spotPython tuning: 2414.205078125 [#######---] 71.54% \r\n"
     ]
    },
    {
     "name": "stderr",
     "output_type": "stream",
     "text": [
      "/Users/bartz/miniforge3/envs/spotCondaEnv/lib/python3.11/site-packages/lightning/pytorch/utilities/parsing.py:198: Attribute 'act_fn' is an instance of `nn.Module` and is already saved during checkpointing. It is recommended to ignore them using `self.save_hyperparameters(ignore=['act_fn'])`.\n",
      "GPU available: True (mps), used: True\n"
     ]
    },
    {
     "name": "stderr",
     "output_type": "stream",
     "text": [
      "TPU available: False, using: 0 TPU cores\n"
     ]
    },
    {
     "name": "stderr",
     "output_type": "stream",
     "text": [
      "IPU available: False, using: 0 IPUs\n"
     ]
    },
    {
     "name": "stderr",
     "output_type": "stream",
     "text": [
      "HPU available: False, using: 0 HPUs\n"
     ]
    },
    {
     "name": "stderr",
     "output_type": "stream",
     "text": [
      "\n",
      "  | Name           | Type    | Params | In sizes | Out sizes           \n",
      "-----------------------------------------------------------------------------\n",
      "0 | rnn_layer      | RNN     | 17.9 K | [4, 10]  | [[4, 128], [1, 128]]\n",
      "1 | fc             | Linear  | 16.5 K | [4, 128] | [4, 128]            \n",
      "2 | output_layer   | Linear  | 129    | [4, 128] | [4, 1]              \n",
      "3 | dropout1       | Dropout | 0      | [4, 10]  | [4, 10]             \n",
      "4 | dropout2       | Dropout | 0      | [4, 128] | [4, 128]            \n",
      "5 | dropout3       | Dropout | 0      | [4, 128] | [4, 128]            \n",
      "6 | activation_fct | ReLU    | 0      | [4, 128] | [4, 128]            \n",
      "-----------------------------------------------------------------------------\n",
      "34.6 K    Trainable params\n",
      "0         Non-trainable params\n",
      "34.6 K    Total params\n",
      "0.138     Total estimated model params size (MB)\n"
     ]
    },
    {
     "name": "stdout",
     "output_type": "stream",
     "text": [
      "\n",
      "In fun(): config:\n",
      "{'act_fn': ReLU(),\n",
      " 'batch_size': 4,\n",
      " 'dropout_prob': 0.21163960937948934,\n",
      " 'epochs': 512,\n",
      " 'initialization': 'Default',\n",
      " 'l1': 128,\n",
      " 'lr_mult': 0.9336299317038221,\n",
      " 'optimizer': 'Adamax',\n",
      " 'patience': 16}\n",
      "train_model(): Test set size: 45\n",
      "train_model(): Train set size: 359\n",
      "train_model(): Batch size: 4\n"
     ]
    },
    {
     "name": "stdout",
     "output_type": "stream",
     "text": [
      "LightDataModule: train_dataloader(). Training set size: 359\n",
      "LightDataModule: train_dataloader(). batch_size: 4\n",
      "LightDataModule: train_dataloader(). num_workers: 0\n"
     ]
    },
    {
     "name": "stderr",
     "output_type": "stream",
     "text": [
      "/Users/bartz/miniforge3/envs/spotCondaEnv/lib/python3.11/site-packages/lightning/pytorch/trainer/connectors/data_connector.py:441: The 'val_dataloader' does not have many workers which may be a bottleneck. Consider increasing the value of the `num_workers` argument` to `num_workers=23` in the `DataLoader` to improve performance.\n",
      "/Users/bartz/miniforge3/envs/spotCondaEnv/lib/python3.11/site-packages/lightning/pytorch/trainer/connectors/data_connector.py:441: The 'train_dataloader' does not have many workers which may be a bottleneck. Consider increasing the value of the `num_workers` argument` to `num_workers=23` in the `DataLoader` to improve performance.\n"
     ]
    },
    {
     "data": {
      "text/html": [
       "<pre style=\"white-space:pre;overflow-x:auto;line-height:normal;font-family:Menlo,'DejaVu Sans Mono',consolas,'Courier New',monospace\">┏━━━━━━━━━━━━━━━━━━━━━━━━━━━┳━━━━━━━━━━━━━━━━━━━━━━━━━━━┓\n",
       "┃<span style=\"font-weight: bold\">      Validate metric      </span>┃<span style=\"font-weight: bold\">       DataLoader 0        </span>┃\n",
       "┡━━━━━━━━━━━━━━━━━━━━━━━━━━━╇━━━━━━━━━━━━━━━━━━━━━━━━━━━┩\n",
       "│<span style=\"color: #008080; text-decoration-color: #008080\">         hp_metric         </span>│<span style=\"color: #800080; text-decoration-color: #800080\">     3275.68994140625      </span>│\n",
       "│<span style=\"color: #008080; text-decoration-color: #008080\">         val_loss          </span>│<span style=\"color: #800080; text-decoration-color: #800080\">     3275.68994140625      </span>│\n",
       "└───────────────────────────┴───────────────────────────┘\n",
       "</pre>\n"
      ],
      "text/plain": [
       "┏━━━━━━━━━━━━━━━━━━━━━━━━━━━┳━━━━━━━━━━━━━━━━━━━━━━━━━━━┓\n",
       "┃\u001b[1m \u001b[0m\u001b[1m     Validate metric     \u001b[0m\u001b[1m \u001b[0m┃\u001b[1m \u001b[0m\u001b[1m      DataLoader 0       \u001b[0m\u001b[1m \u001b[0m┃\n",
       "┡━━━━━━━━━━━━━━━━━━━━━━━━━━━╇━━━━━━━━━━━━━━━━━━━━━━━━━━━┩\n",
       "│\u001b[36m \u001b[0m\u001b[36m        hp_metric        \u001b[0m\u001b[36m \u001b[0m│\u001b[35m \u001b[0m\u001b[35m    3275.68994140625     \u001b[0m\u001b[35m \u001b[0m│\n",
       "│\u001b[36m \u001b[0m\u001b[36m        val_loss         \u001b[0m\u001b[36m \u001b[0m│\u001b[35m \u001b[0m\u001b[35m    3275.68994140625     \u001b[0m\u001b[35m \u001b[0m│\n",
       "└───────────────────────────┴───────────────────────────┘\n"
      ]
     },
     "metadata": {},
     "output_type": "display_data"
    },
    {
     "name": "stdout",
     "output_type": "stream",
     "text": [
      "train_model result: {'val_loss': 3275.68994140625, 'hp_metric': 3275.68994140625}\n",
      "spotPython tuning: 2414.205078125 [##########] 100.00% Done...\r\n",
      "\r\n"
     ]
    },
    {
     "data": {
      "text/plain": [
       "<spotPython.spot.spot.Spot at 0x2d6e865d0>"
      ]
     },
     "execution_count": 13,
     "metadata": {},
     "output_type": "execute_result"
    }
   ],
   "source": [
    "from spotPython.spot import spot\n",
    "spot_tuner = spot.Spot(fun=fun,\n",
    "                       fun_control=fun_control,\n",
    "                       design_control=design_control,\n",
    "                       surrogate_control=surrogate_control)\n",
    "spot_tuner.run()"
   ]
  },
  {
   "cell_type": "markdown",
   "id": "19a7daa2",
   "metadata": {},
   "source": [
    "## Step 9: Tensorboard {#sec-tensorboard-32}\n",
    "\n",
    "The textual output shown in the console (or code cell) can be visualized with Tensorboard.\n",
    "\n",
    "\n",
    "\n",
    "```{raw}\n",
    "tensorboard --logdir=\"runs/\"\n",
    "```\n",
    "\n",
    "\n",
    "\n",
    "Further information can be found in the [PyTorch Lightning documentation](https://lightning.ai/docs/pytorch/stable/api/lightning.pytorch.loggers.tensorboard.html) for Tensorboard.\n",
    "\n",
    "\n",
    "\n",
    "## Step 10: Results {#sec-results-32}\n",
    "\n",
    "After the hyperparameter tuning run is finished, the results can be analyzed.\n"
   ]
  },
  {
   "cell_type": "code",
   "execution_count": 14,
   "id": "412f8d0f",
   "metadata": {
    "fig-label": "fig-progress-32"
   },
   "outputs": [
    {
     "data": {
      "application/pdf": "[encoded data removed]",
      "text/plain": [
       "<Figure size 2700x1800 with 1 Axes>"
      ]
     },
     "metadata": {},
     "output_type": "display_data"
    }
   ],
   "source": [
    "#| fig-cap: Progress plot. *Black* dots denote results from the initial design. *Red* dots  illustrate the improvement found by the surrogate model based optimization.\n",
    "spot_tuner.plot_progress(log_y=False,\n",
    "    filename=\"./figures/\" + PREFIX + \"_progress.png\")"
   ]
  },
  {
   "cell_type": "code",
   "execution_count": 15,
   "id": "49c407ae",
   "metadata": {
    "fig-label": "tbl-results-32"
   },
   "outputs": [
    {
     "name": "stdout",
     "output_type": "stream",
     "text": [
      "| name           | type   | default   |   lower |   upper | tuned               | transform             |   importance | stars   |\n",
      "|----------------|--------|-----------|---------|---------|---------------------|-----------------------|--------------|---------|\n",
      "| l1             | int    | 3         |     3.0 |     8.0 | 7.0                 | transform_power_2_int |         0.00 |         |\n",
      "| epochs         | int    | 4         |     7.0 |     9.0 | 9.0                 | transform_power_2_int |         0.00 |         |\n",
      "| batch_size     | int    | 4         |     2.0 |     6.0 | 2.0                 | transform_power_2_int |         0.00 |         |\n",
      "| act_fn         | factor | ReLU      |     0.0 |     0.0 | ReLU                | None                  |         0.00 |         |\n",
      "| optimizer      | factor | SGD       |     0.0 |     3.0 | Adamax              | None                  |         0.37 | .       |\n",
      "| dropout_prob   | float  | 0.01      |    0.01 |    0.25 | 0.21164199382623602 | None                  |         0.00 |         |\n",
      "| lr_mult        | float  | 1.0       |     0.5 |     5.0 | 0.9336514668325573  | None                  |         0.00 |         |\n",
      "| patience       | int    | 2         |     3.0 |     9.0 | 4.0                 | transform_power_2_int |       100.00 | ***     |\n",
      "| initialization | factor | Default   |     0.0 |     0.0 | Default             | None                  |         0.00 |         |\n"
     ]
    }
   ],
   "source": [
    "#| fig-cap: Results of the hyperparameter tuning.\n",
    "from spotPython.utils.eda import gen_design_table\n",
    "print(gen_design_table(fun_control=fun_control, spot=spot_tuner))"
   ]
  },
  {
   "cell_type": "code",
   "execution_count": 16,
   "id": "a02c029e",
   "metadata": {
    "fig-label": "fig-importance-32"
   },
   "outputs": [
    {
     "data": {
      "application/pdf": "[encoded data removed]",
      "text/plain": [
       "<Figure size 1650x1050 with 1 Axes>"
      ]
     },
     "metadata": {},
     "output_type": "display_data"
    }
   ],
   "source": [
    "#| fig-cap: 'Variable importance plot, threshold 0.025.'\n",
    "spot_tuner.plot_importance(threshold=0.025,\n",
    "    filename=\"./figures/\" + PREFIX + \"_importance.png\")"
   ]
  },
  {
   "cell_type": "markdown",
   "id": "a70a4c4a",
   "metadata": {},
   "source": [
    "### Get the Tuned Architecture {#sec-get-spot-results-32}\n"
   ]
  },
  {
   "cell_type": "code",
   "execution_count": 17,
   "id": "3ad03692",
   "metadata": {},
   "outputs": [
    {
     "name": "stdout",
     "output_type": "stream",
     "text": [
      "{'l1': 128, 'epochs': 512, 'batch_size': 4, 'act_fn': ReLU(), 'optimizer': 'Adamax', 'dropout_prob': 0.21164199382623602, 'lr_mult': 0.9336514668325573, 'patience': 16, 'initialization': 'Default'}\n"
     ]
    }
   ],
   "source": [
    "from spotPython.hyperparameters.values import get_tuned_architecture\n",
    "config = get_tuned_architecture(spot_tuner, fun_control)\n",
    "print(config)"
   ]
  },
  {
   "cell_type": "markdown",
   "id": "369e060e",
   "metadata": {},
   "source": [
    "* Test on the full data set\n"
   ]
  },
  {
   "cell_type": "code",
   "execution_count": 18,
   "id": "b1a7cd11",
   "metadata": {},
   "outputs": [
    {
     "name": "stderr",
     "output_type": "stream",
     "text": [
      "/Users/bartz/miniforge3/envs/spotCondaEnv/lib/python3.11/site-packages/lightning/pytorch/utilities/parsing.py:198: Attribute 'act_fn' is an instance of `nn.Module` and is already saved during checkpointing. It is recommended to ignore them using `self.save_hyperparameters(ignore=['act_fn'])`.\n",
      "GPU available: True (mps), used: True\n"
     ]
    },
    {
     "name": "stderr",
     "output_type": "stream",
     "text": [
      "TPU available: False, using: 0 TPU cores\n"
     ]
    },
    {
     "name": "stderr",
     "output_type": "stream",
     "text": [
      "IPU available: False, using: 0 IPUs\n"
     ]
    },
    {
     "name": "stderr",
     "output_type": "stream",
     "text": [
      "HPU available: False, using: 0 HPUs\n"
     ]
    },
    {
     "name": "stderr",
     "output_type": "stream",
     "text": [
      "\n",
      "  | Name           | Type    | Params | In sizes | Out sizes           \n",
      "-----------------------------------------------------------------------------\n",
      "0 | rnn_layer      | RNN     | 17.9 K | [4, 10]  | [[4, 128], [1, 128]]\n",
      "1 | fc             | Linear  | 16.5 K | [4, 128] | [4, 128]            \n",
      "2 | output_layer   | Linear  | 129    | [4, 128] | [4, 1]              \n",
      "3 | dropout1       | Dropout | 0      | [4, 10]  | [4, 10]             \n",
      "4 | dropout2       | Dropout | 0      | [4, 128] | [4, 128]            \n",
      "5 | dropout3       | Dropout | 0      | [4, 128] | [4, 128]            \n",
      "6 | activation_fct | ReLU    | 0      | [4, 128] | [4, 128]            \n",
      "-----------------------------------------------------------------------------\n",
      "34.6 K    Trainable params\n",
      "0         Non-trainable params\n",
      "34.6 K    Total params\n",
      "0.138     Total estimated model params size (MB)\n"
     ]
    },
    {
     "name": "stderr",
     "output_type": "stream",
     "text": [
      "/Users/bartz/miniforge3/envs/spotCondaEnv/lib/python3.11/site-packages/lightning/pytorch/trainer/connectors/data_connector.py:441: The 'val_dataloader' does not have many workers which may be a bottleneck. Consider increasing the value of the `num_workers` argument` to `num_workers=23` in the `DataLoader` to improve performance.\n",
      "/Users/bartz/miniforge3/envs/spotCondaEnv/lib/python3.11/site-packages/lightning/pytorch/trainer/connectors/data_connector.py:441: The 'train_dataloader' does not have many workers which may be a bottleneck. Consider increasing the value of the `num_workers` argument` to `num_workers=23` in the `DataLoader` to improve performance.\n",
      "/Users/bartz/miniforge3/envs/spotCondaEnv/lib/python3.11/site-packages/lightning/pytorch/loops/fit_loop.py:293: The number of training batches (18) is smaller than the logging interval Trainer(log_every_n_steps=50). Set a lower value for log_every_n_steps if you want to see logs for the training epoch.\n"
     ]
    },
    {
     "name": "stdout",
     "output_type": "stream",
     "text": [
      "LightDataModule: train_dataloader(). Training set size: 71\n",
      "LightDataModule: train_dataloader(). batch_size: 4\n",
      "LightDataModule: train_dataloader(). num_workers: 0\n"
     ]
    },
    {
     "name": "stderr",
     "output_type": "stream",
     "text": [
      "Restoring states from the checkpoint path at /Users/bartz/workspace/Hyperparameter-Tuning-Cookbook/runs/saved_models/128_512_4_ReLU_Adamax_0.2116_0.9337_16_Default_TEST/last.ckpt\n"
     ]
    },
    {
     "name": "stderr",
     "output_type": "stream",
     "text": [
      "Loaded model weights from the checkpoint at /Users/bartz/workspace/Hyperparameter-Tuning-Cookbook/runs/saved_models/128_512_4_ReLU_Adamax_0.2116_0.9337_16_Default_TEST/last.ckpt\n"
     ]
    },
    {
     "name": "stderr",
     "output_type": "stream",
     "text": [
      "/Users/bartz/miniforge3/envs/spotCondaEnv/lib/python3.11/site-packages/lightning/pytorch/trainer/connectors/data_connector.py:441: The 'test_dataloader' does not have many workers which may be a bottleneck. Consider increasing the value of the `num_workers` argument` to `num_workers=23` in the `DataLoader` to improve performance.\n"
     ]
    },
    {
     "name": "stdout",
     "output_type": "stream",
     "text": [
      "LightDataModule: test_dataloader(). Training set size: 266\n",
      "LightDataModule: test_dataloader(). batch_size: 4\n",
      "LightDataModule: test_dataloader(). num_workers: 0\n"
     ]
    },
    {
     "data": {
      "text/html": [
       "<pre style=\"white-space:pre;overflow-x:auto;line-height:normal;font-family:Menlo,'DejaVu Sans Mono',consolas,'Courier New',monospace\">┏━━━━━━━━━━━━━━━━━━━━━━━━━━━┳━━━━━━━━━━━━━━━━━━━━━━━━━━━┓\n",
       "┃<span style=\"font-weight: bold\">        Test metric        </span>┃<span style=\"font-weight: bold\">       DataLoader 0        </span>┃\n",
       "┡━━━━━━━━━━━━━━━━━━━━━━━━━━━╇━━━━━━━━━━━━━━━━━━━━━━━━━━━┩\n",
       "│<span style=\"color: #008080; text-decoration-color: #008080\">         hp_metric         </span>│<span style=\"color: #800080; text-decoration-color: #800080\">     3773.025634765625     </span>│\n",
       "│<span style=\"color: #008080; text-decoration-color: #008080\">         val_loss          </span>│<span style=\"color: #800080; text-decoration-color: #800080\">     3773.025634765625     </span>│\n",
       "└───────────────────────────┴───────────────────────────┘\n",
       "</pre>\n"
      ],
      "text/plain": [
       "┏━━━━━━━━━━━━━━━━━━━━━━━━━━━┳━━━━━━━━━━━━━━━━━━━━━━━━━━━┓\n",
       "┃\u001b[1m \u001b[0m\u001b[1m       Test metric       \u001b[0m\u001b[1m \u001b[0m┃\u001b[1m \u001b[0m\u001b[1m      DataLoader 0       \u001b[0m\u001b[1m \u001b[0m┃\n",
       "┡━━━━━━━━━━━━━━━━━━━━━━━━━━━╇━━━━━━━━━━━━━━━━━━━━━━━━━━━┩\n",
       "│\u001b[36m \u001b[0m\u001b[36m        hp_metric        \u001b[0m\u001b[36m \u001b[0m│\u001b[35m \u001b[0m\u001b[35m    3773.025634765625    \u001b[0m\u001b[35m \u001b[0m│\n",
       "│\u001b[36m \u001b[0m\u001b[36m        val_loss         \u001b[0m\u001b[36m \u001b[0m│\u001b[35m \u001b[0m\u001b[35m    3773.025634765625    \u001b[0m\u001b[35m \u001b[0m│\n",
       "└───────────────────────────┴───────────────────────────┘\n"
      ]
     },
     "metadata": {},
     "output_type": "display_data"
    },
    {
     "name": "stdout",
     "output_type": "stream",
     "text": [
      "test_model result: {'val_loss': 3773.025634765625, 'hp_metric': 3773.025634765625}\n"
     ]
    },
    {
     "data": {
      "text/plain": [
       "(3773.025634765625, 3773.025634765625)"
      ]
     },
     "execution_count": 18,
     "metadata": {},
     "output_type": "execute_result"
    }
   ],
   "source": [
    "from spotPython.light.testmodel import test_model\n",
    "test_model(config, fun_control)"
   ]
  },
  {
   "cell_type": "code",
   "execution_count": 19,
   "id": "9d3d2146",
   "metadata": {},
   "outputs": [
    {
     "name": "stdout",
     "output_type": "stream",
     "text": [
      "config: {'l1': 128, 'epochs': 512, 'batch_size': 4, 'act_fn': ReLU(), 'optimizer': 'Adamax', 'dropout_prob': 0.21164199382623602, 'lr_mult': 0.9336514668325573, 'patience': 16, 'initialization': 'Default'}\n",
      "Loading model with 128_512_4_ReLU_Adamax_0.2116_0.9337_16_Default_TEST from runs/saved_models/128_512_4_ReLU_Adamax_0.2116_0.9337_16_Default_TEST/last.ckpt\n",
      "Model: RNNLightRegression(\n",
      "  (rnn_layer): RNN(10, 128, batch_first=True)\n",
      "  (fc): Linear(in_features=128, out_features=128, bias=True)\n",
      "  (output_layer): Linear(in_features=128, out_features=1, bias=True)\n",
      "  (dropout1): Dropout(p=0.21164199382623602, inplace=False)\n",
      "  (dropout2): Dropout(p=0.0, inplace=False)\n",
      "  (dropout3): Dropout(p=0.0, inplace=False)\n",
      "  (activation_fct): ReLU()\n",
      ")\n"
     ]
    }
   ],
   "source": [
    "from spotPython.light.loadmodel import load_light_from_checkpoint\n",
    "\n",
    "model_loaded = load_light_from_checkpoint(config, fun_control)"
   ]
  },
  {
   "cell_type": "code",
   "execution_count": 20,
   "id": "eba562cf",
   "metadata": {
    "fig-label": "fig-contour-32"
   },
   "outputs": [
    {
     "name": "stdout",
     "output_type": "stream",
     "text": [
      "optimizer:  0.3650734171034668\n",
      "patience:  100.0\n"
     ]
    },
    {
     "data": {
      "application/pdf": "[encoded data removed]",
      "text/plain": [
       "<Figure size 2700x1800 with 3 Axes>"
      ]
     },
     "metadata": {},
     "output_type": "display_data"
    }
   ],
   "source": [
    "#| fig-cap: Contour plots.\n",
    "filename = \"./figures/\" + PREFIX\n",
    "spot_tuner.plot_important_hyperparameter_contour(filename=filename)"
   ]
  },
  {
   "cell_type": "markdown",
   "id": "b50fc0c2",
   "metadata": {},
   "source": [
    "### Parallel Coordinates Plot\n"
   ]
  },
  {
   "cell_type": "code",
   "execution_count": 21,
   "id": "e1e6af8f",
   "metadata": {
    "fig-label": "fig-parallel-32"
   },
   "outputs": [
    {
     "data": {
      "text/html": [
       "        <script type=\"text/javascript\">\n",
       "        window.PlotlyConfig = {MathJaxConfig: 'local'};\n",
       "        if (window.MathJax && window.MathJax.Hub && window.MathJax.Hub.Config) {window.MathJax.Hub.Config({SVG: {font: \"STIX-Web\"}});}\n",
       "        if (typeof require !== 'undefined') {\n",
       "        require.undef(\"plotly\");\n",
       "        requirejs.config({\n",
       "            paths: {\n",
       "                'plotly': ['https://cdn.plot.ly/plotly-2.27.0.min']\n",
       "            }\n",
       "        });\n",
       "        require(['plotly'], function(Plotly) {\n",
       "            window._Plotly = Plotly;\n",
       "        });\n",
       "        }\n",
       "        </script>\n",
       "        "
      ]
     },
     "metadata": {},
     "output_type": "display_data"
    },
    {
     "data": {
      "text/html": [
       "<div>                            <div id=\"521e2757-45cb-4d5d-af9f-354b555a54be\" class=\"plotly-graph-div\" style=\"height:525px; width:100%;\"></div>            <script type=\"text/javascript\">                require([\"plotly\"], function(Plotly) {                    window.PLOTLYENV=window.PLOTLYENV || {};                                    if (document.getElementById(\"521e2757-45cb-4d5d-af9f-354b555a54be\")) {                    Plotly.newPlot(                        \"521e2757-45cb-4d5d-af9f-354b555a54be\",                        [{\"dimensions\":[{\"label\":\"l1\",\"range\":[3.0,7.0],\"values\":[4.0,7.0,7.0,6.0,3.0,7.0,7.0]},{\"label\":\"epochs\",\"range\":[7.0,9.0],\"values\":[8.0,8.0,9.0,7.0,8.0,9.0,9.0]},{\"label\":\"batch_size\",\"range\":[2.0,6.0],\"values\":[6.0,4.0,2.0,3.0,4.0,2.0,2.0]},{\"label\":\"optimizer\",\"range\":[0.0,3.0],\"values\":[2.0,0.0,3.0,2.0,1.0,3.0,3.0]},{\"label\":\"dropout_prob\",\"range\":[0.05728504399550885,0.2116436615948213],\"values\":[0.19355651674791854,0.09424169914869776,0.21164199382623602,0.05728504399550885,0.14352914208400058,0.2116436615948213,0.21163960937948934]},{\"label\":\"lr_mult\",\"range\":[0.9336299317038221,4.575980093998586],\"values\":[1.5691149440098038,3.35818256351233,0.9336514668325573,4.575980093998586,2.4204853123355816,0.9336534446907111,0.9336299317038221]},{\"label\":\"patience\",\"range\":[4.0,9.0],\"values\":[5.0,9.0,4.0,5.0,7.0,4.0,4.0]}],\"line\":{\"cmax\":5862.02099609375,\"cmin\":2414.205078125,\"color\":[5832.97998046875,3652.889404296875,2414.205078125,5862.02099609375,3681.71923828125,3089.423828125,3275.68994140625],\"colorscale\":[[0.0,\"rgb(0,0,131)\"],[0.2,\"rgb(0,60,170)\"],[0.4,\"rgb(5,255,255)\"],[0.6,\"rgb(255,255,0)\"],[0.8,\"rgb(250,0,0)\"],[1.0,\"rgb(128,0,0)\"]],\"showscale\":true},\"type\":\"parcoords\"}],                        {\"template\":{\"data\":{\"histogram2dcontour\":[{\"type\":\"histogram2dcontour\",\"colorbar\":{\"outlinewidth\":0,\"ticks\":\"\"},\"colorscale\":[[0.0,\"#0d0887\"],[0.1111111111111111,\"#46039f\"],[0.2222222222222222,\"#7201a8\"],[0.3333333333333333,\"#9c179e\"],[0.4444444444444444,\"#bd3786\"],[0.5555555555555556,\"#d8576b\"],[0.6666666666666666,\"#ed7953\"],[0.7777777777777778,\"#fb9f3a\"],[0.8888888888888888,\"#fdca26\"],[1.0,\"#f0f921\"]]}],\"choropleth\":[{\"type\":\"choropleth\",\"colorbar\":{\"outlinewidth\":0,\"ticks\":\"\"}}],\"histogram2d\":[{\"type\":\"histogram2d\",\"colorbar\":{\"outlinewidth\":0,\"ticks\":\"\"},\"colorscale\":[[0.0,\"#0d0887\"],[0.1111111111111111,\"#46039f\"],[0.2222222222222222,\"#7201a8\"],[0.3333333333333333,\"#9c179e\"],[0.4444444444444444,\"#bd3786\"],[0.5555555555555556,\"#d8576b\"],[0.6666666666666666,\"#ed7953\"],[0.7777777777777778,\"#fb9f3a\"],[0.8888888888888888,\"#fdca26\"],[1.0,\"#f0f921\"]]}],\"heatmap\":[{\"type\":\"heatmap\",\"colorbar\":{\"outlinewidth\":0,\"ticks\":\"\"},\"colorscale\":[[0.0,\"#0d0887\"],[0.1111111111111111,\"#46039f\"],[0.2222222222222222,\"#7201a8\"],[0.3333333333333333,\"#9c179e\"],[0.4444444444444444,\"#bd3786\"],[0.5555555555555556,\"#d8576b\"],[0.6666666666666666,\"#ed7953\"],[0.7777777777777778,\"#fb9f3a\"],[0.8888888888888888,\"#fdca26\"],[1.0,\"#f0f921\"]]}],\"heatmapgl\":[{\"type\":\"heatmapgl\",\"colorbar\":{\"outlinewidth\":0,\"ticks\":\"\"},\"colorscale\":[[0.0,\"#0d0887\"],[0.1111111111111111,\"#46039f\"],[0.2222222222222222,\"#7201a8\"],[0.3333333333333333,\"#9c179e\"],[0.4444444444444444,\"#bd3786\"],[0.5555555555555556,\"#d8576b\"],[0.6666666666666666,\"#ed7953\"],[0.7777777777777778,\"#fb9f3a\"],[0.8888888888888888,\"#fdca26\"],[1.0,\"#f0f921\"]]}],\"contourcarpet\":[{\"type\":\"contourcarpet\",\"colorbar\":{\"outlinewidth\":0,\"ticks\":\"\"}}],\"contour\":[{\"type\":\"contour\",\"colorbar\":{\"outlinewidth\":0,\"ticks\":\"\"},\"colorscale\":[[0.0,\"#0d0887\"],[0.1111111111111111,\"#46039f\"],[0.2222222222222222,\"#7201a8\"],[0.3333333333333333,\"#9c179e\"],[0.4444444444444444,\"#bd3786\"],[0.5555555555555556,\"#d8576b\"],[0.6666666666666666,\"#ed7953\"],[0.7777777777777778,\"#fb9f3a\"],[0.8888888888888888,\"#fdca26\"],[1.0,\"#f0f921\"]]}],\"surface\":[{\"type\":\"surface\",\"colorbar\":{\"outlinewidth\":0,\"ticks\":\"\"},\"colorscale\":[[0.0,\"#0d0887\"],[0.1111111111111111,\"#46039f\"],[0.2222222222222222,\"#7201a8\"],[0.3333333333333333,\"#9c179e\"],[0.4444444444444444,\"#bd3786\"],[0.5555555555555556,\"#d8576b\"],[0.6666666666666666,\"#ed7953\"],[0.7777777777777778,\"#fb9f3a\"],[0.8888888888888888,\"#fdca26\"],[1.0,\"#f0f921\"]]}],\"mesh3d\":[{\"type\":\"mesh3d\",\"colorbar\":{\"outlinewidth\":0,\"ticks\":\"\"}}],\"scatter\":[{\"fillpattern\":{\"fillmode\":\"overlay\",\"size\":10,\"solidity\":0.2},\"type\":\"scatter\"}],\"parcoords\":[{\"type\":\"parcoords\",\"line\":{\"colorbar\":{\"outlinewidth\":0,\"ticks\":\"\"}}}],\"scatterpolargl\":[{\"type\":\"scatterpolargl\",\"marker\":{\"colorbar\":{\"outlinewidth\":0,\"ticks\":\"\"}}}],\"bar\":[{\"error_x\":{\"color\":\"#2a3f5f\"},\"error_y\":{\"color\":\"#2a3f5f\"},\"marker\":{\"line\":{\"color\":\"#E5ECF6\",\"width\":0.5},\"pattern\":{\"fillmode\":\"overlay\",\"size\":10,\"solidity\":0.2}},\"type\":\"bar\"}],\"scattergeo\":[{\"type\":\"scattergeo\",\"marker\":{\"colorbar\":{\"outlinewidth\":0,\"ticks\":\"\"}}}],\"scatterpolar\":[{\"type\":\"scatterpolar\",\"marker\":{\"colorbar\":{\"outlinewidth\":0,\"ticks\":\"\"}}}],\"histogram\":[{\"marker\":{\"pattern\":{\"fillmode\":\"overlay\",\"size\":10,\"solidity\":0.2}},\"type\":\"histogram\"}],\"scattergl\":[{\"type\":\"scattergl\",\"marker\":{\"colorbar\":{\"outlinewidth\":0,\"ticks\":\"\"}}}],\"scatter3d\":[{\"type\":\"scatter3d\",\"line\":{\"colorbar\":{\"outlinewidth\":0,\"ticks\":\"\"}},\"marker\":{\"colorbar\":{\"outlinewidth\":0,\"ticks\":\"\"}}}],\"scattermapbox\":[{\"type\":\"scattermapbox\",\"marker\":{\"colorbar\":{\"outlinewidth\":0,\"ticks\":\"\"}}}],\"scatterternary\":[{\"type\":\"scatterternary\",\"marker\":{\"colorbar\":{\"outlinewidth\":0,\"ticks\":\"\"}}}],\"scattercarpet\":[{\"type\":\"scattercarpet\",\"marker\":{\"colorbar\":{\"outlinewidth\":0,\"ticks\":\"\"}}}],\"carpet\":[{\"aaxis\":{\"endlinecolor\":\"#2a3f5f\",\"gridcolor\":\"white\",\"linecolor\":\"white\",\"minorgridcolor\":\"white\",\"startlinecolor\":\"#2a3f5f\"},\"baxis\":{\"endlinecolor\":\"#2a3f5f\",\"gridcolor\":\"white\",\"linecolor\":\"white\",\"minorgridcolor\":\"white\",\"startlinecolor\":\"#2a3f5f\"},\"type\":\"carpet\"}],\"table\":[{\"cells\":{\"fill\":{\"color\":\"#EBF0F8\"},\"line\":{\"color\":\"white\"}},\"header\":{\"fill\":{\"color\":\"#C8D4E3\"},\"line\":{\"color\":\"white\"}},\"type\":\"table\"}],\"barpolar\":[{\"marker\":{\"line\":{\"color\":\"#E5ECF6\",\"width\":0.5},\"pattern\":{\"fillmode\":\"overlay\",\"size\":10,\"solidity\":0.2}},\"type\":\"barpolar\"}],\"pie\":[{\"automargin\":true,\"type\":\"pie\"}]},\"layout\":{\"autotypenumbers\":\"strict\",\"colorway\":[\"#636efa\",\"#EF553B\",\"#00cc96\",\"#ab63fa\",\"#FFA15A\",\"#19d3f3\",\"#FF6692\",\"#B6E880\",\"#FF97FF\",\"#FECB52\"],\"font\":{\"color\":\"#2a3f5f\"},\"hovermode\":\"closest\",\"hoverlabel\":{\"align\":\"left\"},\"paper_bgcolor\":\"white\",\"plot_bgcolor\":\"#E5ECF6\",\"polar\":{\"bgcolor\":\"#E5ECF6\",\"angularaxis\":{\"gridcolor\":\"white\",\"linecolor\":\"white\",\"ticks\":\"\"},\"radialaxis\":{\"gridcolor\":\"white\",\"linecolor\":\"white\",\"ticks\":\"\"}},\"ternary\":{\"bgcolor\":\"#E5ECF6\",\"aaxis\":{\"gridcolor\":\"white\",\"linecolor\":\"white\",\"ticks\":\"\"},\"baxis\":{\"gridcolor\":\"white\",\"linecolor\":\"white\",\"ticks\":\"\"},\"caxis\":{\"gridcolor\":\"white\",\"linecolor\":\"white\",\"ticks\":\"\"}},\"coloraxis\":{\"colorbar\":{\"outlinewidth\":0,\"ticks\":\"\"}},\"colorscale\":{\"sequential\":[[0.0,\"#0d0887\"],[0.1111111111111111,\"#46039f\"],[0.2222222222222222,\"#7201a8\"],[0.3333333333333333,\"#9c179e\"],[0.4444444444444444,\"#bd3786\"],[0.5555555555555556,\"#d8576b\"],[0.6666666666666666,\"#ed7953\"],[0.7777777777777778,\"#fb9f3a\"],[0.8888888888888888,\"#fdca26\"],[1.0,\"#f0f921\"]],\"sequentialminus\":[[0.0,\"#0d0887\"],[0.1111111111111111,\"#46039f\"],[0.2222222222222222,\"#7201a8\"],[0.3333333333333333,\"#9c179e\"],[0.4444444444444444,\"#bd3786\"],[0.5555555555555556,\"#d8576b\"],[0.6666666666666666,\"#ed7953\"],[0.7777777777777778,\"#fb9f3a\"],[0.8888888888888888,\"#fdca26\"],[1.0,\"#f0f921\"]],\"diverging\":[[0,\"#8e0152\"],[0.1,\"#c51b7d\"],[0.2,\"#de77ae\"],[0.3,\"#f1b6da\"],[0.4,\"#fde0ef\"],[0.5,\"#f7f7f7\"],[0.6,\"#e6f5d0\"],[0.7,\"#b8e186\"],[0.8,\"#7fbc41\"],[0.9,\"#4d9221\"],[1,\"#276419\"]]},\"xaxis\":{\"gridcolor\":\"white\",\"linecolor\":\"white\",\"ticks\":\"\",\"title\":{\"standoff\":15},\"zerolinecolor\":\"white\",\"automargin\":true,\"zerolinewidth\":2},\"yaxis\":{\"gridcolor\":\"white\",\"linecolor\":\"white\",\"ticks\":\"\",\"title\":{\"standoff\":15},\"zerolinecolor\":\"white\",\"automargin\":true,\"zerolinewidth\":2},\"scene\":{\"xaxis\":{\"backgroundcolor\":\"#E5ECF6\",\"gridcolor\":\"white\",\"linecolor\":\"white\",\"showbackground\":true,\"ticks\":\"\",\"zerolinecolor\":\"white\",\"gridwidth\":2},\"yaxis\":{\"backgroundcolor\":\"#E5ECF6\",\"gridcolor\":\"white\",\"linecolor\":\"white\",\"showbackground\":true,\"ticks\":\"\",\"zerolinecolor\":\"white\",\"gridwidth\":2},\"zaxis\":{\"backgroundcolor\":\"#E5ECF6\",\"gridcolor\":\"white\",\"linecolor\":\"white\",\"showbackground\":true,\"ticks\":\"\",\"zerolinecolor\":\"white\",\"gridwidth\":2}},\"shapedefaults\":{\"line\":{\"color\":\"#2a3f5f\"}},\"annotationdefaults\":{\"arrowcolor\":\"#2a3f5f\",\"arrowhead\":0,\"arrowwidth\":1},\"geo\":{\"bgcolor\":\"white\",\"landcolor\":\"#E5ECF6\",\"subunitcolor\":\"white\",\"showland\":true,\"showlakes\":true,\"lakecolor\":\"white\"},\"title\":{\"x\":0.05},\"mapbox\":{\"style\":\"light\"},\"margin\":{\"b\":0,\"l\":0,\"r\":0,\"t\":30}}}},                        {\"responsive\": true}                    ).then(function(){\n",
       "                            \n",
       "var gd = document.getElementById('521e2757-45cb-4d5d-af9f-354b555a54be');\n",
       "var x = new MutationObserver(function (mutations, observer) {{\n",
       "        var display = window.getComputedStyle(gd).display;\n",
       "        if (!display || display === 'none') {{\n",
       "            console.log([gd, 'removed!']);\n",
       "            Plotly.purge(gd);\n",
       "            observer.disconnect();\n",
       "        }}\n",
       "}});\n",
       "\n",
       "// Listen for the removal of the full notebook cells\n",
       "var notebookContainer = gd.closest('#notebook-container');\n",
       "if (notebookContainer) {{\n",
       "    x.observe(notebookContainer, {childList: true});\n",
       "}}\n",
       "\n",
       "// Listen for the clearing of the current output cell\n",
       "var outputEl = gd.closest('.output');\n",
       "if (outputEl) {{\n",
       "    x.observe(outputEl, {childList: true});\n",
       "}}\n",
       "\n",
       "                        })                };                });            </script>        </div>"
      ]
     },
     "metadata": {},
     "output_type": "display_data"
    }
   ],
   "source": [
    "#| fig-cap: Parallel coordinates plots\n",
    "spot_tuner.parallel_plot()"
   ]
  },
  {
   "cell_type": "markdown",
   "id": "0ca95619",
   "metadata": {},
   "source": [
    "### Cross Validation With Lightning\n",
    "\n",
    "* The `KFold` class from `sklearn.model_selection` is used to generate the folds for cross-validation.\n",
    "* These mechanism is used to generate the folds for the final evaluation of the model.\n",
    "* The `CrossValidationDataModule` class [[SOURCE]](https://github.com/sequential-parameter-optimization/spotPython/blob/main/src/spotPython/data/lightcrossvalidationdatamodule.py) is used to generate the folds for the hyperparameter tuning process.\n",
    "* It is called from the `cv_model` function [[SOURCE]](https://github.com/sequential-parameter-optimization/spotPython/blob/main/src/spotPython/light/cvmodel.py).\n"
   ]
  },
  {
   "cell_type": "code",
   "execution_count": 22,
   "id": "cc5d2e9a",
   "metadata": {},
   "outputs": [
    {
     "name": "stderr",
     "output_type": "stream",
     "text": [
      "/Users/bartz/miniforge3/envs/spotCondaEnv/lib/python3.11/site-packages/lightning/pytorch/utilities/parsing.py:198: Attribute 'act_fn' is an instance of `nn.Module` and is already saved during checkpointing. It is recommended to ignore them using `self.save_hyperparameters(ignore=['act_fn'])`.\n",
      "GPU available: True (mps), used: True\n"
     ]
    },
    {
     "name": "stderr",
     "output_type": "stream",
     "text": [
      "TPU available: False, using: 0 TPU cores\n"
     ]
    },
    {
     "name": "stderr",
     "output_type": "stream",
     "text": [
      "IPU available: False, using: 0 IPUs\n"
     ]
    },
    {
     "name": "stderr",
     "output_type": "stream",
     "text": [
      "HPU available: False, using: 0 HPUs\n"
     ]
    },
    {
     "name": "stderr",
     "output_type": "stream",
     "text": [
      "\n",
      "  | Name           | Type    | Params | In sizes | Out sizes           \n",
      "-----------------------------------------------------------------------------\n",
      "0 | rnn_layer      | RNN     | 17.9 K | [4, 10]  | [[4, 128], [1, 128]]\n",
      "1 | fc             | Linear  | 16.5 K | [4, 128] | [4, 128]            \n",
      "2 | output_layer   | Linear  | 129    | [4, 128] | [4, 1]              \n",
      "3 | dropout1       | Dropout | 0      | [4, 10]  | [4, 10]             \n",
      "4 | dropout2       | Dropout | 0      | [4, 128] | [4, 128]            \n",
      "5 | dropout3       | Dropout | 0      | [4, 128] | [4, 128]            \n",
      "6 | activation_fct | ReLU    | 0      | [4, 128] | [4, 128]            \n",
      "-----------------------------------------------------------------------------\n",
      "34.6 K    Trainable params\n",
      "0         Non-trainable params\n",
      "34.6 K    Total params\n",
      "0.138     Total estimated model params size (MB)\n"
     ]
    },
    {
     "name": "stdout",
     "output_type": "stream",
     "text": [
      "k: 0\n",
      "Train Dataset Size: 221\n",
      "Val Dataset Size: 221\n"
     ]
    },
    {
     "name": "stderr",
     "output_type": "stream",
     "text": [
      "/Users/bartz/miniforge3/envs/spotCondaEnv/lib/python3.11/site-packages/lightning/pytorch/trainer/connectors/data_connector.py:441: The 'val_dataloader' does not have many workers which may be a bottleneck. Consider increasing the value of the `num_workers` argument` to `num_workers=23` in the `DataLoader` to improve performance.\n",
      "/Users/bartz/miniforge3/envs/spotCondaEnv/lib/python3.11/site-packages/lightning/pytorch/trainer/connectors/data_connector.py:441: The 'train_dataloader' does not have many workers which may be a bottleneck. Consider increasing the value of the `num_workers` argument` to `num_workers=23` in the `DataLoader` to improve performance.\n"
     ]
    },
    {
     "data": {
      "text/html": [
       "<pre style=\"white-space:pre;overflow-x:auto;line-height:normal;font-family:Menlo,'DejaVu Sans Mono',consolas,'Courier New',monospace\">┏━━━━━━━━━━━━━━━━━━━━━━━━━━━┳━━━━━━━━━━━━━━━━━━━━━━━━━━━┓\n",
       "┃<span style=\"font-weight: bold\">      Validate metric      </span>┃<span style=\"font-weight: bold\">       DataLoader 0        </span>┃\n",
       "┡━━━━━━━━━━━━━━━━━━━━━━━━━━━╇━━━━━━━━━━━━━━━━━━━━━━━━━━━┩\n",
       "│<span style=\"color: #008080; text-decoration-color: #008080\">         hp_metric         </span>│<span style=\"color: #800080; text-decoration-color: #800080\">     3405.75830078125      </span>│\n",
       "│<span style=\"color: #008080; text-decoration-color: #008080\">         val_loss          </span>│<span style=\"color: #800080; text-decoration-color: #800080\">     3405.75830078125      </span>│\n",
       "└───────────────────────────┴───────────────────────────┘\n",
       "</pre>\n"
      ],
      "text/plain": [
       "┏━━━━━━━━━━━━━━━━━━━━━━━━━━━┳━━━━━━━━━━━━━━━━━━━━━━━━━━━┓\n",
       "┃\u001b[1m \u001b[0m\u001b[1m     Validate metric     \u001b[0m\u001b[1m \u001b[0m┃\u001b[1m \u001b[0m\u001b[1m      DataLoader 0       \u001b[0m\u001b[1m \u001b[0m┃\n",
       "┡━━━━━━━━━━━━━━━━━━━━━━━━━━━╇━━━━━━━━━━━━━━━━━━━━━━━━━━━┩\n",
       "│\u001b[36m \u001b[0m\u001b[36m        hp_metric        \u001b[0m\u001b[36m \u001b[0m│\u001b[35m \u001b[0m\u001b[35m    3405.75830078125     \u001b[0m\u001b[35m \u001b[0m│\n",
       "│\u001b[36m \u001b[0m\u001b[36m        val_loss         \u001b[0m\u001b[36m \u001b[0m│\u001b[35m \u001b[0m\u001b[35m    3405.75830078125     \u001b[0m\u001b[35m \u001b[0m│\n",
       "└───────────────────────────┴───────────────────────────┘\n"
      ]
     },
     "metadata": {},
     "output_type": "display_data"
    },
    {
     "name": "stderr",
     "output_type": "stream",
     "text": [
      "GPU available: True (mps), used: True\n"
     ]
    },
    {
     "name": "stderr",
     "output_type": "stream",
     "text": [
      "TPU available: False, using: 0 TPU cores\n"
     ]
    },
    {
     "name": "stderr",
     "output_type": "stream",
     "text": [
      "IPU available: False, using: 0 IPUs\n"
     ]
    },
    {
     "name": "stderr",
     "output_type": "stream",
     "text": [
      "HPU available: False, using: 0 HPUs\n"
     ]
    },
    {
     "name": "stderr",
     "output_type": "stream",
     "text": [
      "/Users/bartz/miniforge3/envs/spotCondaEnv/lib/python3.11/site-packages/lightning/pytorch/callbacks/model_checkpoint.py:639: Checkpoint directory runs/lightning_logs/20240111162303553364_128_512_4_ReLU_Adamax_0.2116_0.9337_16_Default_CV/checkpoints exists and is not empty.\n",
      "\n",
      "  | Name           | Type    | Params | In sizes | Out sizes           \n",
      "-----------------------------------------------------------------------------\n",
      "0 | rnn_layer      | RNN     | 17.9 K | [4, 10]  | [[4, 128], [1, 128]]\n",
      "1 | fc             | Linear  | 16.5 K | [4, 128] | [4, 128]            \n",
      "2 | output_layer   | Linear  | 129    | [4, 128] | [4, 1]              \n",
      "3 | dropout1       | Dropout | 0      | [4, 10]  | [4, 10]             \n",
      "4 | dropout2       | Dropout | 0      | [4, 128] | [4, 128]            \n",
      "5 | dropout3       | Dropout | 0      | [4, 128] | [4, 128]            \n",
      "6 | activation_fct | ReLU    | 0      | [4, 128] | [4, 128]            \n",
      "-----------------------------------------------------------------------------\n",
      "34.6 K    Trainable params\n",
      "0         Non-trainable params\n",
      "34.6 K    Total params\n",
      "0.138     Total estimated model params size (MB)\n"
     ]
    },
    {
     "name": "stdout",
     "output_type": "stream",
     "text": [
      "train_model result: {'val_loss': 3405.75830078125, 'hp_metric': 3405.75830078125}\n",
      "k: 1\n",
      "Train Dataset Size: 221\n",
      "Val Dataset Size: 221\n"
     ]
    },
    {
     "data": {
      "text/html": [
       "<pre style=\"white-space:pre;overflow-x:auto;line-height:normal;font-family:Menlo,'DejaVu Sans Mono',consolas,'Courier New',monospace\">┏━━━━━━━━━━━━━━━━━━━━━━━━━━━┳━━━━━━━━━━━━━━━━━━━━━━━━━━━┓\n",
       "┃<span style=\"font-weight: bold\">      Validate metric      </span>┃<span style=\"font-weight: bold\">       DataLoader 0        </span>┃\n",
       "┡━━━━━━━━━━━━━━━━━━━━━━━━━━━╇━━━━━━━━━━━━━━━━━━━━━━━━━━━┩\n",
       "│<span style=\"color: #008080; text-decoration-color: #008080\">         hp_metric         </span>│<span style=\"color: #800080; text-decoration-color: #800080\">     3102.15576171875      </span>│\n",
       "│<span style=\"color: #008080; text-decoration-color: #008080\">         val_loss          </span>│<span style=\"color: #800080; text-decoration-color: #800080\">     3102.15576171875      </span>│\n",
       "└───────────────────────────┴───────────────────────────┘\n",
       "</pre>\n"
      ],
      "text/plain": [
       "┏━━━━━━━━━━━━━━━━━━━━━━━━━━━┳━━━━━━━━━━━━━━━━━━━━━━━━━━━┓\n",
       "┃\u001b[1m \u001b[0m\u001b[1m     Validate metric     \u001b[0m\u001b[1m \u001b[0m┃\u001b[1m \u001b[0m\u001b[1m      DataLoader 0       \u001b[0m\u001b[1m \u001b[0m┃\n",
       "┡━━━━━━━━━━━━━━━━━━━━━━━━━━━╇━━━━━━━━━━━━━━━━━━━━━━━━━━━┩\n",
       "│\u001b[36m \u001b[0m\u001b[36m        hp_metric        \u001b[0m\u001b[36m \u001b[0m│\u001b[35m \u001b[0m\u001b[35m    3102.15576171875     \u001b[0m\u001b[35m \u001b[0m│\n",
       "│\u001b[36m \u001b[0m\u001b[36m        val_loss         \u001b[0m\u001b[36m \u001b[0m│\u001b[35m \u001b[0m\u001b[35m    3102.15576171875     \u001b[0m\u001b[35m \u001b[0m│\n",
       "└───────────────────────────┴───────────────────────────┘\n"
      ]
     },
     "metadata": {},
     "output_type": "display_data"
    },
    {
     "name": "stdout",
     "output_type": "stream",
     "text": [
      "train_model result: {'val_loss': 3102.15576171875, 'hp_metric': 3102.15576171875}\n"
     ]
    },
    {
     "data": {
      "text/plain": [
       "3253.95703125"
      ]
     },
     "execution_count": 22,
     "metadata": {},
     "output_type": "execute_result"
    }
   ],
   "source": [
    "from spotPython.light.cvmodel import cv_model\n",
    "set_control_key_value(control_dict=fun_control,\n",
    "                        key=\"k_folds\",\n",
    "                        value=2,\n",
    "                        replace=True)\n",
    "set_control_key_value(control_dict=fun_control,\n",
    "                        key=\"test_size\",\n",
    "                        value=0.1,\n",
    "                        replace=True)\n",
    "cv_model(config, fun_control)"
   ]
  },
  {
   "cell_type": "markdown",
   "id": "71509050",
   "metadata": {},
   "source": [
    "### Plot all Combinations of Hyperparameters\n",
    "\n",
    "* Warning: this may take a while.\n"
   ]
  },
  {
   "cell_type": "code",
   "execution_count": 23,
   "id": "9c92de5f",
   "metadata": {},
   "outputs": [],
   "source": [
    "PLOT_ALL = False\n",
    "if PLOT_ALL:\n",
    "    n = spot_tuner.k\n",
    "    for i in range(n-1):\n",
    "        for j in range(i+1, n):\n",
    "            spot_tuner.plot_contour(i=i, j=j, min_z=min_z, max_z = max_z)"
   ]
  },
  {
   "cell_type": "markdown",
   "id": "7d47dd9c",
   "metadata": {},
   "source": [
    "### Visualizing the Activation Distribution (Under Development)\n",
    "\n",
    "::: {.callout-note}\n",
    "### Reference:\n",
    "\n",
    "* The following code is based on [[PyTorch Lightning TUTORIAL 2: ACTIVATION FUNCTIONS]](https://lightning.ai/docs/pytorch/stable/notebooks/course_UvA-DL/02-activation-functions.html), Author: Phillip Lippe, License: [[CC BY-SA]](https://creativecommons.org/licenses/by-sa/3.0/), Generated: 2023-03-15T09:52:39.179933.\n",
    "\n",
    ":::\n",
    "\n",
    "After we have trained the models, we can look at the actual activation values that find inside the model. For instance, how many neurons are set to zero in ReLU? Where do we find most values in Tanh? To answer these questions, we can write a simple function which takes a trained model, applies it to a batch of images, and plots the histogram of the activations inside the network:\n"
   ]
  },
  {
   "cell_type": "code",
   "execution_count": 24,
   "id": "9ad8811f",
   "metadata": {},
   "outputs": [],
   "source": [
    "from spotPython.torch.activation import Sigmoid, Tanh, ReLU, LeakyReLU, ELU, Swish\n",
    "act_fn_by_name = {\"sigmoid\": Sigmoid, \"tanh\": Tanh, \"relu\": ReLU, \"leakyrelu\": LeakyReLU, \"elu\": ELU, \"swish\": Swish}"
   ]
  },
  {
   "cell_type": "code",
   "execution_count": 25,
   "id": "29207649",
   "metadata": {},
   "outputs": [
    {
     "data": {
      "text/plain": [
       "RNNLightRegression(\n",
       "  (rnn_layer): RNN(64, 128, batch_first=True)\n",
       "  (fc): Linear(in_features=128, out_features=128, bias=True)\n",
       "  (output_layer): Linear(in_features=128, out_features=11, bias=True)\n",
       "  (dropout1): Dropout(p=0.21164199382623602, inplace=False)\n",
       "  (dropout2): Dropout(p=0.0, inplace=False)\n",
       "  (dropout3): Dropout(p=0.0, inplace=False)\n",
       "  (activation_fct): ReLU()\n",
       ")"
      ]
     },
     "execution_count": 25,
     "metadata": {},
     "output_type": "execute_result"
    }
   ],
   "source": [
    "from spotPython.hyperparameters.values import get_one_config_from_X\n",
    "X = spot_tuner.to_all_dim(spot_tuner.min_X.reshape(1,-1))\n",
    "config = get_one_config_from_X(X, fun_control)\n",
    "model = fun_control[\"core_model\"](**config, _L_in=64, _L_out=11)\n",
    "model"
   ]
  },
  {
   "cell_type": "code",
   "execution_count": 26,
   "id": "64057f7b",
   "metadata": {},
   "outputs": [],
   "source": [
    "# from spotPython.utils.eda import visualize_activations\n",
    "# visualize_activations(model, color=f\"C{0}\")"
   ]
  }
 ],
 "metadata": {
  "kernelspec": {
   "display_name": "Python 3 (ipykernel)",
   "language": "python",
   "name": "python3"
  },
  "language_info": {
   "codemirror_mode": {
    "name": "ipython",
    "version": 3
   },
   "file_extension": ".py",
   "mimetype": "text/x-python",
   "name": "python",
   "nbconvert_exporter": "python",
   "pygments_lexer": "ipython3",
   "version": "3.11.7"
  }
 },
 "nbformat": 4,
 "nbformat_minor": 5
}
