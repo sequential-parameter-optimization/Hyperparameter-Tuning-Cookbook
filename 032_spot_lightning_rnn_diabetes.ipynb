{
  "cells": [
    {
      "cell_type": "raw",
      "metadata": {},
      "source": [
        "---\n",
        "execute:\n",
        "  cache: false\n",
        "  eval: true\n",
        "  echo: true\n",
        "  warning: false\n",
        "title: 'HPT PyTorch Lightning: Diabetes Using a Recurrent Neural Network'\n",
        "---"
      ],
      "id": "2f51d364"
    },
    {
      "cell_type": "markdown",
      "metadata": {},
      "source": [
        "In this tutorial, we will show how `spotPython` can be integrated into the `PyTorch` Lightning\n",
        "training workflow for a regression task.\n",
        "\n",
        "This chapter describes the hyperparameter tuning of a `PyTorch Lightning` network on the Diabetes data set. This is a PyTorch Dataset for regression. A toy data set from scikit-learn. Ten baseline variables, age, sex, body mass index, average blood pressure, and six blood serum measurements were obtained for each of n = 442 diabetes patients,  as well as the response of interest, a quantitative measure of disease progression one year after baseline.\n",
        "\n",
        "\n",
        "## Step 1: Setup {#sec-setup-32}\n",
        "\n",
        "* Before we consider the detailed experimental setup, we select the parameters that affect run time, initial design size, etc. \n",
        "* The parameter `MAX_TIME` specifies the maximum run time in seconds.\n",
        "* The parameter `INIT_SIZE` specifies the initial design size.\n",
        "* The parameter `WORKERS` specifies the number of workers. \n",
        "* The prefix `PREFIX` is used for the experiment name and the name of the log file.\n",
        "* The parameter `DEVICE` specifies the device to use for training.\n"
      ],
      "id": "699da0dc"
    },
    {
      "cell_type": "code",
      "metadata": {},
      "source": [
        "from spotPython.utils.device import getDevice\n",
        "from math import inf\n",
        "MAX_TIME = 1\n",
        "FUN_EVALS = inf\n",
        "INIT_SIZE = 5\n",
        "WORKERS = 0\n",
        "PREFIX=\"032\"\n",
        "DEVICE = getDevice()\n",
        "TORCH_METRIC = \"mean_squared_error\""
      ],
      "id": "6759abff",
      "execution_count": null,
      "outputs": []
    },
    {
      "cell_type": "markdown",
      "metadata": {},
      "source": [
        "::: {.callout-caution}\n",
        "### Caution: Run time and initial design size should be increased for real experiments\n",
        "\n",
        "* `MAX_TIME` is set to one minute for demonstration purposes. For real experiments, this should be increased to at least 1 hour.\n",
        "* `FUN_EVALS` is set to infinity.\n",
        "* `INIT_SIZE` is set to 5 for demonstration purposes. For real experiments, this should be increased to at least 10.\n",
        "* `WORKERS` is set to 0 for demonstration purposes. For real experiments, this should be increased. See the warnings that are printed when the number of workers is set to 0.\n",
        "* `PREFIX` is set to \"032\". This is used for the experiment name and the name of the log file.\n",
        "* `DEVICE` is set to the device that is returned by `getDevice()`, e.g., `gpu`.\n",
        ":::\n",
        "\n",
        "::: {.callout-note}\n",
        "### Note: Device selection\n",
        "\n",
        "* Although there are no .cuda() or .to(device) calls required, because Lightning does these for you, see \n",
        "[LIGHTNINGMODULE](https://lightning.ai/docs/pytorch/stable/common/lightning_module.html), we would like to know which device is used. Threrefore, we imitate the LightningModule behaviour which selects the highest device. \n",
        "* The method `spotPython.utils.device.getDevice()` returns the device that is used by Lightning.\n",
        ":::\n",
        "\n",
        "\n",
        "## Step 2: Initialization of the `fun_control` Dictionary\n",
        "\n",
        "`spotPython` uses a Python dictionary for storing the information required for the hyperparameter tuning process.\n"
      ],
      "id": "1db05331"
    },
    {
      "cell_type": "code",
      "metadata": {},
      "source": [
        "from spotPython.utils.init import fun_control_init\n",
        "import numpy as np\n",
        "\n",
        "fun_control = fun_control_init(\n",
        "    _L_in=10,\n",
        "    _L_out=1,\n",
        "    _torchmetric=TORCH_METRIC,\n",
        "    PREFIX=PREFIX,\n",
        "    TENSORBOARD_CLEAN=True,\n",
        "    device=DEVICE,\n",
        "    enable_progress_bar=False,\n",
        "    fun_evals=FUN_EVALS,\n",
        "    log_level=10,\n",
        "    max_time=MAX_TIME,\n",
        "    num_workers=WORKERS,\n",
        "    show_progress=True,\n",
        "    test_size=0.1,\n",
        "    tolerance_x=np.sqrt(np.spacing(1)),\n",
        "    verbosity=1\n",
        "    )"
      ],
      "id": "dfe48661",
      "execution_count": null,
      "outputs": []
    },
    {
      "cell_type": "markdown",
      "metadata": {},
      "source": [
        "## Step 3: Loading the Diabetes Data Set\n"
      ],
      "id": "2c3d184d"
    },
    {
      "cell_type": "code",
      "metadata": {},
      "source": [
        "from spotPython.hyperparameters.values import set_control_key_value\n",
        "from spotPython.data.diabetes import Diabetes\n",
        "dataset = Diabetes()\n",
        "set_control_key_value(control_dict=fun_control,\n",
        "                        key=\"data_set\",\n",
        "                        value=dataset,\n",
        "                        replace=True)\n",
        "print(len(dataset))"
      ],
      "id": "8c97fba0",
      "execution_count": null,
      "outputs": []
    },
    {
      "cell_type": "markdown",
      "metadata": {},
      "source": [
        "::: {.callout-note}\n",
        "### Note: Data Set and Data Loader\n",
        "\n",
        "* As shown below, a DataLoader from `torch.utils.data` can be used to check the data.\n"
      ],
      "id": "0bd89d57"
    },
    {
      "cell_type": "code",
      "metadata": {},
      "source": [
        "# Set batch size for DataLoader\n",
        "batch_size = 5\n",
        "# Create DataLoader\n",
        "from torch.utils.data import DataLoader\n",
        "dataloader = DataLoader(dataset, batch_size=batch_size, shuffle=False)\n",
        "\n",
        "# Iterate over the data in the DataLoader\n",
        "for batch in dataloader:\n",
        "    inputs, targets = batch\n",
        "    print(f\"Batch Size: {inputs.size(0)}\")\n",
        "    print(f\"Inputs Shape: {inputs.shape}\")\n",
        "    print(f\"Targets Shape: {targets.shape}\")\n",
        "    print(\"---------------\")\n",
        "    print(f\"Inputs: {inputs}\")\n",
        "    print(f\"Targets: {targets}\")\n",
        "    break"
      ],
      "id": "e61cc582",
      "execution_count": null,
      "outputs": []
    },
    {
      "cell_type": "markdown",
      "metadata": {},
      "source": [
        ":::\n",
        "## Step 4: Preprocessing {#sec-preprocessing-32}\n",
        "\n",
        "Preprocessing is handled by `Lightning` and `PyTorch`. It is described in the [LIGHTNINGDATAMODULE](https://lightning.ai/docs/pytorch/stable/data/datamodule.html) documentation. Here you can find information about the `transforms` methods.\n",
        "\n",
        "## Step 5: Select the Core Model (`algorithm`) and `core_model_hyper_dict` {#sec-selection-of-the-algorithm-32}\n",
        "\n",
        "`spotPython` includes the `NetLightRegression` class [[SOURCE]](https://github.com/sequential-parameter-optimization/spotPython/blob/main/src/spotPython/light/netlightregression.py) for configurable neural networks. \n",
        "The class is imported here. It inherits from the class `Lightning.LightningModule`, which is the base class for all models in `Lightning`. `Lightning.LightningModule` is a subclass of `torch.nn.Module` and provides additional functionality for the training and testing of neural networks. The class `Lightning.LightningModule` is described in the [Lightning documentation](https://lightning.ai/docs/pytorch/stable/common/lightning_module.html).\n",
        "\n",
        "* Here we simply add the NN Model to the fun_control dictionary by calling the function `add_core_model_to_fun_control`:\n"
      ],
      "id": "1c9c3ede"
    },
    {
      "cell_type": "code",
      "metadata": {},
      "source": [
        "from spotPython.light.regression.rnnlightregression import RNNLightRegression\n",
        "from spotPython.hyperdict.light_hyper_dict import LightHyperDict\n",
        "from spotPython.hyperparameters.values import add_core_model_to_fun_control\n",
        "add_core_model_to_fun_control(fun_control=fun_control,\n",
        "                              core_model=RNNLightRegression,\n",
        "                              hyper_dict=LightHyperDict)"
      ],
      "id": "bfa719eb",
      "execution_count": null,
      "outputs": []
    },
    {
      "cell_type": "markdown",
      "metadata": {},
      "source": [
        "The hyperparameters of the model are specified in the `core_model_hyper_dict` dictionary [[SOURCE]](https://github.com/sequential-parameter-optimization/spotPython/blob/main/src/spotPython/hyperdict/light_hyper_dict.json).\n",
        "\n",
        "\n",
        "::: {.callout-note}\n",
        "#### Note: User specified models and hyperparameter dictionaries\n",
        "\n",
        "* The user can specify a model and a hyperparameter dictionary in a subfolder, e.g., `userRNN` in the current working directory.\n",
        "* The model and the hyperparameter dictionary are imported with the following code:\n",
        "\n",
        "\n",
        "\n",
        "```{raw}\n",
        "from spotPython.hyperparameters.values import add_core_model_to_fun_control\n",
        "import sys\n",
        "sys.path.insert(0, './userRNN')\n",
        "import userrnn\n",
        "import user_hyper_dict\n",
        "add_core_model_to_fun_control(fun_control=fun_control,\n",
        "                              core_model=userrnn.RNNLightRegression,\n",
        "                              hyper_dict=user_hyper_dict.UserHyperDict)\n",
        "```\n",
        "\n",
        "\n",
        "* Example files can be found in the [userRNN](https://github.com/sequential-parameter-optimization/Hyperparameter-Tuning-Cookbook/tree/main/userRNN) folder.\n",
        "* These files can be modified by the user.\n",
        "* They can be used without re-compilation of the `spotPython` source code, if they are located in a subfolder of the current working directory.\n",
        "\n",
        ":::\n",
        "\n",
        "\n",
        "## Step 6: Modify `hyper_dict` Hyperparameters for the Selected Algorithm aka `core_model` {#sec-modification-of-hyperparameters-32}\n",
        "\n",
        " `spotPython` provides functions for modifying the hyperparameters, their bounds and factors as well as for activating and de-activating hyperparameters without re-compilation of the Python source code. \n",
        "\n",
        "::: {.callout-caution}\n",
        "### Caution: Small number of epochs for demonstration purposes\n",
        "\n",
        "* `epochs` and `patience` are set to small values for demonstration purposes. These values are too small for a real application.\n",
        "* More resonable values are, e.g.:\n",
        "  * `set_control_hyperparameter_value(fun_control, \"epochs\", [7, 9])` and\n",
        "  * `set_control_hyperparameter_value(fun_control, \"patience\", [2, 7])`\n",
        ":::\n"
      ],
      "id": "6d0d6bbe"
    },
    {
      "cell_type": "code",
      "metadata": {},
      "source": [
        "from spotPython.hyperparameters.values import set_control_hyperparameter_value\n",
        "\n",
        "set_control_hyperparameter_value(fun_control, \"l1\", [3, 8])\n",
        "set_control_hyperparameter_value(fun_control, \"epochs\", [7, 9])\n",
        "set_control_hyperparameter_value(fun_control, \"batch_size\", [2, 6])\n",
        "set_control_hyperparameter_value(fun_control, \"optimizer\", [\n",
        "                \"Adadelta\",\n",
        "                \"Adagrad\",\n",
        "                \"Adam\",\n",
        "                \"Adamax\"])\n",
        "set_control_hyperparameter_value(fun_control, \"dropout_prob\", [0.01, 0.25])\n",
        "set_control_hyperparameter_value(fun_control, \"lr_mult\", [0.5, 5.0])\n",
        "set_control_hyperparameter_value(fun_control, \"patience\", [3, 9])\n",
        "set_control_hyperparameter_value(fun_control, \"act_fn\",[\"ReLU\"] )\n",
        "set_control_hyperparameter_value(fun_control, \"initialization\",[\"Default\"] )"
      ],
      "id": "1fddf553",
      "execution_count": null,
      "outputs": []
    },
    {
      "cell_type": "markdown",
      "metadata": {},
      "source": [
        "Now, the dictionary `fun_control` contains all information needed for the hyperparameter tuning. Before the hyperparameter tuning is started, it is recommended to take a look at the experimental design. The method `gen_design_table` [[SOURCE]](https://github.com/sequential-parameter-optimization/spotPython/blob/main/src/spotPython/utils/eda.py) generates a design table as follows:\n"
      ],
      "id": "5db4c6dd"
    },
    {
      "cell_type": "code",
      "metadata": {
        "fig-label": "tbl-design-32"
      },
      "source": [
        "#| fig-cap: Experimental design for the hyperparameter tuning.\n",
        "from spotPython.utils.eda import gen_design_table\n",
        "print(gen_design_table(fun_control))"
      ],
      "id": "a6a254b0",
      "execution_count": null,
      "outputs": []
    },
    {
      "cell_type": "markdown",
      "metadata": {},
      "source": [
        "This allows to check if all information is available and if the information is correct.\n",
        "\n",
        "::: {.callout-note}\n",
        "### Note: Hyperparameters of the Tuned Model and the `fun_control` Dictionary\n",
        "The updated `fun_control` dictionary can be shown with the command `fun_control[\"core_model_hyper_dict\"]`.\n",
        ":::\n",
        "\n",
        "\n",
        "## Step 7: Data Splitting, the Objective (Loss) Function and the Metric\n",
        "\n",
        "### Evaluation  {#sec-selection-of-target-function-32}\n",
        "\n",
        "The evaluation procedure requires the specification of two elements:\n",
        "\n",
        "1. the way how the data is split into a train and a test set\n",
        "2. the loss function (and a metric).\n",
        "\n",
        "::: {.callout-caution}\n",
        "### Caution: Data Splitting in Lightning\n",
        "\n",
        "The data splitting is handled by `Lightning`.\n",
        "\n",
        ":::\n",
        "\n",
        "### Loss Function {#sec-loss-function-32}\n",
        "\n",
        "The loss function is specified in the configurable network class [[SOURCE]](https://github.com/sequential-parameter-optimization/spotPython/blob/main/src/spotPython/light/regression/netlightregression.py)\n",
        "We will use MSE.\n",
        "\n",
        "### Metric {#sec-metric-32}\n",
        "\n",
        "* Similar to the loss function, the metric is specified in the configurable network class [[SOURCE]](https://github.com/sequential-parameter-optimization/spotPython/blob/main/src/spotPython/light/regression/netlightregression.py).\n",
        "\n",
        "::: {.callout-caution}\n",
        "### Caution: Loss Function and Metric in Lightning\n",
        "\n",
        "* The loss function and the metric are not hyperparameters that can be tuned with `spotPython`.\n",
        "* They are handled by `Lightning`.\n",
        "\n",
        ":::\n",
        "\n",
        "\n",
        "## Step 8: Calling the SPOT Function\n",
        "\n",
        "### Preparing the SPOT Call {#sec-prepare-spot-call-32}\n"
      ],
      "id": "10137d78"
    },
    {
      "cell_type": "code",
      "metadata": {},
      "source": [
        "from spotPython.utils.init import design_control_init, surrogate_control_init\n",
        "design_control = design_control_init()\n",
        "set_control_key_value(control_dict=design_control,\n",
        "                        key=\"init_size\",\n",
        "                        value=INIT_SIZE,\n",
        "                        replace=True)\n",
        "\n",
        "surrogate_control = surrogate_control_init()\n",
        "set_control_key_value(control_dict=surrogate_control,\n",
        "                        key=\"noise\",\n",
        "                        value=True,\n",
        "                        replace=True)                       \n",
        "set_control_key_value(control_dict=surrogate_control,\n",
        "                        key=\"n_theta\",\n",
        "                        value=2,\n",
        "                        replace=True)      "
      ],
      "id": "e5439826",
      "execution_count": null,
      "outputs": []
    },
    {
      "cell_type": "markdown",
      "metadata": {},
      "source": [
        "### The Objective Function `fun` {#sec-the-objective-function-32}\n",
        "\n",
        "The objective function `fun` from the class `HyperLight` [[SOURCE]](https://github.com/sequential-parameter-optimization/spotPython/blob/main/src/spotPython/fun/hyperlight.py) is selected next. It implements an interface from `PyTorch`'s training, validation, and testing methods to `spotPython`.\n"
      ],
      "id": "1dc08d7c"
    },
    {
      "cell_type": "code",
      "metadata": {},
      "source": [
        "from spotPython.fun.hyperlight import HyperLight\n",
        "fun = HyperLight(log_level=10).fun"
      ],
      "id": "dbc37792",
      "execution_count": null,
      "outputs": []
    },
    {
      "cell_type": "markdown",
      "metadata": {},
      "source": [
        "### Showing the fun_control Dictionary {#sec-show-fun-control-32}\n"
      ],
      "id": "55ea7c7e"
    },
    {
      "cell_type": "code",
      "metadata": {},
      "source": [
        "import pprint\n",
        "pprint.pprint(fun_control)"
      ],
      "id": "3242caa4",
      "execution_count": null,
      "outputs": []
    },
    {
      "cell_type": "code",
      "metadata": {},
      "source": [
        "pprint.pprint(design_control)"
      ],
      "id": "1fe6f3fb",
      "execution_count": null,
      "outputs": []
    },
    {
      "cell_type": "code",
      "metadata": {},
      "source": [
        "pprint.pprint(surrogate_control)"
      ],
      "id": "b495c99a",
      "execution_count": null,
      "outputs": []
    },
    {
      "cell_type": "markdown",
      "metadata": {},
      "source": [
        "### Starting the Hyperparameter Tuning {#sec-call-the-hyperparameter-tuner-32}\n",
        "\n",
        "The `spotPython` hyperparameter tuning is started by calling the `Spot` function [[SOURCE]](https://github.com/sequential-parameter-optimization/spotPython/blob/main/src/spotPython/spot/spot.py).\n"
      ],
      "id": "a7133653"
    },
    {
      "cell_type": "code",
      "metadata": {},
      "source": [
        "from spotPython.spot import spot\n",
        "spot_tuner = spot.Spot(fun=fun,\n",
        "                       fun_control=fun_control,\n",
        "                       design_control=design_control,\n",
        "                       surrogate_control=surrogate_control)\n",
        "spot_tuner.run()"
      ],
      "id": "57250005",
      "execution_count": null,
      "outputs": []
    },
    {
      "cell_type": "markdown",
      "metadata": {},
      "source": [
        "## Step 9: Tensorboard {#sec-tensorboard-32}\n",
        "\n",
        "The textual output shown in the console (or code cell) can be visualized with Tensorboard.\n",
        "\n",
        "\n",
        "\n",
        "```{raw}\n",
        "tensorboard --logdir=\"runs/\"\n",
        "```\n",
        "\n",
        "\n",
        "\n",
        "Further information can be found in the [PyTorch Lightning documentation](https://lightning.ai/docs/pytorch/stable/api/lightning.pytorch.loggers.tensorboard.html) for Tensorboard.\n",
        "\n",
        "\n",
        "\n",
        "## Step 10: Results {#sec-results-32}\n",
        "\n",
        "After the hyperparameter tuning run is finished, the results can be analyzed.\n"
      ],
      "id": "a1cdeb75"
    },
    {
      "cell_type": "code",
      "metadata": {
        "fig-label": "fig-progress-32"
      },
      "source": [
        "#| fig-cap: Progress plot. *Black* dots denote results from the initial design. *Red* dots  illustrate the improvement found by the surrogate model based optimization.\n",
        "spot_tuner.plot_progress(log_y=False,\n",
        "    filename=\"./figures/\" + PREFIX + \"_progress.png\")"
      ],
      "id": "3f02ec5f",
      "execution_count": null,
      "outputs": []
    },
    {
      "cell_type": "code",
      "metadata": {
        "fig-label": "tbl-results-32"
      },
      "source": [
        "#| fig-cap: Results of the hyperparameter tuning.\n",
        "from spotPython.utils.eda import gen_design_table\n",
        "print(gen_design_table(fun_control=fun_control, spot=spot_tuner))"
      ],
      "id": "91bf1a64",
      "execution_count": null,
      "outputs": []
    },
    {
      "cell_type": "code",
      "metadata": {
        "fig-label": "fig-importance-32"
      },
      "source": [
        "#| fig-cap: 'Variable importance plot, threshold 0.025.'\n",
        "spot_tuner.plot_importance(threshold=0.025,\n",
        "    filename=\"./figures/\" + PREFIX + \"_importance.png\")"
      ],
      "id": "ebce4b86",
      "execution_count": null,
      "outputs": []
    },
    {
      "cell_type": "markdown",
      "metadata": {},
      "source": [
        "### Get the Tuned Architecture {#sec-get-spot-results-32}\n"
      ],
      "id": "df1c80de"
    },
    {
      "cell_type": "code",
      "metadata": {},
      "source": [
        "from spotPython.hyperparameters.values import get_tuned_architecture\n",
        "config = get_tuned_architecture(spot_tuner, fun_control)\n",
        "print(config)"
      ],
      "id": "2dd8aaa3",
      "execution_count": null,
      "outputs": []
    },
    {
      "cell_type": "markdown",
      "metadata": {},
      "source": [
        "* Test on the full data set\n"
      ],
      "id": "d1d11ae1"
    },
    {
      "cell_type": "code",
      "metadata": {},
      "source": [
        "from spotPython.light.testmodel import test_model\n",
        "test_model(config, fun_control)"
      ],
      "id": "c36ad558",
      "execution_count": null,
      "outputs": []
    },
    {
      "cell_type": "code",
      "metadata": {},
      "source": [
        "from spotPython.light.loadmodel import load_light_from_checkpoint\n",
        "\n",
        "model_loaded = load_light_from_checkpoint(config, fun_control)"
      ],
      "id": "7943c0c9",
      "execution_count": null,
      "outputs": []
    },
    {
      "cell_type": "code",
      "metadata": {
        "fig-label": "fig-contour-32"
      },
      "source": [
        "#| fig-cap: Contour plots.\n",
        "filename = \"./figures/\" + PREFIX\n",
        "spot_tuner.plot_important_hyperparameter_contour(filename=filename)"
      ],
      "id": "8f6c3bf4",
      "execution_count": null,
      "outputs": []
    },
    {
      "cell_type": "markdown",
      "metadata": {},
      "source": [
        "### Parallel Coordinates Plot\n"
      ],
      "id": "2b3bbf17"
    },
    {
      "cell_type": "code",
      "metadata": {
        "fig-label": "fig-parallel-32"
      },
      "source": [
        "#| fig-cap: Parallel coordinates plots\n",
        "spot_tuner.parallel_plot()"
      ],
      "id": "fd3a6698",
      "execution_count": null,
      "outputs": []
    },
    {
      "cell_type": "markdown",
      "metadata": {},
      "source": [
        "### Cross Validation With Lightning\n",
        "\n",
        "* The `KFold` class from `sklearn.model_selection` is used to generate the folds for cross-validation.\n",
        "* These mechanism is used to generate the folds for the final evaluation of the model.\n",
        "* The `CrossValidationDataModule` class [[SOURCE]](https://github.com/sequential-parameter-optimization/spotPython/blob/main/src/spotPython/data/lightcrossvalidationdatamodule.py) is used to generate the folds for the hyperparameter tuning process.\n",
        "* It is called from the `cv_model` function [[SOURCE]](https://github.com/sequential-parameter-optimization/spotPython/blob/main/src/spotPython/light/cvmodel.py).\n"
      ],
      "id": "863f1f6c"
    },
    {
      "cell_type": "code",
      "metadata": {},
      "source": [
        "from spotPython.light.cvmodel import cv_model\n",
        "set_control_key_value(control_dict=fun_control,\n",
        "                        key=\"k_folds\",\n",
        "                        value=2,\n",
        "                        replace=True)\n",
        "set_control_key_value(control_dict=fun_control,\n",
        "                        key=\"test_size\",\n",
        "                        value=0.1,\n",
        "                        replace=True)\n",
        "cv_model(config, fun_control)"
      ],
      "id": "b9066ce9",
      "execution_count": null,
      "outputs": []
    },
    {
      "cell_type": "markdown",
      "metadata": {},
      "source": [
        "### Plot all Combinations of Hyperparameters\n",
        "\n",
        "* Warning: this may take a while.\n"
      ],
      "id": "d1d2c4c4"
    },
    {
      "cell_type": "code",
      "metadata": {},
      "source": [
        "PLOT_ALL = False\n",
        "if PLOT_ALL:\n",
        "    n = spot_tuner.k\n",
        "    for i in range(n-1):\n",
        "        for j in range(i+1, n):\n",
        "            spot_tuner.plot_contour(i=i, j=j, min_z=min_z, max_z = max_z)"
      ],
      "id": "dc222356",
      "execution_count": null,
      "outputs": []
    },
    {
      "cell_type": "markdown",
      "metadata": {},
      "source": [
        "### Visualizing the Activation Distribution (Under Development)\n",
        "\n",
        "::: {.callout-note}\n",
        "### Reference:\n",
        "\n",
        "* The following code is based on [[PyTorch Lightning TUTORIAL 2: ACTIVATION FUNCTIONS]](https://lightning.ai/docs/pytorch/stable/notebooks/course_UvA-DL/02-activation-functions.html), Author: Phillip Lippe, License: [[CC BY-SA]](https://creativecommons.org/licenses/by-sa/3.0/), Generated: 2023-03-15T09:52:39.179933.\n",
        "\n",
        ":::\n",
        "\n",
        "After we have trained the models, we can look at the actual activation values that find inside the model. For instance, how many neurons are set to zero in ReLU? Where do we find most values in Tanh? To answer these questions, we can write a simple function which takes a trained model, applies it to a batch of images, and plots the histogram of the activations inside the network:\n"
      ],
      "id": "23c9b676"
    },
    {
      "cell_type": "code",
      "metadata": {},
      "source": [
        "from spotPython.torch.activation import Sigmoid, Tanh, ReLU, LeakyReLU, ELU, Swish\n",
        "act_fn_by_name = {\"sigmoid\": Sigmoid, \"tanh\": Tanh, \"relu\": ReLU, \"leakyrelu\": LeakyReLU, \"elu\": ELU, \"swish\": Swish}"
      ],
      "id": "f74bf053",
      "execution_count": null,
      "outputs": []
    },
    {
      "cell_type": "code",
      "metadata": {},
      "source": [
        "from spotPython.hyperparameters.values import get_one_config_from_X\n",
        "X = spot_tuner.to_all_dim(spot_tuner.min_X.reshape(1,-1))\n",
        "config = get_one_config_from_X(X, fun_control)\n",
        "model = fun_control[\"core_model\"](**config, _L_in=64, _L_out=11, _torchmetric=TORCH_METRIC)\n",
        "model"
      ],
      "id": "8bbe9490",
      "execution_count": null,
      "outputs": []
    },
    {
      "cell_type": "code",
      "metadata": {},
      "source": [
        "# from spotPython.utils.eda import visualize_activations\n",
        "# visualize_activations(model, color=f\"C{0}\")"
      ],
      "id": "fabfc3e7",
      "execution_count": null,
      "outputs": []
    }
  ],
  "metadata": {
    "kernelspec": {
      "name": "python3",
      "language": "python",
      "display_name": "Python 3 (ipykernel)"
    }
  },
  "nbformat": 4,
  "nbformat_minor": 5
}