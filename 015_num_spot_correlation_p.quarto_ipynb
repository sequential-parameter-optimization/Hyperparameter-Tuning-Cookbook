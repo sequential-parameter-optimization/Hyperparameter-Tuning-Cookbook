{
  "cells": [
    {
      "cell_type": "markdown",
      "metadata": {},
      "source": [
        "---\n",
        "execute:\n",
        "  cache: false\n",
        "  eval: true\n",
        "  echo: true\n",
        "  warning: false\n",
        "---\n",
        "\n",
        "\n",
        "\n",
        "## Kriging with Varying Correlation-p {#sec-num-spot-correlation-p}\n",
        "\n",
        "\n",
        "This chapter illustrates the difference between Kriging models with varying p. The difference is illustrated with the help of the `spotPython` package. \n",
        "\n",
        "## Example: `Spot` Surrogate and the 2-dim Sphere Function\n"
      ],
      "id": "1b53caa7"
    },
    {
      "cell_type": "code",
      "metadata": {},
      "source": [
        "import numpy as np\n",
        "from math import inf\n",
        "from spotPython.fun.objectivefunctions import analytical\n",
        "from spotPython.spot import spot\n",
        "from spotPython.utils.init import fun_control_init, surrogate_control_init\n",
        "PREFIX=\"015\""
      ],
      "id": "f32ad270",
      "execution_count": null,
      "outputs": []
    },
    {
      "cell_type": "markdown",
      "metadata": {},
      "source": [
        "### The Objective Function: 2-dim Sphere\n",
        "\n",
        "* The `spotPython` package provides several classes of objective functions.\n",
        "* We will use an analytical objective function, i.e., a function that can be described by a (closed) formula:\n",
        "   $$f(x, y) = x^2 + y^2$$\n",
        "* The size of the `lower` bound vector determines the problem dimension.\n",
        "* Here we will use `np.array([-1, -1])`, i.e., a two-dim function.\n"
      ],
      "id": "7da82d98"
    },
    {
      "cell_type": "code",
      "metadata": {},
      "source": [
        "fun = analytical().fun_sphere\n",
        "fun_control = fun_control_init(PREFIX=PREFIX,\n",
        "                               lower = np.array([-1, -1]),\n",
        "                               upper = np.array([1, 1]))"
      ],
      "id": "b7d3113d",
      "execution_count": null,
      "outputs": []
    },
    {
      "cell_type": "markdown",
      "metadata": {},
      "source": [
        "* Although the default `spot` surrogate model is an isotropic Kriging model, we will explicitly set the `theta` parameter to a value of `1` for both dimensions. This is done to illustrate the difference between isotropic and anisotropic Kriging models.\n"
      ],
      "id": "fc90910a"
    },
    {
      "cell_type": "code",
      "metadata": {},
      "source": [
        "surrogate_control=surrogate_control_init(n_p=1,\n",
        "                                         p_val=2.0,)"
      ],
      "id": "e7c93f95",
      "execution_count": null,
      "outputs": []
    },
    {
      "cell_type": "code",
      "metadata": {},
      "source": [
        "spot_2 = spot.Spot(fun=fun,\n",
        "                   fun_control=fun_control,\n",
        "                   surrogate_control=surrogate_control)\n",
        "\n",
        "spot_2.run()"
      ],
      "id": "d4bff390",
      "execution_count": null,
      "outputs": []
    },
    {
      "cell_type": "markdown",
      "metadata": {},
      "source": [
        "### Results\n"
      ],
      "id": "df84a53a"
    },
    {
      "cell_type": "code",
      "metadata": {},
      "source": [
        "spot_2.print_results()"
      ],
      "id": "56ba2462",
      "execution_count": null,
      "outputs": []
    },
    {
      "cell_type": "code",
      "metadata": {},
      "source": [
        "spot_2.plot_progress(log_y=True)"
      ],
      "id": "ede0c30c",
      "execution_count": null,
      "outputs": []
    },
    {
      "cell_type": "code",
      "metadata": {},
      "source": [
        "spot_2.surrogate.plot()"
      ],
      "id": "90d4a083",
      "execution_count": null,
      "outputs": []
    },
    {
      "cell_type": "markdown",
      "metadata": {},
      "source": [
        "## Example With Modified p\n",
        "\n",
        "* We can use set `p` to a value other than `2` to obtain a different Kriging model.\n"
      ],
      "id": "a9be68ea"
    },
    {
      "cell_type": "code",
      "metadata": {},
      "source": [
        "surrogate_control = surrogate_control_init(n_p=1,\n",
        "                                           p_val=1.0)\n",
        "spot_2_p1= spot.Spot(fun=fun,\n",
        "                    fun_control=fun_control,\n",
        "                    surrogate_control=surrogate_control)\n",
        "spot_2_p1.run()"
      ],
      "id": "9029104c",
      "execution_count": null,
      "outputs": []
    },
    {
      "cell_type": "markdown",
      "metadata": {},
      "source": [
        "* The search progress of the optimization with the anisotropic model can be visualized:\n"
      ],
      "id": "6989d1b2"
    },
    {
      "cell_type": "code",
      "metadata": {},
      "source": [
        "spot_2_p1.plot_progress(log_y=True)"
      ],
      "id": "baf0c5d2",
      "execution_count": null,
      "outputs": []
    },
    {
      "cell_type": "code",
      "metadata": {},
      "source": [
        "spot_2_p1.print_results()"
      ],
      "id": "0c8c2523",
      "execution_count": null,
      "outputs": []
    },
    {
      "cell_type": "code",
      "metadata": {},
      "source": [
        "spot_2_p1.surrogate.plot()"
      ],
      "id": "02a35267",
      "execution_count": null,
      "outputs": []
    },
    {
      "cell_type": "markdown",
      "metadata": {},
      "source": [
        "### Taking a Look at the `p` Values\n",
        "\n",
        "#### `p` Values from the `spot` Model\n",
        "\n",
        "* We can check, which `p` values the `spot` model has used:\n",
        "* The `p` values from the surrogate can be printed as follows:\n"
      ],
      "id": "98ba2018"
    },
    {
      "cell_type": "code",
      "metadata": {},
      "source": [
        "spot_2_p1.surrogate.p"
      ],
      "id": "1fd749ba",
      "execution_count": null,
      "outputs": []
    },
    {
      "cell_type": "markdown",
      "metadata": {},
      "source": [
        "* Since the surrogate from the isotropic setting was stored as `spot_2`, we can also take a look at the `theta` value from this model:\n"
      ],
      "id": "5de72068"
    },
    {
      "cell_type": "code",
      "metadata": {},
      "source": [
        "spot_2.surrogate.p"
      ],
      "id": "c257dd28",
      "execution_count": null,
      "outputs": []
    },
    {
      "cell_type": "markdown",
      "metadata": {},
      "source": [
        "## Optimization of the `p` Values\n"
      ],
      "id": "bf2866fe"
    },
    {
      "cell_type": "code",
      "metadata": {},
      "source": [
        "surrogate_control = surrogate_control_init(n_p=1,\n",
        "                                           optim_p=True)\n",
        "spot_2_pm= spot.Spot(fun=fun,\n",
        "                    fun_control=fun_control,\n",
        "                    surrogate_control=surrogate_control)\n",
        "spot_2_pm.run()"
      ],
      "id": "299d4a3b",
      "execution_count": null,
      "outputs": []
    },
    {
      "cell_type": "code",
      "metadata": {},
      "source": [
        "spot_2_pm.plot_progress(log_y=True)"
      ],
      "id": "b8f6d926",
      "execution_count": null,
      "outputs": []
    },
    {
      "cell_type": "code",
      "metadata": {},
      "source": [
        "spot_2_pm.print_results()"
      ],
      "id": "8e56cd9d",
      "execution_count": null,
      "outputs": []
    },
    {
      "cell_type": "code",
      "metadata": {},
      "source": [
        "spot_2_pm.surrogate.plot()"
      ],
      "id": "f4b148ec",
      "execution_count": null,
      "outputs": []
    },
    {
      "cell_type": "code",
      "metadata": {},
      "source": [
        "spot_2_pm.surrogate.p"
      ],
      "id": "adc68324",
      "execution_count": null,
      "outputs": []
    },
    {
      "cell_type": "markdown",
      "metadata": {},
      "source": [
        "## Optimization of Multiple `p` Values\n"
      ],
      "id": "b6873196"
    },
    {
      "cell_type": "code",
      "metadata": {},
      "source": [
        "surrogate_control = surrogate_control_init(n_p=2,\n",
        "                                           optim_p=True)\n",
        "spot_2_pmo= spot.Spot(fun=fun,\n",
        "                    fun_control=fun_control,\n",
        "                    surrogate_control=surrogate_control)\n",
        "spot_2_pmo.run()"
      ],
      "id": "fdb5500f",
      "execution_count": null,
      "outputs": []
    },
    {
      "cell_type": "code",
      "metadata": {},
      "source": [
        "spot_2_pmo.plot_progress(log_y=True)"
      ],
      "id": "31b56898",
      "execution_count": null,
      "outputs": []
    },
    {
      "cell_type": "code",
      "metadata": {},
      "source": [
        "spot_2_pmo.print_results()"
      ],
      "id": "09f268e4",
      "execution_count": null,
      "outputs": []
    },
    {
      "cell_type": "code",
      "metadata": {},
      "source": [
        "spot_2_pmo.surrogate.plot()"
      ],
      "id": "19b6c005",
      "execution_count": null,
      "outputs": []
    },
    {
      "cell_type": "code",
      "metadata": {},
      "source": [
        "spot_2_pmo.surrogate.p"
      ],
      "id": "dbd245d1",
      "execution_count": null,
      "outputs": []
    },
    {
      "cell_type": "markdown",
      "metadata": {},
      "source": [
        "## Exercises\n",
        "\n",
        "\n",
        "###  `fun_branin`\n",
        "\n",
        "* Describe the function.\n",
        "  * The input dimension is `2`. The search range is  $-5 \\leq x_1 \\leq 10$ and $0 \\leq x_2 \\leq 15$.\n",
        "* Compare the results from `spotPython` runs with different options for `p`.\n",
        "* Modify the termination criterion: instead of the number of evaluations (which is specified via `fun_evals`), the time should be used as the termination criterion. This can be done as follows (`max_time=1` specifies a run time of one minute):\n"
      ],
      "id": "34c9ca52"
    },
    {
      "cell_type": "code",
      "metadata": {},
      "source": [
        "fun_evals=inf,\n",
        "max_time=1,"
      ],
      "id": "e7c4aeb6",
      "execution_count": null,
      "outputs": []
    },
    {
      "cell_type": "markdown",
      "metadata": {},
      "source": [
        "### `fun_sin_cos`\n",
        "\n",
        "* Describe the function.\n",
        "  *  The input dimension is `2`. The search range is  $-2\\pi \\leq x_1 \\leq 2\\pi$ and $-2\\pi \\leq x_2 \\leq 2\\pi$.\n",
        "* Compare the results from `spotPython` run a) with isotropic and b) anisotropic surrogate models.\n",
        "* Modify the termination criterion (`max_time` instead of `fun_evals`) as described for `fun_branin`.\n",
        "\n",
        "###  `fun_runge`\n",
        "\n",
        "* Describe the function.\n",
        "  *  The input dimension is `2`. The search range is  $-5 \\leq x_1 \\leq 5$ and $-5 \\leq x_2 \\leq 5$.\n",
        "* Compare the results from `spotPython` runs with different options for `p`.\n",
        "* Modify the termination criterion (`max_time` instead of `fun_evals`) as described for `fun_branin`.\n",
        "\n",
        "###  `fun_wingwt`\n",
        "\n",
        "* Describe the function.\n",
        "  *  The input dimension is `10`. The search ranges are between 0 and 1 (values are mapped internally to their natural bounds).\n",
        "* Compare the results from `spotPython` runs with different options for `p`.\n",
        "* Modify the termination criterion (`max_time` instead of `fun_evals`) as described for `fun_branin`.\n",
        "\n",
        "\n",
        "\n",
        "\n",
        "## Jupyter Notebook\n",
        "\n",
        ":::{.callout-note}\n",
        "\n",
        "* The Jupyter-Notebook of this lecture is available on GitHub in the [Hyperparameter-Tuning-Cookbook Repository](https://github.com/sequential-parameter-optimization/Hyperparameter-Tuning-Cookbook/blob/main/015_num_spot_correlation_p.ipynb)\n",
        "\n",
        ":::\n"
      ],
      "id": "38b6dc9b"
    }
  ],
  "metadata": {
    "kernelspec": {
      "name": "python3",
      "language": "python",
      "display_name": "Python 3 (ipykernel)",
      "path": "/Users/bartz/miniforge3/envs/spotCondaEnv/share/jupyter/kernels/python3"
    }
  },
  "nbformat": 4,
  "nbformat_minor": 5
}