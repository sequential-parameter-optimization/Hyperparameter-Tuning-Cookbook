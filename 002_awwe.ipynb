{
  "cells": [
    {
      "cell_type": "raw",
      "metadata": {},
      "source": [
        "---\n",
        "execute:\n",
        "  cache: false\n",
        "  eval: true\n",
        "  echo: true\n",
        "  warning: false\n",
        "---"
      ],
      "id": "737fcda6"
    },
    {
      "cell_type": "markdown",
      "metadata": {},
      "source": [
        "<!-- bart21mSlides2022Lec04 -->\n",
        "\n",
        "# Aircraft Wing Weight Example\n",
        "\n",
        "## AWWE Equation\n",
        "\n",
        "* Example from Forrester et al. \n",
        "* Understand the **weight** of an unpainted light aircraft wing as a function of nine design and operational parameters:\n",
        "\n",
        "$$ W = 0.036 S_W^{0.758} \\times W_{fw}^{0.0035} \\left( \\frac{A}{\\cos^2 \\Lambda} \\right)^{0.6} \\times  q^{0.006}  \\times \\lambda^{0.04} $$\n",
        "$$ \\times \\left( \\frac{100 R_{tc}}{\\cos \\Lambda} \\right)^{-0.3} \\times (N_z W_{dg})^{0.49}$$\n",
        "\n",
        "\n",
        "## AWWE Parameters and Equations (Part 1)\n",
        "\n",
        "| Symbol    | Parameter                              | Baseline | Minimum | Maximum |\n",
        "|-----------|----------------------------------------|----------|---------|---------|\n",
        "| $S_W$     | Wing area ($ft^2$)                     | 174      | 150     | 200     |\n",
        "| $W_{fw}$  | Weight of fuel in wing (lb)            | 252      | 220     | 300     |\n",
        "| $A$       | Aspect ratio                          | 7.52     | 6       | 10      |\n",
        "| $\\Lambda$ | Quarter-chord sweep (deg)              | 0        | -10     | 10      |\n",
        "| $q$       | Dynamic pressure at cruise ($lb/ft^2$) | 34       | 16      | 45      |\n",
        "| $\\lambda$ | Taper ratio                            | 0.672    | 0.5     | 1       |\n",
        "| $R_{tc}$  | Aerofoil thickness to chord ratio      | 0.12     | 0.08    | 0.18    |\n",
        "| $N_z$     | Ultimate load factor                   | 3.8      | 2.5     | 6       |\n",
        "| $W_{dg}$  | Flight design gross weight (lb)         | 2000     | 1700    | 2500    |\n",
        "| $W_p$     | paint weight (lb/ft^2)                   | 0.064 |   0.025  | 0.08    |\n",
        ": Aircraft Wing Weight Parameters {#tbl-awwe}\n",
        "\n",
        "\n",
        "The study begins with a baseline Cessna C172 Skyhawk Aircraft as its reference point. It aims to investigate the impact of wing area and fuel weight on the overall weight of the aircraft. Two crucial parameters in this analysis are the aspect ratio ($A$), defined as the ratio of the wing's length to the average chord (thickness of the airfoil), and the taper ratio ($\\lambda$), which represents the ratio of the maximum to the minimum thickness of the airfoil or the maximum to minimum chord.\n",
        "\n",
        "It's important to note that the equation used in this context is not a computer simulation but will be treated as one for the purpose of illustration. This approach involves employing a true mathematical equation, even if it's considered unknown, as a useful tool for generating realistic settings to test the methodology. The functional form of this equation was derived by \"calibrating\" known physical relationships to curves obtained from existing aircraft data, as referenced in Raymer 2012. Essentially, it acts as a surrogate for actual measurements of aircraft weight.\n",
        "\n",
        "Examining the mathematical properties of the AWWE (Aircraft Weight With Wing Area and Fuel Weight Equation), it is evident that the response is highly nonlinear concerning its inputs. While it's common to apply the logarithm to simplify equations with complex exponents, even when modeling the logarithm, which transforms powers into slope coefficients and products into sums, the response remains nonlinear due to the presence of trigonometric terms. Given the combination of nonlinearity and high input dimension, simple linear and quadratic response surface approximations are likely to be inadequate for this analysis.\n",
        "\n",
        "## Goals: Understanding and Optimization\n",
        "\n",
        "The primary goals of this study revolve around understanding and optimization:\n",
        "\n",
        "1. **Understanding**: One of the straightforward objectives is to gain a deep understanding of the input-output relationships in this context. Given the global perspective implied by this setting, it becomes evident that a more sophisticated model is almost necessary. At this stage, let's focus on this specific scenario to establish a clear understanding.\n",
        "\n",
        "2. **Optimization**: Another application of this analysis could be optimization. There may be an interest in minimizing the weight of the aircraft, but it's likely that there will be constraints in place. For example, the presence of wings with a nonzero area is essential for the aircraft to be capable of flying. In situations involving (constrained) optimization, a global perspective and, consequently, the use of flexible modeling are vital.\n",
        "\n",
        "The provided Python code serves as a genuine computer implementation that \"solves\" a mathematical model. It accepts arguments encoded in the unit cube, with defaults used to represent baseline settings, as detailed in the table labeled as @tbl-awwe. To map values from the interval $[a, b]$ to the interval $[0, 1]$, the following formula can be employed: \n",
        "\n",
        "$$y = f(x) = \\frac{x - a}{b - a}.$$\n",
        "\n",
        "To reverse this mapping and obtain the original values, the formula \n",
        "$$g(y) = a + (b - a) y$$ can be used.\n"
      ],
      "id": "3fb1bbcd"
    },
    {
      "cell_type": "code",
      "metadata": {},
      "source": [
        "import numpy as np\n",
        "\n",
        "def wingwt(Sw=0.48, Wfw=0.4, A=0.38, L=0.5, q=0.62, l=0.344,  Rtc=0.4, Nz=0.37, Wdg=0.38):\n",
        "    # put coded inputs back on natural scale\n",
        "    Sw = Sw * (200 - 150) + 150 \n",
        "    Wfw = Wfw * (300 - 220) + 220 \n",
        "    A = A * (10 - 6) + 6 \n",
        "    L = (L * (10 - (-10)) - 10) * np.pi/180\n",
        "    q = q * (45 - 16) + 16 \n",
        "    l = l * (1 - 0.5) + 0.5  \n",
        "    Rtc = Rtc * (0.18 - 0.08) + 0.08\n",
        "    Nz = Nz * (6 - 2.5) + 2.5\n",
        "    Wdg = Wdg*(2500 - 1700) + 1700\n",
        "    # calculation on natural scale\n",
        "    W = 0.036 * Sw**0.758 * Wfw**0.0035 * (A/np.cos(L)**2)**0.6 * q**0.006 \n",
        "    W = W * l**0.04 * (100*Rtc/np.cos(L))**(-0.3) * (Nz*Wdg)**(0.49)\n",
        "    return(W)"
      ],
      "id": "990ebe14",
      "execution_count": null,
      "outputs": []
    },
    {
      "cell_type": "markdown",
      "metadata": {},
      "source": [
        "## Properties of the Python \"Solver\"\n",
        "\n",
        "The compute time required by the \"wingwt\" solver is extremely short and can be considered trivial in terms of computational resources. The approximation error is exceptionally small, effectively approaching machine precision, which indicates the high accuracy of the solver's results.\n",
        "\n",
        "To simulate time-consuming evaluations, a deliberate delay is introduced by incorporating a `sleep(3600)` command, which effectively synthesizes a one-hour execution time for a particular evaluation.\n",
        "\n",
        "Moving on to the AWWE visualization, plotting in two dimensions is considerably simpler than dealing with nine dimensions. To aid in creating visual representations, the code provided below establishes a grid within the unit square to facilitate the generation of sliced visuals. This involves generating a \"meshgrid\" as outlined in the code.\n"
      ],
      "id": "1956ef9c"
    },
    {
      "cell_type": "code",
      "metadata": {},
      "source": [
        "import numpy as np\n",
        "x = np.linspace(0, 1, 3)\n",
        "y = np.linspace(0, 1, 3)\n",
        "X, Y = np.meshgrid(x, y)\n",
        "zp = zip(np.ravel(X), np.ravel(Y))\n",
        "list(zp)"
      ],
      "id": "d7f36cf0",
      "execution_count": null,
      "outputs": []
    },
    {
      "cell_type": "markdown",
      "metadata": {},
      "source": [
        "The coding used to transform inputs from natural units is largely a matter of taste, so long as it’s easy to undo for reporting back on original scales\n"
      ],
      "id": "c1b2c0ef"
    },
    {
      "cell_type": "code",
      "metadata": {},
      "source": [
        "%matplotlib inline\n",
        "import matplotlib.pyplot as plt\n",
        "# plt.style.use('seaborn-white')\n",
        "import numpy as np\n",
        "x = np.linspace(0, 1, 100)\n",
        "y = np.linspace(0, 1, 100)\n",
        "X, Y = np.meshgrid(x, y)"
      ],
      "id": "19b9261c",
      "execution_count": null,
      "outputs": []
    },
    {
      "cell_type": "markdown",
      "metadata": {},
      "source": [
        "## Plot 1: Load Factor ($N_z$) and Aspect Ratio ($A$)\n",
        "\n",
        "We will vary $N_z$ and $A$, with other inputs fixed at their baseline values.\n"
      ],
      "id": "6b4e78b1"
    },
    {
      "cell_type": "code",
      "metadata": {},
      "source": [
        "z = wingwt(A = X, Nz = Y)\n",
        "fig = plt.figure(figsize=(7., 5.))\n",
        "plt.contourf(X, Y, z, 20, cmap='jet')\n",
        "plt.xlabel(\"A\")\n",
        "plt.ylabel(\"Nz\")\n",
        "plt.title(\"Load factor (Nz) vs. Aspect Ratio (A)\")\n",
        "plt.colorbar()\n",
        "plt.show()"
      ],
      "id": "8cc1416f",
      "execution_count": null,
      "outputs": []
    },
    {
      "cell_type": "markdown",
      "metadata": {},
      "source": [
        "Contour plots can be refined, e.g., by adding explicit contour lines as shown in the following figure.\n"
      ],
      "id": "d6977e2a"
    },
    {
      "cell_type": "code",
      "metadata": {},
      "source": [
        "contours = plt.contour(X, Y, z, 4, colors='black')\n",
        "plt.clabel(contours, inline=True, fontsize=8)\n",
        "plt.xlabel(\"A\")\n",
        "plt.ylabel(\"Nz\")\n",
        "\n",
        "plt.imshow(z, extent=[0, 1, 0, 1], origin='lower',\n",
        "           cmap='jet', alpha=0.9)\n",
        "plt.colorbar()"
      ],
      "id": "5ff1d773",
      "execution_count": null,
      "outputs": []
    },
    {
      "cell_type": "markdown",
      "metadata": {},
      "source": [
        "The interpretation of the AWWE plot can be summarized as follows:\n",
        "\n",
        "* The figure displays the weight response as a function of two variables, $N_z$ and $A$, using an image-contour plot. \n",
        "* The slight curvature observed in the contours suggests an interaction between these two variables.\n",
        "* Notably, the range of outputs depicted in the figure, spanning from approximately 160 to 320, nearly encompasses the entire range of outputs observed from various input settings within the full 9-dimensional input space.\n",
        "* The plot indicates that aircraft wings tend to be heavier when the aspect ratios ($A$) are high.\n",
        "* This observation aligns with the idea that wings are designed to withstand and accommodate high gravitational forces ($g$-forces, large  $N_z$), and there may be a compounding effect where larger values of $N_z$ contribute to increased wing weight.\n",
        "* It's plausible that this phenomenon is related to the design considerations of fighter jets, which cannot have the efficient and lightweight glider-like wings typically found in other types of aircraft.\n",
        "\n",
        "## Plot 2: Taper Ratio and Fuel Weight\n",
        "\n",
        "* The same experiment for two other inputs, e.g., taper ratio  $\\lambda$ and fuel weight $W_{fw}$\n"
      ],
      "id": "82b5f0b7"
    },
    {
      "cell_type": "code",
      "metadata": {},
      "source": [
        "z = wingwt(Wfw = X,  Nz = Y)\n",
        "contours = plt.contour(X, Y, z, 4, colors='black')\n",
        "plt.clabel(contours, inline=True, fontsize=8)\n",
        "plt.xlabel(\"WfW\")\n",
        "plt.ylabel(\"l\")\n",
        "\n",
        "plt.imshow(z, extent=[0, 1, 0, 1], origin='lower',\n",
        "           cmap='jet', alpha=0.9)\n",
        "plt.colorbar();"
      ],
      "id": "fe56cd01",
      "execution_count": null,
      "outputs": []
    },
    {
      "cell_type": "markdown",
      "metadata": {},
      "source": [
        "* Interpretation of Taper Ratio ($l$) and Fuel Weight ($W_{fw}$)\n",
        "  * Apparently, neither input has much effect on wing weight:\n",
        "    * with $\\lambda$  having a marginally greater effect, covering less than 4 percent of the span of weights observed in the  $A \\times N_z$ plane \n",
        "  * There’s no interaction evident in  $\\lambda \\times W_{fw}$\n",
        "\n",
        "## The Big Picture: Combining all Variables\n"
      ],
      "id": "1ca681af"
    },
    {
      "cell_type": "code",
      "metadata": {},
      "source": [
        "pl = [\"Sw\", \"Wfw\", \"A\", \"L\", \"q\", \"l\",  \"Rtc\", \"Nz\", \"Wdg\"]"
      ],
      "id": "0e68d9e2",
      "execution_count": null,
      "outputs": []
    },
    {
      "cell_type": "code",
      "metadata": {},
      "source": [
        "import math\n",
        "\n",
        "Z = []\n",
        "Zlab = []\n",
        "l = len(pl)\n",
        "# lc = math.comb(l,2)\n",
        "for i in range(l):\n",
        "    for j in range(i+1, l):\n",
        "    # for j in range(l):\n",
        "        # print(pl[i], pl[j])\n",
        "        d = {pl[i]: X, pl[j]: Y}\n",
        "        Z.append(wingwt(**d))\n",
        "        Zlab.append([pl[i],pl[j]])"
      ],
      "id": "03da1f43",
      "execution_count": null,
      "outputs": []
    },
    {
      "cell_type": "markdown",
      "metadata": {},
      "source": [
        "Now we can generate all 36 combinations, e.g., our first example is combination `p = 19`.\n"
      ],
      "id": "5c91664b"
    },
    {
      "cell_type": "code",
      "metadata": {},
      "source": [
        "p = 19\n",
        "Zlab[p]"
      ],
      "id": "5bb89dcd",
      "execution_count": null,
      "outputs": []
    },
    {
      "cell_type": "markdown",
      "metadata": {},
      "source": [
        "To help interpret outputs from experiments such as this one---to level the playing field when comparing outputs from other pairs of inputs---code below sets up a color palette that can be re-used from one experiment to the next.  We use the arguments `vmin=180` and `vmax =360` to implement comparibility\n"
      ],
      "id": "fd0f9a71"
    },
    {
      "cell_type": "code",
      "metadata": {},
      "source": [
        "plt.contourf(X, Y, Z[p], 20, cmap='jet', vmin=180, vmax=360)\n",
        "plt.xlabel(Zlab[p][0])\n",
        "plt.ylabel(Zlab[p][1])\n",
        "plt.colorbar()"
      ],
      "id": "fce6d691",
      "execution_count": null,
      "outputs": []
    },
    {
      "cell_type": "markdown",
      "metadata": {},
      "source": [
        "* Let's plot the second example, taper ratio  $\\lambda$ and fuel weight $W_{fw}$\n",
        "* This is combination `11`:\n"
      ],
      "id": "44372e3d"
    },
    {
      "cell_type": "code",
      "metadata": {},
      "source": [
        "p = 11\n",
        "Zlab[p]"
      ],
      "id": "0b4cf365",
      "execution_count": null,
      "outputs": []
    },
    {
      "cell_type": "code",
      "metadata": {},
      "source": [
        "plt.contourf(X, Y, Z[p], 20, cmap='jet', vmin=180, vmax=360)\n",
        "plt.xlabel(Zlab[p][0])\n",
        "plt.ylabel(Zlab[p][1])\n",
        "plt.colorbar()"
      ],
      "id": "2c21646b",
      "execution_count": null,
      "outputs": []
    },
    {
      "cell_type": "markdown",
      "metadata": {},
      "source": [
        "* Using a global colormap indicates that these variables have minor effects on the wing weight.\n",
        "* Important factors can be detected by visual inspection\n",
        "* Plotting the Big Picture: we can plot all 36 combinations in one figure.\n"
      ],
      "id": "08e4d72c"
    },
    {
      "cell_type": "code",
      "metadata": {},
      "source": [
        "import matplotlib.pyplot as plt\n",
        "from mpl_toolkits.axes_grid1 import ImageGrid\n",
        "import numpy as np\n",
        "\n",
        "fig = plt.figure(figsize=(20., 20.))\n",
        "grid = ImageGrid(fig, 111,  # similar to subplot(111)\n",
        "                 nrows_ncols=(6,6),  # creates 2x2 grid of axes\n",
        "                 axes_pad=0.5,  # pad between axes in inch.\n",
        "                 share_all=True,\n",
        "                 label_mode=\"0\",\n",
        "                 ) \n",
        "i = 0\n",
        "for ax, im in zip(grid, Z):\n",
        "    # Iterating over the grid returns the Axes.\n",
        "    ax.set_xlabel(Zlab[i][0])\n",
        "    ax.set_ylabel(Zlab[i][1])\n",
        "    # ax.set_title(Zlab[i][1] + \" vs. \" + Zlab[i][0])\n",
        "    ax.contourf(X, Y, im, 30, cmap = \"jet\",  vmin = 180, vmax = 360)\n",
        "    i = i + 1\n",
        "       \n",
        "plt.show()"
      ],
      "id": "e6cde8a3",
      "execution_count": null,
      "outputs": []
    },
    {
      "cell_type": "markdown",
      "metadata": {},
      "source": [
        "## AWWE Landscape\n",
        "\n",
        "* Our Observations\n",
        "  1. The load factor $N_z$, which determines the magnitude of the maximum aerodynamic load on the wing, is very active and involved in interactions with other variables.\n",
        "    * Classic example: the interaction of $N_z$ with the aspect ratio $A$ indicates a heavy wing for high aspect ratios and large $g$-forces \n",
        "    * This is the reaon why highly manoeuvrable fighter jets cannot have very efficient, glider wings)\n",
        "  2. Aspect ratio $A$ and airfoil thickness to chord ratio $R_{tc}$ have nonlinear interactions.\n",
        "  3. Most important variables: \n",
        "    * Ultimate load factor $N_z$, wing area $S_w$, and flight design gross weight$W_{dg}$.\n",
        "  4. Little impact: dynamic pressure $q$, taper ratio $l$, and quarter-chord sweep $L$. \n",
        "\n",
        "* Expert Knowledge\n",
        "  * Aircraft designers know that the overall weight of the aircraft and the wing area must be kept to a minimum\n",
        "  * the latter usually dictated by constraints such as required stall speed, landing distance, turn rate, etc.\n",
        "\n",
        "## Summary of the First Experiments\n",
        "\n",
        "* First, we considered  two pairs of inputs, out of 36 total pairs \n",
        "* Then, the \"Big Picture\":\n",
        "  *  For each pair we evaluated `wingwt` 10,000 times \n",
        "* Doing the same for all pairs would require 360K evaluations:\n",
        "  * not a reasonable number with a real computer simulation that takes any non-trivial amount of time to evaluate \n",
        "  * Only 1s per evaluation:  $>100$ hours \n",
        "* Many solvers take minutes/hours/days to execute a single run\n",
        "* And: three-way interactions? \n",
        "* Consequence: a different strategy is needed\n",
        "\n",
        "## Exercise\n",
        "\n",
        "### Adding Paint Weight\n",
        "\n",
        "* Paint weight is not considered.\n",
        "* Add Paint Weight $W_p$ to formula (the updated formula is shown below) and update the functions and plots in the notebook.\n",
        "\n",
        "$$ W = 0.036S_W^{0.758} \\times W_{fw}^{0.0035} \\times \\left( \\frac{A}{\\cos^2 \\Lambda} \\right)^{0.6} \\times q^{0.006} \\times \\lambda^{0.04} $$\n",
        "$$ \\times \\left( \\frac{100 R_{tc}}{\\cos \\Lambda} \\right)^{-0.3} \\times (N_z W_{dg})^{0.49} + S_w W_p$$\n",
        "\n",
        "\n",
        "## Jupyter Notebook\n",
        "\n",
        ":::{.callout-note}\n",
        "\n",
        "* The Jupyter-Notebook of this lecture is available on GitHub in the [Hyperparameter-Tuning-Cookbook Repository](https://github.com/sequential-parameter-optimization/Hyperparameter-Tuning-Cookbook/blob/main/002_awwe.ipynb)\n",
        "\n",
        ":::"
      ],
      "id": "e16f52a8"
    }
  ],
  "metadata": {
    "kernelspec": {
      "name": "python3",
      "language": "python",
      "display_name": "Python 3 (ipykernel)"
    }
  },
  "nbformat": 4,
  "nbformat_minor": 5
}