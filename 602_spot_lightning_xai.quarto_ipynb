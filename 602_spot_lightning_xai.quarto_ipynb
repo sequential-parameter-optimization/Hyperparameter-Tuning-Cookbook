{
  "cells": [
    {
      "cell_type": "markdown",
      "metadata": {},
      "source": [
        "---\n",
        "execute:\n",
        "  cache: false\n",
        "  eval: true\n",
        "  echo: true\n",
        "  warning: false\n",
        "jupyter: python3\n",
        "---\n",
        "\n",
        "\n",
        "# Explainable AI with SpotPython and Pytorch {#sec-xai}\n"
      ],
      "id": "60f52852"
    },
    {
      "cell_type": "code",
      "metadata": {},
      "source": [
        "from torch.utils.data import DataLoader\n",
        "from spotpython.utils.init import fun_control_init\n",
        "from spotpython.hyperparameters.values import set_control_key_value\n",
        "from spotpython.data.diabetes import Diabetes\n",
        "from spotpython.light.regression.netlightregression import NetLightRegression\n",
        "from spotpython.hyperdict.light_hyper_dict import LightHyperDict\n",
        "from spotpython.hyperparameters.values import add_core_model_to_fun_control\n",
        "from spotpython.hyperparameters.values import (\n",
        "        get_default_hyperparameters_as_array, get_one_config_from_X)\n",
        "from spotpython.hyperparameters.values import set_control_key_value\n",
        "from spotpython.plot.xai import (get_activations, get_gradients, get_weights, plot_nn_values_hist, plot_nn_values_scatter, visualize_weights, visualize_gradients, visualize_activations, visualize_gradient_distributions, visualize_weights_distributions)\n",
        "fun_control = fun_control_init(\n",
        "    _L_in=10, # 10: diabetes\n",
        "    _L_out=1,\n",
        "    _torchmetric=\"mean_squared_error\",\n",
        "    )\n",
        "dataset = Diabetes()\n",
        "set_control_key_value(control_dict=fun_control,\n",
        "                        key=\"data_set\",\n",
        "                        value=dataset,\n",
        "                        replace=True)\n",
        "add_core_model_to_fun_control(fun_control=fun_control,\n",
        "                              core_model=NetLightRegression,\n",
        "                              hyper_dict=LightHyperDict)\n",
        "X = get_default_hyperparameters_as_array(fun_control)\n",
        "config = get_one_config_from_X(X, fun_control)\n",
        "_L_in = fun_control[\"_L_in\"]\n",
        "_L_out = fun_control[\"_L_out\"]\n",
        "_torchmetric = fun_control[\"_torchmetric\"]\n",
        "model = fun_control[\"core_model\"](**config, _L_in=_L_in, _L_out=_L_out, _torchmetric=_torchmetric)\n",
        "batch_size= config[\"batch_size\"]\n",
        "dataloader = DataLoader(dataset, batch_size=batch_size, shuffle=False)"
      ],
      "id": "c4690c57",
      "execution_count": null,
      "outputs": []
    },
    {
      "cell_type": "code",
      "metadata": {},
      "source": [
        "get_activations(model, fun_control=fun_control, batch_size=batch_size, device = \"cpu\")"
      ],
      "id": "deb5afd2",
      "execution_count": null,
      "outputs": []
    },
    {
      "cell_type": "code",
      "metadata": {},
      "source": [
        "get_gradients(model, fun_control=fun_control, batch_size=batch_size, device = \"cpu\")"
      ],
      "id": "a1cb86af",
      "execution_count": null,
      "outputs": []
    },
    {
      "cell_type": "code",
      "metadata": {},
      "source": [
        "get_weights(model)"
      ],
      "id": "fecb5285",
      "execution_count": null,
      "outputs": []
    },
    {
      "cell_type": "code",
      "metadata": {},
      "source": [
        "visualize_activations(model, fun_control=fun_control, batch_size=batch_size, device = \"cpu\", cmap=\"BlueWhiteRed\", absolute=False)"
      ],
      "id": "b4e40a36",
      "execution_count": null,
      "outputs": []
    },
    {
      "cell_type": "code",
      "metadata": {},
      "source": [
        "visualize_weights_distributions(model, color=f\"C{0}\")"
      ],
      "id": "571db160",
      "execution_count": null,
      "outputs": []
    },
    {
      "cell_type": "code",
      "metadata": {},
      "source": [
        "visualize_gradient_distributions(model, fun_control, batch_size=batch_size, color=f\"C{0}\")"
      ],
      "id": "269cae1d",
      "execution_count": null,
      "outputs": []
    },
    {
      "cell_type": "code",
      "metadata": {},
      "source": [
        "visualize_weights(model, absolute=True, cmap=\"gray\", figsize=(6, 6))"
      ],
      "id": "3baaa343",
      "execution_count": null,
      "outputs": []
    },
    {
      "cell_type": "code",
      "metadata": {},
      "source": [
        "visualize_gradients(model, fun_control, batch_size, absolute=True, cmap=\"BlueWhiteRed\", figsize=(6, 6))"
      ],
      "id": "9d74fa8e",
      "execution_count": null,
      "outputs": []
    },
    {
      "cell_type": "code",
      "metadata": {},
      "source": [
        "visualize_activations(model, fun_control=fun_control, batch_size=batch_size, device = \"cpu\")"
      ],
      "id": "dcd3e993",
      "execution_count": null,
      "outputs": []
    },
    {
      "cell_type": "code",
      "metadata": {},
      "source": [
        "visualize_activations(model, fun_control=fun_control, batch_size=batch_size, device = \"cpu\")"
      ],
      "id": "cd4d9ef0",
      "execution_count": null,
      "outputs": []
    }
  ],
  "metadata": {
    "kernelspec": {
      "name": "python3",
      "language": "python",
      "display_name": "Python 3 (ipykernel)",
      "path": "/Users/bartz/miniforge3/envs/spot312/share/jupyter/kernels/python3"
    }
  },
  "nbformat": 4,
  "nbformat_minor": 5
}