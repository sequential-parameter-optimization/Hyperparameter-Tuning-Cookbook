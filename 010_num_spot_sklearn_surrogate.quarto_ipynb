{
  "cells": [
    {
      "cell_type": "markdown",
      "metadata": {},
      "source": [
        "---\n",
        "execute:\n",
        "  cache: false\n",
        "  eval: true\n",
        "  echo: true\n",
        "  warning: false\n",
        "  keep-ipynb: true\n",
        "---\n",
        "\n",
        "\n",
        "# Using `sklearn` Surrogates in `spotpython` {#sec-sklearn-surrogates}\n",
        "\n",
        "Besides the internal kriging surrogate, which is used as a default by `spotpython`, any surrogate model from `scikit-learn` can be used as a surrogate in `spotpython`. This chapter explains how to use `scikit-learn` surrogates in `spotpython`.\n"
      ],
      "id": "c33f3251"
    },
    {
      "cell_type": "code",
      "metadata": {},
      "source": [
        "import numpy as np\n",
        "from math import inf\n",
        "from spotpython.fun.objectivefunctions import analytical\n",
        "from spotpython.spot import spot"
      ],
      "id": "0d9c181e",
      "execution_count": null,
      "outputs": []
    },
    {
      "cell_type": "markdown",
      "metadata": {},
      "source": [
        "## Example: Branin Function with `spotpython`'s Internal Kriging Surrogate\n",
        "\n",
        "### The Objective Function Branin\n",
        "\n",
        "* The `spotpython` package provides several classes of objective functions.\n",
        "* We will use an analytical objective function, i.e., a function that can be described by a (closed) formula.\n",
        "* Here we will use the Branin function:\n",
        "\n",
        "        y = a * (x2 - b * x1**2 + c * x1 - r) ** 2 + s * (1 - t) * np.cos(x1) + s,\n",
        "        where values of a, b, c, r, s and t are: a = 1, b = 5.1 / (4*pi**2),\n",
        "        c = 5 / pi, r = 6, s = 10 and t = 1 / (8*pi).\n",
        "\n",
        "* It has three global minima:\n",
        "\n",
        "\n",
        "        f(x) = 0.397887 at (-pi, 12.275), (pi, 2.275), and (9.42478, 2.475).\n"
      ],
      "id": "83ab25b7"
    },
    {
      "cell_type": "code",
      "metadata": {},
      "source": [
        "from spotpython.fun.objectivefunctions import analytical\n",
        "fun = analytical().fun_branin"
      ],
      "id": "296919aa",
      "execution_count": null,
      "outputs": []
    },
    {
      "cell_type": "markdown",
      "metadata": {},
      "source": [
        ":::{.callout-note}\n",
        "#### TensorBoard\n",
        "\n",
        "Similar to the one-dimensional case, which was introduced in Section @sec-visualizing-tensorboard-01, we can use TensorBoard to monitor the progress of the optimization. We will use the same code, only the prefix is different:\n"
      ],
      "id": "3ed6c525"
    },
    {
      "cell_type": "code",
      "metadata": {},
      "source": [
        "from spotpython.utils.init import fun_control_init, design_control_init\n",
        "PREFIX = \"04\"\n",
        "fun_control = fun_control_init(\n",
        "    PREFIX=PREFIX,\n",
        "    lower = np.array([-5,-0]),\n",
        "    upper = np.array([10,15]),\n",
        "    fun_evals=20,\n",
        "    max_time=inf)\n",
        "\n",
        "design_control = design_control_init(\n",
        "    init_size=10)"
      ],
      "id": "6b3f5326",
      "execution_count": null,
      "outputs": []
    },
    {
      "cell_type": "markdown",
      "metadata": {},
      "source": [
        ":::\n",
        "\n",
        "### Running the surrogate model based optimizer `Spot`:\n"
      ],
      "id": "018d8341"
    },
    {
      "cell_type": "code",
      "metadata": {},
      "source": [
        "spot_2 = spot.Spot(fun=fun,\n",
        "                   fun_control=fun_control,\n",
        "                   design_control=design_control)"
      ],
      "id": "76813480",
      "execution_count": null,
      "outputs": []
    },
    {
      "cell_type": "code",
      "metadata": {},
      "source": [
        "spot_2.run()"
      ],
      "id": "3dc7524b",
      "execution_count": null,
      "outputs": []
    },
    {
      "cell_type": "markdown",
      "metadata": {},
      "source": [
        "### TensorBoard\n",
        "\n",
        "Now we can start TensorBoard in the background with the following command:\n",
        "\n",
        "\n",
        "```{raw}\n",
        "tensorboard --logdir=\"./runs\"\n",
        "```\n",
        "\n",
        "\n",
        "We can access the TensorBoard web server with the following URL:\n",
        "\n",
        "\n",
        "```{raw}\n",
        "http://localhost:6006/\n",
        "```\n",
        "\n",
        "\n",
        "The TensorBoard plot illustrates how `spotpython` can be used as a microscope for the internal mechanisms of the surrogate-based optimization process. Here, one important parameter, the learning rate $\\theta$ of the Kriging surrogate is plotted against the number of optimization steps.\n",
        "\n",
        "![TensorBoard visualization of the spotpython optimization process and the surrogate model.](figures_static/04_tensorboard_01.png){width=\"100%\"}\n",
        "\n",
        "\n",
        "\n",
        "### Print the Results\n"
      ],
      "id": "82384efe"
    },
    {
      "cell_type": "code",
      "metadata": {},
      "source": [
        "spot_2.print_results()"
      ],
      "id": "52e6d79b",
      "execution_count": null,
      "outputs": []
    },
    {
      "cell_type": "markdown",
      "metadata": {},
      "source": [
        "### Show the Progress and the Surrogate\n"
      ],
      "id": "7f9f8f3e"
    },
    {
      "cell_type": "code",
      "metadata": {},
      "source": [
        "spot_2.plot_progress(log_y=True)"
      ],
      "id": "d8554910",
      "execution_count": null,
      "outputs": []
    },
    {
      "cell_type": "code",
      "metadata": {},
      "source": [
        "spot_2.surrogate.plot()"
      ],
      "id": "57f9a898",
      "execution_count": null,
      "outputs": []
    },
    {
      "cell_type": "markdown",
      "metadata": {},
      "source": [
        "## Example: Using Surrogates From scikit-learn\n",
        "\n",
        "* Default is the `spotpython` (i.e., the internal) `kriging` surrogate.\n",
        "* It can be called explicitely and passed to `Spot`.\n"
      ],
      "id": "514c20b9"
    },
    {
      "cell_type": "code",
      "metadata": {},
      "source": [
        "from spotpython.build.kriging import Kriging\n",
        "S_0 = Kriging(name='kriging', seed=123)"
      ],
      "id": "0c206c77",
      "execution_count": null,
      "outputs": []
    },
    {
      "cell_type": "markdown",
      "metadata": {},
      "source": [
        "* Alternatively, models from `scikit-learn` can be selected, e.g., Gaussian Process, RBFs, Regression Trees, etc.\n"
      ],
      "id": "b34bc233"
    },
    {
      "cell_type": "code",
      "metadata": {},
      "source": [
        "# Needed for the sklearn surrogates:\n",
        "from sklearn.gaussian_process import GaussianProcessRegressor\n",
        "from sklearn.gaussian_process.kernels import RBF\n",
        "from sklearn.tree import DecisionTreeRegressor\n",
        "from sklearn.ensemble import RandomForestRegressor\n",
        "from sklearn import linear_model\n",
        "from sklearn import tree\n",
        "import pandas as pd"
      ],
      "id": "5af37de2",
      "execution_count": null,
      "outputs": []
    },
    {
      "cell_type": "markdown",
      "metadata": {},
      "source": [
        "* Here are some additional models that might be useful later:\n"
      ],
      "id": "a2ded53b"
    },
    {
      "cell_type": "code",
      "metadata": {},
      "source": [
        "S_Tree = DecisionTreeRegressor(random_state=0)\n",
        "S_LM = linear_model.LinearRegression()\n",
        "S_Ridge = linear_model.Ridge()\n",
        "S_RF = RandomForestRegressor(max_depth=2, random_state=0)"
      ],
      "id": "991f0215",
      "execution_count": null,
      "outputs": []
    },
    {
      "cell_type": "markdown",
      "metadata": {},
      "source": [
        "### GaussianProcessRegressor as a Surrogate\n",
        "\n",
        "* To use a Gaussian Process model from `sklearn`, that is similar to `spotpython`'s `Kriging`, we can proceed as follows:\n"
      ],
      "id": "269a3c85"
    },
    {
      "cell_type": "code",
      "metadata": {},
      "source": [
        "kernel = 1 * RBF(length_scale=1.0, length_scale_bounds=(1e-2, 1e2))\n",
        "S_GP = GaussianProcessRegressor(kernel=kernel, n_restarts_optimizer=9)"
      ],
      "id": "34fbf08e",
      "execution_count": null,
      "outputs": []
    },
    {
      "cell_type": "markdown",
      "metadata": {},
      "source": [
        "* The scikit-learn GP model `S_GP` is selected for `Spot` as follows: \n",
        "\n",
        "    `surrogate = S_GP`\n",
        "\n",
        "* We can check the kind of surogate model with the command `isinstance`:\n"
      ],
      "id": "b9996258"
    },
    {
      "cell_type": "code",
      "metadata": {},
      "source": [
        "isinstance(S_GP, GaussianProcessRegressor) "
      ],
      "id": "8c066ed7",
      "execution_count": null,
      "outputs": []
    },
    {
      "cell_type": "code",
      "metadata": {},
      "source": [
        "isinstance(S_0, Kriging)"
      ],
      "id": "e6c57b36",
      "execution_count": null,
      "outputs": []
    },
    {
      "cell_type": "markdown",
      "metadata": {},
      "source": [
        "* Similar to the `Spot` run with the internal `Kriging` model, we can call the run with the `scikit-learn` surrogate:\n"
      ],
      "id": "f2ad0bb0"
    },
    {
      "cell_type": "code",
      "metadata": {},
      "source": [
        "fun = analytical(seed=123).fun_branin\n",
        "spot_2_GP = spot.Spot(fun=fun,\n",
        "                     fun_control=fun_control,\n",
        "                     design_control=design_control,\n",
        "                     surrogate = S_GP)\n",
        "spot_2_GP.run()"
      ],
      "id": "f1eb1992",
      "execution_count": null,
      "outputs": []
    },
    {
      "cell_type": "code",
      "metadata": {},
      "source": [
        "spot_2_GP.plot_progress()"
      ],
      "id": "9945c3a7",
      "execution_count": null,
      "outputs": []
    },
    {
      "cell_type": "code",
      "metadata": {},
      "source": [
        "spot_2_GP.print_results()"
      ],
      "id": "74fe16e1",
      "execution_count": null,
      "outputs": []
    },
    {
      "cell_type": "markdown",
      "metadata": {},
      "source": [
        "## Example: One-dimensional Sphere Function With `spotpython`'s Kriging\n",
        "\n",
        "* In this example, we will use an one-dimensional function, which allows us to visualize the optimization process.\n",
        "  * `show_models= True` is added to the argument list.\n"
      ],
      "id": "b2ef3abc"
    },
    {
      "cell_type": "code",
      "metadata": {},
      "source": [
        "from spotpython.fun.objectivefunctions import analytical\n",
        "fun_control = fun_control_init(\n",
        "    lower = np.array([-1]),\n",
        "    upper = np.array([1]),\n",
        "    fun_evals=10,\n",
        "    max_time=inf,\n",
        "    show_models= True,\n",
        "    tolerance_x = np.sqrt(np.spacing(1)))\n",
        "fun = analytical(seed=123).fun_sphere\n",
        "design_control = design_control_init(\n",
        "    init_size=3)"
      ],
      "id": "37d1b383",
      "execution_count": null,
      "outputs": []
    },
    {
      "cell_type": "code",
      "metadata": {},
      "source": [
        "spot_1 = spot.Spot(fun=fun,\n",
        "                    fun_control=fun_control,\n",
        "                    design_control=design_control)\n",
        "spot_1.run()"
      ],
      "id": "acc0c776",
      "execution_count": null,
      "outputs": []
    },
    {
      "cell_type": "markdown",
      "metadata": {},
      "source": [
        "### Results\n"
      ],
      "id": "93d7d6a1"
    },
    {
      "cell_type": "code",
      "metadata": {},
      "source": [
        "spot_1.print_results()"
      ],
      "id": "d4e8a796",
      "execution_count": null,
      "outputs": []
    },
    {
      "cell_type": "code",
      "metadata": {},
      "source": [
        "spot_1.plot_progress(log_y=True)"
      ],
      "id": "d064b01e",
      "execution_count": null,
      "outputs": []
    },
    {
      "cell_type": "markdown",
      "metadata": {},
      "source": [
        "* The method `plot_model` plots the final surrogate:\n"
      ],
      "id": "87f12dc9"
    },
    {
      "cell_type": "code",
      "metadata": {},
      "source": [
        "spot_1.plot_model()"
      ],
      "id": "ad7c3e29",
      "execution_count": null,
      "outputs": []
    },
    {
      "cell_type": "markdown",
      "metadata": {},
      "source": [
        "## Example: `Sklearn` Model GaussianProcess\n",
        "\n",
        "* This example visualizes the search process on the `GaussianProcessRegression` surrogate from `sklearn`.\n",
        "* Therefore `surrogate = S_GP` is added to the argument list.\n"
      ],
      "id": "dab8f243"
    },
    {
      "cell_type": "code",
      "metadata": {},
      "source": [
        "fun = analytical(seed=123).fun_sphere\n",
        "spot_1_GP = spot.Spot(fun=fun,\n",
        "                      fun_control=fun_control,\n",
        "                      design_control=design_control,\n",
        "                      surrogate = S_GP)\n",
        "spot_1_GP.run()"
      ],
      "id": "e0e21083",
      "execution_count": null,
      "outputs": []
    },
    {
      "cell_type": "code",
      "metadata": {},
      "source": [
        "spot_1_GP.print_results()"
      ],
      "id": "243bb6e3",
      "execution_count": null,
      "outputs": []
    },
    {
      "cell_type": "code",
      "metadata": {},
      "source": [
        "spot_1_GP.plot_progress(log_y=True)"
      ],
      "id": "237aa1dc",
      "execution_count": null,
      "outputs": []
    },
    {
      "cell_type": "code",
      "metadata": {},
      "source": [
        "spot_1_GP.plot_model()"
      ],
      "id": "a6f0e8a3",
      "execution_count": null,
      "outputs": []
    },
    {
      "cell_type": "markdown",
      "metadata": {},
      "source": [
        "## Exercises\n",
        "\n",
        "### 1. A decision tree regressor: `DecisionTreeRegressor` {#sec-10-exercise-01}\n",
        "\n",
        "* Describe the surrogate model. Use the information from the [scikit-learn documentation](https://scikit-learn.org/stable/modules/generated/sklearn.tree.DecisionTreeRegressor.html).\n",
        "* Use the surrogate as the model for optimization.\n",
        "\n",
        "### 2. A random forest regressor: `RandomForestRegressor` {#sec-10-exercise-02}\n",
        "\n",
        "* Describe the surrogate model. Use the information from the [scikit-learn documentation](https://scikit-learn.org/stable/modules/generated/sklearn.ensemble.RandomForestRegressor.html).\n",
        "* Use the surrogate as the model for optimization.\n",
        "\n",
        "### 3. Ordinary least squares Linear Regression: `LinearRegression` {#sec-10-exercise-03}\n",
        "\n",
        "* Describe the surrogate model. Use the information from the [scikit-learn documentation](https://scikit-learn.org/stable/modules/generated/sklearn.linear_model.LinearRegression.html).\n",
        "* Use the surrogate as the model for optimization.\n",
        "\n",
        "### 4. Linear least squares with l2 regularization: `Ridge` {#sec-10-exercise-04}\n",
        "\n",
        "* Describe the surrogate model. Use the information from the [scikit-learn documentation](https://scikit-learn.org/stable/modules/generated/sklearn.linear_model.Ridge.html).\n",
        "* Use the surrogate as the model for optimization.\n",
        "\n",
        "### 5. Gradient Boosting: `HistGradientBoostingRegressor` {#sec-10-exercise-05}\n",
        "\n",
        "* Describe the surrogate model. Use the information from the [scikit-learn documentation](https://scikit-learn.org/stable/modules/generated/sklearn.ensemble.HistGradientBoostingRegressor.html#sklearn.ensemble.HistGradientBoostingRegressor).\n",
        "* Use the surrogate as the model for optimization.\n",
        "\n",
        "\n",
        "\n",
        "### 6. Comparison of Surrogates {#sec-10-exercise-06}\n",
        "\n",
        "* Use the following two objective functions\n",
        "\n",
        "  1. the 1-dim sphere function [`fun_sphere`](https://github.com/sequential-parameter-optimization/spotpython/blob/main/src/spotpython/fun/objectivefunctions.py) and\n",
        "  2. the two-dim Branin function [`fun_branin`](https://github.com/sequential-parameter-optimization/spotpython/blob/main/src/spotpython/fun/objectivefunctions.py):\n",
        "    \n",
        "    for a comparison of the performance of the five different surrogates: \n",
        "    * `spotpython`'s internal Kriging\n",
        "    * `DecisionTreeRegressor`\n",
        "    * `RandomForestRegressor`\n",
        "    * `linear_model.LinearRegression`\n",
        "    * `linear_model.Ridge`.\n",
        "\n",
        "* Generate a table with the results (number of function evaluations, best function value, and best parameter vector) for each surrogate and each function as shown in @tbl-results.\n",
        "\n",
        "| `surrogate` | `fun` | `fun_evals` | `max_time` | `x_0` | `min_y` | Comments |\n",
        "|-------------|-------|-------------:|------------|------------------:|---------:|----------|\n",
        "| `Kriging`     | `fun_sphere` | 10         | `inf`         |          |      |          |\n",
        "| `Kriging`     | `fun_branin` | 10         | `inf`          |          |      |          |\n",
        "| `DecisionTreeRegressor`     | `fun_sphere` | 10         | `inf`          |          |      |          |\n",
        "| ...     | ... | ...         | ...          |          |      |          |\n",
        "| `Ridge`     | `fun_branin` | 10         | `inf`          |          |      |          |\n",
        "\n",
        ": Result table {#tbl-results}\n",
        "\n",
        "* Discuss the results. Which surrogate is the best for which function? Why?\n",
        "\n",
        "\n",
        "## Selected Solutions\n",
        "\n",
        "### Solution to Exercise @sec-10-exercise-05: Gradient Boosting\n",
        "\n",
        "\n",
        "#### Branin: Using SPOT\n"
      ],
      "id": "2ac7c6fc"
    },
    {
      "cell_type": "code",
      "metadata": {},
      "source": [
        "import numpy as np\n",
        "from math import inf\n",
        "from spotpython.fun.objectivefunctions import analytical\n",
        "from spotpython.utils.init import fun_control_init, design_control_init\n",
        "from spotpython.spot import spot"
      ],
      "id": "53c566d1",
      "execution_count": null,
      "outputs": []
    },
    {
      "cell_type": "markdown",
      "metadata": {},
      "source": [
        "* The Objective Function Branin\n"
      ],
      "id": "98addf29"
    },
    {
      "cell_type": "code",
      "metadata": {},
      "source": [
        "fun = analytical().fun_branin\n",
        "PREFIX = \"BRANIN\"\n",
        "fun_control = fun_control_init(\n",
        "    PREFIX=PREFIX,\n",
        "    lower = np.array([-5,-0]),\n",
        "    upper = np.array([10,15]),\n",
        "    fun_evals=20,\n",
        "    max_time=inf)\n",
        "\n",
        "design_control = design_control_init(\n",
        "    init_size=10)"
      ],
      "id": "9cdf232d",
      "execution_count": null,
      "outputs": []
    },
    {
      "cell_type": "markdown",
      "metadata": {},
      "source": [
        "*  Running the surrogate model based optimizer `Spot`:\n"
      ],
      "id": "94b34d3c"
    },
    {
      "cell_type": "code",
      "metadata": {},
      "source": [
        "spot_2 = spot.Spot(fun=fun,\n",
        "                   fun_control=fun_control,\n",
        "                   design_control=design_control)\n",
        "spot_2.run()"
      ],
      "id": "d9568f0a",
      "execution_count": null,
      "outputs": []
    },
    {
      "cell_type": "markdown",
      "metadata": {},
      "source": [
        "* Print the results\n"
      ],
      "id": "d7c30dbd"
    },
    {
      "cell_type": "code",
      "metadata": {},
      "source": [
        "spot_2.print_results()"
      ],
      "id": "a6c4cbc1",
      "execution_count": null,
      "outputs": []
    },
    {
      "cell_type": "markdown",
      "metadata": {},
      "source": [
        "*  Show the optimization progress:\n"
      ],
      "id": "3429757e"
    },
    {
      "cell_type": "code",
      "metadata": {},
      "source": [
        "spot_2.plot_progress(log_y=True)"
      ],
      "id": "8da527fc",
      "execution_count": null,
      "outputs": []
    },
    {
      "cell_type": "markdown",
      "metadata": {},
      "source": [
        "* Generate a surrogate model plot:\n"
      ],
      "id": "3deffc07"
    },
    {
      "cell_type": "code",
      "metadata": {},
      "source": [
        "spot_2.surrogate.plot()"
      ],
      "id": "cb970fcf",
      "execution_count": null,
      "outputs": []
    },
    {
      "cell_type": "markdown",
      "metadata": {},
      "source": [
        "#### Branin: Using Surrogates From scikit-learn\n",
        "\n",
        "* The `HistGradientBoostingRegressor` model from `scikit-learn` is selected:\n"
      ],
      "id": "5d5d6aa4"
    },
    {
      "cell_type": "code",
      "metadata": {},
      "source": [
        "# Needed for the sklearn surrogates:\n",
        "from sklearn.ensemble import HistGradientBoostingRegressor\n",
        "import pandas as pd\n",
        "S_XGB = HistGradientBoostingRegressor()"
      ],
      "id": "22f2296a",
      "execution_count": null,
      "outputs": []
    },
    {
      "cell_type": "markdown",
      "metadata": {},
      "source": [
        "* The scikit-learn XGB model `S_XGB` is selected for `Spot` as follows: `surrogate = S_XGB`.\n",
        "* Similar to the `Spot` run with the internal `Kriging` model, we can call the run with the `scikit-learn` surrogate:\n"
      ],
      "id": "31e82c46"
    },
    {
      "cell_type": "code",
      "metadata": {},
      "source": [
        "fun = analytical(seed=123).fun_branin\n",
        "spot_2_XGB = spot.Spot(fun=fun,\n",
        "                     fun_control=fun_control,\n",
        "                     design_control=design_control,\n",
        "                     surrogate = S_XGB)\n",
        "spot_2_XGB.run()"
      ],
      "id": "cfa92a9c",
      "execution_count": null,
      "outputs": []
    },
    {
      "cell_type": "markdown",
      "metadata": {},
      "source": [
        "* Print the Results\n"
      ],
      "id": "e3108e3f"
    },
    {
      "cell_type": "code",
      "metadata": {},
      "source": [
        "spot_2_XGB.print_results()"
      ],
      "id": "9d9bfd09",
      "execution_count": null,
      "outputs": []
    },
    {
      "cell_type": "markdown",
      "metadata": {},
      "source": [
        "*  Show the Progress\n"
      ],
      "id": "dc9d8ae1"
    },
    {
      "cell_type": "code",
      "metadata": {},
      "source": [
        "spot_2_XGB.plot_progress(log_y=True)"
      ],
      "id": "251d70ab",
      "execution_count": null,
      "outputs": []
    },
    {
      "cell_type": "markdown",
      "metadata": {},
      "source": [
        "* Since the `sklearn` model does not provide a `plot` method, we cannot generate a surrogate model plot.\n",
        "\n",
        "\n",
        "#### One-dimensional Sphere Function With `spotpython`'s Kriging\n",
        "\n",
        "* In this example, we will use an one-dimensional function, which allows us to visualize the optimization process.\n",
        "  * `show_models= True` is added to the argument list.\n"
      ],
      "id": "84b73c36"
    },
    {
      "cell_type": "code",
      "metadata": {},
      "source": [
        "from spotpython.fun.objectivefunctions import analytical\n",
        "fun_control = fun_control_init(\n",
        "    lower = np.array([-1]),\n",
        "    upper = np.array([1]),\n",
        "    fun_evals=10,\n",
        "    max_time=inf,\n",
        "    show_models= True,\n",
        "    tolerance_x = np.sqrt(np.spacing(1)))\n",
        "fun = analytical(seed=123).fun_sphere\n",
        "design_control = design_control_init(\n",
        "    init_size=3)"
      ],
      "id": "70d1cd53",
      "execution_count": null,
      "outputs": []
    },
    {
      "cell_type": "code",
      "metadata": {},
      "source": [
        "spot_1 = spot.Spot(fun=fun,\n",
        "                    fun_control=fun_control,\n",
        "                    design_control=design_control)\n",
        "spot_1.run()"
      ],
      "id": "0cc5ab0a",
      "execution_count": null,
      "outputs": []
    },
    {
      "cell_type": "markdown",
      "metadata": {},
      "source": [
        "* Print the Results\n"
      ],
      "id": "27c386ad"
    },
    {
      "cell_type": "code",
      "metadata": {},
      "source": [
        "spot_1.print_results()"
      ],
      "id": "8c52342c",
      "execution_count": null,
      "outputs": []
    },
    {
      "cell_type": "markdown",
      "metadata": {},
      "source": [
        "* Show the Progress"
      ],
      "id": "0e4c5e03"
    },
    {
      "cell_type": "code",
      "metadata": {},
      "source": [
        "spot_1.plot_progress(log_y=True)"
      ],
      "id": "abf118ea",
      "execution_count": null,
      "outputs": []
    },
    {
      "cell_type": "markdown",
      "metadata": {},
      "source": [
        "* The method `plot_model` plots the final surrogate:\n"
      ],
      "id": "6868294d"
    },
    {
      "cell_type": "code",
      "metadata": {},
      "source": [
        "spot_1.plot_model()"
      ],
      "id": "d8bcd691",
      "execution_count": null,
      "outputs": []
    },
    {
      "cell_type": "markdown",
      "metadata": {},
      "source": [
        "#### One-dimensional Sphere Function With `Sklearn` Model HistGradientBoostingRegressor\n",
        "\n",
        "* This example visualizes the search process on the `HistGradientBoostingRegressor` surrogate from `sklearn`.\n",
        "* Therefore `surrogate = S_XGB` is added to the argument list.\n"
      ],
      "id": "fe7a4086"
    },
    {
      "cell_type": "code",
      "metadata": {},
      "source": [
        "fun_control = fun_control_init(\n",
        "    lower = np.array([-1]),\n",
        "    upper = np.array([1]),\n",
        "    fun_evals=10,\n",
        "    max_time=inf,\n",
        "    show_models= True,\n",
        "    tolerance_x = np.sqrt(np.spacing(1)))\n",
        "fun = analytical(seed=123).fun_sphere\n",
        "design_control = design_control_init(\n",
        "    init_size=3)\n",
        "spot_1_XGB = spot.Spot(fun=fun,\n",
        "                      fun_control=fun_control,\n",
        "                      design_control=design_control,\n",
        "                      surrogate = S_XGB)\n",
        "spot_1_XGB.run()"
      ],
      "id": "1c512ae9",
      "execution_count": null,
      "outputs": []
    },
    {
      "cell_type": "code",
      "metadata": {},
      "source": [
        "spot_1_XGB.print_results()"
      ],
      "id": "e9924fb9",
      "execution_count": null,
      "outputs": []
    },
    {
      "cell_type": "code",
      "metadata": {},
      "source": [
        "spot_1_XGB.plot_progress(log_y=True)"
      ],
      "id": "8cb85b95",
      "execution_count": null,
      "outputs": []
    },
    {
      "cell_type": "code",
      "metadata": {},
      "source": [
        "spot_1_XGB.plot_model()"
      ],
      "id": "cd200762",
      "execution_count": null,
      "outputs": []
    },
    {
      "cell_type": "markdown",
      "metadata": {},
      "source": [
        "## Jupyter Notebook\n",
        "\n",
        ":::{.callout-note}\n",
        "\n",
        "* The Jupyter-Notebook of this lecture is available on GitHub in the [Hyperparameter-Tuning-Cookbook Repository](https://github.com/sequential-parameter-optimization/Hyperparameter-Tuning-Cookbook/blob/main/010_num_spot_sklearn_surrogate.ipynb)\n",
        "\n",
        ":::"
      ],
      "id": "7b30ce5d"
    }
  ],
  "metadata": {
    "kernelspec": {
      "name": "python3",
      "language": "python",
      "display_name": "Python 3 (ipykernel)",
      "path": "/Users/bartz/miniforge3/envs/spot312/share/jupyter/kernels/python3"
    }
  },
  "nbformat": 4,
  "nbformat_minor": 5
}