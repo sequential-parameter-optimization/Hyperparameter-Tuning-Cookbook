{
  "cells": [
    {
      "cell_type": "raw",
      "metadata": {},
      "source": [
        "---\n",
        "execute:\n",
        "  cache: false\n",
        "  eval: true\n",
        "  echo: true\n",
        "  warning: false\n",
        "---"
      ]
    },
    {
      "cell_type": "markdown",
      "metadata": {},
      "source": [
        "# Lightning CNNs With SPOT:"
      ]
    },
    {
      "cell_type": "markdown",
      "metadata": {},
      "source": [
        "## 1. JSON\n",
        "\n",
        "\n",
        " `data.lightning_hyper_dict.json`"
      ]
    },
    {
      "cell_type": "code",
      "execution_count": null,
      "metadata": {},
      "outputs": [],
      "source": [
        "  \"GoogleNet\":\n",
        "    {\n",
        "    \"act_fn\": {\n",
        "            \"levels\": [\"Sigmoid\",\n",
        "                       \"Tanh\",\n",
        "                       \"ReLU\",\n",
        "                       \"LeakyReLU\",\n",
        "                       \"ELU\",\n",
        "                       \"Swish\"],\n",
        "            \"type\": \"factor\",\n",
        "            \"default\": \"ReLU\",\n",
        "            \"transform\": \"None\",\n",
        "            \"class_name\": \"spotPython.torch.activation\",\n",
        "            \"core_model_parameter_type\": \"instance\",\n",
        "            \"lower\": 0,\n",
        "            \"upper\": 5},\n",
        "    \"optimizer_name\": {\n",
        "        \"levels\": [\n",
        "                   \"Adam\"\n",
        "                ],\n",
        "        \"type\": \"factor\",\n",
        "        \"default\": \"Adam\",\n",
        "        \"transform\": \"None\",\n",
        "        \"class_name\": \"torch.optim\",\n",
        "        \"core_model_parameter_type\": \"str\",\n",
        "        \"lower\": 0,\n",
        "        \"upper\": 0}\n",
        "    }"
      ]
    },
    {
      "cell_type": "markdown",
      "metadata": {},
      "source": [
        "## 2. Class HyperLightning.py\n",
        "\n",
        " ```{python}\n",
        " def fun(self,\n",
        "        X: np.ndarray,\n",
        "        fun_control: dict = None) -> np.ndarray:\n",
        "```"
      ]
    },
    {
      "cell_type": "markdown",
      "metadata": {},
      "source": [
        "1. Args: `numpy.array` from `spotPython`: hyperparameters as numerical values\n",
        "2. Generates a dictionary with hyperparameters, e.g.:\n",
        "\n",
        "\n",
        "   ```{JSON}\n",
        "   config: {\n",
        "      'act_fn': <class 'spotPython.torch.activation.ReLU'>,\n",
        "      'optimizer_name': 'Adam'}`\n",
        "   ```\n",
        "\n",
        "3. Passes dictionary to method `train_model()` "
      ]
    },
    {
      "cell_type": "markdown",
      "metadata": {},
      "source": [
        "## 3. train_model()\n",
        "\n",
        " `def train_model(config: dict, fun_control: dict):`"
      ]
    },
    {
      "cell_type": "markdown",
      "metadata": {},
      "source": [
        "1. Prepares the data, e.g., `CIFAR10DataModule`\n",
        "2. Sets up the Trainer\n",
        "3. Sets up the model, e.g.,\n",
        "\n",
        "```{python}\n",
        "model = NetCNNBase(\n",
        "            model_name=fun_control[\"core_model\"].__name__,\n",
        "            model_hparams=config,\n",
        "            optimizer_name=\"Adam\",\n",
        "            optimizer_hparams={\"lr\": 1e-3, \"weight_decay\": 1e-4},\n",
        "        )\n",
        "```"
      ]
    },
    {
      "cell_type": "markdown",
      "metadata": {},
      "source": [
        ":::{.callout-note}\n",
        "### Note: train_model is based on train_model\n",
        "\n",
        "* Based on:\n",
        "`def train_model(model_name, save_name=None, **kwargs)` from [https://lightning.ai/docs/pytorch/stable/notebooks/course_UvA-DL/04-inception-resnet-densenet.html](https://lightning.ai/docs/pytorch/stable/notebooks/course_UvA-DL/04-inception-resnet-densenet.html)\n",
        ":::"
      ]
    },
    {
      "cell_type": "markdown",
      "metadata": {},
      "source": [
        "## 4. netcnnbase.py\n",
        "\n",
        "```{python}\n",
        "class NetCNNBase(L.LightningModule):\n",
        "    def __init__(self,\n",
        "                model_name,\n",
        "                model_hparams,\n",
        "                optimizer_name,\n",
        "                optimizer_hparams):\n",
        "```\n",
        "\n",
        "1. Saves hyperparameters in `self.hparams`\n",
        "2. Creates model\n",
        "3. Creates loss module\n",
        "4. Creates optimizer\n",
        "5. Defines forward pass\n",
        "6. Defines training step\n",
        "7. Defines validation step\n",
        "8. Defines test step\n"
      ]
    },
    {
      "cell_type": "markdown",
      "metadata": {},
      "source": [
        ":::{.callout-note}\n",
        "### Note: netCNNBase is based on CIFARModule\n",
        "\n",
        "* Based on:\n",
        "`class CIFARModule(L.LightningModule)` from [https://lightning.ai/docs/pytorch/stable/notebooks/course_UvA-DL/04-inception-resnet-densenet.html](https://lightning.ai/docs/pytorch/stable/notebooks/course_UvA-DL/04-inception-resnet-densenet.html)\n",
        ":::"
      ]
    },
    {
      "cell_type": "markdown",
      "metadata": {},
      "source": [
        "## 5. GoogleNet\n",
        "\n",
        "```{python}\n",
        "class GoogleNet(nn.Module):\n",
        "    \"\"\"GoogleNet architecture\n",
        "\n",
        "    Args:\n",
        "        num_classes (int):\n",
        "            Number of classes for the classification task. Defaults to 10.\n",
        "        act_fn_name (str):\n",
        "            Name of the activation function. Defaults to \"relu\".\n",
        "        **kwargs:\n",
        "            Additional keyword arguments.\n",
        "\n",
        "    Attributes:\n",
        "        hparams (SimpleNamespace):\n",
        "            Namespace containing the hyperparameters.\n",
        "        input_net (nn.Sequential):\n",
        "            Input network.\n",
        "        inception_blocks (nn.Sequential):\n",
        "            Inception blocks.\n",
        "        output_net (nn.Sequential):\n",
        "            Output network.\n",
        "\n",
        "    Returns:\n",
        "        (torch.Tensor):\n",
        "            Output tensor of the GoogleNet architecture\n",
        "\n",
        "    Examples:\n",
        "        >>> from spotPython.light.cnn.googlenet import GoogleNet\n",
        "            import torch\n",
        "            import torch.nn as nn\n",
        "            model = GoogleNet()\n",
        "            x = torch.randn(1, 3, 32, 32)\n",
        "            y = model(x)\n",
        "            y.shape\n",
        "            torch.Size([1, 10])\n",
        "    \"\"\"\n",
        "```"
      ]
    },
    {
      "cell_type": "markdown",
      "metadata": {},
      "source": [
        ":::{.callout-note}\n",
        "### Note: GoogleNet is based on GoogleNet\n",
        "\n",
        "* Based on:\n",
        "`class GoogleNet(nn.Module):` from [https://lightning.ai/docs/pytorch/stable/notebooks/course_UvA-DL/04-inception-resnet-densenet.html](https://lightning.ai/docs/pytorch/stable/notebooks/course_UvA-DL/04-inception-resnet-densenet.html)\n",
        ":::"
      ]
    },
    {
      "cell_type": "markdown",
      "metadata": {},
      "source": [
        "## 6. InceptionBlock\n",
        "\n",
        "```{python}\n",
        "class InceptionBlock(nn.Module):\n",
        "    def __init__(self, c_in, c_red: dict, c_out: dict, act_fn):\n",
        "        \"\"\"\n",
        "        Inception block as used in GoogLeNet.\n",
        "\n",
        "        Args:\n",
        "            c_in:\n",
        "                Number of input feature maps from the previous layers\n",
        "            c_red:\n",
        "                Dictionary with keys \"3x3\" and \"5x5\" specifying\n",
        "                the output of the dimensionality reducing 1x1 convolutions\n",
        "            c_out:\n",
        "                Dictionary with keys \"1x1\", \"3x3\", \"5x5\", and \"max\"\n",
        "            act_fn:\n",
        "                Activation class constructor (e.g. nn.ReLU)\n",
        "\n",
        "        Returns:\n",
        "            torch.Tensor:\n",
        "                Output tensor of the inception block\n",
        "\n",
        "        Examples:\n",
        "            >>> from spotPython.light.cnn.googlenet import InceptionBlock\n",
        "                import torch\n",
        "                import torch.nn as nn\n",
        "                block = InceptionBlock(3,\n",
        "                            {\"3x3\": 32, \"5x5\": 16},\n",
        "                            {\"1x1\": 16, \"3x3\": 32, \"5x5\": 8, \"max\": 8},\n",
        "                            nn.ReLU)\n",
        "                x = torch.randn(1, 3, 32, 32)\n",
        "                y = block(x)\n",
        "                y.shape\n",
        "                torch.Size([1, 64, 32, 32])\n",
        "\n",
        "        \"\"\"\n",
        "```"
      ]
    },
    {
      "cell_type": "markdown",
      "metadata": {},
      "source": [
        ":::{.callout-note}\n",
        "### Note: Inception Block is based on InceptionBlock\n",
        "\n",
        "* Based on:\n",
        "`class InceptionBlock(nn.Module)` from [https://lightning.ai/docs/pytorch/stable/notebooks/course_UvA-DL/04-inception-resnet-densenet.html](https://lightning.ai/docs/pytorch/stable/notebooks/course_UvA-DL/04-inception-resnet-densenet.html)\n",
        ":::"
      ]
    },
    {
      "cell_type": "markdown",
      "metadata": {},
      "source": [
        "## TBD: ResNet, DenseNet..."
      ]
    },
    {
      "cell_type": "markdown",
      "metadata": {},
      "source": [
        "## Tensorboard {#sec-tensorboard-31}\n",
        "\n",
        "The textual output shown in the console (or code cell) can be visualized with Tensorboard.\n",
        "\n",
        "```{raw}\n",
        "tensorboard --logdir=\"runs/\""
      ]
    },
    {
      "cell_type": "markdown",
      "metadata": {},
      "source": [
        "# Sample Run"
      ]
    },
    {
      "cell_type": "code",
      "execution_count": 2,
      "metadata": {},
      "outputs": [
        {
          "name": "stderr",
          "output_type": "stream",
          "text": [
            "Global seed set to 42\n"
          ]
        },
        {
          "data": {
            "text/plain": [
              "array([[2, 0]])"
            ]
          },
          "execution_count": 2,
          "metadata": {},
          "output_type": "execute_result"
        }
      ],
      "source": [
        "from spotPython.utils.init import fun_control_init\n",
        "from spotPython.utils.file import get_experiment_name, get_spot_tensorboard_path\n",
        "from spotPython.utils.device import getDevice\n",
        "from spotPython.light.cnn.googlenet import GoogleNet\n",
        "from spotPython.data.lightning_hyper_dict import LightningHyperDict\n",
        "from spotPython.hyperparameters.values import add_core_model_to_fun_control\n",
        "from spotPython.fun.hyperlightning import HyperLightning\n",
        "from spotPython.hyperparameters.values import get_default_hyperparameters_as_array\n",
        "\n",
        "MAX_TIME = 1\n",
        "INIT_SIZE = 3\n",
        "WORKERS = 8\n",
        "PREFIX=\"TEST\"\n",
        "experiment_name = get_experiment_name(prefix=PREFIX)\n",
        "fun_control = fun_control_init(\n",
        "    spot_tensorboard_path=get_spot_tensorboard_path(experiment_name),\n",
        "    num_workers=WORKERS,\n",
        "    device=getDevice(),\n",
        "    _L_in=3,\n",
        "    _L_out=10,\n",
        "    TENSORBOARD_CLEAN=True)\n",
        "\n",
        "add_core_model_to_fun_control(core_model=GoogleNet,\n",
        "                            fun_control=fun_control,\n",
        "                            hyper_dict= LightningHyperDict)\n",
        "\n",
        "X_start = get_default_hyperparameters_as_array(fun_control)\n",
        "X_start"
      ]
    },
    {
      "cell_type": "code",
      "execution_count": null,
      "metadata": {},
      "outputs": [],
      "source": [
        "\n",
        "hyper_light = HyperLightning(seed=126, log_level=50)\n",
        "hyper_light.fun(X=X_start, fun_control=fun_control)"
      ]
    },
    {
      "cell_type": "code",
      "execution_count": null,
      "metadata": {},
      "outputs": [],
      "source": [
        "fun_control['weights']\n"
      ]
    },
    {
      "cell_type": "code",
      "execution_count": null,
      "metadata": {},
      "outputs": [],
      "source": []
    }
  ],
  "metadata": {
    "kernelspec": {
      "display_name": "Python 3 (ipykernel)",
      "language": "python",
      "name": "python3"
    },
    "language_info": {
      "codemirror_mode": {
        "name": "ipython",
        "version": 3
      },
      "file_extension": ".py",
      "mimetype": "text/x-python",
      "name": "python",
      "nbconvert_exporter": "python",
      "pygments_lexer": "ipython3",
      "version": "3.10.6"
    }
  },
  "nbformat": 4,
  "nbformat_minor": 4
}
