{
  "cells": [
    {
      "cell_type": "markdown",
      "metadata": {},
      "source": [
        "---\n",
        "execute:\n",
        "  cache: false\n",
        "  eval: true\n",
        "  echo: true\n",
        "  warning: false\n",
        "jupyter: python3\n",
        "---\n",
        "\n",
        "# Datasets\n",
        "\n",
        "##  The Diabetes Data Set {#sec-a-05-diabetes-data-set}\n",
        "\n",
        "This section describes the `Diabetes` data set. This is a PyTorch Dataset for regression, which is derived from the `Diabetes` data set from `scikit-learn` (sklearn).\n",
        "Ten baseline variables, age, sex, body mass index, average blood pressure, and six blood serum measurements were obtained for each of n = 442 diabetes patients,  as well as the response of interest, a quantitative measure of disease progression one year after baseline.\n",
        "\n",
        "### Data Exploration of the sklearn Diabetes Data Set"
      ]
    },
    {
      "cell_type": "code",
      "metadata": {},
      "source": [
        "#| label: load_diabetes_sklearn\n",
        "from sklearn.datasets import load_diabetes\n",
        "from spotpython.plot.xy import plot_y_vs_X\n",
        "data = load_diabetes()\n",
        "X, y = data.data, data.target\n",
        "plot_y_vs_X(X, y, nrows=5, ncols=2, figsize=(20, 15))"
      ],
      "execution_count": null,
      "outputs": []
    },
    {
      "cell_type": "markdown",
      "metadata": {},
      "source": [
        "* Each of these 10 feature variables have been mean centered and scaled by the standard deviation times the square root of n_samples (i.e., the sum of squares of each column totals 1).\n",
        "\n",
        "* `s3_hdl` shows a different behavior than the other features. It has a negative slope. `HDL` (high-density lipoprotein) cholesterol, sometimes called “good” cholesterol, absorbs cholesterol in the blood and carries it back to the liver. The liver then flushes it from the body. High levels of HDL cholesterol can lower your risk for heart disease and stroke.\n",
        "\n",
        "### Generating the PyTorch Data Set\n",
        "\n",
        "`spotpython` provides a `Diabetes` class to load the diabetes data set. The `Diabetes` class is a subclass of `torch.utils.data.Dataset`. It loads the diabetes data set from `sklearn` and returns the data set as a `torch.utils.data.Dataset` object, so that features and targets can be accessed as `torch.tensor`s. [[CODE REFERENCE]](https://sequential-parameter-optimization.github.io/spotPython/reference/spotpython/data/diabetes/).\n"
      ]
    },
    {
      "cell_type": "code",
      "metadata": {},
      "source": [
        "from spotpython.data.diabetes import Diabetes\n",
        "data_set = Diabetes()\n",
        "print(len(data_set))\n",
        "print(data_set.names)"
      ],
      "execution_count": null,
      "outputs": []
    },
    {
      "cell_type": "markdown",
      "metadata": {},
      "source": [
        "## The Friedman Drift Dataset {#sec-a-05-friedman}"
      ]
    },
    {
      "cell_type": "code",
      "metadata": {},
      "source": [
        "#| echo: false\n",
        "#| label: 024_imports\n",
        "import os\n",
        "from math import inf\n",
        "import matplotlib.pyplot as plt\n",
        "import numpy as np\n",
        "import warnings\n",
        "if not os.path.exists('./figures'):\n",
        "    os.makedirs('./figures')\n",
        "warnings.filterwarnings(\"ignore\")"
      ],
      "execution_count": null,
      "outputs": []
    },
    {
      "cell_type": "markdown",
      "metadata": {},
      "source": [
        "### The Friedman Drift Dataset as Implemented in `river`\n",
        "\n",
        "We will describe the Friedman synthetic dataset with concept drifts [[SOURCE]](https://riverml.xyz/0.18.0/api/datasets/synth/FriedmanDrift/), see also @frie91a and @ikon11a.\n",
        "Each observation is composed of ten features. Each feature value is sampled uniformly in [0, 1]. Only the first five features are relevant. The target is defined by different functions depending on the type of the drift. Global Recurring Abrupt drift will be used, i.e., the concept drift appears over the whole instance space.\n",
        "\n",
        "The target is defined by the following function:\n",
        "$$\n",
        "y = 10 \\sin(\\pi x_0 x_1) + 20 (x_2 - 0.5)^2 + 10 x_3 + 5 x_4 + \\epsilon,\n",
        "$$\n",
        "where $\\epsilon \\sim \\mathcal{N}(0, 1)$ is normally distributed noise.\n",
        "\n",
        "If the Global Recurring Abrupt drift variant of the Friedman Drift dataset is used, the target function changes at two points in time, namely $p_1$ and $p_2$.\n",
        "At the first point, the concept changes to:\n",
        "$$\n",
        "y = 10 \\sin(\\pi x_3 x_5) + 20 (x_1 - 0.5)^2 + 10 x_0 + 5 x_2 + \\epsilon,\n",
        "$$\n",
        "At the second point of drift the old concept reoccurs.\n",
        "This can be implemented as follows, see [https://riverml.xyz/latest/api/datasets/synth/FriedmanDrift/](https://riverml.xyz/latest/api/datasets/synth/FriedmanDrift/):\n",
        "\n",
        "```python\n",
        "def __iter__(self):\n",
        "    rng = random.Random(self.seed)\n",
        "\n",
        "    i = 0\n",
        "    while True:\n",
        "        x = {i: rng.uniform(a=0, b=1) for i in range(10)}\n",
        "        y = self._global_recurring_abrupt_gen(x, i) + rng.gauss(mu=0, sigma=1)\n",
        "\n",
        "        yield x, y\n",
        "        i += 1\n",
        "```\n",
        "\n",
        "\n",
        "```python\n",
        "def _global_recurring_abrupt_gen(self, x, index: int):\n",
        "    if index < self._change_point1 or index >= self._change_point2:\n",
        "        # The initial concept is recurring\n",
        "        return (\n",
        "            10 * math.sin(math.pi * x[0] * x[1]) + 20 * (x[2] - 0.5) ** 2 + 10 * x[3] + 5 * x[4]\n",
        "        )\n",
        "    else:\n",
        "        # Drift: the positions of the features are swapped\n",
        "        return (\n",
        "            10 * math.sin(math.pi * x[3] * x[5]) + 20 * (x[1] - 0.5) ** 2 + 10 * x[0] + 5 * x[2]\n",
        "        )\n",
        "```\n",
        "\n",
        "`spotpython` requires the specification of a `train` and `test` data set. These data sets can be generated as follows:"
      ]
    },
    {
      "cell_type": "code",
      "metadata": {},
      "source": [
        "#| label: a_05_friedman_data_set\n",
        "\n",
        "from river.datasets import synth\n",
        "import pandas as pd\n",
        "import numpy as np\n",
        "from spotriver.utils.data_conversion import convert_to_df\n",
        "\n",
        "seed = 123\n",
        "shuffle = True\n",
        "n_train = 6_000\n",
        "n_test = 4_000\n",
        "n_samples = n_train + n_test\n",
        "target_column = \"y\"\n",
        "\n",
        "dataset = synth.FriedmanDrift(\n",
        "   drift_type='gra',\n",
        "   position=(n_train/4, n_train/2),\n",
        "   seed=123\n",
        ")\n",
        "\n",
        "train = convert_to_df(dataset, n_total=n_train)\n",
        "train.columns = [f\"x{i}\" for i in range(1, 11)] + [target_column]\n",
        "\n",
        "\n",
        "dataset = synth.FriedmanDrift(\n",
        "   drift_type='gra',\n",
        "   position=(n_test/4, n_test/2),\n",
        "   seed=123\n",
        ")\n",
        "test = convert_to_df(dataset, n_total=n_test)\n",
        "test.columns = [f\"x{i}\" for i in range(1, 11)] + [target_column]"
      ],
      "execution_count": null,
      "outputs": []
    },
    {
      "cell_type": "code",
      "metadata": {},
      "source": [
        "def plot_data_with_drift_points(data, target_column, n_train, title=\"\"):\n",
        "    indices = range(len(data))\n",
        "    y_values = data[target_column]\n",
        "\n",
        "    plt.figure(figsize=(10, 6))\n",
        "    plt.plot(indices, y_values, label=\"y Value\", color='blue')\n",
        "\n",
        "    drift_points = [n_train / 4, n_train / 2]\n",
        "    for dp in drift_points:\n",
        "        plt.axvline(x=dp, color='red', linestyle='--', label=f'Drift Point at {int(dp)}')\n",
        "\n",
        "    handles, labels = plt.gca().get_legend_handles_labels()\n",
        "    by_label = dict(zip(labels, handles))\n",
        "    plt.legend(by_label.values(), by_label.keys())\n",
        "\n",
        "    plt.xlabel('Index')\n",
        "    plt.ylabel('Target Value (y)')\n",
        "    plt.title(title)\n",
        "    plt.grid(True)\n",
        "    plt.show()"
      ],
      "execution_count": null,
      "outputs": []
    },
    {
      "cell_type": "code",
      "metadata": {},
      "source": [
        "plot_data_with_drift_points(train, target_column, n_train, title=\"Training Data with Drift Points\")"
      ],
      "execution_count": null,
      "outputs": []
    },
    {
      "cell_type": "code",
      "metadata": {},
      "source": [
        "plot_data_with_drift_points(test, target_column, n_train, title=\"Testing Data with Drift Points\")"
      ],
      "execution_count": null,
      "outputs": []
    },
    {
      "cell_type": "markdown",
      "metadata": {},
      "source": [
        "### The Friedman Drift Data Set from `spotpython`\n",
        "\n",
        "A data generator for the Friedman Drift dataset is implemented in the `spotpython` package, see [friedman.py](https://sequential-parameter-optimization.github.io/spotpython/reference/spotpython/data/friedman/). The `spotpython` version is a simplified version of the `river` implementation. The `spotPyton` version allows the generation of constant input values for the features. This is useful for visualizing the concept drifts. For the productive use the `river version` should be used.\n",
        "\n",
        "Plotting the first 100 samples of the Friedman Drift dataset, we can not see the concept drifts at $p_1$ and $p_2$.\n",
        "Drift can be visualized by plotting the target values over time for constant features, e,g, if $x_0$ is set to $1$ and all other features are set to $0$. This is illustrated in the following plot."
      ]
    },
    {
      "cell_type": "code",
      "metadata": {},
      "source": [
        "from spotpython.data.friedman import FriedmanDriftDataset\n",
        "\n",
        "def plot_friedman_drift_data(n_samples, seed, change_point1, change_point2, constant=True):\n",
        "    data_generator = FriedmanDriftDataset(n_samples=n_samples, seed=seed, change_point1=change_point1, change_point2=change_point2, constant=constant)\n",
        "    data = [data for data in data_generator]\n",
        "    indices = [i for _, _, i in data]\n",
        "    values = {f\"x{i}\": [] for i in range(5)}\n",
        "    values[\"y\"] = []\n",
        "    for x, y, _ in data:\n",
        "        for i in range(5):\n",
        "            values[f\"x{i}\"].append(x[i])\n",
        "        values[\"y\"].append(y)\n",
        "\n",
        "    plt.figure(figsize=(10, 6))\n",
        "    for label, series in values.items():\n",
        "        plt.plot(indices, series, label=label)\n",
        "    plt.xlabel('Index')\n",
        "    plt.ylabel('Value')\n",
        "    plt.axvline(x=change_point1, color='k', linestyle='--', label='Drift Point 1')\n",
        "    plt.axvline(x=change_point2, color='r', linestyle='--', label='Drift Point 2')\n",
        "    plt.legend()\n",
        "    plt.grid(True)\n",
        "    plt.show()\n",
        "\n",
        "plot_friedman_drift_data(n_samples=100, seed=42, change_point1=50, change_point2=75, constant=False)\n",
        "plot_friedman_drift_data(n_samples=100, seed=42, change_point1=50, change_point2=75, constant=True)"
      ],
      "execution_count": null,
      "outputs": []
    }
  ],
  "metadata": {
    "kernelspec": {
      "name": "python3",
      "language": "python",
      "display_name": "Python 3 (ipykernel)",
      "path": "/Users/bartz/miniforge3/envs/spot312/share/jupyter/kernels/python3"
    }
  },
  "nbformat": 4,
  "nbformat_minor": 4
}