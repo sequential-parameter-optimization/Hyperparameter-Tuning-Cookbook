{
  "cells": [
    {
      "cell_type": "markdown",
      "metadata": {},
      "source": [
        "---\n",
        "execute:\n",
        "  cache: false\n",
        "  eval: true\n",
        "  echo: true\n",
        "  warning: false\n",
        "---\n",
        "\n",
        "\n",
        "# HPT: sklearn SVC on Moons Data {#sec-hpt-sklearn-svc}\n",
        "\n",
        "This chapter is a tutorial for the Hyperparameter Tuning (HPT) of a `sklearn` SVC model on the Moons dataset.\n",
        "\n",
        "## Step 1: Setup {#sec-setup-17}\n",
        "\n",
        "Before we consider the detailed experimental setup, we select the parameters that affect run time, initial design size and the device that is used.\n",
        "\n",
        "::: {.callout-caution}\n",
        "### Caution: Run time and initial design size should be increased for real experiments\n",
        "\n",
        "* MAX_TIME is set to one minute for demonstration purposes. For real experiments, this should be increased to at least 1 hour.\n",
        "* INIT_SIZE is set to 5 for demonstration purposes. For real experiments, this should be increased to at least 10.\n",
        "\n",
        ":::\n"
      ],
      "id": "5c7e017d"
    },
    {
      "cell_type": "code",
      "metadata": {},
      "source": [
        "MAX_TIME = 1\n",
        "INIT_SIZE = 10\n",
        "PREFIX = \"10\""
      ],
      "id": "d1b52029",
      "execution_count": null,
      "outputs": []
    },
    {
      "cell_type": "code",
      "metadata": {},
      "source": [
        "#| echo: false\n",
        "import os\n",
        "from math import inf\n",
        "import numpy as np\n",
        "import warnings\n",
        "if not os.path.exists('./figures'):\n",
        "    os.makedirs('./figures')\n",
        "warnings.filterwarnings(\"ignore\")"
      ],
      "id": "1d1f2231",
      "execution_count": null,
      "outputs": []
    },
    {
      "cell_type": "markdown",
      "metadata": {},
      "source": [
        "## Step 2: Initialization of the Empty `fun_control` Dictionary\n",
        "\n",
        "`spotpython` supports the visualization of the hyperparameter tuning process with TensorBoard. The following example shows how to use TensorBoard with `spotpython`.\n",
        "The `fun_control` dictionary is the central data structure that is used to control the optimization process. It is initialized as follows:\n"
      ],
      "id": "bfcef876"
    },
    {
      "cell_type": "code",
      "metadata": {},
      "source": [
        "from spotpython.utils.init import fun_control_init\n",
        "from spotpython.hyperparameters.values import set_control_key_value\n",
        "from spotpython.utils.eda import gen_design_table\n",
        "fun_control = fun_control_init(\n",
        "    PREFIX=PREFIX,\n",
        "    TENSORBOARD_CLEAN=True,\n",
        "    max_time=MAX_TIME,\n",
        "    fun_evals=inf,\n",
        "    tolerance_x = np.sqrt(np.spacing(1)))"
      ],
      "id": "5235d8d7",
      "execution_count": null,
      "outputs": []
    },
    {
      "cell_type": "markdown",
      "metadata": {},
      "source": [
        "::: {.callout-tip}\n",
        "#### Tip: TensorBoard\n",
        "* Since the `spot_tensorboard_path` argument is not `None`, which is the default, `spotpython` will log the optimization process in the TensorBoard folder.\n",
        "* The `TENSORBOARD_CLEAN` argument is set to `True` to archive the TensorBoard folder if it already exists. This is useful if you want to start a hyperparameter tuning process from scratch.\n",
        "If you want to continue a hyperparameter tuning process, set `TENSORBOARD_CLEAN` to `False`. Then the TensorBoard folder will not be archived and the old and new TensorBoard files will shown in the TensorBoard dashboard.\n",
        ":::\n",
        "\n",
        "\n",
        "## Step 3: SKlearn Load Data (Classification) {#sec-data-loading-17}\n",
        "\n",
        "Randomly generate classification data.\n"
      ],
      "id": "9f6148e0"
    },
    {
      "cell_type": "code",
      "metadata": {},
      "source": [
        "import pandas as pd\n",
        "import numpy as np\n",
        "from sklearn.model_selection import train_test_split\n",
        "from sklearn.datasets import make_moons, make_circles, make_classification\n",
        "n_features = 2\n",
        "n_samples = 500\n",
        "target_column = \"y\"\n",
        "ds =  make_moons(n_samples, noise=0.5, random_state=0)\n",
        "X, y = ds\n",
        "X_train, X_test, y_train, y_test = train_test_split(\n",
        "    X, y, test_size=0.3, random_state=42\n",
        ")\n",
        "train = pd.DataFrame(np.hstack((X_train, y_train.reshape(-1, 1))))\n",
        "test = pd.DataFrame(np.hstack((X_test, y_test.reshape(-1, 1))))\n",
        "train.columns = [f\"x{i}\" for i in range(1, n_features+1)] + [target_column]\n",
        "test.columns = [f\"x{i}\" for i in range(1, n_features+1)] + [target_column]\n",
        "train.head()"
      ],
      "id": "95f874f1",
      "execution_count": null,
      "outputs": []
    },
    {
      "cell_type": "code",
      "metadata": {},
      "source": [
        "import matplotlib.pyplot as plt\n",
        "from matplotlib.colors import ListedColormap\n",
        "\n",
        "x_min, x_max = X[:, 0].min() - 0.5, X[:, 0].max() + 0.5\n",
        "y_min, y_max = X[:, 1].min() - 0.5, X[:, 1].max() + 0.5\n",
        "cm = plt.cm.RdBu\n",
        "cm_bright = ListedColormap([\"#FF0000\", \"#0000FF\"])\n",
        "ax = plt.subplot(1, 1, 1)\n",
        "ax.set_title(\"Input data\")\n",
        "# Plot the training points\n",
        "ax.scatter(X_train[:, 0], X_train[:, 1], c=y_train, cmap=cm_bright, edgecolors=\"k\")\n",
        "# Plot the testing points\n",
        "ax.scatter(\n",
        "    X_test[:, 0], X_test[:, 1], c=y_test, cmap=cm_bright, alpha=0.6, edgecolors=\"k\"\n",
        ")\n",
        "ax.set_xlim(x_min, x_max)\n",
        "ax.set_ylim(y_min, y_max)\n",
        "ax.set_xticks(())\n",
        "ax.set_yticks(())\n",
        "plt.tight_layout()\n",
        "plt.show()"
      ],
      "id": "399bde34",
      "execution_count": null,
      "outputs": []
    },
    {
      "cell_type": "code",
      "metadata": {},
      "source": [
        "n_samples = len(train)\n",
        "# add the dataset to the fun_control\n",
        "fun_control.update({\"data\": None, # dataset,\n",
        "               \"train\": train,\n",
        "               \"test\": test,\n",
        "               \"n_samples\": n_samples,\n",
        "               \"target_column\": target_column})"
      ],
      "id": "d0fc0afa",
      "execution_count": null,
      "outputs": []
    },
    {
      "cell_type": "markdown",
      "metadata": {},
      "source": [
        "## Step 4: Specification of the Preprocessing Model {#sec-specification-of-preprocessing-model-17}\n",
        "\n",
        "Data preprocesssing can be very simple, e.g., you can ignore it. Then you would choose the `prep_model` \"None\":\n"
      ],
      "id": "3c6b8a24"
    },
    {
      "cell_type": "code",
      "metadata": {},
      "source": [
        "prep_model = None\n",
        "fun_control.update({\"prep_model\": prep_model})"
      ],
      "id": "9be5f2fe",
      "execution_count": null,
      "outputs": []
    },
    {
      "cell_type": "markdown",
      "metadata": {},
      "source": [
        "A default approach for numerical data is the `StandardScaler` (mean 0, variance 1).  This can be selected as follows:\n"
      ],
      "id": "bb975a2b"
    },
    {
      "cell_type": "code",
      "metadata": {},
      "source": [
        "from sklearn.preprocessing import StandardScaler\n",
        "prep_model = StandardScaler\n",
        "fun_control.update({\"prep_model\": prep_model})"
      ],
      "id": "c9f60688",
      "execution_count": null,
      "outputs": []
    },
    {
      "cell_type": "markdown",
      "metadata": {},
      "source": [
        "Even more complicated pre-processing steps are possible, e.g., the follwing pipeline:\n",
        "\n",
        "\n",
        "```{raw}\n",
        "categorical_columns = []\n",
        "one_hot_encoder = OneHotEncoder(handle_unknown=\"ignore\", sparse_output=False)\n",
        "prep_model = ColumnTransformer(\n",
        "         transformers=[\n",
        "             (\"categorical\", one_hot_encoder, categorical_columns),\n",
        "         ],\n",
        "         remainder=StandardScaler,\n",
        "     )\n",
        "```\n",
        "\n",
        "\n",
        "## Step 5: Select Model (`algorithm`) and `core_model_hyper_dict`\n",
        "\n",
        "The selection of the algorithm (ML model) that should be tuned is done by specifying the its name from the `sklearn` implementation.  For example, the `SVC` support vector machine classifier is selected as follows:\n"
      ],
      "id": "664b83ed"
    },
    {
      "cell_type": "code",
      "metadata": {},
      "source": [
        "from spotpython.hyperparameters.values import add_core_model_to_fun_control\n",
        "from spotpython.hyperdict.sklearn_hyper_dict import SklearnHyperDict\n",
        "from sklearn.svm import SVC\n",
        "add_core_model_to_fun_control(core_model=SVC,\n",
        "                              fun_control=fun_control,\n",
        "                              hyper_dict=SklearnHyperDict,\n",
        "                              filename=None)"
      ],
      "id": "3b13f966",
      "execution_count": null,
      "outputs": []
    },
    {
      "cell_type": "markdown",
      "metadata": {},
      "source": [
        "Now `fun_control` has the information from the JSON file.\n",
        "The corresponding entries for the `core_model` class are shown below.\n"
      ],
      "id": "3b9e59b9"
    },
    {
      "cell_type": "code",
      "metadata": {},
      "source": [
        "fun_control['core_model_hyper_dict']"
      ],
      "id": "66e88231",
      "execution_count": null,
      "outputs": []
    },
    {
      "cell_type": "markdown",
      "metadata": {},
      "source": [
        ":::{.callout-note}\n",
        "#### `sklearn Model` Selection\n",
        "\n",
        "The following `sklearn` models are supported by default:\n",
        "\n",
        "* RidgeCV\n",
        "* RandomForestClassifier\n",
        "* SVC\n",
        "* LogisticRegression\n",
        "* KNeighborsClassifier\n",
        "* GradientBoostingClassifier\n",
        "* GradientBoostingRegressor\n",
        "* ElasticNet\n",
        "\n",
        "They can be imported as follows:\n"
      ],
      "id": "6dd3186b"
    },
    {
      "cell_type": "code",
      "metadata": {},
      "source": [
        "#| eval: false\n",
        "#| label: 017_import_sklearn_models\n",
        "from sklearn.linear_model import RidgeCV\n",
        "from sklearn.ensemble import RandomForestClassifier\n",
        "from sklearn.svm import SVC\n",
        "from sklearn.linear_model import LogisticRegression\n",
        "from sklearn.neighbors import KNeighborsClassifier\n",
        "from sklearn.ensemble import GradientBoostingClassifier\n",
        "from sklearn.ensemble import GradientBoostingRegressor\n",
        "from sklearn.linear_model import ElasticNet"
      ],
      "id": "import_sklearn_models",
      "execution_count": null,
      "outputs": []
    },
    {
      "cell_type": "markdown",
      "metadata": {},
      "source": [
        ":::\n",
        "\n",
        "\n",
        "## Step 6: Modify `hyper_dict` Hyperparameters for the Selected Algorithm aka `core_model`\n",
        "\n",
        " `spotpython` provides functions for modifying the hyperparameters, their bounds and factors as well as for activating and de-activating hyperparameters without re-compilation of the Python source code. These functions were described in @sec-modifying-hyperparameter-levels.\n",
        "\n",
        "### Modify hyperparameter of type numeric and integer (boolean)\n",
        "\n",
        "Numeric and boolean values can be modified using the `modify_hyper_parameter_bounds` method.  \n",
        "\n",
        ":::{.callout-note}\n",
        "#### `sklearn Model` Hyperparameters\n",
        "\n",
        "The hyperparameters of the `sklearn`  `SVC` model are described in the [sklearn documentation](https://scikit-learn.org/stable/modules/generated/sklearn.svm.SVC.html).\n",
        "\n",
        ":::\n",
        "\n",
        "\n",
        "* For example, to change the `tol` hyperparameter of the `SVC` model to the interval [1e-5, 1e-3], the following code can be used:\n"
      ],
      "id": "e138b2ef"
    },
    {
      "cell_type": "code",
      "metadata": {},
      "source": [
        "from spotpython.hyperparameters.values import modify_hyper_parameter_bounds\n",
        "modify_hyper_parameter_bounds(fun_control, \"tol\", bounds=[1e-5, 1e-3])\n",
        "modify_hyper_parameter_bounds(fun_control, \"probability\", bounds=[0, 0])\n",
        "fun_control[\"core_model_hyper_dict\"][\"tol\"]"
      ],
      "id": "c61f346a",
      "execution_count": null,
      "outputs": []
    },
    {
      "cell_type": "markdown",
      "metadata": {},
      "source": [
        "### Modify hyperparameter of type factor\n",
        "\n",
        "Factors can be modified with the `modify_hyper_parameter_levels` function.  For example, to exclude the `sigmoid` kernel from the tuning, the `kernel` hyperparameter of the `SVC` model can be modified as follows:\n"
      ],
      "id": "19b8d68f"
    },
    {
      "cell_type": "code",
      "metadata": {},
      "source": [
        "from spotpython.hyperparameters.values import modify_hyper_parameter_levels\n",
        "modify_hyper_parameter_levels(fun_control, \"kernel\", [\"poly\", \"rbf\"])\n",
        "fun_control[\"core_model_hyper_dict\"][\"kernel\"]"
      ],
      "id": "3b580d13",
      "execution_count": null,
      "outputs": []
    },
    {
      "cell_type": "markdown",
      "metadata": {},
      "source": [
        "### Optimizers {#sec-optimizers-17}\n",
        "\n",
        "Optimizers are described in @sec-optimizer.\n",
        "\n",
        "## Step 7: Selection of the Objective (Loss) Function\n",
        "\n",
        "There are two metrics:\n",
        "\n",
        "1. `metric_river` is used for the river based evaluation via `eval_oml_iter_progressive`.\n",
        "2. `metric_sklearn` is used for the sklearn based evaluation.\n"
      ],
      "id": "a37943f8"
    },
    {
      "cell_type": "code",
      "metadata": {},
      "source": [
        "from sklearn.metrics import mean_absolute_error, accuracy_score, roc_curve, roc_auc_score, log_loss, mean_squared_error\n",
        "fun_control.update({\n",
        "               \"metric_sklearn\": log_loss,\n",
        "               \"weights\": 1.0,\n",
        "               })"
      ],
      "id": "eae4315f",
      "execution_count": null,
      "outputs": []
    },
    {
      "cell_type": "markdown",
      "metadata": {},
      "source": [
        ":::{.callout-warning}\n",
        "#### `metric_sklearn`: Minimization and Maximization\n",
        "\n",
        "* Because the `metric_sklearn` is used for the sklearn based evaluation, it is important to know whether the metric should be minimized or maximized.\n",
        "* The `weights` parameter is used to indicate whether the metric should be minimized or maximized.\n",
        "* If `weights` is set to `-1.0`, the metric is maximized.\n",
        "* If `weights` is set to `1.0`, the metric is minimized, e.g., `weights = 1.0` for `mean_absolute_error`, or `weights = -1.0` for `roc_auc_score`.\n",
        "\n",
        ":::\n",
        "\n",
        "### Predict Classes or Class Probabilities\n",
        "\n",
        "If the key `\"predict_proba\"` is set to `True`, the class probabilities are predicted. `False` is the default, i.e., the classes are predicted.\n"
      ],
      "id": "33c2a177"
    },
    {
      "cell_type": "code",
      "metadata": {},
      "source": [
        "fun_control.update({\n",
        "               \"predict_proba\": False,\n",
        "               })"
      ],
      "id": "f82a4353",
      "execution_count": null,
      "outputs": []
    },
    {
      "cell_type": "markdown",
      "metadata": {},
      "source": [
        "## Step 8: Calling the SPOT Function\n",
        "\n",
        "\n",
        "### The Objective Function {#sec-the-objective-function-17}\n",
        "\n",
        "The objective function is selected next. It implements an interface from `sklearn`'s training, validation, and  testing methods to `spotpython`.\n"
      ],
      "id": "668e6ef7"
    },
    {
      "cell_type": "code",
      "metadata": {},
      "source": [
        "from spotpython.fun.hypersklearn import HyperSklearn\n",
        "fun = HyperSklearn().fun_sklearn"
      ],
      "id": "b0e2829e",
      "execution_count": null,
      "outputs": []
    },
    {
      "cell_type": "markdown",
      "metadata": {},
      "source": [
        "The following code snippet shows how to get the default hyperparameters as an array, so that they can be passed to the `Spot` function.\n"
      ],
      "id": "4591a596"
    },
    {
      "cell_type": "code",
      "metadata": {},
      "source": [
        "from spotpython.hyperparameters.values import get_default_hyperparameters_as_array\n",
        "X_start = get_default_hyperparameters_as_array(fun_control)"
      ],
      "id": "d6d15840",
      "execution_count": null,
      "outputs": []
    },
    {
      "cell_type": "markdown",
      "metadata": {},
      "source": [
        "### Run the `Spot` Optimizer\n",
        "\n",
        "The class `Spot` [[SOURCE]](https://github.com/sequential-parameter-optimization/spotpython/blob/main/src/spotpython/spot/spot.py) is the hyperparameter tuning workhorse. It is initialized with the following parameters:\n",
        "\n",
        "* `fun`: the objective function\n",
        "* `fun_control`: the dictionary with the control parameters for the objective function\n",
        "* `design`: the experimental design\n",
        "* `design_control`: the dictionary with the control parameters for the experimental design\n",
        "* `surrogate`: the surrogate model\n",
        "* `surrogate_control`: the dictionary with the control parameters for the surrogate model\n",
        "* `optimizer`: the optimizer\n",
        "* `optimizer_control`: the dictionary with the control parameters for the optimizer\n",
        "\n",
        ":::{.callout-note}\n",
        "#### Note: Total run time\n",
        " The total run time may exceed the specified `max_time`, because the initial design (here: `init_size` = INIT_SIZE as specified above) is always evaluated, even if this takes longer than `max_time`.\n",
        ":::\n"
      ],
      "id": "98675576"
    },
    {
      "cell_type": "code",
      "metadata": {},
      "source": [
        "from spotpython.utils.init import design_control_init, surrogate_control_init\n",
        "design_control = design_control_init()\n",
        "set_control_key_value(control_dict=design_control,\n",
        "                        key=\"init_size\",\n",
        "                        value=INIT_SIZE,\n",
        "                        replace=True)\n",
        "\n",
        "surrogate_control = surrogate_control_init(noise=True,\n",
        "                                           n_theta=2)\n",
        "from spotpython.spot import spot\n",
        "spot_tuner = spot.Spot(fun=fun,\n",
        "                   fun_control=fun_control,\n",
        "                   design_control=design_control,\n",
        "                   surrogate_control=surrogate_control)\n",
        "spot_tuner.run(X_start=X_start)"
      ],
      "id": "ca989c29",
      "execution_count": null,
      "outputs": []
    },
    {
      "cell_type": "markdown",
      "metadata": {},
      "source": [
        "### TensorBoard {#sec-tensorboard-17}\n",
        "\n",
        "Now we can start TensorBoard in the background with the following command, where `./runs` is the default directory for the TensorBoard log files:\n",
        "\n",
        "\n",
        "```{raw}\n",
        "tensorboard --logdir=\"./runs\"\n",
        "```\n",
        "\n",
        "\n",
        ":::{.callout-tip}\n",
        "#### Tip: TENSORBOARD_PATH\n",
        "The TensorBoard path can be printed with the following command:\n"
      ],
      "id": "e85c82b6"
    },
    {
      "cell_type": "code",
      "metadata": {},
      "source": [
        "from spotpython.utils.init import get_tensorboard_path\n",
        "get_tensorboard_path(fun_control)"
      ],
      "id": "b59568db",
      "execution_count": null,
      "outputs": []
    },
    {
      "cell_type": "markdown",
      "metadata": {},
      "source": [
        ":::\n",
        "\n",
        "We can access the TensorBoard web server with the following URL:\n",
        "\n",
        "\n",
        "```{raw}\n",
        "http://localhost:6006/\n",
        "```\n",
        "\n",
        "\n",
        "The TensorBoard plot illustrates how `spotpython` can be used as a microscope for the internal mechanisms of the surrogate-based optimization process. Here, one important parameter, the learning rate $\\theta$ of the Kriging surrogate [[SOURCE]](https://github.com/sequential-parameter-optimization/spotpython/blob/main/src/spotpython/build/kriging.py) is plotted against the number of optimization steps.\n",
        "\n",
        "![TensorBoard visualization of the spotpython optimization process and the surrogate model.](figures_static/13_tensorboard_01.png){width=\"100%\"}\n",
        "\n",
        "## Step 9: Results {#sec-results-tuning-17}\n",
        "\n",
        "\n",
        "After the hyperparameter tuning run is finished, the results can be saved and reloaded with the following commands:\n"
      ],
      "id": "0e07794c"
    },
    {
      "cell_type": "code",
      "metadata": {},
      "source": [
        "from spotpython.utils.file import save_pickle, load_pickle\n",
        "from spotpython.utils.init import get_experiment_name\n",
        "experiment_name = get_experiment_name(PREFIX)\n",
        "SAVE_AND_LOAD = False\n",
        "if SAVE_AND_LOAD == True:\n",
        "    save_pickle(spot_tuner, experiment_name)\n",
        "    spot_tuner = load_pickle(experiment_name)"
      ],
      "id": "4dff12aa",
      "execution_count": null,
      "outputs": []
    },
    {
      "cell_type": "markdown",
      "metadata": {},
      "source": [
        "After the hyperparameter tuning run is finished, the progress of the hyperparameter tuning can be visualized. The black points represent the performace values (score or metric) of  hyperparameter configurations from the initial design, whereas the red points represents the  hyperparameter configurations found by the surrogate model based optimization.\n"
      ],
      "id": "7f366981"
    },
    {
      "cell_type": "code",
      "metadata": {},
      "source": [
        "spot_tuner.plot_progress(log_y=True, filename=\"./figures/\" + experiment_name+\"_progress.pdf\")"
      ],
      "id": "aec0eec3",
      "execution_count": null,
      "outputs": []
    },
    {
      "cell_type": "markdown",
      "metadata": {},
      "source": [
        "Results can also be printed in tabular form.\n"
      ],
      "id": "5f759c75"
    },
    {
      "cell_type": "code",
      "metadata": {},
      "source": [
        "print(gen_design_table(fun_control=fun_control, spot=spot_tuner))"
      ],
      "id": "2751bbe1",
      "execution_count": null,
      "outputs": []
    },
    {
      "cell_type": "markdown",
      "metadata": {},
      "source": [
        "A histogram can be used to visualize the most important hyperparameters.\n"
      ],
      "id": "6949ca83"
    },
    {
      "cell_type": "code",
      "metadata": {},
      "source": [
        "spot_tuner.plot_importance(threshold=0.0025, filename=\"./figures/\" + experiment_name+\"_importance.pdf\")"
      ],
      "id": "2bbd7cfc",
      "execution_count": null,
      "outputs": []
    },
    {
      "cell_type": "markdown",
      "metadata": {},
      "source": [
        "## Get Default Hyperparameters\n",
        "\n",
        "The default hyperparameters, whihc will be used for a comparion with the tuned hyperparameters, can be obtained with the following commands:"
      ],
      "id": "bd919e89"
    },
    {
      "cell_type": "code",
      "metadata": {},
      "source": [
        "from spotpython.hyperparameters.values import get_one_core_model_from_X\n",
        "from spotpython.hyperparameters.values import get_default_hyperparameters_as_array\n",
        "X_start = get_default_hyperparameters_as_array(fun_control)\n",
        "model_default = get_one_core_model_from_X(X_start, fun_control, default=True)\n",
        "model_default"
      ],
      "id": "10d78899",
      "execution_count": null,
      "outputs": []
    },
    {
      "cell_type": "markdown",
      "metadata": {},
      "source": [
        "## Get SPOT Results\n",
        "\n",
        "In a similar way, we can obtain the hyperparameters found by `spotpython`.\n"
      ],
      "id": "d3f71c23"
    },
    {
      "cell_type": "code",
      "metadata": {},
      "source": [
        "from spotpython.hyperparameters.values import get_one_core_model_from_X\n",
        "X = spot_tuner.to_all_dim(spot_tuner.min_X.reshape(1,-1))\n",
        "model_spot = get_one_core_model_from_X(X, fun_control)"
      ],
      "id": "c61676ba",
      "execution_count": null,
      "outputs": []
    },
    {
      "cell_type": "markdown",
      "metadata": {},
      "source": [
        "### Plot: Compare Predictions\n"
      ],
      "id": "863dc15a"
    },
    {
      "cell_type": "code",
      "metadata": {},
      "source": [
        "from spotpython.plot.validation import plot_roc\n",
        "plot_roc(model_list=[model_default, model_spot], fun_control= fun_control, model_names=[\"Default\", \"Spot\"])"
      ],
      "id": "e83ff2f3",
      "execution_count": null,
      "outputs": []
    },
    {
      "cell_type": "code",
      "metadata": {},
      "source": [
        "from spotpython.plot.validation import plot_confusion_matrix\n",
        "plot_confusion_matrix(model=model_default, fun_control=fun_control, title = \"Default\")"
      ],
      "id": "a4211c0e",
      "execution_count": null,
      "outputs": []
    },
    {
      "cell_type": "code",
      "metadata": {},
      "source": [
        "plot_confusion_matrix(model=model_spot, fun_control=fun_control, title=\"SPOT\")"
      ],
      "id": "43100e41",
      "execution_count": null,
      "outputs": []
    },
    {
      "cell_type": "code",
      "metadata": {},
      "source": [
        "min(spot_tuner.y), max(spot_tuner.y)"
      ],
      "id": "929835a0",
      "execution_count": null,
      "outputs": []
    },
    {
      "cell_type": "markdown",
      "metadata": {},
      "source": [
        "### Detailed Hyperparameter Plots\n"
      ],
      "id": "8e25403b"
    },
    {
      "cell_type": "code",
      "metadata": {},
      "source": [
        "spot_tuner.plot_important_hyperparameter_contour(filename=None)"
      ],
      "id": "dcca677a",
      "execution_count": null,
      "outputs": []
    },
    {
      "cell_type": "markdown",
      "metadata": {},
      "source": [
        "### Parallel Coordinates Plot\n"
      ],
      "id": "6a8a6ec8"
    },
    {
      "cell_type": "code",
      "metadata": {},
      "source": [
        "spot_tuner.parallel_plot()"
      ],
      "id": "65caf947",
      "execution_count": null,
      "outputs": []
    },
    {
      "cell_type": "markdown",
      "metadata": {},
      "source": [
        "### Plot all Combinations of Hyperparameters\n",
        "\n",
        "* Warning: this may take a while.\n"
      ],
      "id": "979a307f"
    },
    {
      "cell_type": "code",
      "metadata": {},
      "source": [
        "PLOT_ALL = False\n",
        "if PLOT_ALL:\n",
        "    n = spot_tuner.k\n",
        "    for i in range(n-1):\n",
        "        for j in range(i+1, n):\n",
        "            spot_tuner.plot_contour(i=i, j=j, min_z=min_z, max_z = max_z)"
      ],
      "id": "3601e032",
      "execution_count": null,
      "outputs": []
    }
  ],
  "metadata": {
    "kernelspec": {
      "name": "python3",
      "language": "python",
      "display_name": "Python 3 (ipykernel)",
      "path": "/Users/bartz/miniforge3/envs/spot312/share/jupyter/kernels/python3"
    }
  },
  "nbformat": 4,
  "nbformat_minor": 5
}