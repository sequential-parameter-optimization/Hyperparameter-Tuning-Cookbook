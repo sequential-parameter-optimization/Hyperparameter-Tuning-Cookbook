{
  "cells": [
    {
      "cell_type": "markdown",
      "metadata": {},
      "source": [
        "---\n",
        "execute:\n",
        "  cache: false\n",
        "  eval: true\n",
        "  echo: true\n",
        "  warning: false\n",
        "---\n",
        "\n",
        "\n",
        "# HPT: sklearn SVC on Moons Data {#sec-hpt-sklearn-svc}\n",
        "\n",
        "This chapter is a tutorial for the Hyperparameter Tuning (HPT) of a `sklearn` SVC model on the Moons dataset.\n",
        "\n",
        "## Step 1: Setup {#sec-setup-17}\n",
        "\n",
        "Before we consider the detailed experimental setup, we select the parameters that affect run time, initial design size and the device that is used.\n",
        "\n",
        "::: {.callout-caution}\n",
        "### Caution: Run time and initial design size should be increased for real experiments\n",
        "\n",
        "* MAX_TIME is set to one minute for demonstration purposes. For real experiments, this should be increased to at least 1 hour.\n",
        "* INIT_SIZE is set to 5 for demonstration purposes. For real experiments, this should be increased to at least 10.\n",
        "\n",
        ":::\n"
      ],
      "id": "810574a5"
    },
    {
      "cell_type": "code",
      "metadata": {},
      "source": [
        "MAX_TIME = 1\n",
        "INIT_SIZE = 10\n",
        "PREFIX = \"10\""
      ],
      "id": "16e0a26d",
      "execution_count": null,
      "outputs": []
    },
    {
      "cell_type": "code",
      "metadata": {},
      "source": [
        "#| echo: false\n",
        "import os\n",
        "from math import inf\n",
        "import numpy as np\n",
        "import warnings\n",
        "if not os.path.exists('./figures'):\n",
        "    os.makedirs('./figures')\n",
        "warnings.filterwarnings(\"ignore\")"
      ],
      "id": "464a0d69",
      "execution_count": null,
      "outputs": []
    },
    {
      "cell_type": "markdown",
      "metadata": {},
      "source": [
        "## Step 2: Initialization of the Empty `fun_control` Dictionary\n",
        "\n",
        "`spotPython` supports the visualization of the hyperparameter tuning process with TensorBoard. The following example shows how to use TensorBoard with `spotPython`.\n",
        "The `fun_control` dictionary is the central data structure that is used to control the optimization process. It is initialized as follows:\n"
      ],
      "id": "e08a27ef"
    },
    {
      "cell_type": "code",
      "metadata": {},
      "source": [
        "from spotPython.utils.init import fun_control_init\n",
        "from spotPython.hyperparameters.values import set_control_key_value\n",
        "from spotPython.utils.eda import gen_design_table\n",
        "fun_control = fun_control_init(\n",
        "    PREFIX=PREFIX,\n",
        "    TENSORBOARD_CLEAN=True,\n",
        "    max_time=MAX_TIME,\n",
        "    fun_evals=inf,\n",
        "    tolerance_x = np.sqrt(np.spacing(1)))"
      ],
      "id": "8c5181b0",
      "execution_count": null,
      "outputs": []
    },
    {
      "cell_type": "markdown",
      "metadata": {},
      "source": [
        "::: {.callout-tip}\n",
        "#### Tip: TensorBoard\n",
        "* Since the `spot_tensorboard_path` argument is not `None`, which is the default, `spotPython` will log the optimization process in the TensorBoard folder.\n",
        "* The `TENSORBOARD_CLEAN` argument is set to `True` to archive the TensorBoard folder if it already exists. This is useful if you want to start a hyperparameter tuning process from scratch.\n",
        "If you want to continue a hyperparameter tuning process, set `TENSORBOARD_CLEAN` to `False`. Then the TensorBoard folder will not be archived and the old and new TensorBoard files will shown in the TensorBoard dashboard.\n",
        ":::\n",
        "\n",
        "\n",
        "## Step 3: SKlearn Load Data (Classification) {#sec-data-loading-17}\n",
        "\n",
        "Randomly generate classification data.\n"
      ],
      "id": "fda5f4cd"
    },
    {
      "cell_type": "code",
      "metadata": {},
      "source": [
        "import pandas as pd\n",
        "import numpy as np\n",
        "from sklearn.model_selection import train_test_split\n",
        "from sklearn.datasets import make_moons, make_circles, make_classification\n",
        "n_features = 2\n",
        "n_samples = 500\n",
        "target_column = \"y\"\n",
        "ds =  make_moons(n_samples, noise=0.5, random_state=0)\n",
        "X, y = ds\n",
        "X_train, X_test, y_train, y_test = train_test_split(\n",
        "    X, y, test_size=0.3, random_state=42\n",
        ")\n",
        "train = pd.DataFrame(np.hstack((X_train, y_train.reshape(-1, 1))))\n",
        "test = pd.DataFrame(np.hstack((X_test, y_test.reshape(-1, 1))))\n",
        "train.columns = [f\"x{i}\" for i in range(1, n_features+1)] + [target_column]\n",
        "test.columns = [f\"x{i}\" for i in range(1, n_features+1)] + [target_column]\n",
        "train.head()"
      ],
      "id": "2036bca5",
      "execution_count": null,
      "outputs": []
    },
    {
      "cell_type": "code",
      "metadata": {},
      "source": [
        "import matplotlib.pyplot as plt\n",
        "from matplotlib.colors import ListedColormap\n",
        "\n",
        "x_min, x_max = X[:, 0].min() - 0.5, X[:, 0].max() + 0.5\n",
        "y_min, y_max = X[:, 1].min() - 0.5, X[:, 1].max() + 0.5\n",
        "cm = plt.cm.RdBu\n",
        "cm_bright = ListedColormap([\"#FF0000\", \"#0000FF\"])\n",
        "ax = plt.subplot(1, 1, 1)\n",
        "ax.set_title(\"Input data\")\n",
        "# Plot the training points\n",
        "ax.scatter(X_train[:, 0], X_train[:, 1], c=y_train, cmap=cm_bright, edgecolors=\"k\")\n",
        "# Plot the testing points\n",
        "ax.scatter(\n",
        "    X_test[:, 0], X_test[:, 1], c=y_test, cmap=cm_bright, alpha=0.6, edgecolors=\"k\"\n",
        ")\n",
        "ax.set_xlim(x_min, x_max)\n",
        "ax.set_ylim(y_min, y_max)\n",
        "ax.set_xticks(())\n",
        "ax.set_yticks(())\n",
        "plt.tight_layout()\n",
        "plt.show()"
      ],
      "id": "795a1584",
      "execution_count": null,
      "outputs": []
    },
    {
      "cell_type": "code",
      "metadata": {},
      "source": [
        "n_samples = len(train)\n",
        "# add the dataset to the fun_control\n",
        "fun_control.update({\"data\": None, # dataset,\n",
        "               \"train\": train,\n",
        "               \"test\": test,\n",
        "               \"n_samples\": n_samples,\n",
        "               \"target_column\": target_column})"
      ],
      "id": "eaedad84",
      "execution_count": null,
      "outputs": []
    },
    {
      "cell_type": "markdown",
      "metadata": {},
      "source": [
        "## Step 4: Specification of the Preprocessing Model {#sec-specification-of-preprocessing-model-17}\n",
        "\n",
        "Data preprocesssing can be very simple, e.g., you can ignore it. Then you would choose the `prep_model` \"None\":\n"
      ],
      "id": "c49a33d5"
    },
    {
      "cell_type": "code",
      "metadata": {},
      "source": [
        "prep_model = None\n",
        "fun_control.update({\"prep_model\": prep_model})"
      ],
      "id": "8e5b4cb9",
      "execution_count": null,
      "outputs": []
    },
    {
      "cell_type": "markdown",
      "metadata": {},
      "source": [
        "A default approach for numerical data is the `StandardScaler` (mean 0, variance 1).  This can be selected as follows:\n"
      ],
      "id": "0ffe3503"
    },
    {
      "cell_type": "code",
      "metadata": {},
      "source": [
        "from sklearn.preprocessing import StandardScaler\n",
        "prep_model = StandardScaler\n",
        "fun_control.update({\"prep_model\": prep_model})"
      ],
      "id": "8bb847af",
      "execution_count": null,
      "outputs": []
    },
    {
      "cell_type": "markdown",
      "metadata": {},
      "source": [
        "Even more complicated pre-processing steps are possible, e.g., the follwing pipeline:\n",
        "\n",
        "\n",
        "```{raw}\n",
        "categorical_columns = []\n",
        "one_hot_encoder = OneHotEncoder(handle_unknown=\"ignore\", sparse_output=False)\n",
        "prep_model = ColumnTransformer(\n",
        "         transformers=[\n",
        "             (\"categorical\", one_hot_encoder, categorical_columns),\n",
        "         ],\n",
        "         remainder=StandardScaler,\n",
        "     )\n",
        "```\n",
        "\n",
        "\n",
        "## Step 5: Select Model (`algorithm`) and `core_model_hyper_dict`\n",
        "\n",
        "The selection of the algorithm (ML model) that should be tuned is done by specifying the its name from the `sklearn` implementation.  For example, the `SVC` support vector machine classifier is selected as follows:\n"
      ],
      "id": "07ee9e89"
    },
    {
      "cell_type": "code",
      "metadata": {},
      "source": [
        "from spotPython.hyperparameters.values import add_core_model_to_fun_control\n",
        "from spotPython.hyperdict.sklearn_hyper_dict import SklearnHyperDict\n",
        "from sklearn.svm import SVC\n",
        "add_core_model_to_fun_control(core_model=SVC,\n",
        "                              fun_control=fun_control,\n",
        "                              hyper_dict=SklearnHyperDict,\n",
        "                              filename=None)"
      ],
      "id": "1bc259f2",
      "execution_count": null,
      "outputs": []
    },
    {
      "cell_type": "markdown",
      "metadata": {},
      "source": [
        "Now `fun_control` has the information from the JSON file.\n",
        "The corresponding entries for the `core_model` class are shown below.\n"
      ],
      "id": "67c32f1e"
    },
    {
      "cell_type": "code",
      "metadata": {},
      "source": [
        "fun_control['core_model_hyper_dict']"
      ],
      "id": "4b072ad3",
      "execution_count": null,
      "outputs": []
    },
    {
      "cell_type": "markdown",
      "metadata": {},
      "source": [
        ":::{.callout-note}\n",
        "#### `sklearn Model` Selection\n",
        "\n",
        "The following `sklearn` models are supported by default:\n",
        "\n",
        "* RidgeCV\n",
        "* RandomForestClassifier\n",
        "* SVC\n",
        "* LogisticRegression\n",
        "* KNeighborsClassifier\n",
        "* GradientBoostingClassifier\n",
        "* GradientBoostingRegressor\n",
        "* ElasticNet\n",
        "\n",
        "They can be imported as follows:\n"
      ],
      "id": "9054087e"
    },
    {
      "cell_type": "code",
      "metadata": {},
      "source": [
        "#| eval: false\n",
        "#| label: 017_import_sklearn_models\n",
        "from sklearn.linear_model import RidgeCV\n",
        "from sklearn.ensemble import RandomForestClassifier\n",
        "from sklearn.svm import SVC\n",
        "from sklearn.linear_model import LogisticRegression\n",
        "from sklearn.neighbors import KNeighborsClassifier\n",
        "from sklearn.ensemble import GradientBoostingClassifier\n",
        "from sklearn.ensemble import GradientBoostingRegressor\n",
        "from sklearn.linear_model import ElasticNet"
      ],
      "id": "import_sklearn_models",
      "execution_count": null,
      "outputs": []
    },
    {
      "cell_type": "markdown",
      "metadata": {},
      "source": [
        ":::\n",
        "\n",
        "\n",
        "## Step 6: Modify `hyper_dict` Hyperparameters for the Selected Algorithm aka `core_model`\n",
        "\n",
        " `spotPython` provides functions for modifying the hyperparameters, their bounds and factors as well as for activating and de-activating hyperparameters without re-compilation of the Python source code. These functions were described in @sec-modifying-hyperparameter-levels.\n",
        "\n",
        "### Modify hyperparameter of type numeric and integer (boolean)\n",
        "\n",
        "Numeric and boolean values can be modified using the `modify_hyper_parameter_bounds` method.  \n",
        "\n",
        ":::{.callout-note}\n",
        "#### `sklearn Model` Hyperparameters\n",
        "\n",
        "The hyperparameters of the `sklearn`  `SVC` model are described in the [sklearn documentation](https://scikit-learn.org/stable/modules/generated/sklearn.svm.SVC.html).\n",
        "\n",
        ":::\n",
        "\n",
        "\n",
        "* For example, to change the `tol` hyperparameter of the `SVC` model to the interval [1e-5, 1e-3], the following code can be used:\n"
      ],
      "id": "b1c9d909"
    },
    {
      "cell_type": "code",
      "metadata": {},
      "source": [
        "from spotPython.hyperparameters.values import modify_hyper_parameter_bounds\n",
        "modify_hyper_parameter_bounds(fun_control, \"tol\", bounds=[1e-5, 1e-3])\n",
        "modify_hyper_parameter_bounds(fun_control, \"probability\", bounds=[0, 0])\n",
        "fun_control[\"core_model_hyper_dict\"][\"tol\"]"
      ],
      "id": "786107ca",
      "execution_count": null,
      "outputs": []
    },
    {
      "cell_type": "markdown",
      "metadata": {},
      "source": [
        "### Modify hyperparameter of type factor\n",
        "\n",
        "Factors can be modified with the `modify_hyper_parameter_levels` function.  For example, to exclude the `sigmoid` kernel from the tuning, the `kernel` hyperparameter of the `SVC` model can be modified as follows:\n"
      ],
      "id": "2397f838"
    },
    {
      "cell_type": "code",
      "metadata": {},
      "source": [
        "from spotPython.hyperparameters.values import modify_hyper_parameter_levels\n",
        "modify_hyper_parameter_levels(fun_control, \"kernel\", [\"poly\", \"rbf\"])\n",
        "fun_control[\"core_model_hyper_dict\"][\"kernel\"]"
      ],
      "id": "5c9b88cb",
      "execution_count": null,
      "outputs": []
    },
    {
      "cell_type": "markdown",
      "metadata": {},
      "source": [
        "### Optimizers {#sec-optimizers-17}\n",
        "\n",
        "Optimizers are described in @sec-optimizer.\n",
        "\n",
        "## Step 7: Selection of the Objective (Loss) Function\n",
        "\n",
        "There are two metrics:\n",
        "\n",
        "1. `metric_river` is used for the river based evaluation via `eval_oml_iter_progressive`.\n",
        "2. `metric_sklearn` is used for the sklearn based evaluation.\n"
      ],
      "id": "d0bd2b6f"
    },
    {
      "cell_type": "code",
      "metadata": {},
      "source": [
        "from sklearn.metrics import mean_absolute_error, accuracy_score, roc_curve, roc_auc_score, log_loss, mean_squared_error\n",
        "fun_control.update({\n",
        "               \"metric_sklearn\": log_loss,\n",
        "               \"weights\": 1.0,\n",
        "               })"
      ],
      "id": "54556298",
      "execution_count": null,
      "outputs": []
    },
    {
      "cell_type": "markdown",
      "metadata": {},
      "source": [
        ":::{.callout-warning}\n",
        "#### `metric_sklearn`: Minimization and Maximization\n",
        "\n",
        "* Because the `metric_sklearn` is used for the sklearn based evaluation, it is important to know whether the metric should be minimized or maximized.\n",
        "* The `weights` parameter is used to indicate whether the metric should be minimized or maximized.\n",
        "* If `weights` is set to `-1.0`, the metric is maximized.\n",
        "* If `weights` is set to `1.0`, the metric is minimized, e.g., `weights = 1.0` for `mean_absolute_error`, or `weights = -1.0` for `roc_auc_score`.\n",
        "\n",
        ":::\n",
        "\n",
        "### Predict Classes or Class Probabilities\n",
        "\n",
        "If the key `\"predict_proba\"` is set to `True`, the class probabilities are predicted. `False` is the default, i.e., the classes are predicted.\n"
      ],
      "id": "ac34c25a"
    },
    {
      "cell_type": "code",
      "metadata": {},
      "source": [
        "fun_control.update({\n",
        "               \"predict_proba\": False,\n",
        "               })"
      ],
      "id": "c7540417",
      "execution_count": null,
      "outputs": []
    },
    {
      "cell_type": "markdown",
      "metadata": {},
      "source": [
        "## Step 8: Calling the SPOT Function\n",
        "\n",
        "\n",
        "### The Objective Function {#sec-the-objective-function-17}\n",
        "\n",
        "The objective function is selected next. It implements an interface from `sklearn`'s training, validation, and  testing methods to `spotPython`.\n"
      ],
      "id": "9f94383e"
    },
    {
      "cell_type": "code",
      "metadata": {},
      "source": [
        "from spotPython.fun.hypersklearn import HyperSklearn\n",
        "fun = HyperSklearn().fun_sklearn"
      ],
      "id": "278f1cfe",
      "execution_count": null,
      "outputs": []
    },
    {
      "cell_type": "markdown",
      "metadata": {},
      "source": [
        "The following code snippet shows how to get the default hyperparameters as an array, so that they can be passed to the `Spot` function.\n"
      ],
      "id": "e114b705"
    },
    {
      "cell_type": "code",
      "metadata": {},
      "source": [
        "from spotPython.hyperparameters.values import get_default_hyperparameters_as_array\n",
        "X_start = get_default_hyperparameters_as_array(fun_control)"
      ],
      "id": "24a458c8",
      "execution_count": null,
      "outputs": []
    },
    {
      "cell_type": "markdown",
      "metadata": {},
      "source": [
        "### Run the `Spot` Optimizer\n",
        "\n",
        "The class `Spot` [[SOURCE]](https://github.com/sequential-parameter-optimization/spotPython/blob/main/src/spotPython/spot/spot.py) is the hyperparameter tuning workhorse. It is initialized with the following parameters:\n",
        "\n",
        "* `fun`: the objective function\n",
        "* `fun_control`: the dictionary with the control parameters for the objective function\n",
        "* `design`: the experimental design\n",
        "* `design_control`: the dictionary with the control parameters for the experimental design\n",
        "* `surrogate`: the surrogate model\n",
        "* `surrogate_control`: the dictionary with the control parameters for the surrogate model\n",
        "* `optimizer`: the optimizer\n",
        "* `optimizer_control`: the dictionary with the control parameters for the optimizer\n",
        "\n",
        ":::{.callout-note}\n",
        "#### Note: Total run time\n",
        " The total run time may exceed the specified `max_time`, because the initial design (here: `init_size` = INIT_SIZE as specified above) is always evaluated, even if this takes longer than `max_time`.\n",
        ":::\n"
      ],
      "id": "7ac08360"
    },
    {
      "cell_type": "code",
      "metadata": {},
      "source": [
        "from spotPython.utils.init import design_control_init, surrogate_control_init\n",
        "design_control = design_control_init()\n",
        "set_control_key_value(control_dict=design_control,\n",
        "                        key=\"init_size\",\n",
        "                        value=INIT_SIZE,\n",
        "                        replace=True)\n",
        "\n",
        "surrogate_control = surrogate_control_init(noise=True,\n",
        "                                           n_theta=2)\n",
        "from spotPython.spot import spot\n",
        "spot_tuner = spot.Spot(fun=fun,\n",
        "                   fun_control=fun_control,\n",
        "                   design_control=design_control,\n",
        "                   surrogate_control=surrogate_control)\n",
        "spot_tuner.run(X_start=X_start)"
      ],
      "id": "e205a79a",
      "execution_count": null,
      "outputs": []
    },
    {
      "cell_type": "markdown",
      "metadata": {},
      "source": [
        "### TensorBoard {#sec-tensorboard-17}\n",
        "\n",
        "Now we can start TensorBoard in the background with the following command, where `./runs` is the default directory for the TensorBoard log files:\n",
        "\n",
        "\n",
        "```{raw}\n",
        "tensorboard --logdir=\"./runs\"\n",
        "```\n",
        "\n",
        "\n",
        ":::{.callout-tip}\n",
        "#### Tip: TENSORBOARD_PATH\n",
        "The TensorBoard path can be printed with the following command:\n"
      ],
      "id": "885b7e3d"
    },
    {
      "cell_type": "code",
      "metadata": {},
      "source": [
        "from spotPython.utils.init import get_tensorboard_path\n",
        "get_tensorboard_path(fun_control)"
      ],
      "id": "0736aefc",
      "execution_count": null,
      "outputs": []
    },
    {
      "cell_type": "markdown",
      "metadata": {},
      "source": [
        ":::\n",
        "\n",
        "We can access the TensorBoard web server with the following URL:\n",
        "\n",
        "\n",
        "```{raw}\n",
        "http://localhost:6006/\n",
        "```\n",
        "\n",
        "\n",
        "The TensorBoard plot illustrates how `spotPython` can be used as a microscope for the internal mechanisms of the surrogate-based optimization process. Here, one important parameter, the learning rate $\\theta$ of the Kriging surrogate [[SOURCE]](https://github.com/sequential-parameter-optimization/spotPython/blob/main/src/spotPython/build/kriging.py) is plotted against the number of optimization steps.\n",
        "\n",
        "![TensorBoard visualization of the spotPython optimization process and the surrogate model.](figures_static/13_tensorboard_01.png){width=\"100%\"}\n",
        "\n",
        "## Step 9: Results {#sec-results-tuning-17}\n",
        "\n",
        "\n",
        "After the hyperparameter tuning run is finished, the results can be saved and reloaded with the following commands:\n"
      ],
      "id": "f6451103"
    },
    {
      "cell_type": "code",
      "metadata": {},
      "source": [
        "from spotPython.utils.file import save_pickle, load_pickle\n",
        "from spotPython.utils.init import get_experiment_name\n",
        "experiment_name = get_experiment_name(PREFIX)\n",
        "SAVE_AND_LOAD = False\n",
        "if SAVE_AND_LOAD == True:\n",
        "    save_pickle(spot_tuner, experiment_name)\n",
        "    spot_tuner = load_pickle(experiment_name)"
      ],
      "id": "73c9f357",
      "execution_count": null,
      "outputs": []
    },
    {
      "cell_type": "markdown",
      "metadata": {},
      "source": [
        "After the hyperparameter tuning run is finished, the progress of the hyperparameter tuning can be visualized. The black points represent the performace values (score or metric) of  hyperparameter configurations from the initial design, whereas the red points represents the  hyperparameter configurations found by the surrogate model based optimization.\n"
      ],
      "id": "c1866b92"
    },
    {
      "cell_type": "code",
      "metadata": {},
      "source": [
        "spot_tuner.plot_progress(log_y=True, filename=\"./figures/\" + experiment_name+\"_progress.pdf\")"
      ],
      "id": "0a7df08a",
      "execution_count": null,
      "outputs": []
    },
    {
      "cell_type": "markdown",
      "metadata": {},
      "source": [
        "Results can also be printed in tabular form.\n"
      ],
      "id": "2f43ae4e"
    },
    {
      "cell_type": "code",
      "metadata": {},
      "source": [
        "print(gen_design_table(fun_control=fun_control, spot=spot_tuner))"
      ],
      "id": "389414d0",
      "execution_count": null,
      "outputs": []
    },
    {
      "cell_type": "markdown",
      "metadata": {},
      "source": [
        "A histogram can be used to visualize the most important hyperparameters.\n"
      ],
      "id": "649708ac"
    },
    {
      "cell_type": "code",
      "metadata": {},
      "source": [
        "spot_tuner.plot_importance(threshold=0.0025, filename=\"./figures/\" + experiment_name+\"_importance.pdf\")"
      ],
      "id": "9f2c89fc",
      "execution_count": null,
      "outputs": []
    },
    {
      "cell_type": "markdown",
      "metadata": {},
      "source": [
        "## Get Default Hyperparameters\n",
        "\n",
        "The default hyperparameters, whihc will be used for a comparion with the tuned hyperparameters, can be obtained with the following commands:"
      ],
      "id": "173ef77d"
    },
    {
      "cell_type": "code",
      "metadata": {},
      "source": [
        "from spotPython.hyperparameters.values import get_one_core_model_from_X\n",
        "from spotPython.hyperparameters.values import get_default_hyperparameters_as_array\n",
        "X_start = get_default_hyperparameters_as_array(fun_control)\n",
        "model_default = get_one_core_model_from_X(X_start, fun_control, default=True)\n",
        "model_default"
      ],
      "id": "2fcef277",
      "execution_count": null,
      "outputs": []
    },
    {
      "cell_type": "markdown",
      "metadata": {},
      "source": [
        "## Get SPOT Results\n",
        "\n",
        "In a similar way, we can obtain the hyperparameters found by `spotPython`.\n"
      ],
      "id": "3c44a5d9"
    },
    {
      "cell_type": "code",
      "metadata": {},
      "source": [
        "from spotPython.hyperparameters.values import get_one_core_model_from_X\n",
        "X = spot_tuner.to_all_dim(spot_tuner.min_X.reshape(1,-1))\n",
        "model_spot = get_one_core_model_from_X(X, fun_control)"
      ],
      "id": "202892c5",
      "execution_count": null,
      "outputs": []
    },
    {
      "cell_type": "markdown",
      "metadata": {},
      "source": [
        "### Plot: Compare Predictions\n"
      ],
      "id": "f5157b51"
    },
    {
      "cell_type": "code",
      "metadata": {},
      "source": [
        "from spotPython.plot.validation import plot_roc\n",
        "plot_roc(model_list=[model_default, model_spot], fun_control= fun_control, model_names=[\"Default\", \"Spot\"])"
      ],
      "id": "00257e8c",
      "execution_count": null,
      "outputs": []
    },
    {
      "cell_type": "code",
      "metadata": {},
      "source": [
        "from spotPython.plot.validation import plot_confusion_matrix\n",
        "plot_confusion_matrix(model=model_default, fun_control=fun_control, title = \"Default\")"
      ],
      "id": "763deb08",
      "execution_count": null,
      "outputs": []
    },
    {
      "cell_type": "code",
      "metadata": {},
      "source": [
        "plot_confusion_matrix(model=model_spot, fun_control=fun_control, title=\"SPOT\")"
      ],
      "id": "a14c38cd",
      "execution_count": null,
      "outputs": []
    },
    {
      "cell_type": "code",
      "metadata": {},
      "source": [
        "min(spot_tuner.y), max(spot_tuner.y)"
      ],
      "id": "54aa17f2",
      "execution_count": null,
      "outputs": []
    },
    {
      "cell_type": "markdown",
      "metadata": {},
      "source": [
        "### Detailed Hyperparameter Plots\n"
      ],
      "id": "8133107c"
    },
    {
      "cell_type": "code",
      "metadata": {},
      "source": [
        "spot_tuner.plot_important_hyperparameter_contour(filename=None)"
      ],
      "id": "930388ef",
      "execution_count": null,
      "outputs": []
    },
    {
      "cell_type": "markdown",
      "metadata": {},
      "source": [
        "### Parallel Coordinates Plot\n"
      ],
      "id": "93c52f72"
    },
    {
      "cell_type": "code",
      "metadata": {},
      "source": [
        "spot_tuner.parallel_plot()"
      ],
      "id": "eac22992",
      "execution_count": null,
      "outputs": []
    },
    {
      "cell_type": "markdown",
      "metadata": {},
      "source": [
        "### Plot all Combinations of Hyperparameters\n",
        "\n",
        "* Warning: this may take a while.\n"
      ],
      "id": "af08c5c0"
    },
    {
      "cell_type": "code",
      "metadata": {},
      "source": [
        "PLOT_ALL = False\n",
        "if PLOT_ALL:\n",
        "    n = spot_tuner.k\n",
        "    for i in range(n-1):\n",
        "        for j in range(i+1, n):\n",
        "            spot_tuner.plot_contour(i=i, j=j, min_z=min_z, max_z = max_z)"
      ],
      "id": "3d6fb1f8",
      "execution_count": null,
      "outputs": []
    }
  ],
  "metadata": {
    "kernelspec": {
      "name": "python3",
      "language": "python",
      "display_name": "Python 3 (ipykernel)",
      "path": "/Users/bartz/miniforge3/envs/spotCondaEnv/share/jupyter/kernels/python3"
    }
  },
  "nbformat": 4,
  "nbformat_minor": 5
}