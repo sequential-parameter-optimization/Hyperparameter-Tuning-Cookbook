{
  "cells": [
    {
      "cell_type": "raw",
      "metadata": {},
      "source": [
        "---\n",
        "execute:\n",
        "  cache: false\n",
        "  eval: true\n",
        "  echo: true\n",
        "  warning: false\n",
        "---"
      ],
      "id": "79b6085a"
    },
    {
      "cell_type": "markdown",
      "metadata": {},
      "source": [
        "# Explainable AI with SpotPython and Pytorch {#sec-xai}\n"
      ],
      "id": "20d608d5"
    },
    {
      "cell_type": "code",
      "metadata": {},
      "source": [
        "from torch.utils.data import DataLoader\n",
        "from spotPython.utils.init import fun_control_init\n",
        "from spotPython.hyperparameters.values import set_control_key_value\n",
        "from spotPython.data.diabetes import Diabetes\n",
        "from spotPython.light.regression.netlightregression import NetLightRegression\n",
        "from spotPython.hyperdict.light_hyper_dict import LightHyperDict\n",
        "from spotPython.hyperparameters.values import add_core_model_to_fun_control\n",
        "from spotPython.hyperparameters.values import (\n",
        "        get_default_hyperparameters_as_array, get_one_config_from_X)\n",
        "from spotPython.hyperparameters.values import set_control_key_value\n",
        "from spotPython.plot.xai import (get_activations, get_gradients, get_weights, plot_nn_values_hist, plot_nn_values_scatter, visualize_weights, visualize_gradients, visualize_activations, visualize_gradient_distributions, visualize_weights_distributions)\n",
        "fun_control = fun_control_init(\n",
        "    _L_in=10, # 10: diabetes\n",
        "    _L_out=1,\n",
        "    )\n",
        "dataset = Diabetes()\n",
        "set_control_key_value(control_dict=fun_control,\n",
        "                        key=\"data_set\",\n",
        "                        value=dataset,\n",
        "                        replace=True)\n",
        "add_core_model_to_fun_control(fun_control=fun_control,\n",
        "                              core_model=NetLightRegression,\n",
        "                              hyper_dict=LightHyperDict)\n",
        "X = get_default_hyperparameters_as_array(fun_control)\n",
        "config = get_one_config_from_X(X, fun_control)\n",
        "_L_in = fun_control[\"_L_in\"]\n",
        "_L_out = fun_control[\"_L_out\"]\n",
        "model = fun_control[\"core_model\"](**config, _L_in=_L_in, _L_out=_L_out)\n",
        "batch_size= config[\"batch_size\"]\n",
        "dataloader = DataLoader(dataset, batch_size=batch_size, shuffle=False)"
      ],
      "id": "6de5eedd",
      "execution_count": null,
      "outputs": []
    },
    {
      "cell_type": "code",
      "metadata": {},
      "source": [
        "get_activations(model, fun_control=fun_control, batch_size=batch_size, device = \"cpu\")"
      ],
      "id": "fc38e709",
      "execution_count": null,
      "outputs": []
    },
    {
      "cell_type": "code",
      "metadata": {},
      "source": [
        "get_gradients(model, fun_control=fun_control, batch_size=batch_size, device = \"cpu\")"
      ],
      "id": "4a21cb6b",
      "execution_count": null,
      "outputs": []
    },
    {
      "cell_type": "code",
      "metadata": {},
      "source": [
        "get_weights(model)"
      ],
      "id": "4ef3bd4d",
      "execution_count": null,
      "outputs": []
    },
    {
      "cell_type": "code",
      "metadata": {},
      "source": [
        "visualize_activations(model, fun_control=fun_control, batch_size=batch_size, device = \"cpu\", cmap=\"BlueWhiteRed\", absolute=False)"
      ],
      "id": "81361a93",
      "execution_count": null,
      "outputs": []
    },
    {
      "cell_type": "code",
      "metadata": {},
      "source": [
        "visualize_weights_distributions(model, color=f\"C{0}\")"
      ],
      "id": "0d336b7c",
      "execution_count": null,
      "outputs": []
    },
    {
      "cell_type": "code",
      "metadata": {},
      "source": [
        "visualize_gradient_distributions(model, fun_control, batch_size=batch_size, color=f\"C{0}\")"
      ],
      "id": "56e12e7a",
      "execution_count": null,
      "outputs": []
    },
    {
      "cell_type": "code",
      "metadata": {},
      "source": [
        "visualize_weights(model, absolute=True, cmap=\"gray\", figsize=(6, 6))"
      ],
      "id": "683c6b77",
      "execution_count": null,
      "outputs": []
    },
    {
      "cell_type": "code",
      "metadata": {},
      "source": [
        "visualize_gradients(model, fun_control, batch_size, absolute=True, cmap=\"BlueWhiteRed\", figsize=(6, 6))"
      ],
      "id": "013d0707",
      "execution_count": null,
      "outputs": []
    },
    {
      "cell_type": "code",
      "metadata": {},
      "source": [
        "visualize_activations(model, fun_control=fun_control, batch_size=batch_size, device = \"cpu\")"
      ],
      "id": "713af42f",
      "execution_count": null,
      "outputs": []
    },
    {
      "cell_type": "code",
      "metadata": {},
      "source": [
        "visualize_activations(model, fun_control=fun_control, batch_size=batch_size, device = \"cpu\")"
      ],
      "id": "709544fc",
      "execution_count": null,
      "outputs": []
    }
  ],
  "metadata": {
    "kernelspec": {
      "name": "python3",
      "language": "python",
      "display_name": "Python 3 (ipykernel)"
    }
  },
  "nbformat": 4,
  "nbformat_minor": 5
}