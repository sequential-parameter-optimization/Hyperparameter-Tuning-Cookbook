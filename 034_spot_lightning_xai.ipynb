{
  "cells": [
    {
      "cell_type": "raw",
      "metadata": {},
      "source": [
        "---\n",
        "execute:\n",
        "  cache: false\n",
        "  eval: true\n",
        "  echo: true\n",
        "  warning: false\n",
        "---"
      ],
      "id": "8951af37"
    },
    {
      "cell_type": "markdown",
      "metadata": {},
      "source": [
        "# Explainable AI with SpotPython and Pytorch {#sec-xai}\n"
      ],
      "id": "b2f1a501"
    },
    {
      "cell_type": "code",
      "metadata": {},
      "source": [
        "from torch.utils.data import DataLoader\n",
        "from spotPython.utils.init import fun_control_init\n",
        "from spotPython.hyperparameters.values import set_control_key_value\n",
        "from spotPython.data.diabetes import Diabetes\n",
        "from spotPython.light.regression.netlightregression import NetLightRegression\n",
        "from spotPython.hyperdict.light_hyper_dict import LightHyperDict\n",
        "from spotPython.hyperparameters.values import add_core_model_to_fun_control\n",
        "from spotPython.hyperparameters.values import (\n",
        "        get_default_hyperparameters_as_array, get_one_config_from_X)\n",
        "from spotPython.hyperparameters.values import set_control_key_value\n",
        "from spotPython.plot.xai import (get_activations, get_gradients, get_weights, plot_nn_values_hist, plot_nn_values_scatter, visualize_weights, visualize_gradients, visualize_activations, visualize_gradient_distributions, visualize_weights_distributions)\n",
        "fun_control = fun_control_init(\n",
        "    _L_in=10, # 10: diabetes\n",
        "    _L_out=1,\n",
        "    _torchmetric=\"mean_squared_error\",\n",
        "    )\n",
        "dataset = Diabetes()\n",
        "set_control_key_value(control_dict=fun_control,\n",
        "                        key=\"data_set\",\n",
        "                        value=dataset,\n",
        "                        replace=True)\n",
        "add_core_model_to_fun_control(fun_control=fun_control,\n",
        "                              core_model=NetLightRegression,\n",
        "                              hyper_dict=LightHyperDict)\n",
        "X = get_default_hyperparameters_as_array(fun_control)\n",
        "config = get_one_config_from_X(X, fun_control)\n",
        "_L_in = fun_control[\"_L_in\"]\n",
        "_L_out = fun_control[\"_L_out\"]\n",
        "_torchmetric = fun_control[\"_torchmetric\"]\n",
        "model = fun_control[\"core_model\"](**config, _L_in=_L_in, _L_out=_L_out, _torchmetric=_torchmetric)\n",
        "batch_size= config[\"batch_size\"]\n",
        "dataloader = DataLoader(dataset, batch_size=batch_size, shuffle=False)"
      ],
      "id": "c21feab9",
      "execution_count": null,
      "outputs": []
    },
    {
      "cell_type": "code",
      "metadata": {},
      "source": [
        "get_activations(model, fun_control=fun_control, batch_size=batch_size, device = \"cpu\")"
      ],
      "id": "0ddef315",
      "execution_count": null,
      "outputs": []
    },
    {
      "cell_type": "code",
      "metadata": {},
      "source": [
        "get_gradients(model, fun_control=fun_control, batch_size=batch_size, device = \"cpu\")"
      ],
      "id": "619bacc4",
      "execution_count": null,
      "outputs": []
    },
    {
      "cell_type": "code",
      "metadata": {},
      "source": [
        "get_weights(model)"
      ],
      "id": "7295c93d",
      "execution_count": null,
      "outputs": []
    },
    {
      "cell_type": "code",
      "metadata": {},
      "source": [
        "visualize_activations(model, fun_control=fun_control, batch_size=batch_size, device = \"cpu\", cmap=\"BlueWhiteRed\", absolute=False)"
      ],
      "id": "b8277f9b",
      "execution_count": null,
      "outputs": []
    },
    {
      "cell_type": "code",
      "metadata": {},
      "source": [
        "visualize_weights_distributions(model, color=f\"C{0}\")"
      ],
      "id": "5663cbb8",
      "execution_count": null,
      "outputs": []
    },
    {
      "cell_type": "code",
      "metadata": {},
      "source": [
        "visualize_gradient_distributions(model, fun_control, batch_size=batch_size, color=f\"C{0}\")"
      ],
      "id": "efa8a417",
      "execution_count": null,
      "outputs": []
    },
    {
      "cell_type": "code",
      "metadata": {},
      "source": [
        "visualize_weights(model, absolute=True, cmap=\"gray\", figsize=(6, 6))"
      ],
      "id": "ac54f933",
      "execution_count": null,
      "outputs": []
    },
    {
      "cell_type": "code",
      "metadata": {},
      "source": [
        "visualize_gradients(model, fun_control, batch_size, absolute=True, cmap=\"BlueWhiteRed\", figsize=(6, 6))"
      ],
      "id": "51765178",
      "execution_count": null,
      "outputs": []
    },
    {
      "cell_type": "code",
      "metadata": {},
      "source": [
        "visualize_activations(model, fun_control=fun_control, batch_size=batch_size, device = \"cpu\")"
      ],
      "id": "85eceb77",
      "execution_count": null,
      "outputs": []
    },
    {
      "cell_type": "code",
      "metadata": {},
      "source": [
        "visualize_activations(model, fun_control=fun_control, batch_size=batch_size, device = \"cpu\")"
      ],
      "id": "29dd13b5",
      "execution_count": null,
      "outputs": []
    }
  ],
  "metadata": {
    "kernelspec": {
      "name": "python3",
      "language": "python",
      "display_name": "Python 3 (ipykernel)"
    }
  },
  "nbformat": 4,
  "nbformat_minor": 5
}